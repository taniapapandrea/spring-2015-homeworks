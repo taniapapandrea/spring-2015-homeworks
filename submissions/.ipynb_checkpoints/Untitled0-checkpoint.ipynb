{
 "metadata": {
  "name": "",
  "signature": "sha256:1a85b672e668cb61f647b476472c0bc792fd207cec9f90c19bab48af726fda2d"
 },
 "nbformat": 3,
 "nbformat_minor": 0,
 "worksheets": []
}