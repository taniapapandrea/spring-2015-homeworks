{
 "metadata": {
  "name": "",
  "signature": "sha256:cc62db70b99c8720bbb1294f2f989ad2b5cfe70d4df684969c4add7319621389"
 },
 "nbformat": 3,
 "nbformat_minor": 0,
 "worksheets": [
  {
   "cells": [
    {
     "cell_type": "code",
     "collapsed": false,
     "input": [
      "import time\n",
      "import numpy as np\n",
      "import matplotlib.pyplot as plt\n",
      "import pandas as pd\n",
      "\n",
      "import scipy as sp\n",
      "import scipy.sparse.linalg as linalg\n",
      "import scipy.cluster.hierarchy as hr\n",
      "from scipy.spatial.distance import pdist, squareform\n",
      "import sklearn.datasets as datasets\n",
      "import sklearn.metrics as metrics\n",
      "import sklearn.utils as utils\n",
      "import sklearn.linear_model as linear_model\n",
      "import sklearn.cross_validation as cross_validation\n",
      "import sklearn.cluster as cluster\n",
      "from sklearn.neighbors import KNeighborsClassifier\n",
      "from sklearn.decomposition import TruncatedSVD\n",
      "from sklearn.preprocessing import StandardScaler\n",
      "import statsmodels.api as sm\n",
      "from patsy import dmatrices\n",
      "\n",
      "import seaborn as sns\n",
      "\n",
      "import scrape_etsy as scrape"
     ],
     "language": "python",
     "metadata": {},
     "outputs": [],
     "prompt_number": 42
    },
    {
     "cell_type": "code",
     "collapsed": false,
     "input": [
      "results = scrape.hats(240)"
     ],
     "language": "python",
     "metadata": {},
     "outputs": [
      {
       "output_type": "stream",
       "stream": "stdout",
       "text": [
        "('shops so far ', 45)\n",
        "('page ', 1)\n",
        "('shops so far ', 64)"
       ]
      },
      {
       "output_type": "stream",
       "stream": "stdout",
       "text": [
        "\n",
        "('page ', 2)\n",
        "('shops so far ', 79)"
       ]
      },
      {
       "output_type": "stream",
       "stream": "stdout",
       "text": [
        "\n",
        "('page ', 3)\n",
        "('shops so far ', 92)"
       ]
      },
      {
       "output_type": "stream",
       "stream": "stdout",
       "text": [
        "\n",
        "('page ', 4)\n",
        "('shops so far ', 107)"
       ]
      },
      {
       "output_type": "stream",
       "stream": "stdout",
       "text": [
        "\n",
        "('page ', 5)\n",
        "('shops so far ', 121)"
       ]
      },
      {
       "output_type": "stream",
       "stream": "stdout",
       "text": [
        "\n",
        "('page ', 6)\n",
        "('shops so far ', 136)"
       ]
      },
      {
       "output_type": "stream",
       "stream": "stdout",
       "text": [
        "\n",
        "('page ', 7)\n",
        "('shops so far ', 148)"
       ]
      },
      {
       "output_type": "stream",
       "stream": "stdout",
       "text": [
        "\n",
        "('page ', 8)\n",
        "('shops so far ', 160)"
       ]
      },
      {
       "output_type": "stream",
       "stream": "stdout",
       "text": [
        "\n",
        "('page ', 9)\n",
        "('shops so far ', 176)"
       ]
      },
      {
       "output_type": "stream",
       "stream": "stdout",
       "text": [
        "\n",
        "('page ', 10)\n",
        "('shops so far ', 188)"
       ]
      },
      {
       "output_type": "stream",
       "stream": "stdout",
       "text": [
        "\n",
        "('page ', 11)\n",
        "('shops so far ', 197)"
       ]
      },
      {
       "output_type": "stream",
       "stream": "stdout",
       "text": [
        "\n",
        "('page ', 12)\n",
        "('shops so far ', 205)"
       ]
      },
      {
       "output_type": "stream",
       "stream": "stdout",
       "text": [
        "\n",
        "('page ', 13)\n",
        "('shops so far ', 211)"
       ]
      },
      {
       "output_type": "stream",
       "stream": "stdout",
       "text": [
        "\n",
        "('page ', 14)\n",
        "('shops so far ', 220)"
       ]
      },
      {
       "output_type": "stream",
       "stream": "stdout",
       "text": [
        "\n",
        "('page ', 15)\n",
        "('shops so far ', 228)"
       ]
      },
      {
       "output_type": "stream",
       "stream": "stdout",
       "text": [
        "\n",
        "('page ', 16)\n",
        "('shops so far ', 238)"
       ]
      },
      {
       "output_type": "stream",
       "stream": "stdout",
       "text": [
        "\n",
        "('page ', 17)\n",
        "('shops so far ', 245)"
       ]
      },
      {
       "output_type": "stream",
       "stream": "stdout",
       "text": [
        "\n",
        "('page ', 18)\n",
        "('shops so far ', 248)"
       ]
      },
      {
       "output_type": "stream",
       "stream": "stdout",
       "text": [
        "\n",
        "('page ', 19)\n",
        "('shops so far ', 249)"
       ]
      },
      {
       "output_type": "stream",
       "stream": "stdout",
       "text": [
        "\n",
        "('page ', 20)\n",
        "('shops so far ', 250)"
       ]
      },
      {
       "output_type": "stream",
       "stream": "stdout",
       "text": [
        "\n",
        "('page ', 21)\n",
        "('shops so far ', 251)"
       ]
      },
      {
       "output_type": "stream",
       "stream": "stdout",
       "text": [
        "\n",
        "('page ', 22)\n",
        "('shops so far ', 252)"
       ]
      },
      {
       "output_type": "stream",
       "stream": "stdout",
       "text": [
        "\n",
        "('page ', 23)\n",
        "('shops so far ', 253)"
       ]
      },
      {
       "output_type": "stream",
       "stream": "stdout",
       "text": [
        "\n",
        "('page ', 24)\n",
        "('shops so far ', 256)"
       ]
      },
      {
       "output_type": "stream",
       "stream": "stdout",
       "text": [
        "\n",
        "('page ', 25)\n",
        "('shops so far ', 265)"
       ]
      },
      {
       "output_type": "stream",
       "stream": "stdout",
       "text": [
        "\n",
        "('page ', 26)\n",
        "('shops so far ', 274)"
       ]
      },
      {
       "output_type": "stream",
       "stream": "stdout",
       "text": [
        "\n",
        "('page ', 27)\n",
        "('shops so far ', 281)"
       ]
      },
      {
       "output_type": "stream",
       "stream": "stdout",
       "text": [
        "\n",
        "('page ', 28)\n",
        "('shops so far ', 288)"
       ]
      },
      {
       "output_type": "stream",
       "stream": "stdout",
       "text": [
        "\n",
        "('page ', 29)\n",
        "('shops so far ', 296)"
       ]
      },
      {
       "output_type": "stream",
       "stream": "stdout",
       "text": [
        "\n",
        "('page ', 30)\n",
        "('shops so far ', 306)"
       ]
      },
      {
       "output_type": "stream",
       "stream": "stdout",
       "text": [
        "\n",
        "('page ', 31)\n",
        "('shops so far ', 313)"
       ]
      },
      {
       "output_type": "stream",
       "stream": "stdout",
       "text": [
        "\n",
        "('page ', 32)\n",
        "('shops so far ', 319)"
       ]
      },
      {
       "output_type": "stream",
       "stream": "stdout",
       "text": [
        "\n",
        "('page ', 33)\n",
        "('shops so far ', 329)"
       ]
      },
      {
       "output_type": "stream",
       "stream": "stdout",
       "text": [
        "\n",
        "('page ', 34)\n",
        "('shops so far ', 339)"
       ]
      },
      {
       "output_type": "stream",
       "stream": "stdout",
       "text": [
        "\n",
        "('page ', 35)\n",
        "('shops so far ', 348)"
       ]
      },
      {
       "output_type": "stream",
       "stream": "stdout",
       "text": [
        "\n",
        "('page ', 36)\n",
        "('shops so far ', 361)"
       ]
      },
      {
       "output_type": "stream",
       "stream": "stdout",
       "text": [
        "\n",
        "('page ', 37)\n",
        "('shops so far ', 369)"
       ]
      },
      {
       "output_type": "stream",
       "stream": "stdout",
       "text": [
        "\n",
        "('page ', 38)\n",
        "('shops so far ', 373)"
       ]
      },
      {
       "output_type": "stream",
       "stream": "stdout",
       "text": [
        "\n",
        "('page ', 39)\n",
        "('shops so far ', 380)"
       ]
      },
      {
       "output_type": "stream",
       "stream": "stdout",
       "text": [
        "\n",
        "('page ', 40)\n",
        "('shops so far ', 387)"
       ]
      },
      {
       "output_type": "stream",
       "stream": "stdout",
       "text": [
        "\n",
        "('page ', 41)\n",
        "('shops so far ', 395)"
       ]
      },
      {
       "output_type": "stream",
       "stream": "stdout",
       "text": [
        "\n",
        "('page ', 42)\n",
        "('shops so far ', 402)"
       ]
      },
      {
       "output_type": "stream",
       "stream": "stdout",
       "text": [
        "\n",
        "('page ', 43)\n",
        "('shops so far ', 413)"
       ]
      },
      {
       "output_type": "stream",
       "stream": "stdout",
       "text": [
        "\n",
        "('page ', 44)\n",
        "('shops so far ', 420)"
       ]
      },
      {
       "output_type": "stream",
       "stream": "stdout",
       "text": [
        "\n",
        "('page ', 45)\n",
        "('shops so far ', 427)"
       ]
      },
      {
       "output_type": "stream",
       "stream": "stdout",
       "text": [
        "\n",
        "('page ', 46)\n",
        "('shops so far ', 432)"
       ]
      },
      {
       "output_type": "stream",
       "stream": "stdout",
       "text": [
        "\n",
        "('page ', 47)\n",
        "('shops so far ', 436)"
       ]
      },
      {
       "output_type": "stream",
       "stream": "stdout",
       "text": [
        "\n",
        "('page ', 48)\n",
        "('shops so far ', 442)"
       ]
      },
      {
       "output_type": "stream",
       "stream": "stdout",
       "text": [
        "\n",
        "('page ', 49)\n",
        "('shops so far ', 451)"
       ]
      },
      {
       "output_type": "stream",
       "stream": "stdout",
       "text": [
        "\n",
        "('page ', 50)\n",
        "('shops so far ', 456)"
       ]
      },
      {
       "output_type": "stream",
       "stream": "stdout",
       "text": [
        "\n",
        "('page ', 51)\n",
        "('shops so far ', 462)"
       ]
      },
      {
       "output_type": "stream",
       "stream": "stdout",
       "text": [
        "\n",
        "('page ', 52)\n",
        "('shops so far ', 468)"
       ]
      },
      {
       "output_type": "stream",
       "stream": "stdout",
       "text": [
        "\n",
        "('page ', 53)\n",
        "('shops so far ', 472)"
       ]
      },
      {
       "output_type": "stream",
       "stream": "stdout",
       "text": [
        "\n",
        "('page ', 54)\n",
        "('shops so far ', 475)"
       ]
      },
      {
       "output_type": "stream",
       "stream": "stdout",
       "text": [
        "\n",
        "('page ', 55)\n",
        "('shops so far ', 482)"
       ]
      },
      {
       "output_type": "stream",
       "stream": "stdout",
       "text": [
        "\n",
        "('page ', 56)\n",
        "('shops so far ', 494)"
       ]
      },
      {
       "output_type": "stream",
       "stream": "stdout",
       "text": [
        "\n",
        "('page ', 57)\n",
        "('shops so far ', 498)"
       ]
      },
      {
       "output_type": "stream",
       "stream": "stdout",
       "text": [
        "\n",
        "('page ', 58)\n",
        "('shops so far ', 502)"
       ]
      },
      {
       "output_type": "stream",
       "stream": "stdout",
       "text": [
        "\n",
        "('page ', 59)\n",
        "('shops so far ', 509)"
       ]
      },
      {
       "output_type": "stream",
       "stream": "stdout",
       "text": [
        "\n",
        "('page ', 60)\n",
        "('shops so far ', 516)"
       ]
      },
      {
       "output_type": "stream",
       "stream": "stdout",
       "text": [
        "\n",
        "('page ', 61)\n",
        "('shops so far ', 523)"
       ]
      },
      {
       "output_type": "stream",
       "stream": "stdout",
       "text": [
        "\n",
        "('page ', 62)\n",
        "('shops so far ', 531)"
       ]
      },
      {
       "output_type": "stream",
       "stream": "stdout",
       "text": [
        "\n",
        "('page ', 63)\n",
        "('shops so far ', 538)"
       ]
      },
      {
       "output_type": "stream",
       "stream": "stdout",
       "text": [
        "\n",
        "('page ', 64)\n",
        "('shops so far ', 544)"
       ]
      },
      {
       "output_type": "stream",
       "stream": "stdout",
       "text": [
        "\n",
        "('page ', 65)\n",
        "('shops so far ', 552)"
       ]
      },
      {
       "output_type": "stream",
       "stream": "stdout",
       "text": [
        "\n",
        "('page ', 66)\n",
        "('shops so far ', 560)"
       ]
      },
      {
       "output_type": "stream",
       "stream": "stdout",
       "text": [
        "\n",
        "('page ', 67)\n",
        "('shops so far ', 571)"
       ]
      },
      {
       "output_type": "stream",
       "stream": "stdout",
       "text": [
        "\n",
        "('page ', 68)\n",
        "('shops so far ', 576)"
       ]
      },
      {
       "output_type": "stream",
       "stream": "stdout",
       "text": [
        "\n",
        "('page ', 69)\n",
        "('shops so far ', 582)"
       ]
      },
      {
       "output_type": "stream",
       "stream": "stdout",
       "text": [
        "\n",
        "('page ', 70)\n",
        "('shops so far ', 587)"
       ]
      },
      {
       "output_type": "stream",
       "stream": "stdout",
       "text": [
        "\n",
        "('page ', 71)\n",
        "('shops so far ', 591)"
       ]
      },
      {
       "output_type": "stream",
       "stream": "stdout",
       "text": [
        "\n",
        "('page ', 72)\n",
        "('shops so far ', 598)"
       ]
      },
      {
       "output_type": "stream",
       "stream": "stdout",
       "text": [
        "\n",
        "('page ', 73)\n",
        "('shops so far ', 605)"
       ]
      },
      {
       "output_type": "stream",
       "stream": "stdout",
       "text": [
        "\n",
        "('page ', 74)\n",
        "('shops so far ', 612)"
       ]
      },
      {
       "output_type": "stream",
       "stream": "stdout",
       "text": [
        "\n",
        "('page ', 75)\n",
        "('shops so far ', 615)"
       ]
      },
      {
       "output_type": "stream",
       "stream": "stdout",
       "text": [
        "\n",
        "('page ', 76)\n",
        "('shops so far ', 620)"
       ]
      },
      {
       "output_type": "stream",
       "stream": "stdout",
       "text": [
        "\n",
        "('page ', 77)\n",
        "('shops so far ', 624)"
       ]
      },
      {
       "output_type": "stream",
       "stream": "stdout",
       "text": [
        "\n",
        "('page ', 78)\n",
        "('shops so far ', 633)"
       ]
      },
      {
       "output_type": "stream",
       "stream": "stdout",
       "text": [
        "\n",
        "('page ', 79)\n",
        "('shops so far ', 638)"
       ]
      },
      {
       "output_type": "stream",
       "stream": "stdout",
       "text": [
        "\n",
        "('page ', 80)\n",
        "('shops so far ', 642)"
       ]
      },
      {
       "output_type": "stream",
       "stream": "stdout",
       "text": [
        "\n",
        "('page ', 81)\n",
        "('shops so far ', 646)"
       ]
      },
      {
       "output_type": "stream",
       "stream": "stdout",
       "text": [
        "\n",
        "('page ', 82)\n",
        "('shops so far ', 654)"
       ]
      },
      {
       "output_type": "stream",
       "stream": "stdout",
       "text": [
        "\n",
        "('page ', 83)\n",
        "('shops so far ', 662)"
       ]
      },
      {
       "output_type": "stream",
       "stream": "stdout",
       "text": [
        "\n",
        "('page ', 84)\n",
        "('shops so far ', 671)"
       ]
      },
      {
       "output_type": "stream",
       "stream": "stdout",
       "text": [
        "\n",
        "('page ', 85)\n",
        "('shops so far ', 672)"
       ]
      },
      {
       "output_type": "stream",
       "stream": "stdout",
       "text": [
        "\n",
        "('page ', 86)\n",
        "('shops so far ', 680)"
       ]
      },
      {
       "output_type": "stream",
       "stream": "stdout",
       "text": [
        "\n",
        "('page ', 87)\n",
        "('shops so far ', 686)"
       ]
      },
      {
       "output_type": "stream",
       "stream": "stdout",
       "text": [
        "\n",
        "('page ', 88)\n",
        "('shops so far ', 693)"
       ]
      },
      {
       "output_type": "stream",
       "stream": "stdout",
       "text": [
        "\n",
        "('page ', 89)\n",
        "('shops so far ', 698)"
       ]
      },
      {
       "output_type": "stream",
       "stream": "stdout",
       "text": [
        "\n",
        "('page ', 90)\n",
        "('shops so far ', 704)"
       ]
      },
      {
       "output_type": "stream",
       "stream": "stdout",
       "text": [
        "\n",
        "('page ', 91)\n",
        "('shops so far ', 714)"
       ]
      },
      {
       "output_type": "stream",
       "stream": "stdout",
       "text": [
        "\n",
        "('page ', 92)\n",
        "('shops so far ', 723)"
       ]
      },
      {
       "output_type": "stream",
       "stream": "stdout",
       "text": [
        "\n",
        "('page ', 93)\n",
        "('shops so far ', 729)"
       ]
      },
      {
       "output_type": "stream",
       "stream": "stdout",
       "text": [
        "\n",
        "('page ', 94)\n",
        "('shops so far ', 735)"
       ]
      },
      {
       "output_type": "stream",
       "stream": "stdout",
       "text": [
        "\n",
        "('page ', 95)\n",
        "('shops so far ', 736)"
       ]
      },
      {
       "output_type": "stream",
       "stream": "stdout",
       "text": [
        "\n",
        "('page ', 96)\n",
        "('shops so far ', 742)"
       ]
      },
      {
       "output_type": "stream",
       "stream": "stdout",
       "text": [
        "\n",
        "('page ', 97)\n",
        "('shops so far ', 746)"
       ]
      },
      {
       "output_type": "stream",
       "stream": "stdout",
       "text": [
        "\n",
        "('page ', 98)\n",
        "('shops so far ', 753)"
       ]
      },
      {
       "output_type": "stream",
       "stream": "stdout",
       "text": [
        "\n",
        "('page ', 99)\n",
        "('shops so far ', 757)"
       ]
      },
      {
       "output_type": "stream",
       "stream": "stdout",
       "text": [
        "\n",
        "('page ', 100)\n",
        "('shops so far ', 762)"
       ]
      },
      {
       "output_type": "stream",
       "stream": "stdout",
       "text": [
        "\n",
        "('page ', 101)\n",
        "('shops so far ', 767)"
       ]
      },
      {
       "output_type": "stream",
       "stream": "stdout",
       "text": [
        "\n",
        "('page ', 102)\n",
        "('shops so far ', 772)"
       ]
      },
      {
       "output_type": "stream",
       "stream": "stdout",
       "text": [
        "\n",
        "('page ', 103)\n",
        "('shops so far ', 779)"
       ]
      },
      {
       "output_type": "stream",
       "stream": "stdout",
       "text": [
        "\n",
        "('page ', 104)\n",
        "('shops so far ', 785)"
       ]
      },
      {
       "output_type": "stream",
       "stream": "stdout",
       "text": [
        "\n",
        "('page ', 105)\n",
        "('shops so far ', 789)"
       ]
      },
      {
       "output_type": "stream",
       "stream": "stdout",
       "text": [
        "\n",
        "('page ', 106)\n",
        "('shops so far ', 792)"
       ]
      },
      {
       "output_type": "stream",
       "stream": "stdout",
       "text": [
        "\n",
        "('page ', 107)\n",
        "('shops so far ', 796)"
       ]
      },
      {
       "output_type": "stream",
       "stream": "stdout",
       "text": [
        "\n",
        "('page ', 108)\n",
        "('shops so far ', 804)"
       ]
      },
      {
       "output_type": "stream",
       "stream": "stdout",
       "text": [
        "\n",
        "('page ', 109)\n",
        "('shops so far ', 811)"
       ]
      },
      {
       "output_type": "stream",
       "stream": "stdout",
       "text": [
        "\n",
        "('page ', 110)\n",
        "('shops so far ', 813)"
       ]
      },
      {
       "output_type": "stream",
       "stream": "stdout",
       "text": [
        "\n",
        "('page ', 111)\n",
        "('shops so far ', 818)"
       ]
      },
      {
       "output_type": "stream",
       "stream": "stdout",
       "text": [
        "\n",
        "('page ', 112)\n",
        "('shops so far ', 829)"
       ]
      },
      {
       "output_type": "stream",
       "stream": "stdout",
       "text": [
        "\n",
        "('page ', 113)\n",
        "('shops so far ', 833)"
       ]
      },
      {
       "output_type": "stream",
       "stream": "stdout",
       "text": [
        "\n",
        "('page ', 114)\n",
        "('shops so far ', 837)"
       ]
      },
      {
       "output_type": "stream",
       "stream": "stdout",
       "text": [
        "\n",
        "('page ', 115)\n",
        "('shops so far ', 847)"
       ]
      },
      {
       "output_type": "stream",
       "stream": "stdout",
       "text": [
        "\n",
        "('page ', 116)\n",
        "('shops so far ', 855)"
       ]
      },
      {
       "output_type": "stream",
       "stream": "stdout",
       "text": [
        "\n",
        "('page ', 117)\n",
        "('shops so far ', 863)"
       ]
      },
      {
       "output_type": "stream",
       "stream": "stdout",
       "text": [
        "\n",
        "('page ', 118)\n",
        "('shops so far ', 873)"
       ]
      },
      {
       "output_type": "stream",
       "stream": "stdout",
       "text": [
        "\n",
        "('page ', 119)\n",
        "('shops so far ', 879)"
       ]
      },
      {
       "output_type": "stream",
       "stream": "stdout",
       "text": [
        "\n",
        "('page ', 120)\n",
        "('shops so far ', 882)"
       ]
      },
      {
       "output_type": "stream",
       "stream": "stdout",
       "text": [
        "\n",
        "('page ', 121)\n",
        "('shops so far ', 883)"
       ]
      },
      {
       "output_type": "stream",
       "stream": "stdout",
       "text": [
        "\n",
        "('page ', 122)\n",
        "('shops so far ', 886)"
       ]
      },
      {
       "output_type": "stream",
       "stream": "stdout",
       "text": [
        "\n",
        "('page ', 123)\n",
        "('shops so far ', 891)"
       ]
      },
      {
       "output_type": "stream",
       "stream": "stdout",
       "text": [
        "\n",
        "('page ', 124)\n",
        "('shops so far ', 900)"
       ]
      },
      {
       "output_type": "stream",
       "stream": "stdout",
       "text": [
        "\n",
        "('page ', 125)\n",
        "('shops so far ', 907)"
       ]
      },
      {
       "output_type": "stream",
       "stream": "stdout",
       "text": [
        "\n",
        "('page ', 126)\n",
        "('shops so far ', 908)"
       ]
      },
      {
       "output_type": "stream",
       "stream": "stdout",
       "text": [
        "\n",
        "('page ', 127)\n",
        "('shops so far ', 912)"
       ]
      },
      {
       "output_type": "stream",
       "stream": "stdout",
       "text": [
        "\n",
        "('page ', 128)\n",
        "('shops so far ', 919)"
       ]
      },
      {
       "output_type": "stream",
       "stream": "stdout",
       "text": [
        "\n",
        "('page ', 129)\n",
        "('shops so far ', 923)"
       ]
      },
      {
       "output_type": "stream",
       "stream": "stdout",
       "text": [
        "\n",
        "('page ', 130)\n",
        "('shops so far ', 931)"
       ]
      },
      {
       "output_type": "stream",
       "stream": "stdout",
       "text": [
        "\n",
        "('page ', 131)\n",
        "('shops so far ', 935)"
       ]
      },
      {
       "output_type": "stream",
       "stream": "stdout",
       "text": [
        "\n",
        "('page ', 132)\n",
        "('shops so far ', 938)"
       ]
      },
      {
       "output_type": "stream",
       "stream": "stdout",
       "text": [
        "\n",
        "('page ', 133)\n",
        "('shops so far ', 939)"
       ]
      },
      {
       "output_type": "stream",
       "stream": "stdout",
       "text": [
        "\n",
        "('page ', 134)\n",
        "('shops so far ', 948)"
       ]
      },
      {
       "output_type": "stream",
       "stream": "stdout",
       "text": [
        "\n",
        "('page ', 135)\n",
        "('shops so far ', 954)"
       ]
      },
      {
       "output_type": "stream",
       "stream": "stdout",
       "text": [
        "\n",
        "('page ', 136)\n",
        "('shops so far ', 957)"
       ]
      },
      {
       "output_type": "stream",
       "stream": "stdout",
       "text": [
        "\n",
        "('page ', 137)\n",
        "('shops so far ', 961)"
       ]
      },
      {
       "output_type": "stream",
       "stream": "stdout",
       "text": [
        "\n",
        "('page ', 138)\n",
        "('shops so far ', 968)"
       ]
      },
      {
       "output_type": "stream",
       "stream": "stdout",
       "text": [
        "\n",
        "('page ', 139)\n",
        "('shops so far ', 973)"
       ]
      },
      {
       "output_type": "stream",
       "stream": "stdout",
       "text": [
        "\n",
        "('page ', 140)\n",
        "('shops so far ', 977)"
       ]
      },
      {
       "output_type": "stream",
       "stream": "stdout",
       "text": [
        "\n",
        "('page ', 141)\n",
        "('shops so far ', 981)"
       ]
      },
      {
       "output_type": "stream",
       "stream": "stdout",
       "text": [
        "\n",
        "('page ', 142)\n",
        "('shops so far ', 982)"
       ]
      },
      {
       "output_type": "stream",
       "stream": "stdout",
       "text": [
        "\n",
        "('page ', 143)\n",
        "('shops so far ', 983)"
       ]
      },
      {
       "output_type": "stream",
       "stream": "stdout",
       "text": [
        "\n",
        "('page ', 144)\n",
        "('shops so far ', 989)"
       ]
      },
      {
       "output_type": "stream",
       "stream": "stdout",
       "text": [
        "\n",
        "('page ', 145)\n",
        "('shops so far ', 994)"
       ]
      },
      {
       "output_type": "stream",
       "stream": "stdout",
       "text": [
        "\n",
        "('page ', 146)\n",
        "('shops so far ', 1004)"
       ]
      },
      {
       "output_type": "stream",
       "stream": "stdout",
       "text": [
        "\n",
        "('page ', 147)\n",
        "('shops so far ', 1010)"
       ]
      },
      {
       "output_type": "stream",
       "stream": "stdout",
       "text": [
        "\n",
        "('page ', 148)\n",
        "('shops so far ', 1023)"
       ]
      },
      {
       "output_type": "stream",
       "stream": "stdout",
       "text": [
        "\n",
        "('page ', 149)\n",
        "('shops so far ', 1031)"
       ]
      },
      {
       "output_type": "stream",
       "stream": "stdout",
       "text": [
        "\n",
        "('page ', 150)\n",
        "('shops so far ', 1035)"
       ]
      },
      {
       "output_type": "stream",
       "stream": "stdout",
       "text": [
        "\n",
        "('page ', 151)\n",
        "('shops so far ', 1042)"
       ]
      },
      {
       "output_type": "stream",
       "stream": "stdout",
       "text": [
        "\n",
        "('page ', 152)\n",
        "('shops so far ', 1049)"
       ]
      },
      {
       "output_type": "stream",
       "stream": "stdout",
       "text": [
        "\n",
        "('page ', 153)\n",
        "('shops so far ', 1053)"
       ]
      },
      {
       "output_type": "stream",
       "stream": "stdout",
       "text": [
        "\n",
        "('page ', 154)\n",
        "('shops so far ', 1060)"
       ]
      },
      {
       "output_type": "stream",
       "stream": "stdout",
       "text": [
        "\n",
        "('page ', 155)\n",
        "('shops so far ', 1064)"
       ]
      },
      {
       "output_type": "stream",
       "stream": "stdout",
       "text": [
        "\n",
        "('page ', 156)\n",
        "('shops so far ', 1067)"
       ]
      },
      {
       "output_type": "stream",
       "stream": "stdout",
       "text": [
        "\n",
        "('page ', 157)\n",
        "('shops so far ', 1069)"
       ]
      },
      {
       "output_type": "stream",
       "stream": "stdout",
       "text": [
        "\n",
        "('page ', 158)\n",
        "('shops so far ', 1069)"
       ]
      },
      {
       "output_type": "stream",
       "stream": "stdout",
       "text": [
        "\n",
        "('page ', 159)\n",
        "('shops so far ', 1072)"
       ]
      },
      {
       "output_type": "stream",
       "stream": "stdout",
       "text": [
        "\n",
        "('page ', 160)\n",
        "('shops so far ', 1079)"
       ]
      },
      {
       "output_type": "stream",
       "stream": "stdout",
       "text": [
        "\n",
        "('page ', 161)\n",
        "('shops so far ', 1089)"
       ]
      },
      {
       "output_type": "stream",
       "stream": "stdout",
       "text": [
        "\n",
        "('page ', 162)\n",
        "('shops so far ', 1096)"
       ]
      },
      {
       "output_type": "stream",
       "stream": "stdout",
       "text": [
        "\n",
        "('page ', 163)\n",
        "('shops so far ', 1105)"
       ]
      },
      {
       "output_type": "stream",
       "stream": "stdout",
       "text": [
        "\n",
        "('page ', 164)\n",
        "('shops so far ', 1111)"
       ]
      },
      {
       "output_type": "stream",
       "stream": "stdout",
       "text": [
        "\n",
        "('page ', 165)\n",
        "('shops so far ', 1118)"
       ]
      },
      {
       "output_type": "stream",
       "stream": "stdout",
       "text": [
        "\n",
        "('page ', 166)\n",
        "('shops so far ', 1124)"
       ]
      },
      {
       "output_type": "stream",
       "stream": "stdout",
       "text": [
        "\n",
        "('page ', 167)\n",
        "('shops so far ', 1129)"
       ]
      },
      {
       "output_type": "stream",
       "stream": "stdout",
       "text": [
        "\n",
        "('page ', 168)\n",
        "('shops so far ', 1135)"
       ]
      },
      {
       "output_type": "stream",
       "stream": "stdout",
       "text": [
        "\n",
        "('page ', 169)\n",
        "('shops so far ', 1143)"
       ]
      },
      {
       "output_type": "stream",
       "stream": "stdout",
       "text": [
        "\n",
        "('page ', 170)\n",
        "('shops so far ', 1148)"
       ]
      },
      {
       "output_type": "stream",
       "stream": "stdout",
       "text": [
        "\n",
        "('page ', 171)\n",
        "('shops so far ', 1156)"
       ]
      },
      {
       "output_type": "stream",
       "stream": "stdout",
       "text": [
        "\n",
        "('page ', 172)\n",
        "('shops so far ', 1162)"
       ]
      },
      {
       "output_type": "stream",
       "stream": "stdout",
       "text": [
        "\n",
        "('page ', 173)\n",
        "('shops so far ', 1169)"
       ]
      },
      {
       "output_type": "stream",
       "stream": "stdout",
       "text": [
        "\n",
        "('page ', 174)\n",
        "('shops so far ', 1173)"
       ]
      },
      {
       "output_type": "stream",
       "stream": "stdout",
       "text": [
        "\n",
        "('page ', 175)\n",
        "('shops so far ', 1173)"
       ]
      },
      {
       "output_type": "stream",
       "stream": "stdout",
       "text": [
        "\n",
        "('page ', 176)\n",
        "('shops so far ', 1180)"
       ]
      },
      {
       "output_type": "stream",
       "stream": "stdout",
       "text": [
        "\n",
        "('page ', 177)\n",
        "('shops so far ', 1187)"
       ]
      },
      {
       "output_type": "stream",
       "stream": "stdout",
       "text": [
        "\n",
        "('page ', 178)\n",
        "('shops so far ', 1193)"
       ]
      },
      {
       "output_type": "stream",
       "stream": "stdout",
       "text": [
        "\n",
        "('page ', 179)\n",
        "('shops so far ', 1196)"
       ]
      },
      {
       "output_type": "stream",
       "stream": "stdout",
       "text": [
        "\n",
        "('page ', 180)\n",
        "('shops so far ', 1200)"
       ]
      },
      {
       "output_type": "stream",
       "stream": "stdout",
       "text": [
        "\n",
        "('page ', 181)\n",
        "('shops so far ', 1206)"
       ]
      },
      {
       "output_type": "stream",
       "stream": "stdout",
       "text": [
        "\n",
        "('page ', 182)\n",
        "('shops so far ', 1212)"
       ]
      },
      {
       "output_type": "stream",
       "stream": "stdout",
       "text": [
        "\n",
        "('page ', 183)\n",
        "('shops so far ', 1217)"
       ]
      },
      {
       "output_type": "stream",
       "stream": "stdout",
       "text": [
        "\n",
        "('page ', 184)\n",
        "('shops so far ', 1221)"
       ]
      },
      {
       "output_type": "stream",
       "stream": "stdout",
       "text": [
        "\n",
        "('page ', 185)\n",
        "('shops so far ', 1223)"
       ]
      },
      {
       "output_type": "stream",
       "stream": "stdout",
       "text": [
        "\n",
        "('page ', 186)\n",
        "('shops so far ', 1233)"
       ]
      },
      {
       "output_type": "stream",
       "stream": "stdout",
       "text": [
        "\n",
        "('page ', 187)\n",
        "('shops so far ', 1236)"
       ]
      },
      {
       "output_type": "stream",
       "stream": "stdout",
       "text": [
        "\n",
        "('page ', 188)\n",
        "('shops so far ', 1242)"
       ]
      },
      {
       "output_type": "stream",
       "stream": "stdout",
       "text": [
        "\n",
        "('page ', 189)\n",
        "('shops so far ', 1247)"
       ]
      },
      {
       "output_type": "stream",
       "stream": "stdout",
       "text": [
        "\n",
        "('page ', 190)\n",
        "('shops so far ', 1251)"
       ]
      },
      {
       "output_type": "stream",
       "stream": "stdout",
       "text": [
        "\n",
        "('page ', 191)\n",
        "('shops so far ', 1255)"
       ]
      },
      {
       "output_type": "stream",
       "stream": "stdout",
       "text": [
        "\n",
        "('page ', 192)\n",
        "('shops so far ', 1265)"
       ]
      },
      {
       "output_type": "stream",
       "stream": "stdout",
       "text": [
        "\n",
        "('page ', 193)\n",
        "('shops so far ', 1273)"
       ]
      },
      {
       "output_type": "stream",
       "stream": "stdout",
       "text": [
        "\n",
        "('page ', 194)\n",
        "('shops so far ', 1282)"
       ]
      },
      {
       "output_type": "stream",
       "stream": "stdout",
       "text": [
        "\n",
        "('page ', 195)\n",
        "('shops so far ', 1292)"
       ]
      },
      {
       "output_type": "stream",
       "stream": "stdout",
       "text": [
        "\n",
        "('page ', 196)\n",
        "('shops so far ', 1299)"
       ]
      },
      {
       "output_type": "stream",
       "stream": "stdout",
       "text": [
        "\n",
        "('page ', 197)\n",
        "('shops so far ', 1301)"
       ]
      },
      {
       "output_type": "stream",
       "stream": "stdout",
       "text": [
        "\n",
        "('page ', 198)\n",
        "('shops so far ', 1308)"
       ]
      },
      {
       "output_type": "stream",
       "stream": "stdout",
       "text": [
        "\n",
        "('page ', 199)\n",
        "('shops so far ', 1312)"
       ]
      },
      {
       "output_type": "stream",
       "stream": "stdout",
       "text": [
        "\n",
        "('page ', 200)\n",
        "('shops so far ', 1316)"
       ]
      },
      {
       "output_type": "stream",
       "stream": "stdout",
       "text": [
        "\n",
        "('page ', 201)\n",
        "('shops so far ', 1319)"
       ]
      },
      {
       "output_type": "stream",
       "stream": "stdout",
       "text": [
        "\n",
        "('page ', 202)\n",
        "('shops so far ', 1323)"
       ]
      },
      {
       "output_type": "stream",
       "stream": "stdout",
       "text": [
        "\n",
        "('page ', 203)\n",
        "('shops so far ', 1328)"
       ]
      },
      {
       "output_type": "stream",
       "stream": "stdout",
       "text": [
        "\n",
        "('page ', 204)\n",
        "('shops so far ', 1334)"
       ]
      },
      {
       "output_type": "stream",
       "stream": "stdout",
       "text": [
        "\n",
        "('page ', 205)\n",
        "('shops so far ', 1337)"
       ]
      },
      {
       "output_type": "stream",
       "stream": "stdout",
       "text": [
        "\n",
        "('page ', 206)\n",
        "('shops so far ', 1344)"
       ]
      },
      {
       "output_type": "stream",
       "stream": "stdout",
       "text": [
        "\n",
        "('page ', 207)\n",
        "('shops so far ', 1354)"
       ]
      },
      {
       "output_type": "stream",
       "stream": "stdout",
       "text": [
        "\n",
        "('page ', 208)\n",
        "('shops so far ', 1363)"
       ]
      },
      {
       "output_type": "stream",
       "stream": "stdout",
       "text": [
        "\n",
        "('page ', 209)\n",
        "('shops so far ', 1371)"
       ]
      },
      {
       "output_type": "stream",
       "stream": "stdout",
       "text": [
        "\n",
        "('page ', 210)\n",
        "('shops so far ', 1372)"
       ]
      },
      {
       "output_type": "stream",
       "stream": "stdout",
       "text": [
        "\n",
        "('page ', 211)\n",
        "('shops so far ', 1378)"
       ]
      },
      {
       "output_type": "stream",
       "stream": "stdout",
       "text": [
        "\n",
        "('page ', 212)\n",
        "('shops so far ', 1385)"
       ]
      },
      {
       "output_type": "stream",
       "stream": "stdout",
       "text": [
        "\n",
        "('page ', 213)\n",
        "('shops so far ', 1390)"
       ]
      },
      {
       "output_type": "stream",
       "stream": "stdout",
       "text": [
        "\n",
        "('page ', 214)\n",
        "('shops so far ', 1395)"
       ]
      },
      {
       "output_type": "stream",
       "stream": "stdout",
       "text": [
        "\n",
        "('page ', 215)\n",
        "('shops so far ', 1401)"
       ]
      },
      {
       "output_type": "stream",
       "stream": "stdout",
       "text": [
        "\n",
        "('page ', 216)\n",
        "('shops so far ', 1407)"
       ]
      },
      {
       "output_type": "stream",
       "stream": "stdout",
       "text": [
        "\n",
        "('page ', 217)\n",
        "('shops so far ', 1413)"
       ]
      },
      {
       "output_type": "stream",
       "stream": "stdout",
       "text": [
        "\n",
        "('page ', 218)\n",
        "('shops so far ', 1415)"
       ]
      },
      {
       "output_type": "stream",
       "stream": "stdout",
       "text": [
        "\n",
        "('page ', 219)\n",
        "('shops so far ', 1420)"
       ]
      },
      {
       "output_type": "stream",
       "stream": "stdout",
       "text": [
        "\n",
        "('page ', 220)\n",
        "('shops so far ', 1428)"
       ]
      },
      {
       "output_type": "stream",
       "stream": "stdout",
       "text": [
        "\n",
        "('page ', 221)\n",
        "('shops so far ', 1433)"
       ]
      },
      {
       "output_type": "stream",
       "stream": "stdout",
       "text": [
        "\n",
        "('page ', 222)\n",
        "('shops so far ', 1441)"
       ]
      },
      {
       "output_type": "stream",
       "stream": "stdout",
       "text": [
        "\n",
        "('page ', 223)\n",
        "('shops so far ', 1447)"
       ]
      },
      {
       "output_type": "stream",
       "stream": "stdout",
       "text": [
        "\n",
        "('page ', 224)\n",
        "('shops so far ', 1456)"
       ]
      },
      {
       "output_type": "stream",
       "stream": "stdout",
       "text": [
        "\n",
        "('page ', 225)\n",
        "('shops so far ', 1457)"
       ]
      },
      {
       "output_type": "stream",
       "stream": "stdout",
       "text": [
        "\n",
        "('page ', 226)\n",
        "('shops so far ', 1467)"
       ]
      },
      {
       "output_type": "stream",
       "stream": "stdout",
       "text": [
        "\n",
        "('page ', 227)\n",
        "('shops so far ', 1478)"
       ]
      },
      {
       "output_type": "stream",
       "stream": "stdout",
       "text": [
        "\n",
        "('page ', 228)\n",
        "('shops so far ', 1489)"
       ]
      },
      {
       "output_type": "stream",
       "stream": "stdout",
       "text": [
        "\n",
        "('page ', 229)\n",
        "('shops so far ', 1494)"
       ]
      },
      {
       "output_type": "stream",
       "stream": "stdout",
       "text": [
        "\n",
        "('page ', 230)\n",
        "('shops so far ', 1502)"
       ]
      },
      {
       "output_type": "stream",
       "stream": "stdout",
       "text": [
        "\n",
        "('page ', 231)\n",
        "('shops so far ', 1505)"
       ]
      },
      {
       "output_type": "stream",
       "stream": "stdout",
       "text": [
        "\n",
        "('page ', 232)\n",
        "('shops so far ', 1516)"
       ]
      },
      {
       "output_type": "stream",
       "stream": "stdout",
       "text": [
        "\n",
        "('page ', 233)\n",
        "('shops so far ', 1522)"
       ]
      },
      {
       "output_type": "stream",
       "stream": "stdout",
       "text": [
        "\n",
        "('page ', 234)\n",
        "('shops so far ', 1525)"
       ]
      },
      {
       "output_type": "stream",
       "stream": "stdout",
       "text": [
        "\n",
        "('page ', 235)\n",
        "('shops so far ', 1529)"
       ]
      },
      {
       "output_type": "stream",
       "stream": "stdout",
       "text": [
        "\n",
        "('page ', 236)\n",
        "('shops so far ', 1537)"
       ]
      },
      {
       "output_type": "stream",
       "stream": "stdout",
       "text": [
        "\n",
        "('page ', 237)\n",
        "('shops so far ', 1541)"
       ]
      },
      {
       "output_type": "stream",
       "stream": "stdout",
       "text": [
        "\n",
        "('page ', 238)\n",
        "('shops so far ', 1547)"
       ]
      },
      {
       "output_type": "stream",
       "stream": "stdout",
       "text": [
        "\n",
        "('page ', 239)\n",
        "('shops so far ', 1554)"
       ]
      },
      {
       "output_type": "stream",
       "stream": "stdout",
       "text": [
        "\n",
        "('page ', 240)\n",
        "{1: {'Name': u'Puik'}, 2: {'Name': u'MyKnitCroch'}, 3: {'Name': u'SandyCoastalDesigns'}, 4: {'Name': u'viafashion'}, 5: {'Name': u'MaxMelody'}, 6: {'Name': u'knittingtreasures'}, 7: {'Name': u'Ebruk'}, 8: {'Name': u'SunshineBabyProps'}, 9: {'Name': u'pixiebell'}, 10: {'Name': u'accessoriesbyrita'}, 11: {'Name': u'SENNURSASA'}, 12: {'Name': u'effybags'}, 13: {'Name': u'ileaiye'}, 14: {'Name': u'zukas'}, 15: {'Name': u'StripesnCables'}, 16: {'Name': u'LurayKnitwear'}, 17: {'Name': u'HatsByHollyJoy'}, 18: {'Name': u'TheMadRabbitShoppe'}, 19: {'Name': u'PrettyBagsByMia'}, 20: {'Name': u'LoopsAndLines'}, 21: {'Name': u'Regathered'}, 22: {'Name': u'MomohanaKobo'}, 23: {'Name': u'HandknitsByLori'}, 24: {'Name': u'RelovedFabrics'}, 25: {'Name': u'LudMilaBoutique'}, 26: {'Name': u'Ifonka'}, 27: {'Name': u'BouquetSpecialDesign'}, 28: {'Name': u'PoshKiddosapparel'}, 29: {'Name': u'ShopLuluandRoo'}, 30: {'Name': u'HootersHall'}, 31: {'Name': u'SoftyWooly'}, 32: {'Name': u'myfashioncreations'}, 33: {'Name': u'PracticalArtByLaura'}, 34: {'Name': u'WoollywonderKnits'}, 35: {'Name': u'DollphinShowRoom'}, 36: {'Name': u'IfonBabyLand'}, 37: {'Name': u'strawberrycouture'}, 38: {'Name': u'SlouchyBeanie'}, 39: {'Name': u'ReinetteClothing'}, 40: {'Name': u'BaByPrOdUcTsByGaLiNa'}, 41: {'Name': u'SmallandLovely'}, 42: {'Name': u'Sawu'}, 43: {'Name': u'UpNorthKnits'}, 44: {'Name': u'designbcb'}, 45: {'Name': u'natalya1905'}, 46: {'Name': u'LoonMtEmbroidnCrafts'}, 47: {'Name': u'lanadearg'}, 48: {'Name': u'KnitAndCrochetLAND'}, 49: {'Name': u'earflaphats'}, 50: {'Name': u'SoftKnitDreams'}, 51: {'Name': u'OhBoyHandmade'}, 52: {'Name': u'SchoolSpiritKnits'}, 53: {'Name': u'PandoraSpocks'}, 54: {'Name': u'Vacationhouse'}, 55: {'Name': u'FarrellFibers'}, 56: {'Name': u'lajumpinbean'}, 57: {'Name': u'PIYOYO'}, 58: {'Name': u'JolantaKnit'}, 59: {'Name': u'hilaryfrazier'}, 60: {'Name': u'MyCrochetDesign'}, 61: {'Name': u'Scarf4you'}, 62: {'Name': u'BlablaBlythe'}, 63: {'Name': u'BoPeepsBonnets'}, 64: {'Name': u'WodCreate'}, 65: {'Name': u'IrmianDesign'}, 66: {'Name': u'BabyPropBox'}, 67: {'Name': u'tailorguy'}, 68: {'Name': u'lililio'}, 69: {'Name': u'PlukeShop'}, 70: {'Name': u'LittleAsAccessories'}, 71: {'Name': u'OffTheHookHats'}, 72: {'Name': u'CottonPickings'}, 73: {'Name': u'KadensCloset'}, 74: {'Name': u'SueMaun'}, 75: {'Name': u'EllenaKnits'}, 76: {'Name': u'Knitzbybeansknots'}, 77: {'Name': u'MatanteGe'}, 78: {'Name': u'CableMeCozy'}, 79: {'Name': u'PeonyKnits'}, 80: {'Name': u'WonderWoollens'}, 81: {'Name': u'BabyKDesigns'}, 82: {'Name': u'naptimedesigners'}, 83: {'Name': u'starlightknits'}, 84: {'Name': u'TaniaHand'}, 85: {'Name': u'Bohoinfinity'}, 86: {'Name': u'Knittingchop'}, 87: {'Name': u'dreahsdesigns'}, 88: {'Name': u'JandEdoodles'}, 89: {'Name': u'mynoush'}, 90: {'Name': u'beatknits'}, 91: {'Name': u'vintageknitcrochet'}, 92: {'Name': u'HandyHatsandThings'}, 93: {'Name': u'ShopLaLune'}, 94: {'Name': u'NataNatastudio'}, 95: {'Name': u'smittenwithknitn'}, 96: {'Name': u'Ritaknitsall'}, 97: {'Name': u'FiddlestyxStudios'}, 98: {'Name': u'Cvetinka'}, 99: {'Name': u'TreMelarance'}, 100: {'Name': u'SlopeGirlKnits'}, 101: {'Name': u'ClassySassyKnitz'}, 102: {'Name': u'DickensKnits'}, 103: {'Name': u'AnytimeScarf'}, 104: {'Name': u'KnitSew4U'}, 105: {'Name': u'JanJanCreations'}, 106: {'Name': u'DesignByEJ'}, 107: {'Name': u'Powerbrand'}, 108: {'Name': u'rubywebbs'}, 109: {'Name': u'LJaccessories'}, 110: {'Name': u'HippityHoppityHats'}, 111: {'Name': u'HandWovenPeru'}, 112: {'Name': u'foreverandrea'}, 113: {'Name': u'BabiesRepublic'}, 114: {'Name': u'TheMastHatter'}, 115: {'Name': u'CTDESIGNSBESPOKEBAGS'}, 116: {'Name': u'SimplyLife888'}, 117: {'Name': u'CustomCuddlers'}, 118: {'Name': u'AshleyLillisHandmade'}, 119: {'Name': u'SourpussKnits'}, 120: {'Name': u'HelloDollyDesigns'}, 121: {'Name': u'CreationsTricotine'}, 122: {'Name': u'LeLeni'}, 123: {'Name': u'ThatGirlKnitz'}, 124: {'Name': u'GoKnitsDotCom'}, 125: {'Name': u'WaterInMyPaint'}, 126: {'Name': u'HaKaMaDi4'}, 127: {'Name': u'TerryGraziano'}, 128: {'Name': u'MarysKnits'}, 129: {'Name': u'ToryMakes'}, 130: {'Name': u'bromefields'}, 131: {'Name': u'BellaNeedleworks'}, 132: {'Name': u'selmahandcraft'}, 133: {'Name': u'looptolooptoloop'}, 134: {'Name': u'sweetKM'}, 135: {'Name': u'FromPurlsToPearls'}, 136: {'Name': u'TikiFiberCrafts'}, 137: {'Name': u'Magicdoll'}, 138: {'Name': u'CappelliHats'}, 139: {'Name': u'WinterWhiteKnits'}, 140: {'Name': u'NchantedGifts'}, 141: {'Name': u'PersonalizedKnits'}, 142: {'Name': u'dreamdoghandmade'}, 143: {'Name': u'PhiloneusDesigns'}, 144: {'Name': u'abrahamssonco'}, 145: {'Name': u'TARSTITCH'}, 146: {'Name': u'Merrieknit'}, 147: {'Name': u'ZucchiniIslandKnits'}, 148: {'Name': u'NesyBaby'}, 149: {'Name': u'KnitsForLife'}, 150: {'Name': u'OhmayDIY'}, 151: {'Name': u'Fernandfeatherknits'}, 152: {'Name': u'ThreeBirdNest'}, 153: {'Name': u'azuremiles'}, 154: {'Name': u'SabiynaHandKnits'}, 155: {'Name': u'MimozaLuxury'}, 156: {'Name': u'LovetoKnitHats'}, 157: {'Name': u'sweetygreetings'}, 158: {'Name': u'LalaAndMeShop'}, 159: {'Name': u'GreenCatStudio'}, 160: {'Name': u'funkomavintage'}, 161: {'Name': u'KnittingOleBag'}, 162: {'Name': u'CreationsbyNavari'}, 163: {'Name': u'TwoLittleAngels1'}, 164: {'Name': u'MellyJoCo'}, 165: {'Name': u'StripyKite'}, 166: {'Name': u'CattsHouse'}, 167: {'Name': u'KnitJustForYou'}, 168: {'Name': u'lauraprilltoo'}, 169: {'Name': u'AuntieBsMemories'}, 170: {'Name': u'RedWhiteandSpotty'}, 171: {'Name': u'MoonKnitNight'}, 172: {'Name': u'yarnworksandmore'}, 173: {'Name': u'AdrisLittleCuties'}, 174: {'Name': u'KnitsByNat'}, 175: {'Name': u'knoodleknits'}, 176: {'Name': u'AccessoriesByKelli'}, 177: {'Name': u'JennysKnitCo'}, 178: {'Name': u'bebebottineshop'}, 179: {'Name': u'WomanOnTheWater'}, 180: {'Name': u'Terottka'}, 181: {'Name': u'CardinalLane'}, 182: {'Name': u'BirdiesLab'}, 183: {'Name': u'PoshPatterns'}, 184: {'Name': u'NudiKnits'}, 185: {'Name': u'MimiMustKnit'}, 186: {'Name': u'CLCouture'}, 187: {'Name': u'PeachPoshPolkadots'}, 188: {'Name': u'westlakedesigns'}, 189: {'Name': u'SnazzySportsCo'}, 190: {'Name': u'JeanieBeanHandKnits'}, 191: {'Name': u'AngisWollBobbl'}, 192: {'Name': u'LiveLace'}, 193: {'Name': u'TriStarDesign'}, 194: {'Name': u'JanineBasil'}, 195: {'Name': u'DishclothDivaKnitsOn'}, 196: {'Name': u'bootcuffsandsocks'}, 197: {'Name': u'AylasBeeniesgreenbay'}, 198: {'Name': u'VillaYarnDesigns'}, 199: {'Name': u'HatParadise'}, 200: {'Name': u'swaddlemesnugly'}, 201: {'Name': u'ChandraQuiltnCrafts'}, 202: {'Name': u'AnotherKP'}, 203: {'Name': u'HatCharacters'}, 204: {'Name': u'PlatoSquirrel'}, 205: {'Name': u'PaulaBPires'}, 206: {'Name': u'sewsassybootique'}, 207: {'Name': u'JuniperandGinger'}, 208: {'Name': u'LambsEarsKnits'}, 209: {'Name': u'ETaylorDesigns'}, 210: {'Name': u'Solnishko43'}, 211: {'Name': u'TheCraftyEuropean'}, 212: {'Name': u'PhotoPropsByMissLene'}, 213: {'Name': u'SuchCraftsWow'}, 214: {'Name': u'KEENbyAM'}, 215: {'Name': u'CreativeHandknits'}, 216: {'Name': u'zoik'}, 217: {'Name': u'AGuyWithTwoNeedles'}, 218: {'Name': u'TheAlaskanAbroad'}, 219: {'Name': u'FightingLeukemia'}, 220: {'Name': u'MariyaMitov'}, 221: {'Name': u'FrouFrouVtgClothing'}, 222: {'Name': u'deorigenchile'}, 223: {'Name': u'rukkola'}, 224: {'Name': u'BexterDesigns'}, 225: {'Name': u'Hanakos'}, 226: {'Name': u'BollasBitsAndBobs'}, 227: {'Name': u'LiliaCraftParty'}, 228: {'Name': u'MtnShadowFiberworks'}, 229: {'Name': u'taschekats'}, 230: {'Name': u'CuteCreationsByLea'}, 231: {'Name': u'ItsyBitsyBabyProps'}, 232: {'Name': u'HamsaHealingGifts'}, 233: {'Name': u'Pavlaknits'}, 234: {'Name': u'EmptyNestKnitsStudio'}, 235: {'Name': u'iGrowYarn'}, 236: {'Name': u'CutePhotoProp'}, 237: {'Name': u'stayinstitches'}, 238: {'Name': u'CrochetKnit30'}, 239: {'Name': u'Mirastyle'}, 240: {'Name': u'YarnForBaby'}, 241: {'Name': u'DokumaAccessories'}, 242: {'Name': u'VermontHomespun'}, 243: {'Name': u'simplybasicdesigns'}, 244: {'Name': u'SweetPeaBoutiques'}, 245: {'Name': u'Plexida'}, 246: {'Name': u'ToppledTurtle'}, 247: {'Name': u'MGknitting'}, 248: {'Name': u'BabyHats'}, 249: {'Name': u'TheCrownedHeart'}, 250: {'Name': u'dahliasoleil'}, 251: {'Name': u'Stitchandstory'}, 252: {'Name': u'HuckleberriesandRain'}, 253: {'Name': u'NoKnotKnits'}, 254: {'Name': u'Clickclackknits'}, 255: {'Name': u'IRISMINT'}, 256: {'Name': u'SeaSprayKnits'}, 257: {'Name': u'Fluffylamb'}, 258: {'Name': u'StarSeventeen'}, 259: {'Name': u'IKnit4aCure'}, 260: {'Name': u'SapphiraDesignsKnits'}, 261: {'Name': u'JandSKnitts'}, 262: {'Name': u'ALovelyYarn'}, 263: {'Name': u'wishestogether'}, 264: {'Name': u'twigsandtweets'}, 265: {'Name': u'LineliHandmade'}, 266: {'Name': u'YoYohats'}, 267: {'Name': u'KnittingbyKali'}, 268: {'Name': u'BellaRaeCrochet'}, 269: {'Name': u'BebellissimosB'}, 270: {'Name': u'ThatSewU'}, 271: {'Name': u'NorthernLoopKnitwear'}, 272: {'Name': u'ByMissSally'}, 273: {'Name': u'KangooLUX'}, 274: {'Name': u'CroquisKnits'}, 275: {'Name': u'Lasunka'}, 276: {'Name': u'HandmadeFromLV'}, 277: {'Name': u'HandicraftByDamla'}, 278: {'Name': u'HandmadeTrend'}, 279: {'Name': u'Madebyfate'}, 280: {'Name': u'Scarfashion'}, 281: {'Name': u'tzigane57'}, 282: {'Name': u'wildhoneypieboutique'}, 283: {'Name': u'Solandia'}, 284: {'Name': u'JuicyBows'}, 285: {'Name': u'VolnaDollsClother'}, 286: {'Name': u'OneofaKindKnitGifts'}, 287: {'Name': u'YHYC'}, 288: {'Name': u'RosePetalCollections'}, 289: {'Name': u'Ingugu'}, 290: {'Name': u'ShnopShnop'}, 291: {'Name': u'ashton11'}, 292: {'Name': u'GrammysKnitsandPurls'}, 293: {'Name': u'ShentonStudios'}, 294: {'Name': u'ChildCrochet'}, 295: {'Name': u'RememberingDiane'}, 296: {'Name': u'MadeByMillar'}, 297: {'Name': u'Knitzandpurls'}, 298: {'Name': u'CrochetingHeaven'}, 299: {'Name': u'LittleRetronome'}, 300: {'Name': u'PlexisArt'}, 301: {'Name': u'SweetPetitePhotoProp'}, 302: {'Name': u'ForHomeAndHearth'}, 303: {'Name': u'LeanaKonovalova'}, 304: {'Name': u'Halunder'}, 305: {'Name': u'ButtermilkCottage'}, 306: {'Name': u'LaKnitteria'}, 307: {'Name': u'autumnandindigo'}, 308: {'Name': u'ColorWondreWarmth'}, 309: {'Name': u'AnastasiaEvelyn'}, 310: {'Name': u'xoxoImogenHearts'}, 311: {'Name': u'DCimaginations'}, 312: {'Name': u'ArtMajesty'}, 313: {'Name': u'SmilingKnitting'}, 314: {'Name': u'jolay'}, 315: {'Name': u'Johannahats'}, 316: {'Name': u'MyTinyTree'}, 317: {'Name': u'KennaInAfrica'}, 318: {'Name': u'aysev'}, 319: {'Name': u'heaventoseven'}, 320: {'Name': u'Mariiko'}, 321: {'Name': u'LaBottegaDiViviana'}, 322: {'Name': u'CelesteandCompany'}, 323: {'Name': u'AuBoutduPre'}, 324: {'Name': u'Thonetmania'}, 325: {'Name': u'DetroitWoolyLab'}, 326: {'Name': u'TheWoolyBirch'}, 327: {'Name': u'emmifaye'}, 328: {'Name': u'DiceKnits'}, 329: {'Name': u'zxcvvcxz'}, 330: {'Name': u'THIMBLEandACORN'}, 331: {'Name': u'CrochetYourBaby'}, 332: {'Name': u'EnchantedLandofFelt'}, 333: {'Name': u'DarylAndCat'}, 334: {'Name': u'longbeachdesigns'}, 335: {'Name': u'GibsonHollow'}, 336: {'Name': u'WWKnits'}, 337: {'Name': u'PeonyBlossoms'}, 338: {'Name': u'StayatHomeStitchings'}, 339: {'Name': u'PikaPikaCreative'}, 340: {'Name': u'MercierMarche'}, 341: {'Name': u'TheUrbanSquirrel1'}, 342: {'Name': u'FashionTouch'}, 343: {'Name': u'lucymir'}, 344: {'Name': u'MelissaAndElizabethe'}, 345: {'Name': u'Knittsey'}, 346: {'Name': u'WylieOwlVintage'}, 347: {'Name': u'SunnyCsc'}, 348: {'Name': u'BirdsKeptNorth'}, 349: {'Name': u'KookaburraBaby'}, 350: {'Name': u'DamovFashion'}, 351: {'Name': u'cherlynnephotography'}, 352: {'Name': u'AKCraftyLady'}, 353: {'Name': u'PeaceThruKnitting'}, 354: {'Name': u'LauraHandKnits'}, 355: {'Name': u'forthetiny'}, 356: {'Name': u'knottycreationsbyET'}, 357: {'Name': u'SOFTKNOT'}, 358: {'Name': u'byHeatherMarie'}, 359: {'Name': u'MurvaDesign'}, 360: {'Name': u'lovewhatyouwear'}, 361: {'Name': u'mellowfury'}, 362: {'Name': u'LittleBuffaloKnits'}, 363: {'Name': u'shopknitsandprints'}, 364: {'Name': u'PamelaLiz'}, 365: {'Name': u'BeeHappyBoutique'}, 366: {'Name': u'CharlesIsabella'}, 367: {'Name': u'DesigningEva'}, 368: {'Name': u'judy03452'}, 369: {'Name': u'NavaVK'}, 370: {'Name': u'KnitsByVicks'}, 371: {'Name': u'FernwehUK'}, 372: {'Name': u'TiasTerrificThreads'}, 373: {'Name': u'Julbyjuliagasin'}, 374: {'Name': u'WearitWellvintage'}, 375: {'Name': u'CooloRoonie'}, 376: {'Name': u'UnconditionalProwess'}, 377: {'Name': u'NeedleGraceBoutique'}, 378: {'Name': u'OrganicScarf'}, 379: {'Name': u'Notforeat'}, 380: {'Name': u'AlbadoFashion'}, 381: {'Name': u'AngelHeartRanch'}, 382: {'Name': u'EcoStreet'}, 383: {'Name': u'TwoPeasInAPodCo'}, 384: {'Name': u'SleepyToys'}, 385: {'Name': u'AnniRoss'}, 386: {'Name': u'ElianasKnittings'}, 387: {'Name': u'Knitkozi'}, 388: {'Name': u'LoreNovedades'}, 389: {'Name': u'NorthStarAlpacas'}, 390: {'Name': u'CampCousinsCrafts'}, 391: {'Name': u'MaggieandGray'}, 392: {'Name': u'handmadebysarajean'}, 393: {'Name': u'HeavenandHandKnits'}, 394: {'Name': u'SusieAccessories'}, 395: {'Name': u'LazyTurtleCo'}, 396: {'Name': u'PuttingontheKnits'}, 397: {'Name': u'allasattic'}, 398: {'Name': u'KnitLea'}, 399: {'Name': u'BethWintersBoutique'}, 400: {'Name': u'PaulistaAvenue'}, 401: {'Name': u'LittleCottonShop'}, 402: {'Name': u'fashionablekids'}, 403: {'Name': u'TheRaccoonery'}, 404: {'Name': u'PreciousNewbornKnits'}, 405: {'Name': u'AniTaller'}, 406: {'Name': u'PomPonWear'}, 407: {'Name': u'HMJDesigns01945'}, 408: {'Name': u'TheKnitPanda'}, 409: {'Name': u'LittleSheepsDream'}, 410: {'Name': u'WhiteGloveVintage'}, 411: {'Name': u'BaroqueAndRoll'}, 412: {'Name': u'SMQdesigns'}, 413: {'Name': u'VioletUnderground'}, 414: {'Name': u'FashionelleStudio'}, 415: {'Name': u'byjocreations'}, 416: {'Name': u'mimsyinmaine'}, 417: {'Name': u'ChicVintagePatterns'}, 418: {'Name': u'KilbellaVintage'}, 419: {'Name': u'texturable'}, 420: {'Name': u'KatarinaHats'}, 421: {'Name': u'MarroCraft'}, 422: {'Name': u'LilyAccessorises'}, 423: {'Name': u'beautifulplace'}, 424: {'Name': u'GloriousMorn'}, 425: {'Name': u'MarmaladesYarn'}, 426: {'Name': u'ArticleApparel'}, 427: {'Name': u'PrincessTaraCo'}, 428: {'Name': u'Hemiao'}, 429: {'Name': u'BlytheCouture'}, 430: {'Name': u'KattysHandcrafts'}, 431: {'Name': u'AshleysHomeSpun'}, 432: {'Name': u'KnittingCrochetKLM'}, 433: {'Name': u'j2studioscraft'}, 434: {'Name': u'ForestWool'}, 435: {'Name': u'Tanyshaknitware'}, 436: {'Name': u'EnchantingChildhood'}, 437: {'Name': u'PeroskiDesign'}, 438: {'Name': u'simplyyarn27'}, 439: {'Name': u'thymeline'}, 440: {'Name': u'kristine1986'}, 441: {'Name': u'ChicAndSheep'}, 442: {'Name': u'TheNewtonLabel'}, 443: {'Name': u'OYASHOP'}, 444: {'Name': u'FistfulOfVintage'}, 445: {'Name': u'WishKnits'}, 446: {'Name': u'Shelly6262'}, 447: {'Name': u'belovedLT'}, 448: {'Name': u'thekittensmittensuk'}, 449: {'Name': u'CozyPavillion'}, 450: {'Name': u'TheBirdTales'}, 451: {'Name': u'gentletouch11'}, 452: {'Name': u'TheCraftyJackalope'}, 453: {'Name': u'SnassyCrafter'}, 454: {'Name': u'KnitBuddy'}, 455: {'Name': u'LaBottegaDiChicco'}, 456: {'Name': u'RedPepperHats'}, 457: {'Name': u'Need4KnitShop'}, 458: {'Name': u'Nastiin'}, 459: {'Name': u'CandesCustomHats'}, 460: {'Name': u'MsDeborahKnitter'}, 461: {'Name': u'SuperChicDollies'}, 462: {'Name': u'KnitWithLoveByDana'}, 463: {'Name': u'lanacooper'}, 464: {'Name': u'DancingTigerGifts'}, 465: {'Name': u'MAChic'}, 466: {'Name': u'itsybitsyknitting'}, 467: {'Name': u'GayleNeely'}, 468: {'Name': u'StitchwerxDesigns'}, 469: {'Name': u'ArtsyTreats'}, 470: {'Name': u'WheatfieldKnitwear'}, 471: {'Name': u'KNITTINGNJEWELRY'}, 472: {'Name': u'byvala'}, 473: {'Name': u'FawnVintage01'}, 474: {'Name': u'LittleKnittyThings'}, 475: {'Name': u'ArtfullyAnns'}, 476: {'Name': u'juliegalbraith'}, 477: {'Name': u'BabasBabyProps'}, 478: {'Name': u'SSnEverythingnice'}, 479: {'Name': u'APPALACHIANSTITCH'}, 480: {'Name': u'KristinaBari'}, 481: {'Name': u'ElenaYarovayaCrochet'}, 482: {'Name': u'EmofoFashion'}, 483: {'Name': u'HouseofJulio'}, 484: {'Name': u'SCHandmade'}, 485: {'Name': u'knitland24'}, 486: {'Name': u'BiKay'}, 487: {'Name': u'OliveHats'}, 488: {'Name': u'MillCityStitches'}, 489: {'Name': u'TheLavishOwl'}, 490: {'Name': u'babysknits'}, 491: {'Name': u'MyLittleKnits'}, 492: {'Name': u'HeavenSentHandmade'}, 493: {'Name': u'KnittingPrettyotFarm'}, 494: {'Name': u'LavenderBlossoms'}, 495: {'Name': u'PoppiesandPeanuts'}, 496: {'Name': u'Riashatsandscarves'}, 497: {'Name': u'TepperWear'}, 498: {'Name': u'ZukasKidsKnits'}, 499: {'Name': u'ettygeller'}, 500: {'Name': u'PreciousKnits'}, 501: {'Name': u'HolyHatz'}, 502: {'Name': u'katerynaG'}, 503: {'Name': u'lorettascarves'}, 504: {'Name': u'rocksandsalt'}, 505: {'Name': u'Beadasherie'}, 506: {'Name': u'LioncubCreations'}, 507: {'Name': u'BetelgeuseBrand'}, 508: {'Name': u'Hookinhandcreations'}, 509: {'Name': u'beautymanifesto'}, 510: {'Name': u'HatsAndOtherStories'}, 511: {'Name': u'TanyasBunnyTots'}, 512: {'Name': u'SmallPinkGiraffe'}, 513: {'Name': u'GoldenGirlzHandmade'}, 514: {'Name': u'artnida'}, 515: {'Name': u'WhisperingDreams'}, 516: {'Name': u'BetaGoods'}, 517: {'Name': u'peonijahandmadeshop'}, 518: {'Name': u'Eastalace'}, 519: {'Name': u'RoklandeFashioShop'}, 520: {'Name': u'LAMMYKNITS'}, 521: {'Name': u'TheNorthernPurl'}, 522: {'Name': u'ChristaEllen'}, 523: {'Name': u'herie7'}, 524: {'Name': u'FirstChairClothing'}, 525: {'Name': u'tinab76'}, 526: {'Name': u'MintyDesigns'}, 527: {'Name': u'MountainGoth'}, 528: {'Name': u'HunkyDoriBoutique'}, 529: {'Name': u'UptownKnits'}, 530: {'Name': u'OnwardOnward'}, 531: {'Name': u'awkward'}, 532: {'Name': u'GunayKulbay'}, 533: {'Name': u'bysweetmom'}, 534: {'Name': u'MadeByMiculinko'}, 535: {'Name': u'OldSchoolSwank'}, 536: {'Name': u'hippiehousedesigns'}, 537: {'Name': u'JerseyThursdayKnits'}, 538: {'Name': u'CrochetMyLove'}, 539: {'Name': u'SamniengDesigns'}, 540: {'Name': u'JHknitter'}, 541: {'Name': u'HeadcoversUnlimited'}, 542: {'Name': u'KokomoLady'}, 543: {'Name': u'Pella'}, 544: {'Name': u'KnitterPrincess'}, 545: {'Name': u'JUknitwaves'}, 546: {'Name': u'JustImagineAlaska'}, 547: {'Name': u'PinkyTease'}, 548: {'Name': u'NaturallyUnraveled'}, 549: {'Name': u'UNIQHeadwear'}, 550: {'Name': u'PaganDreams13'}, 551: {'Name': u'MirjanaKnittings'}, 552: {'Name': u'MoonlightLittleKnits'}, 553: {'Name': u'NohoMiscellaneous'}, 554: {'Name': u'frecklesnsass'}, 555: {'Name': u'MyKnittedTreasures'}, 556: {'Name': u'pegsyarncreations'}, 557: {'Name': u'HeatherGaleaDesigns'}, 558: {'Name': u'kckshop'}, 559: {'Name': u'VerantinasBoutique'}, 560: {'Name': u'ClassicBabyWhites'}, 561: {'Name': u'recyclingroom'}, 562: {'Name': u'MoonwolfStudios'}, 563: {'Name': u'yagmurhat'}, 564: {'Name': u'WhichStitch123'}, 565: {'Name': u'ElysianAlpacas'}, 566: {'Name': u'Mybebito'}, 567: {'Name': u'GraceKnittingPattern'}, 568: {'Name': u'CassiesFactory'}, 569: {'Name': u'AutumnAndAmber'}, 570: {'Name': u'Dreadstuffs'}, 571: {'Name': u'peppermintpine'}, 572: {'Name': u'LoopsyKnits'}, 573: {'Name': u'KatjaVonDesign'}, 574: {'Name': u'KnittingInStyle'}, 575: {'Name': u'NuranShop'}, 576: {'Name': u'lampworkbyjulie'}, 577: {'Name': u'hipposdream'}, 578: {'Name': u'Britneyshandknits'}, 579: {'Name': u'refugium'}, 580: {'Name': u'rustiknits'}, 581: {'Name': u'LifesAnExpedition'}, 582: {'Name': u'KnitTim'}, 583: {'Name': u'WhimsicalWarmthProps'}, 584: {'Name': u'PrettyKnitShop'}, 585: {'Name': u'NONAYO'}, 586: {'Name': u'EnguKnits'}, 587: {'Name': u'talktothesun'}, 588: {'Name': u'OCCASIONsonjabegonia'}, 589: {'Name': u'maryscc'}, 590: {'Name': u'BabyLeCradle'}, 591: {'Name': u'AplaceofInterest'}, 592: {'Name': u'CreatingWithSticks'}, 593: {'Name': u'SJAWoodesign'}, 594: {'Name': u'TLVgoods'}, 595: {'Name': u'ChickSale'}, 596: {'Name': u'BarelySaneMom'}, 597: {'Name': u'ItsyBitsyBlooms'}, 598: {'Name': u'Maddiesdivinedesigns'}, 599: {'Name': u'nomacustom'}, 600: {'Name': u'zauberhanddesign'}, 601: {'Name': u'MountainHoneyrags'}, 602: {'Name': u'bySarahBeth'}, 603: {'Name': u'northwardhandcraft'}, 604: {'Name': u'SpinningStreak'}, 605: {'Name': u'ROIG42'}, 606: {'Name': u'PetiteIdasCreations'}, 607: {'Name': u'grannypattern'}, 608: {'Name': u'valleypurl'}, 609: {'Name': u'moonvalleygoods'}, 610: {'Name': u'yarnawayknits'}, 611: {'Name': u'AngelaRoseBoutique'}, 612: {'Name': u'BloomWorkshop'}, 613: {'Name': u'ICraft4Shoes'}, 614: {'Name': u'softnesslove'}, 615: {'Name': u'NeedleLoveKnits'}, 616: {'Name': u'Eastknits'}, 617: {'Name': u'KnitByMe'}, 618: {'Name': u'NancyHuberCreations'}, 619: {'Name': u'AluraCrafts'}, 620: {'Name': u'Elegantcrochets'}, 621: {'Name': u'pocketens'}, 622: {'Name': u'BlumenKinderSeattle'}, 623: {'Name': u'LoveFromNewZealand'}, 624: {'Name': u'WendysWonders127'}, 625: {'Name': u'ANMARIKEDECORPLUS'}, 626: {'Name': u'HideyHoleHats'}, 627: {'Name': u'EmmettBrown'}, 628: {'Name': u'wiscaliali'}, 629: {'Name': u'FunkyAirBear'}, 630: {'Name': u'SistersinCraft'}, 631: {'Name': u'Accessodium'}, 632: {'Name': u'CapeCodHandmades'}, 633: {'Name': u'littlenestboutique'}, 634: {'Name': u'FarEastHandMade'}, 635: {'Name': u'KoonaYogaWear'}, 636: {'Name': u'SimplyCraftSupplies'}, 637: {'Name': u'SallyAnnaBoutique'}, 638: {'Name': u'Dashright'}, 639: {'Name': u'Solnishko42'}, 640: {'Name': u'ABknits'}, 641: {'Name': u'kkaw'}, 642: {'Name': u'pingosdoceu'}, 643: {'Name': u'BarbsSewingBasket'}, 644: {'Name': u'CrazyCuteByAngela'}, 645: {'Name': u'DILALOO'}, 646: {'Name': u'rerunvintage'}, 647: {'Name': u'Nakkashe'}, 648: {'Name': u'3PeasinaPod15'}, 649: {'Name': u'KnittedJoys'}, 650: {'Name': u'ytang'}, 651: {'Name': u'knitwit321'}, 652: {'Name': u'SophiaGianna2Sisters'}, 653: {'Name': u'SayItManyWays'}, 654: {'Name': u'KamiHats'}, 655: {'Name': u'whitlycraftworks'}, 656: {'Name': u'HappyLaika'}, 657: {'Name': u'JobesJewelryBox'}, 658: {'Name': u'PERFECTLYPRIMATIVE'}, 659: {'Name': u'JackBentleyKnitwear'}, 660: {'Name': u'CustomPhotoProps'}, 661: {'Name': u'djfleesh'}, 662: {'Name': u'Thingswelike2knit'}, 663: {'Name': u'BilgesCreation'}, 664: {'Name': u'ThisMomentisGood'}, 665: {'Name': u'ComfyInTheSouth'}, 666: {'Name': u'TwoStixStudios'}, 667: {'Name': u'Incidentallyforyou'}, 668: {'Name': u'ZucchiniIsland'}, 669: {'Name': u'Worldsofknitted'}, 670: {'Name': u'YulemKnits'}, 671: {'Name': u'CraftedEssentials'}, 672: {'Name': u'emilyspurlfectknits'}, 673: {'Name': u'abellawear'}, 674: {'Name': u'TheBlackElephant'}, 675: {'Name': u'Iryna'}, 676: {'Name': u'angikay'}, 677: {'Name': u'GiftCreative'}, 678: {'Name': u'TimelessTreasuresbyB'}, 679: {'Name': u'creaspir'}, 680: {'Name': u'KnitbyShan'}, 681: {'Name': u'SweetEllasDesigns'}, 682: {'Name': u'GiniJackOriginals'}, 683: {'Name': u'AnnasFashionJewelry'}, 684: {'Name': u'oMallaMo'}, 685: {'Name': u'RoostingRobbin'}, 686: {'Name': u'imali'}, 687: {'Name': u'needleloops'}, 688: {'Name': u'KnittedBySavannah'}, 689: {'Name': u'ICraftOutsidetheBox'}, 690: {'Name': u'SewCuteQuiltAndKnit'}, 691: {'Name': u'EGHDesigns'}, 692: {'Name': u'KanopaPatterns'}, 693: {'Name': u'LorisHatShop'}, 694: {'Name': u'HandsTime'}, 695: {'Name': u'StitchKnit'}, 696: {'Name': u'LoveCityCrochet'}, 697: {'Name': u'CarlyCreatesCrafts'}, 698: {'Name': u'TheArbitraryArtisan'}, 699: {'Name': u'IstanbulCalling'}, 700: {'Name': u'LizSox'}, 701: {'Name': u'KALIFASHIONS'}, 702: {'Name': u'HarrisKnittingCloset'}, 703: {'Name': u'Turtlehawk83'}, 704: {'Name': u'Blissfulloops'}, 705: {'Name': u'SenseAndEmotions'}, 706: {'Name': u'SigiSoreget'}, 707: {'Name': u'AJoyfulCreation'}, 708: {'Name': u'MizMizaBella'}, 709: {'Name': u'OnanaKnits'}, 710: {'Name': u'MMDecoStudio'}, 711: {'Name': u'JensKnitPit'}, 712: {'Name': u'knittingboutique8'}, 713: {'Name': u'kickassvintage'}, 714: {'Name': u'LittlePandaMommy'}, 715: {'Name': u'mybabyhats'}, 716: {'Name': u'WoolFans'}, 717: {'Name': u'FloralSide'}, 718: {'Name': u'CrazyDaisyFlorist'}, 719: {'Name': u'pipisqueaks'}, 720: {'Name': u'parkie2'}, 721: {'Name': u'ChiaraBoutiqe'}, 722: {'Name': u'LeftHandWandering'}, 723: {'Name': u'knittingwinters'}, 724: {'Name': u'ShopCountryCottage'}, 725: {'Name': u'silviaol'}, 726: {'Name': u'bonnetsandbooties'}, 727: {'Name': u'EvasStudio'}, 728: {'Name': u'EllaGajewskaHATS'}, 729: {'Name': u'PyramidSkein'}, 730: {'Name': u'WayWayKnits'}, 731: {'Name': u'NicePuppy'}, 732: {'Name': u'FocusonColor'}, 733: {'Name': u'SierrasStitchery'}, 734: {'Name': u'mymamaknits'}, 735: {'Name': u'Flashfloozy'}, 736: {'Name': u'FrannysHouse'}, 737: {'Name': u'zestvintage'}, 738: {'Name': u'LoveandKnit'}, 739: {'Name': u'LittleGemsByLuisa'}, 740: {'Name': u'WhiteThorneTree'}, 741: {'Name': u'JunelloShop'}, 742: {'Name': u'FreyaEsme'}, 743: {'Name': u'KnittedLT'}, 744: {'Name': u'DosiakStyle'}, 745: {'Name': u'ZOJKAshop'}, 746: {'Name': u'knitandcurl'}, 747: {'Name': u'RedWagonKids'}, 748: {'Name': u'BonnetsnBeads'}, 749: {'Name': u'CawfeeGuy'}, 750: {'Name': u'WetHenKnits'}, 751: {'Name': u'beadedwire'}, 752: {'Name': u'BettyMarieJones'}, 753: {'Name': u'SelectKnits'}, 754: {'Name': u'ViktorijaCraft'}, 755: {'Name': u'GrahamsBazaar'}, 756: {'Name': u'CozyKnitsCoffeeBeans'}, 757: {'Name': u'KnettasKnits'}, 758: {'Name': u'HappyKnitandCrochet'}, 759: {'Name': u'KBsPaddywacks'}, 760: {'Name': u'Creationsbyclark'}, 761: {'Name': u'SELINCE'}, 762: {'Name': u'AWHatsandCrafts'}, 763: {'Name': u'SibelDesign'}, 764: {'Name': u'HouseonCherryHill'}, 765: {'Name': u'JuliaBeeCrafts'}, 766: {'Name': u'Dagaknit'}, 767: {'Name': u'thesunandtheturtle'}, 768: {'Name': u'SewEcological'}, 769: {'Name': u'SOVAknits'}, 770: {'Name': u'lilbowsandarrows'}, 771: {'Name': u'ekuboo'}, 772: {'Name': u'BBCHIC2'}, 773: {'Name': u'CELINICRAFTS'}, 774: {'Name': u'Elkestreasurechest'}, 775: {'Name': u'HandCraftedbyAnne'}, 776: {'Name': u'ASweetpeaCrafts'}, 777: {'Name': u'BonCherCreations'}, 778: {'Name': u'IslaysTerrace'}, 779: {'Name': u'cutiesvintageprettys'}, 780: {'Name': u'haloopajoop'}, 781: {'Name': u'beaconknits'}, 782: {'Name': u'MAMMBAaccessories'}, 783: {'Name': u'GoCrochetCreations'}, 784: {'Name': u'bestdressedlady'}, 785: {'Name': u'CRAZYBOOM'}, 786: {'Name': u'WormeWoole'}, 787: {'Name': u'CraftyCornishMaids'}, 788: {'Name': u'Kampsun'}, 789: {'Name': u'Volang'}, 790: {'Name': u'NataKnitwork'}, 791: {'Name': u'ShariRoseShop'}, 792: {'Name': u'AuntyJoanCrafts'}, 793: {'Name': u'MyNicePurses'}, 794: {'Name': u'vintachi'}, 795: {'Name': u'knitsplus'}, 796: {'Name': u'MarkaDecorFashion'}, 797: {'Name': u'VegaCreate'}, 798: {'Name': u'debsatticfinds'}, 799: {'Name': u'knithatsbyTom'}, 800: {'Name': u'CrazyButterflies'}, 801: {'Name': u'allearthlings'}, 802: {'Name': u'PiecesBoutique'}, 803: {'Name': u'KittyBritchesBoutiqu'}, 804: {'Name': u'SusanDeanne'}, 805: {'Name': u'AlkistiKnits'}, 806: {'Name': u'PreciousBowtique'}, 807: {'Name': u'StayWarmInStyle'}, 808: {'Name': u'fancyknits'}, 809: {'Name': u'ACraftyObsession'}, 810: {'Name': u'ShortroundsKnitwear'}, 811: {'Name': u'WoolyThinker'}, 812: {'Name': u'SillyLittleBlackCat'}, 813: {'Name': u'ChicCrochet4You'}, 814: {'Name': u'MaybushModa'}, 815: {'Name': u'EmmaJaneandJo'}, 816: {'Name': u'Nellistyle'}, 817: {'Name': u'NickelsKnittery'}, 818: {'Name': u'LovelyLegsPlus'}, 819: {'Name': u'Weknit2tog'}, 820: {'Name': u'wooolmint'}, 821: {'Name': u'Vintagebuttonhats'}, 822: {'Name': u'RekindledLove'}, 823: {'Name': u'intheLOOPdesign'}, 824: {'Name': u'NMSDesign'}, 825: {'Name': u'brittnicarter'}, 826: {'Name': u'willowandsagecreatio'}, 827: {'Name': u'KnitsForGifts'}, 828: {'Name': u'KnitandFeltbyNat'}, 829: {'Name': u'IvannaN'}, 830: {'Name': u'BeUn'}, 831: {'Name': u'KnottinghamKnits'}, 832: {'Name': u'2mice'}, 833: {'Name': u'Sheepsterscorner'}, 834: {'Name': u'TheCheshiresHat'}, 835: {'Name': u'adknit'}, 836: {'Name': u'JBRLDesign'}, 837: {'Name': u'KnittName'}, 838: {'Name': u'Studio20Designs'}, 839: {'Name': u'WomanStyleShop'}, 840: {'Name': u'KnitsandTreasures'}, 841: {'Name': u'HollysUniqueBoutique'}, 842: {'Name': u'ThePinkTheory'}, 843: {'Name': u'stickshooksandyarn'}, 844: {'Name': u'DeStashAttic'}, 845: {'Name': u'KnittedAndWarm'}, 846: {'Name': u'NookCove'}, 847: {'Name': u'TurkishFolkArts'}, 848: {'Name': u'woollybaby'}, 849: {'Name': u'LANABYSVETLANA'}, 850: {'Name': u'ATIdesign'}, 851: {'Name': u'speciallyhandmade4u'}, 852: {'Name': u'BabyHatsShoesandMore'}, 853: {'Name': u'BlossomsBeauties'}, 854: {'Name': u'KnittingMamas'}, 855: {'Name': u'DMToques'}, 856: {'Name': u'barreez'}, 857: {'Name': u'theGoodShnit'}, 858: {'Name': u'SimonaHandicraft'}, 859: {'Name': u'BusyHandsAftercrafts'}, 860: {'Name': u'SkyRainSoap'}, 861: {'Name': u'KnitStitchCross'}, 862: {'Name': u'Purl1VintageToo'}, 863: {'Name': u'CreationsbyMaris'}, 864: {'Name': u'babyknitpicks'}, 865: {'Name': u'CreeksideCharms'}, 866: {'Name': u'HahnMade'}, 867: {'Name': u'SmileyHeadSplendor'}, 868: {'Name': u'TheCraftapplePanda'}, 869: {'Name': u'barleyandflax'}, 870: {'Name': u'TwoSparrowsBoutique'}, 871: {'Name': u'ToOurMoonAndBack'}, 872: {'Name': u'VintagePatternPlace'}, 873: {'Name': u'HisforHarper'}, 874: {'Name': u'WestbrookFarm'}, 875: {'Name': u'Strickolino'}, 876: {'Name': u'PandorasBoxofKnits'}, 877: {'Name': u'SoftCozyAndWarm'}, 878: {'Name': u'BoryanacrochetBG'}, 879: {'Name': u'KsyuKnitting'}, 880: {'Name': u'craftynannie'}, 881: {'Name': u'elmroadvintage'}, 882: {'Name': u'DobroBeat'}, 883: {'Name': u'HandmadeKnitsHats'}, 884: {'Name': u'DeemervilleGold'}, 885: {'Name': u'sassytailor64'}, 886: {'Name': u'woolpleasure'}, 887: {'Name': u'Easy123'}, 888: {'Name': u'OnGoodLuck'}, 889: {'Name': u'LittleKnitsStudio'}, 890: {'Name': u'Knitographer'}, 891: {'Name': u'KnitsByKB'}, 892: {'Name': u'Jessiescrochetcorner'}, 893: {'Name': u'sewurbandesigns'}, 894: {'Name': u'MinniesFlea'}, 895: {'Name': u'CraftyHomeandMore'}, 896: {'Name': u'Florfanka'}, 897: {'Name': u'StarfrostHandicrafts'}, 898: {'Name': u'ColoradoChickCo'}, 899: {'Name': u'MrsMzSewingRoom'}, 900: {'Name': u'BeautyKnitsShop'}, 901: {'Name': u'LiLiSocks'}, 902: {'Name': u'PatchAteSmudge'}, 903: {'Name': u'sanchee'}, 904: {'Name': u'TheKnittedZooByEmily'}, 905: {'Name': u'Tebessum'}, 906: {'Name': u'WetCoastKnitter'}, 907: {'Name': u'susiedees'}, 908: {'Name': u'giddy4paisley'}, 909: {'Name': u'SewNewToMe'}, 910: {'Name': u'VirtuousDesign31'}, 911: {'Name': u'megsknitshit'}, 912: {'Name': u'KarunaHimalaya'}, 913: {'Name': u'vellichor'}, 914: {'Name': u'Ribbonandhairbows'}, 915: {'Name': u'Girlpower'}, 916: {'Name': u'KnittingByTatiana'}, 917: {'Name': u'TheCraftyRascal'}, 918: {'Name': u'NaNaWoolDesign'}, 919: {'Name': u'CreativeObsessionn'}, 920: {'Name': u'PrettyLittleBabies'}, 921: {'Name': u'Justadaydream'}, 922: {'Name': u'worldofknitting'}, 923: {'Name': u'Ednascloset'}, 924: {'Name': u'spiltmilkdesigns'}, 925: {'Name': u'MissLisBoutique'}, 926: {'Name': u'christnakosininski'}, 927: {'Name': u'ColdSnapsKnits'}, 928: {'Name': u'CozyKnitsByJeannie'}, 929: {'Name': u'SZVKNITS'}, 930: {'Name': u'APlusJewelryCrafts'}, 931: {'Name': u'OriginalKnitting'}, 932: {'Name': u'UnlimitedCraftworks'}, 933: {'Name': u'EclecticallyCampbell'}, 934: {'Name': u'SimplyWestCoast'}, 935: {'Name': u'DGDwithlove'}, 936: {'Name': u'ThreeSmallWishes'}, 937: {'Name': u'UniqueKnitDesign'}, 938: {'Name': u'Caitlinscozyknits'}, 939: {'Name': u'TokyoBlossom'}, 940: {'Name': u'foldi'}, 941: {'Name': u'NoraTones'}, 942: {'Name': u'CHUNKYBULKYKNITS'}, 943: {'Name': u'lisaswick'}, 944: {'Name': u'FliptasticClothing'}, 945: {'Name': u'cosediisa'}, 946: {'Name': u'kabotany'}, 947: {'Name': u'BeyondTheDreamStudio'}, 948: {'Name': u'AuntBsAttic'}, 949: {'Name': u'EHM365'}, 950: {'Name': u'RebeccasWool'}, 951: {'Name': u'ThePaisleyCarrot'}, 952: {'Name': u'Scribegirlme'}, 953: {'Name': u'BeijingKC'}, 954: {'Name': u'WildGreenBeauty'}, 955: {'Name': u'SoulTrail'}, 956: {'Name': u'slouchiehats'}, 957: {'Name': u'hannahleighknits'}, 958: {'Name': u'Shoesandaccessories'}, 959: {'Name': u'DapperAnnie'}, 960: {'Name': u'PandaLolipops'}, 961: {'Name': u'spinningknitting1'}, 962: {'Name': u'SarBobsy'}, 963: {'Name': u'prettyoffensive'}, 964: {'Name': u'knitonestitchtoo'}, 965: {'Name': u'AngelinaAccessories'}, 966: {'Name': u'StraightenedArrow'}, 967: {'Name': u'knitsdwarfs'}, 968: {'Name': u'CdCkDesign'}, 969: {'Name': u'GoldenPineAlpacas'}, 970: {'Name': u'bebebeecouture'}, 971: {'Name': u'WNBrunk'}, 972: {'Name': u'knitwitsusa'}, 973: {'Name': u'MurfmadeKnits'}, 974: {'Name': u'VintagePolkaShop'}, 975: {'Name': u'mermaiddesignsstore'}, 976: {'Name': u'PandaHugStore'}, 977: {'Name': u'SilverMapleKnits'}, 978: {'Name': u'HawthornStudio'}, 979: {'Name': u'MedleyofColors'}, 980: {'Name': u'OBJECTSofMATTER'}, 981: {'Name': u'CharlotteAuzou'}, 982: {'Name': u'BringSomeBling'}, 983: {'Name': u'SecondhandObsession'}, 984: {'Name': u'crystalandtaylor'}, 985: {'Name': u'RomeoRomeo'}, 986: {'Name': u'carolynscritter'}, 987: {'Name': u'KoalaBelle'}, 988: {'Name': u'CrochetByBetty'}, 989: {'Name': u'AuntieMsCrafting'}, 990: {'Name': u'Not2Shabbee'}, 991: {'Name': u'Eastcraeft'}, 992: {'Name': u'Cocomillo'}, 993: {'Name': u'totoknitskenya'}, 994: {'Name': u'BuggyBooCrafts'}, 995: {'Name': u'StormyWeatherKnits'}, 996: {'Name': u'NevadaKnits'}, 997: {'Name': u'BabyBirdz'}, 998: {'Name': u'MagooandBaloo'}, 999: {'Name': u'rocketclothing'}, 1000: {'Name': u'DebsDevineDesigns'}, 1001: {'Name': u'JillsHandmadeStuff'}, 1002: {'Name': u'SpinninAGoodYarn'}, 1003: {'Name': u'evaandjeandesigns'}, 1004: {'Name': u'JennyandPearl'}, 1005: {'Name': u'LavenderLassies'}, 1006: {'Name': u'dirtybirdiesvintage'}, 1007: {'Name': u'TutisBoutique'}, 1008: {'Name': u'KraeO'}, 1009: {'Name': u'SweetBabyJamesShop'}, 1010: {'Name': u'RubyBlueKnits'}, 1011: {'Name': u'VintageNeedleArts'}, 1012: {'Name': u'PropsandPoses'}, 1013: {'Name': u'luludress'}, 1014: {'Name': u'Razels'}, 1015: {'Name': u'LydiasCreations101'}, 1016: {'Name': u'3sistersscarfcompany'}, 1017: {'Name': u'ElliesTiaras'}, 1018: {'Name': u'TheCraftySewingBee'}, 1019: {'Name': u'Degra2'}, 1020: {'Name': u'AislingDezines'}, 1021: {'Name': u'ArielArtsKnits'}, 1022: {'Name': u'LilSweetPeaSisters'}, 1023: {'Name': u'14thStKnits'}, 1024: {'Name': u'RiverStonesFiberArts'}, 1025: {'Name': u'TurtleTreasures'}, 1026: {'Name': u'ceibohandmade'}, 1027: {'Name': u'KNITLEBITS'}, 1028: {'Name': u'PeachBlossomHats'}, 1029: {'Name': u'nanascottagehouse'}, 1030: {'Name': u'TableTopJewels'}, 1031: {'Name': u'SundialArts'}, 1032: {'Name': u'SmallEarthVintage'}, 1033: {'Name': u'MabelMadeThis'}, 1034: {'Name': u'KnitAndCrochetDesign'}, 1035: {'Name': u'BSKnitting'}, 1036: {'Name': u'PetitePrintsandProps'}, 1037: {'Name': u'MaryAliceFeltLikeIt'}, 1038: {'Name': u'FashionShop19'}, 1039: {'Name': u'Cuteling'}, 1040: {'Name': u'VIRTTARHAR'}, 1041: {'Name': u'ThePureNest'}, 1042: {'Name': u'KnittedWinterHats'}, 1043: {'Name': u'VeryCarey'}, 1044: {'Name': u'HandmadebyPaulaMary'}, 1045: {'Name': u'BearsBlanketsQuilts'}, 1046: {'Name': u'itaveroknits'}, 1047: {'Name': u'CrasiiCoco'}, 1048: {'Name': u'RosiesNoggin'}, 1049: {'Name': u'BabyBearInc'}, 1050: {'Name': u'TheKnittedHat'}, 1051: {'Name': u'QueensAccessories'}, 1052: {'Name': u'AnnaMariaLocke'}, 1053: {'Name': u'wincsike'}, 1054: {'Name': u'snapincharms'}, 1055: {'Name': u'knitaccessoriesfadik'}, 1056: {'Name': u'Aerophane'}, 1057: {'Name': u'CanadaBlissBoutique'}, 1058: {'Name': u'CDBStudio'}, 1059: {'Name': u'ALLCAPSknithats'}, 1060: {'Name': u'AllAboutStripes'}, 1061: {'Name': u'danielastange'}, 1062: {'Name': u'positivepurls'}, 1063: {'Name': u'KLizVintage'}, 1064: {'Name': u'3colon7'}, 1065: {'Name': u'SmallTownHandMade'}, 1066: {'Name': u'LadyJsHodgepodgery'}, 1067: {'Name': u'GranasCorner'}, 1068: {'Name': u'CrochetbyPalmLLC'}, 1069: {'Name': u'knittingFashion'}, 1070: {'Name': u'Ladyknitsandthings'}, 1071: {'Name': u'SylviDesigns'}, 1072: {'Name': u'TwoOfWandsShop'}, 1073: {'Name': u'MariArtFelting'}, 1074: {'Name': u'bigbangzero'}, 1075: {'Name': u'PacaPooFarms'}, 1076: {'Name': u'WhereMyStitchesAtCH'}, 1077: {'Name': u'MariasNeedleArt'}, 1078: {'Name': u'FreshtoDeathVintage'}, 1079: {'Name': u'WeThreePiggies'}, 1080: {'Name': u'takemyinventory'}, 1081: {'Name': u'FineHandMadeClothes'}, 1082: {'Name': u'Hatsforhounds'}, 1083: {'Name': u'KnittyFingers'}, 1084: {'Name': u'beaniesbybubba'}, 1085: {'Name': u'ColorfulTrends'}, 1086: {'Name': u'WinterWoollys'}, 1087: {'Name': u'pompomhats'}, 1088: {'Name': u'LongHaulAccessories'}, 1089: {'Name': u'TiffSitsandKnits'}, 1090: {'Name': u'BigFirRidge'}, 1091: {'Name': u'MarryGKnitCrochet'}, 1092: {'Name': u'Dinobabies'}, 1093: {'Name': u'HeartStrings107'}, 1094: {'Name': u'ClosetbyFinn'}, 1095: {'Name': u'KnitzAndFeltz'}, 1096: {'Name': u'accessoriesbynez'}, 1097: {'Name': u'recombinantrider'}, 1098: {'Name': u'BorealisHandicrafts'}, 1099: {'Name': u'GoldenYarn'}, 1100: {'Name': u'HeartNSoleCreations'}, 1101: {'Name': u'DawnLdesigns'}, 1102: {'Name': u'YASEMINYASEMIN'}, 1103: {'Name': u'IvithjasCreations'}, 1104: {'Name': u'PIQI'}, 1105: {'Name': u'ElleVintage369'}, 1106: {'Name': u'FairlyKnit'}, 1107: {'Name': u'ForTheGuys'}, 1108: {'Name': u'AgneseKnits'}, 1109: {'Name': u'EadoVintage'}, 1110: {'Name': u'JYCCreations'}, 1111: {'Name': u'CarterPEACEworks'}, 1112: {'Name': u'VandOUA'}, 1113: {'Name': u'CrochetCreationsbyMa'}, 1114: {'Name': u'Ricocoinc'}, 1115: {'Name': u'baldyhillhomemade'}, 1116: {'Name': u'YouNeedMoreFiber'}, 1117: {'Name': u'laceandcable'}, 1118: {'Name': u'KnottyOrNiceKnits'}, 1119: {'Name': u'HollysAccessories'}, 1120: {'Name': u'wearnative'}, 1121: {'Name': u'YarnBarn305'}, 1122: {'Name': u'bb2213'}, 1123: {'Name': u'LacysLittleAcre'}, 1124: {'Name': u'TamsCraftyKnits'}, 1125: {'Name': u'RobinsNestBoutique'}, 1126: {'Name': u'atiltKC'}, 1127: {'Name': u'IngaDesignShop'}, 1128: {'Name': u'GataJewelry'}, 1129: {'Name': u'LaReserveDesign'}, 1130: {'Name': u'Pikeys'}, 1131: {'Name': u'9ElizabethStreet'}, 1132: {'Name': u'yuliatko'}, 1133: {'Name': u'KatySueKnits'}, 1134: {'Name': u'TheYarnOverProject'}, 1135: {'Name': u'EnchantedKnits'}, 1136: {'Name': u'Iheartbeaniebabies'}, 1137: {'Name': u'ImperialVintageBTQ'}, 1138: {'Name': u'PauliszkaKnits'}, 1139: {'Name': u'ZAPrix'}, 1140: {'Name': u'NewbornEwe'}, 1141: {'Name': u'artwardrobe'}, 1142: {'Name': u'SouthernMomCreations'}, 1143: {'Name': u'leafamore'}, 1144: {'Name': u'HandmadeHillShop'}, 1145: {'Name': u'justalittleknitter'}, 1146: {'Name': u'HobiholikFashion'}, 1147: {'Name': u'contesdemaison'}, 1148: {'Name': u'AntelopeFlats'}, 1149: {'Name': u'HandmadeByEvelien'}, 1150: {'Name': u'selfex'}, 1151: {'Name': u'BlossomsByJuneLynn'}, 1152: {'Name': u'caginas'}, 1153: {'Name': u'electricbunnycrafts'}, 1154: {'Name': u'Fanchi'}, 1155: {'Name': u'lienra'}, 1156: {'Name': u'ReignlandConcept'}, 1157: {'Name': u'beanieknitsnmore'}, 1158: {'Name': u'GingerBearKnitwear'}, 1159: {'Name': u'MyBeautifulLifeShop'}, 1160: {'Name': u'GrannieKayGiftsCraft'}, 1161: {'Name': u'Savvyskeins'}, 1162: {'Name': u'NeckLyfe'}, 1163: {'Name': u'artesana'}, 1164: {'Name': u'KatrinKnitting'}, 1165: {'Name': u'ScandinavianCrafts'}, 1166: {'Name': u'MarikaHandKnits'}, 1167: {'Name': u'GrandmaDragonsAttic'}, 1168: {'Name': u'NorthStarrVintage'}, 1169: {'Name': u'quatresaison'}, 1170: {'Name': u'mioukids'}, 1171: {'Name': u'KnittingDailyShop'}, 1172: {'Name': u'byMagic'}, 1173: {'Name': u'homelab'}, 1174: {'Name': u'KadyLadyLoo'}, 1175: {'Name': u'KnittyFashions'}, 1176: {'Name': u'LuzyFlor'}, 1177: {'Name': u'SexyCrochetByOlga'}, 1178: {'Name': u'CutseyOnEtsy'}, 1179: {'Name': u'CarameloBoutique'}, 1180: {'Name': u'GiuliaKnit'}, 1181: {'Name': u'AlaskanKnitGifts'}, 1182: {'Name': u'KlotoCute'}, 1183: {'Name': u'Bestcrochets'}, 1184: {'Name': u'irinacarmen'}, 1185: {'Name': u'HandKnitByHanna'}, 1186: {'Name': u'TravelingCarousel'}, 1187: {'Name': u'YarnsInMotion'}, 1188: {'Name': u'DonizBaby'}, 1189: {'Name': u'KnitsbyVeronica'}, 1190: {'Name': u'HandmakeOrgUa'}, 1191: {'Name': u'SimplyPlaying1'}, 1192: {'Name': u'AnjaClauberg'}, 1193: {'Name': u'kiFaitMain'}, 1194: {'Name': u'LittleBelleBelle'}, 1195: {'Name': u'BugEatersKnits'}, 1196: {'Name': u'PETALKNITS'}, 1197: {'Name': u'jiloona'}, 1198: {'Name': u'ElenaLstudio'}, 1199: {'Name': u'AnnaleesAccents'}, 1200: {'Name': u'LesleysHandknits'}, 1201: {'Name': u'LoveFuzz'}, 1202: {'Name': u'LaimaShop'}, 1203: {'Name': u'MinxVTG'}, 1204: {'Name': u'MarvelousMittens'}, 1205: {'Name': u'LoveUnspokenLLC'}, 1206: {'Name': u'StyleandSalvage'}, 1207: {'Name': u'kozikreation'}, 1208: {'Name': u'KemiCreations'}, 1209: {'Name': u'CreatiKnit'}, 1210: {'Name': u'Bellaknitsandgiggles'}, 1211: {'Name': u'DanaFunKnits'}, 1212: {'Name': u'SharonsHomeSewn'}, 1213: {'Name': u'RebeccasRoomKnitting'}, 1214: {'Name': u'LeMarrakechStore'}, 1215: {'Name': u'GieseDeseiGns'}, 1216: {'Name': u'AnEpicStitch'}, 1217: {'Name': u'RubyHeartCrafts'}, 1218: {'Name': u'fone'}, 1219: {'Name': u'KnitteryRow'}, 1220: {'Name': u'Nineteenzerosix'}, 1221: {'Name': u'TheKnotHaus'}, 1222: {'Name': u'LidamseyKnits'}, 1223: {'Name': u'Knitrhapsody'}, 1224: {'Name': u'Sister21'}, 1225: {'Name': u'SweetNancyVintage'}, 1226: {'Name': u'AirbrushStuf'}, 1227: {'Name': u'topazpearls'}, 1228: {'Name': u'WooolBaby'}, 1229: {'Name': u'kissproof'}, 1230: {'Name': u'BeautifulSunrise'}, 1231: {'Name': u'KnitandLoomstudio'}, 1232: {'Name': u'ohbAby1112'}, 1233: {'Name': u'Handmadecrafter'}, 1234: {'Name': u'CrackedPistachios'}, 1235: {'Name': u'TheRuffledbum'}, 1236: {'Name': u'MindofMolly'}, 1237: {'Name': u'Janeswhatnots'}, 1238: {'Name': u'upupstar'}, 1239: {'Name': u'FairyTaleNightmares'}, 1240: {'Name': u'WoolFeltArt'}, 1241: {'Name': u'TulsaToys'}, 1242: {'Name': u'FoxiesFancy'}, 1243: {'Name': u'debrobinson'}, 1244: {'Name': u'mishsworld'}, 1245: {'Name': u'TanglinKnots'}, 1246: {'Name': u'Tuttolv'}, 1247: {'Name': u'BlueStockinette'}, 1248: {'Name': u'socksandmittens'}, 1249: {'Name': u'lemonsandcream'}, 1250: {'Name': u'WestEndCo'}, 1251: {'Name': u'LittleEvaDiva'}, 1252: {'Name': u'twinkletoesmarket'}, 1253: {'Name': u'DonnasWhimsicals'}, 1254: {'Name': u'smartcrochet'}, 1255: {'Name': u'lillamormor'}, 1256: {'Name': u'FanmMon'}, 1257: {'Name': u'scarfnurlu'}, 1258: {'Name': u'BlackRain4Handmade'}, 1259: {'Name': u'TheCraftinScot'}, 1260: {'Name': u'SnuggleMoose'}, 1261: {'Name': u'QuietUnrest2'}, 1262: {'Name': u'GusandRosieU'}, 1263: {'Name': u'CoconutChic'}, 1264: {'Name': u'KreationsByKirstenL'}, 1265: {'Name': u'KALEIDOO'}, 1266: {'Name': u'GiftsbyGenie'}, 1267: {'Name': u'NSvintage'}, 1268: {'Name': u'BIRKENknits'}, 1269: {'Name': u'lartcraft'}, 1270: {'Name': u'AnoushkaDesign'}, 1271: {'Name': u'NeutralNellies'}, 1272: {'Name': u'nutsaboutknitting'}, 1273: {'Name': u'pinkcandystudio'}, 1274: {'Name': u'SouthvilleSpitters'}, 1275: {'Name': u'KnitsbyAriel'}, 1276: {'Name': u'LeNidDuMerleHandKnit'}, 1277: {'Name': u'thewoolypossum'}, 1278: {'Name': u'earthandberries'}, 1279: {'Name': u'MeridianMade'}, 1280: {'Name': u'ThePurplePeaPod'}, 1281: {'Name': u'ladouchka'}, 1282: {'Name': u'EPSILONstudio'}, 1283: {'Name': u'PupaShop'}, 1284: {'Name': u'InTheRedwoods'}, 1285: {'Name': u'lucylev'}, 1286: {'Name': u'freelotus3'}, 1287: {'Name': u'countrycuttins'}, 1288: {'Name': u'HELGASYARNDESIGNS'}, 1289: {'Name': u'fashioned4you'}, 1290: {'Name': u'Gitasknitwear'}, 1291: {'Name': u'mkneedlework'}, 1292: {'Name': u'KayEmilyDesigns'}, 1293: {'Name': u'elkasoftwear'}, 1294: {'Name': u'PhylPhil'}, 1295: {'Name': u'IvetaStasiulioniene'}, 1296: {'Name': u'LovableProps'}, 1297: {'Name': u'MinitaStudio'}, 1298: {'Name': u'galafilc'}, 1299: {'Name': u'suznews'}, 1300: {'Name': u'cozyknitsforyou'}, 1301: {'Name': u'JoAnnaSeiter'}, 1302: {'Name': u'KittlesKnits'}, 1303: {'Name': u'CozyPhotoProps'}, 1304: {'Name': u'Lanaterapia'}, 1305: {'Name': u'callmemimi'}, 1306: {'Name': u'ogood'}, 1307: {'Name': u'nerina52'}, 1308: {'Name': u'ShopRainyDayCrafts'}, 1309: {'Name': u'JKnitting'}, 1310: {'Name': u'anodtomod'}, 1311: {'Name': u'BebeOhLaLaEtsy'}, 1312: {'Name': u'JuliaHats'}, 1313: {'Name': u'FreeSpiritHats'}, 1314: {'Name': u'epiknitandcrochet'}, 1315: {'Name': u'MarkadecorPremium'}, 1316: {'Name': u'reflectionsbyds'}, 1317: {'Name': u'iHappyItems'}, 1318: {'Name': u'ogracec'}, 1319: {'Name': u'LibertyKnits'}, 1320: {'Name': u'HeartsRunFree'}, 1321: {'Name': u'Africancrab'}, 1322: {'Name': u'lanapara'}, 1323: {'Name': u'LittleOohLaLa'}, 1324: {'Name': u'Klosetkrafter'}, 1325: {'Name': u'Simplyimagineknit'}, 1326: {'Name': u'IWENhats'}, 1327: {'Name': u'ThingyThingz'}, 1328: {'Name': u'GloriousKnittingShop'}, 1329: {'Name': u'franticcrafter'}, 1330: {'Name': u'LuVitaChic'}, 1331: {'Name': u'handylittleme'}, 1332: {'Name': u'KarryDesigns'}, 1333: {'Name': u'ZoZosAccessories'}, 1334: {'Name': u'JillyMix'}, 1335: {'Name': u'GMolly'}, 1336: {'Name': u'whynotagain'}, 1337: {'Name': u'Rivelo'}, 1338: {'Name': u'NKnits4Baby'}, 1339: {'Name': u'ColourandCotton'}, 1340: {'Name': u'Peachandkiwi'}, 1341: {'Name': u'HandKnitHandKnit'}, 1342: {'Name': u'TheOldStillhouse'}, 1343: {'Name': u'YarnGiftsHandmade'}, 1344: {'Name': u'NesrinArt'}, 1345: {'Name': u'2olddivas'}, 1346: {'Name': u'KeepingKnitReal'}, 1347: {'Name': u'PetiteLeRu'}, 1348: {'Name': u'JustPatTreasuresshop'}, 1349: {'Name': u'spinningsheep'}, 1350: {'Name': u'EntireLeighHandMade'}, 1351: {'Name': u'KidsKnitHatsNCrafts'}, 1352: {'Name': u'NorthwestVintageCo'}, 1353: {'Name': u'FairfaxDavis'}, 1354: {'Name': u'UNDIIN'}, 1355: {'Name': u'AnthropologieAngie'}, 1356: {'Name': u'PoppyWind'}, 1357: {'Name': u'RoseKingsCreations'}, 1358: {'Name': u'dallynmade'}, 1359: {'Name': u'HADASSAshop'}, 1360: {'Name': u'BrianaKcrochet'}, 1361: {'Name': u'anchorintime'}, 1362: {'Name': u'Jetonarme'}, 1363: {'Name': u'purescarf'}, 1364: {'Name': u'CablesandMore'}, 1365: {'Name': u'RusticRootsFarm'}, 1366: {'Name': u'BradleyFamilyCrafts'}, 1367: {'Name': u'GreenCanyonTradingCo'}, 1368: {'Name': u'HandMadeLana'}, 1369: {'Name': u'EMERENknitting'}, 1370: {'Name': u'mylittlecreations01'}, 1371: {'Name': u'JeannieGrayKnits'}, 1372: {'Name': u'TheKnittedArts'}, 1373: {'Name': u'CripKnits'}, 1374: {'Name': u'HanzeePanzeeCreation'}, 1375: {'Name': u'KnitleyRoad'}, 1376: {'Name': u'TheLittleHipsters'}, 1377: {'Name': u'InkaBoutique'}, 1378: {'Name': u'jkdesignshop'}, 1379: {'Name': u'StrawberryHandicraft'}, 1380: {'Name': u'woolture'}, 1381: {'Name': u'KarolinaDesigns'}, 1382: {'Name': u'AmandasKnitTreasures'}, 1383: {'Name': u'TimelessMemoryPrints'}, 1384: {'Name': u'SuzanneSullivan'}, 1385: {'Name': u'MikyNewbornProps'}, 1386: {'Name': u'ceriscioc'}, 1387: {'Name': u'FrenchSoulKnittery'}, 1388: {'Name': u'MorningGlorious'}, 1389: {'Name': u'CHICaDees'}, 1390: {'Name': u'HandmadeGiftsByNelly'}, 1391: {'Name': u'allbyInna'}, 1392: {'Name': u'CraftsArtsMoreofPA'}, 1393: {'Name': u'InnerGarden'}, 1394: {'Name': u'JennaKaeKnitCrochet'}, 1395: {'Name': u'delectare'}, 1396: {'Name': u'CozyCover'}, 1397: {'Name': u'SueBeesShop'}, 1398: {'Name': u'MagicalLandPhotoProp'}, 1399: {'Name': u'evefashion'}, 1400: {'Name': u'AllAboutKnit'}, 1401: {'Name': u'CherryCorners'}, 1402: {'Name': u'MihasKnittingShop'}, 1403: {'Name': u'GoldenHandsDesign'}, 1404: {'Name': u'debbyware'}, 1405: {'Name': u'OffTheKHuff'}, 1406: {'Name': u'DelicateDebuts'}, 1407: {'Name': u'StorylandVintage'}, 1408: {'Name': u'MelodysMakings'}, 1409: {'Name': u'FloAtelier'}, 1410: {'Name': u'ChiefNomad'}, 1411: {'Name': u'dagmarabuczek'}, 1412: {'Name': u'JennuinelyMadeCrafts'}, 1413: {'Name': u'StorkandMe'}, 1414: {'Name': u'IdleHourCrafts'}, 1415: {'Name': u'GrannyKnowsBest'}, 1416: {'Name': u'GabrielleJustine'}, 1417: {'Name': u'RusticRoadBoutique'}, 1418: {'Name': u'Periay'}, 1419: {'Name': u'Objeshop'}, 1420: {'Name': u'teteormayka'}, 1421: {'Name': u'BoutiqueDeMarcipan'}, 1422: {'Name': u'corgipal'}, 1423: {'Name': u'FeltedFashion'}, 1424: {'Name': u'pkddod'}, 1425: {'Name': u'Knitrx'}, 1426: {'Name': u'naryaboutique'}, 1427: {'Name': u'knitix'}, 1428: {'Name': u'debsKidstuff'}, 1429: {'Name': u'ScarfLovers'}, 1430: {'Name': u'aviena'}, 1431: {'Name': u'LintMonsterCreations'}, 1432: {'Name': u'dannilittle'}, 1433: {'Name': u'chloeheartsowls'}, 1434: {'Name': u'graceandoscar'}, 1435: {'Name': u'BotonDeFlor'}, 1436: {'Name': u'NeutralNursery'}, 1437: {'Name': u'adornsnut'}, 1438: {'Name': u'FamilySpecialGifts'}, 1439: {'Name': u'LuLusWoobies'}, 1440: {'Name': u'LittleAngelTouch'}, 1441: {'Name': u'MadeByFrancy'}, 1442: {'Name': u'StarsWear'}, 1443: {'Name': u'plphotoprops'}, 1444: {'Name': u'MomentsInTwine'}, 1445: {'Name': u'KnottyKnitGoods'}, 1446: {'Name': u'moviestarjewelry'}, 1447: {'Name': u'FruitofPhalanges'}, 1448: {'Name': u'OneOfAKindKid'}, 1449: {'Name': u'KnitBabyCouture'}, 1450: {'Name': u'SownThreadsClothing'}, 1451: {'Name': u'willowsandwool'}, 1452: {'Name': u'Blissfulinspiration1'}, 1453: {'Name': u'KnitNKnots'}, 1454: {'Name': u'brokemarys'}, 1455: {'Name': u'BoldVictoryCrochet'}, 1456: {'Name': u'ShirleyKnits'}, 1457: {'Name': u'2Fun4Words'}, 1458: {'Name': u'MilMon'}, 1459: {'Name': u'CreationsbyTiffyD'}, 1460: {'Name': u'CCCrochets'}, 1461: {'Name': u'OurFarmstead'}, 1462: {'Name': u'NaRoKnit'}, 1463: {'Name': u'EWEniquelyKnit'}, 1464: {'Name': u'MeadowsTooMelmark'}, 1465: {'Name': u'CreationsJasmine'}, 1466: {'Name': u'ANNAandIRENE'}, 1467: {'Name': u'GrannyJack'}, 1468: {'Name': u'Genuique'}, 1469: {'Name': u'DinaStyleKnits'}, 1470: {'Name': u'CozyLamb'}, 1471: {'Name': u'BoutiqueDeElite'}, 1472: {'Name': u'Blackcatmeowknits'}, 1473: {'Name': u'LaribellaHAT'}, 1474: {'Name': u'febressfashion'}, 1475: {'Name': u'BreezyRidgeAlpacas'}, 1476: {'Name': u'InspiracjeJolanty'}, 1477: {'Name': u'RockabillyButtercup'}, 1478: {'Name': u'TTCrochetStyle'}, 1479: {'Name': u'candlecane123'}, 1480: {'Name': u'ChickKnitbyKristie'}, 1481: {'Name': u'Oceanlvrcrafts'}, 1482: {'Name': u'LaurelandReeve'}, 1483: {'Name': u'MADEVALINEN'}, 1484: {'Name': u'sweetvioletsdesigns'}, 1485: {'Name': u'KnitSimplicity'}, 1486: {'Name': u'Rarejewelry4You'}, 1487: {'Name': u'bySol'}, 1488: {'Name': u'LazyTcrochet'}, 1489: {'Name': u'ChloeAndEvie'}, 1490: {'Name': u'HodgepodgeCreationz'}, 1491: {'Name': u'Rebelamb'}, 1492: {'Name': u'SwanJay'}, 1493: {'Name': u'GreenGypsyGoods'}, 1494: {'Name': u'Momtoast'}, 1495: {'Name': u'KnittingCarnival'}, 1496: {'Name': u'BocajandCo'}, 1497: {'Name': u'KnittingStory'}, 1498: {'Name': u'ennadoolf'}, 1499: {'Name': u'THESugarandStitches'}, 1500: {'Name': u'MossieShop'}, 1501: {'Name': u'2knit2purl'}, 1502: {'Name': u'Junikid'}, 1503: {'Name': u'KnitsDuNord'}, 1504: {'Name': u'CharlotteCotBlankets'}, 1505: {'Name': u'Knit360five'}, 1506: {'Name': u'ManonKnitting'}, 1507: {'Name': u'topdraweryarns'}, 1508: {'Name': u'mikmakwinkel'}, 1509: {'Name': u'formalhouse'}, 1510: {'Name': u'MyCreationsByCarol'}, 1511: {'Name': u'elanknits'}, 1512: {'Name': u'KnitaFrolic'}, 1513: {'Name': u'HappyHappyKnitty'}, 1514: {'Name': u'yarningsbyseanna'}, 1515: {'Name': u'sylviaslace'}, 1516: {'Name': u'HEIRLOOMMIX'}, 1517: {'Name': u'countrygarden77'}, 1518: {'Name': u'CatPurrKnitting'}, 1519: {'Name': u'Muza'}, 1520: {'Name': u'LaVintageByMissPJ55'}, 1521: {'Name': u'THEWANTEDSHEEP'}, 1522: {'Name': u'ThatsSewJudy'}, 1523: {'Name': u'Teddyhug'}, 1524: {'Name': u'RuffleMania'}, 1525: {'Name': u'HEraMade'}, 1526: {'Name': u'GrammasKnittedGifts'}, 1527: {'Name': u'MamasTeddyBear'}, 1528: {'Name': u'TheDelightfulDay'}, 1529: {'Name': u'HappyChoiceKnits'}, 1530: {'Name': u'MissMaysMomsKnits'}, 1531: {'Name': u'AfonsoWay'}, 1532: {'Name': u'CherryDollyFace'}, 1533: {'Name': u'lovemyknits'}, 1534: {'Name': u'FargoCoreCon'}, 1535: {'Name': u'SellingWarmth'}, 1536: {'Name': u'FaunaKnits'}, 1537: {'Name': u'IsolaHandmade'}, 1538: {'Name': u'cherryREVOLVER'}, 1539: {'Name': u'Madfindz'}, 1540: {'Name': u'Letricott'}, 1541: {'Name': u'BonniesCinematheque'}, 1542: {'Name': u'KnitGoodWomanKnit'}, 1543: {'Name': u'RedGreenShop'}, 1544: {'Name': u'MountainKnitwear'}, 1545: {'Name': u'YailsCraftCorner'}, 1546: {'Name': u'DiVerseBlessings'}, 1547: {'Name': u'KnitsWithLoveByKP'}, 1548: {'Name': u'Knits4Noggins'}, 1549: {'Name': u'WoolenViolet'}, 1550: {'Name': u'VirgoArt'}, 1551: {'Name': u'TheHumbleSeamstress'}, 1552: {'Name': u'GrammysCustomCrochet'}, 1553: {'Name': u'RNNan13'}, 1554: {'Name': u'ReikiKnits'}}\n",
        "Puik\n",
        "MyKnitCroch"
       ]
      },
      {
       "output_type": "stream",
       "stream": "stdout",
       "text": [
        "\n",
        "SandyCoastalDesigns"
       ]
      },
      {
       "output_type": "stream",
       "stream": "stdout",
       "text": [
        "\n",
        "viafashion"
       ]
      },
      {
       "output_type": "stream",
       "stream": "stdout",
       "text": [
        "\n",
        "MaxMelody"
       ]
      },
      {
       "output_type": "stream",
       "stream": "stdout",
       "text": [
        "\n",
        "knittingtreasures"
       ]
      },
      {
       "output_type": "stream",
       "stream": "stdout",
       "text": [
        "\n",
        "Ebruk"
       ]
      },
      {
       "output_type": "stream",
       "stream": "stdout",
       "text": [
        "\n",
        "SunshineBabyProps"
       ]
      },
      {
       "output_type": "stream",
       "stream": "stdout",
       "text": [
        "\n",
        "pixiebell"
       ]
      },
      {
       "output_type": "stream",
       "stream": "stdout",
       "text": [
        "\n",
        "accessoriesbyrita"
       ]
      },
      {
       "output_type": "stream",
       "stream": "stdout",
       "text": [
        "\n",
        "SENNURSASA"
       ]
      },
      {
       "output_type": "stream",
       "stream": "stdout",
       "text": [
        "\n",
        "effybags"
       ]
      },
      {
       "output_type": "stream",
       "stream": "stdout",
       "text": [
        "\n",
        "ileaiye"
       ]
      },
      {
       "output_type": "stream",
       "stream": "stdout",
       "text": [
        "\n",
        "zukas"
       ]
      },
      {
       "output_type": "stream",
       "stream": "stdout",
       "text": [
        "\n",
        "StripesnCables"
       ]
      },
      {
       "output_type": "stream",
       "stream": "stdout",
       "text": [
        "\n",
        "LurayKnitwear"
       ]
      },
      {
       "output_type": "stream",
       "stream": "stdout",
       "text": [
        "\n",
        "HatsByHollyJoy"
       ]
      },
      {
       "output_type": "stream",
       "stream": "stdout",
       "text": [
        "\n",
        "TheMadRabbitShoppe"
       ]
      },
      {
       "output_type": "stream",
       "stream": "stdout",
       "text": [
        "\n",
        "PrettyBagsByMia"
       ]
      },
      {
       "output_type": "stream",
       "stream": "stdout",
       "text": [
        "\n",
        "LoopsAndLines"
       ]
      },
      {
       "output_type": "stream",
       "stream": "stdout",
       "text": [
        "\n",
        "Regathered"
       ]
      },
      {
       "output_type": "stream",
       "stream": "stdout",
       "text": [
        "\n",
        "MomohanaKobo"
       ]
      },
      {
       "output_type": "stream",
       "stream": "stdout",
       "text": [
        "\n",
        "HandknitsByLori"
       ]
      },
      {
       "output_type": "stream",
       "stream": "stdout",
       "text": [
        "\n",
        "RelovedFabrics"
       ]
      },
      {
       "output_type": "stream",
       "stream": "stdout",
       "text": [
        "\n",
        "LudMilaBoutique"
       ]
      },
      {
       "output_type": "stream",
       "stream": "stdout",
       "text": [
        "\n",
        "Ifonka"
       ]
      },
      {
       "output_type": "stream",
       "stream": "stdout",
       "text": [
        "\n",
        "BouquetSpecialDesign"
       ]
      },
      {
       "output_type": "stream",
       "stream": "stdout",
       "text": [
        "\n",
        "PoshKiddosapparel"
       ]
      },
      {
       "output_type": "stream",
       "stream": "stdout",
       "text": [
        "\n",
        "ShopLuluandRoo"
       ]
      },
      {
       "output_type": "stream",
       "stream": "stdout",
       "text": [
        "\n",
        "HootersHall"
       ]
      },
      {
       "output_type": "stream",
       "stream": "stdout",
       "text": [
        "\n",
        "SoftyWooly"
       ]
      },
      {
       "output_type": "stream",
       "stream": "stdout",
       "text": [
        "\n",
        "myfashioncreations"
       ]
      },
      {
       "output_type": "stream",
       "stream": "stdout",
       "text": [
        "\n",
        "PracticalArtByLaura"
       ]
      },
      {
       "output_type": "stream",
       "stream": "stdout",
       "text": [
        "\n",
        "WoollywonderKnits"
       ]
      },
      {
       "output_type": "stream",
       "stream": "stdout",
       "text": [
        "\n",
        "DollphinShowRoom"
       ]
      },
      {
       "output_type": "stream",
       "stream": "stdout",
       "text": [
        "\n",
        "IfonBabyLand"
       ]
      },
      {
       "output_type": "stream",
       "stream": "stdout",
       "text": [
        "\n",
        "strawberrycouture"
       ]
      },
      {
       "output_type": "stream",
       "stream": "stdout",
       "text": [
        "\n",
        "SlouchyBeanie"
       ]
      },
      {
       "output_type": "stream",
       "stream": "stdout",
       "text": [
        "\n",
        "ReinetteClothing"
       ]
      },
      {
       "output_type": "stream",
       "stream": "stdout",
       "text": [
        "\n",
        "BaByPrOdUcTsByGaLiNa"
       ]
      },
      {
       "output_type": "stream",
       "stream": "stdout",
       "text": [
        "\n",
        "SmallandLovely"
       ]
      },
      {
       "output_type": "stream",
       "stream": "stdout",
       "text": [
        "\n",
        "Sawu"
       ]
      },
      {
       "output_type": "stream",
       "stream": "stdout",
       "text": [
        "\n",
        "UpNorthKnits"
       ]
      },
      {
       "output_type": "stream",
       "stream": "stdout",
       "text": [
        "\n",
        "designbcb"
       ]
      },
      {
       "output_type": "stream",
       "stream": "stdout",
       "text": [
        "\n",
        "natalya1905"
       ]
      },
      {
       "output_type": "stream",
       "stream": "stdout",
       "text": [
        "\n",
        "LoonMtEmbroidnCrafts"
       ]
      },
      {
       "output_type": "stream",
       "stream": "stdout",
       "text": [
        "\n",
        "lanadearg"
       ]
      },
      {
       "output_type": "stream",
       "stream": "stdout",
       "text": [
        "\n",
        "KnitAndCrochetLAND"
       ]
      },
      {
       "output_type": "stream",
       "stream": "stdout",
       "text": [
        "\n",
        "earflaphats"
       ]
      },
      {
       "output_type": "stream",
       "stream": "stdout",
       "text": [
        "\n",
        "SoftKnitDreams"
       ]
      },
      {
       "output_type": "stream",
       "stream": "stdout",
       "text": [
        "\n",
        "OhBoyHandmade"
       ]
      },
      {
       "output_type": "stream",
       "stream": "stdout",
       "text": [
        "\n",
        "SchoolSpiritKnits"
       ]
      },
      {
       "output_type": "stream",
       "stream": "stdout",
       "text": [
        "\n",
        "PandoraSpocks"
       ]
      },
      {
       "output_type": "stream",
       "stream": "stdout",
       "text": [
        "\n",
        "Vacationhouse"
       ]
      },
      {
       "output_type": "stream",
       "stream": "stdout",
       "text": [
        "\n",
        "FarrellFibers"
       ]
      },
      {
       "output_type": "stream",
       "stream": "stdout",
       "text": [
        "\n",
        "lajumpinbean"
       ]
      },
      {
       "output_type": "stream",
       "stream": "stdout",
       "text": [
        "\n",
        "PIYOYO"
       ]
      },
      {
       "output_type": "stream",
       "stream": "stdout",
       "text": [
        "\n",
        "JolantaKnit"
       ]
      },
      {
       "output_type": "stream",
       "stream": "stdout",
       "text": [
        "\n",
        "hilaryfrazier"
       ]
      },
      {
       "output_type": "stream",
       "stream": "stdout",
       "text": [
        "\n",
        "MyCrochetDesign"
       ]
      },
      {
       "output_type": "stream",
       "stream": "stdout",
       "text": [
        "\n",
        "Scarf4you"
       ]
      },
      {
       "output_type": "stream",
       "stream": "stdout",
       "text": [
        "\n",
        "BlablaBlythe"
       ]
      },
      {
       "output_type": "stream",
       "stream": "stdout",
       "text": [
        "\n",
        "BoPeepsBonnets"
       ]
      },
      {
       "output_type": "stream",
       "stream": "stdout",
       "text": [
        "\n",
        "WodCreate"
       ]
      },
      {
       "output_type": "stream",
       "stream": "stdout",
       "text": [
        "\n",
        "IrmianDesign"
       ]
      },
      {
       "output_type": "stream",
       "stream": "stdout",
       "text": [
        "\n",
        "BabyPropBox"
       ]
      },
      {
       "output_type": "stream",
       "stream": "stdout",
       "text": [
        "\n",
        "tailorguy"
       ]
      },
      {
       "output_type": "stream",
       "stream": "stdout",
       "text": [
        "\n",
        "lililio"
       ]
      },
      {
       "output_type": "stream",
       "stream": "stdout",
       "text": [
        "\n",
        "PlukeShop"
       ]
      },
      {
       "output_type": "stream",
       "stream": "stdout",
       "text": [
        "\n",
        "LittleAsAccessories"
       ]
      },
      {
       "output_type": "stream",
       "stream": "stdout",
       "text": [
        "\n",
        "OffTheHookHats"
       ]
      },
      {
       "output_type": "stream",
       "stream": "stdout",
       "text": [
        "\n",
        "CottonPickings"
       ]
      },
      {
       "output_type": "stream",
       "stream": "stdout",
       "text": [
        "\n",
        "KadensCloset"
       ]
      },
      {
       "output_type": "stream",
       "stream": "stdout",
       "text": [
        "\n",
        "SueMaun"
       ]
      },
      {
       "output_type": "stream",
       "stream": "stdout",
       "text": [
        "\n",
        "EllenaKnits"
       ]
      },
      {
       "output_type": "stream",
       "stream": "stdout",
       "text": [
        "\n",
        "Knitzbybeansknots"
       ]
      },
      {
       "output_type": "stream",
       "stream": "stdout",
       "text": [
        "\n",
        "MatanteGe"
       ]
      },
      {
       "output_type": "stream",
       "stream": "stdout",
       "text": [
        "\n",
        "CableMeCozy"
       ]
      },
      {
       "output_type": "stream",
       "stream": "stdout",
       "text": [
        "\n",
        "PeonyKnits"
       ]
      },
      {
       "output_type": "stream",
       "stream": "stdout",
       "text": [
        "\n",
        "WonderWoollens"
       ]
      },
      {
       "output_type": "stream",
       "stream": "stdout",
       "text": [
        "\n",
        "BabyKDesigns"
       ]
      },
      {
       "output_type": "stream",
       "stream": "stdout",
       "text": [
        "\n",
        "naptimedesigners"
       ]
      },
      {
       "output_type": "stream",
       "stream": "stdout",
       "text": [
        "\n",
        "starlightknits"
       ]
      },
      {
       "output_type": "stream",
       "stream": "stdout",
       "text": [
        "\n",
        "TaniaHand"
       ]
      },
      {
       "output_type": "stream",
       "stream": "stdout",
       "text": [
        "\n",
        "Bohoinfinity"
       ]
      },
      {
       "output_type": "stream",
       "stream": "stdout",
       "text": [
        "\n",
        "Knittingchop"
       ]
      },
      {
       "output_type": "stream",
       "stream": "stdout",
       "text": [
        "\n",
        "dreahsdesigns"
       ]
      },
      {
       "output_type": "stream",
       "stream": "stdout",
       "text": [
        "\n",
        "JandEdoodles"
       ]
      },
      {
       "output_type": "stream",
       "stream": "stdout",
       "text": [
        "\n",
        "mynoush"
       ]
      },
      {
       "output_type": "stream",
       "stream": "stdout",
       "text": [
        "\n",
        "beatknits"
       ]
      },
      {
       "output_type": "stream",
       "stream": "stdout",
       "text": [
        "\n",
        "vintageknitcrochet"
       ]
      },
      {
       "output_type": "stream",
       "stream": "stdout",
       "text": [
        "\n",
        "HandyHatsandThings"
       ]
      },
      {
       "output_type": "stream",
       "stream": "stdout",
       "text": [
        "\n",
        "ShopLaLune"
       ]
      },
      {
       "output_type": "stream",
       "stream": "stdout",
       "text": [
        "\n",
        "NataNatastudio"
       ]
      },
      {
       "output_type": "stream",
       "stream": "stdout",
       "text": [
        "\n",
        "smittenwithknitn"
       ]
      },
      {
       "output_type": "stream",
       "stream": "stdout",
       "text": [
        "\n",
        "Ritaknitsall"
       ]
      },
      {
       "output_type": "stream",
       "stream": "stdout",
       "text": [
        "\n",
        "FiddlestyxStudios"
       ]
      },
      {
       "output_type": "stream",
       "stream": "stdout",
       "text": [
        "\n",
        "Cvetinka"
       ]
      },
      {
       "output_type": "stream",
       "stream": "stdout",
       "text": [
        "\n",
        "TreMelarance"
       ]
      },
      {
       "output_type": "stream",
       "stream": "stdout",
       "text": [
        "\n",
        "SlopeGirlKnits"
       ]
      },
      {
       "output_type": "stream",
       "stream": "stdout",
       "text": [
        "\n",
        "ClassySassyKnitz"
       ]
      },
      {
       "output_type": "stream",
       "stream": "stdout",
       "text": [
        "\n",
        "DickensKnits"
       ]
      },
      {
       "output_type": "stream",
       "stream": "stdout",
       "text": [
        "\n",
        "AnytimeScarf"
       ]
      },
      {
       "output_type": "stream",
       "stream": "stdout",
       "text": [
        "\n",
        "KnitSew4U"
       ]
      },
      {
       "output_type": "stream",
       "stream": "stdout",
       "text": [
        "\n",
        "JanJanCreations"
       ]
      },
      {
       "output_type": "stream",
       "stream": "stdout",
       "text": [
        "\n",
        "DesignByEJ"
       ]
      },
      {
       "output_type": "stream",
       "stream": "stdout",
       "text": [
        "\n",
        "Powerbrand"
       ]
      },
      {
       "output_type": "stream",
       "stream": "stdout",
       "text": [
        "\n",
        "rubywebbs"
       ]
      },
      {
       "output_type": "stream",
       "stream": "stdout",
       "text": [
        "\n",
        "LJaccessories"
       ]
      },
      {
       "output_type": "stream",
       "stream": "stdout",
       "text": [
        "\n",
        "HippityHoppityHats"
       ]
      },
      {
       "output_type": "stream",
       "stream": "stdout",
       "text": [
        "\n",
        "HandWovenPeru"
       ]
      },
      {
       "output_type": "stream",
       "stream": "stdout",
       "text": [
        "\n",
        "foreverandrea"
       ]
      },
      {
       "output_type": "stream",
       "stream": "stdout",
       "text": [
        "\n",
        "BabiesRepublic"
       ]
      },
      {
       "output_type": "stream",
       "stream": "stdout",
       "text": [
        "\n",
        "TheMastHatter"
       ]
      },
      {
       "output_type": "stream",
       "stream": "stdout",
       "text": [
        "\n",
        "CTDESIGNSBESPOKEBAGS"
       ]
      },
      {
       "output_type": "stream",
       "stream": "stdout",
       "text": [
        "\n",
        "SimplyLife888"
       ]
      },
      {
       "output_type": "stream",
       "stream": "stdout",
       "text": [
        "\n",
        "CustomCuddlers"
       ]
      },
      {
       "output_type": "stream",
       "stream": "stdout",
       "text": [
        "\n",
        "AshleyLillisHandmade"
       ]
      },
      {
       "output_type": "stream",
       "stream": "stdout",
       "text": [
        "\n",
        "SourpussKnits"
       ]
      },
      {
       "output_type": "stream",
       "stream": "stdout",
       "text": [
        "\n",
        "HelloDollyDesigns"
       ]
      },
      {
       "output_type": "stream",
       "stream": "stdout",
       "text": [
        "\n",
        "CreationsTricotine"
       ]
      },
      {
       "output_type": "stream",
       "stream": "stdout",
       "text": [
        "\n",
        "LeLeni"
       ]
      },
      {
       "output_type": "stream",
       "stream": "stdout",
       "text": [
        "\n",
        "ThatGirlKnitz"
       ]
      },
      {
       "output_type": "stream",
       "stream": "stdout",
       "text": [
        "\n",
        "GoKnitsDotCom"
       ]
      },
      {
       "output_type": "stream",
       "stream": "stdout",
       "text": [
        "\n",
        "WaterInMyPaint"
       ]
      },
      {
       "output_type": "stream",
       "stream": "stdout",
       "text": [
        "\n",
        "HaKaMaDi4"
       ]
      },
      {
       "output_type": "stream",
       "stream": "stdout",
       "text": [
        "\n",
        "TerryGraziano"
       ]
      },
      {
       "output_type": "stream",
       "stream": "stdout",
       "text": [
        "\n",
        "MarysKnits"
       ]
      },
      {
       "output_type": "stream",
       "stream": "stdout",
       "text": [
        "\n",
        "ToryMakes"
       ]
      },
      {
       "output_type": "stream",
       "stream": "stdout",
       "text": [
        "\n",
        "bromefields"
       ]
      },
      {
       "output_type": "stream",
       "stream": "stdout",
       "text": [
        "\n",
        "BellaNeedleworks"
       ]
      },
      {
       "output_type": "stream",
       "stream": "stdout",
       "text": [
        "\n",
        "selmahandcraft"
       ]
      },
      {
       "output_type": "stream",
       "stream": "stdout",
       "text": [
        "\n",
        "looptolooptoloop"
       ]
      },
      {
       "output_type": "stream",
       "stream": "stdout",
       "text": [
        "\n",
        "sweetKM"
       ]
      },
      {
       "output_type": "stream",
       "stream": "stdout",
       "text": [
        "\n",
        "FromPurlsToPearls"
       ]
      },
      {
       "output_type": "stream",
       "stream": "stdout",
       "text": [
        "\n",
        "TikiFiberCrafts"
       ]
      },
      {
       "output_type": "stream",
       "stream": "stdout",
       "text": [
        "\n",
        "Magicdoll"
       ]
      },
      {
       "output_type": "stream",
       "stream": "stdout",
       "text": [
        "\n",
        "CappelliHats"
       ]
      },
      {
       "output_type": "stream",
       "stream": "stdout",
       "text": [
        "\n",
        "WinterWhiteKnits"
       ]
      },
      {
       "output_type": "stream",
       "stream": "stdout",
       "text": [
        "\n",
        "NchantedGifts"
       ]
      },
      {
       "output_type": "stream",
       "stream": "stdout",
       "text": [
        "\n",
        "PersonalizedKnits"
       ]
      },
      {
       "output_type": "stream",
       "stream": "stdout",
       "text": [
        "\n",
        "dreamdoghandmade"
       ]
      },
      {
       "output_type": "stream",
       "stream": "stdout",
       "text": [
        "\n",
        "PhiloneusDesigns"
       ]
      },
      {
       "output_type": "stream",
       "stream": "stdout",
       "text": [
        "\n",
        "abrahamssonco"
       ]
      },
      {
       "output_type": "stream",
       "stream": "stdout",
       "text": [
        "\n",
        "TARSTITCH"
       ]
      },
      {
       "output_type": "stream",
       "stream": "stdout",
       "text": [
        "\n",
        "Merrieknit"
       ]
      },
      {
       "output_type": "stream",
       "stream": "stdout",
       "text": [
        "\n",
        "ZucchiniIslandKnits"
       ]
      },
      {
       "output_type": "stream",
       "stream": "stdout",
       "text": [
        "\n",
        "NesyBaby"
       ]
      },
      {
       "output_type": "stream",
       "stream": "stdout",
       "text": [
        "\n",
        "KnitsForLife"
       ]
      },
      {
       "output_type": "stream",
       "stream": "stdout",
       "text": [
        "\n",
        "OhmayDIY"
       ]
      },
      {
       "output_type": "stream",
       "stream": "stdout",
       "text": [
        "\n",
        "Fernandfeatherknits"
       ]
      },
      {
       "output_type": "stream",
       "stream": "stdout",
       "text": [
        "\n",
        "ThreeBirdNest"
       ]
      },
      {
       "output_type": "stream",
       "stream": "stdout",
       "text": [
        "\n",
        "azuremiles"
       ]
      },
      {
       "output_type": "stream",
       "stream": "stdout",
       "text": [
        "\n",
        "SabiynaHandKnits"
       ]
      },
      {
       "output_type": "stream",
       "stream": "stdout",
       "text": [
        "\n",
        "MimozaLuxury"
       ]
      },
      {
       "output_type": "stream",
       "stream": "stdout",
       "text": [
        "\n",
        "LovetoKnitHats"
       ]
      },
      {
       "output_type": "stream",
       "stream": "stdout",
       "text": [
        "\n",
        "sweetygreetings"
       ]
      },
      {
       "output_type": "stream",
       "stream": "stdout",
       "text": [
        "\n",
        "LalaAndMeShop"
       ]
      },
      {
       "output_type": "stream",
       "stream": "stdout",
       "text": [
        "\n",
        "GreenCatStudio"
       ]
      },
      {
       "output_type": "stream",
       "stream": "stdout",
       "text": [
        "\n",
        "funkomavintage"
       ]
      },
      {
       "output_type": "stream",
       "stream": "stdout",
       "text": [
        "\n",
        "KnittingOleBag"
       ]
      },
      {
       "output_type": "stream",
       "stream": "stdout",
       "text": [
        "\n",
        "CreationsbyNavari"
       ]
      },
      {
       "output_type": "stream",
       "stream": "stdout",
       "text": [
        "\n",
        "TwoLittleAngels1"
       ]
      },
      {
       "output_type": "stream",
       "stream": "stdout",
       "text": [
        "\n",
        "MellyJoCo"
       ]
      },
      {
       "output_type": "stream",
       "stream": "stdout",
       "text": [
        "\n",
        "StripyKite"
       ]
      },
      {
       "output_type": "stream",
       "stream": "stdout",
       "text": [
        "\n",
        "CattsHouse"
       ]
      },
      {
       "output_type": "stream",
       "stream": "stdout",
       "text": [
        "\n",
        "KnitJustForYou"
       ]
      },
      {
       "output_type": "stream",
       "stream": "stdout",
       "text": [
        "\n",
        "lauraprilltoo"
       ]
      },
      {
       "output_type": "stream",
       "stream": "stdout",
       "text": [
        "\n",
        "AuntieBsMemories"
       ]
      },
      {
       "output_type": "stream",
       "stream": "stdout",
       "text": [
        "\n",
        "RedWhiteandSpotty"
       ]
      },
      {
       "output_type": "stream",
       "stream": "stdout",
       "text": [
        "\n",
        "MoonKnitNight"
       ]
      },
      {
       "output_type": "stream",
       "stream": "stdout",
       "text": [
        "\n",
        "yarnworksandmore"
       ]
      },
      {
       "output_type": "stream",
       "stream": "stdout",
       "text": [
        "\n",
        "AdrisLittleCuties"
       ]
      },
      {
       "output_type": "stream",
       "stream": "stdout",
       "text": [
        "\n",
        "KnitsByNat"
       ]
      },
      {
       "output_type": "stream",
       "stream": "stdout",
       "text": [
        "\n",
        "knoodleknits"
       ]
      },
      {
       "output_type": "stream",
       "stream": "stdout",
       "text": [
        "\n",
        "AccessoriesByKelli"
       ]
      },
      {
       "output_type": "stream",
       "stream": "stdout",
       "text": [
        "\n",
        "JennysKnitCo"
       ]
      },
      {
       "output_type": "stream",
       "stream": "stdout",
       "text": [
        "\n",
        "bebebottineshop"
       ]
      },
      {
       "output_type": "stream",
       "stream": "stdout",
       "text": [
        "\n",
        "WomanOnTheWater"
       ]
      },
      {
       "output_type": "stream",
       "stream": "stdout",
       "text": [
        "\n",
        "Terottka"
       ]
      },
      {
       "output_type": "stream",
       "stream": "stdout",
       "text": [
        "\n",
        "CardinalLane"
       ]
      },
      {
       "output_type": "stream",
       "stream": "stdout",
       "text": [
        "\n",
        "BirdiesLab"
       ]
      },
      {
       "output_type": "stream",
       "stream": "stdout",
       "text": [
        "\n",
        "PoshPatterns"
       ]
      },
      {
       "output_type": "stream",
       "stream": "stdout",
       "text": [
        "\n",
        "NudiKnits"
       ]
      },
      {
       "output_type": "stream",
       "stream": "stdout",
       "text": [
        "\n",
        "MimiMustKnit"
       ]
      },
      {
       "output_type": "stream",
       "stream": "stdout",
       "text": [
        "\n",
        "CLCouture"
       ]
      },
      {
       "output_type": "stream",
       "stream": "stdout",
       "text": [
        "\n",
        "PeachPoshPolkadots"
       ]
      },
      {
       "output_type": "stream",
       "stream": "stdout",
       "text": [
        "\n",
        "westlakedesigns"
       ]
      },
      {
       "output_type": "stream",
       "stream": "stdout",
       "text": [
        "\n",
        "SnazzySportsCo"
       ]
      },
      {
       "output_type": "stream",
       "stream": "stdout",
       "text": [
        "\n",
        "JeanieBeanHandKnits"
       ]
      },
      {
       "output_type": "stream",
       "stream": "stdout",
       "text": [
        "\n",
        "AngisWollBobbl"
       ]
      },
      {
       "output_type": "stream",
       "stream": "stdout",
       "text": [
        "\n",
        "LiveLace"
       ]
      },
      {
       "output_type": "stream",
       "stream": "stdout",
       "text": [
        "\n",
        "TriStarDesign"
       ]
      },
      {
       "output_type": "stream",
       "stream": "stdout",
       "text": [
        "\n",
        "JanineBasil"
       ]
      },
      {
       "output_type": "stream",
       "stream": "stdout",
       "text": [
        "\n",
        "DishclothDivaKnitsOn"
       ]
      },
      {
       "output_type": "stream",
       "stream": "stdout",
       "text": [
        "\n",
        "bootcuffsandsocks"
       ]
      },
      {
       "output_type": "stream",
       "stream": "stdout",
       "text": [
        "\n",
        "AylasBeeniesgreenbay"
       ]
      },
      {
       "output_type": "stream",
       "stream": "stdout",
       "text": [
        "\n",
        "VillaYarnDesigns"
       ]
      },
      {
       "output_type": "stream",
       "stream": "stdout",
       "text": [
        "\n",
        "HatParadise"
       ]
      },
      {
       "output_type": "stream",
       "stream": "stdout",
       "text": [
        "\n",
        "swaddlemesnugly"
       ]
      },
      {
       "output_type": "stream",
       "stream": "stdout",
       "text": [
        "\n",
        "ChandraQuiltnCrafts"
       ]
      },
      {
       "output_type": "stream",
       "stream": "stdout",
       "text": [
        "\n",
        "AnotherKP"
       ]
      },
      {
       "output_type": "stream",
       "stream": "stdout",
       "text": [
        "\n",
        "HatCharacters"
       ]
      },
      {
       "output_type": "stream",
       "stream": "stdout",
       "text": [
        "\n",
        "PlatoSquirrel"
       ]
      },
      {
       "output_type": "stream",
       "stream": "stdout",
       "text": [
        "\n",
        "PaulaBPires"
       ]
      },
      {
       "output_type": "stream",
       "stream": "stdout",
       "text": [
        "\n",
        "sewsassybootique"
       ]
      },
      {
       "output_type": "stream",
       "stream": "stdout",
       "text": [
        "\n",
        "JuniperandGinger"
       ]
      },
      {
       "output_type": "stream",
       "stream": "stdout",
       "text": [
        "\n",
        "LambsEarsKnits"
       ]
      },
      {
       "output_type": "stream",
       "stream": "stdout",
       "text": [
        "\n",
        "ETaylorDesigns"
       ]
      },
      {
       "output_type": "stream",
       "stream": "stdout",
       "text": [
        "\n",
        "Solnishko43"
       ]
      },
      {
       "output_type": "stream",
       "stream": "stdout",
       "text": [
        "\n",
        "TheCraftyEuropean"
       ]
      },
      {
       "output_type": "stream",
       "stream": "stdout",
       "text": [
        "\n",
        "PhotoPropsByMissLene"
       ]
      },
      {
       "output_type": "stream",
       "stream": "stdout",
       "text": [
        "\n",
        "SuchCraftsWow"
       ]
      },
      {
       "output_type": "stream",
       "stream": "stdout",
       "text": [
        "\n",
        "KEENbyAM"
       ]
      },
      {
       "output_type": "stream",
       "stream": "stdout",
       "text": [
        "\n",
        "CreativeHandknits"
       ]
      },
      {
       "output_type": "stream",
       "stream": "stdout",
       "text": [
        "\n",
        "zoik"
       ]
      },
      {
       "output_type": "stream",
       "stream": "stdout",
       "text": [
        "\n",
        "AGuyWithTwoNeedles"
       ]
      },
      {
       "output_type": "stream",
       "stream": "stdout",
       "text": [
        "\n",
        "TheAlaskanAbroad"
       ]
      },
      {
       "output_type": "stream",
       "stream": "stdout",
       "text": [
        "\n",
        "FightingLeukemia"
       ]
      },
      {
       "output_type": "stream",
       "stream": "stdout",
       "text": [
        "\n",
        "MariyaMitov"
       ]
      },
      {
       "output_type": "stream",
       "stream": "stdout",
       "text": [
        "\n",
        "FrouFrouVtgClothing"
       ]
      },
      {
       "output_type": "stream",
       "stream": "stdout",
       "text": [
        "\n",
        "deorigenchile"
       ]
      },
      {
       "output_type": "stream",
       "stream": "stdout",
       "text": [
        "\n",
        "rukkola"
       ]
      },
      {
       "output_type": "stream",
       "stream": "stdout",
       "text": [
        "\n",
        "BexterDesigns"
       ]
      },
      {
       "output_type": "stream",
       "stream": "stdout",
       "text": [
        "\n",
        "Hanakos"
       ]
      },
      {
       "output_type": "stream",
       "stream": "stdout",
       "text": [
        "\n",
        "BollasBitsAndBobs"
       ]
      },
      {
       "output_type": "stream",
       "stream": "stdout",
       "text": [
        "\n",
        "LiliaCraftParty"
       ]
      },
      {
       "output_type": "stream",
       "stream": "stdout",
       "text": [
        "\n",
        "MtnShadowFiberworks"
       ]
      },
      {
       "output_type": "stream",
       "stream": "stdout",
       "text": [
        "\n",
        "taschekats"
       ]
      },
      {
       "output_type": "stream",
       "stream": "stdout",
       "text": [
        "\n",
        "CuteCreationsByLea"
       ]
      },
      {
       "output_type": "stream",
       "stream": "stdout",
       "text": [
        "\n",
        "ItsyBitsyBabyProps"
       ]
      },
      {
       "output_type": "stream",
       "stream": "stdout",
       "text": [
        "\n",
        "HamsaHealingGifts"
       ]
      },
      {
       "output_type": "stream",
       "stream": "stdout",
       "text": [
        "\n",
        "Pavlaknits"
       ]
      },
      {
       "output_type": "stream",
       "stream": "stdout",
       "text": [
        "\n",
        "EmptyNestKnitsStudio"
       ]
      },
      {
       "output_type": "stream",
       "stream": "stdout",
       "text": [
        "\n",
        "iGrowYarn"
       ]
      },
      {
       "output_type": "stream",
       "stream": "stdout",
       "text": [
        "\n",
        "CutePhotoProp"
       ]
      },
      {
       "output_type": "stream",
       "stream": "stdout",
       "text": [
        "\n",
        "stayinstitches"
       ]
      },
      {
       "output_type": "stream",
       "stream": "stdout",
       "text": [
        "\n",
        "CrochetKnit30"
       ]
      },
      {
       "output_type": "stream",
       "stream": "stdout",
       "text": [
        "\n",
        "Mirastyle"
       ]
      },
      {
       "output_type": "stream",
       "stream": "stdout",
       "text": [
        "\n",
        "YarnForBaby"
       ]
      },
      {
       "output_type": "stream",
       "stream": "stdout",
       "text": [
        "\n",
        "DokumaAccessories"
       ]
      },
      {
       "output_type": "stream",
       "stream": "stdout",
       "text": [
        "\n",
        "VermontHomespun"
       ]
      },
      {
       "output_type": "stream",
       "stream": "stdout",
       "text": [
        "\n",
        "simplybasicdesigns"
       ]
      },
      {
       "output_type": "stream",
       "stream": "stdout",
       "text": [
        "\n",
        "SweetPeaBoutiques"
       ]
      },
      {
       "output_type": "stream",
       "stream": "stdout",
       "text": [
        "\n",
        "Plexida"
       ]
      },
      {
       "output_type": "stream",
       "stream": "stdout",
       "text": [
        "\n",
        "ToppledTurtle"
       ]
      },
      {
       "output_type": "stream",
       "stream": "stdout",
       "text": [
        "\n",
        "MGknitting"
       ]
      },
      {
       "output_type": "stream",
       "stream": "stdout",
       "text": [
        "\n",
        "BabyHats"
       ]
      },
      {
       "output_type": "stream",
       "stream": "stdout",
       "text": [
        "\n",
        "TheCrownedHeart"
       ]
      },
      {
       "output_type": "stream",
       "stream": "stdout",
       "text": [
        "\n",
        "dahliasoleil"
       ]
      },
      {
       "output_type": "stream",
       "stream": "stdout",
       "text": [
        "\n",
        "Stitchandstory"
       ]
      },
      {
       "output_type": "stream",
       "stream": "stdout",
       "text": [
        "\n",
        "HuckleberriesandRain"
       ]
      },
      {
       "output_type": "stream",
       "stream": "stdout",
       "text": [
        "\n",
        "NoKnotKnits"
       ]
      },
      {
       "output_type": "stream",
       "stream": "stdout",
       "text": [
        "\n",
        "Clickclackknits"
       ]
      },
      {
       "output_type": "stream",
       "stream": "stdout",
       "text": [
        "\n",
        "IRISMINT"
       ]
      },
      {
       "output_type": "stream",
       "stream": "stdout",
       "text": [
        "\n",
        "SeaSprayKnits"
       ]
      },
      {
       "output_type": "stream",
       "stream": "stdout",
       "text": [
        "\n",
        "Fluffylamb"
       ]
      },
      {
       "output_type": "stream",
       "stream": "stdout",
       "text": [
        "\n",
        "StarSeventeen"
       ]
      },
      {
       "output_type": "stream",
       "stream": "stdout",
       "text": [
        "\n",
        "IKnit4aCure"
       ]
      },
      {
       "output_type": "stream",
       "stream": "stdout",
       "text": [
        "\n",
        "SapphiraDesignsKnits"
       ]
      },
      {
       "output_type": "stream",
       "stream": "stdout",
       "text": [
        "\n",
        "JandSKnitts"
       ]
      },
      {
       "output_type": "stream",
       "stream": "stdout",
       "text": [
        "\n",
        "ALovelyYarn"
       ]
      },
      {
       "output_type": "stream",
       "stream": "stdout",
       "text": [
        "\n",
        "wishestogether"
       ]
      },
      {
       "output_type": "stream",
       "stream": "stdout",
       "text": [
        "\n",
        "twigsandtweets"
       ]
      },
      {
       "output_type": "stream",
       "stream": "stdout",
       "text": [
        "\n",
        "LineliHandmade"
       ]
      },
      {
       "output_type": "stream",
       "stream": "stdout",
       "text": [
        "\n",
        "YoYohats"
       ]
      },
      {
       "output_type": "stream",
       "stream": "stdout",
       "text": [
        "\n",
        "KnittingbyKali"
       ]
      },
      {
       "output_type": "stream",
       "stream": "stdout",
       "text": [
        "\n",
        "BellaRaeCrochet"
       ]
      },
      {
       "output_type": "stream",
       "stream": "stdout",
       "text": [
        "\n",
        "BebellissimosB"
       ]
      },
      {
       "output_type": "stream",
       "stream": "stdout",
       "text": [
        "\n",
        "ThatSewU"
       ]
      },
      {
       "output_type": "stream",
       "stream": "stdout",
       "text": [
        "\n",
        "NorthernLoopKnitwear"
       ]
      },
      {
       "output_type": "stream",
       "stream": "stdout",
       "text": [
        "\n",
        "ByMissSally"
       ]
      },
      {
       "output_type": "stream",
       "stream": "stdout",
       "text": [
        "\n",
        "KangooLUX"
       ]
      },
      {
       "output_type": "stream",
       "stream": "stdout",
       "text": [
        "\n",
        "CroquisKnits"
       ]
      },
      {
       "output_type": "stream",
       "stream": "stdout",
       "text": [
        "\n",
        "Lasunka"
       ]
      },
      {
       "output_type": "stream",
       "stream": "stdout",
       "text": [
        "\n",
        "HandmadeFromLV"
       ]
      },
      {
       "output_type": "stream",
       "stream": "stdout",
       "text": [
        "\n",
        "HandicraftByDamla"
       ]
      },
      {
       "output_type": "stream",
       "stream": "stdout",
       "text": [
        "\n",
        "HandmadeTrend"
       ]
      },
      {
       "output_type": "stream",
       "stream": "stdout",
       "text": [
        "\n",
        "Madebyfate"
       ]
      },
      {
       "output_type": "stream",
       "stream": "stdout",
       "text": [
        "\n",
        "Scarfashion"
       ]
      },
      {
       "output_type": "stream",
       "stream": "stdout",
       "text": [
        "\n",
        "tzigane57"
       ]
      },
      {
       "output_type": "stream",
       "stream": "stdout",
       "text": [
        "\n",
        "wildhoneypieboutique"
       ]
      },
      {
       "output_type": "stream",
       "stream": "stdout",
       "text": [
        "\n",
        "Solandia"
       ]
      },
      {
       "output_type": "stream",
       "stream": "stdout",
       "text": [
        "\n",
        "JuicyBows"
       ]
      },
      {
       "output_type": "stream",
       "stream": "stdout",
       "text": [
        "\n",
        "VolnaDollsClother"
       ]
      },
      {
       "output_type": "stream",
       "stream": "stdout",
       "text": [
        "\n",
        "OneofaKindKnitGifts"
       ]
      },
      {
       "output_type": "stream",
       "stream": "stdout",
       "text": [
        "\n",
        "YHYC"
       ]
      },
      {
       "output_type": "stream",
       "stream": "stdout",
       "text": [
        "\n",
        "RosePetalCollections"
       ]
      },
      {
       "output_type": "stream",
       "stream": "stdout",
       "text": [
        "\n",
        "Ingugu"
       ]
      },
      {
       "output_type": "stream",
       "stream": "stdout",
       "text": [
        "\n",
        "ShnopShnop"
       ]
      },
      {
       "output_type": "stream",
       "stream": "stdout",
       "text": [
        "\n",
        "ashton11"
       ]
      },
      {
       "output_type": "stream",
       "stream": "stdout",
       "text": [
        "\n",
        "GrammysKnitsandPurls"
       ]
      },
      {
       "output_type": "stream",
       "stream": "stdout",
       "text": [
        "\n",
        "ShentonStudios"
       ]
      },
      {
       "output_type": "stream",
       "stream": "stdout",
       "text": [
        "\n",
        "ChildCrochet"
       ]
      },
      {
       "output_type": "stream",
       "stream": "stdout",
       "text": [
        "\n",
        "RememberingDiane"
       ]
      },
      {
       "output_type": "stream",
       "stream": "stdout",
       "text": [
        "\n",
        "MadeByMillar"
       ]
      },
      {
       "output_type": "stream",
       "stream": "stdout",
       "text": [
        "\n",
        "Knitzandpurls"
       ]
      },
      {
       "output_type": "stream",
       "stream": "stdout",
       "text": [
        "\n",
        "CrochetingHeaven"
       ]
      },
      {
       "output_type": "stream",
       "stream": "stdout",
       "text": [
        "\n",
        "LittleRetronome"
       ]
      },
      {
       "output_type": "stream",
       "stream": "stdout",
       "text": [
        "\n",
        "PlexisArt"
       ]
      },
      {
       "output_type": "stream",
       "stream": "stdout",
       "text": [
        "\n",
        "SweetPetitePhotoProp"
       ]
      },
      {
       "output_type": "stream",
       "stream": "stdout",
       "text": [
        "\n",
        "ForHomeAndHearth"
       ]
      },
      {
       "output_type": "stream",
       "stream": "stdout",
       "text": [
        "\n",
        "LeanaKonovalova"
       ]
      },
      {
       "output_type": "stream",
       "stream": "stdout",
       "text": [
        "\n",
        "Halunder"
       ]
      },
      {
       "output_type": "stream",
       "stream": "stdout",
       "text": [
        "\n",
        "ButtermilkCottage"
       ]
      },
      {
       "output_type": "stream",
       "stream": "stdout",
       "text": [
        "\n",
        "LaKnitteria"
       ]
      },
      {
       "output_type": "stream",
       "stream": "stdout",
       "text": [
        "\n",
        "autumnandindigo"
       ]
      },
      {
       "output_type": "stream",
       "stream": "stdout",
       "text": [
        "\n",
        "ColorWondreWarmth"
       ]
      },
      {
       "output_type": "stream",
       "stream": "stdout",
       "text": [
        "\n",
        "AnastasiaEvelyn"
       ]
      },
      {
       "output_type": "stream",
       "stream": "stdout",
       "text": [
        "\n",
        "xoxoImogenHearts"
       ]
      },
      {
       "output_type": "stream",
       "stream": "stdout",
       "text": [
        "\n",
        "DCimaginations"
       ]
      },
      {
       "output_type": "stream",
       "stream": "stdout",
       "text": [
        "\n",
        "ArtMajesty"
       ]
      },
      {
       "output_type": "stream",
       "stream": "stdout",
       "text": [
        "\n",
        "SmilingKnitting"
       ]
      },
      {
       "output_type": "stream",
       "stream": "stdout",
       "text": [
        "\n",
        "jolay"
       ]
      },
      {
       "output_type": "stream",
       "stream": "stdout",
       "text": [
        "\n",
        "Johannahats"
       ]
      },
      {
       "output_type": "stream",
       "stream": "stdout",
       "text": [
        "\n",
        "MyTinyTree"
       ]
      },
      {
       "output_type": "stream",
       "stream": "stdout",
       "text": [
        "\n",
        "KennaInAfrica"
       ]
      },
      {
       "output_type": "stream",
       "stream": "stdout",
       "text": [
        "\n",
        "aysev"
       ]
      },
      {
       "output_type": "stream",
       "stream": "stdout",
       "text": [
        "\n",
        "heaventoseven"
       ]
      },
      {
       "output_type": "stream",
       "stream": "stdout",
       "text": [
        "\n",
        "Mariiko"
       ]
      },
      {
       "output_type": "stream",
       "stream": "stdout",
       "text": [
        "\n",
        "LaBottegaDiViviana"
       ]
      },
      {
       "output_type": "stream",
       "stream": "stdout",
       "text": [
        "\n",
        "CelesteandCompany"
       ]
      },
      {
       "output_type": "stream",
       "stream": "stdout",
       "text": [
        "\n",
        "AuBoutduPre"
       ]
      },
      {
       "output_type": "stream",
       "stream": "stdout",
       "text": [
        "\n",
        "Thonetmania"
       ]
      },
      {
       "output_type": "stream",
       "stream": "stdout",
       "text": [
        "\n",
        "DetroitWoolyLab"
       ]
      },
      {
       "output_type": "stream",
       "stream": "stdout",
       "text": [
        "\n",
        "TheWoolyBirch"
       ]
      },
      {
       "output_type": "stream",
       "stream": "stdout",
       "text": [
        "\n",
        "emmifaye"
       ]
      },
      {
       "output_type": "stream",
       "stream": "stdout",
       "text": [
        "\n",
        "DiceKnits"
       ]
      },
      {
       "output_type": "stream",
       "stream": "stdout",
       "text": [
        "\n",
        "zxcvvcxz"
       ]
      },
      {
       "output_type": "stream",
       "stream": "stdout",
       "text": [
        "\n",
        "THIMBLEandACORN"
       ]
      },
      {
       "output_type": "stream",
       "stream": "stdout",
       "text": [
        "\n",
        "CrochetYourBaby"
       ]
      },
      {
       "output_type": "stream",
       "stream": "stdout",
       "text": [
        "\n",
        "EnchantedLandofFelt"
       ]
      },
      {
       "output_type": "stream",
       "stream": "stdout",
       "text": [
        "\n",
        "DarylAndCat"
       ]
      },
      {
       "output_type": "stream",
       "stream": "stdout",
       "text": [
        "\n",
        "longbeachdesigns"
       ]
      },
      {
       "output_type": "stream",
       "stream": "stdout",
       "text": [
        "\n",
        "GibsonHollow"
       ]
      },
      {
       "output_type": "stream",
       "stream": "stdout",
       "text": [
        "\n",
        "WWKnits"
       ]
      },
      {
       "output_type": "stream",
       "stream": "stdout",
       "text": [
        "\n",
        "PeonyBlossoms"
       ]
      },
      {
       "output_type": "stream",
       "stream": "stdout",
       "text": [
        "\n",
        "StayatHomeStitchings"
       ]
      },
      {
       "output_type": "stream",
       "stream": "stdout",
       "text": [
        "\n",
        "PikaPikaCreative"
       ]
      },
      {
       "output_type": "stream",
       "stream": "stdout",
       "text": [
        "\n",
        "MercierMarche"
       ]
      },
      {
       "output_type": "stream",
       "stream": "stdout",
       "text": [
        "\n",
        "TheUrbanSquirrel1"
       ]
      },
      {
       "output_type": "stream",
       "stream": "stdout",
       "text": [
        "\n",
        "FashionTouch"
       ]
      },
      {
       "output_type": "stream",
       "stream": "stdout",
       "text": [
        "\n",
        "lucymir"
       ]
      },
      {
       "output_type": "stream",
       "stream": "stdout",
       "text": [
        "\n",
        "MelissaAndElizabethe"
       ]
      },
      {
       "output_type": "stream",
       "stream": "stdout",
       "text": [
        "\n",
        "Knittsey"
       ]
      },
      {
       "output_type": "stream",
       "stream": "stdout",
       "text": [
        "\n",
        "WylieOwlVintage"
       ]
      },
      {
       "output_type": "stream",
       "stream": "stdout",
       "text": [
        "\n",
        "SunnyCsc"
       ]
      },
      {
       "output_type": "stream",
       "stream": "stdout",
       "text": [
        "\n",
        "BirdsKeptNorth"
       ]
      },
      {
       "output_type": "stream",
       "stream": "stdout",
       "text": [
        "\n",
        "KookaburraBaby"
       ]
      },
      {
       "output_type": "stream",
       "stream": "stdout",
       "text": [
        "\n",
        "DamovFashion"
       ]
      },
      {
       "output_type": "stream",
       "stream": "stdout",
       "text": [
        "\n",
        "cherlynnephotography"
       ]
      },
      {
       "output_type": "stream",
       "stream": "stdout",
       "text": [
        "\n",
        "AKCraftyLady"
       ]
      },
      {
       "output_type": "stream",
       "stream": "stdout",
       "text": [
        "\n",
        "PeaceThruKnitting"
       ]
      },
      {
       "output_type": "stream",
       "stream": "stdout",
       "text": [
        "\n",
        "LauraHandKnits"
       ]
      },
      {
       "output_type": "stream",
       "stream": "stdout",
       "text": [
        "\n",
        "forthetiny"
       ]
      },
      {
       "output_type": "stream",
       "stream": "stdout",
       "text": [
        "\n",
        "knottycreationsbyET"
       ]
      },
      {
       "output_type": "stream",
       "stream": "stdout",
       "text": [
        "\n",
        "SOFTKNOT"
       ]
      },
      {
       "output_type": "stream",
       "stream": "stdout",
       "text": [
        "\n",
        "byHeatherMarie"
       ]
      },
      {
       "output_type": "stream",
       "stream": "stdout",
       "text": [
        "\n",
        "MurvaDesign"
       ]
      },
      {
       "output_type": "stream",
       "stream": "stdout",
       "text": [
        "\n",
        "lovewhatyouwear"
       ]
      },
      {
       "output_type": "stream",
       "stream": "stdout",
       "text": [
        "\n",
        "mellowfury"
       ]
      },
      {
       "output_type": "stream",
       "stream": "stdout",
       "text": [
        "\n",
        "LittleBuffaloKnits"
       ]
      },
      {
       "output_type": "stream",
       "stream": "stdout",
       "text": [
        "\n",
        "shopknitsandprints"
       ]
      },
      {
       "output_type": "stream",
       "stream": "stdout",
       "text": [
        "\n",
        "PamelaLiz"
       ]
      },
      {
       "output_type": "stream",
       "stream": "stdout",
       "text": [
        "\n",
        "BeeHappyBoutique"
       ]
      },
      {
       "output_type": "stream",
       "stream": "stdout",
       "text": [
        "\n",
        "CharlesIsabella"
       ]
      },
      {
       "output_type": "stream",
       "stream": "stdout",
       "text": [
        "\n",
        "DesigningEva"
       ]
      },
      {
       "output_type": "stream",
       "stream": "stdout",
       "text": [
        "\n",
        "judy03452"
       ]
      },
      {
       "output_type": "stream",
       "stream": "stdout",
       "text": [
        "\n",
        "NavaVK"
       ]
      },
      {
       "output_type": "stream",
       "stream": "stdout",
       "text": [
        "\n",
        "KnitsByVicks"
       ]
      },
      {
       "output_type": "stream",
       "stream": "stdout",
       "text": [
        "\n",
        "FernwehUK"
       ]
      },
      {
       "output_type": "stream",
       "stream": "stdout",
       "text": [
        "\n",
        "TiasTerrificThreads"
       ]
      },
      {
       "output_type": "stream",
       "stream": "stdout",
       "text": [
        "\n",
        "Julbyjuliagasin"
       ]
      },
      {
       "output_type": "stream",
       "stream": "stdout",
       "text": [
        "\n",
        "WearitWellvintage"
       ]
      },
      {
       "output_type": "stream",
       "stream": "stdout",
       "text": [
        "\n",
        "CooloRoonie"
       ]
      },
      {
       "output_type": "stream",
       "stream": "stdout",
       "text": [
        "\n",
        "UnconditionalProwess"
       ]
      },
      {
       "output_type": "stream",
       "stream": "stdout",
       "text": [
        "\n",
        "NeedleGraceBoutique"
       ]
      },
      {
       "output_type": "stream",
       "stream": "stdout",
       "text": [
        "\n",
        "OrganicScarf"
       ]
      },
      {
       "output_type": "stream",
       "stream": "stdout",
       "text": [
        "\n",
        "Notforeat"
       ]
      },
      {
       "output_type": "stream",
       "stream": "stdout",
       "text": [
        "\n",
        "AlbadoFashion"
       ]
      },
      {
       "output_type": "stream",
       "stream": "stdout",
       "text": [
        "\n",
        "AngelHeartRanch"
       ]
      },
      {
       "output_type": "stream",
       "stream": "stdout",
       "text": [
        "\n",
        "EcoStreet"
       ]
      },
      {
       "output_type": "stream",
       "stream": "stdout",
       "text": [
        "\n",
        "TwoPeasInAPodCo"
       ]
      },
      {
       "output_type": "stream",
       "stream": "stdout",
       "text": [
        "\n",
        "SleepyToys"
       ]
      },
      {
       "output_type": "stream",
       "stream": "stdout",
       "text": [
        "\n",
        "AnniRoss"
       ]
      },
      {
       "output_type": "stream",
       "stream": "stdout",
       "text": [
        "\n",
        "ElianasKnittings"
       ]
      },
      {
       "output_type": "stream",
       "stream": "stdout",
       "text": [
        "\n",
        "Knitkozi"
       ]
      },
      {
       "output_type": "stream",
       "stream": "stdout",
       "text": [
        "\n",
        "LoreNovedades"
       ]
      },
      {
       "output_type": "stream",
       "stream": "stdout",
       "text": [
        "\n",
        "NorthStarAlpacas"
       ]
      },
      {
       "output_type": "stream",
       "stream": "stdout",
       "text": [
        "\n",
        "CampCousinsCrafts"
       ]
      },
      {
       "output_type": "stream",
       "stream": "stdout",
       "text": [
        "\n",
        "MaggieandGray"
       ]
      },
      {
       "output_type": "stream",
       "stream": "stdout",
       "text": [
        "\n",
        "handmadebysarajean"
       ]
      },
      {
       "output_type": "stream",
       "stream": "stdout",
       "text": [
        "\n",
        "HeavenandHandKnits"
       ]
      },
      {
       "output_type": "stream",
       "stream": "stdout",
       "text": [
        "\n",
        "SusieAccessories"
       ]
      },
      {
       "output_type": "stream",
       "stream": "stdout",
       "text": [
        "\n",
        "LazyTurtleCo"
       ]
      },
      {
       "output_type": "stream",
       "stream": "stdout",
       "text": [
        "\n",
        "PuttingontheKnits"
       ]
      },
      {
       "output_type": "stream",
       "stream": "stdout",
       "text": [
        "\n",
        "allasattic"
       ]
      },
      {
       "output_type": "stream",
       "stream": "stdout",
       "text": [
        "\n",
        "KnitLea"
       ]
      },
      {
       "output_type": "stream",
       "stream": "stdout",
       "text": [
        "\n",
        "BethWintersBoutique"
       ]
      },
      {
       "output_type": "stream",
       "stream": "stdout",
       "text": [
        "\n",
        "PaulistaAvenue"
       ]
      },
      {
       "output_type": "stream",
       "stream": "stdout",
       "text": [
        "\n",
        "LittleCottonShop"
       ]
      },
      {
       "output_type": "stream",
       "stream": "stdout",
       "text": [
        "\n",
        "fashionablekids"
       ]
      },
      {
       "output_type": "stream",
       "stream": "stdout",
       "text": [
        "\n",
        "TheRaccoonery"
       ]
      },
      {
       "output_type": "stream",
       "stream": "stdout",
       "text": [
        "\n",
        "PreciousNewbornKnits"
       ]
      },
      {
       "output_type": "stream",
       "stream": "stdout",
       "text": [
        "\n",
        "AniTaller"
       ]
      },
      {
       "output_type": "stream",
       "stream": "stdout",
       "text": [
        "\n",
        "PomPonWear"
       ]
      },
      {
       "output_type": "stream",
       "stream": "stdout",
       "text": [
        "\n",
        "HMJDesigns01945"
       ]
      },
      {
       "output_type": "stream",
       "stream": "stdout",
       "text": [
        "\n",
        "TheKnitPanda"
       ]
      },
      {
       "output_type": "stream",
       "stream": "stdout",
       "text": [
        "\n",
        "LittleSheepsDream"
       ]
      },
      {
       "output_type": "stream",
       "stream": "stdout",
       "text": [
        "\n",
        "WhiteGloveVintage"
       ]
      },
      {
       "output_type": "stream",
       "stream": "stdout",
       "text": [
        "\n",
        "BaroqueAndRoll"
       ]
      },
      {
       "output_type": "stream",
       "stream": "stdout",
       "text": [
        "\n",
        "SMQdesigns"
       ]
      },
      {
       "output_type": "stream",
       "stream": "stdout",
       "text": [
        "\n",
        "VioletUnderground"
       ]
      },
      {
       "output_type": "stream",
       "stream": "stdout",
       "text": [
        "\n",
        "FashionelleStudio"
       ]
      },
      {
       "output_type": "stream",
       "stream": "stdout",
       "text": [
        "\n",
        "byjocreations"
       ]
      },
      {
       "output_type": "stream",
       "stream": "stdout",
       "text": [
        "\n",
        "mimsyinmaine"
       ]
      },
      {
       "output_type": "stream",
       "stream": "stdout",
       "text": [
        "\n",
        "ChicVintagePatterns"
       ]
      },
      {
       "output_type": "stream",
       "stream": "stdout",
       "text": [
        "\n",
        "KilbellaVintage"
       ]
      },
      {
       "output_type": "stream",
       "stream": "stdout",
       "text": [
        "\n",
        "texturable"
       ]
      },
      {
       "output_type": "stream",
       "stream": "stdout",
       "text": [
        "\n",
        "KatarinaHats"
       ]
      },
      {
       "output_type": "stream",
       "stream": "stdout",
       "text": [
        "\n",
        "MarroCraft"
       ]
      },
      {
       "output_type": "stream",
       "stream": "stdout",
       "text": [
        "\n",
        "LilyAccessorises"
       ]
      },
      {
       "output_type": "stream",
       "stream": "stdout",
       "text": [
        "\n",
        "beautifulplace"
       ]
      },
      {
       "output_type": "stream",
       "stream": "stdout",
       "text": [
        "\n",
        "GloriousMorn"
       ]
      },
      {
       "output_type": "stream",
       "stream": "stdout",
       "text": [
        "\n",
        "MarmaladesYarn"
       ]
      },
      {
       "output_type": "stream",
       "stream": "stdout",
       "text": [
        "\n",
        "ArticleApparel"
       ]
      },
      {
       "output_type": "stream",
       "stream": "stdout",
       "text": [
        "\n",
        "PrincessTaraCo"
       ]
      },
      {
       "output_type": "stream",
       "stream": "stdout",
       "text": [
        "\n",
        "Hemiao"
       ]
      },
      {
       "output_type": "stream",
       "stream": "stdout",
       "text": [
        "\n",
        "BlytheCouture"
       ]
      },
      {
       "output_type": "stream",
       "stream": "stdout",
       "text": [
        "\n",
        "KattysHandcrafts"
       ]
      },
      {
       "output_type": "stream",
       "stream": "stdout",
       "text": [
        "\n",
        "AshleysHomeSpun"
       ]
      },
      {
       "output_type": "stream",
       "stream": "stdout",
       "text": [
        "\n",
        "KnittingCrochetKLM"
       ]
      },
      {
       "output_type": "stream",
       "stream": "stdout",
       "text": [
        "\n",
        "j2studioscraft"
       ]
      },
      {
       "output_type": "stream",
       "stream": "stdout",
       "text": [
        "\n",
        "ForestWool"
       ]
      },
      {
       "output_type": "stream",
       "stream": "stdout",
       "text": [
        "\n",
        "Tanyshaknitware"
       ]
      },
      {
       "output_type": "stream",
       "stream": "stdout",
       "text": [
        "\n",
        "EnchantingChildhood"
       ]
      },
      {
       "output_type": "stream",
       "stream": "stdout",
       "text": [
        "\n",
        "PeroskiDesign"
       ]
      },
      {
       "output_type": "stream",
       "stream": "stdout",
       "text": [
        "\n",
        "simplyyarn27"
       ]
      },
      {
       "output_type": "stream",
       "stream": "stdout",
       "text": [
        "\n",
        "thymeline"
       ]
      },
      {
       "output_type": "stream",
       "stream": "stdout",
       "text": [
        "\n",
        "kristine1986"
       ]
      },
      {
       "output_type": "stream",
       "stream": "stdout",
       "text": [
        "\n",
        "ChicAndSheep"
       ]
      },
      {
       "output_type": "stream",
       "stream": "stdout",
       "text": [
        "\n",
        "TheNewtonLabel"
       ]
      },
      {
       "output_type": "stream",
       "stream": "stdout",
       "text": [
        "\n",
        "OYASHOP"
       ]
      },
      {
       "output_type": "stream",
       "stream": "stdout",
       "text": [
        "\n",
        "FistfulOfVintage"
       ]
      },
      {
       "output_type": "stream",
       "stream": "stdout",
       "text": [
        "\n",
        "WishKnits"
       ]
      },
      {
       "output_type": "stream",
       "stream": "stdout",
       "text": [
        "\n",
        "Shelly6262"
       ]
      },
      {
       "output_type": "stream",
       "stream": "stdout",
       "text": [
        "\n",
        "belovedLT"
       ]
      },
      {
       "output_type": "stream",
       "stream": "stdout",
       "text": [
        "\n",
        "thekittensmittensuk"
       ]
      },
      {
       "output_type": "stream",
       "stream": "stdout",
       "text": [
        "\n",
        "CozyPavillion"
       ]
      },
      {
       "output_type": "stream",
       "stream": "stdout",
       "text": [
        "\n",
        "TheBirdTales"
       ]
      },
      {
       "output_type": "stream",
       "stream": "stdout",
       "text": [
        "\n",
        "gentletouch11"
       ]
      },
      {
       "output_type": "stream",
       "stream": "stdout",
       "text": [
        "\n",
        "TheCraftyJackalope"
       ]
      },
      {
       "output_type": "stream",
       "stream": "stdout",
       "text": [
        "\n",
        "SnassyCrafter"
       ]
      },
      {
       "output_type": "stream",
       "stream": "stdout",
       "text": [
        "\n",
        "KnitBuddy"
       ]
      },
      {
       "output_type": "stream",
       "stream": "stdout",
       "text": [
        "\n",
        "LaBottegaDiChicco"
       ]
      },
      {
       "output_type": "stream",
       "stream": "stdout",
       "text": [
        "\n",
        "RedPepperHats"
       ]
      },
      {
       "output_type": "stream",
       "stream": "stdout",
       "text": [
        "\n",
        "Need4KnitShop"
       ]
      },
      {
       "output_type": "stream",
       "stream": "stdout",
       "text": [
        "\n",
        "Nastiin"
       ]
      },
      {
       "output_type": "stream",
       "stream": "stdout",
       "text": [
        "\n",
        "CandesCustomHats"
       ]
      },
      {
       "output_type": "stream",
       "stream": "stdout",
       "text": [
        "\n",
        "MsDeborahKnitter"
       ]
      },
      {
       "output_type": "stream",
       "stream": "stdout",
       "text": [
        "\n",
        "SuperChicDollies"
       ]
      },
      {
       "output_type": "stream",
       "stream": "stdout",
       "text": [
        "\n",
        "KnitWithLoveByDana"
       ]
      },
      {
       "output_type": "stream",
       "stream": "stdout",
       "text": [
        "\n",
        "lanacooper"
       ]
      },
      {
       "output_type": "stream",
       "stream": "stdout",
       "text": [
        "\n",
        "DancingTigerGifts"
       ]
      },
      {
       "output_type": "stream",
       "stream": "stdout",
       "text": [
        "\n",
        "MAChic"
       ]
      },
      {
       "output_type": "stream",
       "stream": "stdout",
       "text": [
        "\n",
        "itsybitsyknitting"
       ]
      },
      {
       "output_type": "stream",
       "stream": "stdout",
       "text": [
        "\n",
        "GayleNeely"
       ]
      },
      {
       "output_type": "stream",
       "stream": "stdout",
       "text": [
        "\n",
        "StitchwerxDesigns"
       ]
      },
      {
       "output_type": "stream",
       "stream": "stdout",
       "text": [
        "\n",
        "ArtsyTreats"
       ]
      },
      {
       "output_type": "stream",
       "stream": "stdout",
       "text": [
        "\n",
        "WheatfieldKnitwear"
       ]
      },
      {
       "output_type": "stream",
       "stream": "stdout",
       "text": [
        "\n",
        "KNITTINGNJEWELRY"
       ]
      },
      {
       "output_type": "stream",
       "stream": "stdout",
       "text": [
        "\n",
        "byvala"
       ]
      },
      {
       "output_type": "stream",
       "stream": "stdout",
       "text": [
        "\n",
        "FawnVintage01"
       ]
      },
      {
       "output_type": "stream",
       "stream": "stdout",
       "text": [
        "\n",
        "LittleKnittyThings"
       ]
      },
      {
       "output_type": "stream",
       "stream": "stdout",
       "text": [
        "\n",
        "ArtfullyAnns"
       ]
      },
      {
       "output_type": "stream",
       "stream": "stdout",
       "text": [
        "\n",
        "juliegalbraith"
       ]
      },
      {
       "output_type": "stream",
       "stream": "stdout",
       "text": [
        "\n",
        "BabasBabyProps"
       ]
      },
      {
       "output_type": "stream",
       "stream": "stdout",
       "text": [
        "\n",
        "SSnEverythingnice"
       ]
      },
      {
       "output_type": "stream",
       "stream": "stdout",
       "text": [
        "\n",
        "APPALACHIANSTITCH"
       ]
      },
      {
       "output_type": "stream",
       "stream": "stdout",
       "text": [
        "\n",
        "KristinaBari"
       ]
      },
      {
       "output_type": "stream",
       "stream": "stdout",
       "text": [
        "\n",
        "ElenaYarovayaCrochet"
       ]
      },
      {
       "output_type": "stream",
       "stream": "stdout",
       "text": [
        "\n",
        "EmofoFashion"
       ]
      },
      {
       "output_type": "stream",
       "stream": "stdout",
       "text": [
        "\n",
        "HouseofJulio"
       ]
      },
      {
       "output_type": "stream",
       "stream": "stdout",
       "text": [
        "\n",
        "SCHandmade"
       ]
      },
      {
       "output_type": "stream",
       "stream": "stdout",
       "text": [
        "\n",
        "knitland24"
       ]
      },
      {
       "output_type": "stream",
       "stream": "stdout",
       "text": [
        "\n",
        "BiKay"
       ]
      },
      {
       "output_type": "stream",
       "stream": "stdout",
       "text": [
        "\n",
        "OliveHats"
       ]
      },
      {
       "output_type": "stream",
       "stream": "stdout",
       "text": [
        "\n",
        "MillCityStitches"
       ]
      },
      {
       "output_type": "stream",
       "stream": "stdout",
       "text": [
        "\n",
        "TheLavishOwl"
       ]
      },
      {
       "output_type": "stream",
       "stream": "stdout",
       "text": [
        "\n",
        "babysknits"
       ]
      },
      {
       "output_type": "stream",
       "stream": "stdout",
       "text": [
        "\n",
        "MyLittleKnits"
       ]
      },
      {
       "output_type": "stream",
       "stream": "stdout",
       "text": [
        "\n",
        "HeavenSentHandmade"
       ]
      },
      {
       "output_type": "stream",
       "stream": "stdout",
       "text": [
        "\n",
        "KnittingPrettyotFarm"
       ]
      },
      {
       "output_type": "stream",
       "stream": "stdout",
       "text": [
        "\n",
        "LavenderBlossoms"
       ]
      },
      {
       "output_type": "stream",
       "stream": "stdout",
       "text": [
        "\n",
        "PoppiesandPeanuts"
       ]
      },
      {
       "output_type": "stream",
       "stream": "stdout",
       "text": [
        "\n",
        "Riashatsandscarves"
       ]
      },
      {
       "output_type": "stream",
       "stream": "stdout",
       "text": [
        "\n",
        "TepperWear"
       ]
      },
      {
       "output_type": "stream",
       "stream": "stdout",
       "text": [
        "\n",
        "ZukasKidsKnits"
       ]
      },
      {
       "output_type": "stream",
       "stream": "stdout",
       "text": [
        "\n",
        "ettygeller"
       ]
      },
      {
       "output_type": "stream",
       "stream": "stdout",
       "text": [
        "\n",
        "PreciousKnits"
       ]
      },
      {
       "output_type": "stream",
       "stream": "stdout",
       "text": [
        "\n",
        "HolyHatz"
       ]
      },
      {
       "output_type": "stream",
       "stream": "stdout",
       "text": [
        "\n",
        "katerynaG"
       ]
      },
      {
       "output_type": "stream",
       "stream": "stdout",
       "text": [
        "\n",
        "lorettascarves"
       ]
      },
      {
       "output_type": "stream",
       "stream": "stdout",
       "text": [
        "\n",
        "rocksandsalt"
       ]
      },
      {
       "output_type": "stream",
       "stream": "stdout",
       "text": [
        "\n",
        "Beadasherie"
       ]
      },
      {
       "output_type": "stream",
       "stream": "stdout",
       "text": [
        "\n",
        "LioncubCreations"
       ]
      },
      {
       "output_type": "stream",
       "stream": "stdout",
       "text": [
        "\n",
        "BetelgeuseBrand"
       ]
      },
      {
       "output_type": "stream",
       "stream": "stdout",
       "text": [
        "\n",
        "Hookinhandcreations"
       ]
      },
      {
       "output_type": "stream",
       "stream": "stdout",
       "text": [
        "\n",
        "beautymanifesto"
       ]
      },
      {
       "output_type": "stream",
       "stream": "stdout",
       "text": [
        "\n",
        "HatsAndOtherStories"
       ]
      },
      {
       "output_type": "stream",
       "stream": "stdout",
       "text": [
        "\n",
        "TanyasBunnyTots"
       ]
      },
      {
       "output_type": "stream",
       "stream": "stdout",
       "text": [
        "\n",
        "SmallPinkGiraffe"
       ]
      },
      {
       "output_type": "stream",
       "stream": "stdout",
       "text": [
        "\n",
        "GoldenGirlzHandmade"
       ]
      },
      {
       "output_type": "stream",
       "stream": "stdout",
       "text": [
        "\n",
        "artnida"
       ]
      },
      {
       "output_type": "stream",
       "stream": "stdout",
       "text": [
        "\n",
        "WhisperingDreams"
       ]
      },
      {
       "output_type": "stream",
       "stream": "stdout",
       "text": [
        "\n",
        "BetaGoods"
       ]
      },
      {
       "output_type": "stream",
       "stream": "stdout",
       "text": [
        "\n",
        "peonijahandmadeshop"
       ]
      },
      {
       "output_type": "stream",
       "stream": "stdout",
       "text": [
        "\n",
        "Eastalace"
       ]
      },
      {
       "output_type": "stream",
       "stream": "stdout",
       "text": [
        "\n",
        "RoklandeFashioShop"
       ]
      },
      {
       "output_type": "stream",
       "stream": "stdout",
       "text": [
        "\n",
        "LAMMYKNITS"
       ]
      },
      {
       "output_type": "stream",
       "stream": "stdout",
       "text": [
        "\n",
        "TheNorthernPurl"
       ]
      },
      {
       "output_type": "stream",
       "stream": "stdout",
       "text": [
        "\n",
        "ChristaEllen"
       ]
      },
      {
       "output_type": "stream",
       "stream": "stdout",
       "text": [
        "\n",
        "herie7"
       ]
      },
      {
       "output_type": "stream",
       "stream": "stdout",
       "text": [
        "\n",
        "FirstChairClothing"
       ]
      },
      {
       "output_type": "stream",
       "stream": "stdout",
       "text": [
        "\n",
        "tinab76"
       ]
      },
      {
       "output_type": "stream",
       "stream": "stdout",
       "text": [
        "\n",
        "MintyDesigns"
       ]
      },
      {
       "output_type": "stream",
       "stream": "stdout",
       "text": [
        "\n",
        "MountainGoth"
       ]
      },
      {
       "output_type": "stream",
       "stream": "stdout",
       "text": [
        "\n",
        "HunkyDoriBoutique"
       ]
      },
      {
       "output_type": "stream",
       "stream": "stdout",
       "text": [
        "\n",
        "UptownKnits"
       ]
      },
      {
       "output_type": "stream",
       "stream": "stdout",
       "text": [
        "\n",
        "OnwardOnward"
       ]
      },
      {
       "output_type": "stream",
       "stream": "stdout",
       "text": [
        "\n",
        "awkward"
       ]
      },
      {
       "output_type": "stream",
       "stream": "stdout",
       "text": [
        "\n",
        "GunayKulbay"
       ]
      },
      {
       "output_type": "stream",
       "stream": "stdout",
       "text": [
        "\n",
        "bysweetmom"
       ]
      },
      {
       "output_type": "stream",
       "stream": "stdout",
       "text": [
        "\n",
        "MadeByMiculinko"
       ]
      },
      {
       "output_type": "stream",
       "stream": "stdout",
       "text": [
        "\n",
        "OldSchoolSwank"
       ]
      },
      {
       "output_type": "stream",
       "stream": "stdout",
       "text": [
        "\n",
        "hippiehousedesigns"
       ]
      },
      {
       "output_type": "stream",
       "stream": "stdout",
       "text": [
        "\n",
        "JerseyThursdayKnits"
       ]
      },
      {
       "output_type": "stream",
       "stream": "stdout",
       "text": [
        "\n",
        "CrochetMyLove"
       ]
      },
      {
       "output_type": "stream",
       "stream": "stdout",
       "text": [
        "\n",
        "SamniengDesigns"
       ]
      },
      {
       "output_type": "stream",
       "stream": "stdout",
       "text": [
        "\n",
        "JHknitter"
       ]
      },
      {
       "output_type": "stream",
       "stream": "stdout",
       "text": [
        "\n",
        "HeadcoversUnlimited"
       ]
      },
      {
       "output_type": "stream",
       "stream": "stdout",
       "text": [
        "\n",
        "KokomoLady"
       ]
      },
      {
       "output_type": "stream",
       "stream": "stdout",
       "text": [
        "\n",
        "Pella"
       ]
      },
      {
       "output_type": "stream",
       "stream": "stdout",
       "text": [
        "\n",
        "KnitterPrincess"
       ]
      },
      {
       "output_type": "stream",
       "stream": "stdout",
       "text": [
        "\n",
        "JUknitwaves"
       ]
      },
      {
       "output_type": "stream",
       "stream": "stdout",
       "text": [
        "\n",
        "JustImagineAlaska"
       ]
      },
      {
       "output_type": "stream",
       "stream": "stdout",
       "text": [
        "\n",
        "PinkyTease"
       ]
      },
      {
       "output_type": "stream",
       "stream": "stdout",
       "text": [
        "\n",
        "NaturallyUnraveled"
       ]
      },
      {
       "output_type": "stream",
       "stream": "stdout",
       "text": [
        "\n",
        "UNIQHeadwear"
       ]
      },
      {
       "output_type": "stream",
       "stream": "stdout",
       "text": [
        "\n",
        "PaganDreams13"
       ]
      },
      {
       "output_type": "stream",
       "stream": "stdout",
       "text": [
        "\n",
        "MirjanaKnittings"
       ]
      },
      {
       "output_type": "stream",
       "stream": "stdout",
       "text": [
        "\n",
        "MoonlightLittleKnits"
       ]
      },
      {
       "output_type": "stream",
       "stream": "stdout",
       "text": [
        "\n",
        "NohoMiscellaneous"
       ]
      },
      {
       "output_type": "stream",
       "stream": "stdout",
       "text": [
        "\n",
        "frecklesnsass"
       ]
      },
      {
       "output_type": "stream",
       "stream": "stdout",
       "text": [
        "\n",
        "MyKnittedTreasures"
       ]
      },
      {
       "output_type": "stream",
       "stream": "stdout",
       "text": [
        "\n",
        "pegsyarncreations"
       ]
      },
      {
       "output_type": "stream",
       "stream": "stdout",
       "text": [
        "\n",
        "HeatherGaleaDesigns"
       ]
      },
      {
       "output_type": "stream",
       "stream": "stdout",
       "text": [
        "\n",
        "kckshop"
       ]
      },
      {
       "output_type": "stream",
       "stream": "stdout",
       "text": [
        "\n",
        "VerantinasBoutique"
       ]
      },
      {
       "output_type": "stream",
       "stream": "stdout",
       "text": [
        "\n",
        "ClassicBabyWhites"
       ]
      },
      {
       "output_type": "stream",
       "stream": "stdout",
       "text": [
        "\n",
        "recyclingroom"
       ]
      },
      {
       "output_type": "stream",
       "stream": "stdout",
       "text": [
        "\n",
        "MoonwolfStudios"
       ]
      },
      {
       "output_type": "stream",
       "stream": "stdout",
       "text": [
        "\n",
        "yagmurhat"
       ]
      },
      {
       "output_type": "stream",
       "stream": "stdout",
       "text": [
        "\n",
        "WhichStitch123"
       ]
      },
      {
       "output_type": "stream",
       "stream": "stdout",
       "text": [
        "\n",
        "ElysianAlpacas"
       ]
      },
      {
       "output_type": "stream",
       "stream": "stdout",
       "text": [
        "\n",
        "Mybebito"
       ]
      },
      {
       "output_type": "stream",
       "stream": "stdout",
       "text": [
        "\n",
        "GraceKnittingPattern"
       ]
      },
      {
       "output_type": "stream",
       "stream": "stdout",
       "text": [
        "\n",
        "CassiesFactory"
       ]
      },
      {
       "output_type": "stream",
       "stream": "stdout",
       "text": [
        "\n",
        "AutumnAndAmber"
       ]
      },
      {
       "output_type": "stream",
       "stream": "stdout",
       "text": [
        "\n",
        "Dreadstuffs"
       ]
      },
      {
       "output_type": "stream",
       "stream": "stdout",
       "text": [
        "\n",
        "peppermintpine"
       ]
      },
      {
       "output_type": "stream",
       "stream": "stdout",
       "text": [
        "\n",
        "LoopsyKnits"
       ]
      },
      {
       "output_type": "stream",
       "stream": "stdout",
       "text": [
        "\n",
        "KatjaVonDesign"
       ]
      },
      {
       "output_type": "stream",
       "stream": "stdout",
       "text": [
        "\n",
        "KnittingInStyle"
       ]
      },
      {
       "output_type": "stream",
       "stream": "stdout",
       "text": [
        "\n",
        "NuranShop"
       ]
      },
      {
       "output_type": "stream",
       "stream": "stdout",
       "text": [
        "\n",
        "lampworkbyjulie"
       ]
      },
      {
       "output_type": "stream",
       "stream": "stdout",
       "text": [
        "\n",
        "hipposdream"
       ]
      },
      {
       "output_type": "stream",
       "stream": "stdout",
       "text": [
        "\n",
        "Britneyshandknits"
       ]
      },
      {
       "output_type": "stream",
       "stream": "stdout",
       "text": [
        "\n",
        "refugium"
       ]
      },
      {
       "output_type": "stream",
       "stream": "stdout",
       "text": [
        "\n",
        "rustiknits"
       ]
      },
      {
       "output_type": "stream",
       "stream": "stdout",
       "text": [
        "\n",
        "LifesAnExpedition"
       ]
      },
      {
       "output_type": "stream",
       "stream": "stdout",
       "text": [
        "\n",
        "KnitTim"
       ]
      },
      {
       "output_type": "stream",
       "stream": "stdout",
       "text": [
        "\n",
        "WhimsicalWarmthProps"
       ]
      },
      {
       "output_type": "stream",
       "stream": "stdout",
       "text": [
        "\n",
        "PrettyKnitShop"
       ]
      },
      {
       "output_type": "stream",
       "stream": "stdout",
       "text": [
        "\n",
        "NONAYO"
       ]
      },
      {
       "output_type": "stream",
       "stream": "stdout",
       "text": [
        "\n",
        "EnguKnits"
       ]
      },
      {
       "output_type": "stream",
       "stream": "stdout",
       "text": [
        "\n",
        "talktothesun"
       ]
      },
      {
       "output_type": "stream",
       "stream": "stdout",
       "text": [
        "\n",
        "OCCASIONsonjabegonia"
       ]
      },
      {
       "output_type": "stream",
       "stream": "stdout",
       "text": [
        "\n",
        "maryscc"
       ]
      },
      {
       "output_type": "stream",
       "stream": "stdout",
       "text": [
        "\n",
        "BabyLeCradle"
       ]
      },
      {
       "output_type": "stream",
       "stream": "stdout",
       "text": [
        "\n",
        "AplaceofInterest"
       ]
      },
      {
       "output_type": "stream",
       "stream": "stdout",
       "text": [
        "\n",
        "CreatingWithSticks"
       ]
      },
      {
       "output_type": "stream",
       "stream": "stdout",
       "text": [
        "\n",
        "SJAWoodesign"
       ]
      },
      {
       "output_type": "stream",
       "stream": "stdout",
       "text": [
        "\n",
        "TLVgoods"
       ]
      },
      {
       "output_type": "stream",
       "stream": "stdout",
       "text": [
        "\n",
        "ChickSale"
       ]
      },
      {
       "output_type": "stream",
       "stream": "stdout",
       "text": [
        "\n",
        "BarelySaneMom"
       ]
      },
      {
       "output_type": "stream",
       "stream": "stdout",
       "text": [
        "\n",
        "ItsyBitsyBlooms"
       ]
      },
      {
       "output_type": "stream",
       "stream": "stdout",
       "text": [
        "\n",
        "Maddiesdivinedesigns"
       ]
      },
      {
       "output_type": "stream",
       "stream": "stdout",
       "text": [
        "\n",
        "nomacustom"
       ]
      },
      {
       "output_type": "stream",
       "stream": "stdout",
       "text": [
        "\n",
        "zauberhanddesign"
       ]
      },
      {
       "output_type": "stream",
       "stream": "stdout",
       "text": [
        "\n",
        "MountainHoneyrags"
       ]
      },
      {
       "output_type": "stream",
       "stream": "stdout",
       "text": [
        "\n",
        "bySarahBeth"
       ]
      },
      {
       "output_type": "stream",
       "stream": "stdout",
       "text": [
        "\n",
        "northwardhandcraft"
       ]
      },
      {
       "output_type": "stream",
       "stream": "stdout",
       "text": [
        "\n",
        "SpinningStreak"
       ]
      },
      {
       "output_type": "stream",
       "stream": "stdout",
       "text": [
        "\n",
        "ROIG42"
       ]
      },
      {
       "output_type": "stream",
       "stream": "stdout",
       "text": [
        "\n",
        "PetiteIdasCreations"
       ]
      },
      {
       "output_type": "stream",
       "stream": "stdout",
       "text": [
        "\n",
        "grannypattern"
       ]
      },
      {
       "output_type": "stream",
       "stream": "stdout",
       "text": [
        "\n",
        "valleypurl"
       ]
      },
      {
       "output_type": "stream",
       "stream": "stdout",
       "text": [
        "\n",
        "moonvalleygoods"
       ]
      },
      {
       "output_type": "stream",
       "stream": "stdout",
       "text": [
        "\n",
        "yarnawayknits"
       ]
      },
      {
       "output_type": "stream",
       "stream": "stdout",
       "text": [
        "\n",
        "AngelaRoseBoutique"
       ]
      },
      {
       "output_type": "stream",
       "stream": "stdout",
       "text": [
        "\n",
        "BloomWorkshop"
       ]
      },
      {
       "output_type": "stream",
       "stream": "stdout",
       "text": [
        "\n",
        "ICraft4Shoes"
       ]
      },
      {
       "output_type": "stream",
       "stream": "stdout",
       "text": [
        "\n",
        "softnesslove"
       ]
      },
      {
       "output_type": "stream",
       "stream": "stdout",
       "text": [
        "\n",
        "NeedleLoveKnits"
       ]
      },
      {
       "output_type": "stream",
       "stream": "stdout",
       "text": [
        "\n",
        "Eastknits"
       ]
      },
      {
       "output_type": "stream",
       "stream": "stdout",
       "text": [
        "\n",
        "KnitByMe"
       ]
      },
      {
       "output_type": "stream",
       "stream": "stdout",
       "text": [
        "\n",
        "NancyHuberCreations"
       ]
      },
      {
       "output_type": "stream",
       "stream": "stdout",
       "text": [
        "\n",
        "AluraCrafts"
       ]
      },
      {
       "output_type": "stream",
       "stream": "stdout",
       "text": [
        "\n",
        "Elegantcrochets"
       ]
      },
      {
       "output_type": "stream",
       "stream": "stdout",
       "text": [
        "\n",
        "pocketens"
       ]
      },
      {
       "output_type": "stream",
       "stream": "stdout",
       "text": [
        "\n",
        "BlumenKinderSeattle"
       ]
      },
      {
       "output_type": "stream",
       "stream": "stdout",
       "text": [
        "\n",
        "LoveFromNewZealand"
       ]
      },
      {
       "output_type": "stream",
       "stream": "stdout",
       "text": [
        "\n",
        "WendysWonders127"
       ]
      },
      {
       "output_type": "stream",
       "stream": "stdout",
       "text": [
        "\n",
        "ANMARIKEDECORPLUS"
       ]
      },
      {
       "output_type": "stream",
       "stream": "stdout",
       "text": [
        "\n",
        "HideyHoleHats"
       ]
      },
      {
       "output_type": "stream",
       "stream": "stdout",
       "text": [
        "\n",
        "EmmettBrown"
       ]
      },
      {
       "output_type": "stream",
       "stream": "stdout",
       "text": [
        "\n",
        "wiscaliali"
       ]
      },
      {
       "output_type": "stream",
       "stream": "stdout",
       "text": [
        "\n",
        "FunkyAirBear"
       ]
      },
      {
       "output_type": "stream",
       "stream": "stdout",
       "text": [
        "\n",
        "SistersinCraft"
       ]
      },
      {
       "output_type": "stream",
       "stream": "stdout",
       "text": [
        "\n",
        "Accessodium"
       ]
      },
      {
       "output_type": "stream",
       "stream": "stdout",
       "text": [
        "\n",
        "CapeCodHandmades"
       ]
      },
      {
       "output_type": "stream",
       "stream": "stdout",
       "text": [
        "\n",
        "littlenestboutique"
       ]
      },
      {
       "output_type": "stream",
       "stream": "stdout",
       "text": [
        "\n",
        "FarEastHandMade"
       ]
      },
      {
       "output_type": "stream",
       "stream": "stdout",
       "text": [
        "\n",
        "KoonaYogaWear"
       ]
      },
      {
       "output_type": "stream",
       "stream": "stdout",
       "text": [
        "\n",
        "SimplyCraftSupplies"
       ]
      },
      {
       "output_type": "stream",
       "stream": "stdout",
       "text": [
        "\n",
        "SallyAnnaBoutique"
       ]
      },
      {
       "output_type": "stream",
       "stream": "stdout",
       "text": [
        "\n",
        "Dashright"
       ]
      },
      {
       "output_type": "stream",
       "stream": "stdout",
       "text": [
        "\n",
        "Solnishko42"
       ]
      },
      {
       "output_type": "stream",
       "stream": "stdout",
       "text": [
        "\n",
        "ABknits"
       ]
      },
      {
       "output_type": "stream",
       "stream": "stdout",
       "text": [
        "\n",
        "kkaw"
       ]
      },
      {
       "output_type": "stream",
       "stream": "stdout",
       "text": [
        "\n",
        "pingosdoceu"
       ]
      },
      {
       "output_type": "stream",
       "stream": "stdout",
       "text": [
        "\n",
        "BarbsSewingBasket"
       ]
      },
      {
       "output_type": "stream",
       "stream": "stdout",
       "text": [
        "\n",
        "CrazyCuteByAngela"
       ]
      },
      {
       "output_type": "stream",
       "stream": "stdout",
       "text": [
        "\n",
        "DILALOO"
       ]
      },
      {
       "output_type": "stream",
       "stream": "stdout",
       "text": [
        "\n",
        "rerunvintage"
       ]
      },
      {
       "output_type": "stream",
       "stream": "stdout",
       "text": [
        "\n",
        "Nakkashe"
       ]
      },
      {
       "output_type": "stream",
       "stream": "stdout",
       "text": [
        "\n",
        "3PeasinaPod15"
       ]
      },
      {
       "output_type": "stream",
       "stream": "stdout",
       "text": [
        "\n",
        "KnittedJoys"
       ]
      },
      {
       "output_type": "stream",
       "stream": "stdout",
       "text": [
        "\n",
        "ytang"
       ]
      },
      {
       "output_type": "stream",
       "stream": "stdout",
       "text": [
        "\n",
        "knitwit321"
       ]
      },
      {
       "output_type": "stream",
       "stream": "stdout",
       "text": [
        "\n",
        "SophiaGianna2Sisters"
       ]
      },
      {
       "output_type": "stream",
       "stream": "stdout",
       "text": [
        "\n",
        "SayItManyWays"
       ]
      },
      {
       "output_type": "stream",
       "stream": "stdout",
       "text": [
        "\n",
        "KamiHats"
       ]
      },
      {
       "output_type": "stream",
       "stream": "stdout",
       "text": [
        "\n",
        "whitlycraftworks"
       ]
      },
      {
       "output_type": "stream",
       "stream": "stdout",
       "text": [
        "\n",
        "HappyLaika"
       ]
      },
      {
       "output_type": "stream",
       "stream": "stdout",
       "text": [
        "\n",
        "JobesJewelryBox"
       ]
      },
      {
       "output_type": "stream",
       "stream": "stdout",
       "text": [
        "\n",
        "PERFECTLYPRIMATIVE"
       ]
      },
      {
       "output_type": "stream",
       "stream": "stdout",
       "text": [
        "\n",
        "JackBentleyKnitwear"
       ]
      },
      {
       "output_type": "stream",
       "stream": "stdout",
       "text": [
        "\n",
        "CustomPhotoProps"
       ]
      },
      {
       "output_type": "stream",
       "stream": "stdout",
       "text": [
        "\n",
        "djfleesh"
       ]
      },
      {
       "output_type": "stream",
       "stream": "stdout",
       "text": [
        "\n",
        "Thingswelike2knit"
       ]
      },
      {
       "output_type": "stream",
       "stream": "stdout",
       "text": [
        "\n",
        "BilgesCreation"
       ]
      },
      {
       "output_type": "stream",
       "stream": "stdout",
       "text": [
        "\n",
        "ThisMomentisGood"
       ]
      },
      {
       "output_type": "stream",
       "stream": "stdout",
       "text": [
        "\n",
        "ComfyInTheSouth"
       ]
      },
      {
       "output_type": "stream",
       "stream": "stdout",
       "text": [
        "\n",
        "TwoStixStudios"
       ]
      },
      {
       "output_type": "stream",
       "stream": "stdout",
       "text": [
        "\n",
        "Incidentallyforyou"
       ]
      },
      {
       "output_type": "stream",
       "stream": "stdout",
       "text": [
        "\n",
        "ZucchiniIsland"
       ]
      },
      {
       "output_type": "stream",
       "stream": "stdout",
       "text": [
        "\n",
        "Worldsofknitted"
       ]
      },
      {
       "output_type": "stream",
       "stream": "stdout",
       "text": [
        "\n",
        "YulemKnits"
       ]
      },
      {
       "output_type": "stream",
       "stream": "stdout",
       "text": [
        "\n",
        "CraftedEssentials"
       ]
      },
      {
       "output_type": "stream",
       "stream": "stdout",
       "text": [
        "\n",
        "emilyspurlfectknits"
       ]
      },
      {
       "output_type": "stream",
       "stream": "stdout",
       "text": [
        "\n",
        "abellawear"
       ]
      },
      {
       "output_type": "stream",
       "stream": "stdout",
       "text": [
        "\n",
        "TheBlackElephant"
       ]
      },
      {
       "output_type": "stream",
       "stream": "stdout",
       "text": [
        "\n",
        "Iryna"
       ]
      },
      {
       "output_type": "stream",
       "stream": "stdout",
       "text": [
        "\n",
        "angikay"
       ]
      },
      {
       "output_type": "stream",
       "stream": "stdout",
       "text": [
        "\n",
        "GiftCreative"
       ]
      },
      {
       "output_type": "stream",
       "stream": "stdout",
       "text": [
        "\n",
        "TimelessTreasuresbyB"
       ]
      },
      {
       "output_type": "stream",
       "stream": "stdout",
       "text": [
        "\n",
        "creaspir"
       ]
      },
      {
       "output_type": "stream",
       "stream": "stdout",
       "text": [
        "\n",
        "KnitbyShan"
       ]
      },
      {
       "output_type": "stream",
       "stream": "stdout",
       "text": [
        "\n",
        "SweetEllasDesigns"
       ]
      },
      {
       "output_type": "stream",
       "stream": "stdout",
       "text": [
        "\n",
        "GiniJackOriginals"
       ]
      },
      {
       "output_type": "stream",
       "stream": "stdout",
       "text": [
        "\n",
        "AnnasFashionJewelry"
       ]
      },
      {
       "output_type": "stream",
       "stream": "stdout",
       "text": [
        "\n",
        "oMallaMo"
       ]
      },
      {
       "output_type": "stream",
       "stream": "stdout",
       "text": [
        "\n",
        "RoostingRobbin"
       ]
      },
      {
       "output_type": "stream",
       "stream": "stdout",
       "text": [
        "\n",
        "imali"
       ]
      },
      {
       "output_type": "stream",
       "stream": "stdout",
       "text": [
        "\n",
        "needleloops"
       ]
      },
      {
       "output_type": "stream",
       "stream": "stdout",
       "text": [
        "\n",
        "KnittedBySavannah"
       ]
      },
      {
       "output_type": "stream",
       "stream": "stdout",
       "text": [
        "\n",
        "ICraftOutsidetheBox"
       ]
      },
      {
       "output_type": "stream",
       "stream": "stdout",
       "text": [
        "\n",
        "SewCuteQuiltAndKnit"
       ]
      },
      {
       "output_type": "stream",
       "stream": "stdout",
       "text": [
        "\n",
        "EGHDesigns"
       ]
      },
      {
       "output_type": "stream",
       "stream": "stdout",
       "text": [
        "\n",
        "KanopaPatterns"
       ]
      },
      {
       "output_type": "stream",
       "stream": "stdout",
       "text": [
        "\n",
        "LorisHatShop"
       ]
      },
      {
       "output_type": "stream",
       "stream": "stdout",
       "text": [
        "\n",
        "HandsTime"
       ]
      },
      {
       "output_type": "stream",
       "stream": "stdout",
       "text": [
        "\n",
        "StitchKnit"
       ]
      },
      {
       "output_type": "stream",
       "stream": "stdout",
       "text": [
        "\n",
        "LoveCityCrochet"
       ]
      },
      {
       "output_type": "stream",
       "stream": "stdout",
       "text": [
        "\n",
        "CarlyCreatesCrafts"
       ]
      },
      {
       "output_type": "stream",
       "stream": "stdout",
       "text": [
        "\n",
        "TheArbitraryArtisan"
       ]
      },
      {
       "output_type": "stream",
       "stream": "stdout",
       "text": [
        "\n",
        "IstanbulCalling"
       ]
      },
      {
       "output_type": "stream",
       "stream": "stdout",
       "text": [
        "\n",
        "LizSox"
       ]
      },
      {
       "output_type": "stream",
       "stream": "stdout",
       "text": [
        "\n",
        "KALIFASHIONS"
       ]
      },
      {
       "output_type": "stream",
       "stream": "stdout",
       "text": [
        "\n",
        "HarrisKnittingCloset"
       ]
      },
      {
       "output_type": "stream",
       "stream": "stdout",
       "text": [
        "\n",
        "Turtlehawk83"
       ]
      },
      {
       "output_type": "stream",
       "stream": "stdout",
       "text": [
        "\n",
        "Blissfulloops"
       ]
      },
      {
       "output_type": "stream",
       "stream": "stdout",
       "text": [
        "\n",
        "SenseAndEmotions"
       ]
      },
      {
       "output_type": "stream",
       "stream": "stdout",
       "text": [
        "\n",
        "SigiSoreget"
       ]
      },
      {
       "output_type": "stream",
       "stream": "stdout",
       "text": [
        "\n",
        "AJoyfulCreation"
       ]
      },
      {
       "output_type": "stream",
       "stream": "stdout",
       "text": [
        "\n",
        "MizMizaBella"
       ]
      },
      {
       "output_type": "stream",
       "stream": "stdout",
       "text": [
        "\n",
        "OnanaKnits"
       ]
      },
      {
       "output_type": "stream",
       "stream": "stdout",
       "text": [
        "\n",
        "MMDecoStudio"
       ]
      },
      {
       "output_type": "stream",
       "stream": "stdout",
       "text": [
        "\n",
        "JensKnitPit"
       ]
      },
      {
       "output_type": "stream",
       "stream": "stdout",
       "text": [
        "\n",
        "knittingboutique8"
       ]
      },
      {
       "output_type": "stream",
       "stream": "stdout",
       "text": [
        "\n",
        "kickassvintage"
       ]
      },
      {
       "output_type": "stream",
       "stream": "stdout",
       "text": [
        "\n",
        "LittlePandaMommy"
       ]
      },
      {
       "output_type": "stream",
       "stream": "stdout",
       "text": [
        "\n",
        "mybabyhats"
       ]
      },
      {
       "output_type": "stream",
       "stream": "stdout",
       "text": [
        "\n",
        "WoolFans"
       ]
      },
      {
       "output_type": "stream",
       "stream": "stdout",
       "text": [
        "\n",
        "FloralSide"
       ]
      },
      {
       "output_type": "stream",
       "stream": "stdout",
       "text": [
        "\n",
        "CrazyDaisyFlorist"
       ]
      },
      {
       "output_type": "stream",
       "stream": "stdout",
       "text": [
        "\n",
        "pipisqueaks"
       ]
      },
      {
       "output_type": "stream",
       "stream": "stdout",
       "text": [
        "\n",
        "parkie2"
       ]
      },
      {
       "output_type": "stream",
       "stream": "stdout",
       "text": [
        "\n",
        "ChiaraBoutiqe"
       ]
      },
      {
       "output_type": "stream",
       "stream": "stdout",
       "text": [
        "\n",
        "LeftHandWandering"
       ]
      },
      {
       "output_type": "stream",
       "stream": "stdout",
       "text": [
        "\n",
        "knittingwinters"
       ]
      },
      {
       "output_type": "stream",
       "stream": "stdout",
       "text": [
        "\n",
        "ShopCountryCottage"
       ]
      },
      {
       "output_type": "stream",
       "stream": "stdout",
       "text": [
        "\n",
        "silviaol"
       ]
      },
      {
       "output_type": "stream",
       "stream": "stdout",
       "text": [
        "\n",
        "bonnetsandbooties"
       ]
      },
      {
       "output_type": "stream",
       "stream": "stdout",
       "text": [
        "\n",
        "EvasStudio"
       ]
      },
      {
       "output_type": "stream",
       "stream": "stdout",
       "text": [
        "\n",
        "EllaGajewskaHATS"
       ]
      },
      {
       "output_type": "stream",
       "stream": "stdout",
       "text": [
        "\n",
        "PyramidSkein"
       ]
      },
      {
       "output_type": "stream",
       "stream": "stdout",
       "text": [
        "\n",
        "WayWayKnits"
       ]
      },
      {
       "output_type": "stream",
       "stream": "stdout",
       "text": [
        "\n",
        "NicePuppy"
       ]
      },
      {
       "output_type": "stream",
       "stream": "stdout",
       "text": [
        "\n",
        "FocusonColor"
       ]
      },
      {
       "output_type": "stream",
       "stream": "stdout",
       "text": [
        "\n",
        "SierrasStitchery"
       ]
      },
      {
       "output_type": "stream",
       "stream": "stdout",
       "text": [
        "\n",
        "mymamaknits"
       ]
      },
      {
       "output_type": "stream",
       "stream": "stdout",
       "text": [
        "\n",
        "Flashfloozy"
       ]
      },
      {
       "output_type": "stream",
       "stream": "stdout",
       "text": [
        "\n",
        "FrannysHouse"
       ]
      },
      {
       "output_type": "stream",
       "stream": "stdout",
       "text": [
        "\n",
        "zestvintage"
       ]
      },
      {
       "output_type": "stream",
       "stream": "stdout",
       "text": [
        "\n",
        "LoveandKnit"
       ]
      },
      {
       "output_type": "stream",
       "stream": "stdout",
       "text": [
        "\n",
        "LittleGemsByLuisa"
       ]
      },
      {
       "output_type": "stream",
       "stream": "stdout",
       "text": [
        "\n",
        "WhiteThorneTree"
       ]
      },
      {
       "output_type": "stream",
       "stream": "stdout",
       "text": [
        "\n",
        "JunelloShop"
       ]
      },
      {
       "output_type": "stream",
       "stream": "stdout",
       "text": [
        "\n",
        "FreyaEsme"
       ]
      },
      {
       "output_type": "stream",
       "stream": "stdout",
       "text": [
        "\n",
        "KnittedLT"
       ]
      },
      {
       "output_type": "stream",
       "stream": "stdout",
       "text": [
        "\n",
        "DosiakStyle"
       ]
      },
      {
       "output_type": "stream",
       "stream": "stdout",
       "text": [
        "\n",
        "ZOJKAshop"
       ]
      },
      {
       "output_type": "stream",
       "stream": "stdout",
       "text": [
        "\n",
        "knitandcurl"
       ]
      },
      {
       "output_type": "stream",
       "stream": "stdout",
       "text": [
        "\n",
        "RedWagonKids"
       ]
      },
      {
       "output_type": "stream",
       "stream": "stdout",
       "text": [
        "\n",
        "BonnetsnBeads"
       ]
      },
      {
       "output_type": "stream",
       "stream": "stdout",
       "text": [
        "\n",
        "CawfeeGuy"
       ]
      },
      {
       "output_type": "stream",
       "stream": "stdout",
       "text": [
        "\n",
        "WetHenKnits"
       ]
      },
      {
       "output_type": "stream",
       "stream": "stdout",
       "text": [
        "\n",
        "beadedwire"
       ]
      },
      {
       "output_type": "stream",
       "stream": "stdout",
       "text": [
        "\n",
        "BettyMarieJones"
       ]
      },
      {
       "output_type": "stream",
       "stream": "stdout",
       "text": [
        "\n",
        "SelectKnits"
       ]
      },
      {
       "output_type": "stream",
       "stream": "stdout",
       "text": [
        "\n",
        "ViktorijaCraft"
       ]
      },
      {
       "output_type": "stream",
       "stream": "stdout",
       "text": [
        "\n",
        "GrahamsBazaar"
       ]
      },
      {
       "output_type": "stream",
       "stream": "stdout",
       "text": [
        "\n",
        "CozyKnitsCoffeeBeans"
       ]
      },
      {
       "output_type": "stream",
       "stream": "stdout",
       "text": [
        "\n",
        "KnettasKnits"
       ]
      },
      {
       "output_type": "stream",
       "stream": "stdout",
       "text": [
        "\n",
        "HappyKnitandCrochet"
       ]
      },
      {
       "output_type": "stream",
       "stream": "stdout",
       "text": [
        "\n",
        "KBsPaddywacks"
       ]
      },
      {
       "output_type": "stream",
       "stream": "stdout",
       "text": [
        "\n",
        "Creationsbyclark"
       ]
      },
      {
       "output_type": "stream",
       "stream": "stdout",
       "text": [
        "\n",
        "SELINCE"
       ]
      },
      {
       "output_type": "stream",
       "stream": "stdout",
       "text": [
        "\n",
        "AWHatsandCrafts"
       ]
      },
      {
       "output_type": "stream",
       "stream": "stdout",
       "text": [
        "\n",
        "SibelDesign"
       ]
      },
      {
       "output_type": "stream",
       "stream": "stdout",
       "text": [
        "\n",
        "HouseonCherryHill"
       ]
      },
      {
       "output_type": "stream",
       "stream": "stdout",
       "text": [
        "\n",
        "JuliaBeeCrafts"
       ]
      },
      {
       "output_type": "stream",
       "stream": "stdout",
       "text": [
        "\n",
        "Dagaknit"
       ]
      },
      {
       "output_type": "stream",
       "stream": "stdout",
       "text": [
        "\n",
        "thesunandtheturtle"
       ]
      },
      {
       "output_type": "stream",
       "stream": "stdout",
       "text": [
        "\n",
        "SewEcological"
       ]
      },
      {
       "output_type": "stream",
       "stream": "stdout",
       "text": [
        "\n",
        "SOVAknits"
       ]
      },
      {
       "output_type": "stream",
       "stream": "stdout",
       "text": [
        "\n",
        "lilbowsandarrows"
       ]
      },
      {
       "output_type": "stream",
       "stream": "stdout",
       "text": [
        "\n",
        "ekuboo"
       ]
      },
      {
       "output_type": "stream",
       "stream": "stdout",
       "text": [
        "\n",
        "BBCHIC2"
       ]
      },
      {
       "output_type": "stream",
       "stream": "stdout",
       "text": [
        "\n",
        "CELINICRAFTS"
       ]
      },
      {
       "output_type": "stream",
       "stream": "stdout",
       "text": [
        "\n",
        "Elkestreasurechest"
       ]
      },
      {
       "output_type": "stream",
       "stream": "stdout",
       "text": [
        "\n",
        "HandCraftedbyAnne"
       ]
      },
      {
       "output_type": "stream",
       "stream": "stdout",
       "text": [
        "\n",
        "ASweetpeaCrafts"
       ]
      },
      {
       "output_type": "stream",
       "stream": "stdout",
       "text": [
        "\n",
        "BonCherCreations"
       ]
      },
      {
       "output_type": "stream",
       "stream": "stdout",
       "text": [
        "\n",
        "IslaysTerrace"
       ]
      },
      {
       "output_type": "stream",
       "stream": "stdout",
       "text": [
        "\n",
        "cutiesvintageprettys"
       ]
      },
      {
       "output_type": "stream",
       "stream": "stdout",
       "text": [
        "\n",
        "haloopajoop"
       ]
      },
      {
       "output_type": "stream",
       "stream": "stdout",
       "text": [
        "\n",
        "beaconknits"
       ]
      },
      {
       "output_type": "stream",
       "stream": "stdout",
       "text": [
        "\n",
        "MAMMBAaccessories"
       ]
      },
      {
       "output_type": "stream",
       "stream": "stdout",
       "text": [
        "\n",
        "GoCrochetCreations"
       ]
      },
      {
       "output_type": "stream",
       "stream": "stdout",
       "text": [
        "\n",
        "bestdressedlady"
       ]
      },
      {
       "output_type": "stream",
       "stream": "stdout",
       "text": [
        "\n",
        "CRAZYBOOM"
       ]
      },
      {
       "output_type": "stream",
       "stream": "stdout",
       "text": [
        "\n",
        "WormeWoole"
       ]
      },
      {
       "output_type": "stream",
       "stream": "stdout",
       "text": [
        "\n",
        "CraftyCornishMaids"
       ]
      },
      {
       "output_type": "stream",
       "stream": "stdout",
       "text": [
        "\n",
        "Kampsun"
       ]
      },
      {
       "output_type": "stream",
       "stream": "stdout",
       "text": [
        "\n",
        "Volang"
       ]
      },
      {
       "output_type": "stream",
       "stream": "stdout",
       "text": [
        "\n",
        "NataKnitwork"
       ]
      },
      {
       "output_type": "stream",
       "stream": "stdout",
       "text": [
        "\n",
        "ShariRoseShop"
       ]
      },
      {
       "output_type": "stream",
       "stream": "stdout",
       "text": [
        "\n",
        "AuntyJoanCrafts"
       ]
      },
      {
       "output_type": "stream",
       "stream": "stdout",
       "text": [
        "\n",
        "MyNicePurses"
       ]
      },
      {
       "output_type": "stream",
       "stream": "stdout",
       "text": [
        "\n",
        "vintachi"
       ]
      },
      {
       "output_type": "stream",
       "stream": "stdout",
       "text": [
        "\n",
        "knitsplus"
       ]
      },
      {
       "output_type": "stream",
       "stream": "stdout",
       "text": [
        "\n",
        "MarkaDecorFashion"
       ]
      },
      {
       "output_type": "stream",
       "stream": "stdout",
       "text": [
        "\n",
        "VegaCreate"
       ]
      },
      {
       "output_type": "stream",
       "stream": "stdout",
       "text": [
        "\n",
        "debsatticfinds"
       ]
      },
      {
       "output_type": "stream",
       "stream": "stdout",
       "text": [
        "\n",
        "knithatsbyTom"
       ]
      },
      {
       "output_type": "stream",
       "stream": "stdout",
       "text": [
        "\n",
        "CrazyButterflies"
       ]
      },
      {
       "output_type": "stream",
       "stream": "stdout",
       "text": [
        "\n",
        "allearthlings"
       ]
      },
      {
       "output_type": "stream",
       "stream": "stdout",
       "text": [
        "\n",
        "PiecesBoutique"
       ]
      },
      {
       "output_type": "stream",
       "stream": "stdout",
       "text": [
        "\n",
        "KittyBritchesBoutiqu"
       ]
      },
      {
       "output_type": "stream",
       "stream": "stdout",
       "text": [
        "\n",
        "SusanDeanne"
       ]
      },
      {
       "output_type": "stream",
       "stream": "stdout",
       "text": [
        "\n",
        "AlkistiKnits"
       ]
      },
      {
       "output_type": "stream",
       "stream": "stdout",
       "text": [
        "\n",
        "PreciousBowtique"
       ]
      },
      {
       "output_type": "stream",
       "stream": "stdout",
       "text": [
        "\n",
        "StayWarmInStyle"
       ]
      },
      {
       "output_type": "stream",
       "stream": "stdout",
       "text": [
        "\n",
        "fancyknits"
       ]
      },
      {
       "output_type": "stream",
       "stream": "stdout",
       "text": [
        "\n",
        "ACraftyObsession"
       ]
      },
      {
       "output_type": "stream",
       "stream": "stdout",
       "text": [
        "\n",
        "ShortroundsKnitwear"
       ]
      },
      {
       "output_type": "stream",
       "stream": "stdout",
       "text": [
        "\n",
        "WoolyThinker"
       ]
      },
      {
       "output_type": "stream",
       "stream": "stdout",
       "text": [
        "\n",
        "SillyLittleBlackCat"
       ]
      },
      {
       "output_type": "stream",
       "stream": "stdout",
       "text": [
        "\n",
        "ChicCrochet4You"
       ]
      },
      {
       "output_type": "stream",
       "stream": "stdout",
       "text": [
        "\n",
        "MaybushModa"
       ]
      },
      {
       "output_type": "stream",
       "stream": "stdout",
       "text": [
        "\n",
        "EmmaJaneandJo"
       ]
      },
      {
       "output_type": "stream",
       "stream": "stdout",
       "text": [
        "\n",
        "Nellistyle"
       ]
      },
      {
       "output_type": "stream",
       "stream": "stdout",
       "text": [
        "\n",
        "NickelsKnittery"
       ]
      },
      {
       "output_type": "stream",
       "stream": "stdout",
       "text": [
        "\n",
        "LovelyLegsPlus"
       ]
      },
      {
       "output_type": "stream",
       "stream": "stdout",
       "text": [
        "\n",
        "Weknit2tog"
       ]
      },
      {
       "output_type": "stream",
       "stream": "stdout",
       "text": [
        "\n",
        "wooolmint"
       ]
      },
      {
       "output_type": "stream",
       "stream": "stdout",
       "text": [
        "\n",
        "Vintagebuttonhats"
       ]
      },
      {
       "output_type": "stream",
       "stream": "stdout",
       "text": [
        "\n",
        "RekindledLove"
       ]
      },
      {
       "output_type": "stream",
       "stream": "stdout",
       "text": [
        "\n",
        "intheLOOPdesign"
       ]
      },
      {
       "output_type": "stream",
       "stream": "stdout",
       "text": [
        "\n",
        "NMSDesign"
       ]
      },
      {
       "output_type": "stream",
       "stream": "stdout",
       "text": [
        "\n",
        "brittnicarter"
       ]
      },
      {
       "output_type": "stream",
       "stream": "stdout",
       "text": [
        "\n",
        "willowandsagecreatio"
       ]
      },
      {
       "output_type": "stream",
       "stream": "stdout",
       "text": [
        "\n",
        "KnitsForGifts"
       ]
      },
      {
       "output_type": "stream",
       "stream": "stdout",
       "text": [
        "\n",
        "KnitandFeltbyNat"
       ]
      },
      {
       "output_type": "stream",
       "stream": "stdout",
       "text": [
        "\n",
        "IvannaN"
       ]
      },
      {
       "output_type": "stream",
       "stream": "stdout",
       "text": [
        "\n",
        "BeUn"
       ]
      },
      {
       "output_type": "stream",
       "stream": "stdout",
       "text": [
        "\n",
        "KnottinghamKnits"
       ]
      },
      {
       "output_type": "stream",
       "stream": "stdout",
       "text": [
        "\n",
        "2mice"
       ]
      },
      {
       "output_type": "stream",
       "stream": "stdout",
       "text": [
        "\n",
        "Sheepsterscorner"
       ]
      },
      {
       "output_type": "stream",
       "stream": "stdout",
       "text": [
        "\n",
        "TheCheshiresHat"
       ]
      },
      {
       "output_type": "stream",
       "stream": "stdout",
       "text": [
        "\n",
        "adknit"
       ]
      },
      {
       "output_type": "stream",
       "stream": "stdout",
       "text": [
        "\n",
        "JBRLDesign"
       ]
      },
      {
       "output_type": "stream",
       "stream": "stdout",
       "text": [
        "\n",
        "KnittName"
       ]
      },
      {
       "output_type": "stream",
       "stream": "stdout",
       "text": [
        "\n",
        "Studio20Designs"
       ]
      },
      {
       "output_type": "stream",
       "stream": "stdout",
       "text": [
        "\n",
        "WomanStyleShop"
       ]
      },
      {
       "output_type": "stream",
       "stream": "stdout",
       "text": [
        "\n",
        "KnitsandTreasures"
       ]
      },
      {
       "output_type": "stream",
       "stream": "stdout",
       "text": [
        "\n",
        "HollysUniqueBoutique"
       ]
      },
      {
       "output_type": "stream",
       "stream": "stdout",
       "text": [
        "\n",
        "ThePinkTheory"
       ]
      },
      {
       "output_type": "stream",
       "stream": "stdout",
       "text": [
        "\n",
        "stickshooksandyarn"
       ]
      },
      {
       "output_type": "stream",
       "stream": "stdout",
       "text": [
        "\n",
        "DeStashAttic"
       ]
      },
      {
       "output_type": "stream",
       "stream": "stdout",
       "text": [
        "\n",
        "KnittedAndWarm"
       ]
      },
      {
       "output_type": "stream",
       "stream": "stdout",
       "text": [
        "\n",
        "NookCove"
       ]
      },
      {
       "output_type": "stream",
       "stream": "stdout",
       "text": [
        "\n",
        "TurkishFolkArts"
       ]
      },
      {
       "output_type": "stream",
       "stream": "stdout",
       "text": [
        "\n",
        "woollybaby"
       ]
      },
      {
       "output_type": "stream",
       "stream": "stdout",
       "text": [
        "\n",
        "LANABYSVETLANA"
       ]
      },
      {
       "output_type": "stream",
       "stream": "stdout",
       "text": [
        "\n",
        "ATIdesign"
       ]
      },
      {
       "output_type": "stream",
       "stream": "stdout",
       "text": [
        "\n",
        "speciallyhandmade4u"
       ]
      },
      {
       "output_type": "stream",
       "stream": "stdout",
       "text": [
        "\n",
        "BabyHatsShoesandMore"
       ]
      },
      {
       "output_type": "stream",
       "stream": "stdout",
       "text": [
        "\n",
        "BlossomsBeauties"
       ]
      },
      {
       "output_type": "stream",
       "stream": "stdout",
       "text": [
        "\n",
        "KnittingMamas"
       ]
      },
      {
       "output_type": "stream",
       "stream": "stdout",
       "text": [
        "\n",
        "DMToques"
       ]
      },
      {
       "output_type": "stream",
       "stream": "stdout",
       "text": [
        "\n",
        "barreez"
       ]
      },
      {
       "output_type": "stream",
       "stream": "stdout",
       "text": [
        "\n",
        "theGoodShnit"
       ]
      },
      {
       "output_type": "stream",
       "stream": "stdout",
       "text": [
        "\n",
        "SimonaHandicraft"
       ]
      },
      {
       "output_type": "stream",
       "stream": "stdout",
       "text": [
        "\n",
        "BusyHandsAftercrafts"
       ]
      },
      {
       "output_type": "stream",
       "stream": "stdout",
       "text": [
        "\n",
        "SkyRainSoap"
       ]
      },
      {
       "output_type": "stream",
       "stream": "stdout",
       "text": [
        "\n",
        "KnitStitchCross"
       ]
      },
      {
       "output_type": "stream",
       "stream": "stdout",
       "text": [
        "\n",
        "Purl1VintageToo"
       ]
      },
      {
       "output_type": "stream",
       "stream": "stdout",
       "text": [
        "\n",
        "CreationsbyMaris"
       ]
      },
      {
       "output_type": "stream",
       "stream": "stdout",
       "text": [
        "\n",
        "babyknitpicks"
       ]
      },
      {
       "output_type": "stream",
       "stream": "stdout",
       "text": [
        "\n",
        "CreeksideCharms"
       ]
      },
      {
       "output_type": "stream",
       "stream": "stdout",
       "text": [
        "\n",
        "HahnMade"
       ]
      },
      {
       "output_type": "stream",
       "stream": "stdout",
       "text": [
        "\n",
        "SmileyHeadSplendor"
       ]
      },
      {
       "output_type": "stream",
       "stream": "stdout",
       "text": [
        "\n",
        "TheCraftapplePanda"
       ]
      },
      {
       "output_type": "stream",
       "stream": "stdout",
       "text": [
        "\n",
        "barleyandflax"
       ]
      },
      {
       "output_type": "stream",
       "stream": "stdout",
       "text": [
        "\n",
        "TwoSparrowsBoutique"
       ]
      },
      {
       "output_type": "stream",
       "stream": "stdout",
       "text": [
        "\n",
        "ToOurMoonAndBack"
       ]
      },
      {
       "output_type": "stream",
       "stream": "stdout",
       "text": [
        "\n",
        "VintagePatternPlace"
       ]
      },
      {
       "output_type": "stream",
       "stream": "stdout",
       "text": [
        "\n",
        "HisforHarper"
       ]
      },
      {
       "output_type": "stream",
       "stream": "stdout",
       "text": [
        "\n",
        "WestbrookFarm"
       ]
      },
      {
       "output_type": "stream",
       "stream": "stdout",
       "text": [
        "\n",
        "Strickolino"
       ]
      },
      {
       "output_type": "stream",
       "stream": "stdout",
       "text": [
        "\n",
        "PandorasBoxofKnits"
       ]
      },
      {
       "output_type": "stream",
       "stream": "stdout",
       "text": [
        "\n",
        "SoftCozyAndWarm"
       ]
      },
      {
       "output_type": "stream",
       "stream": "stdout",
       "text": [
        "\n",
        "BoryanacrochetBG"
       ]
      },
      {
       "output_type": "stream",
       "stream": "stdout",
       "text": [
        "\n",
        "KsyuKnitting"
       ]
      },
      {
       "output_type": "stream",
       "stream": "stdout",
       "text": [
        "\n",
        "craftynannie"
       ]
      },
      {
       "output_type": "stream",
       "stream": "stdout",
       "text": [
        "\n",
        "elmroadvintage"
       ]
      },
      {
       "output_type": "stream",
       "stream": "stdout",
       "text": [
        "\n",
        "DobroBeat"
       ]
      },
      {
       "output_type": "stream",
       "stream": "stdout",
       "text": [
        "\n",
        "HandmadeKnitsHats"
       ]
      },
      {
       "output_type": "stream",
       "stream": "stdout",
       "text": [
        "\n",
        "DeemervilleGold"
       ]
      },
      {
       "output_type": "stream",
       "stream": "stdout",
       "text": [
        "\n",
        "sassytailor64"
       ]
      },
      {
       "output_type": "stream",
       "stream": "stdout",
       "text": [
        "\n",
        "woolpleasure"
       ]
      },
      {
       "output_type": "stream",
       "stream": "stdout",
       "text": [
        "\n",
        "Easy123"
       ]
      },
      {
       "output_type": "stream",
       "stream": "stdout",
       "text": [
        "\n",
        "OnGoodLuck"
       ]
      },
      {
       "output_type": "stream",
       "stream": "stdout",
       "text": [
        "\n",
        "LittleKnitsStudio"
       ]
      },
      {
       "output_type": "stream",
       "stream": "stdout",
       "text": [
        "\n",
        "Knitographer"
       ]
      },
      {
       "output_type": "stream",
       "stream": "stdout",
       "text": [
        "\n",
        "KnitsByKB"
       ]
      },
      {
       "output_type": "stream",
       "stream": "stdout",
       "text": [
        "\n",
        "Jessiescrochetcorner"
       ]
      },
      {
       "output_type": "stream",
       "stream": "stdout",
       "text": [
        "\n",
        "sewurbandesigns"
       ]
      },
      {
       "output_type": "stream",
       "stream": "stdout",
       "text": [
        "\n",
        "MinniesFlea"
       ]
      },
      {
       "output_type": "stream",
       "stream": "stdout",
       "text": [
        "\n",
        "CraftyHomeandMore"
       ]
      },
      {
       "output_type": "stream",
       "stream": "stdout",
       "text": [
        "\n",
        "Florfanka"
       ]
      },
      {
       "output_type": "stream",
       "stream": "stdout",
       "text": [
        "\n",
        "StarfrostHandicrafts"
       ]
      },
      {
       "output_type": "stream",
       "stream": "stdout",
       "text": [
        "\n",
        "ColoradoChickCo"
       ]
      },
      {
       "output_type": "stream",
       "stream": "stdout",
       "text": [
        "\n",
        "MrsMzSewingRoom"
       ]
      },
      {
       "output_type": "stream",
       "stream": "stdout",
       "text": [
        "\n",
        "BeautyKnitsShop"
       ]
      },
      {
       "output_type": "stream",
       "stream": "stdout",
       "text": [
        "\n",
        "LiLiSocks"
       ]
      },
      {
       "output_type": "stream",
       "stream": "stdout",
       "text": [
        "\n",
        "PatchAteSmudge"
       ]
      },
      {
       "output_type": "stream",
       "stream": "stdout",
       "text": [
        "\n",
        "sanchee"
       ]
      },
      {
       "output_type": "stream",
       "stream": "stdout",
       "text": [
        "\n",
        "TheKnittedZooByEmily"
       ]
      },
      {
       "output_type": "stream",
       "stream": "stdout",
       "text": [
        "\n",
        "Tebessum"
       ]
      },
      {
       "output_type": "stream",
       "stream": "stdout",
       "text": [
        "\n",
        "WetCoastKnitter"
       ]
      },
      {
       "output_type": "stream",
       "stream": "stdout",
       "text": [
        "\n",
        "susiedees"
       ]
      },
      {
       "output_type": "stream",
       "stream": "stdout",
       "text": [
        "\n",
        "giddy4paisley"
       ]
      },
      {
       "output_type": "stream",
       "stream": "stdout",
       "text": [
        "\n",
        "SewNewToMe"
       ]
      },
      {
       "output_type": "stream",
       "stream": "stdout",
       "text": [
        "\n",
        "VirtuousDesign31"
       ]
      },
      {
       "output_type": "stream",
       "stream": "stdout",
       "text": [
        "\n",
        "megsknitshit"
       ]
      },
      {
       "output_type": "stream",
       "stream": "stdout",
       "text": [
        "\n",
        "KarunaHimalaya"
       ]
      },
      {
       "output_type": "stream",
       "stream": "stdout",
       "text": [
        "\n",
        "vellichor"
       ]
      },
      {
       "output_type": "stream",
       "stream": "stdout",
       "text": [
        "\n",
        "Ribbonandhairbows"
       ]
      },
      {
       "output_type": "stream",
       "stream": "stdout",
       "text": [
        "\n",
        "Girlpower"
       ]
      },
      {
       "output_type": "stream",
       "stream": "stdout",
       "text": [
        "\n",
        "KnittingByTatiana"
       ]
      },
      {
       "output_type": "stream",
       "stream": "stdout",
       "text": [
        "\n",
        "TheCraftyRascal"
       ]
      },
      {
       "output_type": "stream",
       "stream": "stdout",
       "text": [
        "\n",
        "NaNaWoolDesign"
       ]
      },
      {
       "output_type": "stream",
       "stream": "stdout",
       "text": [
        "\n",
        "CreativeObsessionn"
       ]
      },
      {
       "output_type": "stream",
       "stream": "stdout",
       "text": [
        "\n",
        "PrettyLittleBabies"
       ]
      },
      {
       "output_type": "stream",
       "stream": "stdout",
       "text": [
        "\n",
        "Justadaydream"
       ]
      },
      {
       "output_type": "stream",
       "stream": "stdout",
       "text": [
        "\n",
        "worldofknitting"
       ]
      },
      {
       "output_type": "stream",
       "stream": "stdout",
       "text": [
        "\n",
        "Ednascloset"
       ]
      },
      {
       "output_type": "stream",
       "stream": "stdout",
       "text": [
        "\n",
        "spiltmilkdesigns"
       ]
      },
      {
       "output_type": "stream",
       "stream": "stdout",
       "text": [
        "\n",
        "MissLisBoutique"
       ]
      },
      {
       "output_type": "stream",
       "stream": "stdout",
       "text": [
        "\n",
        "christnakosininski"
       ]
      },
      {
       "output_type": "stream",
       "stream": "stdout",
       "text": [
        "\n",
        "ColdSnapsKnits"
       ]
      },
      {
       "output_type": "stream",
       "stream": "stdout",
       "text": [
        "\n",
        "CozyKnitsByJeannie"
       ]
      },
      {
       "output_type": "stream",
       "stream": "stdout",
       "text": [
        "\n",
        "SZVKNITS"
       ]
      },
      {
       "output_type": "stream",
       "stream": "stdout",
       "text": [
        "\n",
        "APlusJewelryCrafts"
       ]
      },
      {
       "output_type": "stream",
       "stream": "stdout",
       "text": [
        "\n",
        "OriginalKnitting"
       ]
      },
      {
       "output_type": "stream",
       "stream": "stdout",
       "text": [
        "\n",
        "UnlimitedCraftworks"
       ]
      },
      {
       "output_type": "stream",
       "stream": "stdout",
       "text": [
        "\n",
        "EclecticallyCampbell"
       ]
      },
      {
       "output_type": "stream",
       "stream": "stdout",
       "text": [
        "\n",
        "SimplyWestCoast"
       ]
      },
      {
       "output_type": "stream",
       "stream": "stdout",
       "text": [
        "\n",
        "DGDwithlove"
       ]
      },
      {
       "output_type": "stream",
       "stream": "stdout",
       "text": [
        "\n",
        "ThreeSmallWishes"
       ]
      },
      {
       "output_type": "stream",
       "stream": "stdout",
       "text": [
        "\n",
        "UniqueKnitDesign"
       ]
      },
      {
       "output_type": "stream",
       "stream": "stdout",
       "text": [
        "\n",
        "Caitlinscozyknits"
       ]
      },
      {
       "output_type": "stream",
       "stream": "stdout",
       "text": [
        "\n",
        "TokyoBlossom"
       ]
      },
      {
       "output_type": "stream",
       "stream": "stdout",
       "text": [
        "\n",
        "foldi"
       ]
      },
      {
       "output_type": "stream",
       "stream": "stdout",
       "text": [
        "\n",
        "NoraTones"
       ]
      },
      {
       "output_type": "stream",
       "stream": "stdout",
       "text": [
        "\n",
        "CHUNKYBULKYKNITS"
       ]
      },
      {
       "output_type": "stream",
       "stream": "stdout",
       "text": [
        "\n",
        "lisaswick"
       ]
      },
      {
       "output_type": "stream",
       "stream": "stdout",
       "text": [
        "\n",
        "FliptasticClothing"
       ]
      },
      {
       "output_type": "stream",
       "stream": "stdout",
       "text": [
        "\n",
        "cosediisa"
       ]
      },
      {
       "output_type": "stream",
       "stream": "stdout",
       "text": [
        "\n",
        "kabotany"
       ]
      },
      {
       "output_type": "stream",
       "stream": "stdout",
       "text": [
        "\n",
        "BeyondTheDreamStudio"
       ]
      },
      {
       "output_type": "stream",
       "stream": "stdout",
       "text": [
        "\n",
        "AuntBsAttic"
       ]
      },
      {
       "output_type": "stream",
       "stream": "stdout",
       "text": [
        "\n",
        "EHM365"
       ]
      },
      {
       "output_type": "stream",
       "stream": "stdout",
       "text": [
        "\n",
        "RebeccasWool"
       ]
      },
      {
       "output_type": "stream",
       "stream": "stdout",
       "text": [
        "\n",
        "ThePaisleyCarrot"
       ]
      },
      {
       "output_type": "stream",
       "stream": "stdout",
       "text": [
        "\n",
        "Scribegirlme"
       ]
      },
      {
       "output_type": "stream",
       "stream": "stdout",
       "text": [
        "\n",
        "BeijingKC"
       ]
      },
      {
       "output_type": "stream",
       "stream": "stdout",
       "text": [
        "\n",
        "WildGreenBeauty"
       ]
      },
      {
       "output_type": "stream",
       "stream": "stdout",
       "text": [
        "\n",
        "SoulTrail"
       ]
      },
      {
       "output_type": "stream",
       "stream": "stdout",
       "text": [
        "\n",
        "slouchiehats"
       ]
      },
      {
       "output_type": "stream",
       "stream": "stdout",
       "text": [
        "\n",
        "hannahleighknits"
       ]
      },
      {
       "output_type": "stream",
       "stream": "stdout",
       "text": [
        "\n",
        "Shoesandaccessories"
       ]
      },
      {
       "output_type": "stream",
       "stream": "stdout",
       "text": [
        "\n",
        "DapperAnnie"
       ]
      },
      {
       "output_type": "stream",
       "stream": "stdout",
       "text": [
        "\n",
        "PandaLolipops"
       ]
      },
      {
       "output_type": "stream",
       "stream": "stdout",
       "text": [
        "\n",
        "spinningknitting1"
       ]
      },
      {
       "output_type": "stream",
       "stream": "stdout",
       "text": [
        "\n",
        "SarBobsy"
       ]
      },
      {
       "output_type": "stream",
       "stream": "stdout",
       "text": [
        "\n",
        "prettyoffensive"
       ]
      },
      {
       "output_type": "stream",
       "stream": "stdout",
       "text": [
        "\n",
        "knitonestitchtoo"
       ]
      },
      {
       "output_type": "stream",
       "stream": "stdout",
       "text": [
        "\n",
        "AngelinaAccessories"
       ]
      },
      {
       "output_type": "stream",
       "stream": "stdout",
       "text": [
        "\n",
        "StraightenedArrow"
       ]
      },
      {
       "output_type": "stream",
       "stream": "stdout",
       "text": [
        "\n",
        "knitsdwarfs"
       ]
      },
      {
       "output_type": "stream",
       "stream": "stdout",
       "text": [
        "\n",
        "CdCkDesign"
       ]
      },
      {
       "output_type": "stream",
       "stream": "stdout",
       "text": [
        "\n",
        "GoldenPineAlpacas"
       ]
      },
      {
       "output_type": "stream",
       "stream": "stdout",
       "text": [
        "\n",
        "bebebeecouture"
       ]
      },
      {
       "output_type": "stream",
       "stream": "stdout",
       "text": [
        "\n",
        "WNBrunk"
       ]
      },
      {
       "output_type": "stream",
       "stream": "stdout",
       "text": [
        "\n",
        "knitwitsusa"
       ]
      },
      {
       "output_type": "stream",
       "stream": "stdout",
       "text": [
        "\n",
        "MurfmadeKnits"
       ]
      },
      {
       "output_type": "stream",
       "stream": "stdout",
       "text": [
        "\n",
        "VintagePolkaShop"
       ]
      },
      {
       "output_type": "stream",
       "stream": "stdout",
       "text": [
        "\n",
        "mermaiddesignsstore"
       ]
      },
      {
       "output_type": "stream",
       "stream": "stdout",
       "text": [
        "\n",
        "PandaHugStore"
       ]
      },
      {
       "output_type": "stream",
       "stream": "stdout",
       "text": [
        "\n",
        "SilverMapleKnits"
       ]
      },
      {
       "output_type": "stream",
       "stream": "stdout",
       "text": [
        "\n",
        "HawthornStudio"
       ]
      },
      {
       "output_type": "stream",
       "stream": "stdout",
       "text": [
        "\n",
        "MedleyofColors"
       ]
      },
      {
       "output_type": "stream",
       "stream": "stdout",
       "text": [
        "\n",
        "OBJECTSofMATTER"
       ]
      },
      {
       "output_type": "stream",
       "stream": "stdout",
       "text": [
        "\n",
        "CharlotteAuzou"
       ]
      },
      {
       "output_type": "stream",
       "stream": "stdout",
       "text": [
        "\n",
        "BringSomeBling"
       ]
      },
      {
       "output_type": "stream",
       "stream": "stdout",
       "text": [
        "\n",
        "SecondhandObsession"
       ]
      },
      {
       "output_type": "stream",
       "stream": "stdout",
       "text": [
        "\n",
        "crystalandtaylor"
       ]
      },
      {
       "output_type": "stream",
       "stream": "stdout",
       "text": [
        "\n",
        "RomeoRomeo"
       ]
      },
      {
       "output_type": "stream",
       "stream": "stdout",
       "text": [
        "\n",
        "carolynscritter"
       ]
      },
      {
       "output_type": "stream",
       "stream": "stdout",
       "text": [
        "\n",
        "KoalaBelle"
       ]
      },
      {
       "output_type": "stream",
       "stream": "stdout",
       "text": [
        "\n",
        "CrochetByBetty"
       ]
      },
      {
       "output_type": "stream",
       "stream": "stdout",
       "text": [
        "\n",
        "AuntieMsCrafting"
       ]
      },
      {
       "output_type": "stream",
       "stream": "stdout",
       "text": [
        "\n",
        "Not2Shabbee"
       ]
      },
      {
       "output_type": "stream",
       "stream": "stdout",
       "text": [
        "\n",
        "Eastcraeft"
       ]
      },
      {
       "output_type": "stream",
       "stream": "stdout",
       "text": [
        "\n",
        "Cocomillo"
       ]
      },
      {
       "output_type": "stream",
       "stream": "stdout",
       "text": [
        "\n",
        "totoknitskenya"
       ]
      },
      {
       "output_type": "stream",
       "stream": "stdout",
       "text": [
        "\n",
        "BuggyBooCrafts"
       ]
      },
      {
       "output_type": "stream",
       "stream": "stdout",
       "text": [
        "\n",
        "StormyWeatherKnits"
       ]
      },
      {
       "output_type": "stream",
       "stream": "stdout",
       "text": [
        "\n",
        "NevadaKnits"
       ]
      },
      {
       "output_type": "stream",
       "stream": "stdout",
       "text": [
        "\n",
        "BabyBirdz"
       ]
      },
      {
       "output_type": "stream",
       "stream": "stdout",
       "text": [
        "\n",
        "MagooandBaloo"
       ]
      },
      {
       "output_type": "stream",
       "stream": "stdout",
       "text": [
        "\n",
        "rocketclothing"
       ]
      },
      {
       "output_type": "stream",
       "stream": "stdout",
       "text": [
        "\n",
        "DebsDevineDesigns"
       ]
      },
      {
       "output_type": "stream",
       "stream": "stdout",
       "text": [
        "\n",
        "JillsHandmadeStuff"
       ]
      },
      {
       "output_type": "stream",
       "stream": "stdout",
       "text": [
        "\n",
        "SpinninAGoodYarn"
       ]
      },
      {
       "output_type": "stream",
       "stream": "stdout",
       "text": [
        "\n",
        "evaandjeandesigns"
       ]
      },
      {
       "output_type": "stream",
       "stream": "stdout",
       "text": [
        "\n",
        "JennyandPearl"
       ]
      },
      {
       "output_type": "stream",
       "stream": "stdout",
       "text": [
        "\n",
        "LavenderLassies"
       ]
      },
      {
       "output_type": "stream",
       "stream": "stdout",
       "text": [
        "\n",
        "dirtybirdiesvintage"
       ]
      },
      {
       "output_type": "stream",
       "stream": "stdout",
       "text": [
        "\n",
        "TutisBoutique"
       ]
      },
      {
       "output_type": "stream",
       "stream": "stdout",
       "text": [
        "\n",
        "KraeO"
       ]
      },
      {
       "output_type": "stream",
       "stream": "stdout",
       "text": [
        "\n",
        "SweetBabyJamesShop"
       ]
      },
      {
       "output_type": "stream",
       "stream": "stdout",
       "text": [
        "\n",
        "RubyBlueKnits"
       ]
      },
      {
       "output_type": "stream",
       "stream": "stdout",
       "text": [
        "\n",
        "VintageNeedleArts"
       ]
      },
      {
       "output_type": "stream",
       "stream": "stdout",
       "text": [
        "\n",
        "PropsandPoses"
       ]
      },
      {
       "output_type": "stream",
       "stream": "stdout",
       "text": [
        "\n",
        "luludress"
       ]
      },
      {
       "output_type": "stream",
       "stream": "stdout",
       "text": [
        "\n",
        "Razels"
       ]
      },
      {
       "output_type": "stream",
       "stream": "stdout",
       "text": [
        "\n",
        "LydiasCreations101"
       ]
      },
      {
       "output_type": "stream",
       "stream": "stdout",
       "text": [
        "\n",
        "3sistersscarfcompany"
       ]
      },
      {
       "output_type": "stream",
       "stream": "stdout",
       "text": [
        "\n",
        "ElliesTiaras"
       ]
      },
      {
       "output_type": "stream",
       "stream": "stdout",
       "text": [
        "\n",
        "TheCraftySewingBee"
       ]
      },
      {
       "output_type": "stream",
       "stream": "stdout",
       "text": [
        "\n",
        "Degra2"
       ]
      },
      {
       "output_type": "stream",
       "stream": "stdout",
       "text": [
        "\n",
        "AislingDezines"
       ]
      },
      {
       "output_type": "stream",
       "stream": "stdout",
       "text": [
        "\n",
        "ArielArtsKnits"
       ]
      },
      {
       "output_type": "stream",
       "stream": "stdout",
       "text": [
        "\n",
        "LilSweetPeaSisters"
       ]
      },
      {
       "output_type": "stream",
       "stream": "stdout",
       "text": [
        "\n",
        "14thStKnits"
       ]
      },
      {
       "output_type": "stream",
       "stream": "stdout",
       "text": [
        "\n",
        "RiverStonesFiberArts"
       ]
      },
      {
       "output_type": "stream",
       "stream": "stdout",
       "text": [
        "\n",
        "TurtleTreasures"
       ]
      },
      {
       "output_type": "stream",
       "stream": "stdout",
       "text": [
        "\n",
        "ceibohandmade"
       ]
      },
      {
       "output_type": "stream",
       "stream": "stdout",
       "text": [
        "\n",
        "KNITLEBITS"
       ]
      },
      {
       "output_type": "stream",
       "stream": "stdout",
       "text": [
        "\n",
        "PeachBlossomHats"
       ]
      },
      {
       "output_type": "stream",
       "stream": "stdout",
       "text": [
        "\n",
        "nanascottagehouse"
       ]
      },
      {
       "output_type": "stream",
       "stream": "stdout",
       "text": [
        "\n",
        "TableTopJewels"
       ]
      },
      {
       "output_type": "stream",
       "stream": "stdout",
       "text": [
        "\n",
        "SundialArts"
       ]
      },
      {
       "output_type": "stream",
       "stream": "stdout",
       "text": [
        "\n",
        "SmallEarthVintage"
       ]
      },
      {
       "output_type": "stream",
       "stream": "stdout",
       "text": [
        "\n",
        "MabelMadeThis"
       ]
      },
      {
       "output_type": "stream",
       "stream": "stdout",
       "text": [
        "\n",
        "KnitAndCrochetDesign"
       ]
      },
      {
       "output_type": "stream",
       "stream": "stdout",
       "text": [
        "\n",
        "BSKnitting"
       ]
      },
      {
       "output_type": "stream",
       "stream": "stdout",
       "text": [
        "\n",
        "PetitePrintsandProps"
       ]
      },
      {
       "output_type": "stream",
       "stream": "stdout",
       "text": [
        "\n",
        "MaryAliceFeltLikeIt"
       ]
      },
      {
       "output_type": "stream",
       "stream": "stdout",
       "text": [
        "\n",
        "FashionShop19"
       ]
      },
      {
       "output_type": "stream",
       "stream": "stdout",
       "text": [
        "\n",
        "Cuteling"
       ]
      },
      {
       "output_type": "stream",
       "stream": "stdout",
       "text": [
        "\n",
        "VIRTTARHAR"
       ]
      },
      {
       "output_type": "stream",
       "stream": "stdout",
       "text": [
        "\n",
        "ThePureNest"
       ]
      },
      {
       "output_type": "stream",
       "stream": "stdout",
       "text": [
        "\n",
        "KnittedWinterHats"
       ]
      },
      {
       "output_type": "stream",
       "stream": "stdout",
       "text": [
        "\n",
        "VeryCarey"
       ]
      },
      {
       "output_type": "stream",
       "stream": "stdout",
       "text": [
        "\n",
        "HandmadebyPaulaMary"
       ]
      },
      {
       "output_type": "stream",
       "stream": "stdout",
       "text": [
        "\n",
        "BearsBlanketsQuilts"
       ]
      },
      {
       "output_type": "stream",
       "stream": "stdout",
       "text": [
        "\n",
        "itaveroknits"
       ]
      },
      {
       "output_type": "stream",
       "stream": "stdout",
       "text": [
        "\n",
        "CrasiiCoco"
       ]
      },
      {
       "output_type": "stream",
       "stream": "stdout",
       "text": [
        "\n",
        "RosiesNoggin"
       ]
      },
      {
       "output_type": "stream",
       "stream": "stdout",
       "text": [
        "\n",
        "BabyBearInc"
       ]
      },
      {
       "output_type": "stream",
       "stream": "stdout",
       "text": [
        "\n",
        "TheKnittedHat"
       ]
      },
      {
       "output_type": "stream",
       "stream": "stdout",
       "text": [
        "\n",
        "QueensAccessories"
       ]
      },
      {
       "output_type": "stream",
       "stream": "stdout",
       "text": [
        "\n",
        "AnnaMariaLocke"
       ]
      },
      {
       "output_type": "stream",
       "stream": "stdout",
       "text": [
        "\n",
        "wincsike"
       ]
      },
      {
       "output_type": "stream",
       "stream": "stdout",
       "text": [
        "\n",
        "snapincharms"
       ]
      },
      {
       "output_type": "stream",
       "stream": "stdout",
       "text": [
        "\n",
        "knitaccessoriesfadik"
       ]
      },
      {
       "output_type": "stream",
       "stream": "stdout",
       "text": [
        "\n",
        "Aerophane"
       ]
      },
      {
       "output_type": "stream",
       "stream": "stdout",
       "text": [
        "\n",
        "CanadaBlissBoutique"
       ]
      },
      {
       "output_type": "stream",
       "stream": "stdout",
       "text": [
        "\n",
        "CDBStudio"
       ]
      },
      {
       "output_type": "stream",
       "stream": "stdout",
       "text": [
        "\n",
        "ALLCAPSknithats"
       ]
      },
      {
       "output_type": "stream",
       "stream": "stdout",
       "text": [
        "\n",
        "AllAboutStripes"
       ]
      },
      {
       "output_type": "stream",
       "stream": "stdout",
       "text": [
        "\n",
        "danielastange"
       ]
      },
      {
       "output_type": "stream",
       "stream": "stdout",
       "text": [
        "\n",
        "positivepurls"
       ]
      },
      {
       "output_type": "stream",
       "stream": "stdout",
       "text": [
        "\n",
        "KLizVintage"
       ]
      },
      {
       "output_type": "stream",
       "stream": "stdout",
       "text": [
        "\n",
        "3colon7"
       ]
      },
      {
       "output_type": "stream",
       "stream": "stdout",
       "text": [
        "\n",
        "SmallTownHandMade"
       ]
      },
      {
       "output_type": "stream",
       "stream": "stdout",
       "text": [
        "\n",
        "LadyJsHodgepodgery"
       ]
      },
      {
       "output_type": "stream",
       "stream": "stdout",
       "text": [
        "\n",
        "GranasCorner"
       ]
      },
      {
       "output_type": "stream",
       "stream": "stdout",
       "text": [
        "\n",
        "CrochetbyPalmLLC"
       ]
      },
      {
       "output_type": "stream",
       "stream": "stdout",
       "text": [
        "\n",
        "knittingFashion"
       ]
      },
      {
       "output_type": "stream",
       "stream": "stdout",
       "text": [
        "\n",
        "Ladyknitsandthings"
       ]
      },
      {
       "output_type": "stream",
       "stream": "stdout",
       "text": [
        "\n",
        "SylviDesigns"
       ]
      },
      {
       "output_type": "stream",
       "stream": "stdout",
       "text": [
        "\n",
        "TwoOfWandsShop"
       ]
      },
      {
       "output_type": "stream",
       "stream": "stdout",
       "text": [
        "\n",
        "MariArtFelting"
       ]
      },
      {
       "output_type": "stream",
       "stream": "stdout",
       "text": [
        "\n",
        "bigbangzero"
       ]
      },
      {
       "output_type": "stream",
       "stream": "stdout",
       "text": [
        "\n",
        "PacaPooFarms"
       ]
      },
      {
       "output_type": "stream",
       "stream": "stdout",
       "text": [
        "\n",
        "WhereMyStitchesAtCH"
       ]
      },
      {
       "output_type": "stream",
       "stream": "stdout",
       "text": [
        "\n",
        "MariasNeedleArt"
       ]
      },
      {
       "output_type": "stream",
       "stream": "stdout",
       "text": [
        "\n",
        "FreshtoDeathVintage"
       ]
      },
      {
       "output_type": "stream",
       "stream": "stdout",
       "text": [
        "\n",
        "WeThreePiggies"
       ]
      },
      {
       "output_type": "stream",
       "stream": "stdout",
       "text": [
        "\n",
        "takemyinventory"
       ]
      },
      {
       "output_type": "stream",
       "stream": "stdout",
       "text": [
        "\n",
        "FineHandMadeClothes"
       ]
      },
      {
       "output_type": "stream",
       "stream": "stdout",
       "text": [
        "\n",
        "Hatsforhounds"
       ]
      },
      {
       "output_type": "stream",
       "stream": "stdout",
       "text": [
        "\n",
        "KnittyFingers"
       ]
      },
      {
       "output_type": "stream",
       "stream": "stdout",
       "text": [
        "\n",
        "beaniesbybubba"
       ]
      },
      {
       "output_type": "stream",
       "stream": "stdout",
       "text": [
        "\n",
        "ColorfulTrends"
       ]
      },
      {
       "output_type": "stream",
       "stream": "stdout",
       "text": [
        "\n",
        "WinterWoollys"
       ]
      },
      {
       "output_type": "stream",
       "stream": "stdout",
       "text": [
        "\n",
        "pompomhats"
       ]
      },
      {
       "output_type": "stream",
       "stream": "stdout",
       "text": [
        "\n",
        "LongHaulAccessories"
       ]
      },
      {
       "output_type": "stream",
       "stream": "stdout",
       "text": [
        "\n",
        "TiffSitsandKnits"
       ]
      },
      {
       "output_type": "stream",
       "stream": "stdout",
       "text": [
        "\n",
        "BigFirRidge"
       ]
      },
      {
       "output_type": "stream",
       "stream": "stdout",
       "text": [
        "\n",
        "MarryGKnitCrochet"
       ]
      },
      {
       "output_type": "stream",
       "stream": "stdout",
       "text": [
        "\n",
        "Dinobabies"
       ]
      },
      {
       "output_type": "stream",
       "stream": "stdout",
       "text": [
        "\n",
        "HeartStrings107"
       ]
      },
      {
       "output_type": "stream",
       "stream": "stdout",
       "text": [
        "\n",
        "ClosetbyFinn"
       ]
      },
      {
       "output_type": "stream",
       "stream": "stdout",
       "text": [
        "\n",
        "KnitzAndFeltz"
       ]
      },
      {
       "output_type": "stream",
       "stream": "stdout",
       "text": [
        "\n",
        "accessoriesbynez"
       ]
      },
      {
       "output_type": "stream",
       "stream": "stdout",
       "text": [
        "\n",
        "recombinantrider"
       ]
      },
      {
       "output_type": "stream",
       "stream": "stdout",
       "text": [
        "\n",
        "BorealisHandicrafts"
       ]
      },
      {
       "output_type": "stream",
       "stream": "stdout",
       "text": [
        "\n",
        "GoldenYarn"
       ]
      },
      {
       "output_type": "stream",
       "stream": "stdout",
       "text": [
        "\n",
        "HeartNSoleCreations"
       ]
      },
      {
       "output_type": "stream",
       "stream": "stdout",
       "text": [
        "\n",
        "DawnLdesigns"
       ]
      },
      {
       "output_type": "stream",
       "stream": "stdout",
       "text": [
        "\n",
        "YASEMINYASEMIN"
       ]
      },
      {
       "output_type": "stream",
       "stream": "stdout",
       "text": [
        "\n",
        "IvithjasCreations"
       ]
      },
      {
       "output_type": "stream",
       "stream": "stdout",
       "text": [
        "\n",
        "PIQI"
       ]
      },
      {
       "output_type": "stream",
       "stream": "stdout",
       "text": [
        "\n",
        "ElleVintage369"
       ]
      },
      {
       "output_type": "stream",
       "stream": "stdout",
       "text": [
        "\n",
        "FairlyKnit"
       ]
      },
      {
       "output_type": "stream",
       "stream": "stdout",
       "text": [
        "\n",
        "ForTheGuys"
       ]
      },
      {
       "output_type": "stream",
       "stream": "stdout",
       "text": [
        "\n",
        "AgneseKnits"
       ]
      },
      {
       "output_type": "stream",
       "stream": "stdout",
       "text": [
        "\n",
        "EadoVintage"
       ]
      },
      {
       "output_type": "stream",
       "stream": "stdout",
       "text": [
        "\n",
        "JYCCreations"
       ]
      },
      {
       "output_type": "stream",
       "stream": "stdout",
       "text": [
        "\n",
        "CarterPEACEworks"
       ]
      },
      {
       "output_type": "stream",
       "stream": "stdout",
       "text": [
        "\n",
        "VandOUA"
       ]
      },
      {
       "output_type": "stream",
       "stream": "stdout",
       "text": [
        "\n",
        "CrochetCreationsbyMa"
       ]
      },
      {
       "output_type": "stream",
       "stream": "stdout",
       "text": [
        "\n",
        "Ricocoinc"
       ]
      },
      {
       "output_type": "stream",
       "stream": "stdout",
       "text": [
        "\n",
        "baldyhillhomemade"
       ]
      },
      {
       "output_type": "stream",
       "stream": "stdout",
       "text": [
        "\n",
        "YouNeedMoreFiber"
       ]
      },
      {
       "output_type": "stream",
       "stream": "stdout",
       "text": [
        "\n",
        "laceandcable"
       ]
      },
      {
       "output_type": "stream",
       "stream": "stdout",
       "text": [
        "\n",
        "KnottyOrNiceKnits"
       ]
      },
      {
       "output_type": "stream",
       "stream": "stdout",
       "text": [
        "\n",
        "HollysAccessories"
       ]
      },
      {
       "output_type": "stream",
       "stream": "stdout",
       "text": [
        "\n",
        "wearnative"
       ]
      },
      {
       "output_type": "stream",
       "stream": "stdout",
       "text": [
        "\n",
        "YarnBarn305"
       ]
      },
      {
       "output_type": "stream",
       "stream": "stdout",
       "text": [
        "\n",
        "bb2213"
       ]
      },
      {
       "output_type": "stream",
       "stream": "stdout",
       "text": [
        "\n",
        "LacysLittleAcre"
       ]
      },
      {
       "output_type": "stream",
       "stream": "stdout",
       "text": [
        "\n",
        "TamsCraftyKnits"
       ]
      },
      {
       "output_type": "stream",
       "stream": "stdout",
       "text": [
        "\n",
        "RobinsNestBoutique"
       ]
      },
      {
       "output_type": "stream",
       "stream": "stdout",
       "text": [
        "\n",
        "atiltKC"
       ]
      },
      {
       "output_type": "stream",
       "stream": "stdout",
       "text": [
        "\n",
        "IngaDesignShop"
       ]
      },
      {
       "output_type": "stream",
       "stream": "stdout",
       "text": [
        "\n",
        "GataJewelry"
       ]
      },
      {
       "output_type": "stream",
       "stream": "stdout",
       "text": [
        "\n",
        "LaReserveDesign"
       ]
      },
      {
       "output_type": "stream",
       "stream": "stdout",
       "text": [
        "\n",
        "Pikeys"
       ]
      },
      {
       "output_type": "stream",
       "stream": "stdout",
       "text": [
        "\n",
        "9ElizabethStreet"
       ]
      },
      {
       "output_type": "stream",
       "stream": "stdout",
       "text": [
        "\n",
        "yuliatko"
       ]
      },
      {
       "output_type": "stream",
       "stream": "stdout",
       "text": [
        "\n",
        "KatySueKnits"
       ]
      },
      {
       "output_type": "stream",
       "stream": "stdout",
       "text": [
        "\n",
        "TheYarnOverProject"
       ]
      },
      {
       "output_type": "stream",
       "stream": "stdout",
       "text": [
        "\n",
        "EnchantedKnits"
       ]
      },
      {
       "output_type": "stream",
       "stream": "stdout",
       "text": [
        "\n",
        "Iheartbeaniebabies"
       ]
      },
      {
       "output_type": "stream",
       "stream": "stdout",
       "text": [
        "\n",
        "ImperialVintageBTQ"
       ]
      },
      {
       "output_type": "stream",
       "stream": "stdout",
       "text": [
        "\n",
        "PauliszkaKnits"
       ]
      },
      {
       "output_type": "stream",
       "stream": "stdout",
       "text": [
        "\n",
        "ZAPrix"
       ]
      },
      {
       "output_type": "stream",
       "stream": "stdout",
       "text": [
        "\n",
        "NewbornEwe"
       ]
      },
      {
       "output_type": "stream",
       "stream": "stdout",
       "text": [
        "\n",
        "artwardrobe"
       ]
      },
      {
       "output_type": "stream",
       "stream": "stdout",
       "text": [
        "\n",
        "SouthernMomCreations"
       ]
      },
      {
       "output_type": "stream",
       "stream": "stdout",
       "text": [
        "\n",
        "leafamore"
       ]
      },
      {
       "output_type": "stream",
       "stream": "stdout",
       "text": [
        "\n",
        "HandmadeHillShop"
       ]
      },
      {
       "output_type": "stream",
       "stream": "stdout",
       "text": [
        "\n",
        "justalittleknitter"
       ]
      },
      {
       "output_type": "stream",
       "stream": "stdout",
       "text": [
        "\n",
        "HobiholikFashion"
       ]
      },
      {
       "output_type": "stream",
       "stream": "stdout",
       "text": [
        "\n",
        "contesdemaison"
       ]
      },
      {
       "output_type": "stream",
       "stream": "stdout",
       "text": [
        "\n",
        "AntelopeFlats"
       ]
      },
      {
       "output_type": "stream",
       "stream": "stdout",
       "text": [
        "\n",
        "HandmadeByEvelien"
       ]
      },
      {
       "output_type": "stream",
       "stream": "stdout",
       "text": [
        "\n",
        "selfex"
       ]
      },
      {
       "output_type": "stream",
       "stream": "stdout",
       "text": [
        "\n",
        "BlossomsByJuneLynn"
       ]
      },
      {
       "output_type": "stream",
       "stream": "stdout",
       "text": [
        "\n",
        "caginas"
       ]
      },
      {
       "output_type": "stream",
       "stream": "stdout",
       "text": [
        "\n",
        "electricbunnycrafts"
       ]
      },
      {
       "output_type": "stream",
       "stream": "stdout",
       "text": [
        "\n",
        "Fanchi"
       ]
      },
      {
       "output_type": "stream",
       "stream": "stdout",
       "text": [
        "\n",
        "lienra"
       ]
      },
      {
       "output_type": "stream",
       "stream": "stdout",
       "text": [
        "\n",
        "ReignlandConcept"
       ]
      },
      {
       "output_type": "stream",
       "stream": "stdout",
       "text": [
        "\n",
        "beanieknitsnmore"
       ]
      },
      {
       "output_type": "stream",
       "stream": "stdout",
       "text": [
        "\n",
        "GingerBearKnitwear"
       ]
      },
      {
       "output_type": "stream",
       "stream": "stdout",
       "text": [
        "\n",
        "MyBeautifulLifeShop"
       ]
      },
      {
       "output_type": "stream",
       "stream": "stdout",
       "text": [
        "\n",
        "GrannieKayGiftsCraft"
       ]
      },
      {
       "output_type": "stream",
       "stream": "stdout",
       "text": [
        "\n",
        "Savvyskeins"
       ]
      },
      {
       "output_type": "stream",
       "stream": "stdout",
       "text": [
        "\n",
        "NeckLyfe"
       ]
      },
      {
       "output_type": "stream",
       "stream": "stdout",
       "text": [
        "\n",
        "artesana"
       ]
      },
      {
       "output_type": "stream",
       "stream": "stdout",
       "text": [
        "\n",
        "KatrinKnitting"
       ]
      },
      {
       "output_type": "stream",
       "stream": "stdout",
       "text": [
        "\n",
        "ScandinavianCrafts"
       ]
      },
      {
       "output_type": "stream",
       "stream": "stdout",
       "text": [
        "\n",
        "MarikaHandKnits"
       ]
      },
      {
       "output_type": "stream",
       "stream": "stdout",
       "text": [
        "\n",
        "GrandmaDragonsAttic"
       ]
      },
      {
       "output_type": "stream",
       "stream": "stdout",
       "text": [
        "\n",
        "NorthStarrVintage"
       ]
      },
      {
       "output_type": "stream",
       "stream": "stdout",
       "text": [
        "\n",
        "quatresaison"
       ]
      },
      {
       "output_type": "stream",
       "stream": "stdout",
       "text": [
        "\n",
        "mioukids"
       ]
      },
      {
       "output_type": "stream",
       "stream": "stdout",
       "text": [
        "\n",
        "KnittingDailyShop"
       ]
      },
      {
       "output_type": "stream",
       "stream": "stdout",
       "text": [
        "\n",
        "byMagic"
       ]
      },
      {
       "output_type": "stream",
       "stream": "stdout",
       "text": [
        "\n",
        "homelab"
       ]
      },
      {
       "output_type": "stream",
       "stream": "stdout",
       "text": [
        "\n",
        "KadyLadyLoo"
       ]
      },
      {
       "output_type": "stream",
       "stream": "stdout",
       "text": [
        "\n",
        "KnittyFashions"
       ]
      },
      {
       "output_type": "stream",
       "stream": "stdout",
       "text": [
        "\n",
        "LuzyFlor"
       ]
      },
      {
       "output_type": "stream",
       "stream": "stdout",
       "text": [
        "\n",
        "SexyCrochetByOlga"
       ]
      },
      {
       "output_type": "stream",
       "stream": "stdout",
       "text": [
        "\n",
        "CutseyOnEtsy"
       ]
      },
      {
       "output_type": "stream",
       "stream": "stdout",
       "text": [
        "\n",
        "CarameloBoutique"
       ]
      },
      {
       "output_type": "stream",
       "stream": "stdout",
       "text": [
        "\n",
        "GiuliaKnit"
       ]
      },
      {
       "output_type": "stream",
       "stream": "stdout",
       "text": [
        "\n",
        "AlaskanKnitGifts"
       ]
      },
      {
       "output_type": "stream",
       "stream": "stdout",
       "text": [
        "\n",
        "KlotoCute"
       ]
      },
      {
       "output_type": "stream",
       "stream": "stdout",
       "text": [
        "\n",
        "Bestcrochets"
       ]
      },
      {
       "output_type": "stream",
       "stream": "stdout",
       "text": [
        "\n",
        "irinacarmen"
       ]
      },
      {
       "output_type": "stream",
       "stream": "stdout",
       "text": [
        "\n",
        "HandKnitByHanna"
       ]
      },
      {
       "output_type": "stream",
       "stream": "stdout",
       "text": [
        "\n",
        "TravelingCarousel"
       ]
      },
      {
       "output_type": "stream",
       "stream": "stdout",
       "text": [
        "\n",
        "YarnsInMotion"
       ]
      },
      {
       "output_type": "stream",
       "stream": "stdout",
       "text": [
        "\n",
        "DonizBaby"
       ]
      },
      {
       "output_type": "stream",
       "stream": "stdout",
       "text": [
        "\n",
        "KnitsbyVeronica"
       ]
      },
      {
       "output_type": "stream",
       "stream": "stdout",
       "text": [
        "\n",
        "HandmakeOrgUa"
       ]
      },
      {
       "output_type": "stream",
       "stream": "stdout",
       "text": [
        "\n",
        "SimplyPlaying1"
       ]
      },
      {
       "output_type": "stream",
       "stream": "stdout",
       "text": [
        "\n",
        "AnjaClauberg"
       ]
      },
      {
       "output_type": "stream",
       "stream": "stdout",
       "text": [
        "\n",
        "kiFaitMain"
       ]
      },
      {
       "output_type": "stream",
       "stream": "stdout",
       "text": [
        "\n",
        "LittleBelleBelle"
       ]
      },
      {
       "output_type": "stream",
       "stream": "stdout",
       "text": [
        "\n",
        "BugEatersKnits"
       ]
      },
      {
       "output_type": "stream",
       "stream": "stdout",
       "text": [
        "\n",
        "PETALKNITS"
       ]
      },
      {
       "output_type": "stream",
       "stream": "stdout",
       "text": [
        "\n",
        "jiloona"
       ]
      },
      {
       "output_type": "stream",
       "stream": "stdout",
       "text": [
        "\n",
        "ElenaLstudio"
       ]
      },
      {
       "output_type": "stream",
       "stream": "stdout",
       "text": [
        "\n",
        "AnnaleesAccents"
       ]
      },
      {
       "output_type": "stream",
       "stream": "stdout",
       "text": [
        "\n",
        "LesleysHandknits"
       ]
      },
      {
       "output_type": "stream",
       "stream": "stdout",
       "text": [
        "\n",
        "LoveFuzz"
       ]
      },
      {
       "output_type": "stream",
       "stream": "stdout",
       "text": [
        "\n",
        "LaimaShop"
       ]
      },
      {
       "output_type": "stream",
       "stream": "stdout",
       "text": [
        "\n",
        "MinxVTG"
       ]
      },
      {
       "output_type": "stream",
       "stream": "stdout",
       "text": [
        "\n",
        "MarvelousMittens"
       ]
      },
      {
       "output_type": "stream",
       "stream": "stdout",
       "text": [
        "\n",
        "LoveUnspokenLLC"
       ]
      },
      {
       "output_type": "stream",
       "stream": "stdout",
       "text": [
        "\n",
        "StyleandSalvage"
       ]
      },
      {
       "output_type": "stream",
       "stream": "stdout",
       "text": [
        "\n",
        "kozikreation"
       ]
      },
      {
       "output_type": "stream",
       "stream": "stdout",
       "text": [
        "\n",
        "KemiCreations"
       ]
      },
      {
       "output_type": "stream",
       "stream": "stdout",
       "text": [
        "\n",
        "CreatiKnit"
       ]
      },
      {
       "output_type": "stream",
       "stream": "stdout",
       "text": [
        "\n",
        "Bellaknitsandgiggles"
       ]
      },
      {
       "output_type": "stream",
       "stream": "stdout",
       "text": [
        "\n",
        "DanaFunKnits"
       ]
      },
      {
       "output_type": "stream",
       "stream": "stdout",
       "text": [
        "\n",
        "SharonsHomeSewn"
       ]
      },
      {
       "output_type": "stream",
       "stream": "stdout",
       "text": [
        "\n",
        "RebeccasRoomKnitting"
       ]
      },
      {
       "output_type": "stream",
       "stream": "stdout",
       "text": [
        "\n",
        "LeMarrakechStore"
       ]
      },
      {
       "output_type": "stream",
       "stream": "stdout",
       "text": [
        "\n",
        "GieseDeseiGns"
       ]
      },
      {
       "output_type": "stream",
       "stream": "stdout",
       "text": [
        "\n",
        "AnEpicStitch"
       ]
      },
      {
       "output_type": "stream",
       "stream": "stdout",
       "text": [
        "\n",
        "RubyHeartCrafts"
       ]
      },
      {
       "output_type": "stream",
       "stream": "stdout",
       "text": [
        "\n",
        "fone"
       ]
      },
      {
       "output_type": "stream",
       "stream": "stdout",
       "text": [
        "\n",
        "KnitteryRow"
       ]
      },
      {
       "output_type": "stream",
       "stream": "stdout",
       "text": [
        "\n",
        "Nineteenzerosix"
       ]
      },
      {
       "output_type": "stream",
       "stream": "stdout",
       "text": [
        "\n",
        "TheKnotHaus"
       ]
      },
      {
       "output_type": "stream",
       "stream": "stdout",
       "text": [
        "\n",
        "LidamseyKnits"
       ]
      },
      {
       "output_type": "stream",
       "stream": "stdout",
       "text": [
        "\n",
        "Knitrhapsody"
       ]
      },
      {
       "output_type": "stream",
       "stream": "stdout",
       "text": [
        "\n",
        "Sister21"
       ]
      },
      {
       "output_type": "stream",
       "stream": "stdout",
       "text": [
        "\n",
        "SweetNancyVintage"
       ]
      },
      {
       "output_type": "stream",
       "stream": "stdout",
       "text": [
        "\n",
        "AirbrushStuf"
       ]
      },
      {
       "output_type": "stream",
       "stream": "stdout",
       "text": [
        "\n",
        "topazpearls"
       ]
      },
      {
       "output_type": "stream",
       "stream": "stdout",
       "text": [
        "\n",
        "WooolBaby"
       ]
      },
      {
       "output_type": "stream",
       "stream": "stdout",
       "text": [
        "\n",
        "kissproof"
       ]
      },
      {
       "output_type": "stream",
       "stream": "stdout",
       "text": [
        "\n",
        "BeautifulSunrise"
       ]
      },
      {
       "output_type": "stream",
       "stream": "stdout",
       "text": [
        "\n",
        "KnitandLoomstudio"
       ]
      },
      {
       "output_type": "stream",
       "stream": "stdout",
       "text": [
        "\n",
        "ohbAby1112"
       ]
      },
      {
       "output_type": "stream",
       "stream": "stdout",
       "text": [
        "\n",
        "Handmadecrafter"
       ]
      },
      {
       "output_type": "stream",
       "stream": "stdout",
       "text": [
        "\n",
        "CrackedPistachios"
       ]
      },
      {
       "output_type": "stream",
       "stream": "stdout",
       "text": [
        "\n",
        "TheRuffledbum"
       ]
      },
      {
       "output_type": "stream",
       "stream": "stdout",
       "text": [
        "\n",
        "MindofMolly"
       ]
      },
      {
       "output_type": "stream",
       "stream": "stdout",
       "text": [
        "\n",
        "Janeswhatnots"
       ]
      },
      {
       "output_type": "stream",
       "stream": "stdout",
       "text": [
        "\n",
        "upupstar"
       ]
      },
      {
       "output_type": "stream",
       "stream": "stdout",
       "text": [
        "\n",
        "FairyTaleNightmares"
       ]
      },
      {
       "output_type": "stream",
       "stream": "stdout",
       "text": [
        "\n",
        "WoolFeltArt"
       ]
      },
      {
       "output_type": "stream",
       "stream": "stdout",
       "text": [
        "\n",
        "TulsaToys"
       ]
      },
      {
       "output_type": "stream",
       "stream": "stdout",
       "text": [
        "\n",
        "FoxiesFancy"
       ]
      },
      {
       "output_type": "stream",
       "stream": "stdout",
       "text": [
        "\n",
        "debrobinson"
       ]
      },
      {
       "output_type": "stream",
       "stream": "stdout",
       "text": [
        "\n",
        "mishsworld"
       ]
      },
      {
       "output_type": "stream",
       "stream": "stdout",
       "text": [
        "\n",
        "TanglinKnots"
       ]
      },
      {
       "output_type": "stream",
       "stream": "stdout",
       "text": [
        "\n",
        "Tuttolv"
       ]
      },
      {
       "output_type": "stream",
       "stream": "stdout",
       "text": [
        "\n",
        "BlueStockinette"
       ]
      },
      {
       "output_type": "stream",
       "stream": "stdout",
       "text": [
        "\n",
        "socksandmittens"
       ]
      },
      {
       "output_type": "stream",
       "stream": "stdout",
       "text": [
        "\n",
        "lemonsandcream"
       ]
      },
      {
       "output_type": "stream",
       "stream": "stdout",
       "text": [
        "\n",
        "WestEndCo"
       ]
      },
      {
       "output_type": "stream",
       "stream": "stdout",
       "text": [
        "\n",
        "LittleEvaDiva"
       ]
      },
      {
       "output_type": "stream",
       "stream": "stdout",
       "text": [
        "\n",
        "twinkletoesmarket"
       ]
      },
      {
       "output_type": "stream",
       "stream": "stdout",
       "text": [
        "\n",
        "DonnasWhimsicals"
       ]
      },
      {
       "output_type": "stream",
       "stream": "stdout",
       "text": [
        "\n",
        "smartcrochet"
       ]
      },
      {
       "output_type": "stream",
       "stream": "stdout",
       "text": [
        "\n",
        "lillamormor"
       ]
      },
      {
       "output_type": "stream",
       "stream": "stdout",
       "text": [
        "\n",
        "FanmMon"
       ]
      },
      {
       "output_type": "stream",
       "stream": "stdout",
       "text": [
        "\n",
        "scarfnurlu"
       ]
      },
      {
       "output_type": "stream",
       "stream": "stdout",
       "text": [
        "\n",
        "BlackRain4Handmade"
       ]
      },
      {
       "output_type": "stream",
       "stream": "stdout",
       "text": [
        "\n",
        "TheCraftinScot"
       ]
      },
      {
       "output_type": "stream",
       "stream": "stdout",
       "text": [
        "\n",
        "SnuggleMoose"
       ]
      },
      {
       "output_type": "stream",
       "stream": "stdout",
       "text": [
        "\n",
        "QuietUnrest2"
       ]
      },
      {
       "output_type": "stream",
       "stream": "stdout",
       "text": [
        "\n",
        "GusandRosieU"
       ]
      },
      {
       "output_type": "stream",
       "stream": "stdout",
       "text": [
        "\n",
        "CoconutChic"
       ]
      },
      {
       "output_type": "stream",
       "stream": "stdout",
       "text": [
        "\n",
        "KreationsByKirstenL"
       ]
      },
      {
       "output_type": "stream",
       "stream": "stdout",
       "text": [
        "\n",
        "KALEIDOO"
       ]
      },
      {
       "output_type": "stream",
       "stream": "stdout",
       "text": [
        "\n",
        "GiftsbyGenie"
       ]
      },
      {
       "output_type": "stream",
       "stream": "stdout",
       "text": [
        "\n",
        "NSvintage"
       ]
      },
      {
       "output_type": "stream",
       "stream": "stdout",
       "text": [
        "\n",
        "BIRKENknits"
       ]
      },
      {
       "output_type": "stream",
       "stream": "stdout",
       "text": [
        "\n",
        "lartcraft"
       ]
      },
      {
       "output_type": "stream",
       "stream": "stdout",
       "text": [
        "\n",
        "AnoushkaDesign"
       ]
      },
      {
       "output_type": "stream",
       "stream": "stdout",
       "text": [
        "\n",
        "NeutralNellies"
       ]
      },
      {
       "output_type": "stream",
       "stream": "stdout",
       "text": [
        "\n",
        "nutsaboutknitting"
       ]
      },
      {
       "output_type": "stream",
       "stream": "stdout",
       "text": [
        "\n",
        "pinkcandystudio"
       ]
      },
      {
       "output_type": "stream",
       "stream": "stdout",
       "text": [
        "\n",
        "SouthvilleSpitters"
       ]
      },
      {
       "output_type": "stream",
       "stream": "stdout",
       "text": [
        "\n",
        "KnitsbyAriel"
       ]
      },
      {
       "output_type": "stream",
       "stream": "stdout",
       "text": [
        "\n",
        "LeNidDuMerleHandKnit"
       ]
      },
      {
       "output_type": "stream",
       "stream": "stdout",
       "text": [
        "\n",
        "thewoolypossum"
       ]
      },
      {
       "output_type": "stream",
       "stream": "stdout",
       "text": [
        "\n",
        "earthandberries"
       ]
      },
      {
       "output_type": "stream",
       "stream": "stdout",
       "text": [
        "\n",
        "MeridianMade"
       ]
      },
      {
       "output_type": "stream",
       "stream": "stdout",
       "text": [
        "\n",
        "ThePurplePeaPod"
       ]
      },
      {
       "output_type": "stream",
       "stream": "stdout",
       "text": [
        "\n",
        "ladouchka"
       ]
      },
      {
       "output_type": "stream",
       "stream": "stdout",
       "text": [
        "\n",
        "EPSILONstudio"
       ]
      },
      {
       "output_type": "stream",
       "stream": "stdout",
       "text": [
        "\n",
        "PupaShop"
       ]
      },
      {
       "output_type": "stream",
       "stream": "stdout",
       "text": [
        "\n",
        "InTheRedwoods"
       ]
      },
      {
       "output_type": "stream",
       "stream": "stdout",
       "text": [
        "\n",
        "lucylev"
       ]
      },
      {
       "output_type": "stream",
       "stream": "stdout",
       "text": [
        "\n",
        "freelotus3"
       ]
      },
      {
       "output_type": "stream",
       "stream": "stdout",
       "text": [
        "\n",
        "countrycuttins"
       ]
      },
      {
       "output_type": "stream",
       "stream": "stdout",
       "text": [
        "\n",
        "HELGASYARNDESIGNS"
       ]
      },
      {
       "output_type": "stream",
       "stream": "stdout",
       "text": [
        "\n",
        "fashioned4you"
       ]
      },
      {
       "output_type": "stream",
       "stream": "stdout",
       "text": [
        "\n",
        "Gitasknitwear"
       ]
      },
      {
       "output_type": "stream",
       "stream": "stdout",
       "text": [
        "\n",
        "mkneedlework"
       ]
      },
      {
       "output_type": "stream",
       "stream": "stdout",
       "text": [
        "\n",
        "KayEmilyDesigns"
       ]
      },
      {
       "output_type": "stream",
       "stream": "stdout",
       "text": [
        "\n",
        "elkasoftwear"
       ]
      },
      {
       "output_type": "stream",
       "stream": "stdout",
       "text": [
        "\n",
        "PhylPhil"
       ]
      },
      {
       "output_type": "stream",
       "stream": "stdout",
       "text": [
        "\n",
        "IvetaStasiulioniene"
       ]
      },
      {
       "output_type": "stream",
       "stream": "stdout",
       "text": [
        "\n",
        "LovableProps"
       ]
      },
      {
       "output_type": "stream",
       "stream": "stdout",
       "text": [
        "\n",
        "MinitaStudio"
       ]
      },
      {
       "output_type": "stream",
       "stream": "stdout",
       "text": [
        "\n",
        "galafilc"
       ]
      },
      {
       "output_type": "stream",
       "stream": "stdout",
       "text": [
        "\n",
        "suznews"
       ]
      },
      {
       "output_type": "stream",
       "stream": "stdout",
       "text": [
        "\n",
        "cozyknitsforyou"
       ]
      },
      {
       "output_type": "stream",
       "stream": "stdout",
       "text": [
        "\n",
        "JoAnnaSeiter"
       ]
      },
      {
       "output_type": "stream",
       "stream": "stdout",
       "text": [
        "\n",
        "KittlesKnits"
       ]
      },
      {
       "output_type": "stream",
       "stream": "stdout",
       "text": [
        "\n",
        "CozyPhotoProps"
       ]
      },
      {
       "output_type": "stream",
       "stream": "stdout",
       "text": [
        "\n",
        "Lanaterapia"
       ]
      },
      {
       "output_type": "stream",
       "stream": "stdout",
       "text": [
        "\n",
        "callmemimi"
       ]
      },
      {
       "output_type": "stream",
       "stream": "stdout",
       "text": [
        "\n",
        "ogood"
       ]
      },
      {
       "output_type": "stream",
       "stream": "stdout",
       "text": [
        "\n",
        "nerina52"
       ]
      },
      {
       "output_type": "stream",
       "stream": "stdout",
       "text": [
        "\n",
        "ShopRainyDayCrafts"
       ]
      },
      {
       "output_type": "stream",
       "stream": "stdout",
       "text": [
        "\n",
        "JKnitting"
       ]
      },
      {
       "output_type": "stream",
       "stream": "stdout",
       "text": [
        "\n",
        "anodtomod"
       ]
      },
      {
       "output_type": "stream",
       "stream": "stdout",
       "text": [
        "\n",
        "BebeOhLaLaEtsy"
       ]
      },
      {
       "output_type": "stream",
       "stream": "stdout",
       "text": [
        "\n",
        "JuliaHats"
       ]
      },
      {
       "output_type": "stream",
       "stream": "stdout",
       "text": [
        "\n",
        "FreeSpiritHats"
       ]
      },
      {
       "output_type": "stream",
       "stream": "stdout",
       "text": [
        "\n",
        "epiknitandcrochet"
       ]
      },
      {
       "output_type": "stream",
       "stream": "stdout",
       "text": [
        "\n",
        "MarkadecorPremium"
       ]
      },
      {
       "output_type": "stream",
       "stream": "stdout",
       "text": [
        "\n",
        "reflectionsbyds"
       ]
      },
      {
       "output_type": "stream",
       "stream": "stdout",
       "text": [
        "\n",
        "iHappyItems"
       ]
      },
      {
       "output_type": "stream",
       "stream": "stdout",
       "text": [
        "\n",
        "ogracec"
       ]
      },
      {
       "output_type": "stream",
       "stream": "stdout",
       "text": [
        "\n",
        "LibertyKnits"
       ]
      },
      {
       "output_type": "stream",
       "stream": "stdout",
       "text": [
        "\n",
        "HeartsRunFree"
       ]
      },
      {
       "output_type": "stream",
       "stream": "stdout",
       "text": [
        "\n",
        "Africancrab"
       ]
      },
      {
       "output_type": "stream",
       "stream": "stdout",
       "text": [
        "\n",
        "lanapara"
       ]
      },
      {
       "output_type": "stream",
       "stream": "stdout",
       "text": [
        "\n",
        "LittleOohLaLa"
       ]
      },
      {
       "output_type": "stream",
       "stream": "stdout",
       "text": [
        "\n",
        "Klosetkrafter"
       ]
      },
      {
       "output_type": "stream",
       "stream": "stdout",
       "text": [
        "\n",
        "Simplyimagineknit"
       ]
      },
      {
       "output_type": "stream",
       "stream": "stdout",
       "text": [
        "\n",
        "IWENhats"
       ]
      },
      {
       "output_type": "stream",
       "stream": "stdout",
       "text": [
        "\n",
        "ThingyThingz"
       ]
      },
      {
       "output_type": "stream",
       "stream": "stdout",
       "text": [
        "\n",
        "GloriousKnittingShop"
       ]
      },
      {
       "output_type": "stream",
       "stream": "stdout",
       "text": [
        "\n",
        "franticcrafter"
       ]
      },
      {
       "output_type": "stream",
       "stream": "stdout",
       "text": [
        "\n",
        "LuVitaChic"
       ]
      },
      {
       "output_type": "stream",
       "stream": "stdout",
       "text": [
        "\n",
        "handylittleme"
       ]
      },
      {
       "output_type": "stream",
       "stream": "stdout",
       "text": [
        "\n",
        "KarryDesigns"
       ]
      },
      {
       "output_type": "stream",
       "stream": "stdout",
       "text": [
        "\n",
        "ZoZosAccessories"
       ]
      },
      {
       "output_type": "stream",
       "stream": "stdout",
       "text": [
        "\n",
        "JillyMix"
       ]
      },
      {
       "output_type": "stream",
       "stream": "stdout",
       "text": [
        "\n",
        "GMolly"
       ]
      },
      {
       "output_type": "stream",
       "stream": "stdout",
       "text": [
        "\n",
        "whynotagain"
       ]
      },
      {
       "output_type": "stream",
       "stream": "stdout",
       "text": [
        "\n",
        "Rivelo"
       ]
      },
      {
       "output_type": "stream",
       "stream": "stdout",
       "text": [
        "\n",
        "NKnits4Baby"
       ]
      },
      {
       "output_type": "stream",
       "stream": "stdout",
       "text": [
        "\n",
        "ColourandCotton"
       ]
      },
      {
       "output_type": "stream",
       "stream": "stdout",
       "text": [
        "\n",
        "Peachandkiwi"
       ]
      },
      {
       "output_type": "stream",
       "stream": "stdout",
       "text": [
        "\n",
        "HandKnitHandKnit"
       ]
      },
      {
       "output_type": "stream",
       "stream": "stdout",
       "text": [
        "\n",
        "TheOldStillhouse"
       ]
      },
      {
       "output_type": "stream",
       "stream": "stdout",
       "text": [
        "\n",
        "YarnGiftsHandmade"
       ]
      },
      {
       "output_type": "stream",
       "stream": "stdout",
       "text": [
        "\n",
        "NesrinArt"
       ]
      },
      {
       "output_type": "stream",
       "stream": "stdout",
       "text": [
        "\n",
        "2olddivas"
       ]
      },
      {
       "output_type": "stream",
       "stream": "stdout",
       "text": [
        "\n",
        "KeepingKnitReal"
       ]
      },
      {
       "output_type": "stream",
       "stream": "stdout",
       "text": [
        "\n",
        "PetiteLeRu"
       ]
      },
      {
       "output_type": "stream",
       "stream": "stdout",
       "text": [
        "\n",
        "JustPatTreasuresshop"
       ]
      },
      {
       "output_type": "stream",
       "stream": "stdout",
       "text": [
        "\n",
        "spinningsheep"
       ]
      },
      {
       "output_type": "stream",
       "stream": "stdout",
       "text": [
        "\n",
        "EntireLeighHandMade"
       ]
      },
      {
       "output_type": "stream",
       "stream": "stdout",
       "text": [
        "\n",
        "KidsKnitHatsNCrafts"
       ]
      },
      {
       "output_type": "stream",
       "stream": "stdout",
       "text": [
        "\n",
        "NorthwestVintageCo"
       ]
      },
      {
       "output_type": "stream",
       "stream": "stdout",
       "text": [
        "\n",
        "FairfaxDavis"
       ]
      },
      {
       "output_type": "stream",
       "stream": "stdout",
       "text": [
        "\n",
        "UNDIIN"
       ]
      },
      {
       "output_type": "stream",
       "stream": "stdout",
       "text": [
        "\n",
        "AnthropologieAngie"
       ]
      },
      {
       "output_type": "stream",
       "stream": "stdout",
       "text": [
        "\n",
        "PoppyWind"
       ]
      },
      {
       "output_type": "stream",
       "stream": "stdout",
       "text": [
        "\n",
        "RoseKingsCreations"
       ]
      },
      {
       "output_type": "stream",
       "stream": "stdout",
       "text": [
        "\n",
        "dallynmade"
       ]
      },
      {
       "output_type": "stream",
       "stream": "stdout",
       "text": [
        "\n",
        "HADASSAshop"
       ]
      },
      {
       "output_type": "stream",
       "stream": "stdout",
       "text": [
        "\n",
        "BrianaKcrochet"
       ]
      },
      {
       "output_type": "stream",
       "stream": "stdout",
       "text": [
        "\n",
        "anchorintime"
       ]
      },
      {
       "output_type": "stream",
       "stream": "stdout",
       "text": [
        "\n",
        "Jetonarme"
       ]
      },
      {
       "output_type": "stream",
       "stream": "stdout",
       "text": [
        "\n",
        "purescarf"
       ]
      },
      {
       "output_type": "stream",
       "stream": "stdout",
       "text": [
        "\n",
        "CablesandMore"
       ]
      },
      {
       "output_type": "stream",
       "stream": "stdout",
       "text": [
        "\n",
        "RusticRootsFarm"
       ]
      },
      {
       "output_type": "stream",
       "stream": "stdout",
       "text": [
        "\n",
        "BradleyFamilyCrafts"
       ]
      },
      {
       "output_type": "stream",
       "stream": "stdout",
       "text": [
        "\n",
        "GreenCanyonTradingCo"
       ]
      },
      {
       "output_type": "stream",
       "stream": "stdout",
       "text": [
        "\n",
        "HandMadeLana"
       ]
      },
      {
       "output_type": "stream",
       "stream": "stdout",
       "text": [
        "\n",
        "EMERENknitting"
       ]
      },
      {
       "output_type": "stream",
       "stream": "stdout",
       "text": [
        "\n",
        "mylittlecreations01"
       ]
      },
      {
       "output_type": "stream",
       "stream": "stdout",
       "text": [
        "\n",
        "JeannieGrayKnits"
       ]
      },
      {
       "output_type": "stream",
       "stream": "stdout",
       "text": [
        "\n",
        "TheKnittedArts"
       ]
      },
      {
       "output_type": "stream",
       "stream": "stdout",
       "text": [
        "\n",
        "CripKnits"
       ]
      },
      {
       "output_type": "stream",
       "stream": "stdout",
       "text": [
        "\n",
        "HanzeePanzeeCreation"
       ]
      },
      {
       "output_type": "stream",
       "stream": "stdout",
       "text": [
        "\n",
        "KnitleyRoad"
       ]
      },
      {
       "output_type": "stream",
       "stream": "stdout",
       "text": [
        "\n",
        "TheLittleHipsters"
       ]
      },
      {
       "output_type": "stream",
       "stream": "stdout",
       "text": [
        "\n",
        "InkaBoutique"
       ]
      },
      {
       "output_type": "stream",
       "stream": "stdout",
       "text": [
        "\n",
        "jkdesignshop"
       ]
      },
      {
       "output_type": "stream",
       "stream": "stdout",
       "text": [
        "\n",
        "StrawberryHandicraft"
       ]
      },
      {
       "output_type": "stream",
       "stream": "stdout",
       "text": [
        "\n",
        "woolture"
       ]
      },
      {
       "output_type": "stream",
       "stream": "stdout",
       "text": [
        "\n",
        "KarolinaDesigns"
       ]
      },
      {
       "output_type": "stream",
       "stream": "stdout",
       "text": [
        "\n",
        "AmandasKnitTreasures"
       ]
      },
      {
       "output_type": "stream",
       "stream": "stdout",
       "text": [
        "\n",
        "TimelessMemoryPrints"
       ]
      },
      {
       "output_type": "stream",
       "stream": "stdout",
       "text": [
        "\n",
        "SuzanneSullivan"
       ]
      },
      {
       "output_type": "stream",
       "stream": "stdout",
       "text": [
        "\n",
        "MikyNewbornProps"
       ]
      },
      {
       "output_type": "stream",
       "stream": "stdout",
       "text": [
        "\n",
        "ceriscioc"
       ]
      },
      {
       "output_type": "stream",
       "stream": "stdout",
       "text": [
        "\n",
        "FrenchSoulKnittery"
       ]
      },
      {
       "output_type": "stream",
       "stream": "stdout",
       "text": [
        "\n",
        "MorningGlorious"
       ]
      },
      {
       "output_type": "stream",
       "stream": "stdout",
       "text": [
        "\n",
        "CHICaDees"
       ]
      },
      {
       "output_type": "stream",
       "stream": "stdout",
       "text": [
        "\n",
        "HandmadeGiftsByNelly"
       ]
      },
      {
       "output_type": "stream",
       "stream": "stdout",
       "text": [
        "\n",
        "allbyInna"
       ]
      },
      {
       "output_type": "stream",
       "stream": "stdout",
       "text": [
        "\n",
        "CraftsArtsMoreofPA"
       ]
      },
      {
       "output_type": "stream",
       "stream": "stdout",
       "text": [
        "\n",
        "InnerGarden"
       ]
      },
      {
       "output_type": "stream",
       "stream": "stdout",
       "text": [
        "\n",
        "JennaKaeKnitCrochet"
       ]
      },
      {
       "output_type": "stream",
       "stream": "stdout",
       "text": [
        "\n",
        "delectare"
       ]
      },
      {
       "output_type": "stream",
       "stream": "stdout",
       "text": [
        "\n",
        "CozyCover"
       ]
      },
      {
       "output_type": "stream",
       "stream": "stdout",
       "text": [
        "\n",
        "SueBeesShop"
       ]
      },
      {
       "output_type": "stream",
       "stream": "stdout",
       "text": [
        "\n",
        "MagicalLandPhotoProp"
       ]
      },
      {
       "output_type": "stream",
       "stream": "stdout",
       "text": [
        "\n",
        "evefashion"
       ]
      },
      {
       "output_type": "stream",
       "stream": "stdout",
       "text": [
        "\n",
        "AllAboutKnit"
       ]
      },
      {
       "output_type": "stream",
       "stream": "stdout",
       "text": [
        "\n",
        "CherryCorners"
       ]
      },
      {
       "output_type": "stream",
       "stream": "stdout",
       "text": [
        "\n",
        "MihasKnittingShop"
       ]
      },
      {
       "output_type": "stream",
       "stream": "stdout",
       "text": [
        "\n",
        "GoldenHandsDesign"
       ]
      },
      {
       "output_type": "stream",
       "stream": "stdout",
       "text": [
        "\n",
        "debbyware"
       ]
      },
      {
       "output_type": "stream",
       "stream": "stdout",
       "text": [
        "\n",
        "OffTheKHuff"
       ]
      },
      {
       "output_type": "stream",
       "stream": "stdout",
       "text": [
        "\n",
        "DelicateDebuts"
       ]
      },
      {
       "output_type": "stream",
       "stream": "stdout",
       "text": [
        "\n",
        "StorylandVintage"
       ]
      },
      {
       "output_type": "stream",
       "stream": "stdout",
       "text": [
        "\n",
        "MelodysMakings"
       ]
      },
      {
       "output_type": "stream",
       "stream": "stdout",
       "text": [
        "\n",
        "FloAtelier"
       ]
      },
      {
       "output_type": "stream",
       "stream": "stdout",
       "text": [
        "\n",
        "ChiefNomad"
       ]
      },
      {
       "output_type": "stream",
       "stream": "stdout",
       "text": [
        "\n",
        "dagmarabuczek"
       ]
      },
      {
       "output_type": "stream",
       "stream": "stdout",
       "text": [
        "\n",
        "JennuinelyMadeCrafts"
       ]
      },
      {
       "output_type": "stream",
       "stream": "stdout",
       "text": [
        "\n",
        "StorkandMe"
       ]
      },
      {
       "output_type": "stream",
       "stream": "stdout",
       "text": [
        "\n",
        "IdleHourCrafts"
       ]
      },
      {
       "output_type": "stream",
       "stream": "stdout",
       "text": [
        "\n",
        "GrannyKnowsBest"
       ]
      },
      {
       "output_type": "stream",
       "stream": "stdout",
       "text": [
        "\n",
        "GabrielleJustine"
       ]
      },
      {
       "output_type": "stream",
       "stream": "stdout",
       "text": [
        "\n",
        "RusticRoadBoutique"
       ]
      },
      {
       "output_type": "stream",
       "stream": "stdout",
       "text": [
        "\n",
        "Periay"
       ]
      },
      {
       "output_type": "stream",
       "stream": "stdout",
       "text": [
        "\n",
        "Objeshop"
       ]
      },
      {
       "output_type": "stream",
       "stream": "stdout",
       "text": [
        "\n",
        "teteormayka"
       ]
      },
      {
       "output_type": "stream",
       "stream": "stdout",
       "text": [
        "\n",
        "BoutiqueDeMarcipan"
       ]
      },
      {
       "output_type": "stream",
       "stream": "stdout",
       "text": [
        "\n",
        "corgipal"
       ]
      },
      {
       "output_type": "stream",
       "stream": "stdout",
       "text": [
        "\n",
        "FeltedFashion"
       ]
      },
      {
       "output_type": "stream",
       "stream": "stdout",
       "text": [
        "\n",
        "pkddod"
       ]
      },
      {
       "output_type": "stream",
       "stream": "stdout",
       "text": [
        "\n",
        "Knitrx"
       ]
      },
      {
       "output_type": "stream",
       "stream": "stdout",
       "text": [
        "\n",
        "naryaboutique"
       ]
      },
      {
       "output_type": "stream",
       "stream": "stdout",
       "text": [
        "\n",
        "knitix"
       ]
      },
      {
       "output_type": "stream",
       "stream": "stdout",
       "text": [
        "\n",
        "debsKidstuff"
       ]
      },
      {
       "output_type": "stream",
       "stream": "stdout",
       "text": [
        "\n",
        "ScarfLovers"
       ]
      },
      {
       "output_type": "stream",
       "stream": "stdout",
       "text": [
        "\n",
        "aviena"
       ]
      },
      {
       "output_type": "stream",
       "stream": "stdout",
       "text": [
        "\n",
        "LintMonsterCreations"
       ]
      },
      {
       "output_type": "stream",
       "stream": "stdout",
       "text": [
        "\n",
        "dannilittle"
       ]
      },
      {
       "output_type": "stream",
       "stream": "stdout",
       "text": [
        "\n",
        "chloeheartsowls"
       ]
      },
      {
       "output_type": "stream",
       "stream": "stdout",
       "text": [
        "\n",
        "graceandoscar"
       ]
      },
      {
       "output_type": "stream",
       "stream": "stdout",
       "text": [
        "\n",
        "BotonDeFlor"
       ]
      },
      {
       "output_type": "stream",
       "stream": "stdout",
       "text": [
        "\n",
        "NeutralNursery"
       ]
      },
      {
       "output_type": "stream",
       "stream": "stdout",
       "text": [
        "\n",
        "adornsnut"
       ]
      },
      {
       "output_type": "stream",
       "stream": "stdout",
       "text": [
        "\n",
        "FamilySpecialGifts"
       ]
      },
      {
       "output_type": "stream",
       "stream": "stdout",
       "text": [
        "\n",
        "LuLusWoobies"
       ]
      },
      {
       "output_type": "stream",
       "stream": "stdout",
       "text": [
        "\n",
        "LittleAngelTouch"
       ]
      },
      {
       "output_type": "stream",
       "stream": "stdout",
       "text": [
        "\n",
        "MadeByFrancy"
       ]
      },
      {
       "output_type": "stream",
       "stream": "stdout",
       "text": [
        "\n",
        "StarsWear"
       ]
      },
      {
       "output_type": "stream",
       "stream": "stdout",
       "text": [
        "\n",
        "plphotoprops"
       ]
      },
      {
       "output_type": "stream",
       "stream": "stdout",
       "text": [
        "\n",
        "MomentsInTwine"
       ]
      },
      {
       "output_type": "stream",
       "stream": "stdout",
       "text": [
        "\n",
        "KnottyKnitGoods"
       ]
      },
      {
       "output_type": "stream",
       "stream": "stdout",
       "text": [
        "\n",
        "moviestarjewelry"
       ]
      },
      {
       "output_type": "stream",
       "stream": "stdout",
       "text": [
        "\n",
        "FruitofPhalanges"
       ]
      },
      {
       "output_type": "stream",
       "stream": "stdout",
       "text": [
        "\n",
        "OneOfAKindKid"
       ]
      },
      {
       "output_type": "stream",
       "stream": "stdout",
       "text": [
        "\n",
        "KnitBabyCouture"
       ]
      },
      {
       "output_type": "stream",
       "stream": "stdout",
       "text": [
        "\n",
        "SownThreadsClothing"
       ]
      },
      {
       "output_type": "stream",
       "stream": "stdout",
       "text": [
        "\n",
        "willowsandwool"
       ]
      },
      {
       "output_type": "stream",
       "stream": "stdout",
       "text": [
        "\n",
        "Blissfulinspiration1"
       ]
      },
      {
       "output_type": "stream",
       "stream": "stdout",
       "text": [
        "\n",
        "KnitNKnots"
       ]
      },
      {
       "output_type": "stream",
       "stream": "stdout",
       "text": [
        "\n",
        "brokemarys"
       ]
      },
      {
       "output_type": "stream",
       "stream": "stdout",
       "text": [
        "\n",
        "BoldVictoryCrochet"
       ]
      },
      {
       "output_type": "stream",
       "stream": "stdout",
       "text": [
        "\n",
        "ShirleyKnits"
       ]
      },
      {
       "output_type": "stream",
       "stream": "stdout",
       "text": [
        "\n",
        "2Fun4Words"
       ]
      },
      {
       "output_type": "stream",
       "stream": "stdout",
       "text": [
        "\n",
        "MilMon"
       ]
      },
      {
       "output_type": "stream",
       "stream": "stdout",
       "text": [
        "\n",
        "CreationsbyTiffyD"
       ]
      },
      {
       "output_type": "stream",
       "stream": "stdout",
       "text": [
        "\n",
        "CCCrochets"
       ]
      },
      {
       "output_type": "stream",
       "stream": "stdout",
       "text": [
        "\n",
        "OurFarmstead"
       ]
      },
      {
       "output_type": "stream",
       "stream": "stdout",
       "text": [
        "\n",
        "NaRoKnit"
       ]
      },
      {
       "output_type": "stream",
       "stream": "stdout",
       "text": [
        "\n",
        "EWEniquelyKnit"
       ]
      },
      {
       "output_type": "stream",
       "stream": "stdout",
       "text": [
        "\n",
        "MeadowsTooMelmark"
       ]
      },
      {
       "output_type": "stream",
       "stream": "stdout",
       "text": [
        "\n",
        "CreationsJasmine"
       ]
      },
      {
       "output_type": "stream",
       "stream": "stdout",
       "text": [
        "\n",
        "ANNAandIRENE"
       ]
      },
      {
       "output_type": "stream",
       "stream": "stdout",
       "text": [
        "\n",
        "GrannyJack"
       ]
      },
      {
       "output_type": "stream",
       "stream": "stdout",
       "text": [
        "\n",
        "Genuique"
       ]
      },
      {
       "output_type": "stream",
       "stream": "stdout",
       "text": [
        "\n",
        "DinaStyleKnits"
       ]
      },
      {
       "output_type": "stream",
       "stream": "stdout",
       "text": [
        "\n",
        "CozyLamb"
       ]
      },
      {
       "output_type": "stream",
       "stream": "stdout",
       "text": [
        "\n",
        "BoutiqueDeElite"
       ]
      },
      {
       "output_type": "stream",
       "stream": "stdout",
       "text": [
        "\n",
        "Blackcatmeowknits"
       ]
      },
      {
       "output_type": "stream",
       "stream": "stdout",
       "text": [
        "\n",
        "LaribellaHAT"
       ]
      },
      {
       "output_type": "stream",
       "stream": "stdout",
       "text": [
        "\n",
        "febressfashion"
       ]
      },
      {
       "output_type": "stream",
       "stream": "stdout",
       "text": [
        "\n",
        "BreezyRidgeAlpacas"
       ]
      },
      {
       "output_type": "stream",
       "stream": "stdout",
       "text": [
        "\n",
        "InspiracjeJolanty"
       ]
      },
      {
       "output_type": "stream",
       "stream": "stdout",
       "text": [
        "\n",
        "RockabillyButtercup"
       ]
      },
      {
       "output_type": "stream",
       "stream": "stdout",
       "text": [
        "\n",
        "TTCrochetStyle"
       ]
      },
      {
       "output_type": "stream",
       "stream": "stdout",
       "text": [
        "\n",
        "candlecane123"
       ]
      },
      {
       "output_type": "stream",
       "stream": "stdout",
       "text": [
        "\n",
        "ChickKnitbyKristie"
       ]
      },
      {
       "output_type": "stream",
       "stream": "stdout",
       "text": [
        "\n",
        "Oceanlvrcrafts"
       ]
      },
      {
       "output_type": "stream",
       "stream": "stdout",
       "text": [
        "\n",
        "LaurelandReeve"
       ]
      },
      {
       "output_type": "stream",
       "stream": "stdout",
       "text": [
        "\n",
        "MADEVALINEN"
       ]
      },
      {
       "output_type": "stream",
       "stream": "stdout",
       "text": [
        "\n",
        "sweetvioletsdesigns"
       ]
      },
      {
       "output_type": "stream",
       "stream": "stdout",
       "text": [
        "\n",
        "KnitSimplicity"
       ]
      },
      {
       "output_type": "stream",
       "stream": "stdout",
       "text": [
        "\n",
        "Rarejewelry4You"
       ]
      },
      {
       "output_type": "stream",
       "stream": "stdout",
       "text": [
        "\n",
        "bySol"
       ]
      },
      {
       "output_type": "stream",
       "stream": "stdout",
       "text": [
        "\n",
        "LazyTcrochet"
       ]
      },
      {
       "output_type": "stream",
       "stream": "stdout",
       "text": [
        "\n",
        "ChloeAndEvie"
       ]
      },
      {
       "output_type": "stream",
       "stream": "stdout",
       "text": [
        "\n",
        "HodgepodgeCreationz"
       ]
      },
      {
       "output_type": "stream",
       "stream": "stdout",
       "text": [
        "\n",
        "Rebelamb"
       ]
      },
      {
       "output_type": "stream",
       "stream": "stdout",
       "text": [
        "\n",
        "SwanJay"
       ]
      },
      {
       "output_type": "stream",
       "stream": "stdout",
       "text": [
        "\n",
        "GreenGypsyGoods"
       ]
      },
      {
       "output_type": "stream",
       "stream": "stdout",
       "text": [
        "\n",
        "Momtoast"
       ]
      },
      {
       "output_type": "stream",
       "stream": "stdout",
       "text": [
        "\n",
        "KnittingCarnival"
       ]
      },
      {
       "output_type": "stream",
       "stream": "stdout",
       "text": [
        "\n",
        "BocajandCo"
       ]
      },
      {
       "output_type": "stream",
       "stream": "stdout",
       "text": [
        "\n",
        "KnittingStory"
       ]
      },
      {
       "output_type": "stream",
       "stream": "stdout",
       "text": [
        "\n",
        "ennadoolf"
       ]
      },
      {
       "output_type": "stream",
       "stream": "stdout",
       "text": [
        "\n",
        "THESugarandStitches"
       ]
      },
      {
       "output_type": "stream",
       "stream": "stdout",
       "text": [
        "\n",
        "MossieShop"
       ]
      },
      {
       "output_type": "stream",
       "stream": "stdout",
       "text": [
        "\n",
        "2knit2purl"
       ]
      },
      {
       "output_type": "stream",
       "stream": "stdout",
       "text": [
        "\n",
        "Junikid"
       ]
      },
      {
       "output_type": "stream",
       "stream": "stdout",
       "text": [
        "\n",
        "KnitsDuNord"
       ]
      },
      {
       "output_type": "stream",
       "stream": "stdout",
       "text": [
        "\n",
        "CharlotteCotBlankets"
       ]
      },
      {
       "output_type": "stream",
       "stream": "stdout",
       "text": [
        "\n",
        "Knit360five"
       ]
      },
      {
       "output_type": "stream",
       "stream": "stdout",
       "text": [
        "\n",
        "ManonKnitting"
       ]
      },
      {
       "output_type": "stream",
       "stream": "stdout",
       "text": [
        "\n",
        "topdraweryarns"
       ]
      },
      {
       "output_type": "stream",
       "stream": "stdout",
       "text": [
        "\n",
        "mikmakwinkel"
       ]
      },
      {
       "output_type": "stream",
       "stream": "stdout",
       "text": [
        "\n",
        "formalhouse"
       ]
      },
      {
       "output_type": "stream",
       "stream": "stdout",
       "text": [
        "\n",
        "MyCreationsByCarol"
       ]
      },
      {
       "output_type": "stream",
       "stream": "stdout",
       "text": [
        "\n",
        "elanknits"
       ]
      },
      {
       "output_type": "stream",
       "stream": "stdout",
       "text": [
        "\n",
        "KnitaFrolic"
       ]
      },
      {
       "output_type": "stream",
       "stream": "stdout",
       "text": [
        "\n",
        "HappyHappyKnitty"
       ]
      },
      {
       "output_type": "stream",
       "stream": "stdout",
       "text": [
        "\n",
        "yarningsbyseanna"
       ]
      },
      {
       "output_type": "stream",
       "stream": "stdout",
       "text": [
        "\n",
        "sylviaslace"
       ]
      },
      {
       "output_type": "stream",
       "stream": "stdout",
       "text": [
        "\n",
        "HEIRLOOMMIX"
       ]
      },
      {
       "output_type": "stream",
       "stream": "stdout",
       "text": [
        "\n",
        "countrygarden77"
       ]
      },
      {
       "output_type": "stream",
       "stream": "stdout",
       "text": [
        "\n",
        "CatPurrKnitting"
       ]
      },
      {
       "output_type": "stream",
       "stream": "stdout",
       "text": [
        "\n",
        "Muza"
       ]
      },
      {
       "output_type": "stream",
       "stream": "stdout",
       "text": [
        "\n",
        "LaVintageByMissPJ55"
       ]
      },
      {
       "output_type": "stream",
       "stream": "stdout",
       "text": [
        "\n",
        "THEWANTEDSHEEP"
       ]
      },
      {
       "output_type": "stream",
       "stream": "stdout",
       "text": [
        "\n",
        "ThatsSewJudy"
       ]
      },
      {
       "output_type": "stream",
       "stream": "stdout",
       "text": [
        "\n",
        "Teddyhug"
       ]
      },
      {
       "output_type": "stream",
       "stream": "stdout",
       "text": [
        "\n",
        "RuffleMania"
       ]
      },
      {
       "output_type": "stream",
       "stream": "stdout",
       "text": [
        "\n",
        "HEraMade"
       ]
      },
      {
       "output_type": "stream",
       "stream": "stdout",
       "text": [
        "\n",
        "GrammasKnittedGifts"
       ]
      },
      {
       "output_type": "stream",
       "stream": "stdout",
       "text": [
        "\n",
        "MamasTeddyBear"
       ]
      },
      {
       "output_type": "stream",
       "stream": "stdout",
       "text": [
        "\n",
        "TheDelightfulDay"
       ]
      },
      {
       "output_type": "stream",
       "stream": "stdout",
       "text": [
        "\n",
        "HappyChoiceKnits"
       ]
      },
      {
       "output_type": "stream",
       "stream": "stdout",
       "text": [
        "\n",
        "MissMaysMomsKnits"
       ]
      },
      {
       "output_type": "stream",
       "stream": "stdout",
       "text": [
        "\n",
        "AfonsoWay"
       ]
      },
      {
       "output_type": "stream",
       "stream": "stdout",
       "text": [
        "\n",
        "CherryDollyFace"
       ]
      },
      {
       "output_type": "stream",
       "stream": "stdout",
       "text": [
        "\n",
        "lovemyknits"
       ]
      },
      {
       "output_type": "stream",
       "stream": "stdout",
       "text": [
        "\n",
        "FargoCoreCon"
       ]
      },
      {
       "output_type": "stream",
       "stream": "stdout",
       "text": [
        "\n",
        "SellingWarmth"
       ]
      },
      {
       "output_type": "stream",
       "stream": "stdout",
       "text": [
        "\n",
        "FaunaKnits"
       ]
      },
      {
       "output_type": "stream",
       "stream": "stdout",
       "text": [
        "\n",
        "IsolaHandmade"
       ]
      },
      {
       "output_type": "stream",
       "stream": "stdout",
       "text": [
        "\n",
        "cherryREVOLVER"
       ]
      },
      {
       "output_type": "stream",
       "stream": "stdout",
       "text": [
        "\n",
        "Madfindz"
       ]
      },
      {
       "output_type": "stream",
       "stream": "stdout",
       "text": [
        "\n",
        "Letricott"
       ]
      },
      {
       "output_type": "stream",
       "stream": "stdout",
       "text": [
        "\n",
        "BonniesCinematheque"
       ]
      },
      {
       "output_type": "stream",
       "stream": "stdout",
       "text": [
        "\n",
        "KnitGoodWomanKnit"
       ]
      },
      {
       "output_type": "stream",
       "stream": "stdout",
       "text": [
        "\n",
        "RedGreenShop"
       ]
      },
      {
       "output_type": "stream",
       "stream": "stdout",
       "text": [
        "\n",
        "MountainKnitwear"
       ]
      },
      {
       "output_type": "stream",
       "stream": "stdout",
       "text": [
        "\n",
        "YailsCraftCorner"
       ]
      },
      {
       "output_type": "stream",
       "stream": "stdout",
       "text": [
        "\n",
        "DiVerseBlessings"
       ]
      },
      {
       "output_type": "stream",
       "stream": "stdout",
       "text": [
        "\n",
        "KnitsWithLoveByKP"
       ]
      },
      {
       "output_type": "stream",
       "stream": "stdout",
       "text": [
        "\n",
        "Knits4Noggins"
       ]
      },
      {
       "output_type": "stream",
       "stream": "stdout",
       "text": [
        "\n",
        "WoolenViolet"
       ]
      },
      {
       "output_type": "stream",
       "stream": "stdout",
       "text": [
        "\n",
        "VirgoArt"
       ]
      },
      {
       "output_type": "stream",
       "stream": "stdout",
       "text": [
        "\n",
        "TheHumbleSeamstress"
       ]
      },
      {
       "output_type": "stream",
       "stream": "stdout",
       "text": [
        "\n",
        "GrammysCustomCrochet"
       ]
      },
      {
       "output_type": "stream",
       "stream": "stdout",
       "text": [
        "\n",
        "RNNan13"
       ]
      },
      {
       "output_type": "stream",
       "stream": "stdout",
       "text": [
        "\n",
        "ReikiKnits"
       ]
      },
      {
       "output_type": "stream",
       "stream": "stdout",
       "text": [
        "\n"
       ]
      }
     ],
     "prompt_number": 2
    },
    {
     "cell_type": "code",
     "collapsed": false,
     "input": [
      "df = pd.DataFrame(results)\n",
      "df = df.T\n",
      "df"
     ],
     "language": "python",
     "metadata": {},
     "outputs": [
      {
       "html": [
        "<div style=\"max-height:1000px;max-width:1500px;overflow:auto;\">\n",
        "<table border=\"1\" class=\"dataframe\">\n",
        "  <thead>\n",
        "    <tr style=\"text-align: right;\">\n",
        "      <th></th>\n",
        "      <th>Admirers</th>\n",
        "      <th>Age</th>\n",
        "      <th>Gift_card</th>\n",
        "      <th>Location</th>\n",
        "      <th>Name</th>\n",
        "      <th>Num_items</th>\n",
        "      <th>Num_reviews</th>\n",
        "      <th>Num_sections</th>\n",
        "      <th>Rating</th>\n",
        "      <th>Sales</th>\n",
        "    </tr>\n",
        "  </thead>\n",
        "  <tbody>\n",
        "    <tr>\n",
        "      <th>1   </th>\n",
        "      <td>  3659</td>\n",
        "      <td> 1545</td>\n",
        "      <td> False</td>\n",
        "      <td>                                  Europe, Turkey</td>\n",
        "      <td>                 Puik</td>\n",
        "      <td>   18</td>\n",
        "      <td>  442</td>\n",
        "      <td>  2</td>\n",
        "      <td> 4.9185</td>\n",
        "      <td>  2542</td>\n",
        "    </tr>\n",
        "    <tr>\n",
        "      <th>2   </th>\n",
        "      <td>  1067</td>\n",
        "      <td>  983</td>\n",
        "      <td> False</td>\n",
        "      <td>                                  Gdynia, Poland</td>\n",
        "      <td>          MyKnitCroch</td>\n",
        "      <td>  235</td>\n",
        "      <td>  229</td>\n",
        "      <td> 10</td>\n",
        "      <td> 4.8696</td>\n",
        "      <td>  1651</td>\n",
        "    </tr>\n",
        "    <tr>\n",
        "      <th>3   </th>\n",
        "      <td>  1801</td>\n",
        "      <td> 1641</td>\n",
        "      <td>  True</td>\n",
        "      <td>                                  Suncoast of FL</td>\n",
        "      <td>  SandyCoastalDesigns</td>\n",
        "      <td>  376</td>\n",
        "      <td>  751</td>\n",
        "      <td> 10</td>\n",
        "      <td> 4.9091</td>\n",
        "      <td>  3565</td>\n",
        "    </tr>\n",
        "    <tr>\n",
        "      <th>4   </th>\n",
        "      <td>  1967</td>\n",
        "      <td> 1691</td>\n",
        "      <td> False</td>\n",
        "      <td>                                 Florence, Italy</td>\n",
        "      <td>           viafashion</td>\n",
        "      <td>   67</td>\n",
        "      <td>  493</td>\n",
        "      <td>  4</td>\n",
        "      <td> 3.5143</td>\n",
        "      <td>  2308</td>\n",
        "    </tr>\n",
        "    <tr>\n",
        "      <th>5   </th>\n",
        "      <td>  8240</td>\n",
        "      <td> 2374</td>\n",
        "      <td>  True</td>\n",
        "      <td>                  Los Angeles, CA, United States</td>\n",
        "      <td>            MaxMelody</td>\n",
        "      <td>  259</td>\n",
        "      <td> 1223</td>\n",
        "      <td>  9</td>\n",
        "      <td> 4.8469</td>\n",
        "      <td>  5017</td>\n",
        "    </tr>\n",
        "    <tr>\n",
        "      <th>6   </th>\n",
        "      <td>  1121</td>\n",
        "      <td> 2659</td>\n",
        "      <td>  True</td>\n",
        "      <td>                 Fort Collins, CO, United States</td>\n",
        "      <td>    knittingtreasures</td>\n",
        "      <td>   48</td>\n",
        "      <td>  255</td>\n",
        "      <td>  4</td>\n",
        "      <td> 4.9268</td>\n",
        "      <td>   711</td>\n",
        "    </tr>\n",
        "    <tr>\n",
        "      <th>7   </th>\n",
        "      <td>  4723</td>\n",
        "      <td> 2212</td>\n",
        "      <td> False</td>\n",
        "      <td>                                          Europa</td>\n",
        "      <td>                Ebruk</td>\n",
        "      <td>  334</td>\n",
        "      <td>  437</td>\n",
        "      <td> 10</td>\n",
        "      <td> 4.9065</td>\n",
        "      <td>  2959</td>\n",
        "    </tr>\n",
        "    <tr>\n",
        "      <th>8   </th>\n",
        "      <td>   334</td>\n",
        "      <td>  747</td>\n",
        "      <td> False</td>\n",
        "      <td>                                              -1</td>\n",
        "      <td>    SunshineBabyProps</td>\n",
        "      <td>   77</td>\n",
        "      <td>    7</td>\n",
        "      <td>  6</td>\n",
        "      <td> 5.0000</td>\n",
        "      <td>   266</td>\n",
        "    </tr>\n",
        "    <tr>\n",
        "      <th>9   </th>\n",
        "      <td> 23745</td>\n",
        "      <td> 2919</td>\n",
        "      <td>  True</td>\n",
        "      <td>                  Zephyrhills, FL, United States</td>\n",
        "      <td>            pixiebell</td>\n",
        "      <td> 1661</td>\n",
        "      <td> 6485</td>\n",
        "      <td> 10</td>\n",
        "      <td> 4.8933</td>\n",
        "      <td> 25189</td>\n",
        "    </tr>\n",
        "    <tr>\n",
        "      <th>10  </th>\n",
        "      <td>  1293</td>\n",
        "      <td> 1153</td>\n",
        "      <td>  True</td>\n",
        "      <td>              Liverpool, England, United Kingdom</td>\n",
        "      <td>    accessoriesbyrita</td>\n",
        "      <td>  428</td>\n",
        "      <td>  285</td>\n",
        "      <td>  9</td>\n",
        "      <td> 4.9036</td>\n",
        "      <td>  1722</td>\n",
        "    </tr>\n",
        "    <tr>\n",
        "      <th>11  </th>\n",
        "      <td>  6062</td>\n",
        "      <td> 1660</td>\n",
        "      <td> False</td>\n",
        "      <td>                                          Europe</td>\n",
        "      <td>           SENNURSASA</td>\n",
        "      <td>  243</td>\n",
        "      <td>  886</td>\n",
        "      <td>  9</td>\n",
        "      <td> 4.8719</td>\n",
        "      <td>  3109</td>\n",
        "    </tr>\n",
        "    <tr>\n",
        "      <th>12  </th>\n",
        "      <td>  5186</td>\n",
        "      <td> 1536</td>\n",
        "      <td> False</td>\n",
        "      <td>                                 Florence, Italy</td>\n",
        "      <td>             effybags</td>\n",
        "      <td>  138</td>\n",
        "      <td> 1001</td>\n",
        "      <td>  6</td>\n",
        "      <td> 4.1950</td>\n",
        "      <td>  7896</td>\n",
        "    </tr>\n",
        "    <tr>\n",
        "      <th>13  </th>\n",
        "      <td> 25414</td>\n",
        "      <td> 2760</td>\n",
        "      <td>  True</td>\n",
        "      <td>                 London, England, United Kingdom</td>\n",
        "      <td>              ileaiye</td>\n",
        "      <td>  259</td>\n",
        "      <td> 3524</td>\n",
        "      <td>  9</td>\n",
        "      <td> 4.9252</td>\n",
        "      <td>  8249</td>\n",
        "    </tr>\n",
        "    <tr>\n",
        "      <th>14  </th>\n",
        "      <td>  2826</td>\n",
        "      <td> 1985</td>\n",
        "      <td>  True</td>\n",
        "      <td>                 London, England, United Kingdom</td>\n",
        "      <td>                zukas</td>\n",
        "      <td>  151</td>\n",
        "      <td>  321</td>\n",
        "      <td> 10</td>\n",
        "      <td> 4.9310</td>\n",
        "      <td>  1524</td>\n",
        "    </tr>\n",
        "    <tr>\n",
        "      <th>15  </th>\n",
        "      <td>   716</td>\n",
        "      <td>  953</td>\n",
        "      <td>  True</td>\n",
        "      <td>             Canterbury, England, United Kingdom</td>\n",
        "      <td>       StripesnCables</td>\n",
        "      <td>  112</td>\n",
        "      <td>   58</td>\n",
        "      <td>  7</td>\n",
        "      <td> 4.9167</td>\n",
        "      <td>   398</td>\n",
        "    </tr>\n",
        "    <tr>\n",
        "      <th>16  </th>\n",
        "      <td>   466</td>\n",
        "      <td>  475</td>\n",
        "      <td>  True</td>\n",
        "      <td>                        Luray, VA, United States</td>\n",
        "      <td>        LurayKnitwear</td>\n",
        "      <td>  438</td>\n",
        "      <td>  157</td>\n",
        "      <td> 10</td>\n",
        "      <td> 4.9793</td>\n",
        "      <td>   499</td>\n",
        "    </tr>\n",
        "    <tr>\n",
        "      <th>17  </th>\n",
        "      <td>    18</td>\n",
        "      <td>  405</td>\n",
        "      <td>  True</td>\n",
        "      <td>                      Seattle, WA, United States</td>\n",
        "      <td>       HatsByHollyJoy</td>\n",
        "      <td>   60</td>\n",
        "      <td>    8</td>\n",
        "      <td>  3</td>\n",
        "      <td> 5.0000</td>\n",
        "      <td>    14</td>\n",
        "    </tr>\n",
        "    <tr>\n",
        "      <th>18  </th>\n",
        "      <td>   818</td>\n",
        "      <td>  997</td>\n",
        "      <td>  True</td>\n",
        "      <td>                   Saint Paul, MN, United States</td>\n",
        "      <td>   TheMadRabbitShoppe</td>\n",
        "      <td>   49</td>\n",
        "      <td>   77</td>\n",
        "      <td>  7</td>\n",
        "      <td> 5.0000</td>\n",
        "      <td>   319</td>\n",
        "    </tr>\n",
        "    <tr>\n",
        "      <th>19  </th>\n",
        "      <td>  1521</td>\n",
        "      <td> 1374</td>\n",
        "      <td>  True</td>\n",
        "      <td> Bulgaria,Europe,London, England, United Kingdom</td>\n",
        "      <td>      PrettyBagsByMia</td>\n",
        "      <td>  253</td>\n",
        "      <td>  109</td>\n",
        "      <td>  9</td>\n",
        "      <td> 4.5313</td>\n",
        "      <td>  1007</td>\n",
        "    </tr>\n",
        "    <tr>\n",
        "      <th>20  </th>\n",
        "      <td>   347</td>\n",
        "      <td> 1354</td>\n",
        "      <td>  True</td>\n",
        "      <td>                     Portland, OR, United States</td>\n",
        "      <td>        LoopsAndLines</td>\n",
        "      <td>  160</td>\n",
        "      <td>   88</td>\n",
        "      <td>  8</td>\n",
        "      <td> 4.9268</td>\n",
        "      <td>   363</td>\n",
        "    </tr>\n",
        "    <tr>\n",
        "      <th>21  </th>\n",
        "      <td>  1886</td>\n",
        "      <td>  931</td>\n",
        "      <td>  True</td>\n",
        "      <td>           Huddersfield, England, United Kingdom</td>\n",
        "      <td>           Regathered</td>\n",
        "      <td>  870</td>\n",
        "      <td>  214</td>\n",
        "      <td> 10</td>\n",
        "      <td> 4.9558</td>\n",
        "      <td>   792</td>\n",
        "    </tr>\n",
        "    <tr>\n",
        "      <th>22  </th>\n",
        "      <td>   729</td>\n",
        "      <td> 1887</td>\n",
        "      <td>  True</td>\n",
        "      <td>                    San Diego, CA, United States</td>\n",
        "      <td>         MomohanaKobo</td>\n",
        "      <td>   36</td>\n",
        "      <td>  276</td>\n",
        "      <td>  5</td>\n",
        "      <td> 5.0000</td>\n",
        "      <td>   929</td>\n",
        "    </tr>\n",
        "    <tr>\n",
        "      <th>23  </th>\n",
        "      <td>     3</td>\n",
        "      <td>  132</td>\n",
        "      <td>  True</td>\n",
        "      <td>                    Allentown, PA, United States</td>\n",
        "      <td>      HandknitsByLori</td>\n",
        "      <td>   27</td>\n",
        "      <td>   -1</td>\n",
        "      <td>  2</td>\n",
        "      <td>     -1</td>\n",
        "      <td>    -1</td>\n",
        "    </tr>\n",
        "    <tr>\n",
        "      <th>24  </th>\n",
        "      <td>   262</td>\n",
        "      <td>  898</td>\n",
        "      <td>  True</td>\n",
        "      <td>               Virginia Beach, VA, United States</td>\n",
        "      <td>       RelovedFabrics</td>\n",
        "      <td>  121</td>\n",
        "      <td>   29</td>\n",
        "      <td>  9</td>\n",
        "      <td> 5.0000</td>\n",
        "      <td>    99</td>\n",
        "    </tr>\n",
        "    <tr>\n",
        "      <th>25  </th>\n",
        "      <td>    83</td>\n",
        "      <td>  318</td>\n",
        "      <td>  True</td>\n",
        "      <td>                  Stony Point, NY, United States</td>\n",
        "      <td>      LudMilaBoutique</td>\n",
        "      <td>  163</td>\n",
        "      <td>   76</td>\n",
        "      <td>  8</td>\n",
        "      <td> 4.9605</td>\n",
        "      <td>   218</td>\n",
        "    </tr>\n",
        "    <tr>\n",
        "      <th>26  </th>\n",
        "      <td>  3086</td>\n",
        "      <td> 1422</td>\n",
        "      <td> False</td>\n",
        "      <td>               Europe , Poland  I ship worldwide</td>\n",
        "      <td>               Ifonka</td>\n",
        "      <td>  872</td>\n",
        "      <td>  591</td>\n",
        "      <td> 10</td>\n",
        "      <td> 4.8010</td>\n",
        "      <td>  4090</td>\n",
        "    </tr>\n",
        "    <tr>\n",
        "      <th>27  </th>\n",
        "      <td>  1294</td>\n",
        "      <td> 2725</td>\n",
        "      <td> False</td>\n",
        "      <td>                        Istanbul, Turkey, Europe</td>\n",
        "      <td> BouquetSpecialDesign</td>\n",
        "      <td>   36</td>\n",
        "      <td>  148</td>\n",
        "      <td>  5</td>\n",
        "      <td> 4.9167</td>\n",
        "      <td>   391</td>\n",
        "    </tr>\n",
        "    <tr>\n",
        "      <th>28  </th>\n",
        "      <td>   580</td>\n",
        "      <td>   87</td>\n",
        "      <td>  True</td>\n",
        "      <td>                      Phoenix, AZ, United States</td>\n",
        "      <td>    PoshKiddosapparel</td>\n",
        "      <td>   -1</td>\n",
        "      <td>   36</td>\n",
        "      <td> -1</td>\n",
        "      <td> 5.0000</td>\n",
        "      <td>   349</td>\n",
        "    </tr>\n",
        "    <tr>\n",
        "      <th>29  </th>\n",
        "      <td>  6010</td>\n",
        "      <td>  229</td>\n",
        "      <td>  True</td>\n",
        "      <td>                American Fork, UT, United States</td>\n",
        "      <td>       ShopLuluandRoo</td>\n",
        "      <td>  116</td>\n",
        "      <td>  378</td>\n",
        "      <td> 10</td>\n",
        "      <td> 4.8942</td>\n",
        "      <td>  3581</td>\n",
        "    </tr>\n",
        "    <tr>\n",
        "      <th>30  </th>\n",
        "      <td>  1053</td>\n",
        "      <td>  679</td>\n",
        "      <td>  True</td>\n",
        "      <td>               Spalding, England, United Kingdom</td>\n",
        "      <td>          HootersHall</td>\n",
        "      <td>   63</td>\n",
        "      <td>   17</td>\n",
        "      <td>  8</td>\n",
        "      <td> 4.9333</td>\n",
        "      <td>    82</td>\n",
        "    </tr>\n",
        "    <tr>\n",
        "      <th>...</th>\n",
        "      <td>...</td>\n",
        "      <td>...</td>\n",
        "      <td>...</td>\n",
        "      <td>...</td>\n",
        "      <td>...</td>\n",
        "      <td>...</td>\n",
        "      <td>...</td>\n",
        "      <td>...</td>\n",
        "      <td>...</td>\n",
        "      <td>...</td>\n",
        "    </tr>\n",
        "    <tr>\n",
        "      <th>1525</th>\n",
        "      <td>  1820</td>\n",
        "      <td> 2000</td>\n",
        "      <td>  True</td>\n",
        "      <td>                                 Europe, Hungary</td>\n",
        "      <td>             HEraMade</td>\n",
        "      <td>  127</td>\n",
        "      <td>   53</td>\n",
        "      <td> 10</td>\n",
        "      <td> 4.6667</td>\n",
        "      <td>   131</td>\n",
        "    </tr>\n",
        "    <tr>\n",
        "      <th>1526</th>\n",
        "      <td>   144</td>\n",
        "      <td> 1393</td>\n",
        "      <td>  True</td>\n",
        "      <td>                               Fort Worth, Texas</td>\n",
        "      <td>  GrammasKnittedGifts</td>\n",
        "      <td>   52</td>\n",
        "      <td>   87</td>\n",
        "      <td>  3</td>\n",
        "      <td> 4.9841</td>\n",
        "      <td>   359</td>\n",
        "    </tr>\n",
        "    <tr>\n",
        "      <th>1527</th>\n",
        "      <td>    12</td>\n",
        "      <td>  179</td>\n",
        "      <td>  True</td>\n",
        "      <td>               East Greenbush, NY, United States</td>\n",
        "      <td>       MamasTeddyBear</td>\n",
        "      <td>   38</td>\n",
        "      <td>    2</td>\n",
        "      <td>  7</td>\n",
        "      <td> 5.0000</td>\n",
        "      <td>     5</td>\n",
        "    </tr>\n",
        "    <tr>\n",
        "      <th>1528</th>\n",
        "      <td>    33</td>\n",
        "      <td>  367</td>\n",
        "      <td>  True</td>\n",
        "      <td>                                              -1</td>\n",
        "      <td>     TheDelightfulDay</td>\n",
        "      <td>  165</td>\n",
        "      <td>   27</td>\n",
        "      <td>  6</td>\n",
        "      <td> 4.9259</td>\n",
        "      <td>    92</td>\n",
        "    </tr>\n",
        "    <tr>\n",
        "      <th>1529</th>\n",
        "      <td>   261</td>\n",
        "      <td>  944</td>\n",
        "      <td>  True</td>\n",
        "      <td>                        Price, UT, United States</td>\n",
        "      <td>     HappyChoiceKnits</td>\n",
        "      <td>   93</td>\n",
        "      <td>  121</td>\n",
        "      <td>  8</td>\n",
        "      <td> 5.0000</td>\n",
        "      <td>   294</td>\n",
        "    </tr>\n",
        "    <tr>\n",
        "      <th>1530</th>\n",
        "      <td>    -1</td>\n",
        "      <td>   86</td>\n",
        "      <td>  True</td>\n",
        "      <td>                       Tucson, AZ, United States</td>\n",
        "      <td>    MissMaysMomsKnits</td>\n",
        "      <td>   -1</td>\n",
        "      <td>   -1</td>\n",
        "      <td> -1</td>\n",
        "      <td>     -1</td>\n",
        "      <td>    -1</td>\n",
        "    </tr>\n",
        "    <tr>\n",
        "      <th>1531</th>\n",
        "      <td>    -1</td>\n",
        "      <td>   56</td>\n",
        "      <td> False</td>\n",
        "      <td>                    Millville, MA, United States</td>\n",
        "      <td>            AfonsoWay</td>\n",
        "      <td>   18</td>\n",
        "      <td>   -1</td>\n",
        "      <td>  5</td>\n",
        "      <td>     -1</td>\n",
        "      <td>    -1</td>\n",
        "    </tr>\n",
        "    <tr>\n",
        "      <th>1532</th>\n",
        "      <td>   290</td>\n",
        "      <td> 2052</td>\n",
        "      <td> False</td>\n",
        "      <td>                             Loomis, California,</td>\n",
        "      <td>      CherryDollyFace</td>\n",
        "      <td>  154</td>\n",
        "      <td>   94</td>\n",
        "      <td>  5</td>\n",
        "      <td> 4.9500</td>\n",
        "      <td>   221</td>\n",
        "    </tr>\n",
        "    <tr>\n",
        "      <th>1533</th>\n",
        "      <td>    43</td>\n",
        "      <td> 1206</td>\n",
        "      <td> False</td>\n",
        "      <td>                 Marietta Georgia, United States</td>\n",
        "      <td>          lovemyknits</td>\n",
        "      <td>   28</td>\n",
        "      <td>   22</td>\n",
        "      <td>  1</td>\n",
        "      <td> 5.0000</td>\n",
        "      <td>   132</td>\n",
        "    </tr>\n",
        "    <tr>\n",
        "      <th>1534</th>\n",
        "      <td>    12</td>\n",
        "      <td>  463</td>\n",
        "      <td>  True</td>\n",
        "      <td>                        Fargo, ND, United States</td>\n",
        "      <td>         FargoCoreCon</td>\n",
        "      <td>   14</td>\n",
        "      <td>   -1</td>\n",
        "      <td>  5</td>\n",
        "      <td>     -1</td>\n",
        "      <td>    27</td>\n",
        "    </tr>\n",
        "    <tr>\n",
        "      <th>1535</th>\n",
        "      <td>    87</td>\n",
        "      <td>  132</td>\n",
        "      <td>  True</td>\n",
        "      <td>                Overland Park, KS, United States</td>\n",
        "      <td>        SellingWarmth</td>\n",
        "      <td>   88</td>\n",
        "      <td>   13</td>\n",
        "      <td>  7</td>\n",
        "      <td> 4.9231</td>\n",
        "      <td>    27</td>\n",
        "    </tr>\n",
        "    <tr>\n",
        "      <th>1536</th>\n",
        "      <td>    15</td>\n",
        "      <td>   78</td>\n",
        "      <td>  True</td>\n",
        "      <td>                   Bellingham, WA, United States</td>\n",
        "      <td>           FaunaKnits</td>\n",
        "      <td>   10</td>\n",
        "      <td>   -1</td>\n",
        "      <td>  3</td>\n",
        "      <td>     -1</td>\n",
        "      <td>     5</td>\n",
        "    </tr>\n",
        "    <tr>\n",
        "      <th>1537</th>\n",
        "      <td>    11</td>\n",
        "      <td>  373</td>\n",
        "      <td>  True</td>\n",
        "      <td>                    Anacortes, WA, United States</td>\n",
        "      <td>        IsolaHandmade</td>\n",
        "      <td>   37</td>\n",
        "      <td>    5</td>\n",
        "      <td>  3</td>\n",
        "      <td> 4.8000</td>\n",
        "      <td>    43</td>\n",
        "    </tr>\n",
        "    <tr>\n",
        "      <th>1538</th>\n",
        "      <td>  1162</td>\n",
        "      <td> 1104</td>\n",
        "      <td>  True</td>\n",
        "      <td>                    San Diego, CA, United States</td>\n",
        "      <td>       cherryREVOLVER</td>\n",
        "      <td> 1066</td>\n",
        "      <td>  238</td>\n",
        "      <td> 10</td>\n",
        "      <td> 4.8933</td>\n",
        "      <td>  1143</td>\n",
        "    </tr>\n",
        "    <tr>\n",
        "      <th>1539</th>\n",
        "      <td>    13</td>\n",
        "      <td>  562</td>\n",
        "      <td>  True</td>\n",
        "      <td>                       Austin, TX, United States</td>\n",
        "      <td>             Madfindz</td>\n",
        "      <td>   23</td>\n",
        "      <td>    5</td>\n",
        "      <td>  4</td>\n",
        "      <td> 5.0000</td>\n",
        "      <td>    10</td>\n",
        "    </tr>\n",
        "    <tr>\n",
        "      <th>1540</th>\n",
        "      <td>    42</td>\n",
        "      <td>  285</td>\n",
        "      <td> False</td>\n",
        "      <td>                                Bulgaria, Europe</td>\n",
        "      <td>            Letricott</td>\n",
        "      <td>   46</td>\n",
        "      <td>    6</td>\n",
        "      <td>  8</td>\n",
        "      <td> 5.0000</td>\n",
        "      <td>    22</td>\n",
        "    </tr>\n",
        "    <tr>\n",
        "      <th>1541</th>\n",
        "      <td>  9484</td>\n",
        "      <td>  656</td>\n",
        "      <td>  True</td>\n",
        "      <td>                                 Berlin, Germany</td>\n",
        "      <td>  BonniesCinematheque</td>\n",
        "      <td>   90</td>\n",
        "      <td>  166</td>\n",
        "      <td> 10</td>\n",
        "      <td> 4.9542</td>\n",
        "      <td>   442</td>\n",
        "    </tr>\n",
        "    <tr>\n",
        "      <th>1542</th>\n",
        "      <td>   157</td>\n",
        "      <td>  954</td>\n",
        "      <td>  True</td>\n",
        "      <td>                             Lynden, Washington,</td>\n",
        "      <td>    KnitGoodWomanKnit</td>\n",
        "      <td>   27</td>\n",
        "      <td>    6</td>\n",
        "      <td>  4</td>\n",
        "      <td> 5.0000</td>\n",
        "      <td>    22</td>\n",
        "    </tr>\n",
        "    <tr>\n",
        "      <th>1543</th>\n",
        "      <td>   112</td>\n",
        "      <td>  175</td>\n",
        "      <td> False</td>\n",
        "      <td>                                          Europe</td>\n",
        "      <td>         RedGreenShop</td>\n",
        "      <td>   -1</td>\n",
        "      <td>    2</td>\n",
        "      <td> -1</td>\n",
        "      <td> 5.0000</td>\n",
        "      <td>     2</td>\n",
        "    </tr>\n",
        "    <tr>\n",
        "      <th>1544</th>\n",
        "      <td>    48</td>\n",
        "      <td>  871</td>\n",
        "      <td>  True</td>\n",
        "      <td>               Grand Junction, CO, United States</td>\n",
        "      <td>     MountainKnitwear</td>\n",
        "      <td>   32</td>\n",
        "      <td>    2</td>\n",
        "      <td>  6</td>\n",
        "      <td> 5.0000</td>\n",
        "      <td>    10</td>\n",
        "    </tr>\n",
        "    <tr>\n",
        "      <th>1545</th>\n",
        "      <td>    49</td>\n",
        "      <td>  515</td>\n",
        "      <td>  True</td>\n",
        "      <td>                       Auburn, WA, United States</td>\n",
        "      <td>     YailsCraftCorner</td>\n",
        "      <td>   99</td>\n",
        "      <td>   75</td>\n",
        "      <td>  3</td>\n",
        "      <td> 4.8095</td>\n",
        "      <td>   283</td>\n",
        "    </tr>\n",
        "    <tr>\n",
        "      <th>1546</th>\n",
        "      <td>   153</td>\n",
        "      <td> 1449</td>\n",
        "      <td>  True</td>\n",
        "      <td>                    Cape Vincent, New&amp;nbsp;York,</td>\n",
        "      <td>     DiVerseBlessings</td>\n",
        "      <td>  197</td>\n",
        "      <td>   31</td>\n",
        "      <td> 10</td>\n",
        "      <td> 5.0000</td>\n",
        "      <td>    80</td>\n",
        "    </tr>\n",
        "    <tr>\n",
        "      <th>1547</th>\n",
        "      <td>     7</td>\n",
        "      <td>   29</td>\n",
        "      <td>  True</td>\n",
        "      <td>                                              -1</td>\n",
        "      <td>    KnitsWithLoveByKP</td>\n",
        "      <td>   10</td>\n",
        "      <td>   -1</td>\n",
        "      <td>  1</td>\n",
        "      <td>     -1</td>\n",
        "      <td>    -1</td>\n",
        "    </tr>\n",
        "    <tr>\n",
        "      <th>1548</th>\n",
        "      <td>    82</td>\n",
        "      <td> 1229</td>\n",
        "      <td>  True</td>\n",
        "      <td>                                              -1</td>\n",
        "      <td>        Knits4Noggins</td>\n",
        "      <td>  176</td>\n",
        "      <td>   21</td>\n",
        "      <td>  9</td>\n",
        "      <td> 5.0000</td>\n",
        "      <td>   110</td>\n",
        "    </tr>\n",
        "    <tr>\n",
        "      <th>1549</th>\n",
        "      <td>   147</td>\n",
        "      <td>  397</td>\n",
        "      <td>  True</td>\n",
        "      <td>                    Asheville, NC, United States</td>\n",
        "      <td>         WoolenViolet</td>\n",
        "      <td>   27</td>\n",
        "      <td>   10</td>\n",
        "      <td>  5</td>\n",
        "      <td> 5.0000</td>\n",
        "      <td>    22</td>\n",
        "    </tr>\n",
        "    <tr>\n",
        "      <th>1550</th>\n",
        "      <td>    38</td>\n",
        "      <td>  172</td>\n",
        "      <td> False</td>\n",
        "      <td>                         Sofia, Bulgaria, Europe</td>\n",
        "      <td>             VirgoArt</td>\n",
        "      <td>   19</td>\n",
        "      <td>   -1</td>\n",
        "      <td>  6</td>\n",
        "      <td>     -1</td>\n",
        "      <td>    -1</td>\n",
        "    </tr>\n",
        "    <tr>\n",
        "      <th>1551</th>\n",
        "      <td>   511</td>\n",
        "      <td> 2430</td>\n",
        "      <td>  True</td>\n",
        "      <td>                     Danville, PA, United States</td>\n",
        "      <td>  TheHumbleSeamstress</td>\n",
        "      <td>  103</td>\n",
        "      <td>   58</td>\n",
        "      <td> 10</td>\n",
        "      <td> 5.0000</td>\n",
        "      <td>   100</td>\n",
        "    </tr>\n",
        "    <tr>\n",
        "      <th>1552</th>\n",
        "      <td>    35</td>\n",
        "      <td>  163</td>\n",
        "      <td>  True</td>\n",
        "      <td>                 Rohnert Park, CA, United States</td>\n",
        "      <td> GrammysCustomCrochet</td>\n",
        "      <td>   38</td>\n",
        "      <td>    4</td>\n",
        "      <td>  8</td>\n",
        "      <td> 5.0000</td>\n",
        "      <td>     6</td>\n",
        "    </tr>\n",
        "    <tr>\n",
        "      <th>1553</th>\n",
        "      <td>   230</td>\n",
        "      <td> 1416</td>\n",
        "      <td> False</td>\n",
        "      <td>                   Crossville, TN, United States</td>\n",
        "      <td>              RNNan13</td>\n",
        "      <td>  686</td>\n",
        "      <td>  229</td>\n",
        "      <td> 10</td>\n",
        "      <td> 4.9018</td>\n",
        "      <td>   875</td>\n",
        "    </tr>\n",
        "    <tr>\n",
        "      <th>1554</th>\n",
        "      <td>     7</td>\n",
        "      <td>  333</td>\n",
        "      <td>  True</td>\n",
        "      <td>                  East Granby, CT, United States</td>\n",
        "      <td>           ReikiKnits</td>\n",
        "      <td>   19</td>\n",
        "      <td>    2</td>\n",
        "      <td>  1</td>\n",
        "      <td> 5.0000</td>\n",
        "      <td>     5</td>\n",
        "    </tr>\n",
        "  </tbody>\n",
        "</table>\n",
        "<p>1554 rows \u00d7 10 columns</p>\n",
        "</div>"
       ],
       "metadata": {},
       "output_type": "pyout",
       "prompt_number": 3,
       "text": [
        "     Admirers   Age Gift_card  \\\n",
        "1        3659  1545     False   \n",
        "2        1067   983     False   \n",
        "3        1801  1641      True   \n",
        "4        1967  1691     False   \n",
        "5        8240  2374      True   \n",
        "6        1121  2659      True   \n",
        "7        4723  2212     False   \n",
        "8         334   747     False   \n",
        "9       23745  2919      True   \n",
        "10       1293  1153      True   \n",
        "11       6062  1660     False   \n",
        "12       5186  1536     False   \n",
        "13      25414  2760      True   \n",
        "14       2826  1985      True   \n",
        "15        716   953      True   \n",
        "16        466   475      True   \n",
        "17         18   405      True   \n",
        "18        818   997      True   \n",
        "19       1521  1374      True   \n",
        "20        347  1354      True   \n",
        "21       1886   931      True   \n",
        "22        729  1887      True   \n",
        "23          3   132      True   \n",
        "24        262   898      True   \n",
        "25         83   318      True   \n",
        "26       3086  1422     False   \n",
        "27       1294  2725     False   \n",
        "28        580    87      True   \n",
        "29       6010   229      True   \n",
        "30       1053   679      True   \n",
        "...       ...   ...       ...   \n",
        "1525     1820  2000      True   \n",
        "1526      144  1393      True   \n",
        "1527       12   179      True   \n",
        "1528       33   367      True   \n",
        "1529      261   944      True   \n",
        "1530       -1    86      True   \n",
        "1531       -1    56     False   \n",
        "1532      290  2052     False   \n",
        "1533       43  1206     False   \n",
        "1534       12   463      True   \n",
        "1535       87   132      True   \n",
        "1536       15    78      True   \n",
        "1537       11   373      True   \n",
        "1538     1162  1104      True   \n",
        "1539       13   562      True   \n",
        "1540       42   285     False   \n",
        "1541     9484   656      True   \n",
        "1542      157   954      True   \n",
        "1543      112   175     False   \n",
        "1544       48   871      True   \n",
        "1545       49   515      True   \n",
        "1546      153  1449      True   \n",
        "1547        7    29      True   \n",
        "1548       82  1229      True   \n",
        "1549      147   397      True   \n",
        "1550       38   172     False   \n",
        "1551      511  2430      True   \n",
        "1552       35   163      True   \n",
        "1553      230  1416     False   \n",
        "1554        7   333      True   \n",
        "\n",
        "                                             Location                  Name  \\\n",
        "1                                      Europe, Turkey                  Puik   \n",
        "2                                      Gdynia, Poland           MyKnitCroch   \n",
        "3                                      Suncoast of FL   SandyCoastalDesigns   \n",
        "4                                     Florence, Italy            viafashion   \n",
        "5                      Los Angeles, CA, United States             MaxMelody   \n",
        "6                     Fort Collins, CO, United States     knittingtreasures   \n",
        "7                                              Europa                 Ebruk   \n",
        "8                                                  -1     SunshineBabyProps   \n",
        "9                      Zephyrhills, FL, United States             pixiebell   \n",
        "10                 Liverpool, England, United Kingdom     accessoriesbyrita   \n",
        "11                                             Europe            SENNURSASA   \n",
        "12                                    Florence, Italy              effybags   \n",
        "13                    London, England, United Kingdom               ileaiye   \n",
        "14                    London, England, United Kingdom                 zukas   \n",
        "15                Canterbury, England, United Kingdom        StripesnCables   \n",
        "16                           Luray, VA, United States         LurayKnitwear   \n",
        "17                         Seattle, WA, United States        HatsByHollyJoy   \n",
        "18                      Saint Paul, MN, United States    TheMadRabbitShoppe   \n",
        "19    Bulgaria,Europe,London, England, United Kingdom       PrettyBagsByMia   \n",
        "20                        Portland, OR, United States         LoopsAndLines   \n",
        "21              Huddersfield, England, United Kingdom            Regathered   \n",
        "22                       San Diego, CA, United States          MomohanaKobo   \n",
        "23                       Allentown, PA, United States       HandknitsByLori   \n",
        "24                  Virginia Beach, VA, United States        RelovedFabrics   \n",
        "25                     Stony Point, NY, United States       LudMilaBoutique   \n",
        "26                  Europe , Poland  I ship worldwide                Ifonka   \n",
        "27                           Istanbul, Turkey, Europe  BouquetSpecialDesign   \n",
        "28                         Phoenix, AZ, United States     PoshKiddosapparel   \n",
        "29                   American Fork, UT, United States        ShopLuluandRoo   \n",
        "30                  Spalding, England, United Kingdom           HootersHall   \n",
        "...                                               ...                   ...   \n",
        "1525                                  Europe, Hungary              HEraMade   \n",
        "1526                                Fort Worth, Texas   GrammasKnittedGifts   \n",
        "1527                East Greenbush, NY, United States        MamasTeddyBear   \n",
        "1528                                               -1      TheDelightfulDay   \n",
        "1529                         Price, UT, United States      HappyChoiceKnits   \n",
        "1530                        Tucson, AZ, United States     MissMaysMomsKnits   \n",
        "1531                     Millville, MA, United States             AfonsoWay   \n",
        "1532                              Loomis, California,       CherryDollyFace   \n",
        "1533                  Marietta Georgia, United States           lovemyknits   \n",
        "1534                         Fargo, ND, United States          FargoCoreCon   \n",
        "1535                 Overland Park, KS, United States         SellingWarmth   \n",
        "1536                    Bellingham, WA, United States            FaunaKnits   \n",
        "1537                     Anacortes, WA, United States         IsolaHandmade   \n",
        "1538                     San Diego, CA, United States        cherryREVOLVER   \n",
        "1539                        Austin, TX, United States              Madfindz   \n",
        "1540                                 Bulgaria, Europe             Letricott   \n",
        "1541                                  Berlin, Germany   BonniesCinematheque   \n",
        "1542                              Lynden, Washington,     KnitGoodWomanKnit   \n",
        "1543                                           Europe          RedGreenShop   \n",
        "1544                Grand Junction, CO, United States      MountainKnitwear   \n",
        "1545                        Auburn, WA, United States      YailsCraftCorner   \n",
        "1546                     Cape Vincent, New&nbsp;York,      DiVerseBlessings   \n",
        "1547                                               -1     KnitsWithLoveByKP   \n",
        "1548                                               -1         Knits4Noggins   \n",
        "1549                     Asheville, NC, United States          WoolenViolet   \n",
        "1550                          Sofia, Bulgaria, Europe              VirgoArt   \n",
        "1551                      Danville, PA, United States   TheHumbleSeamstress   \n",
        "1552                  Rohnert Park, CA, United States  GrammysCustomCrochet   \n",
        "1553                    Crossville, TN, United States               RNNan13   \n",
        "1554                   East Granby, CT, United States            ReikiKnits   \n",
        "\n",
        "     Num_items Num_reviews Num_sections  Rating  Sales  \n",
        "1           18         442            2  4.9185   2542  \n",
        "2          235         229           10  4.8696   1651  \n",
        "3          376         751           10  4.9091   3565  \n",
        "4           67         493            4  3.5143   2308  \n",
        "5          259        1223            9  4.8469   5017  \n",
        "6           48         255            4  4.9268    711  \n",
        "7          334         437           10  4.9065   2959  \n",
        "8           77           7            6  5.0000    266  \n",
        "9         1661        6485           10  4.8933  25189  \n",
        "10         428         285            9  4.9036   1722  \n",
        "11         243         886            9  4.8719   3109  \n",
        "12         138        1001            6  4.1950   7896  \n",
        "13         259        3524            9  4.9252   8249  \n",
        "14         151         321           10  4.9310   1524  \n",
        "15         112          58            7  4.9167    398  \n",
        "16         438         157           10  4.9793    499  \n",
        "17          60           8            3  5.0000     14  \n",
        "18          49          77            7  5.0000    319  \n",
        "19         253         109            9  4.5313   1007  \n",
        "20         160          88            8  4.9268    363  \n",
        "21         870         214           10  4.9558    792  \n",
        "22          36         276            5  5.0000    929  \n",
        "23          27          -1            2      -1     -1  \n",
        "24         121          29            9  5.0000     99  \n",
        "25         163          76            8  4.9605    218  \n",
        "26         872         591           10  4.8010   4090  \n",
        "27          36         148            5  4.9167    391  \n",
        "28          -1          36           -1  5.0000    349  \n",
        "29         116         378           10  4.8942   3581  \n",
        "30          63          17            8  4.9333     82  \n",
        "...        ...         ...          ...     ...    ...  \n",
        "1525       127          53           10  4.6667    131  \n",
        "1526        52          87            3  4.9841    359  \n",
        "1527        38           2            7  5.0000      5  \n",
        "1528       165          27            6  4.9259     92  \n",
        "1529        93         121            8  5.0000    294  \n",
        "1530        -1          -1           -1      -1     -1  \n",
        "1531        18          -1            5      -1     -1  \n",
        "1532       154          94            5  4.9500    221  \n",
        "1533        28          22            1  5.0000    132  \n",
        "1534        14          -1            5      -1     27  \n",
        "1535        88          13            7  4.9231     27  \n",
        "1536        10          -1            3      -1      5  \n",
        "1537        37           5            3  4.8000     43  \n",
        "1538      1066         238           10  4.8933   1143  \n",
        "1539        23           5            4  5.0000     10  \n",
        "1540        46           6            8  5.0000     22  \n",
        "1541        90         166           10  4.9542    442  \n",
        "1542        27           6            4  5.0000     22  \n",
        "1543        -1           2           -1  5.0000      2  \n",
        "1544        32           2            6  5.0000     10  \n",
        "1545        99          75            3  4.8095    283  \n",
        "1546       197          31           10  5.0000     80  \n",
        "1547        10          -1            1      -1     -1  \n",
        "1548       176          21            9  5.0000    110  \n",
        "1549        27          10            5  5.0000     22  \n",
        "1550        19          -1            6      -1     -1  \n",
        "1551       103          58           10  5.0000    100  \n",
        "1552        38           4            8  5.0000      6  \n",
        "1553       686         229           10  4.9018    875  \n",
        "1554        19           2            1  5.0000      5  \n",
        "\n",
        "[1554 rows x 10 columns]"
       ]
      }
     ],
     "prompt_number": 3
    },
    {
     "cell_type": "code",
     "collapsed": false,
     "input": [
      "print('most admirers')\n",
      "print(df.sort(columns='Admirers', ascending=False).iloc[0])\n",
      "print('oldest')\n",
      "print(df.sort(columns='Age', ascending=False).iloc[1])\n",
      "print('most items')\n",
      "print(df.sort(columns='Num_items', ascending=False).iloc[0])\n",
      "print('most sales')\n",
      "print(df.sort(columns='Sales', ascending=False).iloc[0])\n",
      "print(str(len(df))+' entries')\n",
      "print()"
     ],
     "language": "python",
     "metadata": {},
     "outputs": [
      {
       "output_type": "stream",
       "stream": "stdout",
       "text": [
        "most admirers\n",
        "Admirers                              106316\n",
        "Age                                     1269\n",
        "Gift_card                               True\n",
        "Location        Livermore, CA, United States\n",
        "Name                           ThreeBirdNest\n",
        "Num_items                                203\n",
        "Num_reviews                            13204\n",
        "Num_sections                              10\n",
        "Rating                                4.4034\n",
        "Sales                                 100333\n",
        "Name: 152, dtype: object\n",
        "oldest\n",
        "Admirers                                        5588\n",
        "Age                                             3275\n",
        "Gift_card                                       True\n",
        "Location        Borough of Queens, NY, United States\n",
        "Name                                    dahliasoleil\n",
        "Num_items                                        271\n",
        "Num_reviews                                     1380\n",
        "Num_sections                                       7\n",
        "Rating                                        4.9648\n",
        "Sales                                           4986\n",
        "Name: 250, dtype: object\n",
        "most items\n",
        "Admirers                  1092\n",
        "Age                        834\n",
        "Gift_card                 True\n",
        "Location               Midwest\n",
        "Name            NeutralNellies\n",
        "Num_items                 1859\n",
        "Num_reviews                631\n",
        "Num_sections                10\n",
        "Rating                  4.9430\n",
        "Sales                     1679\n",
        "Name: 1271, dtype: object\n",
        "most sales\n",
        "Admirers                              106316\n",
        "Age                                     1269\n",
        "Gift_card                               True\n",
        "Location        Livermore, CA, United States\n",
        "Name                           ThreeBirdNest\n",
        "Num_items                                203\n",
        "Num_reviews                            13204\n",
        "Num_sections                              10\n",
        "Rating                                4.4034\n",
        "Sales                                 100333\n",
        "Name: 152, dtype: object\n",
        "1554 entries\n",
        "()\n"
       ]
      }
     ],
     "prompt_number": 19
    },
    {
     "cell_type": "code",
     "collapsed": false,
     "input": [
      "print('Number accepting gift cards')\n",
      "print(len([x for x in df.Gift_card if x==True]))\n",
      "print('Number with perfect ratings')\n",
      "print(len([x for x in df.Rating if x=='5.0000']))"
     ],
     "language": "python",
     "metadata": {},
     "outputs": [
      {
       "output_type": "stream",
       "stream": "stdout",
       "text": [
        "Number accepting gift cards\n",
        "1061\n",
        "Number with perfect ratings\n",
        "594\n"
       ]
      }
     ],
     "prompt_number": 13
    },
    {
     "cell_type": "markdown",
     "metadata": {},
     "source": []
    },
    {
     "cell_type": "code",
     "collapsed": false,
     "input": [
      "%matplotlib inline\n",
      "locations = df.Location.value_counts().drop([-1], axis=0).head(20)\n",
      "locations.plot(kind='barh')"
     ],
     "language": "python",
     "metadata": {},
     "outputs": [
      {
       "metadata": {},
       "output_type": "pyout",
       "prompt_number": 35,
       "text": [
        "<matplotlib.axes._subplots.AxesSubplot at 0x10c9ff110>"
       ]
      },
      {
       "metadata": {},
       "output_type": "display_data",
       "png": "[encoded data removed]",
       "text": [
        "<matplotlib.figure.Figure at 0x10c9ff650>"
       ]
      }
     ],
     "prompt_number": 35
    },
    {
     "cell_type": "code",
     "collapsed": false,
     "input": [
      "items = [x for x in df.Num_items if x>10]\n",
      "plt.plot(items)\n",
      "plt.xlabel('Rank')\n",
      "plt.ylabel('Number of items')"
     ],
     "language": "python",
     "metadata": {},
     "outputs": [
      {
       "metadata": {},
       "output_type": "pyout",
       "prompt_number": 39,
       "text": [
        "<matplotlib.text.Text at 0x10c1f35d0>"
       ]
      },
      {
       "metadata": {},
       "output_type": "display_data",
       "png": "[encoded data removed]",
       "text": [
        "<matplotlib.figure.Figure at 0x10e638450>"
       ]
      }
     ],
     "prompt_number": 39
    },
    {
     "cell_type": "code",
     "collapsed": false,
     "input": [
      "rating = [x for x in df.Rating if x>1]\n",
      "plt.plot(rating)\n",
      "plt.xlabel('Rank')\n",
      "plt.ylabel('Average Rating')"
     ],
     "language": "python",
     "metadata": {},
     "outputs": [
      {
       "metadata": {},
       "output_type": "pyout",
       "prompt_number": 40,
       "text": [
        "<matplotlib.text.Text at 0x10e129510>"
       ]
      },
      {
       "metadata": {},
       "output_type": "display_data",
       "png": "[encoded data removed]",
       "text": [
        "<matplotlib.figure.Figure at 0x10da85790>"
       ]
      }
     ],
     "prompt_number": 40
    },
    {
     "cell_type": "code",
     "collapsed": false,
     "input": [
      "sales = [x for x in df.Sales if x>1]\n",
      "plt.plot(sales)\n",
      "plt.xlabel('Rank')\n",
      "plt.ylabel('Number of Sales')"
     ],
     "language": "python",
     "metadata": {},
     "outputs": [
      {
       "metadata": {},
       "output_type": "pyout",
       "prompt_number": 63,
       "text": [
        "<matplotlib.text.Text at 0x10c02e150>"
       ]
      },
      {
       "metadata": {},
       "output_type": "display_data",
       "png": "[encoded data removed]",
       "text": [
        "<matplotlib.figure.Figure at 0x114ec0090>"
       ]
      }
     ],
     "prompt_number": 63
    },
    {
     "cell_type": "code",
     "collapsed": false,
     "input": [
      "admirers = [x for x in df.Admirers if x>100]\n",
      "plt.plot(admirers)\n",
      "plt.xlabel('Rank')\n",
      "plt.ylabel('Number of Admirers')"
     ],
     "language": "python",
     "metadata": {},
     "outputs": [
      {
       "metadata": {},
       "output_type": "pyout",
       "prompt_number": 65,
       "text": [
        "<matplotlib.text.Text at 0x114e4bcd0>"
       ]
      },
      {
       "metadata": {},
       "output_type": "display_data",
       "png": "[encoded data removed]",
       "text": [
        "<matplotlib.figure.Figure at 0x114fc8a10>"
       ]
      }
     ],
     "prompt_number": 65
    },
    {
     "cell_type": "code",
     "collapsed": false,
     "input": [
      "sales = [x for x in df.Sales]\n",
      "admirers = [x for x in df.Admirers]\n",
      "plt.scatter(sales, admirers)\n",
      "plt.xlabel('Number of Sales')\n",
      "plt.ylabel('Number of Admirers')"
     ],
     "language": "python",
     "metadata": {},
     "outputs": [
      {
       "metadata": {},
       "output_type": "pyout",
       "prompt_number": 41,
       "text": [
        "<matplotlib.text.Text at 0x10c1ca050>"
       ]
      },
      {
       "metadata": {},
       "output_type": "display_data",
       "png": "[encoded data removed]",
       "text": [
        "<matplotlib.figure.Figure at 0x10d1fd290>"
       ]
      }
     ],
     "prompt_number": 41
    },
    {
     "cell_type": "code",
     "collapsed": false,
     "input": [
      "#Linear Regression for Rank\n",
      "r = df.drop(['Gift_card', 'Location', 'Name', 'Num_reviews', 'Num_sections'], axis=1)\n",
      "r['rand'] = [np.random.rand() for i in range(len(r))]\n",
      "r = r.sort('rand')\n",
      "r = r.drop('rand', 1)\n",
      "r = r.convert_objects(convert_numeric=True)\n",
      "\n",
      "test = r.head(len(r)/2).replace(-1, 0)\n",
      "train = r.tail(len(r)/2).replace(-1,0)\n",
      "\n",
      "y_train = train.index\n",
      "y_test = test.index\n",
      "\n",
      "x_train = train[['Admirers', 'Age', 'Num_items', 'Rating', 'Sales']]\n",
      "x_test = test[['Admirers', 'Age', 'Num_items', 'Rating', 'Sales']]\n",
      "\n",
      "#LINEAR REGRESSION\n",
      "regr = linear_model.LinearRegression()\n",
      "regr.fit(x_train, y_train)\n",
      "\n",
      "print(\"Training error: \", metrics.mean_squared_error(regr.predict(x_train),y_train))\n",
      "print(\"Test     error: \", metrics.mean_squared_error(regr.predict(x_test),y_test))\n",
      "\n",
      "train_score = regr.score(x_train,y_train)\n",
      "test_score = regr.score(x_test,y_test)\n",
      "print(\"Training score: \", train_score)\n",
      "print(\"Test     score: \", test_score)\n",
      "\n",
      "features = ['Admirers', 'Age', 'Num_items', 'Rating', 'Sales']\n",
      "coefficients = regr.coef_\n",
      "for i in range(len(coefficients)):\n",
      "    print features[i],\"\\t\",coefficients[i]"
     ],
     "language": "python",
     "metadata": {},
     "outputs": [
      {
       "output_type": "stream",
       "stream": "stdout",
       "text": [
        "Linear Regression for Rank, using Admirers, Age, Num_items, Rating and Sales\n",
        "('Training error: ', 195480.943671021)\n",
        "('Test     error: ', 200706.38997065765)\n",
        "('Training score: ', 0.035501114939636147)\n",
        "('Test     score: ', -0.0046456774709380255)\n",
        "Admirers \t-0.0076317524569\n",
        "Age \t0.00708566572946\n",
        "Num_items \t-0.124413340197\n",
        "Rating \t-31.6117431593\n",
        "Sales \t-0.00313520298651\n"
       ]
      }
     ],
     "prompt_number": 59
    },
    {
     "cell_type": "code",
     "collapsed": false,
     "input": [
      "#Linear regression for sales/admirers\n",
      "y_train = train.Admirers\n",
      "y_test = test.Admirers\n",
      "\n",
      "x_train = train[['Sales']]\n",
      "x_test = test[['Sales']]\n",
      "\n",
      "#LINEAR REGRESSION\n",
      "regr = linear_model.LinearRegression()\n",
      "regr.fit(x_train, y_train)\n",
      "\n",
      "print(\"Training error: \", metrics.mean_squared_error(regr.predict(x_train),y_train))\n",
      "print(\"Test     error: \", metrics.mean_squared_error(regr.predict(x_test),y_test))\n",
      "\n",
      "train_score = regr.score(x_train,y_train)\n",
      "test_score = regr.score(x_test,y_test)\n",
      "print(\"Training score: \", train_score)\n",
      "print(\"Test     score: \", test_score)\n",
      "\n",
      "features = ['Sales']\n",
      "coefficients = regr.coef_\n",
      "for i in range(len(coefficients)):\n",
      "    print features[i],\"\\t\",coefficients[i]"
     ],
     "language": "python",
     "metadata": {},
     "outputs": [
      {
       "output_type": "stream",
       "stream": "stdout",
       "text": [
        "('Training error: ', 5569676.7484835638)\n",
        "('Test     error: ', 2619395.9259050223)\n",
        "('Training score: ', 0.72870549033433907)\n",
        "('Test     score: ', 0.26655234157099528)\n",
        "Sales \t0.898965136061\n"
       ]
      }
     ],
     "prompt_number": 61
    },
    {
     "cell_type": "code",
     "collapsed": false,
     "input": [],
     "language": "python",
     "metadata": {},
     "outputs": [],
     "prompt_number": 61
    },
    {
     "cell_type": "code",
     "collapsed": false,
     "input": [],
     "language": "python",
     "metadata": {},
     "outputs": [],
     "prompt_number": 2
    },
    {
     "cell_type": "code",
     "collapsed": false,
     "input": [],
     "language": "python",
     "metadata": {},
     "outputs": []
    }
   ],
   "metadata": {}
  }
 ]
}