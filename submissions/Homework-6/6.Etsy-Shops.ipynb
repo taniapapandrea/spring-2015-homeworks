{
 "metadata": {
  "name": "",
  "signature": "sha256:f15d798930fdb7370ad79f72cfdebc9c0f587ef7fe00b197f84bb90a61eccc3f"
 },
 "nbformat": 3,
 "nbformat_minor": 0,
 "worksheets": [
  {
   "cells": [
    {
     "cell_type": "code",
     "collapsed": false,
     "input": [
      "import time\n",
      "import numpy as np\n",
      "import matplotlib.pyplot as plt\n",
      "import pandas as pd\n",
      "\"\"\"\n",
      "import scipy as sp\n",
      "import scipy.sparse.linalg as linalg\n",
      "import scipy.cluster.hierarchy as hr\n",
      "from scipy.spatial.distance import pdist, squareform\n",
      "import sklearn.datasets as datasets\n",
      "import sklearn.metrics as metrics\n",
      "import sklearn.utils as utils\n",
      "import sklearn.linear_model as linear_model\n",
      "import sklearn.cross_validation as cross_validation\n",
      "import sklearn.cluster as cluster\n",
      "from sklearn.neighbors import KNeighborsClassifier\n",
      "from sklearn.decomposition import TruncatedSVD\n",
      "from sklearn.preprocessing import StandardScaler\n",
      "import statsmodels.api as sm\n",
      "from patsy import dmatrices\n",
      "\"\"\"\n",
      "import seaborn as sns\n",
      "\n",
      "import scrape_etsy as scrape"
     ],
     "language": "python",
     "metadata": {},
     "outputs": [],
     "prompt_number": 1
    },
    {
     "cell_type": "code",
     "collapsed": false,
     "input": [
      "results = scrape.hats(240)"
     ],
     "language": "python",
     "metadata": {},
     "outputs": [
      {
       "output_type": "stream",
       "stream": "stdout",
       "text": [
        "('shops so far ', 42)\n",
        "('page ', 1)\n",
        "('shops so far ', 62)"
       ]
      },
      {
       "output_type": "stream",
       "stream": "stdout",
       "text": [
        "\n",
        "('page ', 2)\n",
        "('shops so far ', 77)"
       ]
      },
      {
       "output_type": "stream",
       "stream": "stdout",
       "text": [
        "\n",
        "('page ', 3)\n",
        "('shops so far ', 92)"
       ]
      },
      {
       "output_type": "stream",
       "stream": "stdout",
       "text": [
        "\n",
        "('page ', 4)\n",
        "('shops so far ', 107)"
       ]
      },
      {
       "output_type": "stream",
       "stream": "stdout",
       "text": [
        "\n",
        "('page ', 5)\n",
        "('shops so far ', 124)"
       ]
      },
      {
       "output_type": "stream",
       "stream": "stdout",
       "text": [
        "\n",
        "('page ', 6)\n",
        "('shops so far ', 137)"
       ]
      },
      {
       "output_type": "stream",
       "stream": "stdout",
       "text": [
        "\n",
        "('page ', 7)\n",
        "('shops so far ', 149)"
       ]
      },
      {
       "output_type": "stream",
       "stream": "stdout",
       "text": [
        "\n",
        "('page ', 8)\n",
        "('shops so far ', 163)"
       ]
      },
      {
       "output_type": "stream",
       "stream": "stdout",
       "text": [
        "\n",
        "('page ', 9)\n",
        "('shops so far ', 176)"
       ]
      },
      {
       "output_type": "stream",
       "stream": "stdout",
       "text": [
        "\n",
        "('page ', 10)\n",
        "('shops so far ', 191)"
       ]
      },
      {
       "output_type": "stream",
       "stream": "stdout",
       "text": [
        "\n",
        "('page ', 11)\n",
        "('shops so far ', 200)"
       ]
      },
      {
       "output_type": "stream",
       "stream": "stdout",
       "text": [
        "\n",
        "('page ', 12)\n",
        "('shops so far ', 211)"
       ]
      },
      {
       "output_type": "stream",
       "stream": "stdout",
       "text": [
        "\n",
        "('page ', 13)\n",
        "('shops so far ', 221)"
       ]
      },
      {
       "output_type": "stream",
       "stream": "stdout",
       "text": [
        "\n",
        "('page ', 14)\n",
        "('shops so far ', 228)"
       ]
      },
      {
       "output_type": "stream",
       "stream": "stdout",
       "text": [
        "\n",
        "('page ', 15)\n",
        "('shops so far ', 237)"
       ]
      },
      {
       "output_type": "stream",
       "stream": "stdout",
       "text": [
        "\n",
        "('page ', 16)\n",
        "('shops so far ', 243)"
       ]
      },
      {
       "output_type": "stream",
       "stream": "stdout",
       "text": [
        "\n",
        "('page ', 17)\n",
        "('shops so far ', 251)"
       ]
      },
      {
       "output_type": "stream",
       "stream": "stdout",
       "text": [
        "\n",
        "('page ', 18)\n",
        "('shops so far ', 253)"
       ]
      },
      {
       "output_type": "stream",
       "stream": "stdout",
       "text": [
        "\n",
        "('page ', 19)\n",
        "('shops so far ', 253)"
       ]
      },
      {
       "output_type": "stream",
       "stream": "stdout",
       "text": [
        "\n",
        "('page ', 20)\n",
        "('shops so far ', 255)"
       ]
      },
      {
       "output_type": "stream",
       "stream": "stdout",
       "text": [
        "\n",
        "('page ', 21)\n",
        "('shops so far ', 258)"
       ]
      },
      {
       "output_type": "stream",
       "stream": "stdout",
       "text": [
        "\n",
        "('page ', 22)\n",
        "('shops so far ', 258)"
       ]
      },
      {
       "output_type": "stream",
       "stream": "stdout",
       "text": [
        "\n",
        "('page ', 23)\n",
        "('shops so far ', 259)"
       ]
      },
      {
       "output_type": "stream",
       "stream": "stdout",
       "text": [
        "\n",
        "('page ', 24)\n",
        "('shops so far ', 264)"
       ]
      },
      {
       "output_type": "stream",
       "stream": "stdout",
       "text": [
        "\n",
        "('page ', 25)\n",
        "('shops so far ', 270)"
       ]
      },
      {
       "output_type": "stream",
       "stream": "stdout",
       "text": [
        "\n",
        "('page ', 26)\n",
        "('shops so far ', 279)"
       ]
      },
      {
       "output_type": "stream",
       "stream": "stdout",
       "text": [
        "\n",
        "('page ', 27)\n",
        "('shops so far ', 286)"
       ]
      },
      {
       "output_type": "stream",
       "stream": "stdout",
       "text": [
        "\n",
        "('page ', 28)\n",
        "('shops so far ', 292)"
       ]
      },
      {
       "output_type": "stream",
       "stream": "stdout",
       "text": [
        "\n",
        "('page ', 29)\n",
        "('shops so far ', 302)"
       ]
      },
      {
       "output_type": "stream",
       "stream": "stdout",
       "text": [
        "\n",
        "('page ', 30)\n",
        "('shops so far ', 310)"
       ]
      },
      {
       "output_type": "stream",
       "stream": "stdout",
       "text": [
        "\n",
        "('page ', 31)\n",
        "('shops so far ', 318)"
       ]
      },
      {
       "output_type": "stream",
       "stream": "stdout",
       "text": [
        "\n",
        "('page ', 32)\n",
        "('shops so far ', 328)"
       ]
      },
      {
       "output_type": "stream",
       "stream": "stdout",
       "text": [
        "\n",
        "('page ', 33)\n",
        "('shops so far ', 336)"
       ]
      },
      {
       "output_type": "stream",
       "stream": "stdout",
       "text": [
        "\n",
        "('page ', 34)\n",
        "('shops so far ', 340)"
       ]
      },
      {
       "output_type": "stream",
       "stream": "stdout",
       "text": [
        "\n",
        "('page ', 35)\n",
        "('shops so far ', 350)"
       ]
      },
      {
       "output_type": "stream",
       "stream": "stdout",
       "text": [
        "\n",
        "('page ', 36)\n",
        "('shops so far ', 359)"
       ]
      },
      {
       "output_type": "stream",
       "stream": "stdout",
       "text": [
        "\n",
        "('page ', 37)\n",
        "('shops so far ', 367)"
       ]
      },
      {
       "output_type": "stream",
       "stream": "stdout",
       "text": [
        "\n",
        "('page ', 38)\n",
        "('shops so far ', 370)"
       ]
      },
      {
       "output_type": "stream",
       "stream": "stdout",
       "text": [
        "\n",
        "('page ', 39)\n",
        "('shops so far ', 381)"
       ]
      },
      {
       "output_type": "stream",
       "stream": "stdout",
       "text": [
        "\n",
        "('page ', 40)\n",
        "('shops so far ', 388)"
       ]
      },
      {
       "output_type": "stream",
       "stream": "stdout",
       "text": [
        "\n",
        "('page ', 41)\n",
        "('shops so far ', 395)"
       ]
      },
      {
       "output_type": "stream",
       "stream": "stdout",
       "text": [
        "\n",
        "('page ', 42)\n",
        "('shops so far ', 401)"
       ]
      },
      {
       "output_type": "stream",
       "stream": "stdout",
       "text": [
        "\n",
        "('page ', 43)\n",
        "('shops so far ', 407)"
       ]
      },
      {
       "output_type": "stream",
       "stream": "stdout",
       "text": [
        "\n",
        "('page ', 44)\n",
        "('shops so far ', 417)"
       ]
      },
      {
       "output_type": "stream",
       "stream": "stdout",
       "text": [
        "\n",
        "('page ', 45)\n",
        "('shops so far ', 423)"
       ]
      },
      {
       "output_type": "stream",
       "stream": "stdout",
       "text": [
        "\n",
        "('page ', 46)\n",
        "('shops so far ', 428)"
       ]
      },
      {
       "output_type": "stream",
       "stream": "stdout",
       "text": [
        "\n",
        "('page ', 47)\n",
        "('shops so far ', 434)"
       ]
      },
      {
       "output_type": "stream",
       "stream": "stdout",
       "text": [
        "\n",
        "('page ', 48)\n",
        "('shops so far ', 440)"
       ]
      },
      {
       "output_type": "stream",
       "stream": "stdout",
       "text": [
        "\n",
        "('page ', 49)\n",
        "('shops so far ', 449)"
       ]
      },
      {
       "output_type": "stream",
       "stream": "stdout",
       "text": [
        "\n",
        "('page ', 50)\n",
        "('shops so far ', 452)"
       ]
      },
      {
       "output_type": "stream",
       "stream": "stdout",
       "text": [
        "\n",
        "('page ', 51)\n",
        "('shops so far ', 459)"
       ]
      },
      {
       "output_type": "stream",
       "stream": "stdout",
       "text": [
        "\n",
        "('page ', 52)\n",
        "('shops so far ', 465)"
       ]
      },
      {
       "output_type": "stream",
       "stream": "stdout",
       "text": [
        "\n",
        "('page ', 53)\n",
        "('shops so far ', 469)"
       ]
      },
      {
       "output_type": "stream",
       "stream": "stdout",
       "text": [
        "\n",
        "('page ', 54)\n",
        "('shops so far ', 473)"
       ]
      },
      {
       "output_type": "stream",
       "stream": "stdout",
       "text": [
        "\n",
        "('page ', 55)\n",
        "('shops so far ', 483)"
       ]
      },
      {
       "output_type": "stream",
       "stream": "stdout",
       "text": [
        "\n",
        "('page ', 56)\n",
        "('shops so far ', 492)"
       ]
      },
      {
       "output_type": "stream",
       "stream": "stdout",
       "text": [
        "\n",
        "('page ', 57)\n",
        "('shops so far ', 498)"
       ]
      },
      {
       "output_type": "stream",
       "stream": "stdout",
       "text": [
        "\n",
        "('page ', 58)\n",
        "('shops so far ', 506)"
       ]
      },
      {
       "output_type": "stream",
       "stream": "stdout",
       "text": [
        "\n",
        "('page ', 59)\n",
        "('shops so far ', 512)"
       ]
      },
      {
       "output_type": "stream",
       "stream": "stdout",
       "text": [
        "\n",
        "('page ', 60)\n",
        "('shops so far ', 517)"
       ]
      },
      {
       "output_type": "stream",
       "stream": "stdout",
       "text": [
        "\n",
        "('page ', 61)\n",
        "('shops so far ', 520)"
       ]
      },
      {
       "output_type": "stream",
       "stream": "stdout",
       "text": [
        "\n",
        "('page ', 62)\n",
        "('shops so far ', 530)"
       ]
      },
      {
       "output_type": "stream",
       "stream": "stdout",
       "text": [
        "\n",
        "('page ', 63)\n",
        "('shops so far ', 539)"
       ]
      },
      {
       "output_type": "stream",
       "stream": "stdout",
       "text": [
        "\n",
        "('page ', 64)\n",
        "('shops so far ', 545)"
       ]
      },
      {
       "output_type": "stream",
       "stream": "stdout",
       "text": [
        "\n",
        "('page ', 65)\n",
        "('shops so far ', 553)"
       ]
      },
      {
       "output_type": "stream",
       "stream": "stdout",
       "text": [
        "\n",
        "('page ', 66)\n",
        "('shops so far ', 562)"
       ]
      },
      {
       "output_type": "stream",
       "stream": "stdout",
       "text": [
        "\n",
        "('page ', 67)\n",
        "('shops so far ', 567)"
       ]
      },
      {
       "output_type": "stream",
       "stream": "stdout",
       "text": [
        "\n",
        "('page ', 68)\n",
        "('shops so far ', 575)"
       ]
      },
      {
       "output_type": "stream",
       "stream": "stdout",
       "text": [
        "\n",
        "('page ', 69)\n",
        "('shops so far ', 579)"
       ]
      },
      {
       "output_type": "stream",
       "stream": "stdout",
       "text": [
        "\n",
        "('page ', 70)\n",
        "('shops so far ', 587)"
       ]
      },
      {
       "output_type": "stream",
       "stream": "stdout",
       "text": [
        "\n",
        "('page ', 71)\n",
        "('shops so far ', 595)"
       ]
      },
      {
       "output_type": "stream",
       "stream": "stdout",
       "text": [
        "\n",
        "('page ', 72)\n",
        "('shops so far ', 600)"
       ]
      },
      {
       "output_type": "stream",
       "stream": "stdout",
       "text": [
        "\n",
        "('page ', 73)\n",
        "('shops so far ', 602)"
       ]
      },
      {
       "output_type": "stream",
       "stream": "stdout",
       "text": [
        "\n",
        "('page ', 74)\n",
        "('shops so far ', 609)"
       ]
      },
      {
       "output_type": "stream",
       "stream": "stdout",
       "text": [
        "\n",
        "('page ', 75)\n",
        "('shops so far ', 614)"
       ]
      },
      {
       "output_type": "stream",
       "stream": "stdout",
       "text": [
        "\n",
        "('page ', 76)\n",
        "('shops so far ', 616)"
       ]
      },
      {
       "output_type": "stream",
       "stream": "stdout",
       "text": [
        "\n",
        "('page ', 77)\n",
        "('shops so far ', 623)"
       ]
      },
      {
       "output_type": "stream",
       "stream": "stdout",
       "text": [
        "\n",
        "('page ', 78)\n",
        "('shops so far ', 627)"
       ]
      },
      {
       "output_type": "stream",
       "stream": "stdout",
       "text": [
        "\n",
        "('page ', 79)\n",
        "('shops so far ', 637)"
       ]
      },
      {
       "output_type": "stream",
       "stream": "stdout",
       "text": [
        "\n",
        "('page ', 80)\n",
        "('shops so far ', 640)"
       ]
      },
      {
       "output_type": "stream",
       "stream": "stdout",
       "text": [
        "\n",
        "('page ', 81)\n",
        "('shops so far ', 645)"
       ]
      },
      {
       "output_type": "stream",
       "stream": "stdout",
       "text": [
        "\n",
        "('page ', 82)\n",
        "('shops so far ', 652)"
       ]
      },
      {
       "output_type": "stream",
       "stream": "stdout",
       "text": [
        "\n",
        "('page ', 83)\n",
        "('shops so far ', 660)"
       ]
      },
      {
       "output_type": "stream",
       "stream": "stdout",
       "text": [
        "\n",
        "('page ', 84)\n",
        "('shops so far ', 667)"
       ]
      },
      {
       "output_type": "stream",
       "stream": "stdout",
       "text": [
        "\n",
        "('page ', 85)\n",
        "('shops so far ', 669)"
       ]
      },
      {
       "output_type": "stream",
       "stream": "stdout",
       "text": [
        "\n",
        "('page ', 86)\n",
        "('shops so far ', 671)"
       ]
      },
      {
       "output_type": "stream",
       "stream": "stdout",
       "text": [
        "\n",
        "('page ', 87)\n",
        "('shops so far ', 676)"
       ]
      },
      {
       "output_type": "stream",
       "stream": "stdout",
       "text": [
        "\n",
        "('page ', 88)\n",
        "('shops so far ', 686)"
       ]
      },
      {
       "output_type": "stream",
       "stream": "stdout",
       "text": [
        "\n",
        "('page ', 89)\n",
        "('shops so far ', 690)"
       ]
      },
      {
       "output_type": "stream",
       "stream": "stdout",
       "text": [
        "\n",
        "('page ', 90)\n",
        "('shops so far ', 699)"
       ]
      },
      {
       "output_type": "stream",
       "stream": "stdout",
       "text": [
        "\n",
        "('page ', 91)\n",
        "('shops so far ', 705)"
       ]
      },
      {
       "output_type": "stream",
       "stream": "stdout",
       "text": [
        "\n",
        "('page ', 92)\n",
        "('shops so far ', 712)"
       ]
      },
      {
       "output_type": "stream",
       "stream": "stdout",
       "text": [
        "\n",
        "('page ', 93)\n",
        "('shops so far ', 719)"
       ]
      },
      {
       "output_type": "stream",
       "stream": "stdout",
       "text": [
        "\n",
        "('page ', 94)\n",
        "('shops so far ', 724)"
       ]
      },
      {
       "output_type": "stream",
       "stream": "stdout",
       "text": [
        "\n",
        "('page ', 95)\n",
        "('shops so far ', 728)"
       ]
      },
      {
       "output_type": "stream",
       "stream": "stdout",
       "text": [
        "\n",
        "('page ', 96)\n",
        "('shops so far ', 730)"
       ]
      },
      {
       "output_type": "stream",
       "stream": "stdout",
       "text": [
        "\n",
        "('page ', 97)\n",
        "('shops so far ', 739)"
       ]
      },
      {
       "output_type": "stream",
       "stream": "stdout",
       "text": [
        "\n",
        "('page ', 98)\n",
        "('shops so far ', 742)"
       ]
      },
      {
       "output_type": "stream",
       "stream": "stdout",
       "text": [
        "\n",
        "('page ', 99)\n",
        "('shops so far ', 749)"
       ]
      },
      {
       "output_type": "stream",
       "stream": "stdout",
       "text": [
        "\n",
        "('page ', 100)\n",
        "('shops so far ', 755)"
       ]
      },
      {
       "output_type": "stream",
       "stream": "stdout",
       "text": [
        "\n",
        "('page ', 101)\n",
        "('shops so far ', 759)"
       ]
      },
      {
       "output_type": "stream",
       "stream": "stdout",
       "text": [
        "\n",
        "('page ', 102)\n",
        "('shops so far ', 764)"
       ]
      },
      {
       "output_type": "stream",
       "stream": "stdout",
       "text": [
        "\n",
        "('page ', 103)\n",
        "('shops so far ', 769)"
       ]
      },
      {
       "output_type": "stream",
       "stream": "stdout",
       "text": [
        "\n",
        "('page ', 104)\n",
        "('shops so far ', 776)"
       ]
      },
      {
       "output_type": "stream",
       "stream": "stdout",
       "text": [
        "\n",
        "('page ', 105)\n",
        "('shops so far ', 780)"
       ]
      },
      {
       "output_type": "stream",
       "stream": "stdout",
       "text": [
        "\n",
        "('page ', 106)\n",
        "('shops so far ', 784)"
       ]
      },
      {
       "output_type": "stream",
       "stream": "stdout",
       "text": [
        "\n",
        "('page ', 107)\n",
        "('shops so far ', 790)"
       ]
      },
      {
       "output_type": "stream",
       "stream": "stdout",
       "text": [
        "\n",
        "('page ', 108)\n",
        "('shops so far ', 795)"
       ]
      },
      {
       "output_type": "stream",
       "stream": "stdout",
       "text": [
        "\n",
        "('page ', 109)\n",
        "('shops so far ', 800)"
       ]
      },
      {
       "output_type": "stream",
       "stream": "stdout",
       "text": [
        "\n",
        "('page ', 110)\n",
        "('shops so far ', 804)"
       ]
      },
      {
       "output_type": "stream",
       "stream": "stdout",
       "text": [
        "\n",
        "('page ', 111)\n",
        "('shops so far ', 808)"
       ]
      },
      {
       "output_type": "stream",
       "stream": "stdout",
       "text": [
        "\n",
        "('page ', 112)\n",
        "('shops so far ', 816)"
       ]
      },
      {
       "output_type": "stream",
       "stream": "stdout",
       "text": [
        "\n",
        "('page ', 113)\n",
        "('shops so far ', 822)"
       ]
      },
      {
       "output_type": "stream",
       "stream": "stdout",
       "text": [
        "\n",
        "('page ', 114)\n",
        "('shops so far ', 829)"
       ]
      },
      {
       "output_type": "stream",
       "stream": "stdout",
       "text": [
        "\n",
        "('page ', 115)\n",
        "('shops so far ', 835)"
       ]
      },
      {
       "output_type": "stream",
       "stream": "stdout",
       "text": [
        "\n",
        "('page ', 116)\n",
        "('shops so far ', 840)"
       ]
      },
      {
       "output_type": "stream",
       "stream": "stdout",
       "text": [
        "\n",
        "('page ', 117)\n",
        "('shops so far ', 849)"
       ]
      },
      {
       "output_type": "stream",
       "stream": "stdout",
       "text": [
        "\n",
        "('page ', 118)\n",
        "('shops so far ', 856)"
       ]
      },
      {
       "output_type": "stream",
       "stream": "stdout",
       "text": [
        "\n",
        "('page ', 119)\n",
        "('shops so far ', 863)"
       ]
      },
      {
       "output_type": "stream",
       "stream": "stdout",
       "text": [
        "\n",
        "('page ', 120)\n",
        "('shops so far ', 867)"
       ]
      },
      {
       "output_type": "stream",
       "stream": "stdout",
       "text": [
        "\n",
        "('page ', 121)\n",
        "('shops so far ', 872)"
       ]
      },
      {
       "output_type": "stream",
       "stream": "stdout",
       "text": [
        "\n",
        "('page ', 122)\n",
        "('shops so far ', 880)"
       ]
      },
      {
       "output_type": "stream",
       "stream": "stdout",
       "text": [
        "\n",
        "('page ', 123)\n",
        "('shops so far ', 883)"
       ]
      },
      {
       "output_type": "stream",
       "stream": "stdout",
       "text": [
        "\n",
        "('page ', 124)\n",
        "('shops so far ', 892)"
       ]
      },
      {
       "output_type": "stream",
       "stream": "stdout",
       "text": [
        "\n",
        "('page ', 125)\n",
        "('shops so far ', 901)"
       ]
      },
      {
       "output_type": "stream",
       "stream": "stdout",
       "text": [
        "\n",
        "('page ', 126)\n",
        "('shops so far ', 904)"
       ]
      },
      {
       "output_type": "stream",
       "stream": "stdout",
       "text": [
        "\n",
        "('page ', 127)\n",
        "('shops so far ', 907)"
       ]
      },
      {
       "output_type": "stream",
       "stream": "stdout",
       "text": [
        "\n",
        "('page ', 128)\n",
        "('shops so far ', 913)"
       ]
      },
      {
       "output_type": "stream",
       "stream": "stdout",
       "text": [
        "\n",
        "('page ', 129)\n",
        "('shops so far ', 917)"
       ]
      },
      {
       "output_type": "stream",
       "stream": "stdout",
       "text": [
        "\n",
        "('page ', 130)\n",
        "('shops so far ', 921)"
       ]
      },
      {
       "output_type": "stream",
       "stream": "stdout",
       "text": [
        "\n",
        "('page ', 131)\n",
        "('shops so far ', 929)"
       ]
      },
      {
       "output_type": "stream",
       "stream": "stdout",
       "text": [
        "\n",
        "('page ', 132)\n",
        "('shops so far ', 931)"
       ]
      },
      {
       "output_type": "stream",
       "stream": "stdout",
       "text": [
        "\n",
        "('page ', 133)\n",
        "('shops so far ', 939)"
       ]
      },
      {
       "output_type": "stream",
       "stream": "stdout",
       "text": [
        "\n",
        "('page ', 134)\n",
        "('shops so far ', 945)"
       ]
      },
      {
       "output_type": "stream",
       "stream": "stdout",
       "text": [
        "\n",
        "('page ', 135)\n",
        "('shops so far ', 950)"
       ]
      },
      {
       "output_type": "stream",
       "stream": "stdout",
       "text": [
        "\n",
        "('page ', 136)\n",
        "('shops so far ', 960)"
       ]
      },
      {
       "output_type": "stream",
       "stream": "stdout",
       "text": [
        "\n",
        "('page ', 137)\n",
        "('shops so far ', 963)"
       ]
      },
      {
       "output_type": "stream",
       "stream": "stdout",
       "text": [
        "\n",
        "('page ', 138)\n",
        "('shops so far ', 972)"
       ]
      },
      {
       "output_type": "stream",
       "stream": "stdout",
       "text": [
        "\n",
        "('page ', 139)\n",
        "('shops so far ', 977)"
       ]
      },
      {
       "output_type": "stream",
       "stream": "stdout",
       "text": [
        "\n",
        "('page ', 140)\n",
        "('shops so far ', 980)"
       ]
      },
      {
       "output_type": "stream",
       "stream": "stdout",
       "text": [
        "\n",
        "('page ', 141)\n",
        "('shops so far ', 983)"
       ]
      },
      {
       "output_type": "stream",
       "stream": "stdout",
       "text": [
        "\n",
        "('page ', 142)\n",
        "('shops so far ', 989)"
       ]
      },
      {
       "output_type": "stream",
       "stream": "stdout",
       "text": [
        "\n",
        "('page ', 143)\n",
        "('shops so far ', 992)"
       ]
      },
      {
       "output_type": "stream",
       "stream": "stdout",
       "text": [
        "\n",
        "('page ', 144)\n",
        "('shops so far ', 994)"
       ]
      },
      {
       "output_type": "stream",
       "stream": "stdout",
       "text": [
        "\n",
        "('page ', 145)\n",
        "('shops so far ', 1003)"
       ]
      },
      {
       "output_type": "stream",
       "stream": "stdout",
       "text": [
        "\n",
        "('page ', 146)\n",
        "('shops so far ', 1010)"
       ]
      },
      {
       "output_type": "stream",
       "stream": "stdout",
       "text": [
        "\n",
        "('page ', 147)\n",
        "('shops so far ', 1020)"
       ]
      },
      {
       "output_type": "stream",
       "stream": "stdout",
       "text": [
        "\n",
        "('page ', 148)\n",
        "('shops so far ', 1024)"
       ]
      },
      {
       "output_type": "stream",
       "stream": "stdout",
       "text": [
        "\n",
        "('page ', 149)\n",
        "('shops so far ', 1027)"
       ]
      },
      {
       "output_type": "stream",
       "stream": "stdout",
       "text": [
        "\n",
        "('page ', 150)\n",
        "('shops so far ', 1033)"
       ]
      },
      {
       "output_type": "stream",
       "stream": "stdout",
       "text": [
        "\n",
        "('page ', 151)\n",
        "('shops so far ', 1040)"
       ]
      },
      {
       "output_type": "stream",
       "stream": "stdout",
       "text": [
        "\n",
        "('page ', 152)\n",
        "('shops so far ', 1045)"
       ]
      },
      {
       "output_type": "stream",
       "stream": "stdout",
       "text": [
        "\n",
        "('page ', 153)\n",
        "('shops so far ', 1051)"
       ]
      },
      {
       "output_type": "stream",
       "stream": "stdout",
       "text": [
        "\n",
        "('page ', 154)\n",
        "('shops so far ', 1056)"
       ]
      },
      {
       "output_type": "stream",
       "stream": "stdout",
       "text": [
        "\n",
        "('page ', 155)\n",
        "('shops so far ', 1058)"
       ]
      },
      {
       "output_type": "stream",
       "stream": "stdout",
       "text": [
        "\n",
        "('page ', 156)\n",
        "('shops so far ', 1064)"
       ]
      },
      {
       "output_type": "stream",
       "stream": "stdout",
       "text": [
        "\n",
        "('page ', 157)\n",
        "('shops so far ', 1068)"
       ]
      },
      {
       "output_type": "stream",
       "stream": "stdout",
       "text": [
        "\n",
        "('page ', 158)\n",
        "('shops so far ', 1072)"
       ]
      },
      {
       "output_type": "stream",
       "stream": "stdout",
       "text": [
        "\n",
        "('page ', 159)\n",
        "('shops so far ', 1078)"
       ]
      },
      {
       "output_type": "stream",
       "stream": "stdout",
       "text": [
        "\n",
        "('page ', 160)\n",
        "('shops so far ', 1083)"
       ]
      },
      {
       "output_type": "stream",
       "stream": "stdout",
       "text": [
        "\n",
        "('page ', 161)\n",
        "('shops so far ', 1087)"
       ]
      },
      {
       "output_type": "stream",
       "stream": "stdout",
       "text": [
        "\n",
        "('page ', 162)\n",
        "('shops so far ', 1094)"
       ]
      },
      {
       "output_type": "stream",
       "stream": "stdout",
       "text": [
        "\n",
        "('page ', 163)\n",
        "('shops so far ', 1098)"
       ]
      },
      {
       "output_type": "stream",
       "stream": "stdout",
       "text": [
        "\n",
        "('page ', 164)\n",
        "('shops so far ', 1106)"
       ]
      },
      {
       "output_type": "stream",
       "stream": "stdout",
       "text": [
        "\n",
        "('page ', 165)\n",
        "('shops so far ', 1110)"
       ]
      },
      {
       "output_type": "stream",
       "stream": "stdout",
       "text": [
        "\n",
        "('page ', 166)\n",
        "('shops so far ', 1116)"
       ]
      },
      {
       "output_type": "stream",
       "stream": "stdout",
       "text": [
        "\n",
        "('page ', 167)\n",
        "('shops so far ', 1122)"
       ]
      },
      {
       "output_type": "stream",
       "stream": "stdout",
       "text": [
        "\n",
        "('page ', 168)\n",
        "('shops so far ', 1131)"
       ]
      },
      {
       "output_type": "stream",
       "stream": "stdout",
       "text": [
        "\n",
        "('page ', 169)\n",
        "('shops so far ', 1135)"
       ]
      },
      {
       "output_type": "stream",
       "stream": "stdout",
       "text": [
        "\n",
        "('page ', 170)\n",
        "('shops so far ', 1146)"
       ]
      },
      {
       "output_type": "stream",
       "stream": "stdout",
       "text": [
        "\n",
        "('page ', 171)\n",
        "('shops so far ', 1150)"
       ]
      },
      {
       "output_type": "stream",
       "stream": "stdout",
       "text": [
        "\n",
        "('page ', 172)\n",
        "('shops so far ', 1157)"
       ]
      },
      {
       "output_type": "stream",
       "stream": "stdout",
       "text": [
        "\n",
        "('page ', 173)\n",
        "('shops so far ', 1159)"
       ]
      },
      {
       "output_type": "stream",
       "stream": "stdout",
       "text": [
        "\n",
        "('page ', 174)\n",
        "('shops so far ', 1162)"
       ]
      },
      {
       "output_type": "stream",
       "stream": "stdout",
       "text": [
        "\n",
        "('page ', 175)\n",
        "('shops so far ', 1162)"
       ]
      },
      {
       "output_type": "stream",
       "stream": "stdout",
       "text": [
        "\n",
        "('page ', 176)\n",
        "('shops so far ', 1163)"
       ]
      },
      {
       "output_type": "stream",
       "stream": "stdout",
       "text": [
        "\n",
        "('page ', 177)\n",
        "('shops so far ', 1175)"
       ]
      },
      {
       "output_type": "stream",
       "stream": "stdout",
       "text": [
        "\n",
        "('page ', 178)\n",
        "('shops so far ', 1180)"
       ]
      },
      {
       "output_type": "stream",
       "stream": "stdout",
       "text": [
        "\n",
        "('page ', 179)\n",
        "('shops so far ', 1187)"
       ]
      },
      {
       "output_type": "stream",
       "stream": "stdout",
       "text": [
        "\n",
        "('page ', 180)\n",
        "('shops so far ', 1192)"
       ]
      },
      {
       "output_type": "stream",
       "stream": "stdout",
       "text": [
        "\n",
        "('page ', 181)\n",
        "('shops so far ', 1196)"
       ]
      },
      {
       "output_type": "stream",
       "stream": "stdout",
       "text": [
        "\n",
        "('page ', 182)\n",
        "('shops so far ', 1201)"
       ]
      },
      {
       "output_type": "stream",
       "stream": "stdout",
       "text": [
        "\n",
        "('page ', 183)\n",
        "('shops so far ', 1206)"
       ]
      },
      {
       "output_type": "stream",
       "stream": "stdout",
       "text": [
        "\n",
        "('page ', 184)\n",
        "('shops so far ', 1211)"
       ]
      },
      {
       "output_type": "stream",
       "stream": "stdout",
       "text": [
        "\n",
        "('page ', 185)\n",
        "('shops so far ', 1216)"
       ]
      },
      {
       "output_type": "stream",
       "stream": "stdout",
       "text": [
        "\n",
        "('page ', 186)\n",
        "('shops so far ', 1222)"
       ]
      },
      {
       "output_type": "stream",
       "stream": "stdout",
       "text": [
        "\n",
        "('page ', 187)\n",
        "('shops so far ', 1228)"
       ]
      },
      {
       "output_type": "stream",
       "stream": "stdout",
       "text": [
        "\n",
        "('page ', 188)\n",
        "('shops so far ', 1232)"
       ]
      },
      {
       "output_type": "stream",
       "stream": "stdout",
       "text": [
        "\n",
        "('page ', 189)\n",
        "('shops so far ', 1233)"
       ]
      },
      {
       "output_type": "stream",
       "stream": "stdout",
       "text": [
        "\n",
        "('page ', 190)\n",
        "('shops so far ', 1237)"
       ]
      },
      {
       "output_type": "stream",
       "stream": "stdout",
       "text": [
        "\n",
        "('page ', 191)\n",
        "('shops so far ', 1240)"
       ]
      },
      {
       "output_type": "stream",
       "stream": "stdout",
       "text": [
        "\n",
        "('page ', 192)\n",
        "('shops so far ', 1250)"
       ]
      },
      {
       "output_type": "stream",
       "stream": "stdout",
       "text": [
        "\n",
        "('page ', 193)\n",
        "('shops so far ', 1259)"
       ]
      },
      {
       "output_type": "stream",
       "stream": "stdout",
       "text": [
        "\n",
        "('page ', 194)\n",
        "('shops so far ', 1266)"
       ]
      },
      {
       "output_type": "stream",
       "stream": "stdout",
       "text": [
        "\n",
        "('page ', 195)\n",
        "('shops so far ', 1273)"
       ]
      },
      {
       "output_type": "stream",
       "stream": "stdout",
       "text": [
        "\n",
        "('page ', 196)\n",
        "('shops so far ', 1280)"
       ]
      },
      {
       "output_type": "stream",
       "stream": "stdout",
       "text": [
        "\n",
        "('page ', 197)\n",
        "('shops so far ', 1285)"
       ]
      },
      {
       "output_type": "stream",
       "stream": "stdout",
       "text": [
        "\n",
        "('page ', 198)\n",
        "('shops so far ', 1291)"
       ]
      },
      {
       "output_type": "stream",
       "stream": "stdout",
       "text": [
        "\n",
        "('page ', 199)\n",
        "('shops so far ', 1293)"
       ]
      },
      {
       "output_type": "stream",
       "stream": "stdout",
       "text": [
        "\n",
        "('page ', 200)\n",
        "('shops so far ', 1301)"
       ]
      },
      {
       "output_type": "stream",
       "stream": "stdout",
       "text": [
        "\n",
        "('page ', 201)\n",
        "('shops so far ', 1303)"
       ]
      },
      {
       "output_type": "stream",
       "stream": "stdout",
       "text": [
        "\n",
        "('page ', 202)\n",
        "('shops so far ', 1309)"
       ]
      },
      {
       "output_type": "stream",
       "stream": "stdout",
       "text": [
        "\n",
        "('page ', 203)\n",
        "('shops so far ', 1313)"
       ]
      },
      {
       "output_type": "stream",
       "stream": "stdout",
       "text": [
        "\n",
        "('page ', 204)\n",
        "('shops so far ', 1319)"
       ]
      },
      {
       "output_type": "stream",
       "stream": "stdout",
       "text": [
        "\n",
        "('page ', 205)\n",
        "('shops so far ', 1324)"
       ]
      },
      {
       "output_type": "stream",
       "stream": "stdout",
       "text": [
        "\n",
        "('page ', 206)\n",
        "('shops so far ', 1330)"
       ]
      },
      {
       "output_type": "stream",
       "stream": "stdout",
       "text": [
        "\n",
        "('page ', 207)\n",
        "('shops so far ', 1339)"
       ]
      },
      {
       "output_type": "stream",
       "stream": "stdout",
       "text": [
        "\n",
        "('page ', 208)\n",
        "('shops so far ', 1344)"
       ]
      },
      {
       "output_type": "stream",
       "stream": "stdout",
       "text": [
        "\n",
        "('page ', 209)\n",
        "('shops so far ', 1353)"
       ]
      },
      {
       "output_type": "stream",
       "stream": "stdout",
       "text": [
        "\n",
        "('page ', 210)\n",
        "('shops so far ', 1356)"
       ]
      },
      {
       "output_type": "stream",
       "stream": "stdout",
       "text": [
        "\n",
        "('page ', 211)\n",
        "('shops so far ', 1362)"
       ]
      },
      {
       "output_type": "stream",
       "stream": "stdout",
       "text": [
        "\n",
        "('page ', 212)\n",
        "('shops so far ', 1370)"
       ]
      },
      {
       "output_type": "stream",
       "stream": "stdout",
       "text": [
        "\n",
        "('page ', 213)\n",
        "('shops so far ', 1375)"
       ]
      },
      {
       "output_type": "stream",
       "stream": "stdout",
       "text": [
        "\n",
        "('page ', 214)\n",
        "('shops so far ', 1378)"
       ]
      },
      {
       "output_type": "stream",
       "stream": "stdout",
       "text": [
        "\n",
        "('page ', 215)\n",
        "('shops so far ', 1386)"
       ]
      },
      {
       "output_type": "stream",
       "stream": "stdout",
       "text": [
        "\n",
        "('page ', 216)\n",
        "('shops so far ', 1390)"
       ]
      },
      {
       "output_type": "stream",
       "stream": "stdout",
       "text": [
        "\n",
        "('page ', 217)\n",
        "('shops so far ', 1400)"
       ]
      },
      {
       "output_type": "stream",
       "stream": "stdout",
       "text": [
        "\n",
        "('page ', 218)\n",
        "('shops so far ', 1403)"
       ]
      },
      {
       "output_type": "stream",
       "stream": "stdout",
       "text": [
        "\n",
        "('page ', 219)\n",
        "('shops so far ', 1410)"
       ]
      },
      {
       "output_type": "stream",
       "stream": "stdout",
       "text": [
        "\n",
        "('page ', 220)\n",
        "('shops so far ', 1413)"
       ]
      },
      {
       "output_type": "stream",
       "stream": "stdout",
       "text": [
        "\n",
        "('page ', 221)\n",
        "('shops so far ', 1417)"
       ]
      },
      {
       "output_type": "stream",
       "stream": "stdout",
       "text": [
        "\n",
        "('page ', 222)\n",
        "('shops so far ', 1425)"
       ]
      },
      {
       "output_type": "stream",
       "stream": "stdout",
       "text": [
        "\n",
        "('page ', 223)\n",
        "('shops so far ', 1430)"
       ]
      },
      {
       "output_type": "stream",
       "stream": "stdout",
       "text": [
        "\n",
        "('page ', 224)\n",
        "('shops so far ', 1437)"
       ]
      },
      {
       "output_type": "stream",
       "stream": "stdout",
       "text": [
        "\n",
        "('page ', 225)\n",
        "('shops so far ', 1440)"
       ]
      },
      {
       "output_type": "stream",
       "stream": "stdout",
       "text": [
        "\n",
        "('page ', 226)\n",
        "('shops so far ', 1449)"
       ]
      },
      {
       "output_type": "stream",
       "stream": "stdout",
       "text": [
        "\n",
        "('page ', 227)\n",
        "('shops so far ', 1458)"
       ]
      },
      {
       "output_type": "stream",
       "stream": "stdout",
       "text": [
        "\n",
        "('page ', 228)\n",
        "('shops so far ', 1465)"
       ]
      },
      {
       "output_type": "stream",
       "stream": "stdout",
       "text": [
        "\n",
        "('page ', 229)\n",
        "('shops so far ', 1473)"
       ]
      },
      {
       "output_type": "stream",
       "stream": "stdout",
       "text": [
        "\n",
        "('page ', 230)\n",
        "('shops so far ', 1479)"
       ]
      },
      {
       "output_type": "stream",
       "stream": "stdout",
       "text": [
        "\n",
        "('page ', 231)\n",
        "('shops so far ', 1485)"
       ]
      },
      {
       "output_type": "stream",
       "stream": "stdout",
       "text": [
        "\n",
        "('page ', 232)\n",
        "('shops so far ', 1493)"
       ]
      },
      {
       "output_type": "stream",
       "stream": "stdout",
       "text": [
        "\n",
        "('page ', 233)\n",
        "('shops so far ', 1501)"
       ]
      },
      {
       "output_type": "stream",
       "stream": "stdout",
       "text": [
        "\n",
        "('page ', 234)\n",
        "('shops so far ', 1509)"
       ]
      },
      {
       "output_type": "stream",
       "stream": "stdout",
       "text": [
        "\n",
        "('page ', 235)\n",
        "('shops so far ', 1510)"
       ]
      },
      {
       "output_type": "stream",
       "stream": "stdout",
       "text": [
        "\n",
        "('page ', 236)\n",
        "('shops so far ', 1515)"
       ]
      },
      {
       "output_type": "stream",
       "stream": "stdout",
       "text": [
        "\n",
        "('page ', 237)\n",
        "('shops so far ', 1520)"
       ]
      },
      {
       "output_type": "stream",
       "stream": "stdout",
       "text": [
        "\n",
        "('page ', 238)\n",
        "('shops so far ', 1525)"
       ]
      },
      {
       "output_type": "stream",
       "stream": "stdout",
       "text": [
        "\n",
        "('page ', 239)\n",
        "('shops so far ', 1531)"
       ]
      },
      {
       "output_type": "stream",
       "stream": "stdout",
       "text": [
        "\n",
        "('page ', 240)\n",
        "{1: {'Name': u'MyKnitCroch'}, 2: {'Name': u'viafashion'}, 3: {'Name': u'Puik'}, 4: {'Name': u'SandyCoastalDesigns'}, 5: {'Name': u'MaxMelody'}, 6: {'Name': u'knittingtreasures'}, 7: {'Name': u'SunshineBabyProps'}, 8: {'Name': u'accessoriesbyrita'}, 9: {'Name': u'Ebruk'}, 10: {'Name': u'pixiebell'}, 11: {'Name': u'effybags'}, 12: {'Name': u'SENNURSASA'}, 13: {'Name': u'ileaiye'}, 14: {'Name': u'StripesnCables'}, 15: {'Name': u'zukas'}, 16: {'Name': u'LurayKnitwear'}, 17: {'Name': u'TheMadRabbitShoppe'}, 18: {'Name': u'HatsByHollyJoy'}, 19: {'Name': u'PrettyBagsByMia'}, 20: {'Name': u'LoopsAndLines'}, 21: {'Name': u'LudMilaBoutique'}, 22: {'Name': u'Ifonka'}, 23: {'Name': u'Regathered'}, 24: {'Name': u'PoshKiddosapparel'}, 25: {'Name': u'BouquetSpecialDesign'}, 26: {'Name': u'ShopLuluandRoo'}, 27: {'Name': u'HootersHall'}, 28: {'Name': u'SoftyWooly'}, 29: {'Name': u'myfashioncreations'}, 30: {'Name': u'DollphinShowRoom'}, 31: {'Name': u'WoollywonderKnits'}, 32: {'Name': u'IfonBabyLand'}, 33: {'Name': u'PracticalArtByLaura'}, 34: {'Name': u'ReinetteClothing'}, 35: {'Name': u'strawberrycouture'}, 36: {'Name': u'SlouchyBeanie'}, 37: {'Name': u'SmallandLovely'}, 38: {'Name': u'UpNorthKnits'}, 39: {'Name': u'BaByPrOdUcTsByGaLiNa'}, 40: {'Name': u'natalya1905'}, 41: {'Name': u'Sawu'}, 42: {'Name': u'designbcb'}, 43: {'Name': u'lanadearg'}, 44: {'Name': u'KnitAndCrochetLAND'}, 45: {'Name': u'LoonMtEmbroidnCrafts'}, 46: {'Name': u'earflaphats'}, 47: {'Name': u'PandoraSpocks'}, 48: {'Name': u'LovetoKnitHats'}, 49: {'Name': u'IrmianDesign'}, 50: {'Name': u'3sistersscarfcompany'}, 51: {'Name': u'SoftKnitDreams'}, 52: {'Name': u'Vacationhouse'}, 53: {'Name': u'lajumpinbean'}, 54: {'Name': u'FarrellFibers'}, 55: {'Name': u'JolantaKnit'}, 56: {'Name': u'PIYOYO'}, 57: {'Name': u'hilaryfrazier'}, 58: {'Name': u'MyCrochetDesign'}, 59: {'Name': u'Scarf4you'}, 60: {'Name': u'BlablaBlythe'}, 61: {'Name': u'BoPeepsBonnets'}, 62: {'Name': u'WodCreate'}, 63: {'Name': u'naptimedesigners'}, 64: {'Name': u'Thonetmania'}, 65: {'Name': u'tailorguy'}, 66: {'Name': u'OffTheHookHats'}, 67: {'Name': u'lililio'}, 68: {'Name': u'LittleAsAccessories'}, 69: {'Name': u'KadensCloset'}, 70: {'Name': u'CottonPickings'}, 71: {'Name': u'Knitzbybeansknots'}, 72: {'Name': u'EllenaKnits'}, 73: {'Name': u'PlukeShop'}, 74: {'Name': u'MatanteGe'}, 75: {'Name': u'CableMeCozy'}, 76: {'Name': u'SueMaun'}, 77: {'Name': u'WonderWoollens'}, 78: {'Name': u'TaniaHand'}, 79: {'Name': u'ThingsKnit'}, 80: {'Name': u'KnitsandGiggles970'}, 81: {'Name': u'DetroitWoolyLab'}, 82: {'Name': u'PeonyKnits'}, 83: {'Name': u'dreahsdesigns'}, 84: {'Name': u'HelloDollyDesigns'}, 85: {'Name': u'Knittingchop'}, 86: {'Name': u'Bohoinfinity'}, 87: {'Name': u'JandEdoodles'}, 88: {'Name': u'mynoush'}, 89: {'Name': u'HandyHatsandThings'}, 90: {'Name': u'beatknits'}, 91: {'Name': u'vintageknitcrochet'}, 92: {'Name': u'NataNatastudio'}, 93: {'Name': u'ShopLaLune'}, 94: {'Name': u'smittenwithknitn'}, 95: {'Name': u'Ritaknitsall'}, 96: {'Name': u'JanJanCreations'}, 97: {'Name': u'FiddlestyxStudios'}, 98: {'Name': u'TreMelarance'}, 99: {'Name': u'ShansKnits'}, 100: {'Name': u'MabelMadeThis'}, 101: {'Name': u'RelovedFabrics'}, 102: {'Name': u'Cvetinka'}, 103: {'Name': u'DickensKnits'}, 104: {'Name': u'AnytimeScarf'}, 105: {'Name': u'Powerbrand'}, 106: {'Name': u'KnitSew4U'}, 107: {'Name': u'rubywebbs'}, 108: {'Name': u'LJaccessories'}, 109: {'Name': u'HippityHoppityHats'}, 110: {'Name': u'foreverandrea'}, 111: {'Name': u'HandWovenPeru'}, 112: {'Name': u'SimplyLife888'}, 113: {'Name': u'BabiesRepublic'}, 114: {'Name': u'DesignByEJ'}, 115: {'Name': u'TheMastHatter'}, 116: {'Name': u'CTDESIGNSBESPOKEBAGS'}, 117: {'Name': u'Fernandfeatherknits'}, 118: {'Name': u'MarmaladesYarn'}, 119: {'Name': u'LaBottegaDiViviana'}, 120: {'Name': u'LeLeni'}, 121: {'Name': u'WaterInMyPaint'}, 122: {'Name': u'BlossomsByJuneLynn'}, 123: {'Name': u'SourpussKnits'}, 124: {'Name': u'TerryGraziano'}, 125: {'Name': u'CreationsTricotine'}, 126: {'Name': u'AshleyLillisHandmade'}, 127: {'Name': u'ThatGirlKnitz'}, 128: {'Name': u'bromefields'}, 129: {'Name': u'GoKnitsDotCom'}, 130: {'Name': u'HaKaMaDi4'}, 131: {'Name': u'ToryMakes'}, 132: {'Name': u'looptolooptoloop'}, 133: {'Name': u'PoshPatterns'}, 134: {'Name': u'selmahandcraft'}, 135: {'Name': u'FromPurlsToPearls'}, 136: {'Name': u'sweetKM'}, 137: {'Name': u'TikiFiberCrafts'}, 138: {'Name': u'MarysKnits'}, 139: {'Name': u'CappelliHats'}, 140: {'Name': u'Magicdoll'}, 141: {'Name': u'ZucchiniIslandKnits'}, 142: {'Name': u'WinterWhiteKnits'}, 143: {'Name': u'NchantedGifts'}, 144: {'Name': u'PhiloneusDesigns'}, 145: {'Name': u'PacaPooFarms'}, 146: {'Name': u'AMarieKnits'}, 147: {'Name': u'abrahamssonco'}, 148: {'Name': u'TARSTITCH'}, 149: {'Name': u'Merrieknit'}, 150: {'Name': u'NesyBaby'}, 151: {'Name': u'OhmayDIY'}, 152: {'Name': u'azuremiles'}, 153: {'Name': u'ThreeBirdNest'}, 154: {'Name': u'MimozaLuxury'}, 155: {'Name': u'SabiynaHandKnits'}, 156: {'Name': u'RosePetalCollections'}, 157: {'Name': u'BexterDesigns'}, 158: {'Name': u'funkomavintage'}, 159: {'Name': u'LalaAndMeShop'}, 160: {'Name': u'KnitsForLife'}, 161: {'Name': u'KnittingOleBag'}, 162: {'Name': u'TwoLittleAngels1'}, 163: {'Name': u'CreationsbyNavari'}, 164: {'Name': u'GreenCatStudio'}, 165: {'Name': u'MellyJoCo'}, 166: {'Name': u'sweetygreetings'}, 167: {'Name': u'KnitJustForYou'}, 168: {'Name': u'yarnworksandmore'}, 169: {'Name': u'MoonKnitNight'}, 170: {'Name': u'CattsHouse'}, 171: {'Name': u'AdrisLittleCuties'}, 172: {'Name': u'dreamdoghandmade'}, 173: {'Name': u'AGuyWithTwoNeedles'}, 174: {'Name': u'StripyKite'}, 175: {'Name': u'AuntieBsMemories'}, 176: {'Name': u'lauraprilltoo'}, 177: {'Name': u'knoodleknits'}, 178: {'Name': u'PeachPoshPolkadots'}, 179: {'Name': u'BirdiesLab'}, 180: {'Name': u'Terottka'}, 181: {'Name': u'JennysKnitCo'}, 182: {'Name': u'dahliasoleil'}, 183: {'Name': u'WomanOnTheWater'}, 184: {'Name': u'CLCouture'}, 185: {'Name': u'AccessoriesByKelli'}, 186: {'Name': u'KnitsByNat'}, 187: {'Name': u'MimiMustKnit'}, 188: {'Name': u'NudiKnits'}, 189: {'Name': u'westlakedesigns'}, 190: {'Name': u'SnazzySportsCo'}, 191: {'Name': u'AngisWollBobbl'}, 192: {'Name': u'LiveLace'}, 193: {'Name': u'JeanieBeanHandKnits'}, 194: {'Name': u'NorthCountryExposure'}, 195: {'Name': u'CharlesIsabella'}, 196: {'Name': u'HandicraftByDamla'}, 197: {'Name': u'TriStarDesign'}, 198: {'Name': u'JanineBasil'}, 199: {'Name': u'AylasBeeniesgreenbay'}, 200: {'Name': u'bootcuffsandsocks'}, 201: {'Name': u'VillaYarnDesigns'}, 202: {'Name': u'DishclothDivaKnitsOn'}, 203: {'Name': u'HatParadise'}, 204: {'Name': u'Savvyskeins'}, 205: {'Name': u'ThePaisleyCarrot'}, 206: {'Name': u'mybabyhats'}, 207: {'Name': u'ChandraQuiltnCrafts'}, 208: {'Name': u'PlatoSquirrel'}, 209: {'Name': u'swaddlemesnugly'}, 210: {'Name': u'AnotherKP'}, 211: {'Name': u'JuniperandGinger'}, 212: {'Name': u'HatCharacters'}, 213: {'Name': u'PaulaBPires'}, 214: {'Name': u'sewsassybootique'}, 215: {'Name': u'ETaylorDesigns'}, 216: {'Name': u'iGrowYarn'}, 217: {'Name': u'OhBoyHandmade'}, 218: {'Name': u'TheCraftyEuropean'}, 219: {'Name': u'zoik'}, 220: {'Name': u'Solnishko43'}, 221: {'Name': u'LambsEarsKnits'}, 222: {'Name': u'CreativeHandknits'}, 223: {'Name': u'KEENbyAM'}, 224: {'Name': u'SuchCraftsWow'}, 225: {'Name': u'MedleyofColors'}, 226: {'Name': u'Bestcrochets'}, 227: {'Name': u'FrouFrouVtgClothing'}, 228: {'Name': u'LiliaCraftParty'}, 229: {'Name': u'MariyaMitov'}, 230: {'Name': u'deorigenchile'}, 231: {'Name': u'BollasBitsAndBobs'}, 232: {'Name': u'MtnShadowFiberworks'}, 233: {'Name': u'Pavlaknits'}, 234: {'Name': u'TheKnitPanda'}, 235: {'Name': u'HuckleberriesandRain'}, 236: {'Name': u'rukkola'}, 237: {'Name': u'taschekats'}, 238: {'Name': u'CuteCreationsByLea'}, 239: {'Name': u'ItsyBitsyBabyProps'}, 240: {'Name': u'YarnForBaby'}, 241: {'Name': u'CutePhotoProp'}, 242: {'Name': u'CrochetKnit30'}, 243: {'Name': u'JandSKnitts'}, 244: {'Name': u'Mirastyle'}, 245: {'Name': u'DokumaAccessories'}, 246: {'Name': u'VermontHomespun'}, 247: {'Name': u'HamsaHealingGifts'}, 248: {'Name': u'bebebottineshop'}, 249: {'Name': u'SeaSprayKnits'}, 250: {'Name': u'ToppledTurtle'}, 251: {'Name': u'Plexida'}, 252: {'Name': u'ForHomeAndHearth'}, 253: {'Name': u'Stitchandstory'}, 254: {'Name': u'FightingLeukemia'}, 255: {'Name': u'wishestogether'}, 256: {'Name': u'DapperAnnie'}, 257: {'Name': u'FliptasticClothing'}, 258: {'Name': u'SSnEverythingnice'}, 259: {'Name': u'PikaPikaCreative'}, 260: {'Name': u'IRISMINT'}, 261: {'Name': u'Clickclackknits'}, 262: {'Name': u'stayinstitches'}, 263: {'Name': u'APPALACHIANSTITCH'}, 264: {'Name': u'StarSeventeen'}, 265: {'Name': u'SapphiraDesignsKnits'}, 266: {'Name': u'IKnit4aCure'}, 267: {'Name': u'KnitGoodWomanKnit'}, 268: {'Name': u'LineliHandmade'}, 269: {'Name': u'twigsandtweets'}, 270: {'Name': u'Fluffylamb'}, 271: {'Name': u'YoYohats'}, 272: {'Name': u'KnittingbyKali'}, 273: {'Name': u'ThatSewU'}, 274: {'Name': u'BabyKDesigns'}, 275: {'Name': u'CroquisKnits'}, 276: {'Name': u'KangooLUX'}, 277: {'Name': u'BebellissimosB'}, 278: {'Name': u'Lasunka'}, 279: {'Name': u'BellaRaeCrochet'}, 280: {'Name': u'tzigane57'}, 281: {'Name': u'HandmadeFromLV'}, 282: {'Name': u'Cowichans'}, 283: {'Name': u'HeartStrings107'}, 284: {'Name': u'Scarfashion'}, 285: {'Name': u'HandmadeTrend'}, 286: {'Name': u'NorthernLoopKnitwear'}, 287: {'Name': u'Madebyfate'}, 288: {'Name': u'wildhoneypieboutique'}, 289: {'Name': u'RememberingDiane'}, 290: {'Name': u'Solandia'}, 291: {'Name': u'JuicyBows'}, 292: {'Name': u'RosiesNoggin'}, 293: {'Name': u'VolnaDollsClother'}, 294: {'Name': u'Ingugu'}, 295: {'Name': u'SweetPetitePhotoProp'}, 296: {'Name': u'ShnopShnop'}, 297: {'Name': u'ByMissSally'}, 298: {'Name': u'ChildCrochet'}, 299: {'Name': u'Knitzandpurls'}, 300: {'Name': u'MadeByMillar'}, 301: {'Name': u'CrochetingHeaven'}, 302: {'Name': u'LaKnitteria'}, 303: {'Name': u'PlexisArt'}, 304: {'Name': u'cherlynnephotography'}, 305: {'Name': u'ShentonStudios'}, 306: {'Name': u'ButtermilkCottage'}, 307: {'Name': u'speciallyhandmade4u'}, 308: {'Name': u'Halunder'}, 309: {'Name': u'LittleRetronome'}, 310: {'Name': u'autumnandindigo'}, 311: {'Name': u'DCimaginations'}, 312: {'Name': u'LeanaKonovalova'}, 313: {'Name': u'xoxoImogenHearts'}, 314: {'Name': u'AnastasiaEvelyn'}, 315: {'Name': u'NoKnotKnits'}, 316: {'Name': u'willowandsagecreatio'}, 317: {'Name': u'SmilingKnitting'}, 318: {'Name': u'Johannahats'}, 319: {'Name': u'MyTinyTree'}, 320: {'Name': u'aysev'}, 321: {'Name': u'emmifaye'}, 322: {'Name': u'ColorWondreWarmth'}, 323: {'Name': u'KennaInAfrica'}, 324: {'Name': u'WWKnits'}, 325: {'Name': u'TheUrbanSquirrel1'}, 326: {'Name': u'jolay'}, 327: {'Name': u'heaventoseven'}, 328: {'Name': u'EnchantedLandofFelt'}, 329: {'Name': u'Mariiko'}, 330: {'Name': u'AuBoutduPre'}, 331: {'Name': u'zxcvvcxz'}, 332: {'Name': u'TheWoolyBirch'}, 333: {'Name': u'DiceKnits'}, 334: {'Name': u'CelesteandCompany'}, 335: {'Name': u'DarylAndCat'}, 336: {'Name': u'THIMBLEandACORN'}, 337: {'Name': u'StayatHomeStitchings'}, 338: {'Name': u'longbeachdesigns'}, 339: {'Name': u'MercierMarche'}, 340: {'Name': u'CrochetYourBaby'}, 341: {'Name': u'lucymir'}, 342: {'Name': u'GibsonHollow'}, 343: {'Name': u'forthetiny'}, 344: {'Name': u'SunnyCsc'}, 345: {'Name': u'starlightknits'}, 346: {'Name': u'MelissaAndElizabethe'}, 347: {'Name': u'mellowfury'}, 348: {'Name': u'FashionTouch'}, 349: {'Name': u'BirdsKeptNorth'}, 350: {'Name': u'WylieOwlVintage'}, 351: {'Name': u'knottycreationsbyET'}, 352: {'Name': u'byHeatherMarie'}, 353: {'Name': u'MurvaDesign'}, 354: {'Name': u'DamovFashion'}, 355: {'Name': u'AKCraftyLady'}, 356: {'Name': u'SOFTKNOT'}, 357: {'Name': u'PeonyBlossoms'}, 358: {'Name': u'LittleBuffaloKnits'}, 359: {'Name': u'PamelaLiz'}, 360: {'Name': u'WhichStitch123'}, 361: {'Name': u'lovewhatyouwear'}, 362: {'Name': u'shopknitsandprints'}, 363: {'Name': u'KookaburraBaby'}, 364: {'Name': u'judy03452'}, 365: {'Name': u'DesigningEva'}, 366: {'Name': u'FernwehUK'}, 367: {'Name': u'TiasTerrificThreads'}, 368: {'Name': u'NavaVK'}, 369: {'Name': u'LionsToothDesigns'}, 370: {'Name': u'CooloRoonie'}, 371: {'Name': u'ArticleApparel'}, 372: {'Name': u'Julbyjuliagasin'}, 373: {'Name': u'WearitWellvintage'}, 374: {'Name': u'OrganicScarf'}, 375: {'Name': u'SandraLDesigns'}, 376: {'Name': u'ChicAndSheep'}, 377: {'Name': u'AlbadoFashion'}, 378: {'Name': u'ChicVintagePatterns'}, 379: {'Name': u'AngelHeartRanch'}, 380: {'Name': u'SweetPeaBoutiques'}, 381: {'Name': u'NeedleGraceBoutique'}, 382: {'Name': u'TwoPeasInAPodCo'}, 383: {'Name': u'SleepyToys'}, 384: {'Name': u'ElianasKnittings'}, 385: {'Name': u'CampCousinsCrafts'}, 386: {'Name': u'Notforeat'}, 387: {'Name': u'EcoStreet'}, 388: {'Name': u'AnniRoss'}, 389: {'Name': u'LoreNovedades'}, 390: {'Name': u'SusieAccessories'}, 391: {'Name': u'AniTaller'}, 392: {'Name': u'Knitkozi'}, 393: {'Name': u'BellaNeedleworks'}, 394: {'Name': u'JillsHandmadeStuff'}, 395: {'Name': u'handmadebysarajean'}, 396: {'Name': u'allasattic'}, 397: {'Name': u'LazyTurtleCo'}, 398: {'Name': u'LittleCottonShop'}, 399: {'Name': u'PreciousNewbornKnits'}, 400: {'Name': u'PaulistaAvenue'}, 401: {'Name': u'fashionablekids'}, 402: {'Name': u'PuttingontheKnits'}, 403: {'Name': u'SevenOaksFarm'}, 404: {'Name': u'BaroqueAndRoll'}, 405: {'Name': u'WhiteGloveVintage'}, 406: {'Name': u'SMQdesigns'}, 407: {'Name': u'VioletUnderground'}, 408: {'Name': u'HeavenandHandKnits'}, 409: {'Name': u'FashionelleStudio'}, 410: {'Name': u'KilbellaVintage'}, 411: {'Name': u'mimsyinmaine'}, 412: {'Name': u'MotherGooseKnits'}, 413: {'Name': u'LinaScarf'}, 414: {'Name': u'byjocreations'}, 415: {'Name': u'texturable'}, 416: {'Name': u'MarroCraft'}, 417: {'Name': u'LilyAccessorises'}, 418: {'Name': u'KatarinaHats'}, 419: {'Name': u'PrincessTaraCo'}, 420: {'Name': u'DebGHats'}, 421: {'Name': u'beautifulplace'}, 422: {'Name': u'TheRaccoonery'}, 423: {'Name': u'GloriousMorn'}, 424: {'Name': u'Hemiao'}, 425: {'Name': u'KattysHandcrafts'}, 426: {'Name': u'j2studioscraft'}, 427: {'Name': u'BlytheCouture'}, 428: {'Name': u'KnitsByVicks'}, 429: {'Name': u'KnittingCrochetKLM'}, 430: {'Name': u'Tanyshaknitware'}, 431: {'Name': u'Hatsforhounds'}, 432: {'Name': u'HatsByLilly'}, 433: {'Name': u'MaggieandGray'}, 434: {'Name': u'JKnitting'}, 435: {'Name': u'simplyyarn27'}, 436: {'Name': u'kristine1986'}, 437: {'Name': u'Ladyknitsandthings'}, 438: {'Name': u'BeeHappyBoutique'}, 439: {'Name': u'PomPonWear'}, 440: {'Name': u'OYASHOP'}, 441: {'Name': u'FistfulOfVintage'}, 442: {'Name': u'thekittensmittensuk'}, 443: {'Name': u'Shelly6262'}, 444: {'Name': u'TheNewtonLabel'}, 445: {'Name': u'thymeline'}, 446: {'Name': u'gentletouch11'}, 447: {'Name': u'TheBirdTales'}, 448: {'Name': u'PeroskiDesign'}, 449: {'Name': u'AshleysHomeSpun'}, 450: {'Name': u'KnitBuddy'}, 451: {'Name': u'TheCraftyJackalope'}, 452: {'Name': u'RedPepperHats'}, 453: {'Name': u'LaBottegaDiChicco'}, 454: {'Name': u'Need4KnitShop'}, 455: {'Name': u'DancingTigerGifts'}, 456: {'Name': u'Nastiin'}, 457: {'Name': u'SnassyCrafter'}, 458: {'Name': u'KnitWithLoveByDana'}, 459: {'Name': u'lanacooper'}, 460: {'Name': u'SuperChicDollies'}, 461: {'Name': u'itsybitsyknitting'}, 462: {'Name': u'SueAnnesKnitShoppe'}, 463: {'Name': u'MAChic'}, 464: {'Name': u'StitchwerxDesigns'}, 465: {'Name': u'GayleNeely'}, 466: {'Name': u'WishKnits'}, 467: {'Name': u'ArtsyTreats'}, 468: {'Name': u'WheatfieldKnitwear'}, 469: {'Name': u'byvala'}, 470: {'Name': u'CozyPavillion'}, 471: {'Name': u'SpinningAcres'}, 472: {'Name': u'FawnVintage01'}, 473: {'Name': u'LittleKnittyThings'}, 474: {'Name': u'NorthStarAlpacas'}, 475: {'Name': u'ElenaYarovayaCrochet'}, 476: {'Name': u'juliegalbraith'}, 477: {'Name': u'DebsDevineDesigns'}, 478: {'Name': u'LYMcrafts'}, 479: {'Name': u'knitland24'}, 480: {'Name': u'SCHandmade'}, 481: {'Name': u'BiKay'}, 482: {'Name': u'EmofoFashion'}, 483: {'Name': u'BetelgeuseBrand'}, 484: {'Name': u'MillCityStitches'}, 485: {'Name': u'SmallPinkGiraffe'}, 486: {'Name': u'TheLavishOwl'}, 487: {'Name': u'MyLittleKnits'}, 488: {'Name': u'BabasBabyProps'}, 489: {'Name': u'HouseofJulio'}, 490: {'Name': u'RodiAndSuzi'}, 491: {'Name': u'HandknitsByLori'}, 492: {'Name': u'PreciousKnits'}, 493: {'Name': u'HeavenSentHandmade'}, 494: {'Name': u'KnittingPrettyotFarm'}, 495: {'Name': u'BringSomeBling'}, 496: {'Name': u'KNITTINGNJEWELRY'}, 497: {'Name': u'HolyHatz'}, 498: {'Name': u'katerynaG'}, 499: {'Name': u'ettygeller'}, 500: {'Name': u'lorettascarves'}, 501: {'Name': u'TepperWear'}, 502: {'Name': u'LioncubCreations'}, 503: {'Name': u'NiftyNookDesigns'}, 504: {'Name': u'TanyasBunnyTots'}, 505: {'Name': u'PoppiesandPeanuts'}, 506: {'Name': u'rocksandsalt'}, 507: {'Name': u'beautymanifesto'}, 508: {'Name': u'LavenderBlossoms'}, 509: {'Name': u'Hookinhandcreations'}, 510: {'Name': u'ZukasKidsKnits'}, 511: {'Name': u'HatsAndOtherStories'}, 512: {'Name': u'Beadasherie'}, 513: {'Name': u'BetaGoods'}, 514: {'Name': u'GoldenGirlzHandmade'}, 515: {'Name': u'WhisperingDreams'}, 516: {'Name': u'artnida'}, 517: {'Name': u'Eastalace'}, 518: {'Name': u'belovedLT'}, 519: {'Name': u'herie7'}, 520: {'Name': u'ChristaEllen'}, 521: {'Name': u'UptownKnits'}, 522: {'Name': u'TheNorthernPurl'}, 523: {'Name': u'FirstChairClothing'}, 524: {'Name': u'GlacierBlu'}, 525: {'Name': u'LAMMYKNITS'}, 526: {'Name': u'tinab76'}, 527: {'Name': u'OnwardOnward'}, 528: {'Name': u'awkward'}, 529: {'Name': u'bysweetmom'}, 530: {'Name': u'hippiehousedesigns'}, 531: {'Name': u'JerseyThursdayKnits'}, 532: {'Name': u'HunkyDoriBoutique'}, 533: {'Name': u'MadeByMiculinko'}, 534: {'Name': u'JUknitwaves'}, 535: {'Name': u'SamniengDesigns'}, 536: {'Name': u'PinkyTease'}, 537: {'Name': u'CrochetMyLove'}, 538: {'Name': u'JHknitter'}, 539: {'Name': u'KnitterPrincess'}, 540: {'Name': u'GunayKulbay'}, 541: {'Name': u'KristinaBari'}, 542: {'Name': u'EnchantingChildhood'}, 543: {'Name': u'UNIQHeadwear'}, 544: {'Name': u'Pella'}, 545: {'Name': u'peonijahandmadeshop'}, 546: {'Name': u'JustImagineAlaska'}, 547: {'Name': u'MsDeborahKnitter'}, 548: {'Name': u'frecklesnsass'}, 549: {'Name': u'PaganDreams13'}, 550: {'Name': u'MirjanaKnittings'}, 551: {'Name': u'MoonlightLittleKnits'}, 552: {'Name': u'NohoMiscellaneous'}, 553: {'Name': u'pegsyarncreations'}, 554: {'Name': u'HeatherGaleaDesigns'}, 555: {'Name': u'GraceKnittingPattern'}, 556: {'Name': u'AngelinaAccessories'}, 557: {'Name': u'ItsyBitsyBlooms'}, 558: {'Name': u'MyKnittedTreasures'}, 559: {'Name': u'ClassicBabyWhites'}, 560: {'Name': u'VerantinasBoutique'}, 561: {'Name': u'Mybebito'}, 562: {'Name': u'yagmurhat'}, 563: {'Name': u'MoonwolfStudios'}, 564: {'Name': u'kckshop'}, 565: {'Name': u'CassiesFactory'}, 566: {'Name': u'Dreadstuffs'}, 567: {'Name': u'LoopsyKnits'}, 568: {'Name': u'recyclingroom'}, 569: {'Name': u'NuranShop'}, 570: {'Name': u'peppermintpine'}, 571: {'Name': u'lampworkbyjulie'}, 572: {'Name': u'CreateBKLYN'}, 573: {'Name': u'magicwoolball'}, 574: {'Name': u'MountainGoth'}, 575: {'Name': u'KnittingInStyle'}, 576: {'Name': u'Britneyshandknits'}, 577: {'Name': u'AutumnAndAmber'}, 578: {'Name': u'OliveHats'}, 579: {'Name': u'LifesAnExpedition'}, 580: {'Name': u'BabyLeCradle'}, 581: {'Name': u'WhimsicalWarmthProps'}, 582: {'Name': u'EnguKnits'}, 583: {'Name': u'refugium'}, 584: {'Name': u'THESugarandStitches'}, 585: {'Name': u'PrettyKnitShop'}, 586: {'Name': u'OldSchoolSwank'}, 587: {'Name': u'rustiknits'}, 588: {'Name': u'hipposdream'}, 589: {'Name': u'TLVgoods'}, 590: {'Name': u'Maddiesdivinedesigns'}, 591: {'Name': u'talktothesun'}, 592: {'Name': u'AplaceofInterest'}, 593: {'Name': u'Incidentallyforyou'}, 594: {'Name': u'SJAWoodesign'}, 595: {'Name': u'CreatingWithSticks'}, 596: {'Name': u'SistersinCraft'}, 597: {'Name': u'nomacustom'}, 598: {'Name': u'ChickSale'}, 599: {'Name': u'OCCASIONsonjabegonia'}, 600: {'Name': u'pocketens'}, 601: {'Name': u'bySarahBeth'}, 602: {'Name': u'KamiHats'}, 603: {'Name': u'PetiteIdasCreations'}, 604: {'Name': u'northwardhandcraft'}, 605: {'Name': u'SpinningStreak'}, 606: {'Name': u'AllAroundKnitting'}, 607: {'Name': u'elmstcreations'}, 608: {'Name': u'NaturallyUnraveled'}, 609: {'Name': u'BloomWorkshop'}, 610: {'Name': u'AluraCrafts'}, 611: {'Name': u'AngelaRoseBoutique'}, 612: {'Name': u'yarnawayknits'}, 613: {'Name': u'HandmadeKnitsHats'}, 614: {'Name': u'ICraft4Shoes'}, 615: {'Name': u'barleyandflax'}, 616: {'Name': u'NeedleLoveKnits'}, 617: {'Name': u'LoveFromNewZealand'}, 618: {'Name': u'grannypattern'}, 619: {'Name': u'Elegantcrochets'}, 620: {'Name': u'BlumenKinderSeattle'}, 621: {'Name': u'MMDecoStudio'}, 622: {'Name': u'wiscaliali'}, 623: {'Name': u'EmmettBrown'}, 624: {'Name': u'WendysWonders127'}, 625: {'Name': u'HoneyBeesKnits'}, 626: {'Name': u'ANMARIKEDECORPLUS'}, 627: {'Name': u'ROIG42'}, 628: {'Name': u'LittleGemsByLuisa'}, 629: {'Name': u'CapeCodHandmades'}, 630: {'Name': u'Accessodium'}, 631: {'Name': u'littlenestboutique'}, 632: {'Name': u'KoonaYogaWear'}, 633: {'Name': u'valleypurl'}, 634: {'Name': u'ViktorijaCraft'}, 635: {'Name': u'kkaw'}, 636: {'Name': u'SimplyCraftSupplies'}, 637: {'Name': u'Dashright'}, 638: {'Name': u'SallyAnnaBoutique'}, 639: {'Name': u'ABknits'}, 640: {'Name': u'Solnishko42'}, 641: {'Name': u'DILALOO'}, 642: {'Name': u'SophiaGianna2Sisters'}, 643: {'Name': u'CrazyCuteByAngela'}, 644: {'Name': u'KnittedJoys'}, 645: {'Name': u'3PeasinaPod15'}, 646: {'Name': u'rerunvintage'}, 647: {'Name': u'FarEastHandMade'}, 648: {'Name': u'ytang'}, 649: {'Name': u'HideyHoleHats'}, 650: {'Name': u'FunkyAirBear'}, 651: {'Name': u'knitwit321'}, 652: {'Name': u'BarbsSewingBasket'}, 653: {'Name': u'ComfyInTheSouth'}, 654: {'Name': u'TimelessTreasuresbyB'}, 655: {'Name': u'ClericoCreations'}, 656: {'Name': u'TokyoBlossom'}, 657: {'Name': u'whitlycraftworks'}, 658: {'Name': u'HappyLaika'}, 659: {'Name': u'PERFECTLYPRIMATIVE'}, 660: {'Name': u'CustomPhotoProps'}, 661: {'Name': u'djfleesh'}, 662: {'Name': u'Worldsofknitted'}, 663: {'Name': u'BilgesCreation'}, 664: {'Name': u'ZucchiniIsland'}, 665: {'Name': u'YulemKnits'}, 666: {'Name': u'TwoStixStudios'}, 667: {'Name': u'CraftedEssentials'}, 668: {'Name': u'ShopCountryCottage'}, 669: {'Name': u'ICraftOutsidetheBox'}, 670: {'Name': u'creaspir'}, 671: {'Name': u'SweetEllasDesigns'}, 672: {'Name': u'abellawear'}, 673: {'Name': u'TheBlackElephant'}, 674: {'Name': u'Iryna'}, 675: {'Name': u'SewCuteQuiltAndKnit'}, 676: {'Name': u'KnitbyShan'}, 677: {'Name': u'MGknitting'}, 678: {'Name': u'GiniJackOriginals'}, 679: {'Name': u'oMallaMo'}, 680: {'Name': u'PeaceThruKnitting'}, 681: {'Name': u'RoostingRobbin'}, 682: {'Name': u'LorisHatShop'}, 683: {'Name': u'KnittedBySavannah'}, 684: {'Name': u'AnnasFashionJewelry'}, 685: {'Name': u'StitchKnit'}, 686: {'Name': u'angikay'}, 687: {'Name': u'EGHDesigns'}, 688: {'Name': u'HandsTime'}, 689: {'Name': u'needleloops'}, 690: {'Name': u'IstanbulCalling'}, 691: {'Name': u'SenseAndEmotions'}, 692: {'Name': u'LizSox'}, 693: {'Name': u'BlueRoosterArts'}, 694: {'Name': u'TheArbitraryArtisan'}, 695: {'Name': u'Blissfulloops'}, 696: {'Name': u'HarrisKnittingCloset'}, 697: {'Name': u'yuliatko'}, 698: {'Name': u'pingosdoceu'}, 699: {'Name': u'JensKnitPit'}, 700: {'Name': u'LittlePandaMommy'}, 701: {'Name': u'KALIFASHIONS'}, 702: {'Name': u'imali'}, 703: {'Name': u'kickassvintage'}, 704: {'Name': u'CoryLaneCreations'}, 705: {'Name': u'knittingboutique8'}, 706: {'Name': u'ChiaraBoutiqe'}, 707: {'Name': u'FloralSide'}, 708: {'Name': u'pipisqueaks'}, 709: {'Name': u'parkie2'}, 710: {'Name': u'WoolFans'}, 711: {'Name': u'SayItManyWays'}, 712: {'Name': u'EvasStudio'}, 713: {'Name': u'AJoyfulCreation'}, 714: {'Name': u'ThisMomentisGood'}, 715: {'Name': u'SigiSoreget'}, 716: {'Name': u'LeftHandWandering'}, 717: {'Name': u'PyramidSkein'}, 718: {'Name': u'FocusonColor'}, 719: {'Name': u'silviaol'}, 720: {'Name': u'JunelloShop'}, 721: {'Name': u'knittingwinters'}, 722: {'Name': u'NicePuppy'}, 723: {'Name': u'WayWayKnits'}, 724: {'Name': u'NMSDesign'}, 725: {'Name': u'SierrasStitchery'}, 726: {'Name': u'HandCraftedbyAnne'}, 727: {'Name': u'Flashfloozy'}, 728: {'Name': u'FrannysHouse'}, 729: {'Name': u'FreyaEsme'}, 730: {'Name': u'Eastknits'}, 731: {'Name': u'zestvintage'}, 732: {'Name': u'sewurbandesigns'}, 733: {'Name': u'KnittedLT'}, 734: {'Name': u'RedWagonKids'}, 735: {'Name': u'DosiakStyle'}, 736: {'Name': u'ChicCrochet4You'}, 737: {'Name': u'ZOJKAshop'}, 738: {'Name': u'knitandcurl'}, 739: {'Name': u'Nakkashe'}, 740: {'Name': u'LoveandKnit'}, 741: {'Name': u'BettyMarieJones'}, 742: {'Name': u'JuliaBeeCrafts'}, 743: {'Name': u'mymamaknits'}, 744: {'Name': u'GrahamsBazaar'}, 745: {'Name': u'BonnetsnBeads'}, 746: {'Name': u'SelectKnits'}, 747: {'Name': u'KnettasKnits'}, 748: {'Name': u'CozyKnitsCoffeeBeans'}, 749: {'Name': u'NeutralNellies'}, 750: {'Name': u'LittleBoySwag'}, 751: {'Name': u'EllaGajewskaHATS'}, 752: {'Name': u'Dagaknit'}, 753: {'Name': u'MizMizaBella'}, 754: {'Name': u'HouseonCherryHill'}, 755: {'Name': u'SibelDesign'}, 756: {'Name': u'beadedwire'}, 757: {'Name': u'CELINICRAFTS'}, 758: {'Name': u'WetHenKnits'}, 759: {'Name': u'Genuique'}, 760: {'Name': u'SewEcological'}, 761: {'Name': u'thesunandtheturtle'}, 762: {'Name': u'positivepurls'}, 763: {'Name': u'ekuboo'}, 764: {'Name': u'JobesJewelryBox'}, 765: {'Name': u'SOVAknits'}, 766: {'Name': u'Elkestreasurechest'}, 767: {'Name': u'IslaysTerrace'}, 768: {'Name': u'BonCherCreations'}, 769: {'Name': u'ASweetpeaCrafts'}, 770: {'Name': u'bestdressedlady'}, 771: {'Name': u'beaconknits'}, 772: {'Name': u'haloopajoop'}, 773: {'Name': u'purescarf'}, 774: {'Name': u'CustomSashes'}, 775: {'Name': u'CRAZYBOOM'}, 776: {'Name': u'MAMMBAaccessories'}, 777: {'Name': u'CraftyCornishMaids'}, 778: {'Name': u'CandesCustomHats'}, 779: {'Name': u'Kampsun'}, 780: {'Name': u'Creationsbyclark'}, 781: {'Name': u'WormeWoole'}, 782: {'Name': u'knitsplus'}, 783: {'Name': u'ShariRoseShop'}, 784: {'Name': u'HandmadeHillShop'}, 785: {'Name': u'AlkistiKnits'}, 786: {'Name': u'AuntyJoanCrafts'}, 787: {'Name': u'2mice'}, 788: {'Name': u'MyCreationsByCarol'}, 789: {'Name': u'MyNicePurses'}, 790: {'Name': u'AuntBsAttic'}, 791: {'Name': u'vintachi'}, 792: {'Name': u'NataKnitwork'}, 793: {'Name': u'Sheepsterscorner'}, 794: {'Name': u'CEWDesignStudio'}, 795: {'Name': u'MaybushModa'}, 796: {'Name': u'StayWarmInStyle'}, 797: {'Name': u'WoolyThinker'}, 798: {'Name': u'SweetBabyJamesShop'}, 799: {'Name': u'ShortroundsKnitwear'}, 800: {'Name': u'fancyknits'}, 801: {'Name': u'SillyLittleBlackCat'}, 802: {'Name': u'brittnicarter'}, 803: {'Name': u'whynotagain'}, 804: {'Name': u'ACraftyObsession'}, 805: {'Name': u'intheLOOPdesign'}, 806: {'Name': u'stickshooksandyarn'}, 807: {'Name': u'RekindledLove'}, 808: {'Name': u'KnitandFeltbyNat'}, 809: {'Name': u'Weknit2tog'}, 810: {'Name': u'JackBentleyKnitwear'}, 811: {'Name': u'KnitsForGifts'}, 812: {'Name': u'sassytailor64'}, 813: {'Name': u'Vintagebuttonhats'}, 814: {'Name': u'wooolmint'}, 815: {'Name': u'ashton11'}, 816: {'Name': u'PandaHugStore'}, 817: {'Name': u'LovelyLegsPlus'}, 818: {'Name': u'KnottinghamKnits'}, 819: {'Name': u'WhereMyStitchesAtCH'}, 820: {'Name': u'TheCheshiresHat'}, 821: {'Name': u'NickelsKnittery'}, 822: {'Name': u'Girlpower'}, 823: {'Name': u'BlossomsBeauties'}, 824: {'Name': u'JBRLDesign'}, 825: {'Name': u'BeUn'}, 826: {'Name': u'HisforHarper'}, 827: {'Name': u'WomanStyleShop'}, 828: {'Name': u'NeutralNursery'}, 829: {'Name': u'woollybaby'}, 830: {'Name': u'KnitsandTreasures'}, 831: {'Name': u'KnittName'}, 832: {'Name': u'BethWintersBoutique'}, 833: {'Name': u'TurkishFolkArts'}, 834: {'Name': u'LANABYSVETLANA'}, 835: {'Name': u'Studio20Designs'}, 836: {'Name': u'DeStashAttic'}, 837: {'Name': u'ATIdesign'}, 838: {'Name': u'DMToques'}, 839: {'Name': u'BabyHatsShoesandMore'}, 840: {'Name': u'NookCove'}, 841: {'Name': u'crystalandtaylor'}, 842: {'Name': u'SkyRainSoap'}, 843: {'Name': u'KoalaBelle'}, 844: {'Name': u'Purl1VintageToo'}, 845: {'Name': u'14thStKnits'}, 846: {'Name': u'theGoodShnit'}, 847: {'Name': u'LiLiSocks'}, 848: {'Name': u'LilSweetPeaSisters'}, 849: {'Name': u'CrochetByBetty'}, 850: {'Name': u'CreeksideCharms'}, 851: {'Name': u'TwoSparrowsBoutique'}, 852: {'Name': u'GeeGeeGoGo'}, 853: {'Name': u'CanadaBlissBoutique'}, 854: {'Name': u'VintagePatternPlace'}, 855: {'Name': u'SoftCozyAndWarm'}, 856: {'Name': u'Strickolino'}, 857: {'Name': u'KBsPaddywacks'}, 858: {'Name': u'elmroadvintage'}, 859: {'Name': u'KnittingMamas'}, 860: {'Name': u'WestbrookFarm'}, 861: {'Name': u'SmileyHeadSplendor'}, 862: {'Name': u'LovewhorlsKnits'}, 863: {'Name': u'ToOurMoonAndBack'}, 864: {'Name': u'craftynannie'}, 865: {'Name': u'SELINCE'}, 866: {'Name': u'KsyuKnitting'}, 867: {'Name': u'Nellistyle'}, 868: {'Name': u'AWHatsandCrafts'}, 869: {'Name': u'chicksalejunior'}, 870: {'Name': u'KnitsAnKnats'}, 871: {'Name': u'OnGoodLuck'}, 872: {'Name': u'LittleKnitsStudio'}, 873: {'Name': u'knitonestitchtoo'}, 874: {'Name': u'Thingswelike2knit'}, 875: {'Name': u'cutiesvintageprettys'}, 876: {'Name': u'RosieSiouxCreations'}, 877: {'Name': u'DeemervilleGold'}, 878: {'Name': u'woolpleasure'}, 879: {'Name': u'HappyKnitandCrochet'}, 880: {'Name': u'Jessiescrochetcorner'}, 881: {'Name': u'MinniesFlea'}, 882: {'Name': u'KnitsByKB'}, 883: {'Name': u'Volang'}, 884: {'Name': u'Knitographer'}, 885: {'Name': u'SzczecinHandmadeTeam'}, 886: {'Name': u'Janeswhatnots'}, 887: {'Name': u'ColoradoChickCo'}, 888: {'Name': u'DobroBeat'}, 889: {'Name': u'KnittingByTatiana'}, 890: {'Name': u'susiedees'}, 891: {'Name': u'StarfrostHandicrafts'}, 892: {'Name': u'Tebessum'}, 893: {'Name': u'Easy123'}, 894: {'Name': u'PreciousBowtique'}, 895: {'Name': u'PatchAteSmudge'}, 896: {'Name': u'SewNewToMe'}, 897: {'Name': u'karensstitchnitch'}, 898: {'Name': u'BeautyKnitsShop'}, 899: {'Name': u'vellichor'}, 900: {'Name': u'TamsCraftyKnits'}, 901: {'Name': u'WildGreenBeauty'}, 902: {'Name': u'NaNaWoolDesign'}, 903: {'Name': u'KarunaHimalaya'}, 904: {'Name': u'PrettyLittleBabies'}, 905: {'Name': u'MrsMzSewingRoom'}, 906: {'Name': u'Ribbonandhairbows'}, 907: {'Name': u'giddy4paisley'}, 908: {'Name': u'VegaCreate'}, 909: {'Name': u'Justadaydream'}, 910: {'Name': u'mahatmascoat'}, 911: {'Name': u'megsknitshit'}, 912: {'Name': u'artesana'}, 913: {'Name': u'VirtuousDesign31'}, 914: {'Name': u'allearthlings'}, 915: {'Name': u'Degra2'}, 916: {'Name': u'CrazyButterflies'}, 917: {'Name': u'ThreeSmallWishes'}, 918: {'Name': u'Caitlinscozyknits'}, 919: {'Name': u'worldofknitting'}, 920: {'Name': u'WNBrunk'}, 921: {'Name': u'UniqueKnitDesign'}, 922: {'Name': u'TheCraftyRascal'}, 923: {'Name': u'Turtlehawk83'}, 924: {'Name': u'CreativeObsessionn'}, 925: {'Name': u'hnutsch'}, 926: {'Name': u'Ednascloset'}, 927: {'Name': u'debsatticfinds'}, 928: {'Name': u'Florfanka'}, 929: {'Name': u'foldi'}, 930: {'Name': u'PiecesBoutique'}, 931: {'Name': u'ClassySassyKnitz'}, 932: {'Name': u'WeThreePiggies'}, 933: {'Name': u'MariasNeedleArt'}, 934: {'Name': u'KanopaPatterns'}, 935: {'Name': u'TiffSitsandKnits'}, 936: {'Name': u'softnesslove'}, 937: {'Name': u'BigFirRidge'}, 938: {'Name': u'recombinantrider'}, 939: {'Name': u'MarryGKnitCrochet'}, 940: {'Name': u'EHM365'}, 941: {'Name': u'knithatsbyTom'}, 942: {'Name': u'RomeoRomeo'}, 943: {'Name': u'BeijingKC'}, 944: {'Name': u'kabotany'}, 945: {'Name': u'Scribegirlme'}, 946: {'Name': u'IvithjasCreations'}, 947: {'Name': u'ElleVintage369'}, 948: {'Name': u'ClosetbyFinn'}, 949: {'Name': u'beaniesbybubba'}, 950: {'Name': u'KnitzAndFeltz'}, 951: {'Name': u'Rebelamb'}, 952: {'Name': u'lilbowsandarrows'}, 953: {'Name': u'SoulTrail'}, 954: {'Name': u'RebeccasWool'}, 955: {'Name': u'spinningknitting1'}, 956: {'Name': u'fatjoeyknitwear'}, 957: {'Name': u'CHUNKYBULKYKNITS'}, 958: {'Name': u'NoraTones'}, 959: {'Name': u'slouchiehats'}, 960: {'Name': u'SusanDeanne'}, 961: {'Name': u'prettyoffensive'}, 962: {'Name': u'PandaLolipops'}, 963: {'Name': u'TheCraftapplePanda'}, 964: {'Name': u'Shoesandaccessories'}, 965: {'Name': u'Cocomillo'}, 966: {'Name': u'GrannieMadeGoods'}, 967: {'Name': u'CdCkDesign'}, 968: {'Name': u'DGDwithlove'}, 969: {'Name': u'MurfmadeKnits'}, 970: {'Name': u'SarBobsy'}, 971: {'Name': u'christnakosininski'}, 972: {'Name': u'bebebeecouture'}, 973: {'Name': u'GoldenPineAlpacas'}, 974: {'Name': u'BeyondTheDreamStudio'}, 975: {'Name': u'IngaDesignShop'}, 976: {'Name': u'knitsdwarfs'}, 977: {'Name': u'cosediisa'}, 978: {'Name': u'VintagePolkaShop'}, 979: {'Name': u'hannahleighknits'}, 980: {'Name': u'StraightenedArrow'}, 981: {'Name': u'SilverMapleKnits'}, 982: {'Name': u'CharlotteAuzou'}, 983: {'Name': u'snapincharms'}, 984: {'Name': u'HawthornStudio'}, 985: {'Name': u'SecondhandObsession'}, 986: {'Name': u'GMolly'}, 987: {'Name': u'CardinalLane'}, 988: {'Name': u'LydiasCreations101'}, 989: {'Name': u'OBJECTSofMATTER'}, 990: {'Name': u'AuntieMsCrafting'}, 991: {'Name': u'barreez'}, 992: {'Name': u'KraeO'}, 993: {'Name': u'GratitudeGiftsForAll'}, 994: {'Name': u'MagooandBaloo'}, 995: {'Name': u'StormyWeatherKnits'}, 996: {'Name': u'NevadaKnits'}, 997: {'Name': u'CreationsbyMaris'}, 998: {'Name': u'TwoOfWandsShop'}, 999: {'Name': u'BrownBagFarm'}, 1000: {'Name': u'EllaBabyBasket'}, 1001: {'Name': u'VintageNeedleArts'}, 1002: {'Name': u'KittyBritchesBoutiqu'}, 1003: {'Name': u'ColdSnapsKnits'}, 1004: {'Name': u'BabyBirdz'}, 1005: {'Name': u'Razels'}, 1006: {'Name': u'evaandjeandesigns'}, 1007: {'Name': u'InaTwistShop'}, 1008: {'Name': u'Handmadeitemsbyrosie'}, 1009: {'Name': u'Eastcraeft'}, 1010: {'Name': u'luludress'}, 1011: {'Name': u'KlotoCute'}, 1012: {'Name': u'baldyhillhomemade'}, 1013: {'Name': u'KnittyFashions'}, 1014: {'Name': u'OriginalKnitting'}, 1015: {'Name': u'CarameloBoutique'}, 1016: {'Name': u'CustomCuddlers'}, 1017: {'Name': u'garysangel'}, 1018: {'Name': u'ElliesTiaras'}, 1019: {'Name': u'AlaskanKnitGifts'}, 1020: {'Name': u'GiuliaKnit'}, 1021: {'Name': u'TurtleTreasures'}, 1022: {'Name': u'HandmadeByErinn'}, 1023: {'Name': u'PersonalizedKnits'}, 1024: {'Name': u'SundialArts'}, 1025: {'Name': u'nanascottagehouse'}, 1026: {'Name': u'ArielArtsKnits'}, 1027: {'Name': u'KnitAndCrochetDesign'}, 1028: {'Name': u'CrasiiCoco'}, 1029: {'Name': u'BuggyBooCrafts'}, 1030: {'Name': u'FashionShop19'}, 1031: {'Name': u'RiverStonesFiberArts'}, 1032: {'Name': u'ReignlandConcept'}, 1033: {'Name': u'SmallEarthVintage'}, 1034: {'Name': u'BabyBearInc'}, 1035: {'Name': u'HandmadebyPaulaMary'}, 1036: {'Name': u'TableTopJewels'}, 1037: {'Name': u'KnittedWinterHats'}, 1038: {'Name': u'itaveroknits'}, 1039: {'Name': u'VIRTTARHAR'}, 1040: {'Name': u'MaryAliceFeltLikeIt'}, 1041: {'Name': u'spiltmilkdesigns'}, 1042: {'Name': u'wincsike'}, 1043: {'Name': u'TheWoollyGarment'}, 1044: {'Name': u'VeryCarey'}, 1045: {'Name': u'BSKnitting'}, 1046: {'Name': u'ThePureNest'}, 1047: {'Name': u'IvannaN'}, 1048: {'Name': u'FancynCuteBoutique'}, 1049: {'Name': u'apricitystore'}, 1050: {'Name': u'Aerophane'}, 1051: {'Name': u'AnnaMariaLocke'}, 1052: {'Name': u'KLizVintage'}, 1053: {'Name': u'TulsaToys'}, 1054: {'Name': u'KNITLEBITS'}, 1055: {'Name': u'knitaccessoriesfadik'}, 1056: {'Name': u'SZVKNITS'}, 1057: {'Name': u'danielastange'}, 1058: {'Name': u'CraftyHomeandMore'}, 1059: {'Name': u'Knitrhapsody'}, 1060: {'Name': u'KnittingLand'}, 1061: {'Name': u'LadyJsHodgepodgery'}, 1062: {'Name': u'3colon7'}, 1063: {'Name': u'AllAboutStripes'}, 1064: {'Name': u'APlusJewelryCrafts'}, 1065: {'Name': u'SmallTownHandMade'}, 1066: {'Name': u'carolynscritter'}, 1067: {'Name': u'GranasCorner'}, 1068: {'Name': u'SimplyWestCoast'}, 1069: {'Name': u'MissLisBoutique'}, 1070: {'Name': u'UnlimitedCraftworks'}, 1071: {'Name': u'CozyKnitsByJeannie'}, 1072: {'Name': u'MariArtFelting'}, 1073: {'Name': u'FreshtoDeathVintage'}, 1074: {'Name': u'LongHaulAccessories'}, 1075: {'Name': u'maryscc'}, 1076: {'Name': u'GoCrochetCreations'}, 1077: {'Name': u'SylviDesigns'}, 1078: {'Name': u'SouthernMomCreations'}, 1079: {'Name': u'bigbangzero'}, 1080: {'Name': u'WinterWoollys'}, 1081: {'Name': u'PropsandPoses'}, 1082: {'Name': u'FortheQTs'}, 1083: {'Name': u'KeriJeanandCo'}, 1084: {'Name': u'HemsAndLocks'}, 1085: {'Name': u'HeartNSoleCreations'}, 1086: {'Name': u'ColorfulTrends'}, 1087: {'Name': u'pompomhats'}, 1088: {'Name': u'EclecticallyCampbell'}, 1089: {'Name': u'GoldenYarn'}, 1090: {'Name': u'BearsBlanketsQuilts'}, 1091: {'Name': u'YASEMINYASEMIN'}, 1092: {'Name': u'PIQI'}, 1093: {'Name': u'MariaVonPrague'}, 1094: {'Name': u'BorealisHandicrafts'}, 1095: {'Name': u'ifilicoloratidisara'}, 1096: {'Name': u'CDBStudio'}, 1097: {'Name': u'accessoriesbynez'}, 1098: {'Name': u'DawnLdesigns'}, 1099: {'Name': u'CarterPEACEworks'}, 1100: {'Name': u'KokomoLady'}, 1101: {'Name': u'VandOUA'}, 1102: {'Name': u'bb2213'}, 1103: {'Name': u'laceandcable'}, 1104: {'Name': u'EadoVintage'}, 1105: {'Name': u'JYCCreations'}, 1106: {'Name': u'ForTheGuys'}, 1107: {'Name': u'FairlyKnit'}, 1108: {'Name': u'AgneseKnits'}, 1109: {'Name': u'KnitzyBlonde'}, 1110: {'Name': u'BoryanacrochetBG'}, 1111: {'Name': u'Ricocoinc'}, 1112: {'Name': u'YouNeedMoreFiber'}, 1113: {'Name': u'LacysLittleAcre'}, 1114: {'Name': u'GataJewelry'}, 1115: {'Name': u'wearnative'}, 1116: {'Name': u'HollysAccessories'}, 1117: {'Name': u'KnottyOrNiceKnits'}, 1118: {'Name': u'MyBeautifulLifeShop'}, 1119: {'Name': u'TheYarnOverProject'}, 1120: {'Name': u'dirtybirdiesvintage'}, 1121: {'Name': u'YarnBarn305'}, 1122: {'Name': u'KatySueKnits'}, 1123: {'Name': u'9ElizabethStreet'}, 1124: {'Name': u'Iheartbeaniebabies'}, 1125: {'Name': u'RobinsNestBoutique'}, 1126: {'Name': u'PupaShop'}, 1127: {'Name': u'electricbunnycrafts'}, 1128: {'Name': u'Pikeys'}, 1129: {'Name': u'atiltKC'}, 1130: {'Name': u'artwardrobe'}, 1131: {'Name': u'ceibohandmade'}, 1132: {'Name': u'HobiholikFashion'}, 1133: {'Name': u'TheKnittedHat'}, 1134: {'Name': u'Cuteling'}, 1135: {'Name': u'EnchantedKnits'}, 1136: {'Name': u'ALLCAPSknithats'}, 1137: {'Name': u'FineHandMadeClothes'}, 1138: {'Name': u'ZAPrix'}, 1139: {'Name': u'caginas'}, 1140: {'Name': u'AntelopeFlats'}, 1141: {'Name': u'justalittleknitter'}, 1142: {'Name': u'GingerBearKnitwear'}, 1143: {'Name': u'PauliszkaKnits'}, 1144: {'Name': u'HandmadeByEvelien'}, 1145: {'Name': u'NewbornEwe'}, 1146: {'Name': u'Fanchi'}, 1147: {'Name': u'selfex'}, 1148: {'Name': u'NeckLyfe'}, 1149: {'Name': u'KnitStitchCross'}, 1150: {'Name': u'byMagic'}, 1151: {'Name': u'mioukids'}, 1152: {'Name': u'KatrinKnitting'}, 1153: {'Name': u'CrackedPistachios'}, 1154: {'Name': u'ScandinavianCrafts'}, 1155: {'Name': u'NorthStarrVintage'}, 1156: {'Name': u'GrannieKayGiftsCraft'}, 1157: {'Name': u'lienra'}, 1158: {'Name': u'LaReserveDesign'}, 1159: {'Name': u'GrandmaDragonsAttic'}, 1160: {'Name': u'KadyLadyLoo'}, 1161: {'Name': u'LavenderLassies'}, 1162: {'Name': u'MarikaHandKnits'}, 1163: {'Name': u'YarnsInMotion'}, 1164: {'Name': u'KnittingDailyShop'}, 1165: {'Name': u'KnitsbyVeronica'}, 1166: {'Name': u'HandmakeOrgUa'}, 1167: {'Name': u'irinacarmen'}, 1168: {'Name': u'homelab'}, 1169: {'Name': u'HandKnitByHanna'}, 1170: {'Name': u'TravelingCarousel'}, 1171: {'Name': u'SexyCrochetByOlga'}, 1172: {'Name': u'takemyinventory'}, 1173: {'Name': u'DonizBaby'}, 1174: {'Name': u'SimplyPlaying1'}, 1175: {'Name': u'WooolBaby'}, 1176: {'Name': u'MomentsInTwine'}, 1177: {'Name': u'AnjaClauberg'}, 1178: {'Name': u'BugEatersKnits'}, 1179: {'Name': u'AnnaleesAccents'}, 1180: {'Name': u'CutseyOnEtsy'}, 1181: {'Name': u'ImperialVintageBTQ'}, 1182: {'Name': u'LesleysHandknits'}, 1183: {'Name': u'ElenaLstudio'}, 1184: {'Name': u'AirbrushStuf'}, 1185: {'Name': u'LuzyFlor'}, 1186: {'Name': u'PETALKNITS'}, 1187: {'Name': u'quatresaison'}, 1188: {'Name': u'LittleBelleBelle'}, 1189: {'Name': u'kiFaitMain'}, 1190: {'Name': u'StyleandSalvage'}, 1191: {'Name': u'LoveFuzz'}, 1192: {'Name': u'kozikreation'}, 1193: {'Name': u'KnitteryRow'}, 1194: {'Name': u'AnEpicStitch'}, 1195: {'Name': u'DanaFunKnits'}, 1196: {'Name': u'MarvelousMittens'}, 1197: {'Name': u'LaimaShop'}, 1198: {'Name': u'TheKnotHaus'}, 1199: {'Name': u'CreatiKnit'}, 1200: {'Name': u'KemiCreations'}, 1201: {'Name': u'jiloona'}, 1202: {'Name': u'MinxVTG'}, 1203: {'Name': u'BebeOhLaLaEtsy'}, 1204: {'Name': u'RebeccasRoomKnitting'}, 1205: {'Name': u'TutisBoutique'}, 1206: {'Name': u'LeMarrakechStore'}, 1207: {'Name': u'GieseDeseiGns'}, 1208: {'Name': u'LidamseyKnits'}, 1209: {'Name': u'SharonsHomeSewn'}, 1210: {'Name': u'MarkaDecorFashion'}, 1211: {'Name': u'KnitandLoomstudio'}, 1212: {'Name': u'RubyHeartCrafts'}, 1213: {'Name': u'Nineteenzerosix'}, 1214: {'Name': u'Sister21'}, 1215: {'Name': u'beanieknitsnmore'}, 1216: {'Name': u'fone'}, 1217: {'Name': u'Bellaknitsandgiggles'}, 1218: {'Name': u'ohbAby1112'}, 1219: {'Name': u'topazpearls'}, 1220: {'Name': u'ogracec'}, 1221: {'Name': u'WoolFeltArt'}, 1222: {'Name': u'BeautifulSunrise'}, 1223: {'Name': u'TheRuffledbum'}, 1224: {'Name': u'SweetNancyVintage'}, 1225: {'Name': u'Handmadecrafter'}, 1226: {'Name': u'PeachBlossomHats'}, 1227: {'Name': u'kissproof'}, 1228: {'Name': u'Tuttolv'}, 1229: {'Name': u'upupstar'}, 1230: {'Name': u'mishsworld'}, 1231: {'Name': u'MindofMolly'}, 1232: {'Name': u'BlueStockinette'}, 1233: {'Name': u'FoxiesFancy'}, 1234: {'Name': u'socksandmittens'}, 1235: {'Name': u'TanglinKnots'}, 1236: {'Name': u'lemonsandcream'}, 1237: {'Name': u'scarfnurlu'}, 1238: {'Name': u'DonnasWhimsicals'}, 1239: {'Name': u'BlackRain4Handmade'}, 1240: {'Name': u'TheCraftinScot'}, 1241: {'Name': u'SnuggleMoose'}, 1242: {'Name': u'CoconutChic'}, 1243: {'Name': u'smartcrochet'}, 1244: {'Name': u'GusandRosieU'}, 1245: {'Name': u'twinkletoesmarket'}, 1246: {'Name': u'lillamormor'}, 1247: {'Name': u'PandorasBoxofKnits'}, 1248: {'Name': u'NSvintage'}, 1249: {'Name': u'KreationsByKirstenL'}, 1250: {'Name': u'BIRKENknits'}, 1251: {'Name': u'KALEIDOO'}, 1252: {'Name': u'FanmMon'}, 1253: {'Name': u'GiftsbyGenie'}, 1254: {'Name': u'SouthvilleSpitters'}, 1255: {'Name': u'QuietUnrest2'}, 1256: {'Name': u'NKnits4Baby'}, 1257: {'Name': u'LeNidDuMerleHandKnit'}, 1258: {'Name': u'earthandberries'}, 1259: {'Name': u'nutsaboutknitting'}, 1260: {'Name': u'LittleEvaDiva'}, 1261: {'Name': u'KnitsbyAriel'}, 1262: {'Name': u'EPSILONstudio'}, 1263: {'Name': u'ladouchka'}, 1264: {'Name': u'MeridianMade'}, 1265: {'Name': u'KayEmilyDesigns'}, 1266: {'Name': u'ThePurplePeaPod'}, 1267: {'Name': u'countrycuttins'}, 1268: {'Name': u'LovableProps'}, 1269: {'Name': u'freelotus3'}, 1270: {'Name': u'HELGASYARNDESIGNS'}, 1271: {'Name': u'thewoolypossum'}, 1272: {'Name': u'galafilc'}, 1273: {'Name': u'pinkcandystudio'}, 1274: {'Name': u'lucylev'}, 1275: {'Name': u'PhylPhil'}, 1276: {'Name': u'Gitasknitwear'}, 1277: {'Name': u'suznews'}, 1278: {'Name': u'InTheRedwoods'}, 1279: {'Name': u'FairyTaleNightmares'}, 1280: {'Name': u'cozyknitsforyou'}, 1281: {'Name': u'lartcraft'}, 1282: {'Name': u'IvetaStasiulioniene'}, 1283: {'Name': u'MinitaStudio'}, 1284: {'Name': u'KittlesKnits'}, 1285: {'Name': u'mkneedlework'}, 1286: {'Name': u'callmemimi'}, 1287: {'Name': u'JuliaHats'}, 1288: {'Name': u'JoAnnaSeiter'}, 1289: {'Name': u'ogood'}, 1290: {'Name': u'anodtomod'}, 1291: {'Name': u'KidsKnitHatsNCrafts'}, 1292: {'Name': u'Lanaterapia'}, 1293: {'Name': u'CozyPhotoProps'}, 1294: {'Name': u'ShopRainyDayCrafts'}, 1295: {'Name': u'MarkadecorPremium'}, 1296: {'Name': u'nerina52'}, 1297: {'Name': u'AnoushkaDesign'}, 1298: {'Name': u'elkasoftwear'}, 1299: {'Name': u'iHappyItems'}, 1300: {'Name': u'reflectionsbyds'}, 1301: {'Name': u'epiknitandcrochet'}, 1302: {'Name': u'FreeSpiritHats'}, 1303: {'Name': u'leafamore'}, 1304: {'Name': u'LibertyKnits'}, 1305: {'Name': u'GrannyPatternStore'}, 1306: {'Name': u'lanapara'}, 1307: {'Name': u'HeartsRunFree'}, 1308: {'Name': u'ZoZosAccessories'}, 1309: {'Name': u'Africancrab'}, 1310: {'Name': u'ThingyThingz'}, 1311: {'Name': u'handylittleme'}, 1312: {'Name': u'LittleOohLaLa'}, 1313: {'Name': u'fashioned4you'}, 1314: {'Name': u'Simplyimagineknit'}, 1315: {'Name': u'JillyMix'}, 1316: {'Name': u'IWENhats'}, 1317: {'Name': u'PetiteLeRu'}, 1318: {'Name': u'franticcrafter'}, 1319: {'Name': u'rocketclothing'}, 1320: {'Name': u'GloriousKnittingShop'}, 1321: {'Name': u'Rivelo'}, 1322: {'Name': u'LuVitaChic'}, 1323: {'Name': u'KarryDesigns'}, 1324: {'Name': u'KeepingKnitReal'}, 1325: {'Name': u'UNDIIN'}, 1326: {'Name': u'Jetonarme'}, 1327: {'Name': u'delectare'}, 1328: {'Name': u'HandKnitHandKnit'}, 1329: {'Name': u'InkaBoutique'}, 1330: {'Name': u'spinningsheep'}, 1331: {'Name': u'YarnGiftsHandmade'}, 1332: {'Name': u'ColourandCotton'}, 1333: {'Name': u'JustPatTreasuresshop'}, 1334: {'Name': u'dallynmade'}, 1335: {'Name': u'FairfaxDavis'}, 1336: {'Name': u'KnitleyRoad'}, 1337: {'Name': u'EntireLeighHandMade'}, 1338: {'Name': u'PoppyWind'}, 1339: {'Name': u'NesrinArt'}, 1340: {'Name': u'RoseKingsCreations'}, 1341: {'Name': u'mylittlecreations01'}, 1342: {'Name': u'HADASSAshop'}, 1343: {'Name': u'CablesandMore'}, 1344: {'Name': u'AnthropologieAngie'}, 1345: {'Name': u'GreenCanyonTradingCo'}, 1346: {'Name': u'JeannieGrayKnits'}, 1347: {'Name': u'TheKnittedArts'}, 1348: {'Name': u'StitchedLoveKnots'}, 1349: {'Name': u'HandMadeLana'}, 1350: {'Name': u'JennuinelyMadeCrafts'}, 1351: {'Name': u'anchorintime'}, 1352: {'Name': u'EMERENknitting'}, 1353: {'Name': u'RusticRootsFarm'}, 1354: {'Name': u'BrianaKcrochet'}, 1355: {'Name': u'CripKnits'}, 1356: {'Name': u'CherryCorners'}, 1357: {'Name': u'SuzanneSullivan'}, 1358: {'Name': u'jkdesignshop'}, 1359: {'Name': u'TheOldStillhouse'}, 1360: {'Name': u'HandmadeGiftsByNelly'}, 1361: {'Name': u'ceriscioc'}, 1362: {'Name': u'woolture'}, 1363: {'Name': u'MikyNewbornProps'}, 1364: {'Name': u'TheLittleHipsters'}, 1365: {'Name': u'MelodysMakings'}, 1366: {'Name': u'KarolinaDesigns'}, 1367: {'Name': u'TimelessMemoryPrints'}, 1368: {'Name': u'ShirleyKnits'}, 1369: {'Name': u'allbyInna'}, 1370: {'Name': u'AmandasKnitTreasures'}, 1371: {'Name': u'CHICaDees'}, 1372: {'Name': u'SueBeesShop'}, 1373: {'Name': u'FrenchSoulKnittery'}, 1374: {'Name': u'CozyCover'}, 1375: {'Name': u'2olddivas'}, 1376: {'Name': u'InnerGarden'}, 1377: {'Name': u'StrawberryHandicraft'}, 1378: {'Name': u'Klosetkrafter'}, 1379: {'Name': u'AllAboutKnit'}, 1380: {'Name': u'MorningGlorious'}, 1381: {'Name': u'debbyware'}, 1382: {'Name': u'JennaKaeKnitCrochet'}, 1383: {'Name': u'MihasKnittingShop'}, 1384: {'Name': u'NorthwestVintageCo'}, 1385: {'Name': u'evefashion'}, 1386: {'Name': u'RoklandeFashioShop'}, 1387: {'Name': u'StorylandVintage'}, 1388: {'Name': u'CraftsArtsMoreofPA'}, 1389: {'Name': u'GabrielleJustine'}, 1390: {'Name': u'GrannyKnowsBest'}, 1391: {'Name': u'DelicateDebuts'}, 1392: {'Name': u'ChiefNomad'}, 1393: {'Name': u'dagmarabuczek'}, 1394: {'Name': u'GoldenHandsDesign'}, 1395: {'Name': u'WestEndCo'}, 1396: {'Name': u'OffTheKHuff'}, 1397: {'Name': u'MagicalLandPhotoProp'}, 1398: {'Name': u'FloAtelier'}, 1399: {'Name': u'StorkandMe'}, 1400: {'Name': u'IdleHourCrafts'}, 1401: {'Name': u'Peachandkiwi'}, 1402: {'Name': u'RusticRoadBoutique'}, 1403: {'Name': u'teteormayka'}, 1404: {'Name': u'BotonDeFlor'}, 1405: {'Name': u'pkddod'}, 1406: {'Name': u'debsKidstuff'}, 1407: {'Name': u'BoutiqueDeMarcipan'}, 1408: {'Name': u'naryaboutique'}, 1409: {'Name': u'Knitrx'}, 1410: {'Name': u'knitix'}, 1411: {'Name': u'Periay'}, 1412: {'Name': u'corgipal'}, 1413: {'Name': u'FeltedFashion'}, 1414: {'Name': u'LintMonsterCreations'}, 1415: {'Name': u'dannilittle'}, 1416: {'Name': u'aviena'}, 1417: {'Name': u'ScarfLovers'}, 1418: {'Name': u'chloeheartsowls'}, 1419: {'Name': u'graceandoscar'}, 1420: {'Name': u'LuLusWoobies'}, 1421: {'Name': u'FruitofPhalanges'}, 1422: {'Name': u'FamilySpecialGifts'}, 1423: {'Name': u'Objeshop'}, 1424: {'Name': u'StarsWear'}, 1425: {'Name': u'moviestarjewelry'}, 1426: {'Name': u'OneOfAKindKid'}, 1427: {'Name': u'2Fun4Words'}, 1428: {'Name': u'LittleAngelTouch'}, 1429: {'Name': u'MadeByFrancy'}, 1430: {'Name': u'KnitBabyCouture'}, 1431: {'Name': u'KnottyKnitGoods'}, 1432: {'Name': u'KnitNKnots'}, 1433: {'Name': u'Blissfulinspiration1'}, 1434: {'Name': u'adornsnut'}, 1435: {'Name': u'BoldVictoryCrochet'}, 1436: {'Name': u'SownThreadsClothing'}, 1437: {'Name': u'brokemarys'}, 1438: {'Name': u'CreationsbyTiffyD'}, 1439: {'Name': u'ChloeAndEvie'}, 1440: {'Name': u'MeadowsTooMelmark'}, 1441: {'Name': u'willowsandwool'}, 1442: {'Name': u'NaRoKnit'}, 1443: {'Name': u'OurFarmstead'}, 1444: {'Name': u'CreationsJasmine'}, 1445: {'Name': u'ANNAandIRENE'}, 1446: {'Name': u'CozyLamb'}, 1447: {'Name': u'MilMon'}, 1448: {'Name': u'GrannyJack'}, 1449: {'Name': u'EWEniquelyKnit'}, 1450: {'Name': u'CCCrochets'}, 1451: {'Name': u'BreezyRidgeAlpacas'}, 1452: {'Name': u'LaribellaHAT'}, 1453: {'Name': u'BoutiqueDeElite'}, 1454: {'Name': u'KnitSimplicity'}, 1455: {'Name': u'TTCrochetStyle'}, 1456: {'Name': u'DinaStyleKnits'}, 1457: {'Name': u'febressfashion'}, 1458: {'Name': u'InspiracjeJolanty'}, 1459: {'Name': u'Oceanlvrcrafts'}, 1460: {'Name': u'LaurelandReeve'}, 1461: {'Name': u'Rarejewelry4You'}, 1462: {'Name': u'candlecane123'}, 1463: {'Name': u'ennadoolf'}, 1464: {'Name': u'HodgepodgeCreationz'}, 1465: {'Name': u'KnittingCarnival'}, 1466: {'Name': u'LazyTcrochet'}, 1467: {'Name': u'plphotoprops'}, 1468: {'Name': u'FogKnits'}, 1469: {'Name': u'MossieShop'}, 1470: {'Name': u'belzebul'}, 1471: {'Name': u'bySol'}, 1472: {'Name': u'Blackcatmeowknits'}, 1473: {'Name': u'ChickKnitbyKristie'}, 1474: {'Name': u'SwanJay'}, 1475: {'Name': u'GreenGypsyGoods'}, 1476: {'Name': u'2knit2purl'}, 1477: {'Name': u'KnitsDuNord'}, 1478: {'Name': u'Momtoast'}, 1479: {'Name': u'Junikid'}, 1480: {'Name': u'CharlotteCotBlankets'}, 1481: {'Name': u'mikmakwinkel'}, 1482: {'Name': u'Knit360five'}, 1483: {'Name': u'KnittingStory'}, 1484: {'Name': u'BocajandCo'}, 1485: {'Name': u'RockabillyButtercup'}, 1486: {'Name': u'elanknits'}, 1487: {'Name': u'yarningsbyseanna'}, 1488: {'Name': u'FargoCoreCon'}, 1489: {'Name': u'LaVintageByMissPJ55'}, 1490: {'Name': u'Muza'}, 1491: {'Name': u'HEIRLOOMMIX'}, 1492: {'Name': u'ManonKnitting'}, 1493: {'Name': u'sylviaslace'}, 1494: {'Name': u'HappyHappyKnitty'}, 1495: {'Name': u'KnitaFrolic'}, 1496: {'Name': u'ThatsSewJudy'}, 1497: {'Name': u'THEWANTEDSHEEP'}, 1498: {'Name': u'MADEVALINEN'}, 1499: {'Name': u'countrygarden77'}, 1500: {'Name': u'formalhouse'}, 1501: {'Name': u'CatPurrKnitting'}, 1502: {'Name': u'Lottelovelybunny'}, 1503: {'Name': u'RuffleMania'}, 1504: {'Name': u'Teddyhug'}, 1505: {'Name': u'GrammasKnittedGifts'}, 1506: {'Name': u'HEraMade'}, 1507: {'Name': u'HappyChoiceKnits'}, 1508: {'Name': u'MomohanaKobo'}, 1509: {'Name': u'TheDancingKnittress'}, 1510: {'Name': u'MamasTeddyBear'}, 1511: {'Name': u'MissMaysMomsKnits'}, 1512: {'Name': u'TheDelightfulDay'}, 1513: {'Name': u'lovemyknits'}, 1514: {'Name': u'CherryDollyFace'}, 1515: {'Name': u'FaunaKnits'}, 1516: {'Name': u'NeedANeedle'}, 1517: {'Name': u'SellingWarmth'}, 1518: {'Name': u'Madfindz'}, 1519: {'Name': u'BonniesCinematheque'}, 1520: {'Name': u'cherryREVOLVER'}, 1521: {'Name': u'WarmGiftsForYou'}, 1522: {'Name': u'AfonsoWay'}, 1523: {'Name': u'Letricott'}, 1524: {'Name': u'IsolaHandmade'}, 1525: {'Name': u'GrammysCustomCrochet'}, 1526: {'Name': u'Knits4Noggins'}, 1527: {'Name': u'WoolenViolet'}, 1528: {'Name': u'KnitsWithLoveByKP'}, 1529: {'Name': u'KnotEnufKnitting'}, 1530: {'Name': u'VirgoArt'}, 1531: {'Name': u'DiVerseBlessings'}}\n",
        "MyKnitCroch\n",
        "viafashion"
       ]
      },
      {
       "output_type": "stream",
       "stream": "stdout",
       "text": [
        "\n",
        "Puik"
       ]
      },
      {
       "output_type": "stream",
       "stream": "stdout",
       "text": [
        "\n",
        "SandyCoastalDesigns"
       ]
      },
      {
       "output_type": "stream",
       "stream": "stdout",
       "text": [
        "\n",
        "MaxMelody"
       ]
      },
      {
       "output_type": "stream",
       "stream": "stdout",
       "text": [
        "\n",
        "knittingtreasures"
       ]
      },
      {
       "output_type": "stream",
       "stream": "stdout",
       "text": [
        "\n",
        "SunshineBabyProps"
       ]
      },
      {
       "output_type": "stream",
       "stream": "stdout",
       "text": [
        "\n",
        "accessoriesbyrita"
       ]
      },
      {
       "output_type": "stream",
       "stream": "stdout",
       "text": [
        "\n",
        "Ebruk"
       ]
      },
      {
       "output_type": "stream",
       "stream": "stdout",
       "text": [
        "\n",
        "pixiebell"
       ]
      },
      {
       "output_type": "stream",
       "stream": "stdout",
       "text": [
        "\n",
        "effybags"
       ]
      },
      {
       "output_type": "stream",
       "stream": "stdout",
       "text": [
        "\n",
        "SENNURSASA"
       ]
      },
      {
       "output_type": "stream",
       "stream": "stdout",
       "text": [
        "\n",
        "ileaiye"
       ]
      },
      {
       "output_type": "stream",
       "stream": "stdout",
       "text": [
        "\n",
        "StripesnCables"
       ]
      },
      {
       "output_type": "stream",
       "stream": "stdout",
       "text": [
        "\n",
        "zukas"
       ]
      },
      {
       "output_type": "stream",
       "stream": "stdout",
       "text": [
        "\n",
        "LurayKnitwear"
       ]
      },
      {
       "output_type": "stream",
       "stream": "stdout",
       "text": [
        "\n",
        "TheMadRabbitShoppe"
       ]
      },
      {
       "output_type": "stream",
       "stream": "stdout",
       "text": [
        "\n",
        "HatsByHollyJoy"
       ]
      },
      {
       "output_type": "stream",
       "stream": "stdout",
       "text": [
        "\n",
        "PrettyBagsByMia"
       ]
      },
      {
       "output_type": "stream",
       "stream": "stdout",
       "text": [
        "\n",
        "LoopsAndLines"
       ]
      },
      {
       "output_type": "stream",
       "stream": "stdout",
       "text": [
        "\n",
        "LudMilaBoutique"
       ]
      },
      {
       "output_type": "stream",
       "stream": "stdout",
       "text": [
        "\n",
        "Ifonka"
       ]
      },
      {
       "output_type": "stream",
       "stream": "stdout",
       "text": [
        "\n",
        "Regathered"
       ]
      },
      {
       "output_type": "stream",
       "stream": "stdout",
       "text": [
        "\n",
        "PoshKiddosapparel"
       ]
      },
      {
       "output_type": "stream",
       "stream": "stdout",
       "text": [
        "\n",
        "BouquetSpecialDesign"
       ]
      },
      {
       "output_type": "stream",
       "stream": "stdout",
       "text": [
        "\n",
        "ShopLuluandRoo"
       ]
      },
      {
       "output_type": "stream",
       "stream": "stdout",
       "text": [
        "\n",
        "HootersHall"
       ]
      },
      {
       "output_type": "stream",
       "stream": "stdout",
       "text": [
        "\n",
        "SoftyWooly"
       ]
      },
      {
       "output_type": "stream",
       "stream": "stdout",
       "text": [
        "\n",
        "myfashioncreations"
       ]
      },
      {
       "output_type": "stream",
       "stream": "stdout",
       "text": [
        "\n",
        "DollphinShowRoom"
       ]
      },
      {
       "output_type": "stream",
       "stream": "stdout",
       "text": [
        "\n",
        "WoollywonderKnits"
       ]
      },
      {
       "output_type": "stream",
       "stream": "stdout",
       "text": [
        "\n",
        "IfonBabyLand"
       ]
      },
      {
       "output_type": "stream",
       "stream": "stdout",
       "text": [
        "\n",
        "PracticalArtByLaura"
       ]
      },
      {
       "output_type": "stream",
       "stream": "stdout",
       "text": [
        "\n",
        "ReinetteClothing"
       ]
      },
      {
       "output_type": "stream",
       "stream": "stdout",
       "text": [
        "\n",
        "strawberrycouture"
       ]
      },
      {
       "output_type": "stream",
       "stream": "stdout",
       "text": [
        "\n",
        "SlouchyBeanie"
       ]
      },
      {
       "output_type": "stream",
       "stream": "stdout",
       "text": [
        "\n",
        "SmallandLovely"
       ]
      },
      {
       "output_type": "stream",
       "stream": "stdout",
       "text": [
        "\n",
        "UpNorthKnits"
       ]
      },
      {
       "output_type": "stream",
       "stream": "stdout",
       "text": [
        "\n",
        "BaByPrOdUcTsByGaLiNa"
       ]
      },
      {
       "output_type": "stream",
       "stream": "stdout",
       "text": [
        "\n",
        "natalya1905"
       ]
      },
      {
       "output_type": "stream",
       "stream": "stdout",
       "text": [
        "\n",
        "Sawu"
       ]
      },
      {
       "output_type": "stream",
       "stream": "stdout",
       "text": [
        "\n",
        "designbcb"
       ]
      },
      {
       "output_type": "stream",
       "stream": "stdout",
       "text": [
        "\n",
        "lanadearg"
       ]
      },
      {
       "output_type": "stream",
       "stream": "stdout",
       "text": [
        "\n",
        "KnitAndCrochetLAND"
       ]
      },
      {
       "output_type": "stream",
       "stream": "stdout",
       "text": [
        "\n",
        "LoonMtEmbroidnCrafts"
       ]
      },
      {
       "output_type": "stream",
       "stream": "stdout",
       "text": [
        "\n",
        "earflaphats"
       ]
      },
      {
       "output_type": "stream",
       "stream": "stdout",
       "text": [
        "\n",
        "PandoraSpocks"
       ]
      },
      {
       "output_type": "stream",
       "stream": "stdout",
       "text": [
        "\n",
        "LovetoKnitHats"
       ]
      },
      {
       "output_type": "stream",
       "stream": "stdout",
       "text": [
        "\n",
        "IrmianDesign"
       ]
      },
      {
       "output_type": "stream",
       "stream": "stdout",
       "text": [
        "\n",
        "3sistersscarfcompany"
       ]
      },
      {
       "output_type": "stream",
       "stream": "stdout",
       "text": [
        "\n",
        "SoftKnitDreams"
       ]
      },
      {
       "output_type": "stream",
       "stream": "stdout",
       "text": [
        "\n",
        "Vacationhouse"
       ]
      },
      {
       "output_type": "stream",
       "stream": "stdout",
       "text": [
        "\n",
        "lajumpinbean"
       ]
      },
      {
       "output_type": "stream",
       "stream": "stdout",
       "text": [
        "\n",
        "FarrellFibers"
       ]
      },
      {
       "output_type": "stream",
       "stream": "stdout",
       "text": [
        "\n",
        "JolantaKnit"
       ]
      },
      {
       "output_type": "stream",
       "stream": "stdout",
       "text": [
        "\n",
        "PIYOYO"
       ]
      },
      {
       "output_type": "stream",
       "stream": "stdout",
       "text": [
        "\n",
        "hilaryfrazier"
       ]
      },
      {
       "output_type": "stream",
       "stream": "stdout",
       "text": [
        "\n",
        "MyCrochetDesign"
       ]
      },
      {
       "output_type": "stream",
       "stream": "stdout",
       "text": [
        "\n",
        "Scarf4you"
       ]
      },
      {
       "output_type": "stream",
       "stream": "stdout",
       "text": [
        "\n",
        "BlablaBlythe"
       ]
      },
      {
       "output_type": "stream",
       "stream": "stdout",
       "text": [
        "\n",
        "BoPeepsBonnets"
       ]
      },
      {
       "output_type": "stream",
       "stream": "stdout",
       "text": [
        "\n",
        "WodCreate"
       ]
      },
      {
       "output_type": "stream",
       "stream": "stdout",
       "text": [
        "\n",
        "naptimedesigners"
       ]
      },
      {
       "output_type": "stream",
       "stream": "stdout",
       "text": [
        "\n",
        "Thonetmania"
       ]
      },
      {
       "output_type": "stream",
       "stream": "stdout",
       "text": [
        "\n",
        "tailorguy"
       ]
      },
      {
       "output_type": "stream",
       "stream": "stdout",
       "text": [
        "\n",
        "OffTheHookHats"
       ]
      },
      {
       "output_type": "stream",
       "stream": "stdout",
       "text": [
        "\n",
        "lililio"
       ]
      },
      {
       "output_type": "stream",
       "stream": "stdout",
       "text": [
        "\n",
        "LittleAsAccessories"
       ]
      },
      {
       "output_type": "stream",
       "stream": "stdout",
       "text": [
        "\n",
        "KadensCloset"
       ]
      },
      {
       "output_type": "stream",
       "stream": "stdout",
       "text": [
        "\n",
        "CottonPickings"
       ]
      },
      {
       "output_type": "stream",
       "stream": "stdout",
       "text": [
        "\n",
        "Knitzbybeansknots"
       ]
      },
      {
       "output_type": "stream",
       "stream": "stdout",
       "text": [
        "\n",
        "EllenaKnits"
       ]
      },
      {
       "output_type": "stream",
       "stream": "stdout",
       "text": [
        "\n",
        "PlukeShop"
       ]
      },
      {
       "output_type": "stream",
       "stream": "stdout",
       "text": [
        "\n",
        "MatanteGe"
       ]
      },
      {
       "output_type": "stream",
       "stream": "stdout",
       "text": [
        "\n",
        "CableMeCozy"
       ]
      },
      {
       "output_type": "stream",
       "stream": "stdout",
       "text": [
        "\n",
        "SueMaun"
       ]
      },
      {
       "output_type": "stream",
       "stream": "stdout",
       "text": [
        "\n",
        "WonderWoollens"
       ]
      },
      {
       "output_type": "stream",
       "stream": "stdout",
       "text": [
        "\n",
        "TaniaHand"
       ]
      },
      {
       "output_type": "stream",
       "stream": "stdout",
       "text": [
        "\n",
        "ThingsKnit"
       ]
      },
      {
       "output_type": "stream",
       "stream": "stdout",
       "text": [
        "\n",
        "KnitsandGiggles970"
       ]
      },
      {
       "output_type": "stream",
       "stream": "stdout",
       "text": [
        "\n",
        "DetroitWoolyLab"
       ]
      },
      {
       "output_type": "stream",
       "stream": "stdout",
       "text": [
        "\n",
        "PeonyKnits"
       ]
      },
      {
       "output_type": "stream",
       "stream": "stdout",
       "text": [
        "\n",
        "dreahsdesigns"
       ]
      },
      {
       "output_type": "stream",
       "stream": "stdout",
       "text": [
        "\n",
        "HelloDollyDesigns"
       ]
      },
      {
       "output_type": "stream",
       "stream": "stdout",
       "text": [
        "\n",
        "Knittingchop"
       ]
      },
      {
       "output_type": "stream",
       "stream": "stdout",
       "text": [
        "\n",
        "Bohoinfinity"
       ]
      },
      {
       "output_type": "stream",
       "stream": "stdout",
       "text": [
        "\n",
        "JandEdoodles"
       ]
      },
      {
       "output_type": "stream",
       "stream": "stdout",
       "text": [
        "\n",
        "mynoush"
       ]
      },
      {
       "output_type": "stream",
       "stream": "stdout",
       "text": [
        "\n",
        "HandyHatsandThings"
       ]
      },
      {
       "output_type": "stream",
       "stream": "stdout",
       "text": [
        "\n",
        "beatknits"
       ]
      },
      {
       "output_type": "stream",
       "stream": "stdout",
       "text": [
        "\n",
        "vintageknitcrochet"
       ]
      },
      {
       "output_type": "stream",
       "stream": "stdout",
       "text": [
        "\n",
        "NataNatastudio"
       ]
      },
      {
       "output_type": "stream",
       "stream": "stdout",
       "text": [
        "\n",
        "ShopLaLune"
       ]
      },
      {
       "output_type": "stream",
       "stream": "stdout",
       "text": [
        "\n",
        "smittenwithknitn"
       ]
      },
      {
       "output_type": "stream",
       "stream": "stdout",
       "text": [
        "\n",
        "Ritaknitsall"
       ]
      },
      {
       "output_type": "stream",
       "stream": "stdout",
       "text": [
        "\n",
        "JanJanCreations"
       ]
      },
      {
       "output_type": "stream",
       "stream": "stdout",
       "text": [
        "\n",
        "FiddlestyxStudios"
       ]
      },
      {
       "output_type": "stream",
       "stream": "stdout",
       "text": [
        "\n",
        "TreMelarance"
       ]
      },
      {
       "output_type": "stream",
       "stream": "stdout",
       "text": [
        "\n",
        "ShansKnits"
       ]
      },
      {
       "output_type": "stream",
       "stream": "stdout",
       "text": [
        "\n",
        "MabelMadeThis"
       ]
      },
      {
       "output_type": "stream",
       "stream": "stdout",
       "text": [
        "\n",
        "RelovedFabrics"
       ]
      },
      {
       "output_type": "stream",
       "stream": "stdout",
       "text": [
        "\n",
        "Cvetinka"
       ]
      },
      {
       "output_type": "stream",
       "stream": "stdout",
       "text": [
        "\n",
        "DickensKnits"
       ]
      },
      {
       "output_type": "stream",
       "stream": "stdout",
       "text": [
        "\n",
        "AnytimeScarf"
       ]
      },
      {
       "output_type": "stream",
       "stream": "stdout",
       "text": [
        "\n",
        "Powerbrand"
       ]
      },
      {
       "output_type": "stream",
       "stream": "stdout",
       "text": [
        "\n",
        "KnitSew4U"
       ]
      },
      {
       "output_type": "stream",
       "stream": "stdout",
       "text": [
        "\n",
        "rubywebbs"
       ]
      },
      {
       "output_type": "stream",
       "stream": "stdout",
       "text": [
        "\n",
        "LJaccessories"
       ]
      },
      {
       "output_type": "stream",
       "stream": "stdout",
       "text": [
        "\n",
        "HippityHoppityHats"
       ]
      },
      {
       "output_type": "stream",
       "stream": "stdout",
       "text": [
        "\n",
        "foreverandrea"
       ]
      },
      {
       "output_type": "stream",
       "stream": "stdout",
       "text": [
        "\n",
        "HandWovenPeru"
       ]
      },
      {
       "output_type": "stream",
       "stream": "stdout",
       "text": [
        "\n",
        "SimplyLife888"
       ]
      },
      {
       "output_type": "stream",
       "stream": "stdout",
       "text": [
        "\n",
        "BabiesRepublic"
       ]
      },
      {
       "output_type": "stream",
       "stream": "stdout",
       "text": [
        "\n",
        "DesignByEJ"
       ]
      },
      {
       "output_type": "stream",
       "stream": "stdout",
       "text": [
        "\n",
        "TheMastHatter"
       ]
      },
      {
       "output_type": "stream",
       "stream": "stdout",
       "text": [
        "\n",
        "CTDESIGNSBESPOKEBAGS"
       ]
      },
      {
       "output_type": "stream",
       "stream": "stdout",
       "text": [
        "\n",
        "Fernandfeatherknits"
       ]
      },
      {
       "output_type": "stream",
       "stream": "stdout",
       "text": [
        "\n",
        "MarmaladesYarn"
       ]
      },
      {
       "output_type": "stream",
       "stream": "stdout",
       "text": [
        "\n",
        "LaBottegaDiViviana"
       ]
      },
      {
       "output_type": "stream",
       "stream": "stdout",
       "text": [
        "\n",
        "LeLeni"
       ]
      },
      {
       "output_type": "stream",
       "stream": "stdout",
       "text": [
        "\n",
        "WaterInMyPaint"
       ]
      },
      {
       "output_type": "stream",
       "stream": "stdout",
       "text": [
        "\n",
        "BlossomsByJuneLynn"
       ]
      },
      {
       "output_type": "stream",
       "stream": "stdout",
       "text": [
        "\n",
        "SourpussKnits"
       ]
      },
      {
       "output_type": "stream",
       "stream": "stdout",
       "text": [
        "\n",
        "TerryGraziano"
       ]
      },
      {
       "output_type": "stream",
       "stream": "stdout",
       "text": [
        "\n",
        "CreationsTricotine"
       ]
      },
      {
       "output_type": "stream",
       "stream": "stdout",
       "text": [
        "\n",
        "AshleyLillisHandmade"
       ]
      },
      {
       "output_type": "stream",
       "stream": "stdout",
       "text": [
        "\n",
        "ThatGirlKnitz"
       ]
      },
      {
       "output_type": "stream",
       "stream": "stdout",
       "text": [
        "\n",
        "bromefields"
       ]
      },
      {
       "output_type": "stream",
       "stream": "stdout",
       "text": [
        "\n",
        "GoKnitsDotCom"
       ]
      },
      {
       "output_type": "stream",
       "stream": "stdout",
       "text": [
        "\n",
        "HaKaMaDi4"
       ]
      },
      {
       "output_type": "stream",
       "stream": "stdout",
       "text": [
        "\n",
        "ToryMakes"
       ]
      },
      {
       "output_type": "stream",
       "stream": "stdout",
       "text": [
        "\n",
        "looptolooptoloop"
       ]
      },
      {
       "output_type": "stream",
       "stream": "stdout",
       "text": [
        "\n",
        "PoshPatterns"
       ]
      },
      {
       "output_type": "stream",
       "stream": "stdout",
       "text": [
        "\n",
        "selmahandcraft"
       ]
      },
      {
       "output_type": "stream",
       "stream": "stdout",
       "text": [
        "\n",
        "FromPurlsToPearls"
       ]
      },
      {
       "output_type": "stream",
       "stream": "stdout",
       "text": [
        "\n",
        "sweetKM"
       ]
      },
      {
       "output_type": "stream",
       "stream": "stdout",
       "text": [
        "\n",
        "TikiFiberCrafts"
       ]
      },
      {
       "output_type": "stream",
       "stream": "stdout",
       "text": [
        "\n",
        "MarysKnits"
       ]
      },
      {
       "output_type": "stream",
       "stream": "stdout",
       "text": [
        "\n",
        "CappelliHats"
       ]
      },
      {
       "output_type": "stream",
       "stream": "stdout",
       "text": [
        "\n",
        "Magicdoll"
       ]
      },
      {
       "output_type": "stream",
       "stream": "stdout",
       "text": [
        "\n",
        "ZucchiniIslandKnits"
       ]
      },
      {
       "output_type": "stream",
       "stream": "stdout",
       "text": [
        "\n",
        "WinterWhiteKnits"
       ]
      },
      {
       "output_type": "stream",
       "stream": "stdout",
       "text": [
        "\n",
        "NchantedGifts"
       ]
      },
      {
       "output_type": "stream",
       "stream": "stdout",
       "text": [
        "\n",
        "PhiloneusDesigns"
       ]
      },
      {
       "output_type": "stream",
       "stream": "stdout",
       "text": [
        "\n",
        "PacaPooFarms"
       ]
      },
      {
       "output_type": "stream",
       "stream": "stdout",
       "text": [
        "\n",
        "AMarieKnits"
       ]
      },
      {
       "output_type": "stream",
       "stream": "stdout",
       "text": [
        "\n",
        "abrahamssonco"
       ]
      },
      {
       "output_type": "stream",
       "stream": "stdout",
       "text": [
        "\n",
        "TARSTITCH"
       ]
      },
      {
       "output_type": "stream",
       "stream": "stdout",
       "text": [
        "\n",
        "Merrieknit"
       ]
      },
      {
       "output_type": "stream",
       "stream": "stdout",
       "text": [
        "\n",
        "NesyBaby"
       ]
      },
      {
       "output_type": "stream",
       "stream": "stdout",
       "text": [
        "\n",
        "OhmayDIY"
       ]
      },
      {
       "output_type": "stream",
       "stream": "stdout",
       "text": [
        "\n",
        "azuremiles"
       ]
      },
      {
       "output_type": "stream",
       "stream": "stdout",
       "text": [
        "\n",
        "ThreeBirdNest"
       ]
      },
      {
       "output_type": "stream",
       "stream": "stdout",
       "text": [
        "\n",
        "MimozaLuxury"
       ]
      },
      {
       "output_type": "stream",
       "stream": "stdout",
       "text": [
        "\n",
        "SabiynaHandKnits"
       ]
      },
      {
       "output_type": "stream",
       "stream": "stdout",
       "text": [
        "\n",
        "RosePetalCollections"
       ]
      },
      {
       "output_type": "stream",
       "stream": "stdout",
       "text": [
        "\n",
        "BexterDesigns"
       ]
      },
      {
       "output_type": "stream",
       "stream": "stdout",
       "text": [
        "\n",
        "funkomavintage"
       ]
      },
      {
       "output_type": "stream",
       "stream": "stdout",
       "text": [
        "\n",
        "LalaAndMeShop"
       ]
      },
      {
       "output_type": "stream",
       "stream": "stdout",
       "text": [
        "\n",
        "KnitsForLife"
       ]
      },
      {
       "output_type": "stream",
       "stream": "stdout",
       "text": [
        "\n",
        "KnittingOleBag"
       ]
      },
      {
       "output_type": "stream",
       "stream": "stdout",
       "text": [
        "\n",
        "TwoLittleAngels1"
       ]
      },
      {
       "output_type": "stream",
       "stream": "stdout",
       "text": [
        "\n",
        "CreationsbyNavari"
       ]
      },
      {
       "output_type": "stream",
       "stream": "stdout",
       "text": [
        "\n",
        "GreenCatStudio"
       ]
      },
      {
       "output_type": "stream",
       "stream": "stdout",
       "text": [
        "\n",
        "MellyJoCo"
       ]
      },
      {
       "output_type": "stream",
       "stream": "stdout",
       "text": [
        "\n",
        "sweetygreetings"
       ]
      },
      {
       "output_type": "stream",
       "stream": "stdout",
       "text": [
        "\n",
        "KnitJustForYou"
       ]
      },
      {
       "output_type": "stream",
       "stream": "stdout",
       "text": [
        "\n",
        "yarnworksandmore"
       ]
      },
      {
       "output_type": "stream",
       "stream": "stdout",
       "text": [
        "\n",
        "MoonKnitNight"
       ]
      },
      {
       "output_type": "stream",
       "stream": "stdout",
       "text": [
        "\n",
        "CattsHouse"
       ]
      },
      {
       "output_type": "stream",
       "stream": "stdout",
       "text": [
        "\n",
        "AdrisLittleCuties"
       ]
      },
      {
       "output_type": "stream",
       "stream": "stdout",
       "text": [
        "\n",
        "dreamdoghandmade"
       ]
      },
      {
       "output_type": "stream",
       "stream": "stdout",
       "text": [
        "\n",
        "AGuyWithTwoNeedles"
       ]
      },
      {
       "output_type": "stream",
       "stream": "stdout",
       "text": [
        "\n",
        "StripyKite"
       ]
      },
      {
       "output_type": "stream",
       "stream": "stdout",
       "text": [
        "\n",
        "AuntieBsMemories"
       ]
      },
      {
       "output_type": "stream",
       "stream": "stdout",
       "text": [
        "\n",
        "lauraprilltoo"
       ]
      },
      {
       "output_type": "stream",
       "stream": "stdout",
       "text": [
        "\n",
        "knoodleknits"
       ]
      },
      {
       "output_type": "stream",
       "stream": "stdout",
       "text": [
        "\n",
        "PeachPoshPolkadots"
       ]
      },
      {
       "output_type": "stream",
       "stream": "stdout",
       "text": [
        "\n",
        "BirdiesLab"
       ]
      },
      {
       "output_type": "stream",
       "stream": "stdout",
       "text": [
        "\n",
        "Terottka"
       ]
      },
      {
       "output_type": "stream",
       "stream": "stdout",
       "text": [
        "\n",
        "JennysKnitCo"
       ]
      },
      {
       "output_type": "stream",
       "stream": "stdout",
       "text": [
        "\n",
        "dahliasoleil"
       ]
      },
      {
       "output_type": "stream",
       "stream": "stdout",
       "text": [
        "\n",
        "WomanOnTheWater"
       ]
      },
      {
       "output_type": "stream",
       "stream": "stdout",
       "text": [
        "\n",
        "CLCouture"
       ]
      },
      {
       "output_type": "stream",
       "stream": "stdout",
       "text": [
        "\n",
        "AccessoriesByKelli"
       ]
      },
      {
       "output_type": "stream",
       "stream": "stdout",
       "text": [
        "\n",
        "KnitsByNat"
       ]
      },
      {
       "output_type": "stream",
       "stream": "stdout",
       "text": [
        "\n",
        "MimiMustKnit"
       ]
      },
      {
       "output_type": "stream",
       "stream": "stdout",
       "text": [
        "\n",
        "NudiKnits"
       ]
      },
      {
       "output_type": "stream",
       "stream": "stdout",
       "text": [
        "\n",
        "westlakedesigns"
       ]
      },
      {
       "output_type": "stream",
       "stream": "stdout",
       "text": [
        "\n",
        "SnazzySportsCo"
       ]
      },
      {
       "output_type": "stream",
       "stream": "stdout",
       "text": [
        "\n",
        "AngisWollBobbl"
       ]
      },
      {
       "output_type": "stream",
       "stream": "stdout",
       "text": [
        "\n",
        "LiveLace"
       ]
      },
      {
       "output_type": "stream",
       "stream": "stdout",
       "text": [
        "\n",
        "JeanieBeanHandKnits"
       ]
      },
      {
       "output_type": "stream",
       "stream": "stdout",
       "text": [
        "\n",
        "NorthCountryExposure"
       ]
      },
      {
       "output_type": "stream",
       "stream": "stdout",
       "text": [
        "\n",
        "CharlesIsabella"
       ]
      },
      {
       "output_type": "stream",
       "stream": "stdout",
       "text": [
        "\n",
        "HandicraftByDamla"
       ]
      },
      {
       "output_type": "stream",
       "stream": "stdout",
       "text": [
        "\n",
        "TriStarDesign"
       ]
      },
      {
       "output_type": "stream",
       "stream": "stdout",
       "text": [
        "\n",
        "JanineBasil"
       ]
      },
      {
       "output_type": "stream",
       "stream": "stdout",
       "text": [
        "\n",
        "AylasBeeniesgreenbay"
       ]
      },
      {
       "output_type": "stream",
       "stream": "stdout",
       "text": [
        "\n",
        "bootcuffsandsocks"
       ]
      },
      {
       "output_type": "stream",
       "stream": "stdout",
       "text": [
        "\n",
        "VillaYarnDesigns"
       ]
      },
      {
       "output_type": "stream",
       "stream": "stdout",
       "text": [
        "\n",
        "DishclothDivaKnitsOn"
       ]
      },
      {
       "output_type": "stream",
       "stream": "stdout",
       "text": [
        "\n",
        "HatParadise"
       ]
      },
      {
       "output_type": "stream",
       "stream": "stdout",
       "text": [
        "\n",
        "Savvyskeins"
       ]
      },
      {
       "output_type": "stream",
       "stream": "stdout",
       "text": [
        "\n",
        "ThePaisleyCarrot"
       ]
      },
      {
       "output_type": "stream",
       "stream": "stdout",
       "text": [
        "\n",
        "mybabyhats"
       ]
      },
      {
       "output_type": "stream",
       "stream": "stdout",
       "text": [
        "\n",
        "ChandraQuiltnCrafts"
       ]
      },
      {
       "output_type": "stream",
       "stream": "stdout",
       "text": [
        "\n",
        "PlatoSquirrel"
       ]
      },
      {
       "output_type": "stream",
       "stream": "stdout",
       "text": [
        "\n",
        "swaddlemesnugly"
       ]
      },
      {
       "output_type": "stream",
       "stream": "stdout",
       "text": [
        "\n",
        "AnotherKP"
       ]
      },
      {
       "output_type": "stream",
       "stream": "stdout",
       "text": [
        "\n",
        "JuniperandGinger"
       ]
      },
      {
       "output_type": "stream",
       "stream": "stdout",
       "text": [
        "\n",
        "HatCharacters"
       ]
      },
      {
       "output_type": "stream",
       "stream": "stdout",
       "text": [
        "\n",
        "PaulaBPires"
       ]
      },
      {
       "output_type": "stream",
       "stream": "stdout",
       "text": [
        "\n",
        "sewsassybootique"
       ]
      },
      {
       "output_type": "stream",
       "stream": "stdout",
       "text": [
        "\n",
        "ETaylorDesigns"
       ]
      },
      {
       "output_type": "stream",
       "stream": "stdout",
       "text": [
        "\n",
        "iGrowYarn"
       ]
      },
      {
       "output_type": "stream",
       "stream": "stdout",
       "text": [
        "\n",
        "OhBoyHandmade"
       ]
      },
      {
       "output_type": "stream",
       "stream": "stdout",
       "text": [
        "\n",
        "TheCraftyEuropean"
       ]
      },
      {
       "output_type": "stream",
       "stream": "stdout",
       "text": [
        "\n",
        "zoik"
       ]
      },
      {
       "output_type": "stream",
       "stream": "stdout",
       "text": [
        "\n",
        "Solnishko43"
       ]
      },
      {
       "output_type": "stream",
       "stream": "stdout",
       "text": [
        "\n",
        "LambsEarsKnits"
       ]
      },
      {
       "output_type": "stream",
       "stream": "stdout",
       "text": [
        "\n",
        "CreativeHandknits"
       ]
      },
      {
       "output_type": "stream",
       "stream": "stdout",
       "text": [
        "\n",
        "KEENbyAM"
       ]
      },
      {
       "output_type": "stream",
       "stream": "stdout",
       "text": [
        "\n",
        "SuchCraftsWow"
       ]
      },
      {
       "output_type": "stream",
       "stream": "stdout",
       "text": [
        "\n",
        "MedleyofColors"
       ]
      },
      {
       "output_type": "stream",
       "stream": "stdout",
       "text": [
        "\n",
        "Bestcrochets"
       ]
      },
      {
       "output_type": "stream",
       "stream": "stdout",
       "text": [
        "\n",
        "FrouFrouVtgClothing"
       ]
      },
      {
       "output_type": "stream",
       "stream": "stdout",
       "text": [
        "\n",
        "LiliaCraftParty"
       ]
      },
      {
       "output_type": "stream",
       "stream": "stdout",
       "text": [
        "\n",
        "MariyaMitov"
       ]
      },
      {
       "output_type": "stream",
       "stream": "stdout",
       "text": [
        "\n",
        "deorigenchile"
       ]
      },
      {
       "output_type": "stream",
       "stream": "stdout",
       "text": [
        "\n",
        "BollasBitsAndBobs"
       ]
      },
      {
       "output_type": "stream",
       "stream": "stdout",
       "text": [
        "\n",
        "MtnShadowFiberworks"
       ]
      },
      {
       "output_type": "stream",
       "stream": "stdout",
       "text": [
        "\n",
        "Pavlaknits"
       ]
      },
      {
       "output_type": "stream",
       "stream": "stdout",
       "text": [
        "\n",
        "TheKnitPanda"
       ]
      },
      {
       "output_type": "stream",
       "stream": "stdout",
       "text": [
        "\n",
        "HuckleberriesandRain"
       ]
      },
      {
       "output_type": "stream",
       "stream": "stdout",
       "text": [
        "\n",
        "rukkola"
       ]
      },
      {
       "output_type": "stream",
       "stream": "stdout",
       "text": [
        "\n",
        "taschekats"
       ]
      },
      {
       "output_type": "stream",
       "stream": "stdout",
       "text": [
        "\n",
        "CuteCreationsByLea"
       ]
      },
      {
       "output_type": "stream",
       "stream": "stdout",
       "text": [
        "\n",
        "ItsyBitsyBabyProps"
       ]
      },
      {
       "output_type": "stream",
       "stream": "stdout",
       "text": [
        "\n",
        "YarnForBaby"
       ]
      },
      {
       "output_type": "stream",
       "stream": "stdout",
       "text": [
        "\n",
        "CutePhotoProp"
       ]
      },
      {
       "output_type": "stream",
       "stream": "stdout",
       "text": [
        "\n",
        "CrochetKnit30"
       ]
      },
      {
       "output_type": "stream",
       "stream": "stdout",
       "text": [
        "\n",
        "JandSKnitts"
       ]
      },
      {
       "output_type": "stream",
       "stream": "stdout",
       "text": [
        "\n",
        "Mirastyle"
       ]
      },
      {
       "output_type": "stream",
       "stream": "stdout",
       "text": [
        "\n",
        "DokumaAccessories"
       ]
      },
      {
       "output_type": "stream",
       "stream": "stdout",
       "text": [
        "\n",
        "VermontHomespun"
       ]
      },
      {
       "output_type": "stream",
       "stream": "stdout",
       "text": [
        "\n",
        "HamsaHealingGifts"
       ]
      },
      {
       "output_type": "stream",
       "stream": "stdout",
       "text": [
        "\n",
        "bebebottineshop"
       ]
      },
      {
       "output_type": "stream",
       "stream": "stdout",
       "text": [
        "\n",
        "SeaSprayKnits"
       ]
      },
      {
       "output_type": "stream",
       "stream": "stdout",
       "text": [
        "\n",
        "ToppledTurtle"
       ]
      },
      {
       "output_type": "stream",
       "stream": "stdout",
       "text": [
        "\n",
        "Plexida"
       ]
      },
      {
       "output_type": "stream",
       "stream": "stdout",
       "text": [
        "\n",
        "ForHomeAndHearth"
       ]
      },
      {
       "output_type": "stream",
       "stream": "stdout",
       "text": [
        "\n",
        "Stitchandstory"
       ]
      },
      {
       "output_type": "stream",
       "stream": "stdout",
       "text": [
        "\n",
        "FightingLeukemia"
       ]
      },
      {
       "output_type": "stream",
       "stream": "stdout",
       "text": [
        "\n",
        "wishestogether"
       ]
      },
      {
       "output_type": "stream",
       "stream": "stdout",
       "text": [
        "\n",
        "DapperAnnie"
       ]
      },
      {
       "output_type": "stream",
       "stream": "stdout",
       "text": [
        "\n",
        "FliptasticClothing"
       ]
      },
      {
       "output_type": "stream",
       "stream": "stdout",
       "text": [
        "\n",
        "SSnEverythingnice"
       ]
      },
      {
       "output_type": "stream",
       "stream": "stdout",
       "text": [
        "\n",
        "PikaPikaCreative"
       ]
      },
      {
       "output_type": "stream",
       "stream": "stdout",
       "text": [
        "\n",
        "IRISMINT"
       ]
      },
      {
       "output_type": "stream",
       "stream": "stdout",
       "text": [
        "\n",
        "Clickclackknits"
       ]
      },
      {
       "output_type": "stream",
       "stream": "stdout",
       "text": [
        "\n",
        "stayinstitches"
       ]
      },
      {
       "output_type": "stream",
       "stream": "stdout",
       "text": [
        "\n",
        "APPALACHIANSTITCH"
       ]
      },
      {
       "output_type": "stream",
       "stream": "stdout",
       "text": [
        "\n",
        "StarSeventeen"
       ]
      },
      {
       "output_type": "stream",
       "stream": "stdout",
       "text": [
        "\n",
        "SapphiraDesignsKnits"
       ]
      },
      {
       "output_type": "stream",
       "stream": "stdout",
       "text": [
        "\n",
        "IKnit4aCure"
       ]
      },
      {
       "output_type": "stream",
       "stream": "stdout",
       "text": [
        "\n",
        "KnitGoodWomanKnit"
       ]
      },
      {
       "output_type": "stream",
       "stream": "stdout",
       "text": [
        "\n",
        "LineliHandmade"
       ]
      },
      {
       "output_type": "stream",
       "stream": "stdout",
       "text": [
        "\n",
        "twigsandtweets"
       ]
      },
      {
       "output_type": "stream",
       "stream": "stdout",
       "text": [
        "\n",
        "Fluffylamb"
       ]
      },
      {
       "output_type": "stream",
       "stream": "stdout",
       "text": [
        "\n",
        "YoYohats"
       ]
      },
      {
       "output_type": "stream",
       "stream": "stdout",
       "text": [
        "\n",
        "KnittingbyKali"
       ]
      },
      {
       "output_type": "stream",
       "stream": "stdout",
       "text": [
        "\n",
        "ThatSewU"
       ]
      },
      {
       "output_type": "stream",
       "stream": "stdout",
       "text": [
        "\n",
        "BabyKDesigns"
       ]
      },
      {
       "output_type": "stream",
       "stream": "stdout",
       "text": [
        "\n",
        "CroquisKnits"
       ]
      },
      {
       "output_type": "stream",
       "stream": "stdout",
       "text": [
        "\n",
        "KangooLUX"
       ]
      },
      {
       "output_type": "stream",
       "stream": "stdout",
       "text": [
        "\n",
        "BebellissimosB"
       ]
      },
      {
       "output_type": "stream",
       "stream": "stdout",
       "text": [
        "\n",
        "Lasunka"
       ]
      },
      {
       "output_type": "stream",
       "stream": "stdout",
       "text": [
        "\n",
        "BellaRaeCrochet"
       ]
      },
      {
       "output_type": "stream",
       "stream": "stdout",
       "text": [
        "\n",
        "tzigane57"
       ]
      },
      {
       "output_type": "stream",
       "stream": "stdout",
       "text": [
        "\n",
        "HandmadeFromLV"
       ]
      },
      {
       "output_type": "stream",
       "stream": "stdout",
       "text": [
        "\n",
        "Cowichans"
       ]
      },
      {
       "output_type": "stream",
       "stream": "stdout",
       "text": [
        "\n",
        "HeartStrings107"
       ]
      },
      {
       "output_type": "stream",
       "stream": "stdout",
       "text": [
        "\n",
        "Scarfashion"
       ]
      },
      {
       "output_type": "stream",
       "stream": "stdout",
       "text": [
        "\n",
        "HandmadeTrend"
       ]
      },
      {
       "output_type": "stream",
       "stream": "stdout",
       "text": [
        "\n",
        "NorthernLoopKnitwear"
       ]
      },
      {
       "output_type": "stream",
       "stream": "stdout",
       "text": [
        "\n",
        "Madebyfate"
       ]
      },
      {
       "output_type": "stream",
       "stream": "stdout",
       "text": [
        "\n",
        "wildhoneypieboutique"
       ]
      },
      {
       "output_type": "stream",
       "stream": "stdout",
       "text": [
        "\n",
        "RememberingDiane"
       ]
      },
      {
       "output_type": "stream",
       "stream": "stdout",
       "text": [
        "\n",
        "Solandia"
       ]
      },
      {
       "output_type": "stream",
       "stream": "stdout",
       "text": [
        "\n",
        "JuicyBows"
       ]
      },
      {
       "output_type": "stream",
       "stream": "stdout",
       "text": [
        "\n",
        "RosiesNoggin"
       ]
      },
      {
       "output_type": "stream",
       "stream": "stdout",
       "text": [
        "\n",
        "VolnaDollsClother"
       ]
      },
      {
       "output_type": "stream",
       "stream": "stdout",
       "text": [
        "\n",
        "Ingugu"
       ]
      },
      {
       "output_type": "stream",
       "stream": "stdout",
       "text": [
        "\n",
        "SweetPetitePhotoProp"
       ]
      },
      {
       "output_type": "stream",
       "stream": "stdout",
       "text": [
        "\n",
        "ShnopShnop"
       ]
      },
      {
       "output_type": "stream",
       "stream": "stdout",
       "text": [
        "\n",
        "ByMissSally"
       ]
      },
      {
       "output_type": "stream",
       "stream": "stdout",
       "text": [
        "\n",
        "ChildCrochet"
       ]
      },
      {
       "output_type": "stream",
       "stream": "stdout",
       "text": [
        "\n",
        "Knitzandpurls"
       ]
      },
      {
       "output_type": "stream",
       "stream": "stdout",
       "text": [
        "\n",
        "MadeByMillar"
       ]
      },
      {
       "output_type": "stream",
       "stream": "stdout",
       "text": [
        "\n",
        "CrochetingHeaven"
       ]
      },
      {
       "output_type": "stream",
       "stream": "stdout",
       "text": [
        "\n",
        "LaKnitteria"
       ]
      },
      {
       "output_type": "stream",
       "stream": "stdout",
       "text": [
        "\n",
        "PlexisArt"
       ]
      },
      {
       "output_type": "stream",
       "stream": "stdout",
       "text": [
        "\n",
        "cherlynnephotography"
       ]
      },
      {
       "output_type": "stream",
       "stream": "stdout",
       "text": [
        "\n",
        "ShentonStudios"
       ]
      },
      {
       "output_type": "stream",
       "stream": "stdout",
       "text": [
        "\n",
        "ButtermilkCottage"
       ]
      },
      {
       "output_type": "stream",
       "stream": "stdout",
       "text": [
        "\n",
        "speciallyhandmade4u"
       ]
      },
      {
       "output_type": "stream",
       "stream": "stdout",
       "text": [
        "\n",
        "Halunder"
       ]
      },
      {
       "output_type": "stream",
       "stream": "stdout",
       "text": [
        "\n",
        "LittleRetronome"
       ]
      },
      {
       "output_type": "stream",
       "stream": "stdout",
       "text": [
        "\n",
        "autumnandindigo"
       ]
      },
      {
       "output_type": "stream",
       "stream": "stdout",
       "text": [
        "\n",
        "DCimaginations"
       ]
      },
      {
       "output_type": "stream",
       "stream": "stdout",
       "text": [
        "\n",
        "LeanaKonovalova"
       ]
      },
      {
       "output_type": "stream",
       "stream": "stdout",
       "text": [
        "\n",
        "xoxoImogenHearts"
       ]
      },
      {
       "output_type": "stream",
       "stream": "stdout",
       "text": [
        "\n",
        "AnastasiaEvelyn"
       ]
      },
      {
       "output_type": "stream",
       "stream": "stdout",
       "text": [
        "\n",
        "NoKnotKnits"
       ]
      },
      {
       "output_type": "stream",
       "stream": "stdout",
       "text": [
        "\n",
        "willowandsagecreatio"
       ]
      },
      {
       "output_type": "stream",
       "stream": "stdout",
       "text": [
        "\n",
        "SmilingKnitting"
       ]
      },
      {
       "output_type": "stream",
       "stream": "stdout",
       "text": [
        "\n",
        "Johannahats"
       ]
      },
      {
       "output_type": "stream",
       "stream": "stdout",
       "text": [
        "\n",
        "MyTinyTree"
       ]
      },
      {
       "output_type": "stream",
       "stream": "stdout",
       "text": [
        "\n",
        "aysev"
       ]
      },
      {
       "output_type": "stream",
       "stream": "stdout",
       "text": [
        "\n",
        "emmifaye"
       ]
      },
      {
       "output_type": "stream",
       "stream": "stdout",
       "text": [
        "\n",
        "ColorWondreWarmth"
       ]
      },
      {
       "output_type": "stream",
       "stream": "stdout",
       "text": [
        "\n",
        "KennaInAfrica"
       ]
      },
      {
       "output_type": "stream",
       "stream": "stdout",
       "text": [
        "\n",
        "WWKnits"
       ]
      },
      {
       "output_type": "stream",
       "stream": "stdout",
       "text": [
        "\n",
        "TheUrbanSquirrel1"
       ]
      },
      {
       "output_type": "stream",
       "stream": "stdout",
       "text": [
        "\n",
        "jolay"
       ]
      },
      {
       "output_type": "stream",
       "stream": "stdout",
       "text": [
        "\n",
        "heaventoseven"
       ]
      },
      {
       "output_type": "stream",
       "stream": "stdout",
       "text": [
        "\n",
        "EnchantedLandofFelt"
       ]
      },
      {
       "output_type": "stream",
       "stream": "stdout",
       "text": [
        "\n",
        "Mariiko"
       ]
      },
      {
       "output_type": "stream",
       "stream": "stdout",
       "text": [
        "\n",
        "AuBoutduPre"
       ]
      },
      {
       "output_type": "stream",
       "stream": "stdout",
       "text": [
        "\n",
        "zxcvvcxz"
       ]
      },
      {
       "output_type": "stream",
       "stream": "stdout",
       "text": [
        "\n",
        "TheWoolyBirch"
       ]
      },
      {
       "output_type": "stream",
       "stream": "stdout",
       "text": [
        "\n",
        "DiceKnits"
       ]
      },
      {
       "output_type": "stream",
       "stream": "stdout",
       "text": [
        "\n",
        "CelesteandCompany"
       ]
      },
      {
       "output_type": "stream",
       "stream": "stdout",
       "text": [
        "\n",
        "DarylAndCat"
       ]
      },
      {
       "output_type": "stream",
       "stream": "stdout",
       "text": [
        "\n",
        "THIMBLEandACORN"
       ]
      },
      {
       "output_type": "stream",
       "stream": "stdout",
       "text": [
        "\n",
        "StayatHomeStitchings"
       ]
      },
      {
       "output_type": "stream",
       "stream": "stdout",
       "text": [
        "\n",
        "longbeachdesigns"
       ]
      },
      {
       "output_type": "stream",
       "stream": "stdout",
       "text": [
        "\n",
        "MercierMarche"
       ]
      },
      {
       "output_type": "stream",
       "stream": "stdout",
       "text": [
        "\n",
        "CrochetYourBaby"
       ]
      },
      {
       "output_type": "stream",
       "stream": "stdout",
       "text": [
        "\n",
        "lucymir"
       ]
      },
      {
       "output_type": "stream",
       "stream": "stdout",
       "text": [
        "\n",
        "GibsonHollow"
       ]
      },
      {
       "output_type": "stream",
       "stream": "stdout",
       "text": [
        "\n",
        "forthetiny"
       ]
      },
      {
       "output_type": "stream",
       "stream": "stdout",
       "text": [
        "\n",
        "SunnyCsc"
       ]
      },
      {
       "output_type": "stream",
       "stream": "stdout",
       "text": [
        "\n",
        "starlightknits"
       ]
      },
      {
       "output_type": "stream",
       "stream": "stdout",
       "text": [
        "\n",
        "MelissaAndElizabethe"
       ]
      },
      {
       "output_type": "stream",
       "stream": "stdout",
       "text": [
        "\n",
        "mellowfury"
       ]
      },
      {
       "output_type": "stream",
       "stream": "stdout",
       "text": [
        "\n",
        "FashionTouch"
       ]
      },
      {
       "output_type": "stream",
       "stream": "stdout",
       "text": [
        "\n",
        "BirdsKeptNorth"
       ]
      },
      {
       "output_type": "stream",
       "stream": "stdout",
       "text": [
        "\n",
        "WylieOwlVintage"
       ]
      },
      {
       "output_type": "stream",
       "stream": "stdout",
       "text": [
        "\n",
        "knottycreationsbyET"
       ]
      },
      {
       "output_type": "stream",
       "stream": "stdout",
       "text": [
        "\n",
        "byHeatherMarie"
       ]
      },
      {
       "output_type": "stream",
       "stream": "stdout",
       "text": [
        "\n",
        "MurvaDesign"
       ]
      },
      {
       "output_type": "stream",
       "stream": "stdout",
       "text": [
        "\n",
        "DamovFashion"
       ]
      },
      {
       "output_type": "stream",
       "stream": "stdout",
       "text": [
        "\n",
        "AKCraftyLady"
       ]
      },
      {
       "output_type": "stream",
       "stream": "stdout",
       "text": [
        "\n",
        "SOFTKNOT"
       ]
      },
      {
       "output_type": "stream",
       "stream": "stdout",
       "text": [
        "\n",
        "PeonyBlossoms"
       ]
      },
      {
       "output_type": "stream",
       "stream": "stdout",
       "text": [
        "\n",
        "LittleBuffaloKnits"
       ]
      },
      {
       "output_type": "stream",
       "stream": "stdout",
       "text": [
        "\n",
        "PamelaLiz"
       ]
      },
      {
       "output_type": "stream",
       "stream": "stdout",
       "text": [
        "\n",
        "WhichStitch123"
       ]
      },
      {
       "output_type": "stream",
       "stream": "stdout",
       "text": [
        "\n",
        "lovewhatyouwear"
       ]
      },
      {
       "output_type": "stream",
       "stream": "stdout",
       "text": [
        "\n",
        "shopknitsandprints"
       ]
      },
      {
       "output_type": "stream",
       "stream": "stdout",
       "text": [
        "\n",
        "KookaburraBaby"
       ]
      },
      {
       "output_type": "stream",
       "stream": "stdout",
       "text": [
        "\n",
        "judy03452"
       ]
      },
      {
       "output_type": "stream",
       "stream": "stdout",
       "text": [
        "\n",
        "DesigningEva"
       ]
      },
      {
       "output_type": "stream",
       "stream": "stdout",
       "text": [
        "\n",
        "FernwehUK"
       ]
      },
      {
       "output_type": "stream",
       "stream": "stdout",
       "text": [
        "\n",
        "TiasTerrificThreads"
       ]
      },
      {
       "output_type": "stream",
       "stream": "stdout",
       "text": [
        "\n",
        "NavaVK"
       ]
      },
      {
       "output_type": "stream",
       "stream": "stdout",
       "text": [
        "\n",
        "LionsToothDesigns"
       ]
      },
      {
       "output_type": "stream",
       "stream": "stdout",
       "text": [
        "\n",
        "CooloRoonie"
       ]
      },
      {
       "output_type": "stream",
       "stream": "stdout",
       "text": [
        "\n",
        "ArticleApparel"
       ]
      },
      {
       "output_type": "stream",
       "stream": "stdout",
       "text": [
        "\n",
        "Julbyjuliagasin"
       ]
      },
      {
       "output_type": "stream",
       "stream": "stdout",
       "text": [
        "\n",
        "WearitWellvintage"
       ]
      },
      {
       "output_type": "stream",
       "stream": "stdout",
       "text": [
        "\n",
        "OrganicScarf"
       ]
      },
      {
       "output_type": "stream",
       "stream": "stdout",
       "text": [
        "\n",
        "SandraLDesigns"
       ]
      },
      {
       "output_type": "stream",
       "stream": "stdout",
       "text": [
        "\n",
        "ChicAndSheep"
       ]
      },
      {
       "output_type": "stream",
       "stream": "stdout",
       "text": [
        "\n",
        "AlbadoFashion"
       ]
      },
      {
       "output_type": "stream",
       "stream": "stdout",
       "text": [
        "\n",
        "ChicVintagePatterns"
       ]
      },
      {
       "output_type": "stream",
       "stream": "stdout",
       "text": [
        "\n",
        "AngelHeartRanch"
       ]
      },
      {
       "output_type": "stream",
       "stream": "stdout",
       "text": [
        "\n",
        "SweetPeaBoutiques"
       ]
      },
      {
       "output_type": "stream",
       "stream": "stdout",
       "text": [
        "\n",
        "NeedleGraceBoutique"
       ]
      },
      {
       "output_type": "stream",
       "stream": "stdout",
       "text": [
        "\n",
        "TwoPeasInAPodCo"
       ]
      },
      {
       "output_type": "stream",
       "stream": "stdout",
       "text": [
        "\n",
        "SleepyToys"
       ]
      },
      {
       "output_type": "stream",
       "stream": "stdout",
       "text": [
        "\n",
        "ElianasKnittings"
       ]
      },
      {
       "output_type": "stream",
       "stream": "stdout",
       "text": [
        "\n",
        "CampCousinsCrafts"
       ]
      },
      {
       "output_type": "stream",
       "stream": "stdout",
       "text": [
        "\n",
        "Notforeat"
       ]
      },
      {
       "output_type": "stream",
       "stream": "stdout",
       "text": [
        "\n",
        "EcoStreet"
       ]
      },
      {
       "output_type": "stream",
       "stream": "stdout",
       "text": [
        "\n",
        "AnniRoss"
       ]
      },
      {
       "output_type": "stream",
       "stream": "stdout",
       "text": [
        "\n",
        "LoreNovedades"
       ]
      },
      {
       "output_type": "stream",
       "stream": "stdout",
       "text": [
        "\n",
        "SusieAccessories"
       ]
      },
      {
       "output_type": "stream",
       "stream": "stdout",
       "text": [
        "\n",
        "AniTaller"
       ]
      },
      {
       "output_type": "stream",
       "stream": "stdout",
       "text": [
        "\n",
        "Knitkozi"
       ]
      },
      {
       "output_type": "stream",
       "stream": "stdout",
       "text": [
        "\n",
        "BellaNeedleworks"
       ]
      },
      {
       "output_type": "stream",
       "stream": "stdout",
       "text": [
        "\n",
        "JillsHandmadeStuff"
       ]
      },
      {
       "output_type": "stream",
       "stream": "stdout",
       "text": [
        "\n",
        "handmadebysarajean"
       ]
      },
      {
       "output_type": "stream",
       "stream": "stdout",
       "text": [
        "\n",
        "allasattic"
       ]
      },
      {
       "output_type": "stream",
       "stream": "stdout",
       "text": [
        "\n",
        "LazyTurtleCo"
       ]
      },
      {
       "output_type": "stream",
       "stream": "stdout",
       "text": [
        "\n",
        "LittleCottonShop"
       ]
      },
      {
       "output_type": "stream",
       "stream": "stdout",
       "text": [
        "\n",
        "PreciousNewbornKnits"
       ]
      },
      {
       "output_type": "stream",
       "stream": "stdout",
       "text": [
        "\n",
        "PaulistaAvenue"
       ]
      },
      {
       "output_type": "stream",
       "stream": "stdout",
       "text": [
        "\n",
        "fashionablekids"
       ]
      },
      {
       "output_type": "stream",
       "stream": "stdout",
       "text": [
        "\n",
        "PuttingontheKnits"
       ]
      },
      {
       "output_type": "stream",
       "stream": "stdout",
       "text": [
        "\n",
        "SevenOaksFarm"
       ]
      },
      {
       "output_type": "stream",
       "stream": "stdout",
       "text": [
        "\n",
        "BaroqueAndRoll"
       ]
      },
      {
       "output_type": "stream",
       "stream": "stdout",
       "text": [
        "\n",
        "WhiteGloveVintage"
       ]
      },
      {
       "output_type": "stream",
       "stream": "stdout",
       "text": [
        "\n",
        "SMQdesigns"
       ]
      },
      {
       "output_type": "stream",
       "stream": "stdout",
       "text": [
        "\n",
        "VioletUnderground"
       ]
      },
      {
       "output_type": "stream",
       "stream": "stdout",
       "text": [
        "\n",
        "HeavenandHandKnits"
       ]
      },
      {
       "output_type": "stream",
       "stream": "stdout",
       "text": [
        "\n",
        "FashionelleStudio"
       ]
      },
      {
       "output_type": "stream",
       "stream": "stdout",
       "text": [
        "\n",
        "KilbellaVintage"
       ]
      },
      {
       "output_type": "stream",
       "stream": "stdout",
       "text": [
        "\n",
        "mimsyinmaine"
       ]
      },
      {
       "output_type": "stream",
       "stream": "stdout",
       "text": [
        "\n",
        "MotherGooseKnits"
       ]
      },
      {
       "output_type": "stream",
       "stream": "stdout",
       "text": [
        "\n",
        "LinaScarf"
       ]
      },
      {
       "output_type": "stream",
       "stream": "stdout",
       "text": [
        "\n",
        "byjocreations"
       ]
      },
      {
       "output_type": "stream",
       "stream": "stdout",
       "text": [
        "\n",
        "texturable"
       ]
      },
      {
       "output_type": "stream",
       "stream": "stdout",
       "text": [
        "\n",
        "MarroCraft"
       ]
      },
      {
       "output_type": "stream",
       "stream": "stdout",
       "text": [
        "\n",
        "LilyAccessorises"
       ]
      },
      {
       "output_type": "stream",
       "stream": "stdout",
       "text": [
        "\n",
        "KatarinaHats"
       ]
      },
      {
       "output_type": "stream",
       "stream": "stdout",
       "text": [
        "\n",
        "PrincessTaraCo"
       ]
      },
      {
       "output_type": "stream",
       "stream": "stdout",
       "text": [
        "\n",
        "DebGHats"
       ]
      },
      {
       "output_type": "stream",
       "stream": "stdout",
       "text": [
        "\n",
        "beautifulplace"
       ]
      },
      {
       "output_type": "stream",
       "stream": "stdout",
       "text": [
        "\n",
        "TheRaccoonery"
       ]
      },
      {
       "output_type": "stream",
       "stream": "stdout",
       "text": [
        "\n",
        "GloriousMorn"
       ]
      },
      {
       "output_type": "stream",
       "stream": "stdout",
       "text": [
        "\n",
        "Hemiao"
       ]
      },
      {
       "output_type": "stream",
       "stream": "stdout",
       "text": [
        "\n",
        "KattysHandcrafts"
       ]
      },
      {
       "output_type": "stream",
       "stream": "stdout",
       "text": [
        "\n",
        "j2studioscraft"
       ]
      },
      {
       "output_type": "stream",
       "stream": "stdout",
       "text": [
        "\n",
        "BlytheCouture"
       ]
      },
      {
       "output_type": "stream",
       "stream": "stdout",
       "text": [
        "\n",
        "KnitsByVicks"
       ]
      },
      {
       "output_type": "stream",
       "stream": "stdout",
       "text": [
        "\n",
        "KnittingCrochetKLM"
       ]
      },
      {
       "output_type": "stream",
       "stream": "stdout",
       "text": [
        "\n",
        "Tanyshaknitware"
       ]
      },
      {
       "output_type": "stream",
       "stream": "stdout",
       "text": [
        "\n",
        "Hatsforhounds"
       ]
      },
      {
       "output_type": "stream",
       "stream": "stdout",
       "text": [
        "\n",
        "HatsByLilly"
       ]
      },
      {
       "output_type": "stream",
       "stream": "stdout",
       "text": [
        "\n",
        "MaggieandGray"
       ]
      },
      {
       "output_type": "stream",
       "stream": "stdout",
       "text": [
        "\n",
        "JKnitting"
       ]
      },
      {
       "output_type": "stream",
       "stream": "stdout",
       "text": [
        "\n",
        "simplyyarn27"
       ]
      },
      {
       "output_type": "stream",
       "stream": "stdout",
       "text": [
        "\n",
        "kristine1986"
       ]
      },
      {
       "output_type": "stream",
       "stream": "stdout",
       "text": [
        "\n",
        "Ladyknitsandthings"
       ]
      },
      {
       "output_type": "stream",
       "stream": "stdout",
       "text": [
        "\n",
        "BeeHappyBoutique"
       ]
      },
      {
       "output_type": "stream",
       "stream": "stdout",
       "text": [
        "\n",
        "PomPonWear"
       ]
      },
      {
       "output_type": "stream",
       "stream": "stdout",
       "text": [
        "\n",
        "OYASHOP"
       ]
      },
      {
       "output_type": "stream",
       "stream": "stdout",
       "text": [
        "\n",
        "FistfulOfVintage"
       ]
      },
      {
       "output_type": "stream",
       "stream": "stdout",
       "text": [
        "\n",
        "thekittensmittensuk"
       ]
      },
      {
       "output_type": "stream",
       "stream": "stdout",
       "text": [
        "\n",
        "Shelly6262"
       ]
      },
      {
       "output_type": "stream",
       "stream": "stdout",
       "text": [
        "\n",
        "TheNewtonLabel"
       ]
      },
      {
       "output_type": "stream",
       "stream": "stdout",
       "text": [
        "\n",
        "thymeline"
       ]
      },
      {
       "output_type": "stream",
       "stream": "stdout",
       "text": [
        "\n",
        "gentletouch11"
       ]
      },
      {
       "output_type": "stream",
       "stream": "stdout",
       "text": [
        "\n",
        "TheBirdTales"
       ]
      },
      {
       "output_type": "stream",
       "stream": "stdout",
       "text": [
        "\n",
        "PeroskiDesign"
       ]
      },
      {
       "output_type": "stream",
       "stream": "stdout",
       "text": [
        "\n",
        "AshleysHomeSpun"
       ]
      },
      {
       "output_type": "stream",
       "stream": "stdout",
       "text": [
        "\n",
        "KnitBuddy"
       ]
      },
      {
       "output_type": "stream",
       "stream": "stdout",
       "text": [
        "\n",
        "TheCraftyJackalope"
       ]
      },
      {
       "output_type": "stream",
       "stream": "stdout",
       "text": [
        "\n",
        "RedPepperHats"
       ]
      },
      {
       "output_type": "stream",
       "stream": "stdout",
       "text": [
        "\n",
        "LaBottegaDiChicco"
       ]
      },
      {
       "output_type": "stream",
       "stream": "stdout",
       "text": [
        "\n",
        "Need4KnitShop"
       ]
      },
      {
       "output_type": "stream",
       "stream": "stdout",
       "text": [
        "\n",
        "DancingTigerGifts"
       ]
      },
      {
       "output_type": "stream",
       "stream": "stdout",
       "text": [
        "\n",
        "Nastiin"
       ]
      },
      {
       "output_type": "stream",
       "stream": "stdout",
       "text": [
        "\n",
        "SnassyCrafter"
       ]
      },
      {
       "output_type": "stream",
       "stream": "stdout",
       "text": [
        "\n",
        "KnitWithLoveByDana"
       ]
      },
      {
       "output_type": "stream",
       "stream": "stdout",
       "text": [
        "\n",
        "lanacooper"
       ]
      },
      {
       "output_type": "stream",
       "stream": "stdout",
       "text": [
        "\n",
        "SuperChicDollies"
       ]
      },
      {
       "output_type": "stream",
       "stream": "stdout",
       "text": [
        "\n",
        "itsybitsyknitting"
       ]
      },
      {
       "output_type": "stream",
       "stream": "stdout",
       "text": [
        "\n",
        "SueAnnesKnitShoppe"
       ]
      },
      {
       "output_type": "stream",
       "stream": "stdout",
       "text": [
        "\n",
        "MAChic"
       ]
      },
      {
       "output_type": "stream",
       "stream": "stdout",
       "text": [
        "\n",
        "StitchwerxDesigns"
       ]
      },
      {
       "output_type": "stream",
       "stream": "stdout",
       "text": [
        "\n",
        "GayleNeely"
       ]
      },
      {
       "output_type": "stream",
       "stream": "stdout",
       "text": [
        "\n",
        "WishKnits"
       ]
      },
      {
       "output_type": "stream",
       "stream": "stdout",
       "text": [
        "\n",
        "ArtsyTreats"
       ]
      },
      {
       "output_type": "stream",
       "stream": "stdout",
       "text": [
        "\n",
        "WheatfieldKnitwear"
       ]
      },
      {
       "output_type": "stream",
       "stream": "stdout",
       "text": [
        "\n",
        "byvala"
       ]
      },
      {
       "output_type": "stream",
       "stream": "stdout",
       "text": [
        "\n",
        "CozyPavillion"
       ]
      },
      {
       "output_type": "stream",
       "stream": "stdout",
       "text": [
        "\n",
        "SpinningAcres"
       ]
      },
      {
       "output_type": "stream",
       "stream": "stdout",
       "text": [
        "\n",
        "FawnVintage01"
       ]
      },
      {
       "output_type": "stream",
       "stream": "stdout",
       "text": [
        "\n",
        "LittleKnittyThings"
       ]
      },
      {
       "output_type": "stream",
       "stream": "stdout",
       "text": [
        "\n",
        "NorthStarAlpacas"
       ]
      },
      {
       "output_type": "stream",
       "stream": "stdout",
       "text": [
        "\n",
        "ElenaYarovayaCrochet"
       ]
      },
      {
       "output_type": "stream",
       "stream": "stdout",
       "text": [
        "\n",
        "juliegalbraith"
       ]
      },
      {
       "output_type": "stream",
       "stream": "stdout",
       "text": [
        "\n",
        "DebsDevineDesigns"
       ]
      },
      {
       "output_type": "stream",
       "stream": "stdout",
       "text": [
        "\n",
        "LYMcrafts"
       ]
      },
      {
       "output_type": "stream",
       "stream": "stdout",
       "text": [
        "\n",
        "knitland24"
       ]
      },
      {
       "output_type": "stream",
       "stream": "stdout",
       "text": [
        "\n",
        "SCHandmade"
       ]
      },
      {
       "output_type": "stream",
       "stream": "stdout",
       "text": [
        "\n",
        "BiKay"
       ]
      },
      {
       "output_type": "stream",
       "stream": "stdout",
       "text": [
        "\n",
        "EmofoFashion"
       ]
      },
      {
       "output_type": "stream",
       "stream": "stdout",
       "text": [
        "\n",
        "BetelgeuseBrand"
       ]
      },
      {
       "output_type": "stream",
       "stream": "stdout",
       "text": [
        "\n",
        "MillCityStitches"
       ]
      },
      {
       "output_type": "stream",
       "stream": "stdout",
       "text": [
        "\n",
        "SmallPinkGiraffe"
       ]
      },
      {
       "output_type": "stream",
       "stream": "stdout",
       "text": [
        "\n",
        "TheLavishOwl"
       ]
      },
      {
       "output_type": "stream",
       "stream": "stdout",
       "text": [
        "\n",
        "MyLittleKnits"
       ]
      },
      {
       "output_type": "stream",
       "stream": "stdout",
       "text": [
        "\n",
        "BabasBabyProps"
       ]
      },
      {
       "output_type": "stream",
       "stream": "stdout",
       "text": [
        "\n",
        "HouseofJulio"
       ]
      },
      {
       "output_type": "stream",
       "stream": "stdout",
       "text": [
        "\n",
        "RodiAndSuzi"
       ]
      },
      {
       "output_type": "stream",
       "stream": "stdout",
       "text": [
        "\n",
        "HandknitsByLori"
       ]
      },
      {
       "output_type": "stream",
       "stream": "stdout",
       "text": [
        "\n",
        "PreciousKnits"
       ]
      },
      {
       "output_type": "stream",
       "stream": "stdout",
       "text": [
        "\n",
        "HeavenSentHandmade"
       ]
      },
      {
       "output_type": "stream",
       "stream": "stdout",
       "text": [
        "\n",
        "KnittingPrettyotFarm"
       ]
      },
      {
       "output_type": "stream",
       "stream": "stdout",
       "text": [
        "\n",
        "BringSomeBling"
       ]
      },
      {
       "output_type": "stream",
       "stream": "stdout",
       "text": [
        "\n",
        "KNITTINGNJEWELRY"
       ]
      },
      {
       "output_type": "stream",
       "stream": "stdout",
       "text": [
        "\n",
        "HolyHatz"
       ]
      },
      {
       "output_type": "stream",
       "stream": "stdout",
       "text": [
        "\n",
        "katerynaG"
       ]
      },
      {
       "output_type": "stream",
       "stream": "stdout",
       "text": [
        "\n",
        "ettygeller"
       ]
      },
      {
       "output_type": "stream",
       "stream": "stdout",
       "text": [
        "\n",
        "lorettascarves"
       ]
      },
      {
       "output_type": "stream",
       "stream": "stdout",
       "text": [
        "\n",
        "TepperWear"
       ]
      },
      {
       "output_type": "stream",
       "stream": "stdout",
       "text": [
        "\n",
        "LioncubCreations"
       ]
      },
      {
       "output_type": "stream",
       "stream": "stdout",
       "text": [
        "\n",
        "NiftyNookDesigns"
       ]
      },
      {
       "output_type": "stream",
       "stream": "stdout",
       "text": [
        "\n",
        "TanyasBunnyTots"
       ]
      },
      {
       "output_type": "stream",
       "stream": "stdout",
       "text": [
        "\n",
        "PoppiesandPeanuts"
       ]
      },
      {
       "output_type": "stream",
       "stream": "stdout",
       "text": [
        "\n",
        "rocksandsalt"
       ]
      },
      {
       "output_type": "stream",
       "stream": "stdout",
       "text": [
        "\n",
        "beautymanifesto"
       ]
      },
      {
       "output_type": "stream",
       "stream": "stdout",
       "text": [
        "\n",
        "LavenderBlossoms"
       ]
      },
      {
       "output_type": "stream",
       "stream": "stdout",
       "text": [
        "\n",
        "Hookinhandcreations"
       ]
      },
      {
       "output_type": "stream",
       "stream": "stdout",
       "text": [
        "\n",
        "ZukasKidsKnits"
       ]
      },
      {
       "output_type": "stream",
       "stream": "stdout",
       "text": [
        "\n",
        "HatsAndOtherStories"
       ]
      },
      {
       "output_type": "stream",
       "stream": "stdout",
       "text": [
        "\n",
        "Beadasherie"
       ]
      },
      {
       "output_type": "stream",
       "stream": "stdout",
       "text": [
        "\n",
        "BetaGoods"
       ]
      },
      {
       "output_type": "stream",
       "stream": "stdout",
       "text": [
        "\n",
        "GoldenGirlzHandmade"
       ]
      },
      {
       "output_type": "stream",
       "stream": "stdout",
       "text": [
        "\n",
        "WhisperingDreams"
       ]
      },
      {
       "output_type": "stream",
       "stream": "stdout",
       "text": [
        "\n",
        "artnida"
       ]
      },
      {
       "output_type": "stream",
       "stream": "stdout",
       "text": [
        "\n",
        "Eastalace"
       ]
      },
      {
       "output_type": "stream",
       "stream": "stdout",
       "text": [
        "\n",
        "belovedLT"
       ]
      },
      {
       "output_type": "stream",
       "stream": "stdout",
       "text": [
        "\n",
        "herie7"
       ]
      },
      {
       "output_type": "stream",
       "stream": "stdout",
       "text": [
        "\n",
        "ChristaEllen"
       ]
      },
      {
       "output_type": "stream",
       "stream": "stdout",
       "text": [
        "\n",
        "UptownKnits"
       ]
      },
      {
       "output_type": "stream",
       "stream": "stdout",
       "text": [
        "\n",
        "TheNorthernPurl"
       ]
      },
      {
       "output_type": "stream",
       "stream": "stdout",
       "text": [
        "\n",
        "FirstChairClothing"
       ]
      },
      {
       "output_type": "stream",
       "stream": "stdout",
       "text": [
        "\n",
        "GlacierBlu"
       ]
      },
      {
       "output_type": "stream",
       "stream": "stdout",
       "text": [
        "\n",
        "LAMMYKNITS"
       ]
      },
      {
       "output_type": "stream",
       "stream": "stdout",
       "text": [
        "\n",
        "tinab76"
       ]
      },
      {
       "output_type": "stream",
       "stream": "stdout",
       "text": [
        "\n",
        "OnwardOnward"
       ]
      },
      {
       "output_type": "stream",
       "stream": "stdout",
       "text": [
        "\n",
        "awkward"
       ]
      },
      {
       "output_type": "stream",
       "stream": "stdout",
       "text": [
        "\n",
        "bysweetmom"
       ]
      },
      {
       "output_type": "stream",
       "stream": "stdout",
       "text": [
        "\n",
        "hippiehousedesigns"
       ]
      },
      {
       "output_type": "stream",
       "stream": "stdout",
       "text": [
        "\n",
        "JerseyThursdayKnits"
       ]
      },
      {
       "output_type": "stream",
       "stream": "stdout",
       "text": [
        "\n",
        "HunkyDoriBoutique"
       ]
      },
      {
       "output_type": "stream",
       "stream": "stdout",
       "text": [
        "\n",
        "MadeByMiculinko"
       ]
      },
      {
       "output_type": "stream",
       "stream": "stdout",
       "text": [
        "\n",
        "JUknitwaves"
       ]
      },
      {
       "output_type": "stream",
       "stream": "stdout",
       "text": [
        "\n",
        "SamniengDesigns"
       ]
      },
      {
       "output_type": "stream",
       "stream": "stdout",
       "text": [
        "\n",
        "PinkyTease"
       ]
      },
      {
       "output_type": "stream",
       "stream": "stdout",
       "text": [
        "\n",
        "CrochetMyLove"
       ]
      },
      {
       "output_type": "stream",
       "stream": "stdout",
       "text": [
        "\n",
        "JHknitter"
       ]
      },
      {
       "output_type": "stream",
       "stream": "stdout",
       "text": [
        "\n",
        "KnitterPrincess"
       ]
      },
      {
       "output_type": "stream",
       "stream": "stdout",
       "text": [
        "\n",
        "GunayKulbay"
       ]
      },
      {
       "output_type": "stream",
       "stream": "stdout",
       "text": [
        "\n",
        "KristinaBari"
       ]
      },
      {
       "output_type": "stream",
       "stream": "stdout",
       "text": [
        "\n",
        "EnchantingChildhood"
       ]
      },
      {
       "output_type": "stream",
       "stream": "stdout",
       "text": [
        "\n",
        "UNIQHeadwear"
       ]
      },
      {
       "output_type": "stream",
       "stream": "stdout",
       "text": [
        "\n",
        "Pella"
       ]
      },
      {
       "output_type": "stream",
       "stream": "stdout",
       "text": [
        "\n",
        "peonijahandmadeshop"
       ]
      },
      {
       "output_type": "stream",
       "stream": "stdout",
       "text": [
        "\n",
        "JustImagineAlaska"
       ]
      },
      {
       "output_type": "stream",
       "stream": "stdout",
       "text": [
        "\n",
        "MsDeborahKnitter"
       ]
      },
      {
       "output_type": "stream",
       "stream": "stdout",
       "text": [
        "\n",
        "frecklesnsass"
       ]
      },
      {
       "output_type": "stream",
       "stream": "stdout",
       "text": [
        "\n",
        "PaganDreams13"
       ]
      },
      {
       "output_type": "stream",
       "stream": "stdout",
       "text": [
        "\n",
        "MirjanaKnittings"
       ]
      },
      {
       "output_type": "stream",
       "stream": "stdout",
       "text": [
        "\n",
        "MoonlightLittleKnits"
       ]
      },
      {
       "output_type": "stream",
       "stream": "stdout",
       "text": [
        "\n",
        "NohoMiscellaneous"
       ]
      },
      {
       "output_type": "stream",
       "stream": "stdout",
       "text": [
        "\n",
        "pegsyarncreations"
       ]
      },
      {
       "output_type": "stream",
       "stream": "stdout",
       "text": [
        "\n",
        "HeatherGaleaDesigns"
       ]
      },
      {
       "output_type": "stream",
       "stream": "stdout",
       "text": [
        "\n",
        "GraceKnittingPattern"
       ]
      },
      {
       "output_type": "stream",
       "stream": "stdout",
       "text": [
        "\n",
        "AngelinaAccessories"
       ]
      },
      {
       "output_type": "stream",
       "stream": "stdout",
       "text": [
        "\n",
        "ItsyBitsyBlooms"
       ]
      },
      {
       "output_type": "stream",
       "stream": "stdout",
       "text": [
        "\n",
        "MyKnittedTreasures"
       ]
      },
      {
       "output_type": "stream",
       "stream": "stdout",
       "text": [
        "\n",
        "ClassicBabyWhites"
       ]
      },
      {
       "output_type": "stream",
       "stream": "stdout",
       "text": [
        "\n",
        "VerantinasBoutique"
       ]
      },
      {
       "output_type": "stream",
       "stream": "stdout",
       "text": [
        "\n",
        "Mybebito"
       ]
      },
      {
       "output_type": "stream",
       "stream": "stdout",
       "text": [
        "\n",
        "yagmurhat"
       ]
      },
      {
       "output_type": "stream",
       "stream": "stdout",
       "text": [
        "\n",
        "MoonwolfStudios"
       ]
      },
      {
       "output_type": "stream",
       "stream": "stdout",
       "text": [
        "\n",
        "kckshop"
       ]
      },
      {
       "output_type": "stream",
       "stream": "stdout",
       "text": [
        "\n",
        "CassiesFactory"
       ]
      },
      {
       "output_type": "stream",
       "stream": "stdout",
       "text": [
        "\n",
        "Dreadstuffs"
       ]
      },
      {
       "output_type": "stream",
       "stream": "stdout",
       "text": [
        "\n",
        "LoopsyKnits"
       ]
      },
      {
       "output_type": "stream",
       "stream": "stdout",
       "text": [
        "\n",
        "recyclingroom"
       ]
      },
      {
       "output_type": "stream",
       "stream": "stdout",
       "text": [
        "\n",
        "NuranShop"
       ]
      },
      {
       "output_type": "stream",
       "stream": "stdout",
       "text": [
        "\n",
        "peppermintpine"
       ]
      },
      {
       "output_type": "stream",
       "stream": "stdout",
       "text": [
        "\n",
        "lampworkbyjulie"
       ]
      },
      {
       "output_type": "stream",
       "stream": "stdout",
       "text": [
        "\n",
        "CreateBKLYN"
       ]
      },
      {
       "output_type": "stream",
       "stream": "stdout",
       "text": [
        "\n",
        "magicwoolball"
       ]
      },
      {
       "output_type": "stream",
       "stream": "stdout",
       "text": [
        "\n",
        "MountainGoth"
       ]
      },
      {
       "output_type": "stream",
       "stream": "stdout",
       "text": [
        "\n",
        "KnittingInStyle"
       ]
      },
      {
       "output_type": "stream",
       "stream": "stdout",
       "text": [
        "\n",
        "Britneyshandknits"
       ]
      },
      {
       "output_type": "stream",
       "stream": "stdout",
       "text": [
        "\n",
        "AutumnAndAmber"
       ]
      },
      {
       "output_type": "stream",
       "stream": "stdout",
       "text": [
        "\n",
        "OliveHats"
       ]
      },
      {
       "output_type": "stream",
       "stream": "stdout",
       "text": [
        "\n",
        "LifesAnExpedition"
       ]
      },
      {
       "output_type": "stream",
       "stream": "stdout",
       "text": [
        "\n",
        "BabyLeCradle"
       ]
      },
      {
       "output_type": "stream",
       "stream": "stdout",
       "text": [
        "\n",
        "WhimsicalWarmthProps"
       ]
      },
      {
       "output_type": "stream",
       "stream": "stdout",
       "text": [
        "\n",
        "EnguKnits"
       ]
      },
      {
       "output_type": "stream",
       "stream": "stdout",
       "text": [
        "\n",
        "refugium"
       ]
      },
      {
       "output_type": "stream",
       "stream": "stdout",
       "text": [
        "\n",
        "THESugarandStitches"
       ]
      },
      {
       "output_type": "stream",
       "stream": "stdout",
       "text": [
        "\n",
        "PrettyKnitShop"
       ]
      },
      {
       "output_type": "stream",
       "stream": "stdout",
       "text": [
        "\n",
        "OldSchoolSwank"
       ]
      },
      {
       "output_type": "stream",
       "stream": "stdout",
       "text": [
        "\n",
        "rustiknits"
       ]
      },
      {
       "output_type": "stream",
       "stream": "stdout",
       "text": [
        "\n",
        "hipposdream"
       ]
      },
      {
       "output_type": "stream",
       "stream": "stdout",
       "text": [
        "\n",
        "TLVgoods"
       ]
      },
      {
       "output_type": "stream",
       "stream": "stdout",
       "text": [
        "\n",
        "Maddiesdivinedesigns"
       ]
      },
      {
       "output_type": "stream",
       "stream": "stdout",
       "text": [
        "\n",
        "talktothesun"
       ]
      },
      {
       "output_type": "stream",
       "stream": "stdout",
       "text": [
        "\n",
        "AplaceofInterest"
       ]
      },
      {
       "output_type": "stream",
       "stream": "stdout",
       "text": [
        "\n",
        "Incidentallyforyou"
       ]
      },
      {
       "output_type": "stream",
       "stream": "stdout",
       "text": [
        "\n",
        "SJAWoodesign"
       ]
      },
      {
       "output_type": "stream",
       "stream": "stdout",
       "text": [
        "\n",
        "CreatingWithSticks"
       ]
      },
      {
       "output_type": "stream",
       "stream": "stdout",
       "text": [
        "\n",
        "SistersinCraft"
       ]
      },
      {
       "output_type": "stream",
       "stream": "stdout",
       "text": [
        "\n",
        "nomacustom"
       ]
      },
      {
       "output_type": "stream",
       "stream": "stdout",
       "text": [
        "\n",
        "ChickSale"
       ]
      },
      {
       "output_type": "stream",
       "stream": "stdout",
       "text": [
        "\n",
        "OCCASIONsonjabegonia"
       ]
      },
      {
       "output_type": "stream",
       "stream": "stdout",
       "text": [
        "\n",
        "pocketens"
       ]
      },
      {
       "output_type": "stream",
       "stream": "stdout",
       "text": [
        "\n",
        "bySarahBeth"
       ]
      },
      {
       "output_type": "stream",
       "stream": "stdout",
       "text": [
        "\n",
        "KamiHats"
       ]
      },
      {
       "output_type": "stream",
       "stream": "stdout",
       "text": [
        "\n",
        "PetiteIdasCreations"
       ]
      },
      {
       "output_type": "stream",
       "stream": "stdout",
       "text": [
        "\n",
        "northwardhandcraft"
       ]
      },
      {
       "output_type": "stream",
       "stream": "stdout",
       "text": [
        "\n",
        "SpinningStreak"
       ]
      },
      {
       "output_type": "stream",
       "stream": "stdout",
       "text": [
        "\n",
        "AllAroundKnitting"
       ]
      },
      {
       "output_type": "stream",
       "stream": "stdout",
       "text": [
        "\n",
        "elmstcreations"
       ]
      },
      {
       "output_type": "stream",
       "stream": "stdout",
       "text": [
        "\n",
        "NaturallyUnraveled"
       ]
      },
      {
       "output_type": "stream",
       "stream": "stdout",
       "text": [
        "\n",
        "BloomWorkshop"
       ]
      },
      {
       "output_type": "stream",
       "stream": "stdout",
       "text": [
        "\n",
        "AluraCrafts"
       ]
      },
      {
       "output_type": "stream",
       "stream": "stdout",
       "text": [
        "\n",
        "AngelaRoseBoutique"
       ]
      },
      {
       "output_type": "stream",
       "stream": "stdout",
       "text": [
        "\n",
        "yarnawayknits"
       ]
      },
      {
       "output_type": "stream",
       "stream": "stdout",
       "text": [
        "\n",
        "HandmadeKnitsHats"
       ]
      },
      {
       "output_type": "stream",
       "stream": "stdout",
       "text": [
        "\n",
        "ICraft4Shoes"
       ]
      },
      {
       "output_type": "stream",
       "stream": "stdout",
       "text": [
        "\n",
        "barleyandflax"
       ]
      },
      {
       "output_type": "stream",
       "stream": "stdout",
       "text": [
        "\n",
        "NeedleLoveKnits"
       ]
      },
      {
       "output_type": "stream",
       "stream": "stdout",
       "text": [
        "\n",
        "LoveFromNewZealand"
       ]
      },
      {
       "output_type": "stream",
       "stream": "stdout",
       "text": [
        "\n",
        "grannypattern"
       ]
      },
      {
       "output_type": "stream",
       "stream": "stdout",
       "text": [
        "\n",
        "Elegantcrochets"
       ]
      },
      {
       "output_type": "stream",
       "stream": "stdout",
       "text": [
        "\n",
        "BlumenKinderSeattle"
       ]
      },
      {
       "output_type": "stream",
       "stream": "stdout",
       "text": [
        "\n",
        "MMDecoStudio"
       ]
      },
      {
       "output_type": "stream",
       "stream": "stdout",
       "text": [
        "\n",
        "wiscaliali"
       ]
      },
      {
       "output_type": "stream",
       "stream": "stdout",
       "text": [
        "\n",
        "EmmettBrown"
       ]
      },
      {
       "output_type": "stream",
       "stream": "stdout",
       "text": [
        "\n",
        "WendysWonders127"
       ]
      },
      {
       "output_type": "stream",
       "stream": "stdout",
       "text": [
        "\n",
        "HoneyBeesKnits"
       ]
      },
      {
       "output_type": "stream",
       "stream": "stdout",
       "text": [
        "\n",
        "ANMARIKEDECORPLUS"
       ]
      },
      {
       "output_type": "stream",
       "stream": "stdout",
       "text": [
        "\n",
        "ROIG42"
       ]
      },
      {
       "output_type": "stream",
       "stream": "stdout",
       "text": [
        "\n",
        "LittleGemsByLuisa"
       ]
      },
      {
       "output_type": "stream",
       "stream": "stdout",
       "text": [
        "\n",
        "CapeCodHandmades"
       ]
      },
      {
       "output_type": "stream",
       "stream": "stdout",
       "text": [
        "\n",
        "Accessodium"
       ]
      },
      {
       "output_type": "stream",
       "stream": "stdout",
       "text": [
        "\n",
        "littlenestboutique"
       ]
      },
      {
       "output_type": "stream",
       "stream": "stdout",
       "text": [
        "\n",
        "KoonaYogaWear"
       ]
      },
      {
       "output_type": "stream",
       "stream": "stdout",
       "text": [
        "\n",
        "valleypurl"
       ]
      },
      {
       "output_type": "stream",
       "stream": "stdout",
       "text": [
        "\n",
        "ViktorijaCraft"
       ]
      },
      {
       "output_type": "stream",
       "stream": "stdout",
       "text": [
        "\n",
        "kkaw"
       ]
      },
      {
       "output_type": "stream",
       "stream": "stdout",
       "text": [
        "\n",
        "SimplyCraftSupplies"
       ]
      },
      {
       "output_type": "stream",
       "stream": "stdout",
       "text": [
        "\n",
        "Dashright"
       ]
      },
      {
       "output_type": "stream",
       "stream": "stdout",
       "text": [
        "\n",
        "SallyAnnaBoutique"
       ]
      },
      {
       "output_type": "stream",
       "stream": "stdout",
       "text": [
        "\n",
        "ABknits"
       ]
      },
      {
       "output_type": "stream",
       "stream": "stdout",
       "text": [
        "\n",
        "Solnishko42"
       ]
      },
      {
       "output_type": "stream",
       "stream": "stdout",
       "text": [
        "\n",
        "DILALOO"
       ]
      },
      {
       "output_type": "stream",
       "stream": "stdout",
       "text": [
        "\n",
        "SophiaGianna2Sisters"
       ]
      },
      {
       "output_type": "stream",
       "stream": "stdout",
       "text": [
        "\n",
        "CrazyCuteByAngela"
       ]
      },
      {
       "output_type": "stream",
       "stream": "stdout",
       "text": [
        "\n",
        "KnittedJoys"
       ]
      },
      {
       "output_type": "stream",
       "stream": "stdout",
       "text": [
        "\n",
        "3PeasinaPod15"
       ]
      },
      {
       "output_type": "stream",
       "stream": "stdout",
       "text": [
        "\n",
        "rerunvintage"
       ]
      },
      {
       "output_type": "stream",
       "stream": "stdout",
       "text": [
        "\n",
        "FarEastHandMade"
       ]
      },
      {
       "output_type": "stream",
       "stream": "stdout",
       "text": [
        "\n",
        "ytang"
       ]
      },
      {
       "output_type": "stream",
       "stream": "stdout",
       "text": [
        "\n",
        "HideyHoleHats"
       ]
      },
      {
       "output_type": "stream",
       "stream": "stdout",
       "text": [
        "\n",
        "FunkyAirBear"
       ]
      },
      {
       "output_type": "stream",
       "stream": "stdout",
       "text": [
        "\n",
        "knitwit321"
       ]
      },
      {
       "output_type": "stream",
       "stream": "stdout",
       "text": [
        "\n",
        "BarbsSewingBasket"
       ]
      },
      {
       "output_type": "stream",
       "stream": "stdout",
       "text": [
        "\n",
        "ComfyInTheSouth"
       ]
      },
      {
       "output_type": "stream",
       "stream": "stdout",
       "text": [
        "\n",
        "TimelessTreasuresbyB"
       ]
      },
      {
       "output_type": "stream",
       "stream": "stdout",
       "text": [
        "\n",
        "ClericoCreations"
       ]
      },
      {
       "output_type": "stream",
       "stream": "stdout",
       "text": [
        "\n",
        "TokyoBlossom"
       ]
      },
      {
       "output_type": "stream",
       "stream": "stdout",
       "text": [
        "\n",
        "whitlycraftworks"
       ]
      },
      {
       "output_type": "stream",
       "stream": "stdout",
       "text": [
        "\n",
        "HappyLaika"
       ]
      },
      {
       "output_type": "stream",
       "stream": "stdout",
       "text": [
        "\n",
        "PERFECTLYPRIMATIVE"
       ]
      },
      {
       "output_type": "stream",
       "stream": "stdout",
       "text": [
        "\n",
        "CustomPhotoProps"
       ]
      },
      {
       "output_type": "stream",
       "stream": "stdout",
       "text": [
        "\n",
        "djfleesh"
       ]
      },
      {
       "output_type": "stream",
       "stream": "stdout",
       "text": [
        "\n",
        "Worldsofknitted"
       ]
      },
      {
       "output_type": "stream",
       "stream": "stdout",
       "text": [
        "\n",
        "BilgesCreation"
       ]
      },
      {
       "output_type": "stream",
       "stream": "stdout",
       "text": [
        "\n",
        "ZucchiniIsland"
       ]
      },
      {
       "output_type": "stream",
       "stream": "stdout",
       "text": [
        "\n",
        "YulemKnits"
       ]
      },
      {
       "output_type": "stream",
       "stream": "stdout",
       "text": [
        "\n",
        "TwoStixStudios"
       ]
      },
      {
       "output_type": "stream",
       "stream": "stdout",
       "text": [
        "\n",
        "CraftedEssentials"
       ]
      },
      {
       "output_type": "stream",
       "stream": "stdout",
       "text": [
        "\n",
        "ShopCountryCottage"
       ]
      },
      {
       "output_type": "stream",
       "stream": "stdout",
       "text": [
        "\n",
        "ICraftOutsidetheBox"
       ]
      },
      {
       "output_type": "stream",
       "stream": "stdout",
       "text": [
        "\n",
        "creaspir"
       ]
      },
      {
       "output_type": "stream",
       "stream": "stdout",
       "text": [
        "\n",
        "SweetEllasDesigns"
       ]
      },
      {
       "output_type": "stream",
       "stream": "stdout",
       "text": [
        "\n",
        "abellawear"
       ]
      },
      {
       "output_type": "stream",
       "stream": "stdout",
       "text": [
        "\n",
        "TheBlackElephant"
       ]
      },
      {
       "output_type": "stream",
       "stream": "stdout",
       "text": [
        "\n",
        "Iryna"
       ]
      },
      {
       "output_type": "stream",
       "stream": "stdout",
       "text": [
        "\n",
        "SewCuteQuiltAndKnit"
       ]
      },
      {
       "output_type": "stream",
       "stream": "stdout",
       "text": [
        "\n",
        "KnitbyShan"
       ]
      },
      {
       "output_type": "stream",
       "stream": "stdout",
       "text": [
        "\n",
        "MGknitting"
       ]
      },
      {
       "output_type": "stream",
       "stream": "stdout",
       "text": [
        "\n",
        "GiniJackOriginals"
       ]
      },
      {
       "output_type": "stream",
       "stream": "stdout",
       "text": [
        "\n",
        "oMallaMo"
       ]
      },
      {
       "output_type": "stream",
       "stream": "stdout",
       "text": [
        "\n",
        "PeaceThruKnitting"
       ]
      },
      {
       "output_type": "stream",
       "stream": "stdout",
       "text": [
        "\n",
        "RoostingRobbin"
       ]
      },
      {
       "output_type": "stream",
       "stream": "stdout",
       "text": [
        "\n",
        "LorisHatShop"
       ]
      },
      {
       "output_type": "stream",
       "stream": "stdout",
       "text": [
        "\n",
        "KnittedBySavannah"
       ]
      },
      {
       "output_type": "stream",
       "stream": "stdout",
       "text": [
        "\n",
        "AnnasFashionJewelry"
       ]
      },
      {
       "output_type": "stream",
       "stream": "stdout",
       "text": [
        "\n",
        "StitchKnit"
       ]
      },
      {
       "output_type": "stream",
       "stream": "stdout",
       "text": [
        "\n",
        "angikay"
       ]
      },
      {
       "output_type": "stream",
       "stream": "stdout",
       "text": [
        "\n",
        "EGHDesigns"
       ]
      },
      {
       "output_type": "stream",
       "stream": "stdout",
       "text": [
        "\n",
        "HandsTime"
       ]
      },
      {
       "output_type": "stream",
       "stream": "stdout",
       "text": [
        "\n",
        "needleloops"
       ]
      },
      {
       "output_type": "stream",
       "stream": "stdout",
       "text": [
        "\n",
        "IstanbulCalling"
       ]
      },
      {
       "output_type": "stream",
       "stream": "stdout",
       "text": [
        "\n",
        "SenseAndEmotions"
       ]
      },
      {
       "output_type": "stream",
       "stream": "stdout",
       "text": [
        "\n",
        "LizSox"
       ]
      },
      {
       "output_type": "stream",
       "stream": "stdout",
       "text": [
        "\n",
        "BlueRoosterArts"
       ]
      },
      {
       "output_type": "stream",
       "stream": "stdout",
       "text": [
        "\n",
        "TheArbitraryArtisan"
       ]
      },
      {
       "output_type": "stream",
       "stream": "stdout",
       "text": [
        "\n",
        "Blissfulloops"
       ]
      },
      {
       "output_type": "stream",
       "stream": "stdout",
       "text": [
        "\n",
        "HarrisKnittingCloset"
       ]
      },
      {
       "output_type": "stream",
       "stream": "stdout",
       "text": [
        "\n",
        "yuliatko"
       ]
      },
      {
       "output_type": "stream",
       "stream": "stdout",
       "text": [
        "\n",
        "pingosdoceu"
       ]
      },
      {
       "output_type": "stream",
       "stream": "stdout",
       "text": [
        "\n",
        "JensKnitPit"
       ]
      },
      {
       "output_type": "stream",
       "stream": "stdout",
       "text": [
        "\n",
        "LittlePandaMommy"
       ]
      },
      {
       "output_type": "stream",
       "stream": "stdout",
       "text": [
        "\n",
        "KALIFASHIONS"
       ]
      },
      {
       "output_type": "stream",
       "stream": "stdout",
       "text": [
        "\n",
        "imali"
       ]
      },
      {
       "output_type": "stream",
       "stream": "stdout",
       "text": [
        "\n",
        "kickassvintage"
       ]
      },
      {
       "output_type": "stream",
       "stream": "stdout",
       "text": [
        "\n",
        "CoryLaneCreations"
       ]
      },
      {
       "output_type": "stream",
       "stream": "stdout",
       "text": [
        "\n",
        "knittingboutique8"
       ]
      },
      {
       "output_type": "stream",
       "stream": "stdout",
       "text": [
        "\n",
        "ChiaraBoutiqe"
       ]
      },
      {
       "output_type": "stream",
       "stream": "stdout",
       "text": [
        "\n",
        "FloralSide"
       ]
      },
      {
       "output_type": "stream",
       "stream": "stdout",
       "text": [
        "\n",
        "pipisqueaks"
       ]
      },
      {
       "output_type": "stream",
       "stream": "stdout",
       "text": [
        "\n",
        "parkie2"
       ]
      },
      {
       "output_type": "stream",
       "stream": "stdout",
       "text": [
        "\n",
        "WoolFans"
       ]
      },
      {
       "output_type": "stream",
       "stream": "stdout",
       "text": [
        "\n",
        "SayItManyWays"
       ]
      },
      {
       "output_type": "stream",
       "stream": "stdout",
       "text": [
        "\n",
        "EvasStudio"
       ]
      },
      {
       "output_type": "stream",
       "stream": "stdout",
       "text": [
        "\n",
        "AJoyfulCreation"
       ]
      },
      {
       "output_type": "stream",
       "stream": "stdout",
       "text": [
        "\n",
        "ThisMomentisGood"
       ]
      },
      {
       "output_type": "stream",
       "stream": "stdout",
       "text": [
        "\n",
        "SigiSoreget"
       ]
      },
      {
       "output_type": "stream",
       "stream": "stdout",
       "text": [
        "\n",
        "LeftHandWandering"
       ]
      },
      {
       "output_type": "stream",
       "stream": "stdout",
       "text": [
        "\n",
        "PyramidSkein"
       ]
      },
      {
       "output_type": "stream",
       "stream": "stdout",
       "text": [
        "\n",
        "FocusonColor"
       ]
      },
      {
       "output_type": "stream",
       "stream": "stdout",
       "text": [
        "\n",
        "silviaol"
       ]
      },
      {
       "output_type": "stream",
       "stream": "stdout",
       "text": [
        "\n",
        "JunelloShop"
       ]
      },
      {
       "output_type": "stream",
       "stream": "stdout",
       "text": [
        "\n",
        "knittingwinters"
       ]
      },
      {
       "output_type": "stream",
       "stream": "stdout",
       "text": [
        "\n",
        "NicePuppy"
       ]
      },
      {
       "output_type": "stream",
       "stream": "stdout",
       "text": [
        "\n",
        "WayWayKnits"
       ]
      },
      {
       "output_type": "stream",
       "stream": "stdout",
       "text": [
        "\n",
        "NMSDesign"
       ]
      },
      {
       "output_type": "stream",
       "stream": "stdout",
       "text": [
        "\n",
        "SierrasStitchery"
       ]
      },
      {
       "output_type": "stream",
       "stream": "stdout",
       "text": [
        "\n",
        "HandCraftedbyAnne"
       ]
      },
      {
       "output_type": "stream",
       "stream": "stdout",
       "text": [
        "\n",
        "Flashfloozy"
       ]
      },
      {
       "output_type": "stream",
       "stream": "stdout",
       "text": [
        "\n",
        "FrannysHouse"
       ]
      },
      {
       "output_type": "stream",
       "stream": "stdout",
       "text": [
        "\n",
        "FreyaEsme"
       ]
      },
      {
       "output_type": "stream",
       "stream": "stdout",
       "text": [
        "\n",
        "Eastknits"
       ]
      },
      {
       "output_type": "stream",
       "stream": "stdout",
       "text": [
        "\n",
        "zestvintage"
       ]
      },
      {
       "output_type": "stream",
       "stream": "stdout",
       "text": [
        "\n",
        "sewurbandesigns"
       ]
      },
      {
       "output_type": "stream",
       "stream": "stdout",
       "text": [
        "\n",
        "KnittedLT"
       ]
      },
      {
       "output_type": "stream",
       "stream": "stdout",
       "text": [
        "\n",
        "RedWagonKids"
       ]
      },
      {
       "output_type": "stream",
       "stream": "stdout",
       "text": [
        "\n",
        "DosiakStyle"
       ]
      },
      {
       "output_type": "stream",
       "stream": "stdout",
       "text": [
        "\n",
        "ChicCrochet4You"
       ]
      },
      {
       "output_type": "stream",
       "stream": "stdout",
       "text": [
        "\n",
        "ZOJKAshop"
       ]
      },
      {
       "output_type": "stream",
       "stream": "stdout",
       "text": [
        "\n",
        "knitandcurl"
       ]
      },
      {
       "output_type": "stream",
       "stream": "stdout",
       "text": [
        "\n",
        "Nakkashe"
       ]
      },
      {
       "output_type": "stream",
       "stream": "stdout",
       "text": [
        "\n",
        "LoveandKnit"
       ]
      },
      {
       "output_type": "stream",
       "stream": "stdout",
       "text": [
        "\n",
        "BettyMarieJones"
       ]
      },
      {
       "output_type": "stream",
       "stream": "stdout",
       "text": [
        "\n",
        "JuliaBeeCrafts"
       ]
      },
      {
       "output_type": "stream",
       "stream": "stdout",
       "text": [
        "\n",
        "mymamaknits"
       ]
      },
      {
       "output_type": "stream",
       "stream": "stdout",
       "text": [
        "\n",
        "GrahamsBazaar"
       ]
      },
      {
       "output_type": "stream",
       "stream": "stdout",
       "text": [
        "\n",
        "BonnetsnBeads"
       ]
      },
      {
       "output_type": "stream",
       "stream": "stdout",
       "text": [
        "\n",
        "SelectKnits"
       ]
      },
      {
       "output_type": "stream",
       "stream": "stdout",
       "text": [
        "\n",
        "KnettasKnits"
       ]
      },
      {
       "output_type": "stream",
       "stream": "stdout",
       "text": [
        "\n",
        "CozyKnitsCoffeeBeans"
       ]
      },
      {
       "output_type": "stream",
       "stream": "stdout",
       "text": [
        "\n",
        "NeutralNellies"
       ]
      },
      {
       "output_type": "stream",
       "stream": "stdout",
       "text": [
        "\n",
        "LittleBoySwag"
       ]
      },
      {
       "output_type": "stream",
       "stream": "stdout",
       "text": [
        "\n",
        "EllaGajewskaHATS"
       ]
      },
      {
       "output_type": "stream",
       "stream": "stdout",
       "text": [
        "\n",
        "Dagaknit"
       ]
      },
      {
       "output_type": "stream",
       "stream": "stdout",
       "text": [
        "\n",
        "MizMizaBella"
       ]
      },
      {
       "output_type": "stream",
       "stream": "stdout",
       "text": [
        "\n",
        "HouseonCherryHill"
       ]
      },
      {
       "output_type": "stream",
       "stream": "stdout",
       "text": [
        "\n",
        "SibelDesign"
       ]
      },
      {
       "output_type": "stream",
       "stream": "stdout",
       "text": [
        "\n",
        "beadedwire"
       ]
      },
      {
       "output_type": "stream",
       "stream": "stdout",
       "text": [
        "\n",
        "CELINICRAFTS"
       ]
      },
      {
       "output_type": "stream",
       "stream": "stdout",
       "text": [
        "\n",
        "WetHenKnits"
       ]
      },
      {
       "output_type": "stream",
       "stream": "stdout",
       "text": [
        "\n",
        "Genuique"
       ]
      },
      {
       "output_type": "stream",
       "stream": "stdout",
       "text": [
        "\n",
        "SewEcological"
       ]
      },
      {
       "output_type": "stream",
       "stream": "stdout",
       "text": [
        "\n",
        "thesunandtheturtle"
       ]
      },
      {
       "output_type": "stream",
       "stream": "stdout",
       "text": [
        "\n",
        "positivepurls"
       ]
      },
      {
       "output_type": "stream",
       "stream": "stdout",
       "text": [
        "\n",
        "ekuboo"
       ]
      },
      {
       "output_type": "stream",
       "stream": "stdout",
       "text": [
        "\n",
        "JobesJewelryBox"
       ]
      },
      {
       "output_type": "stream",
       "stream": "stdout",
       "text": [
        "\n",
        "SOVAknits"
       ]
      },
      {
       "output_type": "stream",
       "stream": "stdout",
       "text": [
        "\n",
        "Elkestreasurechest"
       ]
      },
      {
       "output_type": "stream",
       "stream": "stdout",
       "text": [
        "\n",
        "IslaysTerrace"
       ]
      },
      {
       "output_type": "stream",
       "stream": "stdout",
       "text": [
        "\n",
        "BonCherCreations"
       ]
      },
      {
       "output_type": "stream",
       "stream": "stdout",
       "text": [
        "\n",
        "ASweetpeaCrafts"
       ]
      },
      {
       "output_type": "stream",
       "stream": "stdout",
       "text": [
        "\n",
        "bestdressedlady"
       ]
      },
      {
       "output_type": "stream",
       "stream": "stdout",
       "text": [
        "\n",
        "beaconknits"
       ]
      },
      {
       "output_type": "stream",
       "stream": "stdout",
       "text": [
        "\n",
        "haloopajoop"
       ]
      },
      {
       "output_type": "stream",
       "stream": "stdout",
       "text": [
        "\n",
        "purescarf"
       ]
      },
      {
       "output_type": "stream",
       "stream": "stdout",
       "text": [
        "\n",
        "CustomSashes"
       ]
      },
      {
       "output_type": "stream",
       "stream": "stdout",
       "text": [
        "\n",
        "CRAZYBOOM"
       ]
      },
      {
       "output_type": "stream",
       "stream": "stdout",
       "text": [
        "\n",
        "MAMMBAaccessories"
       ]
      },
      {
       "output_type": "stream",
       "stream": "stdout",
       "text": [
        "\n",
        "CraftyCornishMaids"
       ]
      },
      {
       "output_type": "stream",
       "stream": "stdout",
       "text": [
        "\n",
        "CandesCustomHats"
       ]
      },
      {
       "output_type": "stream",
       "stream": "stdout",
       "text": [
        "\n",
        "Kampsun"
       ]
      },
      {
       "output_type": "stream",
       "stream": "stdout",
       "text": [
        "\n",
        "Creationsbyclark"
       ]
      },
      {
       "output_type": "stream",
       "stream": "stdout",
       "text": [
        "\n",
        "WormeWoole"
       ]
      },
      {
       "output_type": "stream",
       "stream": "stdout",
       "text": [
        "\n",
        "knitsplus"
       ]
      },
      {
       "output_type": "stream",
       "stream": "stdout",
       "text": [
        "\n",
        "ShariRoseShop"
       ]
      },
      {
       "output_type": "stream",
       "stream": "stdout",
       "text": [
        "\n",
        "HandmadeHillShop"
       ]
      },
      {
       "output_type": "stream",
       "stream": "stdout",
       "text": [
        "\n",
        "AlkistiKnits"
       ]
      },
      {
       "output_type": "stream",
       "stream": "stdout",
       "text": [
        "\n",
        "AuntyJoanCrafts"
       ]
      },
      {
       "output_type": "stream",
       "stream": "stdout",
       "text": [
        "\n",
        "2mice"
       ]
      },
      {
       "output_type": "stream",
       "stream": "stdout",
       "text": [
        "\n",
        "MyCreationsByCarol"
       ]
      },
      {
       "output_type": "stream",
       "stream": "stdout",
       "text": [
        "\n",
        "MyNicePurses"
       ]
      },
      {
       "output_type": "stream",
       "stream": "stdout",
       "text": [
        "\n",
        "AuntBsAttic"
       ]
      },
      {
       "output_type": "stream",
       "stream": "stdout",
       "text": [
        "\n",
        "vintachi"
       ]
      },
      {
       "output_type": "stream",
       "stream": "stdout",
       "text": [
        "\n",
        "NataKnitwork"
       ]
      },
      {
       "output_type": "stream",
       "stream": "stdout",
       "text": [
        "\n",
        "Sheepsterscorner"
       ]
      },
      {
       "output_type": "stream",
       "stream": "stdout",
       "text": [
        "\n",
        "CEWDesignStudio"
       ]
      },
      {
       "output_type": "stream",
       "stream": "stdout",
       "text": [
        "\n",
        "MaybushModa"
       ]
      },
      {
       "output_type": "stream",
       "stream": "stdout",
       "text": [
        "\n",
        "StayWarmInStyle"
       ]
      },
      {
       "output_type": "stream",
       "stream": "stdout",
       "text": [
        "\n",
        "WoolyThinker"
       ]
      },
      {
       "output_type": "stream",
       "stream": "stdout",
       "text": [
        "\n",
        "SweetBabyJamesShop"
       ]
      },
      {
       "output_type": "stream",
       "stream": "stdout",
       "text": [
        "\n",
        "ShortroundsKnitwear"
       ]
      },
      {
       "output_type": "stream",
       "stream": "stdout",
       "text": [
        "\n",
        "fancyknits"
       ]
      },
      {
       "output_type": "stream",
       "stream": "stdout",
       "text": [
        "\n",
        "SillyLittleBlackCat"
       ]
      },
      {
       "output_type": "stream",
       "stream": "stdout",
       "text": [
        "\n",
        "brittnicarter"
       ]
      },
      {
       "output_type": "stream",
       "stream": "stdout",
       "text": [
        "\n",
        "whynotagain"
       ]
      },
      {
       "output_type": "stream",
       "stream": "stdout",
       "text": [
        "\n",
        "ACraftyObsession"
       ]
      },
      {
       "output_type": "stream",
       "stream": "stdout",
       "text": [
        "\n",
        "intheLOOPdesign"
       ]
      },
      {
       "output_type": "stream",
       "stream": "stdout",
       "text": [
        "\n",
        "stickshooksandyarn"
       ]
      },
      {
       "output_type": "stream",
       "stream": "stdout",
       "text": [
        "\n",
        "RekindledLove"
       ]
      },
      {
       "output_type": "stream",
       "stream": "stdout",
       "text": [
        "\n",
        "KnitandFeltbyNat"
       ]
      },
      {
       "output_type": "stream",
       "stream": "stdout",
       "text": [
        "\n",
        "Weknit2tog"
       ]
      },
      {
       "output_type": "stream",
       "stream": "stdout",
       "text": [
        "\n",
        "JackBentleyKnitwear"
       ]
      },
      {
       "output_type": "stream",
       "stream": "stdout",
       "text": [
        "\n",
        "KnitsForGifts"
       ]
      },
      {
       "output_type": "stream",
       "stream": "stdout",
       "text": [
        "\n",
        "sassytailor64"
       ]
      },
      {
       "output_type": "stream",
       "stream": "stdout",
       "text": [
        "\n",
        "Vintagebuttonhats"
       ]
      },
      {
       "output_type": "stream",
       "stream": "stdout",
       "text": [
        "\n",
        "wooolmint"
       ]
      },
      {
       "output_type": "stream",
       "stream": "stdout",
       "text": [
        "\n",
        "ashton11"
       ]
      },
      {
       "output_type": "stream",
       "stream": "stdout",
       "text": [
        "\n",
        "PandaHugStore"
       ]
      },
      {
       "output_type": "stream",
       "stream": "stdout",
       "text": [
        "\n",
        "LovelyLegsPlus"
       ]
      },
      {
       "output_type": "stream",
       "stream": "stdout",
       "text": [
        "\n",
        "KnottinghamKnits"
       ]
      },
      {
       "output_type": "stream",
       "stream": "stdout",
       "text": [
        "\n",
        "WhereMyStitchesAtCH"
       ]
      },
      {
       "output_type": "stream",
       "stream": "stdout",
       "text": [
        "\n",
        "TheCheshiresHat"
       ]
      },
      {
       "output_type": "stream",
       "stream": "stdout",
       "text": [
        "\n",
        "NickelsKnittery"
       ]
      },
      {
       "output_type": "stream",
       "stream": "stdout",
       "text": [
        "\n",
        "Girlpower"
       ]
      },
      {
       "output_type": "stream",
       "stream": "stdout",
       "text": [
        "\n",
        "BlossomsBeauties"
       ]
      },
      {
       "output_type": "stream",
       "stream": "stdout",
       "text": [
        "\n",
        "JBRLDesign"
       ]
      },
      {
       "output_type": "stream",
       "stream": "stdout",
       "text": [
        "\n",
        "BeUn"
       ]
      },
      {
       "output_type": "stream",
       "stream": "stdout",
       "text": [
        "\n",
        "HisforHarper"
       ]
      },
      {
       "output_type": "stream",
       "stream": "stdout",
       "text": [
        "\n",
        "WomanStyleShop"
       ]
      },
      {
       "output_type": "stream",
       "stream": "stdout",
       "text": [
        "\n",
        "NeutralNursery"
       ]
      },
      {
       "output_type": "stream",
       "stream": "stdout",
       "text": [
        "\n",
        "woollybaby"
       ]
      },
      {
       "output_type": "stream",
       "stream": "stdout",
       "text": [
        "\n",
        "KnitsandTreasures"
       ]
      },
      {
       "output_type": "stream",
       "stream": "stdout",
       "text": [
        "\n",
        "KnittName"
       ]
      },
      {
       "output_type": "stream",
       "stream": "stdout",
       "text": [
        "\n",
        "BethWintersBoutique"
       ]
      },
      {
       "output_type": "stream",
       "stream": "stdout",
       "text": [
        "\n",
        "TurkishFolkArts"
       ]
      },
      {
       "output_type": "stream",
       "stream": "stdout",
       "text": [
        "\n",
        "LANABYSVETLANA"
       ]
      },
      {
       "output_type": "stream",
       "stream": "stdout",
       "text": [
        "\n",
        "Studio20Designs"
       ]
      },
      {
       "output_type": "stream",
       "stream": "stdout",
       "text": [
        "\n",
        "DeStashAttic"
       ]
      },
      {
       "output_type": "stream",
       "stream": "stdout",
       "text": [
        "\n",
        "ATIdesign"
       ]
      },
      {
       "output_type": "stream",
       "stream": "stdout",
       "text": [
        "\n",
        "DMToques"
       ]
      },
      {
       "output_type": "stream",
       "stream": "stdout",
       "text": [
        "\n",
        "BabyHatsShoesandMore"
       ]
      },
      {
       "output_type": "stream",
       "stream": "stdout",
       "text": [
        "\n",
        "NookCove"
       ]
      },
      {
       "output_type": "stream",
       "stream": "stdout",
       "text": [
        "\n",
        "crystalandtaylor"
       ]
      },
      {
       "output_type": "stream",
       "stream": "stdout",
       "text": [
        "\n",
        "SkyRainSoap"
       ]
      },
      {
       "output_type": "stream",
       "stream": "stdout",
       "text": [
        "\n",
        "KoalaBelle"
       ]
      },
      {
       "output_type": "stream",
       "stream": "stdout",
       "text": [
        "\n",
        "Purl1VintageToo"
       ]
      },
      {
       "output_type": "stream",
       "stream": "stdout",
       "text": [
        "\n",
        "14thStKnits"
       ]
      },
      {
       "output_type": "stream",
       "stream": "stdout",
       "text": [
        "\n",
        "theGoodShnit"
       ]
      },
      {
       "output_type": "stream",
       "stream": "stdout",
       "text": [
        "\n",
        "LiLiSocks"
       ]
      },
      {
       "output_type": "stream",
       "stream": "stdout",
       "text": [
        "\n",
        "LilSweetPeaSisters"
       ]
      },
      {
       "output_type": "stream",
       "stream": "stdout",
       "text": [
        "\n",
        "CrochetByBetty"
       ]
      },
      {
       "output_type": "stream",
       "stream": "stdout",
       "text": [
        "\n",
        "CreeksideCharms"
       ]
      },
      {
       "output_type": "stream",
       "stream": "stdout",
       "text": [
        "\n",
        "TwoSparrowsBoutique"
       ]
      },
      {
       "output_type": "stream",
       "stream": "stdout",
       "text": [
        "\n",
        "GeeGeeGoGo"
       ]
      },
      {
       "output_type": "stream",
       "stream": "stdout",
       "text": [
        "\n",
        "CanadaBlissBoutique"
       ]
      },
      {
       "output_type": "stream",
       "stream": "stdout",
       "text": [
        "\n",
        "VintagePatternPlace"
       ]
      },
      {
       "output_type": "stream",
       "stream": "stdout",
       "text": [
        "\n",
        "SoftCozyAndWarm"
       ]
      },
      {
       "output_type": "stream",
       "stream": "stdout",
       "text": [
        "\n",
        "Strickolino"
       ]
      },
      {
       "output_type": "stream",
       "stream": "stdout",
       "text": [
        "\n",
        "KBsPaddywacks"
       ]
      },
      {
       "output_type": "stream",
       "stream": "stdout",
       "text": [
        "\n",
        "elmroadvintage"
       ]
      },
      {
       "output_type": "stream",
       "stream": "stdout",
       "text": [
        "\n",
        "KnittingMamas"
       ]
      },
      {
       "output_type": "stream",
       "stream": "stdout",
       "text": [
        "\n",
        "WestbrookFarm"
       ]
      },
      {
       "output_type": "stream",
       "stream": "stdout",
       "text": [
        "\n",
        "SmileyHeadSplendor"
       ]
      },
      {
       "output_type": "stream",
       "stream": "stdout",
       "text": [
        "\n",
        "LovewhorlsKnits"
       ]
      },
      {
       "output_type": "stream",
       "stream": "stdout",
       "text": [
        "\n",
        "ToOurMoonAndBack"
       ]
      },
      {
       "output_type": "stream",
       "stream": "stdout",
       "text": [
        "\n",
        "craftynannie"
       ]
      },
      {
       "output_type": "stream",
       "stream": "stdout",
       "text": [
        "\n",
        "SELINCE"
       ]
      },
      {
       "output_type": "stream",
       "stream": "stdout",
       "text": [
        "\n",
        "KsyuKnitting"
       ]
      },
      {
       "output_type": "stream",
       "stream": "stdout",
       "text": [
        "\n",
        "Nellistyle"
       ]
      },
      {
       "output_type": "stream",
       "stream": "stdout",
       "text": [
        "\n",
        "AWHatsandCrafts"
       ]
      },
      {
       "output_type": "stream",
       "stream": "stdout",
       "text": [
        "\n",
        "chicksalejunior"
       ]
      },
      {
       "output_type": "stream",
       "stream": "stdout",
       "text": [
        "\n",
        "KnitsAnKnats"
       ]
      },
      {
       "output_type": "stream",
       "stream": "stdout",
       "text": [
        "\n",
        "OnGoodLuck"
       ]
      },
      {
       "output_type": "stream",
       "stream": "stdout",
       "text": [
        "\n",
        "LittleKnitsStudio"
       ]
      },
      {
       "output_type": "stream",
       "stream": "stdout",
       "text": [
        "\n",
        "knitonestitchtoo"
       ]
      },
      {
       "output_type": "stream",
       "stream": "stdout",
       "text": [
        "\n",
        "Thingswelike2knit"
       ]
      },
      {
       "output_type": "stream",
       "stream": "stdout",
       "text": [
        "\n",
        "cutiesvintageprettys"
       ]
      },
      {
       "output_type": "stream",
       "stream": "stdout",
       "text": [
        "\n",
        "RosieSiouxCreations"
       ]
      },
      {
       "output_type": "stream",
       "stream": "stdout",
       "text": [
        "\n",
        "DeemervilleGold"
       ]
      },
      {
       "output_type": "stream",
       "stream": "stdout",
       "text": [
        "\n",
        "woolpleasure"
       ]
      },
      {
       "output_type": "stream",
       "stream": "stdout",
       "text": [
        "\n",
        "HappyKnitandCrochet"
       ]
      },
      {
       "output_type": "stream",
       "stream": "stdout",
       "text": [
        "\n",
        "Jessiescrochetcorner"
       ]
      },
      {
       "output_type": "stream",
       "stream": "stdout",
       "text": [
        "\n",
        "MinniesFlea"
       ]
      },
      {
       "output_type": "stream",
       "stream": "stdout",
       "text": [
        "\n",
        "KnitsByKB"
       ]
      },
      {
       "output_type": "stream",
       "stream": "stdout",
       "text": [
        "\n",
        "Volang"
       ]
      },
      {
       "output_type": "stream",
       "stream": "stdout",
       "text": [
        "\n",
        "Knitographer"
       ]
      },
      {
       "output_type": "stream",
       "stream": "stdout",
       "text": [
        "\n",
        "SzczecinHandmadeTeam"
       ]
      },
      {
       "output_type": "stream",
       "stream": "stdout",
       "text": [
        "\n",
        "Janeswhatnots"
       ]
      },
      {
       "output_type": "stream",
       "stream": "stdout",
       "text": [
        "\n",
        "ColoradoChickCo"
       ]
      },
      {
       "output_type": "stream",
       "stream": "stdout",
       "text": [
        "\n",
        "DobroBeat"
       ]
      },
      {
       "output_type": "stream",
       "stream": "stdout",
       "text": [
        "\n",
        "KnittingByTatiana"
       ]
      },
      {
       "output_type": "stream",
       "stream": "stdout",
       "text": [
        "\n",
        "susiedees"
       ]
      },
      {
       "output_type": "stream",
       "stream": "stdout",
       "text": [
        "\n",
        "StarfrostHandicrafts"
       ]
      },
      {
       "output_type": "stream",
       "stream": "stdout",
       "text": [
        "\n",
        "Tebessum"
       ]
      },
      {
       "output_type": "stream",
       "stream": "stdout",
       "text": [
        "\n",
        "Easy123"
       ]
      },
      {
       "output_type": "stream",
       "stream": "stdout",
       "text": [
        "\n",
        "PreciousBowtique"
       ]
      },
      {
       "output_type": "stream",
       "stream": "stdout",
       "text": [
        "\n",
        "PatchAteSmudge"
       ]
      },
      {
       "output_type": "stream",
       "stream": "stdout",
       "text": [
        "\n",
        "SewNewToMe"
       ]
      },
      {
       "output_type": "stream",
       "stream": "stdout",
       "text": [
        "\n",
        "karensstitchnitch"
       ]
      },
      {
       "output_type": "stream",
       "stream": "stdout",
       "text": [
        "\n",
        "BeautyKnitsShop"
       ]
      },
      {
       "output_type": "stream",
       "stream": "stdout",
       "text": [
        "\n",
        "vellichor"
       ]
      },
      {
       "output_type": "stream",
       "stream": "stdout",
       "text": [
        "\n",
        "TamsCraftyKnits"
       ]
      },
      {
       "output_type": "stream",
       "stream": "stdout",
       "text": [
        "\n",
        "WildGreenBeauty"
       ]
      },
      {
       "output_type": "stream",
       "stream": "stdout",
       "text": [
        "\n",
        "NaNaWoolDesign"
       ]
      },
      {
       "output_type": "stream",
       "stream": "stdout",
       "text": [
        "\n",
        "KarunaHimalaya"
       ]
      },
      {
       "output_type": "stream",
       "stream": "stdout",
       "text": [
        "\n",
        "PrettyLittleBabies"
       ]
      },
      {
       "output_type": "stream",
       "stream": "stdout",
       "text": [
        "\n",
        "MrsMzSewingRoom"
       ]
      },
      {
       "output_type": "stream",
       "stream": "stdout",
       "text": [
        "\n",
        "Ribbonandhairbows"
       ]
      },
      {
       "output_type": "stream",
       "stream": "stdout",
       "text": [
        "\n",
        "giddy4paisley"
       ]
      },
      {
       "output_type": "stream",
       "stream": "stdout",
       "text": [
        "\n",
        "VegaCreate"
       ]
      },
      {
       "output_type": "stream",
       "stream": "stdout",
       "text": [
        "\n",
        "Justadaydream"
       ]
      },
      {
       "output_type": "stream",
       "stream": "stdout",
       "text": [
        "\n",
        "mahatmascoat"
       ]
      },
      {
       "output_type": "stream",
       "stream": "stdout",
       "text": [
        "\n",
        "megsknitshit"
       ]
      },
      {
       "output_type": "stream",
       "stream": "stdout",
       "text": [
        "\n",
        "artesana"
       ]
      },
      {
       "output_type": "stream",
       "stream": "stdout",
       "text": [
        "\n",
        "VirtuousDesign31"
       ]
      },
      {
       "output_type": "stream",
       "stream": "stdout",
       "text": [
        "\n",
        "allearthlings"
       ]
      },
      {
       "output_type": "stream",
       "stream": "stdout",
       "text": [
        "\n",
        "Degra2"
       ]
      },
      {
       "output_type": "stream",
       "stream": "stdout",
       "text": [
        "\n",
        "CrazyButterflies"
       ]
      },
      {
       "output_type": "stream",
       "stream": "stdout",
       "text": [
        "\n",
        "ThreeSmallWishes"
       ]
      },
      {
       "output_type": "stream",
       "stream": "stdout",
       "text": [
        "\n",
        "Caitlinscozyknits"
       ]
      },
      {
       "output_type": "stream",
       "stream": "stdout",
       "text": [
        "\n",
        "worldofknitting"
       ]
      },
      {
       "output_type": "stream",
       "stream": "stdout",
       "text": [
        "\n",
        "WNBrunk"
       ]
      },
      {
       "output_type": "stream",
       "stream": "stdout",
       "text": [
        "\n",
        "UniqueKnitDesign"
       ]
      },
      {
       "output_type": "stream",
       "stream": "stdout",
       "text": [
        "\n",
        "TheCraftyRascal"
       ]
      },
      {
       "output_type": "stream",
       "stream": "stdout",
       "text": [
        "\n",
        "Turtlehawk83"
       ]
      },
      {
       "output_type": "stream",
       "stream": "stdout",
       "text": [
        "\n",
        "CreativeObsessionn"
       ]
      },
      {
       "output_type": "stream",
       "stream": "stdout",
       "text": [
        "\n",
        "hnutsch"
       ]
      },
      {
       "output_type": "stream",
       "stream": "stdout",
       "text": [
        "\n",
        "Ednascloset"
       ]
      },
      {
       "output_type": "stream",
       "stream": "stdout",
       "text": [
        "\n",
        "debsatticfinds"
       ]
      },
      {
       "output_type": "stream",
       "stream": "stdout",
       "text": [
        "\n",
        "Florfanka"
       ]
      },
      {
       "output_type": "stream",
       "stream": "stdout",
       "text": [
        "\n",
        "foldi"
       ]
      },
      {
       "output_type": "stream",
       "stream": "stdout",
       "text": [
        "\n",
        "PiecesBoutique"
       ]
      },
      {
       "output_type": "stream",
       "stream": "stdout",
       "text": [
        "\n",
        "ClassySassyKnitz"
       ]
      },
      {
       "output_type": "stream",
       "stream": "stdout",
       "text": [
        "\n",
        "WeThreePiggies"
       ]
      },
      {
       "output_type": "stream",
       "stream": "stdout",
       "text": [
        "\n",
        "MariasNeedleArt"
       ]
      },
      {
       "output_type": "stream",
       "stream": "stdout",
       "text": [
        "\n",
        "KanopaPatterns"
       ]
      },
      {
       "output_type": "stream",
       "stream": "stdout",
       "text": [
        "\n",
        "TiffSitsandKnits"
       ]
      },
      {
       "output_type": "stream",
       "stream": "stdout",
       "text": [
        "\n",
        "softnesslove"
       ]
      },
      {
       "output_type": "stream",
       "stream": "stdout",
       "text": [
        "\n",
        "BigFirRidge"
       ]
      },
      {
       "output_type": "stream",
       "stream": "stdout",
       "text": [
        "\n",
        "recombinantrider"
       ]
      },
      {
       "output_type": "stream",
       "stream": "stdout",
       "text": [
        "\n",
        "MarryGKnitCrochet"
       ]
      },
      {
       "output_type": "stream",
       "stream": "stdout",
       "text": [
        "\n",
        "EHM365"
       ]
      },
      {
       "output_type": "stream",
       "stream": "stdout",
       "text": [
        "\n",
        "knithatsbyTom"
       ]
      },
      {
       "output_type": "stream",
       "stream": "stdout",
       "text": [
        "\n",
        "RomeoRomeo"
       ]
      },
      {
       "output_type": "stream",
       "stream": "stdout",
       "text": [
        "\n",
        "BeijingKC"
       ]
      },
      {
       "output_type": "stream",
       "stream": "stdout",
       "text": [
        "\n",
        "kabotany"
       ]
      },
      {
       "output_type": "stream",
       "stream": "stdout",
       "text": [
        "\n",
        "Scribegirlme"
       ]
      },
      {
       "output_type": "stream",
       "stream": "stdout",
       "text": [
        "\n",
        "IvithjasCreations"
       ]
      },
      {
       "output_type": "stream",
       "stream": "stdout",
       "text": [
        "\n",
        "ElleVintage369"
       ]
      },
      {
       "output_type": "stream",
       "stream": "stdout",
       "text": [
        "\n",
        "ClosetbyFinn"
       ]
      },
      {
       "output_type": "stream",
       "stream": "stdout",
       "text": [
        "\n",
        "beaniesbybubba"
       ]
      },
      {
       "output_type": "stream",
       "stream": "stdout",
       "text": [
        "\n",
        "KnitzAndFeltz"
       ]
      },
      {
       "output_type": "stream",
       "stream": "stdout",
       "text": [
        "\n",
        "Rebelamb"
       ]
      },
      {
       "output_type": "stream",
       "stream": "stdout",
       "text": [
        "\n",
        "lilbowsandarrows"
       ]
      },
      {
       "output_type": "stream",
       "stream": "stdout",
       "text": [
        "\n",
        "SoulTrail"
       ]
      },
      {
       "output_type": "stream",
       "stream": "stdout",
       "text": [
        "\n",
        "RebeccasWool"
       ]
      },
      {
       "output_type": "stream",
       "stream": "stdout",
       "text": [
        "\n",
        "spinningknitting1"
       ]
      },
      {
       "output_type": "stream",
       "stream": "stdout",
       "text": [
        "\n",
        "fatjoeyknitwear"
       ]
      },
      {
       "output_type": "stream",
       "stream": "stdout",
       "text": [
        "\n",
        "CHUNKYBULKYKNITS"
       ]
      },
      {
       "output_type": "stream",
       "stream": "stdout",
       "text": [
        "\n",
        "NoraTones"
       ]
      },
      {
       "output_type": "stream",
       "stream": "stdout",
       "text": [
        "\n",
        "slouchiehats"
       ]
      },
      {
       "output_type": "stream",
       "stream": "stdout",
       "text": [
        "\n",
        "SusanDeanne"
       ]
      },
      {
       "output_type": "stream",
       "stream": "stdout",
       "text": [
        "\n",
        "prettyoffensive"
       ]
      },
      {
       "output_type": "stream",
       "stream": "stdout",
       "text": [
        "\n",
        "PandaLolipops"
       ]
      },
      {
       "output_type": "stream",
       "stream": "stdout",
       "text": [
        "\n",
        "TheCraftapplePanda"
       ]
      },
      {
       "output_type": "stream",
       "stream": "stdout",
       "text": [
        "\n",
        "Shoesandaccessories"
       ]
      },
      {
       "output_type": "stream",
       "stream": "stdout",
       "text": [
        "\n",
        "Cocomillo"
       ]
      },
      {
       "output_type": "stream",
       "stream": "stdout",
       "text": [
        "\n",
        "GrannieMadeGoods"
       ]
      },
      {
       "output_type": "stream",
       "stream": "stdout",
       "text": [
        "\n",
        "CdCkDesign"
       ]
      },
      {
       "output_type": "stream",
       "stream": "stdout",
       "text": [
        "\n",
        "DGDwithlove"
       ]
      },
      {
       "output_type": "stream",
       "stream": "stdout",
       "text": [
        "\n",
        "MurfmadeKnits"
       ]
      },
      {
       "output_type": "stream",
       "stream": "stdout",
       "text": [
        "\n",
        "SarBobsy"
       ]
      },
      {
       "output_type": "stream",
       "stream": "stdout",
       "text": [
        "\n",
        "christnakosininski"
       ]
      },
      {
       "output_type": "stream",
       "stream": "stdout",
       "text": [
        "\n",
        "bebebeecouture"
       ]
      },
      {
       "output_type": "stream",
       "stream": "stdout",
       "text": [
        "\n",
        "GoldenPineAlpacas"
       ]
      },
      {
       "output_type": "stream",
       "stream": "stdout",
       "text": [
        "\n",
        "BeyondTheDreamStudio"
       ]
      },
      {
       "output_type": "stream",
       "stream": "stdout",
       "text": [
        "\n",
        "IngaDesignShop"
       ]
      },
      {
       "output_type": "stream",
       "stream": "stdout",
       "text": [
        "\n",
        "knitsdwarfs"
       ]
      },
      {
       "output_type": "stream",
       "stream": "stdout",
       "text": [
        "\n",
        "cosediisa"
       ]
      },
      {
       "output_type": "stream",
       "stream": "stdout",
       "text": [
        "\n",
        "VintagePolkaShop"
       ]
      },
      {
       "output_type": "stream",
       "stream": "stdout",
       "text": [
        "\n",
        "hannahleighknits"
       ]
      },
      {
       "output_type": "stream",
       "stream": "stdout",
       "text": [
        "\n",
        "StraightenedArrow"
       ]
      },
      {
       "output_type": "stream",
       "stream": "stdout",
       "text": [
        "\n",
        "SilverMapleKnits"
       ]
      },
      {
       "output_type": "stream",
       "stream": "stdout",
       "text": [
        "\n",
        "CharlotteAuzou"
       ]
      },
      {
       "output_type": "stream",
       "stream": "stdout",
       "text": [
        "\n",
        "snapincharms"
       ]
      },
      {
       "output_type": "stream",
       "stream": "stdout",
       "text": [
        "\n",
        "HawthornStudio"
       ]
      },
      {
       "output_type": "stream",
       "stream": "stdout",
       "text": [
        "\n",
        "SecondhandObsession"
       ]
      },
      {
       "output_type": "stream",
       "stream": "stdout",
       "text": [
        "\n",
        "GMolly"
       ]
      },
      {
       "output_type": "stream",
       "stream": "stdout",
       "text": [
        "\n",
        "CardinalLane"
       ]
      },
      {
       "output_type": "stream",
       "stream": "stdout",
       "text": [
        "\n",
        "LydiasCreations101"
       ]
      },
      {
       "output_type": "stream",
       "stream": "stdout",
       "text": [
        "\n",
        "OBJECTSofMATTER"
       ]
      },
      {
       "output_type": "stream",
       "stream": "stdout",
       "text": [
        "\n",
        "AuntieMsCrafting"
       ]
      },
      {
       "output_type": "stream",
       "stream": "stdout",
       "text": [
        "\n",
        "barreez"
       ]
      },
      {
       "output_type": "stream",
       "stream": "stdout",
       "text": [
        "\n",
        "KraeO"
       ]
      },
      {
       "output_type": "stream",
       "stream": "stdout",
       "text": [
        "\n",
        "GratitudeGiftsForAll"
       ]
      },
      {
       "output_type": "stream",
       "stream": "stdout",
       "text": [
        "\n",
        "MagooandBaloo"
       ]
      },
      {
       "output_type": "stream",
       "stream": "stdout",
       "text": [
        "\n",
        "StormyWeatherKnits"
       ]
      },
      {
       "output_type": "stream",
       "stream": "stdout",
       "text": [
        "\n",
        "NevadaKnits"
       ]
      },
      {
       "output_type": "stream",
       "stream": "stdout",
       "text": [
        "\n",
        "CreationsbyMaris"
       ]
      },
      {
       "output_type": "stream",
       "stream": "stdout",
       "text": [
        "\n",
        "TwoOfWandsShop"
       ]
      },
      {
       "output_type": "stream",
       "stream": "stdout",
       "text": [
        "\n",
        "BrownBagFarm"
       ]
      },
      {
       "output_type": "stream",
       "stream": "stdout",
       "text": [
        "\n",
        "EllaBabyBasket"
       ]
      },
      {
       "output_type": "stream",
       "stream": "stdout",
       "text": [
        "\n",
        "VintageNeedleArts"
       ]
      },
      {
       "output_type": "stream",
       "stream": "stdout",
       "text": [
        "\n",
        "KittyBritchesBoutiqu"
       ]
      },
      {
       "output_type": "stream",
       "stream": "stdout",
       "text": [
        "\n",
        "ColdSnapsKnits"
       ]
      },
      {
       "output_type": "stream",
       "stream": "stdout",
       "text": [
        "\n",
        "BabyBirdz"
       ]
      },
      {
       "output_type": "stream",
       "stream": "stdout",
       "text": [
        "\n",
        "Razels"
       ]
      },
      {
       "output_type": "stream",
       "stream": "stdout",
       "text": [
        "\n",
        "evaandjeandesigns"
       ]
      },
      {
       "output_type": "stream",
       "stream": "stdout",
       "text": [
        "\n",
        "InaTwistShop"
       ]
      },
      {
       "output_type": "stream",
       "stream": "stdout",
       "text": [
        "\n",
        "Handmadeitemsbyrosie"
       ]
      },
      {
       "output_type": "stream",
       "stream": "stdout",
       "text": [
        "\n",
        "Eastcraeft"
       ]
      },
      {
       "output_type": "stream",
       "stream": "stdout",
       "text": [
        "\n",
        "luludress"
       ]
      },
      {
       "output_type": "stream",
       "stream": "stdout",
       "text": [
        "\n",
        "KlotoCute"
       ]
      },
      {
       "output_type": "stream",
       "stream": "stdout",
       "text": [
        "\n",
        "baldyhillhomemade"
       ]
      },
      {
       "output_type": "stream",
       "stream": "stdout",
       "text": [
        "\n",
        "KnittyFashions"
       ]
      },
      {
       "output_type": "stream",
       "stream": "stdout",
       "text": [
        "\n",
        "OriginalKnitting"
       ]
      },
      {
       "output_type": "stream",
       "stream": "stdout",
       "text": [
        "\n",
        "CarameloBoutique"
       ]
      },
      {
       "output_type": "stream",
       "stream": "stdout",
       "text": [
        "\n",
        "CustomCuddlers"
       ]
      },
      {
       "output_type": "stream",
       "stream": "stdout",
       "text": [
        "\n",
        "garysangel"
       ]
      },
      {
       "output_type": "stream",
       "stream": "stdout",
       "text": [
        "\n",
        "ElliesTiaras"
       ]
      },
      {
       "output_type": "stream",
       "stream": "stdout",
       "text": [
        "\n",
        "AlaskanKnitGifts"
       ]
      },
      {
       "output_type": "stream",
       "stream": "stdout",
       "text": [
        "\n",
        "GiuliaKnit"
       ]
      },
      {
       "output_type": "stream",
       "stream": "stdout",
       "text": [
        "\n",
        "TurtleTreasures"
       ]
      },
      {
       "output_type": "stream",
       "stream": "stdout",
       "text": [
        "\n",
        "HandmadeByErinn"
       ]
      },
      {
       "output_type": "stream",
       "stream": "stdout",
       "text": [
        "\n",
        "PersonalizedKnits"
       ]
      },
      {
       "output_type": "stream",
       "stream": "stdout",
       "text": [
        "\n",
        "SundialArts"
       ]
      },
      {
       "output_type": "stream",
       "stream": "stdout",
       "text": [
        "\n",
        "nanascottagehouse"
       ]
      },
      {
       "output_type": "stream",
       "stream": "stdout",
       "text": [
        "\n",
        "ArielArtsKnits"
       ]
      },
      {
       "output_type": "stream",
       "stream": "stdout",
       "text": [
        "\n",
        "KnitAndCrochetDesign"
       ]
      },
      {
       "output_type": "stream",
       "stream": "stdout",
       "text": [
        "\n",
        "CrasiiCoco"
       ]
      },
      {
       "output_type": "stream",
       "stream": "stdout",
       "text": [
        "\n",
        "BuggyBooCrafts"
       ]
      },
      {
       "output_type": "stream",
       "stream": "stdout",
       "text": [
        "\n",
        "FashionShop19"
       ]
      },
      {
       "output_type": "stream",
       "stream": "stdout",
       "text": [
        "\n",
        "RiverStonesFiberArts"
       ]
      },
      {
       "output_type": "stream",
       "stream": "stdout",
       "text": [
        "\n",
        "ReignlandConcept"
       ]
      },
      {
       "output_type": "stream",
       "stream": "stdout",
       "text": [
        "\n",
        "SmallEarthVintage"
       ]
      },
      {
       "output_type": "stream",
       "stream": "stdout",
       "text": [
        "\n",
        "BabyBearInc"
       ]
      },
      {
       "output_type": "stream",
       "stream": "stdout",
       "text": [
        "\n",
        "HandmadebyPaulaMary"
       ]
      },
      {
       "output_type": "stream",
       "stream": "stdout",
       "text": [
        "\n",
        "TableTopJewels"
       ]
      },
      {
       "output_type": "stream",
       "stream": "stdout",
       "text": [
        "\n",
        "KnittedWinterHats"
       ]
      },
      {
       "output_type": "stream",
       "stream": "stdout",
       "text": [
        "\n",
        "itaveroknits"
       ]
      },
      {
       "output_type": "stream",
       "stream": "stdout",
       "text": [
        "\n",
        "VIRTTARHAR"
       ]
      },
      {
       "output_type": "stream",
       "stream": "stdout",
       "text": [
        "\n",
        "MaryAliceFeltLikeIt"
       ]
      },
      {
       "output_type": "stream",
       "stream": "stdout",
       "text": [
        "\n",
        "spiltmilkdesigns"
       ]
      },
      {
       "output_type": "stream",
       "stream": "stdout",
       "text": [
        "\n",
        "wincsike"
       ]
      },
      {
       "output_type": "stream",
       "stream": "stdout",
       "text": [
        "\n",
        "TheWoollyGarment"
       ]
      },
      {
       "output_type": "stream",
       "stream": "stdout",
       "text": [
        "\n",
        "VeryCarey"
       ]
      },
      {
       "output_type": "stream",
       "stream": "stdout",
       "text": [
        "\n",
        "BSKnitting"
       ]
      },
      {
       "output_type": "stream",
       "stream": "stdout",
       "text": [
        "\n",
        "ThePureNest"
       ]
      },
      {
       "output_type": "stream",
       "stream": "stdout",
       "text": [
        "\n",
        "IvannaN"
       ]
      },
      {
       "output_type": "stream",
       "stream": "stdout",
       "text": [
        "\n",
        "FancynCuteBoutique"
       ]
      },
      {
       "output_type": "stream",
       "stream": "stdout",
       "text": [
        "\n",
        "apricitystore"
       ]
      },
      {
       "output_type": "stream",
       "stream": "stdout",
       "text": [
        "\n",
        "Aerophane"
       ]
      },
      {
       "output_type": "stream",
       "stream": "stdout",
       "text": [
        "\n",
        "AnnaMariaLocke"
       ]
      },
      {
       "output_type": "stream",
       "stream": "stdout",
       "text": [
        "\n",
        "KLizVintage"
       ]
      },
      {
       "output_type": "stream",
       "stream": "stdout",
       "text": [
        "\n",
        "TulsaToys"
       ]
      },
      {
       "output_type": "stream",
       "stream": "stdout",
       "text": [
        "\n",
        "KNITLEBITS"
       ]
      },
      {
       "output_type": "stream",
       "stream": "stdout",
       "text": [
        "\n",
        "knitaccessoriesfadik"
       ]
      },
      {
       "output_type": "stream",
       "stream": "stdout",
       "text": [
        "\n",
        "SZVKNITS"
       ]
      },
      {
       "output_type": "stream",
       "stream": "stdout",
       "text": [
        "\n",
        "danielastange"
       ]
      },
      {
       "output_type": "stream",
       "stream": "stdout",
       "text": [
        "\n",
        "CraftyHomeandMore"
       ]
      },
      {
       "output_type": "stream",
       "stream": "stdout",
       "text": [
        "\n",
        "Knitrhapsody"
       ]
      },
      {
       "output_type": "stream",
       "stream": "stdout",
       "text": [
        "\n",
        "KnittingLand"
       ]
      },
      {
       "output_type": "stream",
       "stream": "stdout",
       "text": [
        "\n",
        "LadyJsHodgepodgery"
       ]
      },
      {
       "output_type": "stream",
       "stream": "stdout",
       "text": [
        "\n",
        "3colon7"
       ]
      },
      {
       "output_type": "stream",
       "stream": "stdout",
       "text": [
        "\n",
        "AllAboutStripes"
       ]
      },
      {
       "output_type": "stream",
       "stream": "stdout",
       "text": [
        "\n",
        "APlusJewelryCrafts"
       ]
      },
      {
       "output_type": "stream",
       "stream": "stdout",
       "text": [
        "\n",
        "SmallTownHandMade"
       ]
      },
      {
       "output_type": "stream",
       "stream": "stdout",
       "text": [
        "\n",
        "carolynscritter"
       ]
      },
      {
       "output_type": "stream",
       "stream": "stdout",
       "text": [
        "\n",
        "GranasCorner"
       ]
      },
      {
       "output_type": "stream",
       "stream": "stdout",
       "text": [
        "\n",
        "SimplyWestCoast"
       ]
      },
      {
       "output_type": "stream",
       "stream": "stdout",
       "text": [
        "\n",
        "MissLisBoutique"
       ]
      },
      {
       "output_type": "stream",
       "stream": "stdout",
       "text": [
        "\n",
        "UnlimitedCraftworks"
       ]
      },
      {
       "output_type": "stream",
       "stream": "stdout",
       "text": [
        "\n",
        "CozyKnitsByJeannie"
       ]
      },
      {
       "output_type": "stream",
       "stream": "stdout",
       "text": [
        "\n",
        "MariArtFelting"
       ]
      },
      {
       "output_type": "stream",
       "stream": "stdout",
       "text": [
        "\n",
        "FreshtoDeathVintage"
       ]
      },
      {
       "output_type": "stream",
       "stream": "stdout",
       "text": [
        "\n",
        "LongHaulAccessories"
       ]
      },
      {
       "output_type": "stream",
       "stream": "stdout",
       "text": [
        "\n",
        "maryscc"
       ]
      },
      {
       "output_type": "stream",
       "stream": "stdout",
       "text": [
        "\n",
        "GoCrochetCreations"
       ]
      },
      {
       "output_type": "stream",
       "stream": "stdout",
       "text": [
        "\n",
        "SylviDesigns"
       ]
      },
      {
       "output_type": "stream",
       "stream": "stdout",
       "text": [
        "\n",
        "SouthernMomCreations"
       ]
      },
      {
       "output_type": "stream",
       "stream": "stdout",
       "text": [
        "\n",
        "bigbangzero"
       ]
      },
      {
       "output_type": "stream",
       "stream": "stdout",
       "text": [
        "\n",
        "WinterWoollys"
       ]
      },
      {
       "output_type": "stream",
       "stream": "stdout",
       "text": [
        "\n",
        "PropsandPoses"
       ]
      },
      {
       "output_type": "stream",
       "stream": "stdout",
       "text": [
        "\n",
        "FortheQTs"
       ]
      },
      {
       "output_type": "stream",
       "stream": "stdout",
       "text": [
        "\n",
        "KeriJeanandCo"
       ]
      },
      {
       "output_type": "stream",
       "stream": "stdout",
       "text": [
        "\n",
        "HemsAndLocks"
       ]
      },
      {
       "output_type": "stream",
       "stream": "stdout",
       "text": [
        "\n",
        "HeartNSoleCreations"
       ]
      },
      {
       "output_type": "stream",
       "stream": "stdout",
       "text": [
        "\n",
        "ColorfulTrends"
       ]
      },
      {
       "output_type": "stream",
       "stream": "stdout",
       "text": [
        "\n",
        "pompomhats"
       ]
      },
      {
       "output_type": "stream",
       "stream": "stdout",
       "text": [
        "\n",
        "EclecticallyCampbell"
       ]
      },
      {
       "output_type": "stream",
       "stream": "stdout",
       "text": [
        "\n",
        "GoldenYarn"
       ]
      },
      {
       "output_type": "stream",
       "stream": "stdout",
       "text": [
        "\n",
        "BearsBlanketsQuilts"
       ]
      },
      {
       "output_type": "stream",
       "stream": "stdout",
       "text": [
        "\n",
        "YASEMINYASEMIN"
       ]
      },
      {
       "output_type": "stream",
       "stream": "stdout",
       "text": [
        "\n",
        "PIQI"
       ]
      },
      {
       "output_type": "stream",
       "stream": "stdout",
       "text": [
        "\n",
        "MariaVonPrague"
       ]
      },
      {
       "output_type": "stream",
       "stream": "stdout",
       "text": [
        "\n",
        "BorealisHandicrafts"
       ]
      },
      {
       "output_type": "stream",
       "stream": "stdout",
       "text": [
        "\n",
        "ifilicoloratidisara"
       ]
      },
      {
       "output_type": "stream",
       "stream": "stdout",
       "text": [
        "\n",
        "CDBStudio"
       ]
      },
      {
       "output_type": "stream",
       "stream": "stdout",
       "text": [
        "\n",
        "accessoriesbynez"
       ]
      },
      {
       "output_type": "stream",
       "stream": "stdout",
       "text": [
        "\n",
        "DawnLdesigns"
       ]
      },
      {
       "output_type": "stream",
       "stream": "stdout",
       "text": [
        "\n",
        "CarterPEACEworks"
       ]
      },
      {
       "output_type": "stream",
       "stream": "stdout",
       "text": [
        "\n",
        "KokomoLady"
       ]
      },
      {
       "output_type": "stream",
       "stream": "stdout",
       "text": [
        "\n",
        "VandOUA"
       ]
      },
      {
       "output_type": "stream",
       "stream": "stdout",
       "text": [
        "\n",
        "bb2213"
       ]
      },
      {
       "output_type": "stream",
       "stream": "stdout",
       "text": [
        "\n",
        "laceandcable"
       ]
      },
      {
       "output_type": "stream",
       "stream": "stdout",
       "text": [
        "\n",
        "EadoVintage"
       ]
      },
      {
       "output_type": "stream",
       "stream": "stdout",
       "text": [
        "\n",
        "JYCCreations"
       ]
      },
      {
       "output_type": "stream",
       "stream": "stdout",
       "text": [
        "\n",
        "ForTheGuys"
       ]
      },
      {
       "output_type": "stream",
       "stream": "stdout",
       "text": [
        "\n",
        "FairlyKnit"
       ]
      },
      {
       "output_type": "stream",
       "stream": "stdout",
       "text": [
        "\n",
        "AgneseKnits"
       ]
      },
      {
       "output_type": "stream",
       "stream": "stdout",
       "text": [
        "\n",
        "KnitzyBlonde"
       ]
      },
      {
       "output_type": "stream",
       "stream": "stdout",
       "text": [
        "\n",
        "BoryanacrochetBG"
       ]
      },
      {
       "output_type": "stream",
       "stream": "stdout",
       "text": [
        "\n",
        "Ricocoinc"
       ]
      },
      {
       "output_type": "stream",
       "stream": "stdout",
       "text": [
        "\n",
        "YouNeedMoreFiber"
       ]
      },
      {
       "output_type": "stream",
       "stream": "stdout",
       "text": [
        "\n",
        "LacysLittleAcre"
       ]
      },
      {
       "output_type": "stream",
       "stream": "stdout",
       "text": [
        "\n",
        "GataJewelry"
       ]
      },
      {
       "output_type": "stream",
       "stream": "stdout",
       "text": [
        "\n",
        "wearnative"
       ]
      },
      {
       "output_type": "stream",
       "stream": "stdout",
       "text": [
        "\n",
        "HollysAccessories"
       ]
      },
      {
       "output_type": "stream",
       "stream": "stdout",
       "text": [
        "\n",
        "KnottyOrNiceKnits"
       ]
      },
      {
       "output_type": "stream",
       "stream": "stdout",
       "text": [
        "\n",
        "MyBeautifulLifeShop"
       ]
      },
      {
       "output_type": "stream",
       "stream": "stdout",
       "text": [
        "\n",
        "TheYarnOverProject"
       ]
      },
      {
       "output_type": "stream",
       "stream": "stdout",
       "text": [
        "\n",
        "dirtybirdiesvintage"
       ]
      },
      {
       "output_type": "stream",
       "stream": "stdout",
       "text": [
        "\n",
        "YarnBarn305"
       ]
      },
      {
       "output_type": "stream",
       "stream": "stdout",
       "text": [
        "\n",
        "KatySueKnits"
       ]
      },
      {
       "output_type": "stream",
       "stream": "stdout",
       "text": [
        "\n",
        "9ElizabethStreet"
       ]
      },
      {
       "output_type": "stream",
       "stream": "stdout",
       "text": [
        "\n",
        "Iheartbeaniebabies"
       ]
      },
      {
       "output_type": "stream",
       "stream": "stdout",
       "text": [
        "\n",
        "RobinsNestBoutique"
       ]
      },
      {
       "output_type": "stream",
       "stream": "stdout",
       "text": [
        "\n",
        "PupaShop"
       ]
      },
      {
       "output_type": "stream",
       "stream": "stdout",
       "text": [
        "\n",
        "electricbunnycrafts"
       ]
      },
      {
       "output_type": "stream",
       "stream": "stdout",
       "text": [
        "\n",
        "Pikeys"
       ]
      },
      {
       "output_type": "stream",
       "stream": "stdout",
       "text": [
        "\n",
        "atiltKC"
       ]
      },
      {
       "output_type": "stream",
       "stream": "stdout",
       "text": [
        "\n",
        "artwardrobe"
       ]
      },
      {
       "output_type": "stream",
       "stream": "stdout",
       "text": [
        "\n",
        "ceibohandmade"
       ]
      },
      {
       "output_type": "stream",
       "stream": "stdout",
       "text": [
        "\n",
        "HobiholikFashion"
       ]
      },
      {
       "output_type": "stream",
       "stream": "stdout",
       "text": [
        "\n",
        "TheKnittedHat"
       ]
      },
      {
       "output_type": "stream",
       "stream": "stdout",
       "text": [
        "\n",
        "Cuteling"
       ]
      },
      {
       "output_type": "stream",
       "stream": "stdout",
       "text": [
        "\n",
        "EnchantedKnits"
       ]
      },
      {
       "output_type": "stream",
       "stream": "stdout",
       "text": [
        "\n",
        "ALLCAPSknithats"
       ]
      },
      {
       "output_type": "stream",
       "stream": "stdout",
       "text": [
        "\n",
        "FineHandMadeClothes"
       ]
      },
      {
       "output_type": "stream",
       "stream": "stdout",
       "text": [
        "\n",
        "ZAPrix"
       ]
      },
      {
       "output_type": "stream",
       "stream": "stdout",
       "text": [
        "\n",
        "caginas"
       ]
      },
      {
       "output_type": "stream",
       "stream": "stdout",
       "text": [
        "\n",
        "AntelopeFlats"
       ]
      },
      {
       "output_type": "stream",
       "stream": "stdout",
       "text": [
        "\n",
        "justalittleknitter"
       ]
      },
      {
       "output_type": "stream",
       "stream": "stdout",
       "text": [
        "\n",
        "GingerBearKnitwear"
       ]
      },
      {
       "output_type": "stream",
       "stream": "stdout",
       "text": [
        "\n",
        "PauliszkaKnits"
       ]
      },
      {
       "output_type": "stream",
       "stream": "stdout",
       "text": [
        "\n",
        "HandmadeByEvelien"
       ]
      },
      {
       "output_type": "stream",
       "stream": "stdout",
       "text": [
        "\n",
        "NewbornEwe"
       ]
      },
      {
       "output_type": "stream",
       "stream": "stdout",
       "text": [
        "\n",
        "Fanchi"
       ]
      },
      {
       "output_type": "stream",
       "stream": "stdout",
       "text": [
        "\n",
        "selfex"
       ]
      },
      {
       "output_type": "stream",
       "stream": "stdout",
       "text": [
        "\n",
        "NeckLyfe"
       ]
      },
      {
       "output_type": "stream",
       "stream": "stdout",
       "text": [
        "\n",
        "KnitStitchCross"
       ]
      },
      {
       "output_type": "stream",
       "stream": "stdout",
       "text": [
        "\n",
        "byMagic"
       ]
      },
      {
       "output_type": "stream",
       "stream": "stdout",
       "text": [
        "\n",
        "mioukids"
       ]
      },
      {
       "output_type": "stream",
       "stream": "stdout",
       "text": [
        "\n",
        "KatrinKnitting"
       ]
      },
      {
       "output_type": "stream",
       "stream": "stdout",
       "text": [
        "\n",
        "CrackedPistachios"
       ]
      },
      {
       "output_type": "stream",
       "stream": "stdout",
       "text": [
        "\n",
        "ScandinavianCrafts"
       ]
      },
      {
       "output_type": "stream",
       "stream": "stdout",
       "text": [
        "\n",
        "NorthStarrVintage"
       ]
      },
      {
       "output_type": "stream",
       "stream": "stdout",
       "text": [
        "\n",
        "GrannieKayGiftsCraft"
       ]
      },
      {
       "output_type": "stream",
       "stream": "stdout",
       "text": [
        "\n",
        "lienra"
       ]
      },
      {
       "output_type": "stream",
       "stream": "stdout",
       "text": [
        "\n",
        "LaReserveDesign"
       ]
      },
      {
       "output_type": "stream",
       "stream": "stdout",
       "text": [
        "\n",
        "GrandmaDragonsAttic"
       ]
      },
      {
       "output_type": "stream",
       "stream": "stdout",
       "text": [
        "\n",
        "KadyLadyLoo"
       ]
      },
      {
       "output_type": "stream",
       "stream": "stdout",
       "text": [
        "\n",
        "LavenderLassies"
       ]
      },
      {
       "output_type": "stream",
       "stream": "stdout",
       "text": [
        "\n",
        "MarikaHandKnits"
       ]
      },
      {
       "output_type": "stream",
       "stream": "stdout",
       "text": [
        "\n",
        "YarnsInMotion"
       ]
      },
      {
       "output_type": "stream",
       "stream": "stdout",
       "text": [
        "\n",
        "KnittingDailyShop"
       ]
      },
      {
       "output_type": "stream",
       "stream": "stdout",
       "text": [
        "\n",
        "KnitsbyVeronica"
       ]
      },
      {
       "output_type": "stream",
       "stream": "stdout",
       "text": [
        "\n",
        "HandmakeOrgUa"
       ]
      },
      {
       "output_type": "stream",
       "stream": "stdout",
       "text": [
        "\n",
        "irinacarmen"
       ]
      },
      {
       "output_type": "stream",
       "stream": "stdout",
       "text": [
        "\n",
        "homelab"
       ]
      },
      {
       "output_type": "stream",
       "stream": "stdout",
       "text": [
        "\n",
        "HandKnitByHanna"
       ]
      },
      {
       "output_type": "stream",
       "stream": "stdout",
       "text": [
        "\n",
        "TravelingCarousel"
       ]
      },
      {
       "output_type": "stream",
       "stream": "stdout",
       "text": [
        "\n",
        "SexyCrochetByOlga"
       ]
      },
      {
       "output_type": "stream",
       "stream": "stdout",
       "text": [
        "\n",
        "takemyinventory"
       ]
      },
      {
       "output_type": "stream",
       "stream": "stdout",
       "text": [
        "\n",
        "DonizBaby"
       ]
      },
      {
       "output_type": "stream",
       "stream": "stdout",
       "text": [
        "\n",
        "SimplyPlaying1"
       ]
      },
      {
       "output_type": "stream",
       "stream": "stdout",
       "text": [
        "\n",
        "WooolBaby"
       ]
      },
      {
       "output_type": "stream",
       "stream": "stdout",
       "text": [
        "\n",
        "MomentsInTwine"
       ]
      },
      {
       "output_type": "stream",
       "stream": "stdout",
       "text": [
        "\n",
        "AnjaClauberg"
       ]
      },
      {
       "output_type": "stream",
       "stream": "stdout",
       "text": [
        "\n",
        "BugEatersKnits"
       ]
      },
      {
       "output_type": "stream",
       "stream": "stdout",
       "text": [
        "\n",
        "AnnaleesAccents"
       ]
      },
      {
       "output_type": "stream",
       "stream": "stdout",
       "text": [
        "\n",
        "CutseyOnEtsy"
       ]
      },
      {
       "output_type": "stream",
       "stream": "stdout",
       "text": [
        "\n",
        "ImperialVintageBTQ"
       ]
      },
      {
       "output_type": "stream",
       "stream": "stdout",
       "text": [
        "\n",
        "LesleysHandknits"
       ]
      },
      {
       "output_type": "stream",
       "stream": "stdout",
       "text": [
        "\n",
        "ElenaLstudio"
       ]
      },
      {
       "output_type": "stream",
       "stream": "stdout",
       "text": [
        "\n",
        "AirbrushStuf"
       ]
      },
      {
       "output_type": "stream",
       "stream": "stdout",
       "text": [
        "\n",
        "LuzyFlor"
       ]
      },
      {
       "output_type": "stream",
       "stream": "stdout",
       "text": [
        "\n",
        "PETALKNITS"
       ]
      },
      {
       "output_type": "stream",
       "stream": "stdout",
       "text": [
        "\n",
        "quatresaison"
       ]
      },
      {
       "output_type": "stream",
       "stream": "stdout",
       "text": [
        "\n",
        "LittleBelleBelle"
       ]
      },
      {
       "output_type": "stream",
       "stream": "stdout",
       "text": [
        "\n",
        "kiFaitMain"
       ]
      },
      {
       "output_type": "stream",
       "stream": "stdout",
       "text": [
        "\n",
        "StyleandSalvage"
       ]
      },
      {
       "output_type": "stream",
       "stream": "stdout",
       "text": [
        "\n",
        "LoveFuzz"
       ]
      },
      {
       "output_type": "stream",
       "stream": "stdout",
       "text": [
        "\n",
        "kozikreation"
       ]
      },
      {
       "output_type": "stream",
       "stream": "stdout",
       "text": [
        "\n",
        "KnitteryRow"
       ]
      },
      {
       "output_type": "stream",
       "stream": "stdout",
       "text": [
        "\n",
        "AnEpicStitch"
       ]
      },
      {
       "output_type": "stream",
       "stream": "stdout",
       "text": [
        "\n",
        "DanaFunKnits"
       ]
      },
      {
       "output_type": "stream",
       "stream": "stdout",
       "text": [
        "\n",
        "MarvelousMittens"
       ]
      },
      {
       "output_type": "stream",
       "stream": "stdout",
       "text": [
        "\n",
        "LaimaShop"
       ]
      },
      {
       "output_type": "stream",
       "stream": "stdout",
       "text": [
        "\n",
        "TheKnotHaus"
       ]
      },
      {
       "output_type": "stream",
       "stream": "stdout",
       "text": [
        "\n",
        "CreatiKnit"
       ]
      },
      {
       "output_type": "stream",
       "stream": "stdout",
       "text": [
        "\n",
        "KemiCreations"
       ]
      },
      {
       "output_type": "stream",
       "stream": "stdout",
       "text": [
        "\n",
        "jiloona"
       ]
      },
      {
       "output_type": "stream",
       "stream": "stdout",
       "text": [
        "\n",
        "MinxVTG"
       ]
      },
      {
       "output_type": "stream",
       "stream": "stdout",
       "text": [
        "\n",
        "BebeOhLaLaEtsy"
       ]
      },
      {
       "output_type": "stream",
       "stream": "stdout",
       "text": [
        "\n",
        "RebeccasRoomKnitting"
       ]
      },
      {
       "output_type": "stream",
       "stream": "stdout",
       "text": [
        "\n",
        "TutisBoutique"
       ]
      },
      {
       "output_type": "stream",
       "stream": "stdout",
       "text": [
        "\n",
        "LeMarrakechStore"
       ]
      },
      {
       "output_type": "stream",
       "stream": "stdout",
       "text": [
        "\n",
        "GieseDeseiGns"
       ]
      },
      {
       "output_type": "stream",
       "stream": "stdout",
       "text": [
        "\n",
        "LidamseyKnits"
       ]
      },
      {
       "output_type": "stream",
       "stream": "stdout",
       "text": [
        "\n",
        "SharonsHomeSewn"
       ]
      },
      {
       "output_type": "stream",
       "stream": "stdout",
       "text": [
        "\n",
        "MarkaDecorFashion"
       ]
      },
      {
       "output_type": "stream",
       "stream": "stdout",
       "text": [
        "\n",
        "KnitandLoomstudio"
       ]
      },
      {
       "output_type": "stream",
       "stream": "stdout",
       "text": [
        "\n",
        "RubyHeartCrafts"
       ]
      },
      {
       "output_type": "stream",
       "stream": "stdout",
       "text": [
        "\n",
        "Nineteenzerosix"
       ]
      },
      {
       "output_type": "stream",
       "stream": "stdout",
       "text": [
        "\n",
        "Sister21"
       ]
      },
      {
       "output_type": "stream",
       "stream": "stdout",
       "text": [
        "\n",
        "beanieknitsnmore"
       ]
      },
      {
       "output_type": "stream",
       "stream": "stdout",
       "text": [
        "\n",
        "fone"
       ]
      },
      {
       "output_type": "stream",
       "stream": "stdout",
       "text": [
        "\n",
        "Bellaknitsandgiggles"
       ]
      },
      {
       "output_type": "stream",
       "stream": "stdout",
       "text": [
        "\n",
        "ohbAby1112"
       ]
      },
      {
       "output_type": "stream",
       "stream": "stdout",
       "text": [
        "\n",
        "topazpearls"
       ]
      },
      {
       "output_type": "stream",
       "stream": "stdout",
       "text": [
        "\n",
        "ogracec"
       ]
      },
      {
       "output_type": "stream",
       "stream": "stdout",
       "text": [
        "\n",
        "WoolFeltArt"
       ]
      },
      {
       "output_type": "stream",
       "stream": "stdout",
       "text": [
        "\n",
        "BeautifulSunrise"
       ]
      },
      {
       "output_type": "stream",
       "stream": "stdout",
       "text": [
        "\n",
        "TheRuffledbum"
       ]
      },
      {
       "output_type": "stream",
       "stream": "stdout",
       "text": [
        "\n",
        "SweetNancyVintage"
       ]
      },
      {
       "output_type": "stream",
       "stream": "stdout",
       "text": [
        "\n",
        "Handmadecrafter"
       ]
      },
      {
       "output_type": "stream",
       "stream": "stdout",
       "text": [
        "\n",
        "PeachBlossomHats"
       ]
      },
      {
       "output_type": "stream",
       "stream": "stdout",
       "text": [
        "\n",
        "kissproof"
       ]
      },
      {
       "output_type": "stream",
       "stream": "stdout",
       "text": [
        "\n",
        "Tuttolv"
       ]
      },
      {
       "output_type": "stream",
       "stream": "stdout",
       "text": [
        "\n",
        "upupstar"
       ]
      },
      {
       "output_type": "stream",
       "stream": "stdout",
       "text": [
        "\n",
        "mishsworld"
       ]
      },
      {
       "output_type": "stream",
       "stream": "stdout",
       "text": [
        "\n",
        "MindofMolly"
       ]
      },
      {
       "output_type": "stream",
       "stream": "stdout",
       "text": [
        "\n",
        "BlueStockinette"
       ]
      },
      {
       "output_type": "stream",
       "stream": "stdout",
       "text": [
        "\n",
        "FoxiesFancy"
       ]
      },
      {
       "output_type": "stream",
       "stream": "stdout",
       "text": [
        "\n",
        "socksandmittens"
       ]
      },
      {
       "output_type": "stream",
       "stream": "stdout",
       "text": [
        "\n",
        "TanglinKnots"
       ]
      },
      {
       "output_type": "stream",
       "stream": "stdout",
       "text": [
        "\n",
        "lemonsandcream"
       ]
      },
      {
       "output_type": "stream",
       "stream": "stdout",
       "text": [
        "\n",
        "scarfnurlu"
       ]
      },
      {
       "output_type": "stream",
       "stream": "stdout",
       "text": [
        "\n",
        "DonnasWhimsicals"
       ]
      },
      {
       "output_type": "stream",
       "stream": "stdout",
       "text": [
        "\n",
        "BlackRain4Handmade"
       ]
      },
      {
       "output_type": "stream",
       "stream": "stdout",
       "text": [
        "\n",
        "TheCraftinScot"
       ]
      },
      {
       "output_type": "stream",
       "stream": "stdout",
       "text": [
        "\n",
        "SnuggleMoose"
       ]
      },
      {
       "output_type": "stream",
       "stream": "stdout",
       "text": [
        "\n",
        "CoconutChic"
       ]
      },
      {
       "output_type": "stream",
       "stream": "stdout",
       "text": [
        "\n",
        "smartcrochet"
       ]
      },
      {
       "output_type": "stream",
       "stream": "stdout",
       "text": [
        "\n",
        "GusandRosieU"
       ]
      },
      {
       "output_type": "stream",
       "stream": "stdout",
       "text": [
        "\n",
        "twinkletoesmarket"
       ]
      },
      {
       "output_type": "stream",
       "stream": "stdout",
       "text": [
        "\n",
        "lillamormor"
       ]
      },
      {
       "output_type": "stream",
       "stream": "stdout",
       "text": [
        "\n",
        "PandorasBoxofKnits"
       ]
      },
      {
       "output_type": "stream",
       "stream": "stdout",
       "text": [
        "\n",
        "NSvintage"
       ]
      },
      {
       "output_type": "stream",
       "stream": "stdout",
       "text": [
        "\n",
        "KreationsByKirstenL"
       ]
      },
      {
       "output_type": "stream",
       "stream": "stdout",
       "text": [
        "\n",
        "BIRKENknits"
       ]
      },
      {
       "output_type": "stream",
       "stream": "stdout",
       "text": [
        "\n",
        "KALEIDOO"
       ]
      },
      {
       "output_type": "stream",
       "stream": "stdout",
       "text": [
        "\n",
        "FanmMon"
       ]
      },
      {
       "output_type": "stream",
       "stream": "stdout",
       "text": [
        "\n",
        "GiftsbyGenie"
       ]
      },
      {
       "output_type": "stream",
       "stream": "stdout",
       "text": [
        "\n",
        "SouthvilleSpitters"
       ]
      },
      {
       "output_type": "stream",
       "stream": "stdout",
       "text": [
        "\n",
        "QuietUnrest2"
       ]
      },
      {
       "output_type": "stream",
       "stream": "stdout",
       "text": [
        "\n",
        "NKnits4Baby"
       ]
      },
      {
       "output_type": "stream",
       "stream": "stdout",
       "text": [
        "\n",
        "LeNidDuMerleHandKnit"
       ]
      },
      {
       "output_type": "stream",
       "stream": "stdout",
       "text": [
        "\n",
        "earthandberries"
       ]
      },
      {
       "output_type": "stream",
       "stream": "stdout",
       "text": [
        "\n",
        "nutsaboutknitting"
       ]
      },
      {
       "output_type": "stream",
       "stream": "stdout",
       "text": [
        "\n",
        "LittleEvaDiva"
       ]
      },
      {
       "output_type": "stream",
       "stream": "stdout",
       "text": [
        "\n",
        "KnitsbyAriel"
       ]
      },
      {
       "output_type": "stream",
       "stream": "stdout",
       "text": [
        "\n",
        "EPSILONstudio"
       ]
      },
      {
       "output_type": "stream",
       "stream": "stdout",
       "text": [
        "\n",
        "ladouchka"
       ]
      },
      {
       "output_type": "stream",
       "stream": "stdout",
       "text": [
        "\n",
        "MeridianMade"
       ]
      },
      {
       "output_type": "stream",
       "stream": "stdout",
       "text": [
        "\n",
        "KayEmilyDesigns"
       ]
      },
      {
       "output_type": "stream",
       "stream": "stdout",
       "text": [
        "\n",
        "ThePurplePeaPod"
       ]
      },
      {
       "output_type": "stream",
       "stream": "stdout",
       "text": [
        "\n",
        "countrycuttins"
       ]
      },
      {
       "output_type": "stream",
       "stream": "stdout",
       "text": [
        "\n",
        "LovableProps"
       ]
      },
      {
       "output_type": "stream",
       "stream": "stdout",
       "text": [
        "\n",
        "freelotus3"
       ]
      },
      {
       "output_type": "stream",
       "stream": "stdout",
       "text": [
        "\n",
        "HELGASYARNDESIGNS"
       ]
      },
      {
       "output_type": "stream",
       "stream": "stdout",
       "text": [
        "\n",
        "thewoolypossum"
       ]
      },
      {
       "output_type": "stream",
       "stream": "stdout",
       "text": [
        "\n",
        "galafilc"
       ]
      },
      {
       "output_type": "stream",
       "stream": "stdout",
       "text": [
        "\n",
        "pinkcandystudio"
       ]
      },
      {
       "output_type": "stream",
       "stream": "stdout",
       "text": [
        "\n",
        "lucylev"
       ]
      },
      {
       "output_type": "stream",
       "stream": "stdout",
       "text": [
        "\n",
        "PhylPhil"
       ]
      },
      {
       "output_type": "stream",
       "stream": "stdout",
       "text": [
        "\n",
        "Gitasknitwear"
       ]
      },
      {
       "output_type": "stream",
       "stream": "stdout",
       "text": [
        "\n",
        "suznews"
       ]
      },
      {
       "output_type": "stream",
       "stream": "stdout",
       "text": [
        "\n",
        "InTheRedwoods"
       ]
      },
      {
       "output_type": "stream",
       "stream": "stdout",
       "text": [
        "\n",
        "FairyTaleNightmares"
       ]
      },
      {
       "output_type": "stream",
       "stream": "stdout",
       "text": [
        "\n",
        "cozyknitsforyou"
       ]
      },
      {
       "output_type": "stream",
       "stream": "stdout",
       "text": [
        "\n",
        "lartcraft"
       ]
      },
      {
       "output_type": "stream",
       "stream": "stdout",
       "text": [
        "\n",
        "IvetaStasiulioniene"
       ]
      },
      {
       "output_type": "stream",
       "stream": "stdout",
       "text": [
        "\n",
        "MinitaStudio"
       ]
      },
      {
       "output_type": "stream",
       "stream": "stdout",
       "text": [
        "\n",
        "KittlesKnits"
       ]
      },
      {
       "output_type": "stream",
       "stream": "stdout",
       "text": [
        "\n",
        "mkneedlework"
       ]
      },
      {
       "output_type": "stream",
       "stream": "stdout",
       "text": [
        "\n",
        "callmemimi"
       ]
      },
      {
       "output_type": "stream",
       "stream": "stdout",
       "text": [
        "\n",
        "JuliaHats"
       ]
      },
      {
       "output_type": "stream",
       "stream": "stdout",
       "text": [
        "\n",
        "JoAnnaSeiter"
       ]
      },
      {
       "output_type": "stream",
       "stream": "stdout",
       "text": [
        "\n",
        "ogood"
       ]
      },
      {
       "output_type": "stream",
       "stream": "stdout",
       "text": [
        "\n",
        "anodtomod"
       ]
      },
      {
       "output_type": "stream",
       "stream": "stdout",
       "text": [
        "\n",
        "KidsKnitHatsNCrafts"
       ]
      },
      {
       "output_type": "stream",
       "stream": "stdout",
       "text": [
        "\n",
        "Lanaterapia"
       ]
      },
      {
       "output_type": "stream",
       "stream": "stdout",
       "text": [
        "\n",
        "CozyPhotoProps"
       ]
      },
      {
       "output_type": "stream",
       "stream": "stdout",
       "text": [
        "\n",
        "ShopRainyDayCrafts"
       ]
      },
      {
       "output_type": "stream",
       "stream": "stdout",
       "text": [
        "\n",
        "MarkadecorPremium"
       ]
      },
      {
       "output_type": "stream",
       "stream": "stdout",
       "text": [
        "\n",
        "nerina52"
       ]
      },
      {
       "output_type": "stream",
       "stream": "stdout",
       "text": [
        "\n",
        "AnoushkaDesign"
       ]
      },
      {
       "output_type": "stream",
       "stream": "stdout",
       "text": [
        "\n",
        "elkasoftwear"
       ]
      },
      {
       "output_type": "stream",
       "stream": "stdout",
       "text": [
        "\n",
        "iHappyItems"
       ]
      },
      {
       "output_type": "stream",
       "stream": "stdout",
       "text": [
        "\n",
        "reflectionsbyds"
       ]
      },
      {
       "output_type": "stream",
       "stream": "stdout",
       "text": [
        "\n",
        "epiknitandcrochet"
       ]
      },
      {
       "output_type": "stream",
       "stream": "stdout",
       "text": [
        "\n",
        "FreeSpiritHats"
       ]
      },
      {
       "output_type": "stream",
       "stream": "stdout",
       "text": [
        "\n",
        "leafamore"
       ]
      },
      {
       "output_type": "stream",
       "stream": "stdout",
       "text": [
        "\n",
        "LibertyKnits"
       ]
      },
      {
       "output_type": "stream",
       "stream": "stdout",
       "text": [
        "\n",
        "GrannyPatternStore"
       ]
      },
      {
       "output_type": "stream",
       "stream": "stdout",
       "text": [
        "\n",
        "lanapara"
       ]
      },
      {
       "output_type": "stream",
       "stream": "stdout",
       "text": [
        "\n",
        "HeartsRunFree"
       ]
      },
      {
       "output_type": "stream",
       "stream": "stdout",
       "text": [
        "\n",
        "ZoZosAccessories"
       ]
      },
      {
       "output_type": "stream",
       "stream": "stdout",
       "text": [
        "\n",
        "Africancrab"
       ]
      },
      {
       "output_type": "stream",
       "stream": "stdout",
       "text": [
        "\n",
        "ThingyThingz"
       ]
      },
      {
       "output_type": "stream",
       "stream": "stdout",
       "text": [
        "\n",
        "handylittleme"
       ]
      },
      {
       "output_type": "stream",
       "stream": "stdout",
       "text": [
        "\n",
        "LittleOohLaLa"
       ]
      },
      {
       "output_type": "stream",
       "stream": "stdout",
       "text": [
        "\n",
        "fashioned4you"
       ]
      },
      {
       "output_type": "stream",
       "stream": "stdout",
       "text": [
        "\n",
        "Simplyimagineknit"
       ]
      },
      {
       "output_type": "stream",
       "stream": "stdout",
       "text": [
        "\n",
        "JillyMix"
       ]
      },
      {
       "output_type": "stream",
       "stream": "stdout",
       "text": [
        "\n",
        "IWENhats"
       ]
      },
      {
       "output_type": "stream",
       "stream": "stdout",
       "text": [
        "\n",
        "PetiteLeRu"
       ]
      },
      {
       "output_type": "stream",
       "stream": "stdout",
       "text": [
        "\n",
        "franticcrafter"
       ]
      },
      {
       "output_type": "stream",
       "stream": "stdout",
       "text": [
        "\n",
        "rocketclothing"
       ]
      },
      {
       "output_type": "stream",
       "stream": "stdout",
       "text": [
        "\n",
        "GloriousKnittingShop"
       ]
      },
      {
       "output_type": "stream",
       "stream": "stdout",
       "text": [
        "\n",
        "Rivelo"
       ]
      },
      {
       "output_type": "stream",
       "stream": "stdout",
       "text": [
        "\n",
        "LuVitaChic"
       ]
      },
      {
       "output_type": "stream",
       "stream": "stdout",
       "text": [
        "\n",
        "KarryDesigns"
       ]
      },
      {
       "output_type": "stream",
       "stream": "stdout",
       "text": [
        "\n",
        "KeepingKnitReal"
       ]
      },
      {
       "output_type": "stream",
       "stream": "stdout",
       "text": [
        "\n",
        "UNDIIN"
       ]
      },
      {
       "output_type": "stream",
       "stream": "stdout",
       "text": [
        "\n",
        "Jetonarme"
       ]
      },
      {
       "output_type": "stream",
       "stream": "stdout",
       "text": [
        "\n",
        "delectare"
       ]
      },
      {
       "output_type": "stream",
       "stream": "stdout",
       "text": [
        "\n",
        "HandKnitHandKnit"
       ]
      },
      {
       "output_type": "stream",
       "stream": "stdout",
       "text": [
        "\n",
        "InkaBoutique"
       ]
      },
      {
       "output_type": "stream",
       "stream": "stdout",
       "text": [
        "\n",
        "spinningsheep"
       ]
      },
      {
       "output_type": "stream",
       "stream": "stdout",
       "text": [
        "\n",
        "YarnGiftsHandmade"
       ]
      },
      {
       "output_type": "stream",
       "stream": "stdout",
       "text": [
        "\n",
        "ColourandCotton"
       ]
      },
      {
       "output_type": "stream",
       "stream": "stdout",
       "text": [
        "\n",
        "JustPatTreasuresshop"
       ]
      },
      {
       "output_type": "stream",
       "stream": "stdout",
       "text": [
        "\n",
        "dallynmade"
       ]
      },
      {
       "output_type": "stream",
       "stream": "stdout",
       "text": [
        "\n",
        "FairfaxDavis"
       ]
      },
      {
       "output_type": "stream",
       "stream": "stdout",
       "text": [
        "\n",
        "KnitleyRoad"
       ]
      },
      {
       "output_type": "stream",
       "stream": "stdout",
       "text": [
        "\n",
        "EntireLeighHandMade"
       ]
      },
      {
       "output_type": "stream",
       "stream": "stdout",
       "text": [
        "\n",
        "PoppyWind"
       ]
      },
      {
       "output_type": "stream",
       "stream": "stdout",
       "text": [
        "\n",
        "NesrinArt"
       ]
      },
      {
       "output_type": "stream",
       "stream": "stdout",
       "text": [
        "\n",
        "RoseKingsCreations"
       ]
      },
      {
       "output_type": "stream",
       "stream": "stdout",
       "text": [
        "\n",
        "mylittlecreations01"
       ]
      },
      {
       "output_type": "stream",
       "stream": "stdout",
       "text": [
        "\n",
        "HADASSAshop"
       ]
      },
      {
       "output_type": "stream",
       "stream": "stdout",
       "text": [
        "\n",
        "CablesandMore"
       ]
      },
      {
       "output_type": "stream",
       "stream": "stdout",
       "text": [
        "\n",
        "AnthropologieAngie"
       ]
      },
      {
       "output_type": "stream",
       "stream": "stdout",
       "text": [
        "\n",
        "GreenCanyonTradingCo"
       ]
      },
      {
       "output_type": "stream",
       "stream": "stdout",
       "text": [
        "\n",
        "JeannieGrayKnits"
       ]
      },
      {
       "output_type": "stream",
       "stream": "stdout",
       "text": [
        "\n",
        "TheKnittedArts"
       ]
      },
      {
       "output_type": "stream",
       "stream": "stdout",
       "text": [
        "\n",
        "StitchedLoveKnots"
       ]
      },
      {
       "output_type": "stream",
       "stream": "stdout",
       "text": [
        "\n",
        "HandMadeLana"
       ]
      },
      {
       "output_type": "stream",
       "stream": "stdout",
       "text": [
        "\n",
        "JennuinelyMadeCrafts"
       ]
      },
      {
       "output_type": "stream",
       "stream": "stdout",
       "text": [
        "\n",
        "anchorintime"
       ]
      },
      {
       "output_type": "stream",
       "stream": "stdout",
       "text": [
        "\n",
        "EMERENknitting"
       ]
      },
      {
       "output_type": "stream",
       "stream": "stdout",
       "text": [
        "\n",
        "RusticRootsFarm"
       ]
      },
      {
       "output_type": "stream",
       "stream": "stdout",
       "text": [
        "\n",
        "BrianaKcrochet"
       ]
      },
      {
       "output_type": "stream",
       "stream": "stdout",
       "text": [
        "\n",
        "CripKnits"
       ]
      },
      {
       "output_type": "stream",
       "stream": "stdout",
       "text": [
        "\n",
        "CherryCorners"
       ]
      },
      {
       "output_type": "stream",
       "stream": "stdout",
       "text": [
        "\n",
        "SuzanneSullivan"
       ]
      },
      {
       "output_type": "stream",
       "stream": "stdout",
       "text": [
        "\n",
        "jkdesignshop"
       ]
      },
      {
       "output_type": "stream",
       "stream": "stdout",
       "text": [
        "\n",
        "TheOldStillhouse"
       ]
      },
      {
       "output_type": "stream",
       "stream": "stdout",
       "text": [
        "\n",
        "HandmadeGiftsByNelly"
       ]
      },
      {
       "output_type": "stream",
       "stream": "stdout",
       "text": [
        "\n",
        "ceriscioc"
       ]
      },
      {
       "output_type": "stream",
       "stream": "stdout",
       "text": [
        "\n",
        "woolture"
       ]
      },
      {
       "output_type": "stream",
       "stream": "stdout",
       "text": [
        "\n",
        "MikyNewbornProps"
       ]
      },
      {
       "output_type": "stream",
       "stream": "stdout",
       "text": [
        "\n",
        "TheLittleHipsters"
       ]
      },
      {
       "output_type": "stream",
       "stream": "stdout",
       "text": [
        "\n",
        "MelodysMakings"
       ]
      },
      {
       "output_type": "stream",
       "stream": "stdout",
       "text": [
        "\n",
        "KarolinaDesigns"
       ]
      },
      {
       "output_type": "stream",
       "stream": "stdout",
       "text": [
        "\n",
        "TimelessMemoryPrints"
       ]
      },
      {
       "output_type": "stream",
       "stream": "stdout",
       "text": [
        "\n",
        "ShirleyKnits"
       ]
      },
      {
       "output_type": "stream",
       "stream": "stdout",
       "text": [
        "\n",
        "allbyInna"
       ]
      },
      {
       "output_type": "stream",
       "stream": "stdout",
       "text": [
        "\n",
        "AmandasKnitTreasures"
       ]
      },
      {
       "output_type": "stream",
       "stream": "stdout",
       "text": [
        "\n",
        "CHICaDees"
       ]
      },
      {
       "output_type": "stream",
       "stream": "stdout",
       "text": [
        "\n",
        "SueBeesShop"
       ]
      },
      {
       "output_type": "stream",
       "stream": "stdout",
       "text": [
        "\n",
        "FrenchSoulKnittery"
       ]
      },
      {
       "output_type": "stream",
       "stream": "stdout",
       "text": [
        "\n",
        "CozyCover"
       ]
      },
      {
       "output_type": "stream",
       "stream": "stdout",
       "text": [
        "\n",
        "2olddivas"
       ]
      },
      {
       "output_type": "stream",
       "stream": "stdout",
       "text": [
        "\n",
        "InnerGarden"
       ]
      },
      {
       "output_type": "stream",
       "stream": "stdout",
       "text": [
        "\n",
        "StrawberryHandicraft"
       ]
      },
      {
       "output_type": "stream",
       "stream": "stdout",
       "text": [
        "\n",
        "Klosetkrafter"
       ]
      },
      {
       "output_type": "stream",
       "stream": "stdout",
       "text": [
        "\n",
        "AllAboutKnit"
       ]
      },
      {
       "output_type": "stream",
       "stream": "stdout",
       "text": [
        "\n",
        "MorningGlorious"
       ]
      },
      {
       "output_type": "stream",
       "stream": "stdout",
       "text": [
        "\n",
        "debbyware"
       ]
      },
      {
       "output_type": "stream",
       "stream": "stdout",
       "text": [
        "\n",
        "JennaKaeKnitCrochet"
       ]
      },
      {
       "output_type": "stream",
       "stream": "stdout",
       "text": [
        "\n",
        "MihasKnittingShop"
       ]
      },
      {
       "output_type": "stream",
       "stream": "stdout",
       "text": [
        "\n",
        "NorthwestVintageCo"
       ]
      },
      {
       "output_type": "stream",
       "stream": "stdout",
       "text": [
        "\n",
        "evefashion"
       ]
      },
      {
       "output_type": "stream",
       "stream": "stdout",
       "text": [
        "\n",
        "RoklandeFashioShop"
       ]
      },
      {
       "output_type": "stream",
       "stream": "stdout",
       "text": [
        "\n",
        "StorylandVintage"
       ]
      },
      {
       "output_type": "stream",
       "stream": "stdout",
       "text": [
        "\n",
        "CraftsArtsMoreofPA"
       ]
      },
      {
       "output_type": "stream",
       "stream": "stdout",
       "text": [
        "\n",
        "GabrielleJustine"
       ]
      },
      {
       "output_type": "stream",
       "stream": "stdout",
       "text": [
        "\n",
        "GrannyKnowsBest"
       ]
      },
      {
       "output_type": "stream",
       "stream": "stdout",
       "text": [
        "\n",
        "DelicateDebuts"
       ]
      },
      {
       "output_type": "stream",
       "stream": "stdout",
       "text": [
        "\n",
        "ChiefNomad"
       ]
      },
      {
       "output_type": "stream",
       "stream": "stdout",
       "text": [
        "\n",
        "dagmarabuczek"
       ]
      },
      {
       "output_type": "stream",
       "stream": "stdout",
       "text": [
        "\n",
        "GoldenHandsDesign"
       ]
      },
      {
       "output_type": "stream",
       "stream": "stdout",
       "text": [
        "\n",
        "WestEndCo"
       ]
      },
      {
       "output_type": "stream",
       "stream": "stdout",
       "text": [
        "\n",
        "OffTheKHuff"
       ]
      },
      {
       "output_type": "stream",
       "stream": "stdout",
       "text": [
        "\n",
        "MagicalLandPhotoProp"
       ]
      },
      {
       "output_type": "stream",
       "stream": "stdout",
       "text": [
        "\n",
        "FloAtelier"
       ]
      },
      {
       "output_type": "stream",
       "stream": "stdout",
       "text": [
        "\n",
        "StorkandMe"
       ]
      },
      {
       "output_type": "stream",
       "stream": "stdout",
       "text": [
        "\n",
        "IdleHourCrafts"
       ]
      },
      {
       "output_type": "stream",
       "stream": "stdout",
       "text": [
        "\n",
        "Peachandkiwi"
       ]
      },
      {
       "output_type": "stream",
       "stream": "stdout",
       "text": [
        "\n",
        "RusticRoadBoutique"
       ]
      },
      {
       "output_type": "stream",
       "stream": "stdout",
       "text": [
        "\n",
        "teteormayka"
       ]
      },
      {
       "output_type": "stream",
       "stream": "stdout",
       "text": [
        "\n",
        "BotonDeFlor"
       ]
      },
      {
       "output_type": "stream",
       "stream": "stdout",
       "text": [
        "\n",
        "pkddod"
       ]
      },
      {
       "output_type": "stream",
       "stream": "stdout",
       "text": [
        "\n",
        "debsKidstuff"
       ]
      },
      {
       "output_type": "stream",
       "stream": "stdout",
       "text": [
        "\n",
        "BoutiqueDeMarcipan"
       ]
      },
      {
       "output_type": "stream",
       "stream": "stdout",
       "text": [
        "\n",
        "naryaboutique"
       ]
      },
      {
       "output_type": "stream",
       "stream": "stdout",
       "text": [
        "\n",
        "Knitrx"
       ]
      },
      {
       "output_type": "stream",
       "stream": "stdout",
       "text": [
        "\n",
        "knitix"
       ]
      },
      {
       "output_type": "stream",
       "stream": "stdout",
       "text": [
        "\n",
        "Periay"
       ]
      },
      {
       "output_type": "stream",
       "stream": "stdout",
       "text": [
        "\n",
        "corgipal"
       ]
      },
      {
       "output_type": "stream",
       "stream": "stdout",
       "text": [
        "\n",
        "FeltedFashion"
       ]
      },
      {
       "output_type": "stream",
       "stream": "stdout",
       "text": [
        "\n",
        "LintMonsterCreations"
       ]
      },
      {
       "output_type": "stream",
       "stream": "stdout",
       "text": [
        "\n",
        "dannilittle"
       ]
      },
      {
       "output_type": "stream",
       "stream": "stdout",
       "text": [
        "\n",
        "aviena"
       ]
      },
      {
       "output_type": "stream",
       "stream": "stdout",
       "text": [
        "\n",
        "ScarfLovers"
       ]
      },
      {
       "output_type": "stream",
       "stream": "stdout",
       "text": [
        "\n",
        "chloeheartsowls"
       ]
      },
      {
       "output_type": "stream",
       "stream": "stdout",
       "text": [
        "\n",
        "graceandoscar"
       ]
      },
      {
       "output_type": "stream",
       "stream": "stdout",
       "text": [
        "\n",
        "LuLusWoobies"
       ]
      },
      {
       "output_type": "stream",
       "stream": "stdout",
       "text": [
        "\n",
        "FruitofPhalanges"
       ]
      },
      {
       "output_type": "stream",
       "stream": "stdout",
       "text": [
        "\n",
        "FamilySpecialGifts"
       ]
      },
      {
       "output_type": "stream",
       "stream": "stdout",
       "text": [
        "\n",
        "Objeshop"
       ]
      },
      {
       "output_type": "stream",
       "stream": "stdout",
       "text": [
        "\n",
        "StarsWear"
       ]
      },
      {
       "output_type": "stream",
       "stream": "stdout",
       "text": [
        "\n",
        "moviestarjewelry"
       ]
      },
      {
       "output_type": "stream",
       "stream": "stdout",
       "text": [
        "\n",
        "OneOfAKindKid"
       ]
      },
      {
       "output_type": "stream",
       "stream": "stdout",
       "text": [
        "\n",
        "2Fun4Words"
       ]
      },
      {
       "output_type": "stream",
       "stream": "stdout",
       "text": [
        "\n",
        "LittleAngelTouch"
       ]
      },
      {
       "output_type": "stream",
       "stream": "stdout",
       "text": [
        "\n",
        "MadeByFrancy"
       ]
      },
      {
       "output_type": "stream",
       "stream": "stdout",
       "text": [
        "\n",
        "KnitBabyCouture"
       ]
      },
      {
       "output_type": "stream",
       "stream": "stdout",
       "text": [
        "\n",
        "KnottyKnitGoods"
       ]
      },
      {
       "output_type": "stream",
       "stream": "stdout",
       "text": [
        "\n",
        "KnitNKnots"
       ]
      },
      {
       "output_type": "stream",
       "stream": "stdout",
       "text": [
        "\n",
        "Blissfulinspiration1"
       ]
      },
      {
       "output_type": "stream",
       "stream": "stdout",
       "text": [
        "\n",
        "adornsnut"
       ]
      },
      {
       "output_type": "stream",
       "stream": "stdout",
       "text": [
        "\n",
        "BoldVictoryCrochet"
       ]
      },
      {
       "output_type": "stream",
       "stream": "stdout",
       "text": [
        "\n",
        "SownThreadsClothing"
       ]
      },
      {
       "output_type": "stream",
       "stream": "stdout",
       "text": [
        "\n",
        "brokemarys"
       ]
      },
      {
       "output_type": "stream",
       "stream": "stdout",
       "text": [
        "\n",
        "CreationsbyTiffyD"
       ]
      },
      {
       "output_type": "stream",
       "stream": "stdout",
       "text": [
        "\n",
        "ChloeAndEvie"
       ]
      },
      {
       "output_type": "stream",
       "stream": "stdout",
       "text": [
        "\n",
        "MeadowsTooMelmark"
       ]
      },
      {
       "output_type": "stream",
       "stream": "stdout",
       "text": [
        "\n",
        "willowsandwool"
       ]
      },
      {
       "output_type": "stream",
       "stream": "stdout",
       "text": [
        "\n",
        "NaRoKnit"
       ]
      },
      {
       "output_type": "stream",
       "stream": "stdout",
       "text": [
        "\n",
        "OurFarmstead"
       ]
      },
      {
       "output_type": "stream",
       "stream": "stdout",
       "text": [
        "\n",
        "CreationsJasmine"
       ]
      },
      {
       "output_type": "stream",
       "stream": "stdout",
       "text": [
        "\n",
        "ANNAandIRENE"
       ]
      },
      {
       "output_type": "stream",
       "stream": "stdout",
       "text": [
        "\n",
        "CozyLamb"
       ]
      },
      {
       "output_type": "stream",
       "stream": "stdout",
       "text": [
        "\n",
        "MilMon"
       ]
      },
      {
       "output_type": "stream",
       "stream": "stdout",
       "text": [
        "\n",
        "GrannyJack"
       ]
      },
      {
       "output_type": "stream",
       "stream": "stdout",
       "text": [
        "\n",
        "EWEniquelyKnit"
       ]
      },
      {
       "output_type": "stream",
       "stream": "stdout",
       "text": [
        "\n",
        "CCCrochets"
       ]
      },
      {
       "output_type": "stream",
       "stream": "stdout",
       "text": [
        "\n",
        "BreezyRidgeAlpacas"
       ]
      },
      {
       "output_type": "stream",
       "stream": "stdout",
       "text": [
        "\n",
        "LaribellaHAT"
       ]
      },
      {
       "output_type": "stream",
       "stream": "stdout",
       "text": [
        "\n",
        "BoutiqueDeElite"
       ]
      },
      {
       "output_type": "stream",
       "stream": "stdout",
       "text": [
        "\n",
        "KnitSimplicity"
       ]
      },
      {
       "output_type": "stream",
       "stream": "stdout",
       "text": [
        "\n",
        "TTCrochetStyle"
       ]
      },
      {
       "output_type": "stream",
       "stream": "stdout",
       "text": [
        "\n",
        "DinaStyleKnits"
       ]
      },
      {
       "output_type": "stream",
       "stream": "stdout",
       "text": [
        "\n",
        "febressfashion"
       ]
      },
      {
       "output_type": "stream",
       "stream": "stdout",
       "text": [
        "\n",
        "InspiracjeJolanty"
       ]
      },
      {
       "output_type": "stream",
       "stream": "stdout",
       "text": [
        "\n",
        "Oceanlvrcrafts"
       ]
      },
      {
       "output_type": "stream",
       "stream": "stdout",
       "text": [
        "\n",
        "LaurelandReeve"
       ]
      },
      {
       "output_type": "stream",
       "stream": "stdout",
       "text": [
        "\n",
        "Rarejewelry4You"
       ]
      },
      {
       "output_type": "stream",
       "stream": "stdout",
       "text": [
        "\n",
        "candlecane123"
       ]
      },
      {
       "output_type": "stream",
       "stream": "stdout",
       "text": [
        "\n",
        "ennadoolf"
       ]
      },
      {
       "output_type": "stream",
       "stream": "stdout",
       "text": [
        "\n",
        "HodgepodgeCreationz"
       ]
      },
      {
       "output_type": "stream",
       "stream": "stdout",
       "text": [
        "\n",
        "KnittingCarnival"
       ]
      },
      {
       "output_type": "stream",
       "stream": "stdout",
       "text": [
        "\n",
        "LazyTcrochet"
       ]
      },
      {
       "output_type": "stream",
       "stream": "stdout",
       "text": [
        "\n",
        "plphotoprops"
       ]
      },
      {
       "output_type": "stream",
       "stream": "stdout",
       "text": [
        "\n",
        "FogKnits"
       ]
      },
      {
       "output_type": "stream",
       "stream": "stdout",
       "text": [
        "\n",
        "MossieShop"
       ]
      },
      {
       "output_type": "stream",
       "stream": "stdout",
       "text": [
        "\n",
        "belzebul"
       ]
      },
      {
       "output_type": "stream",
       "stream": "stdout",
       "text": [
        "\n",
        "bySol"
       ]
      },
      {
       "output_type": "stream",
       "stream": "stdout",
       "text": [
        "\n",
        "Blackcatmeowknits"
       ]
      },
      {
       "output_type": "stream",
       "stream": "stdout",
       "text": [
        "\n",
        "ChickKnitbyKristie"
       ]
      },
      {
       "output_type": "stream",
       "stream": "stdout",
       "text": [
        "\n",
        "SwanJay"
       ]
      },
      {
       "output_type": "stream",
       "stream": "stdout",
       "text": [
        "\n",
        "GreenGypsyGoods"
       ]
      },
      {
       "output_type": "stream",
       "stream": "stdout",
       "text": [
        "\n",
        "2knit2purl"
       ]
      },
      {
       "output_type": "stream",
       "stream": "stdout",
       "text": [
        "\n",
        "KnitsDuNord"
       ]
      },
      {
       "output_type": "stream",
       "stream": "stdout",
       "text": [
        "\n",
        "Momtoast"
       ]
      },
      {
       "output_type": "stream",
       "stream": "stdout",
       "text": [
        "\n",
        "Junikid"
       ]
      },
      {
       "output_type": "stream",
       "stream": "stdout",
       "text": [
        "\n",
        "CharlotteCotBlankets"
       ]
      },
      {
       "output_type": "stream",
       "stream": "stdout",
       "text": [
        "\n",
        "mikmakwinkel"
       ]
      },
      {
       "output_type": "stream",
       "stream": "stdout",
       "text": [
        "\n",
        "Knit360five"
       ]
      },
      {
       "output_type": "stream",
       "stream": "stdout",
       "text": [
        "\n",
        "KnittingStory"
       ]
      },
      {
       "output_type": "stream",
       "stream": "stdout",
       "text": [
        "\n",
        "BocajandCo"
       ]
      },
      {
       "output_type": "stream",
       "stream": "stdout",
       "text": [
        "\n",
        "RockabillyButtercup"
       ]
      },
      {
       "output_type": "stream",
       "stream": "stdout",
       "text": [
        "\n",
        "elanknits"
       ]
      },
      {
       "output_type": "stream",
       "stream": "stdout",
       "text": [
        "\n",
        "yarningsbyseanna"
       ]
      },
      {
       "output_type": "stream",
       "stream": "stdout",
       "text": [
        "\n",
        "FargoCoreCon"
       ]
      },
      {
       "output_type": "stream",
       "stream": "stdout",
       "text": [
        "\n",
        "LaVintageByMissPJ55"
       ]
      },
      {
       "output_type": "stream",
       "stream": "stdout",
       "text": [
        "\n",
        "Muza"
       ]
      },
      {
       "output_type": "stream",
       "stream": "stdout",
       "text": [
        "\n",
        "HEIRLOOMMIX"
       ]
      },
      {
       "output_type": "stream",
       "stream": "stdout",
       "text": [
        "\n",
        "ManonKnitting"
       ]
      },
      {
       "output_type": "stream",
       "stream": "stdout",
       "text": [
        "\n",
        "sylviaslace"
       ]
      },
      {
       "output_type": "stream",
       "stream": "stdout",
       "text": [
        "\n",
        "HappyHappyKnitty"
       ]
      },
      {
       "output_type": "stream",
       "stream": "stdout",
       "text": [
        "\n",
        "KnitaFrolic"
       ]
      },
      {
       "output_type": "stream",
       "stream": "stdout",
       "text": [
        "\n",
        "ThatsSewJudy"
       ]
      },
      {
       "output_type": "stream",
       "stream": "stdout",
       "text": [
        "\n",
        "THEWANTEDSHEEP"
       ]
      },
      {
       "output_type": "stream",
       "stream": "stdout",
       "text": [
        "\n",
        "MADEVALINEN"
       ]
      },
      {
       "output_type": "stream",
       "stream": "stdout",
       "text": [
        "\n",
        "countrygarden77"
       ]
      },
      {
       "output_type": "stream",
       "stream": "stdout",
       "text": [
        "\n",
        "formalhouse"
       ]
      },
      {
       "output_type": "stream",
       "stream": "stdout",
       "text": [
        "\n",
        "CatPurrKnitting"
       ]
      },
      {
       "output_type": "stream",
       "stream": "stdout",
       "text": [
        "\n",
        "Lottelovelybunny"
       ]
      },
      {
       "output_type": "stream",
       "stream": "stdout",
       "text": [
        "\n",
        "RuffleMania"
       ]
      },
      {
       "output_type": "stream",
       "stream": "stdout",
       "text": [
        "\n",
        "Teddyhug"
       ]
      },
      {
       "output_type": "stream",
       "stream": "stdout",
       "text": [
        "\n",
        "GrammasKnittedGifts"
       ]
      },
      {
       "output_type": "stream",
       "stream": "stdout",
       "text": [
        "\n",
        "HEraMade"
       ]
      },
      {
       "output_type": "stream",
       "stream": "stdout",
       "text": [
        "\n",
        "HappyChoiceKnits"
       ]
      },
      {
       "output_type": "stream",
       "stream": "stdout",
       "text": [
        "\n",
        "MomohanaKobo"
       ]
      },
      {
       "output_type": "stream",
       "stream": "stdout",
       "text": [
        "\n",
        "TheDancingKnittress"
       ]
      },
      {
       "output_type": "stream",
       "stream": "stdout",
       "text": [
        "\n",
        "MamasTeddyBear"
       ]
      },
      {
       "output_type": "stream",
       "stream": "stdout",
       "text": [
        "\n",
        "MissMaysMomsKnits"
       ]
      },
      {
       "output_type": "stream",
       "stream": "stdout",
       "text": [
        "\n",
        "TheDelightfulDay"
       ]
      },
      {
       "output_type": "stream",
       "stream": "stdout",
       "text": [
        "\n",
        "lovemyknits"
       ]
      },
      {
       "output_type": "stream",
       "stream": "stdout",
       "text": [
        "\n",
        "CherryDollyFace"
       ]
      },
      {
       "output_type": "stream",
       "stream": "stdout",
       "text": [
        "\n",
        "FaunaKnits"
       ]
      },
      {
       "output_type": "stream",
       "stream": "stdout",
       "text": [
        "\n",
        "NeedANeedle"
       ]
      },
      {
       "output_type": "stream",
       "stream": "stdout",
       "text": [
        "\n",
        "SellingWarmth"
       ]
      },
      {
       "output_type": "stream",
       "stream": "stdout",
       "text": [
        "\n",
        "Madfindz"
       ]
      },
      {
       "output_type": "stream",
       "stream": "stdout",
       "text": [
        "\n",
        "BonniesCinematheque"
       ]
      },
      {
       "output_type": "stream",
       "stream": "stdout",
       "text": [
        "\n",
        "cherryREVOLVER"
       ]
      },
      {
       "output_type": "stream",
       "stream": "stdout",
       "text": [
        "\n",
        "WarmGiftsForYou"
       ]
      },
      {
       "output_type": "stream",
       "stream": "stdout",
       "text": [
        "\n",
        "AfonsoWay"
       ]
      },
      {
       "output_type": "stream",
       "stream": "stdout",
       "text": [
        "\n",
        "Letricott"
       ]
      },
      {
       "output_type": "stream",
       "stream": "stdout",
       "text": [
        "\n",
        "IsolaHandmade"
       ]
      },
      {
       "output_type": "stream",
       "stream": "stdout",
       "text": [
        "\n",
        "GrammysCustomCrochet"
       ]
      },
      {
       "output_type": "stream",
       "stream": "stdout",
       "text": [
        "\n",
        "Knits4Noggins"
       ]
      },
      {
       "output_type": "stream",
       "stream": "stdout",
       "text": [
        "\n",
        "WoolenViolet"
       ]
      },
      {
       "output_type": "stream",
       "stream": "stdout",
       "text": [
        "\n",
        "KnitsWithLoveByKP"
       ]
      },
      {
       "output_type": "stream",
       "stream": "stdout",
       "text": [
        "\n",
        "KnotEnufKnitting"
       ]
      },
      {
       "output_type": "stream",
       "stream": "stdout",
       "text": [
        "\n",
        "VirgoArt"
       ]
      },
      {
       "output_type": "stream",
       "stream": "stdout",
       "text": [
        "\n",
        "DiVerseBlessings"
       ]
      },
      {
       "output_type": "stream",
       "stream": "stdout",
       "text": [
        "\n"
       ]
      }
     ],
     "prompt_number": 2
    },
    {
     "cell_type": "code",
     "collapsed": false,
     "input": [
      "df = pd.DataFrame(results)\n",
      "df = df.T\n",
      "df"
     ],
     "language": "python",
     "metadata": {},
     "outputs": [
      {
       "html": [
        "<div style=\"max-height:1000px;max-width:1500px;overflow:auto;\">\n",
        "<table border=\"1\" class=\"dataframe\">\n",
        "  <thead>\n",
        "    <tr style=\"text-align: right;\">\n",
        "      <th></th>\n",
        "      <th>Admirers</th>\n",
        "      <th>Age</th>\n",
        "      <th>Gift_card</th>\n",
        "      <th>Location</th>\n",
        "      <th>Name</th>\n",
        "      <th>Num_items</th>\n",
        "      <th>Num_reviews</th>\n",
        "      <th>Num_sections</th>\n",
        "      <th>Rating</th>\n",
        "      <th>Sales</th>\n",
        "    </tr>\n",
        "  </thead>\n",
        "  <tbody>\n",
        "    <tr>\n",
        "      <th>1   </th>\n",
        "      <td>  1064</td>\n",
        "      <td>  982</td>\n",
        "      <td> False</td>\n",
        "      <td>                                  Gdynia, Poland</td>\n",
        "      <td>          MyKnitCroch</td>\n",
        "      <td>  235</td>\n",
        "      <td>  229</td>\n",
        "      <td> 10</td>\n",
        "      <td> 4.8696</td>\n",
        "      <td>  1650</td>\n",
        "    </tr>\n",
        "    <tr>\n",
        "      <th>2   </th>\n",
        "      <td>  1967</td>\n",
        "      <td> 1690</td>\n",
        "      <td> False</td>\n",
        "      <td>                                 Florence, Italy</td>\n",
        "      <td>           viafashion</td>\n",
        "      <td>   67</td>\n",
        "      <td>  493</td>\n",
        "      <td>  4</td>\n",
        "      <td> 3.5143</td>\n",
        "      <td>  2308</td>\n",
        "    </tr>\n",
        "    <tr>\n",
        "      <th>3   </th>\n",
        "      <td>  3658</td>\n",
        "      <td> 1544</td>\n",
        "      <td> False</td>\n",
        "      <td>                                  Europe, Turkey</td>\n",
        "      <td>                 Puik</td>\n",
        "      <td>   18</td>\n",
        "      <td>  442</td>\n",
        "      <td>  2</td>\n",
        "      <td> 4.9185</td>\n",
        "      <td>  2542</td>\n",
        "    </tr>\n",
        "    <tr>\n",
        "      <th>4   </th>\n",
        "      <td>  1801</td>\n",
        "      <td> 1640</td>\n",
        "      <td>  True</td>\n",
        "      <td>                                  Suncoast of FL</td>\n",
        "      <td>  SandyCoastalDesigns</td>\n",
        "      <td>  374</td>\n",
        "      <td>  751</td>\n",
        "      <td> 10</td>\n",
        "      <td> 4.9091</td>\n",
        "      <td>  3563</td>\n",
        "    </tr>\n",
        "    <tr>\n",
        "      <th>5   </th>\n",
        "      <td>  8234</td>\n",
        "      <td> 2373</td>\n",
        "      <td>  True</td>\n",
        "      <td>                  Los Angeles, CA, United States</td>\n",
        "      <td>            MaxMelody</td>\n",
        "      <td>  259</td>\n",
        "      <td> 1222</td>\n",
        "      <td>  9</td>\n",
        "      <td> 4.8474</td>\n",
        "      <td>  5017</td>\n",
        "    </tr>\n",
        "    <tr>\n",
        "      <th>6   </th>\n",
        "      <td>  1121</td>\n",
        "      <td> 2658</td>\n",
        "      <td>  True</td>\n",
        "      <td>                 Fort Collins, CO, United States</td>\n",
        "      <td>    knittingtreasures</td>\n",
        "      <td>   48</td>\n",
        "      <td>  255</td>\n",
        "      <td>  4</td>\n",
        "      <td> 4.9268</td>\n",
        "      <td>   711</td>\n",
        "    </tr>\n",
        "    <tr>\n",
        "      <th>7   </th>\n",
        "      <td>   334</td>\n",
        "      <td>  746</td>\n",
        "      <td> False</td>\n",
        "      <td>                                              -1</td>\n",
        "      <td>    SunshineBabyProps</td>\n",
        "      <td>   77</td>\n",
        "      <td>    7</td>\n",
        "      <td>  6</td>\n",
        "      <td> 5.0000</td>\n",
        "      <td>   266</td>\n",
        "    </tr>\n",
        "    <tr>\n",
        "      <th>8   </th>\n",
        "      <td>  1294</td>\n",
        "      <td> 1152</td>\n",
        "      <td>  True</td>\n",
        "      <td>              Liverpool, England, United Kingdom</td>\n",
        "      <td>    accessoriesbyrita</td>\n",
        "      <td>  426</td>\n",
        "      <td>  285</td>\n",
        "      <td>  9</td>\n",
        "      <td> 4.9042</td>\n",
        "      <td>  1721</td>\n",
        "    </tr>\n",
        "    <tr>\n",
        "      <th>9   </th>\n",
        "      <td>  4721</td>\n",
        "      <td> 2211</td>\n",
        "      <td> False</td>\n",
        "      <td>                                          Europa</td>\n",
        "      <td>                Ebruk</td>\n",
        "      <td>  333</td>\n",
        "      <td>  437</td>\n",
        "      <td> 10</td>\n",
        "      <td> 4.9065</td>\n",
        "      <td>  2953</td>\n",
        "    </tr>\n",
        "    <tr>\n",
        "      <th>10  </th>\n",
        "      <td> 23743</td>\n",
        "      <td> 2918</td>\n",
        "      <td>  True</td>\n",
        "      <td>                  Zephyrhills, FL, United States</td>\n",
        "      <td>            pixiebell</td>\n",
        "      <td> 1661</td>\n",
        "      <td> 6485</td>\n",
        "      <td> 10</td>\n",
        "      <td> 4.8933</td>\n",
        "      <td> 25183</td>\n",
        "    </tr>\n",
        "    <tr>\n",
        "      <th>11  </th>\n",
        "      <td>  5185</td>\n",
        "      <td> 1535</td>\n",
        "      <td> False</td>\n",
        "      <td>                                 Florence, Italy</td>\n",
        "      <td>             effybags</td>\n",
        "      <td>  138</td>\n",
        "      <td> 1001</td>\n",
        "      <td>  6</td>\n",
        "      <td> 4.1950</td>\n",
        "      <td>  7896</td>\n",
        "    </tr>\n",
        "    <tr>\n",
        "      <th>12  </th>\n",
        "      <td>  6060</td>\n",
        "      <td> 1659</td>\n",
        "      <td> False</td>\n",
        "      <td>                                          Europe</td>\n",
        "      <td>           SENNURSASA</td>\n",
        "      <td>  242</td>\n",
        "      <td>  886</td>\n",
        "      <td>  9</td>\n",
        "      <td> 4.8719</td>\n",
        "      <td>  3108</td>\n",
        "    </tr>\n",
        "    <tr>\n",
        "      <th>13  </th>\n",
        "      <td> 25410</td>\n",
        "      <td> 2759</td>\n",
        "      <td>  True</td>\n",
        "      <td>                 London, England, United Kingdom</td>\n",
        "      <td>              ileaiye</td>\n",
        "      <td>  262</td>\n",
        "      <td> 3522</td>\n",
        "      <td>  9</td>\n",
        "      <td> 4.9248</td>\n",
        "      <td>  8242</td>\n",
        "    </tr>\n",
        "    <tr>\n",
        "      <th>14  </th>\n",
        "      <td>   716</td>\n",
        "      <td>  952</td>\n",
        "      <td>  True</td>\n",
        "      <td>             Canterbury, England, United Kingdom</td>\n",
        "      <td>       StripesnCables</td>\n",
        "      <td>  112</td>\n",
        "      <td>   58</td>\n",
        "      <td>  7</td>\n",
        "      <td> 4.9167</td>\n",
        "      <td>   398</td>\n",
        "    </tr>\n",
        "    <tr>\n",
        "      <th>15  </th>\n",
        "      <td>  2826</td>\n",
        "      <td> 1984</td>\n",
        "      <td>  True</td>\n",
        "      <td>                 London, England, United Kingdom</td>\n",
        "      <td>                zukas</td>\n",
        "      <td>  150</td>\n",
        "      <td>  321</td>\n",
        "      <td> 10</td>\n",
        "      <td> 4.9310</td>\n",
        "      <td>  1523</td>\n",
        "    </tr>\n",
        "    <tr>\n",
        "      <th>16  </th>\n",
        "      <td>   466</td>\n",
        "      <td>  474</td>\n",
        "      <td>  True</td>\n",
        "      <td>                        Luray, VA, United States</td>\n",
        "      <td>        LurayKnitwear</td>\n",
        "      <td>  437</td>\n",
        "      <td>  157</td>\n",
        "      <td> 10</td>\n",
        "      <td> 4.9793</td>\n",
        "      <td>   498</td>\n",
        "    </tr>\n",
        "    <tr>\n",
        "      <th>17  </th>\n",
        "      <td>   818</td>\n",
        "      <td>  996</td>\n",
        "      <td>  True</td>\n",
        "      <td>                   Saint Paul, MN, United States</td>\n",
        "      <td>   TheMadRabbitShoppe</td>\n",
        "      <td>   49</td>\n",
        "      <td>   77</td>\n",
        "      <td>  7</td>\n",
        "      <td> 5.0000</td>\n",
        "      <td>   319</td>\n",
        "    </tr>\n",
        "    <tr>\n",
        "      <th>18  </th>\n",
        "      <td>    18</td>\n",
        "      <td>  404</td>\n",
        "      <td>  True</td>\n",
        "      <td>                      Seattle, WA, United States</td>\n",
        "      <td>       HatsByHollyJoy</td>\n",
        "      <td>   60</td>\n",
        "      <td>    8</td>\n",
        "      <td>  3</td>\n",
        "      <td> 5.0000</td>\n",
        "      <td>    14</td>\n",
        "    </tr>\n",
        "    <tr>\n",
        "      <th>19  </th>\n",
        "      <td>  1517</td>\n",
        "      <td> 1373</td>\n",
        "      <td>  True</td>\n",
        "      <td> Bulgaria,Europe,London, England, United Kingdom</td>\n",
        "      <td>      PrettyBagsByMia</td>\n",
        "      <td>  253</td>\n",
        "      <td>  109</td>\n",
        "      <td>  9</td>\n",
        "      <td> 4.5313</td>\n",
        "      <td>  1006</td>\n",
        "    </tr>\n",
        "    <tr>\n",
        "      <th>20  </th>\n",
        "      <td>   347</td>\n",
        "      <td> 1353</td>\n",
        "      <td>  True</td>\n",
        "      <td>                     Portland, OR, United States</td>\n",
        "      <td>        LoopsAndLines</td>\n",
        "      <td>  160</td>\n",
        "      <td>   88</td>\n",
        "      <td>  8</td>\n",
        "      <td> 4.9268</td>\n",
        "      <td>   363</td>\n",
        "    </tr>\n",
        "    <tr>\n",
        "      <th>21  </th>\n",
        "      <td>    83</td>\n",
        "      <td>  317</td>\n",
        "      <td>  True</td>\n",
        "      <td>                  Stony Point, NY, United States</td>\n",
        "      <td>      LudMilaBoutique</td>\n",
        "      <td>  163</td>\n",
        "      <td>   76</td>\n",
        "      <td>  8</td>\n",
        "      <td> 4.9605</td>\n",
        "      <td>   218</td>\n",
        "    </tr>\n",
        "    <tr>\n",
        "      <th>22  </th>\n",
        "      <td>  3082</td>\n",
        "      <td> 1421</td>\n",
        "      <td> False</td>\n",
        "      <td>               Europe , Poland  I ship worldwide</td>\n",
        "      <td>               Ifonka</td>\n",
        "      <td>  871</td>\n",
        "      <td>  590</td>\n",
        "      <td> 10</td>\n",
        "      <td> 4.8051</td>\n",
        "      <td>  4090</td>\n",
        "    </tr>\n",
        "    <tr>\n",
        "      <th>23  </th>\n",
        "      <td>  1882</td>\n",
        "      <td>  930</td>\n",
        "      <td>  True</td>\n",
        "      <td>           Huddersfield, England, United Kingdom</td>\n",
        "      <td>           Regathered</td>\n",
        "      <td>  870</td>\n",
        "      <td>  214</td>\n",
        "      <td> 10</td>\n",
        "      <td> 4.9558</td>\n",
        "      <td>   792</td>\n",
        "    </tr>\n",
        "    <tr>\n",
        "      <th>24  </th>\n",
        "      <td>   571</td>\n",
        "      <td>   86</td>\n",
        "      <td>  True</td>\n",
        "      <td>                      Phoenix, AZ, United States</td>\n",
        "      <td>    PoshKiddosapparel</td>\n",
        "      <td>   -1</td>\n",
        "      <td>   36</td>\n",
        "      <td> -1</td>\n",
        "      <td> 5.0000</td>\n",
        "      <td>   347</td>\n",
        "    </tr>\n",
        "    <tr>\n",
        "      <th>25  </th>\n",
        "      <td>  1294</td>\n",
        "      <td> 2724</td>\n",
        "      <td> False</td>\n",
        "      <td>                        Istanbul, Turkey, Europe</td>\n",
        "      <td> BouquetSpecialDesign</td>\n",
        "      <td>   46</td>\n",
        "      <td>  148</td>\n",
        "      <td>  7</td>\n",
        "      <td> 4.9167</td>\n",
        "      <td>   391</td>\n",
        "    </tr>\n",
        "    <tr>\n",
        "      <th>26  </th>\n",
        "      <td>  5961</td>\n",
        "      <td>  228</td>\n",
        "      <td>  True</td>\n",
        "      <td>                American Fork, UT, United States</td>\n",
        "      <td>       ShopLuluandRoo</td>\n",
        "      <td>  116</td>\n",
        "      <td>  378</td>\n",
        "      <td> 10</td>\n",
        "      <td> 4.8942</td>\n",
        "      <td>  3563</td>\n",
        "    </tr>\n",
        "    <tr>\n",
        "      <th>27  </th>\n",
        "      <td>  1053</td>\n",
        "      <td>  678</td>\n",
        "      <td>  True</td>\n",
        "      <td>               Spalding, England, United Kingdom</td>\n",
        "      <td>          HootersHall</td>\n",
        "      <td>   63</td>\n",
        "      <td>   17</td>\n",
        "      <td>  8</td>\n",
        "      <td> 4.9333</td>\n",
        "      <td>    82</td>\n",
        "    </tr>\n",
        "    <tr>\n",
        "      <th>28  </th>\n",
        "      <td>   405</td>\n",
        "      <td>  954</td>\n",
        "      <td> False</td>\n",
        "      <td>                                 Shanghai, China</td>\n",
        "      <td>           SoftyWooly</td>\n",
        "      <td>   34</td>\n",
        "      <td>  110</td>\n",
        "      <td>  4</td>\n",
        "      <td> 4.9589</td>\n",
        "      <td>   344</td>\n",
        "    </tr>\n",
        "    <tr>\n",
        "      <th>29  </th>\n",
        "      <td>  2551</td>\n",
        "      <td>  522</td>\n",
        "      <td> False</td>\n",
        "      <td>                         United States, Missouri</td>\n",
        "      <td>   myfashioncreations</td>\n",
        "      <td>  318</td>\n",
        "      <td>  556</td>\n",
        "      <td>  9</td>\n",
        "      <td> 4.8491</td>\n",
        "      <td>  4746</td>\n",
        "    </tr>\n",
        "    <tr>\n",
        "      <th>30  </th>\n",
        "      <td>   157</td>\n",
        "      <td>  302</td>\n",
        "      <td> False</td>\n",
        "      <td>                             Arkhangelsk, Russia</td>\n",
        "      <td>     DollphinShowRoom</td>\n",
        "      <td>   29</td>\n",
        "      <td>   19</td>\n",
        "      <td>  5</td>\n",
        "      <td> 5.0000</td>\n",
        "      <td>    23</td>\n",
        "    </tr>\n",
        "    <tr>\n",
        "      <th>...</th>\n",
        "      <td>...</td>\n",
        "      <td>...</td>\n",
        "      <td>...</td>\n",
        "      <td>...</td>\n",
        "      <td>...</td>\n",
        "      <td>...</td>\n",
        "      <td>...</td>\n",
        "      <td>...</td>\n",
        "      <td>...</td>\n",
        "      <td>...</td>\n",
        "    </tr>\n",
        "    <tr>\n",
        "      <th>1502</th>\n",
        "      <td>   236</td>\n",
        "      <td>  148</td>\n",
        "      <td>  True</td>\n",
        "      <td>                                          Latvia</td>\n",
        "      <td>     Lottelovelybunny</td>\n",
        "      <td>   30</td>\n",
        "      <td>   -1</td>\n",
        "      <td>  4</td>\n",
        "      <td>     -1</td>\n",
        "      <td>     2</td>\n",
        "    </tr>\n",
        "    <tr>\n",
        "      <th>1503</th>\n",
        "      <td>    58</td>\n",
        "      <td> 1077</td>\n",
        "      <td>  True</td>\n",
        "      <td>                      Crowley, TX, United States</td>\n",
        "      <td>          RuffleMania</td>\n",
        "      <td>   15</td>\n",
        "      <td>   15</td>\n",
        "      <td>  4</td>\n",
        "      <td> 4.7500</td>\n",
        "      <td>    70</td>\n",
        "    </tr>\n",
        "    <tr>\n",
        "      <th>1504</th>\n",
        "      <td>    40</td>\n",
        "      <td>  600</td>\n",
        "      <td>  True</td>\n",
        "      <td>                 London, England, United Kingdom</td>\n",
        "      <td>             Teddyhug</td>\n",
        "      <td>   -1</td>\n",
        "      <td>    7</td>\n",
        "      <td> -1</td>\n",
        "      <td> 5.0000</td>\n",
        "      <td>    16</td>\n",
        "    </tr>\n",
        "    <tr>\n",
        "      <th>1505</th>\n",
        "      <td>   144</td>\n",
        "      <td> 1392</td>\n",
        "      <td>  True</td>\n",
        "      <td>                               Fort Worth, Texas</td>\n",
        "      <td>  GrammasKnittedGifts</td>\n",
        "      <td>   52</td>\n",
        "      <td>   87</td>\n",
        "      <td>  3</td>\n",
        "      <td> 4.9841</td>\n",
        "      <td>   358</td>\n",
        "    </tr>\n",
        "    <tr>\n",
        "      <th>1506</th>\n",
        "      <td>  1820</td>\n",
        "      <td> 1999</td>\n",
        "      <td>  True</td>\n",
        "      <td>                                 Europe, Hungary</td>\n",
        "      <td>             HEraMade</td>\n",
        "      <td>  120</td>\n",
        "      <td>   53</td>\n",
        "      <td> 10</td>\n",
        "      <td> 4.6667</td>\n",
        "      <td>   131</td>\n",
        "    </tr>\n",
        "    <tr>\n",
        "      <th>1507</th>\n",
        "      <td>   261</td>\n",
        "      <td>  943</td>\n",
        "      <td>  True</td>\n",
        "      <td>                        Price, UT, United States</td>\n",
        "      <td>     HappyChoiceKnits</td>\n",
        "      <td>   93</td>\n",
        "      <td>  121</td>\n",
        "      <td>  8</td>\n",
        "      <td> 5.0000</td>\n",
        "      <td>   294</td>\n",
        "    </tr>\n",
        "    <tr>\n",
        "      <th>1508</th>\n",
        "      <td>   729</td>\n",
        "      <td> 1886</td>\n",
        "      <td>  True</td>\n",
        "      <td>                    San Diego, CA, United States</td>\n",
        "      <td>         MomohanaKobo</td>\n",
        "      <td>   36</td>\n",
        "      <td>  276</td>\n",
        "      <td>  5</td>\n",
        "      <td> 5.0000</td>\n",
        "      <td>   929</td>\n",
        "    </tr>\n",
        "    <tr>\n",
        "      <th>1509</th>\n",
        "      <td>     6</td>\n",
        "      <td> 1301</td>\n",
        "      <td>  True</td>\n",
        "      <td>             Baywood-Los Osos, CA, United States</td>\n",
        "      <td>  TheDancingKnittress</td>\n",
        "      <td>   -1</td>\n",
        "      <td>   -1</td>\n",
        "      <td> -1</td>\n",
        "      <td>     -1</td>\n",
        "      <td>     3</td>\n",
        "    </tr>\n",
        "    <tr>\n",
        "      <th>1510</th>\n",
        "      <td>    12</td>\n",
        "      <td>  178</td>\n",
        "      <td>  True</td>\n",
        "      <td>               East Greenbush, NY, United States</td>\n",
        "      <td>       MamasTeddyBear</td>\n",
        "      <td>   36</td>\n",
        "      <td>    2</td>\n",
        "      <td>  7</td>\n",
        "      <td> 5.0000</td>\n",
        "      <td>     5</td>\n",
        "    </tr>\n",
        "    <tr>\n",
        "      <th>1511</th>\n",
        "      <td>    -1</td>\n",
        "      <td>   85</td>\n",
        "      <td>  True</td>\n",
        "      <td>                       Tucson, AZ, United States</td>\n",
        "      <td>    MissMaysMomsKnits</td>\n",
        "      <td>   -1</td>\n",
        "      <td>   -1</td>\n",
        "      <td> -1</td>\n",
        "      <td>     -1</td>\n",
        "      <td>    -1</td>\n",
        "    </tr>\n",
        "    <tr>\n",
        "      <th>1512</th>\n",
        "      <td>    33</td>\n",
        "      <td>  366</td>\n",
        "      <td>  True</td>\n",
        "      <td>                                              -1</td>\n",
        "      <td>     TheDelightfulDay</td>\n",
        "      <td>  165</td>\n",
        "      <td>   27</td>\n",
        "      <td>  6</td>\n",
        "      <td> 4.9259</td>\n",
        "      <td>    92</td>\n",
        "    </tr>\n",
        "    <tr>\n",
        "      <th>1513</th>\n",
        "      <td>    43</td>\n",
        "      <td> 1205</td>\n",
        "      <td> False</td>\n",
        "      <td>                 Marietta Georgia, United States</td>\n",
        "      <td>          lovemyknits</td>\n",
        "      <td>   28</td>\n",
        "      <td>   22</td>\n",
        "      <td>  1</td>\n",
        "      <td> 5.0000</td>\n",
        "      <td>   132</td>\n",
        "    </tr>\n",
        "    <tr>\n",
        "      <th>1514</th>\n",
        "      <td>   290</td>\n",
        "      <td> 2051</td>\n",
        "      <td> False</td>\n",
        "      <td>                             Loomis, California,</td>\n",
        "      <td>      CherryDollyFace</td>\n",
        "      <td>  154</td>\n",
        "      <td>   94</td>\n",
        "      <td>  5</td>\n",
        "      <td> 4.9500</td>\n",
        "      <td>   221</td>\n",
        "    </tr>\n",
        "    <tr>\n",
        "      <th>1515</th>\n",
        "      <td>    15</td>\n",
        "      <td>   77</td>\n",
        "      <td>  True</td>\n",
        "      <td>                   Bellingham, WA, United States</td>\n",
        "      <td>           FaunaKnits</td>\n",
        "      <td>   10</td>\n",
        "      <td>   -1</td>\n",
        "      <td>  3</td>\n",
        "      <td>     -1</td>\n",
        "      <td>     4</td>\n",
        "    </tr>\n",
        "    <tr>\n",
        "      <th>1516</th>\n",
        "      <td>   638</td>\n",
        "      <td>  672</td>\n",
        "      <td>  True</td>\n",
        "      <td>                        Boise, ID, United States</td>\n",
        "      <td>          NeedANeedle</td>\n",
        "      <td> 2085</td>\n",
        "      <td>  687</td>\n",
        "      <td> 10</td>\n",
        "      <td> 4.9615</td>\n",
        "      <td>  2736</td>\n",
        "    </tr>\n",
        "    <tr>\n",
        "      <th>1517</th>\n",
        "      <td>    87</td>\n",
        "      <td>  131</td>\n",
        "      <td>  True</td>\n",
        "      <td>                Overland Park, KS, United States</td>\n",
        "      <td>        SellingWarmth</td>\n",
        "      <td>   87</td>\n",
        "      <td>   13</td>\n",
        "      <td>  7</td>\n",
        "      <td> 4.9231</td>\n",
        "      <td>    27</td>\n",
        "    </tr>\n",
        "    <tr>\n",
        "      <th>1518</th>\n",
        "      <td>    13</td>\n",
        "      <td>  561</td>\n",
        "      <td>  True</td>\n",
        "      <td>                       Austin, TX, United States</td>\n",
        "      <td>             Madfindz</td>\n",
        "      <td>   23</td>\n",
        "      <td>    5</td>\n",
        "      <td>  4</td>\n",
        "      <td> 5.0000</td>\n",
        "      <td>    10</td>\n",
        "    </tr>\n",
        "    <tr>\n",
        "      <th>1519</th>\n",
        "      <td>  9480</td>\n",
        "      <td>  655</td>\n",
        "      <td>  True</td>\n",
        "      <td>                                 Berlin, Germany</td>\n",
        "      <td>  BonniesCinematheque</td>\n",
        "      <td>   90</td>\n",
        "      <td>  165</td>\n",
        "      <td> 10</td>\n",
        "      <td> 4.9538</td>\n",
        "      <td>   441</td>\n",
        "    </tr>\n",
        "    <tr>\n",
        "      <th>1520</th>\n",
        "      <td>  1162</td>\n",
        "      <td> 1103</td>\n",
        "      <td>  True</td>\n",
        "      <td>                    San Diego, CA, United States</td>\n",
        "      <td>       cherryREVOLVER</td>\n",
        "      <td> 1064</td>\n",
        "      <td>  238</td>\n",
        "      <td> 10</td>\n",
        "      <td> 4.8947</td>\n",
        "      <td>  1142</td>\n",
        "    </tr>\n",
        "    <tr>\n",
        "      <th>1521</th>\n",
        "      <td>    52</td>\n",
        "      <td>  445</td>\n",
        "      <td> False</td>\n",
        "      <td>                                          Russia</td>\n",
        "      <td>      WarmGiftsForYou</td>\n",
        "      <td>   52</td>\n",
        "      <td>    6</td>\n",
        "      <td>  8</td>\n",
        "      <td> 4.1667</td>\n",
        "      <td>    16</td>\n",
        "    </tr>\n",
        "    <tr>\n",
        "      <th>1522</th>\n",
        "      <td>    -1</td>\n",
        "      <td>   55</td>\n",
        "      <td> False</td>\n",
        "      <td>                    Millville, MA, United States</td>\n",
        "      <td>            AfonsoWay</td>\n",
        "      <td>   18</td>\n",
        "      <td>   -1</td>\n",
        "      <td>  5</td>\n",
        "      <td>     -1</td>\n",
        "      <td>    -1</td>\n",
        "    </tr>\n",
        "    <tr>\n",
        "      <th>1523</th>\n",
        "      <td>    42</td>\n",
        "      <td>  284</td>\n",
        "      <td> False</td>\n",
        "      <td>                                Bulgaria, Europe</td>\n",
        "      <td>            Letricott</td>\n",
        "      <td>   46</td>\n",
        "      <td>    6</td>\n",
        "      <td>  8</td>\n",
        "      <td> 5.0000</td>\n",
        "      <td>    22</td>\n",
        "    </tr>\n",
        "    <tr>\n",
        "      <th>1524</th>\n",
        "      <td>    11</td>\n",
        "      <td>  372</td>\n",
        "      <td>  True</td>\n",
        "      <td>                    Anacortes, WA, United States</td>\n",
        "      <td>        IsolaHandmade</td>\n",
        "      <td>   37</td>\n",
        "      <td>    5</td>\n",
        "      <td>  3</td>\n",
        "      <td> 4.8000</td>\n",
        "      <td>    43</td>\n",
        "    </tr>\n",
        "    <tr>\n",
        "      <th>1525</th>\n",
        "      <td>    35</td>\n",
        "      <td>  162</td>\n",
        "      <td>  True</td>\n",
        "      <td>                 Rohnert Park, CA, United States</td>\n",
        "      <td> GrammysCustomCrochet</td>\n",
        "      <td>   37</td>\n",
        "      <td>    4</td>\n",
        "      <td>  8</td>\n",
        "      <td> 5.0000</td>\n",
        "      <td>     6</td>\n",
        "    </tr>\n",
        "    <tr>\n",
        "      <th>1526</th>\n",
        "      <td>    82</td>\n",
        "      <td> 1228</td>\n",
        "      <td>  True</td>\n",
        "      <td>                                              -1</td>\n",
        "      <td>        Knits4Noggins</td>\n",
        "      <td>  176</td>\n",
        "      <td>   21</td>\n",
        "      <td>  9</td>\n",
        "      <td> 5.0000</td>\n",
        "      <td>   110</td>\n",
        "    </tr>\n",
        "    <tr>\n",
        "      <th>1527</th>\n",
        "      <td>   146</td>\n",
        "      <td>  396</td>\n",
        "      <td>  True</td>\n",
        "      <td>                    Asheville, NC, United States</td>\n",
        "      <td>         WoolenViolet</td>\n",
        "      <td>   27</td>\n",
        "      <td>   10</td>\n",
        "      <td>  5</td>\n",
        "      <td> 5.0000</td>\n",
        "      <td>    22</td>\n",
        "    </tr>\n",
        "    <tr>\n",
        "      <th>1528</th>\n",
        "      <td>     7</td>\n",
        "      <td>   28</td>\n",
        "      <td>  True</td>\n",
        "      <td>                                              -1</td>\n",
        "      <td>    KnitsWithLoveByKP</td>\n",
        "      <td>   10</td>\n",
        "      <td>   -1</td>\n",
        "      <td>  1</td>\n",
        "      <td>     -1</td>\n",
        "      <td>    -1</td>\n",
        "    </tr>\n",
        "    <tr>\n",
        "      <th>1529</th>\n",
        "      <td>   356</td>\n",
        "      <td>  713</td>\n",
        "      <td>  True</td>\n",
        "      <td>                           Saskatoon, SK, Canada</td>\n",
        "      <td>     KnotEnufKnitting</td>\n",
        "      <td>   73</td>\n",
        "      <td>   64</td>\n",
        "      <td>  9</td>\n",
        "      <td> 4.9487</td>\n",
        "      <td>  1137</td>\n",
        "    </tr>\n",
        "    <tr>\n",
        "      <th>1530</th>\n",
        "      <td>    38</td>\n",
        "      <td>  171</td>\n",
        "      <td> False</td>\n",
        "      <td>                         Sofia, Bulgaria, Europe</td>\n",
        "      <td>             VirgoArt</td>\n",
        "      <td>   19</td>\n",
        "      <td>   -1</td>\n",
        "      <td>  6</td>\n",
        "      <td>     -1</td>\n",
        "      <td>    -1</td>\n",
        "    </tr>\n",
        "    <tr>\n",
        "      <th>1531</th>\n",
        "      <td>   153</td>\n",
        "      <td> 1448</td>\n",
        "      <td>  True</td>\n",
        "      <td>                    Cape Vincent, New&amp;nbsp;York,</td>\n",
        "      <td>     DiVerseBlessings</td>\n",
        "      <td>  197</td>\n",
        "      <td>   31</td>\n",
        "      <td> 10</td>\n",
        "      <td> 5.0000</td>\n",
        "      <td>    80</td>\n",
        "    </tr>\n",
        "  </tbody>\n",
        "</table>\n",
        "<p>1531 rows \u00d7 10 columns</p>\n",
        "</div>"
       ],
       "metadata": {},
       "output_type": "pyout",
       "prompt_number": 3,
       "text": [
        "     Admirers   Age Gift_card  \\\n",
        "1        1064   982     False   \n",
        "2        1967  1690     False   \n",
        "3        3658  1544     False   \n",
        "4        1801  1640      True   \n",
        "5        8234  2373      True   \n",
        "6        1121  2658      True   \n",
        "7         334   746     False   \n",
        "8        1294  1152      True   \n",
        "9        4721  2211     False   \n",
        "10      23743  2918      True   \n",
        "11       5185  1535     False   \n",
        "12       6060  1659     False   \n",
        "13      25410  2759      True   \n",
        "14        716   952      True   \n",
        "15       2826  1984      True   \n",
        "16        466   474      True   \n",
        "17        818   996      True   \n",
        "18         18   404      True   \n",
        "19       1517  1373      True   \n",
        "20        347  1353      True   \n",
        "21         83   317      True   \n",
        "22       3082  1421     False   \n",
        "23       1882   930      True   \n",
        "24        571    86      True   \n",
        "25       1294  2724     False   \n",
        "26       5961   228      True   \n",
        "27       1053   678      True   \n",
        "28        405   954     False   \n",
        "29       2551   522     False   \n",
        "30        157   302     False   \n",
        "...       ...   ...       ...   \n",
        "1502      236   148      True   \n",
        "1503       58  1077      True   \n",
        "1504       40   600      True   \n",
        "1505      144  1392      True   \n",
        "1506     1820  1999      True   \n",
        "1507      261   943      True   \n",
        "1508      729  1886      True   \n",
        "1509        6  1301      True   \n",
        "1510       12   178      True   \n",
        "1511       -1    85      True   \n",
        "1512       33   366      True   \n",
        "1513       43  1205     False   \n",
        "1514      290  2051     False   \n",
        "1515       15    77      True   \n",
        "1516      638   672      True   \n",
        "1517       87   131      True   \n",
        "1518       13   561      True   \n",
        "1519     9480   655      True   \n",
        "1520     1162  1103      True   \n",
        "1521       52   445     False   \n",
        "1522       -1    55     False   \n",
        "1523       42   284     False   \n",
        "1524       11   372      True   \n",
        "1525       35   162      True   \n",
        "1526       82  1228      True   \n",
        "1527      146   396      True   \n",
        "1528        7    28      True   \n",
        "1529      356   713      True   \n",
        "1530       38   171     False   \n",
        "1531      153  1448      True   \n",
        "\n",
        "                                             Location                  Name  \\\n",
        "1                                      Gdynia, Poland           MyKnitCroch   \n",
        "2                                     Florence, Italy            viafashion   \n",
        "3                                      Europe, Turkey                  Puik   \n",
        "4                                      Suncoast of FL   SandyCoastalDesigns   \n",
        "5                      Los Angeles, CA, United States             MaxMelody   \n",
        "6                     Fort Collins, CO, United States     knittingtreasures   \n",
        "7                                                  -1     SunshineBabyProps   \n",
        "8                  Liverpool, England, United Kingdom     accessoriesbyrita   \n",
        "9                                              Europa                 Ebruk   \n",
        "10                     Zephyrhills, FL, United States             pixiebell   \n",
        "11                                    Florence, Italy              effybags   \n",
        "12                                             Europe            SENNURSASA   \n",
        "13                    London, England, United Kingdom               ileaiye   \n",
        "14                Canterbury, England, United Kingdom        StripesnCables   \n",
        "15                    London, England, United Kingdom                 zukas   \n",
        "16                           Luray, VA, United States         LurayKnitwear   \n",
        "17                      Saint Paul, MN, United States    TheMadRabbitShoppe   \n",
        "18                         Seattle, WA, United States        HatsByHollyJoy   \n",
        "19    Bulgaria,Europe,London, England, United Kingdom       PrettyBagsByMia   \n",
        "20                        Portland, OR, United States         LoopsAndLines   \n",
        "21                     Stony Point, NY, United States       LudMilaBoutique   \n",
        "22                  Europe , Poland  I ship worldwide                Ifonka   \n",
        "23              Huddersfield, England, United Kingdom            Regathered   \n",
        "24                         Phoenix, AZ, United States     PoshKiddosapparel   \n",
        "25                           Istanbul, Turkey, Europe  BouquetSpecialDesign   \n",
        "26                   American Fork, UT, United States        ShopLuluandRoo   \n",
        "27                  Spalding, England, United Kingdom           HootersHall   \n",
        "28                                    Shanghai, China            SoftyWooly   \n",
        "29                            United States, Missouri    myfashioncreations   \n",
        "30                                Arkhangelsk, Russia      DollphinShowRoom   \n",
        "...                                               ...                   ...   \n",
        "1502                                           Latvia      Lottelovelybunny   \n",
        "1503                       Crowley, TX, United States           RuffleMania   \n",
        "1504                  London, England, United Kingdom              Teddyhug   \n",
        "1505                                Fort Worth, Texas   GrammasKnittedGifts   \n",
        "1506                                  Europe, Hungary              HEraMade   \n",
        "1507                         Price, UT, United States      HappyChoiceKnits   \n",
        "1508                     San Diego, CA, United States          MomohanaKobo   \n",
        "1509              Baywood-Los Osos, CA, United States   TheDancingKnittress   \n",
        "1510                East Greenbush, NY, United States        MamasTeddyBear   \n",
        "1511                        Tucson, AZ, United States     MissMaysMomsKnits   \n",
        "1512                                               -1      TheDelightfulDay   \n",
        "1513                  Marietta Georgia, United States           lovemyknits   \n",
        "1514                              Loomis, California,       CherryDollyFace   \n",
        "1515                    Bellingham, WA, United States            FaunaKnits   \n",
        "1516                         Boise, ID, United States           NeedANeedle   \n",
        "1517                 Overland Park, KS, United States         SellingWarmth   \n",
        "1518                        Austin, TX, United States              Madfindz   \n",
        "1519                                  Berlin, Germany   BonniesCinematheque   \n",
        "1520                     San Diego, CA, United States        cherryREVOLVER   \n",
        "1521                                           Russia       WarmGiftsForYou   \n",
        "1522                     Millville, MA, United States             AfonsoWay   \n",
        "1523                                 Bulgaria, Europe             Letricott   \n",
        "1524                     Anacortes, WA, United States         IsolaHandmade   \n",
        "1525                  Rohnert Park, CA, United States  GrammysCustomCrochet   \n",
        "1526                                               -1         Knits4Noggins   \n",
        "1527                     Asheville, NC, United States          WoolenViolet   \n",
        "1528                                               -1     KnitsWithLoveByKP   \n",
        "1529                            Saskatoon, SK, Canada      KnotEnufKnitting   \n",
        "1530                          Sofia, Bulgaria, Europe              VirgoArt   \n",
        "1531                     Cape Vincent, New&nbsp;York,      DiVerseBlessings   \n",
        "\n",
        "     Num_items Num_reviews Num_sections  Rating  Sales  \n",
        "1          235         229           10  4.8696   1650  \n",
        "2           67         493            4  3.5143   2308  \n",
        "3           18         442            2  4.9185   2542  \n",
        "4          374         751           10  4.9091   3563  \n",
        "5          259        1222            9  4.8474   5017  \n",
        "6           48         255            4  4.9268    711  \n",
        "7           77           7            6  5.0000    266  \n",
        "8          426         285            9  4.9042   1721  \n",
        "9          333         437           10  4.9065   2953  \n",
        "10        1661        6485           10  4.8933  25183  \n",
        "11         138        1001            6  4.1950   7896  \n",
        "12         242         886            9  4.8719   3108  \n",
        "13         262        3522            9  4.9248   8242  \n",
        "14         112          58            7  4.9167    398  \n",
        "15         150         321           10  4.9310   1523  \n",
        "16         437         157           10  4.9793    498  \n",
        "17          49          77            7  5.0000    319  \n",
        "18          60           8            3  5.0000     14  \n",
        "19         253         109            9  4.5313   1006  \n",
        "20         160          88            8  4.9268    363  \n",
        "21         163          76            8  4.9605    218  \n",
        "22         871         590           10  4.8051   4090  \n",
        "23         870         214           10  4.9558    792  \n",
        "24          -1          36           -1  5.0000    347  \n",
        "25          46         148            7  4.9167    391  \n",
        "26         116         378           10  4.8942   3563  \n",
        "27          63          17            8  4.9333     82  \n",
        "28          34         110            4  4.9589    344  \n",
        "29         318         556            9  4.8491   4746  \n",
        "30          29          19            5  5.0000     23  \n",
        "...        ...         ...          ...     ...    ...  \n",
        "1502        30          -1            4      -1      2  \n",
        "1503        15          15            4  4.7500     70  \n",
        "1504        -1           7           -1  5.0000     16  \n",
        "1505        52          87            3  4.9841    358  \n",
        "1506       120          53           10  4.6667    131  \n",
        "1507        93         121            8  5.0000    294  \n",
        "1508        36         276            5  5.0000    929  \n",
        "1509        -1          -1           -1      -1      3  \n",
        "1510        36           2            7  5.0000      5  \n",
        "1511        -1          -1           -1      -1     -1  \n",
        "1512       165          27            6  4.9259     92  \n",
        "1513        28          22            1  5.0000    132  \n",
        "1514       154          94            5  4.9500    221  \n",
        "1515        10          -1            3      -1      4  \n",
        "1516      2085         687           10  4.9615   2736  \n",
        "1517        87          13            7  4.9231     27  \n",
        "1518        23           5            4  5.0000     10  \n",
        "1519        90         165           10  4.9538    441  \n",
        "1520      1064         238           10  4.8947   1142  \n",
        "1521        52           6            8  4.1667     16  \n",
        "1522        18          -1            5      -1     -1  \n",
        "1523        46           6            8  5.0000     22  \n",
        "1524        37           5            3  4.8000     43  \n",
        "1525        37           4            8  5.0000      6  \n",
        "1526       176          21            9  5.0000    110  \n",
        "1527        27          10            5  5.0000     22  \n",
        "1528        10          -1            1      -1     -1  \n",
        "1529        73          64            9  4.9487   1137  \n",
        "1530        19          -1            6      -1     -1  \n",
        "1531       197          31           10  5.0000     80  \n",
        "\n",
        "[1531 rows x 10 columns]"
       ]
      }
     ],
     "prompt_number": 3
    },
    {
     "cell_type": "code",
     "collapsed": false,
     "input": [
      "print('most admirers')\n",
      "print(df.sort(columns='Admirers', ascending=False).iloc[0])\n",
      "print('oldest')\n",
      "print(df.sort(columns='Age', ascending=False).iloc[1])\n",
      "print('most items')\n",
      "print(df.sort(columns='Num_items', ascending=False).iloc[0])\n",
      "print('most sales')\n",
      "print(df.sort(columns='Sales', ascending=False).iloc[0])\n",
      "print(str(len(df))+' entries')"
     ],
     "language": "python",
     "metadata": {},
     "outputs": [
      {
       "output_type": "stream",
       "stream": "stdout",
       "text": [
        "most sections\n",
        "Admirers                  4005\n",
        "Age                        217\n",
        "Gift_card                False\n",
        "Location        Ankara, Turkey\n",
        "Name               formalhouse\n",
        "Num_items                  263\n",
        "Num_reviews                 90\n",
        "Num_sections                10\n",
        "Rating                  4.9444\n",
        "Sales                      530\n",
        "Name: 1500, dtype: object\n",
        "oldest\n",
        "Admirers                               2155\n",
        "Age                                    3401\n",
        "Gift_card                              True\n",
        "Location        New York, NY, United States\n",
        "Name                             TepperWear\n",
        "Num_items                               131\n",
        "Num_reviews                             777\n",
        "Num_sections                              8\n",
        "Rating                               5.0000\n",
        "Sales                                  1795\n",
        "Name: 501, dtype: object\n",
        "1531 entries\n"
       ]
      }
     ],
     "prompt_number": 5
    },
    {
     "cell_type": "code",
     "collapsed": false,
     "input": [
      "print('Number accepting gift cards')\n",
      "print(len([x for x in df.Gift_card if x==True]))\n",
      "print('Number with perfect ratings')\n",
      "print(len([x for x in df.Rating if x=='5.0000']))"
     ],
     "language": "python",
     "metadata": {},
     "outputs": [
      {
       "output_type": "stream",
       "stream": "stdout",
       "text": [
        "Number accepting gift cards\n",
        "1061\n",
        "Number with perfect ratings\n",
        "594\n"
       ]
      }
     ],
     "prompt_number": 13
    },
    {
     "cell_type": "markdown",
     "metadata": {},
     "source": []
    },
    {
     "cell_type": "code",
     "collapsed": false,
     "input": [
      "%matplotlib inline"
     ],
     "language": "python",
     "metadata": {},
     "outputs": [],
     "prompt_number": 64
    },
    {
     "cell_type": "markdown",
     "metadata": {},
     "source": [
      "Out of 225 shops, the shop with the most items is pixiebell, who has the 11th rank. The shop with the most admirers is ileaiye, who has the 12th rank. The shop with the most reviews is lajumpinbean, who has the 77th rank."
     ]
    },
    {
     "cell_type": "code",
     "collapsed": false,
     "input": [
      "items = [x for x in df.Num_items if x>10]\n",
      "plt.plot(items)\n",
      "plt.xlabel('Rank')\n",
      "plt.ylabel('Number of items')"
     ],
     "language": "python",
     "metadata": {},
     "outputs": [
      {
       "metadata": {},
       "output_type": "pyout",
       "prompt_number": 48,
       "text": [
        "<matplotlib.text.Text at 0x10d03fb10>"
       ]
      },
      {
       "metadata": {},
       "output_type": "display_data",
       "png": "[encoded data removed]",
       "text": [
        "<matplotlib.figure.Figure at 0x10ddf3c50>"
       ]
      }
     ],
     "prompt_number": 48
    },
    {
     "cell_type": "code",
     "collapsed": false,
     "input": [
      "rating = [x for x in df.Rating if x>1]\n",
      "plt.plot(rating)\n",
      "plt.xlabel('Rank')\n",
      "plt.ylabel('Average Rating')"
     ],
     "language": "python",
     "metadata": {},
     "outputs": [
      {
       "metadata": {},
       "output_type": "pyout",
       "prompt_number": 62,
       "text": [
        "<matplotlib.text.Text at 0x114b0bfd0>"
       ]
      },
      {
       "metadata": {},
       "output_type": "display_data",
       "png": "[encoded data removed]",
       "text": [
        "<matplotlib.figure.Figure at 0x114bc23d0>"
       ]
      }
     ],
     "prompt_number": 62
    },
    {
     "cell_type": "code",
     "collapsed": false,
     "input": [
      "sales = [x for x in df.Sales if x>1]\n",
      "plt.plot(sales)\n",
      "plt.xlabel('Rank')\n",
      "plt.ylabel('Number of Sales')"
     ],
     "language": "python",
     "metadata": {},
     "outputs": [
      {
       "metadata": {},
       "output_type": "pyout",
       "prompt_number": 63,
       "text": [
        "<matplotlib.text.Text at 0x10c02e150>"
       ]
      },
      {
       "metadata": {},
       "output_type": "display_data",
       "png": "[encoded data removed]",
       "text": [
        "<matplotlib.figure.Figure at 0x114ec0090>"
       ]
      }
     ],
     "prompt_number": 63
    },
    {
     "cell_type": "code",
     "collapsed": false,
     "input": [
      "admirers = [x for x in df.Admirers if x>100]\n",
      "plt.plot(admirers)\n",
      "plt.xlabel('Rank')\n",
      "plt.ylabel('Number of Admirers')"
     ],
     "language": "python",
     "metadata": {},
     "outputs": [
      {
       "metadata": {},
       "output_type": "pyout",
       "prompt_number": 65,
       "text": [
        "<matplotlib.text.Text at 0x114e4bcd0>"
       ]
      },
      {
       "metadata": {},
       "output_type": "display_data",
       "png": "[encoded data removed]",
       "text": [
        "<matplotlib.figure.Figure at 0x114fc8a10>"
       ]
      }
     ],
     "prompt_number": 65
    },
    {
     "cell_type": "markdown",
     "metadata": {},
     "source": [
      "I will define a 'successful' Etsy shop as one that has a high rank. I intend to investigate the factors which contribute most to becoming successful, and find other useful information which can help people who are looking to start an Etsy shop."
     ]
    },
    {
     "cell_type": "code",
     "collapsed": false,
     "input": [
      "sales = [x for x in df.Sales]\n",
      "admirers = [x for x in df.Admirers]\n",
      "plt.plot(sales, admirers)\n",
      "plt.xlabel('Number of Sales')\n",
      "plt.ylabel('Number of Admirers')"
     ],
     "language": "python",
     "metadata": {},
     "outputs": [
      {
       "metadata": {},
       "output_type": "pyout",
       "prompt_number": 72,
       "text": [
        "<matplotlib.text.Text at 0x115839110>"
       ]
      },
      {
       "metadata": {},
       "output_type": "display_data",
       "png": "[encoded data removed]",
       "text": [
        "<matplotlib.figure.Figure at 0x10c982390>"
       ]
      }
     ],
     "prompt_number": 72
    },
    {
     "cell_type": "code",
     "collapsed": false,
     "input": [],
     "language": "python",
     "metadata": {},
     "outputs": [],
     "prompt_number": 2
    },
    {
     "cell_type": "code",
     "collapsed": false,
     "input": [],
     "language": "python",
     "metadata": {},
     "outputs": [],
     "prompt_number": 2
    },
    {
     "cell_type": "code",
     "collapsed": false,
     "input": [],
     "language": "python",
     "metadata": {},
     "outputs": [],
     "prompt_number": 2
    },
    {
     "cell_type": "code",
     "collapsed": false,
     "input": [],
     "language": "python",
     "metadata": {},
     "outputs": []
    }
   ],
   "metadata": {}
  }
 ]
}