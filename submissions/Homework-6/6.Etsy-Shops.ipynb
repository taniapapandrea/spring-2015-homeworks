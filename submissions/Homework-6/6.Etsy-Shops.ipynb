{
 "metadata": {
  "name": "",
  "signature": "sha256:b383afc93b206c0e66de52a7dd970af9eb62f6794583ed4cb4b68a266d6f1e8c"
 },
 "nbformat": 3,
 "nbformat_minor": 0,
 "worksheets": [
  {
   "cells": [
    {
     "cell_type": "code",
     "collapsed": false,
     "input": [
      "import time\n",
      "import numpy as np\n",
      "import matplotlib.pyplot as plt\n",
      "import pandas as pd\n",
      "\n",
      "import scipy as sp\n",
      "import scipy.sparse.linalg as linalg\n",
      "import scipy.cluster.hierarchy as hr\n",
      "from scipy.spatial.distance import pdist, squareform\n",
      "import sklearn.datasets as datasets\n",
      "import sklearn.metrics as metrics\n",
      "import sklearn.utils as utils\n",
      "import sklearn.linear_model as linear_model\n",
      "import sklearn.cross_validation as cross_validation\n",
      "import sklearn.cluster as cluster\n",
      "from sklearn.neighbors import KNeighborsClassifier\n",
      "from sklearn.decomposition import TruncatedSVD\n",
      "from sklearn.preprocessing import StandardScaler\n",
      "import statsmodels.api as sm\n",
      "from patsy import dmatrices\n",
      "\n",
      "import seaborn as sns\n",
      "\n",
      "import scrape_etsy as scrape"
     ],
     "language": "python",
     "metadata": {},
     "outputs": [],
     "prompt_number": 1
    },
    {
     "cell_type": "code",
     "collapsed": false,
     "input": [
      "print(scrape.prices('SandyCoastalDesigns'))"
     ],
     "language": "python",
     "metadata": {},
     "outputs": []
    },
    {
     "cell_type": "code",
     "collapsed": false,
     "input": [
      "results = scrape.hats(240)"
     ],
     "language": "python",
     "metadata": {},
     "outputs": [
      {
       "output_type": "stream",
       "stream": "stdout",
       "text": [
        "('shops so far ', 45)\n",
        "('page ', 1)\n",
        "('shops so far ', 64)"
       ]
      },
      {
       "output_type": "stream",
       "stream": "stdout",
       "text": [
        "\n",
        "('page ', 2)\n",
        "('shops so far ', 79)"
       ]
      },
      {
       "output_type": "stream",
       "stream": "stdout",
       "text": [
        "\n",
        "('page ', 3)\n",
        "('shops so far ', 91)"
       ]
      },
      {
       "output_type": "stream",
       "stream": "stdout",
       "text": [
        "\n",
        "('page ', 4)\n",
        "('shops so far ', 105)"
       ]
      },
      {
       "output_type": "stream",
       "stream": "stdout",
       "text": [
        "\n",
        "('page ', 5)\n",
        "('shops so far ', 120)"
       ]
      },
      {
       "output_type": "stream",
       "stream": "stdout",
       "text": [
        "\n",
        "('page ', 6)\n",
        "('shops so far ', 134)"
       ]
      },
      {
       "output_type": "stream",
       "stream": "stdout",
       "text": [
        "\n",
        "('page ', 7)\n",
        "('shops so far ', 148)"
       ]
      },
      {
       "output_type": "stream",
       "stream": "stdout",
       "text": [
        "\n",
        "('page ', 8)\n",
        "('shops so far ', 160)"
       ]
      },
      {
       "output_type": "stream",
       "stream": "stdout",
       "text": [
        "\n",
        "('page ', 9)\n",
        "('shops so far ', 175)"
       ]
      },
      {
       "output_type": "stream",
       "stream": "stdout",
       "text": [
        "\n",
        "('page ', 10)\n",
        "('shops so far ', 189)"
       ]
      },
      {
       "output_type": "stream",
       "stream": "stdout",
       "text": [
        "\n",
        "('page ', 11)\n",
        "('shops so far ', 199)"
       ]
      },
      {
       "output_type": "stream",
       "stream": "stdout",
       "text": [
        "\n",
        "('page ', 12)\n",
        "('shops so far ', 208)"
       ]
      },
      {
       "output_type": "stream",
       "stream": "stdout",
       "text": [
        "\n",
        "('page ', 13)\n",
        "('shops so far ', 216)"
       ]
      },
      {
       "output_type": "stream",
       "stream": "stdout",
       "text": [
        "\n",
        "('page ', 14)\n",
        "('shops so far ', 226)"
       ]
      },
      {
       "output_type": "stream",
       "stream": "stdout",
       "text": [
        "\n",
        "('page ', 15)\n",
        "('shops so far ', 231)"
       ]
      },
      {
       "output_type": "stream",
       "stream": "stdout",
       "text": [
        "\n",
        "('page ', 16)\n",
        "('shops so far ', 240)"
       ]
      },
      {
       "output_type": "stream",
       "stream": "stdout",
       "text": [
        "\n",
        "('page ', 17)\n",
        "('shops so far ', 248)"
       ]
      },
      {
       "output_type": "stream",
       "stream": "stdout",
       "text": [
        "\n",
        "('page ', 18)\n",
        "('shops so far ', 250)"
       ]
      },
      {
       "output_type": "stream",
       "stream": "stdout",
       "text": [
        "\n",
        "('page ', 19)\n",
        "('shops so far ', 252)"
       ]
      },
      {
       "output_type": "stream",
       "stream": "stdout",
       "text": [
        "\n",
        "('page ', 20)\n",
        "('shops so far ', 253)"
       ]
      },
      {
       "output_type": "stream",
       "stream": "stdout",
       "text": [
        "\n",
        "('page ', 21)\n",
        "('shops so far ', 254)"
       ]
      },
      {
       "output_type": "stream",
       "stream": "stdout",
       "text": [
        "\n",
        "('page ', 22)\n",
        "('shops so far ', 255)"
       ]
      },
      {
       "output_type": "stream",
       "stream": "stdout",
       "text": [
        "\n",
        "('page ', 23)\n",
        "('shops so far ', 256)"
       ]
      },
      {
       "output_type": "stream",
       "stream": "stdout",
       "text": [
        "\n",
        "('page ', 24)\n",
        "('shops so far ', 260)"
       ]
      },
      {
       "output_type": "stream",
       "stream": "stdout",
       "text": [
        "\n",
        "('page ', 25)\n",
        "('shops so far ', 266)"
       ]
      },
      {
       "output_type": "stream",
       "stream": "stdout",
       "text": [
        "\n",
        "('page ', 26)\n",
        "('shops so far ', 272)"
       ]
      },
      {
       "output_type": "stream",
       "stream": "stdout",
       "text": [
        "\n",
        "('page ', 27)\n",
        "('shops so far ', 279)"
       ]
      },
      {
       "output_type": "stream",
       "stream": "stdout",
       "text": [
        "\n",
        "('page ', 28)\n",
        "('shops so far ', 283)"
       ]
      },
      {
       "output_type": "stream",
       "stream": "stdout",
       "text": [
        "\n",
        "('page ', 29)\n",
        "('shops so far ', 292)"
       ]
      },
      {
       "output_type": "stream",
       "stream": "stdout",
       "text": [
        "\n",
        "('page ', 30)\n",
        "('shops so far ', 301)"
       ]
      },
      {
       "output_type": "stream",
       "stream": "stdout",
       "text": [
        "\n",
        "('page ', 31)\n",
        "('shops so far ', 313)"
       ]
      },
      {
       "output_type": "stream",
       "stream": "stdout",
       "text": [
        "\n",
        "('page ', 32)\n",
        "('shops so far ', 318)"
       ]
      },
      {
       "output_type": "stream",
       "stream": "stdout",
       "text": [
        "\n",
        "('page ', 33)\n",
        "('shops so far ', 325)"
       ]
      },
      {
       "output_type": "stream",
       "stream": "stdout",
       "text": [
        "\n",
        "('page ', 34)\n",
        "('shops so far ', 333)"
       ]
      },
      {
       "output_type": "stream",
       "stream": "stdout",
       "text": [
        "\n",
        "('page ', 35)\n",
        "('shops so far ', 343)"
       ]
      },
      {
       "output_type": "stream",
       "stream": "stdout",
       "text": [
        "\n",
        "('page ', 36)\n",
        "('shops so far ', 355)"
       ]
      },
      {
       "output_type": "stream",
       "stream": "stdout",
       "text": [
        "\n",
        "('page ', 37)\n",
        "('shops so far ', 362)"
       ]
      },
      {
       "output_type": "stream",
       "stream": "stdout",
       "text": [
        "\n",
        "('page ', 38)\n",
        "('shops so far ', 370)"
       ]
      },
      {
       "output_type": "stream",
       "stream": "stdout",
       "text": [
        "\n",
        "('page ', 39)\n",
        "('shops so far ', 375)"
       ]
      },
      {
       "output_type": "stream",
       "stream": "stdout",
       "text": [
        "\n",
        "('page ', 40)\n",
        "('shops so far ', 383)"
       ]
      },
      {
       "output_type": "stream",
       "stream": "stdout",
       "text": [
        "\n",
        "('page ', 41)\n",
        "('shops so far ', 395)"
       ]
      },
      {
       "output_type": "stream",
       "stream": "stdout",
       "text": [
        "\n",
        "('page ', 42)\n",
        "('shops so far ', 400)"
       ]
      },
      {
       "output_type": "stream",
       "stream": "stdout",
       "text": [
        "\n",
        "('page ', 43)\n",
        "('shops so far ', 407)"
       ]
      },
      {
       "output_type": "stream",
       "stream": "stdout",
       "text": [
        "\n",
        "('page ', 44)\n",
        "('shops so far ', 417)"
       ]
      },
      {
       "output_type": "stream",
       "stream": "stdout",
       "text": [
        "\n",
        "('page ', 45)\n",
        "('shops so far ', 426)"
       ]
      },
      {
       "output_type": "stream",
       "stream": "stdout",
       "text": [
        "\n",
        "('page ', 46)\n",
        "('shops so far ', 435)"
       ]
      },
      {
       "output_type": "stream",
       "stream": "stdout",
       "text": [
        "\n",
        "('page ', 47)\n",
        "('shops so far ', 438)"
       ]
      },
      {
       "output_type": "stream",
       "stream": "stdout",
       "text": [
        "\n",
        "('page ', 48)\n",
        "('shops so far ', 441)"
       ]
      },
      {
       "output_type": "stream",
       "stream": "stdout",
       "text": [
        "\n",
        "('page ', 49)\n",
        "('shops so far ', 455)"
       ]
      },
      {
       "output_type": "stream",
       "stream": "stdout",
       "text": [
        "\n",
        "('page ', 50)\n",
        "('shops so far ', 461)"
       ]
      },
      {
       "output_type": "stream",
       "stream": "stdout",
       "text": [
        "\n",
        "('page ', 51)\n",
        "('shops so far ', 467)"
       ]
      },
      {
       "output_type": "stream",
       "stream": "stdout",
       "text": [
        "\n",
        "('page ', 52)\n",
        "('shops so far ', 475)"
       ]
      },
      {
       "output_type": "stream",
       "stream": "stdout",
       "text": [
        "\n",
        "('page ', 53)\n",
        "('shops so far ', 481)"
       ]
      },
      {
       "output_type": "stream",
       "stream": "stdout",
       "text": [
        "\n",
        "('page ', 54)\n",
        "('shops so far ', 486)"
       ]
      },
      {
       "output_type": "stream",
       "stream": "stdout",
       "text": [
        "\n",
        "('page ', 55)\n",
        "('shops so far ', 487)"
       ]
      },
      {
       "output_type": "stream",
       "stream": "stdout",
       "text": [
        "\n",
        "('page ', 56)\n",
        "('shops so far ', 494)"
       ]
      },
      {
       "output_type": "stream",
       "stream": "stdout",
       "text": [
        "\n",
        "('page ', 57)\n",
        "('shops so far ', 501)"
       ]
      },
      {
       "output_type": "stream",
       "stream": "stdout",
       "text": [
        "\n",
        "('page ', 58)\n",
        "('shops so far ', 509)"
       ]
      },
      {
       "output_type": "stream",
       "stream": "stdout",
       "text": [
        "\n",
        "('page ', 59)\n",
        "('shops so far ', 515)"
       ]
      },
      {
       "output_type": "stream",
       "stream": "stdout",
       "text": [
        "\n",
        "('page ', 60)\n",
        "('shops so far ', 523)"
       ]
      },
      {
       "output_type": "stream",
       "stream": "stdout",
       "text": [
        "\n",
        "('page ', 61)\n",
        "('shops so far ', 529)"
       ]
      },
      {
       "output_type": "stream",
       "stream": "stdout",
       "text": [
        "\n",
        "('page ', 62)\n",
        "('shops so far ', 535)"
       ]
      },
      {
       "output_type": "stream",
       "stream": "stdout",
       "text": [
        "\n",
        "('page ', 63)\n",
        "('shops so far ', 546)"
       ]
      },
      {
       "output_type": "stream",
       "stream": "stdout",
       "text": [
        "\n",
        "('page ', 64)\n",
        "('shops so far ', 557)"
       ]
      },
      {
       "output_type": "stream",
       "stream": "stdout",
       "text": [
        "\n",
        "('page ', 65)\n",
        "('shops so far ', 562)"
       ]
      },
      {
       "output_type": "stream",
       "stream": "stdout",
       "text": [
        "\n",
        "('page ', 66)\n",
        "('shops so far ', 570)"
       ]
      },
      {
       "output_type": "stream",
       "stream": "stdout",
       "text": [
        "\n",
        "('page ', 67)\n",
        "('shops so far ', 577)"
       ]
      },
      {
       "output_type": "stream",
       "stream": "stdout",
       "text": [
        "\n",
        "('page ', 68)\n",
        "('shops so far ', 585)"
       ]
      },
      {
       "output_type": "stream",
       "stream": "stdout",
       "text": [
        "\n",
        "('page ', 69)\n",
        "('shops so far ', 596)"
       ]
      },
      {
       "output_type": "stream",
       "stream": "stdout",
       "text": [
        "\n",
        "('page ', 70)\n",
        "('shops so far ', 601)"
       ]
      },
      {
       "output_type": "stream",
       "stream": "stdout",
       "text": [
        "\n",
        "('page ', 71)\n",
        "('shops so far ', 606)"
       ]
      },
      {
       "output_type": "stream",
       "stream": "stdout",
       "text": [
        "\n",
        "('page ', 72)\n",
        "('shops so far ', 609)"
       ]
      },
      {
       "output_type": "stream",
       "stream": "stdout",
       "text": [
        "\n",
        "('page ', 73)\n",
        "('shops so far ', 615)"
       ]
      },
      {
       "output_type": "stream",
       "stream": "stdout",
       "text": [
        "\n",
        "('page ', 74)\n",
        "('shops so far ', 618)"
       ]
      },
      {
       "output_type": "stream",
       "stream": "stdout",
       "text": [
        "\n",
        "('page ', 75)\n",
        "('shops so far ', 621)"
       ]
      },
      {
       "output_type": "stream",
       "stream": "stdout",
       "text": [
        "\n",
        "('page ', 76)\n",
        "('shops so far ', 627)"
       ]
      },
      {
       "output_type": "stream",
       "stream": "stdout",
       "text": [
        "\n",
        "('page ', 77)\n",
        "('shops so far ', 630)"
       ]
      },
      {
       "output_type": "stream",
       "stream": "stdout",
       "text": [
        "\n",
        "('page ', 78)\n",
        "('shops so far ', 635)"
       ]
      },
      {
       "output_type": "stream",
       "stream": "stdout",
       "text": [
        "\n",
        "('page ', 79)\n",
        "('shops so far ', 642)"
       ]
      },
      {
       "output_type": "stream",
       "stream": "stdout",
       "text": [
        "\n",
        "('page ', 80)\n",
        "('shops so far ', 651)"
       ]
      },
      {
       "output_type": "stream",
       "stream": "stdout",
       "text": [
        "\n",
        "('page ', 81)\n",
        "('shops so far ', 659)"
       ]
      },
      {
       "output_type": "stream",
       "stream": "stdout",
       "text": [
        "\n",
        "('page ', 82)\n",
        "('shops so far ', 665)"
       ]
      },
      {
       "output_type": "stream",
       "stream": "stdout",
       "text": [
        "\n",
        "('page ', 83)\n",
        "('shops so far ', 671)"
       ]
      },
      {
       "output_type": "stream",
       "stream": "stdout",
       "text": [
        "\n",
        "('page ', 84)\n",
        "('shops so far ', 678)"
       ]
      },
      {
       "output_type": "stream",
       "stream": "stdout",
       "text": [
        "\n",
        "('page ', 85)\n",
        "('shops so far ', 683)"
       ]
      },
      {
       "output_type": "stream",
       "stream": "stdout",
       "text": [
        "\n",
        "('page ', 86)\n",
        "('shops so far ', 687)"
       ]
      },
      {
       "output_type": "stream",
       "stream": "stdout",
       "text": [
        "\n",
        "('page ', 87)\n",
        "('shops so far ', 697)"
       ]
      },
      {
       "output_type": "stream",
       "stream": "stdout",
       "text": [
        "\n",
        "('page ', 88)\n",
        "('shops so far ', 702)"
       ]
      },
      {
       "output_type": "stream",
       "stream": "stdout",
       "text": [
        "\n",
        "('page ', 89)\n",
        "('shops so far ', 706)"
       ]
      },
      {
       "output_type": "stream",
       "stream": "stdout",
       "text": [
        "\n",
        "('page ', 90)\n",
        "('shops so far ', 711)"
       ]
      },
      {
       "output_type": "stream",
       "stream": "stdout",
       "text": [
        "\n",
        "('page ', 91)\n",
        "('shops so far ', 719)"
       ]
      },
      {
       "output_type": "stream",
       "stream": "stdout",
       "text": [
        "\n",
        "('page ', 92)\n",
        "('shops so far ', 725)"
       ]
      },
      {
       "output_type": "stream",
       "stream": "stdout",
       "text": [
        "\n",
        "('page ', 93)\n",
        "('shops so far ', 735)"
       ]
      },
      {
       "output_type": "stream",
       "stream": "stdout",
       "text": [
        "\n",
        "('page ', 94)\n",
        "('shops so far ', 742)"
       ]
      },
      {
       "output_type": "stream",
       "stream": "stdout",
       "text": [
        "\n",
        "('page ', 95)\n",
        "('shops so far ', 748)"
       ]
      },
      {
       "output_type": "stream",
       "stream": "stdout",
       "text": [
        "\n",
        "('page ', 96)\n",
        "('shops so far ', 753)"
       ]
      },
      {
       "output_type": "stream",
       "stream": "stdout",
       "text": [
        "\n",
        "('page ', 97)\n",
        "('shops so far ', 760)"
       ]
      },
      {
       "output_type": "stream",
       "stream": "stdout",
       "text": [
        "\n",
        "('page ', 98)\n",
        "('shops so far ', 763)"
       ]
      },
      {
       "output_type": "stream",
       "stream": "stdout",
       "text": [
        "\n",
        "('page ', 99)\n",
        "('shops so far ', 767)"
       ]
      },
      {
       "output_type": "stream",
       "stream": "stdout",
       "text": [
        "\n",
        "('page ', 100)\n",
        "('shops so far ', 775)"
       ]
      },
      {
       "output_type": "stream",
       "stream": "stdout",
       "text": [
        "\n",
        "('page ', 101)\n",
        "('shops so far ', 782)"
       ]
      },
      {
       "output_type": "stream",
       "stream": "stdout",
       "text": [
        "\n",
        "('page ', 102)\n",
        "('shops so far ', 790)"
       ]
      },
      {
       "output_type": "stream",
       "stream": "stdout",
       "text": [
        "\n",
        "('page ', 103)\n",
        "('shops so far ', 801)"
       ]
      },
      {
       "output_type": "stream",
       "stream": "stdout",
       "text": [
        "\n",
        "('page ', 104)\n",
        "('shops so far ', 806)"
       ]
      },
      {
       "output_type": "stream",
       "stream": "stdout",
       "text": [
        "\n",
        "('page ', 105)\n",
        "('shops so far ', 815)"
       ]
      },
      {
       "output_type": "stream",
       "stream": "stdout",
       "text": [
        "\n",
        "('page ', 106)\n",
        "('shops so far ', 822)"
       ]
      },
      {
       "output_type": "stream",
       "stream": "stdout",
       "text": [
        "\n",
        "('page ', 107)\n",
        "('shops so far ', 826)"
       ]
      },
      {
       "output_type": "stream",
       "stream": "stdout",
       "text": [
        "\n",
        "('page ', 108)\n",
        "('shops so far ', 832)"
       ]
      },
      {
       "output_type": "stream",
       "stream": "stdout",
       "text": [
        "\n",
        "('page ', 109)\n",
        "('shops so far ', 834)"
       ]
      },
      {
       "output_type": "stream",
       "stream": "stdout",
       "text": [
        "\n",
        "('page ', 110)\n",
        "('shops so far ', 840)"
       ]
      },
      {
       "output_type": "stream",
       "stream": "stdout",
       "text": [
        "\n",
        "('page ', 111)\n",
        "('shops so far ', 850)"
       ]
      },
      {
       "output_type": "stream",
       "stream": "stdout",
       "text": [
        "\n",
        "('page ', 112)\n",
        "('shops so far ', 855)"
       ]
      },
      {
       "output_type": "stream",
       "stream": "stdout",
       "text": [
        "\n",
        "('page ', 113)\n",
        "('shops so far ', 860)"
       ]
      },
      {
       "output_type": "stream",
       "stream": "stdout",
       "text": [
        "\n",
        "('page ', 114)\n",
        "('shops so far ', 869)"
       ]
      },
      {
       "output_type": "stream",
       "stream": "stdout",
       "text": [
        "\n",
        "('page ', 115)\n",
        "('shops so far ', 875)"
       ]
      },
      {
       "output_type": "stream",
       "stream": "stdout",
       "text": [
        "\n",
        "('page ', 116)\n",
        "('shops so far ', 880)"
       ]
      },
      {
       "output_type": "stream",
       "stream": "stdout",
       "text": [
        "\n",
        "('page ', 117)\n",
        "('shops so far ', 885)"
       ]
      },
      {
       "output_type": "stream",
       "stream": "stdout",
       "text": [
        "\n",
        "('page ', 118)\n",
        "('shops so far ', 895)"
       ]
      },
      {
       "output_type": "stream",
       "stream": "stdout",
       "text": [
        "\n",
        "('page ', 119)\n",
        "('shops so far ', 905)"
       ]
      },
      {
       "output_type": "stream",
       "stream": "stdout",
       "text": [
        "\n",
        "('page ', 120)\n",
        "('shops so far ', 909)"
       ]
      },
      {
       "output_type": "stream",
       "stream": "stdout",
       "text": [
        "\n",
        "('page ', 121)\n",
        "('shops so far ', 911)"
       ]
      },
      {
       "output_type": "stream",
       "stream": "stdout",
       "text": [
        "\n",
        "('page ', 122)\n",
        "('shops so far ', 914)"
       ]
      },
      {
       "output_type": "stream",
       "stream": "stdout",
       "text": [
        "\n",
        "('page ', 123)\n",
        "('shops so far ', 919)"
       ]
      },
      {
       "output_type": "stream",
       "stream": "stdout",
       "text": [
        "\n",
        "('page ', 124)\n",
        "('shops so far ', 921)"
       ]
      },
      {
       "output_type": "stream",
       "stream": "stdout",
       "text": [
        "\n",
        "('page ', 125)\n",
        "('shops so far ', 928)"
       ]
      },
      {
       "output_type": "stream",
       "stream": "stdout",
       "text": [
        "\n",
        "('page ', 126)\n",
        "('shops so far ', 935)"
       ]
      },
      {
       "output_type": "stream",
       "stream": "stdout",
       "text": [
        "\n",
        "('page ', 127)\n",
        "('shops so far ', 942)"
       ]
      },
      {
       "output_type": "stream",
       "stream": "stdout",
       "text": [
        "\n",
        "('page ', 128)\n",
        "('shops so far ', 944)"
       ]
      },
      {
       "output_type": "stream",
       "stream": "stdout",
       "text": [
        "\n",
        "('page ', 129)\n",
        "('shops so far ', 949)"
       ]
      },
      {
       "output_type": "stream",
       "stream": "stdout",
       "text": [
        "\n",
        "('page ', 130)\n",
        "('shops so far ', 954)"
       ]
      },
      {
       "output_type": "stream",
       "stream": "stdout",
       "text": [
        "\n",
        "('page ', 131)\n",
        "('shops so far ', 957)"
       ]
      },
      {
       "output_type": "stream",
       "stream": "stdout",
       "text": [
        "\n",
        "('page ', 132)\n",
        "('shops so far ', 958)"
       ]
      },
      {
       "output_type": "stream",
       "stream": "stdout",
       "text": [
        "\n",
        "('page ', 133)\n",
        "('shops so far ', 961)"
       ]
      },
      {
       "output_type": "stream",
       "stream": "stdout",
       "text": [
        "\n",
        "('page ', 134)\n",
        "('shops so far ', 967)"
       ]
      },
      {
       "output_type": "stream",
       "stream": "stdout",
       "text": [
        "\n",
        "('page ', 135)\n",
        "('shops so far ', 973)"
       ]
      },
      {
       "output_type": "stream",
       "stream": "stdout",
       "text": [
        "\n",
        "('page ', 136)\n",
        "('shops so far ', 979)"
       ]
      },
      {
       "output_type": "stream",
       "stream": "stdout",
       "text": [
        "\n",
        "('page ', 137)\n",
        "('shops so far ', 986)"
       ]
      },
      {
       "output_type": "stream",
       "stream": "stdout",
       "text": [
        "\n",
        "('page ', 138)\n",
        "('shops so far ', 989)"
       ]
      },
      {
       "output_type": "stream",
       "stream": "stdout",
       "text": [
        "\n",
        "('page ', 139)\n",
        "('shops so far ', 994)"
       ]
      },
      {
       "output_type": "stream",
       "stream": "stdout",
       "text": [
        "\n",
        "('page ', 140)\n",
        "('shops so far ', 997)"
       ]
      },
      {
       "output_type": "stream",
       "stream": "stdout",
       "text": [
        "\n",
        "('page ', 141)\n",
        "('shops so far ', 999)"
       ]
      },
      {
       "output_type": "stream",
       "stream": "stdout",
       "text": [
        "\n",
        "('page ', 142)\n",
        "('shops so far ', 1003)"
       ]
      },
      {
       "output_type": "stream",
       "stream": "stdout",
       "text": [
        "\n",
        "('page ', 143)\n",
        "('shops so far ', 1007)"
       ]
      },
      {
       "output_type": "stream",
       "stream": "stdout",
       "text": [
        "\n",
        "('page ', 144)\n",
        "('shops so far ', 1015)"
       ]
      },
      {
       "output_type": "stream",
       "stream": "stdout",
       "text": [
        "\n",
        "('page ', 145)\n",
        "('shops so far ', 1022)"
       ]
      },
      {
       "output_type": "stream",
       "stream": "stdout",
       "text": [
        "\n",
        "('page ', 146)\n",
        "('shops so far ', 1025)"
       ]
      },
      {
       "output_type": "stream",
       "stream": "stdout",
       "text": [
        "\n",
        "('page ', 147)\n",
        "('shops so far ', 1029)"
       ]
      },
      {
       "output_type": "stream",
       "stream": "stdout",
       "text": [
        "\n",
        "('page ', 148)\n",
        "('shops so far ', 1035)"
       ]
      },
      {
       "output_type": "stream",
       "stream": "stdout",
       "text": [
        "\n",
        "('page ', 149)\n",
        "('shops so far ', 1044)"
       ]
      },
      {
       "output_type": "stream",
       "stream": "stdout",
       "text": [
        "\n",
        "('page ', 150)\n",
        "('shops so far ', 1052)"
       ]
      },
      {
       "output_type": "stream",
       "stream": "stdout",
       "text": [
        "\n",
        "('page ', 151)\n",
        "('shops so far ', 1058)"
       ]
      },
      {
       "output_type": "stream",
       "stream": "stdout",
       "text": [
        "\n",
        "('page ', 152)\n",
        "('shops so far ', 1062)"
       ]
      },
      {
       "output_type": "stream",
       "stream": "stdout",
       "text": [
        "\n",
        "('page ', 153)\n",
        "('shops so far ', 1069)"
       ]
      },
      {
       "output_type": "stream",
       "stream": "stdout",
       "text": [
        "\n",
        "('page ', 154)\n",
        "('shops so far ', 1077)"
       ]
      },
      {
       "output_type": "stream",
       "stream": "stdout",
       "text": [
        "\n",
        "('page ', 155)\n",
        "('shops so far ', 1086)"
       ]
      },
      {
       "output_type": "stream",
       "stream": "stdout",
       "text": [
        "\n",
        "('page ', 156)\n",
        "('shops so far ', 1088)"
       ]
      },
      {
       "output_type": "stream",
       "stream": "stdout",
       "text": [
        "\n",
        "('page ', 157)\n",
        "('shops so far ', 1094)"
       ]
      },
      {
       "output_type": "stream",
       "stream": "stdout",
       "text": [
        "\n",
        "('page ', 158)\n",
        "('shops so far ', 1097)"
       ]
      },
      {
       "output_type": "stream",
       "stream": "stdout",
       "text": [
        "\n",
        "('page ', 159)\n",
        "('shops so far ', 1100)"
       ]
      },
      {
       "output_type": "stream",
       "stream": "stdout",
       "text": [
        "\n",
        "('page ', 160)\n",
        "('shops so far ', 1107)"
       ]
      },
      {
       "output_type": "stream",
       "stream": "stdout",
       "text": [
        "\n",
        "('page ', 161)\n",
        "('shops so far ', 1111)"
       ]
      },
      {
       "output_type": "stream",
       "stream": "stdout",
       "text": [
        "\n",
        "('page ', 162)\n",
        "('shops so far ', 1119)"
       ]
      },
      {
       "output_type": "stream",
       "stream": "stdout",
       "text": [
        "\n",
        "('page ', 163)\n",
        "('shops so far ', 1127)"
       ]
      },
      {
       "output_type": "stream",
       "stream": "stdout",
       "text": [
        "\n",
        "('page ', 164)\n",
        "('shops so far ', 1131)"
       ]
      },
      {
       "output_type": "stream",
       "stream": "stdout",
       "text": [
        "\n",
        "('page ', 165)\n",
        "('shops so far ', 1139)"
       ]
      },
      {
       "output_type": "stream",
       "stream": "stdout",
       "text": [
        "\n",
        "('page ', 166)\n",
        "('shops so far ', 1144)"
       ]
      },
      {
       "output_type": "stream",
       "stream": "stdout",
       "text": [
        "\n",
        "('page ', 167)\n",
        "('shops so far ', 1150)"
       ]
      },
      {
       "output_type": "stream",
       "stream": "stdout",
       "text": [
        "\n",
        "('page ', 168)\n",
        "('shops so far ', 1158)"
       ]
      },
      {
       "output_type": "stream",
       "stream": "stdout",
       "text": [
        "\n",
        "('page ', 169)\n",
        "('shops so far ', 1167)"
       ]
      },
      {
       "output_type": "stream",
       "stream": "stdout",
       "text": [
        "\n",
        "('page ', 170)\n",
        "('shops so far ', 1173)"
       ]
      },
      {
       "output_type": "stream",
       "stream": "stdout",
       "text": [
        "\n",
        "('page ', 171)\n",
        "('shops so far ', 1176)"
       ]
      },
      {
       "output_type": "stream",
       "stream": "stdout",
       "text": [
        "\n",
        "('page ', 172)\n",
        "('shops so far ', 1184)"
       ]
      },
      {
       "output_type": "stream",
       "stream": "stdout",
       "text": [
        "\n",
        "('page ', 173)\n",
        "('shops so far ', 1187)"
       ]
      },
      {
       "output_type": "stream",
       "stream": "stdout",
       "text": [
        "\n",
        "('page ', 174)\n",
        "('shops so far ', 1190)"
       ]
      },
      {
       "output_type": "stream",
       "stream": "stdout",
       "text": [
        "\n",
        "('page ', 175)\n",
        "('shops so far ', 1196)"
       ]
      },
      {
       "output_type": "stream",
       "stream": "stdout",
       "text": [
        "\n",
        "('page ', 176)\n",
        "('shops so far ', 1199)"
       ]
      },
      {
       "output_type": "stream",
       "stream": "stdout",
       "text": [
        "\n",
        "('page ', 177)\n",
        "('shops so far ', 1199)"
       ]
      },
      {
       "output_type": "stream",
       "stream": "stdout",
       "text": [
        "\n",
        "('page ', 178)\n",
        "('shops so far ', 1199)"
       ]
      },
      {
       "output_type": "stream",
       "stream": "stdout",
       "text": [
        "\n",
        "('page ', 179)\n",
        "('shops so far ', 1203)"
       ]
      },
      {
       "output_type": "stream",
       "stream": "stdout",
       "text": [
        "\n",
        "('page ', 180)\n",
        "('shops so far ', 1207)"
       ]
      },
      {
       "output_type": "stream",
       "stream": "stdout",
       "text": [
        "\n",
        "('page ', 181)\n",
        "('shops so far ', 1212)"
       ]
      },
      {
       "output_type": "stream",
       "stream": "stdout",
       "text": [
        "\n",
        "('page ', 182)\n",
        "('shops so far ', 1219)"
       ]
      },
      {
       "output_type": "stream",
       "stream": "stdout",
       "text": [
        "\n",
        "('page ', 183)\n",
        "('shops so far ', 1222)"
       ]
      },
      {
       "output_type": "stream",
       "stream": "stdout",
       "text": [
        "\n",
        "('page ', 184)\n",
        "('shops so far ', 1226)"
       ]
      },
      {
       "output_type": "stream",
       "stream": "stdout",
       "text": [
        "\n",
        "('page ', 185)\n",
        "('shops so far ', 1230)"
       ]
      },
      {
       "output_type": "stream",
       "stream": "stdout",
       "text": [
        "\n",
        "('page ', 186)\n",
        "('shops so far ', 1235)"
       ]
      },
      {
       "output_type": "stream",
       "stream": "stdout",
       "text": [
        "\n",
        "('page ', 187)\n",
        "('shops so far ', 1241)"
       ]
      },
      {
       "output_type": "stream",
       "stream": "stdout",
       "text": [
        "\n",
        "('page ', 188)\n",
        "('shops so far ', 1249)"
       ]
      },
      {
       "output_type": "stream",
       "stream": "stdout",
       "text": [
        "\n",
        "('page ', 189)\n",
        "('shops so far ', 1252)"
       ]
      },
      {
       "output_type": "stream",
       "stream": "stdout",
       "text": [
        "\n",
        "('page ', 190)\n",
        "('shops so far ', 1258)"
       ]
      },
      {
       "output_type": "stream",
       "stream": "stdout",
       "text": [
        "\n",
        "('page ', 191)\n",
        "('shops so far ', 1266)"
       ]
      },
      {
       "output_type": "stream",
       "stream": "stdout",
       "text": [
        "\n",
        "('page ', 192)\n",
        "('shops so far ', 1273)"
       ]
      },
      {
       "output_type": "stream",
       "stream": "stdout",
       "text": [
        "\n",
        "('page ', 193)\n",
        "('shops so far ', 1282)"
       ]
      },
      {
       "output_type": "stream",
       "stream": "stdout",
       "text": [
        "\n",
        "('page ', 194)\n",
        "('shops so far ', 1290)"
       ]
      },
      {
       "output_type": "stream",
       "stream": "stdout",
       "text": [
        "\n",
        "('page ', 195)\n",
        "('shops so far ', 1299)"
       ]
      },
      {
       "output_type": "stream",
       "stream": "stdout",
       "text": [
        "\n",
        "('page ', 196)\n",
        "('shops so far ', 1303)"
       ]
      },
      {
       "output_type": "stream",
       "stream": "stdout",
       "text": [
        "\n",
        "('page ', 197)\n",
        "('shops so far ', 1309)"
       ]
      },
      {
       "output_type": "stream",
       "stream": "stdout",
       "text": [
        "\n",
        "('page ', 198)\n",
        "('shops so far ', 1317)"
       ]
      },
      {
       "output_type": "stream",
       "stream": "stdout",
       "text": [
        "\n",
        "('page ', 199)\n",
        "('shops so far ', 1321)"
       ]
      },
      {
       "output_type": "stream",
       "stream": "stdout",
       "text": [
        "\n",
        "('page ', 200)\n",
        "('shops so far ', 1326)"
       ]
      },
      {
       "output_type": "stream",
       "stream": "stdout",
       "text": [
        "\n",
        "('page ', 201)\n",
        "('shops so far ', 1332)"
       ]
      },
      {
       "output_type": "stream",
       "stream": "stdout",
       "text": [
        "\n",
        "('page ', 202)\n",
        "('shops so far ', 1335)"
       ]
      },
      {
       "output_type": "stream",
       "stream": "stdout",
       "text": [
        "\n",
        "('page ', 203)\n",
        "('shops so far ', 1337)"
       ]
      },
      {
       "output_type": "stream",
       "stream": "stdout",
       "text": [
        "\n",
        "('page ', 204)\n",
        "('shops so far ', 1347)"
       ]
      },
      {
       "output_type": "stream",
       "stream": "stdout",
       "text": [
        "\n",
        "('page ', 205)\n",
        "('shops so far ', 1352)"
       ]
      },
      {
       "output_type": "stream",
       "stream": "stdout",
       "text": [
        "\n",
        "('page ', 206)\n",
        "('shops so far ', 1357)"
       ]
      },
      {
       "output_type": "stream",
       "stream": "stdout",
       "text": [
        "\n",
        "('page ', 207)\n",
        "('shops so far ', 1363)"
       ]
      },
      {
       "output_type": "stream",
       "stream": "stdout",
       "text": [
        "\n",
        "('page ', 208)\n",
        "('shops so far ', 1370)"
       ]
      },
      {
       "output_type": "stream",
       "stream": "stdout",
       "text": [
        "\n",
        "('page ', 209)\n",
        "('shops so far ', 1378)"
       ]
      },
      {
       "output_type": "stream",
       "stream": "stdout",
       "text": [
        "\n",
        "('page ', 210)\n",
        "('shops so far ', 1382)"
       ]
      },
      {
       "output_type": "stream",
       "stream": "stdout",
       "text": [
        "\n",
        "('page ', 211)\n",
        "('shops so far ', 1387)"
       ]
      },
      {
       "output_type": "stream",
       "stream": "stdout",
       "text": [
        "\n",
        "('page ', 212)\n",
        "('shops so far ', 1388)"
       ]
      },
      {
       "output_type": "stream",
       "stream": "stdout",
       "text": [
        "\n",
        "('page ', 213)\n",
        "('shops so far ', 1393)"
       ]
      },
      {
       "output_type": "stream",
       "stream": "stdout",
       "text": [
        "\n",
        "('page ', 214)\n",
        "('shops so far ', 1401)"
       ]
      },
      {
       "output_type": "stream",
       "stream": "stdout",
       "text": [
        "\n",
        "('page ', 215)\n",
        "('shops so far ', 1406)"
       ]
      },
      {
       "output_type": "stream",
       "stream": "stdout",
       "text": [
        "\n",
        "('page ', 216)\n",
        "('shops so far ', 1415)"
       ]
      },
      {
       "output_type": "stream",
       "stream": "stdout",
       "text": [
        "\n",
        "('page ', 217)\n",
        "('shops so far ', 1419)"
       ]
      },
      {
       "output_type": "stream",
       "stream": "stdout",
       "text": [
        "\n",
        "('page ', 218)\n",
        "('shops so far ', 1425)"
       ]
      },
      {
       "output_type": "stream",
       "stream": "stdout",
       "text": [
        "\n",
        "('page ', 219)\n",
        "('shops so far ', 1432)"
       ]
      },
      {
       "output_type": "stream",
       "stream": "stdout",
       "text": [
        "\n",
        "('page ', 220)\n",
        "('shops so far ', 1438)"
       ]
      },
      {
       "output_type": "stream",
       "stream": "stdout",
       "text": [
        "\n",
        "('page ', 221)\n",
        "('shops so far ', 1444)"
       ]
      },
      {
       "output_type": "stream",
       "stream": "stdout",
       "text": [
        "\n",
        "('page ', 222)\n",
        "('shops so far ', 1448)"
       ]
      },
      {
       "output_type": "stream",
       "stream": "stdout",
       "text": [
        "\n",
        "('page ', 223)\n",
        "('shops so far ', 1456)"
       ]
      },
      {
       "output_type": "stream",
       "stream": "stdout",
       "text": [
        "\n",
        "('page ', 224)\n",
        "('shops so far ', 1460)"
       ]
      },
      {
       "output_type": "stream",
       "stream": "stdout",
       "text": [
        "\n",
        "('page ', 225)\n",
        "('shops so far ', 1467)"
       ]
      },
      {
       "output_type": "stream",
       "stream": "stdout",
       "text": [
        "\n",
        "('page ', 226)\n",
        "('shops so far ', 1476)"
       ]
      },
      {
       "output_type": "stream",
       "stream": "stdout",
       "text": [
        "\n",
        "('page ', 227)\n",
        "('shops so far ', 1485)"
       ]
      },
      {
       "output_type": "stream",
       "stream": "stdout",
       "text": [
        "\n",
        "('page ', 228)\n",
        "('shops so far ', 1493)"
       ]
      },
      {
       "output_type": "stream",
       "stream": "stdout",
       "text": [
        "\n",
        "('page ', 229)\n",
        "('shops so far ', 1505)"
       ]
      },
      {
       "output_type": "stream",
       "stream": "stdout",
       "text": [
        "\n",
        "('page ', 230)\n",
        "('shops so far ', 1513)"
       ]
      },
      {
       "output_type": "stream",
       "stream": "stdout",
       "text": [
        "\n",
        "('page ', 231)\n",
        "('shops so far ', 1521)"
       ]
      },
      {
       "output_type": "stream",
       "stream": "stdout",
       "text": [
        "\n",
        "('page ', 232)\n",
        "('shops so far ', 1528)"
       ]
      },
      {
       "output_type": "stream",
       "stream": "stdout",
       "text": [
        "\n",
        "('page ', 233)\n",
        "('shops so far ', 1535)"
       ]
      },
      {
       "output_type": "stream",
       "stream": "stdout",
       "text": [
        "\n",
        "('page ', 234)\n",
        "('shops so far ', 1538)"
       ]
      },
      {
       "output_type": "stream",
       "stream": "stdout",
       "text": [
        "\n",
        "('page ', 235)\n",
        "('shops so far ', 1546)"
       ]
      },
      {
       "output_type": "stream",
       "stream": "stdout",
       "text": [
        "\n",
        "('page ', 236)\n",
        "('shops so far ', 1550)"
       ]
      },
      {
       "output_type": "stream",
       "stream": "stdout",
       "text": [
        "\n",
        "('page ', 237)\n",
        "('shops so far ', 1557)"
       ]
      },
      {
       "output_type": "stream",
       "stream": "stdout",
       "text": [
        "\n",
        "('page ', 238)\n",
        "('shops so far ', 1560)"
       ]
      },
      {
       "output_type": "stream",
       "stream": "stdout",
       "text": [
        "\n",
        "('page ', 239)\n",
        "('shops so far ', 1565)"
       ]
      },
      {
       "output_type": "stream",
       "stream": "stdout",
       "text": [
        "\n",
        "('page ', 240)\n",
        "{1: {'Name': u'MyKnitCroch'}, 2: {'Name': u'Puik'}, 3: {'Name': u'viafashion'}, 4: {'Name': u'SandyCoastalDesigns'}, 5: {'Name': u'MaxMelody'}, 6: {'Name': u'SunshineBabyProps'}, 7: {'Name': u'knittingtreasures'}, 8: {'Name': u'Ebruk'}, 9: {'Name': u'zukas'}, 10: {'Name': u'accessoriesbyrita'}, 11: {'Name': u'pixiebell'}, 12: {'Name': u'SENNURSASA'}, 13: {'Name': u'effybags'}, 14: {'Name': u'ileaiye'}, 15: {'Name': u'StripesnCables'}, 16: {'Name': u'LurayKnitwear'}, 17: {'Name': u'HatsByHollyJoy'}, 18: {'Name': u'TheMadRabbitShoppe'}, 19: {'Name': u'PrettyBagsByMia'}, 20: {'Name': u'LudMilaBoutique'}, 21: {'Name': u'LoopsAndLines'}, 22: {'Name': u'RosiesNoggin'}, 23: {'Name': u'HeadcoversUnlimited'}, 24: {'Name': u'SpinningAcres'}, 25: {'Name': u'Regathered'}, 26: {'Name': u'PoshKiddosapparel'}, 27: {'Name': u'Ifonka'}, 28: {'Name': u'BouquetSpecialDesign'}, 29: {'Name': u'SoftyWooly'}, 30: {'Name': u'ShopLuluandRoo'}, 31: {'Name': u'HootersHall'}, 32: {'Name': u'myfashioncreations'}, 33: {'Name': u'PracticalArtByLaura'}, 34: {'Name': u'WoollywonderKnits'}, 35: {'Name': u'DollphinShowRoom'}, 36: {'Name': u'SmallandLovely'}, 37: {'Name': u'IfonBabyLand'}, 38: {'Name': u'strawberrycouture'}, 39: {'Name': u'ReinetteClothing'}, 40: {'Name': u'SlouchyBeanie'}, 41: {'Name': u'BaByPrOdUcTsByGaLiNa'}, 42: {'Name': u'UpNorthKnits'}, 43: {'Name': u'Sawu'}, 44: {'Name': u'natalya1905'}, 45: {'Name': u'designbcb'}, 46: {'Name': u'LoonMtEmbroidnCrafts'}, 47: {'Name': u'SoftKnitDreams'}, 48: {'Name': u'KnitAndCrochetLAND'}, 49: {'Name': u'PandoraSpocks'}, 50: {'Name': u'earflaphats'}, 51: {'Name': u'Fernandfeatherknits'}, 52: {'Name': u'DamovFashion'}, 53: {'Name': u'lanadearg'}, 54: {'Name': u'DickensKnits'}, 55: {'Name': u'Vacationhouse'}, 56: {'Name': u'lajumpinbean'}, 57: {'Name': u'FarrellFibers'}, 58: {'Name': u'JolantaKnit'}, 59: {'Name': u'hilaryfrazier'}, 60: {'Name': u'PIYOYO'}, 61: {'Name': u'BlablaBlythe'}, 62: {'Name': u'Scarf4you'}, 63: {'Name': u'BoPeepsBonnets'}, 64: {'Name': u'MyCrochetDesign'}, 65: {'Name': u'Knitzbybeansknots'}, 66: {'Name': u'PersonalizedKnits'}, 67: {'Name': u'LittleAsAccessories'}, 68: {'Name': u'WodCreate'}, 69: {'Name': u'lililio'}, 70: {'Name': u'tailorguy'}, 71: {'Name': u'OffTheHookHats'}, 72: {'Name': u'SueMaun'}, 73: {'Name': u'KadensCloset'}, 74: {'Name': u'EllenaKnits'}, 75: {'Name': u'dreahsdesigns'}, 76: {'Name': u'CottonPickings'}, 77: {'Name': u'MatanteGe'}, 78: {'Name': u'PlukeShop'}, 79: {'Name': u'Knittingchop'}, 80: {'Name': u'HuckleberriesandRain'}, 81: {'Name': u'HandicraftByDamla'}, 82: {'Name': u'WonderWoollens'}, 83: {'Name': u'TaniaHand'}, 84: {'Name': u'Bohoinfinity'}, 85: {'Name': u'mynoush'}, 86: {'Name': u'CableMeCozy'}, 87: {'Name': u'JandEdoodles'}, 88: {'Name': u'beatknits'}, 89: {'Name': u'ShopLaLune'}, 90: {'Name': u'vintageknitcrochet'}, 91: {'Name': u'PeonyKnits'}, 92: {'Name': u'NataNatastudio'}, 93: {'Name': u'Ritaknitsall'}, 94: {'Name': u'smittenwithknitn'}, 95: {'Name': u'HelloDollyDesigns'}, 96: {'Name': u'FiddlestyxStudios'}, 97: {'Name': u'HandyHatsandThings'}, 98: {'Name': u'TreMelarance'}, 99: {'Name': u'Cvetinka'}, 100: {'Name': u'BabyHats'}, 101: {'Name': u'GrammysKnitsandPurls'}, 102: {'Name': u'AnytimeScarf'}, 103: {'Name': u'CTDESIGNSBESPOKEBAGS'}, 104: {'Name': u'Powerbrand'}, 105: {'Name': u'KnitSew4U'}, 106: {'Name': u'sweetygreetings'}, 107: {'Name': u'rubywebbs'}, 108: {'Name': u'LJaccessories'}, 109: {'Name': u'HippityHoppityHats'}, 110: {'Name': u'HandWovenPeru'}, 111: {'Name': u'TheMastHatter'}, 112: {'Name': u'BabiesRepublic'}, 113: {'Name': u'foreverandrea'}, 114: {'Name': u'SimplyLife888'}, 115: {'Name': u'DesignByEJ'}, 116: {'Name': u'LovetoKnitHats'}, 117: {'Name': u'UnderTheOakTrees'}, 118: {'Name': u'SourpussKnits'}, 119: {'Name': u'LeLeni'}, 120: {'Name': u'AshleyLillisHandmade'}, 121: {'Name': u'CreationsTricotine'}, 122: {'Name': u'WaterInMyPaint'}, 123: {'Name': u'ThatGirlKnitz'}, 124: {'Name': u'laceandcable'}, 125: {'Name': u'selmahandcraft'}, 126: {'Name': u'GoKnitsDotCom'}, 127: {'Name': u'HaKaMaDi4'}, 128: {'Name': u'TerryGraziano'}, 129: {'Name': u'ToryMakes'}, 130: {'Name': u'Ladyknitsandthings'}, 131: {'Name': u'BexterDesigns'}, 132: {'Name': u'FromPurlsToPearls'}, 133: {'Name': u'sweetKM'}, 134: {'Name': u'looptolooptoloop'}, 135: {'Name': u'TikiFiberCrafts'}, 136: {'Name': u'Magicdoll'}, 137: {'Name': u'WinterWhiteKnits'}, 138: {'Name': u'KnitsForLife'}, 139: {'Name': u'CappelliHats'}, 140: {'Name': u'bromefields'}, 141: {'Name': u'MarysKnits'}, 142: {'Name': u'NchantedGifts'}, 143: {'Name': u'PoshPatterns'}, 144: {'Name': u'willowandsagecreatio'}, 145: {'Name': u'Knitcessity'}, 146: {'Name': u'westlakedesigns'}, 147: {'Name': u'abrahamssonco'}, 148: {'Name': u'OhmayDIY'}, 149: {'Name': u'Merrieknit'}, 150: {'Name': u'PhiloneusDesigns'}, 151: {'Name': u'ThreeBirdNest'}, 152: {'Name': u'RosePetalCollections'}, 153: {'Name': u'HeartStrings107'}, 154: {'Name': u'ForestWool'}, 155: {'Name': u'azuremiles'}, 156: {'Name': u'SabiynaHandKnits'}, 157: {'Name': u'MimozaLuxury'}, 158: {'Name': u'CattsHouse'}, 159: {'Name': u'LalaAndMeShop'}, 160: {'Name': u'GreenCatStudio'}, 161: {'Name': u'MellyJoCo'}, 162: {'Name': u'AdrisLittleCuties'}, 163: {'Name': u'CreationsbyNavari'}, 164: {'Name': u'KnittingOleBag'}, 165: {'Name': u'TwoLittleAngels1'}, 166: {'Name': u'bebebottineshop'}, 167: {'Name': u'StripyKite'}, 168: {'Name': u'funkomavintage'}, 169: {'Name': u'AuntieBsMemories'}, 170: {'Name': u'KnitJustForYou'}, 171: {'Name': u'MoonKnitNight'}, 172: {'Name': u'yarnworksandmore'}, 173: {'Name': u'lauraprilltoo'}, 174: {'Name': u'NesyBaby'}, 175: {'Name': u'CLCouture'}, 176: {'Name': u'KnitsByNat'}, 177: {'Name': u'BirdiesLab'}, 178: {'Name': u'NudiKnits'}, 179: {'Name': u'MarmaladesYarn'}, 180: {'Name': u'JillsHandmadeStuff'}, 181: {'Name': u'WomanOnTheWater'}, 182: {'Name': u'PeachPoshPolkadots'}, 183: {'Name': u'JennysKnitCo'}, 184: {'Name': u'ZucchiniIslandKnits'}, 185: {'Name': u'Terottka'}, 186: {'Name': u'AccessoriesByKelli'}, 187: {'Name': u'JanJanCreations'}, 188: {'Name': u'TARSTITCH'}, 189: {'Name': u'AngisWollBobbl'}, 190: {'Name': u'MimiMustKnit'}, 191: {'Name': u'SnazzySportsCo'}, 192: {'Name': u'KnitsandGiggles970'}, 193: {'Name': u'JeanieBeanHandKnits'}, 194: {'Name': u'LiveLace'}, 195: {'Name': u'AnotherKP'}, 196: {'Name': u'knoodleknits'}, 197: {'Name': u'AylasBeeniesgreenbay'}, 198: {'Name': u'JanineBasil'}, 199: {'Name': u'VillaYarnDesigns'}, 200: {'Name': u'bootcuffsandsocks'}, 201: {'Name': u'DishclothDivaKnitsOn'}, 202: {'Name': u'starlightknits'}, 203: {'Name': u'UnconditionalProwess'}, 204: {'Name': u'TriStarDesign'}, 205: {'Name': u'HatParadise'}, 206: {'Name': u'swaddlemesnugly'}, 207: {'Name': u'PlatoSquirrel'}, 208: {'Name': u'ChandraQuiltnCrafts'}, 209: {'Name': u'PaulaBPires'}, 210: {'Name': u'HatCharacters'}, 211: {'Name': u'jfaze'}, 212: {'Name': u'YHYC'}, 213: {'Name': u'JuniperandGinger'}, 214: {'Name': u'VolnaDollsClother'}, 215: {'Name': u'sewsassybootique'}, 216: {'Name': u'ETaylorDesigns'}, 217: {'Name': u'TheCraftyEuropean'}, 218: {'Name': u'SuchCraftsWow'}, 219: {'Name': u'KEENbyAM'}, 220: {'Name': u'LambsEarsKnits'}, 221: {'Name': u'PhotoPropsByMissLene'}, 222: {'Name': u'CreativeHandknits'}, 223: {'Name': u'zoik'}, 224: {'Name': u'ThePaisleyCarrot'}, 225: {'Name': u'Solnishko43'}, 226: {'Name': u'FrouFrouVtgClothing'}, 227: {'Name': u'MariyaMitov'}, 228: {'Name': u'BollasBitsAndBobs'}, 229: {'Name': u'OhBoyHandmade'}, 230: {'Name': u'HamsaHealingGifts'}, 231: {'Name': u'deorigenchile'}, 232: {'Name': u'LiliaCraftParty'}, 233: {'Name': u'MtnShadowFiberworks'}, 234: {'Name': u'ItsyBitsyBabyProps'}, 235: {'Name': u'taschekats'}, 236: {'Name': u'YarnForBaby'}, 237: {'Name': u'naptimedesigners'}, 238: {'Name': u'CanadaBlissBoutique'}, 239: {'Name': u'CuteCreationsByLea'}, 240: {'Name': u'Pavlaknits'}, 241: {'Name': u'stayinstitches'}, 242: {'Name': u'Clickclackknits'}, 243: {'Name': u'Mirastyle'}, 244: {'Name': u'CutePhotoProp'}, 245: {'Name': u'CrochetKnit30'}, 246: {'Name': u'VermontHomespun'}, 247: {'Name': u'DokumaAccessories'}, 248: {'Name': u'ToppledTurtle'}, 249: {'Name': u'ThatSewU'}, 250: {'Name': u'MedleyofColors'}, 251: {'Name': u'BabyKDesigns'}, 252: {'Name': u'RubyBlueKnits'}, 253: {'Name': u'3sistersscarfcompany'}, 254: {'Name': u'KnitByMe'}, 255: {'Name': u'GMolly'}, 256: {'Name': u'Plexida'}, 257: {'Name': u'ThingsKnit'}, 258: {'Name': u'KangooLUX'}, 259: {'Name': u'Lasunka'}, 260: {'Name': u'IRISMINT'}, 261: {'Name': u'LineliHandmade'}, 262: {'Name': u'Fluffylamb'}, 263: {'Name': u'rukkola'}, 264: {'Name': u'SapphiraDesignsKnits'}, 265: {'Name': u'NorthCountryExposure'}, 266: {'Name': u'StarSeventeen'}, 267: {'Name': u'KnittingbyKali'}, 268: {'Name': u'Madebyfate'}, 269: {'Name': u'YoYohats'}, 270: {'Name': u'AGuyWithTwoNeedles'}, 271: {'Name': u'NorthernLoopKnitwear'}, 272: {'Name': u'BellaRaeCrochet'}, 273: {'Name': u'HandmadeFromLV'}, 274: {'Name': u'IKnit4aCure'}, 275: {'Name': u'BebellissimosB'}, 276: {'Name': u'DebsDevineDesigns'}, 277: {'Name': u'CroquisKnits'}, 278: {'Name': u'tzigane57'}, 279: {'Name': u'HandmadeTrend'}, 280: {'Name': u'Scarfashion'}, 281: {'Name': u'PikaPikaCreative'}, 282: {'Name': u'Ingugu'}, 283: {'Name': u'Solandia'}, 284: {'Name': u'ShnopShnop'}, 285: {'Name': u'ShentonStudios'}, 286: {'Name': u'SweetPetitePhotoProp'}, 287: {'Name': u'RememberingDiane'}, 288: {'Name': u'LorisHatShop'}, 289: {'Name': u'HandknitsByLori'}, 290: {'Name': u'KnitLea'}, 291: {'Name': u'ChildCrochet'}, 292: {'Name': u'Halunder'}, 293: {'Name': u'CrochetingHeaven'}, 294: {'Name': u'DCimaginations'}, 295: {'Name': u'ColorWondreWarmth'}, 296: {'Name': u'PlexisArt'}, 297: {'Name': u'Knitzandpurls'}, 298: {'Name': u'ButtermilkCottage'}, 299: {'Name': u'PacaPooFarms'}, 300: {'Name': u'LeanaKonovalova'}, 301: {'Name': u'lovewhatyouwear'}, 302: {'Name': u'autumnandindigo'}, 303: {'Name': u'wildhoneypieboutique'}, 304: {'Name': u'twigsandtweets'}, 305: {'Name': u'LaKnitteria'}, 306: {'Name': u'JuicyBows'}, 307: {'Name': u'AnastasiaEvelyn'}, 308: {'Name': u'MadeByMillar'}, 309: {'Name': u'GOOLASHOP'}, 310: {'Name': u'SmilingKnitting'}, 311: {'Name': u'xoxoImogenHearts'}, 312: {'Name': u'MyTinyTree'}, 313: {'Name': u'Johannahats'}, 314: {'Name': u'heaventoseven'}, 315: {'Name': u'aysev'}, 316: {'Name': u'jolay'}, 317: {'Name': u'LovewhorlsKnits'}, 318: {'Name': u'KennaInAfrica'}, 319: {'Name': u'LittleRetronome'}, 320: {'Name': u'emmifaye'}, 321: {'Name': u'zxcvvcxz'}, 322: {'Name': u'CelesteandCompany'}, 323: {'Name': u'AuBoutduPre'}, 324: {'Name': u'Mariiko'}, 325: {'Name': u'DiceKnits'}, 326: {'Name': u'TheWoolyBirch'}, 327: {'Name': u'NoKnotKnits'}, 328: {'Name': u'CrochetYourBaby'}, 329: {'Name': u'THIMBLEandACORN'}, 330: {'Name': u'GoCrochetCreations'}, 331: {'Name': u'DebGHats'}, 332: {'Name': u'StayatHomeStitchings'}, 333: {'Name': u'forthetiny'}, 334: {'Name': u'MercierMarche'}, 335: {'Name': u'EnchantedLandofFelt'}, 336: {'Name': u'AKCraftyLady'}, 337: {'Name': u'dahliasoleil'}, 338: {'Name': u'saracarr'}, 339: {'Name': u'MomohanaKobo'}, 340: {'Name': u'lucymir'}, 341: {'Name': u'MelissaAndElizabethe'}, 342: {'Name': u'FashionTouch'}, 343: {'Name': u'WylieOwlVintage'}, 344: {'Name': u'PeonyBlossoms'}, 345: {'Name': u'TiasTerrificThreads'}, 346: {'Name': u'BirdsKeptNorth'}, 347: {'Name': u'SOFTKNOT'}, 348: {'Name': u'cherlynnephotography'}, 349: {'Name': u'SunnyCsc'}, 350: {'Name': u'DarylAndCat'}, 351: {'Name': u'barleyandflax'}, 352: {'Name': u'CharlesIsabella'}, 353: {'Name': u'AlbadoFashion'}, 354: {'Name': u'knottycreationsbyET'}, 355: {'Name': u'byHeatherMarie'}, 356: {'Name': u'shopknitsandprints'}, 357: {'Name': u'MurvaDesign'}, 358: {'Name': u'ChicAndSheep'}, 359: {'Name': u'LaBottegaDiViviana'}, 360: {'Name': u'LittleBuffaloKnits'}, 361: {'Name': u'mellowfury'}, 362: {'Name': u'judy03452'}, 363: {'Name': u'longbeachdesigns'}, 364: {'Name': u'FernwehUK'}, 365: {'Name': u'DesigningEva'}, 366: {'Name': u'TheUrbanSquirrel1'}, 367: {'Name': u'ScarvesOnSunday'}, 368: {'Name': u'NavaVK'}, 369: {'Name': u'PamelaLiz'}, 370: {'Name': u'NeedleGraceBoutique'}, 371: {'Name': u'KnitsByVicks'}, 372: {'Name': u'Julbyjuliagasin'}, 373: {'Name': u'KookaburraBaby'}, 374: {'Name': u'OrganicScarf'}, 375: {'Name': u'WearitWellvintage'}, 376: {'Name': u'SleepyToys'}, 377: {'Name': u'Notforeat'}, 378: {'Name': u'AngelHeartRanch'}, 379: {'Name': u'allasattic'}, 380: {'Name': u'hookandyarnlover'}, 381: {'Name': u'GibsonHollow'}, 382: {'Name': u'ElianasKnittings'}, 383: {'Name': u'AnniRoss'}, 384: {'Name': u'Knitkozi'}, 385: {'Name': u'LoreNovedades'}, 386: {'Name': u'SweetPeaBoutiques'}, 387: {'Name': u'CooloRoonie'}, 388: {'Name': u'GloriousMorn'}, 389: {'Name': u'TwoPeasInAPodCo'}, 390: {'Name': u'HeavenandHandKnits'}, 391: {'Name': u'MotherGooseKnits'}, 392: {'Name': u'handmadebysarajean'}, 393: {'Name': u'PuttingontheKnits'}, 394: {'Name': u'CampCousinsCrafts'}, 395: {'Name': u'KattysHandcrafts'}, 396: {'Name': u'JKnitting'}, 397: {'Name': u'KnitsByKB'}, 398: {'Name': u'MaggieandGray'}, 399: {'Name': u'TheRaccoonery'}, 400: {'Name': u'LazyTurtleCo'}, 401: {'Name': u'SusieAccessories'}, 402: {'Name': u'PaulistaAvenue'}, 403: {'Name': u'PreciousNewbornKnits'}, 404: {'Name': u'WhiteGloveVintage'}, 405: {'Name': u'BaroqueAndRoll'}, 406: {'Name': u'fashionablekids'}, 407: {'Name': u'kristine1986'}, 408: {'Name': u'byjocreations'}, 409: {'Name': u'SMQdesigns'}, 410: {'Name': u'AniTaller'}, 411: {'Name': u'VioletUnderground'}, 412: {'Name': u'Hanakos'}, 413: {'Name': u'simplybasicdesigns'}, 414: {'Name': u'FashionelleStudio'}, 415: {'Name': u'KilbellaVintage'}, 416: {'Name': u'PrincessTaraCo'}, 417: {'Name': u'texturable'}, 418: {'Name': u'LilyAccessorises'}, 419: {'Name': u'mimsyinmaine'}, 420: {'Name': u'ArticleApparel'}, 421: {'Name': u'yuliatko'}, 422: {'Name': u'CarlyCreatesCrafts'}, 423: {'Name': u'ChicVintagePatterns'}, 424: {'Name': u'beautifulplace'}, 425: {'Name': u'MarroCraft'}, 426: {'Name': u'KatarinaHats'}, 427: {'Name': u'LittleCottonShop'}, 428: {'Name': u'Cowichans'}, 429: {'Name': u'RodiAndSuzi'}, 430: {'Name': u'BlytheCouture'}, 431: {'Name': u'WhichStitch123'}, 432: {'Name': u'AshleysHomeSpun'}, 433: {'Name': u'BetaGoods'}, 434: {'Name': u'j2studioscraft'}, 435: {'Name': u'Hemiao'}, 436: {'Name': u'FistfulOfVintage'}, 437: {'Name': u'SmallPinkGiraffe'}, 438: {'Name': u'Hatsforhounds'}, 439: {'Name': u'JandSKnitts'}, 440: {'Name': u'MAChic'}, 441: {'Name': u'EnchantingChildhood'}, 442: {'Name': u'Tanyshaknitware'}, 443: {'Name': u'Shelly6262'}, 444: {'Name': u'OYASHOP'}, 445: {'Name': u'CozyPavillion'}, 446: {'Name': u'TheBirdTales'}, 447: {'Name': u'simplyyarn27'}, 448: {'Name': u'maddyandme'}, 449: {'Name': u'SebastianLovesKnit'}, 450: {'Name': u'LauraHandKnits'}, 451: {'Name': u'KnitBuddy'}, 452: {'Name': u'gentletouch11'}, 453: {'Name': u'EcoStreet'}, 454: {'Name': u'TheNewtonLabel'}, 455: {'Name': u'belovedLT'}, 456: {'Name': u'LaBottegaDiChicco'}, 457: {'Name': u'WishKnits'}, 458: {'Name': u'thekittensmittensuk'}, 459: {'Name': u'thymeline'}, 460: {'Name': u'KnitandLoomstudio'}, 461: {'Name': u'TheCraftyJackalope'}, 462: {'Name': u'DancingTigerGifts'}, 463: {'Name': u'MGknitting'}, 464: {'Name': u'Need4KnitShop'}, 465: {'Name': u'RedPepperHats'}, 466: {'Name': u'Nastiin'}, 467: {'Name': u'IstanbulCalling'}, 468: {'Name': u'MsDeborahKnitter'}, 469: {'Name': u'lanacooper'}, 470: {'Name': u'FawnVintage01'}, 471: {'Name': u'KnitWithLoveByDana'}, 472: {'Name': u'SuperChicDollies'}, 473: {'Name': u'CandesCustomHats'}, 474: {'Name': u'KnittingCrochetKLM'}, 475: {'Name': u'itsybitsyknitting'}, 476: {'Name': u'PeroskiDesign'}, 477: {'Name': u'magicwoolball'}, 478: {'Name': u'bangbangfur'}, 479: {'Name': u'hipposdream'}, 480: {'Name': u'GayleNeely'}, 481: {'Name': u'StitchwerxDesigns'}, 482: {'Name': u'KristinaBari'}, 483: {'Name': u'WhisperingDreams'}, 484: {'Name': u'SeaSprayKnits'}, 485: {'Name': u'WheatfieldKnitwear'}, 486: {'Name': u'LittleKnittyThings'}, 487: {'Name': u'ArtsyTreats'}, 488: {'Name': u'juliegalbraith'}, 489: {'Name': u'knitland24'}, 490: {'Name': u'KnittingPrettyotFarm'}, 491: {'Name': u'WestEndCo'}, 492: {'Name': u'MillCityStitches'}, 493: {'Name': u'TheLavishOwl'}, 494: {'Name': u'BiKay'}, 495: {'Name': u'EmofoFashion'}, 496: {'Name': u'ZukasKidsKnits'}, 497: {'Name': u'NorthStarAlpacas'}, 498: {'Name': u'HANDKNITS2LOVE'}, 499: {'Name': u'HouseofJulio'}, 500: {'Name': u'HeavenSentHandmade'}, 501: {'Name': u'PomPonWear'}, 502: {'Name': u'SCHandmade'}, 503: {'Name': u'MyLittleKnits'}, 504: {'Name': u'SnassyCrafter'}, 505: {'Name': u'LoveFromNewZealand'}, 506: {'Name': u'BabasBabyProps'}, 507: {'Name': u'HollysUniqueBoutique'}, 508: {'Name': u'katerynaG'}, 509: {'Name': u'PoppiesandPeanuts'}, 510: {'Name': u'sewurbandesigns'}, 511: {'Name': u'rocksandsalt'}, 512: {'Name': u'lorettascarves'}, 513: {'Name': u'HolyHatz'}, 514: {'Name': u'ElenaYarovayaCrochet'}, 515: {'Name': u'PreciousKnits'}, 516: {'Name': u'HatsAndOtherStories'}, 517: {'Name': u'FightingLeukemia'}, 518: {'Name': u'Beadasherie'}, 519: {'Name': u'BetelgeuseBrand'}, 520: {'Name': u'bysweetmom'}, 521: {'Name': u'LioncubCreations'}, 522: {'Name': u'beautymanifesto'}, 523: {'Name': u'PaganDreams13'}, 524: {'Name': u'Hookinhandcreations'}, 525: {'Name': u'frecklesnsass'}, 526: {'Name': u'owlyknits'}, 527: {'Name': u'KokomoLady'}, 528: {'Name': u'GoldenGirlzHandmade'}, 529: {'Name': u'OliveHats'}, 530: {'Name': u'TanyasBunnyTots'}, 531: {'Name': u'UptownKnits'}, 532: {'Name': u'TepperWear'}, 533: {'Name': u'herie7'}, 534: {'Name': u'MirjanaKnittings'}, 535: {'Name': u'hippiehousedesigns'}, 536: {'Name': u'tinab76'}, 537: {'Name': u'PinkyTease'}, 538: {'Name': u'BeeHappyBoutique'}, 539: {'Name': u'OnwardOnward'}, 540: {'Name': u'TheSpiritOfTheWest'}, 541: {'Name': u'LAMMYKNITS'}, 542: {'Name': u'MadeByMiculinko'}, 543: {'Name': u'HunkyDoriBoutique'}, 544: {'Name': u'LavenderBlossoms'}, 545: {'Name': u'awkward'}, 546: {'Name': u'FirstChairClothing'}, 547: {'Name': u'JerseyThursdayKnits'}, 548: {'Name': u'TheKnitPanda'}, 549: {'Name': u'SqueakandMoon'}, 550: {'Name': u'OldSchoolSwank'}, 551: {'Name': u'HideyHoleHats'}, 552: {'Name': u'SamniengDesigns'}, 553: {'Name': u'CrochetMyLove'}, 554: {'Name': u'BethWintersBoutique'}, 555: {'Name': u'JHknitter'}, 556: {'Name': u'KnitterPrincess'}, 557: {'Name': u'artnida'}, 558: {'Name': u'GraceKnittingPattern'}, 559: {'Name': u'totoknitskenya'}, 560: {'Name': u'JUknitwaves'}, 561: {'Name': u'JustImagineAlaska'}, 562: {'Name': u'Pella'}, 563: {'Name': u'HeatherGaleaDesigns'}, 564: {'Name': u'peonijahandmadeshop'}, 565: {'Name': u'MoonlightLittleKnits'}, 566: {'Name': u'NaturallyUnraveled'}, 567: {'Name': u'pegsyarncreations'}, 568: {'Name': u'NohoMiscellaneous'}, 569: {'Name': u'MyKnittedTreasures'}, 570: {'Name': u'Mybebito'}, 571: {'Name': u'yagmurhat'}, 572: {'Name': u'ChickSale'}, 573: {'Name': u'SJAWoodesign'}, 574: {'Name': u'Thingswelike2knit'}, 575: {'Name': u'WNBrunk'}, 576: {'Name': u'ChristaEllen'}, 577: {'Name': u'recyclingroom'}, 578: {'Name': u'MoonwolfStudios'}, 579: {'Name': u'ClassicBabyWhites'}, 580: {'Name': u'WhimsicalWarmthProps'}, 581: {'Name': u'mybabyhats'}, 582: {'Name': u'KNITTINGNJEWELRY'}, 583: {'Name': u'NuranShop'}, 584: {'Name': u'KnittingInStyle'}, 585: {'Name': u'VerantinasBoutique'}, 586: {'Name': u'TwoStixStudios'}, 587: {'Name': u'Dreadstuffs'}, 588: {'Name': u'rustiknits'}, 589: {'Name': u'lampworkbyjulie'}, 590: {'Name': u'ettygeller'}, 591: {'Name': u'LoopsyKnits'}, 592: {'Name': u'LYMcrafts'}, 593: {'Name': u'Britneyshandknits'}, 594: {'Name': u'refugium'}, 595: {'Name': u'BabyLeCradle'}, 596: {'Name': u'Maddiesdivinedesigns'}, 597: {'Name': u'OCCASIONsonjabegonia'}, 598: {'Name': u'LifesAnExpedition'}, 599: {'Name': u'CassiesFactory'}, 600: {'Name': u'GunayKulbay'}, 601: {'Name': u'EnguKnits'}, 602: {'Name': u'AutumnAndAmber'}, 603: {'Name': u'JackBentleyKnitwear'}, 604: {'Name': u'AngelaRoseBoutique'}, 605: {'Name': u'ForgetMeKnotsCrochet'}, 606: {'Name': u'kckshop'}, 607: {'Name': u'Eastalace'}, 608: {'Name': u'CreatingWithSticks'}, 609: {'Name': u'PrettyKnitShop'}, 610: {'Name': u'bySarahBeth'}, 611: {'Name': u'talktothesun'}, 612: {'Name': u'AlpacaHats15'}, 613: {'Name': u'peppermintpine'}, 614: {'Name': u'PetiteIdasCreations'}, 615: {'Name': u'Eastknits'}, 616: {'Name': u'AplaceofInterest'}, 617: {'Name': u'ROIG42'}, 618: {'Name': u'Accessodium'}, 619: {'Name': u'ICraft4Shoes'}, 620: {'Name': u'BloomWorkshop'}, 621: {'Name': u'yarnawayknits'}, 622: {'Name': u'SpinningStreak'}, 623: {'Name': u'AluraCrafts'}, 624: {'Name': u'carolynscritter'}, 625: {'Name': u'MountainGoth'}, 626: {'Name': u'woolythoughts'}, 627: {'Name': u'DosiakStyle'}, 628: {'Name': u'SistersinCraft'}, 629: {'Name': u'proudliving'}, 630: {'Name': u'BabyHeff'}, 631: {'Name': u'Elegantcrochets'}, 632: {'Name': u'BlumenKinderSeattle'}, 633: {'Name': u'pocketens'}, 634: {'Name': u'EmmettBrown'}, 635: {'Name': u'squiished'}, 636: {'Name': u'FarEastHandMade'}, 637: {'Name': u'FunkyAirBear'}, 638: {'Name': u'WendysWonders127'}, 639: {'Name': u'SimplyCraftSupplies'}, 640: {'Name': u'wiscaliali'}, 641: {'Name': u'HandmadeKnitsHats'}, 642: {'Name': u'ANMARIKEDECORPLUS'}, 643: {'Name': u'CapeCodHandmades'}, 644: {'Name': u'ABknits'}, 645: {'Name': u'TimelessTreasuresbyB'}, 646: {'Name': u'SallyAnnaBoutique'}, 647: {'Name': u'Sheepsterscorner'}, 648: {'Name': u'NeedleLoveKnits'}, 649: {'Name': u'northwardhandcraft'}, 650: {'Name': u'Solnishko42'}, 651: {'Name': u'DILALOO'}, 652: {'Name': u'KoonaYogaWear'}, 653: {'Name': u'grannypattern'}, 654: {'Name': u'Dashright'}, 655: {'Name': u'ByMissSally'}, 656: {'Name': u'KnitPacific'}, 657: {'Name': u'pingosdoceu'}, 658: {'Name': u'ItsyBitsyBlooms'}, 659: {'Name': u'fashioned4you'}, 660: {'Name': u'SophiaGianna2Sisters'}, 661: {'Name': u'littlenestboutique'}, 662: {'Name': u'BarbsSewingBasket'}, 663: {'Name': u'RedWhiteandSpotty'}, 664: {'Name': u'TLVgoods'}, 665: {'Name': u'KnittedJoys'}, 666: {'Name': u'ytang'}, 667: {'Name': u'Nakkashe'}, 668: {'Name': u'djfleesh'}, 669: {'Name': u'Worldsofknitted'}, 670: {'Name': u'rerunvintage'}, 671: {'Name': u'knitwit321'}, 672: {'Name': u'YulemKnits'}, 673: {'Name': u'3PeasinaPod15'}, 674: {'Name': u'KamiHats'}, 675: {'Name': u'SewCuteQuiltAndKnit'}, 676: {'Name': u'Blissfulloops'}, 677: {'Name': u'PERFECTLYPRIMATIVE'}, 678: {'Name': u'SayItManyWays'}, 679: {'Name': u'BilgesCreation'}, 680: {'Name': u'BrownBagFarm'}, 681: {'Name': u'ReignlandConcept'}, 682: {'Name': u'angikay'}, 683: {'Name': u'ZucchiniIsland'}, 684: {'Name': u'ComfyInTheSouth'}, 685: {'Name': u'CraftedEssentials'}, 686: {'Name': u'TheBlackElephant'}, 687: {'Name': u'creaspir'}, 688: {'Name': u'imali'}, 689: {'Name': u'abellawear'}, 690: {'Name': u'Iryna'}, 691: {'Name': u'AJoyfulCreation'}, 692: {'Name': u'BarelySaneMom'}, 693: {'Name': u'GrannieMadeGoods'}, 694: {'Name': u'HappyLaika'}, 695: {'Name': u'RoostingRobbin'}, 696: {'Name': u'GiniJackOriginals'}, 697: {'Name': u'CrazyCuteByAngela'}, 698: {'Name': u'JobesJewelryBox'}, 699: {'Name': u'CustomPhotoProps'}, 700: {'Name': u'EGHDesigns'}, 701: {'Name': u'needleloops'}, 702: {'Name': u'StitchKnit'}, 703: {'Name': u'HandsTime'}, 704: {'Name': u'KnittedBySavannah'}, 705: {'Name': u'ScarlettPines'}, 706: {'Name': u'KingstonAlpacaKnits'}, 707: {'Name': u'ICraftOutsidetheBox'}, 708: {'Name': u'KALIFASHIONS'}, 709: {'Name': u'UNIQHeadwear'}, 710: {'Name': u'QueensAccessories'}, 711: {'Name': u'ThisMomentisGood'}, 712: {'Name': u'TheArbitraryArtisan'}, 713: {'Name': u'LizSox'}, 714: {'Name': u'DetroitWoolyLab'}, 715: {'Name': u'HarrisKnittingCloset'}, 716: {'Name': u'Bestcrochets'}, 717: {'Name': u'fromewetoyou'}, 718: {'Name': u'ChiaraBoutiqe'}, 719: {'Name': u'emilyspurlfectknits'}, 720: {'Name': u'SenseAndEmotions'}, 721: {'Name': u'LittlePandaMommy'}, 722: {'Name': u'CoryLaneCreations'}, 723: {'Name': u'elmstcreations'}, 724: {'Name': u'knittingwinters'}, 725: {'Name': u'EvasStudio'}, 726: {'Name': u'knittingboutique8'}, 727: {'Name': u'parkie2'}, 728: {'Name': u'EllaGajewskaHATS'}, 729: {'Name': u'WoolFans'}, 730: {'Name': u'LeftHandWandering'}, 731: {'Name': u'SZVKNITS'}, 732: {'Name': u'InaTwistShop'}, 733: {'Name': u'pipisqueaks'}, 734: {'Name': u'KanopaPatterns'}, 735: {'Name': u'WayWayKnits'}, 736: {'Name': u'SigiSoreget'}, 737: {'Name': u'PyramidSkein'}, 738: {'Name': u'FocusonColor'}, 739: {'Name': u'silviaol'}, 740: {'Name': u'apricitystore'}, 741: {'Name': u'oMallaMo'}, 742: {'Name': u'NicePuppy'}, 743: {'Name': u'JensKnitPit'}, 744: {'Name': u'kkaw'}, 745: {'Name': u'BlueRoosterArts'}, 746: {'Name': u'sanchee'}, 747: {'Name': u'SierrasStitchery'}, 748: {'Name': u'SelectKnits'}, 749: {'Name': u'Flashfloozy'}, 750: {'Name': u'FreyaEsme'}, 751: {'Name': u'FrannysHouse'}, 752: {'Name': u'knitandcurl'}, 753: {'Name': u'valleypurl'}, 754: {'Name': u'HouseonCherryHill'}, 755: {'Name': u'zestvintage'}, 756: {'Name': u'KnittedLT'}, 757: {'Name': u'ArrowAndAntler'}, 758: {'Name': u'AVerySmartHat'}, 759: {'Name': u'LoveandKnit'}, 760: {'Name': u'JunelloShop'}, 761: {'Name': u'LittleGemsByLuisa'}, 762: {'Name': u'SlopeGirlKnits'}, 763: {'Name': u'Dagaknit'}, 764: {'Name': u'TheKnittedZooByEmily'}, 765: {'Name': u'maryscc'}, 766: {'Name': u'BonnetsnBeads'}, 767: {'Name': u'UniqueKnitDesign'}, 768: {'Name': u'beWe'}, 769: {'Name': u'CreeksideCharms'}, 770: {'Name': u'craftynannie'}, 771: {'Name': u'SoftCozyAndWarm'}, 772: {'Name': u'wishestogether'}, 773: {'Name': u'AWHatsandCrafts'}, 774: {'Name': u'TheClutchAccessories'}, 775: {'Name': u'MyNicePurses'}, 776: {'Name': u'Turtlehawk83'}, 777: {'Name': u'CELINICRAFTS'}, 778: {'Name': u'SewEcological'}, 779: {'Name': u'thesunandtheturtle'}, 780: {'Name': u'NeutralNursery'}, 781: {'Name': u'ekuboo'}, 782: {'Name': u'ShopCountryCottage'}, 783: {'Name': u'WormeWoole'}, 784: {'Name': u'SibelDesign'}, 785: {'Name': u'LittleBoySwag'}, 786: {'Name': u'JuliaBeeCrafts'}, 787: {'Name': u'kickassvintage'}, 788: {'Name': u'RedWagonKids'}, 789: {'Name': u'ashton11'}, 790: {'Name': u'beaconknits'}, 791: {'Name': u'woolpleasure'}, 792: {'Name': u'SOVAknits'}, 793: {'Name': u'AnnasFashionJewelry'}, 794: {'Name': u'OpenStitch'}, 795: {'Name': u'dreamdoghandmade'}, 796: {'Name': u'BabyHatsShoesandMore'}, 797: {'Name': u'beadedwire'}, 798: {'Name': u'Elkestreasurechest'}, 799: {'Name': u'haloopajoop'}, 800: {'Name': u'CRAZYBOOM'}, 801: {'Name': u'ZOJKAshop'}, 802: {'Name': u'cutiesvintageprettys'}, 803: {'Name': u'Genuique'}, 804: {'Name': u'IslaysTerrace'}, 805: {'Name': u'IvannaN'}, 806: {'Name': u'giddy4paisley'}, 807: {'Name': u'BonCherCreations'}, 808: {'Name': u'bestdressedlady'}, 809: {'Name': u'MarysNeatKnits'}, 810: {'Name': u'ASweetpeaCrafts'}, 811: {'Name': u'KnettasKnits'}, 812: {'Name': u'WetHenKnits'}, 813: {'Name': u'CraftyCornishMaids'}, 814: {'Name': u'BettyMarieJones'}, 815: {'Name': u'woollybaby'}, 816: {'Name': u'KnitbyShan'}, 817: {'Name': u'ShortroundsKnitwear'}, 818: {'Name': u'Creationsbyclark'}, 819: {'Name': u'Kampsun'}, 820: {'Name': u'CrazyDaisyFlorist'}, 821: {'Name': u'KnitAndCrochetDesign'}, 822: {'Name': u'Volang'}, 823: {'Name': u'knitsplus'}, 824: {'Name': u'KnitsbyAriel'}, 825: {'Name': u'StayWarmInStyle'}, 826: {'Name': u'MyCreationsByCarol'}, 827: {'Name': u'AuntyJoanCrafts'}, 828: {'Name': u'NataKnitwork'}, 829: {'Name': u'FortheQTs'}, 830: {'Name': u'CEWDesignStudio'}, 831: {'Name': u'lilbowsandarrows'}, 832: {'Name': u'mymamaknits'}, 833: {'Name': u'KnitandFeltbyNat'}, 834: {'Name': u'LovelyLegsPlus'}, 835: {'Name': u'SELINCE'}, 836: {'Name': u'AuntBsAttic'}, 837: {'Name': u'FloralSide'}, 838: {'Name': u'ThreadsintheBed'}, 839: {'Name': u'HandyKnitsbyS'}, 840: {'Name': u'SillyLittleBlackCat'}, 841: {'Name': u'SweetBabyJamesShop'}, 842: {'Name': u'BoryanacrochetBG'}, 843: {'Name': u'ACraftyObsession'}, 844: {'Name': u'KUWAdesign'}, 845: {'Name': u'Pivonkaknit'}, 846: {'Name': u'fancyknits'}, 847: {'Name': u'intheLOOPdesign'}, 848: {'Name': u'PreciousBowtique'}, 849: {'Name': u'MaybushModa'}, 850: {'Name': u'Justadaydream'}, 851: {'Name': u'elmroadvintage'}, 852: {'Name': u'HandmadeHillShop'}, 853: {'Name': u'RekindledLove'}, 854: {'Name': u'AlkistiKnits'}, 855: {'Name': u'Vintagebuttonhats'}, 856: {'Name': u'TheCraftapplePanda'}, 857: {'Name': u'JBRLDesign'}, 858: {'Name': u'Weknit2tog'}, 859: {'Name': u'WoolyThinker'}, 860: {'Name': u'2mice'}, 861: {'Name': u'BBNicks'}, 862: {'Name': u'KnottinghamKnits'}, 863: {'Name': u'BeUn'}, 864: {'Name': u'Riashatsandscarves'}, 865: {'Name': u'vintachi'}, 866: {'Name': u'KnitsandTreasures'}, 867: {'Name': u'ATIdesign'}, 868: {'Name': u'TheKnittedHat'}, 869: {'Name': u'ShariRoseShop'}, 870: {'Name': u'BlossomsBeauties'}, 871: {'Name': u'stickshooksandyarn'}, 872: {'Name': u'WomanStyleShop'}, 873: {'Name': u'TheCheshiresHat'}, 874: {'Name': u'wooolmint'}, 875: {'Name': u'TurkishFolkArts'}, 876: {'Name': u'KnittName'}, 877: {'Name': u'PatchAteSmudge'}, 878: {'Name': u'KnittingMamas'}, 879: {'Name': u'SipSipKnits'}, 880: {'Name': u'NMSDesign'}, 881: {'Name': u'Girlpower'}, 882: {'Name': u'HisforHarper'}, 883: {'Name': u'Shoesandaccessories'}, 884: {'Name': u'NookCove'}, 885: {'Name': u'Studio20Designs'}, 886: {'Name': u'LANABYSVETLANA'}, 887: {'Name': u'TwoSparrowsBoutique'}, 888: {'Name': u'KnittedAndWarm'}, 889: {'Name': u'GrahamsBazaar'}, 890: {'Name': u'WTFureyDesigns'}, 891: {'Name': u'CreateBKLYN'}, 892: {'Name': u'DeStashAttic'}, 893: {'Name': u'grizzlie'}, 894: {'Name': u'DMToques'}, 895: {'Name': u'PichPawcrafts'}, 896: {'Name': u'BBCHIC2'}, 897: {'Name': u'HahnMade'}, 898: {'Name': u'BeyondTheDreamStudio'}, 899: {'Name': u'GrammieMadeit'}, 900: {'Name': u'Maeei'}, 901: {'Name': u'PinkMaple'}, 902: {'Name': u'CozyKnitsCoffeeBeans'}, 903: {'Name': u'WellDoneKnitting'}, 904: {'Name': u'ToOurMoonAndBack'}, 905: {'Name': u'SewNewToMe'}, 906: {'Name': u'SmileyHeadSplendor'}, 907: {'Name': u'VintagePatternPlace'}, 908: {'Name': u'Strickolino'}, 909: {'Name': u'cosediisa'}, 910: {'Name': u'KBsPaddywacks'}, 911: {'Name': u'WestbrookFarm'}, 912: {'Name': u'LittleKnitsStudio'}, 913: {'Name': u'MrsMzSewingRoom'}, 914: {'Name': u'OnGoodLuck'}, 915: {'Name': u'MMDecoStudio'}, 916: {'Name': u'SweetEllasDesigns'}, 917: {'Name': u'Jessiescrochetcorner'}, 918: {'Name': u'LongHaulAccessories'}, 919: {'Name': u'HappyKnitandCrochet'}, 920: {'Name': u'KsyuKnitting'}, 921: {'Name': u'knittingFashion'}, 922: {'Name': u'SilverMapleKnits'}, 923: {'Name': u'HandCraftedbyAnne'}, 924: {'Name': u'Easy123'}, 925: {'Name': u'StarfrostHandicrafts'}, 926: {'Name': u'Knitographer'}, 927: {'Name': u'LiLiSocks'}, 928: {'Name': u'Florfanka'}, 929: {'Name': u'ColoradoChickCo'}, 930: {'Name': u'ThePureNest'}, 931: {'Name': u'SomethingsontheSide'}, 932: {'Name': u'Stitchandstory'}, 933: {'Name': u'vellichor'}, 934: {'Name': u'Ribbonandhairbows'}, 935: {'Name': u'NaNaWoolDesign'}, 936: {'Name': u'BeautyKnitsShop'}, 937: {'Name': u'susiedees'}, 938: {'Name': u'DeemervilleGold'}, 939: {'Name': u'Tebessum'}, 940: {'Name': u'YoshCreative'}, 941: {'Name': u'worldofknitting'}, 942: {'Name': u'PrettyLittleBabies'}, 943: {'Name': u'TheCraftyRascal'}, 944: {'Name': u'RebeccasWool'}, 945: {'Name': u'VegaCreate'}, 946: {'Name': u'mahatmascoat'}, 947: {'Name': u'CrazyButterflies'}, 948: {'Name': u'sassytailor64'}, 949: {'Name': u'adknit'}, 950: {'Name': u'ThreeSmallWishes'}, 951: {'Name': u'Caitlinscozyknits'}, 952: {'Name': u'MizMizaBella'}, 953: {'Name': u'VirtuousDesign31'}, 954: {'Name': u'megsknitshit'}, 955: {'Name': u'CreativeObsessionn'}, 956: {'Name': u'foldi'}, 957: {'Name': u'KnitsForGifts'}, 958: {'Name': u'BrightCloset'}, 959: {'Name': u'knithatsbyTom'}, 960: {'Name': u'BringSomeBling'}, 961: {'Name': u'thekitschykitty'}, 962: {'Name': u'Ednascloset'}, 963: {'Name': u'jiloona'}, 964: {'Name': u'RoklandeFashioShop'}, 965: {'Name': u'slouchiehats'}, 966: {'Name': u'debsatticfinds'}, 967: {'Name': u'PiecesBoutique'}, 968: {'Name': u'CdCkDesign'}, 969: {'Name': u'SusanDeanne'}, 970: {'Name': u'NickelsKnittery'}, 971: {'Name': u'kabotany'}, 972: {'Name': u'ForHomeAndHearth'}, 973: {'Name': u'DobroBeat'}, 974: {'Name': u'CHUNKYBULKYKNITS'}, 975: {'Name': u'EHM365'}, 976: {'Name': u'KarunaHimalaya'}, 977: {'Name': u'knitonestitchtoo'}, 978: {'Name': u'OneofaKindKnitGifts'}, 979: {'Name': u'hannahleighknits'}, 980: {'Name': u'KnittingByTatiana'}, 981: {'Name': u'KittyBritchesBoutiqu'}, 982: {'Name': u'KnitsAnKnats'}, 983: {'Name': u'GratitudeGiftsForAll'}, 984: {'Name': u'BeijingKC'}, 985: {'Name': u'WildGreenBeauty'}, 986: {'Name': u'prettyoffensive'}, 987: {'Name': u'bebebeecouture'}, 988: {'Name': u'MurfmadeKnits'}, 989: {'Name': u'SoulTrail'}, 990: {'Name': u'FineHandMadeClothes'}, 991: {'Name': u'DGDwithlove'}, 992: {'Name': u'PetitDogApparel'}, 993: {'Name': u'christnakosininski'}, 994: {'Name': u'GoldenPineAlpacas'}, 995: {'Name': u'StraightenedArrow'}, 996: {'Name': u'PandaHugStore'}, 997: {'Name': u'SarBobsy'}, 998: {'Name': u'endlesscreation'}, 999: {'Name': u'Not2Shabbee'}, 1000: {'Name': u'CharlotteAuzou'}, 1001: {'Name': u'EllaBabyBasket'}, 1002: {'Name': u'TokyoBlossom'}, 1003: {'Name': u'AnjaClauberg'}, 1004: {'Name': u'wildirishrosecrochet'}, 1005: {'Name': u'WhereMyStitchesAtCH'}, 1006: {'Name': u'AuntieMsCrafting'}, 1007: {'Name': u'HawthornStudio'}, 1008: {'Name': u'allearthlings'}, 1009: {'Name': u'KoalaBelle'}, 1010: {'Name': u'PandaLolipops'}, 1011: {'Name': u'crystalandtaylor'}, 1012: {'Name': u'spinningknitting1'}, 1013: {'Name': u'OBJECTSofMATTER'}, 1014: {'Name': u'IrmianDesign'}, 1015: {'Name': u'Scribegirlme'}, 1016: {'Name': u'SecondhandObsession'}, 1017: {'Name': u'theGoodShnit'}, 1018: {'Name': u'nijoleelze'}, 1019: {'Name': u'PIGpigLA'}, 1020: {'Name': u'CreationsbyMaris'}, 1021: {'Name': u'SkyRainSoap'}, 1022: {'Name': u'NevadaKnits'}, 1023: {'Name': u'Razels'}, 1024: {'Name': u'MagooandBaloo'}, 1025: {'Name': u'ColdSnapsKnits'}, 1026: {'Name': u'BSKnitting'}, 1027: {'Name': u'CrochetByBetty'}, 1028: {'Name': u'LilSweetPeaSisters'}, 1029: {'Name': u'Cocomillo'}, 1030: {'Name': u'EclecticallyCampbell'}, 1031: {'Name': u'BabyBirdz'}, 1032: {'Name': u'VIRTTARHAR'}, 1033: {'Name': u'evaandjeandesigns'}, 1034: {'Name': u'ColorfulTrends'}, 1035: {'Name': u'VintageNeedleArts'}, 1036: {'Name': u'KnitsbyVeronica'}, 1037: {'Name': u'YarnsInMotion'}, 1038: {'Name': u'irinacarmen'}, 1039: {'Name': u'APlusJewelryCrafts'}, 1040: {'Name': u'WooolBaby'}, 1041: {'Name': u'Sister21'}, 1042: {'Name': u'CarameloBoutique'}, 1043: {'Name': u'ZAPrix'}, 1044: {'Name': u'OriginalKnitting'}, 1045: {'Name': u'SexyCrochetByOlga'}, 1046: {'Name': u'homelab'}, 1047: {'Name': u'pompomhats'}, 1048: {'Name': u'HandmakeOrgUa'}, 1049: {'Name': u'SouthernMomCreations'}, 1050: {'Name': u'LesleysHandknits'}, 1051: {'Name': u'TravelingCarousel'}, 1052: {'Name': u'BugEatersKnits'}, 1053: {'Name': u'Cuteling'}, 1054: {'Name': u'PropsandPoses'}, 1055: {'Name': u'PrestonCourt'}, 1056: {'Name': u'AntelopeFlats'}, 1057: {'Name': u'RomeoRomeo'}, 1058: {'Name': u'BearsBlanketsQuilts'}, 1059: {'Name': u'TableTopJewels'}, 1060: {'Name': u'ElliesTiaras'}, 1061: {'Name': u'artsandaccents'}, 1062: {'Name': u'AislingDezines'}, 1063: {'Name': u'FashionShop19'}, 1064: {'Name': u'leafamore'}, 1065: {'Name': u'KnittingLand'}, 1066: {'Name': u'KnittedWinterHats'}, 1067: {'Name': u'ArielArtsKnits'}, 1068: {'Name': u'SmallEarthVintage'}, 1069: {'Name': u'wincsike'}, 1070: {'Name': u'VeryCarey'}, 1071: {'Name': u'PetitePrintsandProps'}, 1072: {'Name': u'danielastange'}, 1073: {'Name': u'MaryAliceFeltLikeIt'}, 1074: {'Name': u'Imalittlecrafty'}, 1075: {'Name': u'SchoolSpiritKnits'}, 1076: {'Name': u'TamsCraftyKnits'}, 1077: {'Name': u'ALLCAPSknithats'}, 1078: {'Name': u'HandmadebyPaulaMary'}, 1079: {'Name': u'itaveroknits'}, 1080: {'Name': u'Benjis'}, 1081: {'Name': u'positivepurls'}, 1082: {'Name': u'knitaccessoriesfadik'}, 1083: {'Name': u'NewbornEwe'}, 1084: {'Name': u'LadyJsHodgepodgery'}, 1085: {'Name': u'NoraTones'}, 1086: {'Name': u'Aerophane'}, 1087: {'Name': u'Degra2'}, 1088: {'Name': u'GranasCorner'}, 1089: {'Name': u'SmallTownHandMade'}, 1090: {'Name': u'CrasiiCoco'}, 1091: {'Name': u'AnnaMariaLocke'}, 1092: {'Name': u'baldyhillhomemade'}, 1093: {'Name': u'3colon7'}, 1094: {'Name': u'TurtleTreasures'}, 1095: {'Name': u'spiltmilkdesigns'}, 1096: {'Name': u'TwoOfWandsShop'}, 1097: {'Name': u'MissLisBoutique'}, 1098: {'Name': u'MabelMadeThis'}, 1099: {'Name': u'echocraftings'}, 1100: {'Name': u'SylviDesigns'}, 1101: {'Name': u'FreshtoDeathVintage'}, 1102: {'Name': u'JennyandPearl'}, 1103: {'Name': u'SimplyWestCoast'}, 1104: {'Name': u'CDBStudio'}, 1105: {'Name': u'WhiteThorneTree'}, 1106: {'Name': u'MariArtFelting'}, 1107: {'Name': u'LydiasCreations101'}, 1108: {'Name': u'KnitStitchCross'}, 1109: {'Name': u'UnlimitedCraftworks'}, 1110: {'Name': u'quatresaison'}, 1111: {'Name': u'TiffSitsandKnits'}, 1112: {'Name': u'ladouchka'}, 1113: {'Name': u'VintagePolkaShop'}, 1114: {'Name': u'recombinantrider'}, 1115: {'Name': u'CardinalLane'}, 1116: {'Name': u'bigbangzero'}, 1117: {'Name': u'BigFirRidge'}, 1118: {'Name': u'knitsdwarfs'}, 1119: {'Name': u'takemyinventory'}, 1120: {'Name': u'AgneseKnits'}, 1121: {'Name': u'YASEMINYASEMIN'}, 1122: {'Name': u'luludress'}, 1123: {'Name': u'KnitzAndFeltz'}, 1124: {'Name': u'WinterWoollys'}, 1125: {'Name': u'Purl1VintageToo'}, 1126: {'Name': u'PIQI'}, 1127: {'Name': u'MarryGKnitCrochet'}, 1128: {'Name': u'GoldenYarn'}, 1129: {'Name': u'accessoriesbynez'}, 1130: {'Name': u'FairlyKnit'}, 1131: {'Name': u'ClosetbyFinn'}, 1132: {'Name': u'IvithjasCreations'}, 1133: {'Name': u'WeThreePiggies'}, 1134: {'Name': u'TheYarnOverProject'}, 1135: {'Name': u'ElleVintage369'}, 1136: {'Name': u'MinniesFlea'}, 1137: {'Name': u'DawnLdesigns'}, 1138: {'Name': u'KnitzyBlonde'}, 1139: {'Name': u'DapperAnnie'}, 1140: {'Name': u'ForTheGuys'}, 1141: {'Name': u'AllAboutStripes'}, 1142: {'Name': u'KatjaVonDesign'}, 1143: {'Name': u'electricbunnycrafts'}, 1144: {'Name': u'VandOUA'}, 1145: {'Name': u'BorealisHandicrafts'}, 1146: {'Name': u'BuggyBooCrafts'}, 1147: {'Name': u'JYCCreations'}, 1148: {'Name': u'YouNeedMoreFiber'}, 1149: {'Name': u'Iheartbeaniebabies'}, 1150: {'Name': u'Ricocoinc'}, 1151: {'Name': u'wearnative'}, 1152: {'Name': u'LacysLittleAcre'}, 1153: {'Name': u'bb2213'}, 1154: {'Name': u'HollysAccessories'}, 1155: {'Name': u'KnottyOrNiceKnits'}, 1156: {'Name': u'TulsaToys'}, 1157: {'Name': u'AnEpicStitch'}, 1158: {'Name': u'HeartNSoleCreations'}, 1159: {'Name': u'dirtybirdiesvintage'}, 1160: {'Name': u'artwardrobe'}, 1161: {'Name': u'HandmadeByEvelien'}, 1162: {'Name': u'TutisBoutique'}, 1163: {'Name': u'HobiholikFashion'}, 1164: {'Name': u'atiltKC'}, 1165: {'Name': u'EnchantedKnits'}, 1166: {'Name': u'KatySueKnits'}, 1167: {'Name': u'RobinsNestBoutique'}, 1168: {'Name': u'GataJewelry'}, 1169: {'Name': u'KatrinKnitting'}, 1170: {'Name': u'9ElizabethStreet'}, 1171: {'Name': u'Pikeys'}, 1172: {'Name': u'EadoVintage'}, 1173: {'Name': u'justalittleknitter'}, 1174: {'Name': u'caginas'}, 1175: {'Name': u'IngaDesignShop'}, 1176: {'Name': u'GingerBearKnitwear'}, 1177: {'Name': u'GiuliaKnit'}, 1178: {'Name': u'LaReserveDesign'}, 1179: {'Name': u'selfex'}, 1180: {'Name': u'beanieknitsnmore'}, 1181: {'Name': u'BlossomsByJuneLynn'}, 1182: {'Name': u'NeckLyfe'}, 1183: {'Name': u'snapincharms'}, 1184: {'Name': u'mioukids'}, 1185: {'Name': u'Savvyskeins'}, 1186: {'Name': u'LuzyFlor'}, 1187: {'Name': u'ScandinavianCrafts'}, 1188: {'Name': u'NorthStarrVintage'}, 1189: {'Name': u'lienra'}, 1190: {'Name': u'GrandmaDragonsAttic'}, 1191: {'Name': u'KnittyFashions'}, 1192: {'Name': u'CreatiKnit'}, 1193: {'Name': u'MarikaHandKnits'}, 1194: {'Name': u'AlaskanKnitGifts'}, 1195: {'Name': u'RubyHeartCrafts'}, 1196: {'Name': u'LavenderLassies'}, 1197: {'Name': u'GrannieKayGiftsCraft'}, 1198: {'Name': u'KnittingDailyShop'}, 1199: {'Name': u'KadyLadyLoo'}, 1200: {'Name': u'socksandmittens'}, 1201: {'Name': u'CutseyOnEtsy'}, 1202: {'Name': u'artesana'}, 1203: {'Name': u'SimplyPlaying1'}, 1204: {'Name': u'upupstar'}, 1205: {'Name': u'RebeccasRoomKnitting'}, 1206: {'Name': u'StyleandSalvage'}, 1207: {'Name': u'KLizVintage'}, 1208: {'Name': u'Nineteenzerosix'}, 1209: {'Name': u'KlotoCute'}, 1210: {'Name': u'DanaFunKnits'}, 1211: {'Name': u'LittleBelleBelle'}, 1212: {'Name': u'PETALKNITS'}, 1213: {'Name': u'LoveFuzz'}, 1214: {'Name': u'kozikreation'}, 1215: {'Name': u'LoveUnspokenLLC'}, 1216: {'Name': u'CraftyHomeandMore'}, 1217: {'Name': u'CarterPEACEworks'}, 1218: {'Name': u'AnnaleesAccents'}, 1219: {'Name': u'ImperialVintageBTQ'}, 1220: {'Name': u'LaimaShop'}, 1221: {'Name': u'MarvelousMittens'}, 1222: {'Name': u'Bellaknitsandgiggles'}, 1223: {'Name': u'MyBeautifulLifeShop'}, 1224: {'Name': u'SharonsHomeSewn'}, 1225: {'Name': u'KnitteryRow'}, 1226: {'Name': u'MarkaDecorFashion'}, 1227: {'Name': u'Fanchi'}, 1228: {'Name': u'LidamseyKnits'}, 1229: {'Name': u'LeMarrakechStore'}, 1230: {'Name': u'TheKnotHaus'}, 1231: {'Name': u'RedLeafStitchCraft'}, 1232: {'Name': u'AirbrushStuf'}, 1233: {'Name': u'galafilc'}, 1234: {'Name': u'fone'}, 1235: {'Name': u'LittleEvaDiva'}, 1236: {'Name': u'MinxVTG'}, 1237: {'Name': u'ohbAby1112'}, 1238: {'Name': u'babyknitpicks'}, 1239: {'Name': u'Knitrhapsody'}, 1240: {'Name': u'IvetaStasiulioniene'}, 1241: {'Name': u'SweetNancyVintage'}, 1242: {'Name': u'topazpearls'}, 1243: {'Name': u'BeautifulSunrise'}, 1244: {'Name': u'FairyTaleNightmares'}, 1245: {'Name': u'Handmadecrafter'}, 1246: {'Name': u'kissproof'}, 1247: {'Name': u'PeachBlossomHats'}, 1248: {'Name': u'beaniesbybubba'}, 1249: {'Name': u'CrackedPistachios'}, 1250: {'Name': u'kiFaitMain'}, 1251: {'Name': u'TheRuffledbum'}, 1252: {'Name': u'MindofMolly'}, 1253: {'Name': u'ElenaLstudio'}, 1254: {'Name': u'WoolFeltArt'}, 1255: {'Name': u'debrobinson'}, 1256: {'Name': u'KemiCreations'}, 1257: {'Name': u'Lanaterapia'}, 1258: {'Name': u'twinkletoesmarket'}, 1259: {'Name': u'QuietUnrest2'}, 1260: {'Name': u'FoxiesFancy'}, 1261: {'Name': u'mishsworld'}, 1262: {'Name': u'barreez'}, 1263: {'Name': u'KALEIDOO'}, 1264: {'Name': u'YarnBarn305'}, 1265: {'Name': u'Tuttolv'}, 1266: {'Name': u'scarfnurlu'}, 1267: {'Name': u'Janeswhatnots'}, 1268: {'Name': u'smartcrochet'}, 1269: {'Name': u'TanglinKnots'}, 1270: {'Name': u'DonnasWhimsicals'}, 1271: {'Name': u'CoconutChic'}, 1272: {'Name': u'PauliszkaKnits'}, 1273: {'Name': u'AnoushkaDesign'}, 1274: {'Name': u'TheCraftinScot'}, 1275: {'Name': u'RiverStonesFiberArts'}, 1276: {'Name': u'NSvintage'}, 1277: {'Name': u'elkasoftwear'}, 1278: {'Name': u'SnuggleMoose'}, 1279: {'Name': u'BlackRain4Handmade'}, 1280: {'Name': u'LeNidDuMerleHandKnit'}, 1281: {'Name': u'Incidentallyforyou'}, 1282: {'Name': u'GiftsbyGenie'}, 1283: {'Name': u'InTheRedwoods'}, 1284: {'Name': u'lillamormor'}, 1285: {'Name': u'FanmMon'}, 1286: {'Name': u'KreationsByKirstenL'}, 1287: {'Name': u'ogood'}, 1288: {'Name': u'PandorasBoxofKnits'}, 1289: {'Name': u'earthandberries'}, 1290: {'Name': u'NeutralNellies'}, 1291: {'Name': u'EPSILONstudio'}, 1292: {'Name': u'KayEmilyDesigns'}, 1293: {'Name': u'ThePurplePeaPod'}, 1294: {'Name': u'MeridianMade'}, 1295: {'Name': u'GusandRosieU'}, 1296: {'Name': u'nutsaboutknitting'}, 1297: {'Name': u'SouthvilleSpitters'}, 1298: {'Name': u'thewoolypossum'}, 1299: {'Name': u'pinkcandystudio'}, 1300: {'Name': u'DonizBaby'}, 1301: {'Name': u'lucylev'}, 1302: {'Name': u'freelotus3'}, 1303: {'Name': u'cozyknitsforyou'}, 1304: {'Name': u'Klosetkrafter'}, 1305: {'Name': u'HELGASYARNDESIGNS'}, 1306: {'Name': u'lartcraft'}, 1307: {'Name': u'byMagic'}, 1308: {'Name': u'PhylPhil'}, 1309: {'Name': u'LovableProps'}, 1310: {'Name': u'Gitasknitwear'}, 1311: {'Name': u'GieseDeseiGns'}, 1312: {'Name': u'MinitaStudio'}, 1313: {'Name': u'suznews'}, 1314: {'Name': u'lemonsandcream'}, 1315: {'Name': u'BebeOhLaLaEtsy'}, 1316: {'Name': u'KittlesKnits'}, 1317: {'Name': u'MikyNewbornProps'}, 1318: {'Name': u'HandKnitByHanna'}, 1319: {'Name': u'mkneedlework'}, 1320: {'Name': u'ShopRainyDayCrafts'}, 1321: {'Name': u'ThingyThingz'}, 1322: {'Name': u'callmemimi'}, 1323: {'Name': u'CozyPhotoProps'}, 1324: {'Name': u'PupaShop'}, 1325: {'Name': u'anodtomod'}, 1326: {'Name': u'countrycuttins'}, 1327: {'Name': u'BIRKENknits'}, 1328: {'Name': u'MarkadecorPremium'}, 1329: {'Name': u'PeaceThruKnitting'}, 1330: {'Name': u'nerina52'}, 1331: {'Name': u'JustPatTreasuresshop'}, 1332: {'Name': u'epiknitandcrochet'}, 1333: {'Name': u'reflectionsbyds'}, 1334: {'Name': u'iHappyItems'}, 1335: {'Name': u'BlueStockinette'}, 1336: {'Name': u'FreeSpiritHats'}, 1337: {'Name': u'LuVitaChic'}, 1338: {'Name': u'mylittlecreations01'}, 1339: {'Name': u'KarryDesigns'}, 1340: {'Name': u'Africancrab'}, 1341: {'Name': u'spinningsheep'}, 1342: {'Name': u'HeartsRunFree'}, 1343: {'Name': u'lanapara'}, 1344: {'Name': u'JoAnnaSeiter'}, 1345: {'Name': u'GloriousKnittingShop'}, 1346: {'Name': u'LibertyKnits'}, 1347: {'Name': u'franticcrafter'}, 1348: {'Name': u'JillyMix'}, 1349: {'Name': u'LittleOohLaLa'}, 1350: {'Name': u'BrianaKcrochet'}, 1351: {'Name': u'IWENhats'}, 1352: {'Name': u'whynotagain'}, 1353: {'Name': u'ColourandCotton'}, 1354: {'Name': u'KidsKnitHatsNCrafts'}, 1355: {'Name': u'UNDIIN'}, 1356: {'Name': u'Simplyimagineknit'}, 1357: {'Name': u'handylittleme'}, 1358: {'Name': u'Peachandkiwi'}, 1359: {'Name': u'rocketclothing'}, 1360: {'Name': u'Rivelo'}, 1361: {'Name': u'MorethanaSeason'}, 1362: {'Name': u'KeepingKnitReal'}, 1363: {'Name': u'stephaniesyarn'}, 1364: {'Name': u'JeannieGrayKnits'}, 1365: {'Name': u'dallynmade'}, 1366: {'Name': u'2olddivas'}, 1367: {'Name': u'HandKnitHandKnit'}, 1368: {'Name': u'FairfaxDavis'}, 1369: {'Name': u'MagicalLandPhotoProp'}, 1370: {'Name': u'AnthropologieAngie'}, 1371: {'Name': u'NesrinArt'}, 1372: {'Name': u'PoppyWind'}, 1373: {'Name': u'CraftsArtsMoreofPA'}, 1374: {'Name': u'EntireLeighHandMade'}, 1375: {'Name': u'CablesandMore'}, 1376: {'Name': u'EMERENknitting'}, 1377: {'Name': u'GrannyKnowsBest'}, 1378: {'Name': u'RoseKingsCreations'}, 1379: {'Name': u'HADASSAshop'}, 1380: {'Name': u'GreenCanyonTradingCo'}, 1381: {'Name': u'PetiteLeRu'}, 1382: {'Name': u'anchorintime'}, 1383: {'Name': u'HandMadeLana'}, 1384: {'Name': u'YarnGiftsHandmade'}, 1385: {'Name': u'RusticRootsFarm'}, 1386: {'Name': u'purescarf'}, 1387: {'Name': u'woolture'}, 1388: {'Name': u'TheKnittedArts'}, 1389: {'Name': u'TheLittleHipsters'}, 1390: {'Name': u'ZoZosAccessories'}, 1391: {'Name': u'StrawberryHandicraft'}, 1392: {'Name': u'KarolinaDesigns'}, 1393: {'Name': u'jkdesignshop'}, 1394: {'Name': u'InkaBoutique'}, 1395: {'Name': u'TTCrochetStyle'}, 1396: {'Name': u'allbyInna'}, 1397: {'Name': u'CripKnits'}, 1398: {'Name': u'SuzanneSullivan'}, 1399: {'Name': u'AmandasKnitTreasures'}, 1400: {'Name': u'DelicateDebuts'}, 1401: {'Name': u'TimelessMemoryPrints'}, 1402: {'Name': u'SueBeesShop'}, 1403: {'Name': u'14thStKnits'}, 1404: {'Name': u'InnerGarden'}, 1405: {'Name': u'JennaKaeKnitCrochet'}, 1406: {'Name': u'HandmadeGiftsByNelly'}, 1407: {'Name': u'BotonDeFlor'}, 1408: {'Name': u'delectare'}, 1409: {'Name': u'HanzeePanzeeCreation'}, 1410: {'Name': u'DinaStyleKnits'}, 1411: {'Name': u'ceriscioc'}, 1412: {'Name': u'FrenchSoulKnittery'}, 1413: {'Name': u'NorthwestVintageCo'}, 1414: {'Name': u'MihasKnittingShop'}, 1415: {'Name': u'NKnits4Baby'}, 1416: {'Name': u'evefashion'}, 1417: {'Name': u'AllAboutKnit'}, 1418: {'Name': u'StorylandVintage'}, 1419: {'Name': u'CherryCorners'}, 1420: {'Name': u'CozyCover'}, 1421: {'Name': u'PaperElf'}, 1422: {'Name': u'LazyTcrochet'}, 1423: {'Name': u'JuliaHats'}, 1424: {'Name': u'GabrielleJustine'}, 1425: {'Name': u'IdleHourCrafts'}, 1426: {'Name': u'GoldenHandsDesign'}, 1427: {'Name': u'dagmarabuczek'}, 1428: {'Name': u'OffTheKHuff'}, 1429: {'Name': u'StorkandMe'}, 1430: {'Name': u'FloAtelier'}, 1431: {'Name': u'ChiefNomad'}, 1432: {'Name': u'JennuinelyMadeCrafts'}, 1433: {'Name': u'FeltedFashion'}, 1434: {'Name': u'ogracec'}, 1435: {'Name': u'BoutiqueDeMarcipan'}, 1436: {'Name': u'MorningGlorious'}, 1437: {'Name': u'naryaboutique'}, 1438: {'Name': u'MelodysMakings'}, 1439: {'Name': u'RusticRoadBoutique'}, 1440: {'Name': u'debbyware'}, 1441: {'Name': u'pkddod'}, 1442: {'Name': u'knitix'}, 1443: {'Name': u'teteormayka'}, 1444: {'Name': u'CHICaDees'}, 1445: {'Name': u'Knitrx'}, 1446: {'Name': u'moviestarjewelry'}, 1447: {'Name': u'graceandoscar'}, 1448: {'Name': u'MADEVALINEN'}, 1449: {'Name': u'corgipal'}, 1450: {'Name': u'chloeheartsowls'}, 1451: {'Name': u'ScarfLovers'}, 1452: {'Name': u'LintMonsterCreations'}, 1453: {'Name': u'MomentsInTwine'}, 1454: {'Name': u'StarsWear'}, 1455: {'Name': u'MadeByFrancy'}, 1456: {'Name': u'LittleAngelTouch'}, 1457: {'Name': u'OneOfAKindKid'}, 1458: {'Name': u'FamilySpecialGifts'}, 1459: {'Name': u'ShirleyKnits'}, 1460: {'Name': u'LuLusWoobies'}, 1461: {'Name': u'KnitleyRoad'}, 1462: {'Name': u'KnitNKnots'}, 1463: {'Name': u'KnottyKnitGoods'}, 1464: {'Name': u'dannilittle'}, 1465: {'Name': u'Blissfulinspiration1'}, 1466: {'Name': u'SownThreadsClothing'}, 1467: {'Name': u'FruitofPhalanges'}, 1468: {'Name': u'brokemarys'}, 1469: {'Name': u'KnitBabyCouture'}, 1470: {'Name': u'BoldVictoryCrochet'}, 1471: {'Name': u'CreationsbyTiffyD'}, 1472: {'Name': u'plphotoprops'}, 1473: {'Name': u'willowsandwool'}, 1474: {'Name': u'GrannyPatternStore'}, 1475: {'Name': u'Blackcatmeowknits'}, 1476: {'Name': u'Objeshop'}, 1477: {'Name': u'MeadowsTooMelmark'}, 1478: {'Name': u'GrannyJack'}, 1479: {'Name': u'2Fun4Words'}, 1480: {'Name': u'Momtoast'}, 1481: {'Name': u'MilMon'}, 1482: {'Name': u'CreationsJasmine'}, 1483: {'Name': u'Jetonarme'}, 1484: {'Name': u'Rarejewelry4You'}, 1485: {'Name': u'CharlotteCotBlankets'}, 1486: {'Name': u'CCCrochets'}, 1487: {'Name': u'LaurelandReeve'}, 1488: {'Name': u'BoutiqueDeElite'}, 1489: {'Name': u'InspiracjeJolanty'}, 1490: {'Name': u'xoxoTouchofLovexoxo'}, 1491: {'Name': u'EWEniquelyKnit'}, 1492: {'Name': u'OurFarmstead'}, 1493: {'Name': u'KnitSimplicity'}, 1494: {'Name': u'LaribellaHAT'}, 1495: {'Name': u'BreezyRidgeAlpacas'}, 1496: {'Name': u'NaRoKnit'}, 1497: {'Name': u'febressfashion'}, 1498: {'Name': u'ChickKnitbyKristie'}, 1499: {'Name': u'Oceanlvrcrafts'}, 1500: {'Name': u'Rebelamb'}, 1501: {'Name': u'candlecane123'}, 1502: {'Name': u'sweetvioletsdesigns'}, 1503: {'Name': u'TopKnotHeadbands'}, 1504: {'Name': u'WeddingsBabiesHome'}, 1505: {'Name': u'adornsnut'}, 1506: {'Name': u'CozyLamb'}, 1507: {'Name': u'DiVerseBlessings'}, 1508: {'Name': u'ANNAandIRENE'}, 1509: {'Name': u'RockabillyButtercup'}, 1510: {'Name': u'debsKidstuff'}, 1511: {'Name': u'THESugarandStitches'}, 1512: {'Name': u'ennadoolf'}, 1513: {'Name': u'RelovedFabrics'}, 1514: {'Name': u'ChloeAndEvie'}, 1515: {'Name': u'KnittingCarnival'}, 1516: {'Name': u'KnitsDuNord'}, 1517: {'Name': u'MosaicodiMangino'}, 1518: {'Name': u'aviena'}, 1519: {'Name': u'dolcemaglia'}, 1520: {'Name': u'KnitaFrolic'}, 1521: {'Name': u'SwanJay'}, 1522: {'Name': u'yarningsbyseanna'}, 1523: {'Name': u'GreenGypsyGoods'}, 1524: {'Name': u'KnittingStory'}, 1525: {'Name': u'Junikid'}, 1526: {'Name': u'Knit360five'}, 1527: {'Name': u'2knit2purl'}, 1528: {'Name': u'Muza'}, 1529: {'Name': u'topdraweryarns'}, 1530: {'Name': u'bySol'}, 1531: {'Name': u'BocajandCo'}, 1532: {'Name': u'formalhouse'}, 1533: {'Name': u'sylviaslace'}, 1534: {'Name': u'MossieShop'}, 1535: {'Name': u'LaVintageByMissPJ55'}, 1536: {'Name': u'ManonKnitting'}, 1537: {'Name': u'Crafts2Cherish'}, 1538: {'Name': u'HappyHappyKnitty'}, 1539: {'Name': u'elanknits'}, 1540: {'Name': u'Periay'}, 1541: {'Name': u'ThatsSewJudy'}, 1542: {'Name': u'YailsCraftCorner'}, 1543: {'Name': u'countrygarden77'}, 1544: {'Name': u'THEWANTEDSHEEP'}, 1545: {'Name': u'GrammasKnittedGifts'}, 1546: {'Name': u'HEraMade'}, 1547: {'Name': u'CatPurrKnitting'}, 1548: {'Name': u'lovemyknits'}, 1549: {'Name': u'Teddyhug'}, 1550: {'Name': u'HappyChoiceKnits'}, 1551: {'Name': u'TheDelightfulDay'}, 1552: {'Name': u'cherryREVOLVER'}, 1553: {'Name': u'RuffleMania'}, 1554: {'Name': u'MissBettysFancyHats'}, 1555: {'Name': u'CherryDollyFace'}, 1556: {'Name': u'KnitGoodWomanKnit'}, 1557: {'Name': u'MamasTeddyBear'}, 1558: {'Name': u'FaunaKnits'}, 1559: {'Name': u'MissMaysMomsKnits'}, 1560: {'Name': u'FargoCoreCon'}, 1561: {'Name': u'mikmakwinkel'}, 1562: {'Name': u'RedGreenShop'}, 1563: {'Name': u'Madfindz'}, 1564: {'Name': u'BonniesCinematheque'}, 1565: {'Name': u'MountainKnitwear'}}\n",
        "MyKnitCroch\n",
        "Puik"
       ]
      },
      {
       "output_type": "stream",
       "stream": "stdout",
       "text": [
        "\n",
        "viafashion"
       ]
      },
      {
       "output_type": "stream",
       "stream": "stdout",
       "text": [
        "\n",
        "SandyCoastalDesigns"
       ]
      },
      {
       "output_type": "stream",
       "stream": "stdout",
       "text": [
        "\n",
        "MaxMelody"
       ]
      },
      {
       "output_type": "stream",
       "stream": "stdout",
       "text": [
        "\n",
        "SunshineBabyProps"
       ]
      },
      {
       "output_type": "stream",
       "stream": "stdout",
       "text": [
        "\n",
        "knittingtreasures"
       ]
      },
      {
       "output_type": "stream",
       "stream": "stdout",
       "text": [
        "\n",
        "Ebruk"
       ]
      },
      {
       "output_type": "stream",
       "stream": "stdout",
       "text": [
        "\n",
        "zukas"
       ]
      },
      {
       "output_type": "stream",
       "stream": "stdout",
       "text": [
        "\n",
        "accessoriesbyrita"
       ]
      },
      {
       "output_type": "stream",
       "stream": "stdout",
       "text": [
        "\n",
        "pixiebell"
       ]
      },
      {
       "output_type": "stream",
       "stream": "stdout",
       "text": [
        "\n",
        "SENNURSASA"
       ]
      },
      {
       "output_type": "stream",
       "stream": "stdout",
       "text": [
        "\n",
        "effybags"
       ]
      },
      {
       "output_type": "stream",
       "stream": "stdout",
       "text": [
        "\n",
        "ileaiye"
       ]
      },
      {
       "output_type": "stream",
       "stream": "stdout",
       "text": [
        "\n",
        "StripesnCables"
       ]
      },
      {
       "output_type": "stream",
       "stream": "stdout",
       "text": [
        "\n",
        "LurayKnitwear"
       ]
      },
      {
       "output_type": "stream",
       "stream": "stdout",
       "text": [
        "\n",
        "HatsByHollyJoy"
       ]
      },
      {
       "output_type": "stream",
       "stream": "stdout",
       "text": [
        "\n",
        "TheMadRabbitShoppe"
       ]
      },
      {
       "output_type": "stream",
       "stream": "stdout",
       "text": [
        "\n",
        "PrettyBagsByMia"
       ]
      },
      {
       "output_type": "stream",
       "stream": "stdout",
       "text": [
        "\n",
        "LudMilaBoutique"
       ]
      },
      {
       "output_type": "stream",
       "stream": "stdout",
       "text": [
        "\n",
        "LoopsAndLines"
       ]
      },
      {
       "output_type": "stream",
       "stream": "stdout",
       "text": [
        "\n",
        "RosiesNoggin"
       ]
      },
      {
       "output_type": "stream",
       "stream": "stdout",
       "text": [
        "\n",
        "HeadcoversUnlimited"
       ]
      },
      {
       "output_type": "stream",
       "stream": "stdout",
       "text": [
        "\n",
        "SpinningAcres"
       ]
      },
      {
       "output_type": "stream",
       "stream": "stdout",
       "text": [
        "\n",
        "Regathered"
       ]
      },
      {
       "output_type": "stream",
       "stream": "stdout",
       "text": [
        "\n",
        "PoshKiddosapparel"
       ]
      },
      {
       "output_type": "stream",
       "stream": "stdout",
       "text": [
        "\n",
        "Ifonka"
       ]
      },
      {
       "output_type": "stream",
       "stream": "stdout",
       "text": [
        "\n",
        "BouquetSpecialDesign"
       ]
      },
      {
       "output_type": "stream",
       "stream": "stdout",
       "text": [
        "\n",
        "SoftyWooly"
       ]
      },
      {
       "output_type": "stream",
       "stream": "stdout",
       "text": [
        "\n",
        "ShopLuluandRoo"
       ]
      },
      {
       "output_type": "stream",
       "stream": "stdout",
       "text": [
        "\n",
        "HootersHall"
       ]
      },
      {
       "output_type": "stream",
       "stream": "stdout",
       "text": [
        "\n",
        "myfashioncreations"
       ]
      },
      {
       "output_type": "stream",
       "stream": "stdout",
       "text": [
        "\n",
        "PracticalArtByLaura"
       ]
      },
      {
       "output_type": "stream",
       "stream": "stdout",
       "text": [
        "\n",
        "WoollywonderKnits"
       ]
      },
      {
       "output_type": "stream",
       "stream": "stdout",
       "text": [
        "\n",
        "DollphinShowRoom"
       ]
      },
      {
       "output_type": "stream",
       "stream": "stdout",
       "text": [
        "\n",
        "SmallandLovely"
       ]
      },
      {
       "output_type": "stream",
       "stream": "stdout",
       "text": [
        "\n",
        "IfonBabyLand"
       ]
      },
      {
       "output_type": "stream",
       "stream": "stdout",
       "text": [
        "\n",
        "strawberrycouture"
       ]
      },
      {
       "output_type": "stream",
       "stream": "stdout",
       "text": [
        "\n",
        "ReinetteClothing"
       ]
      },
      {
       "output_type": "stream",
       "stream": "stdout",
       "text": [
        "\n",
        "SlouchyBeanie"
       ]
      },
      {
       "output_type": "stream",
       "stream": "stdout",
       "text": [
        "\n",
        "BaByPrOdUcTsByGaLiNa"
       ]
      },
      {
       "output_type": "stream",
       "stream": "stdout",
       "text": [
        "\n",
        "UpNorthKnits"
       ]
      },
      {
       "output_type": "stream",
       "stream": "stdout",
       "text": [
        "\n",
        "Sawu"
       ]
      },
      {
       "output_type": "stream",
       "stream": "stdout",
       "text": [
        "\n",
        "natalya1905"
       ]
      },
      {
       "output_type": "stream",
       "stream": "stdout",
       "text": [
        "\n",
        "designbcb"
       ]
      },
      {
       "output_type": "stream",
       "stream": "stdout",
       "text": [
        "\n",
        "LoonMtEmbroidnCrafts"
       ]
      },
      {
       "output_type": "stream",
       "stream": "stdout",
       "text": [
        "\n",
        "SoftKnitDreams"
       ]
      },
      {
       "output_type": "stream",
       "stream": "stdout",
       "text": [
        "\n",
        "KnitAndCrochetLAND"
       ]
      },
      {
       "output_type": "stream",
       "stream": "stdout",
       "text": [
        "\n",
        "PandoraSpocks"
       ]
      },
      {
       "output_type": "stream",
       "stream": "stdout",
       "text": [
        "\n",
        "earflaphats"
       ]
      },
      {
       "output_type": "stream",
       "stream": "stdout",
       "text": [
        "\n",
        "Fernandfeatherknits"
       ]
      },
      {
       "output_type": "stream",
       "stream": "stdout",
       "text": [
        "\n",
        "DamovFashion"
       ]
      },
      {
       "output_type": "stream",
       "stream": "stdout",
       "text": [
        "\n",
        "lanadearg"
       ]
      },
      {
       "output_type": "stream",
       "stream": "stdout",
       "text": [
        "\n",
        "DickensKnits"
       ]
      },
      {
       "output_type": "stream",
       "stream": "stdout",
       "text": [
        "\n",
        "Vacationhouse"
       ]
      },
      {
       "output_type": "stream",
       "stream": "stdout",
       "text": [
        "\n",
        "lajumpinbean"
       ]
      },
      {
       "output_type": "stream",
       "stream": "stdout",
       "text": [
        "\n",
        "FarrellFibers"
       ]
      },
      {
       "output_type": "stream",
       "stream": "stdout",
       "text": [
        "\n",
        "JolantaKnit"
       ]
      },
      {
       "output_type": "stream",
       "stream": "stdout",
       "text": [
        "\n",
        "hilaryfrazier"
       ]
      },
      {
       "output_type": "stream",
       "stream": "stdout",
       "text": [
        "\n",
        "PIYOYO"
       ]
      },
      {
       "output_type": "stream",
       "stream": "stdout",
       "text": [
        "\n",
        "BlablaBlythe"
       ]
      },
      {
       "output_type": "stream",
       "stream": "stdout",
       "text": [
        "\n",
        "Scarf4you"
       ]
      },
      {
       "output_type": "stream",
       "stream": "stdout",
       "text": [
        "\n",
        "BoPeepsBonnets"
       ]
      },
      {
       "output_type": "stream",
       "stream": "stdout",
       "text": [
        "\n",
        "MyCrochetDesign"
       ]
      },
      {
       "output_type": "stream",
       "stream": "stdout",
       "text": [
        "\n",
        "Knitzbybeansknots"
       ]
      },
      {
       "output_type": "stream",
       "stream": "stdout",
       "text": [
        "\n",
        "PersonalizedKnits"
       ]
      },
      {
       "output_type": "stream",
       "stream": "stdout",
       "text": [
        "\n",
        "LittleAsAccessories"
       ]
      },
      {
       "output_type": "stream",
       "stream": "stdout",
       "text": [
        "\n",
        "WodCreate"
       ]
      },
      {
       "output_type": "stream",
       "stream": "stdout",
       "text": [
        "\n",
        "lililio"
       ]
      },
      {
       "output_type": "stream",
       "stream": "stdout",
       "text": [
        "\n",
        "tailorguy"
       ]
      },
      {
       "output_type": "stream",
       "stream": "stdout",
       "text": [
        "\n",
        "OffTheHookHats"
       ]
      },
      {
       "output_type": "stream",
       "stream": "stdout",
       "text": [
        "\n",
        "SueMaun"
       ]
      },
      {
       "output_type": "stream",
       "stream": "stdout",
       "text": [
        "\n",
        "KadensCloset"
       ]
      },
      {
       "output_type": "stream",
       "stream": "stdout",
       "text": [
        "\n",
        "EllenaKnits"
       ]
      },
      {
       "output_type": "stream",
       "stream": "stdout",
       "text": [
        "\n",
        "dreahsdesigns"
       ]
      },
      {
       "output_type": "stream",
       "stream": "stdout",
       "text": [
        "\n",
        "CottonPickings"
       ]
      },
      {
       "output_type": "stream",
       "stream": "stdout",
       "text": [
        "\n",
        "MatanteGe"
       ]
      },
      {
       "output_type": "stream",
       "stream": "stdout",
       "text": [
        "\n",
        "PlukeShop"
       ]
      },
      {
       "output_type": "stream",
       "stream": "stdout",
       "text": [
        "\n",
        "Knittingchop"
       ]
      },
      {
       "output_type": "stream",
       "stream": "stdout",
       "text": [
        "\n",
        "HuckleberriesandRain"
       ]
      },
      {
       "output_type": "stream",
       "stream": "stdout",
       "text": [
        "\n",
        "HandicraftByDamla"
       ]
      },
      {
       "output_type": "stream",
       "stream": "stdout",
       "text": [
        "\n",
        "WonderWoollens"
       ]
      },
      {
       "output_type": "stream",
       "stream": "stdout",
       "text": [
        "\n",
        "TaniaHand"
       ]
      },
      {
       "output_type": "stream",
       "stream": "stdout",
       "text": [
        "\n",
        "Bohoinfinity"
       ]
      },
      {
       "output_type": "stream",
       "stream": "stdout",
       "text": [
        "\n",
        "mynoush"
       ]
      },
      {
       "output_type": "stream",
       "stream": "stdout",
       "text": [
        "\n",
        "CableMeCozy"
       ]
      },
      {
       "output_type": "stream",
       "stream": "stdout",
       "text": [
        "\n",
        "JandEdoodles"
       ]
      },
      {
       "output_type": "stream",
       "stream": "stdout",
       "text": [
        "\n",
        "beatknits"
       ]
      },
      {
       "output_type": "stream",
       "stream": "stdout",
       "text": [
        "\n",
        "ShopLaLune"
       ]
      },
      {
       "output_type": "stream",
       "stream": "stdout",
       "text": [
        "\n",
        "vintageknitcrochet"
       ]
      },
      {
       "output_type": "stream",
       "stream": "stdout",
       "text": [
        "\n",
        "PeonyKnits"
       ]
      },
      {
       "output_type": "stream",
       "stream": "stdout",
       "text": [
        "\n",
        "NataNatastudio"
       ]
      },
      {
       "output_type": "stream",
       "stream": "stdout",
       "text": [
        "\n",
        "Ritaknitsall"
       ]
      },
      {
       "output_type": "stream",
       "stream": "stdout",
       "text": [
        "\n",
        "smittenwithknitn"
       ]
      },
      {
       "output_type": "stream",
       "stream": "stdout",
       "text": [
        "\n",
        "HelloDollyDesigns"
       ]
      },
      {
       "output_type": "stream",
       "stream": "stdout",
       "text": [
        "\n",
        "FiddlestyxStudios"
       ]
      },
      {
       "output_type": "stream",
       "stream": "stdout",
       "text": [
        "\n",
        "HandyHatsandThings"
       ]
      },
      {
       "output_type": "stream",
       "stream": "stdout",
       "text": [
        "\n",
        "TreMelarance"
       ]
      },
      {
       "output_type": "stream",
       "stream": "stdout",
       "text": [
        "\n",
        "Cvetinka"
       ]
      },
      {
       "output_type": "stream",
       "stream": "stdout",
       "text": [
        "\n",
        "BabyHats"
       ]
      },
      {
       "output_type": "stream",
       "stream": "stdout",
       "text": [
        "\n",
        "GrammysKnitsandPurls"
       ]
      },
      {
       "output_type": "stream",
       "stream": "stdout",
       "text": [
        "\n",
        "AnytimeScarf"
       ]
      },
      {
       "output_type": "stream",
       "stream": "stdout",
       "text": [
        "\n",
        "CTDESIGNSBESPOKEBAGS"
       ]
      },
      {
       "output_type": "stream",
       "stream": "stdout",
       "text": [
        "\n",
        "Powerbrand"
       ]
      },
      {
       "output_type": "stream",
       "stream": "stdout",
       "text": [
        "\n",
        "KnitSew4U"
       ]
      },
      {
       "output_type": "stream",
       "stream": "stdout",
       "text": [
        "\n",
        "sweetygreetings"
       ]
      },
      {
       "output_type": "stream",
       "stream": "stdout",
       "text": [
        "\n",
        "rubywebbs"
       ]
      },
      {
       "output_type": "stream",
       "stream": "stdout",
       "text": [
        "\n",
        "LJaccessories"
       ]
      },
      {
       "output_type": "stream",
       "stream": "stdout",
       "text": [
        "\n",
        "HippityHoppityHats"
       ]
      },
      {
       "output_type": "stream",
       "stream": "stdout",
       "text": [
        "\n",
        "HandWovenPeru"
       ]
      },
      {
       "output_type": "stream",
       "stream": "stdout",
       "text": [
        "\n",
        "TheMastHatter"
       ]
      },
      {
       "output_type": "stream",
       "stream": "stdout",
       "text": [
        "\n",
        "BabiesRepublic"
       ]
      },
      {
       "output_type": "stream",
       "stream": "stdout",
       "text": [
        "\n",
        "foreverandrea"
       ]
      },
      {
       "output_type": "stream",
       "stream": "stdout",
       "text": [
        "\n",
        "SimplyLife888"
       ]
      },
      {
       "output_type": "stream",
       "stream": "stdout",
       "text": [
        "\n",
        "DesignByEJ"
       ]
      },
      {
       "output_type": "stream",
       "stream": "stdout",
       "text": [
        "\n",
        "LovetoKnitHats"
       ]
      },
      {
       "output_type": "stream",
       "stream": "stdout",
       "text": [
        "\n",
        "UnderTheOakTrees"
       ]
      },
      {
       "output_type": "stream",
       "stream": "stdout",
       "text": [
        "\n",
        "SourpussKnits"
       ]
      },
      {
       "output_type": "stream",
       "stream": "stdout",
       "text": [
        "\n",
        "LeLeni"
       ]
      },
      {
       "output_type": "stream",
       "stream": "stdout",
       "text": [
        "\n",
        "AshleyLillisHandmade"
       ]
      },
      {
       "output_type": "stream",
       "stream": "stdout",
       "text": [
        "\n",
        "CreationsTricotine"
       ]
      },
      {
       "output_type": "stream",
       "stream": "stdout",
       "text": [
        "\n",
        "WaterInMyPaint"
       ]
      },
      {
       "output_type": "stream",
       "stream": "stdout",
       "text": [
        "\n",
        "ThatGirlKnitz"
       ]
      },
      {
       "output_type": "stream",
       "stream": "stdout",
       "text": [
        "\n",
        "laceandcable"
       ]
      },
      {
       "output_type": "stream",
       "stream": "stdout",
       "text": [
        "\n",
        "selmahandcraft"
       ]
      },
      {
       "output_type": "stream",
       "stream": "stdout",
       "text": [
        "\n",
        "GoKnitsDotCom"
       ]
      },
      {
       "output_type": "stream",
       "stream": "stdout",
       "text": [
        "\n",
        "HaKaMaDi4"
       ]
      },
      {
       "output_type": "stream",
       "stream": "stdout",
       "text": [
        "\n",
        "TerryGraziano"
       ]
      },
      {
       "output_type": "stream",
       "stream": "stdout",
       "text": [
        "\n",
        "ToryMakes"
       ]
      },
      {
       "output_type": "stream",
       "stream": "stdout",
       "text": [
        "\n",
        "Ladyknitsandthings"
       ]
      },
      {
       "output_type": "stream",
       "stream": "stdout",
       "text": [
        "\n",
        "BexterDesigns"
       ]
      },
      {
       "output_type": "stream",
       "stream": "stdout",
       "text": [
        "\n",
        "FromPurlsToPearls"
       ]
      },
      {
       "output_type": "stream",
       "stream": "stdout",
       "text": [
        "\n",
        "sweetKM"
       ]
      },
      {
       "output_type": "stream",
       "stream": "stdout",
       "text": [
        "\n",
        "looptolooptoloop"
       ]
      },
      {
       "output_type": "stream",
       "stream": "stdout",
       "text": [
        "\n",
        "TikiFiberCrafts"
       ]
      },
      {
       "output_type": "stream",
       "stream": "stdout",
       "text": [
        "\n",
        "Magicdoll"
       ]
      },
      {
       "output_type": "stream",
       "stream": "stdout",
       "text": [
        "\n",
        "WinterWhiteKnits"
       ]
      },
      {
       "output_type": "stream",
       "stream": "stdout",
       "text": [
        "\n",
        "KnitsForLife"
       ]
      },
      {
       "output_type": "stream",
       "stream": "stdout",
       "text": [
        "\n",
        "CappelliHats"
       ]
      },
      {
       "output_type": "stream",
       "stream": "stdout",
       "text": [
        "\n",
        "bromefields"
       ]
      },
      {
       "output_type": "stream",
       "stream": "stdout",
       "text": [
        "\n",
        "MarysKnits"
       ]
      },
      {
       "output_type": "stream",
       "stream": "stdout",
       "text": [
        "\n",
        "NchantedGifts"
       ]
      },
      {
       "output_type": "stream",
       "stream": "stdout",
       "text": [
        "\n",
        "PoshPatterns"
       ]
      },
      {
       "output_type": "stream",
       "stream": "stdout",
       "text": [
        "\n",
        "willowandsagecreatio"
       ]
      },
      {
       "output_type": "stream",
       "stream": "stdout",
       "text": [
        "\n",
        "Knitcessity"
       ]
      },
      {
       "output_type": "stream",
       "stream": "stdout",
       "text": [
        "\n",
        "westlakedesigns"
       ]
      },
      {
       "output_type": "stream",
       "stream": "stdout",
       "text": [
        "\n",
        "abrahamssonco"
       ]
      },
      {
       "output_type": "stream",
       "stream": "stdout",
       "text": [
        "\n",
        "OhmayDIY"
       ]
      },
      {
       "output_type": "stream",
       "stream": "stdout",
       "text": [
        "\n",
        "Merrieknit"
       ]
      },
      {
       "output_type": "stream",
       "stream": "stdout",
       "text": [
        "\n",
        "PhiloneusDesigns"
       ]
      },
      {
       "output_type": "stream",
       "stream": "stdout",
       "text": [
        "\n",
        "ThreeBirdNest"
       ]
      },
      {
       "output_type": "stream",
       "stream": "stdout",
       "text": [
        "\n",
        "RosePetalCollections"
       ]
      },
      {
       "output_type": "stream",
       "stream": "stdout",
       "text": [
        "\n",
        "HeartStrings107"
       ]
      },
      {
       "output_type": "stream",
       "stream": "stdout",
       "text": [
        "\n",
        "ForestWool"
       ]
      },
      {
       "output_type": "stream",
       "stream": "stdout",
       "text": [
        "\n",
        "azuremiles"
       ]
      },
      {
       "output_type": "stream",
       "stream": "stdout",
       "text": [
        "\n",
        "SabiynaHandKnits"
       ]
      },
      {
       "output_type": "stream",
       "stream": "stdout",
       "text": [
        "\n",
        "MimozaLuxury"
       ]
      },
      {
       "output_type": "stream",
       "stream": "stdout",
       "text": [
        "\n",
        "CattsHouse"
       ]
      },
      {
       "output_type": "stream",
       "stream": "stdout",
       "text": [
        "\n",
        "LalaAndMeShop"
       ]
      },
      {
       "output_type": "stream",
       "stream": "stdout",
       "text": [
        "\n",
        "GreenCatStudio"
       ]
      },
      {
       "output_type": "stream",
       "stream": "stdout",
       "text": [
        "\n",
        "MellyJoCo"
       ]
      },
      {
       "output_type": "stream",
       "stream": "stdout",
       "text": [
        "\n",
        "AdrisLittleCuties"
       ]
      },
      {
       "output_type": "stream",
       "stream": "stdout",
       "text": [
        "\n",
        "CreationsbyNavari"
       ]
      },
      {
       "output_type": "stream",
       "stream": "stdout",
       "text": [
        "\n",
        "KnittingOleBag"
       ]
      },
      {
       "output_type": "stream",
       "stream": "stdout",
       "text": [
        "\n",
        "TwoLittleAngels1"
       ]
      },
      {
       "output_type": "stream",
       "stream": "stdout",
       "text": [
        "\n",
        "bebebottineshop"
       ]
      },
      {
       "output_type": "stream",
       "stream": "stdout",
       "text": [
        "\n",
        "StripyKite"
       ]
      },
      {
       "output_type": "stream",
       "stream": "stdout",
       "text": [
        "\n",
        "funkomavintage"
       ]
      },
      {
       "output_type": "stream",
       "stream": "stdout",
       "text": [
        "\n",
        "AuntieBsMemories"
       ]
      },
      {
       "output_type": "stream",
       "stream": "stdout",
       "text": [
        "\n",
        "KnitJustForYou"
       ]
      },
      {
       "output_type": "stream",
       "stream": "stdout",
       "text": [
        "\n",
        "MoonKnitNight"
       ]
      },
      {
       "output_type": "stream",
       "stream": "stdout",
       "text": [
        "\n",
        "yarnworksandmore"
       ]
      },
      {
       "output_type": "stream",
       "stream": "stdout",
       "text": [
        "\n",
        "lauraprilltoo"
       ]
      },
      {
       "output_type": "stream",
       "stream": "stdout",
       "text": [
        "\n",
        "NesyBaby"
       ]
      },
      {
       "output_type": "stream",
       "stream": "stdout",
       "text": [
        "\n",
        "CLCouture"
       ]
      },
      {
       "output_type": "stream",
       "stream": "stdout",
       "text": [
        "\n",
        "KnitsByNat"
       ]
      },
      {
       "output_type": "stream",
       "stream": "stdout",
       "text": [
        "\n",
        "BirdiesLab"
       ]
      },
      {
       "output_type": "stream",
       "stream": "stdout",
       "text": [
        "\n",
        "NudiKnits"
       ]
      },
      {
       "output_type": "stream",
       "stream": "stdout",
       "text": [
        "\n",
        "MarmaladesYarn"
       ]
      },
      {
       "output_type": "stream",
       "stream": "stdout",
       "text": [
        "\n",
        "JillsHandmadeStuff"
       ]
      },
      {
       "output_type": "stream",
       "stream": "stdout",
       "text": [
        "\n",
        "WomanOnTheWater"
       ]
      },
      {
       "output_type": "stream",
       "stream": "stdout",
       "text": [
        "\n",
        "PeachPoshPolkadots"
       ]
      },
      {
       "output_type": "stream",
       "stream": "stdout",
       "text": [
        "\n",
        "JennysKnitCo"
       ]
      },
      {
       "output_type": "stream",
       "stream": "stdout",
       "text": [
        "\n",
        "ZucchiniIslandKnits"
       ]
      },
      {
       "output_type": "stream",
       "stream": "stdout",
       "text": [
        "\n",
        "Terottka"
       ]
      },
      {
       "output_type": "stream",
       "stream": "stdout",
       "text": [
        "\n",
        "AccessoriesByKelli"
       ]
      },
      {
       "output_type": "stream",
       "stream": "stdout",
       "text": [
        "\n",
        "JanJanCreations"
       ]
      },
      {
       "output_type": "stream",
       "stream": "stdout",
       "text": [
        "\n",
        "TARSTITCH"
       ]
      },
      {
       "output_type": "stream",
       "stream": "stdout",
       "text": [
        "\n",
        "AngisWollBobbl"
       ]
      },
      {
       "output_type": "stream",
       "stream": "stdout",
       "text": [
        "\n",
        "MimiMustKnit"
       ]
      },
      {
       "output_type": "stream",
       "stream": "stdout",
       "text": [
        "\n",
        "SnazzySportsCo"
       ]
      },
      {
       "output_type": "stream",
       "stream": "stdout",
       "text": [
        "\n",
        "KnitsandGiggles970"
       ]
      },
      {
       "output_type": "stream",
       "stream": "stdout",
       "text": [
        "\n",
        "JeanieBeanHandKnits"
       ]
      },
      {
       "output_type": "stream",
       "stream": "stdout",
       "text": [
        "\n",
        "LiveLace"
       ]
      },
      {
       "output_type": "stream",
       "stream": "stdout",
       "text": [
        "\n",
        "AnotherKP"
       ]
      },
      {
       "output_type": "stream",
       "stream": "stdout",
       "text": [
        "\n",
        "knoodleknits"
       ]
      },
      {
       "output_type": "stream",
       "stream": "stdout",
       "text": [
        "\n",
        "AylasBeeniesgreenbay"
       ]
      },
      {
       "output_type": "stream",
       "stream": "stdout",
       "text": [
        "\n",
        "JanineBasil"
       ]
      },
      {
       "output_type": "stream",
       "stream": "stdout",
       "text": [
        "\n",
        "VillaYarnDesigns"
       ]
      },
      {
       "output_type": "stream",
       "stream": "stdout",
       "text": [
        "\n",
        "bootcuffsandsocks"
       ]
      },
      {
       "output_type": "stream",
       "stream": "stdout",
       "text": [
        "\n",
        "DishclothDivaKnitsOn"
       ]
      },
      {
       "output_type": "stream",
       "stream": "stdout",
       "text": [
        "\n",
        "starlightknits"
       ]
      },
      {
       "output_type": "stream",
       "stream": "stdout",
       "text": [
        "\n",
        "UnconditionalProwess"
       ]
      },
      {
       "output_type": "stream",
       "stream": "stdout",
       "text": [
        "\n",
        "TriStarDesign"
       ]
      },
      {
       "output_type": "stream",
       "stream": "stdout",
       "text": [
        "\n",
        "HatParadise"
       ]
      },
      {
       "output_type": "stream",
       "stream": "stdout",
       "text": [
        "\n",
        "swaddlemesnugly"
       ]
      },
      {
       "output_type": "stream",
       "stream": "stdout",
       "text": [
        "\n",
        "PlatoSquirrel"
       ]
      },
      {
       "output_type": "stream",
       "stream": "stdout",
       "text": [
        "\n",
        "ChandraQuiltnCrafts"
       ]
      },
      {
       "output_type": "stream",
       "stream": "stdout",
       "text": [
        "\n",
        "PaulaBPires"
       ]
      },
      {
       "output_type": "stream",
       "stream": "stdout",
       "text": [
        "\n",
        "HatCharacters"
       ]
      },
      {
       "output_type": "stream",
       "stream": "stdout",
       "text": [
        "\n",
        "jfaze"
       ]
      },
      {
       "output_type": "stream",
       "stream": "stdout",
       "text": [
        "\n",
        "YHYC"
       ]
      },
      {
       "output_type": "stream",
       "stream": "stdout",
       "text": [
        "\n",
        "JuniperandGinger"
       ]
      },
      {
       "output_type": "stream",
       "stream": "stdout",
       "text": [
        "\n",
        "VolnaDollsClother"
       ]
      },
      {
       "output_type": "stream",
       "stream": "stdout",
       "text": [
        "\n",
        "sewsassybootique"
       ]
      },
      {
       "output_type": "stream",
       "stream": "stdout",
       "text": [
        "\n",
        "ETaylorDesigns"
       ]
      },
      {
       "output_type": "stream",
       "stream": "stdout",
       "text": [
        "\n",
        "TheCraftyEuropean"
       ]
      },
      {
       "output_type": "stream",
       "stream": "stdout",
       "text": [
        "\n",
        "SuchCraftsWow"
       ]
      },
      {
       "output_type": "stream",
       "stream": "stdout",
       "text": [
        "\n",
        "KEENbyAM"
       ]
      },
      {
       "output_type": "stream",
       "stream": "stdout",
       "text": [
        "\n",
        "LambsEarsKnits"
       ]
      },
      {
       "output_type": "stream",
       "stream": "stdout",
       "text": [
        "\n",
        "PhotoPropsByMissLene"
       ]
      },
      {
       "output_type": "stream",
       "stream": "stdout",
       "text": [
        "\n",
        "CreativeHandknits"
       ]
      },
      {
       "output_type": "stream",
       "stream": "stdout",
       "text": [
        "\n",
        "zoik"
       ]
      },
      {
       "output_type": "stream",
       "stream": "stdout",
       "text": [
        "\n",
        "ThePaisleyCarrot"
       ]
      },
      {
       "output_type": "stream",
       "stream": "stdout",
       "text": [
        "\n",
        "Solnishko43"
       ]
      },
      {
       "output_type": "stream",
       "stream": "stdout",
       "text": [
        "\n",
        "FrouFrouVtgClothing"
       ]
      },
      {
       "output_type": "stream",
       "stream": "stdout",
       "text": [
        "\n",
        "MariyaMitov"
       ]
      },
      {
       "output_type": "stream",
       "stream": "stdout",
       "text": [
        "\n",
        "BollasBitsAndBobs"
       ]
      },
      {
       "output_type": "stream",
       "stream": "stdout",
       "text": [
        "\n",
        "OhBoyHandmade"
       ]
      },
      {
       "output_type": "stream",
       "stream": "stdout",
       "text": [
        "\n",
        "HamsaHealingGifts"
       ]
      },
      {
       "output_type": "stream",
       "stream": "stdout",
       "text": [
        "\n",
        "deorigenchile"
       ]
      },
      {
       "output_type": "stream",
       "stream": "stdout",
       "text": [
        "\n",
        "LiliaCraftParty"
       ]
      },
      {
       "output_type": "stream",
       "stream": "stdout",
       "text": [
        "\n",
        "MtnShadowFiberworks"
       ]
      },
      {
       "output_type": "stream",
       "stream": "stdout",
       "text": [
        "\n",
        "ItsyBitsyBabyProps"
       ]
      },
      {
       "output_type": "stream",
       "stream": "stdout",
       "text": [
        "\n",
        "taschekats"
       ]
      },
      {
       "output_type": "stream",
       "stream": "stdout",
       "text": [
        "\n",
        "YarnForBaby"
       ]
      },
      {
       "output_type": "stream",
       "stream": "stdout",
       "text": [
        "\n",
        "naptimedesigners"
       ]
      },
      {
       "output_type": "stream",
       "stream": "stdout",
       "text": [
        "\n",
        "CanadaBlissBoutique"
       ]
      },
      {
       "output_type": "stream",
       "stream": "stdout",
       "text": [
        "\n",
        "CuteCreationsByLea"
       ]
      },
      {
       "output_type": "stream",
       "stream": "stdout",
       "text": [
        "\n",
        "Pavlaknits"
       ]
      },
      {
       "output_type": "stream",
       "stream": "stdout",
       "text": [
        "\n",
        "stayinstitches"
       ]
      },
      {
       "output_type": "stream",
       "stream": "stdout",
       "text": [
        "\n",
        "Clickclackknits"
       ]
      },
      {
       "output_type": "stream",
       "stream": "stdout",
       "text": [
        "\n",
        "Mirastyle"
       ]
      },
      {
       "output_type": "stream",
       "stream": "stdout",
       "text": [
        "\n",
        "CutePhotoProp"
       ]
      },
      {
       "output_type": "stream",
       "stream": "stdout",
       "text": [
        "\n",
        "CrochetKnit30"
       ]
      },
      {
       "output_type": "stream",
       "stream": "stdout",
       "text": [
        "\n",
        "VermontHomespun"
       ]
      },
      {
       "output_type": "stream",
       "stream": "stdout",
       "text": [
        "\n",
        "DokumaAccessories"
       ]
      },
      {
       "output_type": "stream",
       "stream": "stdout",
       "text": [
        "\n",
        "ToppledTurtle"
       ]
      },
      {
       "output_type": "stream",
       "stream": "stdout",
       "text": [
        "\n",
        "ThatSewU"
       ]
      },
      {
       "output_type": "stream",
       "stream": "stdout",
       "text": [
        "\n",
        "MedleyofColors"
       ]
      },
      {
       "output_type": "stream",
       "stream": "stdout",
       "text": [
        "\n",
        "BabyKDesigns"
       ]
      },
      {
       "output_type": "stream",
       "stream": "stdout",
       "text": [
        "\n",
        "RubyBlueKnits"
       ]
      },
      {
       "output_type": "stream",
       "stream": "stdout",
       "text": [
        "\n",
        "3sistersscarfcompany"
       ]
      },
      {
       "output_type": "stream",
       "stream": "stdout",
       "text": [
        "\n",
        "KnitByMe"
       ]
      },
      {
       "output_type": "stream",
       "stream": "stdout",
       "text": [
        "\n",
        "GMolly"
       ]
      },
      {
       "output_type": "stream",
       "stream": "stdout",
       "text": [
        "\n",
        "Plexida"
       ]
      },
      {
       "output_type": "stream",
       "stream": "stdout",
       "text": [
        "\n",
        "ThingsKnit"
       ]
      },
      {
       "output_type": "stream",
       "stream": "stdout",
       "text": [
        "\n",
        "KangooLUX"
       ]
      },
      {
       "output_type": "stream",
       "stream": "stdout",
       "text": [
        "\n",
        "Lasunka"
       ]
      },
      {
       "output_type": "stream",
       "stream": "stdout",
       "text": [
        "\n",
        "IRISMINT"
       ]
      },
      {
       "output_type": "stream",
       "stream": "stdout",
       "text": [
        "\n",
        "LineliHandmade"
       ]
      },
      {
       "output_type": "stream",
       "stream": "stdout",
       "text": [
        "\n",
        "Fluffylamb"
       ]
      },
      {
       "output_type": "stream",
       "stream": "stdout",
       "text": [
        "\n",
        "rukkola"
       ]
      },
      {
       "output_type": "stream",
       "stream": "stdout",
       "text": [
        "\n",
        "SapphiraDesignsKnits"
       ]
      },
      {
       "output_type": "stream",
       "stream": "stdout",
       "text": [
        "\n",
        "NorthCountryExposure"
       ]
      },
      {
       "output_type": "stream",
       "stream": "stdout",
       "text": [
        "\n",
        "StarSeventeen"
       ]
      },
      {
       "output_type": "stream",
       "stream": "stdout",
       "text": [
        "\n",
        "KnittingbyKali"
       ]
      },
      {
       "output_type": "stream",
       "stream": "stdout",
       "text": [
        "\n",
        "Madebyfate"
       ]
      },
      {
       "output_type": "stream",
       "stream": "stdout",
       "text": [
        "\n",
        "YoYohats"
       ]
      },
      {
       "output_type": "stream",
       "stream": "stdout",
       "text": [
        "\n",
        "AGuyWithTwoNeedles"
       ]
      },
      {
       "output_type": "stream",
       "stream": "stdout",
       "text": [
        "\n",
        "NorthernLoopKnitwear"
       ]
      },
      {
       "output_type": "stream",
       "stream": "stdout",
       "text": [
        "\n",
        "BellaRaeCrochet"
       ]
      },
      {
       "output_type": "stream",
       "stream": "stdout",
       "text": [
        "\n",
        "HandmadeFromLV"
       ]
      },
      {
       "output_type": "stream",
       "stream": "stdout",
       "text": [
        "\n",
        "IKnit4aCure"
       ]
      },
      {
       "output_type": "stream",
       "stream": "stdout",
       "text": [
        "\n",
        "BebellissimosB"
       ]
      },
      {
       "output_type": "stream",
       "stream": "stdout",
       "text": [
        "\n",
        "DebsDevineDesigns"
       ]
      },
      {
       "output_type": "stream",
       "stream": "stdout",
       "text": [
        "\n",
        "CroquisKnits"
       ]
      },
      {
       "output_type": "stream",
       "stream": "stdout",
       "text": [
        "\n",
        "tzigane57"
       ]
      },
      {
       "output_type": "stream",
       "stream": "stdout",
       "text": [
        "\n",
        "HandmadeTrend"
       ]
      },
      {
       "output_type": "stream",
       "stream": "stdout",
       "text": [
        "\n",
        "Scarfashion"
       ]
      },
      {
       "output_type": "stream",
       "stream": "stdout",
       "text": [
        "\n",
        "PikaPikaCreative"
       ]
      },
      {
       "output_type": "stream",
       "stream": "stdout",
       "text": [
        "\n",
        "Ingugu"
       ]
      },
      {
       "output_type": "stream",
       "stream": "stdout",
       "text": [
        "\n",
        "Solandia"
       ]
      },
      {
       "output_type": "stream",
       "stream": "stdout",
       "text": [
        "\n",
        "ShnopShnop"
       ]
      },
      {
       "output_type": "stream",
       "stream": "stdout",
       "text": [
        "\n",
        "ShentonStudios"
       ]
      },
      {
       "output_type": "stream",
       "stream": "stdout",
       "text": [
        "\n",
        "SweetPetitePhotoProp"
       ]
      },
      {
       "output_type": "stream",
       "stream": "stdout",
       "text": [
        "\n",
        "RememberingDiane"
       ]
      },
      {
       "output_type": "stream",
       "stream": "stdout",
       "text": [
        "\n",
        "LorisHatShop"
       ]
      },
      {
       "output_type": "stream",
       "stream": "stdout",
       "text": [
        "\n",
        "HandknitsByLori"
       ]
      },
      {
       "output_type": "stream",
       "stream": "stdout",
       "text": [
        "\n",
        "KnitLea"
       ]
      },
      {
       "output_type": "stream",
       "stream": "stdout",
       "text": [
        "\n",
        "ChildCrochet"
       ]
      },
      {
       "output_type": "stream",
       "stream": "stdout",
       "text": [
        "\n",
        "Halunder"
       ]
      },
      {
       "output_type": "stream",
       "stream": "stdout",
       "text": [
        "\n",
        "CrochetingHeaven"
       ]
      },
      {
       "output_type": "stream",
       "stream": "stdout",
       "text": [
        "\n",
        "DCimaginations"
       ]
      },
      {
       "output_type": "stream",
       "stream": "stdout",
       "text": [
        "\n",
        "ColorWondreWarmth"
       ]
      },
      {
       "output_type": "stream",
       "stream": "stdout",
       "text": [
        "\n",
        "PlexisArt"
       ]
      },
      {
       "output_type": "stream",
       "stream": "stdout",
       "text": [
        "\n",
        "Knitzandpurls"
       ]
      },
      {
       "output_type": "stream",
       "stream": "stdout",
       "text": [
        "\n",
        "ButtermilkCottage"
       ]
      },
      {
       "output_type": "stream",
       "stream": "stdout",
       "text": [
        "\n",
        "PacaPooFarms"
       ]
      },
      {
       "output_type": "stream",
       "stream": "stdout",
       "text": [
        "\n",
        "LeanaKonovalova"
       ]
      },
      {
       "output_type": "stream",
       "stream": "stdout",
       "text": [
        "\n",
        "lovewhatyouwear"
       ]
      },
      {
       "output_type": "stream",
       "stream": "stdout",
       "text": [
        "\n",
        "autumnandindigo"
       ]
      },
      {
       "output_type": "stream",
       "stream": "stdout",
       "text": [
        "\n",
        "wildhoneypieboutique"
       ]
      },
      {
       "output_type": "stream",
       "stream": "stdout",
       "text": [
        "\n",
        "twigsandtweets"
       ]
      },
      {
       "output_type": "stream",
       "stream": "stdout",
       "text": [
        "\n",
        "LaKnitteria"
       ]
      },
      {
       "output_type": "stream",
       "stream": "stdout",
       "text": [
        "\n",
        "JuicyBows"
       ]
      },
      {
       "output_type": "stream",
       "stream": "stdout",
       "text": [
        "\n",
        "AnastasiaEvelyn"
       ]
      },
      {
       "output_type": "stream",
       "stream": "stdout",
       "text": [
        "\n",
        "MadeByMillar"
       ]
      },
      {
       "output_type": "stream",
       "stream": "stdout",
       "text": [
        "\n",
        "GOOLASHOP"
       ]
      },
      {
       "output_type": "stream",
       "stream": "stdout",
       "text": [
        "\n",
        "SmilingKnitting"
       ]
      },
      {
       "output_type": "stream",
       "stream": "stdout",
       "text": [
        "\n",
        "xoxoImogenHearts"
       ]
      },
      {
       "output_type": "stream",
       "stream": "stdout",
       "text": [
        "\n",
        "MyTinyTree"
       ]
      },
      {
       "output_type": "stream",
       "stream": "stdout",
       "text": [
        "\n",
        "Johannahats"
       ]
      },
      {
       "output_type": "stream",
       "stream": "stdout",
       "text": [
        "\n",
        "heaventoseven"
       ]
      },
      {
       "output_type": "stream",
       "stream": "stdout",
       "text": [
        "\n",
        "aysev"
       ]
      },
      {
       "output_type": "stream",
       "stream": "stdout",
       "text": [
        "\n",
        "jolay"
       ]
      },
      {
       "output_type": "stream",
       "stream": "stdout",
       "text": [
        "\n",
        "LovewhorlsKnits"
       ]
      },
      {
       "output_type": "stream",
       "stream": "stdout",
       "text": [
        "\n",
        "KennaInAfrica"
       ]
      },
      {
       "output_type": "stream",
       "stream": "stdout",
       "text": [
        "\n",
        "LittleRetronome"
       ]
      },
      {
       "output_type": "stream",
       "stream": "stdout",
       "text": [
        "\n",
        "emmifaye"
       ]
      },
      {
       "output_type": "stream",
       "stream": "stdout",
       "text": [
        "\n",
        "zxcvvcxz"
       ]
      },
      {
       "output_type": "stream",
       "stream": "stdout",
       "text": [
        "\n",
        "CelesteandCompany"
       ]
      },
      {
       "output_type": "stream",
       "stream": "stdout",
       "text": [
        "\n",
        "AuBoutduPre"
       ]
      },
      {
       "output_type": "stream",
       "stream": "stdout",
       "text": [
        "\n",
        "Mariiko"
       ]
      },
      {
       "output_type": "stream",
       "stream": "stdout",
       "text": [
        "\n",
        "DiceKnits"
       ]
      },
      {
       "output_type": "stream",
       "stream": "stdout",
       "text": [
        "\n",
        "TheWoolyBirch"
       ]
      },
      {
       "output_type": "stream",
       "stream": "stdout",
       "text": [
        "\n",
        "NoKnotKnits"
       ]
      },
      {
       "output_type": "stream",
       "stream": "stdout",
       "text": [
        "\n",
        "CrochetYourBaby"
       ]
      },
      {
       "output_type": "stream",
       "stream": "stdout",
       "text": [
        "\n",
        "THIMBLEandACORN"
       ]
      },
      {
       "output_type": "stream",
       "stream": "stdout",
       "text": [
        "\n",
        "GoCrochetCreations"
       ]
      },
      {
       "output_type": "stream",
       "stream": "stdout",
       "text": [
        "\n",
        "DebGHats"
       ]
      },
      {
       "output_type": "stream",
       "stream": "stdout",
       "text": [
        "\n",
        "StayatHomeStitchings"
       ]
      },
      {
       "output_type": "stream",
       "stream": "stdout",
       "text": [
        "\n",
        "forthetiny"
       ]
      },
      {
       "output_type": "stream",
       "stream": "stdout",
       "text": [
        "\n",
        "MercierMarche"
       ]
      },
      {
       "output_type": "stream",
       "stream": "stdout",
       "text": [
        "\n",
        "EnchantedLandofFelt"
       ]
      },
      {
       "output_type": "stream",
       "stream": "stdout",
       "text": [
        "\n",
        "AKCraftyLady"
       ]
      },
      {
       "output_type": "stream",
       "stream": "stdout",
       "text": [
        "\n",
        "dahliasoleil"
       ]
      },
      {
       "output_type": "stream",
       "stream": "stdout",
       "text": [
        "\n",
        "saracarr"
       ]
      },
      {
       "output_type": "stream",
       "stream": "stdout",
       "text": [
        "\n",
        "MomohanaKobo"
       ]
      },
      {
       "output_type": "stream",
       "stream": "stdout",
       "text": [
        "\n",
        "lucymir"
       ]
      },
      {
       "output_type": "stream",
       "stream": "stdout",
       "text": [
        "\n",
        "MelissaAndElizabethe"
       ]
      },
      {
       "output_type": "stream",
       "stream": "stdout",
       "text": [
        "\n",
        "FashionTouch"
       ]
      },
      {
       "output_type": "stream",
       "stream": "stdout",
       "text": [
        "\n",
        "WylieOwlVintage"
       ]
      },
      {
       "output_type": "stream",
       "stream": "stdout",
       "text": [
        "\n",
        "PeonyBlossoms"
       ]
      },
      {
       "output_type": "stream",
       "stream": "stdout",
       "text": [
        "\n",
        "TiasTerrificThreads"
       ]
      },
      {
       "output_type": "stream",
       "stream": "stdout",
       "text": [
        "\n",
        "BirdsKeptNorth"
       ]
      },
      {
       "output_type": "stream",
       "stream": "stdout",
       "text": [
        "\n",
        "SOFTKNOT"
       ]
      },
      {
       "output_type": "stream",
       "stream": "stdout",
       "text": [
        "\n",
        "cherlynnephotography"
       ]
      },
      {
       "output_type": "stream",
       "stream": "stdout",
       "text": [
        "\n",
        "SunnyCsc"
       ]
      },
      {
       "output_type": "stream",
       "stream": "stdout",
       "text": [
        "\n",
        "DarylAndCat"
       ]
      },
      {
       "output_type": "stream",
       "stream": "stdout",
       "text": [
        "\n",
        "barleyandflax"
       ]
      },
      {
       "output_type": "stream",
       "stream": "stdout",
       "text": [
        "\n",
        "CharlesIsabella"
       ]
      },
      {
       "output_type": "stream",
       "stream": "stdout",
       "text": [
        "\n",
        "AlbadoFashion"
       ]
      },
      {
       "output_type": "stream",
       "stream": "stdout",
       "text": [
        "\n",
        "knottycreationsbyET"
       ]
      },
      {
       "output_type": "stream",
       "stream": "stdout",
       "text": [
        "\n",
        "byHeatherMarie"
       ]
      },
      {
       "output_type": "stream",
       "stream": "stdout",
       "text": [
        "\n",
        "shopknitsandprints"
       ]
      },
      {
       "output_type": "stream",
       "stream": "stdout",
       "text": [
        "\n",
        "MurvaDesign"
       ]
      },
      {
       "output_type": "stream",
       "stream": "stdout",
       "text": [
        "\n",
        "ChicAndSheep"
       ]
      },
      {
       "output_type": "stream",
       "stream": "stdout",
       "text": [
        "\n",
        "LaBottegaDiViviana"
       ]
      },
      {
       "output_type": "stream",
       "stream": "stdout",
       "text": [
        "\n",
        "LittleBuffaloKnits"
       ]
      },
      {
       "output_type": "stream",
       "stream": "stdout",
       "text": [
        "\n",
        "mellowfury"
       ]
      },
      {
       "output_type": "stream",
       "stream": "stdout",
       "text": [
        "\n",
        "judy03452"
       ]
      },
      {
       "output_type": "stream",
       "stream": "stdout",
       "text": [
        "\n",
        "longbeachdesigns"
       ]
      },
      {
       "output_type": "stream",
       "stream": "stdout",
       "text": [
        "\n",
        "FernwehUK"
       ]
      },
      {
       "output_type": "stream",
       "stream": "stdout",
       "text": [
        "\n",
        "DesigningEva"
       ]
      },
      {
       "output_type": "stream",
       "stream": "stdout",
       "text": [
        "\n",
        "TheUrbanSquirrel1"
       ]
      },
      {
       "output_type": "stream",
       "stream": "stdout",
       "text": [
        "\n",
        "ScarvesOnSunday"
       ]
      },
      {
       "output_type": "stream",
       "stream": "stdout",
       "text": [
        "\n",
        "NavaVK"
       ]
      },
      {
       "output_type": "stream",
       "stream": "stdout",
       "text": [
        "\n",
        "PamelaLiz"
       ]
      },
      {
       "output_type": "stream",
       "stream": "stdout",
       "text": [
        "\n",
        "NeedleGraceBoutique"
       ]
      },
      {
       "output_type": "stream",
       "stream": "stdout",
       "text": [
        "\n",
        "KnitsByVicks"
       ]
      },
      {
       "output_type": "stream",
       "stream": "stdout",
       "text": [
        "\n",
        "Julbyjuliagasin"
       ]
      },
      {
       "output_type": "stream",
       "stream": "stdout",
       "text": [
        "\n",
        "KookaburraBaby"
       ]
      },
      {
       "output_type": "stream",
       "stream": "stdout",
       "text": [
        "\n",
        "OrganicScarf"
       ]
      },
      {
       "output_type": "stream",
       "stream": "stdout",
       "text": [
        "\n",
        "WearitWellvintage"
       ]
      },
      {
       "output_type": "stream",
       "stream": "stdout",
       "text": [
        "\n",
        "SleepyToys"
       ]
      },
      {
       "output_type": "stream",
       "stream": "stdout",
       "text": [
        "\n",
        "Notforeat"
       ]
      },
      {
       "output_type": "stream",
       "stream": "stdout",
       "text": [
        "\n",
        "AngelHeartRanch"
       ]
      },
      {
       "output_type": "stream",
       "stream": "stdout",
       "text": [
        "\n",
        "allasattic"
       ]
      },
      {
       "output_type": "stream",
       "stream": "stdout",
       "text": [
        "\n",
        "hookandyarnlover"
       ]
      },
      {
       "output_type": "stream",
       "stream": "stdout",
       "text": [
        "\n",
        "GibsonHollow"
       ]
      },
      {
       "output_type": "stream",
       "stream": "stdout",
       "text": [
        "\n",
        "ElianasKnittings"
       ]
      },
      {
       "output_type": "stream",
       "stream": "stdout",
       "text": [
        "\n",
        "AnniRoss"
       ]
      },
      {
       "output_type": "stream",
       "stream": "stdout",
       "text": [
        "\n",
        "Knitkozi"
       ]
      },
      {
       "output_type": "stream",
       "stream": "stdout",
       "text": [
        "\n",
        "LoreNovedades"
       ]
      },
      {
       "output_type": "stream",
       "stream": "stdout",
       "text": [
        "\n",
        "SweetPeaBoutiques"
       ]
      },
      {
       "output_type": "stream",
       "stream": "stdout",
       "text": [
        "\n",
        "CooloRoonie"
       ]
      },
      {
       "output_type": "stream",
       "stream": "stdout",
       "text": [
        "\n",
        "GloriousMorn"
       ]
      },
      {
       "output_type": "stream",
       "stream": "stdout",
       "text": [
        "\n",
        "TwoPeasInAPodCo"
       ]
      },
      {
       "output_type": "stream",
       "stream": "stdout",
       "text": [
        "\n",
        "HeavenandHandKnits"
       ]
      },
      {
       "output_type": "stream",
       "stream": "stdout",
       "text": [
        "\n",
        "MotherGooseKnits"
       ]
      },
      {
       "output_type": "stream",
       "stream": "stdout",
       "text": [
        "\n",
        "handmadebysarajean"
       ]
      },
      {
       "output_type": "stream",
       "stream": "stdout",
       "text": [
        "\n",
        "PuttingontheKnits"
       ]
      },
      {
       "output_type": "stream",
       "stream": "stdout",
       "text": [
        "\n",
        "CampCousinsCrafts"
       ]
      },
      {
       "output_type": "stream",
       "stream": "stdout",
       "text": [
        "\n",
        "KattysHandcrafts"
       ]
      },
      {
       "output_type": "stream",
       "stream": "stdout",
       "text": [
        "\n",
        "JKnitting"
       ]
      },
      {
       "output_type": "stream",
       "stream": "stdout",
       "text": [
        "\n",
        "KnitsByKB"
       ]
      },
      {
       "output_type": "stream",
       "stream": "stdout",
       "text": [
        "\n",
        "MaggieandGray"
       ]
      },
      {
       "output_type": "stream",
       "stream": "stdout",
       "text": [
        "\n",
        "TheRaccoonery"
       ]
      },
      {
       "output_type": "stream",
       "stream": "stdout",
       "text": [
        "\n",
        "LazyTurtleCo"
       ]
      },
      {
       "output_type": "stream",
       "stream": "stdout",
       "text": [
        "\n",
        "SusieAccessories"
       ]
      },
      {
       "output_type": "stream",
       "stream": "stdout",
       "text": [
        "\n",
        "PaulistaAvenue"
       ]
      },
      {
       "output_type": "stream",
       "stream": "stdout",
       "text": [
        "\n",
        "PreciousNewbornKnits"
       ]
      },
      {
       "output_type": "stream",
       "stream": "stdout",
       "text": [
        "\n",
        "WhiteGloveVintage"
       ]
      },
      {
       "output_type": "stream",
       "stream": "stdout",
       "text": [
        "\n",
        "BaroqueAndRoll"
       ]
      },
      {
       "output_type": "stream",
       "stream": "stdout",
       "text": [
        "\n",
        "fashionablekids"
       ]
      },
      {
       "output_type": "stream",
       "stream": "stdout",
       "text": [
        "\n",
        "kristine1986"
       ]
      },
      {
       "output_type": "stream",
       "stream": "stdout",
       "text": [
        "\n",
        "byjocreations"
       ]
      },
      {
       "output_type": "stream",
       "stream": "stdout",
       "text": [
        "\n",
        "SMQdesigns"
       ]
      },
      {
       "output_type": "stream",
       "stream": "stdout",
       "text": [
        "\n",
        "AniTaller"
       ]
      },
      {
       "output_type": "stream",
       "stream": "stdout",
       "text": [
        "\n",
        "VioletUnderground"
       ]
      },
      {
       "output_type": "stream",
       "stream": "stdout",
       "text": [
        "\n",
        "Hanakos"
       ]
      },
      {
       "output_type": "stream",
       "stream": "stdout",
       "text": [
        "\n",
        "simplybasicdesigns"
       ]
      },
      {
       "output_type": "stream",
       "stream": "stdout",
       "text": [
        "\n",
        "FashionelleStudio"
       ]
      },
      {
       "output_type": "stream",
       "stream": "stdout",
       "text": [
        "\n",
        "KilbellaVintage"
       ]
      },
      {
       "output_type": "stream",
       "stream": "stdout",
       "text": [
        "\n",
        "PrincessTaraCo"
       ]
      },
      {
       "output_type": "stream",
       "stream": "stdout",
       "text": [
        "\n",
        "texturable"
       ]
      },
      {
       "output_type": "stream",
       "stream": "stdout",
       "text": [
        "\n",
        "LilyAccessorises"
       ]
      },
      {
       "output_type": "stream",
       "stream": "stdout",
       "text": [
        "\n",
        "mimsyinmaine"
       ]
      },
      {
       "output_type": "stream",
       "stream": "stdout",
       "text": [
        "\n",
        "ArticleApparel"
       ]
      },
      {
       "output_type": "stream",
       "stream": "stdout",
       "text": [
        "\n",
        "yuliatko"
       ]
      },
      {
       "output_type": "stream",
       "stream": "stdout",
       "text": [
        "\n",
        "CarlyCreatesCrafts"
       ]
      },
      {
       "output_type": "stream",
       "stream": "stdout",
       "text": [
        "\n",
        "ChicVintagePatterns"
       ]
      },
      {
       "output_type": "stream",
       "stream": "stdout",
       "text": [
        "\n",
        "beautifulplace"
       ]
      },
      {
       "output_type": "stream",
       "stream": "stdout",
       "text": [
        "\n",
        "MarroCraft"
       ]
      },
      {
       "output_type": "stream",
       "stream": "stdout",
       "text": [
        "\n",
        "KatarinaHats"
       ]
      },
      {
       "output_type": "stream",
       "stream": "stdout",
       "text": [
        "\n",
        "LittleCottonShop"
       ]
      },
      {
       "output_type": "stream",
       "stream": "stdout",
       "text": [
        "\n",
        "Cowichans"
       ]
      },
      {
       "output_type": "stream",
       "stream": "stdout",
       "text": [
        "\n",
        "RodiAndSuzi"
       ]
      },
      {
       "output_type": "stream",
       "stream": "stdout",
       "text": [
        "\n",
        "BlytheCouture"
       ]
      },
      {
       "output_type": "stream",
       "stream": "stdout",
       "text": [
        "\n",
        "WhichStitch123"
       ]
      },
      {
       "output_type": "stream",
       "stream": "stdout",
       "text": [
        "\n",
        "AshleysHomeSpun"
       ]
      },
      {
       "output_type": "stream",
       "stream": "stdout",
       "text": [
        "\n",
        "BetaGoods"
       ]
      },
      {
       "output_type": "stream",
       "stream": "stdout",
       "text": [
        "\n",
        "j2studioscraft"
       ]
      },
      {
       "output_type": "stream",
       "stream": "stdout",
       "text": [
        "\n",
        "Hemiao"
       ]
      },
      {
       "output_type": "stream",
       "stream": "stdout",
       "text": [
        "\n",
        "FistfulOfVintage"
       ]
      },
      {
       "output_type": "stream",
       "stream": "stdout",
       "text": [
        "\n",
        "SmallPinkGiraffe"
       ]
      },
      {
       "output_type": "stream",
       "stream": "stdout",
       "text": [
        "\n",
        "Hatsforhounds"
       ]
      },
      {
       "output_type": "stream",
       "stream": "stdout",
       "text": [
        "\n",
        "JandSKnitts"
       ]
      },
      {
       "output_type": "stream",
       "stream": "stdout",
       "text": [
        "\n",
        "MAChic"
       ]
      },
      {
       "output_type": "stream",
       "stream": "stdout",
       "text": [
        "\n",
        "EnchantingChildhood"
       ]
      },
      {
       "output_type": "stream",
       "stream": "stdout",
       "text": [
        "\n",
        "Tanyshaknitware"
       ]
      },
      {
       "output_type": "stream",
       "stream": "stdout",
       "text": [
        "\n",
        "Shelly6262"
       ]
      },
      {
       "output_type": "stream",
       "stream": "stdout",
       "text": [
        "\n",
        "OYASHOP"
       ]
      },
      {
       "output_type": "stream",
       "stream": "stdout",
       "text": [
        "\n",
        "CozyPavillion"
       ]
      },
      {
       "output_type": "stream",
       "stream": "stdout",
       "text": [
        "\n",
        "TheBirdTales"
       ]
      },
      {
       "output_type": "stream",
       "stream": "stdout",
       "text": [
        "\n",
        "simplyyarn27"
       ]
      },
      {
       "output_type": "stream",
       "stream": "stdout",
       "text": [
        "\n",
        "maddyandme"
       ]
      },
      {
       "output_type": "stream",
       "stream": "stdout",
       "text": [
        "\n",
        "SebastianLovesKnit"
       ]
      },
      {
       "output_type": "stream",
       "stream": "stdout",
       "text": [
        "\n",
        "LauraHandKnits"
       ]
      },
      {
       "output_type": "stream",
       "stream": "stdout",
       "text": [
        "\n",
        "KnitBuddy"
       ]
      },
      {
       "output_type": "stream",
       "stream": "stdout",
       "text": [
        "\n",
        "gentletouch11"
       ]
      },
      {
       "output_type": "stream",
       "stream": "stdout",
       "text": [
        "\n",
        "EcoStreet"
       ]
      },
      {
       "output_type": "stream",
       "stream": "stdout",
       "text": [
        "\n",
        "TheNewtonLabel"
       ]
      },
      {
       "output_type": "stream",
       "stream": "stdout",
       "text": [
        "\n",
        "belovedLT"
       ]
      },
      {
       "output_type": "stream",
       "stream": "stdout",
       "text": [
        "\n",
        "LaBottegaDiChicco"
       ]
      },
      {
       "output_type": "stream",
       "stream": "stdout",
       "text": [
        "\n",
        "WishKnits"
       ]
      },
      {
       "output_type": "stream",
       "stream": "stdout",
       "text": [
        "\n",
        "thekittensmittensuk"
       ]
      },
      {
       "output_type": "stream",
       "stream": "stdout",
       "text": [
        "\n",
        "thymeline"
       ]
      },
      {
       "output_type": "stream",
       "stream": "stdout",
       "text": [
        "\n",
        "KnitandLoomstudio"
       ]
      },
      {
       "output_type": "stream",
       "stream": "stdout",
       "text": [
        "\n",
        "TheCraftyJackalope"
       ]
      },
      {
       "output_type": "stream",
       "stream": "stdout",
       "text": [
        "\n",
        "DancingTigerGifts"
       ]
      },
      {
       "output_type": "stream",
       "stream": "stdout",
       "text": [
        "\n",
        "MGknitting"
       ]
      },
      {
       "output_type": "stream",
       "stream": "stdout",
       "text": [
        "\n",
        "Need4KnitShop"
       ]
      },
      {
       "output_type": "stream",
       "stream": "stdout",
       "text": [
        "\n",
        "RedPepperHats"
       ]
      },
      {
       "output_type": "stream",
       "stream": "stdout",
       "text": [
        "\n",
        "Nastiin"
       ]
      },
      {
       "output_type": "stream",
       "stream": "stdout",
       "text": [
        "\n",
        "IstanbulCalling"
       ]
      },
      {
       "output_type": "stream",
       "stream": "stdout",
       "text": [
        "\n",
        "MsDeborahKnitter"
       ]
      },
      {
       "output_type": "stream",
       "stream": "stdout",
       "text": [
        "\n",
        "lanacooper"
       ]
      },
      {
       "output_type": "stream",
       "stream": "stdout",
       "text": [
        "\n",
        "FawnVintage01"
       ]
      },
      {
       "output_type": "stream",
       "stream": "stdout",
       "text": [
        "\n",
        "KnitWithLoveByDana"
       ]
      },
      {
       "output_type": "stream",
       "stream": "stdout",
       "text": [
        "\n",
        "SuperChicDollies"
       ]
      },
      {
       "output_type": "stream",
       "stream": "stdout",
       "text": [
        "\n",
        "CandesCustomHats"
       ]
      },
      {
       "output_type": "stream",
       "stream": "stdout",
       "text": [
        "\n",
        "KnittingCrochetKLM"
       ]
      },
      {
       "output_type": "stream",
       "stream": "stdout",
       "text": [
        "\n",
        "itsybitsyknitting"
       ]
      },
      {
       "output_type": "stream",
       "stream": "stdout",
       "text": [
        "\n",
        "PeroskiDesign"
       ]
      },
      {
       "output_type": "stream",
       "stream": "stdout",
       "text": [
        "\n",
        "magicwoolball"
       ]
      },
      {
       "output_type": "stream",
       "stream": "stdout",
       "text": [
        "\n",
        "bangbangfur"
       ]
      },
      {
       "output_type": "stream",
       "stream": "stdout",
       "text": [
        "\n",
        "hipposdream"
       ]
      },
      {
       "output_type": "stream",
       "stream": "stdout",
       "text": [
        "\n",
        "GayleNeely"
       ]
      },
      {
       "output_type": "stream",
       "stream": "stdout",
       "text": [
        "\n",
        "StitchwerxDesigns"
       ]
      },
      {
       "output_type": "stream",
       "stream": "stdout",
       "text": [
        "\n",
        "KristinaBari"
       ]
      },
      {
       "output_type": "stream",
       "stream": "stdout",
       "text": [
        "\n",
        "WhisperingDreams"
       ]
      },
      {
       "output_type": "stream",
       "stream": "stdout",
       "text": [
        "\n",
        "SeaSprayKnits"
       ]
      },
      {
       "output_type": "stream",
       "stream": "stdout",
       "text": [
        "\n",
        "WheatfieldKnitwear"
       ]
      },
      {
       "output_type": "stream",
       "stream": "stdout",
       "text": [
        "\n",
        "LittleKnittyThings"
       ]
      },
      {
       "output_type": "stream",
       "stream": "stdout",
       "text": [
        "\n",
        "ArtsyTreats"
       ]
      },
      {
       "output_type": "stream",
       "stream": "stdout",
       "text": [
        "\n",
        "juliegalbraith"
       ]
      },
      {
       "output_type": "stream",
       "stream": "stdout",
       "text": [
        "\n",
        "knitland24"
       ]
      },
      {
       "output_type": "stream",
       "stream": "stdout",
       "text": [
        "\n",
        "KnittingPrettyotFarm"
       ]
      },
      {
       "output_type": "stream",
       "stream": "stdout",
       "text": [
        "\n",
        "WestEndCo"
       ]
      },
      {
       "output_type": "stream",
       "stream": "stdout",
       "text": [
        "\n",
        "MillCityStitches"
       ]
      },
      {
       "output_type": "stream",
       "stream": "stdout",
       "text": [
        "\n",
        "TheLavishOwl"
       ]
      },
      {
       "output_type": "stream",
       "stream": "stdout",
       "text": [
        "\n",
        "BiKay"
       ]
      },
      {
       "output_type": "stream",
       "stream": "stdout",
       "text": [
        "\n",
        "EmofoFashion"
       ]
      },
      {
       "output_type": "stream",
       "stream": "stdout",
       "text": [
        "\n",
        "ZukasKidsKnits"
       ]
      },
      {
       "output_type": "stream",
       "stream": "stdout",
       "text": [
        "\n",
        "NorthStarAlpacas"
       ]
      },
      {
       "output_type": "stream",
       "stream": "stdout",
       "text": [
        "\n",
        "HANDKNITS2LOVE"
       ]
      },
      {
       "output_type": "stream",
       "stream": "stdout",
       "text": [
        "\n",
        "HouseofJulio"
       ]
      },
      {
       "output_type": "stream",
       "stream": "stdout",
       "text": [
        "\n",
        "HeavenSentHandmade"
       ]
      },
      {
       "output_type": "stream",
       "stream": "stdout",
       "text": [
        "\n",
        "PomPonWear"
       ]
      },
      {
       "output_type": "stream",
       "stream": "stdout",
       "text": [
        "\n",
        "SCHandmade"
       ]
      },
      {
       "output_type": "stream",
       "stream": "stdout",
       "text": [
        "\n",
        "MyLittleKnits"
       ]
      },
      {
       "output_type": "stream",
       "stream": "stdout",
       "text": [
        "\n",
        "SnassyCrafter"
       ]
      },
      {
       "output_type": "stream",
       "stream": "stdout",
       "text": [
        "\n",
        "LoveFromNewZealand"
       ]
      },
      {
       "output_type": "stream",
       "stream": "stdout",
       "text": [
        "\n",
        "BabasBabyProps"
       ]
      },
      {
       "output_type": "stream",
       "stream": "stdout",
       "text": [
        "\n",
        "HollysUniqueBoutique"
       ]
      },
      {
       "output_type": "stream",
       "stream": "stdout",
       "text": [
        "\n",
        "katerynaG"
       ]
      },
      {
       "output_type": "stream",
       "stream": "stdout",
       "text": [
        "\n",
        "PoppiesandPeanuts"
       ]
      },
      {
       "output_type": "stream",
       "stream": "stdout",
       "text": [
        "\n",
        "sewurbandesigns"
       ]
      },
      {
       "output_type": "stream",
       "stream": "stdout",
       "text": [
        "\n",
        "rocksandsalt"
       ]
      },
      {
       "output_type": "stream",
       "stream": "stdout",
       "text": [
        "\n",
        "lorettascarves"
       ]
      },
      {
       "output_type": "stream",
       "stream": "stdout",
       "text": [
        "\n",
        "HolyHatz"
       ]
      },
      {
       "output_type": "stream",
       "stream": "stdout",
       "text": [
        "\n",
        "ElenaYarovayaCrochet"
       ]
      },
      {
       "output_type": "stream",
       "stream": "stdout",
       "text": [
        "\n",
        "PreciousKnits"
       ]
      },
      {
       "output_type": "stream",
       "stream": "stdout",
       "text": [
        "\n",
        "HatsAndOtherStories"
       ]
      },
      {
       "output_type": "stream",
       "stream": "stdout",
       "text": [
        "\n",
        "FightingLeukemia"
       ]
      },
      {
       "output_type": "stream",
       "stream": "stdout",
       "text": [
        "\n",
        "Beadasherie"
       ]
      },
      {
       "output_type": "stream",
       "stream": "stdout",
       "text": [
        "\n",
        "BetelgeuseBrand"
       ]
      },
      {
       "output_type": "stream",
       "stream": "stdout",
       "text": [
        "\n",
        "bysweetmom"
       ]
      },
      {
       "output_type": "stream",
       "stream": "stdout",
       "text": [
        "\n",
        "LioncubCreations"
       ]
      },
      {
       "output_type": "stream",
       "stream": "stdout",
       "text": [
        "\n",
        "beautymanifesto"
       ]
      },
      {
       "output_type": "stream",
       "stream": "stdout",
       "text": [
        "\n",
        "PaganDreams13"
       ]
      },
      {
       "output_type": "stream",
       "stream": "stdout",
       "text": [
        "\n",
        "Hookinhandcreations"
       ]
      },
      {
       "output_type": "stream",
       "stream": "stdout",
       "text": [
        "\n",
        "frecklesnsass"
       ]
      },
      {
       "output_type": "stream",
       "stream": "stdout",
       "text": [
        "\n",
        "owlyknits"
       ]
      },
      {
       "output_type": "stream",
       "stream": "stdout",
       "text": [
        "\n",
        "KokomoLady"
       ]
      },
      {
       "output_type": "stream",
       "stream": "stdout",
       "text": [
        "\n",
        "GoldenGirlzHandmade"
       ]
      },
      {
       "output_type": "stream",
       "stream": "stdout",
       "text": [
        "\n",
        "OliveHats"
       ]
      },
      {
       "output_type": "stream",
       "stream": "stdout",
       "text": [
        "\n",
        "TanyasBunnyTots"
       ]
      },
      {
       "output_type": "stream",
       "stream": "stdout",
       "text": [
        "\n",
        "UptownKnits"
       ]
      },
      {
       "output_type": "stream",
       "stream": "stdout",
       "text": [
        "\n",
        "TepperWear"
       ]
      },
      {
       "output_type": "stream",
       "stream": "stdout",
       "text": [
        "\n",
        "herie7"
       ]
      },
      {
       "output_type": "stream",
       "stream": "stdout",
       "text": [
        "\n",
        "MirjanaKnittings"
       ]
      },
      {
       "output_type": "stream",
       "stream": "stdout",
       "text": [
        "\n",
        "hippiehousedesigns"
       ]
      },
      {
       "output_type": "stream",
       "stream": "stdout",
       "text": [
        "\n",
        "tinab76"
       ]
      },
      {
       "output_type": "stream",
       "stream": "stdout",
       "text": [
        "\n",
        "PinkyTease"
       ]
      },
      {
       "output_type": "stream",
       "stream": "stdout",
       "text": [
        "\n",
        "BeeHappyBoutique"
       ]
      },
      {
       "output_type": "stream",
       "stream": "stdout",
       "text": [
        "\n",
        "OnwardOnward"
       ]
      },
      {
       "output_type": "stream",
       "stream": "stdout",
       "text": [
        "\n",
        "TheSpiritOfTheWest"
       ]
      },
      {
       "output_type": "stream",
       "stream": "stdout",
       "text": [
        "\n",
        "LAMMYKNITS"
       ]
      },
      {
       "output_type": "stream",
       "stream": "stdout",
       "text": [
        "\n",
        "MadeByMiculinko"
       ]
      },
      {
       "output_type": "stream",
       "stream": "stdout",
       "text": [
        "\n",
        "HunkyDoriBoutique"
       ]
      },
      {
       "output_type": "stream",
       "stream": "stdout",
       "text": [
        "\n",
        "LavenderBlossoms"
       ]
      },
      {
       "output_type": "stream",
       "stream": "stdout",
       "text": [
        "\n",
        "awkward"
       ]
      },
      {
       "output_type": "stream",
       "stream": "stdout",
       "text": [
        "\n",
        "FirstChairClothing"
       ]
      },
      {
       "output_type": "stream",
       "stream": "stdout",
       "text": [
        "\n",
        "JerseyThursdayKnits"
       ]
      },
      {
       "output_type": "stream",
       "stream": "stdout",
       "text": [
        "\n",
        "TheKnitPanda"
       ]
      },
      {
       "output_type": "stream",
       "stream": "stdout",
       "text": [
        "\n",
        "SqueakandMoon"
       ]
      },
      {
       "output_type": "stream",
       "stream": "stdout",
       "text": [
        "\n",
        "OldSchoolSwank"
       ]
      },
      {
       "output_type": "stream",
       "stream": "stdout",
       "text": [
        "\n",
        "HideyHoleHats"
       ]
      },
      {
       "output_type": "stream",
       "stream": "stdout",
       "text": [
        "\n",
        "SamniengDesigns"
       ]
      },
      {
       "output_type": "stream",
       "stream": "stdout",
       "text": [
        "\n",
        "CrochetMyLove"
       ]
      },
      {
       "output_type": "stream",
       "stream": "stdout",
       "text": [
        "\n",
        "BethWintersBoutique"
       ]
      },
      {
       "output_type": "stream",
       "stream": "stdout",
       "text": [
        "\n",
        "JHknitter"
       ]
      },
      {
       "output_type": "stream",
       "stream": "stdout",
       "text": [
        "\n",
        "KnitterPrincess"
       ]
      },
      {
       "output_type": "stream",
       "stream": "stdout",
       "text": [
        "\n",
        "artnida"
       ]
      },
      {
       "output_type": "stream",
       "stream": "stdout",
       "text": [
        "\n",
        "GraceKnittingPattern"
       ]
      },
      {
       "output_type": "stream",
       "stream": "stdout",
       "text": [
        "\n",
        "totoknitskenya"
       ]
      },
      {
       "output_type": "stream",
       "stream": "stdout",
       "text": [
        "\n",
        "JUknitwaves"
       ]
      },
      {
       "output_type": "stream",
       "stream": "stdout",
       "text": [
        "\n",
        "JustImagineAlaska"
       ]
      },
      {
       "output_type": "stream",
       "stream": "stdout",
       "text": [
        "\n",
        "Pella"
       ]
      },
      {
       "output_type": "stream",
       "stream": "stdout",
       "text": [
        "\n",
        "HeatherGaleaDesigns"
       ]
      },
      {
       "output_type": "stream",
       "stream": "stdout",
       "text": [
        "\n",
        "peonijahandmadeshop"
       ]
      },
      {
       "output_type": "stream",
       "stream": "stdout",
       "text": [
        "\n",
        "MoonlightLittleKnits"
       ]
      },
      {
       "output_type": "stream",
       "stream": "stdout",
       "text": [
        "\n",
        "NaturallyUnraveled"
       ]
      },
      {
       "output_type": "stream",
       "stream": "stdout",
       "text": [
        "\n",
        "pegsyarncreations"
       ]
      },
      {
       "output_type": "stream",
       "stream": "stdout",
       "text": [
        "\n",
        "NohoMiscellaneous"
       ]
      },
      {
       "output_type": "stream",
       "stream": "stdout",
       "text": [
        "\n",
        "MyKnittedTreasures"
       ]
      },
      {
       "output_type": "stream",
       "stream": "stdout",
       "text": [
        "\n",
        "Mybebito"
       ]
      },
      {
       "output_type": "stream",
       "stream": "stdout",
       "text": [
        "\n",
        "yagmurhat"
       ]
      },
      {
       "output_type": "stream",
       "stream": "stdout",
       "text": [
        "\n",
        "ChickSale"
       ]
      },
      {
       "output_type": "stream",
       "stream": "stdout",
       "text": [
        "\n",
        "SJAWoodesign"
       ]
      },
      {
       "output_type": "stream",
       "stream": "stdout",
       "text": [
        "\n",
        "Thingswelike2knit"
       ]
      },
      {
       "output_type": "stream",
       "stream": "stdout",
       "text": [
        "\n",
        "WNBrunk"
       ]
      },
      {
       "output_type": "stream",
       "stream": "stdout",
       "text": [
        "\n",
        "ChristaEllen"
       ]
      },
      {
       "output_type": "stream",
       "stream": "stdout",
       "text": [
        "\n",
        "recyclingroom"
       ]
      },
      {
       "output_type": "stream",
       "stream": "stdout",
       "text": [
        "\n",
        "MoonwolfStudios"
       ]
      },
      {
       "output_type": "stream",
       "stream": "stdout",
       "text": [
        "\n",
        "ClassicBabyWhites"
       ]
      },
      {
       "output_type": "stream",
       "stream": "stdout",
       "text": [
        "\n",
        "WhimsicalWarmthProps"
       ]
      },
      {
       "output_type": "stream",
       "stream": "stdout",
       "text": [
        "\n",
        "mybabyhats"
       ]
      },
      {
       "output_type": "stream",
       "stream": "stdout",
       "text": [
        "\n",
        "KNITTINGNJEWELRY"
       ]
      },
      {
       "output_type": "stream",
       "stream": "stdout",
       "text": [
        "\n",
        "NuranShop"
       ]
      },
      {
       "output_type": "stream",
       "stream": "stdout",
       "text": [
        "\n",
        "KnittingInStyle"
       ]
      },
      {
       "output_type": "stream",
       "stream": "stdout",
       "text": [
        "\n",
        "VerantinasBoutique"
       ]
      },
      {
       "output_type": "stream",
       "stream": "stdout",
       "text": [
        "\n",
        "TwoStixStudios"
       ]
      },
      {
       "output_type": "stream",
       "stream": "stdout",
       "text": [
        "\n",
        "Dreadstuffs"
       ]
      },
      {
       "output_type": "stream",
       "stream": "stdout",
       "text": [
        "\n",
        "rustiknits"
       ]
      },
      {
       "output_type": "stream",
       "stream": "stdout",
       "text": [
        "\n",
        "lampworkbyjulie"
       ]
      },
      {
       "output_type": "stream",
       "stream": "stdout",
       "text": [
        "\n",
        "ettygeller"
       ]
      },
      {
       "output_type": "stream",
       "stream": "stdout",
       "text": [
        "\n",
        "LoopsyKnits"
       ]
      },
      {
       "output_type": "stream",
       "stream": "stdout",
       "text": [
        "\n",
        "LYMcrafts"
       ]
      },
      {
       "output_type": "stream",
       "stream": "stdout",
       "text": [
        "\n",
        "Britneyshandknits"
       ]
      },
      {
       "output_type": "stream",
       "stream": "stdout",
       "text": [
        "\n",
        "refugium"
       ]
      },
      {
       "output_type": "stream",
       "stream": "stdout",
       "text": [
        "\n",
        "BabyLeCradle"
       ]
      },
      {
       "output_type": "stream",
       "stream": "stdout",
       "text": [
        "\n",
        "Maddiesdivinedesigns"
       ]
      },
      {
       "output_type": "stream",
       "stream": "stdout",
       "text": [
        "\n",
        "OCCASIONsonjabegonia"
       ]
      },
      {
       "output_type": "stream",
       "stream": "stdout",
       "text": [
        "\n",
        "LifesAnExpedition"
       ]
      },
      {
       "output_type": "stream",
       "stream": "stdout",
       "text": [
        "\n",
        "CassiesFactory"
       ]
      },
      {
       "output_type": "stream",
       "stream": "stdout",
       "text": [
        "\n",
        "GunayKulbay"
       ]
      },
      {
       "output_type": "stream",
       "stream": "stdout",
       "text": [
        "\n",
        "EnguKnits"
       ]
      },
      {
       "output_type": "stream",
       "stream": "stdout",
       "text": [
        "\n",
        "AutumnAndAmber"
       ]
      },
      {
       "output_type": "stream",
       "stream": "stdout",
       "text": [
        "\n",
        "JackBentleyKnitwear"
       ]
      },
      {
       "output_type": "stream",
       "stream": "stdout",
       "text": [
        "\n",
        "AngelaRoseBoutique"
       ]
      },
      {
       "output_type": "stream",
       "stream": "stdout",
       "text": [
        "\n",
        "ForgetMeKnotsCrochet"
       ]
      },
      {
       "output_type": "stream",
       "stream": "stdout",
       "text": [
        "\n",
        "kckshop"
       ]
      },
      {
       "output_type": "stream",
       "stream": "stdout",
       "text": [
        "\n",
        "Eastalace"
       ]
      },
      {
       "output_type": "stream",
       "stream": "stdout",
       "text": [
        "\n",
        "CreatingWithSticks"
       ]
      },
      {
       "output_type": "stream",
       "stream": "stdout",
       "text": [
        "\n",
        "PrettyKnitShop"
       ]
      },
      {
       "output_type": "stream",
       "stream": "stdout",
       "text": [
        "\n",
        "bySarahBeth"
       ]
      },
      {
       "output_type": "stream",
       "stream": "stdout",
       "text": [
        "\n",
        "talktothesun"
       ]
      },
      {
       "output_type": "stream",
       "stream": "stdout",
       "text": [
        "\n",
        "AlpacaHats15"
       ]
      },
      {
       "output_type": "stream",
       "stream": "stdout",
       "text": [
        "\n",
        "peppermintpine"
       ]
      },
      {
       "output_type": "stream",
       "stream": "stdout",
       "text": [
        "\n",
        "PetiteIdasCreations"
       ]
      },
      {
       "output_type": "stream",
       "stream": "stdout",
       "text": [
        "\n",
        "Eastknits"
       ]
      },
      {
       "output_type": "stream",
       "stream": "stdout",
       "text": [
        "\n",
        "AplaceofInterest"
       ]
      },
      {
       "output_type": "stream",
       "stream": "stdout",
       "text": [
        "\n",
        "ROIG42"
       ]
      },
      {
       "output_type": "stream",
       "stream": "stdout",
       "text": [
        "\n",
        "Accessodium"
       ]
      },
      {
       "output_type": "stream",
       "stream": "stdout",
       "text": [
        "\n",
        "ICraft4Shoes"
       ]
      },
      {
       "output_type": "stream",
       "stream": "stdout",
       "text": [
        "\n",
        "BloomWorkshop"
       ]
      },
      {
       "output_type": "stream",
       "stream": "stdout",
       "text": [
        "\n",
        "yarnawayknits"
       ]
      },
      {
       "output_type": "stream",
       "stream": "stdout",
       "text": [
        "\n",
        "SpinningStreak"
       ]
      },
      {
       "output_type": "stream",
       "stream": "stdout",
       "text": [
        "\n",
        "AluraCrafts"
       ]
      },
      {
       "output_type": "stream",
       "stream": "stdout",
       "text": [
        "\n",
        "carolynscritter"
       ]
      },
      {
       "output_type": "stream",
       "stream": "stdout",
       "text": [
        "\n",
        "MountainGoth"
       ]
      },
      {
       "output_type": "stream",
       "stream": "stdout",
       "text": [
        "\n",
        "woolythoughts"
       ]
      },
      {
       "output_type": "stream",
       "stream": "stdout",
       "text": [
        "\n",
        "DosiakStyle"
       ]
      },
      {
       "output_type": "stream",
       "stream": "stdout",
       "text": [
        "\n",
        "SistersinCraft"
       ]
      },
      {
       "output_type": "stream",
       "stream": "stdout",
       "text": [
        "\n",
        "proudliving"
       ]
      },
      {
       "output_type": "stream",
       "stream": "stdout",
       "text": [
        "\n",
        "BabyHeff"
       ]
      },
      {
       "output_type": "stream",
       "stream": "stdout",
       "text": [
        "\n",
        "Elegantcrochets"
       ]
      },
      {
       "output_type": "stream",
       "stream": "stdout",
       "text": [
        "\n",
        "BlumenKinderSeattle"
       ]
      },
      {
       "output_type": "stream",
       "stream": "stdout",
       "text": [
        "\n",
        "pocketens"
       ]
      },
      {
       "output_type": "stream",
       "stream": "stdout",
       "text": [
        "\n",
        "EmmettBrown"
       ]
      },
      {
       "output_type": "stream",
       "stream": "stdout",
       "text": [
        "\n",
        "squiished"
       ]
      },
      {
       "output_type": "stream",
       "stream": "stdout",
       "text": [
        "\n",
        "FarEastHandMade"
       ]
      },
      {
       "output_type": "stream",
       "stream": "stdout",
       "text": [
        "\n",
        "FunkyAirBear"
       ]
      },
      {
       "output_type": "stream",
       "stream": "stdout",
       "text": [
        "\n",
        "WendysWonders127"
       ]
      },
      {
       "output_type": "stream",
       "stream": "stdout",
       "text": [
        "\n",
        "SimplyCraftSupplies"
       ]
      },
      {
       "output_type": "stream",
       "stream": "stdout",
       "text": [
        "\n",
        "wiscaliali"
       ]
      },
      {
       "output_type": "stream",
       "stream": "stdout",
       "text": [
        "\n",
        "HandmadeKnitsHats"
       ]
      },
      {
       "output_type": "stream",
       "stream": "stdout",
       "text": [
        "\n",
        "ANMARIKEDECORPLUS"
       ]
      },
      {
       "output_type": "stream",
       "stream": "stdout",
       "text": [
        "\n",
        "CapeCodHandmades"
       ]
      },
      {
       "output_type": "stream",
       "stream": "stdout",
       "text": [
        "\n",
        "ABknits"
       ]
      },
      {
       "output_type": "stream",
       "stream": "stdout",
       "text": [
        "\n",
        "TimelessTreasuresbyB"
       ]
      },
      {
       "output_type": "stream",
       "stream": "stdout",
       "text": [
        "\n",
        "SallyAnnaBoutique"
       ]
      },
      {
       "output_type": "stream",
       "stream": "stdout",
       "text": [
        "\n",
        "Sheepsterscorner"
       ]
      },
      {
       "output_type": "stream",
       "stream": "stdout",
       "text": [
        "\n",
        "NeedleLoveKnits"
       ]
      },
      {
       "output_type": "stream",
       "stream": "stdout",
       "text": [
        "\n",
        "northwardhandcraft"
       ]
      },
      {
       "output_type": "stream",
       "stream": "stdout",
       "text": [
        "\n",
        "Solnishko42"
       ]
      },
      {
       "output_type": "stream",
       "stream": "stdout",
       "text": [
        "\n",
        "DILALOO"
       ]
      },
      {
       "output_type": "stream",
       "stream": "stdout",
       "text": [
        "\n",
        "KoonaYogaWear"
       ]
      },
      {
       "output_type": "stream",
       "stream": "stdout",
       "text": [
        "\n",
        "grannypattern"
       ]
      },
      {
       "output_type": "stream",
       "stream": "stdout",
       "text": [
        "\n",
        "Dashright"
       ]
      },
      {
       "output_type": "stream",
       "stream": "stdout",
       "text": [
        "\n",
        "ByMissSally"
       ]
      },
      {
       "output_type": "stream",
       "stream": "stdout",
       "text": [
        "\n",
        "KnitPacific"
       ]
      },
      {
       "output_type": "stream",
       "stream": "stdout",
       "text": [
        "\n",
        "pingosdoceu"
       ]
      },
      {
       "output_type": "stream",
       "stream": "stdout",
       "text": [
        "\n",
        "ItsyBitsyBlooms"
       ]
      },
      {
       "output_type": "stream",
       "stream": "stdout",
       "text": [
        "\n",
        "fashioned4you"
       ]
      },
      {
       "output_type": "stream",
       "stream": "stdout",
       "text": [
        "\n",
        "SophiaGianna2Sisters"
       ]
      },
      {
       "output_type": "stream",
       "stream": "stdout",
       "text": [
        "\n",
        "littlenestboutique"
       ]
      },
      {
       "output_type": "stream",
       "stream": "stdout",
       "text": [
        "\n",
        "BarbsSewingBasket"
       ]
      },
      {
       "output_type": "stream",
       "stream": "stdout",
       "text": [
        "\n",
        "RedWhiteandSpotty"
       ]
      },
      {
       "output_type": "stream",
       "stream": "stdout",
       "text": [
        "\n",
        "TLVgoods"
       ]
      },
      {
       "output_type": "stream",
       "stream": "stdout",
       "text": [
        "\n",
        "KnittedJoys"
       ]
      },
      {
       "output_type": "stream",
       "stream": "stdout",
       "text": [
        "\n",
        "ytang"
       ]
      },
      {
       "output_type": "stream",
       "stream": "stdout",
       "text": [
        "\n",
        "Nakkashe"
       ]
      },
      {
       "output_type": "stream",
       "stream": "stdout",
       "text": [
        "\n",
        "djfleesh"
       ]
      },
      {
       "output_type": "stream",
       "stream": "stdout",
       "text": [
        "\n",
        "Worldsofknitted"
       ]
      },
      {
       "output_type": "stream",
       "stream": "stdout",
       "text": [
        "\n",
        "rerunvintage"
       ]
      },
      {
       "output_type": "stream",
       "stream": "stdout",
       "text": [
        "\n",
        "knitwit321"
       ]
      },
      {
       "output_type": "stream",
       "stream": "stdout",
       "text": [
        "\n",
        "YulemKnits"
       ]
      },
      {
       "output_type": "stream",
       "stream": "stdout",
       "text": [
        "\n",
        "3PeasinaPod15"
       ]
      },
      {
       "output_type": "stream",
       "stream": "stdout",
       "text": [
        "\n",
        "KamiHats"
       ]
      },
      {
       "output_type": "stream",
       "stream": "stdout",
       "text": [
        "\n",
        "SewCuteQuiltAndKnit"
       ]
      },
      {
       "output_type": "stream",
       "stream": "stdout",
       "text": [
        "\n",
        "Blissfulloops"
       ]
      },
      {
       "output_type": "stream",
       "stream": "stdout",
       "text": [
        "\n",
        "PERFECTLYPRIMATIVE"
       ]
      },
      {
       "output_type": "stream",
       "stream": "stdout",
       "text": [
        "\n",
        "SayItManyWays"
       ]
      },
      {
       "output_type": "stream",
       "stream": "stdout",
       "text": [
        "\n",
        "BilgesCreation"
       ]
      },
      {
       "output_type": "stream",
       "stream": "stdout",
       "text": [
        "\n",
        "BrownBagFarm"
       ]
      },
      {
       "output_type": "stream",
       "stream": "stdout",
       "text": [
        "\n",
        "ReignlandConcept"
       ]
      },
      {
       "output_type": "stream",
       "stream": "stdout",
       "text": [
        "\n",
        "angikay"
       ]
      },
      {
       "output_type": "stream",
       "stream": "stdout",
       "text": [
        "\n",
        "ZucchiniIsland"
       ]
      },
      {
       "output_type": "stream",
       "stream": "stdout",
       "text": [
        "\n",
        "ComfyInTheSouth"
       ]
      },
      {
       "output_type": "stream",
       "stream": "stdout",
       "text": [
        "\n",
        "CraftedEssentials"
       ]
      },
      {
       "output_type": "stream",
       "stream": "stdout",
       "text": [
        "\n",
        "TheBlackElephant"
       ]
      },
      {
       "output_type": "stream",
       "stream": "stdout",
       "text": [
        "\n",
        "creaspir"
       ]
      },
      {
       "output_type": "stream",
       "stream": "stdout",
       "text": [
        "\n",
        "imali"
       ]
      },
      {
       "output_type": "stream",
       "stream": "stdout",
       "text": [
        "\n",
        "abellawear"
       ]
      },
      {
       "output_type": "stream",
       "stream": "stdout",
       "text": [
        "\n",
        "Iryna"
       ]
      },
      {
       "output_type": "stream",
       "stream": "stdout",
       "text": [
        "\n",
        "AJoyfulCreation"
       ]
      },
      {
       "output_type": "stream",
       "stream": "stdout",
       "text": [
        "\n",
        "BarelySaneMom"
       ]
      },
      {
       "output_type": "stream",
       "stream": "stdout",
       "text": [
        "\n",
        "GrannieMadeGoods"
       ]
      },
      {
       "output_type": "stream",
       "stream": "stdout",
       "text": [
        "\n",
        "HappyLaika"
       ]
      },
      {
       "output_type": "stream",
       "stream": "stdout",
       "text": [
        "\n",
        "RoostingRobbin"
       ]
      },
      {
       "output_type": "stream",
       "stream": "stdout",
       "text": [
        "\n",
        "GiniJackOriginals"
       ]
      },
      {
       "output_type": "stream",
       "stream": "stdout",
       "text": [
        "\n",
        "CrazyCuteByAngela"
       ]
      },
      {
       "output_type": "stream",
       "stream": "stdout",
       "text": [
        "\n",
        "JobesJewelryBox"
       ]
      },
      {
       "output_type": "stream",
       "stream": "stdout",
       "text": [
        "\n",
        "CustomPhotoProps"
       ]
      },
      {
       "output_type": "stream",
       "stream": "stdout",
       "text": [
        "\n",
        "EGHDesigns"
       ]
      },
      {
       "output_type": "stream",
       "stream": "stdout",
       "text": [
        "\n",
        "needleloops"
       ]
      },
      {
       "output_type": "stream",
       "stream": "stdout",
       "text": [
        "\n",
        "StitchKnit"
       ]
      },
      {
       "output_type": "stream",
       "stream": "stdout",
       "text": [
        "\n",
        "HandsTime"
       ]
      },
      {
       "output_type": "stream",
       "stream": "stdout",
       "text": [
        "\n",
        "KnittedBySavannah"
       ]
      },
      {
       "output_type": "stream",
       "stream": "stdout",
       "text": [
        "\n",
        "ScarlettPines"
       ]
      },
      {
       "output_type": "stream",
       "stream": "stdout",
       "text": [
        "\n",
        "KingstonAlpacaKnits"
       ]
      },
      {
       "output_type": "stream",
       "stream": "stdout",
       "text": [
        "\n",
        "ICraftOutsidetheBox"
       ]
      },
      {
       "output_type": "stream",
       "stream": "stdout",
       "text": [
        "\n",
        "KALIFASHIONS"
       ]
      },
      {
       "output_type": "stream",
       "stream": "stdout",
       "text": [
        "\n",
        "UNIQHeadwear"
       ]
      },
      {
       "output_type": "stream",
       "stream": "stdout",
       "text": [
        "\n",
        "QueensAccessories"
       ]
      },
      {
       "output_type": "stream",
       "stream": "stdout",
       "text": [
        "\n",
        "ThisMomentisGood"
       ]
      },
      {
       "output_type": "stream",
       "stream": "stdout",
       "text": [
        "\n",
        "TheArbitraryArtisan"
       ]
      },
      {
       "output_type": "stream",
       "stream": "stdout",
       "text": [
        "\n",
        "LizSox"
       ]
      },
      {
       "output_type": "stream",
       "stream": "stdout",
       "text": [
        "\n",
        "DetroitWoolyLab"
       ]
      },
      {
       "output_type": "stream",
       "stream": "stdout",
       "text": [
        "\n",
        "HarrisKnittingCloset"
       ]
      },
      {
       "output_type": "stream",
       "stream": "stdout",
       "text": [
        "\n",
        "Bestcrochets"
       ]
      },
      {
       "output_type": "stream",
       "stream": "stdout",
       "text": [
        "\n",
        "fromewetoyou"
       ]
      },
      {
       "output_type": "stream",
       "stream": "stdout",
       "text": [
        "\n",
        "ChiaraBoutiqe"
       ]
      },
      {
       "output_type": "stream",
       "stream": "stdout",
       "text": [
        "\n",
        "emilyspurlfectknits"
       ]
      },
      {
       "output_type": "stream",
       "stream": "stdout",
       "text": [
        "\n",
        "SenseAndEmotions"
       ]
      },
      {
       "output_type": "stream",
       "stream": "stdout",
       "text": [
        "\n",
        "LittlePandaMommy"
       ]
      },
      {
       "output_type": "stream",
       "stream": "stdout",
       "text": [
        "\n",
        "CoryLaneCreations"
       ]
      },
      {
       "output_type": "stream",
       "stream": "stdout",
       "text": [
        "\n",
        "elmstcreations"
       ]
      },
      {
       "output_type": "stream",
       "stream": "stdout",
       "text": [
        "\n",
        "knittingwinters"
       ]
      },
      {
       "output_type": "stream",
       "stream": "stdout",
       "text": [
        "\n",
        "EvasStudio"
       ]
      },
      {
       "output_type": "stream",
       "stream": "stdout",
       "text": [
        "\n",
        "knittingboutique8"
       ]
      },
      {
       "output_type": "stream",
       "stream": "stdout",
       "text": [
        "\n",
        "parkie2"
       ]
      },
      {
       "output_type": "stream",
       "stream": "stdout",
       "text": [
        "\n",
        "EllaGajewskaHATS"
       ]
      },
      {
       "output_type": "stream",
       "stream": "stdout",
       "text": [
        "\n",
        "WoolFans"
       ]
      },
      {
       "output_type": "stream",
       "stream": "stdout",
       "text": [
        "\n",
        "LeftHandWandering"
       ]
      },
      {
       "output_type": "stream",
       "stream": "stdout",
       "text": [
        "\n",
        "SZVKNITS"
       ]
      },
      {
       "output_type": "stream",
       "stream": "stdout",
       "text": [
        "\n",
        "InaTwistShop"
       ]
      },
      {
       "output_type": "stream",
       "stream": "stdout",
       "text": [
        "\n",
        "pipisqueaks"
       ]
      },
      {
       "output_type": "stream",
       "stream": "stdout",
       "text": [
        "\n",
        "KanopaPatterns"
       ]
      },
      {
       "output_type": "stream",
       "stream": "stdout",
       "text": [
        "\n",
        "WayWayKnits"
       ]
      },
      {
       "output_type": "stream",
       "stream": "stdout",
       "text": [
        "\n",
        "SigiSoreget"
       ]
      },
      {
       "output_type": "stream",
       "stream": "stdout",
       "text": [
        "\n",
        "PyramidSkein"
       ]
      },
      {
       "output_type": "stream",
       "stream": "stdout",
       "text": [
        "\n",
        "FocusonColor"
       ]
      },
      {
       "output_type": "stream",
       "stream": "stdout",
       "text": [
        "\n",
        "silviaol"
       ]
      },
      {
       "output_type": "stream",
       "stream": "stdout",
       "text": [
        "\n",
        "apricitystore"
       ]
      },
      {
       "output_type": "stream",
       "stream": "stdout",
       "text": [
        "\n",
        "oMallaMo"
       ]
      },
      {
       "output_type": "stream",
       "stream": "stdout",
       "text": [
        "\n",
        "NicePuppy"
       ]
      },
      {
       "output_type": "stream",
       "stream": "stdout",
       "text": [
        "\n",
        "JensKnitPit"
       ]
      },
      {
       "output_type": "stream",
       "stream": "stdout",
       "text": [
        "\n",
        "kkaw"
       ]
      },
      {
       "output_type": "stream",
       "stream": "stdout",
       "text": [
        "\n",
        "BlueRoosterArts"
       ]
      },
      {
       "output_type": "stream",
       "stream": "stdout",
       "text": [
        "\n",
        "sanchee"
       ]
      },
      {
       "output_type": "stream",
       "stream": "stdout",
       "text": [
        "\n",
        "SierrasStitchery"
       ]
      },
      {
       "output_type": "stream",
       "stream": "stdout",
       "text": [
        "\n",
        "SelectKnits"
       ]
      },
      {
       "output_type": "stream",
       "stream": "stdout",
       "text": [
        "\n",
        "Flashfloozy"
       ]
      },
      {
       "output_type": "stream",
       "stream": "stdout",
       "text": [
        "\n",
        "FreyaEsme"
       ]
      },
      {
       "output_type": "stream",
       "stream": "stdout",
       "text": [
        "\n",
        "FrannysHouse"
       ]
      },
      {
       "output_type": "stream",
       "stream": "stdout",
       "text": [
        "\n",
        "knitandcurl"
       ]
      },
      {
       "output_type": "stream",
       "stream": "stdout",
       "text": [
        "\n",
        "valleypurl"
       ]
      },
      {
       "output_type": "stream",
       "stream": "stdout",
       "text": [
        "\n",
        "HouseonCherryHill"
       ]
      },
      {
       "output_type": "stream",
       "stream": "stdout",
       "text": [
        "\n",
        "zestvintage"
       ]
      },
      {
       "output_type": "stream",
       "stream": "stdout",
       "text": [
        "\n",
        "KnittedLT"
       ]
      },
      {
       "output_type": "stream",
       "stream": "stdout",
       "text": [
        "\n",
        "ArrowAndAntler"
       ]
      },
      {
       "output_type": "stream",
       "stream": "stdout",
       "text": [
        "\n",
        "AVerySmartHat"
       ]
      },
      {
       "output_type": "stream",
       "stream": "stdout",
       "text": [
        "\n",
        "LoveandKnit"
       ]
      },
      {
       "output_type": "stream",
       "stream": "stdout",
       "text": [
        "\n",
        "JunelloShop"
       ]
      },
      {
       "output_type": "stream",
       "stream": "stdout",
       "text": [
        "\n",
        "LittleGemsByLuisa"
       ]
      },
      {
       "output_type": "stream",
       "stream": "stdout",
       "text": [
        "\n",
        "SlopeGirlKnits"
       ]
      },
      {
       "output_type": "stream",
       "stream": "stdout",
       "text": [
        "\n",
        "Dagaknit"
       ]
      },
      {
       "output_type": "stream",
       "stream": "stdout",
       "text": [
        "\n",
        "TheKnittedZooByEmily"
       ]
      },
      {
       "output_type": "stream",
       "stream": "stdout",
       "text": [
        "\n",
        "maryscc"
       ]
      },
      {
       "output_type": "stream",
       "stream": "stdout",
       "text": [
        "\n",
        "BonnetsnBeads"
       ]
      },
      {
       "output_type": "stream",
       "stream": "stdout",
       "text": [
        "\n",
        "UniqueKnitDesign"
       ]
      },
      {
       "output_type": "stream",
       "stream": "stdout",
       "text": [
        "\n",
        "beWe"
       ]
      },
      {
       "output_type": "stream",
       "stream": "stdout",
       "text": [
        "\n",
        "CreeksideCharms"
       ]
      },
      {
       "output_type": "stream",
       "stream": "stdout",
       "text": [
        "\n",
        "craftynannie"
       ]
      },
      {
       "output_type": "stream",
       "stream": "stdout",
       "text": [
        "\n",
        "SoftCozyAndWarm"
       ]
      },
      {
       "output_type": "stream",
       "stream": "stdout",
       "text": [
        "\n",
        "wishestogether"
       ]
      },
      {
       "output_type": "stream",
       "stream": "stdout",
       "text": [
        "\n",
        "AWHatsandCrafts"
       ]
      },
      {
       "output_type": "stream",
       "stream": "stdout",
       "text": [
        "\n",
        "TheClutchAccessories"
       ]
      },
      {
       "output_type": "stream",
       "stream": "stdout",
       "text": [
        "\n",
        "MyNicePurses"
       ]
      },
      {
       "output_type": "stream",
       "stream": "stdout",
       "text": [
        "\n",
        "Turtlehawk83"
       ]
      },
      {
       "output_type": "stream",
       "stream": "stdout",
       "text": [
        "\n",
        "CELINICRAFTS"
       ]
      },
      {
       "output_type": "stream",
       "stream": "stdout",
       "text": [
        "\n",
        "SewEcological"
       ]
      },
      {
       "output_type": "stream",
       "stream": "stdout",
       "text": [
        "\n",
        "thesunandtheturtle"
       ]
      },
      {
       "output_type": "stream",
       "stream": "stdout",
       "text": [
        "\n",
        "NeutralNursery"
       ]
      },
      {
       "output_type": "stream",
       "stream": "stdout",
       "text": [
        "\n",
        "ekuboo"
       ]
      },
      {
       "output_type": "stream",
       "stream": "stdout",
       "text": [
        "\n",
        "ShopCountryCottage"
       ]
      },
      {
       "output_type": "stream",
       "stream": "stdout",
       "text": [
        "\n",
        "WormeWoole"
       ]
      },
      {
       "output_type": "stream",
       "stream": "stdout",
       "text": [
        "\n",
        "SibelDesign"
       ]
      },
      {
       "output_type": "stream",
       "stream": "stdout",
       "text": [
        "\n",
        "LittleBoySwag"
       ]
      },
      {
       "output_type": "stream",
       "stream": "stdout",
       "text": [
        "\n",
        "JuliaBeeCrafts"
       ]
      },
      {
       "output_type": "stream",
       "stream": "stdout",
       "text": [
        "\n",
        "kickassvintage"
       ]
      },
      {
       "output_type": "stream",
       "stream": "stdout",
       "text": [
        "\n",
        "RedWagonKids"
       ]
      },
      {
       "output_type": "stream",
       "stream": "stdout",
       "text": [
        "\n",
        "ashton11"
       ]
      },
      {
       "output_type": "stream",
       "stream": "stdout",
       "text": [
        "\n",
        "beaconknits"
       ]
      },
      {
       "output_type": "stream",
       "stream": "stdout",
       "text": [
        "\n",
        "woolpleasure"
       ]
      },
      {
       "output_type": "stream",
       "stream": "stdout",
       "text": [
        "\n",
        "SOVAknits"
       ]
      },
      {
       "output_type": "stream",
       "stream": "stdout",
       "text": [
        "\n",
        "AnnasFashionJewelry"
       ]
      },
      {
       "output_type": "stream",
       "stream": "stdout",
       "text": [
        "\n",
        "OpenStitch"
       ]
      },
      {
       "output_type": "stream",
       "stream": "stdout",
       "text": [
        "\n",
        "dreamdoghandmade"
       ]
      },
      {
       "output_type": "stream",
       "stream": "stdout",
       "text": [
        "\n",
        "BabyHatsShoesandMore"
       ]
      },
      {
       "output_type": "stream",
       "stream": "stdout",
       "text": [
        "\n",
        "beadedwire"
       ]
      },
      {
       "output_type": "stream",
       "stream": "stdout",
       "text": [
        "\n",
        "Elkestreasurechest"
       ]
      },
      {
       "output_type": "stream",
       "stream": "stdout",
       "text": [
        "\n",
        "haloopajoop"
       ]
      },
      {
       "output_type": "stream",
       "stream": "stdout",
       "text": [
        "\n",
        "CRAZYBOOM"
       ]
      },
      {
       "output_type": "stream",
       "stream": "stdout",
       "text": [
        "\n",
        "ZOJKAshop"
       ]
      },
      {
       "output_type": "stream",
       "stream": "stdout",
       "text": [
        "\n",
        "cutiesvintageprettys"
       ]
      },
      {
       "output_type": "stream",
       "stream": "stdout",
       "text": [
        "\n",
        "Genuique"
       ]
      },
      {
       "output_type": "stream",
       "stream": "stdout",
       "text": [
        "\n",
        "IslaysTerrace"
       ]
      },
      {
       "output_type": "stream",
       "stream": "stdout",
       "text": [
        "\n",
        "IvannaN"
       ]
      },
      {
       "output_type": "stream",
       "stream": "stdout",
       "text": [
        "\n",
        "giddy4paisley"
       ]
      },
      {
       "output_type": "stream",
       "stream": "stdout",
       "text": [
        "\n",
        "BonCherCreations"
       ]
      },
      {
       "output_type": "stream",
       "stream": "stdout",
       "text": [
        "\n",
        "bestdressedlady"
       ]
      },
      {
       "output_type": "stream",
       "stream": "stdout",
       "text": [
        "\n",
        "MarysNeatKnits"
       ]
      },
      {
       "output_type": "stream",
       "stream": "stdout",
       "text": [
        "\n",
        "ASweetpeaCrafts"
       ]
      },
      {
       "output_type": "stream",
       "stream": "stdout",
       "text": [
        "\n",
        "KnettasKnits"
       ]
      },
      {
       "output_type": "stream",
       "stream": "stdout",
       "text": [
        "\n",
        "WetHenKnits"
       ]
      },
      {
       "output_type": "stream",
       "stream": "stdout",
       "text": [
        "\n",
        "CraftyCornishMaids"
       ]
      },
      {
       "output_type": "stream",
       "stream": "stdout",
       "text": [
        "\n",
        "BettyMarieJones"
       ]
      },
      {
       "output_type": "stream",
       "stream": "stdout",
       "text": [
        "\n",
        "woollybaby"
       ]
      },
      {
       "output_type": "stream",
       "stream": "stdout",
       "text": [
        "\n",
        "KnitbyShan"
       ]
      },
      {
       "output_type": "stream",
       "stream": "stdout",
       "text": [
        "\n",
        "ShortroundsKnitwear"
       ]
      },
      {
       "output_type": "stream",
       "stream": "stdout",
       "text": [
        "\n",
        "Creationsbyclark"
       ]
      },
      {
       "output_type": "stream",
       "stream": "stdout",
       "text": [
        "\n",
        "Kampsun"
       ]
      },
      {
       "output_type": "stream",
       "stream": "stdout",
       "text": [
        "\n",
        "CrazyDaisyFlorist"
       ]
      },
      {
       "output_type": "stream",
       "stream": "stdout",
       "text": [
        "\n",
        "KnitAndCrochetDesign"
       ]
      },
      {
       "output_type": "stream",
       "stream": "stdout",
       "text": [
        "\n",
        "Volang"
       ]
      },
      {
       "output_type": "stream",
       "stream": "stdout",
       "text": [
        "\n",
        "knitsplus"
       ]
      },
      {
       "output_type": "stream",
       "stream": "stdout",
       "text": [
        "\n",
        "KnitsbyAriel"
       ]
      },
      {
       "output_type": "stream",
       "stream": "stdout",
       "text": [
        "\n",
        "StayWarmInStyle"
       ]
      },
      {
       "output_type": "stream",
       "stream": "stdout",
       "text": [
        "\n",
        "MyCreationsByCarol"
       ]
      },
      {
       "output_type": "stream",
       "stream": "stdout",
       "text": [
        "\n",
        "AuntyJoanCrafts"
       ]
      },
      {
       "output_type": "stream",
       "stream": "stdout",
       "text": [
        "\n",
        "NataKnitwork"
       ]
      },
      {
       "output_type": "stream",
       "stream": "stdout",
       "text": [
        "\n",
        "FortheQTs"
       ]
      },
      {
       "output_type": "stream",
       "stream": "stdout",
       "text": [
        "\n",
        "CEWDesignStudio"
       ]
      },
      {
       "output_type": "stream",
       "stream": "stdout",
       "text": [
        "\n",
        "lilbowsandarrows"
       ]
      },
      {
       "output_type": "stream",
       "stream": "stdout",
       "text": [
        "\n",
        "mymamaknits"
       ]
      },
      {
       "output_type": "stream",
       "stream": "stdout",
       "text": [
        "\n",
        "KnitandFeltbyNat"
       ]
      },
      {
       "output_type": "stream",
       "stream": "stdout",
       "text": [
        "\n",
        "LovelyLegsPlus"
       ]
      },
      {
       "output_type": "stream",
       "stream": "stdout",
       "text": [
        "\n",
        "SELINCE"
       ]
      },
      {
       "output_type": "stream",
       "stream": "stdout",
       "text": [
        "\n",
        "AuntBsAttic"
       ]
      },
      {
       "output_type": "stream",
       "stream": "stdout",
       "text": [
        "\n",
        "FloralSide"
       ]
      },
      {
       "output_type": "stream",
       "stream": "stdout",
       "text": [
        "\n",
        "ThreadsintheBed"
       ]
      },
      {
       "output_type": "stream",
       "stream": "stdout",
       "text": [
        "\n",
        "HandyKnitsbyS"
       ]
      },
      {
       "output_type": "stream",
       "stream": "stdout",
       "text": [
        "\n",
        "SillyLittleBlackCat"
       ]
      },
      {
       "output_type": "stream",
       "stream": "stdout",
       "text": [
        "\n",
        "SweetBabyJamesShop"
       ]
      },
      {
       "output_type": "stream",
       "stream": "stdout",
       "text": [
        "\n",
        "BoryanacrochetBG"
       ]
      },
      {
       "output_type": "stream",
       "stream": "stdout",
       "text": [
        "\n",
        "ACraftyObsession"
       ]
      },
      {
       "output_type": "stream",
       "stream": "stdout",
       "text": [
        "\n",
        "KUWAdesign"
       ]
      },
      {
       "output_type": "stream",
       "stream": "stdout",
       "text": [
        "\n",
        "Pivonkaknit"
       ]
      },
      {
       "output_type": "stream",
       "stream": "stdout",
       "text": [
        "\n",
        "fancyknits"
       ]
      },
      {
       "output_type": "stream",
       "stream": "stdout",
       "text": [
        "\n",
        "intheLOOPdesign"
       ]
      },
      {
       "output_type": "stream",
       "stream": "stdout",
       "text": [
        "\n",
        "PreciousBowtique"
       ]
      },
      {
       "output_type": "stream",
       "stream": "stdout",
       "text": [
        "\n",
        "MaybushModa"
       ]
      },
      {
       "output_type": "stream",
       "stream": "stdout",
       "text": [
        "\n",
        "Justadaydream"
       ]
      },
      {
       "output_type": "stream",
       "stream": "stdout",
       "text": [
        "\n",
        "elmroadvintage"
       ]
      },
      {
       "output_type": "stream",
       "stream": "stdout",
       "text": [
        "\n",
        "HandmadeHillShop"
       ]
      },
      {
       "output_type": "stream",
       "stream": "stdout",
       "text": [
        "\n",
        "RekindledLove"
       ]
      },
      {
       "output_type": "stream",
       "stream": "stdout",
       "text": [
        "\n",
        "AlkistiKnits"
       ]
      },
      {
       "output_type": "stream",
       "stream": "stdout",
       "text": [
        "\n",
        "Vintagebuttonhats"
       ]
      },
      {
       "output_type": "stream",
       "stream": "stdout",
       "text": [
        "\n",
        "TheCraftapplePanda"
       ]
      },
      {
       "output_type": "stream",
       "stream": "stdout",
       "text": [
        "\n",
        "JBRLDesign"
       ]
      },
      {
       "output_type": "stream",
       "stream": "stdout",
       "text": [
        "\n",
        "Weknit2tog"
       ]
      },
      {
       "output_type": "stream",
       "stream": "stdout",
       "text": [
        "\n",
        "WoolyThinker"
       ]
      },
      {
       "output_type": "stream",
       "stream": "stdout",
       "text": [
        "\n",
        "2mice"
       ]
      },
      {
       "output_type": "stream",
       "stream": "stdout",
       "text": [
        "\n",
        "BBNicks"
       ]
      },
      {
       "output_type": "stream",
       "stream": "stdout",
       "text": [
        "\n",
        "KnottinghamKnits"
       ]
      },
      {
       "output_type": "stream",
       "stream": "stdout",
       "text": [
        "\n",
        "BeUn"
       ]
      },
      {
       "output_type": "stream",
       "stream": "stdout",
       "text": [
        "\n",
        "Riashatsandscarves"
       ]
      },
      {
       "output_type": "stream",
       "stream": "stdout",
       "text": [
        "\n",
        "vintachi"
       ]
      },
      {
       "output_type": "stream",
       "stream": "stdout",
       "text": [
        "\n",
        "KnitsandTreasures"
       ]
      },
      {
       "output_type": "stream",
       "stream": "stdout",
       "text": [
        "\n",
        "ATIdesign"
       ]
      },
      {
       "output_type": "stream",
       "stream": "stdout",
       "text": [
        "\n",
        "TheKnittedHat"
       ]
      },
      {
       "output_type": "stream",
       "stream": "stdout",
       "text": [
        "\n",
        "ShariRoseShop"
       ]
      },
      {
       "output_type": "stream",
       "stream": "stdout",
       "text": [
        "\n",
        "BlossomsBeauties"
       ]
      },
      {
       "output_type": "stream",
       "stream": "stdout",
       "text": [
        "\n",
        "stickshooksandyarn"
       ]
      },
      {
       "output_type": "stream",
       "stream": "stdout",
       "text": [
        "\n",
        "WomanStyleShop"
       ]
      },
      {
       "output_type": "stream",
       "stream": "stdout",
       "text": [
        "\n",
        "TheCheshiresHat"
       ]
      },
      {
       "output_type": "stream",
       "stream": "stdout",
       "text": [
        "\n",
        "wooolmint"
       ]
      },
      {
       "output_type": "stream",
       "stream": "stdout",
       "text": [
        "\n",
        "TurkishFolkArts"
       ]
      },
      {
       "output_type": "stream",
       "stream": "stdout",
       "text": [
        "\n",
        "KnittName"
       ]
      },
      {
       "output_type": "stream",
       "stream": "stdout",
       "text": [
        "\n",
        "PatchAteSmudge"
       ]
      },
      {
       "output_type": "stream",
       "stream": "stdout",
       "text": [
        "\n",
        "KnittingMamas"
       ]
      },
      {
       "output_type": "stream",
       "stream": "stdout",
       "text": [
        "\n",
        "SipSipKnits"
       ]
      },
      {
       "output_type": "stream",
       "stream": "stdout",
       "text": [
        "\n",
        "NMSDesign"
       ]
      },
      {
       "output_type": "stream",
       "stream": "stdout",
       "text": [
        "\n",
        "Girlpower"
       ]
      },
      {
       "output_type": "stream",
       "stream": "stdout",
       "text": [
        "\n",
        "HisforHarper"
       ]
      },
      {
       "output_type": "stream",
       "stream": "stdout",
       "text": [
        "\n",
        "Shoesandaccessories"
       ]
      },
      {
       "output_type": "stream",
       "stream": "stdout",
       "text": [
        "\n",
        "NookCove"
       ]
      },
      {
       "output_type": "stream",
       "stream": "stdout",
       "text": [
        "\n",
        "Studio20Designs"
       ]
      },
      {
       "output_type": "stream",
       "stream": "stdout",
       "text": [
        "\n",
        "LANABYSVETLANA"
       ]
      },
      {
       "output_type": "stream",
       "stream": "stdout",
       "text": [
        "\n",
        "TwoSparrowsBoutique"
       ]
      },
      {
       "output_type": "stream",
       "stream": "stdout",
       "text": [
        "\n",
        "KnittedAndWarm"
       ]
      },
      {
       "output_type": "stream",
       "stream": "stdout",
       "text": [
        "\n",
        "GrahamsBazaar"
       ]
      },
      {
       "output_type": "stream",
       "stream": "stdout",
       "text": [
        "\n",
        "WTFureyDesigns"
       ]
      },
      {
       "output_type": "stream",
       "stream": "stdout",
       "text": [
        "\n",
        "CreateBKLYN"
       ]
      },
      {
       "output_type": "stream",
       "stream": "stdout",
       "text": [
        "\n",
        "DeStashAttic"
       ]
      },
      {
       "output_type": "stream",
       "stream": "stdout",
       "text": [
        "\n",
        "grizzlie"
       ]
      },
      {
       "output_type": "stream",
       "stream": "stdout",
       "text": [
        "\n",
        "DMToques"
       ]
      },
      {
       "output_type": "stream",
       "stream": "stdout",
       "text": [
        "\n",
        "PichPawcrafts"
       ]
      },
      {
       "output_type": "stream",
       "stream": "stdout",
       "text": [
        "\n",
        "BBCHIC2"
       ]
      },
      {
       "output_type": "stream",
       "stream": "stdout",
       "text": [
        "\n",
        "HahnMade"
       ]
      },
      {
       "output_type": "stream",
       "stream": "stdout",
       "text": [
        "\n",
        "BeyondTheDreamStudio"
       ]
      },
      {
       "output_type": "stream",
       "stream": "stdout",
       "text": [
        "\n",
        "GrammieMadeit"
       ]
      },
      {
       "output_type": "stream",
       "stream": "stdout",
       "text": [
        "\n",
        "Maeei"
       ]
      },
      {
       "output_type": "stream",
       "stream": "stdout",
       "text": [
        "\n",
        "PinkMaple"
       ]
      },
      {
       "output_type": "stream",
       "stream": "stdout",
       "text": [
        "\n",
        "CozyKnitsCoffeeBeans"
       ]
      },
      {
       "output_type": "stream",
       "stream": "stdout",
       "text": [
        "\n",
        "WellDoneKnitting"
       ]
      },
      {
       "output_type": "stream",
       "stream": "stdout",
       "text": [
        "\n",
        "ToOurMoonAndBack"
       ]
      },
      {
       "output_type": "stream",
       "stream": "stdout",
       "text": [
        "\n",
        "SewNewToMe"
       ]
      },
      {
       "output_type": "stream",
       "stream": "stdout",
       "text": [
        "\n",
        "SmileyHeadSplendor"
       ]
      },
      {
       "output_type": "stream",
       "stream": "stdout",
       "text": [
        "\n",
        "VintagePatternPlace"
       ]
      },
      {
       "output_type": "stream",
       "stream": "stdout",
       "text": [
        "\n",
        "Strickolino"
       ]
      },
      {
       "output_type": "stream",
       "stream": "stdout",
       "text": [
        "\n",
        "cosediisa"
       ]
      },
      {
       "output_type": "stream",
       "stream": "stdout",
       "text": [
        "\n",
        "KBsPaddywacks"
       ]
      },
      {
       "output_type": "stream",
       "stream": "stdout",
       "text": [
        "\n",
        "WestbrookFarm"
       ]
      },
      {
       "output_type": "stream",
       "stream": "stdout",
       "text": [
        "\n",
        "LittleKnitsStudio"
       ]
      },
      {
       "output_type": "stream",
       "stream": "stdout",
       "text": [
        "\n",
        "MrsMzSewingRoom"
       ]
      },
      {
       "output_type": "stream",
       "stream": "stdout",
       "text": [
        "\n",
        "OnGoodLuck"
       ]
      },
      {
       "output_type": "stream",
       "stream": "stdout",
       "text": [
        "\n",
        "MMDecoStudio"
       ]
      },
      {
       "output_type": "stream",
       "stream": "stdout",
       "text": [
        "\n",
        "SweetEllasDesigns"
       ]
      },
      {
       "output_type": "stream",
       "stream": "stdout",
       "text": [
        "\n",
        "Jessiescrochetcorner"
       ]
      },
      {
       "output_type": "stream",
       "stream": "stdout",
       "text": [
        "\n",
        "LongHaulAccessories"
       ]
      },
      {
       "output_type": "stream",
       "stream": "stdout",
       "text": [
        "\n",
        "HappyKnitandCrochet"
       ]
      },
      {
       "output_type": "stream",
       "stream": "stdout",
       "text": [
        "\n",
        "KsyuKnitting"
       ]
      },
      {
       "output_type": "stream",
       "stream": "stdout",
       "text": [
        "\n",
        "knittingFashion"
       ]
      },
      {
       "output_type": "stream",
       "stream": "stdout",
       "text": [
        "\n",
        "SilverMapleKnits"
       ]
      },
      {
       "output_type": "stream",
       "stream": "stdout",
       "text": [
        "\n",
        "HandCraftedbyAnne"
       ]
      },
      {
       "output_type": "stream",
       "stream": "stdout",
       "text": [
        "\n",
        "Easy123"
       ]
      },
      {
       "output_type": "stream",
       "stream": "stdout",
       "text": [
        "\n",
        "StarfrostHandicrafts"
       ]
      },
      {
       "output_type": "stream",
       "stream": "stdout",
       "text": [
        "\n",
        "Knitographer"
       ]
      },
      {
       "output_type": "stream",
       "stream": "stdout",
       "text": [
        "\n",
        "LiLiSocks"
       ]
      },
      {
       "output_type": "stream",
       "stream": "stdout",
       "text": [
        "\n",
        "Florfanka"
       ]
      },
      {
       "output_type": "stream",
       "stream": "stdout",
       "text": [
        "\n",
        "ColoradoChickCo"
       ]
      },
      {
       "output_type": "stream",
       "stream": "stdout",
       "text": [
        "\n",
        "ThePureNest"
       ]
      },
      {
       "output_type": "stream",
       "stream": "stdout",
       "text": [
        "\n",
        "SomethingsontheSide"
       ]
      },
      {
       "output_type": "stream",
       "stream": "stdout",
       "text": [
        "\n",
        "Stitchandstory"
       ]
      },
      {
       "output_type": "stream",
       "stream": "stdout",
       "text": [
        "\n",
        "vellichor"
       ]
      },
      {
       "output_type": "stream",
       "stream": "stdout",
       "text": [
        "\n",
        "Ribbonandhairbows"
       ]
      },
      {
       "output_type": "stream",
       "stream": "stdout",
       "text": [
        "\n",
        "NaNaWoolDesign"
       ]
      },
      {
       "output_type": "stream",
       "stream": "stdout",
       "text": [
        "\n",
        "BeautyKnitsShop"
       ]
      },
      {
       "output_type": "stream",
       "stream": "stdout",
       "text": [
        "\n",
        "susiedees"
       ]
      },
      {
       "output_type": "stream",
       "stream": "stdout",
       "text": [
        "\n",
        "DeemervilleGold"
       ]
      },
      {
       "output_type": "stream",
       "stream": "stdout",
       "text": [
        "\n",
        "Tebessum"
       ]
      },
      {
       "output_type": "stream",
       "stream": "stdout",
       "text": [
        "\n",
        "YoshCreative"
       ]
      },
      {
       "output_type": "stream",
       "stream": "stdout",
       "text": [
        "\n",
        "worldofknitting"
       ]
      },
      {
       "output_type": "stream",
       "stream": "stdout",
       "text": [
        "\n",
        "PrettyLittleBabies"
       ]
      },
      {
       "output_type": "stream",
       "stream": "stdout",
       "text": [
        "\n",
        "TheCraftyRascal"
       ]
      },
      {
       "output_type": "stream",
       "stream": "stdout",
       "text": [
        "\n",
        "RebeccasWool"
       ]
      },
      {
       "output_type": "stream",
       "stream": "stdout",
       "text": [
        "\n",
        "VegaCreate"
       ]
      },
      {
       "output_type": "stream",
       "stream": "stdout",
       "text": [
        "\n",
        "mahatmascoat"
       ]
      },
      {
       "output_type": "stream",
       "stream": "stdout",
       "text": [
        "\n",
        "CrazyButterflies"
       ]
      },
      {
       "output_type": "stream",
       "stream": "stdout",
       "text": [
        "\n",
        "sassytailor64"
       ]
      },
      {
       "output_type": "stream",
       "stream": "stdout",
       "text": [
        "\n",
        "adknit"
       ]
      },
      {
       "output_type": "stream",
       "stream": "stdout",
       "text": [
        "\n",
        "ThreeSmallWishes"
       ]
      },
      {
       "output_type": "stream",
       "stream": "stdout",
       "text": [
        "\n",
        "Caitlinscozyknits"
       ]
      },
      {
       "output_type": "stream",
       "stream": "stdout",
       "text": [
        "\n",
        "MizMizaBella"
       ]
      },
      {
       "output_type": "stream",
       "stream": "stdout",
       "text": [
        "\n",
        "VirtuousDesign31"
       ]
      },
      {
       "output_type": "stream",
       "stream": "stdout",
       "text": [
        "\n",
        "megsknitshit"
       ]
      },
      {
       "output_type": "stream",
       "stream": "stdout",
       "text": [
        "\n",
        "CreativeObsessionn"
       ]
      },
      {
       "output_type": "stream",
       "stream": "stdout",
       "text": [
        "\n",
        "foldi"
       ]
      },
      {
       "output_type": "stream",
       "stream": "stdout",
       "text": [
        "\n",
        "KnitsForGifts"
       ]
      },
      {
       "output_type": "stream",
       "stream": "stdout",
       "text": [
        "\n",
        "BrightCloset"
       ]
      },
      {
       "output_type": "stream",
       "stream": "stdout",
       "text": [
        "\n",
        "knithatsbyTom"
       ]
      },
      {
       "output_type": "stream",
       "stream": "stdout",
       "text": [
        "\n",
        "BringSomeBling"
       ]
      },
      {
       "output_type": "stream",
       "stream": "stdout",
       "text": [
        "\n",
        "thekitschykitty"
       ]
      },
      {
       "output_type": "stream",
       "stream": "stdout",
       "text": [
        "\n",
        "Ednascloset"
       ]
      },
      {
       "output_type": "stream",
       "stream": "stdout",
       "text": [
        "\n",
        "jiloona"
       ]
      },
      {
       "output_type": "stream",
       "stream": "stdout",
       "text": [
        "\n",
        "RoklandeFashioShop"
       ]
      },
      {
       "output_type": "stream",
       "stream": "stdout",
       "text": [
        "\n",
        "slouchiehats"
       ]
      },
      {
       "output_type": "stream",
       "stream": "stdout",
       "text": [
        "\n",
        "debsatticfinds"
       ]
      },
      {
       "output_type": "stream",
       "stream": "stdout",
       "text": [
        "\n",
        "PiecesBoutique"
       ]
      },
      {
       "output_type": "stream",
       "stream": "stdout",
       "text": [
        "\n",
        "CdCkDesign"
       ]
      },
      {
       "output_type": "stream",
       "stream": "stdout",
       "text": [
        "\n",
        "SusanDeanne"
       ]
      },
      {
       "output_type": "stream",
       "stream": "stdout",
       "text": [
        "\n",
        "NickelsKnittery"
       ]
      },
      {
       "output_type": "stream",
       "stream": "stdout",
       "text": [
        "\n",
        "kabotany"
       ]
      },
      {
       "output_type": "stream",
       "stream": "stdout",
       "text": [
        "\n",
        "ForHomeAndHearth"
       ]
      },
      {
       "output_type": "stream",
       "stream": "stdout",
       "text": [
        "\n",
        "DobroBeat"
       ]
      },
      {
       "output_type": "stream",
       "stream": "stdout",
       "text": [
        "\n",
        "CHUNKYBULKYKNITS"
       ]
      },
      {
       "output_type": "stream",
       "stream": "stdout",
       "text": [
        "\n",
        "EHM365"
       ]
      },
      {
       "output_type": "stream",
       "stream": "stdout",
       "text": [
        "\n",
        "KarunaHimalaya"
       ]
      },
      {
       "output_type": "stream",
       "stream": "stdout",
       "text": [
        "\n",
        "knitonestitchtoo"
       ]
      },
      {
       "output_type": "stream",
       "stream": "stdout",
       "text": [
        "\n",
        "OneofaKindKnitGifts"
       ]
      },
      {
       "output_type": "stream",
       "stream": "stdout",
       "text": [
        "\n",
        "hannahleighknits"
       ]
      },
      {
       "output_type": "stream",
       "stream": "stdout",
       "text": [
        "\n",
        "KnittingByTatiana"
       ]
      },
      {
       "output_type": "stream",
       "stream": "stdout",
       "text": [
        "\n",
        "KittyBritchesBoutiqu"
       ]
      },
      {
       "output_type": "stream",
       "stream": "stdout",
       "text": [
        "\n",
        "KnitsAnKnats"
       ]
      },
      {
       "output_type": "stream",
       "stream": "stdout",
       "text": [
        "\n",
        "GratitudeGiftsForAll"
       ]
      },
      {
       "output_type": "stream",
       "stream": "stdout",
       "text": [
        "\n",
        "BeijingKC"
       ]
      },
      {
       "output_type": "stream",
       "stream": "stdout",
       "text": [
        "\n",
        "WildGreenBeauty"
       ]
      },
      {
       "output_type": "stream",
       "stream": "stdout",
       "text": [
        "\n",
        "prettyoffensive"
       ]
      },
      {
       "output_type": "stream",
       "stream": "stdout",
       "text": [
        "\n",
        "bebebeecouture"
       ]
      },
      {
       "output_type": "stream",
       "stream": "stdout",
       "text": [
        "\n",
        "MurfmadeKnits"
       ]
      },
      {
       "output_type": "stream",
       "stream": "stdout",
       "text": [
        "\n",
        "SoulTrail"
       ]
      },
      {
       "output_type": "stream",
       "stream": "stdout",
       "text": [
        "\n",
        "FineHandMadeClothes"
       ]
      },
      {
       "output_type": "stream",
       "stream": "stdout",
       "text": [
        "\n",
        "DGDwithlove"
       ]
      },
      {
       "output_type": "stream",
       "stream": "stdout",
       "text": [
        "\n",
        "PetitDogApparel"
       ]
      },
      {
       "output_type": "stream",
       "stream": "stdout",
       "text": [
        "\n",
        "christnakosininski"
       ]
      },
      {
       "output_type": "stream",
       "stream": "stdout",
       "text": [
        "\n",
        "GoldenPineAlpacas"
       ]
      },
      {
       "output_type": "stream",
       "stream": "stdout",
       "text": [
        "\n",
        "StraightenedArrow"
       ]
      },
      {
       "output_type": "stream",
       "stream": "stdout",
       "text": [
        "\n",
        "PandaHugStore"
       ]
      },
      {
       "output_type": "stream",
       "stream": "stdout",
       "text": [
        "\n",
        "SarBobsy"
       ]
      },
      {
       "output_type": "stream",
       "stream": "stdout",
       "text": [
        "\n",
        "endlesscreation"
       ]
      },
      {
       "output_type": "stream",
       "stream": "stdout",
       "text": [
        "\n",
        "Not2Shabbee"
       ]
      },
      {
       "output_type": "stream",
       "stream": "stdout",
       "text": [
        "\n",
        "CharlotteAuzou"
       ]
      },
      {
       "output_type": "stream",
       "stream": "stdout",
       "text": [
        "\n",
        "EllaBabyBasket"
       ]
      },
      {
       "output_type": "stream",
       "stream": "stdout",
       "text": [
        "\n",
        "TokyoBlossom"
       ]
      },
      {
       "output_type": "stream",
       "stream": "stdout",
       "text": [
        "\n",
        "AnjaClauberg"
       ]
      },
      {
       "output_type": "stream",
       "stream": "stdout",
       "text": [
        "\n",
        "wildirishrosecrochet"
       ]
      },
      {
       "output_type": "stream",
       "stream": "stdout",
       "text": [
        "\n",
        "WhereMyStitchesAtCH"
       ]
      },
      {
       "output_type": "stream",
       "stream": "stdout",
       "text": [
        "\n",
        "AuntieMsCrafting"
       ]
      },
      {
       "output_type": "stream",
       "stream": "stdout",
       "text": [
        "\n",
        "HawthornStudio"
       ]
      },
      {
       "output_type": "stream",
       "stream": "stdout",
       "text": [
        "\n",
        "allearthlings"
       ]
      },
      {
       "output_type": "stream",
       "stream": "stdout",
       "text": [
        "\n",
        "KoalaBelle"
       ]
      },
      {
       "output_type": "stream",
       "stream": "stdout",
       "text": [
        "\n",
        "PandaLolipops"
       ]
      },
      {
       "output_type": "stream",
       "stream": "stdout",
       "text": [
        "\n",
        "crystalandtaylor"
       ]
      },
      {
       "output_type": "stream",
       "stream": "stdout",
       "text": [
        "\n",
        "spinningknitting1"
       ]
      },
      {
       "output_type": "stream",
       "stream": "stdout",
       "text": [
        "\n",
        "OBJECTSofMATTER"
       ]
      },
      {
       "output_type": "stream",
       "stream": "stdout",
       "text": [
        "\n",
        "IrmianDesign"
       ]
      },
      {
       "output_type": "stream",
       "stream": "stdout",
       "text": [
        "\n",
        "Scribegirlme"
       ]
      },
      {
       "output_type": "stream",
       "stream": "stdout",
       "text": [
        "\n",
        "SecondhandObsession"
       ]
      },
      {
       "output_type": "stream",
       "stream": "stdout",
       "text": [
        "\n",
        "theGoodShnit"
       ]
      },
      {
       "output_type": "stream",
       "stream": "stdout",
       "text": [
        "\n",
        "nijoleelze"
       ]
      },
      {
       "output_type": "stream",
       "stream": "stdout",
       "text": [
        "\n",
        "PIGpigLA"
       ]
      },
      {
       "output_type": "stream",
       "stream": "stdout",
       "text": [
        "\n",
        "CreationsbyMaris"
       ]
      },
      {
       "output_type": "stream",
       "stream": "stdout",
       "text": [
        "\n",
        "SkyRainSoap"
       ]
      },
      {
       "output_type": "stream",
       "stream": "stdout",
       "text": [
        "\n",
        "NevadaKnits"
       ]
      },
      {
       "output_type": "stream",
       "stream": "stdout",
       "text": [
        "\n",
        "Razels"
       ]
      },
      {
       "output_type": "stream",
       "stream": "stdout",
       "text": [
        "\n",
        "MagooandBaloo"
       ]
      },
      {
       "output_type": "stream",
       "stream": "stdout",
       "text": [
        "\n",
        "ColdSnapsKnits"
       ]
      },
      {
       "output_type": "stream",
       "stream": "stdout",
       "text": [
        "\n",
        "BSKnitting"
       ]
      },
      {
       "output_type": "stream",
       "stream": "stdout",
       "text": [
        "\n",
        "CrochetByBetty"
       ]
      },
      {
       "output_type": "stream",
       "stream": "stdout",
       "text": [
        "\n",
        "LilSweetPeaSisters"
       ]
      },
      {
       "output_type": "stream",
       "stream": "stdout",
       "text": [
        "\n",
        "Cocomillo"
       ]
      },
      {
       "output_type": "stream",
       "stream": "stdout",
       "text": [
        "\n",
        "EclecticallyCampbell"
       ]
      },
      {
       "output_type": "stream",
       "stream": "stdout",
       "text": [
        "\n",
        "BabyBirdz"
       ]
      },
      {
       "output_type": "stream",
       "stream": "stdout",
       "text": [
        "\n",
        "VIRTTARHAR"
       ]
      },
      {
       "output_type": "stream",
       "stream": "stdout",
       "text": [
        "\n",
        "evaandjeandesigns"
       ]
      },
      {
       "output_type": "stream",
       "stream": "stdout",
       "text": [
        "\n",
        "ColorfulTrends"
       ]
      },
      {
       "output_type": "stream",
       "stream": "stdout",
       "text": [
        "\n",
        "VintageNeedleArts"
       ]
      },
      {
       "output_type": "stream",
       "stream": "stdout",
       "text": [
        "\n",
        "KnitsbyVeronica"
       ]
      },
      {
       "output_type": "stream",
       "stream": "stdout",
       "text": [
        "\n",
        "YarnsInMotion"
       ]
      },
      {
       "output_type": "stream",
       "stream": "stdout",
       "text": [
        "\n",
        "irinacarmen"
       ]
      },
      {
       "output_type": "stream",
       "stream": "stdout",
       "text": [
        "\n",
        "APlusJewelryCrafts"
       ]
      },
      {
       "output_type": "stream",
       "stream": "stdout",
       "text": [
        "\n",
        "WooolBaby"
       ]
      },
      {
       "output_type": "stream",
       "stream": "stdout",
       "text": [
        "\n",
        "Sister21"
       ]
      },
      {
       "output_type": "stream",
       "stream": "stdout",
       "text": [
        "\n",
        "CarameloBoutique"
       ]
      },
      {
       "output_type": "stream",
       "stream": "stdout",
       "text": [
        "\n",
        "ZAPrix"
       ]
      },
      {
       "output_type": "stream",
       "stream": "stdout",
       "text": [
        "\n",
        "OriginalKnitting"
       ]
      },
      {
       "output_type": "stream",
       "stream": "stdout",
       "text": [
        "\n",
        "SexyCrochetByOlga"
       ]
      },
      {
       "output_type": "stream",
       "stream": "stdout",
       "text": [
        "\n",
        "homelab"
       ]
      },
      {
       "output_type": "stream",
       "stream": "stdout",
       "text": [
        "\n",
        "pompomhats"
       ]
      },
      {
       "output_type": "stream",
       "stream": "stdout",
       "text": [
        "\n",
        "HandmakeOrgUa"
       ]
      },
      {
       "output_type": "stream",
       "stream": "stdout",
       "text": [
        "\n",
        "SouthernMomCreations"
       ]
      },
      {
       "output_type": "stream",
       "stream": "stdout",
       "text": [
        "\n",
        "LesleysHandknits"
       ]
      },
      {
       "output_type": "stream",
       "stream": "stdout",
       "text": [
        "\n",
        "TravelingCarousel"
       ]
      },
      {
       "output_type": "stream",
       "stream": "stdout",
       "text": [
        "\n",
        "BugEatersKnits"
       ]
      },
      {
       "output_type": "stream",
       "stream": "stdout",
       "text": [
        "\n",
        "Cuteling"
       ]
      },
      {
       "output_type": "stream",
       "stream": "stdout",
       "text": [
        "\n",
        "PropsandPoses"
       ]
      },
      {
       "output_type": "stream",
       "stream": "stdout",
       "text": [
        "\n",
        "PrestonCourt"
       ]
      },
      {
       "output_type": "stream",
       "stream": "stdout",
       "text": [
        "\n",
        "AntelopeFlats"
       ]
      },
      {
       "output_type": "stream",
       "stream": "stdout",
       "text": [
        "\n",
        "RomeoRomeo"
       ]
      },
      {
       "output_type": "stream",
       "stream": "stdout",
       "text": [
        "\n",
        "BearsBlanketsQuilts"
       ]
      },
      {
       "output_type": "stream",
       "stream": "stdout",
       "text": [
        "\n",
        "TableTopJewels"
       ]
      },
      {
       "output_type": "stream",
       "stream": "stdout",
       "text": [
        "\n",
        "ElliesTiaras"
       ]
      },
      {
       "output_type": "stream",
       "stream": "stdout",
       "text": [
        "\n",
        "artsandaccents"
       ]
      },
      {
       "output_type": "stream",
       "stream": "stdout",
       "text": [
        "\n",
        "AislingDezines"
       ]
      },
      {
       "output_type": "stream",
       "stream": "stdout",
       "text": [
        "\n",
        "FashionShop19"
       ]
      },
      {
       "output_type": "stream",
       "stream": "stdout",
       "text": [
        "\n",
        "leafamore"
       ]
      },
      {
       "output_type": "stream",
       "stream": "stdout",
       "text": [
        "\n",
        "KnittingLand"
       ]
      },
      {
       "output_type": "stream",
       "stream": "stdout",
       "text": [
        "\n",
        "KnittedWinterHats"
       ]
      },
      {
       "output_type": "stream",
       "stream": "stdout",
       "text": [
        "\n",
        "ArielArtsKnits"
       ]
      },
      {
       "output_type": "stream",
       "stream": "stdout",
       "text": [
        "\n",
        "SmallEarthVintage"
       ]
      },
      {
       "output_type": "stream",
       "stream": "stdout",
       "text": [
        "\n",
        "wincsike"
       ]
      },
      {
       "output_type": "stream",
       "stream": "stdout",
       "text": [
        "\n",
        "VeryCarey"
       ]
      },
      {
       "output_type": "stream",
       "stream": "stdout",
       "text": [
        "\n",
        "PetitePrintsandProps"
       ]
      },
      {
       "output_type": "stream",
       "stream": "stdout",
       "text": [
        "\n",
        "danielastange"
       ]
      },
      {
       "output_type": "stream",
       "stream": "stdout",
       "text": [
        "\n",
        "MaryAliceFeltLikeIt"
       ]
      },
      {
       "output_type": "stream",
       "stream": "stdout",
       "text": [
        "\n",
        "Imalittlecrafty"
       ]
      },
      {
       "output_type": "stream",
       "stream": "stdout",
       "text": [
        "\n",
        "SchoolSpiritKnits"
       ]
      },
      {
       "output_type": "stream",
       "stream": "stdout",
       "text": [
        "\n",
        "TamsCraftyKnits"
       ]
      },
      {
       "output_type": "stream",
       "stream": "stdout",
       "text": [
        "\n",
        "ALLCAPSknithats"
       ]
      },
      {
       "output_type": "stream",
       "stream": "stdout",
       "text": [
        "\n",
        "HandmadebyPaulaMary"
       ]
      },
      {
       "output_type": "stream",
       "stream": "stdout",
       "text": [
        "\n",
        "itaveroknits"
       ]
      },
      {
       "output_type": "stream",
       "stream": "stdout",
       "text": [
        "\n",
        "Benjis"
       ]
      },
      {
       "output_type": "stream",
       "stream": "stdout",
       "text": [
        "\n",
        "positivepurls"
       ]
      },
      {
       "output_type": "stream",
       "stream": "stdout",
       "text": [
        "\n",
        "knitaccessoriesfadik"
       ]
      },
      {
       "output_type": "stream",
       "stream": "stdout",
       "text": [
        "\n",
        "NewbornEwe"
       ]
      },
      {
       "output_type": "stream",
       "stream": "stdout",
       "text": [
        "\n",
        "LadyJsHodgepodgery"
       ]
      },
      {
       "output_type": "stream",
       "stream": "stdout",
       "text": [
        "\n",
        "NoraTones"
       ]
      },
      {
       "output_type": "stream",
       "stream": "stdout",
       "text": [
        "\n",
        "Aerophane"
       ]
      },
      {
       "output_type": "stream",
       "stream": "stdout",
       "text": [
        "\n",
        "Degra2"
       ]
      },
      {
       "output_type": "stream",
       "stream": "stdout",
       "text": [
        "\n",
        "GranasCorner"
       ]
      },
      {
       "output_type": "stream",
       "stream": "stdout",
       "text": [
        "\n",
        "SmallTownHandMade"
       ]
      },
      {
       "output_type": "stream",
       "stream": "stdout",
       "text": [
        "\n",
        "CrasiiCoco"
       ]
      },
      {
       "output_type": "stream",
       "stream": "stdout",
       "text": [
        "\n",
        "AnnaMariaLocke"
       ]
      },
      {
       "output_type": "stream",
       "stream": "stdout",
       "text": [
        "\n",
        "baldyhillhomemade"
       ]
      },
      {
       "output_type": "stream",
       "stream": "stdout",
       "text": [
        "\n",
        "3colon7"
       ]
      },
      {
       "output_type": "stream",
       "stream": "stdout",
       "text": [
        "\n",
        "TurtleTreasures"
       ]
      },
      {
       "output_type": "stream",
       "stream": "stdout",
       "text": [
        "\n",
        "spiltmilkdesigns"
       ]
      },
      {
       "output_type": "stream",
       "stream": "stdout",
       "text": [
        "\n",
        "TwoOfWandsShop"
       ]
      },
      {
       "output_type": "stream",
       "stream": "stdout",
       "text": [
        "\n",
        "MissLisBoutique"
       ]
      },
      {
       "output_type": "stream",
       "stream": "stdout",
       "text": [
        "\n",
        "MabelMadeThis"
       ]
      },
      {
       "output_type": "stream",
       "stream": "stdout",
       "text": [
        "\n",
        "echocraftings"
       ]
      },
      {
       "output_type": "stream",
       "stream": "stdout",
       "text": [
        "\n",
        "SylviDesigns"
       ]
      },
      {
       "output_type": "stream",
       "stream": "stdout",
       "text": [
        "\n",
        "FreshtoDeathVintage"
       ]
      },
      {
       "output_type": "stream",
       "stream": "stdout",
       "text": [
        "\n",
        "JennyandPearl"
       ]
      },
      {
       "output_type": "stream",
       "stream": "stdout",
       "text": [
        "\n",
        "SimplyWestCoast"
       ]
      },
      {
       "output_type": "stream",
       "stream": "stdout",
       "text": [
        "\n",
        "CDBStudio"
       ]
      },
      {
       "output_type": "stream",
       "stream": "stdout",
       "text": [
        "\n",
        "WhiteThorneTree"
       ]
      },
      {
       "output_type": "stream",
       "stream": "stdout",
       "text": [
        "\n",
        "MariArtFelting"
       ]
      },
      {
       "output_type": "stream",
       "stream": "stdout",
       "text": [
        "\n",
        "LydiasCreations101"
       ]
      },
      {
       "output_type": "stream",
       "stream": "stdout",
       "text": [
        "\n",
        "KnitStitchCross"
       ]
      },
      {
       "output_type": "stream",
       "stream": "stdout",
       "text": [
        "\n",
        "UnlimitedCraftworks"
       ]
      },
      {
       "output_type": "stream",
       "stream": "stdout",
       "text": [
        "\n",
        "quatresaison"
       ]
      },
      {
       "output_type": "stream",
       "stream": "stdout",
       "text": [
        "\n",
        "TiffSitsandKnits"
       ]
      },
      {
       "output_type": "stream",
       "stream": "stdout",
       "text": [
        "\n",
        "ladouchka"
       ]
      },
      {
       "output_type": "stream",
       "stream": "stdout",
       "text": [
        "\n",
        "VintagePolkaShop"
       ]
      },
      {
       "output_type": "stream",
       "stream": "stdout",
       "text": [
        "\n",
        "recombinantrider"
       ]
      },
      {
       "output_type": "stream",
       "stream": "stdout",
       "text": [
        "\n",
        "CardinalLane"
       ]
      },
      {
       "output_type": "stream",
       "stream": "stdout",
       "text": [
        "\n",
        "bigbangzero"
       ]
      },
      {
       "output_type": "stream",
       "stream": "stdout",
       "text": [
        "\n",
        "BigFirRidge"
       ]
      },
      {
       "output_type": "stream",
       "stream": "stdout",
       "text": [
        "\n",
        "knitsdwarfs"
       ]
      },
      {
       "output_type": "stream",
       "stream": "stdout",
       "text": [
        "\n",
        "takemyinventory"
       ]
      },
      {
       "output_type": "stream",
       "stream": "stdout",
       "text": [
        "\n",
        "AgneseKnits"
       ]
      },
      {
       "output_type": "stream",
       "stream": "stdout",
       "text": [
        "\n",
        "YASEMINYASEMIN"
       ]
      },
      {
       "output_type": "stream",
       "stream": "stdout",
       "text": [
        "\n",
        "luludress"
       ]
      },
      {
       "output_type": "stream",
       "stream": "stdout",
       "text": [
        "\n",
        "KnitzAndFeltz"
       ]
      },
      {
       "output_type": "stream",
       "stream": "stdout",
       "text": [
        "\n",
        "WinterWoollys"
       ]
      },
      {
       "output_type": "stream",
       "stream": "stdout",
       "text": [
        "\n",
        "Purl1VintageToo"
       ]
      },
      {
       "output_type": "stream",
       "stream": "stdout",
       "text": [
        "\n",
        "PIQI"
       ]
      },
      {
       "output_type": "stream",
       "stream": "stdout",
       "text": [
        "\n",
        "MarryGKnitCrochet"
       ]
      },
      {
       "output_type": "stream",
       "stream": "stdout",
       "text": [
        "\n",
        "GoldenYarn"
       ]
      },
      {
       "output_type": "stream",
       "stream": "stdout",
       "text": [
        "\n",
        "accessoriesbynez"
       ]
      },
      {
       "output_type": "stream",
       "stream": "stdout",
       "text": [
        "\n",
        "FairlyKnit"
       ]
      },
      {
       "output_type": "stream",
       "stream": "stdout",
       "text": [
        "\n",
        "ClosetbyFinn"
       ]
      },
      {
       "output_type": "stream",
       "stream": "stdout",
       "text": [
        "\n",
        "IvithjasCreations"
       ]
      },
      {
       "output_type": "stream",
       "stream": "stdout",
       "text": [
        "\n",
        "WeThreePiggies"
       ]
      },
      {
       "output_type": "stream",
       "stream": "stdout",
       "text": [
        "\n",
        "TheYarnOverProject"
       ]
      },
      {
       "output_type": "stream",
       "stream": "stdout",
       "text": [
        "\n",
        "ElleVintage369"
       ]
      },
      {
       "output_type": "stream",
       "stream": "stdout",
       "text": [
        "\n",
        "MinniesFlea"
       ]
      },
      {
       "output_type": "stream",
       "stream": "stdout",
       "text": [
        "\n",
        "DawnLdesigns"
       ]
      },
      {
       "output_type": "stream",
       "stream": "stdout",
       "text": [
        "\n",
        "KnitzyBlonde"
       ]
      },
      {
       "output_type": "stream",
       "stream": "stdout",
       "text": [
        "\n",
        "DapperAnnie"
       ]
      },
      {
       "output_type": "stream",
       "stream": "stdout",
       "text": [
        "\n",
        "ForTheGuys"
       ]
      },
      {
       "output_type": "stream",
       "stream": "stdout",
       "text": [
        "\n",
        "AllAboutStripes"
       ]
      },
      {
       "output_type": "stream",
       "stream": "stdout",
       "text": [
        "\n",
        "KatjaVonDesign"
       ]
      },
      {
       "output_type": "stream",
       "stream": "stdout",
       "text": [
        "\n",
        "electricbunnycrafts"
       ]
      },
      {
       "output_type": "stream",
       "stream": "stdout",
       "text": [
        "\n",
        "VandOUA"
       ]
      },
      {
       "output_type": "stream",
       "stream": "stdout",
       "text": [
        "\n",
        "BorealisHandicrafts"
       ]
      },
      {
       "output_type": "stream",
       "stream": "stdout",
       "text": [
        "\n",
        "BuggyBooCrafts"
       ]
      },
      {
       "output_type": "stream",
       "stream": "stdout",
       "text": [
        "\n",
        "JYCCreations"
       ]
      },
      {
       "output_type": "stream",
       "stream": "stdout",
       "text": [
        "\n",
        "YouNeedMoreFiber"
       ]
      },
      {
       "output_type": "stream",
       "stream": "stdout",
       "text": [
        "\n",
        "Iheartbeaniebabies"
       ]
      },
      {
       "output_type": "stream",
       "stream": "stdout",
       "text": [
        "\n",
        "Ricocoinc"
       ]
      },
      {
       "output_type": "stream",
       "stream": "stdout",
       "text": [
        "\n",
        "wearnative"
       ]
      },
      {
       "output_type": "stream",
       "stream": "stdout",
       "text": [
        "\n",
        "LacysLittleAcre"
       ]
      },
      {
       "output_type": "stream",
       "stream": "stdout",
       "text": [
        "\n",
        "bb2213"
       ]
      },
      {
       "output_type": "stream",
       "stream": "stdout",
       "text": [
        "\n",
        "HollysAccessories"
       ]
      },
      {
       "output_type": "stream",
       "stream": "stdout",
       "text": [
        "\n",
        "KnottyOrNiceKnits"
       ]
      },
      {
       "output_type": "stream",
       "stream": "stdout",
       "text": [
        "\n",
        "TulsaToys"
       ]
      },
      {
       "output_type": "stream",
       "stream": "stdout",
       "text": [
        "\n",
        "AnEpicStitch"
       ]
      },
      {
       "output_type": "stream",
       "stream": "stdout",
       "text": [
        "\n",
        "HeartNSoleCreations"
       ]
      },
      {
       "output_type": "stream",
       "stream": "stdout",
       "text": [
        "\n",
        "dirtybirdiesvintage"
       ]
      },
      {
       "output_type": "stream",
       "stream": "stdout",
       "text": [
        "\n",
        "artwardrobe"
       ]
      },
      {
       "output_type": "stream",
       "stream": "stdout",
       "text": [
        "\n",
        "HandmadeByEvelien"
       ]
      },
      {
       "output_type": "stream",
       "stream": "stdout",
       "text": [
        "\n",
        "TutisBoutique"
       ]
      },
      {
       "output_type": "stream",
       "stream": "stdout",
       "text": [
        "\n",
        "HobiholikFashion"
       ]
      },
      {
       "output_type": "stream",
       "stream": "stdout",
       "text": [
        "\n",
        "atiltKC"
       ]
      },
      {
       "output_type": "stream",
       "stream": "stdout",
       "text": [
        "\n",
        "EnchantedKnits"
       ]
      },
      {
       "output_type": "stream",
       "stream": "stdout",
       "text": [
        "\n",
        "KatySueKnits"
       ]
      },
      {
       "output_type": "stream",
       "stream": "stdout",
       "text": [
        "\n",
        "RobinsNestBoutique"
       ]
      },
      {
       "output_type": "stream",
       "stream": "stdout",
       "text": [
        "\n",
        "GataJewelry"
       ]
      },
      {
       "output_type": "stream",
       "stream": "stdout",
       "text": [
        "\n",
        "KatrinKnitting"
       ]
      },
      {
       "output_type": "stream",
       "stream": "stdout",
       "text": [
        "\n",
        "9ElizabethStreet"
       ]
      },
      {
       "output_type": "stream",
       "stream": "stdout",
       "text": [
        "\n",
        "Pikeys"
       ]
      },
      {
       "output_type": "stream",
       "stream": "stdout",
       "text": [
        "\n",
        "EadoVintage"
       ]
      },
      {
       "output_type": "stream",
       "stream": "stdout",
       "text": [
        "\n",
        "justalittleknitter"
       ]
      },
      {
       "output_type": "stream",
       "stream": "stdout",
       "text": [
        "\n",
        "caginas"
       ]
      },
      {
       "output_type": "stream",
       "stream": "stdout",
       "text": [
        "\n",
        "IngaDesignShop"
       ]
      },
      {
       "output_type": "stream",
       "stream": "stdout",
       "text": [
        "\n",
        "GingerBearKnitwear"
       ]
      },
      {
       "output_type": "stream",
       "stream": "stdout",
       "text": [
        "\n",
        "GiuliaKnit"
       ]
      },
      {
       "output_type": "stream",
       "stream": "stdout",
       "text": [
        "\n",
        "LaReserveDesign"
       ]
      },
      {
       "output_type": "stream",
       "stream": "stdout",
       "text": [
        "\n",
        "selfex"
       ]
      },
      {
       "output_type": "stream",
       "stream": "stdout",
       "text": [
        "\n",
        "beanieknitsnmore"
       ]
      },
      {
       "output_type": "stream",
       "stream": "stdout",
       "text": [
        "\n",
        "BlossomsByJuneLynn"
       ]
      },
      {
       "output_type": "stream",
       "stream": "stdout",
       "text": [
        "\n",
        "NeckLyfe"
       ]
      },
      {
       "output_type": "stream",
       "stream": "stdout",
       "text": [
        "\n",
        "snapincharms"
       ]
      },
      {
       "output_type": "stream",
       "stream": "stdout",
       "text": [
        "\n",
        "mioukids"
       ]
      },
      {
       "output_type": "stream",
       "stream": "stdout",
       "text": [
        "\n",
        "Savvyskeins"
       ]
      },
      {
       "output_type": "stream",
       "stream": "stdout",
       "text": [
        "\n",
        "LuzyFlor"
       ]
      },
      {
       "output_type": "stream",
       "stream": "stdout",
       "text": [
        "\n",
        "ScandinavianCrafts"
       ]
      },
      {
       "output_type": "stream",
       "stream": "stdout",
       "text": [
        "\n",
        "NorthStarrVintage"
       ]
      },
      {
       "output_type": "stream",
       "stream": "stdout",
       "text": [
        "\n",
        "lienra"
       ]
      },
      {
       "output_type": "stream",
       "stream": "stdout",
       "text": [
        "\n",
        "GrandmaDragonsAttic"
       ]
      },
      {
       "output_type": "stream",
       "stream": "stdout",
       "text": [
        "\n",
        "KnittyFashions"
       ]
      },
      {
       "output_type": "stream",
       "stream": "stdout",
       "text": [
        "\n",
        "CreatiKnit"
       ]
      },
      {
       "output_type": "stream",
       "stream": "stdout",
       "text": [
        "\n",
        "MarikaHandKnits"
       ]
      },
      {
       "output_type": "stream",
       "stream": "stdout",
       "text": [
        "\n",
        "AlaskanKnitGifts"
       ]
      },
      {
       "output_type": "stream",
       "stream": "stdout",
       "text": [
        "\n",
        "RubyHeartCrafts"
       ]
      },
      {
       "output_type": "stream",
       "stream": "stdout",
       "text": [
        "\n",
        "LavenderLassies"
       ]
      },
      {
       "output_type": "stream",
       "stream": "stdout",
       "text": [
        "\n",
        "GrannieKayGiftsCraft"
       ]
      },
      {
       "output_type": "stream",
       "stream": "stdout",
       "text": [
        "\n",
        "KnittingDailyShop"
       ]
      },
      {
       "output_type": "stream",
       "stream": "stdout",
       "text": [
        "\n",
        "KadyLadyLoo"
       ]
      },
      {
       "output_type": "stream",
       "stream": "stdout",
       "text": [
        "\n",
        "socksandmittens"
       ]
      },
      {
       "output_type": "stream",
       "stream": "stdout",
       "text": [
        "\n",
        "CutseyOnEtsy"
       ]
      },
      {
       "output_type": "stream",
       "stream": "stdout",
       "text": [
        "\n",
        "artesana"
       ]
      },
      {
       "output_type": "stream",
       "stream": "stdout",
       "text": [
        "\n",
        "SimplyPlaying1"
       ]
      },
      {
       "output_type": "stream",
       "stream": "stdout",
       "text": [
        "\n",
        "upupstar"
       ]
      },
      {
       "output_type": "stream",
       "stream": "stdout",
       "text": [
        "\n",
        "RebeccasRoomKnitting"
       ]
      },
      {
       "output_type": "stream",
       "stream": "stdout",
       "text": [
        "\n",
        "StyleandSalvage"
       ]
      },
      {
       "output_type": "stream",
       "stream": "stdout",
       "text": [
        "\n",
        "KLizVintage"
       ]
      },
      {
       "output_type": "stream",
       "stream": "stdout",
       "text": [
        "\n",
        "Nineteenzerosix"
       ]
      },
      {
       "output_type": "stream",
       "stream": "stdout",
       "text": [
        "\n",
        "KlotoCute"
       ]
      },
      {
       "output_type": "stream",
       "stream": "stdout",
       "text": [
        "\n",
        "DanaFunKnits"
       ]
      },
      {
       "output_type": "stream",
       "stream": "stdout",
       "text": [
        "\n",
        "LittleBelleBelle"
       ]
      },
      {
       "output_type": "stream",
       "stream": "stdout",
       "text": [
        "\n",
        "PETALKNITS"
       ]
      },
      {
       "output_type": "stream",
       "stream": "stdout",
       "text": [
        "\n",
        "LoveFuzz"
       ]
      },
      {
       "output_type": "stream",
       "stream": "stdout",
       "text": [
        "\n",
        "kozikreation"
       ]
      },
      {
       "output_type": "stream",
       "stream": "stdout",
       "text": [
        "\n",
        "LoveUnspokenLLC"
       ]
      },
      {
       "output_type": "stream",
       "stream": "stdout",
       "text": [
        "\n",
        "CraftyHomeandMore"
       ]
      },
      {
       "output_type": "stream",
       "stream": "stdout",
       "text": [
        "\n",
        "CarterPEACEworks"
       ]
      },
      {
       "output_type": "stream",
       "stream": "stdout",
       "text": [
        "\n",
        "AnnaleesAccents"
       ]
      },
      {
       "output_type": "stream",
       "stream": "stdout",
       "text": [
        "\n",
        "ImperialVintageBTQ"
       ]
      },
      {
       "output_type": "stream",
       "stream": "stdout",
       "text": [
        "\n",
        "LaimaShop"
       ]
      },
      {
       "output_type": "stream",
       "stream": "stdout",
       "text": [
        "\n",
        "MarvelousMittens"
       ]
      },
      {
       "output_type": "stream",
       "stream": "stdout",
       "text": [
        "\n",
        "Bellaknitsandgiggles"
       ]
      },
      {
       "output_type": "stream",
       "stream": "stdout",
       "text": [
        "\n",
        "MyBeautifulLifeShop"
       ]
      },
      {
       "output_type": "stream",
       "stream": "stdout",
       "text": [
        "\n",
        "SharonsHomeSewn"
       ]
      },
      {
       "output_type": "stream",
       "stream": "stdout",
       "text": [
        "\n",
        "KnitteryRow"
       ]
      },
      {
       "output_type": "stream",
       "stream": "stdout",
       "text": [
        "\n",
        "MarkaDecorFashion"
       ]
      },
      {
       "output_type": "stream",
       "stream": "stdout",
       "text": [
        "\n",
        "Fanchi"
       ]
      },
      {
       "output_type": "stream",
       "stream": "stdout",
       "text": [
        "\n",
        "LidamseyKnits"
       ]
      },
      {
       "output_type": "stream",
       "stream": "stdout",
       "text": [
        "\n",
        "LeMarrakechStore"
       ]
      },
      {
       "output_type": "stream",
       "stream": "stdout",
       "text": [
        "\n",
        "TheKnotHaus"
       ]
      },
      {
       "output_type": "stream",
       "stream": "stdout",
       "text": [
        "\n",
        "RedLeafStitchCraft"
       ]
      },
      {
       "output_type": "stream",
       "stream": "stdout",
       "text": [
        "\n",
        "AirbrushStuf"
       ]
      },
      {
       "output_type": "stream",
       "stream": "stdout",
       "text": [
        "\n",
        "galafilc"
       ]
      },
      {
       "output_type": "stream",
       "stream": "stdout",
       "text": [
        "\n",
        "fone"
       ]
      },
      {
       "output_type": "stream",
       "stream": "stdout",
       "text": [
        "\n",
        "LittleEvaDiva"
       ]
      },
      {
       "output_type": "stream",
       "stream": "stdout",
       "text": [
        "\n",
        "MinxVTG"
       ]
      },
      {
       "output_type": "stream",
       "stream": "stdout",
       "text": [
        "\n",
        "ohbAby1112"
       ]
      },
      {
       "output_type": "stream",
       "stream": "stdout",
       "text": [
        "\n",
        "babyknitpicks"
       ]
      },
      {
       "output_type": "stream",
       "stream": "stdout",
       "text": [
        "\n",
        "Knitrhapsody"
       ]
      },
      {
       "output_type": "stream",
       "stream": "stdout",
       "text": [
        "\n",
        "IvetaStasiulioniene"
       ]
      },
      {
       "output_type": "stream",
       "stream": "stdout",
       "text": [
        "\n",
        "SweetNancyVintage"
       ]
      },
      {
       "output_type": "stream",
       "stream": "stdout",
       "text": [
        "\n",
        "topazpearls"
       ]
      },
      {
       "output_type": "stream",
       "stream": "stdout",
       "text": [
        "\n",
        "BeautifulSunrise"
       ]
      },
      {
       "output_type": "stream",
       "stream": "stdout",
       "text": [
        "\n",
        "FairyTaleNightmares"
       ]
      },
      {
       "output_type": "stream",
       "stream": "stdout",
       "text": [
        "\n",
        "Handmadecrafter"
       ]
      },
      {
       "output_type": "stream",
       "stream": "stdout",
       "text": [
        "\n",
        "kissproof"
       ]
      },
      {
       "output_type": "stream",
       "stream": "stdout",
       "text": [
        "\n",
        "PeachBlossomHats"
       ]
      },
      {
       "output_type": "stream",
       "stream": "stdout",
       "text": [
        "\n",
        "beaniesbybubba"
       ]
      },
      {
       "output_type": "stream",
       "stream": "stdout",
       "text": [
        "\n",
        "CrackedPistachios"
       ]
      },
      {
       "output_type": "stream",
       "stream": "stdout",
       "text": [
        "\n",
        "kiFaitMain"
       ]
      },
      {
       "output_type": "stream",
       "stream": "stdout",
       "text": [
        "\n",
        "TheRuffledbum"
       ]
      },
      {
       "output_type": "stream",
       "stream": "stdout",
       "text": [
        "\n",
        "MindofMolly"
       ]
      },
      {
       "output_type": "stream",
       "stream": "stdout",
       "text": [
        "\n",
        "ElenaLstudio"
       ]
      },
      {
       "output_type": "stream",
       "stream": "stdout",
       "text": [
        "\n",
        "WoolFeltArt"
       ]
      },
      {
       "output_type": "stream",
       "stream": "stdout",
       "text": [
        "\n",
        "debrobinson"
       ]
      },
      {
       "output_type": "stream",
       "stream": "stdout",
       "text": [
        "\n",
        "KemiCreations"
       ]
      },
      {
       "output_type": "stream",
       "stream": "stdout",
       "text": [
        "\n",
        "Lanaterapia"
       ]
      },
      {
       "output_type": "stream",
       "stream": "stdout",
       "text": [
        "\n",
        "twinkletoesmarket"
       ]
      },
      {
       "output_type": "stream",
       "stream": "stdout",
       "text": [
        "\n",
        "QuietUnrest2"
       ]
      },
      {
       "output_type": "stream",
       "stream": "stdout",
       "text": [
        "\n",
        "FoxiesFancy"
       ]
      },
      {
       "output_type": "stream",
       "stream": "stdout",
       "text": [
        "\n",
        "mishsworld"
       ]
      },
      {
       "output_type": "stream",
       "stream": "stdout",
       "text": [
        "\n",
        "barreez"
       ]
      },
      {
       "output_type": "stream",
       "stream": "stdout",
       "text": [
        "\n",
        "KALEIDOO"
       ]
      },
      {
       "output_type": "stream",
       "stream": "stdout",
       "text": [
        "\n",
        "YarnBarn305"
       ]
      },
      {
       "output_type": "stream",
       "stream": "stdout",
       "text": [
        "\n",
        "Tuttolv"
       ]
      },
      {
       "output_type": "stream",
       "stream": "stdout",
       "text": [
        "\n",
        "scarfnurlu"
       ]
      },
      {
       "output_type": "stream",
       "stream": "stdout",
       "text": [
        "\n",
        "Janeswhatnots"
       ]
      },
      {
       "output_type": "stream",
       "stream": "stdout",
       "text": [
        "\n",
        "smartcrochet"
       ]
      },
      {
       "output_type": "stream",
       "stream": "stdout",
       "text": [
        "\n",
        "TanglinKnots"
       ]
      },
      {
       "output_type": "stream",
       "stream": "stdout",
       "text": [
        "\n",
        "DonnasWhimsicals"
       ]
      },
      {
       "output_type": "stream",
       "stream": "stdout",
       "text": [
        "\n",
        "CoconutChic"
       ]
      },
      {
       "output_type": "stream",
       "stream": "stdout",
       "text": [
        "\n",
        "PauliszkaKnits"
       ]
      },
      {
       "output_type": "stream",
       "stream": "stdout",
       "text": [
        "\n",
        "AnoushkaDesign"
       ]
      },
      {
       "output_type": "stream",
       "stream": "stdout",
       "text": [
        "\n",
        "TheCraftinScot"
       ]
      },
      {
       "output_type": "stream",
       "stream": "stdout",
       "text": [
        "\n",
        "RiverStonesFiberArts"
       ]
      },
      {
       "output_type": "stream",
       "stream": "stdout",
       "text": [
        "\n",
        "NSvintage"
       ]
      },
      {
       "output_type": "stream",
       "stream": "stdout",
       "text": [
        "\n",
        "elkasoftwear"
       ]
      },
      {
       "output_type": "stream",
       "stream": "stdout",
       "text": [
        "\n",
        "SnuggleMoose"
       ]
      },
      {
       "output_type": "stream",
       "stream": "stdout",
       "text": [
        "\n",
        "BlackRain4Handmade"
       ]
      },
      {
       "output_type": "stream",
       "stream": "stdout",
       "text": [
        "\n",
        "LeNidDuMerleHandKnit"
       ]
      },
      {
       "output_type": "stream",
       "stream": "stdout",
       "text": [
        "\n",
        "Incidentallyforyou"
       ]
      },
      {
       "output_type": "stream",
       "stream": "stdout",
       "text": [
        "\n",
        "GiftsbyGenie"
       ]
      },
      {
       "output_type": "stream",
       "stream": "stdout",
       "text": [
        "\n",
        "InTheRedwoods"
       ]
      },
      {
       "output_type": "stream",
       "stream": "stdout",
       "text": [
        "\n",
        "lillamormor"
       ]
      },
      {
       "output_type": "stream",
       "stream": "stdout",
       "text": [
        "\n",
        "FanmMon"
       ]
      },
      {
       "output_type": "stream",
       "stream": "stdout",
       "text": [
        "\n",
        "KreationsByKirstenL"
       ]
      },
      {
       "output_type": "stream",
       "stream": "stdout",
       "text": [
        "\n",
        "ogood"
       ]
      },
      {
       "output_type": "stream",
       "stream": "stdout",
       "text": [
        "\n",
        "PandorasBoxofKnits"
       ]
      },
      {
       "output_type": "stream",
       "stream": "stdout",
       "text": [
        "\n",
        "earthandberries"
       ]
      },
      {
       "output_type": "stream",
       "stream": "stdout",
       "text": [
        "\n",
        "NeutralNellies"
       ]
      },
      {
       "output_type": "stream",
       "stream": "stdout",
       "text": [
        "\n",
        "EPSILONstudio"
       ]
      },
      {
       "output_type": "stream",
       "stream": "stdout",
       "text": [
        "\n",
        "KayEmilyDesigns"
       ]
      },
      {
       "output_type": "stream",
       "stream": "stdout",
       "text": [
        "\n",
        "ThePurplePeaPod"
       ]
      },
      {
       "output_type": "stream",
       "stream": "stdout",
       "text": [
        "\n",
        "MeridianMade"
       ]
      },
      {
       "output_type": "stream",
       "stream": "stdout",
       "text": [
        "\n",
        "GusandRosieU"
       ]
      },
      {
       "output_type": "stream",
       "stream": "stdout",
       "text": [
        "\n",
        "nutsaboutknitting"
       ]
      },
      {
       "output_type": "stream",
       "stream": "stdout",
       "text": [
        "\n",
        "SouthvilleSpitters"
       ]
      },
      {
       "output_type": "stream",
       "stream": "stdout",
       "text": [
        "\n",
        "thewoolypossum"
       ]
      },
      {
       "output_type": "stream",
       "stream": "stdout",
       "text": [
        "\n",
        "pinkcandystudio"
       ]
      },
      {
       "output_type": "stream",
       "stream": "stdout",
       "text": [
        "\n",
        "DonizBaby"
       ]
      },
      {
       "output_type": "stream",
       "stream": "stdout",
       "text": [
        "\n",
        "lucylev"
       ]
      },
      {
       "output_type": "stream",
       "stream": "stdout",
       "text": [
        "\n",
        "freelotus3"
       ]
      },
      {
       "output_type": "stream",
       "stream": "stdout",
       "text": [
        "\n",
        "cozyknitsforyou"
       ]
      },
      {
       "output_type": "stream",
       "stream": "stdout",
       "text": [
        "\n",
        "Klosetkrafter"
       ]
      },
      {
       "output_type": "stream",
       "stream": "stdout",
       "text": [
        "\n",
        "HELGASYARNDESIGNS"
       ]
      },
      {
       "output_type": "stream",
       "stream": "stdout",
       "text": [
        "\n",
        "lartcraft"
       ]
      },
      {
       "output_type": "stream",
       "stream": "stdout",
       "text": [
        "\n",
        "byMagic"
       ]
      },
      {
       "output_type": "stream",
       "stream": "stdout",
       "text": [
        "\n",
        "PhylPhil"
       ]
      },
      {
       "output_type": "stream",
       "stream": "stdout",
       "text": [
        "\n",
        "LovableProps"
       ]
      },
      {
       "output_type": "stream",
       "stream": "stdout",
       "text": [
        "\n",
        "Gitasknitwear"
       ]
      },
      {
       "output_type": "stream",
       "stream": "stdout",
       "text": [
        "\n",
        "GieseDeseiGns"
       ]
      },
      {
       "output_type": "stream",
       "stream": "stdout",
       "text": [
        "\n",
        "MinitaStudio"
       ]
      },
      {
       "output_type": "stream",
       "stream": "stdout",
       "text": [
        "\n",
        "suznews"
       ]
      },
      {
       "output_type": "stream",
       "stream": "stdout",
       "text": [
        "\n",
        "lemonsandcream"
       ]
      },
      {
       "output_type": "stream",
       "stream": "stdout",
       "text": [
        "\n",
        "BebeOhLaLaEtsy"
       ]
      },
      {
       "output_type": "stream",
       "stream": "stdout",
       "text": [
        "\n",
        "KittlesKnits"
       ]
      },
      {
       "output_type": "stream",
       "stream": "stdout",
       "text": [
        "\n",
        "MikyNewbornProps"
       ]
      },
      {
       "output_type": "stream",
       "stream": "stdout",
       "text": [
        "\n",
        "HandKnitByHanna"
       ]
      },
      {
       "output_type": "stream",
       "stream": "stdout",
       "text": [
        "\n",
        "mkneedlework"
       ]
      },
      {
       "output_type": "stream",
       "stream": "stdout",
       "text": [
        "\n",
        "ShopRainyDayCrafts"
       ]
      },
      {
       "output_type": "stream",
       "stream": "stdout",
       "text": [
        "\n",
        "ThingyThingz"
       ]
      },
      {
       "output_type": "stream",
       "stream": "stdout",
       "text": [
        "\n",
        "callmemimi"
       ]
      },
      {
       "output_type": "stream",
       "stream": "stdout",
       "text": [
        "\n",
        "CozyPhotoProps"
       ]
      },
      {
       "output_type": "stream",
       "stream": "stdout",
       "text": [
        "\n",
        "PupaShop"
       ]
      },
      {
       "output_type": "stream",
       "stream": "stdout",
       "text": [
        "\n",
        "anodtomod"
       ]
      },
      {
       "output_type": "stream",
       "stream": "stdout",
       "text": [
        "\n",
        "countrycuttins"
       ]
      },
      {
       "output_type": "stream",
       "stream": "stdout",
       "text": [
        "\n",
        "BIRKENknits"
       ]
      },
      {
       "output_type": "stream",
       "stream": "stdout",
       "text": [
        "\n",
        "MarkadecorPremium"
       ]
      },
      {
       "output_type": "stream",
       "stream": "stdout",
       "text": [
        "\n",
        "PeaceThruKnitting"
       ]
      },
      {
       "output_type": "stream",
       "stream": "stdout",
       "text": [
        "\n",
        "nerina52"
       ]
      },
      {
       "output_type": "stream",
       "stream": "stdout",
       "text": [
        "\n",
        "JustPatTreasuresshop"
       ]
      },
      {
       "output_type": "stream",
       "stream": "stdout",
       "text": [
        "\n",
        "epiknitandcrochet"
       ]
      },
      {
       "output_type": "stream",
       "stream": "stdout",
       "text": [
        "\n",
        "reflectionsbyds"
       ]
      },
      {
       "output_type": "stream",
       "stream": "stdout",
       "text": [
        "\n",
        "iHappyItems"
       ]
      },
      {
       "output_type": "stream",
       "stream": "stdout",
       "text": [
        "\n",
        "BlueStockinette"
       ]
      },
      {
       "output_type": "stream",
       "stream": "stdout",
       "text": [
        "\n",
        "FreeSpiritHats"
       ]
      },
      {
       "output_type": "stream",
       "stream": "stdout",
       "text": [
        "\n",
        "LuVitaChic"
       ]
      },
      {
       "output_type": "stream",
       "stream": "stdout",
       "text": [
        "\n",
        "mylittlecreations01"
       ]
      },
      {
       "output_type": "stream",
       "stream": "stdout",
       "text": [
        "\n",
        "KarryDesigns"
       ]
      },
      {
       "output_type": "stream",
       "stream": "stdout",
       "text": [
        "\n",
        "Africancrab"
       ]
      },
      {
       "output_type": "stream",
       "stream": "stdout",
       "text": [
        "\n",
        "spinningsheep"
       ]
      },
      {
       "output_type": "stream",
       "stream": "stdout",
       "text": [
        "\n",
        "HeartsRunFree"
       ]
      },
      {
       "output_type": "stream",
       "stream": "stdout",
       "text": [
        "\n",
        "lanapara"
       ]
      },
      {
       "output_type": "stream",
       "stream": "stdout",
       "text": [
        "\n",
        "JoAnnaSeiter"
       ]
      },
      {
       "output_type": "stream",
       "stream": "stdout",
       "text": [
        "\n",
        "GloriousKnittingShop"
       ]
      },
      {
       "output_type": "stream",
       "stream": "stdout",
       "text": [
        "\n",
        "LibertyKnits"
       ]
      },
      {
       "output_type": "stream",
       "stream": "stdout",
       "text": [
        "\n",
        "franticcrafter"
       ]
      },
      {
       "output_type": "stream",
       "stream": "stdout",
       "text": [
        "\n",
        "JillyMix"
       ]
      },
      {
       "output_type": "stream",
       "stream": "stdout",
       "text": [
        "\n",
        "LittleOohLaLa"
       ]
      },
      {
       "output_type": "stream",
       "stream": "stdout",
       "text": [
        "\n",
        "BrianaKcrochet"
       ]
      },
      {
       "output_type": "stream",
       "stream": "stdout",
       "text": [
        "\n",
        "IWENhats"
       ]
      },
      {
       "output_type": "stream",
       "stream": "stdout",
       "text": [
        "\n",
        "whynotagain"
       ]
      },
      {
       "output_type": "stream",
       "stream": "stdout",
       "text": [
        "\n",
        "ColourandCotton"
       ]
      },
      {
       "output_type": "stream",
       "stream": "stdout",
       "text": [
        "\n",
        "KidsKnitHatsNCrafts"
       ]
      },
      {
       "output_type": "stream",
       "stream": "stdout",
       "text": [
        "\n",
        "UNDIIN"
       ]
      },
      {
       "output_type": "stream",
       "stream": "stdout",
       "text": [
        "\n",
        "Simplyimagineknit"
       ]
      },
      {
       "output_type": "stream",
       "stream": "stdout",
       "text": [
        "\n",
        "handylittleme"
       ]
      },
      {
       "output_type": "stream",
       "stream": "stdout",
       "text": [
        "\n",
        "Peachandkiwi"
       ]
      },
      {
       "output_type": "stream",
       "stream": "stdout",
       "text": [
        "\n",
        "rocketclothing"
       ]
      },
      {
       "output_type": "stream",
       "stream": "stdout",
       "text": [
        "\n",
        "Rivelo"
       ]
      },
      {
       "output_type": "stream",
       "stream": "stdout",
       "text": [
        "\n",
        "MorethanaSeason"
       ]
      },
      {
       "output_type": "stream",
       "stream": "stdout",
       "text": [
        "\n",
        "KeepingKnitReal"
       ]
      },
      {
       "output_type": "stream",
       "stream": "stdout",
       "text": [
        "\n",
        "stephaniesyarn"
       ]
      },
      {
       "output_type": "stream",
       "stream": "stdout",
       "text": [
        "\n",
        "JeannieGrayKnits"
       ]
      },
      {
       "output_type": "stream",
       "stream": "stdout",
       "text": [
        "\n",
        "dallynmade"
       ]
      },
      {
       "output_type": "stream",
       "stream": "stdout",
       "text": [
        "\n",
        "2olddivas"
       ]
      },
      {
       "output_type": "stream",
       "stream": "stdout",
       "text": [
        "\n",
        "HandKnitHandKnit"
       ]
      },
      {
       "output_type": "stream",
       "stream": "stdout",
       "text": [
        "\n",
        "FairfaxDavis"
       ]
      },
      {
       "output_type": "stream",
       "stream": "stdout",
       "text": [
        "\n",
        "MagicalLandPhotoProp"
       ]
      },
      {
       "output_type": "stream",
       "stream": "stdout",
       "text": [
        "\n",
        "AnthropologieAngie"
       ]
      },
      {
       "output_type": "stream",
       "stream": "stdout",
       "text": [
        "\n",
        "NesrinArt"
       ]
      },
      {
       "output_type": "stream",
       "stream": "stdout",
       "text": [
        "\n",
        "PoppyWind"
       ]
      },
      {
       "output_type": "stream",
       "stream": "stdout",
       "text": [
        "\n",
        "CraftsArtsMoreofPA"
       ]
      },
      {
       "output_type": "stream",
       "stream": "stdout",
       "text": [
        "\n",
        "EntireLeighHandMade"
       ]
      },
      {
       "output_type": "stream",
       "stream": "stdout",
       "text": [
        "\n",
        "CablesandMore"
       ]
      },
      {
       "output_type": "stream",
       "stream": "stdout",
       "text": [
        "\n",
        "EMERENknitting"
       ]
      },
      {
       "output_type": "stream",
       "stream": "stdout",
       "text": [
        "\n",
        "GrannyKnowsBest"
       ]
      },
      {
       "output_type": "stream",
       "stream": "stdout",
       "text": [
        "\n",
        "RoseKingsCreations"
       ]
      },
      {
       "output_type": "stream",
       "stream": "stdout",
       "text": [
        "\n",
        "HADASSAshop"
       ]
      },
      {
       "output_type": "stream",
       "stream": "stdout",
       "text": [
        "\n",
        "GreenCanyonTradingCo"
       ]
      },
      {
       "output_type": "stream",
       "stream": "stdout",
       "text": [
        "\n",
        "PetiteLeRu"
       ]
      },
      {
       "output_type": "stream",
       "stream": "stdout",
       "text": [
        "\n",
        "anchorintime"
       ]
      },
      {
       "output_type": "stream",
       "stream": "stdout",
       "text": [
        "\n",
        "HandMadeLana"
       ]
      },
      {
       "output_type": "stream",
       "stream": "stdout",
       "text": [
        "\n",
        "YarnGiftsHandmade"
       ]
      },
      {
       "output_type": "stream",
       "stream": "stdout",
       "text": [
        "\n",
        "RusticRootsFarm"
       ]
      },
      {
       "output_type": "stream",
       "stream": "stdout",
       "text": [
        "\n",
        "purescarf"
       ]
      },
      {
       "output_type": "stream",
       "stream": "stdout",
       "text": [
        "\n",
        "woolture"
       ]
      },
      {
       "output_type": "stream",
       "stream": "stdout",
       "text": [
        "\n",
        "TheKnittedArts"
       ]
      },
      {
       "output_type": "stream",
       "stream": "stdout",
       "text": [
        "\n",
        "TheLittleHipsters"
       ]
      },
      {
       "output_type": "stream",
       "stream": "stdout",
       "text": [
        "\n",
        "ZoZosAccessories"
       ]
      },
      {
       "output_type": "stream",
       "stream": "stdout",
       "text": [
        "\n",
        "StrawberryHandicraft"
       ]
      },
      {
       "output_type": "stream",
       "stream": "stdout",
       "text": [
        "\n",
        "KarolinaDesigns"
       ]
      },
      {
       "output_type": "stream",
       "stream": "stdout",
       "text": [
        "\n",
        "jkdesignshop"
       ]
      },
      {
       "output_type": "stream",
       "stream": "stdout",
       "text": [
        "\n",
        "InkaBoutique"
       ]
      },
      {
       "output_type": "stream",
       "stream": "stdout",
       "text": [
        "\n",
        "TTCrochetStyle"
       ]
      },
      {
       "output_type": "stream",
       "stream": "stdout",
       "text": [
        "\n",
        "allbyInna"
       ]
      },
      {
       "output_type": "stream",
       "stream": "stdout",
       "text": [
        "\n",
        "CripKnits"
       ]
      },
      {
       "output_type": "stream",
       "stream": "stdout",
       "text": [
        "\n",
        "SuzanneSullivan"
       ]
      },
      {
       "output_type": "stream",
       "stream": "stdout",
       "text": [
        "\n",
        "AmandasKnitTreasures"
       ]
      },
      {
       "output_type": "stream",
       "stream": "stdout",
       "text": [
        "\n",
        "DelicateDebuts"
       ]
      },
      {
       "output_type": "stream",
       "stream": "stdout",
       "text": [
        "\n",
        "TimelessMemoryPrints"
       ]
      },
      {
       "output_type": "stream",
       "stream": "stdout",
       "text": [
        "\n",
        "SueBeesShop"
       ]
      },
      {
       "output_type": "stream",
       "stream": "stdout",
       "text": [
        "\n",
        "14thStKnits"
       ]
      },
      {
       "output_type": "stream",
       "stream": "stdout",
       "text": [
        "\n",
        "InnerGarden"
       ]
      },
      {
       "output_type": "stream",
       "stream": "stdout",
       "text": [
        "\n",
        "JennaKaeKnitCrochet"
       ]
      },
      {
       "output_type": "stream",
       "stream": "stdout",
       "text": [
        "\n",
        "HandmadeGiftsByNelly"
       ]
      },
      {
       "output_type": "stream",
       "stream": "stdout",
       "text": [
        "\n",
        "BotonDeFlor"
       ]
      },
      {
       "output_type": "stream",
       "stream": "stdout",
       "text": [
        "\n",
        "delectare"
       ]
      },
      {
       "output_type": "stream",
       "stream": "stdout",
       "text": [
        "\n",
        "HanzeePanzeeCreation"
       ]
      },
      {
       "output_type": "stream",
       "stream": "stdout",
       "text": [
        "\n",
        "DinaStyleKnits"
       ]
      },
      {
       "output_type": "stream",
       "stream": "stdout",
       "text": [
        "\n",
        "ceriscioc"
       ]
      },
      {
       "output_type": "stream",
       "stream": "stdout",
       "text": [
        "\n",
        "FrenchSoulKnittery"
       ]
      },
      {
       "output_type": "stream",
       "stream": "stdout",
       "text": [
        "\n",
        "NorthwestVintageCo"
       ]
      },
      {
       "output_type": "stream",
       "stream": "stdout",
       "text": [
        "\n",
        "MihasKnittingShop"
       ]
      },
      {
       "output_type": "stream",
       "stream": "stdout",
       "text": [
        "\n",
        "NKnits4Baby"
       ]
      },
      {
       "output_type": "stream",
       "stream": "stdout",
       "text": [
        "\n",
        "evefashion"
       ]
      },
      {
       "output_type": "stream",
       "stream": "stdout",
       "text": [
        "\n",
        "AllAboutKnit"
       ]
      },
      {
       "output_type": "stream",
       "stream": "stdout",
       "text": [
        "\n",
        "StorylandVintage"
       ]
      },
      {
       "output_type": "stream",
       "stream": "stdout",
       "text": [
        "\n",
        "CherryCorners"
       ]
      },
      {
       "output_type": "stream",
       "stream": "stdout",
       "text": [
        "\n",
        "CozyCover"
       ]
      },
      {
       "output_type": "stream",
       "stream": "stdout",
       "text": [
        "\n",
        "PaperElf"
       ]
      },
      {
       "output_type": "stream",
       "stream": "stdout",
       "text": [
        "\n",
        "LazyTcrochet"
       ]
      },
      {
       "output_type": "stream",
       "stream": "stdout",
       "text": [
        "\n",
        "JuliaHats"
       ]
      },
      {
       "output_type": "stream",
       "stream": "stdout",
       "text": [
        "\n",
        "GabrielleJustine"
       ]
      },
      {
       "output_type": "stream",
       "stream": "stdout",
       "text": [
        "\n",
        "IdleHourCrafts"
       ]
      },
      {
       "output_type": "stream",
       "stream": "stdout",
       "text": [
        "\n",
        "GoldenHandsDesign"
       ]
      },
      {
       "output_type": "stream",
       "stream": "stdout",
       "text": [
        "\n",
        "dagmarabuczek"
       ]
      },
      {
       "output_type": "stream",
       "stream": "stdout",
       "text": [
        "\n",
        "OffTheKHuff"
       ]
      },
      {
       "output_type": "stream",
       "stream": "stdout",
       "text": [
        "\n",
        "StorkandMe"
       ]
      },
      {
       "output_type": "stream",
       "stream": "stdout",
       "text": [
        "\n",
        "FloAtelier"
       ]
      },
      {
       "output_type": "stream",
       "stream": "stdout",
       "text": [
        "\n",
        "ChiefNomad"
       ]
      },
      {
       "output_type": "stream",
       "stream": "stdout",
       "text": [
        "\n",
        "JennuinelyMadeCrafts"
       ]
      },
      {
       "output_type": "stream",
       "stream": "stdout",
       "text": [
        "\n",
        "FeltedFashion"
       ]
      },
      {
       "output_type": "stream",
       "stream": "stdout",
       "text": [
        "\n",
        "ogracec"
       ]
      },
      {
       "output_type": "stream",
       "stream": "stdout",
       "text": [
        "\n",
        "BoutiqueDeMarcipan"
       ]
      },
      {
       "output_type": "stream",
       "stream": "stdout",
       "text": [
        "\n",
        "MorningGlorious"
       ]
      },
      {
       "output_type": "stream",
       "stream": "stdout",
       "text": [
        "\n",
        "naryaboutique"
       ]
      },
      {
       "output_type": "stream",
       "stream": "stdout",
       "text": [
        "\n",
        "MelodysMakings"
       ]
      },
      {
       "output_type": "stream",
       "stream": "stdout",
       "text": [
        "\n",
        "RusticRoadBoutique"
       ]
      },
      {
       "output_type": "stream",
       "stream": "stdout",
       "text": [
        "\n",
        "debbyware"
       ]
      },
      {
       "output_type": "stream",
       "stream": "stdout",
       "text": [
        "\n",
        "pkddod"
       ]
      },
      {
       "output_type": "stream",
       "stream": "stdout",
       "text": [
        "\n",
        "knitix"
       ]
      },
      {
       "output_type": "stream",
       "stream": "stdout",
       "text": [
        "\n",
        "teteormayka"
       ]
      },
      {
       "output_type": "stream",
       "stream": "stdout",
       "text": [
        "\n",
        "CHICaDees"
       ]
      },
      {
       "output_type": "stream",
       "stream": "stdout",
       "text": [
        "\n",
        "Knitrx"
       ]
      },
      {
       "output_type": "stream",
       "stream": "stdout",
       "text": [
        "\n",
        "moviestarjewelry"
       ]
      },
      {
       "output_type": "stream",
       "stream": "stdout",
       "text": [
        "\n",
        "graceandoscar"
       ]
      },
      {
       "output_type": "stream",
       "stream": "stdout",
       "text": [
        "\n",
        "MADEVALINEN"
       ]
      },
      {
       "output_type": "stream",
       "stream": "stdout",
       "text": [
        "\n",
        "corgipal"
       ]
      },
      {
       "output_type": "stream",
       "stream": "stdout",
       "text": [
        "\n",
        "chloeheartsowls"
       ]
      },
      {
       "output_type": "stream",
       "stream": "stdout",
       "text": [
        "\n",
        "ScarfLovers"
       ]
      },
      {
       "output_type": "stream",
       "stream": "stdout",
       "text": [
        "\n",
        "LintMonsterCreations"
       ]
      },
      {
       "output_type": "stream",
       "stream": "stdout",
       "text": [
        "\n",
        "MomentsInTwine"
       ]
      },
      {
       "output_type": "stream",
       "stream": "stdout",
       "text": [
        "\n",
        "StarsWear"
       ]
      },
      {
       "output_type": "stream",
       "stream": "stdout",
       "text": [
        "\n",
        "MadeByFrancy"
       ]
      },
      {
       "output_type": "stream",
       "stream": "stdout",
       "text": [
        "\n",
        "LittleAngelTouch"
       ]
      },
      {
       "output_type": "stream",
       "stream": "stdout",
       "text": [
        "\n",
        "OneOfAKindKid"
       ]
      },
      {
       "output_type": "stream",
       "stream": "stdout",
       "text": [
        "\n",
        "FamilySpecialGifts"
       ]
      },
      {
       "output_type": "stream",
       "stream": "stdout",
       "text": [
        "\n",
        "ShirleyKnits"
       ]
      },
      {
       "output_type": "stream",
       "stream": "stdout",
       "text": [
        "\n",
        "LuLusWoobies"
       ]
      },
      {
       "output_type": "stream",
       "stream": "stdout",
       "text": [
        "\n",
        "KnitleyRoad"
       ]
      },
      {
       "output_type": "stream",
       "stream": "stdout",
       "text": [
        "\n",
        "KnitNKnots"
       ]
      },
      {
       "output_type": "stream",
       "stream": "stdout",
       "text": [
        "\n",
        "KnottyKnitGoods"
       ]
      },
      {
       "output_type": "stream",
       "stream": "stdout",
       "text": [
        "\n",
        "dannilittle"
       ]
      },
      {
       "output_type": "stream",
       "stream": "stdout",
       "text": [
        "\n",
        "Blissfulinspiration1"
       ]
      },
      {
       "output_type": "stream",
       "stream": "stdout",
       "text": [
        "\n",
        "SownThreadsClothing"
       ]
      },
      {
       "output_type": "stream",
       "stream": "stdout",
       "text": [
        "\n",
        "FruitofPhalanges"
       ]
      },
      {
       "output_type": "stream",
       "stream": "stdout",
       "text": [
        "\n",
        "brokemarys"
       ]
      },
      {
       "output_type": "stream",
       "stream": "stdout",
       "text": [
        "\n",
        "KnitBabyCouture"
       ]
      },
      {
       "output_type": "stream",
       "stream": "stdout",
       "text": [
        "\n",
        "BoldVictoryCrochet"
       ]
      },
      {
       "output_type": "stream",
       "stream": "stdout",
       "text": [
        "\n",
        "CreationsbyTiffyD"
       ]
      },
      {
       "output_type": "stream",
       "stream": "stdout",
       "text": [
        "\n",
        "plphotoprops"
       ]
      },
      {
       "output_type": "stream",
       "stream": "stdout",
       "text": [
        "\n",
        "willowsandwool"
       ]
      },
      {
       "output_type": "stream",
       "stream": "stdout",
       "text": [
        "\n",
        "GrannyPatternStore"
       ]
      },
      {
       "output_type": "stream",
       "stream": "stdout",
       "text": [
        "\n",
        "Blackcatmeowknits"
       ]
      },
      {
       "output_type": "stream",
       "stream": "stdout",
       "text": [
        "\n",
        "Objeshop"
       ]
      },
      {
       "output_type": "stream",
       "stream": "stdout",
       "text": [
        "\n",
        "MeadowsTooMelmark"
       ]
      },
      {
       "output_type": "stream",
       "stream": "stdout",
       "text": [
        "\n",
        "GrannyJack"
       ]
      },
      {
       "output_type": "stream",
       "stream": "stdout",
       "text": [
        "\n",
        "2Fun4Words"
       ]
      },
      {
       "output_type": "stream",
       "stream": "stdout",
       "text": [
        "\n",
        "Momtoast"
       ]
      },
      {
       "output_type": "stream",
       "stream": "stdout",
       "text": [
        "\n",
        "MilMon"
       ]
      },
      {
       "output_type": "stream",
       "stream": "stdout",
       "text": [
        "\n",
        "CreationsJasmine"
       ]
      },
      {
       "output_type": "stream",
       "stream": "stdout",
       "text": [
        "\n",
        "Jetonarme"
       ]
      },
      {
       "output_type": "stream",
       "stream": "stdout",
       "text": [
        "\n",
        "Rarejewelry4You"
       ]
      },
      {
       "output_type": "stream",
       "stream": "stdout",
       "text": [
        "\n",
        "CharlotteCotBlankets"
       ]
      },
      {
       "output_type": "stream",
       "stream": "stdout",
       "text": [
        "\n",
        "CCCrochets"
       ]
      },
      {
       "output_type": "stream",
       "stream": "stdout",
       "text": [
        "\n",
        "LaurelandReeve"
       ]
      },
      {
       "output_type": "stream",
       "stream": "stdout",
       "text": [
        "\n",
        "BoutiqueDeElite"
       ]
      },
      {
       "output_type": "stream",
       "stream": "stdout",
       "text": [
        "\n",
        "InspiracjeJolanty"
       ]
      },
      {
       "output_type": "stream",
       "stream": "stdout",
       "text": [
        "\n",
        "xoxoTouchofLovexoxo"
       ]
      },
      {
       "output_type": "stream",
       "stream": "stdout",
       "text": [
        "\n",
        "EWEniquelyKnit"
       ]
      },
      {
       "output_type": "stream",
       "stream": "stdout",
       "text": [
        "\n",
        "OurFarmstead"
       ]
      },
      {
       "output_type": "stream",
       "stream": "stdout",
       "text": [
        "\n",
        "KnitSimplicity"
       ]
      },
      {
       "output_type": "stream",
       "stream": "stdout",
       "text": [
        "\n",
        "LaribellaHAT"
       ]
      },
      {
       "output_type": "stream",
       "stream": "stdout",
       "text": [
        "\n",
        "BreezyRidgeAlpacas"
       ]
      },
      {
       "output_type": "stream",
       "stream": "stdout",
       "text": [
        "\n",
        "NaRoKnit"
       ]
      },
      {
       "output_type": "stream",
       "stream": "stdout",
       "text": [
        "\n",
        "febressfashion"
       ]
      },
      {
       "output_type": "stream",
       "stream": "stdout",
       "text": [
        "\n",
        "ChickKnitbyKristie"
       ]
      },
      {
       "output_type": "stream",
       "stream": "stdout",
       "text": [
        "\n",
        "Oceanlvrcrafts"
       ]
      },
      {
       "output_type": "stream",
       "stream": "stdout",
       "text": [
        "\n",
        "Rebelamb"
       ]
      },
      {
       "output_type": "stream",
       "stream": "stdout",
       "text": [
        "\n",
        "candlecane123"
       ]
      },
      {
       "output_type": "stream",
       "stream": "stdout",
       "text": [
        "\n",
        "sweetvioletsdesigns"
       ]
      },
      {
       "output_type": "stream",
       "stream": "stdout",
       "text": [
        "\n",
        "TopKnotHeadbands"
       ]
      },
      {
       "output_type": "stream",
       "stream": "stdout",
       "text": [
        "\n",
        "WeddingsBabiesHome"
       ]
      },
      {
       "output_type": "stream",
       "stream": "stdout",
       "text": [
        "\n",
        "adornsnut"
       ]
      },
      {
       "output_type": "stream",
       "stream": "stdout",
       "text": [
        "\n",
        "CozyLamb"
       ]
      },
      {
       "output_type": "stream",
       "stream": "stdout",
       "text": [
        "\n",
        "DiVerseBlessings"
       ]
      },
      {
       "output_type": "stream",
       "stream": "stdout",
       "text": [
        "\n",
        "ANNAandIRENE"
       ]
      },
      {
       "output_type": "stream",
       "stream": "stdout",
       "text": [
        "\n",
        "RockabillyButtercup"
       ]
      },
      {
       "output_type": "stream",
       "stream": "stdout",
       "text": [
        "\n",
        "debsKidstuff"
       ]
      },
      {
       "output_type": "stream",
       "stream": "stdout",
       "text": [
        "\n",
        "THESugarandStitches"
       ]
      },
      {
       "output_type": "stream",
       "stream": "stdout",
       "text": [
        "\n",
        "ennadoolf"
       ]
      },
      {
       "output_type": "stream",
       "stream": "stdout",
       "text": [
        "\n",
        "RelovedFabrics"
       ]
      },
      {
       "output_type": "stream",
       "stream": "stdout",
       "text": [
        "\n",
        "ChloeAndEvie"
       ]
      },
      {
       "output_type": "stream",
       "stream": "stdout",
       "text": [
        "\n",
        "KnittingCarnival"
       ]
      },
      {
       "output_type": "stream",
       "stream": "stdout",
       "text": [
        "\n",
        "KnitsDuNord"
       ]
      },
      {
       "output_type": "stream",
       "stream": "stdout",
       "text": [
        "\n",
        "MosaicodiMangino"
       ]
      },
      {
       "output_type": "stream",
       "stream": "stdout",
       "text": [
        "\n",
        "aviena"
       ]
      },
      {
       "output_type": "stream",
       "stream": "stdout",
       "text": [
        "\n",
        "dolcemaglia"
       ]
      },
      {
       "output_type": "stream",
       "stream": "stdout",
       "text": [
        "\n",
        "KnitaFrolic"
       ]
      },
      {
       "output_type": "stream",
       "stream": "stdout",
       "text": [
        "\n",
        "SwanJay"
       ]
      },
      {
       "output_type": "stream",
       "stream": "stdout",
       "text": [
        "\n",
        "yarningsbyseanna"
       ]
      },
      {
       "output_type": "stream",
       "stream": "stdout",
       "text": [
        "\n",
        "GreenGypsyGoods"
       ]
      },
      {
       "output_type": "stream",
       "stream": "stdout",
       "text": [
        "\n",
        "KnittingStory"
       ]
      },
      {
       "output_type": "stream",
       "stream": "stdout",
       "text": [
        "\n",
        "Junikid"
       ]
      },
      {
       "output_type": "stream",
       "stream": "stdout",
       "text": [
        "\n",
        "Knit360five"
       ]
      },
      {
       "output_type": "stream",
       "stream": "stdout",
       "text": [
        "\n",
        "2knit2purl"
       ]
      },
      {
       "output_type": "stream",
       "stream": "stdout",
       "text": [
        "\n",
        "Muza"
       ]
      },
      {
       "output_type": "stream",
       "stream": "stdout",
       "text": [
        "\n",
        "topdraweryarns"
       ]
      },
      {
       "output_type": "stream",
       "stream": "stdout",
       "text": [
        "\n",
        "bySol"
       ]
      },
      {
       "output_type": "stream",
       "stream": "stdout",
       "text": [
        "\n",
        "BocajandCo"
       ]
      },
      {
       "output_type": "stream",
       "stream": "stdout",
       "text": [
        "\n",
        "formalhouse"
       ]
      },
      {
       "output_type": "stream",
       "stream": "stdout",
       "text": [
        "\n",
        "sylviaslace"
       ]
      },
      {
       "output_type": "stream",
       "stream": "stdout",
       "text": [
        "\n",
        "MossieShop"
       ]
      },
      {
       "output_type": "stream",
       "stream": "stdout",
       "text": [
        "\n",
        "LaVintageByMissPJ55"
       ]
      },
      {
       "output_type": "stream",
       "stream": "stdout",
       "text": [
        "\n",
        "ManonKnitting"
       ]
      },
      {
       "output_type": "stream",
       "stream": "stdout",
       "text": [
        "\n",
        "Crafts2Cherish"
       ]
      },
      {
       "output_type": "stream",
       "stream": "stdout",
       "text": [
        "\n",
        "HappyHappyKnitty"
       ]
      },
      {
       "output_type": "stream",
       "stream": "stdout",
       "text": [
        "\n",
        "elanknits"
       ]
      },
      {
       "output_type": "stream",
       "stream": "stdout",
       "text": [
        "\n",
        "Periay"
       ]
      },
      {
       "output_type": "stream",
       "stream": "stdout",
       "text": [
        "\n",
        "ThatsSewJudy"
       ]
      },
      {
       "output_type": "stream",
       "stream": "stdout",
       "text": [
        "\n",
        "YailsCraftCorner"
       ]
      },
      {
       "output_type": "stream",
       "stream": "stdout",
       "text": [
        "\n",
        "countrygarden77"
       ]
      },
      {
       "output_type": "stream",
       "stream": "stdout",
       "text": [
        "\n",
        "THEWANTEDSHEEP"
       ]
      },
      {
       "output_type": "stream",
       "stream": "stdout",
       "text": [
        "\n",
        "GrammasKnittedGifts"
       ]
      },
      {
       "output_type": "stream",
       "stream": "stdout",
       "text": [
        "\n",
        "HEraMade"
       ]
      },
      {
       "output_type": "stream",
       "stream": "stdout",
       "text": [
        "\n",
        "CatPurrKnitting"
       ]
      },
      {
       "output_type": "stream",
       "stream": "stdout",
       "text": [
        "\n",
        "lovemyknits"
       ]
      },
      {
       "output_type": "stream",
       "stream": "stdout",
       "text": [
        "\n",
        "Teddyhug"
       ]
      },
      {
       "output_type": "stream",
       "stream": "stdout",
       "text": [
        "\n",
        "HappyChoiceKnits"
       ]
      },
      {
       "output_type": "stream",
       "stream": "stdout",
       "text": [
        "\n",
        "TheDelightfulDay"
       ]
      },
      {
       "output_type": "stream",
       "stream": "stdout",
       "text": [
        "\n",
        "cherryREVOLVER"
       ]
      },
      {
       "output_type": "stream",
       "stream": "stdout",
       "text": [
        "\n",
        "RuffleMania"
       ]
      },
      {
       "output_type": "stream",
       "stream": "stdout",
       "text": [
        "\n",
        "MissBettysFancyHats"
       ]
      },
      {
       "output_type": "stream",
       "stream": "stdout",
       "text": [
        "\n",
        "CherryDollyFace"
       ]
      },
      {
       "output_type": "stream",
       "stream": "stdout",
       "text": [
        "\n",
        "KnitGoodWomanKnit"
       ]
      },
      {
       "output_type": "stream",
       "stream": "stdout",
       "text": [
        "\n",
        "MamasTeddyBear"
       ]
      },
      {
       "output_type": "stream",
       "stream": "stdout",
       "text": [
        "\n",
        "FaunaKnits"
       ]
      },
      {
       "output_type": "stream",
       "stream": "stdout",
       "text": [
        "\n",
        "MissMaysMomsKnits"
       ]
      },
      {
       "output_type": "stream",
       "stream": "stdout",
       "text": [
        "\n",
        "FargoCoreCon"
       ]
      },
      {
       "output_type": "stream",
       "stream": "stdout",
       "text": [
        "\n",
        "mikmakwinkel"
       ]
      },
      {
       "output_type": "stream",
       "stream": "stdout",
       "text": [
        "\n",
        "RedGreenShop"
       ]
      },
      {
       "output_type": "stream",
       "stream": "stdout",
       "text": [
        "\n",
        "Madfindz"
       ]
      },
      {
       "output_type": "stream",
       "stream": "stdout",
       "text": [
        "\n",
        "BonniesCinematheque"
       ]
      },
      {
       "output_type": "stream",
       "stream": "stdout",
       "text": [
        "\n",
        "MountainKnitwear"
       ]
      },
      {
       "output_type": "stream",
       "stream": "stdout",
       "text": [
        "\n"
       ]
      }
     ],
     "prompt_number": 2
    },
    {
     "cell_type": "code",
     "collapsed": false,
     "input": [
      "df = pd.DataFrame(results)\n",
      "df = df.T\n",
      "df.Location = df.Location.str.replace(\"-1\", '')\n",
      "df = df.convert_objects(convert_numeric=True)"
     ],
     "language": "python",
     "metadata": {},
     "outputs": [
      {
       "ename": "PandasError",
       "evalue": "DataFrame constructor not properly called!",
       "output_type": "pyerr",
       "traceback": [
        "\u001b[0;31m---------------------------------------------------------------------------\u001b[0m\n\u001b[0;31mPandasError\u001b[0m                               Traceback (most recent call last)",
        "\u001b[0;32m<ipython-input-126-1246b5ded384>\u001b[0m in \u001b[0;36m<module>\u001b[0;34m()\u001b[0m\n\u001b[0;32m----> 1\u001b[0;31m \u001b[0mdf\u001b[0m \u001b[0;34m=\u001b[0m \u001b[0mpd\u001b[0m\u001b[0;34m.\u001b[0m\u001b[0mDataFrame\u001b[0m\u001b[0;34m(\u001b[0m\u001b[0mresults\u001b[0m\u001b[0;34m)\u001b[0m\u001b[0;34m\u001b[0m\u001b[0m\n\u001b[0m\u001b[1;32m      2\u001b[0m \u001b[0mdf\u001b[0m \u001b[0;34m=\u001b[0m \u001b[0mdf\u001b[0m\u001b[0;34m.\u001b[0m\u001b[0mT\u001b[0m\u001b[0;34m\u001b[0m\u001b[0m\n\u001b[1;32m      3\u001b[0m \u001b[0mdf\u001b[0m\u001b[0;34m.\u001b[0m\u001b[0mLocation\u001b[0m \u001b[0;34m=\u001b[0m \u001b[0mdf\u001b[0m\u001b[0;34m.\u001b[0m\u001b[0mLocation\u001b[0m\u001b[0;34m.\u001b[0m\u001b[0mstr\u001b[0m\u001b[0;34m.\u001b[0m\u001b[0mreplace\u001b[0m\u001b[0;34m(\u001b[0m\u001b[0;34m\"-1\"\u001b[0m\u001b[0;34m,\u001b[0m \u001b[0;34m''\u001b[0m\u001b[0;34m)\u001b[0m\u001b[0;34m\u001b[0m\u001b[0m\n\u001b[1;32m      4\u001b[0m \u001b[0mdf\u001b[0m \u001b[0;34m=\u001b[0m \u001b[0mdf\u001b[0m\u001b[0;34m.\u001b[0m\u001b[0mconvert_objects\u001b[0m\u001b[0;34m(\u001b[0m\u001b[0mconvert_numeric\u001b[0m\u001b[0;34m=\u001b[0m\u001b[0mTrue\u001b[0m\u001b[0;34m)\u001b[0m\u001b[0;34m\u001b[0m\u001b[0m\n",
        "\u001b[0;32m/Users/Papandrea/anaconda/lib/python2.7/site-packages/pandas/core/frame.pyc\u001b[0m in \u001b[0;36m__init__\u001b[0;34m(self, data, index, columns, dtype, copy)\u001b[0m\n\u001b[1;32m    275\u001b[0m                                          copy=False)\n\u001b[1;32m    276\u001b[0m             \u001b[0;32melse\u001b[0m\u001b[0;34m:\u001b[0m\u001b[0;34m\u001b[0m\u001b[0m\n\u001b[0;32m--> 277\u001b[0;31m                 \u001b[0;32mraise\u001b[0m \u001b[0mPandasError\u001b[0m\u001b[0;34m(\u001b[0m\u001b[0;34m'DataFrame constructor not properly called!'\u001b[0m\u001b[0;34m)\u001b[0m\u001b[0;34m\u001b[0m\u001b[0m\n\u001b[0m\u001b[1;32m    278\u001b[0m \u001b[0;34m\u001b[0m\u001b[0m\n\u001b[1;32m    279\u001b[0m         \u001b[0mNDFrame\u001b[0m\u001b[0;34m.\u001b[0m\u001b[0m__init__\u001b[0m\u001b[0;34m(\u001b[0m\u001b[0mself\u001b[0m\u001b[0;34m,\u001b[0m \u001b[0mmgr\u001b[0m\u001b[0;34m,\u001b[0m \u001b[0mfastpath\u001b[0m\u001b[0;34m=\u001b[0m\u001b[0mTrue\u001b[0m\u001b[0;34m)\u001b[0m\u001b[0;34m\u001b[0m\u001b[0m\n",
        "\u001b[0;31mPandasError\u001b[0m: DataFrame constructor not properly called!"
       ]
      }
     ],
     "prompt_number": 126
    },
    {
     "cell_type": "code",
     "collapsed": false,
     "input": [
      "df['Rank'] = df.index"
     ],
     "language": "python",
     "metadata": {},
     "outputs": [],
     "prompt_number": 128
    },
    {
     "cell_type": "code",
     "collapsed": false,
     "input": [
      "print('most admirers')\n",
      "print(df.sort(columns='Admirers', ascending=False).iloc[0])\n",
      "print('oldest')\n",
      "print(df.sort(columns='Age', ascending=False).iloc[1])\n",
      "print('most items')\n",
      "print(df.sort(columns='Num_items', ascending=False).iloc[0])\n",
      "print('most sales')\n",
      "print(df.sort(columns='Sales', ascending=False).iloc[0])\n",
      "print(str(len(df))+' entries')\n",
      "print()"
     ],
     "language": "python",
     "metadata": {},
     "outputs": [
      {
       "output_type": "stream",
       "stream": "stdout",
       "text": [
        "most admirers\n",
        "Admirers                              106360\n",
        "Age                                     1271\n",
        "Gift_card                               True\n",
        "Location        Livermore, CA, United States\n",
        "Name                           ThreeBirdNest\n",
        "Num_items                                202\n",
        "Num_reviews                            13207\n",
        "Num_sections                              10\n",
        "Rating                                4.4007\n",
        "Sales                                 100352\n",
        "Name: 154, dtype: object"
       ]
      },
      {
       "output_type": "stream",
       "stream": "stdout",
       "text": [
        "\n",
        "oldest\n",
        "Admirers                                        5592\n",
        "Age                                             3277\n",
        "Gift_card                                       True\n",
        "Location        Borough of Queens, NY, United States\n",
        "Name                                    dahliasoleil\n",
        "Num_items                                        271\n",
        "Num_reviews                                     1380\n",
        "Num_sections                                       7\n",
        "Rating                                        4.9644\n",
        "Sales                                           4989\n",
        "Name: 331, dtype: object\n",
        "most items\n",
        "Admirers                  1096\n",
        "Age                        836\n",
        "Gift_card                 True\n",
        "Location               Midwest\n",
        "Name            NeutralNellies\n",
        "Num_items                 1855\n",
        "Num_reviews                633\n",
        "Num_sections                10\n",
        "Rating                  4.9430\n",
        "Sales                     1684\n",
        "Name: 778, dtype: object\n",
        "most sales\n",
        "Admirers                              106360\n",
        "Age                                     1271\n",
        "Gift_card                               True\n",
        "Location        Livermore, CA, United States\n",
        "Name                           ThreeBirdNest\n",
        "Num_items                                202\n",
        "Num_reviews                            13207\n",
        "Num_sections                              10\n",
        "Rating                                4.4007\n",
        "Sales                                 100352\n",
        "Name: 154, dtype: object\n",
        "1570 entries\n",
        "()\n"
       ]
      }
     ],
     "prompt_number": 6
    },
    {
     "cell_type": "code",
     "collapsed": false,
     "input": [
      "print('Number accepting gift cards')\n",
      "print(len([x for x in df.Gift_card if x==True]))\n",
      "print('Number with perfect ratings')\n",
      "print(len([x for x in df.Rating if x=='5.0000']))"
     ],
     "language": "python",
     "metadata": {},
     "outputs": [
      {
       "output_type": "stream",
       "stream": "stdout",
       "text": [
        "Number accepting gift cards\n",
        "1088\n",
        "Number with perfect ratings\n",
        "606\n"
       ]
      }
     ],
     "prompt_number": 7
    },
    {
     "cell_type": "markdown",
     "metadata": {},
     "source": []
    },
    {
     "cell_type": "code",
     "collapsed": false,
     "input": [
      "%matplotlib inline\n",
      "locations = df.Location.value_counts().drop([-1], axis=0).head(20)\n",
      "locations.plot(kind='barh')"
     ],
     "language": "python",
     "metadata": {},
     "outputs": [
      {
       "metadata": {},
       "output_type": "pyout",
       "prompt_number": 6,
       "text": [
        "<matplotlib.axes._subplots.AxesSubplot at 0x10e425210>"
       ]
      },
      {
       "metadata": {},
       "output_type": "display_data",
       "png": "[encoded data removed]",
       "text": [
        "<matplotlib.figure.Figure at 0x10e425750>"
       ]
      }
     ],
     "prompt_number": 6
    },
    {
     "cell_type": "code",
     "collapsed": false,
     "input": [
      "filtered = df[df.Rating>4]\n",
      "X = filtered.Rating\n",
      "Y = filtered.Rank\n",
      "plt.scatter(X, Y, s=3, color='orange')\n",
      "plt.xlabel('Rating')\n",
      "plt.ylabel('Rank')\n",
      "\n",
      "#Linear Regression for Rank\n",
      "r = filtered.copy()\n",
      "r['rand'] = [np.random.rand() for i in range(len(r))]\n",
      "r = r.sort('rand')\n",
      "r = r.drop('rand', 1)\n",
      "r = r.convert_objects(convert_numeric=True)\n",
      "\n",
      "test = r.head(len(r)/2).replace(-1, 0)\n",
      "train = r.tail(len(r)/2).replace(-1,0)\n",
      "\n",
      "y_train = train[['Rank']]\n",
      "y_test = test[['Rank']]\n",
      "\n",
      "x_train = train[['Rating']]\n",
      "x_test = test[['Rating']]\n",
      "\n",
      "#LINEAR REGRESSION\n",
      "regr = linear_model.LinearRegression()\n",
      "regr.fit(x_train, y_train)\n",
      "\n",
      "print(\"Training error: \", metrics.mean_squared_error(regr.predict(x_train),y_train))\n",
      "print(\"Test     error: \", metrics.mean_squared_error(regr.predict(x_test),y_test))\n",
      "\n",
      "train_score = regr.score(x_train,y_train)\n",
      "test_score = regr.score(x_test,y_test)\n",
      "print(\"Training score: \", train_score)\n",
      "print(\"Test     score: \", test_score)\n",
      "\n",
      "features = ['Rating']\n",
      "coefficients = regr.coef_\n",
      "for i in range(len(coefficients)):\n",
      "    print features[i],\"\\t\",coefficients[i]\n",
      "    \n",
      "#OLS REGRESSION\n",
      "model = sm.OLS(y_train, x_train)\n",
      "results = model.fit()\n",
      "print results.summary()\n",
      "print \"Confidence Intervals:\", results.conf_int()\n",
      "print \"Parameters:\", results.params\n",
      "\n",
      "plt.plot(x_test, regr.predict(x_test), color='red',\n",
      "         linewidth=1)"
     ],
     "language": "python",
     "metadata": {},
     "outputs": [
      {
       "output_type": "stream",
       "stream": "stdout",
       "text": [
        "('Training error: ', 207847.53638998829)\n",
        "('Test     error: ', 209848.59249959409)\n",
        "('Training score: ', 0.0037219912745612982)\n",
        "('Test     score: ', 0.0030647289181217063)\n",
        "Rating \t[ 212.64435807]\n",
        "                            OLS Regression Results                            \n",
        "==============================================================================\n",
        "Dep. Variable:                   Rank   R-squared:                       0.736\n",
        "Model:                            OLS   Adj. R-squared:                  0.736\n",
        "Method:                 Least Squares   F-statistic:                     1813.\n",
        "Date:                Mon, 27 Apr 2015   Prob (F-statistic):          4.65e-190\n",
        "Time:                        22:15:30   Log-Likelihood:                -4901.9\n",
        "No. Observations:                 650   AIC:                             9806.\n",
        "Df Residuals:                     649   BIC:                             9810.\n",
        "Df Model:                           1                                         \n",
        "==============================================================================\n",
        "                 coef    std err          t      P>|t|      [95.0% Conf. Int.]\n",
        "------------------------------------------------------------------------------\n",
        "Rating       154.7407      3.634     42.578      0.000       147.604   161.877\n",
        "==============================================================================\n",
        "Omnibus:                      533.706   Durbin-Watson:                   1.870\n",
        "Prob(Omnibus):                  0.000   Jarque-Bera (JB):               41.649\n",
        "Skew:                           0.097   Prob(JB):                     9.04e-10\n",
        "Kurtosis:                       1.775   Cond. No.                         1.00\n",
        "==============================================================================\n",
        "Confidence Intervals:                  0           1\n",
        "Rating  147.604366  161.877061\n",
        "Parameters: Rating    154.740713\n",
        "dtype: float64\n"
       ]
      },
      {
       "metadata": {},
       "output_type": "pyout",
       "prompt_number": 136,
       "text": [
        "[<matplotlib.lines.Line2D at 0x11ac6ae90>]"
       ]
      },
      {
       "metadata": {},
       "output_type": "display_data",
       "png": "[encoded data removed]",
       "text": [
        "<matplotlib.figure.Figure at 0x119bad1d0>"
       ]
      }
     ],
     "prompt_number": 136
    },
    {
     "cell_type": "code",
     "collapsed": false,
     "input": [
      "filtered = df[df.Num_items>10]\n",
      "X = filtered.Num_items\n",
      "Y = filtered.Rank\n",
      "plt.scatter(X, Y, s=3, color='blue')\n",
      "plt.xlabel('Number of items')\n",
      "plt.ylabel('Rank')\n",
      "\n",
      "#Linear Regression for Rank\n",
      "r = filtered.copy()\n",
      "r['rand'] = [np.random.rand() for i in range(len(r))]\n",
      "r = r.sort('rand')\n",
      "r = r.drop('rand', 1)\n",
      "r = r.convert_objects(convert_numeric=True)\n",
      "\n",
      "test = r.head(len(r)/2).replace(-1, 0)\n",
      "train = r.tail(len(r)/2).replace(-1,0)\n",
      "\n",
      "y_train = train[['Rank']]\n",
      "y_test = test[['Rank']]\n",
      "\n",
      "x_train = train[['Num_items']]\n",
      "x_test = test[['Num_items']]\n",
      "\n",
      "#LINEAR REGRESSION\n",
      "regr = linear_model.LinearRegression()\n",
      "regr.fit(x_train, y_train)\n",
      "\n",
      "print(\"Training error: \", metrics.mean_squared_error(regr.predict(x_train),y_train))\n",
      "print(\"Test     error: \", metrics.mean_squared_error(regr.predict(x_test),y_test))\n",
      "\n",
      "train_score = regr.score(x_train,y_train)\n",
      "test_score = regr.score(x_test,y_test)\n",
      "print(\"Training score: \", train_score)\n",
      "print(\"Test     score: \", test_score)\n",
      "\n",
      "features = ['Num_items']\n",
      "coefficients = regr.coef_\n",
      "for i in range(len(coefficients)):\n",
      "    print features[i],\"\\t\",coefficients[i]\n",
      "    \n",
      "#OLS REGRESSION\n",
      "model = sm.OLS(y_train, x_train)\n",
      "results = model.fit()\n",
      "print results.summary()\n",
      "print \"Confidence Intervals:\", results.conf_int()\n",
      "print \"Parameters:\", results.params\n",
      "\n",
      "plt.plot(x_test, regr.predict(x_test), color='red',\n",
      "         linewidth=1)"
     ],
     "language": "python",
     "metadata": {},
     "outputs": [
      {
       "output_type": "stream",
       "stream": "stdout",
       "text": [
        "('Training error: ', 201951.54257816254)\n",
        "('Test     error: ', 210210.40060209407)\n",
        "('Training score: ', 0.0093438739257010184)\n",
        "('Test     score: ', -0.0080919284175602346)\n",
        "Num_items \t[-0.21687848]\n",
        "                            OLS Regression Results                            \n",
        "==============================================================================\n",
        "Dep. Variable:                   Rank   R-squared:                       0.222\n",
        "Model:                            OLS   Adj. R-squared:                  0.221\n",
        "Method:                 Least Squares   F-statistic:                     192.2\n",
        "Date:                Mon, 27 Apr 2015   Prob (F-statistic):           1.25e-38\n",
        "Time:                        22:16:12   Log-Likelihood:                -5461.8\n",
        "No. Observations:                 675   AIC:                         1.093e+04\n",
        "Df Residuals:                     674   BIC:                         1.093e+04\n",
        "Df Model:                           1                                         \n",
        "==============================================================================\n",
        "                 coef    std err          t      P>|t|      [95.0% Conf. Int.]\n",
        "------------------------------------------------------------------------------\n",
        "Num_items      1.6924      0.122     13.862      0.000         1.453     1.932\n",
        "==============================================================================\n",
        "Omnibus:                       72.931   Durbin-Watson:                   1.165\n",
        "Prob(Omnibus):                  0.000   Jarque-Bera (JB):              105.469\n",
        "Skew:                          -0.773   Prob(JB):                     1.25e-23\n",
        "Kurtosis:                       4.165   Cond. No.                         1.00\n",
        "==============================================================================\n",
        "Confidence Intervals:                   0         1\n",
        "Num_items  1.452649  1.932062\n",
        "Parameters: Num_items    1.692355\n",
        "dtype: float64\n"
       ]
      },
      {
       "metadata": {},
       "output_type": "pyout",
       "prompt_number": 137,
       "text": [
        "[<matplotlib.lines.Line2D at 0x11aeeabd0>]"
       ]
      },
      {
       "metadata": {},
       "output_type": "display_data",
       "png": "[encoded data removed]",
       "text": [
        "<matplotlib.figure.Figure at 0x11ac98cd0>"
       ]
      }
     ],
     "prompt_number": 137
    },
    {
     "cell_type": "code",
     "collapsed": false,
     "input": [
      "filtered = df[df.Sales<40000]\n",
      "X = filtered.Sales\n",
      "Y = filtered.Rank\n",
      "plt.scatter(X, Y, s=3, color='purple')\n",
      "plt.xlabel('Number of Sales')\n",
      "plt.ylabel('Rank')\n",
      "\n",
      "#Linear Regression for Rank\n",
      "r = filtered.copy()\n",
      "r['rand'] = [np.random.rand() for i in range(len(r))]\n",
      "r = r.sort('rand')\n",
      "r = r.drop('rand', 1)\n",
      "r = r.convert_objects(convert_numeric=True)\n",
      "\n",
      "test = r.head(len(r)/2).replace(-1, 0)\n",
      "train = r.tail(len(r)/2).replace(-1,0)\n",
      "\n",
      "y_train = train[['Rank']]\n",
      "y_test = test[['Rank']]\n",
      "\n",
      "x_train = train[['Sales']]\n",
      "x_test = test[['Sales']]\n",
      "\n",
      "#LINEAR REGRESSION\n",
      "regr = linear_model.LinearRegression()\n",
      "regr.fit(x_train, y_train)\n",
      "\n",
      "print(\"Training error: \", metrics.mean_squared_error(regr.predict(x_train),y_train))\n",
      "print(\"Test     error: \", metrics.mean_squared_error(regr.predict(x_test),y_test))\n",
      "\n",
      "train_score = regr.score(x_train,y_train)\n",
      "test_score = regr.score(x_test,y_test)\n",
      "print(\"Training score: \", train_score)\n",
      "print(\"Test     score: \", test_score)\n",
      "\n",
      "features = ['Sales']\n",
      "coefficients = regr.coef_\n",
      "for i in range(len(coefficients)):\n",
      "    print features[i],\"\\t\",coefficients[i]\n",
      "    \n",
      "#OLS REGRESSION\n",
      "model = sm.OLS(y_train, x_train)\n",
      "results = model.fit()\n",
      "print results.summary()\n",
      "print \"Confidence Intervals:\", results.conf_int()\n",
      "print \"Parameters:\", results.params\n",
      "\n",
      "plt.plot(x_test, regr.predict(x_test), color='red',\n",
      "         linewidth=1)"
     ],
     "language": "python",
     "metadata": {},
     "outputs": [
      {
       "output_type": "stream",
       "stream": "stdout",
       "text": [
        "('Training error: ', 198179.55414178516)\n",
        "('Test     error: ', 203834.9693415986)\n",
        "('Training score: ', 0.022579653387335474)\n",
        "('Test     score: ', 0.0026738322578252482)\n",
        "Sales \t[-0.02812219]\n",
        "                            OLS Regression Results                            \n",
        "==============================================================================\n",
        "Dep. Variable:                   Rank   R-squared:                       0.027\n",
        "Model:                            OLS   Adj. R-squared:                  0.026\n",
        "Method:                 Least Squares   F-statistic:                     21.53\n",
        "Date:                Mon, 27 Apr 2015   Prob (F-statistic):           4.08e-06\n",
        "Time:                        22:18:51   Log-Likelihood:                -6436.6\n",
        "No. Observations:                 782   AIC:                         1.288e+04\n",
        "Df Residuals:                     781   BIC:                         1.288e+04\n",
        "Df Model:                           1                                         \n",
        "==============================================================================\n",
        "                 coef    std err          t      P>|t|      [95.0% Conf. Int.]\n",
        "------------------------------------------------------------------------------\n",
        "Sales          0.0604      0.013      4.640      0.000         0.035     0.086\n",
        "==============================================================================\n",
        "Omnibus:                       59.331   Durbin-Watson:                   0.601\n",
        "Prob(Omnibus):                  0.000   Jarque-Bera (JB):               87.955\n",
        "Skew:                          -0.579   Prob(JB):                     7.96e-20\n",
        "Kurtosis:                       4.166   Cond. No.                         1.00\n",
        "==============================================================================\n",
        "Confidence Intervals:               0         1\n",
        "Sales  0.034848  0.085952\n",
        "Parameters: Sales    0.0604\n",
        "dtype: float64\n"
       ]
      },
      {
       "metadata": {},
       "output_type": "pyout",
       "prompt_number": 139,
       "text": [
        "[<matplotlib.lines.Line2D at 0x11b076ed0>]"
       ]
      },
      {
       "metadata": {},
       "output_type": "display_data",
       "png": "[encoded data removed]",
       "text": [
        "<matplotlib.figure.Figure at 0x11acd3710>"
       ]
      }
     ],
     "prompt_number": 139
    },
    {
     "cell_type": "code",
     "collapsed": false,
     "input": [
      "filtered = df[df.Admirers<40000]\n",
      "X = filtered.Admirers\n",
      "Y = filtered.Rank\n",
      "plt.scatter(X, Y, s=3, color='green')\n",
      "plt.xlabel('Number of Admirers')\n",
      "plt.ylabel('Rank')\n",
      "\n",
      "#Linear Regression for Rank\n",
      "r = filtered.copy()\n",
      "r['rand'] = [np.random.rand() for i in range(len(r))]\n",
      "r = r.sort('rand')\n",
      "r = r.drop('rand', 1)\n",
      "r = r.convert_objects(convert_numeric=True)\n",
      "\n",
      "test = r.head(len(r)/2).replace(-1, 0)\n",
      "train = r.tail(len(r)/2).replace(-1,0)\n",
      "\n",
      "y_train = train[['Rank']]\n",
      "y_test = test[['Rank']]\n",
      "\n",
      "x_train = train[['Admirers']]\n",
      "x_test = test[['Admirers']]\n",
      "\n",
      "#LINEAR REGRESSION\n",
      "regr = linear_model.LinearRegression()\n",
      "regr.fit(x_train, y_train)\n",
      "\n",
      "print(\"Training error: \", metrics.mean_squared_error(regr.predict(x_train),y_train))\n",
      "print(\"Test     error: \", metrics.mean_squared_error(regr.predict(x_test),y_test))\n",
      "\n",
      "train_score = regr.score(x_train,y_train)\n",
      "test_score = regr.score(x_test,y_test)\n",
      "print(\"Training score: \", train_score)\n",
      "print(\"Test     score: \", test_score)\n",
      "\n",
      "features = ['Admirers']\n",
      "coefficients = regr.coef_\n",
      "for i in range(len(coefficients)):\n",
      "    print features[i],\"\\t\",coefficients[i]\n",
      "    \n",
      "#OLS REGRESSION\n",
      "model = sm.OLS(y_train, x_train)\n",
      "results = model.fit()\n",
      "print results.summary()\n",
      "print \"Confidence Intervals:\", results.conf_int()\n",
      "print \"Parameters:\", results.params\n",
      "\n",
      "plt.plot(x_test, regr.predict(x_test), color='red',\n",
      "         linewidth=1)"
     ],
     "language": "python",
     "metadata": {},
     "outputs": [
      {
       "output_type": "stream",
       "stream": "stdout",
       "text": [
        "('Training error: ', 203810.29667953367)\n",
        "('Test     error: ', 197427.22881519378)\n",
        "('Training score: ', 0.015441225621899202)\n",
        "('Test     score: ', 0.016799899657063411)\n",
        "Admirers \t[-0.02644341]\n",
        "                            OLS Regression Results                            \n",
        "==============================================================================\n",
        "Dep. Variable:                   Rank   R-squared:                       0.092\n",
        "Model:                            OLS   Adj. R-squared:                  0.090\n",
        "Method:                 Least Squares   F-statistic:                     78.77\n",
        "Date:                Mon, 27 Apr 2015   Prob (F-statistic):           4.70e-18\n",
        "Time:                        22:20:08   Log-Likelihood:                -6390.2\n",
        "No. Observations:                 782   AIC:                         1.278e+04\n",
        "Df Residuals:                     781   BIC:                         1.279e+04\n",
        "Df Model:                           1                                         \n",
        "==============================================================================\n",
        "                 coef    std err          t      P>|t|      [95.0% Conf. Int.]\n",
        "------------------------------------------------------------------------------\n",
        "Admirers       0.1156      0.013      8.875      0.000         0.090     0.141\n",
        "==============================================================================\n",
        "Omnibus:                      101.917   Durbin-Watson:                   0.766\n",
        "Prob(Omnibus):                  0.000   Jarque-Bera (JB):              218.007\n",
        "Skew:                          -0.747   Prob(JB):                     4.57e-48\n",
        "Kurtosis:                       5.111   Cond. No.                         1.00\n",
        "==============================================================================\n",
        "Confidence Intervals:                  0         1\n",
        "Admirers  0.090036  0.141172\n",
        "Parameters: Admirers    0.115604\n",
        "dtype: float64\n"
       ]
      },
      {
       "metadata": {},
       "output_type": "pyout",
       "prompt_number": 140,
       "text": [
        "[<matplotlib.lines.Line2D at 0x11b0f5fd0>]"
       ]
      },
      {
       "metadata": {},
       "output_type": "display_data",
       "png": "[encoded data removed]",
       "text": [
        "<matplotlib.figure.Figure at 0x11acd31d0>"
       ]
      }
     ],
     "prompt_number": 140
    },
    {
     "cell_type": "code",
     "collapsed": false,
     "input": [
      "filtered = df[df.Sales>100]\n",
      "filtered = filtered[filtered.Sales<10000]\n",
      "Y = filtered.Admirers\n",
      "X = filtered.Sales\n",
      "plt.scatter(X, Y, s=3, color='brown')\n",
      "plt.xlabel('Number of Sales')\n",
      "plt.ylabel('Number of Admirers')\n",
      "\n",
      "#Linear Regression for Rank\n",
      "r = filtered.copy()\n",
      "r['rand'] = [np.random.rand() for i in range(len(r))]\n",
      "r = r.sort('rand')\n",
      "r = r.drop('rand', 1)\n",
      "r = r.convert_objects(convert_numeric=True)\n",
      "\n",
      "test = r.head(len(r)/2).replace(-1, 0)\n",
      "train = r.tail(len(r)/2).replace(-1,0)\n",
      "\n",
      "x_train = train[['Sales']]\n",
      "x_test = test[['Sales']]\n",
      "\n",
      "y_train = train[['Admirers']]\n",
      "y_test = test[['Admirers']]\n",
      "\n",
      "#LINEAR REGRESSION\n",
      "regr = linear_model.LinearRegression()\n",
      "regr.fit(x_train, y_train)\n",
      "\n",
      "print(\"Training error: \", metrics.mean_squared_error(regr.predict(x_train),y_train))\n",
      "print(\"Test     error: \", metrics.mean_squared_error(regr.predict(x_test),y_test))\n",
      "\n",
      "train_score = regr.score(x_train,y_train)\n",
      "test_score = regr.score(x_test,y_test)\n",
      "print(\"Training score: \", train_score)\n",
      "print(\"Test     score: \", test_score)\n",
      "\n",
      "features = ['Sales']\n",
      "coefficients = regr.coef_\n",
      "for i in range(len(coefficients)):\n",
      "    print features[i],\"\\t\",coefficients[i]\n",
      "    \n",
      "#OLS REGRESSION\n",
      "model = sm.OLS(y_train, x_train)\n",
      "results = model.fit()\n",
      "print results.summary()\n",
      "print \"Confidence Intervals:\", results.conf_int()\n",
      "print \"Parameters:\", results.params\n",
      "\n",
      "plt.plot(x_test, regr.predict(x_test), color='red',\n",
      "         linewidth=1)"
     ],
     "language": "python",
     "metadata": {},
     "outputs": [
      {
       "output_type": "stream",
       "stream": "stdout",
       "text": [
        "('Training error: ', 5522504.9433307974)\n",
        "('Test     error: ', 5112366.7443327084)\n",
        "('Training score: ', 0.28039489700178011)\n",
        "('Test     score: ', 0.28078786578257187)\n",
        "Sales \t[ 1.01005813]\n",
        "                            OLS Regression Results                            \n",
        "==============================================================================\n",
        "Dep. Variable:               Admirers   R-squared:                       0.436\n",
        "Model:                            OLS   Adj. R-squared:                  0.435\n",
        "Method:                 Least Squares   F-statistic:                     293.3\n",
        "Date:                Mon, 27 Apr 2015   Prob (F-statistic):           4.16e-49\n",
        "Time:                        22:25:51   Log-Likelihood:                -3496.0\n",
        "No. Observations:                 380   AIC:                             6994.\n",
        "Df Residuals:                     379   BIC:                             6998.\n",
        "Df Model:                           1                                         \n",
        "==============================================================================\n",
        "                 coef    std err          t      P>|t|      [95.0% Conf. Int.]\n",
        "------------------------------------------------------------------------------\n",
        "Sales          1.1917      0.070     17.126      0.000         1.055     1.329\n",
        "==============================================================================\n",
        "Omnibus:                      286.589   Durbin-Watson:                   1.874\n",
        "Prob(Omnibus):                  0.000   Jarque-Bera (JB):             5718.569\n",
        "Skew:                           2.965   Prob(JB):                         0.00\n",
        "Kurtosis:                      21.055   Cond. No.                         1.00\n",
        "=============================================================================="
       ]
      },
      {
       "output_type": "stream",
       "stream": "stdout",
       "text": [
        "\n",
        "Confidence Intervals:               0         1\n",
        "Sales  1.054875  1.328509\n",
        "Parameters: Sales    1.191692\n",
        "dtype: float64\n"
       ]
      },
      {
       "metadata": {},
       "output_type": "pyout",
       "prompt_number": 142,
       "text": [
        "[<matplotlib.lines.Line2D at 0x11b70fe90>]"
       ]
      },
      {
       "metadata": {},
       "output_type": "display_data",
       "png": "[encoded data removed]",
       "text": [
        "<matplotlib.figure.Figure at 0x11b300950>"
       ]
      }
     ],
     "prompt_number": 142
    },
    {
     "cell_type": "code",
     "collapsed": false,
     "input": [
      "filtered = df[df.Sales>100]\n",
      "filtered = filtered[filtered.Sales<10000]\n",
      "Y = filtered.Num_reviews\n",
      "X = filtered.Sales\n",
      "plt.scatter(X, Y, s=3, color='black')\n",
      "plt.xlabel('Number of Sales')\n",
      "plt.ylabel('Number of reviews')\n",
      "\n",
      "#Linear Regression for Rank\n",
      "r = filtered.copy()\n",
      "r['rand'] = [np.random.rand() for i in range(len(r))]\n",
      "r = r.sort('rand')\n",
      "r = r.drop('rand', 1)\n",
      "r = r.convert_objects(convert_numeric=True)\n",
      "\n",
      "test = r.head(len(r)/2).replace(-1, 0)\n",
      "train = r.tail(len(r)/2).replace(-1,0)\n",
      "\n",
      "x_train = train[['Sales']]\n",
      "x_test = test[['Sales']]\n",
      "\n",
      "y_train = train[['Num_reviews']]\n",
      "y_test = test[['Num_reviews']]\n",
      "\n",
      "#LINEAR REGRESSION\n",
      "regr = linear_model.LinearRegression()\n",
      "regr.fit(x_train, y_train)\n",
      "\n",
      "print(\"Training error: \", metrics.mean_squared_error(regr.predict(x_train),y_train))\n",
      "print(\"Test     error: \", metrics.mean_squared_error(regr.predict(x_test),y_test))\n",
      "\n",
      "train_score = regr.score(x_train,y_train)\n",
      "test_score = regr.score(x_test,y_test)\n",
      "print(\"Training score: \", train_score)\n",
      "print(\"Test     score: \", test_score)\n",
      "\n",
      "features = ['Sales']\n",
      "coefficients = regr.coef_\n",
      "for i in range(len(coefficients)):\n",
      "    print features[i],\"\\t\",coefficients[i]\n",
      "    \n",
      "#OLS REGRESSION\n",
      "model = sm.OLS(y_train, x_train)\n",
      "results = model.fit()\n",
      "print results.summary()\n",
      "print \"Confidence Intervals:\", results.conf_int()\n",
      "print \"Parameters:\", results.params\n",
      "\n",
      "plt.plot(x_test, regr.predict(x_test), color='red',\n",
      "         linewidth=1)"
     ],
     "language": "python",
     "metadata": {},
     "outputs": [
      {
       "output_type": "stream",
       "stream": "stdout",
       "text": [
        "('Training error: ', 36047.138049738474)\n",
        "('Test     error: ', 82919.404042974114)\n",
        "('Training score: ', 0.78087805204570415)\n",
        "('Test     score: ', 0.64384751322286093)\n",
        "Sales \t[ 0.24162065]\n",
        "                            OLS Regression Results                            \n",
        "==============================================================================\n",
        "Dep. Variable:            Num_reviews   R-squared:                       0.847\n",
        "Model:                            OLS   Adj. R-squared:                  0.847\n",
        "Method:                 Least Squares   F-statistic:                     2098.\n",
        "Date:                Mon, 27 Apr 2015   Prob (F-statistic):          1.41e-156\n",
        "Time:                        22:32:48   Log-Likelihood:                -2532.8\n",
        "No. Observations:                 380   AIC:                             5068.\n",
        "Df Residuals:                     379   BIC:                             5072.\n",
        "Df Model:                           1                                         \n",
        "==============================================================================\n",
        "                 coef    std err          t      P>|t|      [95.0% Conf. Int.]\n",
        "------------------------------------------------------------------------------\n",
        "Sales          0.2421      0.005     45.804      0.000         0.232     0.252\n",
        "==============================================================================\n",
        "Omnibus:                      226.501   Durbin-Watson:                   1.903\n",
        "Prob(Omnibus):                  0.000   Jarque-Bera (JB):             9397.864\n",
        "Skew:                           1.834   Prob(JB):                         0.00\n",
        "Kurtosis:                      27.085   Cond. No.                         1.00\n",
        "==============================================================================\n",
        "Confidence Intervals:               0        1\n",
        "Sales  0.231668  0.25245\n",
        "Parameters: Sales    0.242059\n",
        "dtype: float64\n"
       ]
      },
      {
       "metadata": {},
       "output_type": "pyout",
       "prompt_number": 146,
       "text": [
        "[<matplotlib.lines.Line2D at 0x11be01d50>]"
       ]
      },
      {
       "metadata": {},
       "output_type": "display_data",
       "png": "[encoded data removed]",
       "text": [
        "<matplotlib.figure.Figure at 0x11ba61890>"
       ]
      }
     ],
     "prompt_number": 146
    },
    {
     "cell_type": "code",
     "collapsed": false,
     "input": [
      "filtered = df[df.Sales>100]\n",
      "filtered = filtered[filtered.Sales<10000]\n",
      "filtered = filtered[filtered.Rating>0]\n",
      "Y = filtered.Rating\n",
      "X = filtered.Sales\n",
      "plt.scatter(X, Y, s=3, color='brown')\n",
      "plt.xlabel('Number of Sales')\n",
      "plt.ylabel('Rating')\n",
      "\n",
      "#Linear Regression for Rank\n",
      "r = filtered.copy()\n",
      "r['rand'] = [np.random.rand() for i in range(len(r))]\n",
      "r = r.sort('rand')\n",
      "r = r.drop('rand', 1)\n",
      "r = r.convert_objects(convert_numeric=True)\n",
      "\n",
      "test = r.head(len(r)/2).replace(-1, 0)\n",
      "train = r.tail(len(r)/2).replace(-1,0)\n",
      "\n",
      "x_train = train[['Sales']]\n",
      "x_test = test[['Sales']]\n",
      "\n",
      "y_train = train[['Rating']]\n",
      "y_test = test[['Rating']]\n",
      "\n",
      "#LINEAR REGRESSION\n",
      "regr = linear_model.LinearRegression()\n",
      "regr.fit(x_train, y_train)\n",
      "\n",
      "print(\"Training error: \", metrics.mean_squared_error(regr.predict(x_train),y_train))\n",
      "print(\"Test     error: \", metrics.mean_squared_error(regr.predict(x_test),y_test))\n",
      "\n",
      "train_score = regr.score(x_train,y_train)\n",
      "test_score = regr.score(x_test,y_test)\n",
      "print(\"Training score: \", train_score)\n",
      "print(\"Test     score: \", test_score)\n",
      "\n",
      "features = ['Sales']\n",
      "coefficients = regr.coef_\n",
      "for i in range(len(coefficients)):\n",
      "    print features[i],\"\\t\",coefficients[i]\n",
      "    \n",
      "#OLS REGRESSION\n",
      "model = sm.OLS(y_train, x_train)\n",
      "results = model.fit()\n",
      "print results.summary()\n",
      "print \"Confidence Intervals:\", results.conf_int()\n",
      "print \"Parameters:\", results.params\n",
      "\n",
      "plt.plot(x_test, regr.predict(x_test), color='red',\n",
      "         linewidth=1)\n"
     ],
     "language": "python",
     "metadata": {},
     "outputs": [
      {
       "output_type": "stream",
       "stream": "stdout",
       "text": [
        "('Training error: ', 0.022131795211324343)\n",
        "('Test     error: ', 0.024576298101238524)\n",
        "('Training score: ', 0.0022897856613200984)\n",
        "('Test     score: ', -0.021045219814528116)\n",
        "Sales \t[  4.85269852e-06]\n",
        "                            OLS Regression Results                            \n",
        "==============================================================================\n",
        "Dep. Variable:                 Rating   R-squared:                       0.354\n",
        "Model:                            OLS   Adj. R-squared:                  0.352\n",
        "Method:                 Least Squares   F-statistic:                     206.7\n",
        "Date:                Mon, 27 Apr 2015   Prob (F-statistic):           1.07e-37\n",
        "Time:                        22:39:59   Log-Likelihood:                -1057.5\n",
        "No. Observations:                 379   AIC:                             2117.\n",
        "Df Residuals:                     378   BIC:                             2121.\n",
        "Df Model:                           1                                         \n",
        "==============================================================================\n",
        "                 coef    std err          t      P>|t|      [95.0% Conf. Int.]\n",
        "------------------------------------------------------------------------------\n",
        "Sales          0.0016      0.000     14.378      0.000         0.001     0.002\n",
        "==============================================================================\n",
        "Omnibus:                      236.698   Durbin-Watson:                   0.694\n",
        "Prob(Omnibus):                  0.000   Jarque-Bera (JB):             1635.558\n",
        "Skew:                          -2.706   Prob(JB):                         0.00\n",
        "Kurtosis:                      11.618   Cond. No.                         1.00\n",
        "==============================================================================\n",
        "Confidence Intervals:               0         1\n",
        "Sales  0.001378  0.001815\n",
        "Parameters: Sales    0.001597\n",
        "dtype: float64\n"
       ]
      },
      {
       "metadata": {},
       "output_type": "pyout",
       "prompt_number": 147,
       "text": [
        "[<matplotlib.lines.Line2D at 0x11bf6de50>]"
       ]
      },
      {
       "metadata": {},
       "output_type": "display_data",
       "png": "[encoded data removed]",
       "text": [
        "<matplotlib.figure.Figure at 0x11bb63410>"
       ]
      }
     ],
     "prompt_number": 147
    },
    {
     "cell_type": "code",
     "collapsed": false,
     "input": [
      "knobs = scrape.knobs(240)"
     ],
     "language": "python",
     "metadata": {},
     "outputs": [
      {
       "output_type": "stream",
       "stream": "stdout",
       "text": [
        "('shops so far ', 0)\n",
        "('page ', 1)\n",
        "('shops so far ', 17)"
       ]
      },
      {
       "output_type": "stream",
       "stream": "stdout",
       "text": [
        "\n",
        "('page ', 2)\n",
        "('shops so far ', 31)"
       ]
      },
      {
       "output_type": "stream",
       "stream": "stdout",
       "text": [
        "\n",
        "('page ', 3)\n",
        "('shops so far ', 52)"
       ]
      },
      {
       "output_type": "stream",
       "stream": "stdout",
       "text": [
        "\n",
        "('page ', 4)\n",
        "('shops so far ', 70)"
       ]
      },
      {
       "output_type": "stream",
       "stream": "stdout",
       "text": [
        "\n",
        "('page ', 5)\n",
        "('shops so far ', 87)"
       ]
      },
      {
       "output_type": "stream",
       "stream": "stdout",
       "text": [
        "\n",
        "('page ', 6)\n",
        "('shops so far ', 106)"
       ]
      },
      {
       "output_type": "stream",
       "stream": "stdout",
       "text": [
        "\n",
        "('page ', 7)\n",
        "('shops so far ', 125)"
       ]
      },
      {
       "output_type": "stream",
       "stream": "stdout",
       "text": [
        "\n",
        "('page ', 8)\n",
        "('shops so far ', 142)"
       ]
      },
      {
       "output_type": "stream",
       "stream": "stdout",
       "text": [
        "\n",
        "('page ', 9)\n",
        "('shops so far ', 160)"
       ]
      },
      {
       "output_type": "stream",
       "stream": "stdout",
       "text": [
        "\n",
        "('page ', 10)\n",
        "('shops so far ', 177)"
       ]
      },
      {
       "output_type": "stream",
       "stream": "stdout",
       "text": [
        "\n",
        "('page ', 11)\n",
        "('shops so far ', 191)"
       ]
      },
      {
       "output_type": "stream",
       "stream": "stdout",
       "text": [
        "\n",
        "('page ', 12)\n",
        "('shops so far ', 209)"
       ]
      },
      {
       "output_type": "stream",
       "stream": "stdout",
       "text": [
        "\n",
        "('page ', 13)\n",
        "('shops so far ', 223)"
       ]
      },
      {
       "output_type": "stream",
       "stream": "stdout",
       "text": [
        "\n",
        "('page ', 14)\n",
        "('shops so far ', 239)"
       ]
      },
      {
       "output_type": "stream",
       "stream": "stdout",
       "text": [
        "\n",
        "('page ', 15)\n",
        "('shops so far ', 256)"
       ]
      },
      {
       "output_type": "stream",
       "stream": "stdout",
       "text": [
        "\n",
        "('page ', 16)\n",
        "('shops so far ', 271)"
       ]
      },
      {
       "output_type": "stream",
       "stream": "stdout",
       "text": [
        "\n",
        "('page ', 17)\n",
        "('shops so far ', 271)"
       ]
      },
      {
       "output_type": "stream",
       "stream": "stdout",
       "text": [
        "\n",
        "('page ', 18)\n",
        "('shops so far ', 271)"
       ]
      },
      {
       "output_type": "stream",
       "stream": "stdout",
       "text": [
        "\n",
        "('page ', 19)\n",
        "('shops so far ', 273)"
       ]
      },
      {
       "output_type": "stream",
       "stream": "stdout",
       "text": [
        "\n",
        "('page ', 20)\n",
        "('shops so far ', 273)"
       ]
      },
      {
       "output_type": "stream",
       "stream": "stdout",
       "text": [
        "\n",
        "('page ', 21)\n",
        "('shops so far ', 273)"
       ]
      },
      {
       "output_type": "stream",
       "stream": "stdout",
       "text": [
        "\n",
        "('page ', 22)\n",
        "('shops so far ', 274)"
       ]
      },
      {
       "output_type": "stream",
       "stream": "stdout",
       "text": [
        "\n",
        "('page ', 23)\n",
        "('shops so far ', 275)"
       ]
      },
      {
       "output_type": "stream",
       "stream": "stdout",
       "text": [
        "\n",
        "('page ', 24)\n",
        "('shops so far ', 283)"
       ]
      },
      {
       "output_type": "stream",
       "stream": "stdout",
       "text": [
        "\n",
        "('page ', 25)\n",
        "('shops so far ', 296)"
       ]
      },
      {
       "output_type": "stream",
       "stream": "stdout",
       "text": [
        "\n",
        "('page ', 26)\n",
        "('shops so far ', 305)"
       ]
      },
      {
       "output_type": "stream",
       "stream": "stdout",
       "text": [
        "\n",
        "('page ', 27)\n",
        "('shops so far ', 316)"
       ]
      },
      {
       "output_type": "stream",
       "stream": "stdout",
       "text": [
        "\n",
        "('page ', 28)\n",
        "('shops so far ', 322)"
       ]
      },
      {
       "output_type": "stream",
       "stream": "stdout",
       "text": [
        "\n",
        "('page ', 29)\n",
        "('shops so far ', 339)"
       ]
      },
      {
       "output_type": "stream",
       "stream": "stdout",
       "text": [
        "\n",
        "('page ', 30)\n",
        "('shops so far ', 354)"
       ]
      },
      {
       "output_type": "stream",
       "stream": "stdout",
       "text": [
        "\n",
        "('page ', 31)\n",
        "('shops so far ', 362)"
       ]
      },
      {
       "output_type": "stream",
       "stream": "stdout",
       "text": [
        "\n",
        "('page ', 32)\n",
        "('shops so far ', 372)"
       ]
      },
      {
       "output_type": "stream",
       "stream": "stdout",
       "text": [
        "\n",
        "('page ', 33)\n",
        "('shops so far ', 393)"
       ]
      },
      {
       "output_type": "stream",
       "stream": "stdout",
       "text": [
        "\n",
        "('page ', 34)\n",
        "('shops so far ', 403)"
       ]
      },
      {
       "output_type": "stream",
       "stream": "stdout",
       "text": [
        "\n",
        "('page ', 35)\n",
        "('shops so far ', 416)"
       ]
      },
      {
       "output_type": "stream",
       "stream": "stdout",
       "text": [
        "\n",
        "('page ', 36)\n",
        "('shops so far ', 427)"
       ]
      },
      {
       "output_type": "stream",
       "stream": "stdout",
       "text": [
        "\n",
        "('page ', 37)\n",
        "('shops so far ', 444)"
       ]
      },
      {
       "output_type": "stream",
       "stream": "stdout",
       "text": [
        "\n",
        "('page ', 38)\n",
        "('shops so far ', 460)"
       ]
      },
      {
       "output_type": "stream",
       "stream": "stdout",
       "text": [
        "\n",
        "('page ', 39)\n",
        "('shops so far ', 473)"
       ]
      },
      {
       "output_type": "stream",
       "stream": "stdout",
       "text": [
        "\n",
        "('page ', 40)\n",
        "('shops so far ', 491)"
       ]
      },
      {
       "output_type": "stream",
       "stream": "stdout",
       "text": [
        "\n",
        "('page ', 41)\n",
        "('shops so far ', 508)"
       ]
      },
      {
       "output_type": "stream",
       "stream": "stdout",
       "text": [
        "\n",
        "('page ', 42)\n",
        "('shops so far ', 525)"
       ]
      },
      {
       "output_type": "stream",
       "stream": "stdout",
       "text": [
        "\n",
        "('page ', 43)\n",
        "('shops so far ', 537)"
       ]
      },
      {
       "output_type": "stream",
       "stream": "stdout",
       "text": [
        "\n",
        "('page ', 44)\n",
        "('shops so far ', 552)"
       ]
      },
      {
       "output_type": "stream",
       "stream": "stdout",
       "text": [
        "\n",
        "('page ', 45)\n",
        "('shops so far ', 566)"
       ]
      },
      {
       "output_type": "stream",
       "stream": "stdout",
       "text": [
        "\n",
        "('page ', 46)\n",
        "('shops so far ', 581)"
       ]
      },
      {
       "output_type": "stream",
       "stream": "stdout",
       "text": [
        "\n",
        "('page ', 47)\n",
        "('shops so far ', 597)"
       ]
      },
      {
       "output_type": "stream",
       "stream": "stdout",
       "text": [
        "\n",
        "('page ', 48)\n",
        "('shops so far ', 613)"
       ]
      },
      {
       "output_type": "stream",
       "stream": "stdout",
       "text": [
        "\n",
        "('page ', 49)\n",
        "('shops so far ', 628)"
       ]
      },
      {
       "output_type": "stream",
       "stream": "stdout",
       "text": [
        "\n",
        "('page ', 50)\n",
        "('shops so far ', 639)"
       ]
      },
      {
       "output_type": "stream",
       "stream": "stdout",
       "text": [
        "\n",
        "('page ', 51)\n",
        "('shops so far ', 656)"
       ]
      },
      {
       "output_type": "stream",
       "stream": "stdout",
       "text": [
        "\n",
        "('page ', 52)\n",
        "('shops so far ', 676)"
       ]
      },
      {
       "output_type": "stream",
       "stream": "stdout",
       "text": [
        "\n",
        "('page ', 53)\n",
        "('shops so far ', 692)"
       ]
      },
      {
       "output_type": "stream",
       "stream": "stdout",
       "text": [
        "\n",
        "('page ', 54)\n",
        "('shops so far ', 711)"
       ]
      },
      {
       "output_type": "stream",
       "stream": "stdout",
       "text": [
        "\n",
        "('page ', 55)\n",
        "('shops so far ', 729)"
       ]
      },
      {
       "output_type": "stream",
       "stream": "stdout",
       "text": [
        "\n",
        "('page ', 56)\n",
        "('shops so far ', 747)"
       ]
      },
      {
       "output_type": "stream",
       "stream": "stdout",
       "text": [
        "\n",
        "('page ', 57)\n",
        "('shops so far ', 762)"
       ]
      },
      {
       "output_type": "stream",
       "stream": "stdout",
       "text": [
        "\n",
        "('page ', 58)\n",
        "('shops so far ', 784)"
       ]
      },
      {
       "output_type": "stream",
       "stream": "stdout",
       "text": [
        "\n",
        "('page ', 59)\n",
        "('shops so far ', 804)"
       ]
      },
      {
       "output_type": "stream",
       "stream": "stdout",
       "text": [
        "\n",
        "('page ', 60)\n",
        "('shops so far ', 820)"
       ]
      },
      {
       "output_type": "stream",
       "stream": "stdout",
       "text": [
        "\n",
        "('page ', 61)\n",
        "('shops so far ', 841)"
       ]
      },
      {
       "output_type": "stream",
       "stream": "stdout",
       "text": [
        "\n",
        "('page ', 62)\n",
        "('shops so far ', 864)"
       ]
      },
      {
       "output_type": "stream",
       "stream": "stdout",
       "text": [
        "\n",
        "('page ', 63)\n",
        "('shops so far ', 876)"
       ]
      },
      {
       "output_type": "stream",
       "stream": "stdout",
       "text": [
        "\n",
        "('page ', 64)\n",
        "('shops so far ', 880)"
       ]
      },
      {
       "output_type": "stream",
       "stream": "stdout",
       "text": [
        "\n",
        "('page ', 65)\n",
        "('shops so far ', 884)"
       ]
      },
      {
       "output_type": "stream",
       "stream": "stdout",
       "text": [
        "\n",
        "('page ', 66)\n",
        "('shops so far ', 889)"
       ]
      },
      {
       "output_type": "stream",
       "stream": "stdout",
       "text": [
        "\n",
        "('page ', 67)\n",
        "('shops so far ', 895)"
       ]
      },
      {
       "output_type": "stream",
       "stream": "stdout",
       "text": [
        "\n",
        "('page ', 68)\n",
        "('shops so far ', 896)"
       ]
      },
      {
       "output_type": "stream",
       "stream": "stdout",
       "text": [
        "\n",
        "('page ', 69)\n",
        "('shops so far ', 901)"
       ]
      },
      {
       "output_type": "stream",
       "stream": "stdout",
       "text": [
        "\n",
        "('page ', 70)\n",
        "('shops so far ', 908)"
       ]
      },
      {
       "output_type": "stream",
       "stream": "stdout",
       "text": [
        "\n",
        "('page ', 71)\n",
        "('shops so far ', 921)"
       ]
      },
      {
       "output_type": "stream",
       "stream": "stdout",
       "text": [
        "\n",
        "('page ', 72)\n",
        "('shops so far ', 927)"
       ]
      },
      {
       "output_type": "stream",
       "stream": "stdout",
       "text": [
        "\n",
        "('page ', 73)\n",
        "('shops so far ', 935)"
       ]
      },
      {
       "output_type": "stream",
       "stream": "stdout",
       "text": [
        "\n",
        "('page ', 74)\n",
        "('shops so far ', 941)"
       ]
      },
      {
       "output_type": "stream",
       "stream": "stdout",
       "text": [
        "\n",
        "('page ', 75)\n",
        "('shops so far ', 948)"
       ]
      },
      {
       "output_type": "stream",
       "stream": "stdout",
       "text": [
        "\n",
        "('page ', 76)\n",
        "('shops so far ', 960)"
       ]
      },
      {
       "output_type": "stream",
       "stream": "stdout",
       "text": [
        "\n",
        "('page ', 77)\n",
        "('shops so far ', 973)"
       ]
      },
      {
       "output_type": "stream",
       "stream": "stdout",
       "text": [
        "\n",
        "('page ', 78)\n",
        "('shops so far ', 979)"
       ]
      },
      {
       "output_type": "stream",
       "stream": "stdout",
       "text": [
        "\n",
        "('page ', 79)\n",
        "('shops so far ', 992)"
       ]
      },
      {
       "output_type": "stream",
       "stream": "stdout",
       "text": [
        "\n",
        "('page ', 80)\n",
        "('shops so far ', 1005)"
       ]
      },
      {
       "output_type": "stream",
       "stream": "stdout",
       "text": [
        "\n",
        "('page ', 81)\n",
        "('shops so far ', 1020)"
       ]
      },
      {
       "output_type": "stream",
       "stream": "stdout",
       "text": [
        "\n",
        "('page ', 82)\n",
        "('shops so far ', 1032)"
       ]
      },
      {
       "output_type": "stream",
       "stream": "stdout",
       "text": [
        "\n",
        "('page ', 83)\n",
        "('shops so far ', 1044)"
       ]
      },
      {
       "output_type": "stream",
       "stream": "stdout",
       "text": [
        "\n",
        "('page ', 84)\n",
        "('shops so far ', 1057)"
       ]
      },
      {
       "output_type": "stream",
       "stream": "stdout",
       "text": [
        "\n",
        "('page ', 85)\n",
        "('shops so far ', 1072)"
       ]
      },
      {
       "output_type": "stream",
       "stream": "stdout",
       "text": [
        "\n",
        "('page ', 86)\n",
        "('shops so far ', 1082)"
       ]
      },
      {
       "output_type": "stream",
       "stream": "stdout",
       "text": [
        "\n",
        "('page ', 87)\n",
        "('shops so far ', 1096)"
       ]
      },
      {
       "output_type": "stream",
       "stream": "stdout",
       "text": [
        "\n",
        "('page ', 88)\n",
        "('shops so far ', 1107)"
       ]
      },
      {
       "output_type": "stream",
       "stream": "stdout",
       "text": [
        "\n",
        "('page ', 89)\n",
        "('shops so far ', 1120)"
       ]
      },
      {
       "output_type": "stream",
       "stream": "stdout",
       "text": [
        "\n",
        "('page ', 90)\n",
        "('shops so far ', 1129)"
       ]
      },
      {
       "output_type": "stream",
       "stream": "stdout",
       "text": [
        "\n",
        "('page ', 91)\n",
        "('shops so far ', 1135)"
       ]
      },
      {
       "output_type": "stream",
       "stream": "stdout",
       "text": [
        "\n",
        "('page ', 92)\n",
        "('shops so far ', 1142)"
       ]
      },
      {
       "output_type": "stream",
       "stream": "stdout",
       "text": [
        "\n",
        "('page ', 93)\n",
        "('shops so far ', 1156)"
       ]
      },
      {
       "output_type": "stream",
       "stream": "stdout",
       "text": [
        "\n",
        "('page ', 94)\n",
        "('shops so far ', 1160)"
       ]
      },
      {
       "output_type": "stream",
       "stream": "stdout",
       "text": [
        "\n",
        "('page ', 95)\n",
        "('shops so far ', 1163)"
       ]
      },
      {
       "output_type": "stream",
       "stream": "stdout",
       "text": [
        "\n",
        "('page ', 96)\n",
        "('shops so far ', 1173)"
       ]
      },
      {
       "output_type": "stream",
       "stream": "stdout",
       "text": [
        "\n",
        "('page ', 97)\n",
        "('shops so far ', 1178)"
       ]
      },
      {
       "output_type": "stream",
       "stream": "stdout",
       "text": [
        "\n",
        "('page ', 98)\n",
        "('shops so far ', 1185)"
       ]
      },
      {
       "output_type": "stream",
       "stream": "stdout",
       "text": [
        "\n",
        "('page ', 99)\n",
        "('shops so far ', 1195)"
       ]
      },
      {
       "output_type": "stream",
       "stream": "stdout",
       "text": [
        "\n",
        "('page ', 100)\n",
        "('shops so far ', 1206)"
       ]
      },
      {
       "output_type": "stream",
       "stream": "stdout",
       "text": [
        "\n",
        "('page ', 101)\n",
        "('shops so far ', 1213)"
       ]
      },
      {
       "output_type": "stream",
       "stream": "stdout",
       "text": [
        "\n",
        "('page ', 102)\n",
        "('shops so far ', 1223)"
       ]
      },
      {
       "output_type": "stream",
       "stream": "stdout",
       "text": [
        "\n",
        "('page ', 103)\n",
        "('shops so far ', 1232)"
       ]
      },
      {
       "output_type": "stream",
       "stream": "stdout",
       "text": [
        "\n",
        "('page ', 104)\n",
        "('shops so far ', 1240)"
       ]
      },
      {
       "output_type": "stream",
       "stream": "stdout",
       "text": [
        "\n",
        "('page ', 105)\n",
        "('shops so far ', 1243)"
       ]
      },
      {
       "output_type": "stream",
       "stream": "stdout",
       "text": [
        "\n",
        "('page ', 106)\n",
        "('shops so far ', 1252)"
       ]
      },
      {
       "output_type": "stream",
       "stream": "stdout",
       "text": [
        "\n",
        "('page ', 107)\n",
        "('shops so far ', 1262)"
       ]
      },
      {
       "output_type": "stream",
       "stream": "stdout",
       "text": [
        "\n",
        "('page ', 108)\n",
        "('shops so far ', 1269)"
       ]
      },
      {
       "output_type": "stream",
       "stream": "stdout",
       "text": [
        "\n",
        "('page ', 109)\n",
        "('shops so far ', 1276)"
       ]
      },
      {
       "output_type": "stream",
       "stream": "stdout",
       "text": [
        "\n",
        "('page ', 110)\n",
        "('shops so far ', 1284)"
       ]
      },
      {
       "output_type": "stream",
       "stream": "stdout",
       "text": [
        "\n",
        "('page ', 111)\n",
        "('shops so far ', 1291)"
       ]
      },
      {
       "output_type": "stream",
       "stream": "stdout",
       "text": [
        "\n",
        "('page ', 112)\n",
        "('shops so far ', 1301)"
       ]
      },
      {
       "output_type": "stream",
       "stream": "stdout",
       "text": [
        "\n",
        "('page ', 113)\n",
        "('shops so far ', 1308)"
       ]
      },
      {
       "output_type": "stream",
       "stream": "stdout",
       "text": [
        "\n",
        "('page ', 114)\n",
        "('shops so far ', 1312)"
       ]
      },
      {
       "output_type": "stream",
       "stream": "stdout",
       "text": [
        "\n",
        "('page ', 115)\n",
        "('shops so far ', 1317)"
       ]
      },
      {
       "output_type": "stream",
       "stream": "stdout",
       "text": [
        "\n",
        "('page ', 116)\n",
        "('shops so far ', 1324)"
       ]
      },
      {
       "output_type": "stream",
       "stream": "stdout",
       "text": [
        "\n",
        "('page ', 117)\n",
        "('shops so far ', 1330)"
       ]
      },
      {
       "output_type": "stream",
       "stream": "stdout",
       "text": [
        "\n",
        "('page ', 118)\n",
        "('shops so far ', 1340)"
       ]
      },
      {
       "output_type": "stream",
       "stream": "stdout",
       "text": [
        "\n",
        "('page ', 119)\n",
        "('shops so far ', 1353)"
       ]
      },
      {
       "output_type": "stream",
       "stream": "stdout",
       "text": [
        "\n",
        "('page ', 120)\n",
        "('shops so far ', 1360)"
       ]
      },
      {
       "output_type": "stream",
       "stream": "stdout",
       "text": [
        "\n",
        "('page ', 121)\n",
        "('shops so far ', 1371)"
       ]
      },
      {
       "output_type": "stream",
       "stream": "stdout",
       "text": [
        "\n",
        "('page ', 122)\n",
        "('shops so far ', 1372)"
       ]
      },
      {
       "output_type": "stream",
       "stream": "stdout",
       "text": [
        "\n",
        "('page ', 123)\n",
        "('shops so far ', 1376)"
       ]
      },
      {
       "output_type": "stream",
       "stream": "stdout",
       "text": [
        "\n",
        "('page ', 124)\n",
        "('shops so far ', 1393)"
       ]
      },
      {
       "output_type": "stream",
       "stream": "stdout",
       "text": [
        "\n",
        "('page ', 125)\n",
        "('shops so far ', 1399)"
       ]
      },
      {
       "output_type": "stream",
       "stream": "stdout",
       "text": [
        "\n",
        "('page ', 126)\n",
        "('shops so far ', 1404)"
       ]
      },
      {
       "output_type": "stream",
       "stream": "stdout",
       "text": [
        "\n",
        "('page ', 127)\n",
        "('shops so far ', 1412)"
       ]
      },
      {
       "output_type": "stream",
       "stream": "stdout",
       "text": [
        "\n",
        "('page ', 128)\n",
        "('shops so far ', 1415)"
       ]
      },
      {
       "output_type": "stream",
       "stream": "stdout",
       "text": [
        "\n",
        "('page ', 129)\n",
        "('shops so far ', 1417)"
       ]
      },
      {
       "output_type": "stream",
       "stream": "stdout",
       "text": [
        "\n",
        "('page ', 130)\n",
        "('shops so far ', 1419)"
       ]
      },
      {
       "output_type": "stream",
       "stream": "stdout",
       "text": [
        "\n",
        "('page ', 131)\n",
        "('shops so far ', 1425)"
       ]
      },
      {
       "output_type": "stream",
       "stream": "stdout",
       "text": [
        "\n",
        "('page ', 132)\n",
        "('shops so far ', 1429)"
       ]
      },
      {
       "output_type": "stream",
       "stream": "stdout",
       "text": [
        "\n",
        "('page ', 133)\n",
        "('shops so far ', 1431)"
       ]
      },
      {
       "output_type": "stream",
       "stream": "stdout",
       "text": [
        "\n",
        "('page ', 134)\n",
        "('shops so far ', 1447)"
       ]
      },
      {
       "output_type": "stream",
       "stream": "stdout",
       "text": [
        "\n",
        "('page ', 135)\n",
        "('shops so far ', 1460)"
       ]
      },
      {
       "output_type": "stream",
       "stream": "stdout",
       "text": [
        "\n",
        "('page ', 136)\n",
        "('shops so far ', 1464)"
       ]
      },
      {
       "output_type": "stream",
       "stream": "stdout",
       "text": [
        "\n",
        "('page ', 137)\n",
        "('shops so far ', 1476)"
       ]
      },
      {
       "output_type": "stream",
       "stream": "stdout",
       "text": [
        "\n",
        "('page ', 138)\n",
        "('shops so far ', 1481)"
       ]
      },
      {
       "output_type": "stream",
       "stream": "stdout",
       "text": [
        "\n",
        "('page ', 139)\n",
        "('shops so far ', 1484)"
       ]
      },
      {
       "output_type": "stream",
       "stream": "stdout",
       "text": [
        "\n",
        "('page ', 140)\n",
        "('shops so far ', 1489)"
       ]
      },
      {
       "output_type": "stream",
       "stream": "stdout",
       "text": [
        "\n",
        "('page ', 141)\n",
        "('shops so far ', 1495)"
       ]
      },
      {
       "output_type": "stream",
       "stream": "stdout",
       "text": [
        "\n",
        "('page ', 142)\n",
        "('shops so far ', 1495)"
       ]
      },
      {
       "output_type": "stream",
       "stream": "stdout",
       "text": [
        "\n",
        "('page ', 143)\n",
        "('shops so far ', 1495)"
       ]
      },
      {
       "output_type": "stream",
       "stream": "stdout",
       "text": [
        "\n",
        "('page ', 144)\n",
        "('shops so far ', 1495)"
       ]
      },
      {
       "output_type": "stream",
       "stream": "stdout",
       "text": [
        "\n",
        "('page ', 145)\n",
        "('shops so far ', 1504)"
       ]
      },
      {
       "output_type": "stream",
       "stream": "stdout",
       "text": [
        "\n",
        "('page ', 146)\n",
        "('shops so far ', 1510)"
       ]
      },
      {
       "output_type": "stream",
       "stream": "stdout",
       "text": [
        "\n",
        "('page ', 147)\n",
        "('shops so far ', 1513)"
       ]
      },
      {
       "output_type": "stream",
       "stream": "stdout",
       "text": [
        "\n",
        "('page ', 148)\n",
        "('shops so far ', 1518)"
       ]
      },
      {
       "output_type": "stream",
       "stream": "stdout",
       "text": [
        "\n",
        "('page ', 149)\n",
        "('shops so far ', 1529)"
       ]
      },
      {
       "output_type": "stream",
       "stream": "stdout",
       "text": [
        "\n",
        "('page ', 150)\n",
        "('shops so far ', 1540)"
       ]
      },
      {
       "output_type": "stream",
       "stream": "stdout",
       "text": [
        "\n",
        "('page ', 151)\n",
        "('shops so far ', 1548)"
       ]
      },
      {
       "output_type": "stream",
       "stream": "stdout",
       "text": [
        "\n",
        "('page ', 152)\n",
        "('shops so far ', 1556)"
       ]
      },
      {
       "output_type": "stream",
       "stream": "stdout",
       "text": [
        "\n",
        "('page ', 153)\n",
        "('shops so far ', 1566)"
       ]
      },
      {
       "output_type": "stream",
       "stream": "stdout",
       "text": [
        "\n",
        "('page ', 154)\n",
        "('shops so far ', 1574)"
       ]
      },
      {
       "output_type": "stream",
       "stream": "stdout",
       "text": [
        "\n",
        "('page ', 155)\n",
        "('shops so far ', 1592)"
       ]
      },
      {
       "output_type": "stream",
       "stream": "stdout",
       "text": [
        "\n",
        "('page ', 156)\n",
        "('shops so far ', 1593)"
       ]
      },
      {
       "output_type": "stream",
       "stream": "stdout",
       "text": [
        "\n",
        "('page ', 157)\n",
        "('shops so far ', 1593)"
       ]
      },
      {
       "output_type": "stream",
       "stream": "stdout",
       "text": [
        "\n",
        "('page ', 158)\n",
        "('shops so far ', 1599)"
       ]
      },
      {
       "output_type": "stream",
       "stream": "stdout",
       "text": [
        "\n",
        "('page ', 159)\n",
        "('shops so far ', 1599)"
       ]
      },
      {
       "output_type": "stream",
       "stream": "stdout",
       "text": [
        "\n",
        "('page ', 160)\n",
        "('shops so far ', 1615)"
       ]
      },
      {
       "output_type": "stream",
       "stream": "stdout",
       "text": [
        "\n",
        "('page ', 161)\n",
        "('shops so far ', 1627)"
       ]
      },
      {
       "output_type": "stream",
       "stream": "stdout",
       "text": [
        "\n",
        "('page ', 162)\n",
        "('shops so far ', 1639)"
       ]
      },
      {
       "output_type": "stream",
       "stream": "stdout",
       "text": [
        "\n",
        "('page ', 163)\n",
        "('shops so far ', 1652)"
       ]
      },
      {
       "output_type": "stream",
       "stream": "stdout",
       "text": [
        "\n",
        "('page ', 164)\n",
        "('shops so far ', 1662)"
       ]
      },
      {
       "output_type": "stream",
       "stream": "stdout",
       "text": [
        "\n",
        "('page ', 165)\n",
        "('shops so far ', 1674)"
       ]
      },
      {
       "output_type": "stream",
       "stream": "stdout",
       "text": [
        "\n",
        "('page ', 166)\n",
        "('shops so far ', 1687)"
       ]
      },
      {
       "output_type": "stream",
       "stream": "stdout",
       "text": [
        "\n",
        "('page ', 167)\n",
        "('shops so far ', 1704)"
       ]
      },
      {
       "output_type": "stream",
       "stream": "stdout",
       "text": [
        "\n",
        "('page ', 168)\n",
        "('shops so far ', 1717)"
       ]
      },
      {
       "output_type": "stream",
       "stream": "stdout",
       "text": [
        "\n",
        "('page ', 169)\n",
        "('shops so far ', 1735)"
       ]
      },
      {
       "output_type": "stream",
       "stream": "stdout",
       "text": [
        "\n",
        "('page ', 170)\n",
        "('shops so far ', 1746)"
       ]
      },
      {
       "output_type": "stream",
       "stream": "stdout",
       "text": [
        "\n",
        "('page ', 171)\n",
        "('shops so far ', 1755)"
       ]
      },
      {
       "output_type": "stream",
       "stream": "stdout",
       "text": [
        "\n",
        "('page ', 172)\n",
        "('shops so far ', 1770)"
       ]
      },
      {
       "output_type": "stream",
       "stream": "stdout",
       "text": [
        "\n",
        "('page ', 173)\n",
        "('shops so far ', 1779)"
       ]
      },
      {
       "output_type": "stream",
       "stream": "stdout",
       "text": [
        "\n",
        "('page ', 174)\n",
        "('shops so far ', 1796)"
       ]
      },
      {
       "output_type": "stream",
       "stream": "stdout",
       "text": [
        "\n",
        "('page ', 175)\n",
        "('shops so far ', 1813)"
       ]
      },
      {
       "output_type": "stream",
       "stream": "stdout",
       "text": [
        "\n",
        "('page ', 176)\n",
        "('shops so far ', 1825)"
       ]
      },
      {
       "output_type": "stream",
       "stream": "stdout",
       "text": [
        "\n",
        "('page ', 177)\n",
        "('shops so far ', 1842)"
       ]
      },
      {
       "output_type": "stream",
       "stream": "stdout",
       "text": [
        "\n",
        "('page ', 178)\n",
        "('shops so far ', 1853)"
       ]
      },
      {
       "output_type": "stream",
       "stream": "stdout",
       "text": [
        "\n",
        "('page ', 179)\n",
        "('shops so far ', 1853)"
       ]
      },
      {
       "output_type": "stream",
       "stream": "stdout",
       "text": [
        "\n",
        "('page ', 180)\n",
        "('shops so far ', 1853)"
       ]
      },
      {
       "output_type": "stream",
       "stream": "stdout",
       "text": [
        "\n",
        "('page ', 181)\n",
        "('shops so far ', 1853)"
       ]
      },
      {
       "output_type": "stream",
       "stream": "stdout",
       "text": [
        "\n",
        "('page ', 182)\n",
        "('shops so far ', 1853)"
       ]
      },
      {
       "output_type": "stream",
       "stream": "stdout",
       "text": [
        "\n",
        "('page ', 183)\n",
        "('shops so far ', 1853)"
       ]
      },
      {
       "output_type": "stream",
       "stream": "stdout",
       "text": [
        "\n",
        "('page ', 184)\n",
        "('shops so far ', 1853)"
       ]
      },
      {
       "output_type": "stream",
       "stream": "stdout",
       "text": [
        "\n",
        "('page ', 185)\n",
        "('shops so far ', 1854)"
       ]
      },
      {
       "output_type": "stream",
       "stream": "stdout",
       "text": [
        "\n",
        "('page ', 186)\n",
        "('shops so far ', 1855)"
       ]
      },
      {
       "output_type": "stream",
       "stream": "stdout",
       "text": [
        "\n",
        "('page ', 187)\n",
        "('shops so far ', 1855)"
       ]
      },
      {
       "output_type": "stream",
       "stream": "stdout",
       "text": [
        "\n",
        "('page ', 188)\n",
        "('shops so far ', 1855)"
       ]
      },
      {
       "output_type": "stream",
       "stream": "stdout",
       "text": [
        "\n",
        "('page ', 189)\n",
        "('shops so far ', 1858)"
       ]
      },
      {
       "output_type": "stream",
       "stream": "stdout",
       "text": [
        "\n",
        "('page ', 190)\n",
        "('shops so far ', 1863)"
       ]
      },
      {
       "output_type": "stream",
       "stream": "stdout",
       "text": [
        "\n",
        "('page ', 191)\n",
        "('shops so far ', 1866)"
       ]
      },
      {
       "output_type": "stream",
       "stream": "stdout",
       "text": [
        "\n",
        "('page ', 192)\n",
        "('shops so far ', 1870)"
       ]
      },
      {
       "output_type": "stream",
       "stream": "stdout",
       "text": [
        "\n",
        "('page ', 193)\n",
        "('shops so far ', 1873)"
       ]
      },
      {
       "output_type": "stream",
       "stream": "stdout",
       "text": [
        "\n",
        "('page ', 194)\n",
        "('shops so far ', 1880)"
       ]
      },
      {
       "output_type": "stream",
       "stream": "stdout",
       "text": [
        "\n",
        "('page ', 195)\n",
        "('shops so far ', 1881)"
       ]
      },
      {
       "output_type": "stream",
       "stream": "stdout",
       "text": [
        "\n",
        "('page ', 196)\n",
        "('shops so far ', 1883)"
       ]
      },
      {
       "output_type": "stream",
       "stream": "stdout",
       "text": [
        "\n",
        "('page ', 197)\n",
        "('shops so far ', 1883)"
       ]
      },
      {
       "output_type": "stream",
       "stream": "stdout",
       "text": [
        "\n",
        "('page ', 198)\n",
        "('shops so far ', 1884)"
       ]
      },
      {
       "output_type": "stream",
       "stream": "stdout",
       "text": [
        "\n",
        "('page ', 199)\n",
        "('shops so far ', 1886)"
       ]
      },
      {
       "output_type": "stream",
       "stream": "stdout",
       "text": [
        "\n",
        "('page ', 200)\n",
        "('shops so far ', 1887)"
       ]
      },
      {
       "output_type": "stream",
       "stream": "stdout",
       "text": [
        "\n",
        "('page ', 201)\n",
        "('shops so far ', 1888)"
       ]
      },
      {
       "output_type": "stream",
       "stream": "stdout",
       "text": [
        "\n",
        "('page ', 202)\n",
        "('shops so far ', 1889)"
       ]
      },
      {
       "output_type": "stream",
       "stream": "stdout",
       "text": [
        "\n",
        "('page ', 203)\n",
        "('shops so far ', 1889)"
       ]
      },
      {
       "output_type": "stream",
       "stream": "stdout",
       "text": [
        "\n",
        "('page ', 204)\n",
        "('shops so far ', 1892)"
       ]
      },
      {
       "output_type": "stream",
       "stream": "stdout",
       "text": [
        "\n",
        "('page ', 205)\n",
        "('shops so far ', 1893)"
       ]
      },
      {
       "output_type": "stream",
       "stream": "stdout",
       "text": [
        "\n",
        "('page ', 206)\n",
        "('shops so far ', 1894)"
       ]
      },
      {
       "output_type": "stream",
       "stream": "stdout",
       "text": [
        "\n",
        "('page ', 207)\n",
        "('shops so far ', 1896)"
       ]
      },
      {
       "output_type": "stream",
       "stream": "stdout",
       "text": [
        "\n",
        "('page ', 208)\n",
        "('shops so far ', 1896)"
       ]
      },
      {
       "output_type": "stream",
       "stream": "stdout",
       "text": [
        "\n",
        "('page ', 209)\n",
        "('shops so far ', 1896)"
       ]
      },
      {
       "output_type": "stream",
       "stream": "stdout",
       "text": [
        "\n",
        "('page ', 210)\n",
        "('shops so far ', 1896)"
       ]
      },
      {
       "output_type": "stream",
       "stream": "stdout",
       "text": [
        "\n",
        "('page ', 211)\n",
        "('shops so far ', 1897)"
       ]
      },
      {
       "output_type": "stream",
       "stream": "stdout",
       "text": [
        "\n",
        "('page ', 212)\n",
        "('shops so far ', 1899)"
       ]
      },
      {
       "output_type": "stream",
       "stream": "stdout",
       "text": [
        "\n",
        "('page ', 213)\n",
        "('shops so far ', 1899)"
       ]
      },
      {
       "output_type": "stream",
       "stream": "stdout",
       "text": [
        "\n",
        "('page ', 214)\n",
        "('shops so far ', 1902)"
       ]
      },
      {
       "output_type": "stream",
       "stream": "stdout",
       "text": [
        "\n",
        "('page ', 215)\n",
        "('shops so far ', 1903)"
       ]
      },
      {
       "output_type": "stream",
       "stream": "stdout",
       "text": [
        "\n",
        "('page ', 216)\n",
        "('shops so far ', 1903)"
       ]
      },
      {
       "output_type": "stream",
       "stream": "stdout",
       "text": [
        "\n",
        "('page ', 217)\n",
        "('shops so far ', 1905)"
       ]
      },
      {
       "output_type": "stream",
       "stream": "stdout",
       "text": [
        "\n",
        "('page ', 218)\n",
        "('shops so far ', 1908)"
       ]
      },
      {
       "output_type": "stream",
       "stream": "stdout",
       "text": [
        "\n",
        "('page ', 219)\n",
        "('shops so far ', 1911)"
       ]
      },
      {
       "output_type": "stream",
       "stream": "stdout",
       "text": [
        "\n",
        "('page ', 220)\n",
        "('shops so far ', 1916)"
       ]
      },
      {
       "output_type": "stream",
       "stream": "stdout",
       "text": [
        "\n",
        "('page ', 221)\n",
        "('shops so far ', 1920)"
       ]
      },
      {
       "output_type": "stream",
       "stream": "stdout",
       "text": [
        "\n",
        "('page ', 222)\n",
        "('shops so far ', 1922)"
       ]
      },
      {
       "output_type": "stream",
       "stream": "stdout",
       "text": [
        "\n",
        "('page ', 223)\n",
        "('shops so far ', 1923)"
       ]
      },
      {
       "output_type": "stream",
       "stream": "stdout",
       "text": [
        "\n",
        "('page ', 224)\n",
        "('shops so far ', 1927)"
       ]
      },
      {
       "output_type": "stream",
       "stream": "stdout",
       "text": [
        "\n",
        "('page ', 225)\n",
        "('shops so far ', 1932)"
       ]
      },
      {
       "output_type": "stream",
       "stream": "stdout",
       "text": [
        "\n",
        "('page ', 226)\n",
        "('shops so far ', 1933)"
       ]
      },
      {
       "output_type": "stream",
       "stream": "stdout",
       "text": [
        "\n",
        "('page ', 227)\n",
        "('shops so far ', 1935)"
       ]
      },
      {
       "output_type": "stream",
       "stream": "stdout",
       "text": [
        "\n",
        "('page ', 228)\n",
        "('shops so far ', 1940)"
       ]
      },
      {
       "output_type": "stream",
       "stream": "stdout",
       "text": [
        "\n",
        "('page ', 229)\n",
        "('shops so far ', 1944)"
       ]
      },
      {
       "output_type": "stream",
       "stream": "stdout",
       "text": [
        "\n",
        "('page ', 230)\n",
        "('shops so far ', 1948)"
       ]
      },
      {
       "output_type": "stream",
       "stream": "stdout",
       "text": [
        "\n",
        "('page ', 231)\n",
        "('shops so far ', 1953)"
       ]
      },
      {
       "output_type": "stream",
       "stream": "stdout",
       "text": [
        "\n",
        "('page ', 232)\n",
        "('shops so far ', 1958)"
       ]
      },
      {
       "output_type": "stream",
       "stream": "stdout",
       "text": [
        "\n",
        "('page ', 233)\n",
        "('shops so far ', 1964)"
       ]
      },
      {
       "output_type": "stream",
       "stream": "stdout",
       "text": [
        "\n",
        "('page ', 234)\n",
        "('shops so far ', 1968)"
       ]
      },
      {
       "output_type": "stream",
       "stream": "stdout",
       "text": [
        "\n",
        "('page ', 235)\n",
        "('shops so far ', 1973)"
       ]
      },
      {
       "output_type": "stream",
       "stream": "stdout",
       "text": [
        "\n",
        "('page ', 236)\n",
        "('shops so far ', 1978)"
       ]
      },
      {
       "output_type": "stream",
       "stream": "stdout",
       "text": [
        "\n",
        "('page ', 237)\n",
        "('shops so far ', 1982)"
       ]
      },
      {
       "output_type": "stream",
       "stream": "stdout",
       "text": [
        "\n",
        "('page ', 238)\n",
        "('shops so far ', 1987)"
       ]
      },
      {
       "output_type": "stream",
       "stream": "stdout",
       "text": [
        "\n",
        "('page ', 239)\n",
        "('shops so far ', 1993)"
       ]
      },
      {
       "output_type": "stream",
       "stream": "stdout",
       "text": [
        "\n",
        "('page ', 240)\n",
        "{1: {'Name': u'NafeIronWorksDesign'}, 2: {'Name': u'TrendyLittleDetails'}, 3: {'Name': u'HookAndKnob'}, 4: {'Name': u'HOMEmadeMakeovers'}, 5: {'Name': u'ARoseRambling'}, 6: {'Name': u'Firstfinds'}, 7: {'Name': u'Bicoestonia'}, 8: {'Name': u'MonstersOverTheSea'}, 9: {'Name': u'JudysJunktion'}, 10: {'Name': u'OldOdditiesAndMore'}, 11: {'Name': u'JustForYou22'}, 12: {'Name': u'lesaestes'}, 13: {'Name': u'MyVintageLane'}, 14: {'Name': u'SAWTOOTHcreek'}, 15: {'Name': u'reginasstudio'}, 16: {'Name': u'PJsParadise'}, 17: {'Name': u'dontthrowthataway'}, 18: {'Name': u'marketsquareus'}, 19: {'Name': u'vintagerussia'}, 20: {'Name': u'NoriSoapworks'}, 21: {'Name': u'OhioWoodandIronWorks'}, 22: {'Name': u'qsmuse'}, 23: {'Name': u'Indounik'}, 24: {'Name': u'BeachArtbychrissie'}, 25: {'Name': u'TeaTimeVintageShop'}, 26: {'Name': u'HobbitsCache'}, 27: {'Name': u'TheHeirloomShoppe'}, 28: {'Name': u'MyHighStreetBoutique'}, 29: {'Name': u'TheForestSleeps'}, 30: {'Name': u'GAGirlDesigns'}, 31: {'Name': u'RagtagStudio'}, 32: {'Name': u'RandPCollectibles'}, 33: {'Name': u'RomoGALLERY'}, 34: {'Name': u'shimrita'}, 35: {'Name': u'LaBelleEpoqueDeco'}, 36: {'Name': u'RetroCollecto'}, 37: {'Name': u'MaggiesCellar'}, 38: {'Name': u'nomorebrokendish'}, 39: {'Name': u'RoselightStudio'}, 40: {'Name': u'bycinbyhand'}, 41: {'Name': u'RusticAttic'}, 42: {'Name': u'Dreamchinese'}, 43: {'Name': u'TreasuresOnceMore'}, 44: {'Name': u'homeVintageUSSR'}, 45: {'Name': u'aurora279'}, 46: {'Name': u'SquirrelMidden'}, 47: {'Name': u'HighPointFarm2010'}, 48: {'Name': u'RusTiqueAgeHome'}, 49: {'Name': u'Gotahangup'}, 50: {'Name': u'vividstitches'}, 51: {'Name': u'Elezuomixmedia'}, 52: {'Name': u'thejunkman'}, 53: {'Name': u'AuntieLillians'}, 54: {'Name': u'ComfortablyVintage'}, 55: {'Name': u'UpcyceIndustrials'}, 56: {'Name': u'ChickieVintageLove'}, 57: {'Name': u'Pushkaknobs'}, 58: {'Name': u'ClayismyArt'}, 59: {'Name': u'LondonGraceBoutique'}, 60: {'Name': u'simplycreativeliving'}, 61: {'Name': u'DiamondintheRust'}, 62: {'Name': u'PotsbydePerrot'}, 63: {'Name': u'creativelikemyKing'}, 64: {'Name': u'ChuckWagonWestern'}, 65: {'Name': u'SunshinePartyStudio'}, 66: {'Name': u'laceandtwig'}, 67: {'Name': u'JaxnJils'}, 68: {'Name': u'mppineconedesigns'}, 69: {'Name': u'AmorFatiArtisan'}, 70: {'Name': u'birchleaves'}, 71: {'Name': u'bluefolkhome'}, 72: {'Name': u'ijustlike'}, 73: {'Name': u'baconsquarefarm'}, 74: {'Name': u'juxtapositionsc'}, 75: {'Name': u'BandedPillows'}, 76: {'Name': u'KeishasKreativity'}, 77: {'Name': u'ProsserBrosVtg'}, 78: {'Name': u'chichimama05'}, 79: {'Name': u'AgaveTradingCo'}, 80: {'Name': u'PeggyJHaleDesigns'}, 81: {'Name': u'MorrellDecor'}, 82: {'Name': u'TheBlindPeacock'}, 83: {'Name': u'primitivearts'}, 84: {'Name': u'knobsandmore'}, 85: {'Name': u'funknjunkinc'}, 86: {'Name': u'LucyDesignsonline'}, 87: {'Name': u'KnobShop'}, 88: {'Name': u'KingsfieldInn'}, 89: {'Name': u'anniesvintagewares'}, 90: {'Name': u'mclark925'}, 91: {'Name': u'ColorfulCastAndCrew'}, 92: {'Name': u'PaintedTulipStudio'}, 93: {'Name': u'VintageLoversShop'}, 94: {'Name': u'UnderWillowOaks'}, 95: {'Name': u'HavenVintage'}, 96: {'Name': u'midgetgems'}, 97: {'Name': u'LoveToFeatherTheNest'}, 98: {'Name': u'Majilly'}, 99: {'Name': u'TheBeadSource'}, 100: {'Name': u'BarbsHandiworks'}, 101: {'Name': u'DebLynnCreations'}, 102: {'Name': u'HeadstrongHippie'}, 103: {'Name': u'RajasthanRoyals'}, 104: {'Name': u'oceangifts'}, 105: {'Name': u'SisterCrafts1'}, 106: {'Name': u'Brochets'}, 107: {'Name': u'ShabbrusticChic'}, 108: {'Name': u'HardwareArchive'}, 109: {'Name': u'Createatorium'}, 110: {'Name': u'rarefinds4u'}, 111: {'Name': u'antiqueitems23'}, 112: {'Name': u'BandCEmporium'}, 113: {'Name': u'AtomRouge'}, 114: {'Name': u'HAUTEGRAPHIQUE'}, 115: {'Name': u'OneFrameStories'}, 116: {'Name': u'TheSalvagedPlanet'}, 117: {'Name': u'hometowngeneralstore'}, 118: {'Name': u'simplysalboutique'}, 119: {'Name': u'HookedOnMOeZ'}, 120: {'Name': u'BountyFromThePast'}, 121: {'Name': u'punksrus'}, 122: {'Name': u'AandBDesignStudio'}, 123: {'Name': u'HuckleberrysCorner'}, 124: {'Name': u'typewritersandthings'}, 125: {'Name': u'BobbinRoseVintage'}, 126: {'Name': u'LisaLiYesterYears'}, 127: {'Name': u'TheCottageKey'}, 128: {'Name': u'WoodnThingsNY12534'}, 129: {'Name': u'VintageMemories412'}, 130: {'Name': u'ontherebound'}, 131: {'Name': u'Vintporium'}, 132: {'Name': u'dorothybroome'}, 133: {'Name': u'MossMountain'}, 134: {'Name': u'VictorianWardrobe'}, 135: {'Name': u'MargueritesWoodShed'}, 136: {'Name': u'RustedPulchritude'}, 137: {'Name': u'MillworkVintageStuff'}, 138: {'Name': u'xBeyondBlessedx'}, 139: {'Name': u'ApplegatesAntiques'}, 140: {'Name': u'LAKEWAYCANDLES'}, 141: {'Name': u'EsobDesigns'}, 142: {'Name': u'SexyTrashVintage'}, 143: {'Name': u'NorthMajestyTrail'}, 144: {'Name': u'EnglishShop'}, 145: {'Name': u'PhoebesTreasureChest'}, 146: {'Name': u'RosebudsOriginals'}, 147: {'Name': u'nanascottagehouse'}, 148: {'Name': u'RedLittleVintage'}, 149: {'Name': u'timepassages'}, 150: {'Name': u'VintageMilk'}, 151: {'Name': u'GiddyBrightVintage'}, 152: {'Name': u'HeinemannImages'}, 153: {'Name': u'cynthiasattic'}, 154: {'Name': u'Mumscottage'}, 155: {'Name': u'bestLuba'}, 156: {'Name': u'vintagenonsense'}, 157: {'Name': u'JudiJumble'}, 158: {'Name': u'MelissasCozyCottage'}, 159: {'Name': u'GrandpasPliersnWires'}, 160: {'Name': u'CamillaCotton'}, 161: {'Name': u'WhereTheRoosterCrows'}, 162: {'Name': u'xurple'}, 163: {'Name': u'ladygirltreasures'}, 164: {'Name': u'aprilmay72'}, 165: {'Name': u'bigbangzero'}, 166: {'Name': u'PaperButtercup'}, 167: {'Name': u'JoJoFavorites'}, 168: {'Name': u'WallpaperYourWorld'}, 169: {'Name': u'SmetanaVintage'}, 170: {'Name': u'SouthernPressWorks'}, 171: {'Name': u'CityLimitsVintage'}, 172: {'Name': u'DixHillDecor'}, 173: {'Name': u'EllasAtticVintage'}, 174: {'Name': u'GlassRelief'}, 175: {'Name': u'LuvVintageThings'}, 176: {'Name': u'macandmarys'}, 177: {'Name': u'Lisshop'}, 178: {'Name': u'sewupcycle'}, 179: {'Name': u'Assemblages'}, 180: {'Name': u'zadoodle'}, 181: {'Name': u'nanniepannie'}, 182: {'Name': u'HandcraftedAccents'}, 183: {'Name': u'cocolocca'}, 184: {'Name': u'TheUrbanBarn'}, 185: {'Name': u'BLINKIEWELLSVINTAGE'}, 186: {'Name': u'DiscountPaperCrafts'}, 187: {'Name': u'Bookwomen3'}, 188: {'Name': u'PatriciaBrewerArtist'}, 189: {'Name': u'MaddysFabricStash'}, 190: {'Name': u'UtterClutter1973'}, 191: {'Name': u'FoggynoshunsVintage'}, 192: {'Name': u'FranklinStVintage'}, 193: {'Name': u'CollectibleCorner'}, 194: {'Name': u'studiostebbylee'}, 195: {'Name': u'NonasVintageDesigns'}, 196: {'Name': u'CrochetKnitandMix'}, 197: {'Name': u'SayItWithSassRoxboro'}, 198: {'Name': u'PeelsandPosies'}, 199: {'Name': u'VintageMaryLeslie'}, 200: {'Name': u'nancyplage'}, 201: {'Name': u'CharlesPlace'}, 202: {'Name': u'BabisTreasures'}, 203: {'Name': u'PaulasSewNice'}, 204: {'Name': u'LogArtistry'}, 205: {'Name': u'differentdesigns10'}, 206: {'Name': u'JensBarn'}, 207: {'Name': u'DAILEYSHOPPER'}, 208: {'Name': u'nostalgishop'}, 209: {'Name': u'kenkimpling'}, 210: {'Name': u'NefariousLaboratory'}, 211: {'Name': u'blueapplevintage'}, 212: {'Name': u'justgivemepeace'}, 213: {'Name': u'Zarahs'}, 214: {'Name': u'AuntieAnnsEmphorium'}, 215: {'Name': u'sssencesolutions'}, 216: {'Name': u'SandysLeaf'}, 217: {'Name': u'reclaimedhome'}, 218: {'Name': u'UpcyclingCollections'}, 219: {'Name': u'MaisonSteinbuchel'}, 220: {'Name': u'revampedandrevived'}, 221: {'Name': u'HouseHoldWords'}, 222: {'Name': u'auctionannie'}, 223: {'Name': u'csforevervintage'}, 224: {'Name': u'radishka'}, 225: {'Name': u'MainlyCharts'}, 226: {'Name': u'doorknobdesigns'}, 227: {'Name': u'OldBox'}, 228: {'Name': u'SawdustGideon'}, 229: {'Name': u'LongAgoVintage'}, 230: {'Name': u'linsvintage'}, 231: {'Name': u'WaveSong'}, 232: {'Name': u'LaCroixRosion'}, 233: {'Name': u'Dutchiez'}, 234: {'Name': u'VintageFlaunts'}, 235: {'Name': u'SadiesToys'}, 236: {'Name': u'Imperfetions'}, 237: {'Name': u'RepurposedRelicsTX'}, 238: {'Name': u'Stigerstuff'}, 239: {'Name': u'AliciaBeam'}, 240: {'Name': u'SunPorchOnLilacLane'}, 241: {'Name': u'PlumCreekPatterns'}, 242: {'Name': u'thepetitemarket'}, 243: {'Name': u'Rustic0517'}, 244: {'Name': u'Ukrainevintage'}, 245: {'Name': u'okanaganvintage'}, 246: {'Name': u'VivandLil'}, 247: {'Name': u'BlairsHouseofVintage'}, 248: {'Name': u'OldFangledFinds'}, 249: {'Name': u'TheAviaryCreations'}, 250: {'Name': u'FoundButNeverLost'}, 251: {'Name': u'ancienesthetique'}, 252: {'Name': u'EmeraldCityPhotos'}, 253: {'Name': u'VintageHomeTouches'}, 254: {'Name': u'FujiDoorKnobCovers'}, 255: {'Name': u'JuteHome'}, 256: {'Name': u'FoundinUSSR'}, 257: {'Name': u'NaomisTinTreasures'}, 258: {'Name': u'knobologie'}, 259: {'Name': u'LivSpirations'}, 260: {'Name': u'ArellaBaby'}, 261: {'Name': u'TheLuckyFindsupply'}, 262: {'Name': u'PullmanHR'}, 263: {'Name': u'serpentsdelight'}, 264: {'Name': u'trymysupplies'}, 265: {'Name': u'curioscity'}, 266: {'Name': u'RusticSpoonful'}, 267: {'Name': u'L2Gcraftsalot'}, 268: {'Name': u'farmfunk'}, 269: {'Name': u'WesternKyRustic'}, 270: {'Name': u'CREATIONSbySabine'}, 271: {'Name': u'vintageUSSR777'}, 272: {'Name': u'TheSentimentalShop'}, 273: {'Name': u'DoorsByRoss'}, 274: {'Name': u'silversnow13'}, 275: {'Name': u'VintageHand'}, 276: {'Name': u'RushCreekVintage'}, 277: {'Name': u'HooksAndHardware'}, 278: {'Name': u'ChickenLittleToo'}, 279: {'Name': u'DejaNueLLC'}, 280: {'Name': u'assetcrafts'}, 281: {'Name': u'4allseasons'}, 282: {'Name': u'OWSvintage'}, 283: {'Name': u'Barefootpeddler'}, 284: {'Name': u'SaltysPirateDen'}, 285: {'Name': u'EdgingtonFineArt'}, 286: {'Name': u'24northmain'}, 287: {'Name': u'RedArrowSalvage'}, 288: {'Name': u'Funktini'}, 289: {'Name': u'SewFrazzledThreads'}, 290: {'Name': u'Birdycoconut'}, 291: {'Name': u'ShopOLatte'}, 292: {'Name': u'OldFoundTreasures'}, 293: {'Name': u'OrientalBazar'}, 294: {'Name': u'dccreations1'}, 295: {'Name': u'SGTSRecyclingInc'}, 296: {'Name': u'HandandHookCrochet'}, 297: {'Name': u'iamdiro'}, 298: {'Name': u'vintagediversion'}, 299: {'Name': u'ChrisUngaro'}, 300: {'Name': u'ohiopicker'}, 301: {'Name': u'RustyCurios'}, 302: {'Name': u'VintageTreasuresRus'}, 303: {'Name': u'Louisianaminis'}, 304: {'Name': u'LaPolena'}, 305: {'Name': u'woodupnorth'}, 306: {'Name': u'ElizabethanFolkArt'}, 307: {'Name': u'MewAndMew'}, 308: {'Name': u'myfairycraftmother'}, 309: {'Name': u'HannahsAtticMt'}, 310: {'Name': u'BelletreeVintage'}, 311: {'Name': u'CELESTESCHALL'}, 312: {'Name': u'CollectiveVision'}, 313: {'Name': u'MayBliss'}, 314: {'Name': u'SDRusticDecor'}, 315: {'Name': u'NAESBARGAINBASEMENT'}, 316: {'Name': u'ChloesClutter'}, 317: {'Name': u'pixelmarket'}, 318: {'Name': u'SoYesterdaySoCool'}, 319: {'Name': u'findergirls'}, 320: {'Name': u'FabFindsGentlerTimes'}, 321: {'Name': u'JasysVintageFinds'}, 322: {'Name': u'antiquissimo'}, 323: {'Name': u'retrievevintage'}, 324: {'Name': u'DerBayzVintage'}, 325: {'Name': u'BrittsDiverseStyle'}, 326: {'Name': u'DecojumeauAntiques'}, 327: {'Name': u'LaurenAnnaLei'}, 328: {'Name': u'SomedayViolet'}, 329: {'Name': u'Linsvintageboutique'}, 330: {'Name': u'StarfishCollectibles'}, 331: {'Name': u'RyensMarketplace'}, 332: {'Name': u'MadeWithLoveByAshley'}, 333: {'Name': u'GespenstsFantasyGear'}, 334: {'Name': u'Yesterdazetoday'}, 335: {'Name': u'TizaVintage'}, 336: {'Name': u'AutumnsRose'}, 337: {'Name': u'sansli'}, 338: {'Name': u'ErleneGarciaArt'}, 339: {'Name': u'FILCA'}, 340: {'Name': u'SweetPeaEtc'}, 341: {'Name': u'HeartSmileFarms'}, 342: {'Name': u'thekeyofa'}, 343: {'Name': u'JLMPHOTOGRAPHS'}, 344: {'Name': u'chocolatecreative'}, 345: {'Name': u'dabubblegumgirl'}, 346: {'Name': u'rustybuttonstudio'}, 347: {'Name': u'mkmack'}, 348: {'Name': u'Endsandoddoties'}, 349: {'Name': u'ItsWrittenOnTheWall'}, 350: {'Name': u'europeanlighting'}, 351: {'Name': u'SFKvintage'}, 352: {'Name': u'JetsamAndJuniper'}, 353: {'Name': u'HunterandHubble'}, 354: {'Name': u'ShopCremeVintage'}, 355: {'Name': u'heartfeltgiver'}, 356: {'Name': u'toysfrom70s'}, 357: {'Name': u'BranchBellDesigns'}, 358: {'Name': u'OrphanedTreasure'}, 359: {'Name': u'AnniesPillowEmporium'}, 360: {'Name': u'RetroSaffer'}, 361: {'Name': u'LovedByTheBuffalo'}, 362: {'Name': u'LifeQuest'}, 363: {'Name': u'JunkDrawerAndMore'}, 364: {'Name': u'ManciniVintage'}, 365: {'Name': u'LongSince'}, 366: {'Name': u'vintagehelper'}, 367: {'Name': u'Volkskid'}, 368: {'Name': u'Auntdelta'}, 369: {'Name': u'RescuedObjects'}, 370: {'Name': u'ValsVintageShoppe'}, 371: {'Name': u'Malama1'}, 372: {'Name': u'JKnoxDesigns'}, 373: {'Name': u'rustshop'}, 374: {'Name': u'SteampunkBlacksheep'}, 375: {'Name': u'dizhasneatstuff'}, 376: {'Name': u'JavaJaneDesigns'}, 377: {'Name': u'JunctionARow'}, 378: {'Name': u'VintageCreekside'}, 379: {'Name': u'ChicCollective'}, 380: {'Name': u'AtelierGrada'}, 381: {'Name': u'RusticAmerican1'}, 382: {'Name': u'NorthSouthSalvage'}, 383: {'Name': u'WooHooCuties'}, 384: {'Name': u'RedeemedFinds'}, 385: {'Name': u'RedStarVintage'}, 386: {'Name': u'VintageSwag101'}, 387: {'Name': u'terrisvintageshop'}, 388: {'Name': u'Woodsoffoster'}, 389: {'Name': u'Decortiques'}, 390: {'Name': u'AikenKraft'}, 391: {'Name': u'RhymeswithDaughter'}, 392: {'Name': u'SalvageRelics'}, 393: {'Name': u'MoreLooseEnds'}, 394: {'Name': u'DashofFlair'}, 395: {'Name': u'MuchLovedTreasures'}, 396: {'Name': u'zkDesigns02'}, 397: {'Name': u'QuietBendCreations'}, 398: {'Name': u'SusanCarberryDesigns'}, 399: {'Name': u'VintageAndVictorian'}, 400: {'Name': u'RusticBoardwalk'}, 401: {'Name': u'BELLASVINTAGECHIC'}, 402: {'Name': u'DixieDownHome'}, 403: {'Name': u'ColoradoBackRoads'}, 404: {'Name': u'Woodsenses'}, 405: {'Name': u'PaintedTurtleStudio'}, 406: {'Name': u'MINIHAPPYLV'}, 407: {'Name': u'FrenchVintage4You'}, 408: {'Name': u'krazycrochet'}, 409: {'Name': u'CountryMini'}, 410: {'Name': u'ArtsofBrass'}, 411: {'Name': u'jaczko2'}, 412: {'Name': u'nanaandcompany'}, 413: {'Name': u'pepeandcarols'}, 414: {'Name': u'MyMothersMadAttic'}, 415: {'Name': u'QuiltingThings'}, 416: {'Name': u'maimiesmerchantile'}, 417: {'Name': u'kmadson'}, 418: {'Name': u'MeanderingDesign'}, 419: {'Name': u'vintagehillbillies'}, 420: {'Name': u'BeachViewAttic'}, 421: {'Name': u'OldMossyTreasures'}, 422: {'Name': u'AnnelisaSewingCircle'}, 423: {'Name': u'SunriseSunsetVintage'}, 424: {'Name': u'emmteecreations'}, 425: {'Name': u'RajasthanMarket'}, 426: {'Name': u'VANDERSYS'}, 427: {'Name': u'NJSimages'}, 428: {'Name': u'SimplyChina'}, 429: {'Name': u'pamsantiques'}, 430: {'Name': u'3sisterstreasures'}, 431: {'Name': u'willowpaige'}, 432: {'Name': u'YouLoveItToo'}, 433: {'Name': u'MiaCristi'}, 434: {'Name': u'VickiesVintageHome'}, 435: {'Name': u'OzarkJunkShop'}, 436: {'Name': u'creationmoodmarias'}, 437: {'Name': u'DsTrove'}, 438: {'Name': u'AngieFoundit4U'}, 439: {'Name': u'redposie'}, 440: {'Name': u'TodSmithArtsandToys'}, 441: {'Name': u'thelongacreflea'}, 442: {'Name': u'patternpeddlerannex'}, 443: {'Name': u'wilshepherd'}, 444: {'Name': u'edsfinds'}, 445: {'Name': u'VintageTinsel'}, 446: {'Name': u'StardustFinds'}, 447: {'Name': u'gasman201'}, 448: {'Name': u'umbrellafant'}, 449: {'Name': u'VintageCollectionUA'}, 450: {'Name': u'GlitteryUnicorns'}, 451: {'Name': u'Oldetymememories'}, 452: {'Name': u'kathyscraftroom55'}, 453: {'Name': u'kennedyjanice'}, 454: {'Name': u'SHubbShop'}, 455: {'Name': u'thesummerplace'}, 456: {'Name': u'funfindingsforsale'}, 457: {'Name': u'therhubarbstudio'}, 458: {'Name': u'auctionjunkies'}, 459: {'Name': u'SophieLadyDeParis'}, 460: {'Name': u'SheSheStitches'}, 461: {'Name': u'FunkyButter'}, 462: {'Name': u'HMCTreasures'}, 463: {'Name': u'TimelezVintage'}, 464: {'Name': u'bartonwood'}, 465: {'Name': u'ShemawsStuff'}, 466: {'Name': u'fAverittecreations'}, 467: {'Name': u'PetiteMichelleLouise'}, 468: {'Name': u'vintageatmosphere'}, 469: {'Name': u'cybersenora'}, 470: {'Name': u'ArchelausRecyclers'}, 471: {'Name': u'PageScrappers'}, 472: {'Name': u'PhloxRiverStudio'}, 473: {'Name': u'DawgDayCrafting'}, 474: {'Name': u'HaberdasheryLtd'}, 475: {'Name': u'prestonbrowning'}, 476: {'Name': u'HauteAppeal'}, 477: {'Name': u'greilstreasures'}, 478: {'Name': u'Annickantiques'}, 479: {'Name': u'CasaKarmaDecor'}, 480: {'Name': u'aylasantiques'}, 481: {'Name': u'dkgeneralstore'}, 482: {'Name': u'cabinetocurios'}, 483: {'Name': u'OkayFineVintage'}, 484: {'Name': u'DSmithWoodcraft'}, 485: {'Name': u'VintageAccentsStudio'}, 486: {'Name': u'GracefulOfferings'}, 487: {'Name': u'KeyportHoneyHole'}, 488: {'Name': u'jessicareisspix'}, 489: {'Name': u'jupjdown'}, 490: {'Name': u'VintageJewelryBazaar'}, 491: {'Name': u'kimladd'}, 492: {'Name': u'RevivdesignSalvage'}, 493: {'Name': u'MIVintageDeals'}, 494: {'Name': u'PetoskeyTreasures'}, 495: {'Name': u'OnceUpnTym'}, 496: {'Name': u'RockIslandDesigns'}, 497: {'Name': u'Vintivity'}, 498: {'Name': u'lheurebleue'}, 499: {'Name': u'TheEclecticInterior'}, 500: {'Name': u'MyYiayiaHadThat'}, 501: {'Name': u'CottonStateCreations'}, 502: {'Name': u'grannysbackporchvint'}, 503: {'Name': u'Abisfinds'}, 504: {'Name': u'GrannyHannasCottage'}, 505: {'Name': u'TeresasTreasuresEtc'}, 506: {'Name': u'SycamoreVintage'}, 507: {'Name': u'SweetTeaTreasures'}, 508: {'Name': u'eFourLaser'}, 509: {'Name': u'UpcountryDesign'}, 510: {'Name': u'Homedecorandsuch'}, 511: {'Name': u'RustyRelics1967'}, 512: {'Name': u'MidCenturyShoppe'}, 513: {'Name': u'ChicFrangine'}, 514: {'Name': u'JillianAudreyDesigns'}, 515: {'Name': u'izabelvintageshop'}, 516: {'Name': u'DakineFinders'}, 517: {'Name': u'RichmondGeneralStore'}, 518: {'Name': u'PineSpringsCottage'}, 519: {'Name': u'CapeFearCurbSide'}, 520: {'Name': u'DreamingAlice'}, 521: {'Name': u'LilyGraceInspired'}, 522: {'Name': u'thekingsmistress'}, 523: {'Name': u'AWordFitlySpoken'}, 524: {'Name': u'PrettyPaulaProducts'}, 525: {'Name': u'CraftingDaily'}, 526: {'Name': u'ProvenceArtAntiques'}, 527: {'Name': u'faciasmom'}, 528: {'Name': u'Accent2'}, 529: {'Name': u'pamperedcalico'}, 530: {'Name': u'DesignedImperfection'}, 531: {'Name': u'MScottPhotography'}, 532: {'Name': u'ReVampedbyTheodore'}, 533: {'Name': u'TBlaszczykAntiques'}, 534: {'Name': u'VintageGalleryStores'}, 535: {'Name': u'RetroChicbyDHokien'}, 536: {'Name': u'ClockWinder'}, 537: {'Name': u'ItsJustYouandMe'}, 538: {'Name': u'BlackberryPrairie'}, 539: {'Name': u'pastoria'}, 540: {'Name': u'thepaintedpiggy'}, 541: {'Name': u'LilyBugGardenStones'}, 542: {'Name': u'SeacoastVintage'}, 543: {'Name': u'skuefler'}, 544: {'Name': u'Poppycbrilliant'}, 545: {'Name': u'SYNCOPATEDCLOCK'}, 546: {'Name': u'LincolnAveDesigns'}, 547: {'Name': u'MillysAtticTreasures'}, 548: {'Name': u'ChicksTreasures'}, 549: {'Name': u'TheUniqueAntiqueShop'}, 550: {'Name': u'CreationsbyDJ'}, 551: {'Name': u'scarecrowcabin'}, 552: {'Name': u'TheShabbyStore'}, 553: {'Name': u'TheVintageArtProject'}, 554: {'Name': u'CreekLifeTreasures'}, 555: {'Name': u'sistersvintageattic'}, 556: {'Name': u'ivegotahammer'}, 557: {'Name': u'42ndAvenueVintage'}, 558: {'Name': u'GirlsUniqueBoutique'}, 559: {'Name': u'RUNNINGTIDE'}, 560: {'Name': u'SewArtzy'}, 561: {'Name': u'MidCenturyAmericana'}, 562: {'Name': u'CarolsThreads'}, 563: {'Name': u'Pascalene'}, 564: {'Name': u'JLMDESIGNS3'}, 565: {'Name': u'VintageByForgetMeNot'}, 566: {'Name': u'CraftySara'}, 567: {'Name': u'MidnightandMagnolias'}, 568: {'Name': u'MarilynnTaylorDecor'}, 569: {'Name': u'CraftsByCheryl'}, 570: {'Name': u'JaanasVintageHome'}, 571: {'Name': u'EnchantedRoseProduct'}, 572: {'Name': u'Trashtiques'}, 573: {'Name': u'LovelyAccent'}, 574: {'Name': u'MissBettysAntiques'}, 575: {'Name': u'Jrocreations'}, 576: {'Name': u'VintageJunkInMyTrunk'}, 577: {'Name': u'ReservedForRoyalty'}, 578: {'Name': u'scrapology'}, 579: {'Name': u'VintageWoodenShoe'}, 580: {'Name': u'NostalgicHome'}, 581: {'Name': u'SecondChanceSupplies'}, 582: {'Name': u'RusticPrairieCottage'}, 583: {'Name': u'mrsjabberjaw'}, 584: {'Name': u'foundrevamp'}, 585: {'Name': u'BrianWDesigns'}, 586: {'Name': u'thewinterwood'}, 587: {'Name': u'suzannetuzzeophotos'}, 588: {'Name': u'KYPrimitives'}, 589: {'Name': u'Happiness2day'}, 590: {'Name': u'oldschoolvibes'}, 591: {'Name': u'Myvints'}, 592: {'Name': u'ZigZagDrive'}, 593: {'Name': u'MadeinZena'}, 594: {'Name': u'ConstantBaubling'}, 595: {'Name': u'TwistedVictoria'}, 596: {'Name': u'LilliannaK'}, 597: {'Name': u'RoadrunnerSalvage'}, 598: {'Name': u'DyDa'}, 599: {'Name': u'crazycatcreations'}, 600: {'Name': u'RSWVintage'}, 601: {'Name': u'GiftsbyBeverly'}, 602: {'Name': u'Grantcitycreations'}, 603: {'Name': u'CloesCloset'}, 604: {'Name': u'UneekGlassFusions'}, 605: {'Name': u'ChristineMsCreations'}, 606: {'Name': u'PerlersByJonny'}, 607: {'Name': u'TreasurePicker'}, 608: {'Name': u'AuntieMtreasureShop'}, 609: {'Name': u'VintageEncantos'}, 610: {'Name': u'CuriosityShopper'}, 611: {'Name': u'ButterandCompanies'}, 612: {'Name': u'OldSoulsEmporium'}, 613: {'Name': u'CandyKQuilts'}, 614: {'Name': u'Kittyandme'}, 615: {'Name': u'1840VintageLane'}, 616: {'Name': u'flattirevintage'}, 617: {'Name': u'WolfArtStudio'}, 618: {'Name': u'AmyFindsEverything'}, 619: {'Name': u'SpyderCrafts'}, 620: {'Name': u'ThisandThatCapeCod'}, 621: {'Name': u'RecycledWares'}, 622: {'Name': u'NicoleHurtCreations'}, 623: {'Name': u'rouilly'}, 624: {'Name': u'SherisClassicalWares'}, 625: {'Name': u'EnchantedWishingWell'}, 626: {'Name': u'thebombshelter1'}, 627: {'Name': u'VintageAttackFinds'}, 628: {'Name': u'NotSoShabbyItems'}, 629: {'Name': u'VintageEuro'}, 630: {'Name': u'AndWorksWithHerHands'}, 631: {'Name': u'StonesThrowVintage'}, 632: {'Name': u'Labellesfinechina'}, 633: {'Name': u'CraftinistasBoutique'}, 634: {'Name': u'MariasFarmhouse'}, 635: {'Name': u'ABackyardCreation'}, 636: {'Name': u'Past2U'}, 637: {'Name': u'TheVintageEurope'}, 638: {'Name': u'evesjulia12'}, 639: {'Name': u'southernhomevintage'}, 640: {'Name': u'McMichaelsCrkDesigns'}, 641: {'Name': u'justynamrugala'}, 642: {'Name': u'AHawkAndAHoneyBee'}, 643: {'Name': u'Goldenshoestrings'}, 644: {'Name': u'TheWorldExplored'}, 645: {'Name': u'oZdOinGItagaiN'}, 646: {'Name': u'SRVintageandDesigns'}, 647: {'Name': u'CinfulOldies'}, 648: {'Name': u'TheCuriousHutch'}, 649: {'Name': u'DocsOddsandEnds'}, 650: {'Name': u'backgatecottage'}, 651: {'Name': u'Hopeartcollectables'}, 652: {'Name': u'YourCreativePartner'}, 653: {'Name': u'VerdeVintageThrift'}, 654: {'Name': u'StephCustomCrocheted'}, 655: {'Name': u'wonderfulathome'}, 656: {'Name': u'RetroRixie'}, 657: {'Name': u'BitsAndPiecesEtc'}, 658: {'Name': u'PaolinaLynn'}, 659: {'Name': u'WOODruSAYINSigns'}, 660: {'Name': u'WhatsNewOnTheMantel'}, 661: {'Name': u'PiecesOfPastimes'}, 662: {'Name': u'lazydaysdesign'}, 663: {'Name': u'WindChimeGirl'}, 664: {'Name': u'SomethingOuttaNothin'}, 665: {'Name': u'SimplifyMyWorld'}, 666: {'Name': u'AllForLala'}, 667: {'Name': u'TheParsonsPleasures'}, 668: {'Name': u'NovelShell'}, 669: {'Name': u'CourtNicWard'}, 670: {'Name': u'JohnGermaine'}, 671: {'Name': u'DeltaLumber'}, 672: {'Name': u'RustyandWoodSupplies'}, 673: {'Name': u'excellentvintage'}, 674: {'Name': u'TanaBarisoff'}, 675: {'Name': u'OldVillageTradingCo'}, 676: {'Name': u'CrissieGirl'}, 677: {'Name': u'JimKatsPerfectFind'}, 678: {'Name': u'BitsofthePast'}, 679: {'Name': u'Bluebell'}, 680: {'Name': u'paprikarose'}, 681: {'Name': u'ErasBygone'}, 682: {'Name': u'RocktheJewels'}, 683: {'Name': u'VintageXpressions'}, 684: {'Name': u'SeaPillowTreasures'}, 685: {'Name': u'aSilverUnicorn'}, 686: {'Name': u'SimplyPrettybyStacy'}, 687: {'Name': u'UnexpectedFinds'}, 688: {'Name': u'PIVOT180'}, 689: {'Name': u'MonsieurBrocanteur'}, 690: {'Name': u'WPVstore'}, 691: {'Name': u'HouseOfRouse'}, 692: {'Name': u'EpicCharmDesigns'}, 693: {'Name': u'TheTinyAcornByJLee'}, 694: {'Name': u'LeDecor'}, 695: {'Name': u'TheNewtonLabel'}, 696: {'Name': u'KappWoodworking'}, 697: {'Name': u'StudioHen'}, 698: {'Name': u'RedlandsVintage'}, 699: {'Name': u'MonaLisaTreasures'}, 700: {'Name': u'QTpie4U'}, 701: {'Name': u'carriesattic'}, 702: {'Name': u'GIABIJOUX'}, 703: {'Name': u'polkadotrose'}, 704: {'Name': u'NspiredbyLife'}, 705: {'Name': u'Hiddentreasureshoppe'}, 706: {'Name': u'smittysvintage'}, 707: {'Name': u'ABigSalad'}, 708: {'Name': u'PalmettoProperDesign'}, 709: {'Name': u'ButtermilkSkyHome'}, 710: {'Name': u'atopdrawer'}, 711: {'Name': u'AnnaOliveDesigns'}, 712: {'Name': u'PearlsVintageGoods'}, 713: {'Name': u'cookiedoughcreations'}, 714: {'Name': u'ParisianMoments'}, 715: {'Name': u'PinelandCrafts'}, 716: {'Name': u'VintageLover818'}, 717: {'Name': u'MerrittsCloset'}, 718: {'Name': u'ContemporaryVintage'}, 719: {'Name': u'kathleenmelville1'}, 720: {'Name': u'skippyhaha'}, 721: {'Name': u'NorthernCrescentIron'}, 722: {'Name': u'tulipatron'}, 723: {'Name': u'LABsFABulous'}, 724: {'Name': u'shyphotog'}, 725: {'Name': u'BitsUpcycledVintage'}, 726: {'Name': u'GarageInc'}, 727: {'Name': u'BUTTERCUPGARDEN'}, 728: {'Name': u'4431'}, 729: {'Name': u'grampasattic'}, 730: {'Name': u'BarbaraCrochetStudio'}, 731: {'Name': u'CandidlyCrystal'}, 732: {'Name': u'Holiday365'}, 733: {'Name': u'RetroRustics'}, 734: {'Name': u'DiVerseBlessings'}, 735: {'Name': u'AquidneckIslandShop'}, 736: {'Name': u'TheRustyBucketVT'}, 737: {'Name': u'PineNsign'}, 738: {'Name': u'RedLetterDaysStudio'}, 739: {'Name': u'DragonQuarryAntiques'}, 740: {'Name': u'lbarril'}, 741: {'Name': u'auntbeannie'}, 742: {'Name': u'EFFurnishings'}, 743: {'Name': u'MommyHobbyMolly'}, 744: {'Name': u'HouseofRube'}, 745: {'Name': u'theMomsAttic'}, 746: {'Name': u'charmedgallery'}, 747: {'Name': u'CraftyLore'}, 748: {'Name': u'abirdiesnest'}, 749: {'Name': u'vintagelarisa'}, 750: {'Name': u'foundobjectart'}, 751: {'Name': u'Thesewingcottageusa'}, 752: {'Name': u'spaceroom'}, 753: {'Name': u'mattziekattzie'}, 754: {'Name': u'TheJunkinSailor'}, 755: {'Name': u'ArtisticOriginals'}, 756: {'Name': u'DennmarWoodworks'}, 757: {'Name': u'theowlbarn'}, 758: {'Name': u'EdgarandEdgar'}, 759: {'Name': u'lesPucesParisiennes'}, 760: {'Name': u'TheReclaimedNation'}, 761: {'Name': u'ShortPantsVintage'}, 762: {'Name': u'KMPVintage'}, 763: {'Name': u'dolfan1370'}, 764: {'Name': u'HabitShmabit'}, 765: {'Name': u'SunflowersByDesign'}, 766: {'Name': u'VinTageSouthernKarma'}, 767: {'Name': u'ApplePickerVintage'}, 768: {'Name': u'Curiosix'}, 769: {'Name': u'CAPow'}, 770: {'Name': u'Creatography'}, 771: {'Name': u'thebagglady76'}, 772: {'Name': u'reanee'}, 773: {'Name': u'MaisJamais'}, 774: {'Name': u'TazamarazVintage'}, 775: {'Name': u'TishsStitches'}, 776: {'Name': u'CozyTraditions'}, 777: {'Name': u'SunscreenSeashells'}, 778: {'Name': u'DianesBargainShack'}, 779: {'Name': u'Steesiak'}, 780: {'Name': u'NestEggDesignsNC'}, 781: {'Name': u'CJsPhotoShop'}, 782: {'Name': u'TaraHandmade'}, 783: {'Name': u'IGOTITATSONJAS'}, 784: {'Name': u'RowlandParkVintage'}, 785: {'Name': u'NanasCircleBoutique'}, 786: {'Name': u'StoneSchoolVintage'}, 787: {'Name': u'blessinganother'}, 788: {'Name': u'RhinestonesRust'}, 789: {'Name': u'InAnotherLifeVintage'}, 790: {'Name': u'JensSecondChance'}, 791: {'Name': u'judyswork'}, 792: {'Name': u'SouthernWhimsicality'}, 793: {'Name': u'cocomo'}, 794: {'Name': u'VintageDecorFrancais'}, 795: {'Name': u'ColleensMercantile'}, 796: {'Name': u'Linohandmade'}, 797: {'Name': u'housewarming101'}, 798: {'Name': u'PattiesPassion'}, 799: {'Name': u'beckyrosedesigns'}, 800: {'Name': u'KCUNLIMITEDCREATIONS'}, 801: {'Name': u'Suite22'}, 802: {'Name': u'Yesteryearessentials'}, 803: {'Name': u'RoseAvenueBooks'}, 804: {'Name': u'LittleJewelBoutique'}, 805: {'Name': u'BonJeanCreations'}, 806: {'Name': u'Mirtime'}, 807: {'Name': u'cozyhomebytj'}, 808: {'Name': u'fabfindschimesdesign'}, 809: {'Name': u'happydeal'}, 810: {'Name': u'VIVALASVINTAGE'}, 811: {'Name': u'delaMarCollection'}, 812: {'Name': u'ShanaysCreation'}, 813: {'Name': u'DayJahView'}, 814: {'Name': u'CraftingMayhem'}, 815: {'Name': u'KellyGrayMoffett'}, 816: {'Name': u'TheTownies'}, 817: {'Name': u'OldNotDead'}, 818: {'Name': u'LaChicVintageCloset'}, 819: {'Name': u'Mundorosa'}, 820: {'Name': u'auntdoilies'}, 821: {'Name': u'SonoFelice'}, 822: {'Name': u'InitialMemory'}, 823: {'Name': u'PearcesCraftShop'}, 824: {'Name': u'Latrouvaille'}, 825: {'Name': u'MaggiesKlosets'}, 826: {'Name': u'TheGreenwichTeacup'}, 827: {'Name': u'WinterberryFarms'}, 828: {'Name': u'Ruggedcupboardjewels'}, 829: {'Name': u'JaneyLaneFabrics'}, 830: {'Name': u'CarmelasCoastalCraft'}, 831: {'Name': u'VintageTrixie'}, 832: {'Name': u'converde'}, 833: {'Name': u'PoonkinneyForge'}, 834: {'Name': u'santaladyofoley'}, 835: {'Name': u'Doodlebugdesigns06'}, 836: {'Name': u'RaaNiCreations'}, 837: {'Name': u'HazelnutHillbySherri'}, 838: {'Name': u'Deullinique'}, 839: {'Name': u'AllWhoWanderVintage'}, 840: {'Name': u'BirchTurtleDove'}, 841: {'Name': u'ViewridgeVintage'}, 842: {'Name': u'CainsStuff'}, 843: {'Name': u'trailsofthewest'}, 844: {'Name': u'SpikeandDaisy'}, 845: {'Name': u'designsbymara'}, 846: {'Name': u'IfindUbuy'}, 847: {'Name': u'3vintagehearts'}, 848: {'Name': u'twobrotherscraft'}, 849: {'Name': u'ToletallyPainted'}, 850: {'Name': u'SuesAntiqWonderland'}, 851: {'Name': u'Figgalleria'}, 852: {'Name': u'TheHavenOnMain'}, 853: {'Name': u'Anniesjunkietreasure'}, 854: {'Name': u'UpcycledUpstyled'}, 855: {'Name': u'GlitterMe'}, 856: {'Name': u'OldWorldCountry'}, 857: {'Name': u'Wambawear'}, 858: {'Name': u'BearpawArtsandCrafts'}, 859: {'Name': u'VintageWayTreasures'}, 860: {'Name': u'MilkweedVintageHome'}, 861: {'Name': u'patternpatch'}, 862: {'Name': u'BitsOfThisAndThat'}, 863: {'Name': u'jmhallcuriosities'}, 864: {'Name': u'AandBCottage'}, 865: {'Name': u'BuyBackYesterday'}, 866: {'Name': u'SaLvAGeThEoRy'}, 867: {'Name': u'ColtinPhotography'}, 868: {'Name': u'PerfectHomeAntiques'}, 869: {'Name': u'DorothysRubies'}, 870: {'Name': u'TheCollectedCottage'}, 871: {'Name': u'SpringHouseCreations'}, 872: {'Name': u'SecondUseSeattle'}, 873: {'Name': u'SeaToLandDesigns'}, 874: {'Name': u'StitchWithASmile'}, 875: {'Name': u'DulcineaVita'}, 876: {'Name': u'TheOldTimeJunkShop'}, 877: {'Name': u'vintageszpeku'}, 878: {'Name': u'starrhop'}, 879: {'Name': u'secretgardenfarms'}, 880: {'Name': u'prettyware'}, 881: {'Name': u'FleurayCrafts'}, 882: {'Name': u'redchocol8'}, 883: {'Name': u'SilverDoveCompany'}, 884: {'Name': u'LaBellasCottage'}, 885: {'Name': u'OldLilliput'}, 886: {'Name': u'GranfalloonEmporium'}, 887: {'Name': u'EarlyAmericanShop'}, 888: {'Name': u'tessiesdelight'}, 889: {'Name': u'AaronsArtichokeAlley'}, 890: {'Name': u'thesmallstuffshop'}, 891: {'Name': u'TrashToTreasureHunt'}, 892: {'Name': u'robinsvintage'}, 893: {'Name': u'VintageMementos'}, 894: {'Name': u'ArtByNatureUpNorth'}, 895: {'Name': u'dottiedee'}, 896: {'Name': u'YesterHomeUK'}, 897: {'Name': u'KennysAntiques'}, 898: {'Name': u'theblueeggevents'}, 899: {'Name': u'VintageInquisitor'}, 900: {'Name': u'NellEvaDesigns'}, 901: {'Name': u'NinefelinusTrading'}, 902: {'Name': u'RETEPOINObazar'}, 903: {'Name': u'CasadeMartha'}, 904: {'Name': u'Ricketyswank'}, 905: {'Name': u'BSFarms'}, 906: {'Name': u'CozyCreekWoodworking'}, 907: {'Name': u'EvenTheKitchenSinkOH'}, 908: {'Name': u'PicksOfPickles'}, 909: {'Name': u'FooFooLaLaChild'}, 910: {'Name': u'ReHouseNY'}, 911: {'Name': u'LastChanceAntiques'}, 912: {'Name': u'MyLettersOnTheWall'}, 913: {'Name': u'TreasureFindsDotOrg'}, 914: {'Name': u'CowgirlsReRide'}, 915: {'Name': u'FoundInTheGround'}, 916: {'Name': u'joedilldesigns'}, 917: {'Name': u'TinutesCreations'}, 918: {'Name': u'sljglass'}, 919: {'Name': u'JuliaSmithCeramics'}, 920: {'Name': u'QtSee'}, 921: {'Name': u'tayloredmemories'}, 922: {'Name': u'LovingMaGia'}, 923: {'Name': u'ElusivelyExclusively'}, 924: {'Name': u'HAPPYgiftshop'}, 925: {'Name': u'CovWWDesigns'}, 926: {'Name': u'ClassicAntique'}, 927: {'Name': u'TreasuresByNeissa'}, 928: {'Name': u'suesuegonzalas'}, 929: {'Name': u'bluecardinal'}, 930: {'Name': u'NanasSweetPeas'}, 931: {'Name': u'ArtisanKnobShop'}, 932: {'Name': u'StarPower99'}, 933: {'Name': u'TheRustyChicken'}, 934: {'Name': u'PaperWhaleDesign'}, 935: {'Name': u'CloudishHandmade'}, 936: {'Name': u'AlacartCreations'}, 937: {'Name': u'TheWesternLands'}, 938: {'Name': u'DeeSweetNostalgia'}, 939: {'Name': u'RockandSand'}, 940: {'Name': u'MadyBellaDesigns'}, 941: {'Name': u'TorchLakeGlass'}, 942: {'Name': u'Koziklozet'}, 943: {'Name': u'CraftyBellesEst2015'}, 944: {'Name': u'ScovilleBrownCo'}, 945: {'Name': u'heartandhomehandmade'}, 946: {'Name': u'BsOleGoodies'}, 947: {'Name': u'HistoricalVintage'}, 948: {'Name': u'JesseBlauwhof'}, 949: {'Name': u'oldgoatandhorse'}, 950: {'Name': u'TheHarrisVariety'}, 951: {'Name': u'RedDoorStore'}, 952: {'Name': u'RuffByMargo'}, 953: {'Name': u'mypaintedclutter'}, 954: {'Name': u'PattyAandeGallery'}, 955: {'Name': u'bacpaso'}, 956: {'Name': u'Idugitup'}, 957: {'Name': u'EastonandBelt'}, 958: {'Name': u'AVintageFix'}, 959: {'Name': u'Bigfishtails'}, 960: {'Name': u'BuerckPhotographyLLC'}, 961: {'Name': u'HandicraftAlley'}, 962: {'Name': u'oldegoodthings'}, 963: {'Name': u'VntgeLvAffair'}, 964: {'Name': u'AliArt33'}, 965: {'Name': u'MyShabbyChicShop'}, 966: {'Name': u'GrandDesignsbyJoanna'}, 967: {'Name': u'FrontPorchArt'}, 968: {'Name': u'TheCopperFinch'}, 969: {'Name': u'lasosantiques'}, 970: {'Name': u'ACALIFORNIACACHE'}, 971: {'Name': u'SparrowsNestGallaria'}, 972: {'Name': u'AFamiliarPast'}, 973: {'Name': u'Siberoom'}, 974: {'Name': u'fromanotherday'}, 975: {'Name': u'moondogcottage'}, 976: {'Name': u'CharacterProjects'}, 977: {'Name': u'chicNcoop'}, 978: {'Name': u'OnePaisleyPig'}, 979: {'Name': u'SistersShabbyCloset'}, 980: {'Name': u'ThirstyOwlVintage'}, 981: {'Name': u'OldGoshenPrimitives'}, 982: {'Name': u'FromShab2Chic'}, 983: {'Name': u'burlapheartstrings'}, 984: {'Name': u'Junkydory'}, 985: {'Name': u'CinnamonKittyTreats'}, 986: {'Name': u'LunaLakeandCompany'}, 987: {'Name': u'zougeebean'}, 988: {'Name': u'Lifeinmommatone'}, 989: {'Name': u'MagnoliaRestorations'}, 990: {'Name': u'RevivalLosAngeles'}, 991: {'Name': u'RedHedgePhotos'}, 992: {'Name': u'GetLuckyTreasures'}, 993: {'Name': u'LadylynneesTreasures'}, 994: {'Name': u'LegalMissSunshineWed'}, 995: {'Name': u'hpsgsmith'}, 996: {'Name': u'ArtByG'}, 997: {'Name': u'OceanSwept'}, 998: {'Name': u'Purl1VintageToo'}, 999: {'Name': u'TheLittleNursery'}, 1000: {'Name': u'DemsPlace'}, 1001: {'Name': u'FullThrottleCrafts'}, 1002: {'Name': u'DaisyMaeandMe'}, 1003: {'Name': u'Uneek4U'}, 1004: {'Name': u'chokkovintage'}, 1005: {'Name': u'PomerolSupplyShop'}, 1006: {'Name': u'ShabbyStefi'}, 1007: {'Name': u'CowgirlsNCowhides'}, 1008: {'Name': u'EandMeDesigns'}, 1009: {'Name': u'MackleyWoodenGifts'}, 1010: {'Name': u'Spacehead77'}, 1011: {'Name': u'TresorsdAlsace'}, 1012: {'Name': u'PhotoPrintDecor'}, 1013: {'Name': u'PrettyWithInkInvites'}, 1014: {'Name': u'Jessi03'}, 1015: {'Name': u'maybe4you'}, 1016: {'Name': u'RusticLogDecor'}, 1017: {'Name': u'nowellsphotography'}, 1018: {'Name': u'4EverNAlways'}, 1019: {'Name': u'WoolyCatWorld'}, 1020: {'Name': u'antiqueretro'}, 1021: {'Name': u'FUNKIEJUNKY'}, 1022: {'Name': u'ThePeddlarsParadise'}, 1023: {'Name': u'HometownUSA'}, 1024: {'Name': u'beadartaustria'}, 1025: {'Name': u'WitsEndDesign'}, 1026: {'Name': u'StoryCycle'}, 1027: {'Name': u'acloud'}, 1028: {'Name': u'CockleyAntiques'}, 1029: {'Name': u'Zeppola'}, 1030: {'Name': u'JenniferHigbyArt'}, 1031: {'Name': u'AtticRecycles'}, 1032: {'Name': u'Midgetgembeads'}, 1033: {'Name': u'VeiledThroughTime'}, 1034: {'Name': u'LuvinitCreations1'}, 1035: {'Name': u'Gifts4U1'}, 1036: {'Name': u'KnobTreasures'}, 1037: {'Name': u'GiftsandWhims'}, 1038: {'Name': u'SurfaceCandy'}, 1039: {'Name': u'ShellysSelectSalvage'}, 1040: {'Name': u'PartsandCrafts'}, 1041: {'Name': u'TwentyFiveShop'}, 1042: {'Name': u'KenlysCreations'}, 1043: {'Name': u'Coynescollectibles'}, 1044: {'Name': u'DansandAdi'}, 1045: {'Name': u'RecycledVision'}, 1046: {'Name': u'tkCo'}, 1047: {'Name': u'WeatheredTraditions'}, 1048: {'Name': u'OmaCleansTheAttic'}, 1049: {'Name': u'LALALAMPWORKBEADS'}, 1050: {'Name': u'LaughingDogStudio'}, 1051: {'Name': u'VintageFleaFinds'}, 1052: {'Name': u'Fizzybiskit'}, 1053: {'Name': u'lunapurpurie'}, 1054: {'Name': u'CynsationalTreasure'}, 1055: {'Name': u'SimpleFindsCo'}, 1056: {'Name': u'USSReturn'}, 1057: {'Name': u'JulieannasCreations'}, 1058: {'Name': u'InspirationalGecko'}, 1059: {'Name': u'SilverAndSilk'}, 1060: {'Name': u'BLUEHYDRANGEALODGE'}, 1061: {'Name': u'KrauseKreations100'}, 1062: {'Name': u'MoreOldThings'}, 1063: {'Name': u'SpearheadCollection'}, 1064: {'Name': u'3ShabbyGals'}, 1065: {'Name': u'blackturtlemetals'}, 1066: {'Name': u'AuFildAntan'}, 1067: {'Name': u'BigPhilsEmporium'}, 1068: {'Name': u'DoubleDogVintage'}, 1069: {'Name': u'TradeWindsNorth'}, 1070: {'Name': u'shabbyfrenchstyle'}, 1071: {'Name': u'willworkfordecor'}, 1072: {'Name': u'ShelleyHolm'}, 1073: {'Name': u'VintageGoodThings'}, 1074: {'Name': u'merakiimagesbyKim'}, 1075: {'Name': u'JOSTOSs'}, 1076: {'Name': u'WehuntWoodDecor'}, 1077: {'Name': u'vintagebitsblitz'}, 1078: {'Name': u'vintageantiquethings'}, 1079: {'Name': u'AmorDecorandMore'}, 1080: {'Name': u'RustyNailDesign'}, 1081: {'Name': u'VintageVieEnRose'}, 1082: {'Name': u'TheTinyPaintBox'}, 1083: {'Name': u'NicolesCraftRoom'}, 1084: {'Name': u'BeachArtGlass'}, 1085: {'Name': u'Avaricia'}, 1086: {'Name': u'DesignedbyMrsD'}, 1087: {'Name': u'LisasHeirlooms'}, 1088: {'Name': u'TamalaMarie'}, 1089: {'Name': u'SirGunnisonsFarm'}, 1090: {'Name': u'LambchopVintage'}, 1091: {'Name': u'StudioSeltzer'}, 1092: {'Name': u'KLMKreations'}, 1093: {'Name': u'EngravedBlessings'}, 1094: {'Name': u'TAMAKCO'}, 1095: {'Name': u'ARandomFind'}, 1096: {'Name': u'totalgoodstones'}, 1097: {'Name': u'TrisArtistry'}, 1098: {'Name': u'aVintageParcel'}, 1099: {'Name': u'SilvanaD'}, 1100: {'Name': u'HomeEast'}, 1101: {'Name': u'CraftyJacksCorner'}, 1102: {'Name': u'SickStuffDanaPoint'}, 1103: {'Name': u'yonderyears'}, 1104: {'Name': u'RailroadSpikeArt'}, 1105: {'Name': u'TahomaSalvageSupply'}, 1106: {'Name': u'thelastlastones'}, 1107: {'Name': u'DocksideTrends'}, 1108: {'Name': u'Cathygiftsandthings'}, 1109: {'Name': u'IdolizedVintage'}, 1110: {'Name': u'TheWhiteBarn59'}, 1111: {'Name': u'PurrAndBarker'}, 1112: {'Name': u'NORMA171'}, 1113: {'Name': u'WEATHEREDWONDERS1'}, 1114: {'Name': u'WheeArt'}, 1115: {'Name': u'ELEMENTSedited'}, 1116: {'Name': u'FISHeFISH'}, 1117: {'Name': u'SwankyDameVintage'}, 1118: {'Name': u'SecondHandNews'}, 1119: {'Name': u'ISLAsteampunk'}, 1120: {'Name': u'dreamscapedesigns'}, 1121: {'Name': u'Shelleyville'}, 1122: {'Name': u'VintageMainline'}, 1123: {'Name': u'Barnwoodandgoods'}, 1124: {'Name': u'TheNostalgicBee'}, 1125: {'Name': u'AngelasAntics'}, 1126: {'Name': u'Braziltiful'}, 1127: {'Name': u'LittleRetronome'}, 1128: {'Name': u'patternmania'}, 1129: {'Name': u'AmbroseBooks'}, 1130: {'Name': u'JantasticCreations'}, 1131: {'Name': u'JaysAttic'}, 1132: {'Name': u'TheUncommonTreasure'}, 1133: {'Name': u'AVintageSeason'}, 1134: {'Name': u'BrilliantThreads'}, 1135: {'Name': u'jensdreamdecor'}, 1136: {'Name': u'EmbroideryCollection'}, 1137: {'Name': u'LaurensGardenCottage'}, 1138: {'Name': u'BluCorkDesigns'}, 1139: {'Name': u'whatafindantiques'}, 1140: {'Name': u'krisfindings'}, 1141: {'Name': u'CrabbyJacks'}, 1142: {'Name': u'DecoupageEmporium'}, 1143: {'Name': u'Alpreowned'}, 1144: {'Name': u'SultansSigns'}, 1145: {'Name': u'sewinshirl'}, 1146: {'Name': u'WreathCreated'}, 1147: {'Name': u'JAYBAZAAR'}, 1148: {'Name': u'BabesnBowsBoutique'}, 1149: {'Name': u'VintageButterflyRae'}, 1150: {'Name': u'DaRosa'}, 1151: {'Name': u'sallys4025'}, 1152: {'Name': u'HardwaresJunkie'}, 1153: {'Name': u'ThePrimAndProper'}, 1154: {'Name': u'ozarksfinds'}, 1155: {'Name': u'Artsycardsee'}, 1156: {'Name': u'Garthscreations'}, 1157: {'Name': u'kittylikeyarn'}, 1158: {'Name': u'ModBotherers'}, 1159: {'Name': u'LadyRoseTreasures'}, 1160: {'Name': u'Rags2richescrafts'}, 1161: {'Name': u'ForeverTruths'}, 1162: {'Name': u'HeartofOhioVintage'}, 1163: {'Name': u'313AtticStudio'}, 1164: {'Name': u'oldandnew8'}, 1165: {'Name': u'cottonwoodcountry'}, 1166: {'Name': u'RagstoRugsandMore'}, 1167: {'Name': u'CatsCrochetNMore'}, 1168: {'Name': u'gitush'}, 1169: {'Name': u'Faerymother'}, 1170: {'Name': u'esterkneen'}, 1171: {'Name': u'VintageRetroTreasure'}, 1172: {'Name': u'DianesStuffForYou'}, 1173: {'Name': u'FullOfPossibilities'}, 1174: {'Name': u'RusticKeyCompany'}, 1175: {'Name': u'WhitfieldWoodWorks'}, 1176: {'Name': u'ProjectsUpcycled'}, 1177: {'Name': u'BirchBarkDesign'}, 1178: {'Name': u'JemmDeeStudio'}, 1179: {'Name': u'SimplyJudaica'}, 1180: {'Name': u'TwistedVineVintage'}, 1181: {'Name': u'riricreations'}, 1182: {'Name': u'DEBSTRAINSANDTHINGS'}, 1183: {'Name': u'efinegifts'}, 1184: {'Name': u'PotteryLodge'}, 1185: {'Name': u'celtsmith'}, 1186: {'Name': u'SongbirdSalvation'}, 1187: {'Name': u'cottageprims'}, 1188: {'Name': u'NeatVintageItems'}, 1189: {'Name': u'ARusticGarden'}, 1190: {'Name': u'Dana4Christ'}, 1191: {'Name': u'TheFrenchLaundry'}, 1192: {'Name': u'BabyDoodleBoutique'}, 1193: {'Name': u'AmanyDesign'}, 1194: {'Name': u'sovietgifts'}, 1195: {'Name': u'PartyNGift'}, 1196: {'Name': u'Themommycompany'}, 1197: {'Name': u'creationdesigns'}, 1198: {'Name': u'petitbrocante'}, 1199: {'Name': u'APaperWitch'}, 1200: {'Name': u'NYLAKELLEYDESIGNS'}, 1201: {'Name': u'secondseed'}, 1202: {'Name': u'SmallPlanets'}, 1203: {'Name': u'TheTortoiseHaus'}, 1204: {'Name': u'collective1817'}, 1205: {'Name': u'CrystalDayPrints'}, 1206: {'Name': u'AnotherTessCreation'}, 1207: {'Name': u'GandDCreations1'}, 1208: {'Name': u'LehoStudios'}, 1209: {'Name': u'007ALVAGE'}, 1210: {'Name': u'BitsOfLeatherNLace'}, 1211: {'Name': u'SimpleisPrettyShop'}, 1212: {'Name': u'RosesandBees'}, 1213: {'Name': u'vPorterhouse'}, 1214: {'Name': u'thevintageparade'}, 1215: {'Name': u'MYMIMISTAR'}, 1216: {'Name': u'PigsPokeCollectibles'}, 1217: {'Name': u'TheYellowDuckieShop'}, 1218: {'Name': u'MillerVintageChicago'}, 1219: {'Name': u'NopalitoVintageMore'}, 1220: {'Name': u'CmeStore'}, 1221: {'Name': u'TwoOldeYoYos'}, 1222: {'Name': u'PropsandPieces'}, 1223: {'Name': u'craftandeverything'}, 1224: {'Name': u'philipwilliamson'}, 1225: {'Name': u'VAlexanders'}, 1226: {'Name': u'rufflesandvintage'}, 1227: {'Name': u'BlueMonkeyAntiques'}, 1228: {'Name': u'RummagingRoadRunner'}, 1229: {'Name': u'FarmerMade'}, 1230: {'Name': u'2lewa'}, 1231: {'Name': u'TheThreadingHouse'}, 1232: {'Name': u'WoolyRhinoLTD'}, 1233: {'Name': u'MoldCreationsNmore'}, 1234: {'Name': u'PennAntiqueRestore'}, 1235: {'Name': u'TwoSassyCats'}, 1236: {'Name': u'WajitzuMagikShop'}, 1237: {'Name': u'Lucytheena'}, 1238: {'Name': u'CelestialReCreations'}, 1239: {'Name': u'MiaBlake'}, 1240: {'Name': u'cottonbin'}, 1241: {'Name': u'PlacesToPutThings'}, 1242: {'Name': u'kmdesigns2015'}, 1243: {'Name': u'BusyBeaverBoutique'}, 1244: {'Name': u'GracieAndMaks'}, 1245: {'Name': u'DashOfOld'}, 1246: {'Name': u'AnnasDream'}, 1247: {'Name': u'VintageCornerBazaar'}, 1248: {'Name': u'BlissBoutiqueKC'}, 1249: {'Name': u'FuzzandForge'}, 1250: {'Name': u'TheFlowerPicker'}, 1251: {'Name': u'SweetPetitesBoutique'}, 1252: {'Name': u'TheDustyOldShack'}, 1253: {'Name': u'kasefazem'}, 1254: {'Name': u'TylerKingstonWoodCo'}, 1255: {'Name': u'circahardware'}, 1256: {'Name': u'HouseOfAndaloo'}, 1257: {'Name': u'uniqueudinkdesigns'}, 1258: {'Name': u'ThePinkRoom'}, 1259: {'Name': u'RekindledPleasures'}, 1260: {'Name': u'PowersInTheWoods'}, 1261: {'Name': u'ShabbyChicCharm'}, 1262: {'Name': u'wynnsantiques'}, 1263: {'Name': u'2BEVINTAGE'}, 1264: {'Name': u'JunebugsPhotoGifts'}, 1265: {'Name': u'cmadsen88'}, 1266: {'Name': u'Seapets'}, 1267: {'Name': u'worn2perfection'}, 1268: {'Name': u'TheVeryBusyBeader'}, 1269: {'Name': u'CozyHomeCrochet'}, 1270: {'Name': u'Borealman'}, 1271: {'Name': u'DogLeashCaddies'}, 1272: {'Name': u'UnlimitedStitching'}, 1273: {'Name': u'CRIMSONBRAMBLE'}, 1274: {'Name': u'GayleNeely'}, 1275: {'Name': u'hopefullworld'}, 1276: {'Name': u'GoodNiteGracie'}, 1277: {'Name': u'Bedotted'}, 1278: {'Name': u'OneDayAtAThyme'}, 1279: {'Name': u'Wysteriasage'}, 1280: {'Name': u'delucasbeads'}, 1281: {'Name': u'lakecreeklogwork'}, 1282: {'Name': u'emadison101'}, 1283: {'Name': u'OldeBerry'}, 1284: {'Name': u'RooseveltStreetGifts'}, 1285: {'Name': u'SunshineLampwork'}, 1286: {'Name': u'BaxaTreasures'}, 1287: {'Name': u'MyAtticFinds'}, 1288: {'Name': u'StylishInteriors'}, 1289: {'Name': u'KeswickandWeldon'}, 1290: {'Name': u'barngiftsandsupply'}, 1291: {'Name': u'PatternsAndSuch'}, 1292: {'Name': u'TheDipLady'}, 1293: {'Name': u'SchoolofCakes'}, 1294: {'Name': u'inkansascity'}, 1295: {'Name': u'TheArtofChic'}, 1296: {'Name': u'NewOldItems'}, 1297: {'Name': u'MommyisCrafty'}, 1298: {'Name': u'TheDarlingDuck'}, 1299: {'Name': u'ChocolateBoxCottage'}, 1300: {'Name': u'GlitteringprizeGlass'}, 1301: {'Name': u'PinkThreadsShop'}, 1302: {'Name': u'JustBecauseTreasures'}, 1303: {'Name': u'TheeLetterQHandmade'}, 1304: {'Name': u'QuiltBlocksandMore'}, 1305: {'Name': u'elephantdreams'}, 1306: {'Name': u'WillowsWreathsCo'}, 1307: {'Name': u'Old2NewTreasures'}, 1308: {'Name': u'GriffinsCountry'}, 1309: {'Name': u'AuthenticChicAntique'}, 1310: {'Name': u'Ganibear'}, 1311: {'Name': u'USSRandENSV'}, 1312: {'Name': u'DejaNewStudio'}, 1313: {'Name': u'EastWestVintage1'}, 1314: {'Name': u'TheSpiritOfJoy'}, 1315: {'Name': u'FleaMarketGal'}, 1316: {'Name': u'BayCountryCreations'}, 1317: {'Name': u'Hudsonsholidays'}, 1318: {'Name': u'voladoravintage'}, 1319: {'Name': u'DeviantDecor'}, 1320: {'Name': u'VerucasVintage'}, 1321: {'Name': u'TheBrambleyCottage'}, 1322: {'Name': u'Marlike'}, 1323: {'Name': u'talkingfashionnet'}, 1324: {'Name': u'Crackingmosaics'}, 1325: {'Name': u'MysticKnotwork'}, 1326: {'Name': u'vintageeclecticity'}, 1327: {'Name': u'VintageBeautyArchive'}, 1328: {'Name': u'TheNoteworthyNest'}, 1329: {'Name': u'Peacockgumdrop'}, 1330: {'Name': u'DejaVuJewelryandMore'}, 1331: {'Name': u'twisprocks'}, 1332: {'Name': u'OldRaven'}, 1333: {'Name': u'NHardware'}, 1334: {'Name': u'BlueStarObscura'}, 1335: {'Name': u'DartingDogCrafts'}, 1336: {'Name': u'shopkeeparlington'}, 1337: {'Name': u'That70sShoppe'}, 1338: {'Name': u'SweetwaterGems'}, 1339: {'Name': u'JanesHomeBuilding'}, 1340: {'Name': u'ChangingTide'}, 1341: {'Name': u'PaneInTheGlassShop'}, 1342: {'Name': u'LionheartGalleries'}, 1343: {'Name': u'AnaraHill'}, 1344: {'Name': u'MossBetweenMyToes'}, 1345: {'Name': u'propsculptor'}, 1346: {'Name': u'SeaLilyStudio'}, 1347: {'Name': u'lazydaysrelics'}, 1348: {'Name': u'StarryNightsStudioCo'}, 1349: {'Name': u'CrystalMamma'}, 1350: {'Name': u'fansydesigns'}, 1351: {'Name': u'ForeverYoursCreation'}, 1352: {'Name': u'LilyLaneTreasureCo'}, 1353: {'Name': u'AbbyGirlsCloset'}, 1354: {'Name': u'BrownPaperMoon'}, 1355: {'Name': u'KarensMonogramming'}, 1356: {'Name': u'TheCommunityForklift'}, 1357: {'Name': u'CjsCollection'}, 1358: {'Name': u'VintageStreetDesigns'}, 1359: {'Name': u'ElianasTreasures'}, 1360: {'Name': u'stillthemind'}, 1361: {'Name': u'RusticHeartOnline'}, 1362: {'Name': u'Pickersistersyorktwn'}, 1363: {'Name': u'BOULOTDODO'}, 1364: {'Name': u'MyDearWatsonDesigns'}, 1365: {'Name': u'BotanicaExotica'}, 1366: {'Name': u'exileon7thstreet'}, 1367: {'Name': u'LadyIrisandCompany'}, 1368: {'Name': u'EinsteinandPippy'}, 1369: {'Name': u'NostalgiaMaine'}, 1370: {'Name': u'FrenchMelody'}, 1371: {'Name': u'SYPHOTOGRAPHY'}, 1372: {'Name': u'MidModandMorganstern'}, 1373: {'Name': u'UknowUneedAnother'}, 1374: {'Name': u'IMetHimOnASunday'}, 1375: {'Name': u'BobbiBryersArts'}, 1376: {'Name': u'MustyPages'}, 1377: {'Name': u'mypicketfencecottage'}, 1378: {'Name': u'birdcrafter'}, 1379: {'Name': u'EarthlieTreasures'}, 1380: {'Name': u'psmilsky'}, 1381: {'Name': u'MerilinsRetro'}, 1382: {'Name': u'VeryVintageVera'}, 1383: {'Name': u'VintageShoppingSpree'}, 1384: {'Name': u'KnobNots'}, 1385: {'Name': u'Luv2Junk'}, 1386: {'Name': u'BinkyLoveCat'}, 1387: {'Name': u'BlueBarnCollectibles'}, 1388: {'Name': u'AppleBottoms53'}, 1389: {'Name': u'DiscardedDiscovered'}, 1390: {'Name': u'DippyDaydream'}, 1391: {'Name': u'caramelgallery'}, 1392: {'Name': u'BeauCuir'}, 1393: {'Name': u'dollstobookmarks'}, 1394: {'Name': u'SecondWindShop'}, 1395: {'Name': u'LynnsLavishLoot'}, 1396: {'Name': u'TheFreckledBerry'}, 1397: {'Name': u'AlexBalcer'}, 1398: {'Name': u'crochetbysandi'}, 1399: {'Name': u'ABGGoodStuff'}, 1400: {'Name': u'TheRightSpot'}, 1401: {'Name': u'5and10vintage'}, 1402: {'Name': u'fantasycottage'}, 1403: {'Name': u'SadRosetta'}, 1404: {'Name': u'CabinetCouture'}, 1405: {'Name': u'Used2BNewCreations'}, 1406: {'Name': u'oldportlandhardware'}, 1407: {'Name': u'JakandShanDesigns'}, 1408: {'Name': u'Andraliz'}, 1409: {'Name': u'cathiefilian'}, 1410: {'Name': u'siglaserdesigns'}, 1411: {'Name': u'crochetedlittlething'}, 1412: {'Name': u'AnneElizabethFineArt'}, 1413: {'Name': u'robertotiranti'}, 1414: {'Name': u'ClockworkRummage'}, 1415: {'Name': u'MIDCENTURYTREASURES'}, 1416: {'Name': u'InsultrOfArizona'}, 1417: {'Name': u'FoothillCrafters'}, 1418: {'Name': u'HoardersHideaway'}, 1419: {'Name': u'GloverandSmith'}, 1420: {'Name': u'Pinkalink'}, 1421: {'Name': u'Nostalgianmore'}, 1422: {'Name': u'tawnystreasures'}, 1423: {'Name': u'BlowfishGlassworks'}, 1424: {'Name': u'TrabellsUniques'}, 1425: {'Name': u'LAZYKWroughtIron'}, 1426: {'Name': u'StrollinTheBeach'}, 1427: {'Name': u'PearlysPorch'}, 1428: {'Name': u'fullbucketforge'}, 1429: {'Name': u'VermontForgings'}, 1430: {'Name': u'whitefarmhouse'}, 1431: {'Name': u'megsygirl'}, 1432: {'Name': u'PaperMacheDream'}, 1433: {'Name': u'kitschbitchvintage'}, 1434: {'Name': u'PineCottageVintage'}, 1435: {'Name': u'NanasQuiltsandGifts'}, 1436: {'Name': u'WithSoulAndLove'}, 1437: {'Name': u'LittlePatchessewing'}, 1438: {'Name': u'doodlepaddesigns'}, 1439: {'Name': u'Stitch4Dreams'}, 1440: {'Name': u'LaceyAnnPhotography'}, 1441: {'Name': u'SOVOK'}, 1442: {'Name': u'Brocanturee'}, 1443: {'Name': u'OkawVintage'}, 1444: {'Name': u'TreasuresFromMaine'}, 1445: {'Name': u'4TwistedVintageGirls'}, 1446: {'Name': u'BrandonAddisArt'}, 1447: {'Name': u'BabyUrbana'}, 1448: {'Name': u'Vikkisvintageworks'}, 1449: {'Name': u'StarviewSonnet'}, 1450: {'Name': u'riotjane'}, 1451: {'Name': u'MintJulepsnMuddin'}, 1452: {'Name': u'PhotoReverie'}, 1453: {'Name': u'LizzieTishVintage'}, 1454: {'Name': u'CupcakeGraphics1'}, 1455: {'Name': u'ADesigningLife'}, 1456: {'Name': u'VespertineLighting'}, 1457: {'Name': u'gbrosseau'}, 1458: {'Name': u'AjWcreations'}, 1459: {'Name': u'jemsbyjennym'}, 1460: {'Name': u'TimelessCuriosities'}, 1461: {'Name': u'BabyThingsHandmade'}, 1462: {'Name': u'frenchvintagedream'}, 1463: {'Name': u'GuyWithSomeWood'}, 1464: {'Name': u'IDWoodwork'}, 1465: {'Name': u'SugarPlumMonkey'}, 1466: {'Name': u'ShikobaSpirit36'}, 1467: {'Name': u'GearboxFredis'}, 1468: {'Name': u'rachelstudio'}, 1469: {'Name': u'JerseySparrow'}, 1470: {'Name': u'urbanIron'}, 1471: {'Name': u'DNAoriginalArt'}, 1472: {'Name': u'BusyHandsAftercrafts'}, 1473: {'Name': u'FanecoveFurniture'}, 1474: {'Name': u'serengetiworld'}, 1475: {'Name': u'Naturallyuniquerock'}, 1476: {'Name': u'KnockPlease'}, 1477: {'Name': u'Vintage5and10'}, 1478: {'Name': u'TheLittleShopOfNoras'}, 1479: {'Name': u'JustArtinAround'}, 1480: {'Name': u'HooplaHardware'}, 1481: {'Name': u'marjbatesstudio'}, 1482: {'Name': u'VinTin'}, 1483: {'Name': u'MyFrenchAntiqueShop'}, 1484: {'Name': u'CreativityHappens'}, 1485: {'Name': u'englishvintagetable'}, 1486: {'Name': u'feast4oldeyes'}, 1487: {'Name': u'Chaseyblue'}, 1488: {'Name': u'CityGlassStudio'}, 1489: {'Name': u'KeytothePassed'}, 1490: {'Name': u'luderuke'}, 1491: {'Name': u'TRowanDesign'}, 1492: {'Name': u'LifeInFrame'}, 1493: {'Name': u'HOBKNOBINWITHGAIL'}, 1494: {'Name': u'doyourememberwhen'}, 1495: {'Name': u'MyTabbyBoutique'}, 1496: {'Name': u'SerSonAntiques'}, 1497: {'Name': u'NorthernLitesGifts'}, 1498: {'Name': u'queenbeecanada'}, 1499: {'Name': u'RibbonMade'}, 1500: {'Name': u'latchycatchy'}, 1501: {'Name': u'Suburbanfinds'}, 1502: {'Name': u'SnapJakPrints'}, 1503: {'Name': u'BirchTreeKids'}, 1504: {'Name': u'howtobooksandmore'}, 1505: {'Name': u'LisaEverettDesigns'}, 1506: {'Name': u'Knobandtube'}, 1507: {'Name': u'Iprefervintage'}, 1508: {'Name': u'rustyitems'}, 1509: {'Name': u'MarzaShop'}, 1510: {'Name': u'TheLockandtheKey'}, 1511: {'Name': u'BNSbags'}, 1512: {'Name': u'MillsterCreates'}, 1513: {'Name': u'Woodwytch'}, 1514: {'Name': u'SimplyHardware'}, 1515: {'Name': u'LaurAnneArt'}, 1516: {'Name': u'BornOnAFullBlueMoon'}, 1517: {'Name': u'WeJo'}, 1518: {'Name': u'LittleMelaDesign'}, 1519: {'Name': u'THEOLDGARAGE'}, 1520: {'Name': u'UniqueWineStoppers'}, 1521: {'Name': u'SuzsCountryPrims'}, 1522: {'Name': u'TieThatBindsWeddings'}, 1523: {'Name': u'OurVintageHouse'}, 1524: {'Name': u'CPRforCatsSociety'}, 1525: {'Name': u'myalteredmuse'}, 1526: {'Name': u'PrchalArtStudio'}, 1527: {'Name': u'BonnesChoses'}, 1528: {'Name': u'DominionDesign'}, 1529: {'Name': u'TatteredByTimeStudio'}, 1530: {'Name': u'Lovlyandsimple'}, 1531: {'Name': u'RivenAndHewn'}, 1532: {'Name': u'seashellgalleria'}, 1533: {'Name': u'PhotocardsbySallyB'}, 1534: {'Name': u'RescuedCarolina'}, 1535: {'Name': u'Grampsdesigns'}, 1536: {'Name': u'BrownieDutchVintage'}, 1537: {'Name': u'dazzlingexpressions'}, 1538: {'Name': u'MyWildBlueYonder'}, 1539: {'Name': u'MercuryManVintage'}, 1540: {'Name': u'Evangellinka'}, 1541: {'Name': u'JustJills'}, 1542: {'Name': u'TinyBirdsTreasure'}, 1543: {'Name': u'AshMoonDesigns'}, 1544: {'Name': u'StudioYuki'}, 1545: {'Name': u'EncoreEmporium'}, 1546: {'Name': u'epochco'}, 1547: {'Name': u'MesaDreams'}, 1548: {'Name': u'INVISIBLEMAESTRO'}, 1549: {'Name': u'LovernPhoto'}, 1550: {'Name': u'vintagebytheseashore'}, 1551: {'Name': u'FourthWishVintage'}, 1552: {'Name': u'victoriasponge'}, 1553: {'Name': u'GenuineTexasBrand'}, 1554: {'Name': u'ColleenBrownDesign'}, 1555: {'Name': u'DERBYCITYCOINS'}, 1556: {'Name': u'KatyRoseVintage'}, 1557: {'Name': u'AndrasVintagelane'}, 1558: {'Name': u'KarensChicNShabby'}, 1559: {'Name': u'MyRemnantsofTime'}, 1560: {'Name': u'castlekeys'}, 1561: {'Name': u'TinkersAttic'}, 1562: {'Name': u'DMarieTrevinoDesign'}, 1563: {'Name': u'CabinOn6th'}, 1564: {'Name': u'LittleFrenchOwl'}, 1565: {'Name': u'RoseCottagePillows'}, 1566: {'Name': u'DorkyYorkies'}, 1567: {'Name': u'PhotographByBridgett'}, 1568: {'Name': u'AccessoriesLeather'}, 1569: {'Name': u'vintagemagazinesinVT'}, 1570: {'Name': u'AnitasBaskets'}, 1571: {'Name': u'DRDWoodCraftSupplies'}, 1572: {'Name': u'VividVoyagePhotos'}, 1573: {'Name': u'EraAntiquesandFinds'}, 1574: {'Name': u'rainingonmyroses'}, 1575: {'Name': u'VintageCrosses'}, 1576: {'Name': u'Fairyhome'}, 1577: {'Name': u'justyarning'}, 1578: {'Name': u'ABridalTouch'}, 1579: {'Name': u'LaurieMade'}, 1580: {'Name': u'TreasuredSunsets'}, 1581: {'Name': u'NikkiDanielDesigns'}, 1582: {'Name': u'BreadandButterflies1'}, 1583: {'Name': u'UpcycleAttic'}, 1584: {'Name': u'BernalBurrow'}, 1585: {'Name': u'WoodsyWools'}, 1586: {'Name': u'BecomingOpaque'}, 1587: {'Name': u'LittleSkeletonKey'}, 1588: {'Name': u'Rusticompany'}, 1589: {'Name': u'littlecleoathome'}, 1590: {'Name': u'nelotcram'}, 1591: {'Name': u'PrimaTreasures'}, 1592: {'Name': u'timsway'}, 1593: {'Name': u'BrocanteArt'}, 1594: {'Name': u'AlisonFrancisPhoto'}, 1595: {'Name': u'FineGiftsEngraving'}, 1596: {'Name': u'Vintaguk'}, 1597: {'Name': u'gracegraffiti'}, 1598: {'Name': u'JLPWedding'}, 1599: {'Name': u'LadyHawkTreasures'}, 1600: {'Name': u'Carrolcreates4u'}, 1601: {'Name': u'StanfordMercantile'}, 1602: {'Name': u'CouchCatCreations'}, 1603: {'Name': u'EyeShutterToThink'}, 1604: {'Name': u'JFerwerdaArts'}, 1605: {'Name': u'TreasuresPastOn'}, 1606: {'Name': u'LDSDecordotcom'}, 1607: {'Name': u'JesseDimondDesign'}, 1608: {'Name': u'OldMoscowVintage'}, 1609: {'Name': u'BookwormCreations'}, 1610: {'Name': u'TinyBlueStar'}, 1611: {'Name': u'azulclaro'}, 1612: {'Name': u'TreasuredInTime'}, 1613: {'Name': u'lalovelyvintage'}, 1614: {'Name': u'BuffaloDaisies'}, 1615: {'Name': u'bwana'}, 1616: {'Name': u'JazzySellers'}, 1617: {'Name': u'ShabbyChicnanigans'}, 1618: {'Name': u'RoyalKitness'}, 1619: {'Name': u'MorningLightGlass'}, 1620: {'Name': u'PABoutique'}, 1621: {'Name': u'LMODesignGroup'}, 1622: {'Name': u'StrictlyVintage'}, 1623: {'Name': u'District66Antiques'}, 1624: {'Name': u'SentimentalSentiment'}, 1625: {'Name': u'marketbags'}, 1626: {'Name': u'ClassicByNature'}, 1627: {'Name': u'DyanneParkerArt'}, 1628: {'Name': u'TandJscountrycrafts'}, 1629: {'Name': u'Ladizdesigns'}, 1630: {'Name': u'bronzegirl1'}, 1631: {'Name': u'DreamWorldDesign'}, 1632: {'Name': u'MobyCatGraphics'}, 1633: {'Name': u'RevivedArt'}, 1634: {'Name': u'CrystalShade'}, 1635: {'Name': u'glennisphotos'}, 1636: {'Name': u'DistantVillage'}, 1637: {'Name': u'ClassyStitches'}, 1638: {'Name': u'DeMiCasaCreations'}, 1639: {'Name': u'Barnwoodcustom'}, 1640: {'Name': u'ColorMeCookies'}, 1641: {'Name': u'simplefolksue'}, 1642: {'Name': u'OurVintageBliss'}, 1643: {'Name': u'NeedANeedle'}, 1644: {'Name': u'VeraJanesGifts'}, 1645: {'Name': u'WeChicdIt'}, 1646: {'Name': u'DelightfullyFun'}, 1647: {'Name': u'RoosterCreek'}, 1648: {'Name': u'bungalonine'}, 1649: {'Name': u'entirelyhomemade'}, 1650: {'Name': u'PatinaRustandBling'}, 1651: {'Name': u'SunPalace'}, 1652: {'Name': u'FeeneyLane'}, 1653: {'Name': u'AcornAndAlice'}, 1654: {'Name': u'RoostingRobbin'}, 1655: {'Name': u'SkilledProjectsInc'}, 1656: {'Name': u'MissyPeepers'}, 1657: {'Name': u'deeandlala'}, 1658: {'Name': u'VintageHardware'}, 1659: {'Name': u'JensJunqueDrawer'}, 1660: {'Name': u'LovelyOldLinens'}, 1661: {'Name': u'NotForgottenVintage'}, 1662: {'Name': u'ThePaintedHomeCo'}, 1663: {'Name': u'SewBohemian'}, 1664: {'Name': u'dillypicksdesign'}, 1665: {'Name': u'EvansWoodshopDesign'}, 1666: {'Name': u'DenisesKountryPatch'}, 1667: {'Name': u'Nachokitty'}, 1668: {'Name': u'FiddlestixDesign'}, 1669: {'Name': u'MySweetMadison'}, 1670: {'Name': u'MaidenLongIsland'}, 1671: {'Name': u'OldSocks'}, 1672: {'Name': u'RutaRecycles'}, 1673: {'Name': u'BonacRelics'}, 1674: {'Name': u'missprettypretty'}, 1675: {'Name': u'PeachParlorVintage'}, 1676: {'Name': u'SeasideRoseCreations'}, 1677: {'Name': u'mpcaviasca'}, 1678: {'Name': u'RiverOfTimeTreasures'}, 1679: {'Name': u'AlexandriaDayne'}, 1680: {'Name': u'UpstairsAttic'}, 1681: {'Name': u'TheHoneysuckleTree'}, 1682: {'Name': u'onceabarnatime'}, 1683: {'Name': u'maisiev'}, 1684: {'Name': u'MatriarchHandmade'}, 1685: {'Name': u'SaltbxHousePrimitivs'}, 1686: {'Name': u'htMyLittleCornerofGA'}, 1687: {'Name': u'SoPurdyCreations'}, 1688: {'Name': u'KristinDouglasART'}, 1689: {'Name': u'UMayApproachTheBench'}, 1690: {'Name': u'ITSYOURCOUNTRY'}, 1691: {'Name': u'LillysCollections'}, 1692: {'Name': u'DJLDesigns05'}, 1693: {'Name': u'OurSweetHomeAlabama'}, 1694: {'Name': u'ViDesignsLLC'}, 1695: {'Name': u'RuralKountry'}, 1696: {'Name': u'CanineCreationsbyKK'}, 1697: {'Name': u'Tomsantiquesandmore'}, 1698: {'Name': u'RedPonyofChesnee'}, 1699: {'Name': u'artysangels'}, 1700: {'Name': u'TatterednTarnished'}, 1701: {'Name': u'Shopofmetaldreams'}, 1702: {'Name': u'thelittlebiker'}, 1703: {'Name': u'MiriTextiles'}, 1704: {'Name': u'FreshBreezeVintage'}, 1705: {'Name': u'hicketypickety'}, 1706: {'Name': u'Eagleseyefinds'}, 1707: {'Name': u'TheirSecondChance'}, 1708: {'Name': u'OldBarnRescueCompany'}, 1709: {'Name': u'RusticsReborn'}, 1710: {'Name': u'ThisIsASign'}, 1711: {'Name': u'CharliesCraftRoom'}, 1712: {'Name': u'CarrStudio'}, 1713: {'Name': u'FleaCircuit'}, 1714: {'Name': u'GraphikMania'}, 1715: {'Name': u'PartsForYourArt'}, 1716: {'Name': u'southernprettys'}, 1717: {'Name': u'GoosenestPrairieRose'}, 1718: {'Name': u'StaceyMcAdams'}, 1719: {'Name': u'erikasgraphicdesign'}, 1720: {'Name': u'GingerSnapHomeDecor'}, 1721: {'Name': u'MyStylishMarket'}, 1722: {'Name': u'NCBarnBoys'}, 1723: {'Name': u'XanneFran'}, 1724: {'Name': u'simpsonstudios'}, 1725: {'Name': u'Fantasticreationss'}, 1726: {'Name': u'iheartbuttonsuk'}, 1727: {'Name': u'MaudeAndLola'}, 1728: {'Name': u'KnitAndCrochetPalace'}, 1729: {'Name': u'TearsOfJoybyRuth'}, 1730: {'Name': u'RelicsVintageUK'}, 1731: {'Name': u'HarrysAtticWindow'}, 1732: {'Name': u'BrinksCrafts'}, 1733: {'Name': u'hazelandlauren'}, 1734: {'Name': u'lulabellestyle'}, 1735: {'Name': u'FriedFishPhotography'}, 1736: {'Name': u'ThePearlyOwl'}, 1737: {'Name': u'TheOmbrePoodle'}, 1738: {'Name': u'chickenhearts'}, 1739: {'Name': u'TheManlyMan'}, 1740: {'Name': u'MaddHattersLab'}, 1741: {'Name': u'juliecriswell'}, 1742: {'Name': u'AMailys'}, 1743: {'Name': u'calicsu'}, 1744: {'Name': u'JonathanAldenCo'}, 1745: {'Name': u'BabyBonnetsAndSuch'}, 1746: {'Name': u'acraftingheart'}, 1747: {'Name': u'SoYesterdayThings'}, 1748: {'Name': u'KeysArts'}, 1749: {'Name': u'craftypagan'}, 1750: {'Name': u'FranksFantasticFinds'}, 1751: {'Name': u'mossweed'}, 1752: {'Name': u'uniquekjewels'}, 1753: {'Name': u'TheSewingMachineShop'}, 1754: {'Name': u'SuiteHiddenTreasures'}, 1755: {'Name': u'SewSoBusy'}, 1756: {'Name': u'MamaSaidVintage'}, 1757: {'Name': u'thesimplequiet'}, 1758: {'Name': u'dropsofcolorshop'}, 1759: {'Name': u'ThoughtsnMetal'}, 1760: {'Name': u'RomanticallyVintage'}, 1761: {'Name': u'rosesetc'}, 1762: {'Name': u'Tinarevintage'}, 1763: {'Name': u'AlsHandiwork'}, 1764: {'Name': u'CloudNineAdornments'}, 1765: {'Name': u'luvinstitchin4u'}, 1766: {'Name': u'TaylorJewel'}, 1767: {'Name': u'cowboygoods'}, 1768: {'Name': u'RaisedInABarnToo'}, 1769: {'Name': u'SewHapDesign'}, 1770: {'Name': u'stephmel'}, 1771: {'Name': u'BoughWowsFleaMarket'}, 1772: {'Name': u'TheeGreatDivide'}, 1773: {'Name': u'JujubefunnyFinds'}, 1774: {'Name': u'lisabretrostyle'}, 1775: {'Name': u'LaughRabbitJr'}, 1776: {'Name': u'Delaforja'}, 1777: {'Name': u'ThreadBasket'}, 1778: {'Name': u'BCMARTINS'}, 1779: {'Name': u'CreativeLifeGifts'}, 1780: {'Name': u'MyCountryAntiques'}, 1781: {'Name': u'silvarecreations'}, 1782: {'Name': u'patsplace00'}, 1783: {'Name': u'CreativeWings50'}, 1784: {'Name': u'PamelaBsCloset'}, 1785: {'Name': u'JaeArt'}, 1786: {'Name': u'OceanBlueCreations'}, 1787: {'Name': u'VINTAGEANTIQUEANMORE'}, 1788: {'Name': u'Mima55'}, 1789: {'Name': u'PippysVintageDecor'}, 1790: {'Name': u'Sivjegoose'}, 1791: {'Name': u'RecreationallyRachel'}, 1792: {'Name': u'Yesterdis'}, 1793: {'Name': u'FloydJonesVintage'}, 1794: {'Name': u'Creativewings'}, 1795: {'Name': u'DestinedRendezvous'}, 1796: {'Name': u'AtomicPhenomic'}, 1797: {'Name': u'CountAllThingsJoy'}, 1798: {'Name': u'mosaicwhimsey'}, 1799: {'Name': u'cecrafts'}, 1800: {'Name': u'BuddiesWithBabs'}, 1801: {'Name': u'Entrepreneurial'}, 1802: {'Name': u'mommyluv'}, 1803: {'Name': u'TimelessTreasuresLtd'}, 1804: {'Name': u'artanlei'}, 1805: {'Name': u'MaineSeasideDesigns'}, 1806: {'Name': u'nancylee97'}, 1807: {'Name': u'GlossyStones'}, 1808: {'Name': u'Museandmiscellany'}, 1809: {'Name': u'ConsoleahCollectible'}, 1810: {'Name': u'KiwiGirlCreations'}, 1811: {'Name': u'exposed7'}, 1812: {'Name': u'moesart'}, 1813: {'Name': u'ChellysShoppe'}, 1814: {'Name': u'ArtichokesandRoses'}, 1815: {'Name': u'BeeChicEvents'}, 1816: {'Name': u'CinnamonandSilver'}, 1817: {'Name': u'ReallyRosey'}, 1818: {'Name': u'TheHokieBoutique'}, 1819: {'Name': u'NodinsNest'}, 1820: {'Name': u'Hitchingscrafts'}, 1821: {'Name': u'FairyLynne'}, 1822: {'Name': u'DiamondsAttic'}, 1823: {'Name': u'Amy305'}, 1824: {'Name': u'emmarts'}, 1825: {'Name': u'TalesofTime'}, 1826: {'Name': u'ShellaciousGifts'}, 1827: {'Name': u'thewildwoodflower'}, 1828: {'Name': u'WildThymeThreads'}, 1829: {'Name': u'PoeticChaosbyKelley'}, 1830: {'Name': u'DancingDaisyBoutique'}, 1831: {'Name': u'foundArtNEWYORK'}, 1832: {'Name': u'Artwonders'}, 1833: {'Name': u'VintageSusanFletcher'}, 1834: {'Name': u'HumblePrideGlass'}, 1835: {'Name': u'LeJardindeMonia'}, 1836: {'Name': u'Granddar'}, 1837: {'Name': u'moxiekin'}, 1838: {'Name': u'mailebaldwin'}, 1839: {'Name': u'HeyCupcakeScrapbook'}, 1840: {'Name': u'YouEnhanced'}, 1841: {'Name': u'AaronJaffe'}, 1842: {'Name': u'BrambleWoodANDivy'}, 1843: {'Name': u'LilysCellar'}, 1844: {'Name': u'BlueThistleVintage'}, 1845: {'Name': u'SoulfulArtists'}, 1846: {'Name': u'2GIRLSINTROUBLE'}, 1847: {'Name': u'929designs'}, 1848: {'Name': u'BlueMoonParis'}, 1849: {'Name': u'iReclaimed'}, 1850: {'Name': u'AbbyFantasyFurniture'}, 1851: {'Name': u'MeriLeeWoodcrafts'}, 1852: {'Name': u'Alwaysnstitches'}, 1853: {'Name': u'chosenvessels'}, 1854: {'Name': u'SnapshotsThroughTime'}, 1855: {'Name': u'UKAmobile'}, 1856: {'Name': u'VermontSlateArt'}, 1857: {'Name': u'mysisterstuff'}, 1858: {'Name': u'inoowdesign'}, 1859: {'Name': u'SaleOfEstates'}, 1860: {'Name': u'Spoondryft'}, 1861: {'Name': u'OxbowCreekExchange'}, 1862: {'Name': u'AMcCartyDesigns'}, 1863: {'Name': u'AntlerArtisans'}, 1864: {'Name': u'PerfectPieLady'}, 1865: {'Name': u'AlleyCatDesignSt'}, 1866: {'Name': u'Trulyvintageuk'}, 1867: {'Name': u'HabitatHaven'}, 1868: {'Name': u'ChrisCraftiedecor'}, 1869: {'Name': u'mermaidsdowry'}, 1870: {'Name': u'singulars'}, 1871: {'Name': u'tessamanu'}, 1872: {'Name': u'LeedsRadio'}, 1873: {'Name': u'aroundtheclock'}, 1874: {'Name': u'CrazyHorseCreation'}, 1875: {'Name': u'ElvasVintage'}, 1876: {'Name': u'LadybumbleVintage'}, 1877: {'Name': u'dAdAStudio'}, 1878: {'Name': u'BlackABeeCreations'}, 1879: {'Name': u'Alchemyshop'}, 1880: {'Name': u'cecesfabulousfinds'}, 1881: {'Name': u'CharlaGriffinDesigns'}, 1882: {'Name': u'BunnyMushroom'}, 1883: {'Name': u'knobhandle'}, 1884: {'Name': u'KnobsandBobs'}, 1885: {'Name': u'Santisteels'}, 1886: {'Name': u'griffincat'}, 1887: {'Name': u'MyBloomingNest'}, 1888: {'Name': u'knobpologie'}, 1889: {'Name': u'Teacheropolis'}, 1890: {'Name': u'GigiLondon'}, 1891: {'Name': u'StyleHouseUK'}, 1892: {'Name': u'SaltyRiverDogs'}, 1893: {'Name': u'ArtfullyRustic'}, 1894: {'Name': u'PerfectlyGlass'}, 1895: {'Name': u'LaDolfina'}, 1896: {'Name': u'CoconutBeech'}, 1897: {'Name': u'igrabaustralia'}, 1898: {'Name': u'InspireDesignBySarah'}, 1899: {'Name': u'MidCenturyMantiquing'}, 1900: {'Name': u'ThisOleSew'}, 1901: {'Name': u'TwistedSmithHardware'}, 1902: {'Name': u'SatinStone'}, 1903: {'Name': u'buttonamazing'}, 1904: {'Name': u'ShabbyRoad'}, 1905: {'Name': u'FULTONandCO'}, 1906: {'Name': u'aimeesrockworks'}, 1907: {'Name': u'GlitteringDragonfly'}, 1908: {'Name': u'MerlesVintage'}, 1909: {'Name': u'Smallthingsforyou'}, 1910: {'Name': u'happykristen'}, 1911: {'Name': u'HardwareHeaven'}, 1912: {'Name': u'Violetteslippers'}, 1913: {'Name': u'CountryChicShoppe'}, 1914: {'Name': u'RusticDiehls'}, 1915: {'Name': u'YesterdaysMug'}, 1916: {'Name': u'RetrofitResale'}, 1917: {'Name': u'modernarchaeology1'}, 1918: {'Name': u'KnobEnvy'}, 1919: {'Name': u'WishboneART'}, 1920: {'Name': u'GladysGlover'}, 1921: {'Name': u'CustomDollhouse'}, 1922: {'Name': u'WeatheredGoods'}, 1923: {'Name': u'TheFactorie'}, 1924: {'Name': u'suvarna'}, 1925: {'Name': u'LynHunterDesigns'}, 1926: {'Name': u'mimisrecycledesigns'}, 1927: {'Name': u'hammerandhandimports'}, 1928: {'Name': u'adolladaystl'}, 1929: {'Name': u'swenproducts'}, 1930: {'Name': u'Bespoker'}, 1931: {'Name': u'AOCollective'}, 1932: {'Name': u'2CountryChics'}, 1933: {'Name': u'chocolateletters'}, 1934: {'Name': u'SplendidMinds'}, 1935: {'Name': u'TheCookieClutch'}, 1936: {'Name': u'TheVintageTabby'}, 1937: {'Name': u'ShopImperfectionista'}, 1938: {'Name': u'MeerkatsManor'}, 1939: {'Name': u'potteryandtile'}, 1940: {'Name': u'TuppersPerch'}, 1941: {'Name': u'HIPROGRESS'}, 1942: {'Name': u'Jennawoodburlapcraft'}, 1943: {'Name': u'clopedi'}, 1944: {'Name': u'LovelySupplyShop'}, 1945: {'Name': u'BstreetVintage'}, 1946: {'Name': u'AllFiredUpinFlorida'}, 1947: {'Name': u'OlivianaDesigns'}, 1948: {'Name': u'TitanSales'}, 1949: {'Name': u'ClaytonDesignRRR'}, 1950: {'Name': u'lovelylittlesongbird'}, 1951: {'Name': u'WoodNWhatknots'}, 1952: {'Name': u'TheCopperCompany'}, 1953: {'Name': u'avintagerevolution'}, 1954: {'Name': u'PlantsNStuff'}, 1955: {'Name': u'FineAndShabby'}, 1956: {'Name': u'MargaretsPlace'}, 1957: {'Name': u'BarbwireRustic'}, 1958: {'Name': u'Period1'}, 1959: {'Name': u'EstateSaleTreasure'}, 1960: {'Name': u'ChalksOLot'}, 1961: {'Name': u'AdirondackBlacksmith'}, 1962: {'Name': u'TheBackyardBear'}, 1963: {'Name': u'Halfearcat'}, 1964: {'Name': u'PolkadotofWinslow'}, 1965: {'Name': u'timelessjourney'}, 1966: {'Name': u'BeamsBoardsBarns'}, 1967: {'Name': u'smartcookie'}, 1968: {'Name': u'LaCasaMonina'}, 1969: {'Name': u'FourRDesigns'}, 1970: {'Name': u'HaydenBrook'}, 1971: {'Name': u'VintagePossessions'}, 1972: {'Name': u'TraderJosies'}, 1973: {'Name': u'SuzyQsRedos'}, 1974: {'Name': u'DavidMeddingsDeSign'}, 1975: {'Name': u'PortugueseVintage'}, 1976: {'Name': u'StudioVintage'}, 1977: {'Name': u'GrandeOurseVintage'}, 1978: {'Name': u'KefiCreations'}, 1979: {'Name': u'GWJonesHandcrafted'}, 1980: {'Name': u'UniqueKnobs'}, 1981: {'Name': u'juliagariepy'}, 1982: {'Name': u'EdnaFayeCreations'}, 1983: {'Name': u'ClayBeaute'}, 1984: {'Name': u'vintagethisretrothat'}, 1985: {'Name': u'MorwensCottage'}, 1986: {'Name': u'KatyjeansAttic'}, 1987: {'Name': u'UpNorthAntiques'}, 1988: {'Name': u'MartinThallerDesigns'}, 1989: {'Name': u'Alabamafarmgirl'}, 1990: {'Name': u'jhairston66'}, 1991: {'Name': u'silverlininghome'}, 1992: {'Name': u'thoughtfulbrenda'}, 1993: {'Name': u'ElioProcidaDesign'}}\n",
        "NafeIronWorksDesign\n",
        "TrendyLittleDetails"
       ]
      },
      {
       "output_type": "stream",
       "stream": "stdout",
       "text": [
        "\n",
        "HookAndKnob"
       ]
      },
      {
       "output_type": "stream",
       "stream": "stdout",
       "text": [
        "\n",
        "HOMEmadeMakeovers"
       ]
      },
      {
       "output_type": "stream",
       "stream": "stdout",
       "text": [
        "\n",
        "ARoseRambling"
       ]
      },
      {
       "output_type": "stream",
       "stream": "stdout",
       "text": [
        "\n",
        "Firstfinds"
       ]
      },
      {
       "output_type": "stream",
       "stream": "stdout",
       "text": [
        "\n",
        "Bicoestonia"
       ]
      },
      {
       "output_type": "stream",
       "stream": "stdout",
       "text": [
        "\n",
        "MonstersOverTheSea"
       ]
      },
      {
       "output_type": "stream",
       "stream": "stdout",
       "text": [
        "\n",
        "JudysJunktion"
       ]
      },
      {
       "output_type": "stream",
       "stream": "stdout",
       "text": [
        "\n",
        "OldOdditiesAndMore"
       ]
      },
      {
       "output_type": "stream",
       "stream": "stdout",
       "text": [
        "\n",
        "JustForYou22"
       ]
      },
      {
       "output_type": "stream",
       "stream": "stdout",
       "text": [
        "\n",
        "lesaestes"
       ]
      },
      {
       "output_type": "stream",
       "stream": "stdout",
       "text": [
        "\n",
        "MyVintageLane"
       ]
      },
      {
       "output_type": "stream",
       "stream": "stdout",
       "text": [
        "\n",
        "SAWTOOTHcreek"
       ]
      },
      {
       "output_type": "stream",
       "stream": "stdout",
       "text": [
        "\n",
        "reginasstudio"
       ]
      },
      {
       "output_type": "stream",
       "stream": "stdout",
       "text": [
        "\n",
        "PJsParadise"
       ]
      },
      {
       "output_type": "stream",
       "stream": "stdout",
       "text": [
        "\n",
        "dontthrowthataway"
       ]
      },
      {
       "output_type": "stream",
       "stream": "stdout",
       "text": [
        "\n",
        "marketsquareus"
       ]
      },
      {
       "output_type": "stream",
       "stream": "stdout",
       "text": [
        "\n",
        "vintagerussia"
       ]
      },
      {
       "output_type": "stream",
       "stream": "stdout",
       "text": [
        "\n",
        "NoriSoapworks"
       ]
      },
      {
       "output_type": "stream",
       "stream": "stdout",
       "text": [
        "\n",
        "OhioWoodandIronWorks"
       ]
      },
      {
       "output_type": "stream",
       "stream": "stdout",
       "text": [
        "\n",
        "qsmuse"
       ]
      },
      {
       "output_type": "stream",
       "stream": "stdout",
       "text": [
        "\n",
        "Indounik"
       ]
      },
      {
       "output_type": "stream",
       "stream": "stdout",
       "text": [
        "\n",
        "BeachArtbychrissie"
       ]
      },
      {
       "output_type": "stream",
       "stream": "stdout",
       "text": [
        "\n",
        "TeaTimeVintageShop"
       ]
      },
      {
       "output_type": "stream",
       "stream": "stdout",
       "text": [
        "\n",
        "HobbitsCache"
       ]
      },
      {
       "output_type": "stream",
       "stream": "stdout",
       "text": [
        "\n",
        "TheHeirloomShoppe"
       ]
      },
      {
       "output_type": "stream",
       "stream": "stdout",
       "text": [
        "\n",
        "MyHighStreetBoutique"
       ]
      },
      {
       "output_type": "stream",
       "stream": "stdout",
       "text": [
        "\n",
        "TheForestSleeps"
       ]
      },
      {
       "output_type": "stream",
       "stream": "stdout",
       "text": [
        "\n",
        "GAGirlDesigns"
       ]
      },
      {
       "output_type": "stream",
       "stream": "stdout",
       "text": [
        "\n",
        "RagtagStudio"
       ]
      },
      {
       "output_type": "stream",
       "stream": "stdout",
       "text": [
        "\n",
        "RandPCollectibles"
       ]
      },
      {
       "output_type": "stream",
       "stream": "stdout",
       "text": [
        "\n",
        "RomoGALLERY"
       ]
      },
      {
       "output_type": "stream",
       "stream": "stdout",
       "text": [
        "\n",
        "shimrita"
       ]
      },
      {
       "output_type": "stream",
       "stream": "stdout",
       "text": [
        "\n",
        "LaBelleEpoqueDeco"
       ]
      },
      {
       "output_type": "stream",
       "stream": "stdout",
       "text": [
        "\n",
        "RetroCollecto"
       ]
      },
      {
       "output_type": "stream",
       "stream": "stdout",
       "text": [
        "\n",
        "MaggiesCellar"
       ]
      },
      {
       "output_type": "stream",
       "stream": "stdout",
       "text": [
        "\n",
        "nomorebrokendish"
       ]
      },
      {
       "output_type": "stream",
       "stream": "stdout",
       "text": [
        "\n",
        "RoselightStudio"
       ]
      },
      {
       "output_type": "stream",
       "stream": "stdout",
       "text": [
        "\n",
        "bycinbyhand"
       ]
      },
      {
       "output_type": "stream",
       "stream": "stdout",
       "text": [
        "\n",
        "RusticAttic"
       ]
      },
      {
       "output_type": "stream",
       "stream": "stdout",
       "text": [
        "\n",
        "Dreamchinese"
       ]
      },
      {
       "output_type": "stream",
       "stream": "stdout",
       "text": [
        "\n",
        "TreasuresOnceMore"
       ]
      },
      {
       "output_type": "stream",
       "stream": "stdout",
       "text": [
        "\n",
        "homeVintageUSSR"
       ]
      },
      {
       "output_type": "stream",
       "stream": "stdout",
       "text": [
        "\n",
        "aurora279"
       ]
      },
      {
       "output_type": "stream",
       "stream": "stdout",
       "text": [
        "\n",
        "SquirrelMidden"
       ]
      },
      {
       "output_type": "stream",
       "stream": "stdout",
       "text": [
        "\n",
        "HighPointFarm2010"
       ]
      },
      {
       "output_type": "stream",
       "stream": "stdout",
       "text": [
        "\n",
        "RusTiqueAgeHome"
       ]
      },
      {
       "output_type": "stream",
       "stream": "stdout",
       "text": [
        "\n",
        "Gotahangup"
       ]
      },
      {
       "output_type": "stream",
       "stream": "stdout",
       "text": [
        "\n",
        "vividstitches"
       ]
      },
      {
       "output_type": "stream",
       "stream": "stdout",
       "text": [
        "\n",
        "Elezuomixmedia"
       ]
      },
      {
       "output_type": "stream",
       "stream": "stdout",
       "text": [
        "\n",
        "thejunkman"
       ]
      },
      {
       "output_type": "stream",
       "stream": "stdout",
       "text": [
        "\n",
        "AuntieLillians"
       ]
      },
      {
       "output_type": "stream",
       "stream": "stdout",
       "text": [
        "\n",
        "ComfortablyVintage"
       ]
      },
      {
       "output_type": "stream",
       "stream": "stdout",
       "text": [
        "\n",
        "UpcyceIndustrials"
       ]
      },
      {
       "output_type": "stream",
       "stream": "stdout",
       "text": [
        "\n",
        "ChickieVintageLove"
       ]
      },
      {
       "output_type": "stream",
       "stream": "stdout",
       "text": [
        "\n",
        "Pushkaknobs"
       ]
      },
      {
       "output_type": "stream",
       "stream": "stdout",
       "text": [
        "\n",
        "ClayismyArt"
       ]
      },
      {
       "output_type": "stream",
       "stream": "stdout",
       "text": [
        "\n",
        "LondonGraceBoutique"
       ]
      },
      {
       "output_type": "stream",
       "stream": "stdout",
       "text": [
        "\n",
        "simplycreativeliving"
       ]
      },
      {
       "output_type": "stream",
       "stream": "stdout",
       "text": [
        "\n",
        "DiamondintheRust"
       ]
      },
      {
       "output_type": "stream",
       "stream": "stdout",
       "text": [
        "\n",
        "PotsbydePerrot"
       ]
      },
      {
       "output_type": "stream",
       "stream": "stdout",
       "text": [
        "\n",
        "creativelikemyKing"
       ]
      },
      {
       "output_type": "stream",
       "stream": "stdout",
       "text": [
        "\n",
        "ChuckWagonWestern"
       ]
      },
      {
       "output_type": "stream",
       "stream": "stdout",
       "text": [
        "\n",
        "SunshinePartyStudio"
       ]
      },
      {
       "output_type": "stream",
       "stream": "stdout",
       "text": [
        "\n",
        "laceandtwig"
       ]
      },
      {
       "output_type": "stream",
       "stream": "stdout",
       "text": [
        "\n",
        "JaxnJils"
       ]
      },
      {
       "output_type": "stream",
       "stream": "stdout",
       "text": [
        "\n",
        "mppineconedesigns"
       ]
      },
      {
       "output_type": "stream",
       "stream": "stdout",
       "text": [
        "\n",
        "AmorFatiArtisan"
       ]
      },
      {
       "output_type": "stream",
       "stream": "stdout",
       "text": [
        "\n",
        "birchleaves"
       ]
      },
      {
       "output_type": "stream",
       "stream": "stdout",
       "text": [
        "\n",
        "bluefolkhome"
       ]
      },
      {
       "output_type": "stream",
       "stream": "stdout",
       "text": [
        "\n",
        "ijustlike"
       ]
      },
      {
       "output_type": "stream",
       "stream": "stdout",
       "text": [
        "\n",
        "baconsquarefarm"
       ]
      },
      {
       "output_type": "stream",
       "stream": "stdout",
       "text": [
        "\n",
        "juxtapositionsc"
       ]
      },
      {
       "output_type": "stream",
       "stream": "stdout",
       "text": [
        "\n",
        "BandedPillows"
       ]
      },
      {
       "output_type": "stream",
       "stream": "stdout",
       "text": [
        "\n",
        "KeishasKreativity"
       ]
      },
      {
       "output_type": "stream",
       "stream": "stdout",
       "text": [
        "\n",
        "ProsserBrosVtg"
       ]
      },
      {
       "output_type": "stream",
       "stream": "stdout",
       "text": [
        "\n",
        "chichimama05"
       ]
      },
      {
       "output_type": "stream",
       "stream": "stdout",
       "text": [
        "\n",
        "AgaveTradingCo"
       ]
      },
      {
       "output_type": "stream",
       "stream": "stdout",
       "text": [
        "\n",
        "PeggyJHaleDesigns"
       ]
      },
      {
       "output_type": "stream",
       "stream": "stdout",
       "text": [
        "\n",
        "MorrellDecor"
       ]
      },
      {
       "output_type": "stream",
       "stream": "stdout",
       "text": [
        "\n",
        "TheBlindPeacock"
       ]
      },
      {
       "output_type": "stream",
       "stream": "stdout",
       "text": [
        "\n",
        "primitivearts"
       ]
      },
      {
       "output_type": "stream",
       "stream": "stdout",
       "text": [
        "\n",
        "knobsandmore"
       ]
      },
      {
       "output_type": "stream",
       "stream": "stdout",
       "text": [
        "\n",
        "funknjunkinc"
       ]
      },
      {
       "output_type": "stream",
       "stream": "stdout",
       "text": [
        "\n",
        "LucyDesignsonline"
       ]
      },
      {
       "output_type": "stream",
       "stream": "stdout",
       "text": [
        "\n",
        "KnobShop"
       ]
      },
      {
       "output_type": "stream",
       "stream": "stdout",
       "text": [
        "\n",
        "KingsfieldInn"
       ]
      },
      {
       "output_type": "stream",
       "stream": "stdout",
       "text": [
        "\n",
        "anniesvintagewares"
       ]
      },
      {
       "output_type": "stream",
       "stream": "stdout",
       "text": [
        "\n",
        "mclark925"
       ]
      },
      {
       "output_type": "stream",
       "stream": "stdout",
       "text": [
        "\n",
        "ColorfulCastAndCrew"
       ]
      },
      {
       "output_type": "stream",
       "stream": "stdout",
       "text": [
        "\n",
        "PaintedTulipStudio"
       ]
      },
      {
       "output_type": "stream",
       "stream": "stdout",
       "text": [
        "\n",
        "VintageLoversShop"
       ]
      },
      {
       "output_type": "stream",
       "stream": "stdout",
       "text": [
        "\n",
        "UnderWillowOaks"
       ]
      },
      {
       "output_type": "stream",
       "stream": "stdout",
       "text": [
        "\n",
        "HavenVintage"
       ]
      },
      {
       "output_type": "stream",
       "stream": "stdout",
       "text": [
        "\n",
        "midgetgems"
       ]
      },
      {
       "output_type": "stream",
       "stream": "stdout",
       "text": [
        "\n",
        "LoveToFeatherTheNest"
       ]
      },
      {
       "output_type": "stream",
       "stream": "stdout",
       "text": [
        "\n",
        "Majilly"
       ]
      },
      {
       "output_type": "stream",
       "stream": "stdout",
       "text": [
        "\n",
        "TheBeadSource"
       ]
      },
      {
       "output_type": "stream",
       "stream": "stdout",
       "text": [
        "\n",
        "BarbsHandiworks"
       ]
      },
      {
       "output_type": "stream",
       "stream": "stdout",
       "text": [
        "\n",
        "DebLynnCreations"
       ]
      },
      {
       "output_type": "stream",
       "stream": "stdout",
       "text": [
        "\n",
        "HeadstrongHippie"
       ]
      },
      {
       "output_type": "stream",
       "stream": "stdout",
       "text": [
        "\n",
        "RajasthanRoyals"
       ]
      },
      {
       "output_type": "stream",
       "stream": "stdout",
       "text": [
        "\n",
        "oceangifts"
       ]
      },
      {
       "output_type": "stream",
       "stream": "stdout",
       "text": [
        "\n",
        "SisterCrafts1"
       ]
      },
      {
       "output_type": "stream",
       "stream": "stdout",
       "text": [
        "\n",
        "Brochets"
       ]
      },
      {
       "output_type": "stream",
       "stream": "stdout",
       "text": [
        "\n",
        "ShabbrusticChic"
       ]
      },
      {
       "output_type": "stream",
       "stream": "stdout",
       "text": [
        "\n",
        "HardwareArchive"
       ]
      },
      {
       "output_type": "stream",
       "stream": "stdout",
       "text": [
        "\n",
        "Createatorium"
       ]
      },
      {
       "output_type": "stream",
       "stream": "stdout",
       "text": [
        "\n",
        "rarefinds4u"
       ]
      },
      {
       "output_type": "stream",
       "stream": "stdout",
       "text": [
        "\n",
        "antiqueitems23"
       ]
      },
      {
       "output_type": "stream",
       "stream": "stdout",
       "text": [
        "\n",
        "BandCEmporium"
       ]
      },
      {
       "output_type": "stream",
       "stream": "stdout",
       "text": [
        "\n",
        "AtomRouge"
       ]
      },
      {
       "output_type": "stream",
       "stream": "stdout",
       "text": [
        "\n",
        "HAUTEGRAPHIQUE"
       ]
      },
      {
       "output_type": "stream",
       "stream": "stdout",
       "text": [
        "\n",
        "OneFrameStories"
       ]
      },
      {
       "output_type": "stream",
       "stream": "stdout",
       "text": [
        "\n",
        "TheSalvagedPlanet"
       ]
      },
      {
       "output_type": "stream",
       "stream": "stdout",
       "text": [
        "\n",
        "hometowngeneralstore"
       ]
      },
      {
       "output_type": "stream",
       "stream": "stdout",
       "text": [
        "\n",
        "simplysalboutique"
       ]
      },
      {
       "output_type": "stream",
       "stream": "stdout",
       "text": [
        "\n",
        "HookedOnMOeZ"
       ]
      },
      {
       "output_type": "stream",
       "stream": "stdout",
       "text": [
        "\n",
        "BountyFromThePast"
       ]
      },
      {
       "output_type": "stream",
       "stream": "stdout",
       "text": [
        "\n",
        "punksrus"
       ]
      },
      {
       "output_type": "stream",
       "stream": "stdout",
       "text": [
        "\n",
        "AandBDesignStudio"
       ]
      },
      {
       "output_type": "stream",
       "stream": "stdout",
       "text": [
        "\n",
        "HuckleberrysCorner"
       ]
      },
      {
       "output_type": "stream",
       "stream": "stdout",
       "text": [
        "\n",
        "typewritersandthings"
       ]
      },
      {
       "output_type": "stream",
       "stream": "stdout",
       "text": [
        "\n",
        "BobbinRoseVintage"
       ]
      },
      {
       "output_type": "stream",
       "stream": "stdout",
       "text": [
        "\n",
        "LisaLiYesterYears"
       ]
      },
      {
       "output_type": "stream",
       "stream": "stdout",
       "text": [
        "\n",
        "TheCottageKey"
       ]
      },
      {
       "output_type": "stream",
       "stream": "stdout",
       "text": [
        "\n",
        "WoodnThingsNY12534"
       ]
      },
      {
       "output_type": "stream",
       "stream": "stdout",
       "text": [
        "\n",
        "VintageMemories412"
       ]
      },
      {
       "output_type": "stream",
       "stream": "stdout",
       "text": [
        "\n",
        "ontherebound"
       ]
      },
      {
       "output_type": "stream",
       "stream": "stdout",
       "text": [
        "\n",
        "Vintporium"
       ]
      },
      {
       "output_type": "stream",
       "stream": "stdout",
       "text": [
        "\n",
        "dorothybroome"
       ]
      },
      {
       "output_type": "stream",
       "stream": "stdout",
       "text": [
        "\n",
        "MossMountain"
       ]
      },
      {
       "output_type": "stream",
       "stream": "stdout",
       "text": [
        "\n",
        "VictorianWardrobe"
       ]
      },
      {
       "output_type": "stream",
       "stream": "stdout",
       "text": [
        "\n",
        "MargueritesWoodShed"
       ]
      },
      {
       "output_type": "stream",
       "stream": "stdout",
       "text": [
        "\n",
        "RustedPulchritude"
       ]
      },
      {
       "output_type": "stream",
       "stream": "stdout",
       "text": [
        "\n",
        "MillworkVintageStuff"
       ]
      },
      {
       "output_type": "stream",
       "stream": "stdout",
       "text": [
        "\n",
        "xBeyondBlessedx"
       ]
      },
      {
       "output_type": "stream",
       "stream": "stdout",
       "text": [
        "\n",
        "ApplegatesAntiques"
       ]
      },
      {
       "output_type": "stream",
       "stream": "stdout",
       "text": [
        "\n",
        "LAKEWAYCANDLES"
       ]
      },
      {
       "output_type": "stream",
       "stream": "stdout",
       "text": [
        "\n",
        "EsobDesigns"
       ]
      },
      {
       "output_type": "stream",
       "stream": "stdout",
       "text": [
        "\n",
        "SexyTrashVintage"
       ]
      },
      {
       "output_type": "stream",
       "stream": "stdout",
       "text": [
        "\n",
        "NorthMajestyTrail"
       ]
      },
      {
       "output_type": "stream",
       "stream": "stdout",
       "text": [
        "\n",
        "EnglishShop"
       ]
      },
      {
       "output_type": "stream",
       "stream": "stdout",
       "text": [
        "\n",
        "PhoebesTreasureChest"
       ]
      },
      {
       "output_type": "stream",
       "stream": "stdout",
       "text": [
        "\n",
        "RosebudsOriginals"
       ]
      },
      {
       "output_type": "stream",
       "stream": "stdout",
       "text": [
        "\n",
        "nanascottagehouse"
       ]
      },
      {
       "output_type": "stream",
       "stream": "stdout",
       "text": [
        "\n",
        "RedLittleVintage"
       ]
      },
      {
       "output_type": "stream",
       "stream": "stdout",
       "text": [
        "\n",
        "timepassages"
       ]
      },
      {
       "output_type": "stream",
       "stream": "stdout",
       "text": [
        "\n",
        "VintageMilk"
       ]
      },
      {
       "output_type": "stream",
       "stream": "stdout",
       "text": [
        "\n",
        "GiddyBrightVintage"
       ]
      },
      {
       "output_type": "stream",
       "stream": "stdout",
       "text": [
        "\n",
        "HeinemannImages"
       ]
      },
      {
       "output_type": "stream",
       "stream": "stdout",
       "text": [
        "\n",
        "cynthiasattic"
       ]
      },
      {
       "output_type": "stream",
       "stream": "stdout",
       "text": [
        "\n",
        "Mumscottage"
       ]
      },
      {
       "output_type": "stream",
       "stream": "stdout",
       "text": [
        "\n",
        "bestLuba"
       ]
      },
      {
       "output_type": "stream",
       "stream": "stdout",
       "text": [
        "\n",
        "vintagenonsense"
       ]
      },
      {
       "output_type": "stream",
       "stream": "stdout",
       "text": [
        "\n",
        "JudiJumble"
       ]
      },
      {
       "output_type": "stream",
       "stream": "stdout",
       "text": [
        "\n",
        "MelissasCozyCottage"
       ]
      },
      {
       "output_type": "stream",
       "stream": "stdout",
       "text": [
        "\n",
        "GrandpasPliersnWires"
       ]
      },
      {
       "output_type": "stream",
       "stream": "stdout",
       "text": [
        "\n",
        "CamillaCotton"
       ]
      },
      {
       "output_type": "stream",
       "stream": "stdout",
       "text": [
        "\n",
        "WhereTheRoosterCrows"
       ]
      },
      {
       "output_type": "stream",
       "stream": "stdout",
       "text": [
        "\n",
        "xurple"
       ]
      },
      {
       "output_type": "stream",
       "stream": "stdout",
       "text": [
        "\n",
        "ladygirltreasures"
       ]
      },
      {
       "output_type": "stream",
       "stream": "stdout",
       "text": [
        "\n",
        "aprilmay72"
       ]
      },
      {
       "output_type": "stream",
       "stream": "stdout",
       "text": [
        "\n",
        "bigbangzero"
       ]
      },
      {
       "output_type": "stream",
       "stream": "stdout",
       "text": [
        "\n",
        "PaperButtercup"
       ]
      },
      {
       "output_type": "stream",
       "stream": "stdout",
       "text": [
        "\n",
        "JoJoFavorites"
       ]
      },
      {
       "output_type": "stream",
       "stream": "stdout",
       "text": [
        "\n",
        "WallpaperYourWorld"
       ]
      },
      {
       "output_type": "stream",
       "stream": "stdout",
       "text": [
        "\n",
        "SmetanaVintage"
       ]
      },
      {
       "output_type": "stream",
       "stream": "stdout",
       "text": [
        "\n",
        "SouthernPressWorks"
       ]
      },
      {
       "output_type": "stream",
       "stream": "stdout",
       "text": [
        "\n",
        "CityLimitsVintage"
       ]
      },
      {
       "output_type": "stream",
       "stream": "stdout",
       "text": [
        "\n",
        "DixHillDecor"
       ]
      },
      {
       "output_type": "stream",
       "stream": "stdout",
       "text": [
        "\n",
        "EllasAtticVintage"
       ]
      },
      {
       "output_type": "stream",
       "stream": "stdout",
       "text": [
        "\n",
        "GlassRelief"
       ]
      },
      {
       "output_type": "stream",
       "stream": "stdout",
       "text": [
        "\n",
        "LuvVintageThings"
       ]
      },
      {
       "output_type": "stream",
       "stream": "stdout",
       "text": [
        "\n",
        "macandmarys"
       ]
      },
      {
       "output_type": "stream",
       "stream": "stdout",
       "text": [
        "\n",
        "Lisshop"
       ]
      },
      {
       "output_type": "stream",
       "stream": "stdout",
       "text": [
        "\n",
        "sewupcycle"
       ]
      },
      {
       "output_type": "stream",
       "stream": "stdout",
       "text": [
        "\n",
        "Assemblages"
       ]
      },
      {
       "output_type": "stream",
       "stream": "stdout",
       "text": [
        "\n",
        "zadoodle"
       ]
      },
      {
       "output_type": "stream",
       "stream": "stdout",
       "text": [
        "\n",
        "nanniepannie"
       ]
      },
      {
       "output_type": "stream",
       "stream": "stdout",
       "text": [
        "\n",
        "HandcraftedAccents"
       ]
      },
      {
       "output_type": "stream",
       "stream": "stdout",
       "text": [
        "\n",
        "cocolocca"
       ]
      },
      {
       "output_type": "stream",
       "stream": "stdout",
       "text": [
        "\n",
        "TheUrbanBarn"
       ]
      },
      {
       "output_type": "stream",
       "stream": "stdout",
       "text": [
        "\n",
        "BLINKIEWELLSVINTAGE"
       ]
      },
      {
       "output_type": "stream",
       "stream": "stdout",
       "text": [
        "\n",
        "DiscountPaperCrafts"
       ]
      },
      {
       "output_type": "stream",
       "stream": "stdout",
       "text": [
        "\n",
        "Bookwomen3"
       ]
      },
      {
       "output_type": "stream",
       "stream": "stdout",
       "text": [
        "\n",
        "PatriciaBrewerArtist"
       ]
      },
      {
       "output_type": "stream",
       "stream": "stdout",
       "text": [
        "\n",
        "MaddysFabricStash"
       ]
      },
      {
       "output_type": "stream",
       "stream": "stdout",
       "text": [
        "\n",
        "UtterClutter1973"
       ]
      },
      {
       "output_type": "stream",
       "stream": "stdout",
       "text": [
        "\n",
        "FoggynoshunsVintage"
       ]
      },
      {
       "output_type": "stream",
       "stream": "stdout",
       "text": [
        "\n",
        "FranklinStVintage"
       ]
      },
      {
       "output_type": "stream",
       "stream": "stdout",
       "text": [
        "\n",
        "CollectibleCorner"
       ]
      },
      {
       "output_type": "stream",
       "stream": "stdout",
       "text": [
        "\n",
        "studiostebbylee"
       ]
      },
      {
       "output_type": "stream",
       "stream": "stdout",
       "text": [
        "\n",
        "NonasVintageDesigns"
       ]
      },
      {
       "output_type": "stream",
       "stream": "stdout",
       "text": [
        "\n",
        "CrochetKnitandMix"
       ]
      },
      {
       "output_type": "stream",
       "stream": "stdout",
       "text": [
        "\n",
        "SayItWithSassRoxboro"
       ]
      },
      {
       "output_type": "stream",
       "stream": "stdout",
       "text": [
        "\n",
        "PeelsandPosies"
       ]
      },
      {
       "output_type": "stream",
       "stream": "stdout",
       "text": [
        "\n",
        "VintageMaryLeslie"
       ]
      },
      {
       "output_type": "stream",
       "stream": "stdout",
       "text": [
        "\n",
        "nancyplage"
       ]
      },
      {
       "output_type": "stream",
       "stream": "stdout",
       "text": [
        "\n",
        "CharlesPlace"
       ]
      },
      {
       "output_type": "stream",
       "stream": "stdout",
       "text": [
        "\n",
        "BabisTreasures"
       ]
      },
      {
       "output_type": "stream",
       "stream": "stdout",
       "text": [
        "\n",
        "PaulasSewNice"
       ]
      },
      {
       "output_type": "stream",
       "stream": "stdout",
       "text": [
        "\n",
        "LogArtistry"
       ]
      },
      {
       "output_type": "stream",
       "stream": "stdout",
       "text": [
        "\n",
        "differentdesigns10"
       ]
      },
      {
       "output_type": "stream",
       "stream": "stdout",
       "text": [
        "\n",
        "JensBarn"
       ]
      },
      {
       "output_type": "stream",
       "stream": "stdout",
       "text": [
        "\n",
        "DAILEYSHOPPER"
       ]
      },
      {
       "output_type": "stream",
       "stream": "stdout",
       "text": [
        "\n",
        "nostalgishop"
       ]
      },
      {
       "output_type": "stream",
       "stream": "stdout",
       "text": [
        "\n",
        "kenkimpling"
       ]
      },
      {
       "output_type": "stream",
       "stream": "stdout",
       "text": [
        "\n",
        "NefariousLaboratory"
       ]
      },
      {
       "output_type": "stream",
       "stream": "stdout",
       "text": [
        "\n",
        "blueapplevintage"
       ]
      },
      {
       "output_type": "stream",
       "stream": "stdout",
       "text": [
        "\n",
        "justgivemepeace"
       ]
      },
      {
       "output_type": "stream",
       "stream": "stdout",
       "text": [
        "\n",
        "Zarahs"
       ]
      },
      {
       "output_type": "stream",
       "stream": "stdout",
       "text": [
        "\n",
        "AuntieAnnsEmphorium"
       ]
      },
      {
       "output_type": "stream",
       "stream": "stdout",
       "text": [
        "\n",
        "sssencesolutions"
       ]
      },
      {
       "output_type": "stream",
       "stream": "stdout",
       "text": [
        "\n",
        "SandysLeaf"
       ]
      },
      {
       "output_type": "stream",
       "stream": "stdout",
       "text": [
        "\n",
        "reclaimedhome"
       ]
      },
      {
       "output_type": "stream",
       "stream": "stdout",
       "text": [
        "\n",
        "UpcyclingCollections"
       ]
      },
      {
       "output_type": "stream",
       "stream": "stdout",
       "text": [
        "\n",
        "MaisonSteinbuchel"
       ]
      },
      {
       "output_type": "stream",
       "stream": "stdout",
       "text": [
        "\n",
        "revampedandrevived"
       ]
      },
      {
       "output_type": "stream",
       "stream": "stdout",
       "text": [
        "\n",
        "HouseHoldWords"
       ]
      },
      {
       "output_type": "stream",
       "stream": "stdout",
       "text": [
        "\n",
        "auctionannie"
       ]
      },
      {
       "output_type": "stream",
       "stream": "stdout",
       "text": [
        "\n",
        "csforevervintage"
       ]
      },
      {
       "output_type": "stream",
       "stream": "stdout",
       "text": [
        "\n",
        "radishka"
       ]
      },
      {
       "output_type": "stream",
       "stream": "stdout",
       "text": [
        "\n",
        "MainlyCharts"
       ]
      },
      {
       "output_type": "stream",
       "stream": "stdout",
       "text": [
        "\n",
        "doorknobdesigns"
       ]
      },
      {
       "output_type": "stream",
       "stream": "stdout",
       "text": [
        "\n",
        "OldBox"
       ]
      },
      {
       "output_type": "stream",
       "stream": "stdout",
       "text": [
        "\n",
        "SawdustGideon"
       ]
      },
      {
       "output_type": "stream",
       "stream": "stdout",
       "text": [
        "\n",
        "LongAgoVintage"
       ]
      },
      {
       "output_type": "stream",
       "stream": "stdout",
       "text": [
        "\n",
        "linsvintage"
       ]
      },
      {
       "output_type": "stream",
       "stream": "stdout",
       "text": [
        "\n",
        "WaveSong"
       ]
      },
      {
       "output_type": "stream",
       "stream": "stdout",
       "text": [
        "\n",
        "LaCroixRosion"
       ]
      },
      {
       "output_type": "stream",
       "stream": "stdout",
       "text": [
        "\n",
        "Dutchiez"
       ]
      },
      {
       "output_type": "stream",
       "stream": "stdout",
       "text": [
        "\n",
        "VintageFlaunts"
       ]
      },
      {
       "output_type": "stream",
       "stream": "stdout",
       "text": [
        "\n",
        "SadiesToys"
       ]
      },
      {
       "output_type": "stream",
       "stream": "stdout",
       "text": [
        "\n",
        "Imperfetions"
       ]
      },
      {
       "output_type": "stream",
       "stream": "stdout",
       "text": [
        "\n",
        "RepurposedRelicsTX"
       ]
      },
      {
       "output_type": "stream",
       "stream": "stdout",
       "text": [
        "\n",
        "Stigerstuff"
       ]
      },
      {
       "output_type": "stream",
       "stream": "stdout",
       "text": [
        "\n",
        "AliciaBeam"
       ]
      },
      {
       "output_type": "stream",
       "stream": "stdout",
       "text": [
        "\n",
        "SunPorchOnLilacLane"
       ]
      },
      {
       "output_type": "stream",
       "stream": "stdout",
       "text": [
        "\n",
        "PlumCreekPatterns"
       ]
      },
      {
       "output_type": "stream",
       "stream": "stdout",
       "text": [
        "\n",
        "thepetitemarket"
       ]
      },
      {
       "output_type": "stream",
       "stream": "stdout",
       "text": [
        "\n",
        "Rustic0517"
       ]
      },
      {
       "output_type": "stream",
       "stream": "stdout",
       "text": [
        "\n",
        "Ukrainevintage"
       ]
      },
      {
       "output_type": "stream",
       "stream": "stdout",
       "text": [
        "\n",
        "okanaganvintage"
       ]
      },
      {
       "output_type": "stream",
       "stream": "stdout",
       "text": [
        "\n",
        "VivandLil"
       ]
      },
      {
       "output_type": "stream",
       "stream": "stdout",
       "text": [
        "\n",
        "BlairsHouseofVintage"
       ]
      },
      {
       "output_type": "stream",
       "stream": "stdout",
       "text": [
        "\n",
        "OldFangledFinds"
       ]
      },
      {
       "output_type": "stream",
       "stream": "stdout",
       "text": [
        "\n",
        "TheAviaryCreations"
       ]
      },
      {
       "output_type": "stream",
       "stream": "stdout",
       "text": [
        "\n",
        "FoundButNeverLost"
       ]
      },
      {
       "output_type": "stream",
       "stream": "stdout",
       "text": [
        "\n",
        "ancienesthetique"
       ]
      },
      {
       "output_type": "stream",
       "stream": "stdout",
       "text": [
        "\n",
        "EmeraldCityPhotos"
       ]
      },
      {
       "output_type": "stream",
       "stream": "stdout",
       "text": [
        "\n",
        "VintageHomeTouches"
       ]
      },
      {
       "output_type": "stream",
       "stream": "stdout",
       "text": [
        "\n",
        "FujiDoorKnobCovers"
       ]
      },
      {
       "output_type": "stream",
       "stream": "stdout",
       "text": [
        "\n",
        "JuteHome"
       ]
      },
      {
       "output_type": "stream",
       "stream": "stdout",
       "text": [
        "\n",
        "FoundinUSSR"
       ]
      },
      {
       "output_type": "stream",
       "stream": "stdout",
       "text": [
        "\n",
        "NaomisTinTreasures"
       ]
      },
      {
       "output_type": "stream",
       "stream": "stdout",
       "text": [
        "\n",
        "knobologie"
       ]
      },
      {
       "output_type": "stream",
       "stream": "stdout",
       "text": [
        "\n",
        "LivSpirations"
       ]
      },
      {
       "output_type": "stream",
       "stream": "stdout",
       "text": [
        "\n",
        "ArellaBaby"
       ]
      },
      {
       "output_type": "stream",
       "stream": "stdout",
       "text": [
        "\n",
        "TheLuckyFindsupply"
       ]
      },
      {
       "output_type": "stream",
       "stream": "stdout",
       "text": [
        "\n",
        "PullmanHR"
       ]
      },
      {
       "output_type": "stream",
       "stream": "stdout",
       "text": [
        "\n",
        "serpentsdelight"
       ]
      },
      {
       "output_type": "stream",
       "stream": "stdout",
       "text": [
        "\n",
        "trymysupplies"
       ]
      },
      {
       "output_type": "stream",
       "stream": "stdout",
       "text": [
        "\n",
        "curioscity"
       ]
      },
      {
       "output_type": "stream",
       "stream": "stdout",
       "text": [
        "\n",
        "RusticSpoonful"
       ]
      },
      {
       "output_type": "stream",
       "stream": "stdout",
       "text": [
        "\n",
        "L2Gcraftsalot"
       ]
      },
      {
       "output_type": "stream",
       "stream": "stdout",
       "text": [
        "\n",
        "farmfunk"
       ]
      },
      {
       "output_type": "stream",
       "stream": "stdout",
       "text": [
        "\n",
        "WesternKyRustic"
       ]
      },
      {
       "output_type": "stream",
       "stream": "stdout",
       "text": [
        "\n",
        "CREATIONSbySabine"
       ]
      },
      {
       "output_type": "stream",
       "stream": "stdout",
       "text": [
        "\n",
        "vintageUSSR777"
       ]
      },
      {
       "output_type": "stream",
       "stream": "stdout",
       "text": [
        "\n",
        "TheSentimentalShop"
       ]
      },
      {
       "output_type": "stream",
       "stream": "stdout",
       "text": [
        "\n",
        "DoorsByRoss"
       ]
      },
      {
       "output_type": "stream",
       "stream": "stdout",
       "text": [
        "\n",
        "silversnow13"
       ]
      },
      {
       "output_type": "stream",
       "stream": "stdout",
       "text": [
        "\n",
        "VintageHand"
       ]
      },
      {
       "output_type": "stream",
       "stream": "stdout",
       "text": [
        "\n",
        "RushCreekVintage"
       ]
      },
      {
       "output_type": "stream",
       "stream": "stdout",
       "text": [
        "\n",
        "HooksAndHardware"
       ]
      },
      {
       "output_type": "stream",
       "stream": "stdout",
       "text": [
        "\n",
        "ChickenLittleToo"
       ]
      },
      {
       "output_type": "stream",
       "stream": "stdout",
       "text": [
        "\n",
        "DejaNueLLC"
       ]
      },
      {
       "output_type": "stream",
       "stream": "stdout",
       "text": [
        "\n",
        "assetcrafts"
       ]
      },
      {
       "output_type": "stream",
       "stream": "stdout",
       "text": [
        "\n",
        "4allseasons"
       ]
      },
      {
       "output_type": "stream",
       "stream": "stdout",
       "text": [
        "\n",
        "OWSvintage"
       ]
      },
      {
       "output_type": "stream",
       "stream": "stdout",
       "text": [
        "\n",
        "Barefootpeddler"
       ]
      },
      {
       "output_type": "stream",
       "stream": "stdout",
       "text": [
        "\n",
        "SaltysPirateDen"
       ]
      },
      {
       "output_type": "stream",
       "stream": "stdout",
       "text": [
        "\n",
        "EdgingtonFineArt"
       ]
      },
      {
       "output_type": "stream",
       "stream": "stdout",
       "text": [
        "\n",
        "24northmain"
       ]
      },
      {
       "output_type": "stream",
       "stream": "stdout",
       "text": [
        "\n",
        "RedArrowSalvage"
       ]
      },
      {
       "output_type": "stream",
       "stream": "stdout",
       "text": [
        "\n",
        "Funktini"
       ]
      },
      {
       "output_type": "stream",
       "stream": "stdout",
       "text": [
        "\n",
        "SewFrazzledThreads"
       ]
      },
      {
       "output_type": "stream",
       "stream": "stdout",
       "text": [
        "\n",
        "Birdycoconut"
       ]
      },
      {
       "output_type": "stream",
       "stream": "stdout",
       "text": [
        "\n",
        "ShopOLatte"
       ]
      },
      {
       "output_type": "stream",
       "stream": "stdout",
       "text": [
        "\n",
        "OldFoundTreasures"
       ]
      },
      {
       "output_type": "stream",
       "stream": "stdout",
       "text": [
        "\n",
        "OrientalBazar"
       ]
      },
      {
       "output_type": "stream",
       "stream": "stdout",
       "text": [
        "\n",
        "dccreations1"
       ]
      },
      {
       "output_type": "stream",
       "stream": "stdout",
       "text": [
        "\n",
        "SGTSRecyclingInc"
       ]
      },
      {
       "output_type": "stream",
       "stream": "stdout",
       "text": [
        "\n",
        "HandandHookCrochet"
       ]
      },
      {
       "output_type": "stream",
       "stream": "stdout",
       "text": [
        "\n",
        "iamdiro"
       ]
      },
      {
       "output_type": "stream",
       "stream": "stdout",
       "text": [
        "\n",
        "vintagediversion"
       ]
      },
      {
       "output_type": "stream",
       "stream": "stdout",
       "text": [
        "\n",
        "ChrisUngaro"
       ]
      },
      {
       "output_type": "stream",
       "stream": "stdout",
       "text": [
        "\n",
        "ohiopicker"
       ]
      },
      {
       "output_type": "stream",
       "stream": "stdout",
       "text": [
        "\n",
        "RustyCurios"
       ]
      },
      {
       "output_type": "stream",
       "stream": "stdout",
       "text": [
        "\n",
        "VintageTreasuresRus"
       ]
      },
      {
       "output_type": "stream",
       "stream": "stdout",
       "text": [
        "\n",
        "Louisianaminis"
       ]
      },
      {
       "output_type": "stream",
       "stream": "stdout",
       "text": [
        "\n",
        "LaPolena"
       ]
      },
      {
       "output_type": "stream",
       "stream": "stdout",
       "text": [
        "\n",
        "woodupnorth"
       ]
      },
      {
       "output_type": "stream",
       "stream": "stdout",
       "text": [
        "\n",
        "ElizabethanFolkArt"
       ]
      },
      {
       "output_type": "stream",
       "stream": "stdout",
       "text": [
        "\n",
        "MewAndMew"
       ]
      },
      {
       "output_type": "stream",
       "stream": "stdout",
       "text": [
        "\n",
        "myfairycraftmother"
       ]
      },
      {
       "output_type": "stream",
       "stream": "stdout",
       "text": [
        "\n",
        "HannahsAtticMt"
       ]
      },
      {
       "output_type": "stream",
       "stream": "stdout",
       "text": [
        "\n",
        "BelletreeVintage"
       ]
      },
      {
       "output_type": "stream",
       "stream": "stdout",
       "text": [
        "\n",
        "CELESTESCHALL"
       ]
      },
      {
       "output_type": "stream",
       "stream": "stdout",
       "text": [
        "\n",
        "CollectiveVision"
       ]
      },
      {
       "output_type": "stream",
       "stream": "stdout",
       "text": [
        "\n",
        "MayBliss"
       ]
      },
      {
       "output_type": "stream",
       "stream": "stdout",
       "text": [
        "\n",
        "SDRusticDecor"
       ]
      },
      {
       "output_type": "stream",
       "stream": "stdout",
       "text": [
        "\n",
        "NAESBARGAINBASEMENT"
       ]
      },
      {
       "output_type": "stream",
       "stream": "stdout",
       "text": [
        "\n",
        "ChloesClutter"
       ]
      },
      {
       "output_type": "stream",
       "stream": "stdout",
       "text": [
        "\n",
        "pixelmarket"
       ]
      },
      {
       "output_type": "stream",
       "stream": "stdout",
       "text": [
        "\n",
        "SoYesterdaySoCool"
       ]
      },
      {
       "output_type": "stream",
       "stream": "stdout",
       "text": [
        "\n",
        "findergirls"
       ]
      },
      {
       "output_type": "stream",
       "stream": "stdout",
       "text": [
        "\n",
        "FabFindsGentlerTimes"
       ]
      },
      {
       "output_type": "stream",
       "stream": "stdout",
       "text": [
        "\n",
        "JasysVintageFinds"
       ]
      },
      {
       "output_type": "stream",
       "stream": "stdout",
       "text": [
        "\n",
        "antiquissimo"
       ]
      },
      {
       "output_type": "stream",
       "stream": "stdout",
       "text": [
        "\n",
        "retrievevintage"
       ]
      },
      {
       "output_type": "stream",
       "stream": "stdout",
       "text": [
        "\n",
        "DerBayzVintage"
       ]
      },
      {
       "output_type": "stream",
       "stream": "stdout",
       "text": [
        "\n",
        "BrittsDiverseStyle"
       ]
      },
      {
       "output_type": "stream",
       "stream": "stdout",
       "text": [
        "\n",
        "DecojumeauAntiques"
       ]
      },
      {
       "output_type": "stream",
       "stream": "stdout",
       "text": [
        "\n",
        "LaurenAnnaLei"
       ]
      },
      {
       "output_type": "stream",
       "stream": "stdout",
       "text": [
        "\n",
        "SomedayViolet"
       ]
      },
      {
       "output_type": "stream",
       "stream": "stdout",
       "text": [
        "\n",
        "Linsvintageboutique"
       ]
      },
      {
       "output_type": "stream",
       "stream": "stdout",
       "text": [
        "\n",
        "StarfishCollectibles"
       ]
      },
      {
       "output_type": "stream",
       "stream": "stdout",
       "text": [
        "\n",
        "RyensMarketplace"
       ]
      },
      {
       "output_type": "stream",
       "stream": "stdout",
       "text": [
        "\n",
        "MadeWithLoveByAshley"
       ]
      },
      {
       "output_type": "stream",
       "stream": "stdout",
       "text": [
        "\n",
        "GespenstsFantasyGear"
       ]
      },
      {
       "output_type": "stream",
       "stream": "stdout",
       "text": [
        "\n",
        "Yesterdazetoday"
       ]
      },
      {
       "output_type": "stream",
       "stream": "stdout",
       "text": [
        "\n",
        "TizaVintage"
       ]
      },
      {
       "output_type": "stream",
       "stream": "stdout",
       "text": [
        "\n",
        "AutumnsRose"
       ]
      },
      {
       "output_type": "stream",
       "stream": "stdout",
       "text": [
        "\n",
        "sansli"
       ]
      },
      {
       "output_type": "stream",
       "stream": "stdout",
       "text": [
        "\n",
        "ErleneGarciaArt"
       ]
      },
      {
       "output_type": "stream",
       "stream": "stdout",
       "text": [
        "\n",
        "FILCA"
       ]
      },
      {
       "output_type": "stream",
       "stream": "stdout",
       "text": [
        "\n",
        "SweetPeaEtc"
       ]
      },
      {
       "output_type": "stream",
       "stream": "stdout",
       "text": [
        "\n",
        "HeartSmileFarms"
       ]
      },
      {
       "output_type": "stream",
       "stream": "stdout",
       "text": [
        "\n",
        "thekeyofa"
       ]
      },
      {
       "output_type": "stream",
       "stream": "stdout",
       "text": [
        "\n",
        "JLMPHOTOGRAPHS"
       ]
      },
      {
       "output_type": "stream",
       "stream": "stdout",
       "text": [
        "\n",
        "chocolatecreative"
       ]
      },
      {
       "output_type": "stream",
       "stream": "stdout",
       "text": [
        "\n",
        "dabubblegumgirl"
       ]
      },
      {
       "output_type": "stream",
       "stream": "stdout",
       "text": [
        "\n",
        "rustybuttonstudio"
       ]
      },
      {
       "output_type": "stream",
       "stream": "stdout",
       "text": [
        "\n",
        "mkmack"
       ]
      },
      {
       "output_type": "stream",
       "stream": "stdout",
       "text": [
        "\n",
        "Endsandoddoties"
       ]
      },
      {
       "output_type": "stream",
       "stream": "stdout",
       "text": [
        "\n",
        "ItsWrittenOnTheWall"
       ]
      },
      {
       "output_type": "stream",
       "stream": "stdout",
       "text": [
        "\n",
        "europeanlighting"
       ]
      },
      {
       "output_type": "stream",
       "stream": "stdout",
       "text": [
        "\n",
        "SFKvintage"
       ]
      },
      {
       "output_type": "stream",
       "stream": "stdout",
       "text": [
        "\n",
        "JetsamAndJuniper"
       ]
      },
      {
       "output_type": "stream",
       "stream": "stdout",
       "text": [
        "\n",
        "HunterandHubble"
       ]
      },
      {
       "output_type": "stream",
       "stream": "stdout",
       "text": [
        "\n",
        "ShopCremeVintage"
       ]
      },
      {
       "output_type": "stream",
       "stream": "stdout",
       "text": [
        "\n",
        "heartfeltgiver"
       ]
      },
      {
       "output_type": "stream",
       "stream": "stdout",
       "text": [
        "\n",
        "toysfrom70s"
       ]
      },
      {
       "output_type": "stream",
       "stream": "stdout",
       "text": [
        "\n",
        "BranchBellDesigns"
       ]
      },
      {
       "output_type": "stream",
       "stream": "stdout",
       "text": [
        "\n",
        "OrphanedTreasure"
       ]
      },
      {
       "output_type": "stream",
       "stream": "stdout",
       "text": [
        "\n",
        "AnniesPillowEmporium"
       ]
      },
      {
       "output_type": "stream",
       "stream": "stdout",
       "text": [
        "\n",
        "RetroSaffer"
       ]
      },
      {
       "output_type": "stream",
       "stream": "stdout",
       "text": [
        "\n",
        "LovedByTheBuffalo"
       ]
      },
      {
       "output_type": "stream",
       "stream": "stdout",
       "text": [
        "\n",
        "LifeQuest"
       ]
      },
      {
       "output_type": "stream",
       "stream": "stdout",
       "text": [
        "\n",
        "JunkDrawerAndMore"
       ]
      },
      {
       "output_type": "stream",
       "stream": "stdout",
       "text": [
        "\n",
        "ManciniVintage"
       ]
      },
      {
       "output_type": "stream",
       "stream": "stdout",
       "text": [
        "\n",
        "LongSince"
       ]
      },
      {
       "output_type": "stream",
       "stream": "stdout",
       "text": [
        "\n",
        "vintagehelper"
       ]
      },
      {
       "output_type": "stream",
       "stream": "stdout",
       "text": [
        "\n",
        "Volkskid"
       ]
      },
      {
       "output_type": "stream",
       "stream": "stdout",
       "text": [
        "\n",
        "Auntdelta"
       ]
      },
      {
       "output_type": "stream",
       "stream": "stdout",
       "text": [
        "\n",
        "RescuedObjects"
       ]
      },
      {
       "output_type": "stream",
       "stream": "stdout",
       "text": [
        "\n",
        "ValsVintageShoppe"
       ]
      },
      {
       "output_type": "stream",
       "stream": "stdout",
       "text": [
        "\n",
        "Malama1"
       ]
      },
      {
       "output_type": "stream",
       "stream": "stdout",
       "text": [
        "\n",
        "JKnoxDesigns"
       ]
      },
      {
       "output_type": "stream",
       "stream": "stdout",
       "text": [
        "\n",
        "rustshop"
       ]
      },
      {
       "output_type": "stream",
       "stream": "stdout",
       "text": [
        "\n",
        "SteampunkBlacksheep"
       ]
      },
      {
       "output_type": "stream",
       "stream": "stdout",
       "text": [
        "\n",
        "dizhasneatstuff"
       ]
      },
      {
       "output_type": "stream",
       "stream": "stdout",
       "text": [
        "\n",
        "JavaJaneDesigns"
       ]
      },
      {
       "output_type": "stream",
       "stream": "stdout",
       "text": [
        "\n",
        "JunctionARow"
       ]
      },
      {
       "output_type": "stream",
       "stream": "stdout",
       "text": [
        "\n",
        "VintageCreekside"
       ]
      },
      {
       "output_type": "stream",
       "stream": "stdout",
       "text": [
        "\n",
        "ChicCollective"
       ]
      },
      {
       "output_type": "stream",
       "stream": "stdout",
       "text": [
        "\n",
        "AtelierGrada"
       ]
      },
      {
       "output_type": "stream",
       "stream": "stdout",
       "text": [
        "\n",
        "RusticAmerican1"
       ]
      },
      {
       "output_type": "stream",
       "stream": "stdout",
       "text": [
        "\n",
        "NorthSouthSalvage"
       ]
      },
      {
       "output_type": "stream",
       "stream": "stdout",
       "text": [
        "\n",
        "WooHooCuties"
       ]
      },
      {
       "output_type": "stream",
       "stream": "stdout",
       "text": [
        "\n",
        "RedeemedFinds"
       ]
      },
      {
       "output_type": "stream",
       "stream": "stdout",
       "text": [
        "\n",
        "RedStarVintage"
       ]
      },
      {
       "output_type": "stream",
       "stream": "stdout",
       "text": [
        "\n",
        "VintageSwag101"
       ]
      },
      {
       "output_type": "stream",
       "stream": "stdout",
       "text": [
        "\n",
        "terrisvintageshop"
       ]
      },
      {
       "output_type": "stream",
       "stream": "stdout",
       "text": [
        "\n",
        "Woodsoffoster"
       ]
      },
      {
       "output_type": "stream",
       "stream": "stdout",
       "text": [
        "\n",
        "Decortiques"
       ]
      },
      {
       "output_type": "stream",
       "stream": "stdout",
       "text": [
        "\n",
        "AikenKraft"
       ]
      },
      {
       "output_type": "stream",
       "stream": "stdout",
       "text": [
        "\n",
        "RhymeswithDaughter"
       ]
      },
      {
       "output_type": "stream",
       "stream": "stdout",
       "text": [
        "\n",
        "SalvageRelics"
       ]
      },
      {
       "output_type": "stream",
       "stream": "stdout",
       "text": [
        "\n",
        "MoreLooseEnds"
       ]
      },
      {
       "output_type": "stream",
       "stream": "stdout",
       "text": [
        "\n",
        "DashofFlair"
       ]
      },
      {
       "output_type": "stream",
       "stream": "stdout",
       "text": [
        "\n",
        "MuchLovedTreasures"
       ]
      },
      {
       "output_type": "stream",
       "stream": "stdout",
       "text": [
        "\n",
        "zkDesigns02"
       ]
      },
      {
       "output_type": "stream",
       "stream": "stdout",
       "text": [
        "\n",
        "QuietBendCreations"
       ]
      },
      {
       "output_type": "stream",
       "stream": "stdout",
       "text": [
        "\n",
        "SusanCarberryDesigns"
       ]
      },
      {
       "output_type": "stream",
       "stream": "stdout",
       "text": [
        "\n",
        "VintageAndVictorian"
       ]
      },
      {
       "output_type": "stream",
       "stream": "stdout",
       "text": [
        "\n",
        "RusticBoardwalk"
       ]
      },
      {
       "output_type": "stream",
       "stream": "stdout",
       "text": [
        "\n",
        "BELLASVINTAGECHIC"
       ]
      },
      {
       "output_type": "stream",
       "stream": "stdout",
       "text": [
        "\n",
        "DixieDownHome"
       ]
      },
      {
       "output_type": "stream",
       "stream": "stdout",
       "text": [
        "\n",
        "ColoradoBackRoads"
       ]
      },
      {
       "output_type": "stream",
       "stream": "stdout",
       "text": [
        "\n",
        "Woodsenses"
       ]
      },
      {
       "output_type": "stream",
       "stream": "stdout",
       "text": [
        "\n",
        "PaintedTurtleStudio"
       ]
      },
      {
       "output_type": "stream",
       "stream": "stdout",
       "text": [
        "\n",
        "MINIHAPPYLV"
       ]
      },
      {
       "output_type": "stream",
       "stream": "stdout",
       "text": [
        "\n",
        "FrenchVintage4You"
       ]
      },
      {
       "output_type": "stream",
       "stream": "stdout",
       "text": [
        "\n",
        "krazycrochet"
       ]
      },
      {
       "output_type": "stream",
       "stream": "stdout",
       "text": [
        "\n",
        "CountryMini"
       ]
      },
      {
       "output_type": "stream",
       "stream": "stdout",
       "text": [
        "\n",
        "ArtsofBrass"
       ]
      },
      {
       "output_type": "stream",
       "stream": "stdout",
       "text": [
        "\n",
        "jaczko2"
       ]
      },
      {
       "output_type": "stream",
       "stream": "stdout",
       "text": [
        "\n",
        "nanaandcompany"
       ]
      },
      {
       "output_type": "stream",
       "stream": "stdout",
       "text": [
        "\n",
        "pepeandcarols"
       ]
      },
      {
       "output_type": "stream",
       "stream": "stdout",
       "text": [
        "\n",
        "MyMothersMadAttic"
       ]
      },
      {
       "output_type": "stream",
       "stream": "stdout",
       "text": [
        "\n",
        "QuiltingThings"
       ]
      },
      {
       "output_type": "stream",
       "stream": "stdout",
       "text": [
        "\n",
        "maimiesmerchantile"
       ]
      },
      {
       "output_type": "stream",
       "stream": "stdout",
       "text": [
        "\n",
        "kmadson"
       ]
      },
      {
       "output_type": "stream",
       "stream": "stdout",
       "text": [
        "\n",
        "MeanderingDesign"
       ]
      },
      {
       "output_type": "stream",
       "stream": "stdout",
       "text": [
        "\n",
        "vintagehillbillies"
       ]
      },
      {
       "output_type": "stream",
       "stream": "stdout",
       "text": [
        "\n",
        "BeachViewAttic"
       ]
      },
      {
       "output_type": "stream",
       "stream": "stdout",
       "text": [
        "\n",
        "OldMossyTreasures"
       ]
      },
      {
       "output_type": "stream",
       "stream": "stdout",
       "text": [
        "\n",
        "AnnelisaSewingCircle"
       ]
      },
      {
       "output_type": "stream",
       "stream": "stdout",
       "text": [
        "\n",
        "SunriseSunsetVintage"
       ]
      },
      {
       "output_type": "stream",
       "stream": "stdout",
       "text": [
        "\n",
        "emmteecreations"
       ]
      },
      {
       "output_type": "stream",
       "stream": "stdout",
       "text": [
        "\n",
        "RajasthanMarket"
       ]
      },
      {
       "output_type": "stream",
       "stream": "stdout",
       "text": [
        "\n",
        "VANDERSYS"
       ]
      },
      {
       "output_type": "stream",
       "stream": "stdout",
       "text": [
        "\n",
        "NJSimages"
       ]
      },
      {
       "output_type": "stream",
       "stream": "stdout",
       "text": [
        "\n",
        "SimplyChina"
       ]
      },
      {
       "output_type": "stream",
       "stream": "stdout",
       "text": [
        "\n",
        "pamsantiques"
       ]
      },
      {
       "output_type": "stream",
       "stream": "stdout",
       "text": [
        "\n",
        "3sisterstreasures"
       ]
      },
      {
       "output_type": "stream",
       "stream": "stdout",
       "text": [
        "\n",
        "willowpaige"
       ]
      },
      {
       "output_type": "stream",
       "stream": "stdout",
       "text": [
        "\n",
        "YouLoveItToo"
       ]
      },
      {
       "output_type": "stream",
       "stream": "stdout",
       "text": [
        "\n",
        "MiaCristi"
       ]
      },
      {
       "output_type": "stream",
       "stream": "stdout",
       "text": [
        "\n",
        "VickiesVintageHome"
       ]
      },
      {
       "output_type": "stream",
       "stream": "stdout",
       "text": [
        "\n",
        "OzarkJunkShop"
       ]
      },
      {
       "output_type": "stream",
       "stream": "stdout",
       "text": [
        "\n",
        "creationmoodmarias"
       ]
      },
      {
       "output_type": "stream",
       "stream": "stdout",
       "text": [
        "\n",
        "DsTrove"
       ]
      },
      {
       "output_type": "stream",
       "stream": "stdout",
       "text": [
        "\n",
        "AngieFoundit4U"
       ]
      },
      {
       "output_type": "stream",
       "stream": "stdout",
       "text": [
        "\n",
        "redposie"
       ]
      },
      {
       "output_type": "stream",
       "stream": "stdout",
       "text": [
        "\n",
        "TodSmithArtsandToys"
       ]
      },
      {
       "output_type": "stream",
       "stream": "stdout",
       "text": [
        "\n",
        "thelongacreflea"
       ]
      },
      {
       "output_type": "stream",
       "stream": "stdout",
       "text": [
        "\n",
        "patternpeddlerannex"
       ]
      },
      {
       "output_type": "stream",
       "stream": "stdout",
       "text": [
        "\n",
        "wilshepherd"
       ]
      },
      {
       "output_type": "stream",
       "stream": "stdout",
       "text": [
        "\n",
        "edsfinds"
       ]
      },
      {
       "output_type": "stream",
       "stream": "stdout",
       "text": [
        "\n",
        "VintageTinsel"
       ]
      },
      {
       "output_type": "stream",
       "stream": "stdout",
       "text": [
        "\n",
        "StardustFinds"
       ]
      },
      {
       "output_type": "stream",
       "stream": "stdout",
       "text": [
        "\n",
        "gasman201"
       ]
      },
      {
       "output_type": "stream",
       "stream": "stdout",
       "text": [
        "\n",
        "umbrellafant"
       ]
      },
      {
       "output_type": "stream",
       "stream": "stdout",
       "text": [
        "\n",
        "VintageCollectionUA"
       ]
      },
      {
       "output_type": "stream",
       "stream": "stdout",
       "text": [
        "\n",
        "GlitteryUnicorns"
       ]
      },
      {
       "output_type": "stream",
       "stream": "stdout",
       "text": [
        "\n",
        "Oldetymememories"
       ]
      },
      {
       "output_type": "stream",
       "stream": "stdout",
       "text": [
        "\n",
        "kathyscraftroom55"
       ]
      },
      {
       "output_type": "stream",
       "stream": "stdout",
       "text": [
        "\n",
        "kennedyjanice"
       ]
      },
      {
       "output_type": "stream",
       "stream": "stdout",
       "text": [
        "\n",
        "SHubbShop"
       ]
      },
      {
       "output_type": "stream",
       "stream": "stdout",
       "text": [
        "\n",
        "thesummerplace"
       ]
      },
      {
       "output_type": "stream",
       "stream": "stdout",
       "text": [
        "\n",
        "funfindingsforsale"
       ]
      },
      {
       "output_type": "stream",
       "stream": "stdout",
       "text": [
        "\n",
        "therhubarbstudio"
       ]
      },
      {
       "output_type": "stream",
       "stream": "stdout",
       "text": [
        "\n",
        "auctionjunkies"
       ]
      },
      {
       "output_type": "stream",
       "stream": "stdout",
       "text": [
        "\n",
        "SophieLadyDeParis"
       ]
      },
      {
       "output_type": "stream",
       "stream": "stdout",
       "text": [
        "\n",
        "SheSheStitches"
       ]
      },
      {
       "output_type": "stream",
       "stream": "stdout",
       "text": [
        "\n",
        "FunkyButter"
       ]
      },
      {
       "output_type": "stream",
       "stream": "stdout",
       "text": [
        "\n",
        "HMCTreasures"
       ]
      },
      {
       "output_type": "stream",
       "stream": "stdout",
       "text": [
        "\n",
        "TimelezVintage"
       ]
      },
      {
       "output_type": "stream",
       "stream": "stdout",
       "text": [
        "\n",
        "bartonwood"
       ]
      },
      {
       "output_type": "stream",
       "stream": "stdout",
       "text": [
        "\n",
        "ShemawsStuff"
       ]
      },
      {
       "output_type": "stream",
       "stream": "stdout",
       "text": [
        "\n",
        "fAverittecreations"
       ]
      },
      {
       "output_type": "stream",
       "stream": "stdout",
       "text": [
        "\n",
        "PetiteMichelleLouise"
       ]
      },
      {
       "output_type": "stream",
       "stream": "stdout",
       "text": [
        "\n",
        "vintageatmosphere"
       ]
      },
      {
       "output_type": "stream",
       "stream": "stdout",
       "text": [
        "\n",
        "cybersenora"
       ]
      },
      {
       "output_type": "stream",
       "stream": "stdout",
       "text": [
        "\n",
        "ArchelausRecyclers"
       ]
      },
      {
       "output_type": "stream",
       "stream": "stdout",
       "text": [
        "\n",
        "PageScrappers"
       ]
      },
      {
       "output_type": "stream",
       "stream": "stdout",
       "text": [
        "\n",
        "PhloxRiverStudio"
       ]
      },
      {
       "output_type": "stream",
       "stream": "stdout",
       "text": [
        "\n",
        "DawgDayCrafting"
       ]
      },
      {
       "output_type": "stream",
       "stream": "stdout",
       "text": [
        "\n",
        "HaberdasheryLtd"
       ]
      },
      {
       "output_type": "stream",
       "stream": "stdout",
       "text": [
        "\n",
        "prestonbrowning"
       ]
      },
      {
       "output_type": "stream",
       "stream": "stdout",
       "text": [
        "\n",
        "HauteAppeal"
       ]
      },
      {
       "output_type": "stream",
       "stream": "stdout",
       "text": [
        "\n",
        "greilstreasures"
       ]
      },
      {
       "output_type": "stream",
       "stream": "stdout",
       "text": [
        "\n",
        "Annickantiques"
       ]
      },
      {
       "output_type": "stream",
       "stream": "stdout",
       "text": [
        "\n",
        "CasaKarmaDecor"
       ]
      },
      {
       "output_type": "stream",
       "stream": "stdout",
       "text": [
        "\n",
        "aylasantiques"
       ]
      },
      {
       "output_type": "stream",
       "stream": "stdout",
       "text": [
        "\n",
        "dkgeneralstore"
       ]
      },
      {
       "output_type": "stream",
       "stream": "stdout",
       "text": [
        "\n",
        "cabinetocurios"
       ]
      },
      {
       "output_type": "stream",
       "stream": "stdout",
       "text": [
        "\n",
        "OkayFineVintage"
       ]
      },
      {
       "output_type": "stream",
       "stream": "stdout",
       "text": [
        "\n",
        "DSmithWoodcraft"
       ]
      },
      {
       "output_type": "stream",
       "stream": "stdout",
       "text": [
        "\n",
        "VintageAccentsStudio"
       ]
      },
      {
       "output_type": "stream",
       "stream": "stdout",
       "text": [
        "\n",
        "GracefulOfferings"
       ]
      },
      {
       "output_type": "stream",
       "stream": "stdout",
       "text": [
        "\n",
        "KeyportHoneyHole"
       ]
      },
      {
       "output_type": "stream",
       "stream": "stdout",
       "text": [
        "\n",
        "jessicareisspix"
       ]
      },
      {
       "output_type": "stream",
       "stream": "stdout",
       "text": [
        "\n",
        "jupjdown"
       ]
      },
      {
       "output_type": "stream",
       "stream": "stdout",
       "text": [
        "\n",
        "VintageJewelryBazaar"
       ]
      },
      {
       "output_type": "stream",
       "stream": "stdout",
       "text": [
        "\n",
        "kimladd"
       ]
      },
      {
       "output_type": "stream",
       "stream": "stdout",
       "text": [
        "\n",
        "RevivdesignSalvage"
       ]
      },
      {
       "output_type": "stream",
       "stream": "stdout",
       "text": [
        "\n",
        "MIVintageDeals"
       ]
      },
      {
       "output_type": "stream",
       "stream": "stdout",
       "text": [
        "\n",
        "PetoskeyTreasures"
       ]
      },
      {
       "output_type": "stream",
       "stream": "stdout",
       "text": [
        "\n",
        "OnceUpnTym"
       ]
      },
      {
       "output_type": "stream",
       "stream": "stdout",
       "text": [
        "\n",
        "RockIslandDesigns"
       ]
      },
      {
       "output_type": "stream",
       "stream": "stdout",
       "text": [
        "\n",
        "Vintivity"
       ]
      },
      {
       "output_type": "stream",
       "stream": "stdout",
       "text": [
        "\n",
        "lheurebleue"
       ]
      },
      {
       "output_type": "stream",
       "stream": "stdout",
       "text": [
        "\n",
        "TheEclecticInterior"
       ]
      },
      {
       "output_type": "stream",
       "stream": "stdout",
       "text": [
        "\n",
        "MyYiayiaHadThat"
       ]
      },
      {
       "output_type": "stream",
       "stream": "stdout",
       "text": [
        "\n",
        "CottonStateCreations"
       ]
      },
      {
       "output_type": "stream",
       "stream": "stdout",
       "text": [
        "\n",
        "grannysbackporchvint"
       ]
      },
      {
       "output_type": "stream",
       "stream": "stdout",
       "text": [
        "\n",
        "Abisfinds"
       ]
      },
      {
       "output_type": "stream",
       "stream": "stdout",
       "text": [
        "\n",
        "GrannyHannasCottage"
       ]
      },
      {
       "output_type": "stream",
       "stream": "stdout",
       "text": [
        "\n",
        "TeresasTreasuresEtc"
       ]
      },
      {
       "output_type": "stream",
       "stream": "stdout",
       "text": [
        "\n",
        "SycamoreVintage"
       ]
      },
      {
       "output_type": "stream",
       "stream": "stdout",
       "text": [
        "\n",
        "SweetTeaTreasures"
       ]
      },
      {
       "output_type": "stream",
       "stream": "stdout",
       "text": [
        "\n",
        "eFourLaser"
       ]
      },
      {
       "output_type": "stream",
       "stream": "stdout",
       "text": [
        "\n",
        "UpcountryDesign"
       ]
      },
      {
       "output_type": "stream",
       "stream": "stdout",
       "text": [
        "\n",
        "Homedecorandsuch"
       ]
      },
      {
       "output_type": "stream",
       "stream": "stdout",
       "text": [
        "\n",
        "RustyRelics1967"
       ]
      },
      {
       "output_type": "stream",
       "stream": "stdout",
       "text": [
        "\n",
        "MidCenturyShoppe"
       ]
      },
      {
       "output_type": "stream",
       "stream": "stdout",
       "text": [
        "\n",
        "ChicFrangine"
       ]
      },
      {
       "output_type": "stream",
       "stream": "stdout",
       "text": [
        "\n",
        "JillianAudreyDesigns"
       ]
      },
      {
       "output_type": "stream",
       "stream": "stdout",
       "text": [
        "\n",
        "izabelvintageshop"
       ]
      },
      {
       "output_type": "stream",
       "stream": "stdout",
       "text": [
        "\n",
        "DakineFinders"
       ]
      },
      {
       "output_type": "stream",
       "stream": "stdout",
       "text": [
        "\n",
        "RichmondGeneralStore"
       ]
      },
      {
       "output_type": "stream",
       "stream": "stdout",
       "text": [
        "\n",
        "PineSpringsCottage"
       ]
      },
      {
       "output_type": "stream",
       "stream": "stdout",
       "text": [
        "\n",
        "CapeFearCurbSide"
       ]
      },
      {
       "output_type": "stream",
       "stream": "stdout",
       "text": [
        "\n",
        "DreamingAlice"
       ]
      },
      {
       "output_type": "stream",
       "stream": "stdout",
       "text": [
        "\n",
        "LilyGraceInspired"
       ]
      },
      {
       "output_type": "stream",
       "stream": "stdout",
       "text": [
        "\n",
        "thekingsmistress"
       ]
      },
      {
       "output_type": "stream",
       "stream": "stdout",
       "text": [
        "\n",
        "AWordFitlySpoken"
       ]
      },
      {
       "output_type": "stream",
       "stream": "stdout",
       "text": [
        "\n",
        "PrettyPaulaProducts"
       ]
      },
      {
       "output_type": "stream",
       "stream": "stdout",
       "text": [
        "\n",
        "CraftingDaily"
       ]
      },
      {
       "output_type": "stream",
       "stream": "stdout",
       "text": [
        "\n",
        "ProvenceArtAntiques"
       ]
      },
      {
       "output_type": "stream",
       "stream": "stdout",
       "text": [
        "\n",
        "faciasmom"
       ]
      },
      {
       "output_type": "stream",
       "stream": "stdout",
       "text": [
        "\n",
        "Accent2"
       ]
      },
      {
       "output_type": "stream",
       "stream": "stdout",
       "text": [
        "\n",
        "pamperedcalico"
       ]
      },
      {
       "output_type": "stream",
       "stream": "stdout",
       "text": [
        "\n",
        "DesignedImperfection"
       ]
      },
      {
       "output_type": "stream",
       "stream": "stdout",
       "text": [
        "\n",
        "MScottPhotography"
       ]
      },
      {
       "output_type": "stream",
       "stream": "stdout",
       "text": [
        "\n",
        "ReVampedbyTheodore"
       ]
      },
      {
       "output_type": "stream",
       "stream": "stdout",
       "text": [
        "\n",
        "TBlaszczykAntiques"
       ]
      },
      {
       "output_type": "stream",
       "stream": "stdout",
       "text": [
        "\n",
        "VintageGalleryStores"
       ]
      },
      {
       "output_type": "stream",
       "stream": "stdout",
       "text": [
        "\n",
        "RetroChicbyDHokien"
       ]
      },
      {
       "output_type": "stream",
       "stream": "stdout",
       "text": [
        "\n",
        "ClockWinder"
       ]
      },
      {
       "output_type": "stream",
       "stream": "stdout",
       "text": [
        "\n",
        "ItsJustYouandMe"
       ]
      },
      {
       "output_type": "stream",
       "stream": "stdout",
       "text": [
        "\n",
        "BlackberryPrairie"
       ]
      },
      {
       "output_type": "stream",
       "stream": "stdout",
       "text": [
        "\n",
        "pastoria"
       ]
      },
      {
       "output_type": "stream",
       "stream": "stdout",
       "text": [
        "\n",
        "thepaintedpiggy"
       ]
      },
      {
       "output_type": "stream",
       "stream": "stdout",
       "text": [
        "\n",
        "LilyBugGardenStones"
       ]
      },
      {
       "output_type": "stream",
       "stream": "stdout",
       "text": [
        "\n",
        "SeacoastVintage"
       ]
      },
      {
       "output_type": "stream",
       "stream": "stdout",
       "text": [
        "\n",
        "skuefler"
       ]
      },
      {
       "output_type": "stream",
       "stream": "stdout",
       "text": [
        "\n",
        "Poppycbrilliant"
       ]
      },
      {
       "output_type": "stream",
       "stream": "stdout",
       "text": [
        "\n",
        "SYNCOPATEDCLOCK"
       ]
      },
      {
       "output_type": "stream",
       "stream": "stdout",
       "text": [
        "\n",
        "LincolnAveDesigns"
       ]
      },
      {
       "output_type": "stream",
       "stream": "stdout",
       "text": [
        "\n",
        "MillysAtticTreasures"
       ]
      },
      {
       "output_type": "stream",
       "stream": "stdout",
       "text": [
        "\n",
        "ChicksTreasures"
       ]
      },
      {
       "output_type": "stream",
       "stream": "stdout",
       "text": [
        "\n",
        "TheUniqueAntiqueShop"
       ]
      },
      {
       "output_type": "stream",
       "stream": "stdout",
       "text": [
        "\n",
        "CreationsbyDJ"
       ]
      },
      {
       "output_type": "stream",
       "stream": "stdout",
       "text": [
        "\n",
        "scarecrowcabin"
       ]
      },
      {
       "output_type": "stream",
       "stream": "stdout",
       "text": [
        "\n",
        "TheShabbyStore"
       ]
      },
      {
       "output_type": "stream",
       "stream": "stdout",
       "text": [
        "\n",
        "TheVintageArtProject"
       ]
      },
      {
       "output_type": "stream",
       "stream": "stdout",
       "text": [
        "\n",
        "CreekLifeTreasures"
       ]
      },
      {
       "output_type": "stream",
       "stream": "stdout",
       "text": [
        "\n",
        "sistersvintageattic"
       ]
      },
      {
       "output_type": "stream",
       "stream": "stdout",
       "text": [
        "\n",
        "ivegotahammer"
       ]
      },
      {
       "output_type": "stream",
       "stream": "stdout",
       "text": [
        "\n",
        "42ndAvenueVintage"
       ]
      },
      {
       "output_type": "stream",
       "stream": "stdout",
       "text": [
        "\n",
        "GirlsUniqueBoutique"
       ]
      },
      {
       "output_type": "stream",
       "stream": "stdout",
       "text": [
        "\n",
        "RUNNINGTIDE"
       ]
      },
      {
       "output_type": "stream",
       "stream": "stdout",
       "text": [
        "\n",
        "SewArtzy"
       ]
      },
      {
       "output_type": "stream",
       "stream": "stdout",
       "text": [
        "\n",
        "MidCenturyAmericana"
       ]
      },
      {
       "output_type": "stream",
       "stream": "stdout",
       "text": [
        "\n",
        "CarolsThreads"
       ]
      },
      {
       "output_type": "stream",
       "stream": "stdout",
       "text": [
        "\n",
        "Pascalene"
       ]
      },
      {
       "output_type": "stream",
       "stream": "stdout",
       "text": [
        "\n",
        "JLMDESIGNS3"
       ]
      },
      {
       "output_type": "stream",
       "stream": "stdout",
       "text": [
        "\n",
        "VintageByForgetMeNot"
       ]
      },
      {
       "output_type": "stream",
       "stream": "stdout",
       "text": [
        "\n",
        "CraftySara"
       ]
      },
      {
       "output_type": "stream",
       "stream": "stdout",
       "text": [
        "\n",
        "MidnightandMagnolias"
       ]
      },
      {
       "output_type": "stream",
       "stream": "stdout",
       "text": [
        "\n",
        "MarilynnTaylorDecor"
       ]
      },
      {
       "output_type": "stream",
       "stream": "stdout",
       "text": [
        "\n",
        "CraftsByCheryl"
       ]
      },
      {
       "output_type": "stream",
       "stream": "stdout",
       "text": [
        "\n",
        "JaanasVintageHome"
       ]
      },
      {
       "output_type": "stream",
       "stream": "stdout",
       "text": [
        "\n",
        "EnchantedRoseProduct"
       ]
      },
      {
       "output_type": "stream",
       "stream": "stdout",
       "text": [
        "\n",
        "Trashtiques"
       ]
      },
      {
       "output_type": "stream",
       "stream": "stdout",
       "text": [
        "\n",
        "LovelyAccent"
       ]
      },
      {
       "output_type": "stream",
       "stream": "stdout",
       "text": [
        "\n",
        "MissBettysAntiques"
       ]
      },
      {
       "output_type": "stream",
       "stream": "stdout",
       "text": [
        "\n",
        "Jrocreations"
       ]
      },
      {
       "output_type": "stream",
       "stream": "stdout",
       "text": [
        "\n",
        "VintageJunkInMyTrunk"
       ]
      },
      {
       "output_type": "stream",
       "stream": "stdout",
       "text": [
        "\n",
        "ReservedForRoyalty"
       ]
      },
      {
       "output_type": "stream",
       "stream": "stdout",
       "text": [
        "\n",
        "scrapology"
       ]
      },
      {
       "output_type": "stream",
       "stream": "stdout",
       "text": [
        "\n",
        "VintageWoodenShoe"
       ]
      },
      {
       "output_type": "stream",
       "stream": "stdout",
       "text": [
        "\n",
        "NostalgicHome"
       ]
      },
      {
       "output_type": "stream",
       "stream": "stdout",
       "text": [
        "\n",
        "SecondChanceSupplies"
       ]
      },
      {
       "output_type": "stream",
       "stream": "stdout",
       "text": [
        "\n",
        "RusticPrairieCottage"
       ]
      },
      {
       "output_type": "stream",
       "stream": "stdout",
       "text": [
        "\n",
        "mrsjabberjaw"
       ]
      },
      {
       "output_type": "stream",
       "stream": "stdout",
       "text": [
        "\n",
        "foundrevamp"
       ]
      },
      {
       "output_type": "stream",
       "stream": "stdout",
       "text": [
        "\n",
        "BrianWDesigns"
       ]
      },
      {
       "output_type": "stream",
       "stream": "stdout",
       "text": [
        "\n",
        "thewinterwood"
       ]
      },
      {
       "output_type": "stream",
       "stream": "stdout",
       "text": [
        "\n",
        "suzannetuzzeophotos"
       ]
      },
      {
       "output_type": "stream",
       "stream": "stdout",
       "text": [
        "\n",
        "KYPrimitives"
       ]
      },
      {
       "output_type": "stream",
       "stream": "stdout",
       "text": [
        "\n",
        "Happiness2day"
       ]
      },
      {
       "output_type": "stream",
       "stream": "stdout",
       "text": [
        "\n",
        "oldschoolvibes"
       ]
      },
      {
       "output_type": "stream",
       "stream": "stdout",
       "text": [
        "\n",
        "Myvints"
       ]
      },
      {
       "output_type": "stream",
       "stream": "stdout",
       "text": [
        "\n",
        "ZigZagDrive"
       ]
      },
      {
       "output_type": "stream",
       "stream": "stdout",
       "text": [
        "\n",
        "MadeinZena"
       ]
      },
      {
       "output_type": "stream",
       "stream": "stdout",
       "text": [
        "\n",
        "ConstantBaubling"
       ]
      },
      {
       "output_type": "stream",
       "stream": "stdout",
       "text": [
        "\n",
        "TwistedVictoria"
       ]
      },
      {
       "output_type": "stream",
       "stream": "stdout",
       "text": [
        "\n",
        "LilliannaK"
       ]
      },
      {
       "output_type": "stream",
       "stream": "stdout",
       "text": [
        "\n",
        "RoadrunnerSalvage"
       ]
      },
      {
       "output_type": "stream",
       "stream": "stdout",
       "text": [
        "\n",
        "DyDa"
       ]
      },
      {
       "output_type": "stream",
       "stream": "stdout",
       "text": [
        "\n",
        "crazycatcreations"
       ]
      },
      {
       "output_type": "stream",
       "stream": "stdout",
       "text": [
        "\n",
        "RSWVintage"
       ]
      },
      {
       "output_type": "stream",
       "stream": "stdout",
       "text": [
        "\n",
        "GiftsbyBeverly"
       ]
      },
      {
       "output_type": "stream",
       "stream": "stdout",
       "text": [
        "\n",
        "Grantcitycreations"
       ]
      },
      {
       "output_type": "stream",
       "stream": "stdout",
       "text": [
        "\n",
        "CloesCloset"
       ]
      },
      {
       "output_type": "stream",
       "stream": "stdout",
       "text": [
        "\n",
        "UneekGlassFusions"
       ]
      },
      {
       "output_type": "stream",
       "stream": "stdout",
       "text": [
        "\n",
        "ChristineMsCreations"
       ]
      },
      {
       "output_type": "stream",
       "stream": "stdout",
       "text": [
        "\n",
        "PerlersByJonny"
       ]
      },
      {
       "output_type": "stream",
       "stream": "stdout",
       "text": [
        "\n",
        "TreasurePicker"
       ]
      },
      {
       "output_type": "stream",
       "stream": "stdout",
       "text": [
        "\n",
        "AuntieMtreasureShop"
       ]
      },
      {
       "output_type": "stream",
       "stream": "stdout",
       "text": [
        "\n",
        "VintageEncantos"
       ]
      },
      {
       "output_type": "stream",
       "stream": "stdout",
       "text": [
        "\n",
        "CuriosityShopper"
       ]
      },
      {
       "output_type": "stream",
       "stream": "stdout",
       "text": [
        "\n",
        "ButterandCompanies"
       ]
      },
      {
       "output_type": "stream",
       "stream": "stdout",
       "text": [
        "\n",
        "OldSoulsEmporium"
       ]
      },
      {
       "output_type": "stream",
       "stream": "stdout",
       "text": [
        "\n",
        "CandyKQuilts"
       ]
      },
      {
       "output_type": "stream",
       "stream": "stdout",
       "text": [
        "\n",
        "Kittyandme"
       ]
      },
      {
       "output_type": "stream",
       "stream": "stdout",
       "text": [
        "\n",
        "1840VintageLane"
       ]
      },
      {
       "output_type": "stream",
       "stream": "stdout",
       "text": [
        "\n",
        "flattirevintage"
       ]
      },
      {
       "output_type": "stream",
       "stream": "stdout",
       "text": [
        "\n",
        "WolfArtStudio"
       ]
      },
      {
       "output_type": "stream",
       "stream": "stdout",
       "text": [
        "\n",
        "AmyFindsEverything"
       ]
      },
      {
       "output_type": "stream",
       "stream": "stdout",
       "text": [
        "\n",
        "SpyderCrafts"
       ]
      },
      {
       "output_type": "stream",
       "stream": "stdout",
       "text": [
        "\n",
        "ThisandThatCapeCod"
       ]
      },
      {
       "output_type": "stream",
       "stream": "stdout",
       "text": [
        "\n",
        "RecycledWares"
       ]
      },
      {
       "output_type": "stream",
       "stream": "stdout",
       "text": [
        "\n",
        "NicoleHurtCreations"
       ]
      },
      {
       "output_type": "stream",
       "stream": "stdout",
       "text": [
        "\n",
        "rouilly"
       ]
      },
      {
       "output_type": "stream",
       "stream": "stdout",
       "text": [
        "\n",
        "SherisClassicalWares"
       ]
      },
      {
       "output_type": "stream",
       "stream": "stdout",
       "text": [
        "\n",
        "EnchantedWishingWell"
       ]
      },
      {
       "output_type": "stream",
       "stream": "stdout",
       "text": [
        "\n",
        "thebombshelter1"
       ]
      },
      {
       "output_type": "stream",
       "stream": "stdout",
       "text": [
        "\n",
        "VintageAttackFinds"
       ]
      },
      {
       "output_type": "stream",
       "stream": "stdout",
       "text": [
        "\n",
        "NotSoShabbyItems"
       ]
      },
      {
       "output_type": "stream",
       "stream": "stdout",
       "text": [
        "\n",
        "VintageEuro"
       ]
      },
      {
       "output_type": "stream",
       "stream": "stdout",
       "text": [
        "\n",
        "AndWorksWithHerHands"
       ]
      },
      {
       "output_type": "stream",
       "stream": "stdout",
       "text": [
        "\n",
        "StonesThrowVintage"
       ]
      },
      {
       "output_type": "stream",
       "stream": "stdout",
       "text": [
        "\n",
        "Labellesfinechina"
       ]
      },
      {
       "output_type": "stream",
       "stream": "stdout",
       "text": [
        "\n",
        "CraftinistasBoutique"
       ]
      },
      {
       "output_type": "stream",
       "stream": "stdout",
       "text": [
        "\n",
        "MariasFarmhouse"
       ]
      },
      {
       "output_type": "stream",
       "stream": "stdout",
       "text": [
        "\n",
        "ABackyardCreation"
       ]
      },
      {
       "output_type": "stream",
       "stream": "stdout",
       "text": [
        "\n",
        "Past2U"
       ]
      },
      {
       "output_type": "stream",
       "stream": "stdout",
       "text": [
        "\n",
        "TheVintageEurope"
       ]
      },
      {
       "output_type": "stream",
       "stream": "stdout",
       "text": [
        "\n",
        "evesjulia12"
       ]
      },
      {
       "output_type": "stream",
       "stream": "stdout",
       "text": [
        "\n",
        "southernhomevintage"
       ]
      },
      {
       "output_type": "stream",
       "stream": "stdout",
       "text": [
        "\n",
        "McMichaelsCrkDesigns"
       ]
      },
      {
       "output_type": "stream",
       "stream": "stdout",
       "text": [
        "\n",
        "justynamrugala"
       ]
      },
      {
       "output_type": "stream",
       "stream": "stdout",
       "text": [
        "\n",
        "AHawkAndAHoneyBee"
       ]
      },
      {
       "output_type": "stream",
       "stream": "stdout",
       "text": [
        "\n",
        "Goldenshoestrings"
       ]
      },
      {
       "output_type": "stream",
       "stream": "stdout",
       "text": [
        "\n",
        "TheWorldExplored"
       ]
      },
      {
       "output_type": "stream",
       "stream": "stdout",
       "text": [
        "\n",
        "oZdOinGItagaiN"
       ]
      },
      {
       "output_type": "stream",
       "stream": "stdout",
       "text": [
        "\n",
        "SRVintageandDesigns"
       ]
      },
      {
       "output_type": "stream",
       "stream": "stdout",
       "text": [
        "\n",
        "CinfulOldies"
       ]
      },
      {
       "output_type": "stream",
       "stream": "stdout",
       "text": [
        "\n",
        "TheCuriousHutch"
       ]
      },
      {
       "output_type": "stream",
       "stream": "stdout",
       "text": [
        "\n",
        "DocsOddsandEnds"
       ]
      },
      {
       "output_type": "stream",
       "stream": "stdout",
       "text": [
        "\n",
        "backgatecottage"
       ]
      },
      {
       "output_type": "stream",
       "stream": "stdout",
       "text": [
        "\n",
        "Hopeartcollectables"
       ]
      },
      {
       "output_type": "stream",
       "stream": "stdout",
       "text": [
        "\n",
        "YourCreativePartner"
       ]
      },
      {
       "output_type": "stream",
       "stream": "stdout",
       "text": [
        "\n",
        "VerdeVintageThrift"
       ]
      },
      {
       "output_type": "stream",
       "stream": "stdout",
       "text": [
        "\n",
        "StephCustomCrocheted"
       ]
      },
      {
       "output_type": "stream",
       "stream": "stdout",
       "text": [
        "\n",
        "wonderfulathome"
       ]
      },
      {
       "output_type": "stream",
       "stream": "stdout",
       "text": [
        "\n",
        "RetroRixie"
       ]
      },
      {
       "output_type": "stream",
       "stream": "stdout",
       "text": [
        "\n",
        "BitsAndPiecesEtc"
       ]
      },
      {
       "output_type": "stream",
       "stream": "stdout",
       "text": [
        "\n",
        "PaolinaLynn"
       ]
      },
      {
       "output_type": "stream",
       "stream": "stdout",
       "text": [
        "\n",
        "WOODruSAYINSigns"
       ]
      },
      {
       "output_type": "stream",
       "stream": "stdout",
       "text": [
        "\n",
        "WhatsNewOnTheMantel"
       ]
      },
      {
       "output_type": "stream",
       "stream": "stdout",
       "text": [
        "\n",
        "PiecesOfPastimes"
       ]
      },
      {
       "output_type": "stream",
       "stream": "stdout",
       "text": [
        "\n",
        "lazydaysdesign"
       ]
      },
      {
       "output_type": "stream",
       "stream": "stdout",
       "text": [
        "\n",
        "WindChimeGirl"
       ]
      },
      {
       "output_type": "stream",
       "stream": "stdout",
       "text": [
        "\n",
        "SomethingOuttaNothin"
       ]
      },
      {
       "output_type": "stream",
       "stream": "stdout",
       "text": [
        "\n",
        "SimplifyMyWorld"
       ]
      },
      {
       "output_type": "stream",
       "stream": "stdout",
       "text": [
        "\n",
        "AllForLala"
       ]
      },
      {
       "output_type": "stream",
       "stream": "stdout",
       "text": [
        "\n",
        "TheParsonsPleasures"
       ]
      },
      {
       "output_type": "stream",
       "stream": "stdout",
       "text": [
        "\n",
        "NovelShell"
       ]
      },
      {
       "output_type": "stream",
       "stream": "stdout",
       "text": [
        "\n",
        "CourtNicWard"
       ]
      },
      {
       "output_type": "stream",
       "stream": "stdout",
       "text": [
        "\n",
        "JohnGermaine"
       ]
      },
      {
       "output_type": "stream",
       "stream": "stdout",
       "text": [
        "\n",
        "DeltaLumber"
       ]
      },
      {
       "output_type": "stream",
       "stream": "stdout",
       "text": [
        "\n",
        "RustyandWoodSupplies"
       ]
      },
      {
       "output_type": "stream",
       "stream": "stdout",
       "text": [
        "\n",
        "excellentvintage"
       ]
      },
      {
       "output_type": "stream",
       "stream": "stdout",
       "text": [
        "\n",
        "TanaBarisoff"
       ]
      },
      {
       "output_type": "stream",
       "stream": "stdout",
       "text": [
        "\n",
        "OldVillageTradingCo"
       ]
      },
      {
       "output_type": "stream",
       "stream": "stdout",
       "text": [
        "\n",
        "CrissieGirl"
       ]
      },
      {
       "output_type": "stream",
       "stream": "stdout",
       "text": [
        "\n",
        "JimKatsPerfectFind"
       ]
      },
      {
       "output_type": "stream",
       "stream": "stdout",
       "text": [
        "\n",
        "BitsofthePast"
       ]
      },
      {
       "output_type": "stream",
       "stream": "stdout",
       "text": [
        "\n",
        "Bluebell"
       ]
      },
      {
       "output_type": "stream",
       "stream": "stdout",
       "text": [
        "\n",
        "paprikarose"
       ]
      },
      {
       "output_type": "stream",
       "stream": "stdout",
       "text": [
        "\n",
        "ErasBygone"
       ]
      },
      {
       "output_type": "stream",
       "stream": "stdout",
       "text": [
        "\n",
        "RocktheJewels"
       ]
      },
      {
       "output_type": "stream",
       "stream": "stdout",
       "text": [
        "\n",
        "VintageXpressions"
       ]
      },
      {
       "output_type": "stream",
       "stream": "stdout",
       "text": [
        "\n",
        "SeaPillowTreasures"
       ]
      },
      {
       "output_type": "stream",
       "stream": "stdout",
       "text": [
        "\n",
        "aSilverUnicorn"
       ]
      },
      {
       "output_type": "stream",
       "stream": "stdout",
       "text": [
        "\n",
        "SimplyPrettybyStacy"
       ]
      },
      {
       "output_type": "stream",
       "stream": "stdout",
       "text": [
        "\n",
        "UnexpectedFinds"
       ]
      },
      {
       "output_type": "stream",
       "stream": "stdout",
       "text": [
        "\n",
        "PIVOT180"
       ]
      },
      {
       "output_type": "stream",
       "stream": "stdout",
       "text": [
        "\n",
        "MonsieurBrocanteur"
       ]
      },
      {
       "output_type": "stream",
       "stream": "stdout",
       "text": [
        "\n",
        "WPVstore"
       ]
      },
      {
       "output_type": "stream",
       "stream": "stdout",
       "text": [
        "\n",
        "HouseOfRouse"
       ]
      },
      {
       "output_type": "stream",
       "stream": "stdout",
       "text": [
        "\n",
        "EpicCharmDesigns"
       ]
      },
      {
       "output_type": "stream",
       "stream": "stdout",
       "text": [
        "\n",
        "TheTinyAcornByJLee"
       ]
      },
      {
       "output_type": "stream",
       "stream": "stdout",
       "text": [
        "\n",
        "LeDecor"
       ]
      },
      {
       "output_type": "stream",
       "stream": "stdout",
       "text": [
        "\n",
        "TheNewtonLabel"
       ]
      },
      {
       "output_type": "stream",
       "stream": "stdout",
       "text": [
        "\n",
        "KappWoodworking"
       ]
      },
      {
       "output_type": "stream",
       "stream": "stdout",
       "text": [
        "\n",
        "StudioHen"
       ]
      },
      {
       "output_type": "stream",
       "stream": "stdout",
       "text": [
        "\n",
        "RedlandsVintage"
       ]
      },
      {
       "output_type": "stream",
       "stream": "stdout",
       "text": [
        "\n",
        "MonaLisaTreasures"
       ]
      },
      {
       "output_type": "stream",
       "stream": "stdout",
       "text": [
        "\n",
        "QTpie4U"
       ]
      },
      {
       "output_type": "stream",
       "stream": "stdout",
       "text": [
        "\n",
        "carriesattic"
       ]
      },
      {
       "output_type": "stream",
       "stream": "stdout",
       "text": [
        "\n",
        "GIABIJOUX"
       ]
      },
      {
       "output_type": "stream",
       "stream": "stdout",
       "text": [
        "\n",
        "polkadotrose"
       ]
      },
      {
       "output_type": "stream",
       "stream": "stdout",
       "text": [
        "\n",
        "NspiredbyLife"
       ]
      },
      {
       "output_type": "stream",
       "stream": "stdout",
       "text": [
        "\n",
        "Hiddentreasureshoppe"
       ]
      },
      {
       "output_type": "stream",
       "stream": "stdout",
       "text": [
        "\n",
        "smittysvintage"
       ]
      },
      {
       "output_type": "stream",
       "stream": "stdout",
       "text": [
        "\n",
        "ABigSalad"
       ]
      },
      {
       "output_type": "stream",
       "stream": "stdout",
       "text": [
        "\n",
        "PalmettoProperDesign"
       ]
      },
      {
       "output_type": "stream",
       "stream": "stdout",
       "text": [
        "\n",
        "ButtermilkSkyHome"
       ]
      },
      {
       "output_type": "stream",
       "stream": "stdout",
       "text": [
        "\n",
        "atopdrawer"
       ]
      },
      {
       "output_type": "stream",
       "stream": "stdout",
       "text": [
        "\n",
        "AnnaOliveDesigns"
       ]
      },
      {
       "output_type": "stream",
       "stream": "stdout",
       "text": [
        "\n",
        "PearlsVintageGoods"
       ]
      },
      {
       "output_type": "stream",
       "stream": "stdout",
       "text": [
        "\n",
        "cookiedoughcreations"
       ]
      },
      {
       "output_type": "stream",
       "stream": "stdout",
       "text": [
        "\n",
        "ParisianMoments"
       ]
      },
      {
       "output_type": "stream",
       "stream": "stdout",
       "text": [
        "\n",
        "PinelandCrafts"
       ]
      },
      {
       "output_type": "stream",
       "stream": "stdout",
       "text": [
        "\n",
        "VintageLover818"
       ]
      },
      {
       "output_type": "stream",
       "stream": "stdout",
       "text": [
        "\n",
        "MerrittsCloset"
       ]
      },
      {
       "output_type": "stream",
       "stream": "stdout",
       "text": [
        "\n",
        "ContemporaryVintage"
       ]
      },
      {
       "output_type": "stream",
       "stream": "stdout",
       "text": [
        "\n",
        "kathleenmelville1"
       ]
      },
      {
       "output_type": "stream",
       "stream": "stdout",
       "text": [
        "\n",
        "skippyhaha"
       ]
      },
      {
       "output_type": "stream",
       "stream": "stdout",
       "text": [
        "\n",
        "NorthernCrescentIron"
       ]
      },
      {
       "output_type": "stream",
       "stream": "stdout",
       "text": [
        "\n",
        "tulipatron"
       ]
      },
      {
       "output_type": "stream",
       "stream": "stdout",
       "text": [
        "\n",
        "LABsFABulous"
       ]
      },
      {
       "output_type": "stream",
       "stream": "stdout",
       "text": [
        "\n",
        "shyphotog"
       ]
      },
      {
       "output_type": "stream",
       "stream": "stdout",
       "text": [
        "\n",
        "BitsUpcycledVintage"
       ]
      },
      {
       "output_type": "stream",
       "stream": "stdout",
       "text": [
        "\n",
        "GarageInc"
       ]
      },
      {
       "output_type": "stream",
       "stream": "stdout",
       "text": [
        "\n",
        "BUTTERCUPGARDEN"
       ]
      },
      {
       "output_type": "stream",
       "stream": "stdout",
       "text": [
        "\n",
        "4431"
       ]
      },
      {
       "output_type": "stream",
       "stream": "stdout",
       "text": [
        "\n",
        "grampasattic"
       ]
      },
      {
       "output_type": "stream",
       "stream": "stdout",
       "text": [
        "\n",
        "BarbaraCrochetStudio"
       ]
      },
      {
       "output_type": "stream",
       "stream": "stdout",
       "text": [
        "\n",
        "CandidlyCrystal"
       ]
      },
      {
       "output_type": "stream",
       "stream": "stdout",
       "text": [
        "\n",
        "Holiday365"
       ]
      },
      {
       "output_type": "stream",
       "stream": "stdout",
       "text": [
        "\n",
        "RetroRustics"
       ]
      },
      {
       "output_type": "stream",
       "stream": "stdout",
       "text": [
        "\n",
        "DiVerseBlessings"
       ]
      },
      {
       "output_type": "stream",
       "stream": "stdout",
       "text": [
        "\n",
        "AquidneckIslandShop"
       ]
      },
      {
       "output_type": "stream",
       "stream": "stdout",
       "text": [
        "\n",
        "TheRustyBucketVT"
       ]
      },
      {
       "output_type": "stream",
       "stream": "stdout",
       "text": [
        "\n",
        "PineNsign"
       ]
      },
      {
       "output_type": "stream",
       "stream": "stdout",
       "text": [
        "\n",
        "RedLetterDaysStudio"
       ]
      },
      {
       "output_type": "stream",
       "stream": "stdout",
       "text": [
        "\n",
        "DragonQuarryAntiques"
       ]
      },
      {
       "output_type": "stream",
       "stream": "stdout",
       "text": [
        "\n",
        "lbarril"
       ]
      },
      {
       "output_type": "stream",
       "stream": "stdout",
       "text": [
        "\n",
        "auntbeannie"
       ]
      },
      {
       "output_type": "stream",
       "stream": "stdout",
       "text": [
        "\n",
        "EFFurnishings"
       ]
      },
      {
       "output_type": "stream",
       "stream": "stdout",
       "text": [
        "\n",
        "MommyHobbyMolly"
       ]
      },
      {
       "output_type": "stream",
       "stream": "stdout",
       "text": [
        "\n",
        "HouseofRube"
       ]
      },
      {
       "output_type": "stream",
       "stream": "stdout",
       "text": [
        "\n",
        "theMomsAttic"
       ]
      },
      {
       "output_type": "stream",
       "stream": "stdout",
       "text": [
        "\n",
        "charmedgallery"
       ]
      },
      {
       "output_type": "stream",
       "stream": "stdout",
       "text": [
        "\n",
        "CraftyLore"
       ]
      },
      {
       "output_type": "stream",
       "stream": "stdout",
       "text": [
        "\n",
        "abirdiesnest"
       ]
      },
      {
       "output_type": "stream",
       "stream": "stdout",
       "text": [
        "\n",
        "vintagelarisa"
       ]
      },
      {
       "output_type": "stream",
       "stream": "stdout",
       "text": [
        "\n",
        "foundobjectart"
       ]
      },
      {
       "output_type": "stream",
       "stream": "stdout",
       "text": [
        "\n",
        "Thesewingcottageusa"
       ]
      },
      {
       "output_type": "stream",
       "stream": "stdout",
       "text": [
        "\n",
        "spaceroom"
       ]
      },
      {
       "output_type": "stream",
       "stream": "stdout",
       "text": [
        "\n",
        "mattziekattzie"
       ]
      },
      {
       "output_type": "stream",
       "stream": "stdout",
       "text": [
        "\n",
        "TheJunkinSailor"
       ]
      },
      {
       "output_type": "stream",
       "stream": "stdout",
       "text": [
        "\n",
        "ArtisticOriginals"
       ]
      },
      {
       "output_type": "stream",
       "stream": "stdout",
       "text": [
        "\n",
        "DennmarWoodworks"
       ]
      },
      {
       "output_type": "stream",
       "stream": "stdout",
       "text": [
        "\n",
        "theowlbarn"
       ]
      },
      {
       "output_type": "stream",
       "stream": "stdout",
       "text": [
        "\n",
        "EdgarandEdgar"
       ]
      },
      {
       "output_type": "stream",
       "stream": "stdout",
       "text": [
        "\n",
        "lesPucesParisiennes"
       ]
      },
      {
       "output_type": "stream",
       "stream": "stdout",
       "text": [
        "\n",
        "TheReclaimedNation"
       ]
      },
      {
       "output_type": "stream",
       "stream": "stdout",
       "text": [
        "\n",
        "ShortPantsVintage"
       ]
      },
      {
       "output_type": "stream",
       "stream": "stdout",
       "text": [
        "\n",
        "KMPVintage"
       ]
      },
      {
       "output_type": "stream",
       "stream": "stdout",
       "text": [
        "\n",
        "dolfan1370"
       ]
      },
      {
       "output_type": "stream",
       "stream": "stdout",
       "text": [
        "\n",
        "HabitShmabit"
       ]
      },
      {
       "output_type": "stream",
       "stream": "stdout",
       "text": [
        "\n",
        "SunflowersByDesign"
       ]
      },
      {
       "output_type": "stream",
       "stream": "stdout",
       "text": [
        "\n",
        "VinTageSouthernKarma"
       ]
      },
      {
       "output_type": "stream",
       "stream": "stdout",
       "text": [
        "\n",
        "ApplePickerVintage"
       ]
      },
      {
       "output_type": "stream",
       "stream": "stdout",
       "text": [
        "\n",
        "Curiosix"
       ]
      },
      {
       "output_type": "stream",
       "stream": "stdout",
       "text": [
        "\n",
        "CAPow"
       ]
      },
      {
       "output_type": "stream",
       "stream": "stdout",
       "text": [
        "\n",
        "Creatography"
       ]
      },
      {
       "output_type": "stream",
       "stream": "stdout",
       "text": [
        "\n",
        "thebagglady76"
       ]
      },
      {
       "output_type": "stream",
       "stream": "stdout",
       "text": [
        "\n",
        "reanee"
       ]
      },
      {
       "output_type": "stream",
       "stream": "stdout",
       "text": [
        "\n",
        "MaisJamais"
       ]
      },
      {
       "output_type": "stream",
       "stream": "stdout",
       "text": [
        "\n",
        "TazamarazVintage"
       ]
      },
      {
       "output_type": "stream",
       "stream": "stdout",
       "text": [
        "\n",
        "TishsStitches"
       ]
      },
      {
       "output_type": "stream",
       "stream": "stdout",
       "text": [
        "\n",
        "CozyTraditions"
       ]
      },
      {
       "output_type": "stream",
       "stream": "stdout",
       "text": [
        "\n",
        "SunscreenSeashells"
       ]
      },
      {
       "output_type": "stream",
       "stream": "stdout",
       "text": [
        "\n",
        "DianesBargainShack"
       ]
      },
      {
       "output_type": "stream",
       "stream": "stdout",
       "text": [
        "\n",
        "Steesiak"
       ]
      },
      {
       "output_type": "stream",
       "stream": "stdout",
       "text": [
        "\n",
        "NestEggDesignsNC"
       ]
      },
      {
       "output_type": "stream",
       "stream": "stdout",
       "text": [
        "\n",
        "CJsPhotoShop"
       ]
      },
      {
       "output_type": "stream",
       "stream": "stdout",
       "text": [
        "\n",
        "TaraHandmade"
       ]
      },
      {
       "output_type": "stream",
       "stream": "stdout",
       "text": [
        "\n",
        "IGOTITATSONJAS"
       ]
      },
      {
       "output_type": "stream",
       "stream": "stdout",
       "text": [
        "\n",
        "RowlandParkVintage"
       ]
      },
      {
       "output_type": "stream",
       "stream": "stdout",
       "text": [
        "\n",
        "NanasCircleBoutique"
       ]
      },
      {
       "output_type": "stream",
       "stream": "stdout",
       "text": [
        "\n",
        "StoneSchoolVintage"
       ]
      },
      {
       "output_type": "stream",
       "stream": "stdout",
       "text": [
        "\n",
        "blessinganother"
       ]
      },
      {
       "output_type": "stream",
       "stream": "stdout",
       "text": [
        "\n",
        "RhinestonesRust"
       ]
      },
      {
       "output_type": "stream",
       "stream": "stdout",
       "text": [
        "\n",
        "InAnotherLifeVintage"
       ]
      },
      {
       "output_type": "stream",
       "stream": "stdout",
       "text": [
        "\n",
        "JensSecondChance"
       ]
      },
      {
       "output_type": "stream",
       "stream": "stdout",
       "text": [
        "\n",
        "judyswork"
       ]
      },
      {
       "output_type": "stream",
       "stream": "stdout",
       "text": [
        "\n",
        "SouthernWhimsicality"
       ]
      },
      {
       "output_type": "stream",
       "stream": "stdout",
       "text": [
        "\n",
        "cocomo"
       ]
      },
      {
       "output_type": "stream",
       "stream": "stdout",
       "text": [
        "\n",
        "VintageDecorFrancais"
       ]
      },
      {
       "output_type": "stream",
       "stream": "stdout",
       "text": [
        "\n",
        "ColleensMercantile"
       ]
      },
      {
       "output_type": "stream",
       "stream": "stdout",
       "text": [
        "\n",
        "Linohandmade"
       ]
      },
      {
       "output_type": "stream",
       "stream": "stdout",
       "text": [
        "\n",
        "housewarming101"
       ]
      },
      {
       "output_type": "stream",
       "stream": "stdout",
       "text": [
        "\n",
        "PattiesPassion"
       ]
      },
      {
       "output_type": "stream",
       "stream": "stdout",
       "text": [
        "\n",
        "beckyrosedesigns"
       ]
      },
      {
       "output_type": "stream",
       "stream": "stdout",
       "text": [
        "\n",
        "KCUNLIMITEDCREATIONS"
       ]
      },
      {
       "output_type": "stream",
       "stream": "stdout",
       "text": [
        "\n",
        "Suite22"
       ]
      },
      {
       "output_type": "stream",
       "stream": "stdout",
       "text": [
        "\n",
        "Yesteryearessentials"
       ]
      },
      {
       "output_type": "stream",
       "stream": "stdout",
       "text": [
        "\n",
        "RoseAvenueBooks"
       ]
      },
      {
       "output_type": "stream",
       "stream": "stdout",
       "text": [
        "\n",
        "LittleJewelBoutique"
       ]
      },
      {
       "output_type": "stream",
       "stream": "stdout",
       "text": [
        "\n",
        "BonJeanCreations"
       ]
      },
      {
       "output_type": "stream",
       "stream": "stdout",
       "text": [
        "\n",
        "Mirtime"
       ]
      },
      {
       "output_type": "stream",
       "stream": "stdout",
       "text": [
        "\n",
        "cozyhomebytj"
       ]
      },
      {
       "output_type": "stream",
       "stream": "stdout",
       "text": [
        "\n",
        "fabfindschimesdesign"
       ]
      },
      {
       "output_type": "stream",
       "stream": "stdout",
       "text": [
        "\n",
        "happydeal"
       ]
      },
      {
       "output_type": "stream",
       "stream": "stdout",
       "text": [
        "\n",
        "VIVALASVINTAGE"
       ]
      },
      {
       "output_type": "stream",
       "stream": "stdout",
       "text": [
        "\n",
        "delaMarCollection"
       ]
      },
      {
       "output_type": "stream",
       "stream": "stdout",
       "text": [
        "\n",
        "ShanaysCreation"
       ]
      },
      {
       "output_type": "stream",
       "stream": "stdout",
       "text": [
        "\n",
        "DayJahView"
       ]
      },
      {
       "output_type": "stream",
       "stream": "stdout",
       "text": [
        "\n",
        "CraftingMayhem"
       ]
      },
      {
       "output_type": "stream",
       "stream": "stdout",
       "text": [
        "\n",
        "KellyGrayMoffett"
       ]
      },
      {
       "output_type": "stream",
       "stream": "stdout",
       "text": [
        "\n",
        "TheTownies"
       ]
      },
      {
       "output_type": "stream",
       "stream": "stdout",
       "text": [
        "\n",
        "OldNotDead"
       ]
      },
      {
       "output_type": "stream",
       "stream": "stdout",
       "text": [
        "\n",
        "LaChicVintageCloset"
       ]
      },
      {
       "output_type": "stream",
       "stream": "stdout",
       "text": [
        "\n",
        "Mundorosa"
       ]
      },
      {
       "output_type": "stream",
       "stream": "stdout",
       "text": [
        "\n",
        "auntdoilies"
       ]
      },
      {
       "output_type": "stream",
       "stream": "stdout",
       "text": [
        "\n",
        "SonoFelice"
       ]
      },
      {
       "output_type": "stream",
       "stream": "stdout",
       "text": [
        "\n",
        "InitialMemory"
       ]
      },
      {
       "output_type": "stream",
       "stream": "stdout",
       "text": [
        "\n",
        "PearcesCraftShop"
       ]
      },
      {
       "output_type": "stream",
       "stream": "stdout",
       "text": [
        "\n",
        "Latrouvaille"
       ]
      },
      {
       "output_type": "stream",
       "stream": "stdout",
       "text": [
        "\n",
        "MaggiesKlosets"
       ]
      },
      {
       "output_type": "stream",
       "stream": "stdout",
       "text": [
        "\n",
        "TheGreenwichTeacup"
       ]
      },
      {
       "output_type": "stream",
       "stream": "stdout",
       "text": [
        "\n",
        "WinterberryFarms"
       ]
      },
      {
       "output_type": "stream",
       "stream": "stdout",
       "text": [
        "\n",
        "Ruggedcupboardjewels"
       ]
      },
      {
       "output_type": "stream",
       "stream": "stdout",
       "text": [
        "\n",
        "JaneyLaneFabrics"
       ]
      },
      {
       "output_type": "stream",
       "stream": "stdout",
       "text": [
        "\n",
        "CarmelasCoastalCraft"
       ]
      },
      {
       "output_type": "stream",
       "stream": "stdout",
       "text": [
        "\n",
        "VintageTrixie"
       ]
      },
      {
       "output_type": "stream",
       "stream": "stdout",
       "text": [
        "\n",
        "converde"
       ]
      },
      {
       "output_type": "stream",
       "stream": "stdout",
       "text": [
        "\n",
        "PoonkinneyForge"
       ]
      },
      {
       "output_type": "stream",
       "stream": "stdout",
       "text": [
        "\n",
        "santaladyofoley"
       ]
      },
      {
       "output_type": "stream",
       "stream": "stdout",
       "text": [
        "\n",
        "Doodlebugdesigns06"
       ]
      },
      {
       "output_type": "stream",
       "stream": "stdout",
       "text": [
        "\n",
        "RaaNiCreations"
       ]
      },
      {
       "output_type": "stream",
       "stream": "stdout",
       "text": [
        "\n",
        "HazelnutHillbySherri"
       ]
      },
      {
       "output_type": "stream",
       "stream": "stdout",
       "text": [
        "\n",
        "Deullinique"
       ]
      },
      {
       "output_type": "stream",
       "stream": "stdout",
       "text": [
        "\n",
        "AllWhoWanderVintage"
       ]
      },
      {
       "output_type": "stream",
       "stream": "stdout",
       "text": [
        "\n",
        "BirchTurtleDove"
       ]
      },
      {
       "output_type": "stream",
       "stream": "stdout",
       "text": [
        "\n",
        "ViewridgeVintage"
       ]
      },
      {
       "output_type": "stream",
       "stream": "stdout",
       "text": [
        "\n",
        "CainsStuff"
       ]
      },
      {
       "output_type": "stream",
       "stream": "stdout",
       "text": [
        "\n",
        "trailsofthewest"
       ]
      },
      {
       "output_type": "stream",
       "stream": "stdout",
       "text": [
        "\n",
        "SpikeandDaisy"
       ]
      },
      {
       "output_type": "stream",
       "stream": "stdout",
       "text": [
        "\n",
        "designsbymara"
       ]
      },
      {
       "output_type": "stream",
       "stream": "stdout",
       "text": [
        "\n",
        "IfindUbuy"
       ]
      },
      {
       "output_type": "stream",
       "stream": "stdout",
       "text": [
        "\n",
        "3vintagehearts"
       ]
      },
      {
       "output_type": "stream",
       "stream": "stdout",
       "text": [
        "\n",
        "twobrotherscraft"
       ]
      },
      {
       "output_type": "stream",
       "stream": "stdout",
       "text": [
        "\n",
        "ToletallyPainted"
       ]
      },
      {
       "output_type": "stream",
       "stream": "stdout",
       "text": [
        "\n",
        "SuesAntiqWonderland"
       ]
      },
      {
       "output_type": "stream",
       "stream": "stdout",
       "text": [
        "\n",
        "Figgalleria"
       ]
      },
      {
       "output_type": "stream",
       "stream": "stdout",
       "text": [
        "\n",
        "TheHavenOnMain"
       ]
      },
      {
       "output_type": "stream",
       "stream": "stdout",
       "text": [
        "\n",
        "Anniesjunkietreasure"
       ]
      },
      {
       "output_type": "stream",
       "stream": "stdout",
       "text": [
        "\n",
        "UpcycledUpstyled"
       ]
      },
      {
       "output_type": "stream",
       "stream": "stdout",
       "text": [
        "\n",
        "GlitterMe"
       ]
      },
      {
       "output_type": "stream",
       "stream": "stdout",
       "text": [
        "\n",
        "OldWorldCountry"
       ]
      },
      {
       "output_type": "stream",
       "stream": "stdout",
       "text": [
        "\n",
        "Wambawear"
       ]
      },
      {
       "output_type": "stream",
       "stream": "stdout",
       "text": [
        "\n",
        "BearpawArtsandCrafts"
       ]
      },
      {
       "output_type": "stream",
       "stream": "stdout",
       "text": [
        "\n",
        "VintageWayTreasures"
       ]
      },
      {
       "output_type": "stream",
       "stream": "stdout",
       "text": [
        "\n",
        "MilkweedVintageHome"
       ]
      },
      {
       "output_type": "stream",
       "stream": "stdout",
       "text": [
        "\n",
        "patternpatch"
       ]
      },
      {
       "output_type": "stream",
       "stream": "stdout",
       "text": [
        "\n",
        "BitsOfThisAndThat"
       ]
      },
      {
       "output_type": "stream",
       "stream": "stdout",
       "text": [
        "\n",
        "jmhallcuriosities"
       ]
      },
      {
       "output_type": "stream",
       "stream": "stdout",
       "text": [
        "\n",
        "AandBCottage"
       ]
      },
      {
       "output_type": "stream",
       "stream": "stdout",
       "text": [
        "\n",
        "BuyBackYesterday"
       ]
      },
      {
       "output_type": "stream",
       "stream": "stdout",
       "text": [
        "\n",
        "SaLvAGeThEoRy"
       ]
      },
      {
       "output_type": "stream",
       "stream": "stdout",
       "text": [
        "\n",
        "ColtinPhotography"
       ]
      },
      {
       "output_type": "stream",
       "stream": "stdout",
       "text": [
        "\n",
        "PerfectHomeAntiques"
       ]
      },
      {
       "output_type": "stream",
       "stream": "stdout",
       "text": [
        "\n",
        "DorothysRubies"
       ]
      },
      {
       "output_type": "stream",
       "stream": "stdout",
       "text": [
        "\n",
        "TheCollectedCottage"
       ]
      },
      {
       "output_type": "stream",
       "stream": "stdout",
       "text": [
        "\n",
        "SpringHouseCreations"
       ]
      },
      {
       "output_type": "stream",
       "stream": "stdout",
       "text": [
        "\n",
        "SecondUseSeattle"
       ]
      },
      {
       "output_type": "stream",
       "stream": "stdout",
       "text": [
        "\n",
        "SeaToLandDesigns"
       ]
      },
      {
       "output_type": "stream",
       "stream": "stdout",
       "text": [
        "\n",
        "StitchWithASmile"
       ]
      },
      {
       "output_type": "stream",
       "stream": "stdout",
       "text": [
        "\n",
        "DulcineaVita"
       ]
      },
      {
       "output_type": "stream",
       "stream": "stdout",
       "text": [
        "\n",
        "TheOldTimeJunkShop"
       ]
      },
      {
       "output_type": "stream",
       "stream": "stdout",
       "text": [
        "\n",
        "vintageszpeku"
       ]
      },
      {
       "output_type": "stream",
       "stream": "stdout",
       "text": [
        "\n",
        "starrhop"
       ]
      },
      {
       "output_type": "stream",
       "stream": "stdout",
       "text": [
        "\n",
        "secretgardenfarms"
       ]
      },
      {
       "output_type": "stream",
       "stream": "stdout",
       "text": [
        "\n",
        "prettyware"
       ]
      },
      {
       "output_type": "stream",
       "stream": "stdout",
       "text": [
        "\n",
        "FleurayCrafts"
       ]
      },
      {
       "output_type": "stream",
       "stream": "stdout",
       "text": [
        "\n",
        "redchocol8"
       ]
      },
      {
       "output_type": "stream",
       "stream": "stdout",
       "text": [
        "\n",
        "SilverDoveCompany"
       ]
      },
      {
       "output_type": "stream",
       "stream": "stdout",
       "text": [
        "\n",
        "LaBellasCottage"
       ]
      },
      {
       "output_type": "stream",
       "stream": "stdout",
       "text": [
        "\n",
        "OldLilliput"
       ]
      },
      {
       "output_type": "stream",
       "stream": "stdout",
       "text": [
        "\n",
        "GranfalloonEmporium"
       ]
      },
      {
       "output_type": "stream",
       "stream": "stdout",
       "text": [
        "\n",
        "EarlyAmericanShop"
       ]
      },
      {
       "output_type": "stream",
       "stream": "stdout",
       "text": [
        "\n",
        "tessiesdelight"
       ]
      },
      {
       "output_type": "stream",
       "stream": "stdout",
       "text": [
        "\n",
        "AaronsArtichokeAlley"
       ]
      },
      {
       "output_type": "stream",
       "stream": "stdout",
       "text": [
        "\n",
        "thesmallstuffshop"
       ]
      },
      {
       "output_type": "stream",
       "stream": "stdout",
       "text": [
        "\n",
        "TrashToTreasureHunt"
       ]
      },
      {
       "output_type": "stream",
       "stream": "stdout",
       "text": [
        "\n",
        "robinsvintage"
       ]
      },
      {
       "output_type": "stream",
       "stream": "stdout",
       "text": [
        "\n",
        "VintageMementos"
       ]
      },
      {
       "output_type": "stream",
       "stream": "stdout",
       "text": [
        "\n",
        "ArtByNatureUpNorth"
       ]
      },
      {
       "output_type": "stream",
       "stream": "stdout",
       "text": [
        "\n",
        "dottiedee"
       ]
      },
      {
       "output_type": "stream",
       "stream": "stdout",
       "text": [
        "\n",
        "YesterHomeUK"
       ]
      },
      {
       "output_type": "stream",
       "stream": "stdout",
       "text": [
        "\n",
        "KennysAntiques"
       ]
      },
      {
       "output_type": "stream",
       "stream": "stdout",
       "text": [
        "\n",
        "theblueeggevents"
       ]
      },
      {
       "output_type": "stream",
       "stream": "stdout",
       "text": [
        "\n",
        "VintageInquisitor"
       ]
      },
      {
       "output_type": "stream",
       "stream": "stdout",
       "text": [
        "\n",
        "NellEvaDesigns"
       ]
      },
      {
       "output_type": "stream",
       "stream": "stdout",
       "text": [
        "\n",
        "NinefelinusTrading"
       ]
      },
      {
       "output_type": "stream",
       "stream": "stdout",
       "text": [
        "\n",
        "RETEPOINObazar"
       ]
      },
      {
       "output_type": "stream",
       "stream": "stdout",
       "text": [
        "\n",
        "CasadeMartha"
       ]
      },
      {
       "output_type": "stream",
       "stream": "stdout",
       "text": [
        "\n",
        "Ricketyswank"
       ]
      },
      {
       "output_type": "stream",
       "stream": "stdout",
       "text": [
        "\n",
        "BSFarms"
       ]
      },
      {
       "output_type": "stream",
       "stream": "stdout",
       "text": [
        "\n",
        "CozyCreekWoodworking"
       ]
      },
      {
       "output_type": "stream",
       "stream": "stdout",
       "text": [
        "\n",
        "EvenTheKitchenSinkOH"
       ]
      },
      {
       "output_type": "stream",
       "stream": "stdout",
       "text": [
        "\n",
        "PicksOfPickles"
       ]
      },
      {
       "output_type": "stream",
       "stream": "stdout",
       "text": [
        "\n",
        "FooFooLaLaChild"
       ]
      },
      {
       "output_type": "stream",
       "stream": "stdout",
       "text": [
        "\n",
        "ReHouseNY"
       ]
      },
      {
       "output_type": "stream",
       "stream": "stdout",
       "text": [
        "\n",
        "LastChanceAntiques"
       ]
      },
      {
       "output_type": "stream",
       "stream": "stdout",
       "text": [
        "\n",
        "MyLettersOnTheWall"
       ]
      },
      {
       "output_type": "stream",
       "stream": "stdout",
       "text": [
        "\n",
        "TreasureFindsDotOrg"
       ]
      },
      {
       "output_type": "stream",
       "stream": "stdout",
       "text": [
        "\n",
        "CowgirlsReRide"
       ]
      },
      {
       "output_type": "stream",
       "stream": "stdout",
       "text": [
        "\n",
        "FoundInTheGround"
       ]
      },
      {
       "output_type": "stream",
       "stream": "stdout",
       "text": [
        "\n",
        "joedilldesigns"
       ]
      },
      {
       "output_type": "stream",
       "stream": "stdout",
       "text": [
        "\n",
        "TinutesCreations"
       ]
      },
      {
       "output_type": "stream",
       "stream": "stdout",
       "text": [
        "\n",
        "sljglass"
       ]
      },
      {
       "output_type": "stream",
       "stream": "stdout",
       "text": [
        "\n",
        "JuliaSmithCeramics"
       ]
      },
      {
       "output_type": "stream",
       "stream": "stdout",
       "text": [
        "\n",
        "QtSee"
       ]
      },
      {
       "output_type": "stream",
       "stream": "stdout",
       "text": [
        "\n",
        "tayloredmemories"
       ]
      },
      {
       "output_type": "stream",
       "stream": "stdout",
       "text": [
        "\n",
        "LovingMaGia"
       ]
      },
      {
       "output_type": "stream",
       "stream": "stdout",
       "text": [
        "\n",
        "ElusivelyExclusively"
       ]
      },
      {
       "output_type": "stream",
       "stream": "stdout",
       "text": [
        "\n",
        "HAPPYgiftshop"
       ]
      },
      {
       "output_type": "stream",
       "stream": "stdout",
       "text": [
        "\n",
        "CovWWDesigns"
       ]
      },
      {
       "output_type": "stream",
       "stream": "stdout",
       "text": [
        "\n",
        "ClassicAntique"
       ]
      },
      {
       "output_type": "stream",
       "stream": "stdout",
       "text": [
        "\n",
        "TreasuresByNeissa"
       ]
      },
      {
       "output_type": "stream",
       "stream": "stdout",
       "text": [
        "\n",
        "suesuegonzalas"
       ]
      },
      {
       "output_type": "stream",
       "stream": "stdout",
       "text": [
        "\n",
        "bluecardinal"
       ]
      },
      {
       "output_type": "stream",
       "stream": "stdout",
       "text": [
        "\n",
        "NanasSweetPeas"
       ]
      },
      {
       "output_type": "stream",
       "stream": "stdout",
       "text": [
        "\n",
        "ArtisanKnobShop"
       ]
      },
      {
       "output_type": "stream",
       "stream": "stdout",
       "text": [
        "\n",
        "StarPower99"
       ]
      },
      {
       "output_type": "stream",
       "stream": "stdout",
       "text": [
        "\n",
        "TheRustyChicken"
       ]
      },
      {
       "output_type": "stream",
       "stream": "stdout",
       "text": [
        "\n",
        "PaperWhaleDesign"
       ]
      },
      {
       "output_type": "stream",
       "stream": "stdout",
       "text": [
        "\n",
        "CloudishHandmade"
       ]
      },
      {
       "output_type": "stream",
       "stream": "stdout",
       "text": [
        "\n",
        "AlacartCreations"
       ]
      },
      {
       "output_type": "stream",
       "stream": "stdout",
       "text": [
        "\n",
        "TheWesternLands"
       ]
      },
      {
       "output_type": "stream",
       "stream": "stdout",
       "text": [
        "\n",
        "DeeSweetNostalgia"
       ]
      },
      {
       "output_type": "stream",
       "stream": "stdout",
       "text": [
        "\n",
        "RockandSand"
       ]
      },
      {
       "output_type": "stream",
       "stream": "stdout",
       "text": [
        "\n",
        "MadyBellaDesigns"
       ]
      },
      {
       "output_type": "stream",
       "stream": "stdout",
       "text": [
        "\n",
        "TorchLakeGlass"
       ]
      },
      {
       "output_type": "stream",
       "stream": "stdout",
       "text": [
        "\n",
        "Koziklozet"
       ]
      },
      {
       "output_type": "stream",
       "stream": "stdout",
       "text": [
        "\n",
        "CraftyBellesEst2015"
       ]
      },
      {
       "output_type": "stream",
       "stream": "stdout",
       "text": [
        "\n",
        "ScovilleBrownCo"
       ]
      },
      {
       "output_type": "stream",
       "stream": "stdout",
       "text": [
        "\n",
        "heartandhomehandmade"
       ]
      },
      {
       "output_type": "stream",
       "stream": "stdout",
       "text": [
        "\n",
        "BsOleGoodies"
       ]
      },
      {
       "output_type": "stream",
       "stream": "stdout",
       "text": [
        "\n",
        "HistoricalVintage"
       ]
      },
      {
       "output_type": "stream",
       "stream": "stdout",
       "text": [
        "\n",
        "JesseBlauwhof"
       ]
      },
      {
       "output_type": "stream",
       "stream": "stdout",
       "text": [
        "\n",
        "oldgoatandhorse"
       ]
      },
      {
       "output_type": "stream",
       "stream": "stdout",
       "text": [
        "\n",
        "TheHarrisVariety"
       ]
      },
      {
       "output_type": "stream",
       "stream": "stdout",
       "text": [
        "\n",
        "RedDoorStore"
       ]
      },
      {
       "output_type": "stream",
       "stream": "stdout",
       "text": [
        "\n",
        "RuffByMargo"
       ]
      },
      {
       "output_type": "stream",
       "stream": "stdout",
       "text": [
        "\n",
        "mypaintedclutter"
       ]
      },
      {
       "output_type": "stream",
       "stream": "stdout",
       "text": [
        "\n",
        "PattyAandeGallery"
       ]
      },
      {
       "output_type": "stream",
       "stream": "stdout",
       "text": [
        "\n",
        "bacpaso"
       ]
      },
      {
       "output_type": "stream",
       "stream": "stdout",
       "text": [
        "\n",
        "Idugitup"
       ]
      },
      {
       "output_type": "stream",
       "stream": "stdout",
       "text": [
        "\n",
        "EastonandBelt"
       ]
      },
      {
       "output_type": "stream",
       "stream": "stdout",
       "text": [
        "\n",
        "AVintageFix"
       ]
      },
      {
       "output_type": "stream",
       "stream": "stdout",
       "text": [
        "\n",
        "Bigfishtails"
       ]
      },
      {
       "output_type": "stream",
       "stream": "stdout",
       "text": [
        "\n",
        "BuerckPhotographyLLC"
       ]
      },
      {
       "output_type": "stream",
       "stream": "stdout",
       "text": [
        "\n",
        "HandicraftAlley"
       ]
      },
      {
       "output_type": "stream",
       "stream": "stdout",
       "text": [
        "\n",
        "oldegoodthings"
       ]
      },
      {
       "output_type": "stream",
       "stream": "stdout",
       "text": [
        "\n",
        "VntgeLvAffair"
       ]
      },
      {
       "output_type": "stream",
       "stream": "stdout",
       "text": [
        "\n",
        "AliArt33"
       ]
      },
      {
       "output_type": "stream",
       "stream": "stdout",
       "text": [
        "\n",
        "MyShabbyChicShop"
       ]
      },
      {
       "output_type": "stream",
       "stream": "stdout",
       "text": [
        "\n",
        "GrandDesignsbyJoanna"
       ]
      },
      {
       "output_type": "stream",
       "stream": "stdout",
       "text": [
        "\n",
        "FrontPorchArt"
       ]
      },
      {
       "output_type": "stream",
       "stream": "stdout",
       "text": [
        "\n",
        "TheCopperFinch"
       ]
      },
      {
       "output_type": "stream",
       "stream": "stdout",
       "text": [
        "\n",
        "lasosantiques"
       ]
      },
      {
       "output_type": "stream",
       "stream": "stdout",
       "text": [
        "\n",
        "ACALIFORNIACACHE"
       ]
      },
      {
       "output_type": "stream",
       "stream": "stdout",
       "text": [
        "\n",
        "SparrowsNestGallaria"
       ]
      },
      {
       "output_type": "stream",
       "stream": "stdout",
       "text": [
        "\n",
        "AFamiliarPast"
       ]
      },
      {
       "output_type": "stream",
       "stream": "stdout",
       "text": [
        "\n",
        "Siberoom"
       ]
      },
      {
       "output_type": "stream",
       "stream": "stdout",
       "text": [
        "\n",
        "fromanotherday"
       ]
      },
      {
       "output_type": "stream",
       "stream": "stdout",
       "text": [
        "\n",
        "moondogcottage"
       ]
      },
      {
       "output_type": "stream",
       "stream": "stdout",
       "text": [
        "\n",
        "CharacterProjects"
       ]
      },
      {
       "output_type": "stream",
       "stream": "stdout",
       "text": [
        "\n",
        "chicNcoop"
       ]
      },
      {
       "output_type": "stream",
       "stream": "stdout",
       "text": [
        "\n",
        "OnePaisleyPig"
       ]
      },
      {
       "output_type": "stream",
       "stream": "stdout",
       "text": [
        "\n",
        "SistersShabbyCloset"
       ]
      },
      {
       "output_type": "stream",
       "stream": "stdout",
       "text": [
        "\n",
        "ThirstyOwlVintage"
       ]
      },
      {
       "output_type": "stream",
       "stream": "stdout",
       "text": [
        "\n",
        "OldGoshenPrimitives"
       ]
      },
      {
       "output_type": "stream",
       "stream": "stdout",
       "text": [
        "\n",
        "FromShab2Chic"
       ]
      },
      {
       "output_type": "stream",
       "stream": "stdout",
       "text": [
        "\n",
        "burlapheartstrings"
       ]
      },
      {
       "output_type": "stream",
       "stream": "stdout",
       "text": [
        "\n",
        "Junkydory"
       ]
      },
      {
       "output_type": "stream",
       "stream": "stdout",
       "text": [
        "\n",
        "CinnamonKittyTreats"
       ]
      },
      {
       "output_type": "stream",
       "stream": "stdout",
       "text": [
        "\n",
        "LunaLakeandCompany"
       ]
      },
      {
       "output_type": "stream",
       "stream": "stdout",
       "text": [
        "\n",
        "zougeebean"
       ]
      },
      {
       "output_type": "stream",
       "stream": "stdout",
       "text": [
        "\n",
        "Lifeinmommatone"
       ]
      },
      {
       "output_type": "stream",
       "stream": "stdout",
       "text": [
        "\n",
        "MagnoliaRestorations"
       ]
      },
      {
       "output_type": "stream",
       "stream": "stdout",
       "text": [
        "\n",
        "RevivalLosAngeles"
       ]
      },
      {
       "output_type": "stream",
       "stream": "stdout",
       "text": [
        "\n",
        "RedHedgePhotos"
       ]
      },
      {
       "output_type": "stream",
       "stream": "stdout",
       "text": [
        "\n",
        "GetLuckyTreasures"
       ]
      },
      {
       "output_type": "stream",
       "stream": "stdout",
       "text": [
        "\n",
        "LadylynneesTreasures"
       ]
      },
      {
       "output_type": "stream",
       "stream": "stdout",
       "text": [
        "\n",
        "LegalMissSunshineWed"
       ]
      },
      {
       "output_type": "stream",
       "stream": "stdout",
       "text": [
        "\n",
        "hpsgsmith"
       ]
      },
      {
       "output_type": "stream",
       "stream": "stdout",
       "text": [
        "\n",
        "ArtByG"
       ]
      },
      {
       "output_type": "stream",
       "stream": "stdout",
       "text": [
        "\n",
        "OceanSwept"
       ]
      },
      {
       "output_type": "stream",
       "stream": "stdout",
       "text": [
        "\n",
        "Purl1VintageToo"
       ]
      },
      {
       "output_type": "stream",
       "stream": "stdout",
       "text": [
        "\n",
        "TheLittleNursery"
       ]
      },
      {
       "output_type": "stream",
       "stream": "stdout",
       "text": [
        "\n",
        "DemsPlace"
       ]
      },
      {
       "output_type": "stream",
       "stream": "stdout",
       "text": [
        "\n",
        "FullThrottleCrafts"
       ]
      },
      {
       "output_type": "stream",
       "stream": "stdout",
       "text": [
        "\n",
        "DaisyMaeandMe"
       ]
      },
      {
       "output_type": "stream",
       "stream": "stdout",
       "text": [
        "\n",
        "Uneek4U"
       ]
      },
      {
       "output_type": "stream",
       "stream": "stdout",
       "text": [
        "\n",
        "chokkovintage"
       ]
      },
      {
       "output_type": "stream",
       "stream": "stdout",
       "text": [
        "\n",
        "PomerolSupplyShop"
       ]
      },
      {
       "output_type": "stream",
       "stream": "stdout",
       "text": [
        "\n",
        "ShabbyStefi"
       ]
      },
      {
       "output_type": "stream",
       "stream": "stdout",
       "text": [
        "\n",
        "CowgirlsNCowhides"
       ]
      },
      {
       "output_type": "stream",
       "stream": "stdout",
       "text": [
        "\n",
        "EandMeDesigns"
       ]
      },
      {
       "output_type": "stream",
       "stream": "stdout",
       "text": [
        "\n",
        "MackleyWoodenGifts"
       ]
      },
      {
       "output_type": "stream",
       "stream": "stdout",
       "text": [
        "\n",
        "Spacehead77"
       ]
      },
      {
       "output_type": "stream",
       "stream": "stdout",
       "text": [
        "\n",
        "TresorsdAlsace"
       ]
      },
      {
       "output_type": "stream",
       "stream": "stdout",
       "text": [
        "\n",
        "PhotoPrintDecor"
       ]
      },
      {
       "output_type": "stream",
       "stream": "stdout",
       "text": [
        "\n",
        "PrettyWithInkInvites"
       ]
      },
      {
       "output_type": "stream",
       "stream": "stdout",
       "text": [
        "\n",
        "Jessi03"
       ]
      },
      {
       "output_type": "stream",
       "stream": "stdout",
       "text": [
        "\n",
        "maybe4you"
       ]
      },
      {
       "output_type": "stream",
       "stream": "stdout",
       "text": [
        "\n",
        "RusticLogDecor"
       ]
      },
      {
       "output_type": "stream",
       "stream": "stdout",
       "text": [
        "\n",
        "nowellsphotography"
       ]
      },
      {
       "output_type": "stream",
       "stream": "stdout",
       "text": [
        "\n",
        "4EverNAlways"
       ]
      },
      {
       "output_type": "stream",
       "stream": "stdout",
       "text": [
        "\n",
        "WoolyCatWorld"
       ]
      },
      {
       "output_type": "stream",
       "stream": "stdout",
       "text": [
        "\n",
        "antiqueretro"
       ]
      },
      {
       "output_type": "stream",
       "stream": "stdout",
       "text": [
        "\n",
        "FUNKIEJUNKY"
       ]
      },
      {
       "output_type": "stream",
       "stream": "stdout",
       "text": [
        "\n",
        "ThePeddlarsParadise"
       ]
      },
      {
       "output_type": "stream",
       "stream": "stdout",
       "text": [
        "\n",
        "HometownUSA"
       ]
      },
      {
       "output_type": "stream",
       "stream": "stdout",
       "text": [
        "\n",
        "beadartaustria"
       ]
      },
      {
       "output_type": "stream",
       "stream": "stdout",
       "text": [
        "\n",
        "WitsEndDesign"
       ]
      },
      {
       "output_type": "stream",
       "stream": "stdout",
       "text": [
        "\n",
        "StoryCycle"
       ]
      },
      {
       "output_type": "stream",
       "stream": "stdout",
       "text": [
        "\n",
        "acloud"
       ]
      },
      {
       "output_type": "stream",
       "stream": "stdout",
       "text": [
        "\n",
        "CockleyAntiques"
       ]
      },
      {
       "output_type": "stream",
       "stream": "stdout",
       "text": [
        "\n",
        "Zeppola"
       ]
      },
      {
       "output_type": "stream",
       "stream": "stdout",
       "text": [
        "\n",
        "JenniferHigbyArt"
       ]
      },
      {
       "output_type": "stream",
       "stream": "stdout",
       "text": [
        "\n",
        "AtticRecycles"
       ]
      },
      {
       "output_type": "stream",
       "stream": "stdout",
       "text": [
        "\n",
        "Midgetgembeads"
       ]
      },
      {
       "output_type": "stream",
       "stream": "stdout",
       "text": [
        "\n",
        "VeiledThroughTime"
       ]
      },
      {
       "output_type": "stream",
       "stream": "stdout",
       "text": [
        "\n",
        "LuvinitCreations1"
       ]
      },
      {
       "output_type": "stream",
       "stream": "stdout",
       "text": [
        "\n",
        "Gifts4U1"
       ]
      },
      {
       "output_type": "stream",
       "stream": "stdout",
       "text": [
        "\n",
        "KnobTreasures"
       ]
      },
      {
       "output_type": "stream",
       "stream": "stdout",
       "text": [
        "\n",
        "GiftsandWhims"
       ]
      },
      {
       "output_type": "stream",
       "stream": "stdout",
       "text": [
        "\n",
        "SurfaceCandy"
       ]
      },
      {
       "output_type": "stream",
       "stream": "stdout",
       "text": [
        "\n",
        "ShellysSelectSalvage"
       ]
      },
      {
       "output_type": "stream",
       "stream": "stdout",
       "text": [
        "\n",
        "PartsandCrafts"
       ]
      },
      {
       "output_type": "stream",
       "stream": "stdout",
       "text": [
        "\n",
        "TwentyFiveShop"
       ]
      },
      {
       "output_type": "stream",
       "stream": "stdout",
       "text": [
        "\n",
        "KenlysCreations"
       ]
      },
      {
       "output_type": "stream",
       "stream": "stdout",
       "text": [
        "\n",
        "Coynescollectibles"
       ]
      },
      {
       "output_type": "stream",
       "stream": "stdout",
       "text": [
        "\n",
        "DansandAdi"
       ]
      },
      {
       "output_type": "stream",
       "stream": "stdout",
       "text": [
        "\n",
        "RecycledVision"
       ]
      },
      {
       "output_type": "stream",
       "stream": "stdout",
       "text": [
        "\n",
        "tkCo"
       ]
      },
      {
       "output_type": "stream",
       "stream": "stdout",
       "text": [
        "\n",
        "WeatheredTraditions"
       ]
      },
      {
       "output_type": "stream",
       "stream": "stdout",
       "text": [
        "\n",
        "OmaCleansTheAttic"
       ]
      },
      {
       "output_type": "stream",
       "stream": "stdout",
       "text": [
        "\n",
        "LALALAMPWORKBEADS"
       ]
      },
      {
       "output_type": "stream",
       "stream": "stdout",
       "text": [
        "\n",
        "LaughingDogStudio"
       ]
      },
      {
       "output_type": "stream",
       "stream": "stdout",
       "text": [
        "\n",
        "VintageFleaFinds"
       ]
      },
      {
       "output_type": "stream",
       "stream": "stdout",
       "text": [
        "\n",
        "Fizzybiskit"
       ]
      },
      {
       "output_type": "stream",
       "stream": "stdout",
       "text": [
        "\n",
        "lunapurpurie"
       ]
      },
      {
       "output_type": "stream",
       "stream": "stdout",
       "text": [
        "\n",
        "CynsationalTreasure"
       ]
      },
      {
       "output_type": "stream",
       "stream": "stdout",
       "text": [
        "\n",
        "SimpleFindsCo"
       ]
      },
      {
       "output_type": "stream",
       "stream": "stdout",
       "text": [
        "\n",
        "USSReturn"
       ]
      },
      {
       "output_type": "stream",
       "stream": "stdout",
       "text": [
        "\n",
        "JulieannasCreations"
       ]
      },
      {
       "output_type": "stream",
       "stream": "stdout",
       "text": [
        "\n",
        "InspirationalGecko"
       ]
      },
      {
       "output_type": "stream",
       "stream": "stdout",
       "text": [
        "\n",
        "SilverAndSilk"
       ]
      },
      {
       "output_type": "stream",
       "stream": "stdout",
       "text": [
        "\n",
        "BLUEHYDRANGEALODGE"
       ]
      },
      {
       "output_type": "stream",
       "stream": "stdout",
       "text": [
        "\n",
        "KrauseKreations100"
       ]
      },
      {
       "output_type": "stream",
       "stream": "stdout",
       "text": [
        "\n",
        "MoreOldThings"
       ]
      },
      {
       "output_type": "stream",
       "stream": "stdout",
       "text": [
        "\n",
        "SpearheadCollection"
       ]
      },
      {
       "output_type": "stream",
       "stream": "stdout",
       "text": [
        "\n",
        "3ShabbyGals"
       ]
      },
      {
       "output_type": "stream",
       "stream": "stdout",
       "text": [
        "\n",
        "blackturtlemetals"
       ]
      },
      {
       "output_type": "stream",
       "stream": "stdout",
       "text": [
        "\n",
        "AuFildAntan"
       ]
      },
      {
       "output_type": "stream",
       "stream": "stdout",
       "text": [
        "\n",
        "BigPhilsEmporium"
       ]
      },
      {
       "output_type": "stream",
       "stream": "stdout",
       "text": [
        "\n",
        "DoubleDogVintage"
       ]
      },
      {
       "output_type": "stream",
       "stream": "stdout",
       "text": [
        "\n",
        "TradeWindsNorth"
       ]
      },
      {
       "output_type": "stream",
       "stream": "stdout",
       "text": [
        "\n",
        "shabbyfrenchstyle"
       ]
      },
      {
       "output_type": "stream",
       "stream": "stdout",
       "text": [
        "\n",
        "willworkfordecor"
       ]
      },
      {
       "output_type": "stream",
       "stream": "stdout",
       "text": [
        "\n",
        "ShelleyHolm"
       ]
      },
      {
       "output_type": "stream",
       "stream": "stdout",
       "text": [
        "\n",
        "VintageGoodThings"
       ]
      },
      {
       "output_type": "stream",
       "stream": "stdout",
       "text": [
        "\n",
        "merakiimagesbyKim"
       ]
      },
      {
       "output_type": "stream",
       "stream": "stdout",
       "text": [
        "\n",
        "JOSTOSs"
       ]
      },
      {
       "output_type": "stream",
       "stream": "stdout",
       "text": [
        "\n",
        "WehuntWoodDecor"
       ]
      },
      {
       "output_type": "stream",
       "stream": "stdout",
       "text": [
        "\n",
        "vintagebitsblitz"
       ]
      },
      {
       "output_type": "stream",
       "stream": "stdout",
       "text": [
        "\n",
        "vintageantiquethings"
       ]
      },
      {
       "output_type": "stream",
       "stream": "stdout",
       "text": [
        "\n",
        "AmorDecorandMore"
       ]
      },
      {
       "output_type": "stream",
       "stream": "stdout",
       "text": [
        "\n",
        "RustyNailDesign"
       ]
      },
      {
       "output_type": "stream",
       "stream": "stdout",
       "text": [
        "\n",
        "VintageVieEnRose"
       ]
      },
      {
       "output_type": "stream",
       "stream": "stdout",
       "text": [
        "\n",
        "TheTinyPaintBox"
       ]
      },
      {
       "output_type": "stream",
       "stream": "stdout",
       "text": [
        "\n",
        "NicolesCraftRoom"
       ]
      },
      {
       "output_type": "stream",
       "stream": "stdout",
       "text": [
        "\n",
        "BeachArtGlass"
       ]
      },
      {
       "output_type": "stream",
       "stream": "stdout",
       "text": [
        "\n",
        "Avaricia"
       ]
      },
      {
       "output_type": "stream",
       "stream": "stdout",
       "text": [
        "\n",
        "DesignedbyMrsD"
       ]
      },
      {
       "output_type": "stream",
       "stream": "stdout",
       "text": [
        "\n",
        "LisasHeirlooms"
       ]
      },
      {
       "output_type": "stream",
       "stream": "stdout",
       "text": [
        "\n",
        "TamalaMarie"
       ]
      },
      {
       "output_type": "stream",
       "stream": "stdout",
       "text": [
        "\n",
        "SirGunnisonsFarm"
       ]
      },
      {
       "output_type": "stream",
       "stream": "stdout",
       "text": [
        "\n",
        "LambchopVintage"
       ]
      },
      {
       "output_type": "stream",
       "stream": "stdout",
       "text": [
        "\n",
        "StudioSeltzer"
       ]
      },
      {
       "output_type": "stream",
       "stream": "stdout",
       "text": [
        "\n",
        "KLMKreations"
       ]
      },
      {
       "output_type": "stream",
       "stream": "stdout",
       "text": [
        "\n",
        "EngravedBlessings"
       ]
      },
      {
       "output_type": "stream",
       "stream": "stdout",
       "text": [
        "\n",
        "TAMAKCO"
       ]
      },
      {
       "output_type": "stream",
       "stream": "stdout",
       "text": [
        "\n",
        "ARandomFind"
       ]
      },
      {
       "output_type": "stream",
       "stream": "stdout",
       "text": [
        "\n",
        "totalgoodstones"
       ]
      },
      {
       "output_type": "stream",
       "stream": "stdout",
       "text": [
        "\n",
        "TrisArtistry"
       ]
      },
      {
       "output_type": "stream",
       "stream": "stdout",
       "text": [
        "\n",
        "aVintageParcel"
       ]
      },
      {
       "output_type": "stream",
       "stream": "stdout",
       "text": [
        "\n",
        "SilvanaD"
       ]
      },
      {
       "output_type": "stream",
       "stream": "stdout",
       "text": [
        "\n",
        "HomeEast"
       ]
      },
      {
       "output_type": "stream",
       "stream": "stdout",
       "text": [
        "\n",
        "CraftyJacksCorner"
       ]
      },
      {
       "output_type": "stream",
       "stream": "stdout",
       "text": [
        "\n",
        "SickStuffDanaPoint"
       ]
      },
      {
       "output_type": "stream",
       "stream": "stdout",
       "text": [
        "\n",
        "yonderyears"
       ]
      },
      {
       "output_type": "stream",
       "stream": "stdout",
       "text": [
        "\n",
        "RailroadSpikeArt"
       ]
      },
      {
       "output_type": "stream",
       "stream": "stdout",
       "text": [
        "\n",
        "TahomaSalvageSupply"
       ]
      },
      {
       "output_type": "stream",
       "stream": "stdout",
       "text": [
        "\n",
        "thelastlastones"
       ]
      },
      {
       "output_type": "stream",
       "stream": "stdout",
       "text": [
        "\n",
        "DocksideTrends"
       ]
      },
      {
       "output_type": "stream",
       "stream": "stdout",
       "text": [
        "\n",
        "Cathygiftsandthings"
       ]
      },
      {
       "output_type": "stream",
       "stream": "stdout",
       "text": [
        "\n",
        "IdolizedVintage"
       ]
      },
      {
       "output_type": "stream",
       "stream": "stdout",
       "text": [
        "\n",
        "TheWhiteBarn59"
       ]
      },
      {
       "output_type": "stream",
       "stream": "stdout",
       "text": [
        "\n",
        "PurrAndBarker"
       ]
      },
      {
       "output_type": "stream",
       "stream": "stdout",
       "text": [
        "\n",
        "NORMA171"
       ]
      },
      {
       "output_type": "stream",
       "stream": "stdout",
       "text": [
        "\n",
        "WEATHEREDWONDERS1"
       ]
      },
      {
       "output_type": "stream",
       "stream": "stdout",
       "text": [
        "\n",
        "WheeArt"
       ]
      },
      {
       "output_type": "stream",
       "stream": "stdout",
       "text": [
        "\n",
        "ELEMENTSedited"
       ]
      },
      {
       "output_type": "stream",
       "stream": "stdout",
       "text": [
        "\n",
        "FISHeFISH"
       ]
      },
      {
       "output_type": "stream",
       "stream": "stdout",
       "text": [
        "\n",
        "SwankyDameVintage"
       ]
      },
      {
       "output_type": "stream",
       "stream": "stdout",
       "text": [
        "\n",
        "SecondHandNews"
       ]
      },
      {
       "output_type": "stream",
       "stream": "stdout",
       "text": [
        "\n",
        "ISLAsteampunk"
       ]
      },
      {
       "output_type": "stream",
       "stream": "stdout",
       "text": [
        "\n",
        "dreamscapedesigns"
       ]
      },
      {
       "output_type": "stream",
       "stream": "stdout",
       "text": [
        "\n",
        "Shelleyville"
       ]
      },
      {
       "output_type": "stream",
       "stream": "stdout",
       "text": [
        "\n",
        "VintageMainline"
       ]
      },
      {
       "output_type": "stream",
       "stream": "stdout",
       "text": [
        "\n",
        "Barnwoodandgoods"
       ]
      },
      {
       "output_type": "stream",
       "stream": "stdout",
       "text": [
        "\n",
        "TheNostalgicBee"
       ]
      },
      {
       "output_type": "stream",
       "stream": "stdout",
       "text": [
        "\n",
        "AngelasAntics"
       ]
      },
      {
       "output_type": "stream",
       "stream": "stdout",
       "text": [
        "\n",
        "Braziltiful"
       ]
      },
      {
       "output_type": "stream",
       "stream": "stdout",
       "text": [
        "\n",
        "LittleRetronome"
       ]
      },
      {
       "output_type": "stream",
       "stream": "stdout",
       "text": [
        "\n",
        "patternmania"
       ]
      },
      {
       "output_type": "stream",
       "stream": "stdout",
       "text": [
        "\n",
        "AmbroseBooks"
       ]
      },
      {
       "output_type": "stream",
       "stream": "stdout",
       "text": [
        "\n",
        "JantasticCreations"
       ]
      },
      {
       "output_type": "stream",
       "stream": "stdout",
       "text": [
        "\n",
        "JaysAttic"
       ]
      },
      {
       "output_type": "stream",
       "stream": "stdout",
       "text": [
        "\n",
        "TheUncommonTreasure"
       ]
      },
      {
       "output_type": "stream",
       "stream": "stdout",
       "text": [
        "\n",
        "AVintageSeason"
       ]
      },
      {
       "output_type": "stream",
       "stream": "stdout",
       "text": [
        "\n",
        "BrilliantThreads"
       ]
      },
      {
       "output_type": "stream",
       "stream": "stdout",
       "text": [
        "\n",
        "jensdreamdecor"
       ]
      },
      {
       "output_type": "stream",
       "stream": "stdout",
       "text": [
        "\n",
        "EmbroideryCollection"
       ]
      },
      {
       "output_type": "stream",
       "stream": "stdout",
       "text": [
        "\n",
        "LaurensGardenCottage"
       ]
      },
      {
       "output_type": "stream",
       "stream": "stdout",
       "text": [
        "\n",
        "BluCorkDesigns"
       ]
      },
      {
       "output_type": "stream",
       "stream": "stdout",
       "text": [
        "\n",
        "whatafindantiques"
       ]
      },
      {
       "output_type": "stream",
       "stream": "stdout",
       "text": [
        "\n",
        "krisfindings"
       ]
      },
      {
       "output_type": "stream",
       "stream": "stdout",
       "text": [
        "\n",
        "CrabbyJacks"
       ]
      },
      {
       "output_type": "stream",
       "stream": "stdout",
       "text": [
        "\n",
        "DecoupageEmporium"
       ]
      },
      {
       "output_type": "stream",
       "stream": "stdout",
       "text": [
        "\n",
        "Alpreowned"
       ]
      },
      {
       "output_type": "stream",
       "stream": "stdout",
       "text": [
        "\n",
        "SultansSigns"
       ]
      },
      {
       "output_type": "stream",
       "stream": "stdout",
       "text": [
        "\n",
        "sewinshirl"
       ]
      },
      {
       "output_type": "stream",
       "stream": "stdout",
       "text": [
        "\n",
        "WreathCreated"
       ]
      },
      {
       "output_type": "stream",
       "stream": "stdout",
       "text": [
        "\n",
        "JAYBAZAAR"
       ]
      },
      {
       "output_type": "stream",
       "stream": "stdout",
       "text": [
        "\n",
        "BabesnBowsBoutique"
       ]
      },
      {
       "output_type": "stream",
       "stream": "stdout",
       "text": [
        "\n",
        "VintageButterflyRae"
       ]
      },
      {
       "output_type": "stream",
       "stream": "stdout",
       "text": [
        "\n",
        "DaRosa"
       ]
      },
      {
       "output_type": "stream",
       "stream": "stdout",
       "text": [
        "\n",
        "sallys4025"
       ]
      },
      {
       "output_type": "stream",
       "stream": "stdout",
       "text": [
        "\n",
        "HardwaresJunkie"
       ]
      },
      {
       "output_type": "stream",
       "stream": "stdout",
       "text": [
        "\n",
        "ThePrimAndProper"
       ]
      },
      {
       "output_type": "stream",
       "stream": "stdout",
       "text": [
        "\n",
        "ozarksfinds"
       ]
      },
      {
       "output_type": "stream",
       "stream": "stdout",
       "text": [
        "\n",
        "Artsycardsee"
       ]
      },
      {
       "output_type": "stream",
       "stream": "stdout",
       "text": [
        "\n",
        "Garthscreations"
       ]
      },
      {
       "output_type": "stream",
       "stream": "stdout",
       "text": [
        "\n",
        "kittylikeyarn"
       ]
      },
      {
       "output_type": "stream",
       "stream": "stdout",
       "text": [
        "\n",
        "ModBotherers"
       ]
      },
      {
       "output_type": "stream",
       "stream": "stdout",
       "text": [
        "\n",
        "LadyRoseTreasures"
       ]
      },
      {
       "output_type": "stream",
       "stream": "stdout",
       "text": [
        "\n",
        "Rags2richescrafts"
       ]
      },
      {
       "output_type": "stream",
       "stream": "stdout",
       "text": [
        "\n",
        "ForeverTruths"
       ]
      },
      {
       "output_type": "stream",
       "stream": "stdout",
       "text": [
        "\n",
        "HeartofOhioVintage"
       ]
      },
      {
       "output_type": "stream",
       "stream": "stdout",
       "text": [
        "\n",
        "313AtticStudio"
       ]
      },
      {
       "output_type": "stream",
       "stream": "stdout",
       "text": [
        "\n",
        "oldandnew8"
       ]
      },
      {
       "output_type": "stream",
       "stream": "stdout",
       "text": [
        "\n",
        "cottonwoodcountry"
       ]
      },
      {
       "output_type": "stream",
       "stream": "stdout",
       "text": [
        "\n",
        "RagstoRugsandMore"
       ]
      },
      {
       "output_type": "stream",
       "stream": "stdout",
       "text": [
        "\n",
        "CatsCrochetNMore"
       ]
      },
      {
       "output_type": "stream",
       "stream": "stdout",
       "text": [
        "\n",
        "gitush"
       ]
      },
      {
       "output_type": "stream",
       "stream": "stdout",
       "text": [
        "\n",
        "Faerymother"
       ]
      },
      {
       "output_type": "stream",
       "stream": "stdout",
       "text": [
        "\n",
        "esterkneen"
       ]
      },
      {
       "output_type": "stream",
       "stream": "stdout",
       "text": [
        "\n",
        "VintageRetroTreasure"
       ]
      },
      {
       "output_type": "stream",
       "stream": "stdout",
       "text": [
        "\n",
        "DianesStuffForYou"
       ]
      },
      {
       "output_type": "stream",
       "stream": "stdout",
       "text": [
        "\n",
        "FullOfPossibilities"
       ]
      },
      {
       "output_type": "stream",
       "stream": "stdout",
       "text": [
        "\n",
        "RusticKeyCompany"
       ]
      },
      {
       "output_type": "stream",
       "stream": "stdout",
       "text": [
        "\n",
        "WhitfieldWoodWorks"
       ]
      },
      {
       "output_type": "stream",
       "stream": "stdout",
       "text": [
        "\n",
        "ProjectsUpcycled"
       ]
      },
      {
       "output_type": "stream",
       "stream": "stdout",
       "text": [
        "\n",
        "BirchBarkDesign"
       ]
      },
      {
       "output_type": "stream",
       "stream": "stdout",
       "text": [
        "\n",
        "JemmDeeStudio"
       ]
      },
      {
       "output_type": "stream",
       "stream": "stdout",
       "text": [
        "\n",
        "SimplyJudaica"
       ]
      },
      {
       "output_type": "stream",
       "stream": "stdout",
       "text": [
        "\n",
        "TwistedVineVintage"
       ]
      },
      {
       "output_type": "stream",
       "stream": "stdout",
       "text": [
        "\n",
        "riricreations"
       ]
      },
      {
       "output_type": "stream",
       "stream": "stdout",
       "text": [
        "\n",
        "DEBSTRAINSANDTHINGS"
       ]
      },
      {
       "output_type": "stream",
       "stream": "stdout",
       "text": [
        "\n",
        "efinegifts"
       ]
      },
      {
       "output_type": "stream",
       "stream": "stdout",
       "text": [
        "\n",
        "PotteryLodge"
       ]
      },
      {
       "output_type": "stream",
       "stream": "stdout",
       "text": [
        "\n",
        "celtsmith"
       ]
      },
      {
       "output_type": "stream",
       "stream": "stdout",
       "text": [
        "\n",
        "SongbirdSalvation"
       ]
      },
      {
       "output_type": "stream",
       "stream": "stdout",
       "text": [
        "\n",
        "cottageprims"
       ]
      },
      {
       "output_type": "stream",
       "stream": "stdout",
       "text": [
        "\n",
        "NeatVintageItems"
       ]
      },
      {
       "output_type": "stream",
       "stream": "stdout",
       "text": [
        "\n",
        "ARusticGarden"
       ]
      },
      {
       "output_type": "stream",
       "stream": "stdout",
       "text": [
        "\n",
        "Dana4Christ"
       ]
      },
      {
       "output_type": "stream",
       "stream": "stdout",
       "text": [
        "\n",
        "TheFrenchLaundry"
       ]
      },
      {
       "output_type": "stream",
       "stream": "stdout",
       "text": [
        "\n",
        "BabyDoodleBoutique"
       ]
      },
      {
       "output_type": "stream",
       "stream": "stdout",
       "text": [
        "\n",
        "AmanyDesign"
       ]
      },
      {
       "output_type": "stream",
       "stream": "stdout",
       "text": [
        "\n",
        "sovietgifts"
       ]
      },
      {
       "output_type": "stream",
       "stream": "stdout",
       "text": [
        "\n",
        "PartyNGift"
       ]
      },
      {
       "output_type": "stream",
       "stream": "stdout",
       "text": [
        "\n",
        "Themommycompany"
       ]
      },
      {
       "output_type": "stream",
       "stream": "stdout",
       "text": [
        "\n",
        "creationdesigns"
       ]
      },
      {
       "output_type": "stream",
       "stream": "stdout",
       "text": [
        "\n",
        "petitbrocante"
       ]
      },
      {
       "output_type": "stream",
       "stream": "stdout",
       "text": [
        "\n",
        "APaperWitch"
       ]
      },
      {
       "output_type": "stream",
       "stream": "stdout",
       "text": [
        "\n",
        "NYLAKELLEYDESIGNS"
       ]
      },
      {
       "output_type": "stream",
       "stream": "stdout",
       "text": [
        "\n",
        "secondseed"
       ]
      },
      {
       "output_type": "stream",
       "stream": "stdout",
       "text": [
        "\n",
        "SmallPlanets"
       ]
      },
      {
       "output_type": "stream",
       "stream": "stdout",
       "text": [
        "\n",
        "TheTortoiseHaus"
       ]
      },
      {
       "output_type": "stream",
       "stream": "stdout",
       "text": [
        "\n",
        "collective1817"
       ]
      },
      {
       "output_type": "stream",
       "stream": "stdout",
       "text": [
        "\n",
        "CrystalDayPrints"
       ]
      },
      {
       "output_type": "stream",
       "stream": "stdout",
       "text": [
        "\n",
        "AnotherTessCreation"
       ]
      },
      {
       "output_type": "stream",
       "stream": "stdout",
       "text": [
        "\n",
        "GandDCreations1"
       ]
      },
      {
       "output_type": "stream",
       "stream": "stdout",
       "text": [
        "\n",
        "LehoStudios"
       ]
      },
      {
       "output_type": "stream",
       "stream": "stdout",
       "text": [
        "\n",
        "007ALVAGE"
       ]
      },
      {
       "output_type": "stream",
       "stream": "stdout",
       "text": [
        "\n",
        "BitsOfLeatherNLace"
       ]
      },
      {
       "output_type": "stream",
       "stream": "stdout",
       "text": [
        "\n",
        "SimpleisPrettyShop"
       ]
      },
      {
       "output_type": "stream",
       "stream": "stdout",
       "text": [
        "\n",
        "RosesandBees"
       ]
      },
      {
       "output_type": "stream",
       "stream": "stdout",
       "text": [
        "\n",
        "vPorterhouse"
       ]
      },
      {
       "output_type": "stream",
       "stream": "stdout",
       "text": [
        "\n",
        "thevintageparade"
       ]
      },
      {
       "output_type": "stream",
       "stream": "stdout",
       "text": [
        "\n",
        "MYMIMISTAR"
       ]
      },
      {
       "output_type": "stream",
       "stream": "stdout",
       "text": [
        "\n",
        "PigsPokeCollectibles"
       ]
      },
      {
       "output_type": "stream",
       "stream": "stdout",
       "text": [
        "\n",
        "TheYellowDuckieShop"
       ]
      },
      {
       "output_type": "stream",
       "stream": "stdout",
       "text": [
        "\n",
        "MillerVintageChicago"
       ]
      },
      {
       "output_type": "stream",
       "stream": "stdout",
       "text": [
        "\n",
        "NopalitoVintageMore"
       ]
      },
      {
       "output_type": "stream",
       "stream": "stdout",
       "text": [
        "\n",
        "CmeStore"
       ]
      },
      {
       "output_type": "stream",
       "stream": "stdout",
       "text": [
        "\n",
        "TwoOldeYoYos"
       ]
      },
      {
       "output_type": "stream",
       "stream": "stdout",
       "text": [
        "\n",
        "PropsandPieces"
       ]
      },
      {
       "output_type": "stream",
       "stream": "stdout",
       "text": [
        "\n",
        "craftandeverything"
       ]
      },
      {
       "output_type": "stream",
       "stream": "stdout",
       "text": [
        "\n",
        "philipwilliamson"
       ]
      },
      {
       "output_type": "stream",
       "stream": "stdout",
       "text": [
        "\n",
        "VAlexanders"
       ]
      },
      {
       "output_type": "stream",
       "stream": "stdout",
       "text": [
        "\n",
        "rufflesandvintage"
       ]
      },
      {
       "output_type": "stream",
       "stream": "stdout",
       "text": [
        "\n",
        "BlueMonkeyAntiques"
       ]
      },
      {
       "output_type": "stream",
       "stream": "stdout",
       "text": [
        "\n",
        "RummagingRoadRunner"
       ]
      },
      {
       "output_type": "stream",
       "stream": "stdout",
       "text": [
        "\n",
        "FarmerMade"
       ]
      },
      {
       "output_type": "stream",
       "stream": "stdout",
       "text": [
        "\n",
        "2lewa"
       ]
      },
      {
       "output_type": "stream",
       "stream": "stdout",
       "text": [
        "\n",
        "TheThreadingHouse"
       ]
      },
      {
       "output_type": "stream",
       "stream": "stdout",
       "text": [
        "\n",
        "WoolyRhinoLTD"
       ]
      },
      {
       "output_type": "stream",
       "stream": "stdout",
       "text": [
        "\n",
        "MoldCreationsNmore"
       ]
      },
      {
       "output_type": "stream",
       "stream": "stdout",
       "text": [
        "\n",
        "PennAntiqueRestore"
       ]
      },
      {
       "output_type": "stream",
       "stream": "stdout",
       "text": [
        "\n",
        "TwoSassyCats"
       ]
      },
      {
       "output_type": "stream",
       "stream": "stdout",
       "text": [
        "\n",
        "WajitzuMagikShop"
       ]
      },
      {
       "output_type": "stream",
       "stream": "stdout",
       "text": [
        "\n",
        "Lucytheena"
       ]
      },
      {
       "output_type": "stream",
       "stream": "stdout",
       "text": [
        "\n",
        "CelestialReCreations"
       ]
      },
      {
       "output_type": "stream",
       "stream": "stdout",
       "text": [
        "\n",
        "MiaBlake"
       ]
      },
      {
       "output_type": "stream",
       "stream": "stdout",
       "text": [
        "\n",
        "cottonbin"
       ]
      },
      {
       "output_type": "stream",
       "stream": "stdout",
       "text": [
        "\n",
        "PlacesToPutThings"
       ]
      },
      {
       "output_type": "stream",
       "stream": "stdout",
       "text": [
        "\n",
        "kmdesigns2015"
       ]
      },
      {
       "output_type": "stream",
       "stream": "stdout",
       "text": [
        "\n",
        "BusyBeaverBoutique"
       ]
      },
      {
       "output_type": "stream",
       "stream": "stdout",
       "text": [
        "\n",
        "GracieAndMaks"
       ]
      },
      {
       "output_type": "stream",
       "stream": "stdout",
       "text": [
        "\n",
        "DashOfOld"
       ]
      },
      {
       "output_type": "stream",
       "stream": "stdout",
       "text": [
        "\n",
        "AnnasDream"
       ]
      },
      {
       "output_type": "stream",
       "stream": "stdout",
       "text": [
        "\n",
        "VintageCornerBazaar"
       ]
      },
      {
       "output_type": "stream",
       "stream": "stdout",
       "text": [
        "\n",
        "BlissBoutiqueKC"
       ]
      },
      {
       "output_type": "stream",
       "stream": "stdout",
       "text": [
        "\n",
        "FuzzandForge"
       ]
      },
      {
       "output_type": "stream",
       "stream": "stdout",
       "text": [
        "\n",
        "TheFlowerPicker"
       ]
      },
      {
       "output_type": "stream",
       "stream": "stdout",
       "text": [
        "\n",
        "SweetPetitesBoutique"
       ]
      },
      {
       "output_type": "stream",
       "stream": "stdout",
       "text": [
        "\n",
        "TheDustyOldShack"
       ]
      },
      {
       "output_type": "stream",
       "stream": "stdout",
       "text": [
        "\n",
        "kasefazem"
       ]
      },
      {
       "output_type": "stream",
       "stream": "stdout",
       "text": [
        "\n",
        "TylerKingstonWoodCo"
       ]
      },
      {
       "output_type": "stream",
       "stream": "stdout",
       "text": [
        "\n",
        "circahardware"
       ]
      },
      {
       "output_type": "stream",
       "stream": "stdout",
       "text": [
        "\n",
        "HouseOfAndaloo"
       ]
      },
      {
       "output_type": "stream",
       "stream": "stdout",
       "text": [
        "\n",
        "uniqueudinkdesigns"
       ]
      },
      {
       "output_type": "stream",
       "stream": "stdout",
       "text": [
        "\n",
        "ThePinkRoom"
       ]
      },
      {
       "output_type": "stream",
       "stream": "stdout",
       "text": [
        "\n",
        "RekindledPleasures"
       ]
      },
      {
       "output_type": "stream",
       "stream": "stdout",
       "text": [
        "\n",
        "PowersInTheWoods"
       ]
      },
      {
       "output_type": "stream",
       "stream": "stdout",
       "text": [
        "\n",
        "ShabbyChicCharm"
       ]
      },
      {
       "output_type": "stream",
       "stream": "stdout",
       "text": [
        "\n",
        "wynnsantiques"
       ]
      },
      {
       "output_type": "stream",
       "stream": "stdout",
       "text": [
        "\n",
        "2BEVINTAGE"
       ]
      },
      {
       "output_type": "stream",
       "stream": "stdout",
       "text": [
        "\n",
        "JunebugsPhotoGifts"
       ]
      },
      {
       "output_type": "stream",
       "stream": "stdout",
       "text": [
        "\n",
        "cmadsen88"
       ]
      },
      {
       "output_type": "stream",
       "stream": "stdout",
       "text": [
        "\n",
        "Seapets"
       ]
      },
      {
       "output_type": "stream",
       "stream": "stdout",
       "text": [
        "\n",
        "worn2perfection"
       ]
      },
      {
       "output_type": "stream",
       "stream": "stdout",
       "text": [
        "\n",
        "TheVeryBusyBeader"
       ]
      },
      {
       "output_type": "stream",
       "stream": "stdout",
       "text": [
        "\n",
        "CozyHomeCrochet"
       ]
      },
      {
       "output_type": "stream",
       "stream": "stdout",
       "text": [
        "\n",
        "Borealman"
       ]
      },
      {
       "output_type": "stream",
       "stream": "stdout",
       "text": [
        "\n",
        "DogLeashCaddies"
       ]
      },
      {
       "output_type": "stream",
       "stream": "stdout",
       "text": [
        "\n",
        "UnlimitedStitching"
       ]
      },
      {
       "output_type": "stream",
       "stream": "stdout",
       "text": [
        "\n",
        "CRIMSONBRAMBLE"
       ]
      },
      {
       "output_type": "stream",
       "stream": "stdout",
       "text": [
        "\n",
        "GayleNeely"
       ]
      },
      {
       "output_type": "stream",
       "stream": "stdout",
       "text": [
        "\n",
        "hopefullworld"
       ]
      },
      {
       "output_type": "stream",
       "stream": "stdout",
       "text": [
        "\n",
        "GoodNiteGracie"
       ]
      },
      {
       "output_type": "stream",
       "stream": "stdout",
       "text": [
        "\n",
        "Bedotted"
       ]
      },
      {
       "output_type": "stream",
       "stream": "stdout",
       "text": [
        "\n",
        "OneDayAtAThyme"
       ]
      },
      {
       "output_type": "stream",
       "stream": "stdout",
       "text": [
        "\n",
        "Wysteriasage"
       ]
      },
      {
       "output_type": "stream",
       "stream": "stdout",
       "text": [
        "\n",
        "delucasbeads"
       ]
      },
      {
       "output_type": "stream",
       "stream": "stdout",
       "text": [
        "\n",
        "lakecreeklogwork"
       ]
      },
      {
       "output_type": "stream",
       "stream": "stdout",
       "text": [
        "\n",
        "emadison101"
       ]
      },
      {
       "output_type": "stream",
       "stream": "stdout",
       "text": [
        "\n",
        "OldeBerry"
       ]
      },
      {
       "output_type": "stream",
       "stream": "stdout",
       "text": [
        "\n",
        "RooseveltStreetGifts"
       ]
      },
      {
       "output_type": "stream",
       "stream": "stdout",
       "text": [
        "\n",
        "SunshineLampwork"
       ]
      },
      {
       "output_type": "stream",
       "stream": "stdout",
       "text": [
        "\n",
        "BaxaTreasures"
       ]
      },
      {
       "output_type": "stream",
       "stream": "stdout",
       "text": [
        "\n",
        "MyAtticFinds"
       ]
      },
      {
       "output_type": "stream",
       "stream": "stdout",
       "text": [
        "\n",
        "StylishInteriors"
       ]
      },
      {
       "output_type": "stream",
       "stream": "stdout",
       "text": [
        "\n",
        "KeswickandWeldon"
       ]
      },
      {
       "output_type": "stream",
       "stream": "stdout",
       "text": [
        "\n",
        "barngiftsandsupply"
       ]
      },
      {
       "output_type": "stream",
       "stream": "stdout",
       "text": [
        "\n",
        "PatternsAndSuch"
       ]
      },
      {
       "output_type": "stream",
       "stream": "stdout",
       "text": [
        "\n",
        "TheDipLady"
       ]
      },
      {
       "output_type": "stream",
       "stream": "stdout",
       "text": [
        "\n",
        "SchoolofCakes"
       ]
      },
      {
       "output_type": "stream",
       "stream": "stdout",
       "text": [
        "\n",
        "inkansascity"
       ]
      },
      {
       "output_type": "stream",
       "stream": "stdout",
       "text": [
        "\n",
        "TheArtofChic"
       ]
      },
      {
       "output_type": "stream",
       "stream": "stdout",
       "text": [
        "\n",
        "NewOldItems"
       ]
      },
      {
       "output_type": "stream",
       "stream": "stdout",
       "text": [
        "\n",
        "MommyisCrafty"
       ]
      },
      {
       "output_type": "stream",
       "stream": "stdout",
       "text": [
        "\n",
        "TheDarlingDuck"
       ]
      },
      {
       "output_type": "stream",
       "stream": "stdout",
       "text": [
        "\n",
        "ChocolateBoxCottage"
       ]
      },
      {
       "output_type": "stream",
       "stream": "stdout",
       "text": [
        "\n",
        "GlitteringprizeGlass"
       ]
      },
      {
       "output_type": "stream",
       "stream": "stdout",
       "text": [
        "\n",
        "PinkThreadsShop"
       ]
      },
      {
       "output_type": "stream",
       "stream": "stdout",
       "text": [
        "\n",
        "JustBecauseTreasures"
       ]
      },
      {
       "output_type": "stream",
       "stream": "stdout",
       "text": [
        "\n",
        "TheeLetterQHandmade"
       ]
      },
      {
       "output_type": "stream",
       "stream": "stdout",
       "text": [
        "\n",
        "QuiltBlocksandMore"
       ]
      },
      {
       "output_type": "stream",
       "stream": "stdout",
       "text": [
        "\n",
        "elephantdreams"
       ]
      },
      {
       "output_type": "stream",
       "stream": "stdout",
       "text": [
        "\n",
        "WillowsWreathsCo"
       ]
      },
      {
       "output_type": "stream",
       "stream": "stdout",
       "text": [
        "\n",
        "Old2NewTreasures"
       ]
      },
      {
       "output_type": "stream",
       "stream": "stdout",
       "text": [
        "\n",
        "GriffinsCountry"
       ]
      },
      {
       "output_type": "stream",
       "stream": "stdout",
       "text": [
        "\n",
        "AuthenticChicAntique"
       ]
      },
      {
       "output_type": "stream",
       "stream": "stdout",
       "text": [
        "\n",
        "Ganibear"
       ]
      },
      {
       "output_type": "stream",
       "stream": "stdout",
       "text": [
        "\n",
        "USSRandENSV"
       ]
      },
      {
       "output_type": "stream",
       "stream": "stdout",
       "text": [
        "\n",
        "DejaNewStudio"
       ]
      },
      {
       "output_type": "stream",
       "stream": "stdout",
       "text": [
        "\n",
        "EastWestVintage1"
       ]
      },
      {
       "output_type": "stream",
       "stream": "stdout",
       "text": [
        "\n",
        "TheSpiritOfJoy"
       ]
      },
      {
       "output_type": "stream",
       "stream": "stdout",
       "text": [
        "\n",
        "FleaMarketGal"
       ]
      },
      {
       "output_type": "stream",
       "stream": "stdout",
       "text": [
        "\n",
        "BayCountryCreations"
       ]
      },
      {
       "output_type": "stream",
       "stream": "stdout",
       "text": [
        "\n",
        "Hudsonsholidays"
       ]
      },
      {
       "output_type": "stream",
       "stream": "stdout",
       "text": [
        "\n",
        "voladoravintage"
       ]
      },
      {
       "output_type": "stream",
       "stream": "stdout",
       "text": [
        "\n",
        "DeviantDecor"
       ]
      },
      {
       "output_type": "stream",
       "stream": "stdout",
       "text": [
        "\n",
        "VerucasVintage"
       ]
      },
      {
       "output_type": "stream",
       "stream": "stdout",
       "text": [
        "\n",
        "TheBrambleyCottage"
       ]
      },
      {
       "output_type": "stream",
       "stream": "stdout",
       "text": [
        "\n",
        "Marlike"
       ]
      },
      {
       "output_type": "stream",
       "stream": "stdout",
       "text": [
        "\n",
        "talkingfashionnet"
       ]
      },
      {
       "output_type": "stream",
       "stream": "stdout",
       "text": [
        "\n",
        "Crackingmosaics"
       ]
      },
      {
       "output_type": "stream",
       "stream": "stdout",
       "text": [
        "\n",
        "MysticKnotwork"
       ]
      },
      {
       "output_type": "stream",
       "stream": "stdout",
       "text": [
        "\n",
        "vintageeclecticity"
       ]
      },
      {
       "output_type": "stream",
       "stream": "stdout",
       "text": [
        "\n",
        "VintageBeautyArchive"
       ]
      },
      {
       "output_type": "stream",
       "stream": "stdout",
       "text": [
        "\n",
        "TheNoteworthyNest"
       ]
      },
      {
       "output_type": "stream",
       "stream": "stdout",
       "text": [
        "\n",
        "Peacockgumdrop"
       ]
      },
      {
       "output_type": "stream",
       "stream": "stdout",
       "text": [
        "\n",
        "DejaVuJewelryandMore"
       ]
      },
      {
       "output_type": "stream",
       "stream": "stdout",
       "text": [
        "\n",
        "twisprocks"
       ]
      },
      {
       "output_type": "stream",
       "stream": "stdout",
       "text": [
        "\n",
        "OldRaven"
       ]
      },
      {
       "output_type": "stream",
       "stream": "stdout",
       "text": [
        "\n",
        "NHardware"
       ]
      },
      {
       "output_type": "stream",
       "stream": "stdout",
       "text": [
        "\n",
        "BlueStarObscura"
       ]
      },
      {
       "output_type": "stream",
       "stream": "stdout",
       "text": [
        "\n",
        "DartingDogCrafts"
       ]
      },
      {
       "output_type": "stream",
       "stream": "stdout",
       "text": [
        "\n",
        "shopkeeparlington"
       ]
      },
      {
       "output_type": "stream",
       "stream": "stdout",
       "text": [
        "\n",
        "That70sShoppe"
       ]
      },
      {
       "output_type": "stream",
       "stream": "stdout",
       "text": [
        "\n",
        "SweetwaterGems"
       ]
      },
      {
       "output_type": "stream",
       "stream": "stdout",
       "text": [
        "\n",
        "JanesHomeBuilding"
       ]
      },
      {
       "output_type": "stream",
       "stream": "stdout",
       "text": [
        "\n",
        "ChangingTide"
       ]
      },
      {
       "output_type": "stream",
       "stream": "stdout",
       "text": [
        "\n",
        "PaneInTheGlassShop"
       ]
      },
      {
       "output_type": "stream",
       "stream": "stdout",
       "text": [
        "\n",
        "LionheartGalleries"
       ]
      },
      {
       "output_type": "stream",
       "stream": "stdout",
       "text": [
        "\n",
        "AnaraHill"
       ]
      },
      {
       "output_type": "stream",
       "stream": "stdout",
       "text": [
        "\n",
        "MossBetweenMyToes"
       ]
      },
      {
       "output_type": "stream",
       "stream": "stdout",
       "text": [
        "\n",
        "propsculptor"
       ]
      },
      {
       "output_type": "stream",
       "stream": "stdout",
       "text": [
        "\n",
        "SeaLilyStudio"
       ]
      },
      {
       "output_type": "stream",
       "stream": "stdout",
       "text": [
        "\n",
        "lazydaysrelics"
       ]
      },
      {
       "output_type": "stream",
       "stream": "stdout",
       "text": [
        "\n",
        "StarryNightsStudioCo"
       ]
      },
      {
       "output_type": "stream",
       "stream": "stdout",
       "text": [
        "\n",
        "CrystalMamma"
       ]
      },
      {
       "output_type": "stream",
       "stream": "stdout",
       "text": [
        "\n",
        "fansydesigns"
       ]
      },
      {
       "output_type": "stream",
       "stream": "stdout",
       "text": [
        "\n",
        "ForeverYoursCreation"
       ]
      },
      {
       "output_type": "stream",
       "stream": "stdout",
       "text": [
        "\n",
        "LilyLaneTreasureCo"
       ]
      },
      {
       "output_type": "stream",
       "stream": "stdout",
       "text": [
        "\n",
        "AbbyGirlsCloset"
       ]
      },
      {
       "output_type": "stream",
       "stream": "stdout",
       "text": [
        "\n",
        "BrownPaperMoon"
       ]
      },
      {
       "output_type": "stream",
       "stream": "stdout",
       "text": [
        "\n",
        "KarensMonogramming"
       ]
      },
      {
       "output_type": "stream",
       "stream": "stdout",
       "text": [
        "\n",
        "TheCommunityForklift"
       ]
      },
      {
       "output_type": "stream",
       "stream": "stdout",
       "text": [
        "\n",
        "CjsCollection"
       ]
      },
      {
       "output_type": "stream",
       "stream": "stdout",
       "text": [
        "\n",
        "VintageStreetDesigns"
       ]
      },
      {
       "output_type": "stream",
       "stream": "stdout",
       "text": [
        "\n",
        "ElianasTreasures"
       ]
      },
      {
       "output_type": "stream",
       "stream": "stdout",
       "text": [
        "\n",
        "stillthemind"
       ]
      },
      {
       "output_type": "stream",
       "stream": "stdout",
       "text": [
        "\n",
        "RusticHeartOnline"
       ]
      },
      {
       "output_type": "stream",
       "stream": "stdout",
       "text": [
        "\n",
        "Pickersistersyorktwn"
       ]
      },
      {
       "output_type": "stream",
       "stream": "stdout",
       "text": [
        "\n",
        "BOULOTDODO"
       ]
      },
      {
       "output_type": "stream",
       "stream": "stdout",
       "text": [
        "\n",
        "MyDearWatsonDesigns"
       ]
      },
      {
       "output_type": "stream",
       "stream": "stdout",
       "text": [
        "\n",
        "BotanicaExotica"
       ]
      },
      {
       "output_type": "stream",
       "stream": "stdout",
       "text": [
        "\n",
        "exileon7thstreet"
       ]
      },
      {
       "output_type": "stream",
       "stream": "stdout",
       "text": [
        "\n",
        "LadyIrisandCompany"
       ]
      },
      {
       "output_type": "stream",
       "stream": "stdout",
       "text": [
        "\n",
        "EinsteinandPippy"
       ]
      },
      {
       "output_type": "stream",
       "stream": "stdout",
       "text": [
        "\n",
        "NostalgiaMaine"
       ]
      },
      {
       "output_type": "stream",
       "stream": "stdout",
       "text": [
        "\n",
        "FrenchMelody"
       ]
      },
      {
       "output_type": "stream",
       "stream": "stdout",
       "text": [
        "\n",
        "SYPHOTOGRAPHY"
       ]
      },
      {
       "output_type": "stream",
       "stream": "stdout",
       "text": [
        "\n",
        "MidModandMorganstern"
       ]
      },
      {
       "output_type": "stream",
       "stream": "stdout",
       "text": [
        "\n",
        "UknowUneedAnother"
       ]
      },
      {
       "output_type": "stream",
       "stream": "stdout",
       "text": [
        "\n",
        "IMetHimOnASunday"
       ]
      },
      {
       "output_type": "stream",
       "stream": "stdout",
       "text": [
        "\n",
        "BobbiBryersArts"
       ]
      },
      {
       "output_type": "stream",
       "stream": "stdout",
       "text": [
        "\n",
        "MustyPages"
       ]
      },
      {
       "output_type": "stream",
       "stream": "stdout",
       "text": [
        "\n",
        "mypicketfencecottage"
       ]
      },
      {
       "output_type": "stream",
       "stream": "stdout",
       "text": [
        "\n",
        "birdcrafter"
       ]
      },
      {
       "output_type": "stream",
       "stream": "stdout",
       "text": [
        "\n",
        "EarthlieTreasures"
       ]
      },
      {
       "output_type": "stream",
       "stream": "stdout",
       "text": [
        "\n",
        "psmilsky"
       ]
      },
      {
       "output_type": "stream",
       "stream": "stdout",
       "text": [
        "\n",
        "MerilinsRetro"
       ]
      },
      {
       "output_type": "stream",
       "stream": "stdout",
       "text": [
        "\n",
        "VeryVintageVera"
       ]
      },
      {
       "output_type": "stream",
       "stream": "stdout",
       "text": [
        "\n",
        "VintageShoppingSpree"
       ]
      },
      {
       "output_type": "stream",
       "stream": "stdout",
       "text": [
        "\n",
        "KnobNots"
       ]
      },
      {
       "output_type": "stream",
       "stream": "stdout",
       "text": [
        "\n",
        "Luv2Junk"
       ]
      },
      {
       "output_type": "stream",
       "stream": "stdout",
       "text": [
        "\n",
        "BinkyLoveCat"
       ]
      },
      {
       "output_type": "stream",
       "stream": "stdout",
       "text": [
        "\n",
        "BlueBarnCollectibles"
       ]
      },
      {
       "output_type": "stream",
       "stream": "stdout",
       "text": [
        "\n",
        "AppleBottoms53"
       ]
      },
      {
       "output_type": "stream",
       "stream": "stdout",
       "text": [
        "\n",
        "DiscardedDiscovered"
       ]
      },
      {
       "output_type": "stream",
       "stream": "stdout",
       "text": [
        "\n",
        "DippyDaydream"
       ]
      },
      {
       "output_type": "stream",
       "stream": "stdout",
       "text": [
        "\n",
        "caramelgallery"
       ]
      },
      {
       "output_type": "stream",
       "stream": "stdout",
       "text": [
        "\n",
        "BeauCuir"
       ]
      },
      {
       "output_type": "stream",
       "stream": "stdout",
       "text": [
        "\n",
        "dollstobookmarks"
       ]
      },
      {
       "output_type": "stream",
       "stream": "stdout",
       "text": [
        "\n",
        "SecondWindShop"
       ]
      },
      {
       "output_type": "stream",
       "stream": "stdout",
       "text": [
        "\n",
        "LynnsLavishLoot"
       ]
      },
      {
       "output_type": "stream",
       "stream": "stdout",
       "text": [
        "\n",
        "TheFreckledBerry"
       ]
      },
      {
       "output_type": "stream",
       "stream": "stdout",
       "text": [
        "\n",
        "AlexBalcer"
       ]
      },
      {
       "output_type": "stream",
       "stream": "stdout",
       "text": [
        "\n",
        "crochetbysandi"
       ]
      },
      {
       "output_type": "stream",
       "stream": "stdout",
       "text": [
        "\n",
        "ABGGoodStuff"
       ]
      },
      {
       "output_type": "stream",
       "stream": "stdout",
       "text": [
        "\n",
        "TheRightSpot"
       ]
      },
      {
       "output_type": "stream",
       "stream": "stdout",
       "text": [
        "\n",
        "5and10vintage"
       ]
      },
      {
       "output_type": "stream",
       "stream": "stdout",
       "text": [
        "\n",
        "fantasycottage"
       ]
      },
      {
       "output_type": "stream",
       "stream": "stdout",
       "text": [
        "\n",
        "SadRosetta"
       ]
      },
      {
       "output_type": "stream",
       "stream": "stdout",
       "text": [
        "\n",
        "CabinetCouture"
       ]
      },
      {
       "output_type": "stream",
       "stream": "stdout",
       "text": [
        "\n",
        "Used2BNewCreations"
       ]
      },
      {
       "output_type": "stream",
       "stream": "stdout",
       "text": [
        "\n",
        "oldportlandhardware"
       ]
      },
      {
       "output_type": "stream",
       "stream": "stdout",
       "text": [
        "\n",
        "JakandShanDesigns"
       ]
      },
      {
       "output_type": "stream",
       "stream": "stdout",
       "text": [
        "\n",
        "Andraliz"
       ]
      },
      {
       "output_type": "stream",
       "stream": "stdout",
       "text": [
        "\n",
        "cathiefilian"
       ]
      },
      {
       "output_type": "stream",
       "stream": "stdout",
       "text": [
        "\n",
        "siglaserdesigns"
       ]
      },
      {
       "output_type": "stream",
       "stream": "stdout",
       "text": [
        "\n",
        "crochetedlittlething"
       ]
      },
      {
       "output_type": "stream",
       "stream": "stdout",
       "text": [
        "\n",
        "AnneElizabethFineArt"
       ]
      },
      {
       "output_type": "stream",
       "stream": "stdout",
       "text": [
        "\n",
        "robertotiranti"
       ]
      },
      {
       "output_type": "stream",
       "stream": "stdout",
       "text": [
        "\n",
        "ClockworkRummage"
       ]
      },
      {
       "output_type": "stream",
       "stream": "stdout",
       "text": [
        "\n",
        "MIDCENTURYTREASURES"
       ]
      },
      {
       "output_type": "stream",
       "stream": "stdout",
       "text": [
        "\n",
        "InsultrOfArizona"
       ]
      },
      {
       "output_type": "stream",
       "stream": "stdout",
       "text": [
        "\n",
        "FoothillCrafters"
       ]
      }
     ]
    },
    {
     "cell_type": "code",
     "collapsed": false,
     "input": [
      "print(scrape.prices('MyKnitCroch'))"
     ],
     "language": "python",
     "metadata": {},
     "outputs": [
      {
       "output_type": "stream",
       "stream": "stdout",
       "text": [
        "MyKnitCroch\n",
        "21"
       ]
      },
      {
       "output_type": "stream",
       "stream": "stdout",
       "text": [
        "\n"
       ]
      }
     ],
     "prompt_number": 3
    },
    {
     "cell_type": "code",
     "collapsed": false,
     "input": [],
     "language": "python",
     "metadata": {},
     "outputs": []
    }
   ],
   "metadata": {}
  }
 ]
}