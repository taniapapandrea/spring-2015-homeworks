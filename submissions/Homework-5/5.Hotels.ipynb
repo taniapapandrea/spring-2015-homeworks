{
 "metadata": {
  "name": "",
  "signature": "sha256:5e724a1dac537b86eb697ef5311d7af7f52f76affb679436837ba1c1db1bda1f"
 },
 "nbformat": 3,
 "nbformat_minor": 0,
 "worksheets": [
  {
   "cells": [
    {
     "cell_type": "markdown",
     "metadata": {},
     "source": [
      "(In order to load the stylesheet of this notebook, execute the last code cell in this notebook)"
     ]
    },
    {
     "cell_type": "heading",
     "level": 1,
     "metadata": {},
     "source": [
      "Analyzing hotel ratings on Tripadvisor"
     ]
    },
    {
     "cell_type": "markdown",
     "metadata": {},
     "source": [
      "In this homework we will focus on practicing two techniques: web scraping and regression. For the first part, we will build upon the sample code from the Lecture and attempt to get some basic information for each hotel. Then, we will fit a regression model on this information and try to analyze it.   "
     ]
    },
    {
     "cell_type": "markdown",
     "metadata": {},
     "source": [
      "One of the main disadvantages of scraping a website instead of using an API is that, without any notice, the website may change its layout and render our code useless. Something like that happened in our case. Tripadvisor changed the layout of the buttons that we use to navigate between the different pages of the results. This was the main reason people were having problem with executing the code."
     ]
    },
    {
     "cell_type": "markdown",
     "metadata": {},
     "source": [
      "**Task 1 (20 pts)**\n",
      "\n",
      "The first task of the homework is to fix the scraping code. We basically need to replace the part where we are checking if there is another page and getting its link with new code that reflects the new navigation layout. "
     ]
    },
    {
     "cell_type": "code",
     "collapsed": false,
     "input": [
      "import time\n",
      "\n",
      "import numpy as np\n",
      "import matplotlib.pyplot as plt\n",
      "import pandas as pd\n",
      "\n",
      "import scipy as sp\n",
      "import scipy.sparse.linalg as linalg\n",
      "import scipy.cluster.hierarchy as hr\n",
      "from scipy.spatial.distance import pdist, squareform\n",
      "\n",
      "import sklearn.datasets as datasets\n",
      "import sklearn.metrics as metrics\n",
      "import sklearn.utils as utils\n",
      "import sklearn.linear_model as linear_model\n",
      "import sklearn.cross_validation as cross_validation\n",
      "import sklearn.cluster as cluster\n",
      "from sklearn.neighbors import KNeighborsClassifier\n",
      "from sklearn.decomposition import TruncatedSVD\n",
      "from sklearn.preprocessing import StandardScaler\n",
      "\n",
      "import statsmodels.api as sm\n",
      "\n",
      "from patsy import dmatrices\n",
      "\n",
      "import seaborn as sns\n",
      "%matplotlib inline\n",
      "import scrape_solution as scrape\n",
      "hotels = scrape.scrape_hotels('Boston', 'Massachusetts')\n",
      "print(type(hotels))"
     ],
     "language": "python",
     "metadata": {},
     "outputs": [
      {
       "output_type": "stream",
       "stream": "stderr",
       "text": [
        "[2015-04-06 20:38:09,063] #################################### Option 2 ######################################\n"
       ]
      },
      {
       "output_type": "stream",
       "stream": "stderr",
       "text": [
        "INFO:scrape_solution:#################################### Option 2 ######################################\n"
       ]
      },
      {
       "output_type": "stream",
       "stream": "stderr",
       "text": [
        "[2015-04-06 20:38:09,191] #################################### Option 3 ######################################\n"
       ]
      },
      {
       "output_type": "stream",
       "stream": "stderr",
       "text": [
        "INFO:scrape_solution:#################################### Option 3 ######################################\n"
       ]
      },
      {
       "output_type": "stream",
       "stream": "stderr",
       "text": [
        "[2015-04-06 20:38:09,320] Hotel name: Hyatt Boston Harbor\n"
       ]
      },
      {
       "output_type": "stream",
       "stream": "stderr",
       "text": [
        "INFO:scrape_solution:Hotel name: Hyatt Boston Harbor\n"
       ]
      },
      {
       "output_type": "stream",
       "stream": "stderr",
       "text": [
        "[2015-04-06 20:38:09,321] Stars: 4\n"
       ]
      },
      {
       "output_type": "stream",
       "stream": "stderr",
       "text": [
        "INFO:scrape_solution:Stars: 4\n"
       ]
      },
      {
       "output_type": "stream",
       "stream": "stderr",
       "text": [
        "[2015-04-06 20:38:09,323] Number of reviews: 1,171 reviews \n"
       ]
      },
      {
       "output_type": "stream",
       "stream": "stderr",
       "text": [
        "INFO:scrape_solution:Number of reviews: 1,171 reviews \n"
       ]
      },
      {
       "output_type": "stream",
       "stream": "stderr",
       "text": [
        "[2015-04-06 20:38:12,653] Hotel name: Seaport Boston Hotel\n"
       ]
      },
      {
       "output_type": "stream",
       "stream": "stderr",
       "text": [
        "INFO:scrape_solution:Hotel name: Seaport Boston Hotel\n"
       ]
      },
      {
       "output_type": "stream",
       "stream": "stderr",
       "text": [
        "[2015-04-06 20:38:12,655] Stars: 4.5\n"
       ]
      },
      {
       "output_type": "stream",
       "stream": "stderr",
       "text": [
        "INFO:scrape_solution:Stars: 4.5\n"
       ]
      },
      {
       "output_type": "stream",
       "stream": "stderr",
       "text": [
        "[2015-04-06 20:38:12,658] Number of reviews: 2,551 reviews \n"
       ]
      },
      {
       "output_type": "stream",
       "stream": "stderr",
       "text": [
        "INFO:scrape_solution:Number of reviews: 2,551 reviews \n"
       ]
      },
      {
       "output_type": "stream",
       "stream": "stderr",
       "text": [
        "[2015-04-06 20:38:15,952] Hotel name: Hotel Commonwealth\n"
       ]
      },
      {
       "output_type": "stream",
       "stream": "stderr",
       "text": [
        "INFO:scrape_solution:Hotel name: Hotel Commonwealth\n"
       ]
      },
      {
       "output_type": "stream",
       "stream": "stderr",
       "text": [
        "[2015-04-06 20:38:15,953] Stars: 4.5\n"
       ]
      },
      {
       "output_type": "stream",
       "stream": "stderr",
       "text": [
        "INFO:scrape_solution:Stars: 4.5\n"
       ]
      },
      {
       "output_type": "stream",
       "stream": "stderr",
       "text": [
        "[2015-04-06 20:38:15,954] Number of reviews: 2,947 reviews \n"
       ]
      },
      {
       "output_type": "stream",
       "stream": "stderr",
       "text": [
        "INFO:scrape_solution:Number of reviews: 2,947 reviews \n"
       ]
      },
      {
       "output_type": "stream",
       "stream": "stderr",
       "text": [
        "[2015-04-06 20:38:19,296] Hotel name: Boston Harbor Hotel\n"
       ]
      },
      {
       "output_type": "stream",
       "stream": "stderr",
       "text": [
        "INFO:scrape_solution:Hotel name: Boston Harbor Hotel\n"
       ]
      },
      {
       "output_type": "stream",
       "stream": "stderr",
       "text": [
        "[2015-04-06 20:38:19,297] Stars: 4.5\n"
       ]
      },
      {
       "output_type": "stream",
       "stream": "stderr",
       "text": [
        "INFO:scrape_solution:Stars: 4.5\n"
       ]
      },
      {
       "output_type": "stream",
       "stream": "stderr",
       "text": [
        "[2015-04-06 20:38:19,299] Number of reviews: 1,250 reviews \n"
       ]
      },
      {
       "output_type": "stream",
       "stream": "stderr",
       "text": [
        "INFO:scrape_solution:Number of reviews: 1,250 reviews \n"
       ]
      },
      {
       "output_type": "stream",
       "stream": "stderr",
       "text": [
        "[2015-04-06 20:38:22,600] Hotel name: enVision Hotel Boston\n"
       ]
      },
      {
       "output_type": "stream",
       "stream": "stderr",
       "text": [
        "INFO:scrape_solution:Hotel name: enVision Hotel Boston\n"
       ]
      },
      {
       "output_type": "stream",
       "stream": "stderr",
       "text": [
        "[2015-04-06 20:38:22,602] Stars: 4.5\n"
       ]
      },
      {
       "output_type": "stream",
       "stream": "stderr",
       "text": [
        "INFO:scrape_solution:Stars: 4.5\n"
       ]
      },
      {
       "output_type": "stream",
       "stream": "stderr",
       "text": [
        "[2015-04-06 20:38:22,603] Number of reviews: 360 reviews \n"
       ]
      },
      {
       "output_type": "stream",
       "stream": "stderr",
       "text": [
        "INFO:scrape_solution:Number of reviews: 360 reviews \n"
       ]
      },
      {
       "output_type": "stream",
       "stream": "stderr",
       "text": [
        "[2015-04-06 20:38:26,024] Hotel name: Revere Hotel Boston Common\n"
       ]
      },
      {
       "output_type": "stream",
       "stream": "stderr",
       "text": [
        "INFO:scrape_solution:Hotel name: Revere Hotel Boston Common\n"
       ]
      },
      {
       "output_type": "stream",
       "stream": "stderr",
       "text": [
        "[2015-04-06 20:38:26,025] Stars: 4.5\n"
       ]
      },
      {
       "output_type": "stream",
       "stream": "stderr",
       "text": [
        "INFO:scrape_solution:Stars: 4.5\n"
       ]
      },
      {
       "output_type": "stream",
       "stream": "stderr",
       "text": [
        "[2015-04-06 20:38:26,027] Number of reviews: 1,950 reviews \n"
       ]
      },
      {
       "output_type": "stream",
       "stream": "stderr",
       "text": [
        "INFO:scrape_solution:Number of reviews: 1,950 reviews \n"
       ]
      },
      {
       "output_type": "stream",
       "stream": "stderr",
       "text": [
        "[2015-04-06 20:38:29,343] Hotel name: Nine Zero Hotel - a Kimpton Hotel\n"
       ]
      },
      {
       "output_type": "stream",
       "stream": "stderr",
       "text": [
        "INFO:scrape_solution:Hotel name: Nine Zero Hotel - a Kimpton Hotel\n"
       ]
      },
      {
       "output_type": "stream",
       "stream": "stderr",
       "text": [
        "[2015-04-06 20:38:29,345] Stars: 4.5\n"
       ]
      },
      {
       "output_type": "stream",
       "stream": "stderr",
       "text": [
        "INFO:scrape_solution:Stars: 4.5\n"
       ]
      },
      {
       "output_type": "stream",
       "stream": "stderr",
       "text": [
        "[2015-04-06 20:38:29,347] Number of reviews: 1,829 reviews \n"
       ]
      },
      {
       "output_type": "stream",
       "stream": "stderr",
       "text": [
        "INFO:scrape_solution:Number of reviews: 1,829 reviews \n"
       ]
      },
      {
       "output_type": "stream",
       "stream": "stderr",
       "text": [
        "[2015-04-06 20:38:32,656] Hotel name: Lenox Hotel\n"
       ]
      },
      {
       "output_type": "stream",
       "stream": "stderr",
       "text": [
        "INFO:scrape_solution:Hotel name: Lenox Hotel\n"
       ]
      },
      {
       "output_type": "stream",
       "stream": "stderr",
       "text": [
        "[2015-04-06 20:38:32,657] Stars: 4.5\n"
       ]
      },
      {
       "output_type": "stream",
       "stream": "stderr",
       "text": [
        "INFO:scrape_solution:Stars: 4.5\n"
       ]
      },
      {
       "output_type": "stream",
       "stream": "stderr",
       "text": [
        "[2015-04-06 20:38:32,659] Number of reviews: 2,566 reviews \n"
       ]
      },
      {
       "output_type": "stream",
       "stream": "stderr",
       "text": [
        "INFO:scrape_solution:Number of reviews: 2,566 reviews \n"
       ]
      },
      {
       "output_type": "stream",
       "stream": "stderr",
       "text": [
        "[2015-04-06 20:38:35,929] Hotel name: The Westin Copley Place\n"
       ]
      },
      {
       "output_type": "stream",
       "stream": "stderr",
       "text": [
        "INFO:scrape_solution:Hotel name: The Westin Copley Place\n"
       ]
      },
      {
       "output_type": "stream",
       "stream": "stderr",
       "text": [
        "[2015-04-06 20:38:35,930] Stars: 4\n"
       ]
      },
      {
       "output_type": "stream",
       "stream": "stderr",
       "text": [
        "INFO:scrape_solution:Stars: 4\n"
       ]
      },
      {
       "output_type": "stream",
       "stream": "stderr",
       "text": [
        "[2015-04-06 20:38:35,931] Number of reviews: 2,307 reviews \n"
       ]
      },
      {
       "output_type": "stream",
       "stream": "stderr",
       "text": [
        "INFO:scrape_solution:Number of reviews: 2,307 reviews \n"
       ]
      },
      {
       "output_type": "stream",
       "stream": "stderr",
       "text": [
        "[2015-04-06 20:38:39,302] Hotel name: Courtyard by Marriott Boston Copley Square\n"
       ]
      },
      {
       "output_type": "stream",
       "stream": "stderr",
       "text": [
        "INFO:scrape_solution:Hotel name: Courtyard by Marriott Boston Copley Square\n"
       ]
      },
      {
       "output_type": "stream",
       "stream": "stderr",
       "text": [
        "[2015-04-06 20:38:39,303] Stars: 4.5\n"
       ]
      },
      {
       "output_type": "stream",
       "stream": "stderr",
       "text": [
        "INFO:scrape_solution:Stars: 4.5\n"
       ]
      },
      {
       "output_type": "stream",
       "stream": "stderr",
       "text": [
        "[2015-04-06 20:38:39,305] Number of reviews: 966 reviews \n"
       ]
      },
      {
       "output_type": "stream",
       "stream": "stderr",
       "text": [
        "INFO:scrape_solution:Number of reviews: 966 reviews \n"
       ]
      },
      {
       "output_type": "stream",
       "stream": "stderr",
       "text": [
        "[2015-04-06 20:38:42,700] Hotel name: Omni Parker House\n"
       ]
      },
      {
       "output_type": "stream",
       "stream": "stderr",
       "text": [
        "INFO:scrape_solution:Hotel name: Omni Parker House\n"
       ]
      },
      {
       "output_type": "stream",
       "stream": "stderr",
       "text": [
        "[2015-04-06 20:38:42,701] Stars: 4\n"
       ]
      },
      {
       "output_type": "stream",
       "stream": "stderr",
       "text": [
        "INFO:scrape_solution:Stars: 4\n"
       ]
      },
      {
       "output_type": "stream",
       "stream": "stderr",
       "text": [
        "[2015-04-06 20:38:42,703] Number of reviews: 4,463 reviews \n"
       ]
      },
      {
       "output_type": "stream",
       "stream": "stderr",
       "text": [
        "INFO:scrape_solution:Number of reviews: 4,463 reviews \n"
       ]
      },
      {
       "output_type": "stream",
       "stream": "stderr",
       "text": [
        "[2015-04-06 20:38:45,984] Hotel name: Embassy Suites Boston Logan Airport\n"
       ]
      },
      {
       "output_type": "stream",
       "stream": "stderr",
       "text": [
        "INFO:scrape_solution:Hotel name: Embassy Suites Boston Logan Airport\n"
       ]
      },
      {
       "output_type": "stream",
       "stream": "stderr",
       "text": [
        "[2015-04-06 20:38:45,985] Stars: 4\n"
       ]
      },
      {
       "output_type": "stream",
       "stream": "stderr",
       "text": [
        "INFO:scrape_solution:Stars: 4\n"
       ]
      },
      {
       "output_type": "stream",
       "stream": "stderr",
       "text": [
        "[2015-04-06 20:38:45,987] Number of reviews: 1,322 reviews \n"
       ]
      },
      {
       "output_type": "stream",
       "stream": "stderr",
       "text": [
        "INFO:scrape_solution:Number of reviews: 1,322 reviews \n"
       ]
      },
      {
       "output_type": "stream",
       "stream": "stderr",
       "text": [
        "[2015-04-06 20:38:49,254] Hotel name: XV Beacon\n"
       ]
      },
      {
       "output_type": "stream",
       "stream": "stderr",
       "text": [
        "INFO:scrape_solution:Hotel name: XV Beacon\n"
       ]
      },
      {
       "output_type": "stream",
       "stream": "stderr",
       "text": [
        "[2015-04-06 20:38:49,255] Stars: 4.5\n"
       ]
      },
      {
       "output_type": "stream",
       "stream": "stderr",
       "text": [
        "INFO:scrape_solution:Stars: 4.5\n"
       ]
      },
      {
       "output_type": "stream",
       "stream": "stderr",
       "text": [
        "[2015-04-06 20:38:49,256] Number of reviews: 798 reviews \n"
       ]
      },
      {
       "output_type": "stream",
       "stream": "stderr",
       "text": [
        "INFO:scrape_solution:Number of reviews: 798 reviews \n"
       ]
      },
      {
       "output_type": "stream",
       "stream": "stderr",
       "text": [
        "[2015-04-06 20:38:52,470] Hotel name: The Midtown Hotel\n"
       ]
      },
      {
       "output_type": "stream",
       "stream": "stderr",
       "text": [
        "INFO:scrape_solution:Hotel name: The Midtown Hotel\n"
       ]
      },
      {
       "output_type": "stream",
       "stream": "stderr",
       "text": [
        "[2015-04-06 20:38:52,471] Stars: 3.5\n"
       ]
      },
      {
       "output_type": "stream",
       "stream": "stderr",
       "text": [
        "INFO:scrape_solution:Stars: 3.5\n"
       ]
      },
      {
       "output_type": "stream",
       "stream": "stderr",
       "text": [
        "[2015-04-06 20:38:52,473] Number of reviews: 1,384 reviews \n"
       ]
      },
      {
       "output_type": "stream",
       "stream": "stderr",
       "text": [
        "INFO:scrape_solution:Number of reviews: 1,384 reviews \n"
       ]
      },
      {
       "output_type": "stream",
       "stream": "stderr",
       "text": [
        "[2015-04-06 20:38:55,890] Hotel name: The Verb Hotel\n"
       ]
      },
      {
       "output_type": "stream",
       "stream": "stderr",
       "text": [
        "INFO:scrape_solution:Hotel name: The Verb Hotel\n"
       ]
      },
      {
       "output_type": "stream",
       "stream": "stderr",
       "text": [
        "[2015-04-06 20:38:55,893] Stars: 4.5\n"
       ]
      },
      {
       "output_type": "stream",
       "stream": "stderr",
       "text": [
        "INFO:scrape_solution:Stars: 4.5\n"
       ]
      },
      {
       "output_type": "stream",
       "stream": "stderr",
       "text": [
        "[2015-04-06 20:38:55,897] Number of reviews: 245 reviews \n"
       ]
      },
      {
       "output_type": "stream",
       "stream": "stderr",
       "text": [
        "INFO:scrape_solution:Number of reviews: 245 reviews \n"
       ]
      },
      {
       "output_type": "stream",
       "stream": "stderr",
       "text": [
        "[2015-04-06 20:38:59,546] Hotel name: The Liberty Hotel\n"
       ]
      },
      {
       "output_type": "stream",
       "stream": "stderr",
       "text": [
        "INFO:scrape_solution:Hotel name: The Liberty Hotel\n"
       ]
      },
      {
       "output_type": "stream",
       "stream": "stderr",
       "text": [
        "[2015-04-06 20:38:59,548] Stars: 4\n"
       ]
      },
      {
       "output_type": "stream",
       "stream": "stderr",
       "text": [
        "INFO:scrape_solution:Stars: 4\n"
       ]
      },
      {
       "output_type": "stream",
       "stream": "stderr",
       "text": [
        "[2015-04-06 20:38:59,550] Number of reviews: 745 reviews \n"
       ]
      },
      {
       "output_type": "stream",
       "stream": "stderr",
       "text": [
        "INFO:scrape_solution:Number of reviews: 745 reviews \n"
       ]
      },
      {
       "output_type": "stream",
       "stream": "stderr",
       "text": [
        "[2015-04-06 20:39:02,878] Hotel name: Copley Square Hotel\n"
       ]
      },
      {
       "output_type": "stream",
       "stream": "stderr",
       "text": [
        "INFO:scrape_solution:Hotel name: Copley Square Hotel\n"
       ]
      },
      {
       "output_type": "stream",
       "stream": "stderr",
       "text": [
        "[2015-04-06 20:39:02,881] Stars: 4.5\n"
       ]
      },
      {
       "output_type": "stream",
       "stream": "stderr",
       "text": [
        "INFO:scrape_solution:Stars: 4.5\n"
       ]
      },
      {
       "output_type": "stream",
       "stream": "stderr",
       "text": [
        "[2015-04-06 20:39:02,883] Number of reviews: 1,046 reviews \n"
       ]
      },
      {
       "output_type": "stream",
       "stream": "stderr",
       "text": [
        "INFO:scrape_solution:Number of reviews: 1,046 reviews \n"
       ]
      },
      {
       "output_type": "stream",
       "stream": "stderr",
       "text": [
        "[2015-04-06 20:39:06,268] Hotel name: Taj Boston\n"
       ]
      },
      {
       "output_type": "stream",
       "stream": "stderr",
       "text": [
        "INFO:scrape_solution:Hotel name: Taj Boston\n"
       ]
      },
      {
       "output_type": "stream",
       "stream": "stderr",
       "text": [
        "[2015-04-06 20:39:06,270] Stars: 4\n"
       ]
      },
      {
       "output_type": "stream",
       "stream": "stderr",
       "text": [
        "INFO:scrape_solution:Stars: 4\n"
       ]
      },
      {
       "output_type": "stream",
       "stream": "stderr",
       "text": [
        "[2015-04-06 20:39:06,271] Number of reviews: 1,147 reviews \n"
       ]
      },
      {
       "output_type": "stream",
       "stream": "stderr",
       "text": [
        "INFO:scrape_solution:Number of reviews: 1,147 reviews \n"
       ]
      },
      {
       "output_type": "stream",
       "stream": "stderr",
       "text": [
        "[2015-04-06 20:39:09,540] Hotel name: Harborside Inn\n"
       ]
      },
      {
       "output_type": "stream",
       "stream": "stderr",
       "text": [
        "INFO:scrape_solution:Hotel name: Harborside Inn\n"
       ]
      },
      {
       "output_type": "stream",
       "stream": "stderr",
       "text": [
        "[2015-04-06 20:39:09,542] Stars: 4\n"
       ]
      },
      {
       "output_type": "stream",
       "stream": "stderr",
       "text": [
        "INFO:scrape_solution:Stars: 4\n"
       ]
      },
      {
       "output_type": "stream",
       "stream": "stderr",
       "text": [
        "[2015-04-06 20:39:09,544] Number of reviews: 1,034 reviews \n"
       ]
      },
      {
       "output_type": "stream",
       "stream": "stderr",
       "text": [
        "INFO:scrape_solution:Number of reviews: 1,034 reviews \n"
       ]
      },
      {
       "output_type": "stream",
       "stream": "stderr",
       "text": [
        "[2015-04-06 20:39:12,690] Hotel name: The Fairmont Copley Plaza, Boston\n"
       ]
      },
      {
       "output_type": "stream",
       "stream": "stderr",
       "text": [
        "INFO:scrape_solution:Hotel name: The Fairmont Copley Plaza, Boston\n"
       ]
      },
      {
       "output_type": "stream",
       "stream": "stderr",
       "text": [
        "[2015-04-06 20:39:12,692] Stars: 4.5\n"
       ]
      },
      {
       "output_type": "stream",
       "stream": "stderr",
       "text": [
        "INFO:scrape_solution:Stars: 4.5\n"
       ]
      },
      {
       "output_type": "stream",
       "stream": "stderr",
       "text": [
        "[2015-04-06 20:39:12,693] Number of reviews: 1,611 reviews \n"
       ]
      },
      {
       "output_type": "stream",
       "stream": "stderr",
       "text": [
        "INFO:scrape_solution:Number of reviews: 1,611 reviews \n"
       ]
      },
      {
       "output_type": "stream",
       "stream": "stderr",
       "text": [
        "[2015-04-06 20:39:15,952] Hotel name: Hilton Boston Back Bay\n"
       ]
      },
      {
       "output_type": "stream",
       "stream": "stderr",
       "text": [
        "INFO:scrape_solution:Hotel name: Hilton Boston Back Bay\n"
       ]
      },
      {
       "output_type": "stream",
       "stream": "stderr",
       "text": [
        "[2015-04-06 20:39:15,953] Stars: 4\n"
       ]
      },
      {
       "output_type": "stream",
       "stream": "stderr",
       "text": [
        "INFO:scrape_solution:Stars: 4\n"
       ]
      },
      {
       "output_type": "stream",
       "stream": "stderr",
       "text": [
        "[2015-04-06 20:39:15,955] Number of reviews: 1,707 reviews \n"
       ]
      },
      {
       "output_type": "stream",
       "stream": "stderr",
       "text": [
        "INFO:scrape_solution:Number of reviews: 1,707 reviews \n"
       ]
      },
      {
       "output_type": "stream",
       "stream": "stderr",
       "text": [
        "[2015-04-06 20:39:19,176] Hotel name: Millennium Bostonian Hotel\n"
       ]
      },
      {
       "output_type": "stream",
       "stream": "stderr",
       "text": [
        "INFO:scrape_solution:Hotel name: Millennium Bostonian Hotel\n"
       ]
      },
      {
       "output_type": "stream",
       "stream": "stderr",
       "text": [
        "[2015-04-06 20:39:19,177] Stars: 4\n"
       ]
      },
      {
       "output_type": "stream",
       "stream": "stderr",
       "text": [
        "INFO:scrape_solution:Stars: 4\n"
       ]
      },
      {
       "output_type": "stream",
       "stream": "stderr",
       "text": [
        "[2015-04-06 20:39:19,179] Number of reviews: 1,019 reviews \n"
       ]
      },
      {
       "output_type": "stream",
       "stream": "stderr",
       "text": [
        "INFO:scrape_solution:Number of reviews: 1,019 reviews \n"
       ]
      },
      {
       "output_type": "stream",
       "stream": "stderr",
       "text": [
        "[2015-04-06 20:39:22,386] Hotel name: The Langham, Boston\n"
       ]
      },
      {
       "output_type": "stream",
       "stream": "stderr",
       "text": [
        "INFO:scrape_solution:Hotel name: The Langham, Boston\n"
       ]
      },
      {
       "output_type": "stream",
       "stream": "stderr",
       "text": [
        "[2015-04-06 20:39:22,388] Stars: 4.5\n"
       ]
      },
      {
       "output_type": "stream",
       "stream": "stderr",
       "text": [
        "INFO:scrape_solution:Stars: 4.5\n"
       ]
      },
      {
       "output_type": "stream",
       "stream": "stderr",
       "text": [
        "[2015-04-06 20:39:22,389] Number of reviews: 1,410 reviews \n"
       ]
      },
      {
       "output_type": "stream",
       "stream": "stderr",
       "text": [
        "INFO:scrape_solution:Number of reviews: 1,410 reviews \n"
       ]
      },
      {
       "output_type": "stream",
       "stream": "stderr",
       "text": [
        "[2015-04-06 20:39:25,776] Hotel name: InterContinental Boston\n"
       ]
      },
      {
       "output_type": "stream",
       "stream": "stderr",
       "text": [
        "INFO:scrape_solution:Hotel name: InterContinental Boston\n"
       ]
      },
      {
       "output_type": "stream",
       "stream": "stderr",
       "text": [
        "[2015-04-06 20:39:25,778] Stars: 4.5\n"
       ]
      },
      {
       "output_type": "stream",
       "stream": "stderr",
       "text": [
        "INFO:scrape_solution:Stars: 4.5\n"
       ]
      },
      {
       "output_type": "stream",
       "stream": "stderr",
       "text": [
        "[2015-04-06 20:39:25,780] Number of reviews: 1,897 reviews \n"
       ]
      },
      {
       "output_type": "stream",
       "stream": "stderr",
       "text": [
        "INFO:scrape_solution:Number of reviews: 1,897 reviews \n"
       ]
      },
      {
       "output_type": "stream",
       "stream": "stderr",
       "text": [
        "[2015-04-06 20:39:29,184] Hotel name: Boston Hotel Buckminster\n"
       ]
      },
      {
       "output_type": "stream",
       "stream": "stderr",
       "text": [
        "INFO:scrape_solution:Hotel name: Boston Hotel Buckminster\n"
       ]
      },
      {
       "output_type": "stream",
       "stream": "stderr",
       "text": [
        "[2015-04-06 20:39:29,186] Stars: 3.5\n"
       ]
      },
      {
       "output_type": "stream",
       "stream": "stderr",
       "text": [
        "INFO:scrape_solution:Stars: 3.5\n"
       ]
      },
      {
       "output_type": "stream",
       "stream": "stderr",
       "text": [
        "[2015-04-06 20:39:29,188] Number of reviews: 828 reviews \n"
       ]
      },
      {
       "output_type": "stream",
       "stream": "stderr",
       "text": [
        "INFO:scrape_solution:Number of reviews: 828 reviews \n"
       ]
      },
      {
       "output_type": "stream",
       "stream": "stderr",
       "text": [
        "[2015-04-06 20:39:32,496] Hotel name: Marriott's Custom House\n"
       ]
      },
      {
       "output_type": "stream",
       "stream": "stderr",
       "text": [
        "INFO:scrape_solution:Hotel name: Marriott's Custom House\n"
       ]
      },
      {
       "output_type": "stream",
       "stream": "stderr",
       "text": [
        "[2015-04-06 20:39:32,497] Stars: 4.5\n"
       ]
      },
      {
       "output_type": "stream",
       "stream": "stderr",
       "text": [
        "INFO:scrape_solution:Stars: 4.5\n"
       ]
      },
      {
       "output_type": "stream",
       "stream": "stderr",
       "text": [
        "[2015-04-06 20:39:32,499] Number of reviews: 562 reviews \n"
       ]
      },
      {
       "output_type": "stream",
       "stream": "stderr",
       "text": [
        "INFO:scrape_solution:Number of reviews: 562 reviews \n"
       ]
      },
      {
       "output_type": "stream",
       "stream": "stderr",
       "text": [
        "[2015-04-06 20:39:35,730] Hotel name: Sheraton Boston Hotel\n"
       ]
      },
      {
       "output_type": "stream",
       "stream": "stderr",
       "text": [
        "INFO:scrape_solution:Hotel name: Sheraton Boston Hotel\n"
       ]
      },
      {
       "output_type": "stream",
       "stream": "stderr",
       "text": [
        "[2015-04-06 20:39:35,732] Stars: 4\n"
       ]
      },
      {
       "output_type": "stream",
       "stream": "stderr",
       "text": [
        "INFO:scrape_solution:Stars: 4\n"
       ]
      },
      {
       "output_type": "stream",
       "stream": "stderr",
       "text": [
        "[2015-04-06 20:39:35,733] Number of reviews: 533 reviews \n"
       ]
      },
      {
       "output_type": "stream",
       "stream": "stderr",
       "text": [
        "INFO:scrape_solution:Number of reviews: 533 reviews \n"
       ]
      },
      {
       "output_type": "stream",
       "stream": "stderr",
       "text": [
        "[2015-04-06 20:39:39,168] Hotel name: Residence Inn Boston Back Bay / Fenway\n"
       ]
      },
      {
       "output_type": "stream",
       "stream": "stderr",
       "text": [
        "INFO:scrape_solution:Hotel name: Residence Inn Boston Back Bay / Fenway\n"
       ]
      },
      {
       "output_type": "stream",
       "stream": "stderr",
       "text": [
        "[2015-04-06 20:39:39,170] Stars: 4.5\n"
       ]
      },
      {
       "output_type": "stream",
       "stream": "stderr",
       "text": [
        "INFO:scrape_solution:Stars: 4.5\n"
       ]
      },
      {
       "output_type": "stream",
       "stream": "stderr",
       "text": [
        "[2015-04-06 20:39:39,171] Number of reviews: 522 reviews \n"
       ]
      },
      {
       "output_type": "stream",
       "stream": "stderr",
       "text": [
        "INFO:scrape_solution:Number of reviews: 522 reviews \n"
       ]
      },
      {
       "output_type": "stream",
       "stream": "stderr",
       "text": [
        "[2015-04-06 20:39:42,421] Hotel name: Boston Marriott Copley Place\n"
       ]
      },
      {
       "output_type": "stream",
       "stream": "stderr",
       "text": [
        "INFO:scrape_solution:Hotel name: Boston Marriott Copley Place\n"
       ]
      },
      {
       "output_type": "stream",
       "stream": "stderr",
       "text": [
        "[2015-04-06 20:39:42,423] Stars: 4\n"
       ]
      },
      {
       "output_type": "stream",
       "stream": "stderr",
       "text": [
        "INFO:scrape_solution:Stars: 4\n"
       ]
      },
      {
       "output_type": "stream",
       "stream": "stderr",
       "text": [
        "[2015-04-06 20:39:42,425] Number of reviews: 2,040 reviews \n"
       ]
      },
      {
       "output_type": "stream",
       "stream": "stderr",
       "text": [
        "INFO:scrape_solution:Number of reviews: 2,040 reviews \n"
       ]
      },
      {
       "output_type": "stream",
       "stream": "stderr",
       "text": [
        "[2015-04-06 20:39:45,651] Hotel name: Loews Boston Hotel\n"
       ]
      },
      {
       "output_type": "stream",
       "stream": "stderr",
       "text": [
        "INFO:scrape_solution:Hotel name: Loews Boston Hotel\n"
       ]
      },
      {
       "output_type": "stream",
       "stream": "stderr",
       "text": [
        "[2015-04-06 20:39:45,652] Stars: 4.5\n"
       ]
      },
      {
       "output_type": "stream",
       "stream": "stderr",
       "text": [
        "INFO:scrape_solution:Stars: 4.5\n"
       ]
      },
      {
       "output_type": "stream",
       "stream": "stderr",
       "text": [
        "[2015-04-06 20:39:45,654] Number of reviews: 771 reviews \n"
       ]
      },
      {
       "output_type": "stream",
       "stream": "stderr",
       "text": [
        "INFO:scrape_solution:Number of reviews: 771 reviews \n"
       ]
      },
      {
       "output_type": "stream",
       "stream": "stderr",
       "text": [
        "[2015-04-06 20:39:49,045] Next url is /Hotels-g60745-oa30-Boston_Massachusetts-Hotels.html#ACCOM_OVERVIEW\n"
       ]
      },
      {
       "output_type": "stream",
       "stream": "stderr",
       "text": [
        "INFO:scrape_solution:Next url is /Hotels-g60745-oa30-Boston_Massachusetts-Hotels.html#ACCOM_OVERVIEW\n"
       ]
      },
      {
       "output_type": "stream",
       "stream": "stderr",
       "text": [
        "[2015-04-06 20:39:53,860] Hotel name: Hyatt Regency Boston\n"
       ]
      },
      {
       "output_type": "stream",
       "stream": "stderr",
       "text": [
        "INFO:scrape_solution:Hotel name: Hyatt Regency Boston\n"
       ]
      },
      {
       "output_type": "stream",
       "stream": "stderr",
       "text": [
        "[2015-04-06 20:39:53,863] Stars: 4\n"
       ]
      },
      {
       "output_type": "stream",
       "stream": "stderr",
       "text": [
        "INFO:scrape_solution:Stars: 4\n"
       ]
      },
      {
       "output_type": "stream",
       "stream": "stderr",
       "text": [
        "[2015-04-06 20:39:53,866] Number of reviews: 1,934 reviews \n"
       ]
      },
      {
       "output_type": "stream",
       "stream": "stderr",
       "text": [
        "INFO:scrape_solution:Number of reviews: 1,934 reviews \n"
       ]
      },
      {
       "output_type": "stream",
       "stream": "stderr",
       "text": [
        "[2015-04-06 20:39:57,026] Hotel name: W Boston\n"
       ]
      },
      {
       "output_type": "stream",
       "stream": "stderr",
       "text": [
        "INFO:scrape_solution:Hotel name: W Boston\n"
       ]
      },
      {
       "output_type": "stream",
       "stream": "stderr",
       "text": [
        "[2015-04-06 20:39:57,029] Stars: 4\n"
       ]
      },
      {
       "output_type": "stream",
       "stream": "stderr",
       "text": [
        "INFO:scrape_solution:Stars: 4\n"
       ]
      },
      {
       "output_type": "stream",
       "stream": "stderr",
       "text": [
        "[2015-04-06 20:39:57,033] Number of reviews: 865 reviews \n"
       ]
      },
      {
       "output_type": "stream",
       "stream": "stderr",
       "text": [
        "INFO:scrape_solution:Number of reviews: 865 reviews \n"
       ]
      },
      {
       "output_type": "stream",
       "stream": "stderr",
       "text": [
        "[2015-04-06 20:40:00,282] Hotel name: DoubleTree by Hilton Hotel Boston - Downtown\n"
       ]
      },
      {
       "output_type": "stream",
       "stream": "stderr",
       "text": [
        "INFO:scrape_solution:Hotel name: DoubleTree by Hilton Hotel Boston - Downtown\n"
       ]
      },
      {
       "output_type": "stream",
       "stream": "stderr",
       "text": [
        "[2015-04-06 20:40:00,285] Stars: 4\n"
       ]
      },
      {
       "output_type": "stream",
       "stream": "stderr",
       "text": [
        "INFO:scrape_solution:Stars: 4\n"
       ]
      },
      {
       "output_type": "stream",
       "stream": "stderr",
       "text": [
        "[2015-04-06 20:40:00,288] Number of reviews: 470 reviews \n"
       ]
      },
      {
       "output_type": "stream",
       "stream": "stderr",
       "text": [
        "INFO:scrape_solution:Number of reviews: 470 reviews \n"
       ]
      },
      {
       "output_type": "stream",
       "stream": "stderr",
       "text": [
        "[2015-04-06 20:40:03,548] Hotel name: Colonnade Hotel\n"
       ]
      },
      {
       "output_type": "stream",
       "stream": "stderr",
       "text": [
        "INFO:scrape_solution:Hotel name: Colonnade Hotel\n"
       ]
      },
      {
       "output_type": "stream",
       "stream": "stderr",
       "text": [
        "[2015-04-06 20:40:03,550] Stars: 4.5\n"
       ]
      },
      {
       "output_type": "stream",
       "stream": "stderr",
       "text": [
        "INFO:scrape_solution:Stars: 4.5\n"
       ]
      },
      {
       "output_type": "stream",
       "stream": "stderr",
       "text": [
        "[2015-04-06 20:40:03,554] Number of reviews: 2,063 reviews \n"
       ]
      },
      {
       "output_type": "stream",
       "stream": "stderr",
       "text": [
        "INFO:scrape_solution:Number of reviews: 2,063 reviews \n"
       ]
      },
      {
       "output_type": "stream",
       "stream": "stderr",
       "text": [
        "[2015-04-06 20:40:06,772] Hotel name: Chandler Inn\n"
       ]
      },
      {
       "output_type": "stream",
       "stream": "stderr",
       "text": [
        "INFO:scrape_solution:Hotel name: Chandler Inn\n"
       ]
      },
      {
       "output_type": "stream",
       "stream": "stderr",
       "text": [
        "[2015-04-06 20:40:06,774] Stars: 4\n"
       ]
      },
      {
       "output_type": "stream",
       "stream": "stderr",
       "text": [
        "INFO:scrape_solution:Stars: 4\n"
       ]
      },
      {
       "output_type": "stream",
       "stream": "stderr",
       "text": [
        "[2015-04-06 20:40:06,778] Number of reviews: 858 reviews \n"
       ]
      },
      {
       "output_type": "stream",
       "stream": "stderr",
       "text": [
        "INFO:scrape_solution:Number of reviews: 858 reviews \n"
       ]
      },
      {
       "output_type": "stream",
       "stream": "stderr",
       "text": [
        "[2015-04-06 20:40:10,012] Hotel name: The Inn at Longwood Medical\n"
       ]
      },
      {
       "output_type": "stream",
       "stream": "stderr",
       "text": [
        "INFO:scrape_solution:Hotel name: The Inn at Longwood Medical\n"
       ]
      },
      {
       "output_type": "stream",
       "stream": "stderr",
       "text": [
        "[2015-04-06 20:40:10,015] Stars: 4\n"
       ]
      },
      {
       "output_type": "stream",
       "stream": "stderr",
       "text": [
        "INFO:scrape_solution:Stars: 4\n"
       ]
      },
      {
       "output_type": "stream",
       "stream": "stderr",
       "text": [
        "[2015-04-06 20:40:10,018] Number of reviews: 687 reviews \n"
       ]
      },
      {
       "output_type": "stream",
       "stream": "stderr",
       "text": [
        "INFO:scrape_solution:Number of reviews: 687 reviews \n"
       ]
      },
      {
       "output_type": "stream",
       "stream": "stderr",
       "text": [
        "[2015-04-06 20:40:13,202] Hotel name: Hotel 140\n"
       ]
      },
      {
       "output_type": "stream",
       "stream": "stderr",
       "text": [
        "INFO:scrape_solution:Hotel name: Hotel 140\n"
       ]
      },
      {
       "output_type": "stream",
       "stream": "stderr",
       "text": [
        "[2015-04-06 20:40:13,204] Stars: 4\n"
       ]
      },
      {
       "output_type": "stream",
       "stream": "stderr",
       "text": [
        "INFO:scrape_solution:Stars: 4\n"
       ]
      },
      {
       "output_type": "stream",
       "stream": "stderr",
       "text": [
        "[2015-04-06 20:40:13,207] Number of reviews: 969 reviews \n"
       ]
      },
      {
       "output_type": "stream",
       "stream": "stderr",
       "text": [
        "INFO:scrape_solution:Number of reviews: 969 reviews \n"
       ]
      },
      {
       "output_type": "stream",
       "stream": "stderr",
       "text": [
        "[2015-04-06 20:40:16,349] Hotel name: Hilton Boston Logan Airport\n"
       ]
      },
      {
       "output_type": "stream",
       "stream": "stderr",
       "text": [
        "INFO:scrape_solution:Hotel name: Hilton Boston Logan Airport\n"
       ]
      },
      {
       "output_type": "stream",
       "stream": "stderr",
       "text": [
        "[2015-04-06 20:40:16,352] Stars: 4\n"
       ]
      },
      {
       "output_type": "stream",
       "stream": "stderr",
       "text": [
        "INFO:scrape_solution:Stars: 4\n"
       ]
      },
      {
       "output_type": "stream",
       "stream": "stderr",
       "text": [
        "[2015-04-06 20:40:16,355] Number of reviews: 1,970 reviews \n"
       ]
      },
      {
       "output_type": "stream",
       "stream": "stderr",
       "text": [
        "INFO:scrape_solution:Number of reviews: 1,970 reviews \n"
       ]
      },
      {
       "output_type": "stream",
       "stream": "stderr",
       "text": [
        "[2015-04-06 20:40:19,657] Hotel name: Hilton Boston Downtown / Faneuil Hall\n"
       ]
      },
      {
       "output_type": "stream",
       "stream": "stderr",
       "text": [
        "INFO:scrape_solution:Hotel name: Hilton Boston Downtown / Faneuil Hall\n"
       ]
      },
      {
       "output_type": "stream",
       "stream": "stderr",
       "text": [
        "[2015-04-06 20:40:19,660] Stars: 4\n"
       ]
      },
      {
       "output_type": "stream",
       "stream": "stderr",
       "text": [
        "INFO:scrape_solution:Stars: 4\n"
       ]
      },
      {
       "output_type": "stream",
       "stream": "stderr",
       "text": [
        "[2015-04-06 20:40:19,663] Number of reviews: 876 reviews \n"
       ]
      },
      {
       "output_type": "stream",
       "stream": "stderr",
       "text": [
        "INFO:scrape_solution:Number of reviews: 876 reviews \n"
       ]
      },
      {
       "output_type": "stream",
       "stream": "stderr",
       "text": [
        "[2015-04-06 20:40:22,843] Hotel name: Battery Wharf Hotel, Boston Waterfront\n"
       ]
      },
      {
       "output_type": "stream",
       "stream": "stderr",
       "text": [
        "INFO:scrape_solution:Hotel name: Battery Wharf Hotel, Boston Waterfront\n"
       ]
      },
      {
       "output_type": "stream",
       "stream": "stderr",
       "text": [
        "[2015-04-06 20:40:22,846] Stars: 4.5\n"
       ]
      },
      {
       "output_type": "stream",
       "stream": "stderr",
       "text": [
        "INFO:scrape_solution:Stars: 4.5\n"
       ]
      },
      {
       "output_type": "stream",
       "stream": "stderr",
       "text": [
        "[2015-04-06 20:40:22,849] Number of reviews: 864 reviews \n"
       ]
      },
      {
       "output_type": "stream",
       "stream": "stderr",
       "text": [
        "INFO:scrape_solution:Number of reviews: 864 reviews \n"
       ]
      },
      {
       "output_type": "stream",
       "stream": "stderr",
       "text": [
        "[2015-04-06 20:40:26,051] Hotel name: Boston Marriott Long Wharf\n"
       ]
      },
      {
       "output_type": "stream",
       "stream": "stderr",
       "text": [
        "INFO:scrape_solution:Hotel name: Boston Marriott Long Wharf\n"
       ]
      },
      {
       "output_type": "stream",
       "stream": "stderr",
       "text": [
        "[2015-04-06 20:40:26,054] Stars: 4\n"
       ]
      },
      {
       "output_type": "stream",
       "stream": "stderr",
       "text": [
        "INFO:scrape_solution:Stars: 4\n"
       ]
      },
      {
       "output_type": "stream",
       "stream": "stderr",
       "text": [
        "[2015-04-06 20:40:26,057] Number of reviews: 1,290 reviews \n"
       ]
      },
      {
       "output_type": "stream",
       "stream": "stderr",
       "text": [
        "INFO:scrape_solution:Number of reviews: 1,290 reviews \n"
       ]
      },
      {
       "output_type": "stream",
       "stream": "stderr",
       "text": [
        "[2015-04-06 20:40:29,259] Hotel name: Hampton Inn & Suites Boston Crosstown Center\n"
       ]
      },
      {
       "output_type": "stream",
       "stream": "stderr",
       "text": [
        "INFO:scrape_solution:Hotel name: Hampton Inn & Suites Boston Crosstown Center\n"
       ]
      },
      {
       "output_type": "stream",
       "stream": "stderr",
       "text": [
        "[2015-04-06 20:40:29,262] Stars: 4\n"
       ]
      },
      {
       "output_type": "stream",
       "stream": "stderr",
       "text": [
        "INFO:scrape_solution:Stars: 4\n"
       ]
      },
      {
       "output_type": "stream",
       "stream": "stderr",
       "text": [
        "[2015-04-06 20:40:29,265] Number of reviews: 568 reviews \n"
       ]
      },
      {
       "output_type": "stream",
       "stream": "stderr",
       "text": [
        "INFO:scrape_solution:Number of reviews: 568 reviews \n"
       ]
      },
      {
       "output_type": "stream",
       "stream": "stderr",
       "text": [
        "[2015-04-06 20:40:32,603] Hotel name: Onyx Hotel - a Kimpton Hotel\n"
       ]
      },
      {
       "output_type": "stream",
       "stream": "stderr",
       "text": [
        "INFO:scrape_solution:Hotel name: Onyx Hotel - a Kimpton Hotel\n"
       ]
      },
      {
       "output_type": "stream",
       "stream": "stderr",
       "text": [
        "[2015-04-06 20:40:32,606] Stars: 4\n"
       ]
      },
      {
       "output_type": "stream",
       "stream": "stderr",
       "text": [
        "INFO:scrape_solution:Stars: 4\n"
       ]
      },
      {
       "output_type": "stream",
       "stream": "stderr",
       "text": [
        "[2015-04-06 20:40:32,609] Number of reviews: 983 reviews \n"
       ]
      },
      {
       "output_type": "stream",
       "stream": "stderr",
       "text": [
        "INFO:scrape_solution:Number of reviews: 983 reviews \n"
       ]
      },
      {
       "output_type": "stream",
       "stream": "stderr",
       "text": [
        "[2015-04-06 20:40:35,739] Hotel name: Four Seasons Hotel Boston\n"
       ]
      },
      {
       "output_type": "stream",
       "stream": "stderr",
       "text": [
        "INFO:scrape_solution:Hotel name: Four Seasons Hotel Boston\n"
       ]
      },
      {
       "output_type": "stream",
       "stream": "stderr",
       "text": [
        "[2015-04-06 20:40:35,742] Stars: 4.5\n"
       ]
      },
      {
       "output_type": "stream",
       "stream": "stderr",
       "text": [
        "INFO:scrape_solution:Stars: 4.5\n"
       ]
      },
      {
       "output_type": "stream",
       "stream": "stderr",
       "text": [
        "[2015-04-06 20:40:35,746] Number of reviews: 1,032 reviews \n"
       ]
      },
      {
       "output_type": "stream",
       "stream": "stderr",
       "text": [
        "INFO:scrape_solution:Number of reviews: 1,032 reviews \n"
       ]
      },
      {
       "output_type": "stream",
       "stream": "stderr",
       "text": [
        "[2015-04-06 20:40:39,017] Hotel name: Holiday Inn Express Boston\n"
       ]
      },
      {
       "output_type": "stream",
       "stream": "stderr",
       "text": [
        "INFO:scrape_solution:Hotel name: Holiday Inn Express Boston\n"
       ]
      },
      {
       "output_type": "stream",
       "stream": "stderr",
       "text": [
        "[2015-04-06 20:40:39,019] Stars: 4\n"
       ]
      },
      {
       "output_type": "stream",
       "stream": "stderr",
       "text": [
        "INFO:scrape_solution:Stars: 4\n"
       ]
      },
      {
       "output_type": "stream",
       "stream": "stderr",
       "text": [
        "[2015-04-06 20:40:39,023] Number of reviews: 538 reviews \n"
       ]
      },
      {
       "output_type": "stream",
       "stream": "stderr",
       "text": [
        "INFO:scrape_solution:Number of reviews: 538 reviews \n"
       ]
      },
      {
       "output_type": "stream",
       "stream": "stderr",
       "text": [
        "[2015-04-06 20:40:42,825] Hotel name: DoubleTree Club by Hilton Hotel Boston Bayside\n"
       ]
      },
      {
       "output_type": "stream",
       "stream": "stderr",
       "text": [
        "INFO:scrape_solution:Hotel name: DoubleTree Club by Hilton Hotel Boston Bayside\n"
       ]
      },
      {
       "output_type": "stream",
       "stream": "stderr",
       "text": [
        "[2015-04-06 20:40:42,827] Stars: 4\n"
       ]
      },
      {
       "output_type": "stream",
       "stream": "stderr",
       "text": [
        "INFO:scrape_solution:Stars: 4\n"
       ]
      },
      {
       "output_type": "stream",
       "stream": "stderr",
       "text": [
        "[2015-04-06 20:40:42,831] Number of reviews: 946 reviews \n"
       ]
      },
      {
       "output_type": "stream",
       "stream": "stderr",
       "text": [
        "INFO:scrape_solution:Number of reviews: 946 reviews \n"
       ]
      },
      {
       "output_type": "stream",
       "stream": "stderr",
       "text": [
        "[2015-04-06 20:40:46,115] Hotel name: The Boxer Boston\n"
       ]
      },
      {
       "output_type": "stream",
       "stream": "stderr",
       "text": [
        "INFO:scrape_solution:Hotel name: The Boxer Boston\n"
       ]
      },
      {
       "output_type": "stream",
       "stream": "stderr",
       "text": [
        "[2015-04-06 20:40:46,117] Stars: 4\n"
       ]
      },
      {
       "output_type": "stream",
       "stream": "stderr",
       "text": [
        "INFO:scrape_solution:Stars: 4\n"
       ]
      },
      {
       "output_type": "stream",
       "stream": "stderr",
       "text": [
        "[2015-04-06 20:40:46,121] Number of reviews: 369 reviews \n"
       ]
      },
      {
       "output_type": "stream",
       "stream": "stderr",
       "text": [
        "INFO:scrape_solution:Number of reviews: 369 reviews \n"
       ]
      },
      {
       "output_type": "stream",
       "stream": "stderr",
       "text": [
        "[2015-04-06 20:40:49,505] Hotel name: Wyndham Boston Beacon Hill\n"
       ]
      },
      {
       "output_type": "stream",
       "stream": "stderr",
       "text": [
        "INFO:scrape_solution:Hotel name: Wyndham Boston Beacon Hill\n"
       ]
      },
      {
       "output_type": "stream",
       "stream": "stderr",
       "text": [
        "[2015-04-06 20:40:49,508] Stars: 4\n"
       ]
      },
      {
       "output_type": "stream",
       "stream": "stderr",
       "text": [
        "INFO:scrape_solution:Stars: 4\n"
       ]
      },
      {
       "output_type": "stream",
       "stream": "stderr",
       "text": [
        "[2015-04-06 20:40:49,511] Number of reviews: 1,039 reviews \n"
       ]
      },
      {
       "output_type": "stream",
       "stream": "stderr",
       "text": [
        "INFO:scrape_solution:Number of reviews: 1,039 reviews \n"
       ]
      },
      {
       "output_type": "stream",
       "stream": "stderr",
       "text": [
        "[2015-04-06 20:40:52,952] Hotel name: Residence Inn by Marriott Boston Harbor on Tudor Wharf\n"
       ]
      },
      {
       "output_type": "stream",
       "stream": "stderr",
       "text": [
        "INFO:scrape_solution:Hotel name: Residence Inn by Marriott Boston Harbor on Tudor Wharf\n"
       ]
      },
      {
       "output_type": "stream",
       "stream": "stderr",
       "text": [
        "[2015-04-06 20:40:52,955] Stars: 4.5\n"
       ]
      },
      {
       "output_type": "stream",
       "stream": "stderr",
       "text": [
        "INFO:scrape_solution:Stars: 4.5\n"
       ]
      },
      {
       "output_type": "stream",
       "stream": "stderr",
       "text": [
        "[2015-04-06 20:40:52,959] Number of reviews: 519 reviews \n"
       ]
      },
      {
       "output_type": "stream",
       "stream": "stderr",
       "text": [
        "INFO:scrape_solution:Number of reviews: 519 reviews \n"
       ]
      },
      {
       "output_type": "stream",
       "stream": "stderr",
       "text": [
        "[2015-04-06 20:40:56,300] Hotel name: BEST WESTERN University Hotel Boston-Brighton\n"
       ]
      },
      {
       "output_type": "stream",
       "stream": "stderr",
       "text": [
        "INFO:scrape_solution:Hotel name: BEST WESTERN University Hotel Boston-Brighton\n"
       ]
      },
      {
       "output_type": "stream",
       "stream": "stderr",
       "text": [
        "[2015-04-06 20:40:56,303] Stars: 3.5\n"
       ]
      },
      {
       "output_type": "stream",
       "stream": "stderr",
       "text": [
        "INFO:scrape_solution:Stars: 3.5\n"
       ]
      },
      {
       "output_type": "stream",
       "stream": "stderr",
       "text": [
        "[2015-04-06 20:40:56,306] Number of reviews: 361 reviews \n"
       ]
      },
      {
       "output_type": "stream",
       "stream": "stderr",
       "text": [
        "INFO:scrape_solution:Number of reviews: 361 reviews \n"
       ]
      },
      {
       "output_type": "stream",
       "stream": "stderr",
       "text": [
        "[2015-04-06 20:40:59,440] Hotel name: The Westin Boston Waterfront\n"
       ]
      },
      {
       "output_type": "stream",
       "stream": "stderr",
       "text": [
        "INFO:scrape_solution:Hotel name: The Westin Boston Waterfront\n"
       ]
      },
      {
       "output_type": "stream",
       "stream": "stderr",
       "text": [
        "[2015-04-06 20:40:59,443] Stars: 4\n"
       ]
      },
      {
       "output_type": "stream",
       "stream": "stderr",
       "text": [
        "INFO:scrape_solution:Stars: 4\n"
       ]
      },
      {
       "output_type": "stream",
       "stream": "stderr",
       "text": [
        "[2015-04-06 20:40:59,447] Number of reviews: 1,621 reviews \n"
       ]
      },
      {
       "output_type": "stream",
       "stream": "stderr",
       "text": [
        "INFO:scrape_solution:Number of reviews: 1,621 reviews \n"
       ]
      },
      {
       "output_type": "stream",
       "stream": "stderr",
       "text": [
        "[2015-04-06 20:41:02,658] Hotel name: Eliot Hotel\n"
       ]
      },
      {
       "output_type": "stream",
       "stream": "stderr",
       "text": [
        "INFO:scrape_solution:Hotel name: Eliot Hotel\n"
       ]
      },
      {
       "output_type": "stream",
       "stream": "stderr",
       "text": [
        "[2015-04-06 20:41:02,660] Stars: 4.5\n"
       ]
      },
      {
       "output_type": "stream",
       "stream": "stderr",
       "text": [
        "INFO:scrape_solution:Stars: 4.5\n"
       ]
      },
      {
       "output_type": "stream",
       "stream": "stderr",
       "text": [
        "[2015-04-06 20:41:02,664] Number of reviews: 746 reviews \n"
       ]
      },
      {
       "output_type": "stream",
       "stream": "stderr",
       "text": [
        "INFO:scrape_solution:Number of reviews: 746 reviews \n"
       ]
      },
      {
       "output_type": "stream",
       "stream": "stderr",
       "text": [
        "[2015-04-06 20:41:05,955] Hotel name: Club Quarters in Boston\n"
       ]
      },
      {
       "output_type": "stream",
       "stream": "stderr",
       "text": [
        "INFO:scrape_solution:Hotel name: Club Quarters in Boston\n"
       ]
      },
      {
       "output_type": "stream",
       "stream": "stderr",
       "text": [
        "[2015-04-06 20:41:05,958] Stars: 4\n"
       ]
      },
      {
       "output_type": "stream",
       "stream": "stderr",
       "text": [
        "INFO:scrape_solution:Stars: 4\n"
       ]
      },
      {
       "output_type": "stream",
       "stream": "stderr",
       "text": [
        "[2015-04-06 20:41:05,961] Number of reviews: 1,051 reviews \n"
       ]
      },
      {
       "output_type": "stream",
       "stream": "stderr",
       "text": [
        "INFO:scrape_solution:Number of reviews: 1,051 reviews \n"
       ]
      },
      {
       "output_type": "stream",
       "stream": "stderr",
       "text": [
        "[2015-04-06 20:41:09,022] Hotel name: Copley House\n"
       ]
      },
      {
       "output_type": "stream",
       "stream": "stderr",
       "text": [
        "INFO:scrape_solution:Hotel name: Copley House\n"
       ]
      },
      {
       "output_type": "stream",
       "stream": "stderr",
       "text": [
        "[2015-04-06 20:41:09,025] Stars: 3.5\n"
       ]
      },
      {
       "output_type": "stream",
       "stream": "stderr",
       "text": [
        "INFO:scrape_solution:Stars: 3.5\n"
       ]
      },
      {
       "output_type": "stream",
       "stream": "stderr",
       "text": [
        "[2015-04-06 20:41:09,028] Number of reviews: 380 reviews \n"
       ]
      },
      {
       "output_type": "stream",
       "stream": "stderr",
       "text": [
        "INFO:scrape_solution:Number of reviews: 380 reviews \n"
       ]
      },
      {
       "output_type": "stream",
       "stream": "stderr",
       "text": [
        "[2015-04-06 20:41:12,272] Hotel name: Renaissance Boston Waterfront Hotel\n"
       ]
      },
      {
       "output_type": "stream",
       "stream": "stderr",
       "text": [
        "INFO:scrape_solution:Hotel name: Renaissance Boston Waterfront Hotel\n"
       ]
      },
      {
       "output_type": "stream",
       "stream": "stderr",
       "text": [
        "[2015-04-06 20:41:12,274] Stars: 4\n"
       ]
      },
      {
       "output_type": "stream",
       "stream": "stderr",
       "text": [
        "INFO:scrape_solution:Stars: 4\n"
       ]
      },
      {
       "output_type": "stream",
       "stream": "stderr",
       "text": [
        "[2015-04-06 20:41:12,277] Number of reviews: 873 reviews \n"
       ]
      },
      {
       "output_type": "stream",
       "stream": "stderr",
       "text": [
        "INFO:scrape_solution:Number of reviews: 873 reviews \n"
       ]
      },
      {
       "output_type": "stream",
       "stream": "stderr",
       "text": [
        "[2015-04-06 20:41:15,544] Hotel name: DoubleTree Suites by Hilton Boston-Cambridge\n"
       ]
      },
      {
       "output_type": "stream",
       "stream": "stderr",
       "text": [
        "INFO:scrape_solution:Hotel name: DoubleTree Suites by Hilton Boston-Cambridge\n"
       ]
      },
      {
       "output_type": "stream",
       "stream": "stderr",
       "text": [
        "[2015-04-06 20:41:15,546] Stars: 4\n"
       ]
      },
      {
       "output_type": "stream",
       "stream": "stderr",
       "text": [
        "INFO:scrape_solution:Stars: 4\n"
       ]
      },
      {
       "output_type": "stream",
       "stream": "stderr",
       "text": [
        "[2015-04-06 20:41:15,550] Number of reviews: 1,064 reviews \n"
       ]
      },
      {
       "output_type": "stream",
       "stream": "stderr",
       "text": [
        "INFO:scrape_solution:Number of reviews: 1,064 reviews \n"
       ]
      },
      {
       "output_type": "stream",
       "stream": "stderr",
       "text": [
        "[2015-04-06 20:41:18,687] Hotel name: Newbury Guest House\n"
       ]
      },
      {
       "output_type": "stream",
       "stream": "stderr",
       "text": [
        "INFO:scrape_solution:Hotel name: Newbury Guest House\n"
       ]
      },
      {
       "output_type": "stream",
       "stream": "stderr",
       "text": [
        "[2015-04-06 20:41:18,689] Stars: 4\n"
       ]
      },
      {
       "output_type": "stream",
       "stream": "stderr",
       "text": [
        "INFO:scrape_solution:Stars: 4\n"
       ]
      },
      {
       "output_type": "stream",
       "stream": "stderr",
       "text": [
        "[2015-04-06 20:41:18,692] Number of reviews: 436 reviews \n"
       ]
      },
      {
       "output_type": "stream",
       "stream": "stderr",
       "text": [
        "INFO:scrape_solution:Number of reviews: 436 reviews \n"
       ]
      },
      {
       "output_type": "stream",
       "stream": "stderr",
       "text": [
        "[2015-04-06 20:41:21,940] Hotel name: BEST WESTERN PLUS Roundhouse Suites\n"
       ]
      },
      {
       "output_type": "stream",
       "stream": "stderr",
       "text": [
        "INFO:scrape_solution:Hotel name: BEST WESTERN PLUS Roundhouse Suites\n"
       ]
      },
      {
       "output_type": "stream",
       "stream": "stderr",
       "text": [
        "[2015-04-06 20:41:21,943] Stars: 3.5\n"
       ]
      },
      {
       "output_type": "stream",
       "stream": "stderr",
       "text": [
        "INFO:scrape_solution:Stars: 3.5\n"
       ]
      },
      {
       "output_type": "stream",
       "stream": "stderr",
       "text": [
        "[2015-04-06 20:41:21,946] Number of reviews: 716 reviews \n"
       ]
      },
      {
       "output_type": "stream",
       "stream": "stderr",
       "text": [
        "INFO:scrape_solution:Number of reviews: 716 reviews \n"
       ]
      },
      {
       "output_type": "stream",
       "stream": "stderr",
       "text": [
        "[2015-04-06 20:41:25,782] Hotel name: Charlesmark Hotel\n"
       ]
      },
      {
       "output_type": "stream",
       "stream": "stderr",
       "text": [
        "INFO:scrape_solution:Hotel name: Charlesmark Hotel\n"
       ]
      },
      {
       "output_type": "stream",
       "stream": "stderr",
       "text": [
        "[2015-04-06 20:41:25,785] Stars: 4\n"
       ]
      },
      {
       "output_type": "stream",
       "stream": "stderr",
       "text": [
        "INFO:scrape_solution:Stars: 4\n"
       ]
      },
      {
       "output_type": "stream",
       "stream": "stderr",
       "text": [
        "[2015-04-06 20:41:25,788] Number of reviews: 754 reviews \n"
       ]
      },
      {
       "output_type": "stream",
       "stream": "stderr",
       "text": [
        "INFO:scrape_solution:Number of reviews: 754 reviews \n"
       ]
      },
      {
       "output_type": "stream",
       "stream": "stderr",
       "text": [
        "[2015-04-06 20:41:28,869] Hotel name: Mandarin Oriental, Boston\n"
       ]
      },
      {
       "output_type": "stream",
       "stream": "stderr",
       "text": [
        "INFO:scrape_solution:Hotel name: Mandarin Oriental, Boston\n"
       ]
      },
      {
       "output_type": "stream",
       "stream": "stderr",
       "text": [
        "[2015-04-06 20:41:28,871] Stars: 4.5\n"
       ]
      },
      {
       "output_type": "stream",
       "stream": "stderr",
       "text": [
        "INFO:scrape_solution:Stars: 4.5\n"
       ]
      },
      {
       "output_type": "stream",
       "stream": "stderr",
       "text": [
        "[2015-04-06 20:41:28,875] Number of reviews: 408 reviews \n"
       ]
      },
      {
       "output_type": "stream",
       "stream": "stderr",
       "text": [
        "INFO:scrape_solution:Number of reviews: 408 reviews \n"
       ]
      },
      {
       "output_type": "stream",
       "stream": "stderr",
       "text": [
        "[2015-04-06 20:41:32,216] Next url is /Hotels-g60745-oa60-Boston_Massachusetts-Hotels.html#ACCOM_OVERVIEW\n"
       ]
      },
      {
       "output_type": "stream",
       "stream": "stderr",
       "text": [
        "INFO:scrape_solution:Next url is /Hotels-g60745-oa60-Boston_Massachusetts-Hotels.html#ACCOM_OVERVIEW\n"
       ]
      },
      {
       "output_type": "stream",
       "stream": "stderr",
       "text": [
        "[2015-04-06 20:41:36,519] #################################### Option 2 ######################################\n"
       ]
      },
      {
       "output_type": "stream",
       "stream": "stderr",
       "text": [
        "INFO:scrape_solution:#################################### Option 2 ######################################\n"
       ]
      },
      {
       "output_type": "stream",
       "stream": "stderr",
       "text": [
        "[2015-04-06 20:41:36,624] #################################### Option 3 ######################################\n"
       ]
      },
      {
       "output_type": "stream",
       "stream": "stderr",
       "text": [
        "INFO:scrape_solution:#################################### Option 3 ######################################\n"
       ]
      },
      {
       "output_type": "stream",
       "stream": "stderr",
       "text": [
        "[2015-04-06 20:41:36,724] Hotel name: Holiday Inn Express Hotel & Suites Boston Garden\n"
       ]
      },
      {
       "output_type": "stream",
       "stream": "stderr",
       "text": [
        "INFO:scrape_solution:Hotel name: Holiday Inn Express Hotel & Suites Boston Garden\n"
       ]
      },
      {
       "output_type": "stream",
       "stream": "stderr",
       "text": [
        "[2015-04-06 20:41:36,725] Stars: 3.5\n"
       ]
      },
      {
       "output_type": "stream",
       "stream": "stderr",
       "text": [
        "INFO:scrape_solution:Stars: 3.5\n"
       ]
      },
      {
       "output_type": "stream",
       "stream": "stderr",
       "text": [
        "[2015-04-06 20:41:36,727] Number of reviews: 306 reviews \n"
       ]
      },
      {
       "output_type": "stream",
       "stream": "stderr",
       "text": [
        "INFO:scrape_solution:Number of reviews: 306 reviews \n"
       ]
      },
      {
       "output_type": "stream",
       "stream": "stderr",
       "text": [
        "[2015-04-06 20:41:39,871] Hotel name: Ames Boston Hotel\n"
       ]
      },
      {
       "output_type": "stream",
       "stream": "stderr",
       "text": [
        "INFO:scrape_solution:Hotel name: Ames Boston Hotel\n"
       ]
      },
      {
       "output_type": "stream",
       "stream": "stderr",
       "text": [
        "[2015-04-06 20:41:39,872] Stars: 4.5\n"
       ]
      },
      {
       "output_type": "stream",
       "stream": "stderr",
       "text": [
        "INFO:scrape_solution:Stars: 4.5\n"
       ]
      },
      {
       "output_type": "stream",
       "stream": "stderr",
       "text": [
        "[2015-04-06 20:41:39,873] Number of reviews: 870 reviews \n"
       ]
      },
      {
       "output_type": "stream",
       "stream": "stderr",
       "text": [
        "INFO:scrape_solution:Number of reviews: 870 reviews \n"
       ]
      },
      {
       "output_type": "stream",
       "stream": "stderr",
       "text": [
        "[2015-04-06 20:41:43,039] Hotel name: The Ritz-Carlton Boston Common\n"
       ]
      },
      {
       "output_type": "stream",
       "stream": "stderr",
       "text": [
        "INFO:scrape_solution:Hotel name: The Ritz-Carlton Boston Common\n"
       ]
      },
      {
       "output_type": "stream",
       "stream": "stderr",
       "text": [
        "[2015-04-06 20:41:43,040] Stars: 4.5\n"
       ]
      },
      {
       "output_type": "stream",
       "stream": "stderr",
       "text": [
        "INFO:scrape_solution:Stars: 4.5\n"
       ]
      },
      {
       "output_type": "stream",
       "stream": "stderr",
       "text": [
        "[2015-04-06 20:41:43,042] Number of reviews: 513 reviews \n"
       ]
      },
      {
       "output_type": "stream",
       "stream": "stderr",
       "text": [
        "INFO:scrape_solution:Number of reviews: 513 reviews \n"
       ]
      },
      {
       "output_type": "stream",
       "stream": "stderr",
       "text": [
        "[2015-04-06 20:41:46,247] Hotel name: Courtyard by Marriott Boston Logan Airport\n"
       ]
      },
      {
       "output_type": "stream",
       "stream": "stderr",
       "text": [
        "INFO:scrape_solution:Hotel name: Courtyard by Marriott Boston Logan Airport\n"
       ]
      },
      {
       "output_type": "stream",
       "stream": "stderr",
       "text": [
        "[2015-04-06 20:41:46,248] Stars: 3.5\n"
       ]
      },
      {
       "output_type": "stream",
       "stream": "stderr",
       "text": [
        "INFO:scrape_solution:Stars: 3.5\n"
       ]
      },
      {
       "output_type": "stream",
       "stream": "stderr",
       "text": [
        "[2015-04-06 20:41:46,250] Number of reviews: 430 reviews \n"
       ]
      },
      {
       "output_type": "stream",
       "stream": "stderr",
       "text": [
        "INFO:scrape_solution:Number of reviews: 430 reviews \n"
       ]
      },
      {
       "output_type": "stream",
       "stream": "stderr",
       "text": [
        "[2015-04-06 20:41:49,447] Hotel name: The Inn At St Botolph\n"
       ]
      },
      {
       "output_type": "stream",
       "stream": "stderr",
       "text": [
        "INFO:scrape_solution:Hotel name: The Inn At St Botolph\n"
       ]
      },
      {
       "output_type": "stream",
       "stream": "stderr",
       "text": [
        "[2015-04-06 20:41:49,448] Stars: 4.5\n"
       ]
      },
      {
       "output_type": "stream",
       "stream": "stderr",
       "text": [
        "INFO:scrape_solution:Stars: 4.5\n"
       ]
      },
      {
       "output_type": "stream",
       "stream": "stderr",
       "text": [
        "[2015-04-06 20:41:49,450] Number of reviews: 429 reviews \n"
       ]
      },
      {
       "output_type": "stream",
       "stream": "stderr",
       "text": [
        "INFO:scrape_solution:Number of reviews: 429 reviews \n"
       ]
      },
      {
       "output_type": "stream",
       "stream": "stderr",
       "text": [
        "[2015-04-06 20:41:52,630] Hotel name: Residence Inn Boston Downtown Seaport\n"
       ]
      },
      {
       "output_type": "stream",
       "stream": "stderr",
       "text": [
        "INFO:scrape_solution:Hotel name: Residence Inn Boston Downtown Seaport\n"
       ]
      },
      {
       "output_type": "stream",
       "stream": "stderr",
       "text": [
        "[2015-04-06 20:41:52,631] Stars: 4.5\n"
       ]
      },
      {
       "output_type": "stream",
       "stream": "stderr",
       "text": [
        "INFO:scrape_solution:Stars: 4.5\n"
       ]
      },
      {
       "output_type": "stream",
       "stream": "stderr",
       "text": [
        "[2015-04-06 20:41:52,633] Number of reviews: 234 reviews \n"
       ]
      },
      {
       "output_type": "stream",
       "stream": "stderr",
       "text": [
        "INFO:scrape_solution:Number of reviews: 234 reviews \n"
       ]
      },
      {
       "output_type": "stream",
       "stream": "stderr",
       "text": [
        "[2015-04-06 20:41:55,913] Hotel name: Courtyard Boston-South Boston\n"
       ]
      },
      {
       "output_type": "stream",
       "stream": "stderr",
       "text": [
        "INFO:scrape_solution:Hotel name: Courtyard Boston-South Boston\n"
       ]
      },
      {
       "output_type": "stream",
       "stream": "stderr",
       "text": [
        "[2015-04-06 20:41:55,914] Stars: 4\n"
       ]
      },
      {
       "output_type": "stream",
       "stream": "stderr",
       "text": [
        "INFO:scrape_solution:Stars: 4\n"
       ]
      },
      {
       "output_type": "stream",
       "stream": "stderr",
       "text": [
        "[2015-04-06 20:41:55,916] Number of reviews: 344 reviews \n"
       ]
      },
      {
       "output_type": "stream",
       "stream": "stderr",
       "text": [
        "INFO:scrape_solution:Number of reviews: 344 reviews \n"
       ]
      },
      {
       "output_type": "stream",
       "stream": "stderr",
       "text": [
        "[2015-04-06 20:41:59,166] Hotel name: Beacon Hill Hotel and Bistro\n"
       ]
      },
      {
       "output_type": "stream",
       "stream": "stderr",
       "text": [
        "INFO:scrape_solution:Hotel name: Beacon Hill Hotel and Bistro\n"
       ]
      },
      {
       "output_type": "stream",
       "stream": "stderr",
       "text": [
        "[2015-04-06 20:41:59,167] Stars: 4\n"
       ]
      },
      {
       "output_type": "stream",
       "stream": "stderr",
       "text": [
        "INFO:scrape_solution:Stars: 4\n"
       ]
      },
      {
       "output_type": "stream",
       "stream": "stderr",
       "text": [
        "[2015-04-06 20:41:59,169] Number of reviews: 143 reviews \n"
       ]
      },
      {
       "output_type": "stream",
       "stream": "stderr",
       "text": [
        "INFO:scrape_solution:Number of reviews: 143 reviews \n"
       ]
      },
      {
       "output_type": "stream",
       "stream": "stderr",
       "text": [
        "[2015-04-06 20:42:02,329] Hotel name: Comfort Inn - Boston\n"
       ]
      },
      {
       "output_type": "stream",
       "stream": "stderr",
       "text": [
        "INFO:scrape_solution:Hotel name: Comfort Inn - Boston\n"
       ]
      },
      {
       "output_type": "stream",
       "stream": "stderr",
       "text": [
        "[2015-04-06 20:42:02,330] Stars: 3.5\n"
       ]
      },
      {
       "output_type": "stream",
       "stream": "stderr",
       "text": [
        "INFO:scrape_solution:Stars: 3.5\n"
       ]
      },
      {
       "output_type": "stream",
       "stream": "stderr",
       "text": [
        "[2015-04-06 20:42:02,332] Number of reviews: 287 reviews \n"
       ]
      },
      {
       "output_type": "stream",
       "stream": "stderr",
       "text": [
        "INFO:scrape_solution:Number of reviews: 287 reviews \n"
       ]
      },
      {
       "output_type": "stream",
       "stream": "stderr",
       "text": [
        "[2015-04-06 20:42:05,548] Hotel name: The Boston Common Hotel and Conference Center\n"
       ]
      },
      {
       "output_type": "stream",
       "stream": "stderr",
       "text": [
        "INFO:scrape_solution:Hotel name: The Boston Common Hotel and Conference Center\n"
       ]
      },
      {
       "output_type": "stream",
       "stream": "stderr",
       "text": [
        "[2015-04-06 20:42:05,549] Stars: 3.5\n"
       ]
      },
      {
       "output_type": "stream",
       "stream": "stderr",
       "text": [
        "INFO:scrape_solution:Stars: 3.5\n"
       ]
      },
      {
       "output_type": "stream",
       "stream": "stderr",
       "text": [
        "[2015-04-06 20:42:05,550] Number of reviews: 443 reviews \n"
       ]
      },
      {
       "output_type": "stream",
       "stream": "stderr",
       "text": [
        "INFO:scrape_solution:Number of reviews: 443 reviews \n"
       ]
      },
      {
       "output_type": "stream",
       "stream": "stderr",
       "text": [
        "[2015-04-06 20:42:08,693] Hotel name: Courtyard Boston Downtown\n"
       ]
      },
      {
       "output_type": "stream",
       "stream": "stderr",
       "text": [
        "INFO:scrape_solution:Hotel name: Courtyard Boston Downtown\n"
       ]
      },
      {
       "output_type": "stream",
       "stream": "stderr",
       "text": [
        "[2015-04-06 20:42:08,694] Stars: 3\n"
       ]
      },
      {
       "output_type": "stream",
       "stream": "stderr",
       "text": [
        "INFO:scrape_solution:Stars: 3\n"
       ]
      },
      {
       "output_type": "stream",
       "stream": "stderr",
       "text": [
        "[2015-04-06 20:42:08,696] Number of reviews: 808 reviews \n"
       ]
      },
      {
       "output_type": "stream",
       "stream": "stderr",
       "text": [
        "INFO:scrape_solution:Number of reviews: 808 reviews \n"
       ]
      },
      {
       "output_type": "stream",
       "stream": "stderr",
       "text": [
        "[2015-04-06 20:42:12,132] Hotel name: Boston Park Plaza\n"
       ]
      },
      {
       "output_type": "stream",
       "stream": "stderr",
       "text": [
        "INFO:scrape_solution:Hotel name: Boston Park Plaza\n"
       ]
      },
      {
       "output_type": "stream",
       "stream": "stderr",
       "text": [
        "[2015-04-06 20:42:12,134] Stars: 3.5\n"
       ]
      },
      {
       "output_type": "stream",
       "stream": "stderr",
       "text": [
        "INFO:scrape_solution:Stars: 3.5\n"
       ]
      },
      {
       "output_type": "stream",
       "stream": "stderr",
       "text": [
        "[2015-04-06 20:42:12,136] Number of reviews: 4,249 reviews \n"
       ]
      },
      {
       "output_type": "stream",
       "stream": "stderr",
       "text": [
        "INFO:scrape_solution:Number of reviews: 4,249 reviews \n"
       ]
      },
      {
       "output_type": "stream",
       "stream": "stderr",
       "text": [
        "[2015-04-06 20:42:15,459] Hotel name: Ramada Boston\n"
       ]
      },
      {
       "output_type": "stream",
       "stream": "stderr",
       "text": [
        "INFO:scrape_solution:Hotel name: Ramada Boston\n"
       ]
      },
      {
       "output_type": "stream",
       "stream": "stderr",
       "text": [
        "[2015-04-06 20:42:15,460] Stars: 3\n"
       ]
      },
      {
       "output_type": "stream",
       "stream": "stderr",
       "text": [
        "INFO:scrape_solution:Stars: 3\n"
       ]
      },
      {
       "output_type": "stream",
       "stream": "stderr",
       "text": [
        "[2015-04-06 20:42:15,461] Number of reviews: 920 reviews \n"
       ]
      },
      {
       "output_type": "stream",
       "stream": "stderr",
       "text": [
        "INFO:scrape_solution:Number of reviews: 920 reviews \n"
       ]
      },
      {
       "output_type": "stream",
       "stream": "stderr",
       "text": [
        "[2015-04-06 20:42:18,681] Hotel name: Milner Hotel\n"
       ]
      },
      {
       "output_type": "stream",
       "stream": "stderr",
       "text": [
        "INFO:scrape_solution:Hotel name: Milner Hotel\n"
       ]
      },
      {
       "output_type": "stream",
       "stream": "stderr",
       "text": [
        "[2015-04-06 20:42:18,683] Stars: 3\n"
       ]
      },
      {
       "output_type": "stream",
       "stream": "stderr",
       "text": [
        "INFO:scrape_solution:Stars: 3\n"
       ]
      },
      {
       "output_type": "stream",
       "stream": "stderr",
       "text": [
        "[2015-04-06 20:42:18,684] Number of reviews: 368 reviews \n"
       ]
      },
      {
       "output_type": "stream",
       "stream": "stderr",
       "text": [
        "INFO:scrape_solution:Number of reviews: 368 reviews \n"
       ]
      },
      {
       "output_type": "stream",
       "stream": "stderr",
       "text": [
        "[2015-04-06 20:42:22,029] Hotel name: Constitution Inn\n"
       ]
      },
      {
       "output_type": "stream",
       "stream": "stderr",
       "text": [
        "INFO:scrape_solution:Hotel name: Constitution Inn\n"
       ]
      },
      {
       "output_type": "stream",
       "stream": "stderr",
       "text": [
        "[2015-04-06 20:42:22,031] Stars: 3\n"
       ]
      },
      {
       "output_type": "stream",
       "stream": "stderr",
       "text": [
        "INFO:scrape_solution:Stars: 3\n"
       ]
      },
      {
       "output_type": "stream",
       "stream": "stderr",
       "text": [
        "[2015-04-06 20:42:22,032] Number of reviews: 411 reviews \n"
       ]
      },
      {
       "output_type": "stream",
       "stream": "stderr",
       "text": [
        "INFO:scrape_solution:Number of reviews: 411 reviews \n"
       ]
      },
      {
       "output_type": "stream",
       "stream": "stderr",
       "text": [
        "[2015-04-06 20:42:25,362] Hotel name: Days Hotel Boston\n"
       ]
      },
      {
       "output_type": "stream",
       "stream": "stderr",
       "text": [
        "INFO:scrape_solution:Hotel name: Days Hotel Boston\n"
       ]
      },
      {
       "output_type": "stream",
       "stream": "stderr",
       "text": [
        "[2015-04-06 20:42:25,363] Stars: 3\n"
       ]
      },
      {
       "output_type": "stream",
       "stream": "stderr",
       "text": [
        "INFO:scrape_solution:Stars: 3\n"
       ]
      },
      {
       "output_type": "stream",
       "stream": "stderr",
       "text": [
        "[2015-04-06 20:42:25,365] Number of reviews: 190 reviews \n"
       ]
      },
      {
       "output_type": "stream",
       "stream": "stderr",
       "text": [
        "INFO:scrape_solution:Number of reviews: 190 reviews \n"
       ]
      },
      {
       "output_type": "stream",
       "stream": "stderr",
       "text": [
        "[2015-04-06 20:42:28,513] Hotel name: Americas Best Value Inn\n"
       ]
      },
      {
       "output_type": "stream",
       "stream": "stderr",
       "text": [
        "INFO:scrape_solution:Hotel name: Americas Best Value Inn\n"
       ]
      },
      {
       "output_type": "stream",
       "stream": "stderr",
       "text": [
        "[2015-04-06 20:42:28,514] Stars: 2.5\n"
       ]
      },
      {
       "output_type": "stream",
       "stream": "stderr",
       "text": [
        "INFO:scrape_solution:Stars: 2.5\n"
       ]
      },
      {
       "output_type": "stream",
       "stream": "stderr",
       "text": [
        "[2015-04-06 20:42:28,516] Number of reviews: 18 reviews \n"
       ]
      },
      {
       "output_type": "stream",
       "stream": "stderr",
       "text": [
        "INFO:scrape_solution:Number of reviews: 18 reviews \n"
       ]
      },
      {
       "output_type": "stream",
       "stream": "stderr",
       "text": [
        "[2015-04-06 20:42:31,603] We reached last page\n"
       ]
      },
      {
       "output_type": "stream",
       "stream": "stderr",
       "text": [
        "INFO:scrape_solution:We reached last page\n"
       ]
      },
      {
       "output_type": "stream",
       "stream": "stdout",
       "text": [
        "<type 'dict'>\n"
       ]
      }
     ],
     "prompt_number": 1
    },
    {
     "cell_type": "code",
     "collapsed": false,
     "input": [],
     "language": "python",
     "metadata": {},
     "outputs": [],
     "prompt_number": 10
    },
    {
     "cell_type": "code",
     "collapsed": false,
     "input": [],
     "language": "python",
     "metadata": {},
     "outputs": [
      {
       "output_type": "stream",
       "stream": "stdout",
       "text": [
        "                            OLS Regression Results                            \n",
        "==============================================================================\n",
        "Dep. Variable:          Average_score   R-squared:                       0.999\n",
        "Model:                            OLS   Adj. R-squared:                  0.999\n",
        "Method:                 Least Squares   F-statistic:                     7460.\n",
        "Date:                Mon, 06 Apr 2015   Prob (F-statistic):           3.59e-48\n",
        "Time:                        20:45:19   Log-Likelihood:                 32.460\n",
        "No. Observations:                  38   AIC:                            -50.92\n",
        "Df Residuals:                      31   BIC:                            -39.46\n",
        "Df Model:                           7                                         \n",
        "====================================================================================\n",
        "                       coef    std err          t      P>|t|      [95.0% Conf. Int.]\n",
        "------------------------------------------------------------------------------------\n",
        "Cleanliness          0.4372      0.080      5.440      0.000         0.273     0.601\n",
        "Location             0.1045      0.020      5.128      0.000         0.063     0.146\n",
        "Rooms                0.1045      0.020      5.128      0.000         0.063     0.146\n",
        "Service              0.1045      0.020      5.128      0.000         0.063     0.146\n",
        "Value                0.2336      0.075      3.117      0.004         0.081     0.386\n",
        "Business_ratings -7.215e-05      0.000     -0.288      0.775        -0.001     0.000\n",
        "Couple_ratings       0.0004      0.000      2.380      0.024      5.48e-05     0.001\n",
        "Family_ratings    -6.29e-05      0.000     -0.297      0.769        -0.000     0.000\n",
        "Solo_ratings        -0.0018      0.001     -1.805      0.081        -0.004     0.000\n",
        "==============================================================================\n",
        "Omnibus:                        0.347   Durbin-Watson:                   2.091\n",
        "Prob(Omnibus):                  0.841   Jarque-Bera (JB):                0.221\n",
        "Skew:                           0.178   Prob(JB):                        0.895\n",
        "Kurtosis:                       2.888   Cond. No.                     9.22e+08\n",
        "==============================================================================\n",
        "\n",
        "Warnings:\n",
        "[1] The smallest eigenvalue is 1.66e-11. This might indicate that there are\n",
        "strong multicollinearity problems or that the design matrix is singular.\n",
        "Confidence Intervals:                          0         1\n",
        "Cleanliness       0.273314  0.601123\n",
        "Location          0.062918  0.146013\n",
        "Rooms             0.062918  0.146013\n",
        "Service           0.062918  0.146013\n",
        "Value             0.080769  0.386398\n",
        "Business_ratings -0.000583  0.000439\n",
        "Couple_ratings    0.000055  0.000712\n",
        "Family_ratings   -0.000495  0.000370\n",
        "Solo_ratings     -0.003813  0.000233\n",
        "Parameters: Cleanliness         0.437219\n",
        "Location            0.104466\n",
        "Rooms               0.104466\n",
        "Service             0.104466\n",
        "Value               0.233583\n",
        "Business_ratings   -0.000072\n",
        "Couple_ratings      0.000384\n",
        "Family_ratings     -0.000063\n",
        "Solo_ratings       -0.001790\n",
        "dtype: float64\n"
       ]
      }
     ],
     "prompt_number": 11
    },
    {
     "cell_type": "markdown",
     "metadata": {},
     "source": [
      "** Task 2 (30 pts)**\n",
      "\n",
      "Then, for each hotel that our search returns, we will \"click\" (with the code of course) on it and scrape the information below.\n",
      "\n",
      "![Information to be scraped](hotel_info.png)\n",
      "\n",
      "Of course, feel free to collect even more data if you want. "
     ]
    },
    {
     "cell_type": "code",
     "collapsed": false,
     "input": [
      "print(hotels)"
     ],
     "language": "python",
     "metadata": {},
     "outputs": [
      {
       "output_type": "stream",
       "stream": "stdout",
       "text": [
        "{u'\\nColonnade Hotel': {'Average_ratings': u'160', 'Poor_ratings': u'63', 'Family_ratings': u'472', 'Terrible_ratings': u'49', 'Verygood_ratings': u'513', 'Couple_ratings': u'616', 'Service': u'4.5', 'Business_ratings': u'526', 'Value': u'4', 'Cleanliness': u'4.5', 'Average_score': 4.409597673291323, 'Location': u'4.5', 'Solo_ratings': u'103', 'Excellent_ratings': u'1278', 'Sleep_quality': u'5', 'Rooms': u'4.5'}, u'\\nMilner Hotel': {'Average_ratings': u'112', 'Poor_ratings': u'44', 'Family_ratings': u'43', 'Terrible_ratings': u'64', 'Verygood_ratings': u'119', 'Couple_ratings': u'107', 'Service': u'3.5', 'Business_ratings': u'56', 'Value': u'3.5', 'Cleanliness': u'3.5', 'Average_score': 3.0135869565217392, 'Location': u'3.5', 'Solo_ratings': u'77', 'Excellent_ratings': u'29', 'Sleep_quality': u'4.5', 'Rooms': u'3.5'}, u'\\nHotel 140': {'Average_ratings': u'160', 'Poor_ratings': u'55', 'Family_ratings': u'118', 'Terrible_ratings': u'45', 'Verygood_ratings': u'390', 'Couple_ratings': u'417', 'Service': u'4', 'Business_ratings': u'148', 'Value': u'4', 'Cleanliness': u'4.5', 'Average_score': 3.91124871001032, 'Location': u'4', 'Solo_ratings': u'108', 'Excellent_ratings': u'319', 'Sleep_quality': u'4.5', 'Rooms': u'4'}, u'\\nMillennium Bostonian Hotel': {'Average_ratings': u'116', 'Poor_ratings': u'55', 'Family_ratings': u'188', 'Terrible_ratings': u'33', 'Verygood_ratings': u'377', 'Couple_ratings': u'415', 'Service': u'4', 'Business_ratings': u'156', 'Value': u'4', 'Cleanliness': u'4.5', 'Average_score': 4.110893032384691, 'Location': u'4', 'Solo_ratings': u'60', 'Excellent_ratings': u'438', 'Sleep_quality': u'5', 'Rooms': u'4'}, u'\\nW Boston': {'Average_ratings': u'107', 'Poor_ratings': u'50', 'Family_ratings': u'128', 'Terrible_ratings': u'28', 'Verygood_ratings': u'262', 'Couple_ratings': u'312', 'Service': u'4.5', 'Business_ratings': u'218', 'Value': u'3.5', 'Cleanliness': u'4.5', 'Average_score': 4.146820809248555, 'Location': u'4.5', 'Solo_ratings': u'67', 'Excellent_ratings': u'418', 'Sleep_quality': u'4.5', 'Rooms': u'4.5'}, u'\\nLenox Hotel': {'Average_ratings': u'107', 'Poor_ratings': u'46', 'Family_ratings': u'632', 'Terrible_ratings': u'20', 'Verygood_ratings': u'509', 'Couple_ratings': u'986', 'Service': u'4.5', 'Business_ratings': u'383', 'Value': u'4.5', 'Cleanliness': u'5', 'Average_score': 4.6332813717848795, 'Location': u'4.5', 'Solo_ratings': u'143', 'Excellent_ratings': u'1884', 'Sleep_quality': u'5', 'Rooms': u'4.5'}, u'\\nThe Inn At St Botolph': {'Average_ratings': u'20', 'Poor_ratings': u'7', 'Family_ratings': u'78', 'Terrible_ratings': u'2', 'Verygood_ratings': u'105', 'Couple_ratings': u'186', 'Service': u'4.5', 'Business_ratings': u'87', 'Value': u'4.5', 'Cleanliness': u'4.5', 'Average_score': 4.594405594405594, 'Location': u'4.5', 'Solo_ratings': u'51', 'Excellent_ratings': u'295', 'Sleep_quality': u'5', 'Rooms': u'4.5'}, u'\\nThe Westin Boston Waterfront': {'Average_ratings': u'267', 'Poor_ratings': u'85', 'Family_ratings': u'234', 'Terrible_ratings': u'46', 'Verygood_ratings': u'637', 'Couple_ratings': u'383', 'Service': u'3.5', 'Business_ratings': u'728', 'Value': u'3.5', 'Cleanliness': u'4.5', 'Average_score': 4.006785934608266, 'Location': u'3.5', 'Solo_ratings': u'107', 'Excellent_ratings': u'586', 'Sleep_quality': u'4.5', 'Rooms': u'3.5'}, u'\\nClub Quarters in Boston': {'Average_ratings': u'133', 'Poor_ratings': u'49', 'Family_ratings': u'111', 'Terrible_ratings': u'34', 'Verygood_ratings': u'420', 'Couple_ratings': u'354', 'Service': u'4', 'Business_ratings': u'239', 'Value': u'4', 'Cleanliness': u'4.5', 'Average_score': 4.07802093244529, 'Location': u'4', 'Solo_ratings': u'112', 'Excellent_ratings': u'415', 'Sleep_quality': u'4.5', 'Rooms': u'4'}, u'\\nChandler Inn': {'Average_ratings': u'110', 'Poor_ratings': u'48', 'Family_ratings': u'77', 'Terrible_ratings': u'25', 'Verygood_ratings': u'406', 'Couple_ratings': u'367', 'Service': u'4', 'Business_ratings': u'120', 'Value': u'4', 'Cleanliness': u'4.5', 'Average_score': 3.986013986013986, 'Location': u'4', 'Solo_ratings': u'126', 'Excellent_ratings': u'269', 'Sleep_quality': u'4.5', 'Rooms': u'4'}, u'\\nBeacon Hill Hotel and Bistro': {'Average_ratings': u'18', 'Poor_ratings': u'9', 'Family_ratings': u'17', 'Terrible_ratings': u'4', 'Verygood_ratings': u'46', 'Couple_ratings': u'72', 'Service': u'4', 'Business_ratings': u'13', 'Value': u'4', 'Cleanliness': u'4.5', 'Average_score': 4.125874125874126, 'Location': u'4', 'Solo_ratings': u'15', 'Excellent_ratings': u'66', 'Sleep_quality': u'5', 'Rooms': u'4'}, u'\\nTaj Boston': {'Average_ratings': u'149', 'Poor_ratings': u'83', 'Family_ratings': u'241', 'Terrible_ratings': u'32', 'Verygood_ratings': u'374', 'Couple_ratings': u'433', 'Service': u'4.5', 'Business_ratings': u'244', 'Value': u'4', 'Cleanliness': u'4.5', 'Average_score': 4.085440278988666, 'Location': u'4.5', 'Solo_ratings': u'77', 'Excellent_ratings': u'509', 'Sleep_quality': u'5', 'Rooms': u'4.5'}, u'\\nOnyx Hotel - a Kimpton Hotel': {'Average_ratings': u'109', 'Poor_ratings': u'48', 'Family_ratings': u'174', 'Terrible_ratings': u'22', 'Verygood_ratings': u'326', 'Couple_ratings': u'373', 'Service': u'4.5', 'Business_ratings': u'148', 'Value': u'4', 'Cleanliness': u'4.5', 'Average_score': 4.21057985757884, 'Location': u'4.5', 'Solo_ratings': u'55', 'Excellent_ratings': u'478', 'Sleep_quality': u'4.5', 'Rooms': u'4.5'}, u'\\nHilton Boston Logan Airport': {'Average_ratings': u'295', 'Poor_ratings': u'85', 'Family_ratings': u'422', 'Terrible_ratings': u'47', 'Verygood_ratings': u'857', 'Couple_ratings': u'514', 'Service': u'4.5', 'Business_ratings': u'604', 'Value': u'3.5', 'Cleanliness': u'4.5', 'Average_score': 4.040609137055838, 'Location': u'4.5', 'Solo_ratings': u'192', 'Excellent_ratings': u'686', 'Sleep_quality': u'4.5', 'Rooms': u'4.5'}, u'\\nFour Seasons Hotel Boston': {'Average_ratings': u'47', 'Poor_ratings': u'22', 'Family_ratings': u'292', 'Terrible_ratings': u'13', 'Verygood_ratings': u'140', 'Couple_ratings': u'256', 'Service': u'5', 'Business_ratings': u'317', 'Value': u'4', 'Cleanliness': u'5', 'Average_score': 4.658914728682171, 'Location': u'5', 'Solo_ratings': u'47', 'Excellent_ratings': u'810', 'Sleep_quality': u'5', 'Rooms': u'5'}, u'\\nDoubleTree Club by Hilton Hotel Boston Bayside': {'Average_ratings': u'228', 'Poor_ratings': u'76', 'Family_ratings': u'234', 'Terrible_ratings': u'37', 'Verygood_ratings': u'346', 'Couple_ratings': u'247', 'Service': u'3.5', 'Business_ratings': u'224', 'Value': u'3.5', 'Cleanliness': u'4', 'Average_score': 3.7547568710359407, 'Location': u'3.5', 'Solo_ratings': u'76', 'Excellent_ratings': u'259', 'Sleep_quality': u'4', 'Rooms': u'3.5'}, u'\\nRenaissance Boston Waterfront Hotel': {'Average_ratings': u'104', 'Poor_ratings': u'34', 'Family_ratings': u'140', 'Terrible_ratings': u'15', 'Verygood_ratings': u'383', 'Couple_ratings': u'215', 'Service': u'4', 'Business_ratings': u'371', 'Value': u'4', 'Cleanliness': u'4.5', 'Average_score': 4.13745704467354, 'Location': u'4', 'Solo_ratings': u'62', 'Excellent_ratings': u'337', 'Sleep_quality': u'4.5', 'Rooms': u'4'}, u'\\nenVision Hotel Boston': {'Average_ratings': u'21', 'Poor_ratings': u'7', 'Family_ratings': u'104', 'Terrible_ratings': u'1', 'Verygood_ratings': u'85', 'Couple_ratings': u'102', 'Service': u'4', 'Business_ratings': u'64', 'Value': u'4.5', 'Cleanliness': u'5', 'Average_score': 4.5777777777777775, 'Location': u'4', 'Solo_ratings': u'29', 'Excellent_ratings': u'246', 'Sleep_quality': u'4.5', 'Rooms': u'4'}, u'\\nRevere Hotel Boston Common': {'Average_ratings': u'181', 'Poor_ratings': u'39', 'Family_ratings': u'445', 'Terrible_ratings': u'17', 'Verygood_ratings': u'619', 'Couple_ratings': u'624', 'Service': u'4.5', 'Business_ratings': u'300', 'Value': u'4', 'Cleanliness': u'4.5', 'Average_score': 4.402051282051282, 'Location': u'4.5', 'Solo_ratings': u'78', 'Excellent_ratings': u'1094', 'Sleep_quality': u'4.5', 'Rooms': u'4.5'}, u'\\nThe Langham, Boston': {'Average_ratings': u'112', 'Poor_ratings': u'41', 'Family_ratings': u'249', 'Terrible_ratings': u'29', 'Verygood_ratings': u'419', 'Couple_ratings': u'559', 'Service': u'4.5', 'Business_ratings': u'324', 'Value': u'4', 'Cleanliness': u'4.5', 'Average_score': 4.374468085106383, 'Location': u'4.5', 'Solo_ratings': u'51', 'Excellent_ratings': u'809', 'Sleep_quality': u'4.5', 'Rooms': u'4.5'}, u'\\nHyatt Regency Boston': {'Average_ratings': u'381', 'Poor_ratings': u'133', 'Family_ratings': u'393', 'Terrible_ratings': u'55', 'Verygood_ratings': u'738', 'Couple_ratings': u'568', 'Service': u'4', 'Business_ratings': u'474', 'Value': u'3.5', 'Cleanliness': u'4.5', 'Average_score': 3.904343329886246, 'Location': u'4', 'Solo_ratings': u'115', 'Excellent_ratings': u'627', 'Sleep_quality': u'4.5', 'Rooms': u'4'}, u'\\nBoston Marriott Long Wharf': {'Average_ratings': u'137', 'Poor_ratings': u'49', 'Family_ratings': u'434', 'Terrible_ratings': u'26', 'Verygood_ratings': u'467', 'Couple_ratings': u'344', 'Service': u'4', 'Business_ratings': u'253', 'Value': u'3.5', 'Cleanliness': u'4.5', 'Average_score': 4.231007751937985, 'Location': u'4', 'Solo_ratings': u'38', 'Excellent_ratings': u'611', 'Sleep_quality': u'5', 'Rooms': u'4'}, u'\\nInterContinental Boston': {'Average_ratings': u'130', 'Poor_ratings': u'56', 'Family_ratings': u'383', 'Terrible_ratings': u'47', 'Verygood_ratings': u'526', 'Couple_ratings': u'665', 'Service': u'4.5', 'Business_ratings': u'475', 'Value': u'4', 'Cleanliness': u'4.5', 'Average_score': 4.397996837111228, 'Location': u'4.5', 'Solo_ratings': u'127', 'Excellent_ratings': u'1138', 'Sleep_quality': u'4.5', 'Rooms': u'4.5'}, u'\\nBattery Wharf Hotel, Boston Waterfront': {'Average_ratings': u'74', 'Poor_ratings': u'24', 'Family_ratings': u'175', 'Terrible_ratings': u'9', 'Verygood_ratings': u'197', 'Couple_ratings': u'407', 'Service': u'4.5', 'Business_ratings': u'128', 'Value': u'4', 'Cleanliness': u'4.5', 'Average_score': 4.475694444444445, 'Location': u'4.5', 'Solo_ratings': u'51', 'Excellent_ratings': u'560', 'Sleep_quality': u'4.5', 'Rooms': u'4.5'}, u'\\nResidence Inn by Marriott Boston Harbor on Tudor Wharf': {'Average_ratings': u'42', 'Poor_ratings': u'14', 'Family_ratings': u'196', 'Terrible_ratings': u'4', 'Verygood_ratings': u'182', 'Couple_ratings': u'140', 'Service': u'4.5', 'Business_ratings': u'71', 'Value': u'4', 'Cleanliness': u'4.5', 'Average_score': 4.375722543352601, 'Location': u'4.5', 'Solo_ratings': u'25', 'Excellent_ratings': u'277', 'Sleep_quality': u'4.5', 'Rooms': u'4.5'}, u'\\nThe Midtown Hotel': {'Average_ratings': u'338', 'Poor_ratings': u'124', 'Family_ratings': u'394', 'Terrible_ratings': u'63', 'Verygood_ratings': u'608', 'Couple_ratings': u'326', 'Service': u'4', 'Business_ratings': u'244', 'Value': u'4', 'Cleanliness': u'4', 'Average_score': 3.621387283236994, 'Location': u'4', 'Solo_ratings': u'105', 'Excellent_ratings': u'251', 'Sleep_quality': u'4.5', 'Rooms': u'4'}, u'\\nEliot Hotel': {'Average_ratings': u'65', 'Poor_ratings': u'29', 'Family_ratings': u'223', 'Terrible_ratings': u'23', 'Verygood_ratings': u'196', 'Couple_ratings': u'206', 'Service': u'4.5', 'Business_ratings': u'117', 'Value': u'4', 'Cleanliness': u'4.5', 'Average_score': 4.323056300268097, 'Location': u'4.5', 'Solo_ratings': u'29', 'Excellent_ratings': u'433', 'Sleep_quality': u'4.5', 'Rooms': u'4.5'}, u'\\nHoliday Inn Express Boston': {'Average_ratings': u'99', 'Poor_ratings': u'27', 'Family_ratings': u'132', 'Terrible_ratings': u'23', 'Verygood_ratings': u'255', 'Couple_ratings': u'194', 'Service': u'3.5', 'Business_ratings': u'78', 'Value': u'4', 'Cleanliness': u'4', 'Average_score': 3.836431226765799, 'Location': u'3.5', 'Solo_ratings': u'38', 'Excellent_ratings': u'134', 'Sleep_quality': u'4', 'Rooms': u'3.5'}, u'\\nEmbassy Suites Boston Logan Airport': {'Average_ratings': u'217', 'Poor_ratings': u'66', 'Family_ratings': u'429', 'Terrible_ratings': u'40', 'Verygood_ratings': u'517', 'Couple_ratings': u'307', 'Service': u'4', 'Business_ratings': u'302', 'Value': u'4', 'Cleanliness': u'4.5', 'Average_score': 4.00983358547655, 'Location': u'4', 'Solo_ratings': u'77', 'Excellent_ratings': u'482', 'Sleep_quality': u'4.5', 'Rooms': u'4'}, u'\\nCourtyard Boston-South Boston': {'Average_ratings': u'56', 'Poor_ratings': u'23', 'Family_ratings': u'111', 'Terrible_ratings': u'12', 'Verygood_ratings': u'162', 'Couple_ratings': u'90', 'Service': u'3.5', 'Business_ratings': u'73', 'Value': u'4', 'Cleanliness': u'4.5', 'Average_score': 3.863372093023256, 'Location': u'3.5', 'Solo_ratings': u'22', 'Excellent_ratings': u'91', 'Sleep_quality': u'4', 'Rooms': u'3.5'}, u'\\nThe Fairmont Copley Plaza, Boston': {'Average_ratings': u'157', 'Poor_ratings': u'68', 'Family_ratings': u'316', 'Terrible_ratings': u'29', 'Verygood_ratings': u'434', 'Couple_ratings': u'557', 'Service': u'4.5', 'Business_ratings': u'444', 'Value': u'4', 'Cleanliness': u'4.5', 'Average_score': 4.337057728119181, 'Location': u'4.5', 'Solo_ratings': u'71', 'Excellent_ratings': u'923', 'Sleep_quality': u'5', 'Rooms': u'4.5'}, u'\\nHotel Commonwealth': {'Average_ratings': u'81', 'Poor_ratings': u'39', 'Family_ratings': u'916', 'Terrible_ratings': u'13', 'Verygood_ratings': u'442', 'Couple_ratings': u'853', 'Service': u'5', 'Business_ratings': u'585', 'Value': u'4.5', 'Cleanliness': u'5', 'Average_score': 4.737699355276552, 'Location': u'5', 'Solo_ratings': u'147', 'Excellent_ratings': u'2372', 'Sleep_quality': u'5', 'Rooms': u'5'}, u'\\nAmericas Best Value Inn': {'Average_ratings': u'8', 'Poor_ratings': u'1', 'Family_ratings': u'4', 'Terrible_ratings': u'5', 'Verygood_ratings': u'2', 'Couple_ratings': u'3', 'Service': u'2.5', 'Business_ratings': u'3', 'Value': u'3', 'Cleanliness': u'3', 'Average_score': 2.7222222222222223, 'Location': u'2.5', 'Solo_ratings': u'2', 'Excellent_ratings': u'2', 'Sleep_quality': u'3', 'Rooms': u'2.5'}, u'\\nHilton Boston Downtown / Faneuil Hall': {'Average_ratings': u'162', 'Poor_ratings': u'42', 'Family_ratings': u'206', 'Terrible_ratings': u'30', 'Verygood_ratings': u'340', 'Couple_ratings': u'253', 'Service': u'4', 'Business_ratings': u'230', 'Value': u'3.5', 'Cleanliness': u'4.5', 'Average_score': 3.961187214611872, 'Location': u'4', 'Solo_ratings': u'30', 'Excellent_ratings': u'302', 'Sleep_quality': u'4.5', 'Rooms': u'4'}, u'\\nCopley House': {'Average_ratings': u'60', 'Poor_ratings': u'32', 'Family_ratings': u'80', 'Terrible_ratings': u'41', 'Verygood_ratings': u'138', 'Couple_ratings': u'113', 'Service': u'3.5', 'Business_ratings': u'67', 'Value': u'4', 'Cleanliness': u'3.5', 'Average_score': 3.636842105263158, 'Location': u'3.5', 'Solo_ratings': u'37', 'Excellent_ratings': u'109', 'Sleep_quality': u'4.5', 'Rooms': u'3.5'}, u'\\nComfort Inn - Boston': {'Average_ratings': u'85', 'Poor_ratings': u'34', 'Family_ratings': u'69', 'Terrible_ratings': u'27', 'Verygood_ratings': u'94', 'Couple_ratings': u'91', 'Service': u'3', 'Business_ratings': u'41', 'Value': u'3.5', 'Cleanliness': u'4', 'Average_score': 3.3484320557491287, 'Location': u'3', 'Solo_ratings': u'17', 'Excellent_ratings': u'47', 'Sleep_quality': u'3.5', 'Rooms': u'3'}, u'\\nCharlesmark Hotel': {'Average_ratings': u'71', 'Poor_ratings': u'34', 'Family_ratings': u'44', 'Terrible_ratings': u'18', 'Verygood_ratings': u'302', 'Couple_ratings': u'304', 'Service': u'4', 'Business_ratings': u'140', 'Value': u'4', 'Cleanliness': u'4.5', 'Average_score': 4.180371352785146, 'Location': u'4', 'Solo_ratings': u'95', 'Excellent_ratings': u'329', 'Sleep_quality': u'5', 'Rooms': u'4'}, u'\\nResidence Inn Boston Downtown Seaport': {'Average_ratings': u'6', 'Poor_ratings': u'7', 'Family_ratings': u'65', 'Terrible_ratings': u'1', 'Verygood_ratings': u'52', 'Couple_ratings': u'69', 'Service': u'4.5', 'Business_ratings': u'53', 'Value': u'4', 'Cleanliness': u'5', 'Average_score': 4.619658119658119, 'Location': u'4.5', 'Solo_ratings': u'4', 'Excellent_ratings': u'168', 'Sleep_quality': u'4.5', 'Rooms': u'4.5'}, u'\\nConstitution Inn': {'Average_ratings': u'115', 'Poor_ratings': u'60', 'Family_ratings': u'103', 'Terrible_ratings': u'49', 'Verygood_ratings': u'131', 'Couple_ratings': u'112', 'Service': u'3.5', 'Business_ratings': u'42', 'Value': u'3.5', 'Cleanliness': u'3.5', 'Average_score': 3.2068126520681264, 'Location': u'3.5', 'Solo_ratings': u'33', 'Excellent_ratings': u'56', 'Sleep_quality': u'3.5', 'Rooms': u'3.5'}, u'\\nXV Beacon': {'Average_ratings': u'30', 'Poor_ratings': u'22', 'Family_ratings': u'112', 'Terrible_ratings': u'9', 'Verygood_ratings': u'139', 'Couple_ratings': u'406', 'Service': u'4.5', 'Business_ratings': u'115', 'Value': u'4', 'Cleanliness': u'5', 'Average_score': 4.62280701754386, 'Location': u'4.5', 'Solo_ratings': u'40', 'Excellent_ratings': u'598', 'Sleep_quality': u'5', 'Rooms': u'4.5'}, u'\\nAmes Boston Hotel': {'Average_ratings': u'89', 'Poor_ratings': u'35', 'Family_ratings': u'103', 'Terrible_ratings': u'15', 'Verygood_ratings': u'258', 'Couple_ratings': u'431', 'Service': u'4.5', 'Business_ratings': u'153', 'Value': u'4', 'Cleanliness': u'4.5', 'Average_score': 4.309195402298851, 'Location': u'4.5', 'Solo_ratings': u'65', 'Excellent_ratings': u'473', 'Sleep_quality': u'5', 'Rooms': u'4.5'}, u'\\nThe Boxer Boston': {'Average_ratings': u'45', 'Poor_ratings': u'8', 'Family_ratings': u'58', 'Terrible_ratings': u'8', 'Verygood_ratings': u'134', 'Couple_ratings': u'145', 'Service': u'4.5', 'Business_ratings': u'56', 'Value': u'4', 'Cleanliness': u'4.5', 'Average_score': 4.2411924119241196, 'Location': u'4.5', 'Solo_ratings': u'18', 'Excellent_ratings': u'174', 'Sleep_quality': u'4.5', 'Rooms': u'4.5'}, u'\\nOmni Parker House': {'Average_ratings': u'563', 'Poor_ratings': u'244', 'Family_ratings': u'919', 'Terrible_ratings': u'134', 'Verygood_ratings': u'1490', 'Couple_ratings': u'1520', 'Service': u'4', 'Business_ratings': u'1014', 'Value': u'4', 'Cleanliness': u'4.5', 'Average_score': 4.129733363208604, 'Location': u'4', 'Solo_ratings': u'252', 'Excellent_ratings': u'2032', 'Sleep_quality': u'5', 'Rooms': u'4'}, u'\\nMandarin Oriental, Boston': {'Average_ratings': u'20', 'Poor_ratings': u'7', 'Family_ratings': u'78', 'Terrible_ratings': u'6', 'Verygood_ratings': u'61', 'Couple_ratings': u'115', 'Service': u'5', 'Business_ratings': u'132', 'Value': u'4', 'Cleanliness': u'5', 'Average_score': 4.642156862745098, 'Location': u'5', 'Solo_ratings': u'30', 'Excellent_ratings': u'314', 'Sleep_quality': u'5', 'Rooms': u'5'}, u'\\nDoubleTree Suites by Hilton Boston-Cambridge': {'Average_ratings': u'138', 'Poor_ratings': u'58', 'Family_ratings': u'364', 'Terrible_ratings': u'35', 'Verygood_ratings': u'443', 'Couple_ratings': u'191', 'Service': u'4', 'Business_ratings': u'293', 'Value': u'4', 'Cleanliness': u'4.5', 'Average_score': 4.029135338345864, 'Location': u'4', 'Solo_ratings': u'68', 'Excellent_ratings': u'390', 'Sleep_quality': u'4', 'Rooms': u'4'}, u'\\nThe Inn at Longwood Medical': {'Average_ratings': u'96', 'Poor_ratings': u'43', 'Family_ratings': u'238', 'Terrible_ratings': u'39', 'Verygood_ratings': u'162', 'Couple_ratings': u'100', 'Service': u'4', 'Business_ratings': u'187', 'Value': u'4', 'Cleanliness': u'4', 'Average_score': 4.069868995633188, 'Location': u'4', 'Solo_ratings': u'61', 'Excellent_ratings': u'347', 'Sleep_quality': u'4.5', 'Rooms': u'4'}, u'\\nCourtyard by Marriott Boston Logan Airport': {'Average_ratings': u'102', 'Poor_ratings': u'36', 'Family_ratings': u'92', 'Terrible_ratings': u'18', 'Verygood_ratings': u'176', 'Couple_ratings': u'108', 'Service': u'4', 'Business_ratings': u'138', 'Value': u'3.5', 'Cleanliness': u'4', 'Average_score': 3.697674418604651, 'Location': u'4', 'Solo_ratings': u'40', 'Excellent_ratings': u'98', 'Sleep_quality': u'4', 'Rooms': u'4'}, u'\\nWyndham Boston Beacon Hill': {'Average_ratings': u'185', 'Poor_ratings': u'70', 'Family_ratings': u'362', 'Terrible_ratings': u'32', 'Verygood_ratings': u'404', 'Couple_ratings': u'167', 'Service': u'4', 'Business_ratings': u'281', 'Value': u'3.5', 'Cleanliness': u'4.5', 'Average_score': 3.929740134744947, 'Location': u'4', 'Solo_ratings': u'101', 'Excellent_ratings': u'348', 'Sleep_quality': u'4.5', 'Rooms': u'4'}, u'\\nCopley Square Hotel': {'Average_ratings': u'103', 'Poor_ratings': u'28', 'Family_ratings': u'188', 'Terrible_ratings': u'15', 'Verygood_ratings': u'360', 'Couple_ratings': u'418', 'Service': u'4.5', 'Business_ratings': u'223', 'Value': u'4', 'Cleanliness': u'4.5', 'Average_score': 4.321223709369025, 'Location': u'4.5', 'Solo_ratings': u'88', 'Excellent_ratings': u'540', 'Sleep_quality': u'5', 'Rooms': u'4.5'}, u'\\nThe Liberty Hotel': {'Average_ratings': u'78', 'Poor_ratings': u'28', 'Family_ratings': u'126', 'Terrible_ratings': u'32', 'Verygood_ratings': u'211', 'Couple_ratings': u'265', 'Service': u'4', 'Business_ratings': u'173', 'Value': u'3.5', 'Cleanliness': u'4.5', 'Average_score': 4.222818791946309, 'Location': u'4', 'Solo_ratings': u'28', 'Excellent_ratings': u'396', 'Sleep_quality': u'4.5', 'Rooms': u'4'}, u'\\nHarborside Inn': {'Average_ratings': u'98', 'Poor_ratings': u'47', 'Family_ratings': u'87', 'Terrible_ratings': u'41', 'Verygood_ratings': u'460', 'Couple_ratings': u'545', 'Service': u'4', 'Business_ratings': u'113', 'Value': u'4', 'Cleanliness': u'4.5', 'Average_score': 4.070599613152805, 'Location': u'4', 'Solo_ratings': u'74', 'Excellent_ratings': u'388', 'Sleep_quality': u'5', 'Rooms': u'4'}, u'\\nBoston Park Plaza': {'Average_ratings': u'1013', 'Poor_ratings': u'663', 'Family_ratings': u'631', 'Terrible_ratings': u'516', 'Verygood_ratings': u'1316', 'Couple_ratings': u'1246', 'Service': u'3.5', 'Business_ratings': u'1190', 'Value': u'3.5', 'Cleanliness': u'3.5', 'Average_score': 3.2595904918804424, 'Location': u'3.5', 'Solo_ratings': u'293', 'Excellent_ratings': u'741', 'Sleep_quality': u'4.5', 'Rooms': u'3.5'}, u'\\nCourtyard by Marriott Boston Copley Square': {'Average_ratings': u'43', 'Poor_ratings': u'8', 'Family_ratings': u'230', 'Terrible_ratings': u'11', 'Verygood_ratings': u'276', 'Couple_ratings': u'222', 'Service': u'4.5', 'Business_ratings': u'300', 'Value': u'4.5', 'Cleanliness': u'4.5', 'Average_score': 4.554865424430642, 'Location': u'4.5', 'Solo_ratings': u'70', 'Excellent_ratings': u'628', 'Sleep_quality': u'5', 'Rooms': u'4.5'}, u'\\nCourtyard Boston Downtown': {'Average_ratings': u'266', 'Poor_ratings': u'152', 'Family_ratings': u'114', 'Terrible_ratings': u'81', 'Verygood_ratings': u'233', 'Couple_ratings': u'234', 'Service': u'3', 'Business_ratings': u'224', 'Value': u'3', 'Cleanliness': u'3.5', 'Average_score': 3.087871287128713, 'Location': u'3', 'Solo_ratings': u'72', 'Excellent_ratings': u'76', 'Sleep_quality': u'4', 'Rooms': u'3'}, u'\\nHoliday Inn Express Hotel & Suites Boston Garden': {'Average_ratings': u'64', 'Poor_ratings': u'27', 'Family_ratings': u'72', 'Terrible_ratings': u'19', 'Verygood_ratings': u'115', 'Couple_ratings': u'92', 'Service': u'3.5', 'Business_ratings': u'45', 'Value': u'3.5', 'Cleanliness': u'4', 'Average_score': 3.69281045751634, 'Location': u'3.5', 'Solo_ratings': u'16', 'Excellent_ratings': u'81', 'Sleep_quality': u'4.5', 'Rooms': u'3.5'}, u'\\nThe Verb Hotel': {'Average_ratings': u'9', 'Poor_ratings': u'1', 'Family_ratings': u'41', 'Terrible_ratings': u'2', 'Verygood_ratings': u'56', 'Couple_ratings': u'78', 'Service': u'4.5', 'Business_ratings': u'31', 'Value': u'4.5', 'Cleanliness': u'5', 'Average_score': 4.653061224489796, 'Location': u'4.5', 'Solo_ratings': u'18', 'Excellent_ratings': u'177', 'Sleep_quality': u'4.5', 'Rooms': u'4.5'}, u'\\nRamada Boston': {'Average_ratings': u'256', 'Poor_ratings': u'172', 'Family_ratings': u'296', 'Terrible_ratings': u'127', 'Verygood_ratings': u'235', 'Couple_ratings': u'195', 'Service': u'3.5', 'Business_ratings': u'163', 'Value': u'3.5', 'Cleanliness': u'3.5', 'Average_score': 3.075, 'Location': u'3.5', 'Solo_ratings': u'83', 'Excellent_ratings': u'130', 'Sleep_quality': u'3.5', 'Rooms': u'3.5'}, u'\\nSheraton Boston Hotel': {'Average_ratings': u'74', 'Poor_ratings': u'19', 'Family_ratings': u'107', 'Terrible_ratings': u'19', 'Verygood_ratings': u'224', 'Couple_ratings': u'127', 'Service': u'4.5', 'Business_ratings': u'203', 'Value': u'4', 'Cleanliness': u'4.5', 'Average_score': 4.052532833020638, 'Location': u'4.5', 'Solo_ratings': u'17', 'Excellent_ratings': u'197', 'Sleep_quality': u'4.5', 'Rooms': u'4.5'}, u'\\nHampton Inn & Suites Boston Crosstown Center': {'Average_ratings': u'94', 'Poor_ratings': u'34', 'Family_ratings': u'173', 'Terrible_ratings': u'22', 'Verygood_ratings': u'215', 'Couple_ratings': u'95', 'Service': u'3.5', 'Business_ratings': u'163', 'Value': u'4', 'Cleanliness': u'4.5', 'Average_score': 3.9559859154929575, 'Location': u'3.5', 'Solo_ratings': u'56', 'Excellent_ratings': u'203', 'Sleep_quality': u'4', 'Rooms': u'3.5'}, u'\\nThe Boston Common Hotel and Conference Center': {'Average_ratings': u'147', 'Poor_ratings': u'59', 'Family_ratings': u'66', 'Terrible_ratings': u'33', 'Verygood_ratings': u'158', 'Couple_ratings': u'160', 'Service': u'3.5', 'Business_ratings': u'80', 'Value': u'3.5', 'Cleanliness': u'3.5', 'Average_score': 3.2821670428893905, 'Location': u'3.5', 'Solo_ratings': u'37', 'Excellent_ratings': u'46', 'Sleep_quality': u'4.5', 'Rooms': u'3.5'}, u\"\\nMarriott's Custom House\": {'Average_ratings': u'11', 'Poor_ratings': u'12', 'Family_ratings': u'218', 'Terrible_ratings': u'12', 'Verygood_ratings': u'146', 'Couple_ratings': u'179', 'Service': u'4.5', 'Business_ratings': u'45', 'Value': u'4', 'Cleanliness': u'4.5', 'Average_score': 4.551601423487544, 'Location': u'4.5', 'Solo_ratings': u'15', 'Excellent_ratings': u'381', 'Sleep_quality': u'5', 'Rooms': u'4.5'}, u'\\nDays Hotel Boston': {'Average_ratings': u'57', 'Poor_ratings': u'49', 'Family_ratings': u'58', 'Terrible_ratings': u'33', 'Verygood_ratings': u'32', 'Couple_ratings': u'31', 'Service': u'3', 'Business_ratings': u'41', 'Value': u'3', 'Cleanliness': u'3', 'Average_score': 2.763157894736842, 'Location': u'3', 'Solo_ratings': u'12', 'Excellent_ratings': u'19', 'Sleep_quality': u'3.5', 'Rooms': u'3'}, u'\\nBoston Harbor Hotel': {'Average_ratings': u'44', 'Poor_ratings': u'15', 'Family_ratings': u'284', 'Terrible_ratings': u'11', 'Verygood_ratings': u'189', 'Couple_ratings': u'462', 'Service': u'4.5', 'Business_ratings': u'255', 'Value': u'4.5', 'Cleanliness': u'5', 'Average_score': 4.7072, 'Location': u'4.5', 'Solo_ratings': u'55', 'Excellent_ratings': u'991', 'Sleep_quality': u'5', 'Rooms': u'4.5'}, u'\\nResidence Inn Boston Back Bay / Fenway': {'Average_ratings': u'23', 'Poor_ratings': u'9', 'Family_ratings': u'198', 'Terrible_ratings': u'3', 'Verygood_ratings': u'135', 'Couple_ratings': u'86', 'Service': u'4.5', 'Business_ratings': u'86', 'Value': u'4.5', 'Cleanliness': u'5', 'Average_score': 4.578544061302682, 'Location': u'4.5', 'Solo_ratings': u'16', 'Excellent_ratings': u'352', 'Sleep_quality': u'4.5', 'Rooms': u'4.5'}, u'\\nNine Zero Hotel - a Kimpton Hotel': {'Average_ratings': u'105', 'Poor_ratings': u'30', 'Family_ratings': u'328', 'Terrible_ratings': u'19', 'Verygood_ratings': u'496', 'Couple_ratings': u'830', 'Service': u'4.5', 'Business_ratings': u'324', 'Value': u'4', 'Cleanliness': u'4.5', 'Average_score': 4.523236741388737, 'Location': u'4.5', 'Solo_ratings': u'119', 'Excellent_ratings': u'1179', 'Sleep_quality': u'5', 'Rooms': u'4.5'}, u'\\nBEST WESTERN University Hotel Boston-Brighton': {'Average_ratings': u'78', 'Poor_ratings': u'33', 'Family_ratings': u'166', 'Terrible_ratings': u'21', 'Verygood_ratings': u'132', 'Couple_ratings': u'59', 'Service': u'4', 'Business_ratings': u'49', 'Value': u'4', 'Cleanliness': u'4', 'Average_score': 3.6952908587257616, 'Location': u'4', 'Solo_ratings': u'27', 'Excellent_ratings': u'97', 'Sleep_quality': u'4', 'Rooms': u'4'}, u'\\nThe Westin Copley Place': {'Average_ratings': u'277', 'Poor_ratings': u'93', 'Family_ratings': u'547', 'Terrible_ratings': u'34', 'Verygood_ratings': u'832', 'Couple_ratings': u'495', 'Service': u'4.5', 'Business_ratings': u'774', 'Value': u'4', 'Cleanliness': u'4.5', 'Average_score': 4.2193324664065885, 'Location': u'4.5', 'Solo_ratings': u'103', 'Excellent_ratings': u'1071', 'Sleep_quality': u'5', 'Rooms': u'4.5'}, u'\\nLoews Boston Hotel': {'Average_ratings': u'59', 'Poor_ratings': u'15', 'Family_ratings': u'175', 'Terrible_ratings': u'3', 'Verygood_ratings': u'216', 'Couple_ratings': u'275', 'Service': u'4.5', 'Business_ratings': u'152', 'Value': u'4', 'Cleanliness': u'4.5', 'Average_score': 4.4928664072632944, 'Location': u'4.5', 'Solo_ratings': u'22', 'Excellent_ratings': u'478', 'Sleep_quality': u'4.5', 'Rooms': u'4.5'}, u'\\nBEST WESTERN PLUS Roundhouse Suites': {'Average_ratings': u'129', 'Poor_ratings': u'69', 'Family_ratings': u'257', 'Terrible_ratings': u'34', 'Verygood_ratings': u'305', 'Couple_ratings': u'179', 'Service': u'3.5', 'Business_ratings': u'104', 'Value': u'4', 'Cleanliness': u'4', 'Average_score': 3.7346368715083798, 'Location': u'3.5', 'Solo_ratings': u'17', 'Excellent_ratings': u'179', 'Sleep_quality': u'4', 'Rooms': u'3.5'}, u'\\nHyatt Boston Harbor': {'Average_ratings': u'166', 'Poor_ratings': u'67', 'Family_ratings': u'240', 'Terrible_ratings': u'34', 'Verygood_ratings': u'424', 'Couple_ratings': u'335', 'Service': u'4', 'Business_ratings': u'329', 'Value': u'4', 'Cleanliness': u'4.5', 'Average_score': 4.066609735269001, 'Location': u'4', 'Solo_ratings': u'105', 'Excellent_ratings': u'480', 'Sleep_quality': u'4.5', 'Rooms': u'4'}, u'\\nThe Ritz-Carlton Boston Common': {'Average_ratings': u'51', 'Poor_ratings': u'39', 'Family_ratings': u'124', 'Terrible_ratings': u'13', 'Verygood_ratings': u'111', 'Couple_ratings': u'120', 'Service': u'4.5', 'Business_ratings': u'143', 'Value': u'4', 'Cleanliness': u'4.5', 'Average_score': 4.255360623781677, 'Location': u'4.5', 'Solo_ratings': u'19', 'Excellent_ratings': u'299', 'Sleep_quality': u'4.5', 'Rooms': u'4.5'}, u'\\nSeaport Boston Hotel': {'Average_ratings': u'98', 'Poor_ratings': u'33', 'Family_ratings': u'461', 'Terrible_ratings': u'31', 'Verygood_ratings': u'506', 'Couple_ratings': u'552', 'Service': u'4.5', 'Business_ratings': u'1113', 'Value': u'4.5', 'Cleanliness': u'5', 'Average_score': 4.637397099176793, 'Location': u'4.5', 'Solo_ratings': u'108', 'Excellent_ratings': u'1883', 'Sleep_quality': u'4.5', 'Rooms': u'4.5'}, u'\\nBoston Marriott Copley Place': {'Average_ratings': u'332', 'Poor_ratings': u'98', 'Family_ratings': u'440', 'Terrible_ratings': u'35', 'Verygood_ratings': u'937', 'Couple_ratings': u'466', 'Service': u'4', 'Business_ratings': u'710', 'Value': u'3.5', 'Cleanliness': u'4.5', 'Average_score': 4.002450980392157, 'Location': u'4', 'Solo_ratings': u'95', 'Excellent_ratings': u'638', 'Sleep_quality': u'4.5', 'Rooms': u'4'}, u'\\nNewbury Guest House': {'Average_ratings': u'44', 'Poor_ratings': u'20', 'Family_ratings': u'64', 'Terrible_ratings': u'14', 'Verygood_ratings': u'185', 'Couple_ratings': u'200', 'Service': u'4.5', 'Business_ratings': u'45', 'Value': u'4', 'Cleanliness': u'4.5', 'Average_score': 4.1077981651376145, 'Location': u'4.5', 'Solo_ratings': u'26', 'Excellent_ratings': u'173', 'Sleep_quality': u'5', 'Rooms': u'4.5'}, u'\\nDoubleTree by Hilton Hotel Boston - Downtown': {'Average_ratings': u'61', 'Poor_ratings': u'19', 'Family_ratings': u'114', 'Terrible_ratings': u'8', 'Verygood_ratings': u'178', 'Couple_ratings': u'110', 'Service': u'4.5', 'Business_ratings': u'145', 'Value': u'4', 'Cleanliness': u'4.5', 'Average_score': 4.172340425531915, 'Location': u'4.5', 'Solo_ratings': u'19', 'Excellent_ratings': u'204', 'Sleep_quality': u'4.5', 'Rooms': u'4.5'}, u'\\nBoston Hotel Buckminster': {'Average_ratings': u'149', 'Poor_ratings': u'67', 'Family_ratings': u'178', 'Terrible_ratings': u'70', 'Verygood_ratings': u'373', 'Couple_ratings': u'276', 'Service': u'4', 'Business_ratings': u'106', 'Value': u'4', 'Cleanliness': u'4', 'Average_score': 3.608695652173913, 'Location': u'4', 'Solo_ratings': u'63', 'Excellent_ratings': u'169', 'Sleep_quality': u'4.5', 'Rooms': u'4'}, u'\\nHilton Boston Back Bay': {'Average_ratings': u'283', 'Poor_ratings': u'91', 'Family_ratings': u'413', 'Terrible_ratings': u'27', 'Verygood_ratings': u'731', 'Couple_ratings': u'458', 'Service': u'4', 'Business_ratings': u'471', 'Value': u'4', 'Cleanliness': u'4.5', 'Average_score': 4.016988869361453, 'Location': u'4', 'Solo_ratings': u'116', 'Excellent_ratings': u'575', 'Sleep_quality': u'4.5', 'Rooms': u'4'}}\n"
       ]
      }
     ],
     "prompt_number": 12
    },
    {
     "cell_type": "code",
     "collapsed": false,
     "input": [],
     "language": "python",
     "metadata": {},
     "outputs": [],
     "prompt_number": 3
    },
    {
     "cell_type": "markdown",
     "metadata": {},
     "source": [
      "** Task 3 (20 pts) **\n",
      "\n",
      "Now, we will use regression to analyze this information. First, we will fit a linear regression model that predicts the average rating. For example, for the hotel above, the average rating is\n",
      "\n",
      "$$ \\text{AVG_SCORE} = \\frac{1*31 + 2*33 + 3*98 + 4*504 + 5*1861}{2527}$$\n",
      "\n",
      "Use the model to analyze the important factors that decide the $\\text{AVG_SCORE}$."
     ]
    },
    {
     "cell_type": "code",
     "collapsed": false,
     "input": [
      "import pandas as pd\n",
      "df = pd.DataFrame(hotels)\n",
      "df = df.T\n",
      "df['rand'] = [np.random.rand() for i in range(len(df))]\n",
      "df = df.sort('rand')\n",
      "df = df.drop('rand', 1)\n",
      "df = df.convert_objects(convert_numeric=True)\n",
      "\n",
      "test = df.head(len(df)/2)\n",
      "train = df.tail(len(df)/2)\n",
      "\n",
      "y_train = train.Average_score\n",
      "y_test = test.Average_score\n",
      "\n",
      "x_train = train[['Cleanliness', 'Location', 'Rooms', 'Service', 'Value', 'Business_ratings', 'Couple_ratings', 'Family_ratings', 'Solo_ratings']]\n",
      "x_test = test[['Cleanliness', 'Location', 'Rooms', 'Service', 'Value', 'Business_ratings', 'Couple_ratings', 'Family_ratings', 'Solo_ratings']]"
     ],
     "language": "python",
     "metadata": {},
     "outputs": [
      {
       "output_type": "stream",
       "stream": "stdout",
       "text": [
        "                            OLS Regression Results                            \n",
        "==============================================================================\n",
        "Dep. Variable:          Average_score   R-squared:                       0.999\n",
        "Model:                            OLS   Adj. R-squared:                  0.999\n",
        "Method:                 Least Squares   F-statistic:                     5833.\n",
        "Date:                Mon, 06 Apr 2015   Prob (F-statistic):           1.62e-46\n",
        "Time:                        20:49:36   Log-Likelihood:                 29.407\n",
        "No. Observations:                  38   AIC:                            -44.81\n",
        "Df Residuals:                      31   BIC:                            -33.35\n",
        "Df Model:                           7                                         \n",
        "====================================================================================\n",
        "                       coef    std err          t      P>|t|      [95.0% Conf. Int.]\n",
        "------------------------------------------------------------------------------------\n",
        "Cleanliness          0.4474      0.079      5.698      0.000         0.287     0.608\n",
        "Location             0.0829      0.023      3.661      0.001         0.037     0.129\n",
        "Rooms                0.0829      0.023      3.661      0.001         0.037     0.129\n",
        "Service              0.0829      0.023      3.661      0.001         0.037     0.129\n",
        "Value                0.2848      0.084      3.406      0.002         0.114     0.455\n",
        "Business_ratings     0.0002      0.000      1.112      0.275        -0.000     0.001\n",
        "Couple_ratings       0.0002      0.000      0.972      0.339        -0.000     0.001\n",
        "Family_ratings   -9.894e-06      0.000     -0.045      0.965        -0.000     0.000\n",
        "Solo_ratings        -0.0022      0.001     -1.957      0.059        -0.004  9.25e-05\n",
        "==============================================================================\n",
        "Omnibus:                        0.311   Durbin-Watson:                   1.939\n",
        "Prob(Omnibus):                  0.856   Jarque-Bera (JB):                0.489\n",
        "Skew:                           0.014   Prob(JB):                        0.783\n",
        "Kurtosis:                       2.445   Cond. No.                          nan\n",
        "==============================================================================\n",
        "\n",
        "Warnings:\n",
        "[1] The smallest eigenvalue is -1.68e-09. This might indicate that there are\n",
        "strong multicollinearity problems or that the design matrix is singular.\n",
        "Confidence Intervals:                          0         1\n",
        "Cleanliness       0.287260  0.607510\n",
        "Location          0.036719  0.129108\n",
        "Rooms             0.036719  0.129108\n",
        "Service           0.036719  0.129108\n",
        "Value             0.114229  0.455305\n",
        "Business_ratings -0.000186  0.000632\n",
        "Couple_ratings   -0.000227  0.000639\n",
        "Family_ratings   -0.000461  0.000441\n",
        "Solo_ratings     -0.004499  0.000093\n",
        "Parameters: Cleanliness         0.447385\n",
        "Location            0.082914\n",
        "Rooms               0.082914\n",
        "Service             0.082914\n",
        "Value               0.284767\n",
        "Business_ratings    0.000223\n",
        "Couple_ratings      0.000206\n",
        "Family_ratings     -0.000010\n",
        "Solo_ratings       -0.002203\n",
        "dtype: float64\n"
       ]
      }
     ],
     "prompt_number": 13
    },
    {
     "cell_type": "code",
     "collapsed": false,
     "input": [
      "#OLS REGRESSION\n",
      "model = sm.OLS(y_train, x_train)\n",
      "results = model.fit()\n",
      "print results.summary()\n",
      "print \"Confidence Intervals:\", results.conf_int()\n",
      "print \"Parameters:\", results.params"
     ],
     "language": "python",
     "metadata": {},
     "outputs": [
      {
       "output_type": "stream",
       "stream": "stdout",
       "text": [
        "                            OLS Regression Results                            \n",
        "==============================================================================\n",
        "Dep. Variable:          Average_score   R-squared:                       0.999\n",
        "Model:                            OLS   Adj. R-squared:                  0.999\n",
        "Method:                 Least Squares   F-statistic:                     5833.\n",
        "Date:                Mon, 06 Apr 2015   Prob (F-statistic):           1.62e-46\n",
        "Time:                        21:13:10   Log-Likelihood:                 29.407\n",
        "No. Observations:                  38   AIC:                            -44.81\n",
        "Df Residuals:                      31   BIC:                            -33.35\n",
        "Df Model:                           7                                         \n",
        "====================================================================================\n",
        "                       coef    std err          t      P>|t|      [95.0% Conf. Int.]\n",
        "------------------------------------------------------------------------------------\n",
        "Cleanliness          0.4474      0.079      5.698      0.000         0.287     0.608\n",
        "Location             0.0829      0.023      3.661      0.001         0.037     0.129\n",
        "Rooms                0.0829      0.023      3.661      0.001         0.037     0.129\n",
        "Service              0.0829      0.023      3.661      0.001         0.037     0.129\n",
        "Value                0.2848      0.084      3.406      0.002         0.114     0.455\n",
        "Business_ratings     0.0002      0.000      1.112      0.275        -0.000     0.001\n",
        "Couple_ratings       0.0002      0.000      0.972      0.339        -0.000     0.001\n",
        "Family_ratings   -9.894e-06      0.000     -0.045      0.965        -0.000     0.000\n",
        "Solo_ratings        -0.0022      0.001     -1.957      0.059        -0.004  9.25e-05\n",
        "==============================================================================\n",
        "Omnibus:                        0.311   Durbin-Watson:                   1.939\n",
        "Prob(Omnibus):                  0.856   Jarque-Bera (JB):                0.489\n",
        "Skew:                           0.014   Prob(JB):                        0.783\n",
        "Kurtosis:                       2.445   Cond. No.                     2.34e+09\n",
        "==============================================================================\n",
        "\n",
        "Warnings:\n",
        "[1] The smallest eigenvalue is 3.18e-12. This might indicate that there are\n",
        "strong multicollinearity problems or that the design matrix is singular.\n",
        "Confidence Intervals:                          0         1\n",
        "Cleanliness       0.287260  0.607510\n",
        "Location          0.036719  0.129108\n",
        "Rooms             0.036719  0.129108\n",
        "Service           0.036719  0.129108\n",
        "Value             0.114229  0.455305\n",
        "Business_ratings -0.000186  0.000632\n",
        "Couple_ratings   -0.000227  0.000639\n",
        "Family_ratings   -0.000461  0.000441\n",
        "Solo_ratings     -0.004499  0.000093\n",
        "Parameters: Cleanliness         0.447385\n",
        "Location            0.082914\n",
        "Rooms               0.082914\n",
        "Service             0.082914\n",
        "Value               0.284767\n",
        "Business_ratings    0.000223\n",
        "Couple_ratings      0.000206\n",
        "Family_ratings     -0.000010\n",
        "Solo_ratings       -0.002203\n",
        "dtype: float64\n"
       ]
      }
     ],
     "prompt_number": 29
    },
    {
     "cell_type": "code",
     "collapsed": false,
     "input": [
      "#LINEAR REGRESSION\n",
      "regr = linear_model.LinearRegression()\n",
      "regr.fit(x_train, y_train)\n",
      "\n",
      "print(\"Training error: \", metrics.mean_squared_error(regr.predict(x_train),y_train))\n",
      "print(\"Test     error: \", metrics.mean_squared_error(regr.predict(x_test),y_test))\n",
      "\n",
      "train_score = regr.score(x_train,y_train)\n",
      "test_score = regr.score(x_test,y_test)\n",
      "print(\"Training score: \", train_score)\n",
      "print(\"Test     score: \", test_score)\n",
      "\n",
      "features = ['Cleanliness', 'Location', 'Rooms', 'Service', 'Value', 'Business_ratings', 'Couple_ratings', 'Family_ratings', 'Solo_ratings']\n",
      "coefficients = regr.coef_\n",
      "for i in range(len(coefficients)):\n",
      "    print features[i],\"\\t\",coefficients[i]"
     ],
     "language": "python",
     "metadata": {},
     "outputs": [
      {
       "output_type": "stream",
       "stream": "stdout",
       "text": [
        "('Training error: ', 0.01087487909191333)\n",
        "('Test     error: ', 0.021331879439397003)\n",
        "('Training score: ', 0.95178367963430566)\n",
        "('Test     score: ', 0.89537653700575048)\n",
        "Cleanliness \t0.471875603315\n",
        "Location \t0.0899000188716\n",
        "Rooms \t0.0899000188716\n",
        "Service \t0.0899000188716\n",
        "Value \t0.357293644359\n",
        "Business_ratings \t0.000287037139192\n",
        "Couple_ratings \t0.000112780937825\n",
        "Family_ratings \t-0.000134884917319\n",
        "Solo_ratings \t-0.00157306147656\n"
       ]
      }
     ],
     "prompt_number": 28
    },
    {
     "cell_type": "code",
     "collapsed": false,
     "input": [
      "#According to the coefficients shown in both the OLS regression results and the linear\n",
      "#regression results, the most important factors in determining Average Score are\n",
      "#cleanliness and value. The largest linear regression coefficient is for cleanliness \n",
      "#at 0.47, and the second largest coefficient is value at 0.36. Location, rooms and service\n",
      "#are all tied at 0.09, suggesting that they don't carry as big of an effect on a hotel's\n",
      "#rating. Also, the number of ratings from different types of customers (business, couple,\n",
      "#family and solo customers) makes virtually no difference in the average rating score."
     ],
     "language": "python",
     "metadata": {},
     "outputs": []
    },
    {
     "cell_type": "markdown",
     "metadata": {},
     "source": [
      "** Task 4 (30 pts) **\n",
      "\n",
      "Finally, we will use logistic regression to decide if a hotel is _excellent_ or not. We classify a hotel as _excellent_ if more than **60%** of its ratings are 5 stars. This is a binary attribute on which we can fit a logistic regression model. As before, use the model to analyze the data.\n",
      "\n",
      "-------"
     ]
    },
    {
     "cell_type": "markdown",
     "metadata": {},
     "source": [
      "In order to use code from a Python script file, we need to put that file in the same folder as the notebook and import it as a library. Then, we will be able to access it's functions. For example, in the case of the lecture code, we could do the following:\n",
      "\n",
      "``` python\n",
      "import scrape_solution as scrape\n",
      "\n",
      "scrape.get_city_page()\n",
      "```\n",
      "\n",
      "Of course, you might need to modify and restructure the code so that it returns what you need."
     ]
    },
    {
     "cell_type": "markdown",
     "metadata": {},
     "source": [
      "----"
     ]
    },
    {
     "cell_type": "code",
     "collapsed": false,
     "input": [
      "total_ratings = df.Excellent_ratings + df.Average_ratings + df.Verygood_ratings + df.Poor_ratings + df.Terrible_ratings\n",
      "excellent_ratings = df.Excellent_ratings\n",
      "excellent_percent = excellent_ratings/total_ratings\n",
      "is_excellent=[]\n",
      "for x in excellent_percent:\n",
      "    if x>=0.6:\n",
      "        is_excellent.append(1)\n",
      "    else:\n",
      "        is_excellent.append(0)\n",
      "df['Is_excellent']=is_excellent\n",
      "\n",
      "x = df[['Cleanliness', 'Location', 'Rooms', 'Service', 'Value', 'Business_ratings', 'Couple_ratings', 'Family_ratings', 'Solo_ratings']]\n",
      "Y = df['Is_excellent']\n",
      "\n",
      "x_test = x.head(len(df)/2)\n",
      "x_train = x.tail(len(df)/2)\n",
      "Y_train = Y.tail(len(df)/2)\n",
      "Y_test = Y.head(len(df)/2)"
     ],
     "language": "python",
     "metadata": {},
     "outputs": [],
     "prompt_number": 82
    },
    {
     "cell_type": "code",
     "collapsed": false,
     "input": [
      "logistic_regr = linear_model.LogisticRegression()\n",
      "logistic_regr.fit(x_train, Y_train)\n",
      "\n",
      "y_predicted = logistic_regr.predict(x_test)\n",
      "print metrics.accuracy_score(Y_test, y_predicted)\n",
      "\n",
      "print metrics.confusion_matrix(Y_test, y_predicted)\n",
      "print metrics.classification_report(Y_test, y_predicted)\n",
      "\n",
      "print pd.DataFrame(zip(features, np.transpose(logistic_regr.coef_)))"
     ],
     "language": "python",
     "metadata": {},
     "outputs": [
      {
       "output_type": "stream",
       "stream": "stdout",
       "text": [
        "0.657894736842\n",
        "[[23  5]\n",
        " [ 8  2]]\n",
        "             precision    recall  f1-score   support\n",
        "\n",
        "          0       0.74      0.82      0.78        28\n",
        "          1       0.29      0.20      0.24        10\n",
        "\n",
        "avg / total       0.62      0.66      0.64        38\n",
        "\n",
        "                  0                    1\n",
        "0       Cleanliness    [0.0342659265049]\n",
        "1          Location    [-0.170401977563]\n",
        "2             Rooms    [-0.170401977563]\n",
        "3           Service    [-0.170401977563]\n",
        "4             Value     [0.206327118014]\n",
        "5  Business_ratings  [-0.00704198227555]\n",
        "6    Couple_ratings    [0.0027802644098]\n",
        "7    Family_ratings     [0.020535216312]\n",
        "8      Solo_ratings   [-0.0642586171058]\n"
       ]
      }
     ],
     "prompt_number": 83
    },
    {
     "cell_type": "code",
     "collapsed": false,
     "input": [
      "#The order of coefficients from the logistic regression model do not relate to the coefficients\n",
      "#from the linear regression model. With the logistic model, Value is the most impactful attribute\n",
      "#in determining whether or not a hotel is excellent. However, cleanliness, instead of being \n",
      "#the most important factor, was less important than location, rooms and service. Once again, the\n",
      "#number of ratings from different types of reviewers was not a very important factor in \n",
      "#determining the result. Interestingly, the number of solo ratings was relatively impactful - more\n",
      "#so than cleanliness."
     ],
     "language": "python",
     "metadata": {},
     "outputs": [
      {
       "output_type": "stream",
       "stream": "stdout",
       "text": [
        "[ 0.625       0.625       0.875       0.625       0.75        0.75        0.75\n",
        "  0.625       0.85714286  0.83333333]\n",
        "0.731547619048\n"
       ]
      }
     ],
     "prompt_number": 84
    },
    {
     "cell_type": "raw",
     "metadata": {},
     "source": []
    },
    {
     "cell_type": "code",
     "collapsed": false,
     "input": [
      "x2 = df[['Location', 'Rooms', 'Service', 'Value', 'Solo_ratings']]\n",
      "features2 = ['Location', 'Rooms', 'Service', 'Value', 'Solo_ratings']\n",
      "x_test2 = x2.head(len(df)/2)\n",
      "x_train2 = x2.tail(len(df)/2)\n",
      "\n",
      "logistic_regr = linear_model.LogisticRegression()\n",
      "logistic_regr.fit(x_train2, Y_train)\n",
      "\n",
      "y_predicted = logistic_regr.predict(x_test2)\n",
      "print metrics.accuracy_score(Y_test, y_predicted)\n",
      "\n",
      "print metrics.confusion_matrix(Y_test, y_predicted)\n",
      "print metrics.classification_report(Y_test, y_predicted)\n",
      "\n",
      "print pd.DataFrame(zip(features2, np.transpose(logistic_regr.coef_)))"
     ],
     "language": "python",
     "metadata": {},
     "outputs": [
      {
       "output_type": "stream",
       "stream": "stdout",
       "text": [
        "0.736842105263\n",
        "[[28  0]\n",
        " [10  0]]\n",
        "             precision    recall  f1-score   support\n",
        "\n",
        "          0       0.74      1.00      0.85        28\n",
        "          1       0.00      0.00      0.00        10\n",
        "\n",
        "avg / total       0.54      0.74      0.63        38\n",
        "\n",
        "              0                    1\n",
        "0      Location   [-0.0267100919685]\n",
        "1         Rooms   [-0.0267100919685]\n",
        "2       Service   [-0.0267100919685]\n",
        "3         Value    [0.0677307256198]\n",
        "4  Solo_ratings  [-0.00212375228579]\n"
       ]
      }
     ],
     "prompt_number": 90
    },
    {
     "cell_type": "code",
     "collapsed": false,
     "input": [
      "#After reducing the number of features to only the most impactful ones (Location, Rooms,\n",
      "#Service, Value and Solo ratings), the accuracy score increased from 0.66 to 0.74. Now the\n",
      "#coefficients show that the Solo ratings are significantly less impactful, relative to the\n",
      "#new group of features.\n",
      "\n",
      "#The confusion matrix shows that the updated logistic regression model now has a 1.00 recall\n",
      "#rate for "
     ],
     "language": "python",
     "metadata": {},
     "outputs": []
    },
    {
     "cell_type": "code",
     "collapsed": false,
     "input": [],
     "language": "python",
     "metadata": {},
     "outputs": []
    },
    {
     "cell_type": "code",
     "collapsed": false,
     "input": [
      "# Code for setting the style of the notebook\n",
      "from IPython.core.display import HTML\n",
      "def css_styling():\n",
      "    styles = open(\"../../theme/custom.css\", \"r\").read()\n",
      "    return HTML(styles)\n",
      "css_styling()"
     ],
     "language": "python",
     "metadata": {},
     "outputs": [
      {
       "html": [
        "<link href='http://fonts.googleapis.com/css?family=EB+Garamond' rel='stylesheet' type='text/css'>\n",
        "<link href='http://fonts.googleapis.com/css?family=Alegreya+Sans:100,300,400,500,700,800,900,100italic,300italic,400italic,500italic,700italic,800italic,900italic' rel='stylesheet' type='text/css'>\n",
        "<link href='http://fonts.googleapis.com/css?family=Source+Code+Pro:300,400' rel='stylesheet' type='text/css'>\n",
        "<style>\n",
        "    @font-face {\n",
        "        font-family: \"Computer Modern\";\n",
        "        src: url('http://mirrors.ctan.org/fonts/cm-unicode/fonts/otf/cmunss.otf');\n",
        "    }\n",
        "    .code_cell {\n",
        "        width: 105ex !important ;\n",
        "        margin-bottom: 15px !important;\n",
        "    }\n",
        "    div.cell {\n",
        "        margin-left: auto;\n",
        "        margin-right: auto;\n",
        "        width: 70%;\n",
        "    }    \n",
        "    div.cell.selected {\n",
        "        border: thin rgba(171, 171, 171, 0.5) dashed;\n",
        "    }\n",
        "    h1 {\n",
        "        font-family: 'Alegreya Sans', sans-serif;\n",
        "    }\n",
        "    h2 {\n",
        "        font-family: 'EB Garamond', serif;\n",
        "    }\n",
        "    h3 {\n",
        "        font-family: 'EB Garamond', serif;\n",
        "        margin-top:12px;\n",
        "        margin-bottom: 3px;\n",
        "    }\n",
        "    h4 {\n",
        "        font-family: 'EB Garamond', serif;\n",
        "    }\n",
        "    h5 {\n",
        "        font-family: 'Alegreya Sans', sans-serif;\n",
        "    }\n",
        "    div.text_cell_render {\n",
        "        font-family: 'EB Garamond',Computer Modern, \"Helvetica Neue\", Arial, Helvetica, Geneva, sans-serif;\n",
        "        line-height: 145%;\n",
        "        font-size: 140%;\n",
        "    }\n",
        "    div.input_area {\n",
        "        border-color: rgba(0,0,0,0.10) !important;\n",
        "        background: #fafafa;\n",
        "    }\n",
        "    .CodeMirror {\n",
        "            font-family: \"Source Code Pro\";\n",
        "            font-size: 90%;\n",
        "    }\n",
        "    .prompt {\n",
        "        display: None;\n",
        "    }\n",
        "    .output {\n",
        "        padding-left: 50px;\n",
        "        padding-top: 5px;\n",
        "    }\n",
        "    .output_wrapper {\n",
        "        padding-left: 5px;\n",
        "        padding-top: inherit;\n",
        "    }\n",
        "    div.output_scroll {\n",
        "        width: inherit;\n",
        "    }\n",
        "    .inner_cell {\n",
        "        padding-left: 5px;\n",
        "    }\n",
        "    .text_cell_render h1 {\n",
        "        font-weight: 200;\n",
        "        font-size: 50pt;\n",
        "        line-height: 100%;\n",
        "        color:#CD2305;\n",
        "        margin-bottom: 0.5em;\n",
        "        margin-top: 0.5em;\n",
        "        display: block;\n",
        "    }\n",
        "    .text_cell_render h5 {\n",
        "        font-weight: 300;\n",
        "        font-size: 16pt;\n",
        "        color: #CD2305;\n",
        "        font-style: italic;\n",
        "        margin-bottom: .5em;\n",
        "        margin-top: 0.5em;\n",
        "        display: block;\n",
        "    }\n",
        "    .warning {\n",
        "        color: rgb( 240, 20, 20 )\n",
        "        }  \n",
        "</style>\n",
        "<script>\n",
        "    MathJax.Hub.Config({\n",
        "                        TeX: {\n",
        "                           extensions: [\"AMSmath.js\"]\n",
        "                           },\n",
        "                tex2jax: {\n",
        "                    inlineMath: [ ['$','$'], [\"\\\\(\",\"\\\\)\"] ],\n",
        "                    displayMath: [ ['$$','$$'], [\"\\\\[\",\"\\\\]\"] ]\n",
        "                },\n",
        "                displayAlign: 'center', // Change this to 'center' to center equations.\n",
        "                \"HTML-CSS\": {\n",
        "                    styles: {'.MathJax_Display': {\"margin\": 4}}\n",
        "                }\n",
        "        });\n",
        "</script>"
       ],
       "metadata": {},
       "output_type": "pyout",
       "prompt_number": 1,
       "text": [
        "<IPython.core.display.HTML at 0x1044c3510>"
       ]
      }
     ],
     "prompt_number": 1
    },
    {
     "cell_type": "code",
     "collapsed": false,
     "input": [],
     "language": "python",
     "metadata": {},
     "outputs": []
    }
   ],
   "metadata": {}
  }
 ]
}