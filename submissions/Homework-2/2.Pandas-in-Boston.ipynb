{
 "metadata": {
  "name": "",
  "signature": "sha256:a3ce99a561017262dcbae0c30631e2a31d72ab401feb12e5ddc2324709582c97"
 },
 "nbformat": 3,
 "nbformat_minor": 0,
 "worksheets": [
  {
   "cells": [
    {
     "cell_type": "markdown",
     "metadata": {},
     "source": [
      "(In order to load the stylesheet of this notebook, execute the last code cell in this notebook)"
     ]
    },
    {
     "cell_type": "heading",
     "level": 1,
     "metadata": {},
     "source": [
      "Analyze the data from the Mayor's 24-hour hotline in Boston using Pandas"
     ]
    },
    {
     "cell_type": "heading",
     "level": 2,
     "metadata": {},
     "source": [
      "Introduction "
     ]
    },
    {
     "cell_type": "markdown",
     "metadata": {},
     "source": [
      "In this assignment, we will practice some basic skills on working with data. We will see how to read, access, clean, filter and plot a dataset.\n",
      "\n",
      "---------------------------"
     ]
    },
    {
     "cell_type": "heading",
     "level": 2,
     "metadata": {},
     "source": [
      "Step 1. Downaloading the data"
     ]
    },
    {
     "cell_type": "markdown",
     "metadata": {},
     "source": [
      "The data that we will be using are freely available online, by the [City of Boston](https://data.cityofboston.gov/). A brief description of the 311 service can be found [here](http://www.cityofboston.gov/mayor/24/). You can download the whole dataset, which extends from 2011 until now (updated every day) from [here](https://data.cityofboston.gov/City-Services/Mayor-s-24-Hour-Hotline-Service-Requests/awu8-dc52?). However, it contains over 555,000 records and, as a result, it's more than 245 MB in size. In the homework repository, you can find a small part of it that covers the months of January-February 2015, under the filename `cases_2015.csv`."
     ]
    },
    {
     "cell_type": "markdown",
     "metadata": {},
     "source": [
      "During these two months, Boston experienced one of the highest levels of snowfalls. We will take this opportunity and see how this situation affected the 311 center. We will also be using data from [NOAA National Climatic Data Center](http://www.ncdc.noaa.gov/cdo-web/) regarding the levels of snowfall for the dates that we are interested in. This dataset is also available in our repository for your convenience under the file `snow.csv`. You can read its documentation [here](http://www.ncdc.noaa.gov/cdo-web/datasets)."
     ]
    },
    {
     "cell_type": "markdown",
     "metadata": {},
     "source": [
      "-----------------"
     ]
    },
    {
     "cell_type": "heading",
     "level": 2,
     "metadata": {},
     "source": [
      "Step 2. Reading the data"
     ]
    },
    {
     "cell_type": "markdown",
     "metadata": {},
     "source": [
      "The first thing we want to do is load the data as Pandas *DataFrames*."
     ]
    },
    {
     "cell_type": "code",
     "collapsed": false,
     "input": [
      "%matplotlib inline\n",
      "import pandas as pd\n",
      "import seaborn as sns\n",
      "from datetime import datetime\n",
      "from matplotlib import pyplot as plt"
     ],
     "language": "python",
     "metadata": {},
     "outputs": [],
     "prompt_number": 4
    },
    {
     "cell_type": "code",
     "collapsed": false,
     "input": [
      "boston = pd.read_csv('cases_2015.csv')"
     ],
     "language": "python",
     "metadata": {},
     "outputs": [],
     "prompt_number": 5
    },
    {
     "cell_type": "markdown",
     "metadata": {},
     "source": [
      "We need to take a brief look at the data, so that we get an intuition about what we are dealing with. Your first task is to do just that: print some part of the dataset **(5 pts)**"
     ]
    },
    {
     "cell_type": "code",
     "collapsed": false,
     "input": [
      "# Print part of the dataset here\n",
      "print boston.head()"
     ],
     "language": "python",
     "metadata": {},
     "outputs": [
      {
       "output_type": "stream",
       "stream": "stdout",
       "text": [
        "   CASE_ENQUIRY_ID              OPEN_DT            TARGET_DT  \\\n",
        "0     101001240734  2015-01-01 00:20:09                  NaN   \n",
        "1     101001240735  2015-01-01 00:25:23  2015-01-16 08:30:00   \n",
        "2     101001240736  2015-01-01 00:25:36  2015-01-16 08:30:00   \n",
        "3     101001240740  2015-01-01 01:45:37                  NaN   \n",
        "4     101001240742  2015-01-01 02:24:59                  NaN   \n",
        "\n",
        "             CLOSED_DT OnTime_Status CASE_STATUS  \\\n",
        "0  2015-01-02 09:08:42        ONTIME      Closed   \n",
        "1  2015-01-02 16:17:43        ONTIME      Closed   \n",
        "2                  NaN       OVERDUE        Open   \n",
        "3                  NaN        ONTIME        Open   \n",
        "4  2015-01-02 09:09:00        ONTIME      Closed   \n",
        "\n",
        "                                      CLOSURE_REASON    CASE_TITLE  \\\n",
        "0                             Case Closed Case Noted         Other   \n",
        "1  Case Closed Duplicate of Existing Case duplica...       PRINTED   \n",
        "2                                                NaN       PRINTED   \n",
        "3                                                NaN  Animal Found   \n",
        "4                             Case Closed Case Noted          Fire   \n",
        "\n",
        "                   SUBJECT         REASON      ...       precinct land_usage  \\\n",
        "0  Mayor's 24 Hour Hotline   Notification      ...            503          E   \n",
        "1  Public Works Department  Street Lights      ...            502          C   \n",
        "2  Public Works Department  Street Lights      ...            502          C   \n",
        "3           Animal Control  Animal Issues      ...           2010         R4   \n",
        "4  Mayor's 24 Hour Hotline   Notification      ...            708         R2   \n",
        "\n",
        "  LOCATION_STREET_NAME LOCATION_ZIPCODE Property_Type Property_ID  LATITUDE  \\\n",
        "0         33 Beacon St             2108       Address       11072   42.3574   \n",
        "1   145-151 Ipswich St             2215       Address      157262   42.3474   \n",
        "2   145-151 Ipswich St             2215       Address      157262   42.3474   \n",
        "3   4833 Washington St             2132       Address      331760   42.2711   \n",
        "4       10 Washburn St             2125       Address      143386   42.3254   \n",
        "\n",
        "  LONGITUDE                Source    Geocoded_Location  \n",
        "0  -71.0648      Constituent Call  (42.3574, -71.0648)  \n",
        "1  -71.0944  Citizens Connect App  (42.3474, -71.0944)  \n",
        "2  -71.0944  Citizens Connect App  (42.3474, -71.0944)  \n",
        "3  -71.1464      Constituent Call  (42.2711, -71.1464)  \n",
        "4  -71.0574      Constituent Call  (42.3254, -71.0574)  \n",
        "\n",
        "[5 rows x 33 columns]\n"
       ]
      }
     ],
     "prompt_number": 6
    },
    {
     "cell_type": "markdown",
     "metadata": {},
     "source": [
      "Another useful thing is to get a short summary of the columns and their data types. Make a call to the required function for this **(5 pts)**"
     ]
    },
    {
     "cell_type": "code",
     "collapsed": false,
     "input": [
      "# Print information about the columns of the dataset\n",
      "print boston.info()"
     ],
     "language": "python",
     "metadata": {},
     "outputs": [
      {
       "output_type": "stream",
       "stream": "stdout",
       "text": [
        "<class 'pandas.core.frame.DataFrame'>\n",
        "Int64Index: 46698 entries, 0 to 46697\n",
        "Data columns (total 33 columns):\n",
        "CASE_ENQUIRY_ID                   46698 non-null int64\n",
        "OPEN_DT                           46698 non-null object\n",
        "TARGET_DT                         41129 non-null object\n",
        "CLOSED_DT                         35141 non-null object\n",
        "OnTime_Status                     46694 non-null object\n",
        "CASE_STATUS                       46698 non-null object\n",
        "CLOSURE_REASON                    35175 non-null object\n",
        "CASE_TITLE                        46679 non-null object\n",
        "SUBJECT                           46698 non-null object\n",
        "REASON                            46698 non-null object\n",
        "TYPE                              46698 non-null object\n",
        "QUEUE                             46698 non-null object\n",
        "Department                        46698 non-null object\n",
        "SubmittedPhoto                    7245 non-null object\n",
        "ClosedPhoto                       1217 non-null object\n",
        "Location                          44442 non-null object\n",
        "fire_district                     44229 non-null float64\n",
        "pwd_district                      44338 non-null object\n",
        "city_council_district             44431 non-null float64\n",
        "police_district                   44358 non-null object\n",
        "neighborhood                      44402 non-null object\n",
        "neighborhood_services_district    44431 non-null float64\n",
        "ward                              44438 non-null object\n",
        "precinct                          44297 non-null float64\n",
        "land_usage                        33332 non-null object\n",
        "LOCATION_STREET_NAME              44442 non-null object\n",
        "LOCATION_ZIPCODE                  35291 non-null float64\n",
        "Property_Type                     44442 non-null object\n",
        "Property_ID                       44442 non-null float64\n",
        "LATITUDE                          46698 non-null float64\n",
        "LONGITUDE                         46698 non-null float64\n",
        "Source                            46698 non-null object\n",
        "Geocoded_Location                 46698 non-null object\n",
        "dtypes: float64(8), int64(1), object(24)None\n"
       ]
      }
     ],
     "prompt_number": 7
    },
    {
     "cell_type": "markdown",
     "metadata": {},
     "source": [
      "As you can see, the `OPEN_DT`, `TARGET_DT`, and `CLOSED_DT` columns, all of which should be dates, have been misclassified as `object` instead of datetime. Re-write the code that reads from a csv, in order to parse the above columns as datetimes. **(5 pts)**"
     ]
    },
    {
     "cell_type": "code",
     "collapsed": false,
     "input": [
      "# Read the date columns as datetime objects\n",
      "boston = pd.read_csv('cases_2015.csv', parse_dates=['OPEN_DT','TARGET_DT','CLOSED_DT'])"
     ],
     "language": "python",
     "metadata": {},
     "outputs": [],
     "prompt_number": 8
    },
    {
     "cell_type": "markdown",
     "metadata": {},
     "source": [
      "Make sure that the column data types are exactly as expected:"
     ]
    },
    {
     "cell_type": "code",
     "collapsed": false,
     "input": [
      "# Print the data types of the columns again\n",
      "print boston.info()"
     ],
     "language": "python",
     "metadata": {},
     "outputs": [
      {
       "output_type": "stream",
       "stream": "stdout",
       "text": [
        "<class 'pandas.core.frame.DataFrame'>\n",
        "Int64Index: 46698 entries, 0 to 46697\n",
        "Data columns (total 33 columns):\n",
        "CASE_ENQUIRY_ID                   46698 non-null int64\n",
        "OPEN_DT                           46698 non-null datetime64[ns]\n",
        "TARGET_DT                         41129 non-null datetime64[ns]\n",
        "CLOSED_DT                         35141 non-null datetime64[ns]\n",
        "OnTime_Status                     46694 non-null object\n",
        "CASE_STATUS                       46698 non-null object\n",
        "CLOSURE_REASON                    35175 non-null object\n",
        "CASE_TITLE                        46679 non-null object\n",
        "SUBJECT                           46698 non-null object\n",
        "REASON                            46698 non-null object\n",
        "TYPE                              46698 non-null object\n",
        "QUEUE                             46698 non-null object\n",
        "Department                        46698 non-null object\n",
        "SubmittedPhoto                    7245 non-null object\n",
        "ClosedPhoto                       1217 non-null object\n",
        "Location                          44442 non-null object\n",
        "fire_district                     44229 non-null float64\n",
        "pwd_district                      44338 non-null object\n",
        "city_council_district             44431 non-null float64\n",
        "police_district                   44358 non-null object\n",
        "neighborhood                      44402 non-null object\n",
        "neighborhood_services_district    44431 non-null float64\n",
        "ward                              44438 non-null object\n",
        "precinct                          44297 non-null float64\n",
        "land_usage                        33332 non-null object\n",
        "LOCATION_STREET_NAME              44442 non-null object\n",
        "LOCATION_ZIPCODE                  35291 non-null float64\n",
        "Property_Type                     44442 non-null object\n",
        "Property_ID                       44442 non-null float64\n",
        "LATITUDE                          46698 non-null float64\n",
        "LONGITUDE                         46698 non-null float64\n",
        "Source                            46698 non-null object\n",
        "Geocoded_Location                 46698 non-null object\n",
        "dtypes: datetime64[ns](3), float64(8), int64(1), object(21)None\n"
       ]
      }
     ],
     "prompt_number": 9
    },
    {
     "cell_type": "heading",
     "level": 2,
     "metadata": {},
     "source": [
      "Step 3. Filtering and plotting the data"
     ]
    },
    {
     "cell_type": "markdown",
     "metadata": {},
     "source": [
      "Now that we read the data and took a quick look, we can start playing around with it. As you have already noticed, there is very little documentation on the dataset itself. In such occasions, we need to look at the dataset very extensively, to get a good feel of its structure. This part, together with what we will do next, is a significant part of the *data cleaning* process."
     ]
    },
    {
     "cell_type": "markdown",
     "metadata": {},
     "source": [
      "To practice our filtering skills, let's try to isolate the cases that were opened in February **(5 pts)**"
     ]
    },
    {
     "cell_type": "code",
     "collapsed": false,
     "input": [
      "# Write code that filters the dataframe and keeps only the cases that were opened in February"
     ],
     "language": "python",
     "metadata": {},
     "outputs": []
    },
    {
     "cell_type": "markdown",
     "metadata": {},
     "source": [
      "Can you do the same thing, but only for the cases that are still remaining open? **(5 pts)**"
     ]
    },
    {
     "cell_type": "code",
     "collapsed": false,
     "input": [
      "# Write a code that also filters for open cases"
     ],
     "language": "python",
     "metadata": {},
     "outputs": []
    },
    {
     "cell_type": "markdown",
     "metadata": {},
     "source": [
      "Great! Now, let's check all the different values of the column `CASE_TITLE` together with their counts **(5 pts)**"
     ]
    },
    {
     "cell_type": "code",
     "collapsed": false,
     "input": [
      "# Write code that prints the different values of the column 'CASE_TITLE'\n",
      "# and the count for the occurencies of each value in the boston dataframe"
     ],
     "language": "python",
     "metadata": {},
     "outputs": []
    },
    {
     "cell_type": "markdown",
     "metadata": {},
     "source": [
      "During this process, you may encounter many strange things, that look like outliers. For example, you may notice that there are many values for `CASE_TITLE` which only occur once. One such example is the category\n",
      "```\n",
      "\"missing pb cover/printed for jim\"\n",
      "```\n",
      "I really wonder what this means! Try retrieving and printing the whole row **(5 pts)**"
     ]
    },
    {
     "cell_type": "code",
     "collapsed": false,
     "input": [
      "# Print the row tht has CASE_TITLE \"missing pb cover/printed for jim\""
     ],
     "language": "python",
     "metadata": {},
     "outputs": []
    },
    {
     "cell_type": "markdown",
     "metadata": {},
     "source": [
      "There's another category which seems interesting, `Heat - Excessive Insufficient`. Write code that prints the first 10 rows of the dataset that have `CASE_TITLE` which starts with \"Heat\" and see if you can understand what this stands for **(15 pts)**"
     ]
    },
    {
     "cell_type": "code",
     "collapsed": false,
     "input": [],
     "language": "python",
     "metadata": {},
     "outputs": []
    },
    {
     "cell_type": "markdown",
     "metadata": {},
     "source": [
      "Now, let's plot (preferably with horizontal bars) the counts for all the `CASE_TITLE`s that occur more than 250 times in the dataset. **(5 pts)**"
     ]
    },
    {
     "cell_type": "code",
     "collapsed": false,
     "input": [
      "# Plots the high-occuring categories for cases as a horizontal histogram."
     ],
     "language": "python",
     "metadata": {},
     "outputs": []
    },
    {
     "cell_type": "markdown",
     "metadata": {},
     "source": [
      "As you can see, the most common categories are related to snow. Let us see which neighborhoods were mostly affected by snow problems. This information is saved under the `neighborhood` column. Make a plot (similar to the one above, like a horizontal histogram) that for each neighborhood shows the number of snow-related calls made from there. **(5 pts)**"
     ]
    },
    {
     "cell_type": "code",
     "collapsed": false,
     "input": [],
     "language": "python",
     "metadata": {},
     "outputs": []
    },
    {
     "cell_type": "heading",
     "level": 2,
     "metadata": {},
     "source": [
      "Step 3. Advanced filtering & joins"
     ]
    },
    {
     "cell_type": "markdown",
     "metadata": {},
     "source": [
      "By now, you should have noticed that, for each day, there are multiple records in our dataframe. Use the `groupby` function to get, for each day, the counts for all the case categories. Plot the result for the top 5 categories as you see fit. **(20 pts)**"
     ]
    },
    {
     "cell_type": "code",
     "collapsed": false,
     "input": [
      "# Write your code here"
     ],
     "language": "python",
     "metadata": {},
     "outputs": []
    },
    {
     "cell_type": "markdown",
     "metadata": {},
     "source": [
      "Let's see how this trend compares to the snowfall. First, we need to read the data from `snow.csv`"
     ]
    },
    {
     "cell_type": "code",
     "collapsed": false,
     "input": [
      "# Read the dataframe\n",
      "snow_data = pd.read_csv(\"snow.csv\",parse_dates=[1])"
     ],
     "language": "python",
     "metadata": {},
     "outputs": []
    },
    {
     "cell_type": "markdown",
     "metadata": {},
     "source": [
      "According to the documentation, the column `SNOW` has the values for the snowfall, in mm. However, the dataset we have has information from many different stations around Boston. Aggregate all their measurements and transform the result to centimeters. Finally, plot the result **(10 pts)**"
     ]
    },
    {
     "cell_type": "code",
     "collapsed": false,
     "input": [
      "# Write your code here"
     ],
     "language": "python",
     "metadata": {},
     "outputs": []
    },
    {
     "cell_type": "heading",
     "level": 2,
     "metadata": {},
     "source": [
      "Step 4. Matching trends"
     ]
    },
    {
     "cell_type": "markdown",
     "metadata": {},
     "source": [
      "The last thing we will do is to join the snowfall dataframe with that of the top 5 categories of calls, per day. Don't forget to fill the NaN values with 0. You want to do an outer join (if there are calls for a day but no snowfall data, we want to create a 0 record). Save that to a dataframe called `calls_on_snow`. The first 5 columns should be the counts for the categories, and the 6th will be the snowfall data. **(10 pts)**"
     ]
    },
    {
     "cell_type": "code",
     "collapsed": false,
     "input": [],
     "language": "python",
     "metadata": {},
     "outputs": []
    },
    {
     "cell_type": "markdown",
     "metadata": {},
     "source": [
      "Now, you can show the connection of the two trends (the calls and the snow) in a plot. I provide some sample code, but you should also try your own versions."
     ]
    },
    {
     "cell_type": "code",
     "collapsed": false,
     "input": [
      "fig, axes = plt.subplots(nrows=2,figsize=(12,5), sharex=True)\n",
      "\n",
      "calls_on_snow.ix[:,0:5].plot(ax=axes[0])\n",
      "calls_on_snow.ix[:,5].plot(ax=axes[1],label=\"snowfall (in cm)\", color='gray')\n",
      "\n",
      "axes[0].set_title(\"The effect of the winter snowstorms on Boston's 311 Hotline for 2015\")\n",
      "axes[0].set_ylabel(\"# Calls\")\n",
      "axes[1].set_ylabel(\"Snowfall in cm\")\n",
      "axes[1].set_xlabel(\"Date\")\n",
      "axes[0].xaxis.grid(False)\n",
      "axes[1].xaxis.grid(False)"
     ],
     "language": "python",
     "metadata": {},
     "outputs": []
    },
    {
     "cell_type": "markdown",
     "metadata": {},
     "source": [
      "The result should look something like this:\n",
      "\n",
      "\n",
      "![The calls to 311 are peaking after each snowstorm](final_plot.png)"
     ]
    },
    {
     "cell_type": "code",
     "collapsed": false,
     "input": [
      "# Code for setting the style of the notebook\n",
      "from IPython.core.display import HTML\n",
      "def css_styling():\n",
      "    styles = open(\"../../theme/custom.css\", \"r\").read()\n",
      "    return HTML(styles)\n",
      "css_styling()"
     ],
     "language": "python",
     "metadata": {},
     "outputs": [
      {
       "html": [
        "<link href='http://fonts.googleapis.com/css?family=EB+Garamond' rel='stylesheet' type='text/css'>\n",
        "<link href='http://fonts.googleapis.com/css?family=Alegreya+Sans:100,300,400,500,700,800,900,100italic,300italic,400italic,500italic,700italic,800italic,900italic' rel='stylesheet' type='text/css'>\n",
        "<link href='http://fonts.googleapis.com/css?family=Source+Code+Pro:300,400' rel='stylesheet' type='text/css'>\n",
        "<style>\n",
        "    @font-face {\n",
        "        font-family: \"Computer Modern\";\n",
        "        src: url('http://mirrors.ctan.org/fonts/cm-unicode/fonts/otf/cmunss.otf');\n",
        "    }\n",
        "    .code_cell {\n",
        "        width: 105ex !important ;\n",
        "        margin-bottom: 15px !important;\n",
        "    }\n",
        "    div.cell {\n",
        "        margin-left: auto;\n",
        "        margin-right: auto;\n",
        "        width: 70%;\n",
        "    }    \n",
        "    div.cell.selected {\n",
        "        border: thin rgba(171, 171, 171, 0.5) dashed;\n",
        "    }\n",
        "    h1 {\n",
        "        font-family: 'Alegreya Sans', sans-serif;\n",
        "    }\n",
        "    h2 {\n",
        "        font-family: 'EB Garamond', serif;\n",
        "    }\n",
        "    h3 {\n",
        "        font-family: 'EB Garamond', serif;\n",
        "        margin-top:12px;\n",
        "        margin-bottom: 3px;\n",
        "    }\n",
        "    h4 {\n",
        "        font-family: 'EB Garamond', serif;\n",
        "    }\n",
        "    h5 {\n",
        "        font-family: 'Alegreya Sans', sans-serif;\n",
        "    }\n",
        "    div.text_cell_render {\n",
        "        font-family: 'EB Garamond',Computer Modern, \"Helvetica Neue\", Arial, Helvetica, Geneva, sans-serif;\n",
        "        line-height: 145%;\n",
        "        font-size: 140%;\n",
        "    }\n",
        "    div.input_area {\n",
        "        border-color: rgba(0,0,0,0.10) !important;\n",
        "        background: #fafafa;\n",
        "    }\n",
        "    .CodeMirror {\n",
        "            font-family: \"Source Code Pro\";\n",
        "            font-size: 90%;\n",
        "    }\n",
        "    .prompt {\n",
        "        display: None;\n",
        "    }\n",
        "    .output {\n",
        "        padding-left: 50px;\n",
        "        padding-top: 5px;\n",
        "    }\n",
        "    .output_wrapper {\n",
        "        padding-left: 5px;\n",
        "        padding-top: inherit;\n",
        "    }\n",
        "    div.output_scroll {\n",
        "        width: inherit;\n",
        "    }\n",
        "    .inner_cell {\n",
        "        padding-left: 5px;\n",
        "    }\n",
        "    .text_cell_render h1 {\n",
        "        font-weight: 200;\n",
        "        font-size: 50pt;\n",
        "        line-height: 100%;\n",
        "        color:#CD2305;\n",
        "        margin-bottom: 0.5em;\n",
        "        margin-top: 0.5em;\n",
        "        display: block;\n",
        "    }\n",
        "    .text_cell_render h5 {\n",
        "        font-weight: 300;\n",
        "        font-size: 16pt;\n",
        "        color: #CD2305;\n",
        "        font-style: italic;\n",
        "        margin-bottom: .5em;\n",
        "        margin-top: 0.5em;\n",
        "        display: block;\n",
        "    }\n",
        "    .warning {\n",
        "        color: rgb( 240, 20, 20 )\n",
        "        }  \n",
        "</style>\n",
        "<script>\n",
        "    MathJax.Hub.Config({\n",
        "                        TeX: {\n",
        "                           extensions: [\"AMSmath.js\"]\n",
        "                           },\n",
        "                tex2jax: {\n",
        "                    inlineMath: [ ['$','$'], [\"\\\\(\",\"\\\\)\"] ],\n",
        "                    displayMath: [ ['$$','$$'], [\"\\\\[\",\"\\\\]\"] ]\n",
        "                },\n",
        "                displayAlign: 'center', // Change this to 'center' to center equations.\n",
        "                \"HTML-CSS\": {\n",
        "                    styles: {'.MathJax_Display': {\"margin\": 4}}\n",
        "                }\n",
        "        });\n",
        "</script>"
       ],
       "metadata": {},
       "output_type": "pyout",
       "prompt_number": 1,
       "text": [
        "<IPython.core.display.HTML at 0x3927390>"
       ]
      }
     ],
     "prompt_number": 1
    }
   ],
   "metadata": {}
  }
 ]
}